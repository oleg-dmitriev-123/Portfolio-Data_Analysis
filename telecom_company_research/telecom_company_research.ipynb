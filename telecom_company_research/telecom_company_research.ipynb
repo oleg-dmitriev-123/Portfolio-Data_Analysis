{
 "cells": [
  {
   "cell_type": "markdown",
   "id": "232d9017",
   "metadata": {},
   "source": [
    "# Определение перспективного тарифа для телеком-компании"
   ]
  },
  {
   "cell_type": "markdown",
   "id": "ded0b0d9",
   "metadata": {
    "toc": true
   },
   "source": [
    "<h1>Содержание<span class=\"tocSkip\"></span></h1>\n",
    "<div class=\"toc\"><ul class=\"toc-item\"><li><span><a href=\"#Описание-проекта\" data-toc-modified-id=\"Описание-проекта-1\"><span class=\"toc-item-num\">1&nbsp;&nbsp;</span>Описание проекта</a></span><ul class=\"toc-item\"><li><span><a href=\"#Задание\" data-toc-modified-id=\"Задание-1.1\"><span class=\"toc-item-num\">1.1&nbsp;&nbsp;</span>Задание</a></span></li><li><span><a href=\"#Описание-тарифов\" data-toc-modified-id=\"Описание-тарифов-1.2\"><span class=\"toc-item-num\">1.2&nbsp;&nbsp;</span>Описание тарифов</a></span></li><li><span><a href=\"#Описание-данных\" data-toc-modified-id=\"Описание-данных-1.3\"><span class=\"toc-item-num\">1.3&nbsp;&nbsp;</span>Описание данных</a></span></li></ul></li><li><span><a href=\"#Изучение-данных\" data-toc-modified-id=\"Изучение-данных-2\"><span class=\"toc-item-num\">2&nbsp;&nbsp;</span>Изучение данных</a></span><ul class=\"toc-item\"><li><span><a href=\"#Общая-информация\" data-toc-modified-id=\"Общая-информация-2.1\"><span class=\"toc-item-num\">2.1&nbsp;&nbsp;</span>Общая информация</a></span></li><li><span><a href=\"#Поиск-явных-дубликатов\" data-toc-modified-id=\"Поиск-явных-дубликатов-2.2\"><span class=\"toc-item-num\">2.2&nbsp;&nbsp;</span>Поиск явных дубликатов</a></span></li><li><span><a href=\"#Поиск-пропусков\" data-toc-modified-id=\"Поиск-пропусков-2.3\"><span class=\"toc-item-num\">2.3&nbsp;&nbsp;</span>Поиск пропусков</a></span></li><li><span><a href=\"#Вывод\" data-toc-modified-id=\"Вывод-2.4\"><span class=\"toc-item-num\">2.4&nbsp;&nbsp;</span>Вывод</a></span></li></ul></li><li><span><a href=\"#Подготовка-данных\" data-toc-modified-id=\"Подготовка-данных-3\"><span class=\"toc-item-num\">3&nbsp;&nbsp;</span>Подготовка данных</a></span><ul class=\"toc-item\"><li><span><a href=\"#Приведение-данных-к-нужным-типам\" data-toc-modified-id=\"Приведение-данных-к-нужным-типам-3.1\"><span class=\"toc-item-num\">3.1&nbsp;&nbsp;</span>Приведение данных к нужным типам</a></span></li><li><span><a href=\"#Поиск-ошибок-в-данных\" data-toc-modified-id=\"Поиск-ошибок-в-данных-3.2\"><span class=\"toc-item-num\">3.2&nbsp;&nbsp;</span>Поиск ошибок в данных</a></span></li><li><span><a href=\"#Дополнительные-расчеты\" data-toc-modified-id=\"Дополнительные-расчеты-3.3\"><span class=\"toc-item-num\">3.3&nbsp;&nbsp;</span>Дополнительные расчеты</a></span></li><li><span><a href=\"#Вывод\" data-toc-modified-id=\"Вывод-3.4\"><span class=\"toc-item-num\">3.4&nbsp;&nbsp;</span>Вывод</a></span></li></ul></li><li><span><a href=\"#Анализ-поведения-клиентов\" data-toc-modified-id=\"Анализ-поведения-клиентов-4\"><span class=\"toc-item-num\">4&nbsp;&nbsp;</span>Анализ поведения клиентов</a></span><ul class=\"toc-item\"><li><span><a href=\"#Анализ\" data-toc-modified-id=\"Анализ-4.1\"><span class=\"toc-item-num\">4.1&nbsp;&nbsp;</span>Анализ</a></span></li><li><span><a href=\"#Вывод\" data-toc-modified-id=\"Вывод-4.2\"><span class=\"toc-item-num\">4.2&nbsp;&nbsp;</span>Вывод</a></span></li></ul></li><li><span><a href=\"#Проверка-гипотез\" data-toc-modified-id=\"Проверка-гипотез-5\"><span class=\"toc-item-num\">5&nbsp;&nbsp;</span>Проверка гипотез</a></span><ul class=\"toc-item\"><li><span><a href=\"#Очистка-данных\" data-toc-modified-id=\"Очистка-данных-5.1\"><span class=\"toc-item-num\">5.1&nbsp;&nbsp;</span>Очистка данных</a></span></li><li><span><a href=\"#Cредняя-выручка-с-пользователей-тарифов-«Ультра»-и-«Смарт»-различаются\" data-toc-modified-id=\"Cредняя-выручка-с-пользователей-тарифов-«Ультра»-и-«Смарт»-различаются-5.2\"><span class=\"toc-item-num\">5.2&nbsp;&nbsp;</span>Cредняя выручка с пользователей тарифов «Ультра» и «Смарт» различаются</a></span></li><li><span><a href=\"#Cредняя-выручка-с-пользователей-из-Москвы-отличается-от-выручки-с-пользователей-из-других-регионов\" data-toc-modified-id=\"Cредняя-выручка-с-пользователей-из-Москвы-отличается-от-выручки-с-пользователей-из-других-регионов-5.3\"><span class=\"toc-item-num\">5.3&nbsp;&nbsp;</span>Cредняя выручка с пользователей из Москвы отличается от выручки с пользователей из других регионов</a></span></li><li><span><a href=\"#Вывод\" data-toc-modified-id=\"Вывод-5.4\"><span class=\"toc-item-num\">5.4&nbsp;&nbsp;</span>Вывод</a></span></li></ul></li><li><span><a href=\"#Общий-вывод\" data-toc-modified-id=\"Общий-вывод-6\"><span class=\"toc-item-num\">6&nbsp;&nbsp;</span>Общий вывод</a></span></li></ul></div>"
   ]
  },
  {
   "cell_type": "markdown",
   "id": "ca86885c",
   "metadata": {},
   "source": [
    "## Описание проекта\n",
    "\n",
    "### Задание\n",
    "Компания «Мегалайн» — федерального оператора сотовой связи. Клиентам предлагают два тарифных плана: «Смарт» и «Ультра». Чтобы скорректировать рекламный бюджет, коммерческий департамент хочет понять, какой тариф приносит больше денег.\n",
    "В распоряжении данные 500 пользователей «Мегалайна»: кто они, откуда, каким тарифом пользуются, сколько звонков и сообщений каждый отправил за 2018 год. Нужно проанализировать поведение клиентов и сделать вывод — какой тариф лучше.\n",
    "\n",
    "### Описание тарифов\n",
    "Тариф «Смарт»\n",
    "\n",
    "    Ежемесячная плата: 550 рублей\n",
    "    Включено 500 минут разговора, 50 сообщений и 15 Гб интернет-трафика\n",
    "    Стоимость услуг сверх тарифного пакета:\n",
    "     - минута разговора: 3 рубля\n",
    "     - сообщение: 3 рубля\n",
    "     - 1 Гб интернет-трафика: 200 рублей\n",
    "    \n",
    "Тариф «Ультра»\n",
    "\n",
    "    Ежемесячная плата: 1950 рублей\n",
    "    Включено 3000 минут разговора, 1000 сообщений и 30 Гб интернет-трафика\n",
    "    Стоимость услуг сверх тарифного пакета:\n",
    "     - минута разговора: 1 рубль\n",
    "     - сообщение: 1 рубль\n",
    "     - 1 Гб интернет-трафика: 150 рублей\n",
    "    \n",
    "Примечание\n",
    "«Мегалайн» всегда округляет секунды до минут, а мегабайты — до гигабайт. Каждый звонок округляется отдельно: даже если он длился всего 1 секунду, будет засчитан как 1 минута.\n",
    "Для веб-трафика отдельные сессии не считаются. Вместо этого общая сумма за месяц округляется в бо́льшую сторону. Если абонент использует 1025 мегабайт в этом месяце, с него возьмут плату за 2 гигабайта. Примите, что неиспользованные за предыдущий месяц звонки, смс, интернет на следующий месяц не переносятся.\n",
    "\n",
    "### Описание данных\n",
    "\n",
    "Таблица users (информация о пользователях):\n",
    "\n",
    "Наименование  |  Описание\n",
    "--|--\n",
    "user_id | уникальный идентификатор пользователя\n",
    "first_name | имя пользователя\n",
    "last_name | фамилия пользователя\n",
    "age | возраст пользователя (годы)\n",
    "reg_date | дата подключения тарифа (день, месяц, год)\n",
    "churn_date | дата прекращения пользования тарифом (если значение пропущено, то тариф ещё действовал на момент выгрузки данных)\n",
    "city | город проживания пользователя\n",
    "tariff | название тарифного плана\n",
    "\n",
    "\n",
    "Таблица calls (информация о звонках):\n",
    "\n",
    "Наименование  |  Описание\n",
    "--|--\n",
    "id | уникальный номер звонка\n",
    "call_date | дата звонка\n",
    "duration | длительность звонка в минутах\n",
    "user_id | идентификатор пользователя, сделавшего звонок\n",
    "\n",
    "\n",
    "Таблица messages (информация о сообщениях):\n",
    "\n",
    "Наименование  |  Описание\n",
    "--|--\n",
    "id | уникальный номер сообщения\n",
    "message_date | дата сообщения\n",
    "user_id | идентификатор пользователя, отправившего сообщение\n",
    "\n",
    "\n",
    "Таблица internet (информация об интернет-сессиях):\n",
    "\n",
    "Наименование  |  Описание\n",
    "--|--\n",
    "id | уникальный номер сессии\n",
    "mb_used | объём потраченного за сессию интернет-трафика (в мегабайтах)\n",
    "session_date | дата интернет-сессии\n",
    "user_id | идентификатор пользователя\n",
    "\n",
    "\n",
    "Таблица tariffs (информация о тарифах):\n",
    "\n",
    "Наименование  |  Описание\n",
    "--|--\n",
    "tariff_name | название тарифа\n",
    "rub_monthly_fee | ежемесячная абонентская плата в рублях\n",
    "minutes_included | количество минут разговора в месяц, включённых в абонентскую плату\n",
    "messages_included | количество сообщений в месяц, включённых в абонентскую плату\n",
    "mb_per_month_included | объём интернет-трафика, включённого в абонентскую плату (в мегабайтах)\n",
    "rub_per_minute | стоимость минуты разговора сверх тарифного пакета (например, если в тарифе 100 минут разговора в месяц, то со 101 минуты будет взиматься плата)\n",
    "rub_per_message | стоимость отправки сообщения сверх тарифного пакета\n",
    "rub_per_gb | стоимость дополнительного гигабайта интернет-трафика сверх тарифного пакета (1 гигабайт = 1024 мегабайта)"
   ]
  },
  {
   "cell_type": "markdown",
   "id": "70afb2a7",
   "metadata": {},
   "source": [
    "##  Изучение данных"
   ]
  },
  {
   "cell_type": "markdown",
   "id": "4c4a6243",
   "metadata": {},
   "source": [
    "### Общая информация"
   ]
  },
  {
   "cell_type": "code",
   "execution_count": 41,
   "id": "3719a128",
   "metadata": {
    "scrolled": true
   },
   "outputs": [
    {
     "name": "stdout",
     "output_type": "stream",
     "text": [
      "[Errno 2] No such file or directory: 'calls.csv'\n"
     ]
    },
    {
     "data": {
      "text/html": [
       "<div>\n",
       "<style scoped>\n",
       "    .dataframe tbody tr th:only-of-type {\n",
       "        vertical-align: middle;\n",
       "    }\n",
       "\n",
       "    .dataframe tbody tr th {\n",
       "        vertical-align: top;\n",
       "    }\n",
       "\n",
       "    .dataframe thead th {\n",
       "        text-align: right;\n",
       "    }\n",
       "</style>\n",
       "<table border=\"1\" class=\"dataframe\">\n",
       "  <thead>\n",
       "    <tr style=\"text-align: right;\">\n",
       "      <th></th>\n",
       "      <th>id</th>\n",
       "      <th>call_date</th>\n",
       "      <th>duration</th>\n",
       "      <th>user_id</th>\n",
       "    </tr>\n",
       "  </thead>\n",
       "  <tbody>\n",
       "    <tr>\n",
       "      <th>0</th>\n",
       "      <td>1000_0</td>\n",
       "      <td>2018-07-25</td>\n",
       "      <td>0.00</td>\n",
       "      <td>1000</td>\n",
       "    </tr>\n",
       "    <tr>\n",
       "      <th>1</th>\n",
       "      <td>1000_1</td>\n",
       "      <td>2018-08-17</td>\n",
       "      <td>0.00</td>\n",
       "      <td>1000</td>\n",
       "    </tr>\n",
       "    <tr>\n",
       "      <th>2</th>\n",
       "      <td>1000_2</td>\n",
       "      <td>2018-06-11</td>\n",
       "      <td>2.85</td>\n",
       "      <td>1000</td>\n",
       "    </tr>\n",
       "    <tr>\n",
       "      <th>3</th>\n",
       "      <td>1000_3</td>\n",
       "      <td>2018-09-21</td>\n",
       "      <td>13.80</td>\n",
       "      <td>1000</td>\n",
       "    </tr>\n",
       "    <tr>\n",
       "      <th>4</th>\n",
       "      <td>1000_4</td>\n",
       "      <td>2018-12-15</td>\n",
       "      <td>5.18</td>\n",
       "      <td>1000</td>\n",
       "    </tr>\n",
       "  </tbody>\n",
       "</table>\n",
       "</div>"
      ],
      "text/plain": [
       "       id   call_date  duration  user_id\n",
       "0  1000_0  2018-07-25      0.00     1000\n",
       "1  1000_1  2018-08-17      0.00     1000\n",
       "2  1000_2  2018-06-11      2.85     1000\n",
       "3  1000_3  2018-09-21     13.80     1000\n",
       "4  1000_4  2018-12-15      5.18     1000"
      ]
     },
     "metadata": {},
     "output_type": "display_data"
    },
    {
     "data": {
      "text/html": [
       "<div>\n",
       "<style scoped>\n",
       "    .dataframe tbody tr th:only-of-type {\n",
       "        vertical-align: middle;\n",
       "    }\n",
       "\n",
       "    .dataframe tbody tr th {\n",
       "        vertical-align: top;\n",
       "    }\n",
       "\n",
       "    .dataframe thead th {\n",
       "        text-align: right;\n",
       "    }\n",
       "</style>\n",
       "<table border=\"1\" class=\"dataframe\">\n",
       "  <thead>\n",
       "    <tr style=\"text-align: right;\">\n",
       "      <th></th>\n",
       "      <th>id</th>\n",
       "      <th>mb_used</th>\n",
       "      <th>session_date</th>\n",
       "      <th>user_id</th>\n",
       "    </tr>\n",
       "  </thead>\n",
       "  <tbody>\n",
       "    <tr>\n",
       "      <th>0</th>\n",
       "      <td>1000_0</td>\n",
       "      <td>112.95</td>\n",
       "      <td>2018-11-25</td>\n",
       "      <td>1000</td>\n",
       "    </tr>\n",
       "    <tr>\n",
       "      <th>1</th>\n",
       "      <td>1000_1</td>\n",
       "      <td>1052.81</td>\n",
       "      <td>2018-09-07</td>\n",
       "      <td>1000</td>\n",
       "    </tr>\n",
       "    <tr>\n",
       "      <th>2</th>\n",
       "      <td>1000_2</td>\n",
       "      <td>1197.26</td>\n",
       "      <td>2018-06-25</td>\n",
       "      <td>1000</td>\n",
       "    </tr>\n",
       "    <tr>\n",
       "      <th>3</th>\n",
       "      <td>1000_3</td>\n",
       "      <td>550.27</td>\n",
       "      <td>2018-08-22</td>\n",
       "      <td>1000</td>\n",
       "    </tr>\n",
       "    <tr>\n",
       "      <th>4</th>\n",
       "      <td>1000_4</td>\n",
       "      <td>302.56</td>\n",
       "      <td>2018-09-24</td>\n",
       "      <td>1000</td>\n",
       "    </tr>\n",
       "  </tbody>\n",
       "</table>\n",
       "</div>"
      ],
      "text/plain": [
       "       id  mb_used session_date  user_id\n",
       "0  1000_0   112.95   2018-11-25     1000\n",
       "1  1000_1  1052.81   2018-09-07     1000\n",
       "2  1000_2  1197.26   2018-06-25     1000\n",
       "3  1000_3   550.27   2018-08-22     1000\n",
       "4  1000_4   302.56   2018-09-24     1000"
      ]
     },
     "metadata": {},
     "output_type": "display_data"
    },
    {
     "data": {
      "text/html": [
       "<div>\n",
       "<style scoped>\n",
       "    .dataframe tbody tr th:only-of-type {\n",
       "        vertical-align: middle;\n",
       "    }\n",
       "\n",
       "    .dataframe tbody tr th {\n",
       "        vertical-align: top;\n",
       "    }\n",
       "\n",
       "    .dataframe thead th {\n",
       "        text-align: right;\n",
       "    }\n",
       "</style>\n",
       "<table border=\"1\" class=\"dataframe\">\n",
       "  <thead>\n",
       "    <tr style=\"text-align: right;\">\n",
       "      <th></th>\n",
       "      <th>id</th>\n",
       "      <th>message_date</th>\n",
       "      <th>user_id</th>\n",
       "    </tr>\n",
       "  </thead>\n",
       "  <tbody>\n",
       "    <tr>\n",
       "      <th>0</th>\n",
       "      <td>1000_0</td>\n",
       "      <td>2018-06-27</td>\n",
       "      <td>1000</td>\n",
       "    </tr>\n",
       "    <tr>\n",
       "      <th>1</th>\n",
       "      <td>1000_1</td>\n",
       "      <td>2018-10-08</td>\n",
       "      <td>1000</td>\n",
       "    </tr>\n",
       "    <tr>\n",
       "      <th>2</th>\n",
       "      <td>1000_2</td>\n",
       "      <td>2018-08-04</td>\n",
       "      <td>1000</td>\n",
       "    </tr>\n",
       "    <tr>\n",
       "      <th>3</th>\n",
       "      <td>1000_3</td>\n",
       "      <td>2018-06-16</td>\n",
       "      <td>1000</td>\n",
       "    </tr>\n",
       "    <tr>\n",
       "      <th>4</th>\n",
       "      <td>1000_4</td>\n",
       "      <td>2018-12-05</td>\n",
       "      <td>1000</td>\n",
       "    </tr>\n",
       "  </tbody>\n",
       "</table>\n",
       "</div>"
      ],
      "text/plain": [
       "       id message_date  user_id\n",
       "0  1000_0   2018-06-27     1000\n",
       "1  1000_1   2018-10-08     1000\n",
       "2  1000_2   2018-08-04     1000\n",
       "3  1000_3   2018-06-16     1000\n",
       "4  1000_4   2018-12-05     1000"
      ]
     },
     "metadata": {},
     "output_type": "display_data"
    },
    {
     "data": {
      "text/html": [
       "<div>\n",
       "<style scoped>\n",
       "    .dataframe tbody tr th:only-of-type {\n",
       "        vertical-align: middle;\n",
       "    }\n",
       "\n",
       "    .dataframe tbody tr th {\n",
       "        vertical-align: top;\n",
       "    }\n",
       "\n",
       "    .dataframe thead th {\n",
       "        text-align: right;\n",
       "    }\n",
       "</style>\n",
       "<table border=\"1\" class=\"dataframe\">\n",
       "  <thead>\n",
       "    <tr style=\"text-align: right;\">\n",
       "      <th></th>\n",
       "      <th>messages_included</th>\n",
       "      <th>mb_per_month_included</th>\n",
       "      <th>minutes_included</th>\n",
       "      <th>rub_monthly_fee</th>\n",
       "      <th>rub_per_gb</th>\n",
       "      <th>rub_per_message</th>\n",
       "      <th>rub_per_minute</th>\n",
       "      <th>tariff_name</th>\n",
       "    </tr>\n",
       "  </thead>\n",
       "  <tbody>\n",
       "    <tr>\n",
       "      <th>0</th>\n",
       "      <td>50</td>\n",
       "      <td>15360</td>\n",
       "      <td>500</td>\n",
       "      <td>550</td>\n",
       "      <td>200</td>\n",
       "      <td>3</td>\n",
       "      <td>3</td>\n",
       "      <td>smart</td>\n",
       "    </tr>\n",
       "    <tr>\n",
       "      <th>1</th>\n",
       "      <td>1000</td>\n",
       "      <td>30720</td>\n",
       "      <td>3000</td>\n",
       "      <td>1950</td>\n",
       "      <td>150</td>\n",
       "      <td>1</td>\n",
       "      <td>1</td>\n",
       "      <td>ultra</td>\n",
       "    </tr>\n",
       "  </tbody>\n",
       "</table>\n",
       "</div>"
      ],
      "text/plain": [
       "   messages_included  mb_per_month_included  minutes_included  \\\n",
       "0                 50                  15360               500   \n",
       "1               1000                  30720              3000   \n",
       "\n",
       "   rub_monthly_fee  rub_per_gb  rub_per_message  rub_per_minute tariff_name  \n",
       "0              550         200                3               3       smart  \n",
       "1             1950         150                1               1       ultra  "
      ]
     },
     "metadata": {},
     "output_type": "display_data"
    },
    {
     "data": {
      "text/html": [
       "<div>\n",
       "<style scoped>\n",
       "    .dataframe tbody tr th:only-of-type {\n",
       "        vertical-align: middle;\n",
       "    }\n",
       "\n",
       "    .dataframe tbody tr th {\n",
       "        vertical-align: top;\n",
       "    }\n",
       "\n",
       "    .dataframe thead th {\n",
       "        text-align: right;\n",
       "    }\n",
       "</style>\n",
       "<table border=\"1\" class=\"dataframe\">\n",
       "  <thead>\n",
       "    <tr style=\"text-align: right;\">\n",
       "      <th></th>\n",
       "      <th>user_id</th>\n",
       "      <th>age</th>\n",
       "      <th>churn_date</th>\n",
       "      <th>city</th>\n",
       "      <th>first_name</th>\n",
       "      <th>last_name</th>\n",
       "      <th>reg_date</th>\n",
       "      <th>tariff</th>\n",
       "    </tr>\n",
       "  </thead>\n",
       "  <tbody>\n",
       "    <tr>\n",
       "      <th>0</th>\n",
       "      <td>1000</td>\n",
       "      <td>52</td>\n",
       "      <td>NaN</td>\n",
       "      <td>Краснодар</td>\n",
       "      <td>Рафаил</td>\n",
       "      <td>Верещагин</td>\n",
       "      <td>2018-05-25</td>\n",
       "      <td>ultra</td>\n",
       "    </tr>\n",
       "    <tr>\n",
       "      <th>1</th>\n",
       "      <td>1001</td>\n",
       "      <td>41</td>\n",
       "      <td>NaN</td>\n",
       "      <td>Москва</td>\n",
       "      <td>Иван</td>\n",
       "      <td>Ежов</td>\n",
       "      <td>2018-11-01</td>\n",
       "      <td>smart</td>\n",
       "    </tr>\n",
       "    <tr>\n",
       "      <th>2</th>\n",
       "      <td>1002</td>\n",
       "      <td>59</td>\n",
       "      <td>NaN</td>\n",
       "      <td>Стерлитамак</td>\n",
       "      <td>Евгений</td>\n",
       "      <td>Абрамович</td>\n",
       "      <td>2018-06-17</td>\n",
       "      <td>smart</td>\n",
       "    </tr>\n",
       "    <tr>\n",
       "      <th>3</th>\n",
       "      <td>1003</td>\n",
       "      <td>23</td>\n",
       "      <td>NaN</td>\n",
       "      <td>Москва</td>\n",
       "      <td>Белла</td>\n",
       "      <td>Белякова</td>\n",
       "      <td>2018-08-17</td>\n",
       "      <td>ultra</td>\n",
       "    </tr>\n",
       "    <tr>\n",
       "      <th>4</th>\n",
       "      <td>1004</td>\n",
       "      <td>68</td>\n",
       "      <td>NaN</td>\n",
       "      <td>Новокузнецк</td>\n",
       "      <td>Татьяна</td>\n",
       "      <td>Авдеенко</td>\n",
       "      <td>2018-05-14</td>\n",
       "      <td>ultra</td>\n",
       "    </tr>\n",
       "  </tbody>\n",
       "</table>\n",
       "</div>"
      ],
      "text/plain": [
       "   user_id  age churn_date         city first_name  last_name    reg_date  \\\n",
       "0     1000   52        NaN    Краснодар     Рафаил  Верещагин  2018-05-25   \n",
       "1     1001   41        NaN       Москва       Иван       Ежов  2018-11-01   \n",
       "2     1002   59        NaN  Стерлитамак    Евгений  Абрамович  2018-06-17   \n",
       "3     1003   23        NaN       Москва      Белла   Белякова  2018-08-17   \n",
       "4     1004   68        NaN  Новокузнецк    Татьяна   Авдеенко  2018-05-14   \n",
       "\n",
       "  tariff  \n",
       "0  ultra  \n",
       "1  smart  \n",
       "2  smart  \n",
       "3  ultra  \n",
       "4  ultra  "
      ]
     },
     "metadata": {},
     "output_type": "display_data"
    }
   ],
   "source": [
    "#настройка окружения\n",
    "import pandas as pd\n",
    "import numpy as np\n",
    "import seaborn as sns\n",
    "import warnings\n",
    "warnings.filterwarnings('ignore')\n",
    "import matplotlib.pyplot as plt\n",
    "\n",
    "try:\n",
    "    df_c = pd.read_csv('calls.csv')\n",
    "    df_i = pd.read_csv('internet.csv',index_col=0)\n",
    "    df_m = pd.read_csv('messages.csv')\n",
    "    df_t = pd.read_csv('tariffs.csv')\n",
    "    df_u = pd.read_csv('users.csv')\n",
    "except FileNotFoundError as e:\n",
    "    print(e)\n",
    "    df_c = pd.read_csv('/datasets/calls.csv')\n",
    "    df_i = pd.read_csv('/datasets/internet.csv',index_col=0)\n",
    "    df_m = pd.read_csv('/datasets/messages.csv')\n",
    "    df_t = pd.read_csv('/datasets/tariffs.csv')\n",
    "    df_u = pd.read_csv('/datasets/users.csv')\n",
    "    \n",
    "pd.set_option('display.max_columns', None)\n",
    "display(df_c.head(),df_i.head(),df_m.head(), df_t.head(), df_u.head())\n"
   ]
  },
  {
   "cell_type": "code",
   "execution_count": 42,
   "id": "730f5819",
   "metadata": {
    "scrolled": true
   },
   "outputs": [
    {
     "name": "stdout",
     "output_type": "stream",
     "text": [
      "<class 'pandas.core.frame.DataFrame'>\n",
      "RangeIndex: 202607 entries, 0 to 202606\n",
      "Data columns (total 4 columns):\n",
      " #   Column     Non-Null Count   Dtype  \n",
      "---  ------     --------------   -----  \n",
      " 0   id         202607 non-null  object \n",
      " 1   call_date  202607 non-null  object \n",
      " 2   duration   202607 non-null  float64\n",
      " 3   user_id    202607 non-null  int64  \n",
      "dtypes: float64(1), int64(1), object(2)\n",
      "memory usage: 6.2+ MB\n"
     ]
    }
   ],
   "source": [
    "df_c.info()"
   ]
  },
  {
   "cell_type": "markdown",
   "id": "6a9024e5",
   "metadata": {},
   "source": [
    "В таблице calls поле call_date стоит привести к формату datetime"
   ]
  },
  {
   "cell_type": "code",
   "execution_count": 43,
   "id": "ea2d6b33",
   "metadata": {
    "scrolled": true
   },
   "outputs": [
    {
     "name": "stdout",
     "output_type": "stream",
     "text": [
      "<class 'pandas.core.frame.DataFrame'>\n",
      "Int64Index: 149396 entries, 0 to 149395\n",
      "Data columns (total 4 columns):\n",
      " #   Column        Non-Null Count   Dtype  \n",
      "---  ------        --------------   -----  \n",
      " 0   id            149396 non-null  object \n",
      " 1   mb_used       149396 non-null  float64\n",
      " 2   session_date  149396 non-null  object \n",
      " 3   user_id       149396 non-null  int64  \n",
      "dtypes: float64(1), int64(1), object(2)\n",
      "memory usage: 5.7+ MB\n"
     ]
    }
   ],
   "source": [
    "df_i.info()"
   ]
  },
  {
   "cell_type": "markdown",
   "id": "01b13514",
   "metadata": {},
   "source": [
    "В таблице internet поле session_date стоит привести к формату datetime"
   ]
  },
  {
   "cell_type": "code",
   "execution_count": 44,
   "id": "8e849395",
   "metadata": {
    "scrolled": true
   },
   "outputs": [
    {
     "name": "stdout",
     "output_type": "stream",
     "text": [
      "<class 'pandas.core.frame.DataFrame'>\n",
      "RangeIndex: 123036 entries, 0 to 123035\n",
      "Data columns (total 3 columns):\n",
      " #   Column        Non-Null Count   Dtype \n",
      "---  ------        --------------   ----- \n",
      " 0   id            123036 non-null  object\n",
      " 1   message_date  123036 non-null  object\n",
      " 2   user_id       123036 non-null  int64 \n",
      "dtypes: int64(1), object(2)\n",
      "memory usage: 2.8+ MB\n"
     ]
    }
   ],
   "source": [
    "df_m.info()"
   ]
  },
  {
   "cell_type": "markdown",
   "id": "cf70fad3",
   "metadata": {},
   "source": [
    "В таблице messages поле message_date стоит привести к формату datetime"
   ]
  },
  {
   "cell_type": "code",
   "execution_count": 45,
   "id": "d10db8d9",
   "metadata": {
    "scrolled": false
   },
   "outputs": [
    {
     "name": "stdout",
     "output_type": "stream",
     "text": [
      "<class 'pandas.core.frame.DataFrame'>\n",
      "RangeIndex: 2 entries, 0 to 1\n",
      "Data columns (total 8 columns):\n",
      " #   Column                 Non-Null Count  Dtype \n",
      "---  ------                 --------------  ----- \n",
      " 0   messages_included      2 non-null      int64 \n",
      " 1   mb_per_month_included  2 non-null      int64 \n",
      " 2   minutes_included       2 non-null      int64 \n",
      " 3   rub_monthly_fee        2 non-null      int64 \n",
      " 4   rub_per_gb             2 non-null      int64 \n",
      " 5   rub_per_message        2 non-null      int64 \n",
      " 6   rub_per_minute         2 non-null      int64 \n",
      " 7   tariff_name            2 non-null      object\n",
      "dtypes: int64(7), object(1)\n",
      "memory usage: 256.0+ bytes\n"
     ]
    }
   ],
   "source": [
    "df_t.info()"
   ]
  },
  {
   "cell_type": "code",
   "execution_count": 46,
   "id": "62d32518",
   "metadata": {
    "scrolled": true
   },
   "outputs": [
    {
     "name": "stdout",
     "output_type": "stream",
     "text": [
      "<class 'pandas.core.frame.DataFrame'>\n",
      "RangeIndex: 500 entries, 0 to 499\n",
      "Data columns (total 8 columns):\n",
      " #   Column      Non-Null Count  Dtype \n",
      "---  ------      --------------  ----- \n",
      " 0   user_id     500 non-null    int64 \n",
      " 1   age         500 non-null    int64 \n",
      " 2   churn_date  38 non-null     object\n",
      " 3   city        500 non-null    object\n",
      " 4   first_name  500 non-null    object\n",
      " 5   last_name   500 non-null    object\n",
      " 6   reg_date    500 non-null    object\n",
      " 7   tariff      500 non-null    object\n",
      "dtypes: int64(2), object(6)\n",
      "memory usage: 31.4+ KB\n"
     ]
    }
   ],
   "source": [
    "df_u.info()"
   ]
  },
  {
   "cell_type": "markdown",
   "id": "b16a701c",
   "metadata": {},
   "source": [
    "В таблице users поле reg_date и churn_date стоит привести к формату datetime"
   ]
  },
  {
   "cell_type": "markdown",
   "id": "601292e5",
   "metadata": {},
   "source": [
    "### Поиск явных дубликатов"
   ]
  },
  {
   "cell_type": "code",
   "execution_count": 47,
   "id": "10dbc1fd",
   "metadata": {
    "scrolled": true
   },
   "outputs": [
    {
     "name": "stdout",
     "output_type": "stream",
     "text": [
      "0\n",
      "0\n",
      "0\n",
      "0\n",
      "0\n"
     ]
    }
   ],
   "source": [
    "print(df_c.duplicated().sum())\n",
    "print(df_i.duplicated().sum())\n",
    "print(df_m.duplicated().sum())\n",
    "print(df_t.duplicated().sum())\n",
    "print(df_u.duplicated().sum())"
   ]
  },
  {
   "cell_type": "markdown",
   "id": "bfb497eb",
   "metadata": {},
   "source": [
    "Явные дубликаты не найдены"
   ]
  },
  {
   "cell_type": "markdown",
   "id": "50dd9dfd",
   "metadata": {},
   "source": [
    "### Поиск пропусков"
   ]
  },
  {
   "cell_type": "code",
   "execution_count": 48,
   "id": "c879ed22",
   "metadata": {
    "scrolled": true
   },
   "outputs": [
    {
     "name": "stdout",
     "output_type": "stream",
     "text": [
      "id           0\n",
      "call_date    0\n",
      "duration     0\n",
      "user_id      0\n",
      "dtype: int64 \n",
      "\n",
      "id              0\n",
      "mb_used         0\n",
      "session_date    0\n",
      "user_id         0\n",
      "dtype: int64 \n",
      "\n",
      "id              0\n",
      "message_date    0\n",
      "user_id         0\n",
      "dtype: int64 \n",
      "\n",
      "messages_included        0\n",
      "mb_per_month_included    0\n",
      "minutes_included         0\n",
      "rub_monthly_fee          0\n",
      "rub_per_gb               0\n",
      "rub_per_message          0\n",
      "rub_per_minute           0\n",
      "tariff_name              0\n",
      "dtype: int64 \n",
      "\n",
      "user_id         0\n",
      "age             0\n",
      "churn_date    462\n",
      "city            0\n",
      "first_name      0\n",
      "last_name       0\n",
      "reg_date        0\n",
      "tariff          0\n",
      "dtype: int64 \n",
      "\n"
     ]
    }
   ],
   "source": [
    "print(df_c.isna().sum(),'\\n')\n",
    "print(df_i.isna().sum(),'\\n')\n",
    "print(df_m.isna().sum(),'\\n')\n",
    "print(df_t.isna().sum(),'\\n')\n",
    "print(df_u.isna().sum(),'\\n')"
   ]
  },
  {
   "cell_type": "markdown",
   "id": "2a957733",
   "metadata": {},
   "source": [
    "Если в churn_date значение пропущено, то тариф ещё действовал на момент выгрузки данных.\n",
    "Пропуски в переменных отсутствуют."
   ]
  },
  {
   "cell_type": "markdown",
   "id": "b5d7a7ef",
   "metadata": {},
   "source": [
    "### Вывод\n",
    "- В некоторых переменных необходимо заменить тип данных\n",
    "- Явные дубликаты не обнаружены \n",
    "- Пропуски не обнаружены"
   ]
  },
  {
   "cell_type": "markdown",
   "id": "2663c7da",
   "metadata": {},
   "source": [
    "## Подготовка данных"
   ]
  },
  {
   "cell_type": "markdown",
   "id": "891db4e5",
   "metadata": {},
   "source": [
    "### Приведение данных к нужным типам"
   ]
  },
  {
   "cell_type": "code",
   "execution_count": 49,
   "id": "f928e82e",
   "metadata": {
    "scrolled": true
   },
   "outputs": [],
   "source": [
    "df_c['call_date'] = pd.to_datetime(\n",
    "    df_c['call_date'], format='%Y-%m-%d')"
   ]
  },
  {
   "cell_type": "code",
   "execution_count": 50,
   "id": "35985e9d",
   "metadata": {
    "scrolled": false
   },
   "outputs": [
    {
     "name": "stdout",
     "output_type": "stream",
     "text": [
      "<class 'pandas.core.frame.DataFrame'>\n",
      "RangeIndex: 202607 entries, 0 to 202606\n",
      "Data columns (total 4 columns):\n",
      " #   Column     Non-Null Count   Dtype         \n",
      "---  ------     --------------   -----         \n",
      " 0   id         202607 non-null  object        \n",
      " 1   call_date  202607 non-null  datetime64[ns]\n",
      " 2   duration   202607 non-null  float64       \n",
      " 3   user_id    202607 non-null  int64         \n",
      "dtypes: datetime64[ns](1), float64(1), int64(1), object(1)\n",
      "memory usage: 6.2+ MB\n"
     ]
    }
   ],
   "source": [
    "#проверка типа\n",
    "df_c.info()"
   ]
  },
  {
   "cell_type": "code",
   "execution_count": 51,
   "id": "3f5cbcf9",
   "metadata": {
    "scrolled": true
   },
   "outputs": [],
   "source": [
    "df_i['session_date'] = pd.to_datetime(\n",
    "    df_i['session_date'], format='%Y-%m-%d')"
   ]
  },
  {
   "cell_type": "code",
   "execution_count": 52,
   "id": "b185cae8",
   "metadata": {
    "scrolled": false
   },
   "outputs": [
    {
     "name": "stdout",
     "output_type": "stream",
     "text": [
      "<class 'pandas.core.frame.DataFrame'>\n",
      "Int64Index: 149396 entries, 0 to 149395\n",
      "Data columns (total 4 columns):\n",
      " #   Column        Non-Null Count   Dtype         \n",
      "---  ------        --------------   -----         \n",
      " 0   id            149396 non-null  object        \n",
      " 1   mb_used       149396 non-null  float64       \n",
      " 2   session_date  149396 non-null  datetime64[ns]\n",
      " 3   user_id       149396 non-null  int64         \n",
      "dtypes: datetime64[ns](1), float64(1), int64(1), object(1)\n",
      "memory usage: 5.7+ MB\n"
     ]
    }
   ],
   "source": [
    "#проверка типа\n",
    "df_i.info()"
   ]
  },
  {
   "cell_type": "code",
   "execution_count": 53,
   "id": "abba09a0",
   "metadata": {
    "scrolled": true
   },
   "outputs": [],
   "source": [
    "df_m['message_date'] = pd.to_datetime(\n",
    "    df_m['message_date'], format='%Y-%m-%d')"
   ]
  },
  {
   "cell_type": "code",
   "execution_count": 54,
   "id": "cf3f3356",
   "metadata": {
    "scrolled": false
   },
   "outputs": [
    {
     "name": "stdout",
     "output_type": "stream",
     "text": [
      "<class 'pandas.core.frame.DataFrame'>\n",
      "RangeIndex: 123036 entries, 0 to 123035\n",
      "Data columns (total 3 columns):\n",
      " #   Column        Non-Null Count   Dtype         \n",
      "---  ------        --------------   -----         \n",
      " 0   id            123036 non-null  object        \n",
      " 1   message_date  123036 non-null  datetime64[ns]\n",
      " 2   user_id       123036 non-null  int64         \n",
      "dtypes: datetime64[ns](1), int64(1), object(1)\n",
      "memory usage: 2.8+ MB\n"
     ]
    }
   ],
   "source": [
    "#проверка типа\n",
    "df_m.info()"
   ]
  },
  {
   "cell_type": "code",
   "execution_count": 55,
   "id": "693f3ac2",
   "metadata": {
    "scrolled": true
   },
   "outputs": [],
   "source": [
    "df_u['reg_date'] = pd.to_datetime(\n",
    "    df_u['reg_date'], format='%Y-%m-%d')\n",
    "df_u['churn_date'] = pd.to_datetime(\n",
    "    df_u['churn_date'], format='%Y-%m-%d')"
   ]
  },
  {
   "cell_type": "code",
   "execution_count": 56,
   "id": "9295bdae",
   "metadata": {
    "scrolled": true
   },
   "outputs": [
    {
     "name": "stdout",
     "output_type": "stream",
     "text": [
      "<class 'pandas.core.frame.DataFrame'>\n",
      "RangeIndex: 500 entries, 0 to 499\n",
      "Data columns (total 8 columns):\n",
      " #   Column      Non-Null Count  Dtype         \n",
      "---  ------      --------------  -----         \n",
      " 0   user_id     500 non-null    int64         \n",
      " 1   age         500 non-null    int64         \n",
      " 2   churn_date  38 non-null     datetime64[ns]\n",
      " 3   city        500 non-null    object        \n",
      " 4   first_name  500 non-null    object        \n",
      " 5   last_name   500 non-null    object        \n",
      " 6   reg_date    500 non-null    datetime64[ns]\n",
      " 7   tariff      500 non-null    object        \n",
      "dtypes: datetime64[ns](2), int64(2), object(4)\n",
      "memory usage: 31.4+ KB\n"
     ]
    }
   ],
   "source": [
    "#проверка типа\n",
    "df_u.info()"
   ]
  },
  {
   "cell_type": "markdown",
   "id": "7cb0c20d",
   "metadata": {},
   "source": [
    "### Поиск ошибок в данных"
   ]
  },
  {
   "cell_type": "markdown",
   "id": "209e9365",
   "metadata": {},
   "source": [
    "**Таблица users**"
   ]
  },
  {
   "cell_type": "code",
   "execution_count": 57,
   "id": "10531b7b",
   "metadata": {
    "scrolled": true
   },
   "outputs": [
    {
     "data": {
      "text/plain": [
       "<AxesSubplot:>"
      ]
     },
     "execution_count": 57,
     "metadata": {},
     "output_type": "execute_result"
    },
    {
     "data": {
      "image/png": "[encoded data removed]",
      "text/plain": [
       "<Figure size 432x288 with 1 Axes>"
      ]
     },
     "metadata": {
      "needs_background": "light"
     },
     "output_type": "display_data"
    }
   ],
   "source": [
    "df_u['age'].hist(bins=20)"
   ]
  },
  {
   "cell_type": "code",
   "execution_count": 58,
   "id": "495b050c",
   "metadata": {
    "scrolled": true
   },
   "outputs": [
    {
     "data": {
      "image/png": "[encoded data removed]",
      "text/plain": [
       "<Figure size 1440x360 with 2 Axes>"
      ]
     },
     "metadata": {
      "needs_background": "light"
     },
     "output_type": "display_data"
    }
   ],
   "source": [
    "fig, (ax1,ax2) = plt.subplots(nrows=1,ncols=2,figsize=(20,5))\n",
    "\n",
    "df_u['reg_date'].hist(bins=30, ax=ax1)\n",
    "df_u['churn_date'].hist(bins=30, ax=ax2)\n",
    "\n",
    "ax1.set_title('Распределение `reg_date`')\n",
    "ax2.set_title('Распределение `churn_date`')\n",
    "plt.xticks(rotation=45)\n",
    "plt.show();"
   ]
  },
  {
   "cell_type": "code",
   "execution_count": 59,
   "id": "349039bb",
   "metadata": {},
   "outputs": [
    {
     "data": {
      "image/png": "[encoded data removed]",
      "text/plain": [
       "<Figure size 1440x360 with 2 Axes>"
      ]
     },
     "metadata": {
      "needs_background": "light"
     },
     "output_type": "display_data"
    }
   ],
   "source": [
    "# Код ревьюера\n",
    "fig, (ax1,ax2) = plt.subplots(nrows=1,ncols=2,figsize=(20,5), gridspec_kw={'width_ratios': [1, 2]})\n",
    "\n",
    "\n",
    "df_u['reg_date'].hist(bins=30, ax=ax1)\n",
    "df_u['churn_date'].hist(bins=30, ax=ax2)\n",
    "\n",
    "# Это нужно для того, чтобы можно было обращаться к `get_xticklabels` и т.п., можно их задавать руками https://stackoverflow.com/questions/41122923/getting-empty-tick-labels-before-showing-a-plot-in-matplotlib\n",
    "fig.canvas.draw()\n",
    "\n",
    "\n",
    "ax1_xlabels = ax1.get_xticklabels()\n",
    "ax1.set_xticklabels(labels=ax1_xlabels, rotation=45)\n",
    "\n",
    "\n",
    "# Возьму каждую вторую дату\n",
    "\n",
    "ax2.set_xticks(ax2.get_xticks()[::2])\n",
    "ax2_xlabels = ax2.get_xticklabels()\n",
    "ax2.set_xticklabels(labels=ax2_xlabels, rotation=45)\n",
    "\n",
    "\n",
    "\n",
    "ax1.set_title('Распределение `reg_date`')\n",
    "ax2.set_title('Распределение `churn_date`')\n",
    "\n",
    "\n",
    "plt.show();"
   ]
  },
  {
   "cell_type": "markdown",
   "id": "47911634",
   "metadata": {},
   "source": [
    "Ошибок в данных users не обнаружено"
   ]
  },
  {
   "cell_type": "markdown",
   "id": "26423016",
   "metadata": {},
   "source": [
    "**Таблица calls** "
   ]
  },
  {
   "cell_type": "code",
   "execution_count": 60,
   "id": "09b233fa",
   "metadata": {
    "scrolled": true
   },
   "outputs": [
    {
     "data": {
      "text/plain": [
       "count    202607.000000\n",
       "mean          6.755887\n",
       "std           5.843365\n",
       "min           0.000000\n",
       "25%           1.300000\n",
       "50%           6.000000\n",
       "75%          10.700000\n",
       "max          38.000000\n",
       "Name: duration, dtype: float64"
      ]
     },
     "execution_count": 60,
     "metadata": {},
     "output_type": "execute_result"
    }
   ],
   "source": [
    "df_c['duration'].describe()"
   ]
  },
  {
   "cell_type": "code",
   "execution_count": 61,
   "id": "af510abe",
   "metadata": {
    "scrolled": true
   },
   "outputs": [
    {
     "data": {
      "image/png": "[encoded data removed]",
      "text/plain": [
       "<Figure size 432x288 with 1 Axes>"
      ]
     },
     "metadata": {
      "needs_background": "light"
     },
     "output_type": "display_data"
    }
   ],
   "source": [
    "fig, axes = plt.subplots()\n",
    "df_c['duration'].hist(bins=50,range=(0,30))\n",
    "axes.set_title('Распределение `duration`');"
   ]
  },
  {
   "cell_type": "markdown",
   "id": "480d674f",
   "metadata": {},
   "source": [
    "Большинство звонков с длительностью 0 мин, но это не ошибка: нулями обозначены пропущенные звонки, поэтому их не нужно удалять."
   ]
  },
  {
   "cell_type": "code",
   "execution_count": 62,
   "id": "3227e2b2",
   "metadata": {
    "scrolled": true
   },
   "outputs": [
    {
     "data": {
      "image/png": "[encoded data removed]",
      "text/plain": [
       "<Figure size 432x288 with 1 Axes>"
      ]
     },
     "metadata": {
      "needs_background": "light"
     },
     "output_type": "display_data"
    }
   ],
   "source": [
    "df_c['call_date'].hist();"
   ]
  },
  {
   "cell_type": "markdown",
   "id": "a9d9d1a4",
   "metadata": {},
   "source": [
    "**Таблица internet**"
   ]
  },
  {
   "cell_type": "code",
   "execution_count": 63,
   "id": "d0519c59",
   "metadata": {
    "scrolled": true
   },
   "outputs": [
    {
     "data": {
      "text/plain": [
       "count    149396.000000\n",
       "mean        370.192426\n",
       "std         278.300951\n",
       "min           0.000000\n",
       "25%         138.187500\n",
       "50%         348.015000\n",
       "75%         559.552500\n",
       "max        1724.830000\n",
       "Name: mb_used, dtype: float64"
      ]
     },
     "execution_count": 63,
     "metadata": {},
     "output_type": "execute_result"
    }
   ],
   "source": [
    "df_i['mb_used'].describe()"
   ]
  },
  {
   "cell_type": "code",
   "execution_count": 64,
   "id": "3a9bbed8",
   "metadata": {
    "scrolled": true
   },
   "outputs": [
    {
     "data": {
      "image/png": "[encoded data removed]",
      "text/plain": [
       "<Figure size 432x288 with 1 Axes>"
      ]
     },
     "metadata": {
      "needs_background": "light"
     },
     "output_type": "display_data"
    }
   ],
   "source": [
    "fig, axes = plt.subplots()\n",
    "df_i['mb_used'].hist(bins=50)\n",
    "axes.set_title('Распределение `mb_used`');"
   ]
  },
  {
   "cell_type": "markdown",
   "id": "d10e295c",
   "metadata": {},
   "source": [
    "Нулевые сессии - это ошибочные сессии. С нулями можно ничего не делать, они все равно схлопнутся, когда буду группировать данные."
   ]
  },
  {
   "cell_type": "markdown",
   "id": "e18fae36",
   "metadata": {},
   "source": [
    "**Вывод:**\n",
    "\n",
    "Данные изучены. Серьезных ошибок не обнаружено."
   ]
  },
  {
   "cell_type": "markdown",
   "id": "99729228",
   "metadata": {},
   "source": [
    "### Дополнительные расчеты"
   ]
  },
  {
   "cell_type": "code",
   "execution_count": 65,
   "id": "f7d04ac1",
   "metadata": {},
   "outputs": [
    {
     "data": {
      "text/plain": [
       "0        2018-07-01\n",
       "1        2018-08-01\n",
       "2        2018-06-01\n",
       "3        2018-09-01\n",
       "4        2018-12-01\n",
       "            ...    \n",
       "202602   2018-12-01\n",
       "202603   2018-10-01\n",
       "202604   2018-11-01\n",
       "202605   2018-10-01\n",
       "202606   2018-12-01\n",
       "Name: call_date, Length: 202607, dtype: datetime64[ns]"
      ]
     },
     "execution_count": 65,
     "metadata": {},
     "output_type": "execute_result"
    }
   ],
   "source": [
    "df_c['call_date'].astype('datetime64[M]')"
   ]
  },
  {
   "cell_type": "code",
   "execution_count": 66,
   "id": "f08b0ccf",
   "metadata": {
    "scrolled": true
   },
   "outputs": [
    {
     "data": {
      "text/html": [
       "<div>\n",
       "<style scoped>\n",
       "    .dataframe tbody tr th:only-of-type {\n",
       "        vertical-align: middle;\n",
       "    }\n",
       "\n",
       "    .dataframe tbody tr th {\n",
       "        vertical-align: top;\n",
       "    }\n",
       "\n",
       "    .dataframe thead th {\n",
       "        text-align: right;\n",
       "    }\n",
       "</style>\n",
       "<table border=\"1\" class=\"dataframe\">\n",
       "  <thead>\n",
       "    <tr style=\"text-align: right;\">\n",
       "      <th></th>\n",
       "      <th>user_id</th>\n",
       "      <th>month</th>\n",
       "      <th>total_calls</th>\n",
       "      <th>duration</th>\n",
       "    </tr>\n",
       "  </thead>\n",
       "  <tbody>\n",
       "    <tr>\n",
       "      <th>0</th>\n",
       "      <td>1000</td>\n",
       "      <td>5</td>\n",
       "      <td>22</td>\n",
       "      <td>159.0</td>\n",
       "    </tr>\n",
       "    <tr>\n",
       "      <th>1</th>\n",
       "      <td>1000</td>\n",
       "      <td>6</td>\n",
       "      <td>43</td>\n",
       "      <td>172.0</td>\n",
       "    </tr>\n",
       "    <tr>\n",
       "      <th>2</th>\n",
       "      <td>1000</td>\n",
       "      <td>7</td>\n",
       "      <td>47</td>\n",
       "      <td>340.0</td>\n",
       "    </tr>\n",
       "    <tr>\n",
       "      <th>3</th>\n",
       "      <td>1000</td>\n",
       "      <td>8</td>\n",
       "      <td>52</td>\n",
       "      <td>408.0</td>\n",
       "    </tr>\n",
       "    <tr>\n",
       "      <th>4</th>\n",
       "      <td>1000</td>\n",
       "      <td>9</td>\n",
       "      <td>58</td>\n",
       "      <td>466.0</td>\n",
       "    </tr>\n",
       "  </tbody>\n",
       "</table>\n",
       "</div>"
      ],
      "text/plain": [
       "   user_id  month  total_calls  duration\n",
       "0     1000      5           22     159.0\n",
       "1     1000      6           43     172.0\n",
       "2     1000      7           47     340.0\n",
       "3     1000      8           52     408.0\n",
       "4     1000      9           58     466.0"
      ]
     },
     "metadata": {},
     "output_type": "display_data"
    },
    {
     "data": {
      "text/html": [
       "<div>\n",
       "<style scoped>\n",
       "    .dataframe tbody tr th:only-of-type {\n",
       "        vertical-align: middle;\n",
       "    }\n",
       "\n",
       "    .dataframe tbody tr th {\n",
       "        vertical-align: top;\n",
       "    }\n",
       "\n",
       "    .dataframe thead th {\n",
       "        text-align: right;\n",
       "    }\n",
       "</style>\n",
       "<table border=\"1\" class=\"dataframe\">\n",
       "  <thead>\n",
       "    <tr style=\"text-align: right;\">\n",
       "      <th></th>\n",
       "      <th>user_id</th>\n",
       "      <th>month</th>\n",
       "      <th>messages</th>\n",
       "    </tr>\n",
       "  </thead>\n",
       "  <tbody>\n",
       "    <tr>\n",
       "      <th>0</th>\n",
       "      <td>1000</td>\n",
       "      <td>5</td>\n",
       "      <td>22</td>\n",
       "    </tr>\n",
       "    <tr>\n",
       "      <th>1</th>\n",
       "      <td>1000</td>\n",
       "      <td>6</td>\n",
       "      <td>60</td>\n",
       "    </tr>\n",
       "    <tr>\n",
       "      <th>2</th>\n",
       "      <td>1000</td>\n",
       "      <td>7</td>\n",
       "      <td>75</td>\n",
       "    </tr>\n",
       "    <tr>\n",
       "      <th>3</th>\n",
       "      <td>1000</td>\n",
       "      <td>8</td>\n",
       "      <td>81</td>\n",
       "    </tr>\n",
       "    <tr>\n",
       "      <th>4</th>\n",
       "      <td>1000</td>\n",
       "      <td>9</td>\n",
       "      <td>57</td>\n",
       "    </tr>\n",
       "  </tbody>\n",
       "</table>\n",
       "</div>"
      ],
      "text/plain": [
       "   user_id  month  messages\n",
       "0     1000      5        22\n",
       "1     1000      6        60\n",
       "2     1000      7        75\n",
       "3     1000      8        81\n",
       "4     1000      9        57"
      ]
     },
     "metadata": {},
     "output_type": "display_data"
    },
    {
     "data": {
      "text/html": [
       "<div>\n",
       "<style scoped>\n",
       "    .dataframe tbody tr th:only-of-type {\n",
       "        vertical-align: middle;\n",
       "    }\n",
       "\n",
       "    .dataframe tbody tr th {\n",
       "        vertical-align: top;\n",
       "    }\n",
       "\n",
       "    .dataframe thead th {\n",
       "        text-align: right;\n",
       "    }\n",
       "</style>\n",
       "<table border=\"1\" class=\"dataframe\">\n",
       "  <thead>\n",
       "    <tr style=\"text-align: right;\">\n",
       "      <th></th>\n",
       "      <th>user_id</th>\n",
       "      <th>month</th>\n",
       "      <th>mb_used</th>\n",
       "    </tr>\n",
       "  </thead>\n",
       "  <tbody>\n",
       "    <tr>\n",
       "      <th>0</th>\n",
       "      <td>1000</td>\n",
       "      <td>5</td>\n",
       "      <td>2253.49</td>\n",
       "    </tr>\n",
       "    <tr>\n",
       "      <th>1</th>\n",
       "      <td>1000</td>\n",
       "      <td>6</td>\n",
       "      <td>23233.77</td>\n",
       "    </tr>\n",
       "    <tr>\n",
       "      <th>2</th>\n",
       "      <td>1000</td>\n",
       "      <td>7</td>\n",
       "      <td>14003.64</td>\n",
       "    </tr>\n",
       "    <tr>\n",
       "      <th>3</th>\n",
       "      <td>1000</td>\n",
       "      <td>8</td>\n",
       "      <td>14055.93</td>\n",
       "    </tr>\n",
       "    <tr>\n",
       "      <th>4</th>\n",
       "      <td>1000</td>\n",
       "      <td>9</td>\n",
       "      <td>14568.91</td>\n",
       "    </tr>\n",
       "  </tbody>\n",
       "</table>\n",
       "</div>"
      ],
      "text/plain": [
       "   user_id  month   mb_used\n",
       "0     1000      5   2253.49\n",
       "1     1000      6  23233.77\n",
       "2     1000      7  14003.64\n",
       "3     1000      8  14055.93\n",
       "4     1000      9  14568.91"
      ]
     },
     "metadata": {},
     "output_type": "display_data"
    }
   ],
   "source": [
    "#Добавление колонок 'month' для дальнейшей группировки\n",
    "df_c['month'] = pd.DatetimeIndex(df_c['call_date']).month\n",
    "df_m['month'] = pd.DatetimeIndex(df_m['message_date']).month\n",
    "df_i['month'] = pd.DatetimeIndex(df_i['session_date']).month\n",
    "\n",
    "#Округление длительности звонков\n",
    "df_c['duration'] = (df_c['duration']).apply(np.ceil)\n",
    "\n",
    "#Расчет количества сделанных звонков и израсходованных минут разговора по месяцам\n",
    "calls = df_c.groupby(['user_id', 'month']).agg({'id':'count','duration': 'sum'}).rename(columns = {'id': 'total_calls'}).reset_index()\n",
    "display(calls.head())\n",
    "\n",
    "#Расчет количества отправленных сообщений по месяцам\n",
    "messages = df_m.groupby(['user_id', 'month']).agg({'id': 'count'}).rename(columns = {'id': 'messages'}).reset_index()\n",
    "display(messages.head())\n",
    "\n",
    "#Расчет объема израсходованного интернет-трафика по месяцам\n",
    "internet = df_i.groupby(['user_id', 'month']).agg({'mb_used': 'sum'}).reset_index()\n",
    "display(internet.head())"
   ]
  },
  {
   "cell_type": "markdown",
   "id": "7716ad2f",
   "metadata": {},
   "source": [
    "**Расчет помесячной выручки с каждого пользователя**"
   ]
  },
  {
   "cell_type": "markdown",
   "id": "d63bc946",
   "metadata": {},
   "source": [
    "Для расчета помесячной выручки с каждого пользователя я соберу все данные в одну таблицу."
   ]
  },
  {
   "cell_type": "code",
   "execution_count": 67,
   "id": "2672df61",
   "metadata": {
    "scrolled": true
   },
   "outputs": [],
   "source": [
    "report = calls.merge(internet, on = ['user_id', 'month'], how = 'outer')\\\n",
    "              .merge(messages, on = ['user_id', 'month'], how = 'outer').fillna(0) # нулями заполняю пропуски\n",
    "report = report.merge(df_u, on = 'user_id', how = 'left').merge(df_t, left_on = 'tariff',right_on = 'tariff_name', how = 'left')\n",
    "#display(report.head(15))"
   ]
  },
  {
   "cell_type": "markdown",
   "id": "4cdf31ab",
   "metadata": {},
   "source": [
    "Округляю значения для mb_used и duration.\n",
    "\n",
    "«Мегалайн» всегда округляет секунды до минут, а мегабайты — до гигабайт. Каждый звонок округляется отдельно: даже если он длился всего 1 секунду, будет засчитан как 1 минута. "
   ]
  },
  {
   "cell_type": "markdown",
   "id": "c9f8f8b7",
   "metadata": {},
   "source": [
    "Расчет помесячной выручки с каждого пользователя\n",
    "\n",
    "(вычтите бесплатный лимит из суммарного количества звонков, сообщений и интернет-трафика; остаток умножьте на значение из тарифного плана; прибавьте абонентскую плату, соответствующую тарифному плану)."
   ]
  },
  {
   "cell_type": "code",
   "execution_count": 68,
   "id": "92d9d510",
   "metadata": {
    "scrolled": true
   },
   "outputs": [],
   "source": [
    "#Расчет помесячной выручки с каждого пользователя\n",
    "def monthly_revenue(report):\n",
    "    #расчет перерасходов звонков:\n",
    "    report['calls_over'] = (report['duration'] - report['minutes_included']) * report['rub_per_minute']\n",
    "    #расчет перерасходов сообщений:\n",
    "    report['messages_over'] = (report['messages'] - report['messages_included']) * report['rub_per_message']\n",
    "    #расчет перерасходов использования интернета(согласно условию гб округляются в большую сторону):\n",
    "    report['internet_over'] = ((report['mb_used'] - report['mb_per_month_included'])/1024).apply(np.ceil) * report['rub_per_gb']\n",
    "    #для расчета прибыли избавлюсь от отрицательных значений:\n",
    "    #report.loc[report['calls_over']<0,'calls_over'] = 0\n",
    "    #report.loc[report['messages_over']<0,'messages_over'] = 0\n",
    "    #report.loc[report['internet_over']<0,'internet_over'] = 0\n",
    "    \n",
    "    report['calls_over'] = report['calls_over'].clip(lower=0)\n",
    "    report['messages_over'] = report['messages_over'].clip(lower=0)\n",
    "    report['internet_over'] = report['internet_over'].clip(lower=0)\n",
    "    \n",
    "    #расчет прибыли:\n",
    "    report['revenue'] = report['rub_monthly_fee'] + report['calls_over'] + report['messages_over'] + report['internet_over']"
   ]
  },
  {
   "cell_type": "code",
   "execution_count": 69,
   "id": "b103c8cb",
   "metadata": {
    "scrolled": true
   },
   "outputs": [],
   "source": [
    "#применяю функцию ко всему датафрейму\n",
    "monthly_revenue(report)\n",
    "#display(report.head(50))"
   ]
  },
  {
   "cell_type": "markdown",
   "id": "e9c6d596",
   "metadata": {},
   "source": [
    "### Вывод\n",
    "\n",
    "Данные изучены, приведены к нужным типам. Серьезных ошибок не обнаружено"
   ]
  },
  {
   "cell_type": "markdown",
   "id": "594abce6",
   "metadata": {},
   "source": [
    "## Анализ поведения клиентов"
   ]
  },
  {
   "cell_type": "markdown",
   "id": "73c50b29",
   "metadata": {},
   "source": [
    "### Анализ"
   ]
  },
  {
   "cell_type": "markdown",
   "id": "6a424f0f",
   "metadata": {},
   "source": [
    "В этом проекте наблюдениями являются пары пользователь-месяц, поэтому анализировать отдельные месяцы по-отдельности не нужно (вряд ли абоненты платят в ноябре больше чем в июне). А найти параметры по отдельному тарифу можно, разделив общий фрейм на два с помощью query."
   ]
  },
  {
   "cell_type": "code",
   "execution_count": 70,
   "id": "3d883bc8",
   "metadata": {},
   "outputs": [],
   "source": [
    "ultra_report = report.query('tariff == \"ultra\"')\n",
    "smart_report = report.query('tariff == \"smart\"')"
   ]
  },
  {
   "cell_type": "code",
   "execution_count": 71,
   "id": "6c566daf",
   "metadata": {},
   "outputs": [
    {
     "data": {
      "text/html": [
       "<style  type=\"text/css\" >\n",
       "</style><table id=\"T_bbba4_\" ><thead>    <tr>        <th class=\"blank level0\" ></th>        <th class=\"col_heading level0 col0\" >count</th>        <th class=\"col_heading level0 col1\" >mean</th>        <th class=\"col_heading level0 col2\" >std</th>        <th class=\"col_heading level0 col3\" >min</th>        <th class=\"col_heading level0 col4\" >25%</th>        <th class=\"col_heading level0 col5\" >50%</th>        <th class=\"col_heading level0 col6\" >75%</th>        <th class=\"col_heading level0 col7\" >max</th>    </tr></thead><tbody>\n",
       "                <tr>\n",
       "                        <th id=\"T_bbba4_level0_row0\" class=\"row_heading level0 row0\" >duration</th>\n",
       "                        <td id=\"T_bbba4_row0_col0\" class=\"data row0 col0\" >985.00</td>\n",
       "                        <td id=\"T_bbba4_row0_col1\" class=\"data row0 col1\" >526.62</td>\n",
       "                        <td id=\"T_bbba4_row0_col2\" class=\"data row0 col2\" >317.61</td>\n",
       "                        <td id=\"T_bbba4_row0_col3\" class=\"data row0 col3\" >0.00</td>\n",
       "                        <td id=\"T_bbba4_row0_col4\" class=\"data row0 col4\" >284.00</td>\n",
       "                        <td id=\"T_bbba4_row0_col5\" class=\"data row0 col5\" >518.00</td>\n",
       "                        <td id=\"T_bbba4_row0_col6\" class=\"data row0 col6\" >752.00</td>\n",
       "                        <td id=\"T_bbba4_row0_col7\" class=\"data row0 col7\" >1673.00</td>\n",
       "            </tr>\n",
       "            <tr>\n",
       "                        <th id=\"T_bbba4_level0_row1\" class=\"row_heading level0 row1\" >mb_used</th>\n",
       "                        <td id=\"T_bbba4_row1_col0\" class=\"data row1 col0\" >985.00</td>\n",
       "                        <td id=\"T_bbba4_row1_col1\" class=\"data row1 col1\" >19468.81</td>\n",
       "                        <td id=\"T_bbba4_row1_col2\" class=\"data row1 col2\" >10087.17</td>\n",
       "                        <td id=\"T_bbba4_row1_col3\" class=\"data row1 col3\" >0.00</td>\n",
       "                        <td id=\"T_bbba4_row1_col4\" class=\"data row1 col4\" >11770.26</td>\n",
       "                        <td id=\"T_bbba4_row1_col5\" class=\"data row1 col5\" >19308.01</td>\n",
       "                        <td id=\"T_bbba4_row1_col6\" class=\"data row1 col6\" >26837.69</td>\n",
       "                        <td id=\"T_bbba4_row1_col7\" class=\"data row1 col7\" >49745.69</td>\n",
       "            </tr>\n",
       "            <tr>\n",
       "                        <th id=\"T_bbba4_level0_row2\" class=\"row_heading level0 row2\" >messages</th>\n",
       "                        <td id=\"T_bbba4_row2_col0\" class=\"data row2 col0\" >985.00</td>\n",
       "                        <td id=\"T_bbba4_row2_col1\" class=\"data row2 col1\" >49.36</td>\n",
       "                        <td id=\"T_bbba4_row2_col2\" class=\"data row2 col2\" >47.80</td>\n",
       "                        <td id=\"T_bbba4_row2_col3\" class=\"data row2 col3\" >0.00</td>\n",
       "                        <td id=\"T_bbba4_row2_col4\" class=\"data row2 col4\" >6.00</td>\n",
       "                        <td id=\"T_bbba4_row2_col5\" class=\"data row2 col5\" >38.00</td>\n",
       "                        <td id=\"T_bbba4_row2_col6\" class=\"data row2 col6\" >79.00</td>\n",
       "                        <td id=\"T_bbba4_row2_col7\" class=\"data row2 col7\" >224.00</td>\n",
       "            </tr>\n",
       "            <tr>\n",
       "                        <th id=\"T_bbba4_level0_row3\" class=\"row_heading level0 row3\" >revenue</th>\n",
       "                        <td id=\"T_bbba4_row3_col0\" class=\"data row3 col0\" >985.00</td>\n",
       "                        <td id=\"T_bbba4_row3_col1\" class=\"data row3 col1\" >2070.15</td>\n",
       "                        <td id=\"T_bbba4_row3_col2\" class=\"data row3 col2\" >376.19</td>\n",
       "                        <td id=\"T_bbba4_row3_col3\" class=\"data row3 col3\" >1950.00</td>\n",
       "                        <td id=\"T_bbba4_row3_col4\" class=\"data row3 col4\" >1950.00</td>\n",
       "                        <td id=\"T_bbba4_row3_col5\" class=\"data row3 col5\" >1950.00</td>\n",
       "                        <td id=\"T_bbba4_row3_col6\" class=\"data row3 col6\" >1950.00</td>\n",
       "                        <td id=\"T_bbba4_row3_col7\" class=\"data row3 col7\" >4800.00</td>\n",
       "            </tr>\n",
       "    </tbody></table>"
      ],
      "text/plain": [
       "<pandas.io.formats.style.Styler at 0x7f0b511cdb80>"
      ]
     },
     "metadata": {},
     "output_type": "display_data"
    }
   ],
   "source": [
    " display(ultra_report[['duration','mb_used', 'messages','revenue']].describe().T.style.format('{:.2f}'))"
   ]
  },
  {
   "cell_type": "code",
   "execution_count": 72,
   "id": "e7f23944",
   "metadata": {},
   "outputs": [
    {
     "data": {
      "text/html": [
       "<style  type=\"text/css\" >\n",
       "</style><table id=\"T_7ae9f_\" ><thead>    <tr>        <th class=\"blank level0\" ></th>        <th class=\"col_heading level0 col0\" >count</th>        <th class=\"col_heading level0 col1\" >mean</th>        <th class=\"col_heading level0 col2\" >std</th>        <th class=\"col_heading level0 col3\" >min</th>        <th class=\"col_heading level0 col4\" >25%</th>        <th class=\"col_heading level0 col5\" >50%</th>        <th class=\"col_heading level0 col6\" >75%</th>        <th class=\"col_heading level0 col7\" >max</th>    </tr></thead><tbody>\n",
       "                <tr>\n",
       "                        <th id=\"T_7ae9f_level0_row0\" class=\"row_heading level0 row0\" >duration</th>\n",
       "                        <td id=\"T_7ae9f_row0_col0\" class=\"data row0 col0\" >2229.00</td>\n",
       "                        <td id=\"T_7ae9f_row0_col1\" class=\"data row0 col1\" >417.93</td>\n",
       "                        <td id=\"T_7ae9f_row0_col2\" class=\"data row0 col2\" >190.31</td>\n",
       "                        <td id=\"T_7ae9f_row0_col3\" class=\"data row0 col3\" >0.00</td>\n",
       "                        <td id=\"T_7ae9f_row0_col4\" class=\"data row0 col4\" >282.00</td>\n",
       "                        <td id=\"T_7ae9f_row0_col5\" class=\"data row0 col5\" >422.00</td>\n",
       "                        <td id=\"T_7ae9f_row0_col6\" class=\"data row0 col6\" >545.00</td>\n",
       "                        <td id=\"T_7ae9f_row0_col7\" class=\"data row0 col7\" >1435.00</td>\n",
       "            </tr>\n",
       "            <tr>\n",
       "                        <th id=\"T_7ae9f_level0_row1\" class=\"row_heading level0 row1\" >mb_used</th>\n",
       "                        <td id=\"T_7ae9f_row1_col0\" class=\"data row1 col0\" >2229.00</td>\n",
       "                        <td id=\"T_7ae9f_row1_col1\" class=\"data row1 col1\" >16208.39</td>\n",
       "                        <td id=\"T_7ae9f_row1_col2\" class=\"data row1 col2\" >5870.48</td>\n",
       "                        <td id=\"T_7ae9f_row1_col3\" class=\"data row1 col3\" >0.00</td>\n",
       "                        <td id=\"T_7ae9f_row1_col4\" class=\"data row1 col4\" >12643.01</td>\n",
       "                        <td id=\"T_7ae9f_row1_col5\" class=\"data row1 col5\" >16506.84</td>\n",
       "                        <td id=\"T_7ae9f_row1_col6\" class=\"data row1 col6\" >20042.93</td>\n",
       "                        <td id=\"T_7ae9f_row1_col7\" class=\"data row1 col7\" >38552.45</td>\n",
       "            </tr>\n",
       "            <tr>\n",
       "                        <th id=\"T_7ae9f_level0_row2\" class=\"row_heading level0 row2\" >messages</th>\n",
       "                        <td id=\"T_7ae9f_row2_col0\" class=\"data row2 col0\" >2229.00</td>\n",
       "                        <td id=\"T_7ae9f_row2_col1\" class=\"data row2 col1\" >33.38</td>\n",
       "                        <td id=\"T_7ae9f_row2_col2\" class=\"data row2 col2\" >28.23</td>\n",
       "                        <td id=\"T_7ae9f_row2_col3\" class=\"data row2 col3\" >0.00</td>\n",
       "                        <td id=\"T_7ae9f_row2_col4\" class=\"data row2 col4\" >10.00</td>\n",
       "                        <td id=\"T_7ae9f_row2_col5\" class=\"data row2 col5\" >28.00</td>\n",
       "                        <td id=\"T_7ae9f_row2_col6\" class=\"data row2 col6\" >51.00</td>\n",
       "                        <td id=\"T_7ae9f_row2_col7\" class=\"data row2 col7\" >143.00</td>\n",
       "            </tr>\n",
       "            <tr>\n",
       "                        <th id=\"T_7ae9f_level0_row3\" class=\"row_heading level0 row3\" >revenue</th>\n",
       "                        <td id=\"T_7ae9f_row3_col0\" class=\"data row3 col0\" >2229.00</td>\n",
       "                        <td id=\"T_7ae9f_row3_col1\" class=\"data row3 col1\" >1289.97</td>\n",
       "                        <td id=\"T_7ae9f_row3_col2\" class=\"data row3 col2\" >818.40</td>\n",
       "                        <td id=\"T_7ae9f_row3_col3\" class=\"data row3 col3\" >550.00</td>\n",
       "                        <td id=\"T_7ae9f_row3_col4\" class=\"data row3 col4\" >550.00</td>\n",
       "                        <td id=\"T_7ae9f_row3_col5\" class=\"data row3 col5\" >1023.00</td>\n",
       "                        <td id=\"T_7ae9f_row3_col6\" class=\"data row3 col6\" >1750.00</td>\n",
       "                        <td id=\"T_7ae9f_row3_col7\" class=\"data row3 col7\" >6770.00</td>\n",
       "            </tr>\n",
       "    </tbody></table>"
      ],
      "text/plain": [
       "<pandas.io.formats.style.Styler at 0x7f0b50358d30>"
      ]
     },
     "metadata": {},
     "output_type": "display_data"
    }
   ],
   "source": [
    " display(smart_report[['duration','mb_used', 'messages','revenue']].describe().T.style.format('{:.2f}'))"
   ]
  },
  {
   "cell_type": "code",
   "execution_count": 73,
   "id": "8aa43666",
   "metadata": {
    "scrolled": false
   },
   "outputs": [
    {
     "data": {
      "image/png": "[encoded data removed]",
      "text/plain": [
       "<Figure size 720x720 with 2 Axes>"
      ]
     },
     "metadata": {
      "needs_background": "light"
     },
     "output_type": "display_data"
    }
   ],
   "source": [
    "#постреоние distplot по revenue\n",
    "fig,(ax1,ax2) = plt.subplots(nrows=2, ncols=1, figsize=(10,10))\n",
    "#ultra_report\n",
    "# sns.distplot(ultra_report['revenue'], label=tariff, ax=ax1)\n",
    "sns.distplot(ultra_report['revenue'], label='ultra', ax=ax1)\n",
    "\n",
    "ax1.set_title('ultra')\n",
    "#smart_report\n",
    "# sns.distplot(smart_report['revenue'], label=tariff, ax=ax2)\n",
    "\n",
    "sns.distplot(smart_report['revenue'], label='smart', ax=ax2)\n",
    "ax2.set_title('smart')\n",
    "plt.tight_layout(pad=3)\n",
    "plt.show();"
   ]
  },
  {
   "cell_type": "code",
   "execution_count": 74,
   "id": "8342ccee",
   "metadata": {
    "scrolled": false
   },
   "outputs": [
    {
     "data": {
      "image/png": "[encoded data removed]",
      "text/plain": [
       "<Figure size 720x720 with 2 Axes>"
      ]
     },
     "metadata": {
      "needs_background": "light"
     },
     "output_type": "display_data"
    }
   ],
   "source": [
    "#постреоние distplot по duration\n",
    "fig,(ax1,ax2) = plt.subplots(nrows=2, ncols=1, figsize=(10,10))\n",
    "#ultra_report\n",
    "sns.distplot(ultra_report['duration'], label='ultra', ax=ax1)\n",
    "ax1.set_title('ultra')\n",
    "#smart_report\n",
    "sns.distplot(smart_report['duration'], label='smart', ax=ax2)\n",
    "ax2.set_title('smart')\n",
    "plt.tight_layout(pad=3)\n",
    "plt.show();"
   ]
  },
  {
   "cell_type": "code",
   "execution_count": 75,
   "id": "4e38e962",
   "metadata": {
    "scrolled": false
   },
   "outputs": [
    {
     "data": {
      "image/png": "[encoded data removed]",
      "text/plain": [
       "<Figure size 720x720 with 2 Axes>"
      ]
     },
     "metadata": {
      "needs_background": "light"
     },
     "output_type": "display_data"
    }
   ],
   "source": [
    "#постреоние distplot по mb_used\n",
    "fig,(ax1,ax2) = plt.subplots(nrows=2, ncols=1, figsize=(10,10))\n",
    "#ultra_report\n",
    "sns.distplot(ultra_report['mb_used'], label='ultra', ax=ax1)\n",
    "ax1.set_title('ultra')\n",
    "#smart_report\n",
    "sns.distplot(smart_report['mb_used'], label='smart', ax=ax2)\n",
    "ax2.set_title('smart')\n",
    "plt.tight_layout(pad=3)\n",
    "plt.show();"
   ]
  },
  {
   "cell_type": "code",
   "execution_count": 76,
   "id": "10ef82d4",
   "metadata": {
    "scrolled": false
   },
   "outputs": [
    {
     "data": {
      "image/png": "[encoded data removed]",
      "text/plain": [
       "<Figure size 720x720 with 2 Axes>"
      ]
     },
     "metadata": {
      "needs_background": "light"
     },
     "output_type": "display_data"
    }
   ],
   "source": [
    "#постреоние distplot по messages\n",
    "fig,(ax1,ax2) = plt.subplots(nrows=2, ncols=1, figsize=(10,10))\n",
    "#ultra_report\n",
    "sns.distplot(ultra_report['messages'], label='ultra', ax=ax1)\n",
    "ax1.set_title('ultra')\n",
    "#smart_report\n",
    "sns.distplot(smart_report['messages'], label='smart', ax=ax2)\n",
    "ax2.set_title('smart')\n",
    "plt.tight_layout(pad=3)\n",
    "plt.show();"
   ]
  },
  {
   "cell_type": "markdown",
   "id": "93cebc85",
   "metadata": {},
   "source": [
    "### Вывод\n",
    "- **duration:** пользователи тарифа ultra разговаривают по телефону больше, чем пользователи smart в среднем на 100 с;\n",
    "- **mb_used:** у пользователей ultra большое СКО данной величены. Это говорит о том, что у распределения этой величины \"длинный хвост\", т.е. большой разброс относительно среднего значения. У пользователей smart такой тенденции не наблюдается. Разница средних значений у этих двух тарифов около 3 Гб;\n",
    "- **messages:** пользователи тарифа ultra отправляют в среднем на 16 сообщений больше в месяц, чем пользователи тарифа smart;\n",
    "- **revenue:** в среднем с пользователя ultra выручка Мегалайна составляет 2070.15 р. У пользователей тарифа smart это зн-ие 1257.59, но из-за большого СКО становится ясно, что некоторые пользователи значительно превышают этот лимит. Анализируя график плотности распределения revenue, можно сделать вывод, что значительная часть пользователей тарифа ultra укладывается в лимит 1950р. Распределение revenue для пользователей тарифа smart намного шире, что говорит о том, что часто лимита не хватает и Мегалайн зарабатывает на них сверх тарифа."
   ]
  },
  {
   "cell_type": "markdown",
   "id": "7c446701",
   "metadata": {},
   "source": [
    "## Проверка гипотез"
   ]
  },
  {
   "cell_type": "markdown",
   "id": "0101b1bf",
   "metadata": {},
   "source": [
    "### Очистка данных"
   ]
  },
  {
   "cell_type": "markdown",
   "id": "67f91c37",
   "metadata": {},
   "source": [
    "Перед проведением стат-тестов, я удалю выбросы из выборки, чтобы не исказить результаты t-тестов"
   ]
  },
  {
   "cell_type": "code",
   "execution_count": 77,
   "id": "2c261a68",
   "metadata": {
    "scrolled": true
   },
   "outputs": [
    {
     "data": {
      "text/plain": [
       "<AxesSubplot:>"
      ]
     },
     "execution_count": 77,
     "metadata": {},
     "output_type": "execute_result"
    },
    {
     "data": {
      "image/png": "[encoded data removed]",
      "text/plain": [
       "<Figure size 432x288 with 1 Axes>"
      ]
     },
     "metadata": {
      "needs_background": "light"
     },
     "output_type": "display_data"
    }
   ],
   "source": [
    "import matplotlib.pyplot as plt \n",
    "report.boxplot(column='revenue')"
   ]
  },
  {
   "cell_type": "markdown",
   "id": "efa943e4",
   "metadata": {},
   "source": [
    "Приму значения, превышающие 4000р за выбросы и избавлюсь от них"
   ]
  },
  {
   "cell_type": "code",
   "execution_count": 78,
   "id": "6e7d95e3",
   "metadata": {
    "scrolled": true
   },
   "outputs": [],
   "source": [
    "report = report.query('revenue < 4000')"
   ]
  },
  {
   "cell_type": "markdown",
   "id": "4588f317",
   "metadata": {},
   "source": [
    "### Cредняя выручка с пользователей тарифов «Ультра» и «Смарт» различаются\n",
    "\n",
    "Чтобы проверить эту гипотезу я проведу t-тест с помощью специального метода для проверки гипотезы о равенстве среднего двух генеральных совокупностей по взятым из них выборкам: scipy.stats.ttest_ind (array1, array2,equal_var)"
   ]
  },
  {
   "cell_type": "markdown",
   "id": "a3a371e0",
   "metadata": {},
   "source": [
    "Сформулирую нулевую и двустороннюю альтернативную гипотезы:\n",
    "\n",
    "**H0**: средняя выручка с пользователей тарифов «Ультра» и «Смарт» равна;\n",
    "\n",
    "**H1**: средняя выручка с пользователей тарифов «Ультра» и «Смарт» различаются"
   ]
  },
  {
   "cell_type": "markdown",
   "id": "e8af007e",
   "metadata": {},
   "source": [
    "Разделю столбец месячных выручек таблицы report на две части по тарифам и проведу тест с помошью scipy.stats.ttest_ind:"
   ]
  },
  {
   "cell_type": "code",
   "execution_count": 79,
   "id": "f2c0b9b4",
   "metadata": {
    "scrolled": true
   },
   "outputs": [
    {
     "name": "stdout",
     "output_type": "stream",
     "text": [
      "p-value =  4.4833474442437034e-297\n",
      "Отвергаем нулевую гипотезу и принимаем альтернативную за верную.\n"
     ]
    }
   ],
   "source": [
    "from scipy import stats as st\n",
    "\n",
    "ultra_revenue = report.query('tariff_name == \"ultra\"')['revenue']\n",
    "smart_revenue = report.query('tariff_name == \"smart\"')['revenue']\n",
    "\n",
    "# так как scipy.stats.ttest_ind принимает массивы на входе, то приведу полученные срезы к типу list:\n",
    "ultra_revenue = ultra_revenue\n",
    "smart_revenue = smart_revenue\n",
    "\n",
    "alpha = .05 # критический уровень статистической значимости\n",
    "# если p-value окажется меньше него - отвергну гипотезу\n",
    "\n",
    "results = st.ttest_ind(\n",
    "    ultra_revenue,\n",
    "    smart_revenue,\n",
    "    equal_var = False\n",
    ")\n",
    "#equal_var = False так как нет оснований полагать, что выборки отличаются по размеру примерно в 2 раза\n",
    "\n",
    "print('p-value = ',results.pvalue)\n",
    "\n",
    "if results.pvalue < alpha:\n",
    "    print('Отвергаем нулевую гипотезу и принимаем альтернативную за верную.')\n",
    "else:\n",
    "    print('Нет оснований отвергать нулевую гипотезу.')"
   ]
  },
  {
   "cell_type": "markdown",
   "id": "d57fb3d9",
   "metadata": {},
   "source": [
    "### Cредняя выручка с пользователей из Москвы отличается от выручки с пользователей из других регионов"
   ]
  },
  {
   "cell_type": "markdown",
   "id": "7449ddf6",
   "metadata": {},
   "source": [
    "Сформулирую нулевую и двустороннюю альтернативную гипотезы:\n",
    "\n",
    "**H0**: средняя выручка с пользователей из Москвы и с пользователей из других регионов равна;\n",
    "\n",
    "**H1**:  средняя выручка с пользователей из Москвы и с пользователей из других регионов различаются"
   ]
  },
  {
   "cell_type": "markdown",
   "id": "45e00e63",
   "metadata": {},
   "source": [
    "Разделю столбец месячных выручек таблицы report на две части (Москва/регион)  и проведу тест"
   ]
  },
  {
   "cell_type": "code",
   "execution_count": 80,
   "id": "c47f176e",
   "metadata": {
    "scrolled": true
   },
   "outputs": [
    {
     "name": "stdout",
     "output_type": "stream",
     "text": [
      "p-value = 0.34033152075526585\n",
      "Нет оснований отвергать нулевую гипотезу.\n"
     ]
    }
   ],
   "source": [
    "moscow_revenue = report.query('city == \"Москва\"')['revenue']\n",
    "other_regions_revenue = report.query('city != \"Москва\"')['revenue']\n",
    "\n",
    "moscow_revenue = list(moscow_revenue)\n",
    "other_regions_revenue = list(other_regions_revenue)\n",
    "\n",
    "alpha = .05\n",
    "\n",
    "results = st.ttest_ind(\n",
    "    moscow_revenue,\n",
    "    other_regions_revenue,\n",
    "    equal_var = False  \n",
    ")\n",
    "\n",
    "print('p-value =',results.pvalue)\n",
    "\n",
    "if results.pvalue < alpha:\n",
    "    print('Отвергаем нулевую гипотезу и принимаем альтернативную за верную.')\n",
    "else:\n",
    "    print('Нет оснований отвергать нулевую гипотезу.')"
   ]
  },
  {
   "cell_type": "markdown",
   "id": "044cb561",
   "metadata": {},
   "source": [
    "### Вывод\n",
    "- средняя выручка с пользователей тарифов «Ультра» и «Смарт» различаются;\n",
    "- средняя выручка с пользователей из Москвы и с пользователей из других регионов равна"
   ]
  },
  {
   "cell_type": "markdown",
   "id": "9a63e317",
   "metadata": {},
   "source": [
    "## Общий вывод"
   ]
  },
  {
   "cell_type": "markdown",
   "id": "405778ff",
   "metadata": {},
   "source": [
    "Средняя выручка с пользователей тарифов «Ультра» и «Смарт» различаются. Средняя выручка с пользователей тарифа «Ультра» больше. Но пользователей тарифа «Смарт» больше, чем «Ультра» в два раза и они чаще выходят за лемиты тарифа.Средняя выручка с пользователей из Москвы и с пользователей из других регионов равна.\n",
    "В среднем клиенты Ультры приносят денег больше, поэтому акцент стоит делать на них. Судя по гистограммам, клиенты этого тарифа также не намного сильне нагружают сеть оператора, т.е. должны приносить больше прибыли"
   ]
  }
 ],
 "metadata": {
  "ExecuteTimeLog": [
   {
    "duration": 1211,
    "start_time": "2022-01-29T19:24:44.170Z"
   },
   {
    "duration": 21,
    "start_time": "2022-01-29T19:24:45.384Z"
   },
   {
    "duration": 17,
    "start_time": "2022-01-29T19:24:45.407Z"
   },
   {
    "duration": 40,
    "start_time": "2022-01-29T19:24:45.426Z"
   },
   {
    "duration": 7,
    "start_time": "2022-01-29T19:24:45.468Z"
   },
   {
    "duration": 12,
    "start_time": "2022-01-29T19:24:45.476Z"
   },
   {
    "duration": 220,
    "start_time": "2022-01-29T19:24:45.490Z"
   },
   {
    "duration": 57,
    "start_time": "2022-01-29T19:24:45.714Z"
   },
   {
    "duration": 28,
    "start_time": "2022-01-29T19:24:45.773Z"
   },
   {
    "duration": 14,
    "start_time": "2022-01-29T19:24:45.803Z"
   },
   {
    "duration": 48,
    "start_time": "2022-01-29T19:24:45.819Z"
   },
   {
    "duration": 12,
    "start_time": "2022-01-29T19:24:45.868Z"
   },
   {
    "duration": 20,
    "start_time": "2022-01-29T19:24:45.882Z"
   },
   {
    "duration": 10,
    "start_time": "2022-01-29T19:24:45.903Z"
   },
   {
    "duration": 6,
    "start_time": "2022-01-29T19:24:45.915Z"
   },
   {
    "duration": 9,
    "start_time": "2022-01-29T19:24:45.923Z"
   },
   {
    "duration": 291,
    "start_time": "2022-01-29T19:24:45.933Z"
   },
   {
    "duration": 498,
    "start_time": "2022-01-29T19:24:46.225Z"
   },
   {
    "duration": 18,
    "start_time": "2022-01-29T19:24:46.725Z"
   },
   {
    "duration": 318,
    "start_time": "2022-01-29T19:24:46.745Z"
   },
   {
    "duration": 205,
    "start_time": "2022-01-29T19:24:47.065Z"
   },
   {
    "duration": 13,
    "start_time": "2022-01-29T19:24:47.272Z"
   },
   {
    "duration": 255,
    "start_time": "2022-01-29T19:24:47.289Z"
   },
   {
    "duration": 152,
    "start_time": "2022-01-29T19:24:47.546Z"
   },
   {
    "duration": 18,
    "start_time": "2022-01-29T19:24:47.700Z"
   },
   {
    "duration": 6,
    "start_time": "2022-01-29T19:24:47.720Z"
   },
   {
    "duration": 7,
    "start_time": "2022-01-29T19:24:47.728Z"
   },
   {
    "duration": 34,
    "start_time": "2022-01-29T19:24:47.737Z"
   },
   {
    "duration": 2,
    "start_time": "2022-01-29T19:24:47.773Z"
   },
   {
    "duration": 1604,
    "start_time": "2022-01-29T19:24:47.777Z"
   },
   {
    "duration": 145,
    "start_time": "2022-01-29T19:24:49.383Z"
   },
   {
    "duration": 6,
    "start_time": "2022-01-29T19:24:49.530Z"
   },
   {
    "duration": 13,
    "start_time": "2022-01-29T19:24:49.537Z"
   },
   {
    "duration": 13,
    "start_time": "2022-01-29T19:24:49.561Z"
   },
   {
    "duration": 617,
    "start_time": "2022-01-29T19:25:35.198Z"
   },
   {
    "duration": 22,
    "start_time": "2022-01-29T19:25:35.817Z"
   },
   {
    "duration": 19,
    "start_time": "2022-01-29T19:25:35.842Z"
   },
   {
    "duration": 14,
    "start_time": "2022-01-29T19:25:35.863Z"
   },
   {
    "duration": 6,
    "start_time": "2022-01-29T19:25:35.879Z"
   },
   {
    "duration": 9,
    "start_time": "2022-01-29T19:25:35.886Z"
   },
   {
    "duration": 207,
    "start_time": "2022-01-29T19:25:35.896Z"
   },
   {
    "duration": 57,
    "start_time": "2022-01-29T19:25:36.105Z"
   },
   {
    "duration": 33,
    "start_time": "2022-01-29T19:25:36.165Z"
   },
   {
    "duration": 16,
    "start_time": "2022-01-29T19:25:36.200Z"
   },
   {
    "duration": 43,
    "start_time": "2022-01-29T19:25:36.218Z"
   },
   {
    "duration": 14,
    "start_time": "2022-01-29T19:25:36.263Z"
   },
   {
    "duration": 17,
    "start_time": "2022-01-29T19:25:36.279Z"
   },
   {
    "duration": 10,
    "start_time": "2022-01-29T19:25:36.298Z"
   },
   {
    "duration": 7,
    "start_time": "2022-01-29T19:25:36.309Z"
   },
   {
    "duration": 8,
    "start_time": "2022-01-29T19:25:36.318Z"
   },
   {
    "duration": 221,
    "start_time": "2022-01-29T19:25:36.328Z"
   },
   {
    "duration": 519,
    "start_time": "2022-01-29T19:25:36.551Z"
   },
   {
    "duration": 16,
    "start_time": "2022-01-29T19:25:37.071Z"
   },
   {
    "duration": 259,
    "start_time": "2022-01-29T19:25:37.089Z"
   },
   {
    "duration": 205,
    "start_time": "2022-01-29T19:25:37.350Z"
   },
   {
    "duration": 14,
    "start_time": "2022-01-29T19:25:37.560Z"
   },
   {
    "duration": 260,
    "start_time": "2022-01-29T19:25:37.575Z"
   },
   {
    "duration": 243,
    "start_time": "2022-01-29T19:25:37.836Z"
   },
   {
    "duration": 20,
    "start_time": "2022-01-29T19:25:38.081Z"
   },
   {
    "duration": 5,
    "start_time": "2022-01-29T19:25:38.103Z"
   },
   {
    "duration": 6,
    "start_time": "2022-01-29T19:25:38.112Z"
   },
   {
    "duration": 27,
    "start_time": "2022-01-29T19:25:38.119Z"
   },
   {
    "duration": 13,
    "start_time": "2022-01-29T19:25:38.147Z"
   },
   {
    "duration": 348,
    "start_time": "2022-01-29T19:25:38.162Z"
   },
   {
    "duration": 141,
    "start_time": "2022-01-29T19:25:38.512Z"
   },
   {
    "duration": 10,
    "start_time": "2022-01-29T19:25:38.655Z"
   },
   {
    "duration": 13,
    "start_time": "2022-01-29T19:25:38.667Z"
   },
   {
    "duration": 9,
    "start_time": "2022-01-29T19:25:38.682Z"
   },
   {
    "duration": 587,
    "start_time": "2022-01-29T19:29:08.664Z"
   },
   {
    "duration": 21,
    "start_time": "2022-01-29T19:29:09.254Z"
   },
   {
    "duration": 17,
    "start_time": "2022-01-29T19:29:09.277Z"
   },
   {
    "duration": 15,
    "start_time": "2022-01-29T19:29:09.296Z"
   },
   {
    "duration": 9,
    "start_time": "2022-01-29T19:29:09.313Z"
   },
   {
    "duration": 39,
    "start_time": "2022-01-29T19:29:09.323Z"
   },
   {
    "duration": 181,
    "start_time": "2022-01-29T19:29:09.364Z"
   },
   {
    "duration": 55,
    "start_time": "2022-01-29T19:29:09.547Z"
   },
   {
    "duration": 29,
    "start_time": "2022-01-29T19:29:09.606Z"
   },
   {
    "duration": 35,
    "start_time": "2022-01-29T19:29:09.638Z"
   },
   {
    "duration": 21,
    "start_time": "2022-01-29T19:29:09.675Z"
   },
   {
    "duration": 14,
    "start_time": "2022-01-29T19:29:09.698Z"
   },
   {
    "duration": 18,
    "start_time": "2022-01-29T19:29:09.714Z"
   },
   {
    "duration": 37,
    "start_time": "2022-01-29T19:29:09.734Z"
   },
   {
    "duration": 6,
    "start_time": "2022-01-29T19:29:09.773Z"
   },
   {
    "duration": 24,
    "start_time": "2022-01-29T19:29:09.782Z"
   },
   {
    "duration": 209,
    "start_time": "2022-01-29T19:29:09.808Z"
   },
   {
    "duration": 521,
    "start_time": "2022-01-29T19:29:10.019Z"
   },
   {
    "duration": 25,
    "start_time": "2022-01-29T19:29:10.543Z"
   },
   {
    "duration": 253,
    "start_time": "2022-01-29T19:29:10.569Z"
   },
   {
    "duration": 207,
    "start_time": "2022-01-29T19:29:10.824Z"
   },
   {
    "duration": 15,
    "start_time": "2022-01-29T19:29:11.033Z"
   },
   {
    "duration": 427,
    "start_time": "2022-01-29T19:29:11.061Z"
   },
   {
    "duration": 179,
    "start_time": "2022-01-29T19:29:11.490Z"
   },
   {
    "duration": 28,
    "start_time": "2022-01-29T19:29:11.671Z"
   },
   {
    "duration": 8,
    "start_time": "2022-01-29T19:29:11.701Z"
   },
   {
    "duration": 6,
    "start_time": "2022-01-29T19:29:11.713Z"
   },
   {
    "duration": 49,
    "start_time": "2022-01-29T19:29:11.721Z"
   },
   {
    "duration": 3,
    "start_time": "2022-01-29T19:29:11.772Z"
   },
   {
    "duration": 401,
    "start_time": "2022-01-29T19:29:11.777Z"
   },
   {
    "duration": 252,
    "start_time": "2022-01-29T19:29:12.180Z"
   },
   {
    "duration": 5,
    "start_time": "2022-01-29T19:29:12.434Z"
   },
   {
    "duration": 21,
    "start_time": "2022-01-29T19:29:12.441Z"
   },
   {
    "duration": 12,
    "start_time": "2022-01-29T19:29:12.464Z"
   },
   {
    "duration": 611,
    "start_time": "2022-01-29T19:31:02.674Z"
   },
   {
    "duration": 22,
    "start_time": "2022-01-29T19:31:03.286Z"
   },
   {
    "duration": 18,
    "start_time": "2022-01-29T19:31:03.311Z"
   },
   {
    "duration": 40,
    "start_time": "2022-01-29T19:31:03.331Z"
   },
   {
    "duration": 6,
    "start_time": "2022-01-29T19:31:03.373Z"
   },
   {
    "duration": 9,
    "start_time": "2022-01-29T19:31:03.381Z"
   },
   {
    "duration": 208,
    "start_time": "2022-01-29T19:31:03.391Z"
   },
   {
    "duration": 44,
    "start_time": "2022-01-29T19:31:03.600Z"
   },
   {
    "duration": 44,
    "start_time": "2022-01-29T19:31:03.647Z"
   },
   {
    "duration": 14,
    "start_time": "2022-01-29T19:31:03.693Z"
   },
   {
    "duration": 23,
    "start_time": "2022-01-29T19:31:03.709Z"
   },
   {
    "duration": 34,
    "start_time": "2022-01-29T19:31:03.734Z"
   },
   {
    "duration": 21,
    "start_time": "2022-01-29T19:31:03.769Z"
   },
   {
    "duration": 13,
    "start_time": "2022-01-29T19:31:03.792Z"
   },
   {
    "duration": 7,
    "start_time": "2022-01-29T19:31:03.807Z"
   },
   {
    "duration": 13,
    "start_time": "2022-01-29T19:31:03.816Z"
   },
   {
    "duration": 229,
    "start_time": "2022-01-29T19:31:03.831Z"
   },
   {
    "duration": 611,
    "start_time": "2022-01-29T19:31:04.062Z"
   },
   {
    "duration": 16,
    "start_time": "2022-01-29T19:31:04.675Z"
   },
   {
    "duration": 271,
    "start_time": "2022-01-29T19:31:04.692Z"
   },
   {
    "duration": 226,
    "start_time": "2022-01-29T19:31:04.964Z"
   },
   {
    "duration": 13,
    "start_time": "2022-01-29T19:31:05.192Z"
   },
   {
    "duration": 269,
    "start_time": "2022-01-29T19:31:05.206Z"
   },
   {
    "duration": 132,
    "start_time": "2022-01-29T19:31:05.477Z"
   },
   {
    "duration": 21,
    "start_time": "2022-01-29T19:31:05.611Z"
   },
   {
    "duration": 26,
    "start_time": "2022-01-29T19:31:05.634Z"
   },
   {
    "duration": 5,
    "start_time": "2022-01-29T19:31:05.664Z"
   },
   {
    "duration": 21,
    "start_time": "2022-01-29T19:31:05.670Z"
   },
   {
    "duration": 15,
    "start_time": "2022-01-29T19:31:05.693Z"
   },
   {
    "duration": 384,
    "start_time": "2022-01-29T19:31:05.710Z"
   },
   {
    "duration": 148,
    "start_time": "2022-01-29T19:31:06.096Z"
   },
   {
    "duration": 14,
    "start_time": "2022-01-29T19:31:06.246Z"
   },
   {
    "duration": 12,
    "start_time": "2022-01-29T19:31:06.262Z"
   },
   {
    "duration": 19,
    "start_time": "2022-01-29T19:31:06.276Z"
   },
   {
    "duration": 723,
    "start_time": "2022-01-29T19:31:50.650Z"
   },
   {
    "duration": 22,
    "start_time": "2022-01-29T19:31:51.375Z"
   },
   {
    "duration": 18,
    "start_time": "2022-01-29T19:31:51.400Z"
   },
   {
    "duration": 52,
    "start_time": "2022-01-29T19:31:51.420Z"
   },
   {
    "duration": 7,
    "start_time": "2022-01-29T19:31:51.473Z"
   },
   {
    "duration": 8,
    "start_time": "2022-01-29T19:31:51.482Z"
   },
   {
    "duration": 213,
    "start_time": "2022-01-29T19:31:51.491Z"
   },
   {
    "duration": 69,
    "start_time": "2022-01-29T19:31:51.707Z"
   },
   {
    "duration": 30,
    "start_time": "2022-01-29T19:31:51.778Z"
   },
   {
    "duration": 15,
    "start_time": "2022-01-29T19:31:51.810Z"
   },
   {
    "duration": 45,
    "start_time": "2022-01-29T19:31:51.827Z"
   },
   {
    "duration": 14,
    "start_time": "2022-01-29T19:31:51.873Z"
   },
   {
    "duration": 20,
    "start_time": "2022-01-29T19:31:51.890Z"
   },
   {
    "duration": 13,
    "start_time": "2022-01-29T19:31:51.912Z"
   },
   {
    "duration": 36,
    "start_time": "2022-01-29T19:31:51.927Z"
   },
   {
    "duration": 12,
    "start_time": "2022-01-29T19:31:51.965Z"
   },
   {
    "duration": 197,
    "start_time": "2022-01-29T19:31:51.979Z"
   },
   {
    "duration": 682,
    "start_time": "2022-01-29T19:31:52.178Z"
   },
   {
    "duration": 19,
    "start_time": "2022-01-29T19:31:52.862Z"
   },
   {
    "duration": 259,
    "start_time": "2022-01-29T19:31:52.882Z"
   },
   {
    "duration": 202,
    "start_time": "2022-01-29T19:31:53.143Z"
   },
   {
    "duration": 18,
    "start_time": "2022-01-29T19:31:53.346Z"
   },
   {
    "duration": 254,
    "start_time": "2022-01-29T19:31:53.367Z"
   },
   {
    "duration": 127,
    "start_time": "2022-01-29T19:31:53.623Z"
   },
   {
    "duration": 25,
    "start_time": "2022-01-29T19:31:53.752Z"
   },
   {
    "duration": 5,
    "start_time": "2022-01-29T19:31:53.779Z"
   },
   {
    "duration": 7,
    "start_time": "2022-01-29T19:31:53.786Z"
   },
   {
    "duration": 18,
    "start_time": "2022-01-29T19:31:53.794Z"
   },
   {
    "duration": 3,
    "start_time": "2022-01-29T19:31:53.813Z"
   },
   {
    "duration": 374,
    "start_time": "2022-01-29T19:31:53.818Z"
   },
   {
    "duration": 147,
    "start_time": "2022-01-29T19:31:54.194Z"
   },
   {
    "duration": 6,
    "start_time": "2022-01-29T19:31:54.343Z"
   },
   {
    "duration": 21,
    "start_time": "2022-01-29T19:31:54.350Z"
   },
   {
    "duration": 10,
    "start_time": "2022-01-29T19:31:54.372Z"
   },
   {
    "duration": 610,
    "start_time": "2022-01-29T19:32:14.778Z"
   },
   {
    "duration": 21,
    "start_time": "2022-01-29T19:32:15.390Z"
   },
   {
    "duration": 17,
    "start_time": "2022-01-29T19:32:15.413Z"
   },
   {
    "duration": 16,
    "start_time": "2022-01-29T19:32:15.460Z"
   },
   {
    "duration": 6,
    "start_time": "2022-01-29T19:32:15.478Z"
   },
   {
    "duration": 8,
    "start_time": "2022-01-29T19:32:15.486Z"
   },
   {
    "duration": 202,
    "start_time": "2022-01-29T19:32:15.495Z"
   },
   {
    "duration": 43,
    "start_time": "2022-01-29T19:32:15.699Z"
   },
   {
    "duration": 41,
    "start_time": "2022-01-29T19:32:15.745Z"
   },
   {
    "duration": 14,
    "start_time": "2022-01-29T19:32:15.789Z"
   },
   {
    "duration": 21,
    "start_time": "2022-01-29T19:32:15.805Z"
   },
   {
    "duration": 37,
    "start_time": "2022-01-29T19:32:15.828Z"
   },
   {
    "duration": 18,
    "start_time": "2022-01-29T19:32:15.867Z"
   },
   {
    "duration": 11,
    "start_time": "2022-01-29T19:32:15.886Z"
   },
   {
    "duration": 6,
    "start_time": "2022-01-29T19:32:15.899Z"
   },
   {
    "duration": 9,
    "start_time": "2022-01-29T19:32:15.906Z"
   },
   {
    "duration": 221,
    "start_time": "2022-01-29T19:32:15.917Z"
   },
   {
    "duration": 513,
    "start_time": "2022-01-29T19:32:16.139Z"
   },
   {
    "duration": 21,
    "start_time": "2022-01-29T19:32:16.654Z"
   },
   {
    "duration": 256,
    "start_time": "2022-01-29T19:32:16.677Z"
   },
   {
    "duration": 208,
    "start_time": "2022-01-29T19:32:16.935Z"
   },
   {
    "duration": 17,
    "start_time": "2022-01-29T19:32:17.145Z"
   },
   {
    "duration": 248,
    "start_time": "2022-01-29T19:32:17.164Z"
   },
   {
    "duration": 127,
    "start_time": "2022-01-29T19:32:17.414Z"
   },
   {
    "duration": 28,
    "start_time": "2022-01-29T19:32:17.543Z"
   },
   {
    "duration": 6,
    "start_time": "2022-01-29T19:32:17.573Z"
   },
   {
    "duration": 8,
    "start_time": "2022-01-29T19:32:17.583Z"
   },
   {
    "duration": 17,
    "start_time": "2022-01-29T19:32:17.593Z"
   },
   {
    "duration": 2,
    "start_time": "2022-01-29T19:32:17.612Z"
   },
   {
    "duration": 544,
    "start_time": "2022-01-29T19:32:17.616Z"
   },
   {
    "duration": 129,
    "start_time": "2022-01-29T19:32:18.162Z"
   },
   {
    "duration": 6,
    "start_time": "2022-01-29T19:32:18.293Z"
   },
   {
    "duration": 15,
    "start_time": "2022-01-29T19:32:18.300Z"
   },
   {
    "duration": 11,
    "start_time": "2022-01-29T19:32:18.317Z"
   },
   {
    "duration": 600,
    "start_time": "2022-02-07T15:35:37.966Z"
   },
   {
    "duration": 3463,
    "start_time": "2022-02-07T15:40:08.113Z"
   },
   {
    "duration": 54,
    "start_time": "2022-02-07T15:40:11.579Z"
   },
   {
    "duration": 26,
    "start_time": "2022-02-07T15:40:11.636Z"
   },
   {
    "duration": 59,
    "start_time": "2022-02-07T15:40:11.666Z"
   },
   {
    "duration": 12,
    "start_time": "2022-02-07T15:40:11.728Z"
   },
   {
    "duration": 17,
    "start_time": "2022-02-07T15:40:11.744Z"
   },
   {
    "duration": 344,
    "start_time": "2022-02-07T15:40:11.764Z"
   },
   {
    "duration": 66,
    "start_time": "2022-02-07T15:40:12.112Z"
   },
   {
    "duration": 59,
    "start_time": "2022-02-07T15:40:12.181Z"
   },
   {
    "duration": 21,
    "start_time": "2022-02-07T15:40:12.243Z"
   },
   {
    "duration": 33,
    "start_time": "2022-02-07T15:40:12.268Z"
   },
   {
    "duration": 17,
    "start_time": "2022-02-07T15:40:12.324Z"
   },
   {
    "duration": 26,
    "start_time": "2022-02-07T15:40:12.344Z"
   },
   {
    "duration": 14,
    "start_time": "2022-02-07T15:40:12.372Z"
   },
   {
    "duration": 51,
    "start_time": "2022-02-07T15:40:12.388Z"
   },
   {
    "duration": 12,
    "start_time": "2022-02-07T15:40:12.442Z"
   },
   {
    "duration": 453,
    "start_time": "2022-02-07T15:40:12.456Z"
   },
   {
    "duration": 935,
    "start_time": "2022-02-07T15:40:12.911Z"
   },
   {
    "duration": 21,
    "start_time": "2022-02-07T15:40:13.849Z"
   },
   {
    "duration": 539,
    "start_time": "2022-02-07T15:40:13.873Z"
   },
   {
    "duration": 499,
    "start_time": "2022-02-07T15:40:14.415Z"
   },
   {
    "duration": 24,
    "start_time": "2022-02-07T15:40:14.917Z"
   },
   {
    "duration": 695,
    "start_time": "2022-02-07T15:40:14.948Z"
   },
   {
    "duration": 3159,
    "start_time": "2022-02-07T15:40:15.647Z"
   },
   {
    "duration": -2001,
    "start_time": "2022-02-07T15:40:20.810Z"
   },
   {
    "duration": -2001,
    "start_time": "2022-02-07T15:40:20.812Z"
   },
   {
    "duration": -2000,
    "start_time": "2022-02-07T15:40:20.813Z"
   },
   {
    "duration": -2000,
    "start_time": "2022-02-07T15:40:20.815Z"
   },
   {
    "duration": -1999,
    "start_time": "2022-02-07T15:40:20.816Z"
   },
   {
    "duration": -2000,
    "start_time": "2022-02-07T15:40:20.819Z"
   },
   {
    "duration": -2009,
    "start_time": "2022-02-07T15:40:20.830Z"
   },
   {
    "duration": -2009,
    "start_time": "2022-02-07T15:40:20.832Z"
   },
   {
    "duration": -2009,
    "start_time": "2022-02-07T15:40:20.834Z"
   },
   {
    "duration": -2009,
    "start_time": "2022-02-07T15:40:20.837Z"
   },
   {
    "duration": -2009,
    "start_time": "2022-02-07T15:40:20.839Z"
   },
   {
    "duration": 2125,
    "start_time": "2022-02-07T15:40:32.128Z"
   },
   {
    "duration": 1218,
    "start_time": "2022-02-07T15:40:59.668Z"
   },
   {
    "duration": 172,
    "start_time": "2022-02-07T15:41:01.513Z"
   },
   {
    "duration": 39,
    "start_time": "2022-02-07T15:41:04.865Z"
   },
   {
    "duration": 766,
    "start_time": "2022-02-07T16:00:56.283Z"
   },
   {
    "duration": 27,
    "start_time": "2022-02-07T16:00:57.052Z"
   },
   {
    "duration": 55,
    "start_time": "2022-02-07T16:00:57.083Z"
   },
   {
    "duration": 23,
    "start_time": "2022-02-07T16:00:57.141Z"
   },
   {
    "duration": 9,
    "start_time": "2022-02-07T16:00:57.167Z"
   },
   {
    "duration": 48,
    "start_time": "2022-02-07T16:00:57.178Z"
   },
   {
    "duration": 262,
    "start_time": "2022-02-07T16:00:57.229Z"
   },
   {
    "duration": 66,
    "start_time": "2022-02-07T16:00:57.493Z"
   },
   {
    "duration": 37,
    "start_time": "2022-02-07T16:00:57.563Z"
   },
   {
    "duration": 37,
    "start_time": "2022-02-07T16:00:57.603Z"
   },
   {
    "duration": 31,
    "start_time": "2022-02-07T16:00:57.643Z"
   },
   {
    "duration": 48,
    "start_time": "2022-02-07T16:00:57.676Z"
   },
   {
    "duration": 25,
    "start_time": "2022-02-07T16:00:57.726Z"
   },
   {
    "duration": 13,
    "start_time": "2022-02-07T16:00:57.753Z"
   },
   {
    "duration": 8,
    "start_time": "2022-02-07T16:00:57.769Z"
   },
   {
    "duration": 45,
    "start_time": "2022-02-07T16:00:57.779Z"
   },
   {
    "duration": 332,
    "start_time": "2022-02-07T16:00:57.827Z"
   },
   {
    "duration": 970,
    "start_time": "2022-02-07T16:00:58.162Z"
   },
   {
    "duration": 19,
    "start_time": "2022-02-07T16:00:59.134Z"
   },
   {
    "duration": 427,
    "start_time": "2022-02-07T16:00:59.155Z"
   },
   {
    "duration": 325,
    "start_time": "2022-02-07T16:00:59.584Z"
   },
   {
    "duration": 24,
    "start_time": "2022-02-07T16:00:59.912Z"
   },
   {
    "duration": 414,
    "start_time": "2022-02-07T16:00:59.939Z"
   },
   {
    "duration": 176,
    "start_time": "2022-02-07T16:01:00.356Z"
   },
   {
    "duration": 32,
    "start_time": "2022-02-07T16:01:00.535Z"
   },
   {
    "duration": 9,
    "start_time": "2022-02-07T16:01:00.570Z"
   },
   {
    "duration": 18,
    "start_time": "2022-02-07T16:01:00.583Z"
   },
   {
    "duration": 47,
    "start_time": "2022-02-07T16:01:00.604Z"
   },
   {
    "duration": 3,
    "start_time": "2022-02-07T16:01:00.653Z"
   },
   {
    "duration": 80100,
    "start_time": "2022-02-07T16:01:00.658Z"
   },
   {
    "duration": 235,
    "start_time": "2022-02-07T16:02:20.761Z"
   },
   {
    "duration": 7,
    "start_time": "2022-02-07T16:02:20.999Z"
   },
   {
    "duration": 23,
    "start_time": "2022-02-07T16:02:21.008Z"
   },
   {
    "duration": 134,
    "start_time": "2022-02-07T16:02:21.033Z"
   },
   {
    "duration": 125,
    "start_time": "2022-02-08T02:34:20.108Z"
   },
   {
    "duration": 420,
    "start_time": "2022-02-08T02:34:30.270Z"
   },
   {
    "duration": 1139,
    "start_time": "2022-02-08T02:34:36.249Z"
   },
   {
    "duration": 633,
    "start_time": "2022-02-08T02:34:39.776Z"
   },
   {
    "duration": 17,
    "start_time": "2022-02-08T02:34:40.411Z"
   },
   {
    "duration": 621,
    "start_time": "2022-02-08T02:35:58.856Z"
   },
   {
    "duration": 661,
    "start_time": "2022-02-08T02:36:50.417Z"
   },
   {
    "duration": 592,
    "start_time": "2022-02-08T02:37:47.036Z"
   },
   {
    "duration": 17,
    "start_time": "2022-02-08T02:37:47.630Z"
   },
   {
    "duration": 16,
    "start_time": "2022-02-08T02:37:47.649Z"
   },
   {
    "duration": 15,
    "start_time": "2022-02-08T02:37:47.667Z"
   },
   {
    "duration": 6,
    "start_time": "2022-02-08T02:37:47.683Z"
   },
   {
    "duration": 41,
    "start_time": "2022-02-08T02:37:47.691Z"
   },
   {
    "duration": 150,
    "start_time": "2022-02-08T02:37:47.733Z"
   },
   {
    "duration": 54,
    "start_time": "2022-02-08T02:37:47.884Z"
   },
   {
    "duration": 24,
    "start_time": "2022-02-08T02:37:47.940Z"
   },
   {
    "duration": 12,
    "start_time": "2022-02-08T02:37:47.966Z"
   },
   {
    "duration": 19,
    "start_time": "2022-02-08T02:37:47.979Z"
   },
   {
    "duration": 28,
    "start_time": "2022-02-08T02:37:47.999Z"
   },
   {
    "duration": 16,
    "start_time": "2022-02-08T02:37:48.028Z"
   },
   {
    "duration": 9,
    "start_time": "2022-02-08T02:37:48.046Z"
   },
   {
    "duration": 6,
    "start_time": "2022-02-08T02:37:48.057Z"
   },
   {
    "duration": 8,
    "start_time": "2022-02-08T02:37:48.064Z"
   },
   {
    "duration": 122,
    "start_time": "2022-02-08T02:38:42.551Z"
   },
   {
    "duration": 452,
    "start_time": "2022-02-08T02:39:02.552Z"
   },
   {
    "duration": 105,
    "start_time": "2022-02-08T02:39:14.317Z"
   },
   {
    "duration": 113,
    "start_time": "2022-02-08T02:39:19.646Z"
   },
   {
    "duration": 100,
    "start_time": "2022-02-08T02:39:26.373Z"
   },
   {
    "duration": 114,
    "start_time": "2022-02-08T02:39:37.822Z"
   },
   {
    "duration": 580,
    "start_time": "2022-02-08T02:39:43.524Z"
   },
   {
    "duration": 23,
    "start_time": "2022-02-08T02:39:44.106Z"
   },
   {
    "duration": 15,
    "start_time": "2022-02-08T02:39:44.131Z"
   },
   {
    "duration": 13,
    "start_time": "2022-02-08T02:39:44.147Z"
   },
   {
    "duration": 6,
    "start_time": "2022-02-08T02:39:44.162Z"
   },
   {
    "duration": 6,
    "start_time": "2022-02-08T02:39:44.169Z"
   },
   {
    "duration": 166,
    "start_time": "2022-02-08T02:39:44.176Z"
   },
   {
    "duration": 38,
    "start_time": "2022-02-08T02:39:44.344Z"
   },
   {
    "duration": 45,
    "start_time": "2022-02-08T02:39:44.385Z"
   },
   {
    "duration": 12,
    "start_time": "2022-02-08T02:39:44.431Z"
   },
   {
    "duration": 18,
    "start_time": "2022-02-08T02:39:44.445Z"
   },
   {
    "duration": 10,
    "start_time": "2022-02-08T02:39:44.465Z"
   },
   {
    "duration": 17,
    "start_time": "2022-02-08T02:39:44.476Z"
   },
   {
    "duration": 9,
    "start_time": "2022-02-08T02:39:44.494Z"
   },
   {
    "duration": 6,
    "start_time": "2022-02-08T02:39:44.527Z"
   },
   {
    "duration": 10,
    "start_time": "2022-02-08T02:39:44.534Z"
   },
   {
    "duration": 173,
    "start_time": "2022-02-08T02:39:44.546Z"
   },
   {
    "duration": 114,
    "start_time": "2022-02-08T02:39:44.721Z"
   },
   {
    "duration": 101,
    "start_time": "2022-02-08T02:39:46.462Z"
   },
   {
    "duration": 552,
    "start_time": "2022-02-08T02:39:55.686Z"
   },
   {
    "duration": 473,
    "start_time": "2022-02-08T02:40:01.928Z"
   },
   {
    "duration": 456,
    "start_time": "2022-02-08T03:23:38.922Z"
   },
   {
    "duration": 353,
    "start_time": "2022-02-08T03:23:45.018Z"
   },
   {
    "duration": 354,
    "start_time": "2022-02-08T03:24:27.098Z"
   },
   {
    "duration": 410,
    "start_time": "2022-02-08T03:24:36.670Z"
   },
   {
    "duration": 745,
    "start_time": "2022-02-08T03:24:57.063Z"
   },
   {
    "duration": 680,
    "start_time": "2022-02-08T03:28:55.995Z"
   },
   {
    "duration": 542,
    "start_time": "2022-02-08T03:30:13.562Z"
   },
   {
    "duration": 400,
    "start_time": "2022-02-08T03:30:20.058Z"
   },
   {
    "duration": 419,
    "start_time": "2022-02-08T03:30:25.474Z"
   },
   {
    "duration": 956,
    "start_time": "2022-02-08T03:31:55.931Z"
   },
   {
    "duration": 346,
    "start_time": "2022-02-08T03:32:03.771Z"
   },
   {
    "duration": 347,
    "start_time": "2022-02-08T03:32:13.435Z"
   },
   {
    "duration": 735,
    "start_time": "2022-02-08T03:32:42.809Z"
   },
   {
    "duration": 350,
    "start_time": "2022-02-08T03:32:48.563Z"
   },
   {
    "duration": 214,
    "start_time": "2022-02-08T03:32:54.011Z"
   },
   {
    "duration": 441,
    "start_time": "2022-02-08T03:32:58.699Z"
   },
   {
    "duration": 434,
    "start_time": "2022-02-08T03:33:07.162Z"
   },
   {
    "duration": 459,
    "start_time": "2022-02-08T03:33:15.868Z"
   },
   {
    "duration": 438,
    "start_time": "2022-02-08T03:35:34.676Z"
   },
   {
    "duration": 434,
    "start_time": "2022-02-08T03:35:37.388Z"
   },
   {
    "duration": 523,
    "start_time": "2022-02-08T03:35:44.826Z"
   },
   {
    "duration": 897,
    "start_time": "2022-02-08T03:36:00.787Z"
   },
   {
    "duration": 741,
    "start_time": "2022-02-08T03:36:11.890Z"
   },
   {
    "duration": 425,
    "start_time": "2022-02-08T03:36:17.875Z"
   },
   {
    "duration": 667,
    "start_time": "2022-02-08T03:40:36.802Z"
   },
   {
    "duration": 18,
    "start_time": "2022-02-08T03:40:37.470Z"
   },
   {
    "duration": 15,
    "start_time": "2022-02-08T03:40:37.490Z"
   },
   {
    "duration": 21,
    "start_time": "2022-02-08T03:40:37.506Z"
   },
   {
    "duration": 6,
    "start_time": "2022-02-08T03:40:37.528Z"
   },
   {
    "duration": 7,
    "start_time": "2022-02-08T03:40:37.535Z"
   },
   {
    "duration": 153,
    "start_time": "2022-02-08T03:40:37.544Z"
   },
   {
    "duration": 53,
    "start_time": "2022-02-08T03:40:37.698Z"
   },
   {
    "duration": 24,
    "start_time": "2022-02-08T03:40:37.753Z"
   },
   {
    "duration": 12,
    "start_time": "2022-02-08T03:40:37.779Z"
   },
   {
    "duration": 39,
    "start_time": "2022-02-08T03:40:37.792Z"
   },
   {
    "duration": 10,
    "start_time": "2022-02-08T03:40:37.833Z"
   },
   {
    "duration": 16,
    "start_time": "2022-02-08T03:40:37.844Z"
   },
   {
    "duration": 9,
    "start_time": "2022-02-08T03:40:37.862Z"
   },
   {
    "duration": 6,
    "start_time": "2022-02-08T03:40:37.872Z"
   },
   {
    "duration": 11,
    "start_time": "2022-02-08T03:40:37.879Z"
   },
   {
    "duration": 193,
    "start_time": "2022-02-08T03:40:37.891Z"
   },
   {
    "duration": 447,
    "start_time": "2022-02-08T03:40:38.085Z"
   },
   {
    "duration": 14,
    "start_time": "2022-02-08T03:40:38.533Z"
   },
   {
    "duration": 321,
    "start_time": "2022-02-08T03:40:38.549Z"
   },
   {
    "duration": 183,
    "start_time": "2022-02-08T03:40:38.871Z"
   },
   {
    "duration": 13,
    "start_time": "2022-02-08T03:40:39.056Z"
   },
   {
    "duration": 235,
    "start_time": "2022-02-08T03:40:39.071Z"
   },
   {
    "duration": 20,
    "start_time": "2022-02-08T03:40:45.419Z"
   },
   {
    "duration": 19,
    "start_time": "2022-02-08T03:40:51.132Z"
   },
   {
    "duration": 25,
    "start_time": "2022-02-08T03:41:07.170Z"
   },
   {
    "duration": 320,
    "start_time": "2022-02-08T03:41:32.153Z"
   },
   {
    "duration": 318,
    "start_time": "2022-02-08T03:41:46.556Z"
   },
   {
    "duration": 33,
    "start_time": "2022-02-08T03:42:24.203Z"
   },
   {
    "duration": 36,
    "start_time": "2022-02-08T03:42:39.571Z"
   },
   {
    "duration": 35,
    "start_time": "2022-02-08T03:42:54.934Z"
   },
   {
    "duration": 598,
    "start_time": "2022-02-08T03:43:12.796Z"
   },
   {
    "duration": 19,
    "start_time": "2022-02-08T03:43:13.395Z"
   },
   {
    "duration": 16,
    "start_time": "2022-02-08T03:43:13.416Z"
   },
   {
    "duration": 13,
    "start_time": "2022-02-08T03:43:13.434Z"
   },
   {
    "duration": 5,
    "start_time": "2022-02-08T03:43:13.449Z"
   },
   {
    "duration": 7,
    "start_time": "2022-02-08T03:43:13.456Z"
   },
   {
    "duration": 150,
    "start_time": "2022-02-08T03:43:13.464Z"
   },
   {
    "duration": 46,
    "start_time": "2022-02-08T03:43:13.616Z"
   },
   {
    "duration": 26,
    "start_time": "2022-02-08T03:43:13.664Z"
   },
   {
    "duration": 12,
    "start_time": "2022-02-08T03:43:13.692Z"
   },
   {
    "duration": 37,
    "start_time": "2022-02-08T03:43:13.706Z"
   },
   {
    "duration": 11,
    "start_time": "2022-02-08T03:43:13.744Z"
   },
   {
    "duration": 16,
    "start_time": "2022-02-08T03:43:13.756Z"
   },
   {
    "duration": 9,
    "start_time": "2022-02-08T03:43:13.774Z"
   },
   {
    "duration": 6,
    "start_time": "2022-02-08T03:43:13.784Z"
   },
   {
    "duration": 7,
    "start_time": "2022-02-08T03:43:13.791Z"
   },
   {
    "duration": 196,
    "start_time": "2022-02-08T03:43:13.799Z"
   },
   {
    "duration": 439,
    "start_time": "2022-02-08T03:43:13.997Z"
   },
   {
    "duration": 13,
    "start_time": "2022-02-08T03:43:14.437Z"
   },
   {
    "duration": 223,
    "start_time": "2022-02-08T03:43:14.452Z"
   },
   {
    "duration": 181,
    "start_time": "2022-02-08T03:43:14.676Z"
   },
   {
    "duration": 12,
    "start_time": "2022-02-08T03:43:14.858Z"
   },
   {
    "duration": 226,
    "start_time": "2022-02-08T03:43:14.871Z"
   },
   {
    "duration": 8,
    "start_time": "2022-02-08T03:43:27.882Z"
   },
   {
    "duration": 12,
    "start_time": "2022-02-08T03:43:41.076Z"
   },
   {
    "duration": 27,
    "start_time": "2022-02-08T03:43:48.786Z"
   },
   {
    "duration": 35,
    "start_time": "2022-02-08T03:44:08.395Z"
   },
   {
    "duration": 363,
    "start_time": "2022-02-08T03:49:39.900Z"
   },
   {
    "duration": 28,
    "start_time": "2022-02-08T03:50:07.195Z"
   },
   {
    "duration": 325,
    "start_time": "2022-02-08T03:50:29.317Z"
   },
   {
    "duration": 4,
    "start_time": "2022-02-08T03:50:40.964Z"
   },
   {
    "duration": 10,
    "start_time": "2022-02-08T03:50:46.388Z"
   },
   {
    "duration": 25,
    "start_time": "2022-02-08T03:51:00.900Z"
   },
   {
    "duration": 34,
    "start_time": "2022-02-08T03:51:07.516Z"
   },
   {
    "duration": 595,
    "start_time": "2022-02-08T03:53:05.156Z"
   },
   {
    "duration": 17,
    "start_time": "2022-02-08T03:53:05.753Z"
   },
   {
    "duration": 15,
    "start_time": "2022-02-08T03:53:05.772Z"
   },
   {
    "duration": 12,
    "start_time": "2022-02-08T03:53:05.789Z"
   },
   {
    "duration": 28,
    "start_time": "2022-02-08T03:53:05.803Z"
   },
   {
    "duration": 8,
    "start_time": "2022-02-08T03:53:05.832Z"
   },
   {
    "duration": 166,
    "start_time": "2022-02-08T03:53:05.841Z"
   },
   {
    "duration": 77,
    "start_time": "2022-02-08T03:53:06.009Z"
   },
   {
    "duration": 51,
    "start_time": "2022-02-08T03:53:06.089Z"
   },
   {
    "duration": 20,
    "start_time": "2022-02-08T03:53:06.142Z"
   },
   {
    "duration": 29,
    "start_time": "2022-02-08T03:53:06.163Z"
   },
   {
    "duration": 17,
    "start_time": "2022-02-08T03:53:06.193Z"
   },
   {
    "duration": 19,
    "start_time": "2022-02-08T03:53:06.227Z"
   },
   {
    "duration": 9,
    "start_time": "2022-02-08T03:53:06.248Z"
   },
   {
    "duration": 5,
    "start_time": "2022-02-08T03:53:06.259Z"
   },
   {
    "duration": 8,
    "start_time": "2022-02-08T03:53:06.265Z"
   },
   {
    "duration": 181,
    "start_time": "2022-02-08T03:53:06.275Z"
   },
   {
    "duration": 532,
    "start_time": "2022-02-08T03:53:06.458Z"
   },
   {
    "duration": 14,
    "start_time": "2022-02-08T03:53:06.992Z"
   },
   {
    "duration": 238,
    "start_time": "2022-02-08T03:53:07.007Z"
   },
   {
    "duration": 200,
    "start_time": "2022-02-08T03:53:07.247Z"
   },
   {
    "duration": 12,
    "start_time": "2022-02-08T03:53:07.448Z"
   },
   {
    "duration": 225,
    "start_time": "2022-02-08T03:53:07.461Z"
   },
   {
    "duration": 94,
    "start_time": "2022-02-08T03:53:42.078Z"
   },
   {
    "duration": 18,
    "start_time": "2022-02-08T03:53:45.578Z"
   },
   {
    "duration": 12,
    "start_time": "2022-02-08T05:02:01.009Z"
   },
   {
    "duration": 11,
    "start_time": "2022-02-08T05:02:10.143Z"
   },
   {
    "duration": 6,
    "start_time": "2022-02-08T05:02:16.639Z"
   },
   {
    "duration": 7,
    "start_time": "2022-02-08T05:02:23.079Z"
   },
   {
    "duration": 215,
    "start_time": "2022-02-08T05:03:58.953Z"
   },
   {
    "duration": 205,
    "start_time": "2022-02-08T05:04:03.609Z"
   },
   {
    "duration": 168,
    "start_time": "2022-02-08T05:04:15.549Z"
   },
   {
    "duration": 206,
    "start_time": "2022-02-08T05:04:21.839Z"
   },
   {
    "duration": 94,
    "start_time": "2022-02-08T05:07:34.409Z"
   },
   {
    "duration": 87,
    "start_time": "2022-02-08T05:07:51.731Z"
   },
   {
    "duration": 465,
    "start_time": "2022-02-08T05:08:38.154Z"
   },
   {
    "duration": 646,
    "start_time": "2022-02-08T05:09:43.887Z"
   },
   {
    "duration": 161,
    "start_time": "2022-02-08T05:10:00.236Z"
   },
   {
    "duration": 159,
    "start_time": "2022-02-08T05:11:09.225Z"
   },
   {
    "duration": 657,
    "start_time": "2022-02-08T05:13:31.451Z"
   },
   {
    "duration": 18,
    "start_time": "2022-02-08T05:13:32.109Z"
   },
   {
    "duration": 14,
    "start_time": "2022-02-08T05:13:32.129Z"
   },
   {
    "duration": 12,
    "start_time": "2022-02-08T05:13:32.145Z"
   },
   {
    "duration": 5,
    "start_time": "2022-02-08T05:13:32.159Z"
   },
   {
    "duration": 8,
    "start_time": "2022-02-08T05:13:32.165Z"
   },
   {
    "duration": 146,
    "start_time": "2022-02-08T05:13:32.174Z"
   },
   {
    "duration": 39,
    "start_time": "2022-02-08T05:13:32.327Z"
   },
   {
    "duration": 25,
    "start_time": "2022-02-08T05:13:32.368Z"
   },
   {
    "duration": 33,
    "start_time": "2022-02-08T05:13:32.394Z"
   },
   {
    "duration": 19,
    "start_time": "2022-02-08T05:13:32.428Z"
   },
   {
    "duration": 10,
    "start_time": "2022-02-08T05:13:32.449Z"
   },
   {
    "duration": 16,
    "start_time": "2022-02-08T05:13:32.461Z"
   },
   {
    "duration": 9,
    "start_time": "2022-02-08T05:13:32.479Z"
   },
   {
    "duration": 6,
    "start_time": "2022-02-08T05:13:32.489Z"
   },
   {
    "duration": 34,
    "start_time": "2022-02-08T05:13:32.496Z"
   },
   {
    "duration": 177,
    "start_time": "2022-02-08T05:13:32.532Z"
   },
   {
    "duration": 440,
    "start_time": "2022-02-08T05:13:32.711Z"
   },
   {
    "duration": 13,
    "start_time": "2022-02-08T05:13:33.153Z"
   },
   {
    "duration": 328,
    "start_time": "2022-02-08T05:13:33.168Z"
   },
   {
    "duration": 177,
    "start_time": "2022-02-08T05:13:33.498Z"
   },
   {
    "duration": 12,
    "start_time": "2022-02-08T05:13:33.676Z"
   },
   {
    "duration": 224,
    "start_time": "2022-02-08T05:13:33.690Z"
   },
   {
    "duration": 2,
    "start_time": "2022-02-08T05:13:33.916Z"
   },
   {
    "duration": 105,
    "start_time": "2022-02-08T05:13:33.927Z"
   },
   {
    "duration": 18,
    "start_time": "2022-02-08T05:13:34.033Z"
   },
   {
    "duration": 4,
    "start_time": "2022-02-08T05:13:35.978Z"
   },
   {
    "duration": 4,
    "start_time": "2022-02-08T05:13:48.458Z"
   },
   {
    "duration": 4,
    "start_time": "2022-02-08T05:14:03.378Z"
   },
   {
    "duration": 4,
    "start_time": "2022-02-08T05:14:11.506Z"
   },
   {
    "duration": 589,
    "start_time": "2022-02-08T05:14:13.544Z"
   },
   {
    "duration": 20,
    "start_time": "2022-02-08T05:14:14.135Z"
   },
   {
    "duration": 15,
    "start_time": "2022-02-08T05:14:14.157Z"
   },
   {
    "duration": 13,
    "start_time": "2022-02-08T05:14:14.174Z"
   },
   {
    "duration": 5,
    "start_time": "2022-02-08T05:14:14.189Z"
   },
   {
    "duration": 30,
    "start_time": "2022-02-08T05:14:14.196Z"
   },
   {
    "duration": 169,
    "start_time": "2022-02-08T05:14:14.228Z"
   },
   {
    "duration": 53,
    "start_time": "2022-02-08T05:14:14.399Z"
   },
   {
    "duration": 25,
    "start_time": "2022-02-08T05:14:14.455Z"
   },
   {
    "duration": 14,
    "start_time": "2022-02-08T05:14:14.482Z"
   },
   {
    "duration": 41,
    "start_time": "2022-02-08T05:14:14.498Z"
   },
   {
    "duration": 12,
    "start_time": "2022-02-08T05:14:14.540Z"
   },
   {
    "duration": 16,
    "start_time": "2022-02-08T05:14:14.554Z"
   },
   {
    "duration": 9,
    "start_time": "2022-02-08T05:14:14.572Z"
   },
   {
    "duration": 6,
    "start_time": "2022-02-08T05:14:14.583Z"
   },
   {
    "duration": 10,
    "start_time": "2022-02-08T05:14:14.591Z"
   },
   {
    "duration": 189,
    "start_time": "2022-02-08T05:14:14.602Z"
   },
   {
    "duration": 456,
    "start_time": "2022-02-08T05:14:14.792Z"
   },
   {
    "duration": 14,
    "start_time": "2022-02-08T05:14:15.250Z"
   },
   {
    "duration": 223,
    "start_time": "2022-02-08T05:14:15.266Z"
   },
   {
    "duration": 175,
    "start_time": "2022-02-08T05:14:15.490Z"
   },
   {
    "duration": 12,
    "start_time": "2022-02-08T05:14:15.666Z"
   },
   {
    "duration": 229,
    "start_time": "2022-02-08T05:14:15.679Z"
   },
   {
    "duration": 2,
    "start_time": "2022-02-08T05:14:15.910Z"
   },
   {
    "duration": 115,
    "start_time": "2022-02-08T05:14:15.913Z"
   },
   {
    "duration": 18,
    "start_time": "2022-02-08T05:14:16.030Z"
   },
   {
    "duration": 4,
    "start_time": "2022-02-08T05:14:16.050Z"
   },
   {
    "duration": 5,
    "start_time": "2022-02-08T05:14:19.234Z"
   },
   {
    "duration": 33,
    "start_time": "2022-02-08T05:14:32.736Z"
   },
   {
    "duration": 4,
    "start_time": "2022-02-08T05:15:06.761Z"
   },
   {
    "duration": 24,
    "start_time": "2022-02-08T05:17:45.561Z"
   },
   {
    "duration": 606,
    "start_time": "2022-02-08T05:17:55.459Z"
   },
   {
    "duration": 18,
    "start_time": "2022-02-08T05:17:56.067Z"
   },
   {
    "duration": 14,
    "start_time": "2022-02-08T05:17:56.087Z"
   },
   {
    "duration": 26,
    "start_time": "2022-02-08T05:17:56.103Z"
   },
   {
    "duration": 5,
    "start_time": "2022-02-08T05:17:56.131Z"
   },
   {
    "duration": 7,
    "start_time": "2022-02-08T05:17:56.138Z"
   },
   {
    "duration": 151,
    "start_time": "2022-02-08T05:17:56.147Z"
   },
   {
    "duration": 51,
    "start_time": "2022-02-08T05:17:56.300Z"
   },
   {
    "duration": 25,
    "start_time": "2022-02-08T05:17:56.354Z"
   },
   {
    "duration": 14,
    "start_time": "2022-02-08T05:17:56.381Z"
   },
   {
    "duration": 44,
    "start_time": "2022-02-08T05:17:56.397Z"
   },
   {
    "duration": 13,
    "start_time": "2022-02-08T05:17:56.442Z"
   },
   {
    "duration": 18,
    "start_time": "2022-02-08T05:17:56.456Z"
   },
   {
    "duration": 11,
    "start_time": "2022-02-08T05:17:56.475Z"
   },
   {
    "duration": 6,
    "start_time": "2022-02-08T05:17:56.488Z"
   },
   {
    "duration": 34,
    "start_time": "2022-02-08T05:17:56.496Z"
   },
   {
    "duration": 190,
    "start_time": "2022-02-08T05:17:56.532Z"
   },
   {
    "duration": 597,
    "start_time": "2022-02-08T05:17:56.724Z"
   },
   {
    "duration": 16,
    "start_time": "2022-02-08T05:17:57.323Z"
   },
   {
    "duration": 235,
    "start_time": "2022-02-08T05:17:57.341Z"
   },
   {
    "duration": 199,
    "start_time": "2022-02-08T05:17:57.578Z"
   },
   {
    "duration": 11,
    "start_time": "2022-02-08T05:17:57.779Z"
   },
   {
    "duration": 224,
    "start_time": "2022-02-08T05:17:57.792Z"
   },
   {
    "duration": 2,
    "start_time": "2022-02-08T05:17:58.018Z"
   },
   {
    "duration": 116,
    "start_time": "2022-02-08T05:17:58.021Z"
   },
   {
    "duration": 18,
    "start_time": "2022-02-08T05:17:58.139Z"
   },
   {
    "duration": 23,
    "start_time": "2022-02-08T05:18:01.153Z"
   },
   {
    "duration": 5,
    "start_time": "2022-02-08T05:18:47.386Z"
   },
   {
    "duration": 26,
    "start_time": "2022-02-08T05:18:47.922Z"
   },
   {
    "duration": 596,
    "start_time": "2022-02-08T05:19:03.435Z"
   },
   {
    "duration": 21,
    "start_time": "2022-02-08T05:19:04.032Z"
   },
   {
    "duration": 16,
    "start_time": "2022-02-08T05:19:04.054Z"
   },
   {
    "duration": 13,
    "start_time": "2022-02-08T05:19:04.072Z"
   },
   {
    "duration": 6,
    "start_time": "2022-02-08T05:19:04.086Z"
   },
   {
    "duration": 8,
    "start_time": "2022-02-08T05:19:04.093Z"
   },
   {
    "duration": 222,
    "start_time": "2022-02-08T05:19:04.128Z"
   },
   {
    "duration": 47,
    "start_time": "2022-02-08T05:19:04.351Z"
   },
   {
    "duration": 37,
    "start_time": "2022-02-08T05:19:04.400Z"
   },
   {
    "duration": 14,
    "start_time": "2022-02-08T05:19:04.439Z"
   },
   {
    "duration": 19,
    "start_time": "2022-02-08T05:19:04.454Z"
   },
   {
    "duration": 11,
    "start_time": "2022-02-08T05:19:04.474Z"
   },
   {
    "duration": 16,
    "start_time": "2022-02-08T05:19:04.487Z"
   },
   {
    "duration": 31,
    "start_time": "2022-02-08T05:19:04.504Z"
   },
   {
    "duration": 5,
    "start_time": "2022-02-08T05:19:04.536Z"
   },
   {
    "duration": 7,
    "start_time": "2022-02-08T05:19:04.543Z"
   },
   {
    "duration": 188,
    "start_time": "2022-02-08T05:19:04.551Z"
   },
   {
    "duration": 467,
    "start_time": "2022-02-08T05:19:04.741Z"
   },
   {
    "duration": 22,
    "start_time": "2022-02-08T05:19:05.210Z"
   },
   {
    "duration": 214,
    "start_time": "2022-02-08T05:19:05.233Z"
   },
   {
    "duration": 175,
    "start_time": "2022-02-08T05:19:05.449Z"
   },
   {
    "duration": 13,
    "start_time": "2022-02-08T05:19:05.625Z"
   },
   {
    "duration": 222,
    "start_time": "2022-02-08T05:19:05.639Z"
   },
   {
    "duration": 2,
    "start_time": "2022-02-08T05:19:05.862Z"
   },
   {
    "duration": 110,
    "start_time": "2022-02-08T05:19:05.866Z"
   },
   {
    "duration": 20,
    "start_time": "2022-02-08T05:19:05.977Z"
   },
   {
    "duration": 4,
    "start_time": "2022-02-08T05:19:21.075Z"
   },
   {
    "duration": 16,
    "start_time": "2022-02-08T05:19:21.761Z"
   },
   {
    "duration": 36,
    "start_time": "2022-02-08T05:19:25.294Z"
   },
   {
    "duration": 4,
    "start_time": "2022-02-08T05:19:39.330Z"
   },
   {
    "duration": 6,
    "start_time": "2022-02-08T05:19:39.697Z"
   },
   {
    "duration": 36,
    "start_time": "2022-02-08T05:19:40.132Z"
   },
   {
    "duration": 4,
    "start_time": "2022-02-08T05:22:17.043Z"
   },
   {
    "duration": 30,
    "start_time": "2022-02-08T05:22:17.452Z"
   },
   {
    "duration": 7,
    "start_time": "2022-02-08T05:22:27.831Z"
   },
   {
    "duration": 36,
    "start_time": "2022-02-08T05:22:33.740Z"
   },
   {
    "duration": 4,
    "start_time": "2022-02-08T05:23:27.122Z"
   },
   {
    "duration": 6,
    "start_time": "2022-02-08T05:23:27.571Z"
   },
   {
    "duration": 35,
    "start_time": "2022-02-08T05:23:28.732Z"
   },
   {
    "duration": 4,
    "start_time": "2022-02-08T05:23:44.968Z"
   },
   {
    "duration": 5,
    "start_time": "2022-02-08T05:23:45.377Z"
   },
   {
    "duration": 35,
    "start_time": "2022-02-08T05:23:46.261Z"
   },
   {
    "duration": 4,
    "start_time": "2022-02-08T05:23:52.345Z"
   },
   {
    "duration": 7,
    "start_time": "2022-02-08T05:23:52.907Z"
   },
   {
    "duration": 36,
    "start_time": "2022-02-08T05:23:53.867Z"
   },
   {
    "duration": 4,
    "start_time": "2022-02-08T05:24:23.459Z"
   },
   {
    "duration": 8,
    "start_time": "2022-02-08T05:24:24.129Z"
   },
   {
    "duration": 34,
    "start_time": "2022-02-08T05:24:34.228Z"
   },
   {
    "duration": 603,
    "start_time": "2022-02-08T05:26:30.896Z"
   },
   {
    "duration": 18,
    "start_time": "2022-02-08T05:26:31.501Z"
   },
   {
    "duration": 15,
    "start_time": "2022-02-08T05:26:31.521Z"
   },
   {
    "duration": 13,
    "start_time": "2022-02-08T05:26:31.538Z"
   },
   {
    "duration": 7,
    "start_time": "2022-02-08T05:26:31.552Z"
   },
   {
    "duration": 7,
    "start_time": "2022-02-08T05:26:31.560Z"
   },
   {
    "duration": 160,
    "start_time": "2022-02-08T05:26:31.569Z"
   },
   {
    "duration": 42,
    "start_time": "2022-02-08T05:26:31.731Z"
   },
   {
    "duration": 26,
    "start_time": "2022-02-08T05:26:31.775Z"
   },
   {
    "duration": 36,
    "start_time": "2022-02-08T05:26:31.803Z"
   },
   {
    "duration": 20,
    "start_time": "2022-02-08T05:26:31.840Z"
   },
   {
    "duration": 12,
    "start_time": "2022-02-08T05:26:31.861Z"
   },
   {
    "duration": 17,
    "start_time": "2022-02-08T05:26:31.874Z"
   },
   {
    "duration": 35,
    "start_time": "2022-02-08T05:26:31.892Z"
   },
   {
    "duration": 6,
    "start_time": "2022-02-08T05:26:31.929Z"
   },
   {
    "duration": 8,
    "start_time": "2022-02-08T05:26:31.937Z"
   },
   {
    "duration": 197,
    "start_time": "2022-02-08T05:26:31.947Z"
   },
   {
    "duration": 583,
    "start_time": "2022-02-08T05:26:32.146Z"
   },
   {
    "duration": 14,
    "start_time": "2022-02-08T05:26:32.730Z"
   },
   {
    "duration": 222,
    "start_time": "2022-02-08T05:26:32.746Z"
   },
   {
    "duration": 210,
    "start_time": "2022-02-08T05:26:32.970Z"
   },
   {
    "duration": 13,
    "start_time": "2022-02-08T05:26:33.181Z"
   },
   {
    "duration": 225,
    "start_time": "2022-02-08T05:26:33.195Z"
   },
   {
    "duration": 6,
    "start_time": "2022-02-08T05:26:33.421Z"
   },
   {
    "duration": 107,
    "start_time": "2022-02-08T05:26:33.429Z"
   },
   {
    "duration": 19,
    "start_time": "2022-02-08T05:26:33.537Z"
   },
   {
    "duration": 4,
    "start_time": "2022-02-08T05:26:33.558Z"
   },
   {
    "duration": 9,
    "start_time": "2022-02-08T05:26:33.564Z"
   },
   {
    "duration": 1216,
    "start_time": "2022-02-08T05:28:58.283Z"
   },
   {
    "duration": 583,
    "start_time": "2022-02-08T05:30:30.462Z"
   },
   {
    "duration": 295,
    "start_time": "2022-02-08T05:31:38.244Z"
   },
   {
    "duration": 354,
    "start_time": "2022-02-08T05:32:00.763Z"
   },
   {
    "duration": 320,
    "start_time": "2022-02-08T05:32:18.572Z"
   },
   {
    "duration": 603,
    "start_time": "2022-02-08T05:35:14.243Z"
   },
   {
    "duration": 298,
    "start_time": "2022-02-08T05:39:17.675Z"
   },
   {
    "duration": 16,
    "start_time": "2022-02-08T05:39:58.940Z"
   },
   {
    "duration": 761,
    "start_time": "2022-02-08T05:42:21.468Z"
   },
   {
    "duration": 1048,
    "start_time": "2022-02-08T05:42:34.484Z"
   },
   {
    "duration": 1347,
    "start_time": "2022-02-08T05:44:15.117Z"
   },
   {
    "duration": 1808,
    "start_time": "2022-02-08T09:13:48.621Z"
   },
   {
    "duration": 34,
    "start_time": "2022-02-08T09:13:50.432Z"
   },
   {
    "duration": 23,
    "start_time": "2022-02-08T09:13:50.469Z"
   },
   {
    "duration": 18,
    "start_time": "2022-02-08T09:13:50.494Z"
   },
   {
    "duration": 47,
    "start_time": "2022-02-08T09:13:50.515Z"
   },
   {
    "duration": 13,
    "start_time": "2022-02-08T09:13:50.565Z"
   },
   {
    "duration": 255,
    "start_time": "2022-02-08T09:13:50.581Z"
   },
   {
    "duration": 73,
    "start_time": "2022-02-08T09:13:50.840Z"
   },
   {
    "duration": 55,
    "start_time": "2022-02-08T09:13:50.916Z"
   },
   {
    "duration": 21,
    "start_time": "2022-02-08T09:13:50.974Z"
   },
   {
    "duration": 68,
    "start_time": "2022-02-08T09:13:50.998Z"
   },
   {
    "duration": 23,
    "start_time": "2022-02-08T09:13:51.069Z"
   },
   {
    "duration": 25,
    "start_time": "2022-02-08T09:13:51.095Z"
   },
   {
    "duration": 38,
    "start_time": "2022-02-08T09:13:51.122Z"
   },
   {
    "duration": 9,
    "start_time": "2022-02-08T09:13:51.163Z"
   },
   {
    "duration": 11,
    "start_time": "2022-02-08T09:13:51.174Z"
   },
   {
    "duration": 345,
    "start_time": "2022-02-08T09:13:51.187Z"
   },
   {
    "duration": 969,
    "start_time": "2022-02-08T09:13:51.534Z"
   },
   {
    "duration": 20,
    "start_time": "2022-02-08T09:13:52.505Z"
   },
   {
    "duration": 449,
    "start_time": "2022-02-08T09:13:52.528Z"
   },
   {
    "duration": 312,
    "start_time": "2022-02-08T09:13:52.980Z"
   },
   {
    "duration": 16,
    "start_time": "2022-02-08T09:13:53.295Z"
   },
   {
    "duration": 414,
    "start_time": "2022-02-08T09:13:53.315Z"
   },
   {
    "duration": 3,
    "start_time": "2022-02-08T09:13:53.732Z"
   },
   {
    "duration": 173,
    "start_time": "2022-02-08T09:13:53.737Z"
   },
   {
    "duration": 46,
    "start_time": "2022-02-08T09:13:53.913Z"
   },
   {
    "duration": 6,
    "start_time": "2022-02-08T09:13:53.962Z"
   },
   {
    "duration": 19,
    "start_time": "2022-02-08T09:13:53.971Z"
   },
   {
    "duration": 466,
    "start_time": "2022-02-08T09:13:53.992Z"
   },
   {
    "duration": -605,
    "start_time": "2022-02-08T09:13:55.066Z"
   },
   {
    "duration": -608,
    "start_time": "2022-02-08T09:13:55.070Z"
   },
   {
    "duration": -612,
    "start_time": "2022-02-08T09:13:55.075Z"
   },
   {
    "duration": -617,
    "start_time": "2022-02-08T09:13:55.082Z"
   },
   {
    "duration": -628,
    "start_time": "2022-02-08T09:13:55.095Z"
   },
   {
    "duration": 3869,
    "start_time": "2022-02-08T09:14:28.451Z"
   },
   {
    "duration": 1565,
    "start_time": "2022-02-08T09:21:26.011Z"
   },
   {
    "duration": 3795,
    "start_time": "2022-02-08T09:21:36.307Z"
   },
   {
    "duration": 4450,
    "start_time": "2022-02-08T09:22:08.051Z"
   },
   {
    "duration": 3945,
    "start_time": "2022-02-08T09:22:34.268Z"
   },
   {
    "duration": 2092,
    "start_time": "2022-02-08T09:24:24.077Z"
   },
   {
    "duration": 4042,
    "start_time": "2022-02-08T09:24:45.548Z"
   },
   {
    "duration": 482,
    "start_time": "2022-02-08T09:26:57.875Z"
   },
   {
    "duration": 59,
    "start_time": "2022-02-08T10:32:25.943Z"
   },
   {
    "duration": 553,
    "start_time": "2022-02-08T10:32:49.066Z"
   },
   {
    "duration": 468,
    "start_time": "2022-02-08T10:33:43.691Z"
   },
   {
    "duration": 8,
    "start_time": "2022-02-08T10:39:18.439Z"
   },
   {
    "duration": 12,
    "start_time": "2022-02-08T10:39:44.821Z"
   },
   {
    "duration": 29,
    "start_time": "2022-02-08T10:40:10.170Z"
   },
   {
    "duration": 29,
    "start_time": "2022-02-08T10:40:21.257Z"
   },
   {
    "duration": 823,
    "start_time": "2022-02-08T11:12:48.945Z"
   },
   {
    "duration": 1255,
    "start_time": "2022-02-08T11:13:48.807Z"
   },
   {
    "duration": 754,
    "start_time": "2022-02-08T11:14:05.073Z"
   },
   {
    "duration": 791,
    "start_time": "2022-02-08T11:15:10.894Z"
   },
   {
    "duration": 888,
    "start_time": "2022-02-08T11:15:49.841Z"
   },
   {
    "duration": 930,
    "start_time": "2022-02-08T11:16:25.694Z"
   },
   {
    "duration": 1053,
    "start_time": "2022-02-08T11:17:03.776Z"
   },
   {
    "duration": 1046,
    "start_time": "2022-02-08T11:17:08.053Z"
   },
   {
    "duration": 1037,
    "start_time": "2022-02-08T11:17:19.091Z"
   },
   {
    "duration": 1174,
    "start_time": "2022-02-08T11:17:29.246Z"
   },
   {
    "duration": 965,
    "start_time": "2022-02-08T11:27:55.848Z"
   },
   {
    "duration": 1026,
    "start_time": "2022-02-08T11:28:26.096Z"
   },
   {
    "duration": 962,
    "start_time": "2022-02-08T11:28:41.131Z"
   },
   {
    "duration": 975,
    "start_time": "2022-02-08T11:29:52.721Z"
   },
   {
    "duration": 1047,
    "start_time": "2022-02-08T11:29:57.992Z"
   },
   {
    "duration": 1316,
    "start_time": "2022-02-08T11:30:00.493Z"
   },
   {
    "duration": 1149,
    "start_time": "2022-02-08T11:30:01.813Z"
   },
   {
    "duration": 1422,
    "start_time": "2022-02-08T11:30:03.023Z"
   },
   {
    "duration": 2927,
    "start_time": "2022-02-08T11:35:34.712Z"
   },
   {
    "duration": 45,
    "start_time": "2022-02-08T11:35:37.642Z"
   },
   {
    "duration": 29,
    "start_time": "2022-02-08T11:35:39.504Z"
   },
   {
    "duration": 1020,
    "start_time": "2022-02-08T11:35:40.496Z"
   },
   {
    "duration": 950,
    "start_time": "2022-02-08T11:35:41.519Z"
   },
   {
    "duration": 1175,
    "start_time": "2022-02-08T11:35:42.775Z"
   },
   {
    "duration": 14,
    "start_time": "2022-02-08T11:37:16.560Z"
   },
   {
    "duration": 11,
    "start_time": "2022-02-08T11:37:21.359Z"
   },
   {
    "duration": 53,
    "start_time": "2022-02-08T11:37:26.687Z"
   },
   {
    "duration": 37,
    "start_time": "2022-02-08T11:37:37.057Z"
   },
   {
    "duration": 3345,
    "start_time": "2022-02-08T11:37:44.073Z"
   },
   {
    "duration": 3105,
    "start_time": "2022-02-08T11:37:59.527Z"
   },
   {
    "duration": 13,
    "start_time": "2022-02-08T11:38:19.637Z"
   },
   {
    "duration": 11,
    "start_time": "2022-02-08T11:38:55.344Z"
   },
   {
    "duration": 11,
    "start_time": "2022-02-08T11:38:59.868Z"
   },
   {
    "duration": 18,
    "start_time": "2022-02-08T11:39:57.309Z"
   },
   {
    "duration": 17,
    "start_time": "2022-02-08T11:40:34.517Z"
   },
   {
    "duration": 18,
    "start_time": "2022-02-08T11:40:37.817Z"
   },
   {
    "duration": 1484,
    "start_time": "2022-02-08T12:32:11.222Z"
   },
   {
    "duration": 1210,
    "start_time": "2022-02-08T12:32:21.461Z"
   },
   {
    "duration": 837,
    "start_time": "2022-02-08T12:32:25.110Z"
   },
   {
    "duration": 808,
    "start_time": "2022-02-08T12:33:09.816Z"
   },
   {
    "duration": 28,
    "start_time": "2022-02-08T12:33:10.627Z"
   },
   {
    "duration": 22,
    "start_time": "2022-02-08T12:33:10.658Z"
   },
   {
    "duration": 18,
    "start_time": "2022-02-08T12:33:10.683Z"
   },
   {
    "duration": 8,
    "start_time": "2022-02-08T12:33:10.704Z"
   },
   {
    "duration": 44,
    "start_time": "2022-02-08T12:33:10.715Z"
   },
   {
    "duration": 249,
    "start_time": "2022-02-08T12:33:10.762Z"
   },
   {
    "duration": 96,
    "start_time": "2022-02-08T12:33:11.015Z"
   },
   {
    "duration": 78,
    "start_time": "2022-02-08T12:33:11.115Z"
   },
   {
    "duration": 29,
    "start_time": "2022-02-08T12:33:11.196Z"
   },
   {
    "duration": 64,
    "start_time": "2022-02-08T12:33:11.228Z"
   },
   {
    "duration": 25,
    "start_time": "2022-02-08T12:33:11.295Z"
   },
   {
    "duration": 63,
    "start_time": "2022-02-08T12:33:11.323Z"
   },
   {
    "duration": 21,
    "start_time": "2022-02-08T12:33:11.389Z"
   },
   {
    "duration": 12,
    "start_time": "2022-02-08T12:33:11.413Z"
   },
   {
    "duration": 40,
    "start_time": "2022-02-08T12:33:11.428Z"
   },
   {
    "duration": 331,
    "start_time": "2022-02-08T12:33:11.472Z"
   },
   {
    "duration": 948,
    "start_time": "2022-02-08T12:33:11.806Z"
   },
   {
    "duration": 19,
    "start_time": "2022-02-08T12:33:12.759Z"
   },
   {
    "duration": 615,
    "start_time": "2022-02-08T12:33:12.780Z"
   },
   {
    "duration": 764,
    "start_time": "2022-02-08T12:33:13.398Z"
   },
   {
    "duration": 16,
    "start_time": "2022-02-08T12:33:14.165Z"
   },
   {
    "duration": 429,
    "start_time": "2022-02-08T12:33:14.186Z"
   },
   {
    "duration": 3,
    "start_time": "2022-02-08T12:33:14.617Z"
   },
   {
    "duration": 177,
    "start_time": "2022-02-08T12:33:14.623Z"
   },
   {
    "duration": 30,
    "start_time": "2022-02-08T12:33:14.803Z"
   },
   {
    "duration": 6,
    "start_time": "2022-02-08T12:33:14.835Z"
   },
   {
    "duration": 28,
    "start_time": "2022-02-08T12:33:14.843Z"
   },
   {
    "duration": 14,
    "start_time": "2022-02-08T12:33:14.874Z"
   },
   {
    "duration": 70,
    "start_time": "2022-02-08T12:33:14.890Z"
   },
   {
    "duration": 30,
    "start_time": "2022-02-08T12:33:14.963Z"
   },
   {
    "duration": 1064,
    "start_time": "2022-02-08T12:33:14.995Z"
   },
   {
    "duration": 1414,
    "start_time": "2022-02-08T12:33:16.062Z"
   },
   {
    "duration": 1049,
    "start_time": "2022-02-08T12:33:17.479Z"
   },
   {
    "duration": 981,
    "start_time": "2022-02-08T12:33:18.531Z"
   },
   {
    "duration": 234,
    "start_time": "2022-02-08T12:33:19.514Z"
   },
   {
    "duration": 12,
    "start_time": "2022-02-08T12:33:19.750Z"
   },
   {
    "duration": 17,
    "start_time": "2022-02-08T12:33:19.765Z"
   },
   {
    "duration": 15,
    "start_time": "2022-02-08T12:33:19.785Z"
   },
   {
    "duration": 2193,
    "start_time": "2022-02-09T09:14:38.256Z"
   },
   {
    "duration": 26,
    "start_time": "2022-02-09T09:14:40.452Z"
   },
   {
    "duration": 21,
    "start_time": "2022-02-09T09:14:40.481Z"
   },
   {
    "duration": 20,
    "start_time": "2022-02-09T09:14:40.504Z"
   },
   {
    "duration": 35,
    "start_time": "2022-02-09T09:14:40.526Z"
   },
   {
    "duration": 13,
    "start_time": "2022-02-09T09:14:40.564Z"
   },
   {
    "duration": 262,
    "start_time": "2022-02-09T09:14:40.579Z"
   },
   {
    "duration": 66,
    "start_time": "2022-02-09T09:14:40.844Z"
   },
   {
    "duration": 57,
    "start_time": "2022-02-09T09:14:40.914Z"
   },
   {
    "duration": 27,
    "start_time": "2022-02-09T09:14:40.973Z"
   },
   {
    "duration": 57,
    "start_time": "2022-02-09T09:14:41.003Z"
   },
   {
    "duration": 19,
    "start_time": "2022-02-09T09:14:41.062Z"
   },
   {
    "duration": 27,
    "start_time": "2022-02-09T09:14:41.084Z"
   },
   {
    "duration": 50,
    "start_time": "2022-02-09T09:14:41.113Z"
   },
   {
    "duration": 10,
    "start_time": "2022-02-09T09:14:41.166Z"
   },
   {
    "duration": 12,
    "start_time": "2022-02-09T09:14:41.179Z"
   },
   {
    "duration": 364,
    "start_time": "2022-02-09T09:14:41.194Z"
   },
   {
    "duration": 825,
    "start_time": "2022-02-09T09:14:41.561Z"
   },
   {
    "duration": 506,
    "start_time": "2022-02-09T09:14:42.389Z"
   },
   {
    "duration": 913,
    "start_time": "2022-02-09T09:14:41.986Z"
   },
   {
    "duration": 913,
    "start_time": "2022-02-09T09:14:41.988Z"
   },
   {
    "duration": 911,
    "start_time": "2022-02-09T09:14:41.991Z"
   },
   {
    "duration": 911,
    "start_time": "2022-02-09T09:14:41.993Z"
   },
   {
    "duration": 910,
    "start_time": "2022-02-09T09:14:41.995Z"
   },
   {
    "duration": 909,
    "start_time": "2022-02-09T09:14:41.997Z"
   },
   {
    "duration": 909,
    "start_time": "2022-02-09T09:14:41.999Z"
   },
   {
    "duration": 908,
    "start_time": "2022-02-09T09:14:42.001Z"
   },
   {
    "duration": 908,
    "start_time": "2022-02-09T09:14:42.003Z"
   },
   {
    "duration": 908,
    "start_time": "2022-02-09T09:14:42.005Z"
   },
   {
    "duration": 908,
    "start_time": "2022-02-09T09:14:42.007Z"
   },
   {
    "duration": 908,
    "start_time": "2022-02-09T09:14:42.009Z"
   },
   {
    "duration": 904,
    "start_time": "2022-02-09T09:14:42.015Z"
   },
   {
    "duration": 902,
    "start_time": "2022-02-09T09:14:42.018Z"
   },
   {
    "duration": 898,
    "start_time": "2022-02-09T09:14:42.026Z"
   },
   {
    "duration": 894,
    "start_time": "2022-02-09T09:14:42.031Z"
   },
   {
    "duration": 894,
    "start_time": "2022-02-09T09:14:42.033Z"
   },
   {
    "duration": 895,
    "start_time": "2022-02-09T09:14:42.035Z"
   },
   {
    "duration": 893,
    "start_time": "2022-02-09T09:14:42.038Z"
   },
   {
    "duration": 919,
    "start_time": "2022-02-09T09:14:42.040Z"
   },
   {
    "duration": 917,
    "start_time": "2022-02-09T09:14:42.044Z"
   },
   {
    "duration": 837,
    "start_time": "2022-02-09T09:15:02.772Z"
   },
   {
    "duration": 1478,
    "start_time": "2022-02-09T09:15:32.095Z"
   },
   {
    "duration": 1084,
    "start_time": "2022-02-09T09:16:35.217Z"
   },
   {
    "duration": 1078,
    "start_time": "2022-02-09T09:16:49.803Z"
   },
   {
    "duration": 790,
    "start_time": "2022-02-09T09:16:53.233Z"
   },
   {
    "duration": 775,
    "start_time": "2022-02-09T09:17:19.767Z"
   },
   {
    "duration": 1287,
    "start_time": "2022-02-09T09:18:23.972Z"
   },
   {
    "duration": 698,
    "start_time": "2022-02-09T09:18:37.687Z"
   },
   {
    "duration": 640,
    "start_time": "2022-02-09T09:18:50.259Z"
   },
   {
    "duration": 1056,
    "start_time": "2022-02-09T09:19:16.715Z"
   },
   {
    "duration": 2591,
    "start_time": "2022-02-09T09:20:33.071Z"
   },
   {
    "duration": 661,
    "start_time": "2022-02-09T09:21:18.419Z"
   },
   {
    "duration": 779,
    "start_time": "2022-02-09T09:21:30.420Z"
   },
   {
    "duration": 648,
    "start_time": "2022-02-09T09:21:52.427Z"
   },
   {
    "duration": 680,
    "start_time": "2022-02-09T09:21:58.384Z"
   },
   {
    "duration": 711,
    "start_time": "2022-02-09T09:22:17.632Z"
   },
   {
    "duration": 718,
    "start_time": "2022-02-09T09:22:33.447Z"
   },
   {
    "duration": 899,
    "start_time": "2022-02-09T09:22:40.245Z"
   },
   {
    "duration": 814,
    "start_time": "2022-02-09T09:22:50.995Z"
   },
   {
    "duration": 827,
    "start_time": "2022-02-09T09:22:55.976Z"
   },
   {
    "duration": 836,
    "start_time": "2022-02-09T09:23:05.923Z"
   },
   {
    "duration": 797,
    "start_time": "2022-02-09T09:23:33.285Z"
   },
   {
    "duration": 825,
    "start_time": "2022-02-09T09:24:05.696Z"
   },
   {
    "duration": 1255,
    "start_time": "2022-02-09T09:24:14.930Z"
   },
   {
    "duration": 831,
    "start_time": "2022-02-09T09:24:59.968Z"
   },
   {
    "duration": 816,
    "start_time": "2022-02-09T09:25:26.246Z"
   },
   {
    "duration": 799,
    "start_time": "2022-02-09T09:27:29.943Z"
   },
   {
    "duration": 830,
    "start_time": "2022-02-09T09:27:34.760Z"
   },
   {
    "duration": 950,
    "start_time": "2022-02-09T09:27:59.129Z"
   },
   {
    "duration": 878,
    "start_time": "2022-02-09T09:28:44.107Z"
   },
   {
    "duration": 902,
    "start_time": "2022-02-09T09:29:11.474Z"
   },
   {
    "duration": 934,
    "start_time": "2022-02-09T09:29:21.750Z"
   },
   {
    "duration": 937,
    "start_time": "2022-02-09T09:29:40.233Z"
   },
   {
    "duration": 915,
    "start_time": "2022-02-09T09:30:00.696Z"
   },
   {
    "duration": 5,
    "start_time": "2022-02-09T09:30:22.114Z"
   },
   {
    "duration": 931,
    "start_time": "2022-02-09T09:30:59.363Z"
   },
   {
    "duration": 814,
    "start_time": "2022-02-09T09:31:11.389Z"
   },
   {
    "duration": 846,
    "start_time": "2022-02-09T09:31:32.345Z"
   },
   {
    "duration": 930,
    "start_time": "2022-02-09T09:31:39.623Z"
   },
   {
    "duration": 833,
    "start_time": "2022-02-09T09:31:43.989Z"
   },
   {
    "duration": 1088,
    "start_time": "2022-02-09T09:31:53.223Z"
   },
   {
    "duration": 33,
    "start_time": "2022-02-09T09:33:36.232Z"
   },
   {
    "duration": 1096,
    "start_time": "2022-02-09T09:34:02.374Z"
   },
   {
    "duration": 28,
    "start_time": "2022-02-09T09:34:03.472Z"
   },
   {
    "duration": 23,
    "start_time": "2022-02-09T09:34:03.503Z"
   },
   {
    "duration": 30,
    "start_time": "2022-02-09T09:34:03.561Z"
   },
   {
    "duration": 11,
    "start_time": "2022-02-09T09:34:03.594Z"
   },
   {
    "duration": 12,
    "start_time": "2022-02-09T09:34:03.609Z"
   },
   {
    "duration": 365,
    "start_time": "2022-02-09T09:34:03.623Z"
   },
   {
    "duration": 95,
    "start_time": "2022-02-09T09:34:03.993Z"
   },
   {
    "duration": 40,
    "start_time": "2022-02-09T09:34:04.091Z"
   },
   {
    "duration": 42,
    "start_time": "2022-02-09T09:34:04.133Z"
   },
   {
    "duration": 30,
    "start_time": "2022-02-09T09:34:04.179Z"
   },
   {
    "duration": 47,
    "start_time": "2022-02-09T09:34:04.212Z"
   },
   {
    "duration": 25,
    "start_time": "2022-02-09T09:34:04.261Z"
   },
   {
    "duration": 13,
    "start_time": "2022-02-09T09:34:04.288Z"
   },
   {
    "duration": 8,
    "start_time": "2022-02-09T09:34:04.303Z"
   },
   {
    "duration": 10,
    "start_time": "2022-02-09T09:34:04.314Z"
   },
   {
    "duration": 362,
    "start_time": "2022-02-09T09:34:04.358Z"
   },
   {
    "duration": 963,
    "start_time": "2022-02-09T09:34:04.723Z"
   },
   {
    "duration": 990,
    "start_time": "2022-02-09T09:34:05.689Z"
   },
   {
    "duration": 21,
    "start_time": "2022-02-09T09:34:06.682Z"
   },
   {
    "duration": 448,
    "start_time": "2022-02-09T09:34:06.706Z"
   },
   {
    "duration": 335,
    "start_time": "2022-02-09T09:34:07.159Z"
   },
   {
    "duration": 18,
    "start_time": "2022-02-09T09:34:07.500Z"
   },
   {
    "duration": 444,
    "start_time": "2022-02-09T09:34:07.521Z"
   },
   {
    "duration": 41,
    "start_time": "2022-02-09T09:34:07.968Z"
   },
   {
    "duration": 3,
    "start_time": "2022-02-09T09:34:08.012Z"
   },
   {
    "duration": 195,
    "start_time": "2022-02-09T09:34:08.018Z"
   },
   {
    "duration": 46,
    "start_time": "2022-02-09T09:34:08.216Z"
   },
   {
    "duration": 7,
    "start_time": "2022-02-09T09:34:08.265Z"
   },
   {
    "duration": 50,
    "start_time": "2022-02-09T09:34:08.275Z"
   },
   {
    "duration": 15,
    "start_time": "2022-02-09T09:34:08.327Z"
   },
   {
    "duration": 177813,
    "start_time": "2022-02-09T09:34:08.344Z"
   },
   {
    "duration": 32,
    "start_time": "2022-02-09T09:37:06.159Z"
   },
   {
    "duration": 1177,
    "start_time": "2022-02-09T09:37:06.194Z"
   },
   {
    "duration": 851,
    "start_time": "2022-02-09T09:37:06.523Z"
   },
   {
    "duration": 849,
    "start_time": "2022-02-09T09:37:06.526Z"
   },
   {
    "duration": 849,
    "start_time": "2022-02-09T09:37:06.528Z"
   },
   {
    "duration": 848,
    "start_time": "2022-02-09T09:37:06.530Z"
   },
   {
    "duration": 848,
    "start_time": "2022-02-09T09:37:06.532Z"
   },
   {
    "duration": 842,
    "start_time": "2022-02-09T09:37:06.539Z"
   },
   {
    "duration": 842,
    "start_time": "2022-02-09T09:37:06.541Z"
   },
   {
    "duration": 1266,
    "start_time": "2022-02-09T09:38:41.624Z"
   },
   {
    "duration": 392,
    "start_time": "2022-02-09T10:45:33.666Z"
   },
   {
    "duration": 333,
    "start_time": "2022-02-09T10:45:44.514Z"
   },
   {
    "duration": 337,
    "start_time": "2022-02-09T10:45:54.817Z"
   },
   {
    "duration": 2393,
    "start_time": "2022-08-08T12:46:35.102Z"
   },
   {
    "duration": 29,
    "start_time": "2022-08-08T12:46:37.497Z"
   },
   {
    "duration": 20,
    "start_time": "2022-08-08T12:46:37.528Z"
   },
   {
    "duration": 19,
    "start_time": "2022-08-08T12:46:37.550Z"
   },
   {
    "duration": 33,
    "start_time": "2022-08-08T12:46:37.570Z"
   },
   {
    "duration": 11,
    "start_time": "2022-08-08T12:46:37.605Z"
   },
   {
    "duration": 221,
    "start_time": "2022-08-08T12:46:37.617Z"
   },
   {
    "duration": 40,
    "start_time": "2022-08-08T12:46:37.839Z"
   },
   {
    "duration": 46,
    "start_time": "2022-08-08T12:46:37.880Z"
   },
   {
    "duration": 18,
    "start_time": "2022-08-08T12:46:37.928Z"
   },
   {
    "duration": 23,
    "start_time": "2022-08-08T12:46:37.947Z"
   },
   {
    "duration": 35,
    "start_time": "2022-08-08T12:46:37.973Z"
   },
   {
    "duration": 19,
    "start_time": "2022-08-08T12:46:38.010Z"
   },
   {
    "duration": 14,
    "start_time": "2022-08-08T12:46:38.031Z"
   },
   {
    "duration": 5,
    "start_time": "2022-08-08T12:46:38.047Z"
   },
   {
    "duration": 13,
    "start_time": "2022-08-08T12:46:38.054Z"
   },
   {
    "duration": 188,
    "start_time": "2022-08-08T12:46:38.069Z"
   },
   {
    "duration": 487,
    "start_time": "2022-08-08T12:46:38.259Z"
   },
   {
    "duration": 455,
    "start_time": "2022-08-08T12:46:38.748Z"
   },
   {
    "duration": 18,
    "start_time": "2022-08-08T12:46:39.204Z"
   },
   {
    "duration": 199,
    "start_time": "2022-08-08T12:46:39.224Z"
   },
   {
    "duration": 189,
    "start_time": "2022-08-08T12:46:39.425Z"
   },
   {
    "duration": 14,
    "start_time": "2022-08-08T12:46:39.616Z"
   },
   {
    "duration": 201,
    "start_time": "2022-08-08T12:46:39.632Z"
   },
   {
    "duration": 23,
    "start_time": "2022-08-08T12:46:39.836Z"
   },
   {
    "duration": 218,
    "start_time": "2022-08-08T12:46:39.861Z"
   },
   {
    "duration": 33,
    "start_time": "2022-08-08T12:46:40.080Z"
   },
   {
    "duration": 5,
    "start_time": "2022-08-08T12:46:40.117Z"
   },
   {
    "duration": 14,
    "start_time": "2022-08-08T12:46:40.124Z"
   },
   {
    "duration": 12,
    "start_time": "2022-08-08T12:46:40.140Z"
   },
   {
    "duration": 79,
    "start_time": "2022-08-08T12:46:40.154Z"
   },
   {
    "duration": 20,
    "start_time": "2022-08-08T12:46:40.235Z"
   },
   {
    "duration": 886,
    "start_time": "2022-08-08T12:46:40.257Z"
   },
   {
    "duration": 880,
    "start_time": "2022-08-08T12:46:41.145Z"
   },
   {
    "duration": 812,
    "start_time": "2022-08-08T12:46:42.027Z"
   },
   {
    "duration": 529,
    "start_time": "2022-08-08T12:46:42.841Z"
   },
   {
    "duration": 113,
    "start_time": "2022-08-08T12:46:43.372Z"
   },
   {
    "duration": 17,
    "start_time": "2022-08-08T12:46:43.486Z"
   },
   {
    "duration": 13,
    "start_time": "2022-08-08T12:46:43.505Z"
   },
   {
    "duration": 18,
    "start_time": "2022-08-08T12:46:43.520Z"
   },
   {
    "duration": 518,
    "start_time": "2022-08-08T13:16:23.117Z"
   },
   {
    "duration": 25,
    "start_time": "2022-08-08T13:16:23.638Z"
   },
   {
    "duration": 48,
    "start_time": "2022-08-08T13:16:23.665Z"
   },
   {
    "duration": 18,
    "start_time": "2022-08-08T13:16:23.715Z"
   },
   {
    "duration": 10,
    "start_time": "2022-08-08T13:16:23.735Z"
   },
   {
    "duration": 17,
    "start_time": "2022-08-08T13:16:23.746Z"
   },
   {
    "duration": 222,
    "start_time": "2022-08-08T13:16:23.765Z"
   },
   {
    "duration": 50,
    "start_time": "2022-08-08T13:16:23.988Z"
   },
   {
    "duration": 31,
    "start_time": "2022-08-08T13:16:24.040Z"
   },
   {
    "duration": 38,
    "start_time": "2022-08-08T13:16:24.074Z"
   },
   {
    "duration": 24,
    "start_time": "2022-08-08T13:16:24.114Z"
   },
   {
    "duration": 17,
    "start_time": "2022-08-08T13:16:24.140Z"
   },
   {
    "duration": 52,
    "start_time": "2022-08-08T13:16:24.158Z"
   },
   {
    "duration": 15,
    "start_time": "2022-08-08T13:16:24.212Z"
   },
   {
    "duration": 7,
    "start_time": "2022-08-08T13:16:24.228Z"
   },
   {
    "duration": 20,
    "start_time": "2022-08-08T13:16:24.237Z"
   },
   {
    "duration": 172,
    "start_time": "2022-08-08T13:16:24.258Z"
   },
   {
    "duration": 516,
    "start_time": "2022-08-08T13:16:24.432Z"
   },
   {
    "duration": 463,
    "start_time": "2022-08-08T13:16:24.950Z"
   },
   {
    "duration": 16,
    "start_time": "2022-08-08T13:16:25.414Z"
   },
   {
    "duration": 203,
    "start_time": "2022-08-08T13:16:25.431Z"
   },
   {
    "duration": 189,
    "start_time": "2022-08-08T13:16:25.635Z"
   },
   {
    "duration": 15,
    "start_time": "2022-08-08T13:16:25.826Z"
   },
   {
    "duration": 206,
    "start_time": "2022-08-08T13:16:25.842Z"
   },
   {
    "duration": 25,
    "start_time": "2022-08-08T13:16:26.050Z"
   },
   {
    "duration": 145,
    "start_time": "2022-08-08T13:16:26.077Z"
   },
   {
    "duration": 17,
    "start_time": "2022-08-08T13:16:26.224Z"
   },
   {
    "duration": 5,
    "start_time": "2022-08-08T13:16:26.245Z"
   },
   {
    "duration": 20,
    "start_time": "2022-08-08T13:16:26.251Z"
   },
   {
    "duration": 15,
    "start_time": "2022-08-08T13:16:26.272Z"
   },
   {
    "duration": 28,
    "start_time": "2022-08-08T13:16:26.289Z"
   },
   {
    "duration": 19,
    "start_time": "2022-08-08T13:16:26.319Z"
   },
   {
    "duration": 574,
    "start_time": "2022-08-08T13:16:26.340Z"
   },
   {
    "duration": 500,
    "start_time": "2022-08-08T13:16:26.916Z"
   },
   {
    "duration": 671,
    "start_time": "2022-08-08T13:16:27.418Z"
   },
   {
    "duration": 517,
    "start_time": "2022-08-08T13:16:28.091Z"
   },
   {
    "duration": 117,
    "start_time": "2022-08-08T13:16:28.610Z"
   },
   {
    "duration": 6,
    "start_time": "2022-08-08T13:16:28.728Z"
   },
   {
    "duration": 12,
    "start_time": "2022-08-08T13:16:28.736Z"
   },
   {
    "duration": 12,
    "start_time": "2022-08-08T13:16:28.750Z"
   }
  ],
  "kernelspec": {
   "display_name": "Python 3 (ipykernel)",
   "language": "python",
   "name": "python3"
  },
  "language_info": {
   "codemirror_mode": {
    "name": "ipython",
    "version": 3
   },
   "file_extension": ".py",
   "mimetype": "text/x-python",
   "name": "python",
   "nbconvert_exporter": "python",
   "pygments_lexer": "ipython3",
   "version": "3.9.5"
  },
  "toc": {
   "base_numbering": 1,
   "nav_menu": {},
   "number_sections": true,
   "sideBar": true,
   "skip_h1_title": true,
   "title_cell": "Содержание",
   "title_sidebar": "Contents",
   "toc_cell": true,
   "toc_position": {
    "height": "calc(100% - 180px)",
    "left": "10px",
    "top": "150px",
    "width": "302.431px"
   },
   "toc_section_display": true,
   "toc_window_display": true
  }
 },
 "nbformat": 4,
 "nbformat_minor": 5
}
