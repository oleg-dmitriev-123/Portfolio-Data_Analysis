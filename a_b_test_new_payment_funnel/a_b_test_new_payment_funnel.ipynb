{
 "cells": [
  {
   "cell_type": "markdown",
   "id": "12793337",
   "metadata": {},
   "source": [
    "# Оценка результатов A/B-теста новой платежной воронки"
   ]
  },
  {
   "cell_type": "markdown",
   "id": "37e59545",
   "metadata": {
    "toc": true
   },
   "source": [
    "<h1>Оглавление<span class=\"tocSkip\"></span></h1>\n",
    "<div class=\"toc\"><ul class=\"toc-item\"><li><span><a href=\"#Описание-проекта\" data-toc-modified-id=\"Описание-проекта-1\"><span class=\"toc-item-num\">1&nbsp;&nbsp;</span>Описание проекта</a></span><ul class=\"toc-item\"><li><span><a href=\"#Техническое-задание\" data-toc-modified-id=\"Техническое-задание-1.1\"><span class=\"toc-item-num\">1.1&nbsp;&nbsp;</span>Техническое задание</a></span></li><li><span><a href=\"#Описание-данных\" data-toc-modified-id=\"Описание-данных-1.2\"><span class=\"toc-item-num\">1.2&nbsp;&nbsp;</span>Описание данных</a></span></li></ul></li><li><span><a href=\"#Настройка-окружения\" data-toc-modified-id=\"Настройка-окружения-2\"><span class=\"toc-item-num\">2&nbsp;&nbsp;</span>Настройка окружения</a></span></li><li><span><a href=\"#Изучение-данных\" data-toc-modified-id=\"Изучение-данных-3\"><span class=\"toc-item-num\">3&nbsp;&nbsp;</span>Изучение данных</a></span><ul class=\"toc-item\"><li><span><a href=\"#Чтение-данных\" data-toc-modified-id=\"Чтение-данных-3.1\"><span class=\"toc-item-num\">3.1&nbsp;&nbsp;</span>Чтение данных</a></span></li><li><span><a href=\"#Вывод\" data-toc-modified-id=\"Вывод-3.2\"><span class=\"toc-item-num\">3.2&nbsp;&nbsp;</span>Вывод</a></span></li></ul></li><li><span><a href=\"#Предобработка-данных\" data-toc-modified-id=\"Предобработка-данных-4\"><span class=\"toc-item-num\">4&nbsp;&nbsp;</span>Предобработка данных</a></span></li><li><span><a href=\"#Оценка-корректности-проведения-теста\" data-toc-modified-id=\"Оценка-корректности-проведения-теста-5\"><span class=\"toc-item-num\">5&nbsp;&nbsp;</span>Оценка корректности проведения теста</a></span><ul class=\"toc-item\"><li><span><a href=\"#Проверка-соответствия-данных-техническому-заданию\" data-toc-modified-id=\"Проверка-соответствия-данных-техническому-заданию-5.1\"><span class=\"toc-item-num\">5.1&nbsp;&nbsp;</span>Проверка соответствия данных техническому заданию</a></span></li><li><span><a href=\"#Вывод\" data-toc-modified-id=\"Вывод-5.2\"><span class=\"toc-item-num\">5.2&nbsp;&nbsp;</span>Вывод</a></span></li></ul></li><li><span><a href=\"#Исследовательский-анализ-данных\" data-toc-modified-id=\"Исследовательский-анализ-данных-6\"><span class=\"toc-item-num\">6&nbsp;&nbsp;</span>Исследовательский анализ данных</a></span><ul class=\"toc-item\"><li><span><a href=\"#Количество-событий-на-пользователя-для-А/B---выборок\" data-toc-modified-id=\"Количество-событий-на-пользователя-для-А/B---выборок-6.1\"><span class=\"toc-item-num\">6.1&nbsp;&nbsp;</span>Количество событий на пользователя для А/B - выборок</a></span></li><li><span><a href=\"#Вывод\" data-toc-modified-id=\"Вывод-6.2\"><span class=\"toc-item-num\">6.2&nbsp;&nbsp;</span>Вывод</a></span></li><li><span><a href=\"#Распределение-числа-событий-по-дням\" data-toc-modified-id=\"Распределение-числа-событий-по-дням-6.3\"><span class=\"toc-item-num\">6.3&nbsp;&nbsp;</span>Распределение числа событий по дням</a></span></li><li><span><a href=\"#Вывод\" data-toc-modified-id=\"Вывод-6.4\"><span class=\"toc-item-num\">6.4&nbsp;&nbsp;</span>Вывод</a></span></li><li><span><a href=\"#Конверсия-на-разных-этапах-в-зависимости-от-выборки\" data-toc-modified-id=\"Конверсия-на-разных-этапах-в-зависимости-от-выборки-6.5\"><span class=\"toc-item-num\">6.5&nbsp;&nbsp;</span>Конверсия на разных этапах в зависимости от выборки</a></span></li><li><span><a href=\"#Вывод\" data-toc-modified-id=\"Вывод-6.6\"><span class=\"toc-item-num\">6.6&nbsp;&nbsp;</span>Вывод</a></span></li><li><span><a href=\"#Какие-особенности-данных-нужно-учесть,-прежде-чем-приступать-к-A/B-тестированию?\" data-toc-modified-id=\"Какие-особенности-данных-нужно-учесть,-прежде-чем-приступать-к-A/B-тестированию?-6.7\"><span class=\"toc-item-num\">6.7&nbsp;&nbsp;</span>Какие особенности данных нужно учесть, прежде чем приступать к A/B-тестированию?</a></span></li></ul></li><li><span><a href=\"#Оценка-результатов-A/B-тестирования\" data-toc-modified-id=\"Оценка-результатов-A/B-тестирования-7\"><span class=\"toc-item-num\">7&nbsp;&nbsp;</span>Оценка результатов A/B-тестирования</a></span><ul class=\"toc-item\"><li><span><a href=\"#Комменарий-по-результатам-A/B-тестирования\" data-toc-modified-id=\"Комменарий-по-результатам-A/B-тестирования-7.1\"><span class=\"toc-item-num\">7.1&nbsp;&nbsp;</span>Комменарий по результатам A/B-тестирования</a></span></li><li><span><a href=\"#Проверка-статистической-разницы-долей-z-критерием\" data-toc-modified-id=\"Проверка-статистической-разницы-долей-z-критерием-7.2\"><span class=\"toc-item-num\">7.2&nbsp;&nbsp;</span>Проверка статистической разницы долей z-критерием</a></span></li><li><span><a href=\"#Вывод\" data-toc-modified-id=\"Вывод-7.3\"><span class=\"toc-item-num\">7.3&nbsp;&nbsp;</span>Вывод</a></span></li></ul></li><li><span><a href=\"#Общий-вывод\" data-toc-modified-id=\"Общий-вывод-8\"><span class=\"toc-item-num\">8&nbsp;&nbsp;</span>Общий вывод</a></span></li></ul></div>"
   ]
  },
  {
   "cell_type": "markdown",
   "id": "1baf3bd7",
   "metadata": {},
   "source": [
    "## Описание проекта \n",
    "\n",
    "Необходимо провести оценку результатов A/B-теста\n",
    "\n",
    "Чтобы оценить корректность проведения теста необходимо проверить:\n",
    " - пересечение тестовой аудитории с конкурирующим тестом;\n",
    " - совпадение теста и маркетинговых событий, другие проблемы временных границ теста"
   ]
  },
  {
   "cell_type": "markdown",
   "id": "61424109",
   "metadata": {},
   "source": [
    "### Техническое задание\n",
    "\n",
    " - Название теста: recommender_system_test;\n",
    " - Группы: А (контрольная), B (новая платёжная воронка);\n",
    " - Дата запуска: 2020-12-07;\n",
    " - Дата остановки набора новых пользователей: 2020-12-21;\n",
    " - Дата остановки: 2021-01-04;\n",
    " - Аудитория: 15% новых пользователей из региона EU;\n",
    " - Назначение теста: тестирование изменений, связанных с внедрением улучшенной рекомендательной системы;\n",
    " - Ожидаемое количество участников теста: 6000.\n",
    " - Ожидаемый эффект: за 14 дней с момента регистрации в системе пользователи покажут улучшение каждой метрики не менее, чем на 10%:\n",
    "  - конверсии в просмотр карточек товаров — событие product_page\n",
    "  - просмотры корзины — product_cart\n",
    "  - покупки — purchase."
   ]
  },
  {
   "cell_type": "markdown",
   "id": "4050b592",
   "metadata": {},
   "source": [
    "### Описание данных\n",
    "\n",
    "**marketing_events** — календарь маркетинговых событий на 2020 год:\n",
    "\n",
    "Имя переменной | Описание данных\n",
    "---|---\n",
    "name | название маркетингового события;\n",
    "regions | регионы, в которых будет проводиться рекламная кампания;\n",
    "start_dt | дата начала кампании;\n",
    "finish_dt | дата завершения кампании.\n",
    "\n",
    "**users** — все пользователи, зарегистрировавшиеся в интернет-магазине в период с 7 по 21 декабря 2020 года:\n",
    "\n",
    "Имя переменной | Описание данных\n",
    "---|---\n",
    "user_id | идентификатор пользователя;\n",
    "first_date | дата регистрации;\n",
    "region | регион пользователя;\n",
    "device | устройство, с которого происходила регистрация.\n",
    "\n",
    "**users_events** — все события новых пользователей в период с 7 декабря 2020 по 4 января 2021 года:\n",
    "\n",
    "Имя переменной | Описание данных\n",
    "---|---\n",
    "user_id | идентификатор пользователя;\n",
    "event_dt | дата и время события;\n",
    "event_name | тип события;\n",
    "details | дополнительные данные о событии. Например, для покупок, purchase, в этом поле хранится стоимость покупки в долларах.\n",
    "\n",
    "**participants** — таблица участников тестов:\n",
    "\n",
    "Имя переменной | Описание данных\n",
    "---|---\n",
    "user_id | идентификатор пользователя;\n",
    "ab_test | название теста;\n",
    "group | группа пользователя."
   ]
  },
  {
   "cell_type": "markdown",
   "id": "40b1c709",
   "metadata": {},
   "source": [
    "## Настройка окружения"
   ]
  },
  {
   "cell_type": "code",
   "execution_count": 120,
   "id": "f65f2523",
   "metadata": {},
   "outputs": [],
   "source": [
    "import pandas as pd\n",
    "import numpy as np\n",
    "import matplotlib.pyplot as plt\n",
    "import scipy.stats as st\n",
    "import datetime as dt\n",
    "from plotly import graph_objects as go \n",
    "from plotly.subplots import make_subplots\n",
    "import math as mth\n",
    "\n",
    "# отключаю предупреждение anaconda\n",
    "import warnings\n",
    "warnings.simplefilter('ignore')"
   ]
  },
  {
   "cell_type": "markdown",
   "id": "50e79476",
   "metadata": {},
   "source": [
    "## Изучение данных"
   ]
  },
  {
   "cell_type": "markdown",
   "id": "1ee2bfaf",
   "metadata": {},
   "source": [
    "### Чтение данных"
   ]
  },
  {
   "cell_type": "code",
   "execution_count": 121,
   "id": "3125ab4c",
   "metadata": {},
   "outputs": [],
   "source": [
    "try:\n",
    "    marketing_events = pd.read_csv('ab_project_marketing_events.csv')\n",
    "    users_registration = pd.read_csv('final_ab_new_users.csv')\n",
    "    users_events = pd.read_csv('final_ab_events.csv')\n",
    "    participants = pd.read_csv('final_ab_participants.csv')\n",
    "except:\n",
    "    marketing_events = pd.read_csv('/datasets/ab_project_marketing_events.csv')\n",
    "    users_registration = pd.read_csv('/datasets/final_ab_new_users.csv')\n",
    "    users_events = pd.read_csv('/datasets/final_ab_events.csv')\n",
    "    participants = pd.read_csv('/datasets/final_ab_participants.csv')"
   ]
  },
  {
   "cell_type": "markdown",
   "id": "737f1697",
   "metadata": {},
   "source": [
    "**Изучение marketing_events**"
   ]
  },
  {
   "cell_type": "code",
   "execution_count": 122,
   "id": "2e106f48",
   "metadata": {},
   "outputs": [
    {
     "name": "stdout",
     "output_type": "stream",
     "text": [
      "<class 'pandas.core.frame.DataFrame'>\n",
      "RangeIndex: 14 entries, 0 to 13\n",
      "Data columns (total 4 columns):\n",
      " #   Column     Non-Null Count  Dtype \n",
      "---  ------     --------------  ----- \n",
      " 0   name       14 non-null     object\n",
      " 1   regions    14 non-null     object\n",
      " 2   start_dt   14 non-null     object\n",
      " 3   finish_dt  14 non-null     object\n",
      "dtypes: object(4)\n",
      "memory usage: 576.0+ bytes\n"
     ]
    }
   ],
   "source": [
    "marketing_events.info()"
   ]
  },
  {
   "cell_type": "code",
   "execution_count": 123,
   "id": "81b2e51c",
   "metadata": {
    "scrolled": true
   },
   "outputs": [
    {
     "data": {
      "text/html": [
       "<div>\n",
       "<style scoped>\n",
       "    .dataframe tbody tr th:only-of-type {\n",
       "        vertical-align: middle;\n",
       "    }\n",
       "\n",
       "    .dataframe tbody tr th {\n",
       "        vertical-align: top;\n",
       "    }\n",
       "\n",
       "    .dataframe thead th {\n",
       "        text-align: right;\n",
       "    }\n",
       "</style>\n",
       "<table border=\"1\" class=\"dataframe\">\n",
       "  <thead>\n",
       "    <tr style=\"text-align: right;\">\n",
       "      <th></th>\n",
       "      <th>name</th>\n",
       "      <th>regions</th>\n",
       "      <th>start_dt</th>\n",
       "      <th>finish_dt</th>\n",
       "    </tr>\n",
       "  </thead>\n",
       "  <tbody>\n",
       "    <tr>\n",
       "      <th>0</th>\n",
       "      <td>Christmas&amp;New Year Promo</td>\n",
       "      <td>EU, N.America</td>\n",
       "      <td>2020-12-25</td>\n",
       "      <td>2021-01-03</td>\n",
       "    </tr>\n",
       "    <tr>\n",
       "      <th>1</th>\n",
       "      <td>St. Valentine's Day Giveaway</td>\n",
       "      <td>EU, CIS, APAC, N.America</td>\n",
       "      <td>2020-02-14</td>\n",
       "      <td>2020-02-16</td>\n",
       "    </tr>\n",
       "    <tr>\n",
       "      <th>2</th>\n",
       "      <td>St. Patric's Day Promo</td>\n",
       "      <td>EU, N.America</td>\n",
       "      <td>2020-03-17</td>\n",
       "      <td>2020-03-19</td>\n",
       "    </tr>\n",
       "    <tr>\n",
       "      <th>3</th>\n",
       "      <td>Easter Promo</td>\n",
       "      <td>EU, CIS, APAC, N.America</td>\n",
       "      <td>2020-04-12</td>\n",
       "      <td>2020-04-19</td>\n",
       "    </tr>\n",
       "    <tr>\n",
       "      <th>4</th>\n",
       "      <td>4th of July Promo</td>\n",
       "      <td>N.America</td>\n",
       "      <td>2020-07-04</td>\n",
       "      <td>2020-07-11</td>\n",
       "    </tr>\n",
       "  </tbody>\n",
       "</table>\n",
       "</div>"
      ],
      "text/plain": [
       "                           name                   regions    start_dt  \\\n",
       "0      Christmas&New Year Promo             EU, N.America  2020-12-25   \n",
       "1  St. Valentine's Day Giveaway  EU, CIS, APAC, N.America  2020-02-14   \n",
       "2        St. Patric's Day Promo             EU, N.America  2020-03-17   \n",
       "3                  Easter Promo  EU, CIS, APAC, N.America  2020-04-12   \n",
       "4             4th of July Promo                 N.America  2020-07-04   \n",
       "\n",
       "    finish_dt  \n",
       "0  2021-01-03  \n",
       "1  2020-02-16  \n",
       "2  2020-03-19  \n",
       "3  2020-04-19  \n",
       "4  2020-07-11  "
      ]
     },
     "execution_count": 123,
     "metadata": {},
     "output_type": "execute_result"
    }
   ],
   "source": [
    "marketing_events.head()"
   ]
  },
  {
   "cell_type": "code",
   "execution_count": 124,
   "id": "041ebcdd",
   "metadata": {
    "scrolled": true
   },
   "outputs": [
    {
     "data": {
      "text/plain": [
       "name         0\n",
       "regions      0\n",
       "start_dt     0\n",
       "finish_dt    0\n",
       "dtype: int64"
      ]
     },
     "execution_count": 124,
     "metadata": {},
     "output_type": "execute_result"
    }
   ],
   "source": [
    "# поиск пропусков\n",
    "marketing_events.isna().sum()"
   ]
  },
  {
   "cell_type": "code",
   "execution_count": 125,
   "id": "7a140db0",
   "metadata": {},
   "outputs": [
    {
     "data": {
      "text/plain": [
       "0"
      ]
     },
     "execution_count": 125,
     "metadata": {},
     "output_type": "execute_result"
    }
   ],
   "source": [
    "# поиск дубликатов\n",
    "marketing_events.duplicated().sum()"
   ]
  },
  {
   "cell_type": "markdown",
   "id": "08454cda",
   "metadata": {},
   "source": [
    "**Изучение users**"
   ]
  },
  {
   "cell_type": "code",
   "execution_count": 126,
   "id": "7fafb30b",
   "metadata": {},
   "outputs": [
    {
     "name": "stdout",
     "output_type": "stream",
     "text": [
      "<class 'pandas.core.frame.DataFrame'>\n",
      "RangeIndex: 61733 entries, 0 to 61732\n",
      "Data columns (total 4 columns):\n",
      " #   Column      Non-Null Count  Dtype \n",
      "---  ------      --------------  ----- \n",
      " 0   user_id     61733 non-null  object\n",
      " 1   first_date  61733 non-null  object\n",
      " 2   region      61733 non-null  object\n",
      " 3   device      61733 non-null  object\n",
      "dtypes: object(4)\n",
      "memory usage: 1.9+ MB\n"
     ]
    }
   ],
   "source": [
    "users_registration.info()"
   ]
  },
  {
   "cell_type": "code",
   "execution_count": 127,
   "id": "901df68a",
   "metadata": {
    "scrolled": false
   },
   "outputs": [
    {
     "data": {
      "text/html": [
       "<div>\n",
       "<style scoped>\n",
       "    .dataframe tbody tr th:only-of-type {\n",
       "        vertical-align: middle;\n",
       "    }\n",
       "\n",
       "    .dataframe tbody tr th {\n",
       "        vertical-align: top;\n",
       "    }\n",
       "\n",
       "    .dataframe thead th {\n",
       "        text-align: right;\n",
       "    }\n",
       "</style>\n",
       "<table border=\"1\" class=\"dataframe\">\n",
       "  <thead>\n",
       "    <tr style=\"text-align: right;\">\n",
       "      <th></th>\n",
       "      <th>user_id</th>\n",
       "      <th>first_date</th>\n",
       "      <th>region</th>\n",
       "      <th>device</th>\n",
       "    </tr>\n",
       "  </thead>\n",
       "  <tbody>\n",
       "    <tr>\n",
       "      <th>0</th>\n",
       "      <td>D72A72121175D8BE</td>\n",
       "      <td>2020-12-07</td>\n",
       "      <td>EU</td>\n",
       "      <td>PC</td>\n",
       "    </tr>\n",
       "    <tr>\n",
       "      <th>1</th>\n",
       "      <td>F1C668619DFE6E65</td>\n",
       "      <td>2020-12-07</td>\n",
       "      <td>N.America</td>\n",
       "      <td>Android</td>\n",
       "    </tr>\n",
       "    <tr>\n",
       "      <th>2</th>\n",
       "      <td>2E1BF1D4C37EA01F</td>\n",
       "      <td>2020-12-07</td>\n",
       "      <td>EU</td>\n",
       "      <td>PC</td>\n",
       "    </tr>\n",
       "    <tr>\n",
       "      <th>3</th>\n",
       "      <td>50734A22C0C63768</td>\n",
       "      <td>2020-12-07</td>\n",
       "      <td>EU</td>\n",
       "      <td>iPhone</td>\n",
       "    </tr>\n",
       "    <tr>\n",
       "      <th>4</th>\n",
       "      <td>E1BDDCE0DAFA2679</td>\n",
       "      <td>2020-12-07</td>\n",
       "      <td>N.America</td>\n",
       "      <td>iPhone</td>\n",
       "    </tr>\n",
       "  </tbody>\n",
       "</table>\n",
       "</div>"
      ],
      "text/plain": [
       "            user_id  first_date     region   device\n",
       "0  D72A72121175D8BE  2020-12-07         EU       PC\n",
       "1  F1C668619DFE6E65  2020-12-07  N.America  Android\n",
       "2  2E1BF1D4C37EA01F  2020-12-07         EU       PC\n",
       "3  50734A22C0C63768  2020-12-07         EU   iPhone\n",
       "4  E1BDDCE0DAFA2679  2020-12-07  N.America   iPhone"
      ]
     },
     "execution_count": 127,
     "metadata": {},
     "output_type": "execute_result"
    }
   ],
   "source": [
    "users_registration.head()"
   ]
  },
  {
   "cell_type": "code",
   "execution_count": 128,
   "id": "bd04b899",
   "metadata": {
    "scrolled": true
   },
   "outputs": [
    {
     "data": {
      "text/plain": [
       "user_id       0\n",
       "first_date    0\n",
       "region        0\n",
       "device        0\n",
       "dtype: int64"
      ]
     },
     "execution_count": 128,
     "metadata": {},
     "output_type": "execute_result"
    }
   ],
   "source": [
    "users_registration.isna().sum()"
   ]
  },
  {
   "cell_type": "code",
   "execution_count": 129,
   "id": "2c1f0344",
   "metadata": {},
   "outputs": [
    {
     "data": {
      "text/plain": [
       "0"
      ]
     },
     "execution_count": 129,
     "metadata": {},
     "output_type": "execute_result"
    }
   ],
   "source": [
    "users_registration.duplicated().sum()"
   ]
  },
  {
   "cell_type": "markdown",
   "id": "56e7bb88",
   "metadata": {},
   "source": [
    "**Изучение users_events**"
   ]
  },
  {
   "cell_type": "code",
   "execution_count": 130,
   "id": "887830b0",
   "metadata": {},
   "outputs": [
    {
     "name": "stdout",
     "output_type": "stream",
     "text": [
      "<class 'pandas.core.frame.DataFrame'>\n",
      "RangeIndex: 440317 entries, 0 to 440316\n",
      "Data columns (total 4 columns):\n",
      " #   Column      Non-Null Count   Dtype  \n",
      "---  ------      --------------   -----  \n",
      " 0   user_id     440317 non-null  object \n",
      " 1   event_dt    440317 non-null  object \n",
      " 2   event_name  440317 non-null  object \n",
      " 3   details     62740 non-null   float64\n",
      "dtypes: float64(1), object(3)\n",
      "memory usage: 13.4+ MB\n"
     ]
    }
   ],
   "source": [
    "users_events.info()"
   ]
  },
  {
   "cell_type": "code",
   "execution_count": 131,
   "id": "7694cac7",
   "metadata": {
    "scrolled": false
   },
   "outputs": [
    {
     "data": {
      "text/html": [
       "<div>\n",
       "<style scoped>\n",
       "    .dataframe tbody tr th:only-of-type {\n",
       "        vertical-align: middle;\n",
       "    }\n",
       "\n",
       "    .dataframe tbody tr th {\n",
       "        vertical-align: top;\n",
       "    }\n",
       "\n",
       "    .dataframe thead th {\n",
       "        text-align: right;\n",
       "    }\n",
       "</style>\n",
       "<table border=\"1\" class=\"dataframe\">\n",
       "  <thead>\n",
       "    <tr style=\"text-align: right;\">\n",
       "      <th></th>\n",
       "      <th>user_id</th>\n",
       "      <th>event_dt</th>\n",
       "      <th>event_name</th>\n",
       "      <th>details</th>\n",
       "    </tr>\n",
       "  </thead>\n",
       "  <tbody>\n",
       "    <tr>\n",
       "      <th>0</th>\n",
       "      <td>E1BDDCE0DAFA2679</td>\n",
       "      <td>2020-12-07 20:22:03</td>\n",
       "      <td>purchase</td>\n",
       "      <td>99.99</td>\n",
       "    </tr>\n",
       "    <tr>\n",
       "      <th>1</th>\n",
       "      <td>7B6452F081F49504</td>\n",
       "      <td>2020-12-07 09:22:53</td>\n",
       "      <td>purchase</td>\n",
       "      <td>9.99</td>\n",
       "    </tr>\n",
       "    <tr>\n",
       "      <th>2</th>\n",
       "      <td>9CD9F34546DF254C</td>\n",
       "      <td>2020-12-07 12:59:29</td>\n",
       "      <td>purchase</td>\n",
       "      <td>4.99</td>\n",
       "    </tr>\n",
       "    <tr>\n",
       "      <th>3</th>\n",
       "      <td>96F27A054B191457</td>\n",
       "      <td>2020-12-07 04:02:40</td>\n",
       "      <td>purchase</td>\n",
       "      <td>4.99</td>\n",
       "    </tr>\n",
       "    <tr>\n",
       "      <th>4</th>\n",
       "      <td>1FD7660FDF94CA1F</td>\n",
       "      <td>2020-12-07 10:15:09</td>\n",
       "      <td>purchase</td>\n",
       "      <td>4.99</td>\n",
       "    </tr>\n",
       "  </tbody>\n",
       "</table>\n",
       "</div>"
      ],
      "text/plain": [
       "            user_id             event_dt event_name  details\n",
       "0  E1BDDCE0DAFA2679  2020-12-07 20:22:03   purchase    99.99\n",
       "1  7B6452F081F49504  2020-12-07 09:22:53   purchase     9.99\n",
       "2  9CD9F34546DF254C  2020-12-07 12:59:29   purchase     4.99\n",
       "3  96F27A054B191457  2020-12-07 04:02:40   purchase     4.99\n",
       "4  1FD7660FDF94CA1F  2020-12-07 10:15:09   purchase     4.99"
      ]
     },
     "execution_count": 131,
     "metadata": {},
     "output_type": "execute_result"
    }
   ],
   "source": [
    "users_events.head()"
   ]
  },
  {
   "cell_type": "code",
   "execution_count": 132,
   "id": "c6404cde",
   "metadata": {
    "scrolled": true
   },
   "outputs": [
    {
     "data": {
      "text/plain": [
       "user_id            0\n",
       "event_dt           0\n",
       "event_name         0\n",
       "details       377577\n",
       "dtype: int64"
      ]
     },
     "execution_count": 132,
     "metadata": {},
     "output_type": "execute_result"
    }
   ],
   "source": [
    "users_events.isna().sum()"
   ]
  },
  {
   "cell_type": "code",
   "execution_count": 133,
   "id": "2249feb3",
   "metadata": {},
   "outputs": [
    {
     "data": {
      "text/plain": [
       "0"
      ]
     },
     "execution_count": 133,
     "metadata": {},
     "output_type": "execute_result"
    }
   ],
   "source": [
    "users_events.duplicated().sum()"
   ]
  },
  {
   "cell_type": "markdown",
   "id": "e920a481",
   "metadata": {},
   "source": [
    "**Изучение participants**"
   ]
  },
  {
   "cell_type": "code",
   "execution_count": 134,
   "id": "9b6f618c",
   "metadata": {},
   "outputs": [
    {
     "name": "stdout",
     "output_type": "stream",
     "text": [
      "<class 'pandas.core.frame.DataFrame'>\n",
      "RangeIndex: 18268 entries, 0 to 18267\n",
      "Data columns (total 3 columns):\n",
      " #   Column   Non-Null Count  Dtype \n",
      "---  ------   --------------  ----- \n",
      " 0   user_id  18268 non-null  object\n",
      " 1   group    18268 non-null  object\n",
      " 2   ab_test  18268 non-null  object\n",
      "dtypes: object(3)\n",
      "memory usage: 428.3+ KB\n"
     ]
    }
   ],
   "source": [
    "participants.info()"
   ]
  },
  {
   "cell_type": "code",
   "execution_count": 135,
   "id": "ffc46df0",
   "metadata": {
    "scrolled": true
   },
   "outputs": [
    {
     "data": {
      "text/html": [
       "<div>\n",
       "<style scoped>\n",
       "    .dataframe tbody tr th:only-of-type {\n",
       "        vertical-align: middle;\n",
       "    }\n",
       "\n",
       "    .dataframe tbody tr th {\n",
       "        vertical-align: top;\n",
       "    }\n",
       "\n",
       "    .dataframe thead th {\n",
       "        text-align: right;\n",
       "    }\n",
       "</style>\n",
       "<table border=\"1\" class=\"dataframe\">\n",
       "  <thead>\n",
       "    <tr style=\"text-align: right;\">\n",
       "      <th></th>\n",
       "      <th>user_id</th>\n",
       "      <th>group</th>\n",
       "      <th>ab_test</th>\n",
       "    </tr>\n",
       "  </thead>\n",
       "  <tbody>\n",
       "    <tr>\n",
       "      <th>0</th>\n",
       "      <td>D1ABA3E2887B6A73</td>\n",
       "      <td>A</td>\n",
       "      <td>recommender_system_test</td>\n",
       "    </tr>\n",
       "    <tr>\n",
       "      <th>1</th>\n",
       "      <td>A7A3664BD6242119</td>\n",
       "      <td>A</td>\n",
       "      <td>recommender_system_test</td>\n",
       "    </tr>\n",
       "    <tr>\n",
       "      <th>2</th>\n",
       "      <td>DABC14FDDFADD29E</td>\n",
       "      <td>A</td>\n",
       "      <td>recommender_system_test</td>\n",
       "    </tr>\n",
       "    <tr>\n",
       "      <th>3</th>\n",
       "      <td>04988C5DF189632E</td>\n",
       "      <td>A</td>\n",
       "      <td>recommender_system_test</td>\n",
       "    </tr>\n",
       "    <tr>\n",
       "      <th>4</th>\n",
       "      <td>482F14783456D21B</td>\n",
       "      <td>B</td>\n",
       "      <td>recommender_system_test</td>\n",
       "    </tr>\n",
       "  </tbody>\n",
       "</table>\n",
       "</div>"
      ],
      "text/plain": [
       "            user_id group                  ab_test\n",
       "0  D1ABA3E2887B6A73     A  recommender_system_test\n",
       "1  A7A3664BD6242119     A  recommender_system_test\n",
       "2  DABC14FDDFADD29E     A  recommender_system_test\n",
       "3  04988C5DF189632E     A  recommender_system_test\n",
       "4  482F14783456D21B     B  recommender_system_test"
      ]
     },
     "execution_count": 135,
     "metadata": {},
     "output_type": "execute_result"
    }
   ],
   "source": [
    "participants.head()"
   ]
  },
  {
   "cell_type": "code",
   "execution_count": 136,
   "id": "b4d28b69",
   "metadata": {
    "scrolled": true
   },
   "outputs": [
    {
     "data": {
      "text/plain": [
       "user_id    0\n",
       "group      0\n",
       "ab_test    0\n",
       "dtype: int64"
      ]
     },
     "execution_count": 136,
     "metadata": {},
     "output_type": "execute_result"
    }
   ],
   "source": [
    "participants.isna().sum()"
   ]
  },
  {
   "cell_type": "code",
   "execution_count": 137,
   "id": "f2978c2b",
   "metadata": {},
   "outputs": [
    {
     "data": {
      "text/plain": [
       "0"
      ]
     },
     "execution_count": 137,
     "metadata": {},
     "output_type": "execute_result"
    }
   ],
   "source": [
    "participants.duplicated().sum()"
   ]
  },
  {
   "cell_type": "markdown",
   "id": "890bb140",
   "metadata": {},
   "source": [
    "### Вывод\n",
    "\n",
    " - в файле marketing_events необходимо привести колонки start_dt и finish_dt к типу datetime;\n",
    " - в файле users_registration необходимо привести колонку first_date к типу datetime;\n",
    " - в файле users_events необходимо привести колонку event_dt к типу datetime;\n",
    " - избавление от пропусков и дубликатов не требуется. пропуски в details обоснованы тем, что это необязательное поле. \n",
    " "
   ]
  },
  {
   "cell_type": "markdown",
   "id": "3bbdf7b1",
   "metadata": {},
   "source": [
    "## Предобработка данных"
   ]
  },
  {
   "cell_type": "code",
   "execution_count": 138,
   "id": "3c29d8c9",
   "metadata": {},
   "outputs": [],
   "source": [
    "# преобразование типов\n",
    "marketing_events['start_dt'] = marketing_events['start_dt'].astype('datetime64')\n",
    "marketing_events['finish_dt'] = marketing_events['finish_dt'].astype('datetime64')\n",
    "users_registration['first_date'] = users_registration['first_date'].astype('datetime64')\n",
    "users_events['event_dt'] = users_events['event_dt'].astype('datetime64')"
   ]
  },
  {
   "cell_type": "markdown",
   "id": "68388a49",
   "metadata": {},
   "source": [
    "## Оценка корректности проведения теста"
   ]
  },
  {
   "cell_type": "markdown",
   "id": "55fa165e",
   "metadata": {},
   "source": [
    "### Проверка соответствия данных техническому заданию"
   ]
  },
  {
   "cell_type": "markdown",
   "id": "8c16d7c5",
   "metadata": {},
   "source": [
    "**Проверка аудитории на пересечение**"
   ]
  },
  {
   "cell_type": "markdown",
   "id": "15ddbc28",
   "metadata": {},
   "source": [
    "**Пользователи попавшие в оба теста**"
   ]
  },
  {
   "cell_type": "code",
   "execution_count": 139,
   "id": "dcf9cdcb",
   "metadata": {
    "scrolled": true
   },
   "outputs": [
    {
     "name": "stdout",
     "output_type": "stream",
     "text": [
      "Кол-во пользователей, учавствующих в обоих тестах: 1602\n"
     ]
    }
   ],
   "source": [
    "# пользователи попавшие в оба теста\n",
    "double_user = list(participants\n",
    "    .groupby('user_id')\n",
    "    .nunique('ab_test')\n",
    "    .rename(columns={'ab_test':'number_of_tests'})\n",
    "    .query('number_of_tests > 1')\n",
    "    .reset_index()['user_id']\n",
    ")\n",
    "print('Кол-во пользователей, учавствующих в обоих тестах:',len(double_user))"
   ]
  },
  {
   "cell_type": "markdown",
   "id": "df27bed4",
   "metadata": {},
   "source": [
    "**Пользователи попавшие в обе группы теста recommender_system_test**"
   ]
  },
  {
   "cell_type": "code",
   "execution_count": 140,
   "id": "dec34ae2",
   "metadata": {
    "scrolled": true
   },
   "outputs": [
    {
     "name": "stdout",
     "output_type": "stream",
     "text": [
      "Кол-во пользователей, попавших в обе группы теста recommender_system_test: 0\n"
     ]
    }
   ],
   "source": [
    "# пользователи попавшие в обе группы теста recommender_system_test\n",
    "double_user = list(participants\n",
    "    .query('ab_test == \"recommender_system_test\"')\n",
    "    .groupby('user_id')\n",
    "    .nunique('group')\n",
    "    .rename(columns={'group':'number_of_groups'})\n",
    "    .query('number_of_groups > 1')\n",
    "    .reset_index()['user_id']\n",
    ")\n",
    "print('Кол-во пользователей, попавших в обе группы теста recommender_system_test:',len(double_user))"
   ]
  },
  {
   "cell_type": "markdown",
   "id": "f6040c8e",
   "metadata": {},
   "source": [
    "**Пользователи попавшие в обе группы теста interface_eu_test**"
   ]
  },
  {
   "cell_type": "code",
   "execution_count": 141,
   "id": "27211106",
   "metadata": {},
   "outputs": [
    {
     "name": "stdout",
     "output_type": "stream",
     "text": [
      "Кол-во пользователей, попавших в обе группы теста  interface_eu_test: 0\n"
     ]
    }
   ],
   "source": [
    "# пользователи попавшие в обе группы теста interface_eu_test\n",
    "double_user = list(participants\n",
    "    .query('ab_test == \"interface_eu_test\"')\n",
    "    .groupby('user_id')\n",
    "    .nunique('group')\n",
    "    .rename(columns={'group':'number_of_groups'})\n",
    "    .query('number_of_groups > 1')\n",
    "    .reset_index()['user_id']\n",
    ")\n",
    "print('Кол-во пользователей, попавших в обе группы теста  interface_eu_test:',len(double_user))"
   ]
  },
  {
   "cell_type": "markdown",
   "id": "19c21e2e",
   "metadata": {},
   "source": [
    "**Вывод:**\n",
    " - Название теста recommender_system_test соответствует ТЗ;\n",
    " - Есть пересечение между пользователями из разных тестов,выявлено 1602 случая;\n",
    " - Пересечение между A и B-группами внутри тестов не обнаружено:"
   ]
  },
  {
   "cell_type": "markdown",
   "id": "fceca7ff",
   "metadata": {},
   "source": [
    "**Проверка равномерности распределения пользователей по тестовым группам**"
   ]
  },
  {
   "cell_type": "code",
   "execution_count": 142,
   "id": "ecaa0514",
   "metadata": {
    "scrolled": true
   },
   "outputs": [
    {
     "name": "stdout",
     "output_type": "stream",
     "text": [
      "       user_id  ab_test\n",
      "group                  \n",
      "A         3824     3824\n",
      "B         2877     2877\n"
     ]
    }
   ],
   "source": [
    "recommender_test = participants.query('ab_test == \"recommender_system_test\"')\n",
    "#interface_test =  participants.query('ab_test == \"interface_eu_test\"')\n",
    "print(recommender_test.groupby('group').count())"
   ]
  },
  {
   "cell_type": "markdown",
   "id": "2ae6c74c",
   "metadata": {},
   "source": [
    "**Вывод:**\n",
    "Аудитория распределена неравномерно"
   ]
  },
  {
   "cell_type": "markdown",
   "id": "0eef0c56",
   "metadata": {},
   "source": [
    "**Проверка соответствия теста recommender_system_test техническому заданию**\n",
    "\n",
    "Для проверки необходимо отобрать во всех таблицах id пользователей, входящих в тест recommender_system_test"
   ]
  },
  {
   "cell_type": "code",
   "execution_count": 143,
   "id": "00acdb6a",
   "metadata": {},
   "outputs": [],
   "source": [
    "recommender_users_registration = users_registration.merge(recommender_test['user_id'], how='inner', on=['user_id'])\n",
    "recommender_users_events = users_events.merge(recommender_test['user_id'], how='inner', on=['user_id'])"
   ]
  },
  {
   "cell_type": "markdown",
   "id": "e7fc5d44",
   "metadata": {},
   "source": [
    "**Дата запуска: 2020-12-07**"
   ]
  },
  {
   "cell_type": "code",
   "execution_count": 144,
   "id": "7f8c7635",
   "metadata": {},
   "outputs": [
    {
     "name": "stdout",
     "output_type": "stream",
     "text": [
      "Начало регистрации 2020-12-07 00:00:00\n",
      "Начало взаимодействия пользователей с системой 2020-12-07 00:05:57\n"
     ]
    }
   ],
   "source": [
    "print('Начало регистрации', recommender_users_registration['first_date'].min())\n",
    "print('Начало взаимодействия пользователей с системой', recommender_users_events['event_dt'].min())"
   ]
  },
  {
   "cell_type": "markdown",
   "id": "5ef29dc2",
   "metadata": {},
   "source": [
    "**Вывод:**\n",
    "Все верно. Данные датируются от 2020-12-07"
   ]
  },
  {
   "cell_type": "markdown",
   "id": "cb761c51",
   "metadata": {},
   "source": [
    "**Дата остановки набора новых пользователей: 2020-12-21**"
   ]
  },
  {
   "cell_type": "code",
   "execution_count": 145,
   "id": "b88e0d3e",
   "metadata": {
    "scrolled": true
   },
   "outputs": [
    {
     "name": "stdout",
     "output_type": "stream",
     "text": [
      "Остановка  набора новых пользователей 2020-12-21 00:00:00\n"
     ]
    }
   ],
   "source": [
    "print('Остановка  набора новых пользователей', recommender_users_registration['first_date'].max())"
   ]
  },
  {
   "cell_type": "markdown",
   "id": "d63c9fb0",
   "metadata": {},
   "source": [
    "Все верно. Данные датируются от 2020-12-21"
   ]
  },
  {
   "cell_type": "markdown",
   "id": "49f33866",
   "metadata": {},
   "source": [
    "**Дата остановки: 2021-01-04**"
   ]
  },
  {
   "cell_type": "code",
   "execution_count": 146,
   "id": "b0e40576",
   "metadata": {},
   "outputs": [
    {
     "name": "stdout",
     "output_type": "stream",
     "text": [
      "Остановка взаимодействия пользователей с системой 2020-12-30 12:42:57\n"
     ]
    }
   ],
   "source": [
    "print('Остановка взаимодействия пользователей с системой',recommender_users_events['event_dt'].max())"
   ]
  },
  {
   "cell_type": "markdown",
   "id": "7b5a760a",
   "metadata": {},
   "source": [
    "**Вывод:**\n",
    "Неверно. Крайняя дата: 2020-12-30"
   ]
  },
  {
   "cell_type": "markdown",
   "id": "f13b4236",
   "metadata": {},
   "source": [
    "**Аудитория: 15% новых пользователей из региона EU**"
   ]
  },
  {
   "cell_type": "code",
   "execution_count": 147,
   "id": "2e0e8b0f",
   "metadata": {
    "scrolled": true
   },
   "outputs": [
    {
     "name": "stdout",
     "output_type": "stream",
     "text": [
      "      region   num\n",
      "0       APAC    72\n",
      "1        CIS    55\n",
      "2         EU  6351\n",
      "3  N.America   223\n",
      "Доля пользователей из региона EU: 94.77689897030294\n"
     ]
    }
   ],
   "source": [
    "cross_table = recommender_users_registration.groupby('region').agg({'user_id':'nunique'}).rename(columns={'user_id':'num'}).reset_index()\n",
    "print(cross_table)\n",
    "eu_share = cross_table[cross_table['region']=='EU']['num'][2] / cross_table['num'].sum() * 100\n",
    "print('Доля пользователей из региона EU:', eu_share)"
   ]
  },
  {
   "cell_type": "markdown",
   "id": "01f10e35",
   "metadata": {},
   "source": [
    "**Ожидаемое количество участников теста: 6000**"
   ]
  },
  {
   "cell_type": "code",
   "execution_count": 148,
   "id": "00e3e77c",
   "metadata": {
    "scrolled": true
   },
   "outputs": [
    {
     "data": {
      "text/html": [
       "<div>\n",
       "<style scoped>\n",
       "    .dataframe tbody tr th:only-of-type {\n",
       "        vertical-align: middle;\n",
       "    }\n",
       "\n",
       "    .dataframe tbody tr th {\n",
       "        vertical-align: top;\n",
       "    }\n",
       "\n",
       "    .dataframe thead th {\n",
       "        text-align: right;\n",
       "    }\n",
       "</style>\n",
       "<table border=\"1\" class=\"dataframe\">\n",
       "  <thead>\n",
       "    <tr style=\"text-align: right;\">\n",
       "      <th></th>\n",
       "      <th>user_id</th>\n",
       "      <th>event_dt</th>\n",
       "      <th>event_name</th>\n",
       "      <th>details</th>\n",
       "    </tr>\n",
       "  </thead>\n",
       "  <tbody>\n",
       "    <tr>\n",
       "      <th>0</th>\n",
       "      <td>831887FE7F2D6CBA</td>\n",
       "      <td>2020-12-07 06:50:29</td>\n",
       "      <td>purchase</td>\n",
       "      <td>4.99</td>\n",
       "    </tr>\n",
       "    <tr>\n",
       "      <th>1</th>\n",
       "      <td>831887FE7F2D6CBA</td>\n",
       "      <td>2020-12-09 02:19:17</td>\n",
       "      <td>purchase</td>\n",
       "      <td>99.99</td>\n",
       "    </tr>\n",
       "    <tr>\n",
       "      <th>2</th>\n",
       "      <td>831887FE7F2D6CBA</td>\n",
       "      <td>2020-12-07 06:50:30</td>\n",
       "      <td>product_cart</td>\n",
       "      <td>NaN</td>\n",
       "    </tr>\n",
       "    <tr>\n",
       "      <th>3</th>\n",
       "      <td>831887FE7F2D6CBA</td>\n",
       "      <td>2020-12-08 10:52:27</td>\n",
       "      <td>product_cart</td>\n",
       "      <td>NaN</td>\n",
       "    </tr>\n",
       "    <tr>\n",
       "      <th>4</th>\n",
       "      <td>831887FE7F2D6CBA</td>\n",
       "      <td>2020-12-09 02:19:17</td>\n",
       "      <td>product_cart</td>\n",
       "      <td>NaN</td>\n",
       "    </tr>\n",
       "  </tbody>\n",
       "</table>\n",
       "</div>"
      ],
      "text/plain": [
       "            user_id            event_dt    event_name  details\n",
       "0  831887FE7F2D6CBA 2020-12-07 06:50:29      purchase     4.99\n",
       "1  831887FE7F2D6CBA 2020-12-09 02:19:17      purchase    99.99\n",
       "2  831887FE7F2D6CBA 2020-12-07 06:50:30  product_cart      NaN\n",
       "3  831887FE7F2D6CBA 2020-12-08 10:52:27  product_cart      NaN\n",
       "4  831887FE7F2D6CBA 2020-12-09 02:19:17  product_cart      NaN"
      ]
     },
     "execution_count": 148,
     "metadata": {},
     "output_type": "execute_result"
    }
   ],
   "source": [
    "recommender_users_events.head()"
   ]
  },
  {
   "cell_type": "code",
   "execution_count": 149,
   "id": "098db8b6",
   "metadata": {},
   "outputs": [
    {
     "data": {
      "text/plain": [
       "6701"
      ]
     },
     "execution_count": 149,
     "metadata": {},
     "output_type": "execute_result"
    }
   ],
   "source": [
    "recommender_users_registration['user_id'].nunique()"
   ]
  },
  {
   "cell_type": "code",
   "execution_count": 150,
   "id": "b07130eb",
   "metadata": {},
   "outputs": [
    {
     "data": {
      "text/plain": [
       "3675"
      ]
     },
     "execution_count": 150,
     "metadata": {},
     "output_type": "execute_result"
    }
   ],
   "source": [
    "recommender_users_events['user_id'].nunique()"
   ]
  },
  {
   "cell_type": "markdown",
   "id": "60d61104",
   "metadata": {},
   "source": [
    "**Вывод:**\n",
    "По факту количество участников теста: 3675. Кол-во зарегистрировавшихся 6701 "
   ]
  },
  {
   "cell_type": "markdown",
   "id": "aee8ca8c",
   "metadata": {},
   "source": [
    "**Ожидаемый эффект: за 14 дней с момента регистрации в системе пользователи покажут улучшение каждой метрики не менее, чем на 10%:**\n",
    " - конверсии в просмотр карточек товаров — событие product_page\n",
    " - просмотры корзины — product_cart\n",
    " - покупки — purchase."
   ]
  },
  {
   "cell_type": "markdown",
   "id": "aeaef664",
   "metadata": {},
   "source": [
    "Необходимо расчитать лайфтайм для каждой сессии пользователя. Сделать срез данных для значения нулевого и четырнадцатого дня лайфтайма и рассчитать по ним конверсии. Так мы сможем отследить, как меняются метрики за 14 дней с момента регистрации пользователей в системе."
   ]
  },
  {
   "cell_type": "code",
   "execution_count": 151,
   "id": "f6befb2c",
   "metadata": {
    "scrolled": false
   },
   "outputs": [
    {
     "name": "stdout",
     "output_type": "stream",
     "text": [
      "Таблица конверсии для пользователей с нулевым лайфтаймом\n",
      "              user_id  prev_step  conv_abs  conv_in_step\n",
      "event_name                                              \n",
      "login            3668        NaN  0.998095           NaN\n",
      "product_page     2299     3668.0  0.625578      0.626772\n",
      "purchase         1127     2299.0  0.306667      0.490213\n",
      "product_cart     1075     1127.0  0.292517      0.953860\n",
      "\n",
      "Таблица конверсии для пользователей с лайфтаймом 2 недели\n",
      "              user_id  prev_step  conv_abs  conv_in_step\n",
      "event_name                                              \n",
      "login              88        NaN  1.000000           NaN\n",
      "product_page       53       88.0  0.602273      0.602273\n",
      "product_cart       23       53.0  0.261364      0.433962\n",
      "purchase           17       23.0  0.193182      0.739130\n"
     ]
    }
   ],
   "source": [
    "# составление профилей пользователей с информацией о первом посещении\n",
    "profiles = (\n",
    "  recommender_users_events\n",
    " .sort_values(by=['user_id', 'event_dt'], ascending=True)\n",
    " .groupby('user_id')\n",
    " .agg({'event_dt': 'first'})\n",
    " .rename(columns={'event_dt': 'first_event_dt'})\n",
    " .reset_index()  \n",
    ")\n",
    "\n",
    "# присоединение recommender_users_events к профилям по столбцу user_id для дальнейшего расчета лайфтайма\n",
    "result_raw = profiles.merge(\n",
    "    recommender_users_events[['user_id', 'event_dt', 'event_name', 'details']],\n",
    "    on='user_id',\n",
    "    how='left'\n",
    ")\n",
    "\n",
    "# рассчет лайфтайма в днях для каждой сессии \n",
    "result_raw['lifetime'] = (\n",
    "    result_raw['event_dt'] - result_raw['first_event_dt']\n",
    ").dt.days\n",
    "\n",
    "# срез данных для нулевого и четырнадцатого лайфтаймов\n",
    "zero_lifetime_users = result_raw.query('lifetime == 0')\n",
    "two_weeks_lifetime_users = result_raw.query('lifetime == 14')\n",
    "\n",
    "# функция для расчета конверсии\n",
    "def conversion_calculation(df):\n",
    "    # конверсия расчитывается по принципу кол-во пользователей совершивших определенный event разделить на\n",
    "    # кол-во пользователей которые вошли в срез 0 или 14 лайфтайма\n",
    "    # по условию все действия составляют воронку. Для воронки была расчитана конверсия в шаг.\n",
    "    #По факту действие product_cart выбивается из воронки\n",
    "    report = df.groupby('event_name').agg({'user_id':'nunique'}).sort_values(by = 'user_id', ascending = False)\n",
    "    report['prev_step'] =  report['user_id'].shift()\n",
    "    report['conv_abs'] = report['user_id']/df['user_id'].nunique()\n",
    "    report['conv_in_step'] = report['user_id']/report['prev_step']\n",
    "    \n",
    "    \n",
    "    return report\n",
    "\n",
    "print('Таблица конверсии для пользователей с нулевым лайфтаймом')\n",
    "print(conversion_calculation(zero_lifetime_users))\n",
    "print()\n",
    "print('Таблица конверсии для пользователей с лайфтаймом 2 недели')\n",
    "print(conversion_calculation(two_weeks_lifetime_users))"
   ]
  },
  {
   "cell_type": "markdown",
   "id": "4ec48efa",
   "metadata": {},
   "source": [
    "**Вывод:**\n",
    "За 14 дней пользовательского лайтайма с момента регистрации конверсия не увеличилась на 10%. Наоборот, конверсия упала."
   ]
  },
  {
   "cell_type": "markdown",
   "id": "c5a83c99",
   "metadata": {},
   "source": [
    "**Проверка времени проведения теста на совпадение с маркетинговыми активностями**\n",
    "\n",
    "Как было установлено ранее фактическая дата запуска теста: **2020-12-07 00:05:57**, \n",
    "фактическая дата остановки теста: **2020-12-30 12:42:57**\n"
   ]
  },
  {
   "cell_type": "code",
   "execution_count": 152,
   "id": "aa40dd96",
   "metadata": {},
   "outputs": [
    {
     "name": "stdout",
     "output_type": "stream",
     "text": [
      "2020-12-07 00:05:57 2020-12-30 12:42:57\n"
     ]
    }
   ],
   "source": [
    "test_start_dt = recommender_users_events['event_dt'].min()\n",
    "test_end_dt = recommender_users_events['event_dt'].max()\n",
    "print(test_start_dt, test_end_dt)"
   ]
  },
  {
   "cell_type": "code",
   "execution_count": 153,
   "id": "158d556c",
   "metadata": {
    "scrolled": true
   },
   "outputs": [
    {
     "data": {
      "text/html": [
       "<div>\n",
       "<style scoped>\n",
       "    .dataframe tbody tr th:only-of-type {\n",
       "        vertical-align: middle;\n",
       "    }\n",
       "\n",
       "    .dataframe tbody tr th {\n",
       "        vertical-align: top;\n",
       "    }\n",
       "\n",
       "    .dataframe thead th {\n",
       "        text-align: right;\n",
       "    }\n",
       "</style>\n",
       "<table border=\"1\" class=\"dataframe\">\n",
       "  <thead>\n",
       "    <tr style=\"text-align: right;\">\n",
       "      <th></th>\n",
       "      <th>name</th>\n",
       "      <th>regions</th>\n",
       "      <th>start_dt</th>\n",
       "      <th>finish_dt</th>\n",
       "    </tr>\n",
       "  </thead>\n",
       "  <tbody>\n",
       "    <tr>\n",
       "      <th>0</th>\n",
       "      <td>Christmas&amp;New Year Promo</td>\n",
       "      <td>EU, N.America</td>\n",
       "      <td>2020-12-25</td>\n",
       "      <td>2021-01-03</td>\n",
       "    </tr>\n",
       "    <tr>\n",
       "      <th>10</th>\n",
       "      <td>CIS New Year Gift Lottery</td>\n",
       "      <td>CIS</td>\n",
       "      <td>2020-12-30</td>\n",
       "      <td>2021-01-07</td>\n",
       "    </tr>\n",
       "  </tbody>\n",
       "</table>\n",
       "</div>"
      ],
      "text/plain": [
       "                         name        regions   start_dt  finish_dt\n",
       "0    Christmas&New Year Promo  EU, N.America 2020-12-25 2021-01-03\n",
       "10  CIS New Year Gift Lottery            CIS 2020-12-30 2021-01-07"
      ]
     },
     "execution_count": 153,
     "metadata": {},
     "output_type": "execute_result"
    }
   ],
   "source": [
    "\n",
    "# finish_dt < @test_start_dt - события, которые закончились раньше, чем начался тест (проводились до теста)\n",
    "# start_dt >  @test_end_dt - события, которые начались позже, чем закончился тест (проводились после теста)\n",
    "# ~(finish_dt < @test_start_dt | start_dt >  @test_end_dt) - события, которые проводились во время теста\n",
    "\n",
    "marketing_events.query('~(finish_dt < @test_start_dt | start_dt >  @test_end_dt)')"
   ]
  },
  {
   "cell_type": "markdown",
   "id": "d8babf50",
   "metadata": {},
   "source": [
    "**Вывод:**\n",
    "Маркетинговые события Christmas&New Year Promo и CIS New Year Gift Lottery проводились во время теста"
   ]
  },
  {
   "cell_type": "markdown",
   "id": "e0977d65",
   "metadata": {},
   "source": [
    "### Вывод\n",
    " - Название теста recommender_system_test соответствует ТЗ;\n",
    " - Есть пересечение между пользователями из разных тестов,выявлено 1602 случая;\n",
    " - Пересечение между A и B-группами внутри тестов не обнаружено;\n",
    " - Аудитория распределена неравномерно.В группе А 3824 участника, в группе B 2877 участника;\n",
    " - 2020-12-07 в cоответствии с ТЗ началась регистрация пользователей и их взаимодействие с системой;\n",
    " - Остановка взаимодействия пользователей с системой по факту произошла 2020-12-30, что противоречит ТЗ (2021-01-04);\n",
    " - По ТЗ 15% новых пользователей из региона EU, но по факту из EU 95% новых пользователей;\n",
    " - По ТЗ ожидаемое количество участников теста: 6000. По факту зарегистрировался 6701 участник, а взаимодействовало с системой 3675;\n",
    " - Ожидаемый эффект по улучшению метрик на 10% за 14 дней не был достигнут. Конверсия упала;\n",
    " - Маркетинговые события Christmas&New Year Promo и CIS New Year Gift Lottery проводились во время теста.\n",
    " \n",
    " "
   ]
  },
  {
   "cell_type": "markdown",
   "id": "ac2dfc6a",
   "metadata": {},
   "source": [
    "##  Исследовательский анализ данных"
   ]
  },
  {
   "cell_type": "markdown",
   "id": "1816ab23",
   "metadata": {},
   "source": [
    "### Количество событий на пользователя для А/B - выборок"
   ]
  },
  {
   "cell_type": "code",
   "execution_count": 154,
   "id": "16c4e792",
   "metadata": {
    "scrolled": false
   },
   "outputs": [
    {
     "name": "stdout",
     "output_type": "stream",
     "text": [
      "Среднее кол-во событий на пользователя в выборке А: 6.0\n",
      "Среднее кол-во событий на пользователя в выборке B: 5.0\n"
     ]
    },
    {
     "data": {
      "text/plain": [
       "Text(0.5, 1.0, 'Количество событий на пользователя для группы B')"
      ]
     },
     "execution_count": 154,
     "metadata": {},
     "output_type": "execute_result"
    },
    {
     "data": {
      "image/png": "[encoded data removed]",
      "text/plain": [
       "<Figure size 432x288 with 1 Axes>"
      ]
     },
     "metadata": {
      "needs_background": "light"
     },
     "output_type": "display_data"
    },
    {
     "data": {
      "image/png": "[encoded data removed]",
      "text/plain": [
       "<Figure size 432x288 with 1 Axes>"
      ]
     },
     "metadata": {
      "needs_background": "light"
     },
     "output_type": "display_data"
    }
   ],
   "source": [
    "# соединение таблицы событий recommender_users_events с таблицей информации о A/B-группах recommender_test\n",
    "recommender_users_events_groups = recommender_users_events.merge(recommender_test, how='inner',on='user_id')\n",
    "# разделение таблицы на группы A и B\n",
    "recommender_users_events_a = recommender_users_events_groups.query('group == \"A\"')\n",
    "recommender_users_events_b = recommender_users_events_groups.query('group == \"B\"')\n",
    "\n",
    "# построение гистограмм количества событий на пользователя\n",
    "number_of_events_per_user_a_table = (recommender_users_events_a\n",
    "                                     .groupby('user_id')\n",
    "                                     .agg({'event_name':'count'})\n",
    "                                     .rename(columns={'event_name':'num_of_events'})\n",
    "                                    )\n",
    "print('Среднее кол-во событий на пользователя в выборке А:', number_of_events_per_user_a_table['num_of_events'].median())\n",
    "number_of_events_per_user_a_table.hist(bins=10, edgecolor=\"black\", grid=False)\n",
    "plt.title('Количество событий на пользователя для группы А');\n",
    "\n",
    "# построение гистограмм количества событий на пользователя\n",
    "number_of_events_per_user_b_table = (recommender_users_events_b\n",
    "                                     .groupby('user_id')\n",
    "                                     .agg({'event_name':'count'})\n",
    "                                     .rename(columns={'event_name':'num_of_events'})\n",
    "                                    )\n",
    "print('Среднее кол-во событий на пользователя в выборке B:', number_of_events_per_user_b_table['num_of_events'].median())\n",
    "number_of_events_per_user_b_table.hist(bins=10, edgecolor=\"black\", grid=False)\n",
    "plt.title('Количество событий на пользователя для группы B')"
   ]
  },
  {
   "cell_type": "markdown",
   "id": "abf96582",
   "metadata": {},
   "source": [
    "### Вывод\n",
    "\n",
    "Для выборки А кол-во событий на пользователя в среднем на одно больше, чем для выборки B"
   ]
  },
  {
   "cell_type": "markdown",
   "id": "a9233e61",
   "metadata": {},
   "source": [
    "### Распределение числа событий по дням"
   ]
  },
  {
   "cell_type": "code",
   "execution_count": 155,
   "id": "8a991926",
   "metadata": {
    "scrolled": false
   },
   "outputs": [
    {
     "data": {
      "image/png": "[encoded data removed]",
      "text/plain": [
       "<Figure size 1280x640 with 1 Axes>"
      ]
     },
     "metadata": {
      "needs_background": "light"
     },
     "output_type": "display_data"
    }
   ],
   "source": [
    "# добавление колонки с датой\n",
    "recommender_users_events_a['dt'] = pd.to_datetime(recommender_users_events_a['event_dt']).dt.date\n",
    "recommender_users_events_b['dt'] = pd.to_datetime(recommender_users_events_b['event_dt']).dt.date\n",
    "\n",
    "# таблица распределение числа событий по дням для группы А\n",
    "number_of_events_per_date_a = (recommender_users_events_a\n",
    "                               .groupby('dt')\n",
    "                               .agg({'event_name':'count'})\n",
    "                               .rename(columns={'event_name':'num_of_events'})\n",
    "                               .reset_index()\n",
    "                              )\n",
    "                            \n",
    "# таблица распределение числа событий по дням для группы B\n",
    "number_of_events_per_date_b = (recommender_users_events_b\n",
    "                               .groupby('dt')\n",
    "                               .agg({'event_name':'count'})\n",
    "                               .rename(columns={'event_name':'num_of_events'})\n",
    "                               .reset_index()\n",
    "                              )\n",
    "\n",
    "plt.figure(figsize=(16, 8), dpi=80)\n",
    "plt.plot( number_of_events_per_date_a['dt'], number_of_events_per_date_a['num_of_events'], label='A')\n",
    "plt.plot( number_of_events_per_date_b['dt'], number_of_events_per_date_b['num_of_events'], label='B')\n",
    "plt.legend()\n",
    "plt.grid()\n",
    "plt.title('Распределение числа событий по дням в разрезе по тестовым группам A и B');"
   ]
  },
  {
   "cell_type": "markdown",
   "id": "a4400c00",
   "metadata": {},
   "source": [
    "### Вывод\n",
    "\n",
    "Больше всего событий для групп А и B зафиксировано в дату остановки набора новых пользователей (2020-12-21). C 2020-12-13 по 2020-12-21 активность в группе А увеличивалась более стремительно, чем для группы B."
   ]
  },
  {
   "cell_type": "markdown",
   "id": "12b441f7",
   "metadata": {},
   "source": [
    "### Конверсия на разных этапах в зависимости от выборки"
   ]
  },
  {
   "cell_type": "code",
   "execution_count": 156,
   "id": "300bc65a",
   "metadata": {
    "scrolled": true
   },
   "outputs": [
    {
     "name": "stdout",
     "output_type": "stream",
     "text": [
      "Конверсия для выборки А\n",
      "              user_id  prev_step  conv_abs  conv_in_step\n",
      "event_name                                              \n",
      "login            2747        NaN  1.000000           NaN\n",
      "product_page     1780     2747.0  0.647980      0.647980\n",
      "purchase          872     1780.0  0.317437      0.489888\n",
      "product_cart      824      872.0  0.299964      0.944954\n",
      "\n",
      "Конверсия для выборки B\n",
      "              user_id  prev_step  conv_abs  conv_in_step\n",
      "event_name                                              \n",
      "login             928        NaN  1.000000           NaN\n",
      "product_page      523      928.0  0.563578      0.563578\n",
      "purchase          256      523.0  0.275862      0.489484\n",
      "product_cart      255      256.0  0.274784      0.996094\n"
     ]
    }
   ],
   "source": [
    "print('Конверсия для выборки А')\n",
    "a_conversion = conversion_calculation(recommender_users_events_a)\n",
    "b_conversion = conversion_calculation(recommender_users_events_b)\n",
    "print(a_conversion)\n",
    "print()\n",
    "print('Конверсия для выборки B')\n",
    "print(b_conversion)"
   ]
  },
  {
   "cell_type": "code",
   "execution_count": 157,
   "id": "20113f99",
   "metadata": {
    "scrolled": true
   },
   "outputs": [
    {
     "data": {
      "application/vnd.plotly.v1+json": {
       "config": {
        "plotlyServerURL": "https://plot.ly"
       },
       "data": [
        {
         "name": "группа А",
         "type": "funnel",
         "x": [
          2747,
          1780,
          872,
          824
         ],
         "xaxis": "x",
         "y": [
          "login",
          "product_page",
          "purchase",
          "product_cart"
         ],
         "yaxis": "y"
        },
        {
         "name": "группа B",
         "type": "funnel",
         "x": [
          928,
          523,
          256,
          255
         ],
         "xaxis": "x2",
         "y": [
          "login",
          "product_page",
          "purchase",
          "product_cart"
         ],
         "yaxis": "y2"
        }
       ],
       "layout": {
        "template": {
         "data": {
          "bar": [
           {
            "error_x": {
             "color": "#2a3f5f"
            },
            "error_y": {
             "color": "#2a3f5f"
            },
            "marker": {
             "line": {
              "color": "#E5ECF6",
              "width": 0.5
             },
             "pattern": {
              "fillmode": "overlay",
              "size": 10,
              "solidity": 0.2
             }
            },
            "type": "bar"
           }
          ],
          "barpolar": [
           {
            "marker": {
             "line": {
              "color": "#E5ECF6",
              "width": 0.5
             },
             "pattern": {
              "fillmode": "overlay",
              "size": 10,
              "solidity": 0.2
             }
            },
            "type": "barpolar"
           }
          ],
          "carpet": [
           {
            "aaxis": {
             "endlinecolor": "#2a3f5f",
             "gridcolor": "white",
             "linecolor": "white",
             "minorgridcolor": "white",
             "startlinecolor": "#2a3f5f"
            },
            "baxis": {
             "endlinecolor": "#2a3f5f",
             "gridcolor": "white",
             "linecolor": "white",
             "minorgridcolor": "white",
             "startlinecolor": "#2a3f5f"
            },
            "type": "carpet"
           }
          ],
          "choropleth": [
           {
            "colorbar": {
             "outlinewidth": 0,
             "ticks": ""
            },
            "type": "choropleth"
           }
          ],
          "contour": [
           {
            "colorbar": {
             "outlinewidth": 0,
             "ticks": ""
            },
            "colorscale": [
             [
              0,
              "#0d0887"
             ],
             [
              0.1111111111111111,
              "#46039f"
             ],
             [
              0.2222222222222222,
              "#7201a8"
             ],
             [
              0.3333333333333333,
              "#9c179e"
             ],
             [
              0.4444444444444444,
              "#bd3786"
             ],
             [
              0.5555555555555556,
              "#d8576b"
             ],
             [
              0.6666666666666666,
              "#ed7953"
             ],
             [
              0.7777777777777778,
              "#fb9f3a"
             ],
             [
              0.8888888888888888,
              "#fdca26"
             ],
             [
              1,
              "#f0f921"
             ]
            ],
            "type": "contour"
           }
          ],
          "contourcarpet": [
           {
            "colorbar": {
             "outlinewidth": 0,
             "ticks": ""
            },
            "type": "contourcarpet"
           }
          ],
          "heatmap": [
           {
            "colorbar": {
             "outlinewidth": 0,
             "ticks": ""
            },
            "colorscale": [
             [
              0,
              "#0d0887"
             ],
             [
              0.1111111111111111,
              "#46039f"
             ],
             [
              0.2222222222222222,
              "#7201a8"
             ],
             [
              0.3333333333333333,
              "#9c179e"
             ],
             [
              0.4444444444444444,
              "#bd3786"
             ],
             [
              0.5555555555555556,
              "#d8576b"
             ],
             [
              0.6666666666666666,
              "#ed7953"
             ],
             [
              0.7777777777777778,
              "#fb9f3a"
             ],
             [
              0.8888888888888888,
              "#fdca26"
             ],
             [
              1,
              "#f0f921"
             ]
            ],
            "type": "heatmap"
           }
          ],
          "heatmapgl": [
           {
            "colorbar": {
             "outlinewidth": 0,
             "ticks": ""
            },
            "colorscale": [
             [
              0,
              "#0d0887"
             ],
             [
              0.1111111111111111,
              "#46039f"
             ],
             [
              0.2222222222222222,
              "#7201a8"
             ],
             [
              0.3333333333333333,
              "#9c179e"
             ],
             [
              0.4444444444444444,
              "#bd3786"
             ],
             [
              0.5555555555555556,
              "#d8576b"
             ],
             [
              0.6666666666666666,
              "#ed7953"
             ],
             [
              0.7777777777777778,
              "#fb9f3a"
             ],
             [
              0.8888888888888888,
              "#fdca26"
             ],
             [
              1,
              "#f0f921"
             ]
            ],
            "type": "heatmapgl"
           }
          ],
          "histogram": [
           {
            "marker": {
             "pattern": {
              "fillmode": "overlay",
              "size": 10,
              "solidity": 0.2
             }
            },
            "type": "histogram"
           }
          ],
          "histogram2d": [
           {
            "colorbar": {
             "outlinewidth": 0,
             "ticks": ""
            },
            "colorscale": [
             [
              0,
              "#0d0887"
             ],
             [
              0.1111111111111111,
              "#46039f"
             ],
             [
              0.2222222222222222,
              "#7201a8"
             ],
             [
              0.3333333333333333,
              "#9c179e"
             ],
             [
              0.4444444444444444,
              "#bd3786"
             ],
             [
              0.5555555555555556,
              "#d8576b"
             ],
             [
              0.6666666666666666,
              "#ed7953"
             ],
             [
              0.7777777777777778,
              "#fb9f3a"
             ],
             [
              0.8888888888888888,
              "#fdca26"
             ],
             [
              1,
              "#f0f921"
             ]
            ],
            "type": "histogram2d"
           }
          ],
          "histogram2dcontour": [
           {
            "colorbar": {
             "outlinewidth": 0,
             "ticks": ""
            },
            "colorscale": [
             [
              0,
              "#0d0887"
             ],
             [
              0.1111111111111111,
              "#46039f"
             ],
             [
              0.2222222222222222,
              "#7201a8"
             ],
             [
              0.3333333333333333,
              "#9c179e"
             ],
             [
              0.4444444444444444,
              "#bd3786"
             ],
             [
              0.5555555555555556,
              "#d8576b"
             ],
             [
              0.6666666666666666,
              "#ed7953"
             ],
             [
              0.7777777777777778,
              "#fb9f3a"
             ],
             [
              0.8888888888888888,
              "#fdca26"
             ],
             [
              1,
              "#f0f921"
             ]
            ],
            "type": "histogram2dcontour"
           }
          ],
          "mesh3d": [
           {
            "colorbar": {
             "outlinewidth": 0,
             "ticks": ""
            },
            "type": "mesh3d"
           }
          ],
          "parcoords": [
           {
            "line": {
             "colorbar": {
              "outlinewidth": 0,
              "ticks": ""
             }
            },
            "type": "parcoords"
           }
          ],
          "pie": [
           {
            "automargin": true,
            "type": "pie"
           }
          ],
          "scatter": [
           {
            "marker": {
             "colorbar": {
              "outlinewidth": 0,
              "ticks": ""
             }
            },
            "type": "scatter"
           }
          ],
          "scatter3d": [
           {
            "line": {
             "colorbar": {
              "outlinewidth": 0,
              "ticks": ""
             }
            },
            "marker": {
             "colorbar": {
              "outlinewidth": 0,
              "ticks": ""
             }
            },
            "type": "scatter3d"
           }
          ],
          "scattercarpet": [
           {
            "marker": {
             "colorbar": {
              "outlinewidth": 0,
              "ticks": ""
             }
            },
            "type": "scattercarpet"
           }
          ],
          "scattergeo": [
           {
            "marker": {
             "colorbar": {
              "outlinewidth": 0,
              "ticks": ""
             }
            },
            "type": "scattergeo"
           }
          ],
          "scattergl": [
           {
            "marker": {
             "colorbar": {
              "outlinewidth": 0,
              "ticks": ""
             }
            },
            "type": "scattergl"
           }
          ],
          "scattermapbox": [
           {
            "marker": {
             "colorbar": {
              "outlinewidth": 0,
              "ticks": ""
             }
            },
            "type": "scattermapbox"
           }
          ],
          "scatterpolar": [
           {
            "marker": {
             "colorbar": {
              "outlinewidth": 0,
              "ticks": ""
             }
            },
            "type": "scatterpolar"
           }
          ],
          "scatterpolargl": [
           {
            "marker": {
             "colorbar": {
              "outlinewidth": 0,
              "ticks": ""
             }
            },
            "type": "scatterpolargl"
           }
          ],
          "scatterternary": [
           {
            "marker": {
             "colorbar": {
              "outlinewidth": 0,
              "ticks": ""
             }
            },
            "type": "scatterternary"
           }
          ],
          "surface": [
           {
            "colorbar": {
             "outlinewidth": 0,
             "ticks": ""
            },
            "colorscale": [
             [
              0,
              "#0d0887"
             ],
             [
              0.1111111111111111,
              "#46039f"
             ],
             [
              0.2222222222222222,
              "#7201a8"
             ],
             [
              0.3333333333333333,
              "#9c179e"
             ],
             [
              0.4444444444444444,
              "#bd3786"
             ],
             [
              0.5555555555555556,
              "#d8576b"
             ],
             [
              0.6666666666666666,
              "#ed7953"
             ],
             [
              0.7777777777777778,
              "#fb9f3a"
             ],
             [
              0.8888888888888888,
              "#fdca26"
             ],
             [
              1,
              "#f0f921"
             ]
            ],
            "type": "surface"
           }
          ],
          "table": [
           {
            "cells": {
             "fill": {
              "color": "#EBF0F8"
             },
             "line": {
              "color": "white"
             }
            },
            "header": {
             "fill": {
              "color": "#C8D4E3"
             },
             "line": {
              "color": "white"
             }
            },
            "type": "table"
           }
          ]
         },
         "layout": {
          "annotationdefaults": {
           "arrowcolor": "#2a3f5f",
           "arrowhead": 0,
           "arrowwidth": 1
          },
          "autotypenumbers": "strict",
          "coloraxis": {
           "colorbar": {
            "outlinewidth": 0,
            "ticks": ""
           }
          },
          "colorscale": {
           "diverging": [
            [
             0,
             "#8e0152"
            ],
            [
             0.1,
             "#c51b7d"
            ],
            [
             0.2,
             "#de77ae"
            ],
            [
             0.3,
             "#f1b6da"
            ],
            [
             0.4,
             "#fde0ef"
            ],
            [
             0.5,
             "#f7f7f7"
            ],
            [
             0.6,
             "#e6f5d0"
            ],
            [
             0.7,
             "#b8e186"
            ],
            [
             0.8,
             "#7fbc41"
            ],
            [
             0.9,
             "#4d9221"
            ],
            [
             1,
             "#276419"
            ]
           ],
           "sequential": [
            [
             0,
             "#0d0887"
            ],
            [
             0.1111111111111111,
             "#46039f"
            ],
            [
             0.2222222222222222,
             "#7201a8"
            ],
            [
             0.3333333333333333,
             "#9c179e"
            ],
            [
             0.4444444444444444,
             "#bd3786"
            ],
            [
             0.5555555555555556,
             "#d8576b"
            ],
            [
             0.6666666666666666,
             "#ed7953"
            ],
            [
             0.7777777777777778,
             "#fb9f3a"
            ],
            [
             0.8888888888888888,
             "#fdca26"
            ],
            [
             1,
             "#f0f921"
            ]
           ],
           "sequentialminus": [
            [
             0,
             "#0d0887"
            ],
            [
             0.1111111111111111,
             "#46039f"
            ],
            [
             0.2222222222222222,
             "#7201a8"
            ],
            [
             0.3333333333333333,
             "#9c179e"
            ],
            [
             0.4444444444444444,
             "#bd3786"
            ],
            [
             0.5555555555555556,
             "#d8576b"
            ],
            [
             0.6666666666666666,
             "#ed7953"
            ],
            [
             0.7777777777777778,
             "#fb9f3a"
            ],
            [
             0.8888888888888888,
             "#fdca26"
            ],
            [
             1,
             "#f0f921"
            ]
           ]
          },
          "colorway": [
           "#636efa",
           "#EF553B",
           "#00cc96",
           "#ab63fa",
           "#FFA15A",
           "#19d3f3",
           "#FF6692",
           "#B6E880",
           "#FF97FF",
           "#FECB52"
          ],
          "font": {
           "color": "#2a3f5f"
          },
          "geo": {
           "bgcolor": "white",
           "lakecolor": "white",
           "landcolor": "#E5ECF6",
           "showlakes": true,
           "showland": true,
           "subunitcolor": "white"
          },
          "hoverlabel": {
           "align": "left"
          },
          "hovermode": "closest",
          "mapbox": {
           "style": "light"
          },
          "paper_bgcolor": "white",
          "plot_bgcolor": "#E5ECF6",
          "polar": {
           "angularaxis": {
            "gridcolor": "white",
            "linecolor": "white",
            "ticks": ""
           },
           "bgcolor": "#E5ECF6",
           "radialaxis": {
            "gridcolor": "white",
            "linecolor": "white",
            "ticks": ""
           }
          },
          "scene": {
           "xaxis": {
            "backgroundcolor": "#E5ECF6",
            "gridcolor": "white",
            "gridwidth": 2,
            "linecolor": "white",
            "showbackground": true,
            "ticks": "",
            "zerolinecolor": "white"
           },
           "yaxis": {
            "backgroundcolor": "#E5ECF6",
            "gridcolor": "white",
            "gridwidth": 2,
            "linecolor": "white",
            "showbackground": true,
            "ticks": "",
            "zerolinecolor": "white"
           },
           "zaxis": {
            "backgroundcolor": "#E5ECF6",
            "gridcolor": "white",
            "gridwidth": 2,
            "linecolor": "white",
            "showbackground": true,
            "ticks": "",
            "zerolinecolor": "white"
           }
          },
          "shapedefaults": {
           "line": {
            "color": "#2a3f5f"
           }
          },
          "ternary": {
           "aaxis": {
            "gridcolor": "white",
            "linecolor": "white",
            "ticks": ""
           },
           "baxis": {
            "gridcolor": "white",
            "linecolor": "white",
            "ticks": ""
           },
           "bgcolor": "#E5ECF6",
           "caxis": {
            "gridcolor": "white",
            "linecolor": "white",
            "ticks": ""
           }
          },
          "title": {
           "x": 0.05
          },
          "xaxis": {
           "automargin": true,
           "gridcolor": "white",
           "linecolor": "white",
           "ticks": "",
           "title": {
            "standoff": 15
           },
           "zerolinecolor": "white",
           "zerolinewidth": 2
          },
          "yaxis": {
           "automargin": true,
           "gridcolor": "white",
           "linecolor": "white",
           "ticks": "",
           "title": {
            "standoff": 15
           },
           "zerolinecolor": "white",
           "zerolinewidth": 2
          }
         }
        },
        "xaxis": {
         "anchor": "y",
         "domain": [
          0,
          0.45
         ]
        },
        "xaxis2": {
         "anchor": "y2",
         "domain": [
          0.55,
          1
         ]
        },
        "yaxis": {
         "anchor": "x",
         "domain": [
          0,
          1
         ],
         "title": {
          "text": "Названия событий"
         }
        },
        "yaxis2": {
         "anchor": "x2",
         "domain": [
          0,
          1
         ],
         "matches": "y",
         "showticklabels": false
        }
       }
      },
      "text/html": [
       "<div>                            <div id=\"7d009e15-306d-4fa8-9acb-414e76deb3da\" class=\"plotly-graph-div\" style=\"height:525px; width:100%;\"></div>            <script type=\"text/javascript\">                require([\"plotly\"], function(Plotly) {                    window.PLOTLYENV=window.PLOTLYENV || {};                                    if (document.getElementById(\"7d009e15-306d-4fa8-9acb-414e76deb3da\")) {                    Plotly.newPlot(                        \"7d009e15-306d-4fa8-9acb-414e76deb3da\",                        [{\"name\":\"\\u0433\\u0440\\u0443\\u043f\\u043f\\u0430 \\u0410\",\"x\":[2747,1780,872,824],\"y\":[\"login\",\"product_page\",\"purchase\",\"product_cart\"],\"type\":\"funnel\",\"xaxis\":\"x\",\"yaxis\":\"y\"},{\"name\":\"\\u0433\\u0440\\u0443\\u043f\\u043f\\u0430 B\",\"x\":[928,523,256,255],\"y\":[\"login\",\"product_page\",\"purchase\",\"product_cart\"],\"type\":\"funnel\",\"xaxis\":\"x2\",\"yaxis\":\"y2\"}],                        {\"template\":{\"data\":{\"bar\":[{\"error_x\":{\"color\":\"#2a3f5f\"},\"error_y\":{\"color\":\"#2a3f5f\"},\"marker\":{\"line\":{\"color\":\"#E5ECF6\",\"width\":0.5},\"pattern\":{\"fillmode\":\"overlay\",\"size\":10,\"solidity\":0.2}},\"type\":\"bar\"}],\"barpolar\":[{\"marker\":{\"line\":{\"color\":\"#E5ECF6\",\"width\":0.5},\"pattern\":{\"fillmode\":\"overlay\",\"size\":10,\"solidity\":0.2}},\"type\":\"barpolar\"}],\"carpet\":[{\"aaxis\":{\"endlinecolor\":\"#2a3f5f\",\"gridcolor\":\"white\",\"linecolor\":\"white\",\"minorgridcolor\":\"white\",\"startlinecolor\":\"#2a3f5f\"},\"baxis\":{\"endlinecolor\":\"#2a3f5f\",\"gridcolor\":\"white\",\"linecolor\":\"white\",\"minorgridcolor\":\"white\",\"startlinecolor\":\"#2a3f5f\"},\"type\":\"carpet\"}],\"choropleth\":[{\"colorbar\":{\"outlinewidth\":0,\"ticks\":\"\"},\"type\":\"choropleth\"}],\"contour\":[{\"colorbar\":{\"outlinewidth\":0,\"ticks\":\"\"},\"colorscale\":[[0.0,\"#0d0887\"],[0.1111111111111111,\"#46039f\"],[0.2222222222222222,\"#7201a8\"],[0.3333333333333333,\"#9c179e\"],[0.4444444444444444,\"#bd3786\"],[0.5555555555555556,\"#d8576b\"],[0.6666666666666666,\"#ed7953\"],[0.7777777777777778,\"#fb9f3a\"],[0.8888888888888888,\"#fdca26\"],[1.0,\"#f0f921\"]],\"type\":\"contour\"}],\"contourcarpet\":[{\"colorbar\":{\"outlinewidth\":0,\"ticks\":\"\"},\"type\":\"contourcarpet\"}],\"heatmap\":[{\"colorbar\":{\"outlinewidth\":0,\"ticks\":\"\"},\"colorscale\":[[0.0,\"#0d0887\"],[0.1111111111111111,\"#46039f\"],[0.2222222222222222,\"#7201a8\"],[0.3333333333333333,\"#9c179e\"],[0.4444444444444444,\"#bd3786\"],[0.5555555555555556,\"#d8576b\"],[0.6666666666666666,\"#ed7953\"],[0.7777777777777778,\"#fb9f3a\"],[0.8888888888888888,\"#fdca26\"],[1.0,\"#f0f921\"]],\"type\":\"heatmap\"}],\"heatmapgl\":[{\"colorbar\":{\"outlinewidth\":0,\"ticks\":\"\"},\"colorscale\":[[0.0,\"#0d0887\"],[0.1111111111111111,\"#46039f\"],[0.2222222222222222,\"#7201a8\"],[0.3333333333333333,\"#9c179e\"],[0.4444444444444444,\"#bd3786\"],[0.5555555555555556,\"#d8576b\"],[0.6666666666666666,\"#ed7953\"],[0.7777777777777778,\"#fb9f3a\"],[0.8888888888888888,\"#fdca26\"],[1.0,\"#f0f921\"]],\"type\":\"heatmapgl\"}],\"histogram\":[{\"marker\":{\"pattern\":{\"fillmode\":\"overlay\",\"size\":10,\"solidity\":0.2}},\"type\":\"histogram\"}],\"histogram2d\":[{\"colorbar\":{\"outlinewidth\":0,\"ticks\":\"\"},\"colorscale\":[[0.0,\"#0d0887\"],[0.1111111111111111,\"#46039f\"],[0.2222222222222222,\"#7201a8\"],[0.3333333333333333,\"#9c179e\"],[0.4444444444444444,\"#bd3786\"],[0.5555555555555556,\"#d8576b\"],[0.6666666666666666,\"#ed7953\"],[0.7777777777777778,\"#fb9f3a\"],[0.8888888888888888,\"#fdca26\"],[1.0,\"#f0f921\"]],\"type\":\"histogram2d\"}],\"histogram2dcontour\":[{\"colorbar\":{\"outlinewidth\":0,\"ticks\":\"\"},\"colorscale\":[[0.0,\"#0d0887\"],[0.1111111111111111,\"#46039f\"],[0.2222222222222222,\"#7201a8\"],[0.3333333333333333,\"#9c179e\"],[0.4444444444444444,\"#bd3786\"],[0.5555555555555556,\"#d8576b\"],[0.6666666666666666,\"#ed7953\"],[0.7777777777777778,\"#fb9f3a\"],[0.8888888888888888,\"#fdca26\"],[1.0,\"#f0f921\"]],\"type\":\"histogram2dcontour\"}],\"mesh3d\":[{\"colorbar\":{\"outlinewidth\":0,\"ticks\":\"\"},\"type\":\"mesh3d\"}],\"parcoords\":[{\"line\":{\"colorbar\":{\"outlinewidth\":0,\"ticks\":\"\"}},\"type\":\"parcoords\"}],\"pie\":[{\"automargin\":true,\"type\":\"pie\"}],\"scatter\":[{\"marker\":{\"colorbar\":{\"outlinewidth\":0,\"ticks\":\"\"}},\"type\":\"scatter\"}],\"scatter3d\":[{\"line\":{\"colorbar\":{\"outlinewidth\":0,\"ticks\":\"\"}},\"marker\":{\"colorbar\":{\"outlinewidth\":0,\"ticks\":\"\"}},\"type\":\"scatter3d\"}],\"scattercarpet\":[{\"marker\":{\"colorbar\":{\"outlinewidth\":0,\"ticks\":\"\"}},\"type\":\"scattercarpet\"}],\"scattergeo\":[{\"marker\":{\"colorbar\":{\"outlinewidth\":0,\"ticks\":\"\"}},\"type\":\"scattergeo\"}],\"scattergl\":[{\"marker\":{\"colorbar\":{\"outlinewidth\":0,\"ticks\":\"\"}},\"type\":\"scattergl\"}],\"scattermapbox\":[{\"marker\":{\"colorbar\":{\"outlinewidth\":0,\"ticks\":\"\"}},\"type\":\"scattermapbox\"}],\"scatterpolar\":[{\"marker\":{\"colorbar\":{\"outlinewidth\":0,\"ticks\":\"\"}},\"type\":\"scatterpolar\"}],\"scatterpolargl\":[{\"marker\":{\"colorbar\":{\"outlinewidth\":0,\"ticks\":\"\"}},\"type\":\"scatterpolargl\"}],\"scatterternary\":[{\"marker\":{\"colorbar\":{\"outlinewidth\":0,\"ticks\":\"\"}},\"type\":\"scatterternary\"}],\"surface\":[{\"colorbar\":{\"outlinewidth\":0,\"ticks\":\"\"},\"colorscale\":[[0.0,\"#0d0887\"],[0.1111111111111111,\"#46039f\"],[0.2222222222222222,\"#7201a8\"],[0.3333333333333333,\"#9c179e\"],[0.4444444444444444,\"#bd3786\"],[0.5555555555555556,\"#d8576b\"],[0.6666666666666666,\"#ed7953\"],[0.7777777777777778,\"#fb9f3a\"],[0.8888888888888888,\"#fdca26\"],[1.0,\"#f0f921\"]],\"type\":\"surface\"}],\"table\":[{\"cells\":{\"fill\":{\"color\":\"#EBF0F8\"},\"line\":{\"color\":\"white\"}},\"header\":{\"fill\":{\"color\":\"#C8D4E3\"},\"line\":{\"color\":\"white\"}},\"type\":\"table\"}]},\"layout\":{\"annotationdefaults\":{\"arrowcolor\":\"#2a3f5f\",\"arrowhead\":0,\"arrowwidth\":1},\"autotypenumbers\":\"strict\",\"coloraxis\":{\"colorbar\":{\"outlinewidth\":0,\"ticks\":\"\"}},\"colorscale\":{\"diverging\":[[0,\"#8e0152\"],[0.1,\"#c51b7d\"],[0.2,\"#de77ae\"],[0.3,\"#f1b6da\"],[0.4,\"#fde0ef\"],[0.5,\"#f7f7f7\"],[0.6,\"#e6f5d0\"],[0.7,\"#b8e186\"],[0.8,\"#7fbc41\"],[0.9,\"#4d9221\"],[1,\"#276419\"]],\"sequential\":[[0.0,\"#0d0887\"],[0.1111111111111111,\"#46039f\"],[0.2222222222222222,\"#7201a8\"],[0.3333333333333333,\"#9c179e\"],[0.4444444444444444,\"#bd3786\"],[0.5555555555555556,\"#d8576b\"],[0.6666666666666666,\"#ed7953\"],[0.7777777777777778,\"#fb9f3a\"],[0.8888888888888888,\"#fdca26\"],[1.0,\"#f0f921\"]],\"sequentialminus\":[[0.0,\"#0d0887\"],[0.1111111111111111,\"#46039f\"],[0.2222222222222222,\"#7201a8\"],[0.3333333333333333,\"#9c179e\"],[0.4444444444444444,\"#bd3786\"],[0.5555555555555556,\"#d8576b\"],[0.6666666666666666,\"#ed7953\"],[0.7777777777777778,\"#fb9f3a\"],[0.8888888888888888,\"#fdca26\"],[1.0,\"#f0f921\"]]},\"colorway\":[\"#636efa\",\"#EF553B\",\"#00cc96\",\"#ab63fa\",\"#FFA15A\",\"#19d3f3\",\"#FF6692\",\"#B6E880\",\"#FF97FF\",\"#FECB52\"],\"font\":{\"color\":\"#2a3f5f\"},\"geo\":{\"bgcolor\":\"white\",\"lakecolor\":\"white\",\"landcolor\":\"#E5ECF6\",\"showlakes\":true,\"showland\":true,\"subunitcolor\":\"white\"},\"hoverlabel\":{\"align\":\"left\"},\"hovermode\":\"closest\",\"mapbox\":{\"style\":\"light\"},\"paper_bgcolor\":\"white\",\"plot_bgcolor\":\"#E5ECF6\",\"polar\":{\"angularaxis\":{\"gridcolor\":\"white\",\"linecolor\":\"white\",\"ticks\":\"\"},\"bgcolor\":\"#E5ECF6\",\"radialaxis\":{\"gridcolor\":\"white\",\"linecolor\":\"white\",\"ticks\":\"\"}},\"scene\":{\"xaxis\":{\"backgroundcolor\":\"#E5ECF6\",\"gridcolor\":\"white\",\"gridwidth\":2,\"linecolor\":\"white\",\"showbackground\":true,\"ticks\":\"\",\"zerolinecolor\":\"white\"},\"yaxis\":{\"backgroundcolor\":\"#E5ECF6\",\"gridcolor\":\"white\",\"gridwidth\":2,\"linecolor\":\"white\",\"showbackground\":true,\"ticks\":\"\",\"zerolinecolor\":\"white\"},\"zaxis\":{\"backgroundcolor\":\"#E5ECF6\",\"gridcolor\":\"white\",\"gridwidth\":2,\"linecolor\":\"white\",\"showbackground\":true,\"ticks\":\"\",\"zerolinecolor\":\"white\"}},\"shapedefaults\":{\"line\":{\"color\":\"#2a3f5f\"}},\"ternary\":{\"aaxis\":{\"gridcolor\":\"white\",\"linecolor\":\"white\",\"ticks\":\"\"},\"baxis\":{\"gridcolor\":\"white\",\"linecolor\":\"white\",\"ticks\":\"\"},\"bgcolor\":\"#E5ECF6\",\"caxis\":{\"gridcolor\":\"white\",\"linecolor\":\"white\",\"ticks\":\"\"}},\"title\":{\"x\":0.05},\"xaxis\":{\"automargin\":true,\"gridcolor\":\"white\",\"linecolor\":\"white\",\"ticks\":\"\",\"title\":{\"standoff\":15},\"zerolinecolor\":\"white\",\"zerolinewidth\":2},\"yaxis\":{\"automargin\":true,\"gridcolor\":\"white\",\"linecolor\":\"white\",\"ticks\":\"\",\"title\":{\"standoff\":15},\"zerolinecolor\":\"white\",\"zerolinewidth\":2}}},\"xaxis\":{\"anchor\":\"y\",\"domain\":[0.0,0.45]},\"yaxis\":{\"anchor\":\"x\",\"domain\":[0.0,1.0],\"title\":{\"text\":\"\\u041d\\u0430\\u0437\\u0432\\u0430\\u043d\\u0438\\u044f \\u0441\\u043e\\u0431\\u044b\\u0442\\u0438\\u0439\"}},\"xaxis2\":{\"anchor\":\"y2\",\"domain\":[0.55,1.0]},\"yaxis2\":{\"anchor\":\"x2\",\"domain\":[0.0,1.0],\"matches\":\"y\",\"showticklabels\":false}},                        {\"responsive\": true}                    ).then(function(){\n",
       "                            \n",
       "var gd = document.getElementById('7d009e15-306d-4fa8-9acb-414e76deb3da');\n",
       "var x = new MutationObserver(function (mutations, observer) {{\n",
       "        var display = window.getComputedStyle(gd).display;\n",
       "        if (!display || display === 'none') {{\n",
       "            console.log([gd, 'removed!']);\n",
       "            Plotly.purge(gd);\n",
       "            observer.disconnect();\n",
       "        }}\n",
       "}});\n",
       "\n",
       "// Listen for the removal of the full notebook cells\n",
       "var notebookContainer = gd.closest('#notebook-container');\n",
       "if (notebookContainer) {{\n",
       "    x.observe(notebookContainer, {childList: true});\n",
       "}}\n",
       "\n",
       "// Listen for the clearing of the current output cell\n",
       "var outputEl = gd.closest('.output');\n",
       "if (outputEl) {{\n",
       "    x.observe(outputEl, {childList: true});\n",
       "}}\n",
       "\n",
       "                        })                };                });            </script>        </div>"
      ]
     },
     "metadata": {},
     "output_type": "display_data"
    }
   ],
   "source": [
    "# визуализации конверсии для группы А и B\n",
    "\n",
    "first_line = go.Funnel(\n",
    "        y=a_conversion['user_id'].index,\n",
    "        x=a_conversion['user_id'].values,\n",
    "        name=\"группа А\"\n",
    "    )\n",
    "second_line = go.Funnel(\n",
    "        y=b_conversion['user_id'].index,\n",
    "        x=b_conversion['user_id'].values,\n",
    "        name=\"группа B\"\n",
    "    )\n",
    "fig = make_subplots(rows=1, cols=2, shared_yaxes=True)\n",
    "fig.add_trace(first_line, row=1, col=1)\n",
    "fig.add_trace(second_line, row=1, col=2)\n",
    "\n",
    "layout = {\n",
    "    \"yaxis\": {\n",
    "        \"title\": \"Названия событий\"\n",
    "    }\n",
    "}\n",
    "\n",
    "fig.update_layout(layout)"
   ]
  },
  {
   "cell_type": "markdown",
   "id": "4aaf679d",
   "metadata": {},
   "source": [
    "### Вывод\n",
    "\n",
    "Для выборки А конверсии на всех этапах выше, чем для выборки B.\n",
    "\n",
    "По итогу для выборки А из 2747 залогинившихся клиентов заказ сделали 872 клиента. Для выборки B из 928 заказ сделали 256.     "
   ]
  },
  {
   "attachments": {
    "image.png": {
     "image/png": "[encoded data removed]"
    }
   },
   "cell_type": "markdown",
   "id": "91196a36",
   "metadata": {},
   "source": [
    "![Воронка](attachment:image.png)"
   ]
  },
  {
   "cell_type": "markdown",
   "id": "806e0d4a",
   "metadata": {},
   "source": [
    "### Какие особенности данных нужно учесть, прежде чем приступать к A/B-тестированию?"
   ]
  },
  {
   "cell_type": "markdown",
   "id": "edc3ddb0",
   "metadata": {},
   "source": [
    "Перед тем, как проводить A/B-тест, убедитесь, что:\n",
    " - генеральная совокупность не содержит аномалий и выбросов;\n",
    " - инструмент «деления» трафика работает безошибочно;\n",
    " - данные отправляются в системы аналитики корректно;\n",
    " \n",
    "Для этого проводят A/A-тест.\n",
    "\n",
    "Для множественных сравнений необходимо применять методы корректировки уровня значимости для снижения групповой вероятности ошибки первого рода.\n",
    " \n",
    " \n"
   ]
  },
  {
   "cell_type": "markdown",
   "id": "0311df04",
   "metadata": {},
   "source": [
    "##  Оценка результатов A/B-тестирования"
   ]
  },
  {
   "cell_type": "markdown",
   "id": "b881cfd1",
   "metadata": {},
   "source": [
    "### Комменарий по результатам A/B-тестирования"
   ]
  },
  {
   "cell_type": "markdown",
   "id": "c0ad2477",
   "metadata": {},
   "source": [
    "ТЗ несоблюдено в полной мере, подробности описаны в первой главе.\n",
    "\n",
    "По итогу конверсия для группы B на всех этапах была ниже, чем для группы А. Внедрение нового функционала себя не оправдало"
   ]
  },
  {
   "cell_type": "markdown",
   "id": "7676cffb",
   "metadata": {},
   "source": [
    "### Проверка статистической разницы долей z-критерием\n",
    "\n",
    "Для выборки А из 2747 залогинившихся клиентов заказ сделали 872 клиента. Для выборки B из 928 заказ сделали 256:\n",
    "\n",
    "H0: статистически значимых различий в конверсии между группами нет\n",
    "\n",
    "H1: статистически значимыe различия в конверсии между группами есть"
   ]
  },
  {
   "cell_type": "code",
   "execution_count": 158,
   "id": "a00f679e",
   "metadata": {},
   "outputs": [],
   "source": [
    "# функция для проверки статистической разницы долей z-критерием\n",
    "def z_test(trials, successes):\n",
    "    \n",
    "    # критический уровень статистической значимости\n",
    "    alpha = 0.05  \n",
    "\n",
    "    # пропорция успехов в группе A:\n",
    "    p1 = successes[0]/trials[0]\n",
    "    # пропорция успехов в группе B:\n",
    "    p2 = successes[1]/trials[1]\n",
    "\n",
    "    # пропорция успехов в комбинированной группе:\n",
    "    p_combined = (successes[0] + successes[1]) / (trials[0] + trials[1])\n",
    "\n",
    "    # разница пропорций в группах\n",
    "    difference = p1 - p2 \n",
    "\n",
    "    # считаю статистику в ст.отклонениях стандартного нормального распределения\n",
    "    z_value = difference / mth.sqrt(p_combined * (1 - p_combined) * (1/trials[0] + 1/trials[1]))\n",
    "\n",
    "    # задаю стандартное нормальное распределение (среднее 0, ст.отклонение 1)\n",
    "    distr = st.norm(0, 1)  \n",
    "\n",
    "    p_value = (1 - distr.cdf(abs(z_value))) * 2\n",
    "\n",
    "    print('p-значение: ', p_value)\n",
    "\n",
    "    if p_value < alpha:\n",
    "        print('Отвергаем нулевую гипотезу: между группами есть значимая разница')\n",
    "    else:\n",
    "        print('Не получилось отвергнуть нулевую гипотезу, нет оснований считать доли разными')\n",
    "    "
   ]
  },
  {
   "cell_type": "code",
   "execution_count": 159,
   "id": "acdf0697",
   "metadata": {
    "scrolled": true
   },
   "outputs": [],
   "source": [
    "# подготовка данных к передаче в функцию z-теста\n",
    "a_conversion = a_conversion.reset_index().rename(columns={'user_id':'num_of_users'})\n",
    "b_conversion = b_conversion.reset_index().rename(columns={'user_id':'num_of_users'})"
   ]
  },
  {
   "cell_type": "code",
   "execution_count": 160,
   "id": "22a70cdc",
   "metadata": {},
   "outputs": [
    {
     "name": "stdout",
     "output_type": "stream",
     "text": [
      "Конверсии группы А\n",
      "     event_name  num_of_users  prev_step  conv_abs  conv_in_step\n",
      "0         login          2747        NaN  1.000000           NaN\n",
      "1  product_page          1780     2747.0  0.647980      0.647980\n",
      "2      purchase           872     1780.0  0.317437      0.489888\n",
      "3  product_cart           824      872.0  0.299964      0.944954\n",
      "\n",
      "Конверсии группы B\n",
      "     event_name  num_of_users  prev_step  conv_abs  conv_in_step\n",
      "0         login           928        NaN  1.000000           NaN\n",
      "1  product_page           523      928.0  0.563578      0.563578\n",
      "2      purchase           256      523.0  0.275862      0.489484\n",
      "3  product_cart           255      256.0  0.274784      0.996094\n",
      "\n",
      "Проверка статистического различия между группами А и B для этапа перехода на товарный экран (login-product_page)\n",
      "p-значение:  4.310980554755872e-06\n",
      "Отвергаем нулевую гипотезу: между группами есть значимая разница\n",
      "\n",
      "Проверка статистического различия между группами А и B для этапа перехода с товарного экрана в корзину (product_page-product_cart)\n",
      "p-значение:  0.32062049601759046\n",
      "Не получилось отвергнуть нулевую гипотезу, нет оснований считать доли разными\n",
      "\n",
      "Проверка статистического различия между группами А и B для этапа перехода с товарного экрана в покупку (product_page-purchase)\n",
      "p-значение:  0.9870395092337259\n",
      "Не получилось отвергнуть нулевую гипотезу, нет оснований считать доли разными\n",
      "\n"
     ]
    }
   ],
   "source": [
    "# таблицы конверсий\n",
    "print('Конверсии группы А')\n",
    "print(a_conversion)\n",
    "print()\n",
    "print('Конверсии группы B')\n",
    "print(b_conversion)\n",
    "print()\n",
    "\n",
    "# подготовка данных к передаче в функцию z-теста\n",
    "logins = np.array(\n",
    "    [\n",
    "        a_conversion[a_conversion['event_name'] == 'login']['num_of_users'][0],\n",
    "        b_conversion[b_conversion['event_name'] == 'login']['num_of_users'][0]\n",
    "    ])\n",
    "\n",
    "product_pages = np.array(\n",
    "    [\n",
    "        a_conversion[a_conversion['event_name'] == 'product_page']['num_of_users'][1],\n",
    "        b_conversion[b_conversion['event_name'] == 'product_page']['num_of_users'][1]\n",
    "    ])\n",
    "\n",
    "purchases = np.array(\n",
    "    [\n",
    "        a_conversion[a_conversion['event_name'] == 'purchase']['num_of_users'][2],\n",
    "        b_conversion[b_conversion['event_name'] == 'purchase']['num_of_users'][2]\n",
    "    ])\n",
    "\n",
    "product_carts = np.array(\n",
    "    [\n",
    "        a_conversion[a_conversion['event_name'] == 'product_cart']['num_of_users'][3],\n",
    "        b_conversion[b_conversion['event_name'] == 'product_cart']['num_of_users'][3]\n",
    "    ])\n",
    "\n",
    "# login-product_page\n",
    "print('Проверка статистического различия между группами А и B для этапа перехода на товарный экран (login-product_page)')\n",
    "z_test(logins, product_pages)\n",
    "print()\n",
    "\n",
    "# product_page-product_cart\n",
    "print('Проверка статистического различия между группами А и B для этапа перехода с товарного экрана в корзину (product_page-product_cart)')\n",
    "z_test(product_pages, product_carts)\n",
    "print()\n",
    "\n",
    "# product_page-purchase\n",
    "print('Проверка статистического различия между группами А и B для этапа перехода с товарного экрана в покупку (product_page-purchase)')\n",
    "z_test(product_pages, purchases)\n",
    "print()\n",
    "\n"
   ]
  },
  {
   "cell_type": "markdown",
   "id": "e3f3d86b",
   "metadata": {},
   "source": [
    "### Вывод\n",
    "\n",
    " - Для этапа перехода на товарный экран (login-product_page) между группами А и B есть статистически значимая разница в конверсиях. Конверсия группы А больше;\n",
    " - Для этапа перехода с товарного экрана в корзину (product_page-product_cart) между группами А и B нет статистически значимого различия в конверсиях;\n",
    " - Для этапа перехода с товарного экрана в покупку (product_page-purchase) между группами А и B нет статистически значимого различия в конверсиях."
   ]
  },
  {
   "attachments": {
    "image.png": {
     "image/png": "[encoded data removed]"
    }
   },
   "cell_type": "markdown",
   "id": "49e64b17",
   "metadata": {},
   "source": [
    "![image.png](attachment:image.png)"
   ]
  },
  {
   "cell_type": "markdown",
   "id": "b116e88e",
   "metadata": {},
   "source": [
    "## Общий вывод"
   ]
  },
  {
   "cell_type": "markdown",
   "id": "59c4c45e",
   "metadata": {},
   "source": [
    "A/B-тест проведен некорректно и не в соответствии с ТЗ. \n",
    "На результат могли повлиять следующие факторы:\n",
    "\n",
    "    - пересечение между пользователями из разных тестов;\n",
    "    - неравномерное распределение аудитории;\n",
    "    - маркетинговые события, проводившиеся во время теста.\n",
    "\n",
    "Результаты показали уменьшение конверсии для этапа перехода на товарный экран (login-product_page) в результате внедрения нового функционала. Разница в конверсиях статистически значима."
   ]
  },
  {
   "cell_type": "code",
   "execution_count": null,
   "id": "c0782fd3",
   "metadata": {},
   "outputs": [],
   "source": []
  }
 ],
 "metadata": {
  "ExecuteTimeLog": [
   {
    "duration": 1092,
    "start_time": "2022-07-13T03:01:32.119Z"
   },
   {
    "duration": 1085,
    "start_time": "2022-07-13T03:01:33.396Z"
   },
   {
    "duration": 12,
    "start_time": "2022-07-13T03:01:34.483Z"
   },
   {
    "duration": 15,
    "start_time": "2022-07-13T03:01:34.892Z"
   },
   {
    "duration": 5,
    "start_time": "2022-07-13T03:01:35.354Z"
   },
   {
    "duration": 7,
    "start_time": "2022-07-13T03:01:35.641Z"
   },
   {
    "duration": 19,
    "start_time": "2022-07-13T03:01:36.591Z"
   },
   {
    "duration": 8,
    "start_time": "2022-07-13T03:01:36.936Z"
   },
   {
    "duration": 14,
    "start_time": "2022-07-13T03:01:37.294Z"
   },
   {
    "duration": 34,
    "start_time": "2022-07-13T03:01:37.598Z"
   },
   {
    "duration": 52,
    "start_time": "2022-07-13T03:01:38.178Z"
   },
   {
    "duration": 10,
    "start_time": "2022-07-13T03:01:38.635Z"
   },
   {
    "duration": 54,
    "start_time": "2022-07-13T03:01:38.859Z"
   },
   {
    "duration": 263,
    "start_time": "2022-07-13T03:01:39.062Z"
   },
   {
    "duration": 11,
    "start_time": "2022-07-13T03:01:39.441Z"
   },
   {
    "duration": 8,
    "start_time": "2022-07-13T03:01:39.631Z"
   },
   {
    "duration": 9,
    "start_time": "2022-07-13T03:01:39.835Z"
   },
   {
    "duration": 9,
    "start_time": "2022-07-13T03:01:40.041Z"
   },
   {
    "duration": 99,
    "start_time": "2022-07-13T03:01:40.677Z"
   },
   {
    "duration": 33,
    "start_time": "2022-07-13T03:01:42.766Z"
   },
   {
    "duration": 21,
    "start_time": "2022-07-13T03:01:43.247Z"
   },
   {
    "duration": 27,
    "start_time": "2022-07-13T03:01:43.679Z"
   },
   {
    "duration": 11,
    "start_time": "2022-07-13T03:01:45.064Z"
   },
   {
    "duration": 125,
    "start_time": "2022-07-13T03:01:46.253Z"
   },
   {
    "duration": 5,
    "start_time": "2022-07-13T03:01:46.914Z"
   },
   {
    "duration": 4,
    "start_time": "2022-07-13T03:01:47.811Z"
   },
   {
    "duration": 4,
    "start_time": "2022-07-13T03:01:49.101Z"
   },
   {
    "duration": 12,
    "start_time": "2022-07-13T03:01:50.486Z"
   },
   {
    "duration": 10,
    "start_time": "2022-07-13T03:01:51.820Z"
   },
   {
    "duration": 7,
    "start_time": "2022-07-13T03:01:52.333Z"
   },
   {
    "duration": 14,
    "start_time": "2022-07-13T03:01:52.892Z"
   },
   {
    "duration": 91,
    "start_time": "2022-07-13T03:01:54.596Z"
   },
   {
    "duration": 5,
    "start_time": "2022-07-13T03:01:56.429Z"
   },
   {
    "duration": 11,
    "start_time": "2022-07-13T03:01:59.056Z"
   },
   {
    "duration": 309,
    "start_time": "2022-07-13T03:02:01.885Z"
   },
   {
    "duration": 731,
    "start_time": "2022-07-13T03:02:04.286Z"
   },
   {
    "duration": 26,
    "start_time": "2022-07-13T03:02:17.557Z"
   },
   {
    "duration": 6,
    "start_time": "2022-07-13T03:02:26.677Z"
   },
   {
    "duration": 1412,
    "start_time": "2022-07-13T11:28:11.652Z"
   },
   {
    "duration": 1101,
    "start_time": "2022-07-13T11:28:13.066Z"
   },
   {
    "duration": 15,
    "start_time": "2022-07-13T11:28:14.169Z"
   },
   {
    "duration": 18,
    "start_time": "2022-07-13T11:28:14.186Z"
   },
   {
    "duration": 7,
    "start_time": "2022-07-13T11:28:14.207Z"
   },
   {
    "duration": 8,
    "start_time": "2022-07-13T11:28:14.215Z"
   },
   {
    "duration": 36,
    "start_time": "2022-07-13T11:28:14.224Z"
   },
   {
    "duration": 9,
    "start_time": "2022-07-13T11:28:14.262Z"
   },
   {
    "duration": 20,
    "start_time": "2022-07-13T11:28:14.273Z"
   },
   {
    "duration": 75,
    "start_time": "2022-07-13T11:28:14.295Z"
   },
   {
    "duration": 81,
    "start_time": "2022-07-13T11:28:14.371Z"
   },
   {
    "duration": 9,
    "start_time": "2022-07-13T11:28:14.453Z"
   },
   {
    "duration": 64,
    "start_time": "2022-07-13T11:28:14.464Z"
   },
   {
    "duration": 300,
    "start_time": "2022-07-13T11:28:14.546Z"
   },
   {
    "duration": 12,
    "start_time": "2022-07-13T11:28:14.848Z"
   },
   {
    "duration": 11,
    "start_time": "2022-07-13T11:28:14.862Z"
   },
   {
    "duration": 9,
    "start_time": "2022-07-13T11:28:14.875Z"
   },
   {
    "duration": 12,
    "start_time": "2022-07-13T11:28:14.886Z"
   },
   {
    "duration": 132,
    "start_time": "2022-07-13T11:28:14.899Z"
   },
   {
    "duration": 44,
    "start_time": "2022-07-13T11:28:15.032Z"
   },
   {
    "duration": 21,
    "start_time": "2022-07-13T11:28:15.078Z"
   },
   {
    "duration": 56,
    "start_time": "2022-07-13T11:28:15.101Z"
   },
   {
    "duration": 10,
    "start_time": "2022-07-13T11:28:15.160Z"
   },
   {
    "duration": 178,
    "start_time": "2022-07-13T11:28:15.172Z"
   },
   {
    "duration": 6,
    "start_time": "2022-07-13T11:28:15.352Z"
   },
   {
    "duration": 8,
    "start_time": "2022-07-13T11:28:15.360Z"
   },
   {
    "duration": 10,
    "start_time": "2022-07-13T11:28:15.370Z"
   },
   {
    "duration": 17,
    "start_time": "2022-07-13T11:28:15.382Z"
   },
   {
    "duration": 12,
    "start_time": "2022-07-13T11:28:15.402Z"
   },
   {
    "duration": 11,
    "start_time": "2022-07-13T11:28:15.445Z"
   },
   {
    "duration": 12,
    "start_time": "2022-07-13T11:28:15.458Z"
   },
   {
    "duration": 100,
    "start_time": "2022-07-13T11:28:15.472Z"
   },
   {
    "duration": 5,
    "start_time": "2022-07-13T11:28:15.574Z"
   },
   {
    "duration": 14,
    "start_time": "2022-07-13T11:28:15.580Z"
   },
   {
    "duration": 365,
    "start_time": "2022-07-13T11:28:15.596Z"
   },
   {
    "duration": 532,
    "start_time": "2022-07-13T11:28:15.963Z"
   },
   {
    "duration": 30,
    "start_time": "2022-07-13T11:28:16.496Z"
   },
   {
    "duration": 9,
    "start_time": "2022-07-13T11:28:16.545Z"
   },
   {
    "duration": 13,
    "start_time": "2022-07-13T11:29:36.576Z"
   },
   {
    "duration": 214,
    "start_time": "2022-07-13T11:32:16.063Z"
   },
   {
    "duration": 11,
    "start_time": "2022-07-13T11:32:30.963Z"
   },
   {
    "duration": 12,
    "start_time": "2022-07-13T11:33:13.206Z"
   },
   {
    "duration": 40,
    "start_time": "2022-07-13T11:34:36.357Z"
   },
   {
    "duration": 171,
    "start_time": "2022-07-13T11:35:11.580Z"
   },
   {
    "duration": 111,
    "start_time": "2022-07-13T11:35:16.314Z"
   },
   {
    "duration": 135,
    "start_time": "2022-07-13T11:35:35.912Z"
   },
   {
    "duration": 283,
    "start_time": "2022-07-13T11:42:55.950Z"
   },
   {
    "duration": 324,
    "start_time": "2022-07-13T11:43:41.458Z"
   },
   {
    "duration": 209,
    "start_time": "2022-07-13T11:43:53.057Z"
   },
   {
    "duration": 251,
    "start_time": "2022-07-13T11:44:04.887Z"
   },
   {
    "duration": 217,
    "start_time": "2022-07-13T11:44:12.664Z"
   },
   {
    "duration": 276,
    "start_time": "2022-07-13T11:44:29.199Z"
   },
   {
    "duration": 231,
    "start_time": "2022-07-13T11:44:35.561Z"
   },
   {
    "duration": 305,
    "start_time": "2022-07-13T11:45:28.862Z"
   },
   {
    "duration": 295,
    "start_time": "2022-07-13T11:45:39.293Z"
   },
   {
    "duration": 399,
    "start_time": "2022-07-13T11:45:55.084Z"
   },
   {
    "duration": 3,
    "start_time": "2022-07-13T11:47:05.953Z"
   },
   {
    "duration": 721,
    "start_time": "2022-07-13T11:47:05.958Z"
   },
   {
    "duration": 12,
    "start_time": "2022-07-13T11:47:06.681Z"
   },
   {
    "duration": 11,
    "start_time": "2022-07-13T11:47:06.695Z"
   },
   {
    "duration": 10,
    "start_time": "2022-07-13T11:47:06.709Z"
   },
   {
    "duration": 9,
    "start_time": "2022-07-13T11:47:06.720Z"
   },
   {
    "duration": 32,
    "start_time": "2022-07-13T11:47:06.731Z"
   },
   {
    "duration": 15,
    "start_time": "2022-07-13T11:47:06.765Z"
   },
   {
    "duration": 27,
    "start_time": "2022-07-13T11:47:06.781Z"
   },
   {
    "duration": 35,
    "start_time": "2022-07-13T11:47:06.809Z"
   },
   {
    "duration": 73,
    "start_time": "2022-07-13T11:47:06.852Z"
   },
   {
    "duration": 24,
    "start_time": "2022-07-13T11:47:06.927Z"
   },
   {
    "duration": 79,
    "start_time": "2022-07-13T11:47:06.954Z"
   },
   {
    "duration": 304,
    "start_time": "2022-07-13T11:47:07.036Z"
   },
   {
    "duration": 21,
    "start_time": "2022-07-13T11:47:07.342Z"
   },
   {
    "duration": 12,
    "start_time": "2022-07-13T11:47:07.365Z"
   },
   {
    "duration": 11,
    "start_time": "2022-07-13T11:47:07.378Z"
   },
   {
    "duration": 12,
    "start_time": "2022-07-13T11:47:07.391Z"
   },
   {
    "duration": 122,
    "start_time": "2022-07-13T11:47:07.405Z"
   },
   {
    "duration": 56,
    "start_time": "2022-07-13T11:47:07.529Z"
   },
   {
    "duration": 22,
    "start_time": "2022-07-13T11:47:07.587Z"
   },
   {
    "duration": 59,
    "start_time": "2022-07-13T11:47:07.611Z"
   },
   {
    "duration": 9,
    "start_time": "2022-07-13T11:47:07.672Z"
   },
   {
    "duration": 179,
    "start_time": "2022-07-13T11:47:07.683Z"
   },
   {
    "duration": 6,
    "start_time": "2022-07-13T11:47:07.865Z"
   },
   {
    "duration": 6,
    "start_time": "2022-07-13T11:47:07.873Z"
   },
   {
    "duration": 11,
    "start_time": "2022-07-13T11:47:07.881Z"
   },
   {
    "duration": 14,
    "start_time": "2022-07-13T11:47:07.894Z"
   },
   {
    "duration": 38,
    "start_time": "2022-07-13T11:47:07.910Z"
   },
   {
    "duration": 10,
    "start_time": "2022-07-13T11:47:07.950Z"
   },
   {
    "duration": 15,
    "start_time": "2022-07-13T11:47:07.963Z"
   },
   {
    "duration": 102,
    "start_time": "2022-07-13T11:47:07.980Z"
   },
   {
    "duration": 5,
    "start_time": "2022-07-13T11:47:08.083Z"
   },
   {
    "duration": 17,
    "start_time": "2022-07-13T11:47:08.089Z"
   },
   {
    "duration": 397,
    "start_time": "2022-07-13T11:47:08.108Z"
   },
   {
    "duration": 328,
    "start_time": "2022-07-13T11:47:08.508Z"
   },
   {
    "duration": 46,
    "start_time": "2022-07-13T11:47:08.838Z"
   },
   {
    "duration": 17,
    "start_time": "2022-07-13T11:47:08.886Z"
   },
   {
    "duration": 253,
    "start_time": "2022-07-13T11:47:27.667Z"
   },
   {
    "duration": 598,
    "start_time": "2022-07-13T11:50:13.549Z"
   },
   {
    "duration": 434,
    "start_time": "2022-07-13T11:50:36.064Z"
   },
   {
    "duration": 29,
    "start_time": "2022-07-13T12:00:19.298Z"
   },
   {
    "duration": 12,
    "start_time": "2022-07-13T12:00:41.942Z"
   },
   {
    "duration": 10,
    "start_time": "2022-07-13T12:01:02.273Z"
   },
   {
    "duration": 6,
    "start_time": "2022-07-13T12:01:09.512Z"
   },
   {
    "duration": 5,
    "start_time": "2022-07-13T12:01:18.441Z"
   },
   {
    "duration": 50,
    "start_time": "2022-07-13T12:01:40.453Z"
   },
   {
    "duration": 9,
    "start_time": "2022-07-13T12:05:14.956Z"
   },
   {
    "duration": 5,
    "start_time": "2022-07-13T12:06:46.857Z"
   },
   {
    "duration": 707,
    "start_time": "2022-07-13T12:06:46.865Z"
   },
   {
    "duration": 11,
    "start_time": "2022-07-13T12:06:47.574Z"
   },
   {
    "duration": 11,
    "start_time": "2022-07-13T12:06:47.587Z"
   },
   {
    "duration": 12,
    "start_time": "2022-07-13T12:06:47.601Z"
   },
   {
    "duration": 10,
    "start_time": "2022-07-13T12:06:47.614Z"
   },
   {
    "duration": 39,
    "start_time": "2022-07-13T12:06:47.625Z"
   },
   {
    "duration": 10,
    "start_time": "2022-07-13T12:06:47.667Z"
   },
   {
    "duration": 26,
    "start_time": "2022-07-13T12:06:47.678Z"
   },
   {
    "duration": 54,
    "start_time": "2022-07-13T12:06:47.706Z"
   },
   {
    "duration": 69,
    "start_time": "2022-07-13T12:06:47.761Z"
   },
   {
    "duration": 17,
    "start_time": "2022-07-13T12:06:47.845Z"
   },
   {
    "duration": 81,
    "start_time": "2022-07-13T12:06:47.865Z"
   },
   {
    "duration": 295,
    "start_time": "2022-07-13T12:06:47.950Z"
   },
   {
    "duration": 14,
    "start_time": "2022-07-13T12:06:48.246Z"
   },
   {
    "duration": 23,
    "start_time": "2022-07-13T12:06:48.262Z"
   },
   {
    "duration": 16,
    "start_time": "2022-07-13T12:06:48.287Z"
   },
   {
    "duration": 26,
    "start_time": "2022-07-13T12:06:48.305Z"
   },
   {
    "duration": 100,
    "start_time": "2022-07-13T12:06:48.333Z"
   },
   {
    "duration": 62,
    "start_time": "2022-07-13T12:06:48.435Z"
   },
   {
    "duration": 24,
    "start_time": "2022-07-13T12:06:48.500Z"
   },
   {
    "duration": 48,
    "start_time": "2022-07-13T12:06:48.526Z"
   },
   {
    "duration": 15,
    "start_time": "2022-07-13T12:06:48.576Z"
   },
   {
    "duration": 192,
    "start_time": "2022-07-13T12:06:48.594Z"
   },
   {
    "duration": 6,
    "start_time": "2022-07-13T12:06:48.788Z"
   },
   {
    "duration": 6,
    "start_time": "2022-07-13T12:06:48.795Z"
   },
   {
    "duration": 6,
    "start_time": "2022-07-13T12:06:48.803Z"
   },
   {
    "duration": 41,
    "start_time": "2022-07-13T12:06:48.812Z"
   },
   {
    "duration": 9,
    "start_time": "2022-07-13T12:06:48.854Z"
   },
   {
    "duration": 12,
    "start_time": "2022-07-13T12:06:48.864Z"
   },
   {
    "duration": 11,
    "start_time": "2022-07-13T12:06:48.877Z"
   },
   {
    "duration": 110,
    "start_time": "2022-07-13T12:06:48.890Z"
   },
   {
    "duration": 6,
    "start_time": "2022-07-13T12:06:49.003Z"
   },
   {
    "duration": 35,
    "start_time": "2022-07-13T12:06:49.012Z"
   },
   {
    "duration": 395,
    "start_time": "2022-07-13T12:06:49.050Z"
   },
   {
    "duration": 281,
    "start_time": "2022-07-13T12:06:49.448Z"
   },
   {
    "duration": 38,
    "start_time": "2022-07-13T12:06:49.731Z"
   },
   {
    "duration": 5,
    "start_time": "2022-07-13T12:06:49.771Z"
   },
   {
    "duration": 17,
    "start_time": "2022-07-13T12:06:49.778Z"
   },
   {
    "duration": 11,
    "start_time": "2022-07-13T12:06:49.798Z"
   },
   {
    "duration": 295,
    "start_time": "2022-07-13T12:09:28.660Z"
   },
   {
    "duration": 215,
    "start_time": "2022-07-13T12:09:32.875Z"
   },
   {
    "duration": 401,
    "start_time": "2022-07-13T12:09:47.704Z"
   },
   {
    "duration": 14,
    "start_time": "2022-07-13T12:10:03.088Z"
   },
   {
    "duration": 11,
    "start_time": "2022-07-13T12:10:09.764Z"
   },
   {
    "duration": 14,
    "start_time": "2022-07-13T12:10:22.788Z"
   },
   {
    "duration": 15,
    "start_time": "2022-07-13T12:10:36.339Z"
   },
   {
    "duration": 7,
    "start_time": "2022-07-13T12:15:03.095Z"
   },
   {
    "duration": 8,
    "start_time": "2022-07-13T12:15:18.086Z"
   },
   {
    "duration": 46,
    "start_time": "2022-07-13T12:15:52.896Z"
   },
   {
    "duration": 34,
    "start_time": "2022-07-13T12:15:56.700Z"
   },
   {
    "duration": 10,
    "start_time": "2022-07-13T12:16:16.359Z"
   },
   {
    "duration": 15,
    "start_time": "2022-07-13T12:16:21.993Z"
   },
   {
    "duration": 31,
    "start_time": "2022-07-13T12:16:38.071Z"
   },
   {
    "duration": 84,
    "start_time": "2022-07-13T12:17:38.862Z"
   },
   {
    "duration": 23,
    "start_time": "2022-07-13T12:17:44.161Z"
   },
   {
    "duration": 26,
    "start_time": "2022-07-13T12:18:15.287Z"
   },
   {
    "duration": 3,
    "start_time": "2022-07-13T12:19:25.449Z"
   },
   {
    "duration": 4,
    "start_time": "2022-07-13T12:20:12.368Z"
   },
   {
    "duration": 37,
    "start_time": "2022-07-13T12:21:07.284Z"
   },
   {
    "duration": 37,
    "start_time": "2022-07-13T12:23:13.165Z"
   },
   {
    "duration": 35,
    "start_time": "2022-07-13T12:23:51.976Z"
   },
   {
    "duration": 34,
    "start_time": "2022-07-13T12:24:14.248Z"
   },
   {
    "duration": 27,
    "start_time": "2022-07-13T12:24:22.256Z"
   },
   {
    "duration": 4,
    "start_time": "2022-07-13T12:24:58.039Z"
   },
   {
    "duration": 820,
    "start_time": "2022-07-13T12:24:58.045Z"
   },
   {
    "duration": 13,
    "start_time": "2022-07-13T12:24:58.868Z"
   },
   {
    "duration": 27,
    "start_time": "2022-07-13T12:24:58.884Z"
   },
   {
    "duration": 16,
    "start_time": "2022-07-13T12:24:58.915Z"
   },
   {
    "duration": 25,
    "start_time": "2022-07-13T12:24:58.933Z"
   },
   {
    "duration": 35,
    "start_time": "2022-07-13T12:24:58.961Z"
   },
   {
    "duration": 11,
    "start_time": "2022-07-13T12:24:58.999Z"
   },
   {
    "duration": 40,
    "start_time": "2022-07-13T12:24:59.012Z"
   },
   {
    "duration": 47,
    "start_time": "2022-07-13T12:24:59.054Z"
   },
   {
    "duration": 124,
    "start_time": "2022-07-13T12:24:59.103Z"
   },
   {
    "duration": 19,
    "start_time": "2022-07-13T12:24:59.228Z"
   },
   {
    "duration": 60,
    "start_time": "2022-07-13T12:24:59.250Z"
   },
   {
    "duration": 313,
    "start_time": "2022-07-13T12:24:59.312Z"
   },
   {
    "duration": 23,
    "start_time": "2022-07-13T12:24:59.627Z"
   },
   {
    "duration": 8,
    "start_time": "2022-07-13T12:24:59.652Z"
   },
   {
    "duration": 12,
    "start_time": "2022-07-13T12:24:59.661Z"
   },
   {
    "duration": 13,
    "start_time": "2022-07-13T12:24:59.675Z"
   },
   {
    "duration": 115,
    "start_time": "2022-07-13T12:24:59.689Z"
   },
   {
    "duration": 46,
    "start_time": "2022-07-13T12:24:59.805Z"
   },
   {
    "duration": 22,
    "start_time": "2022-07-13T12:24:59.853Z"
   },
   {
    "duration": 28,
    "start_time": "2022-07-13T12:24:59.876Z"
   },
   {
    "duration": 40,
    "start_time": "2022-07-13T12:24:59.906Z"
   },
   {
    "duration": 156,
    "start_time": "2022-07-13T12:24:59.948Z"
   },
   {
    "duration": 6,
    "start_time": "2022-07-13T12:25:00.105Z"
   },
   {
    "duration": 12,
    "start_time": "2022-07-13T12:25:00.112Z"
   },
   {
    "duration": 21,
    "start_time": "2022-07-13T12:25:00.126Z"
   },
   {
    "duration": 40,
    "start_time": "2022-07-13T12:25:00.148Z"
   },
   {
    "duration": 88,
    "start_time": "2022-07-13T12:25:00.189Z"
   },
   {
    "duration": 16,
    "start_time": "2022-07-13T12:25:00.278Z"
   },
   {
    "duration": 32,
    "start_time": "2022-07-13T12:25:00.296Z"
   },
   {
    "duration": 79,
    "start_time": "2022-07-13T12:25:00.330Z"
   },
   {
    "duration": 5,
    "start_time": "2022-07-13T12:25:00.411Z"
   },
   {
    "duration": 28,
    "start_time": "2022-07-13T12:25:00.419Z"
   },
   {
    "duration": 350,
    "start_time": "2022-07-13T12:25:00.449Z"
   },
   {
    "duration": 300,
    "start_time": "2022-07-13T12:25:00.800Z"
   },
   {
    "duration": 30,
    "start_time": "2022-07-13T12:25:01.104Z"
   },
   {
    "duration": 5,
    "start_time": "2022-07-13T12:25:01.147Z"
   },
   {
    "duration": 36,
    "start_time": "2022-07-13T12:25:01.153Z"
   },
   {
    "duration": 54,
    "start_time": "2022-07-13T12:25:01.191Z"
   },
   {
    "duration": 32,
    "start_time": "2022-07-13T12:25:01.247Z"
   },
   {
    "duration": 0,
    "start_time": "2022-07-13T12:25:01.281Z"
   },
   {
    "duration": 36,
    "start_time": "2022-07-13T12:25:33.439Z"
   },
   {
    "duration": 8,
    "start_time": "2022-07-13T13:31:05.308Z"
   },
   {
    "duration": 11,
    "start_time": "2022-07-13T13:36:01.741Z"
   },
   {
    "duration": 7,
    "start_time": "2022-07-13T13:36:04.596Z"
   },
   {
    "duration": 6,
    "start_time": "2022-07-13T13:36:07.845Z"
   },
   {
    "duration": 9,
    "start_time": "2022-07-13T13:36:14.572Z"
   },
   {
    "duration": 1476,
    "start_time": "2022-07-13T13:38:09.853Z"
   },
   {
    "duration": 1185,
    "start_time": "2022-07-13T13:38:40.325Z"
   },
   {
    "duration": 75,
    "start_time": "2022-07-13T13:38:46.309Z"
   },
   {
    "duration": 1023,
    "start_time": "2022-07-13T13:39:01.104Z"
   },
   {
    "duration": 1129,
    "start_time": "2022-07-13T13:39:17.165Z"
   },
   {
    "duration": 6,
    "start_time": "2022-07-13T13:39:31.945Z"
   },
   {
    "duration": 7,
    "start_time": "2022-07-13T13:39:40.750Z"
   },
   {
    "duration": 27,
    "start_time": "2022-07-13T13:40:12.950Z"
   },
   {
    "duration": 40,
    "start_time": "2022-07-13T13:40:21.441Z"
   },
   {
    "duration": 31,
    "start_time": "2022-07-13T13:40:33.641Z"
   },
   {
    "duration": 27,
    "start_time": "2022-07-13T13:40:34.943Z"
   },
   {
    "duration": 939,
    "start_time": "2022-07-13T13:41:43.791Z"
   },
   {
    "duration": 5,
    "start_time": "2022-07-13T13:41:51.390Z"
   },
   {
    "duration": 8,
    "start_time": "2022-07-13T13:41:59.775Z"
   },
   {
    "duration": 18,
    "start_time": "2022-07-13T13:42:14.542Z"
   },
   {
    "duration": 3,
    "start_time": "2022-07-13T13:43:00.999Z"
   },
   {
    "duration": 945,
    "start_time": "2022-07-13T13:43:01.005Z"
   },
   {
    "duration": 10,
    "start_time": "2022-07-13T13:43:01.952Z"
   },
   {
    "duration": 14,
    "start_time": "2022-07-13T13:43:01.964Z"
   },
   {
    "duration": 22,
    "start_time": "2022-07-13T13:43:01.980Z"
   },
   {
    "duration": 24,
    "start_time": "2022-07-13T13:43:02.004Z"
   },
   {
    "duration": 30,
    "start_time": "2022-07-13T13:43:02.030Z"
   },
   {
    "duration": 23,
    "start_time": "2022-07-13T13:43:02.061Z"
   },
   {
    "duration": 46,
    "start_time": "2022-07-13T13:43:02.086Z"
   },
   {
    "duration": 62,
    "start_time": "2022-07-13T13:43:02.134Z"
   },
   {
    "duration": 67,
    "start_time": "2022-07-13T13:43:02.198Z"
   },
   {
    "duration": 12,
    "start_time": "2022-07-13T13:43:02.267Z"
   },
   {
    "duration": 82,
    "start_time": "2022-07-13T13:43:02.280Z"
   },
   {
    "duration": 290,
    "start_time": "2022-07-13T13:43:02.364Z"
   },
   {
    "duration": 12,
    "start_time": "2022-07-13T13:43:02.656Z"
   },
   {
    "duration": 14,
    "start_time": "2022-07-13T13:43:02.670Z"
   },
   {
    "duration": 11,
    "start_time": "2022-07-13T13:43:02.685Z"
   },
   {
    "duration": 22,
    "start_time": "2022-07-13T13:43:02.698Z"
   },
   {
    "duration": 101,
    "start_time": "2022-07-13T13:43:02.721Z"
   },
   {
    "duration": 39,
    "start_time": "2022-07-13T13:43:02.824Z"
   },
   {
    "duration": 19,
    "start_time": "2022-07-13T13:43:02.865Z"
   },
   {
    "duration": 27,
    "start_time": "2022-07-13T13:43:02.886Z"
   },
   {
    "duration": 8,
    "start_time": "2022-07-13T13:43:02.915Z"
   },
   {
    "duration": 144,
    "start_time": "2022-07-13T13:43:02.945Z"
   },
   {
    "duration": 5,
    "start_time": "2022-07-13T13:43:03.090Z"
   },
   {
    "duration": 11,
    "start_time": "2022-07-13T13:43:03.097Z"
   },
   {
    "duration": 8,
    "start_time": "2022-07-13T13:43:03.110Z"
   },
   {
    "duration": 25,
    "start_time": "2022-07-13T13:43:03.120Z"
   },
   {
    "duration": 9,
    "start_time": "2022-07-13T13:43:03.148Z"
   },
   {
    "duration": 9,
    "start_time": "2022-07-13T13:43:03.159Z"
   },
   {
    "duration": 10,
    "start_time": "2022-07-13T13:43:03.169Z"
   },
   {
    "duration": 78,
    "start_time": "2022-07-13T13:43:03.181Z"
   },
   {
    "duration": 4,
    "start_time": "2022-07-13T13:43:03.261Z"
   },
   {
    "duration": 13,
    "start_time": "2022-07-13T13:43:03.267Z"
   },
   {
    "duration": 340,
    "start_time": "2022-07-13T13:43:03.282Z"
   },
   {
    "duration": 394,
    "start_time": "2022-07-13T13:43:03.624Z"
   },
   {
    "duration": 36,
    "start_time": "2022-07-13T13:43:04.020Z"
   },
   {
    "duration": 25,
    "start_time": "2022-07-13T13:43:04.057Z"
   },
   {
    "duration": 9,
    "start_time": "2022-07-13T13:43:04.084Z"
   },
   {
    "duration": 14,
    "start_time": "2022-07-13T13:43:04.095Z"
   },
   {
    "duration": 9,
    "start_time": "2022-07-13T13:43:04.111Z"
   },
   {
    "duration": 27,
    "start_time": "2022-07-13T13:43:04.121Z"
   },
   {
    "duration": 9,
    "start_time": "2022-07-13T13:43:13.894Z"
   },
   {
    "duration": 4,
    "start_time": "2022-07-13T13:43:20.315Z"
   },
   {
    "duration": 591,
    "start_time": "2022-07-13T13:43:20.321Z"
   },
   {
    "duration": 12,
    "start_time": "2022-07-13T13:43:20.914Z"
   },
   {
    "duration": 19,
    "start_time": "2022-07-13T13:43:20.928Z"
   },
   {
    "duration": 11,
    "start_time": "2022-07-13T13:43:20.950Z"
   },
   {
    "duration": 9,
    "start_time": "2022-07-13T13:43:20.963Z"
   },
   {
    "duration": 24,
    "start_time": "2022-07-13T13:43:20.974Z"
   },
   {
    "duration": 8,
    "start_time": "2022-07-13T13:43:21.000Z"
   },
   {
    "duration": 40,
    "start_time": "2022-07-13T13:43:21.009Z"
   },
   {
    "duration": 34,
    "start_time": "2022-07-13T13:43:21.051Z"
   },
   {
    "duration": 79,
    "start_time": "2022-07-13T13:43:21.088Z"
   },
   {
    "duration": 8,
    "start_time": "2022-07-13T13:43:21.169Z"
   },
   {
    "duration": 75,
    "start_time": "2022-07-13T13:43:21.179Z"
   },
   {
    "duration": 329,
    "start_time": "2022-07-13T13:43:21.257Z"
   },
   {
    "duration": 13,
    "start_time": "2022-07-13T13:43:21.588Z"
   },
   {
    "duration": 15,
    "start_time": "2022-07-13T13:43:21.602Z"
   },
   {
    "duration": 16,
    "start_time": "2022-07-13T13:43:21.619Z"
   },
   {
    "duration": 10,
    "start_time": "2022-07-13T13:43:21.646Z"
   },
   {
    "duration": 111,
    "start_time": "2022-07-13T13:43:21.658Z"
   },
   {
    "duration": 34,
    "start_time": "2022-07-13T13:43:21.771Z"
   },
   {
    "duration": 20,
    "start_time": "2022-07-13T13:43:21.807Z"
   },
   {
    "duration": 27,
    "start_time": "2022-07-13T13:43:21.846Z"
   },
   {
    "duration": 10,
    "start_time": "2022-07-13T13:43:21.875Z"
   },
   {
    "duration": 166,
    "start_time": "2022-07-13T13:43:21.886Z"
   },
   {
    "duration": 5,
    "start_time": "2022-07-13T13:43:22.054Z"
   },
   {
    "duration": 8,
    "start_time": "2022-07-13T13:43:22.060Z"
   },
   {
    "duration": 13,
    "start_time": "2022-07-13T13:43:22.070Z"
   },
   {
    "duration": 16,
    "start_time": "2022-07-13T13:43:22.085Z"
   },
   {
    "duration": 15,
    "start_time": "2022-07-13T13:43:22.105Z"
   },
   {
    "duration": 25,
    "start_time": "2022-07-13T13:43:22.122Z"
   },
   {
    "duration": 13,
    "start_time": "2022-07-13T13:43:22.149Z"
   },
   {
    "duration": 83,
    "start_time": "2022-07-13T13:43:22.163Z"
   },
   {
    "duration": 4,
    "start_time": "2022-07-13T13:43:22.248Z"
   },
   {
    "duration": 15,
    "start_time": "2022-07-13T13:43:22.254Z"
   },
   {
    "duration": 342,
    "start_time": "2022-07-13T13:43:22.271Z"
   },
   {
    "duration": 277,
    "start_time": "2022-07-13T13:43:22.616Z"
   },
   {
    "duration": 27,
    "start_time": "2022-07-13T13:43:22.895Z"
   },
   {
    "duration": 38,
    "start_time": "2022-07-13T13:43:22.924Z"
   },
   {
    "duration": 9,
    "start_time": "2022-07-13T13:43:22.963Z"
   },
   {
    "duration": 798,
    "start_time": "2022-07-13T13:43:31.143Z"
   },
   {
    "duration": 7,
    "start_time": "2022-07-13T13:43:42.645Z"
   },
   {
    "duration": 7,
    "start_time": "2022-07-13T13:44:30.264Z"
   },
   {
    "duration": 8,
    "start_time": "2022-07-13T13:44:36.642Z"
   },
   {
    "duration": 5,
    "start_time": "2022-07-13T13:45:57.883Z"
   },
   {
    "duration": 631,
    "start_time": "2022-07-13T13:45:57.890Z"
   },
   {
    "duration": 10,
    "start_time": "2022-07-13T13:45:58.524Z"
   },
   {
    "duration": 11,
    "start_time": "2022-07-13T13:45:58.536Z"
   },
   {
    "duration": 11,
    "start_time": "2022-07-13T13:45:58.549Z"
   },
   {
    "duration": 8,
    "start_time": "2022-07-13T13:45:58.562Z"
   },
   {
    "duration": 21,
    "start_time": "2022-07-13T13:45:58.572Z"
   },
   {
    "duration": 9,
    "start_time": "2022-07-13T13:45:58.595Z"
   },
   {
    "duration": 18,
    "start_time": "2022-07-13T13:45:58.605Z"
   },
   {
    "duration": 38,
    "start_time": "2022-07-13T13:45:58.649Z"
   },
   {
    "duration": 82,
    "start_time": "2022-07-13T13:45:58.690Z"
   },
   {
    "duration": 9,
    "start_time": "2022-07-13T13:45:58.773Z"
   },
   {
    "duration": 74,
    "start_time": "2022-07-13T13:45:58.783Z"
   },
   {
    "duration": 348,
    "start_time": "2022-07-13T13:45:58.858Z"
   },
   {
    "duration": 12,
    "start_time": "2022-07-13T13:45:59.208Z"
   },
   {
    "duration": 11,
    "start_time": "2022-07-13T13:45:59.221Z"
   },
   {
    "duration": 9,
    "start_time": "2022-07-13T13:45:59.246Z"
   },
   {
    "duration": 15,
    "start_time": "2022-07-13T13:45:59.256Z"
   },
   {
    "duration": 112,
    "start_time": "2022-07-13T13:45:59.273Z"
   },
   {
    "duration": 33,
    "start_time": "2022-07-13T13:45:59.387Z"
   },
   {
    "duration": 37,
    "start_time": "2022-07-13T13:45:59.422Z"
   },
   {
    "duration": 27,
    "start_time": "2022-07-13T13:45:59.461Z"
   },
   {
    "duration": 10,
    "start_time": "2022-07-13T13:45:59.490Z"
   },
   {
    "duration": 163,
    "start_time": "2022-07-13T13:45:59.502Z"
   },
   {
    "duration": 5,
    "start_time": "2022-07-13T13:45:59.667Z"
   },
   {
    "duration": 17,
    "start_time": "2022-07-13T13:45:59.673Z"
   },
   {
    "duration": 8,
    "start_time": "2022-07-13T13:45:59.691Z"
   },
   {
    "duration": 17,
    "start_time": "2022-07-13T13:45:59.701Z"
   },
   {
    "duration": 10,
    "start_time": "2022-07-13T13:45:59.721Z"
   },
   {
    "duration": 7,
    "start_time": "2022-07-13T13:45:59.746Z"
   },
   {
    "duration": 12,
    "start_time": "2022-07-13T13:45:59.754Z"
   },
   {
    "duration": 61,
    "start_time": "2022-07-13T13:45:59.767Z"
   },
   {
    "duration": 20,
    "start_time": "2022-07-13T13:45:59.829Z"
   },
   {
    "duration": 12,
    "start_time": "2022-07-13T13:45:59.850Z"
   },
   {
    "duration": 341,
    "start_time": "2022-07-13T13:45:59.864Z"
   },
   {
    "duration": 266,
    "start_time": "2022-07-13T13:46:00.207Z"
   },
   {
    "duration": 28,
    "start_time": "2022-07-13T13:46:00.474Z"
   },
   {
    "duration": 43,
    "start_time": "2022-07-13T13:46:00.503Z"
   },
   {
    "duration": 5,
    "start_time": "2022-07-13T13:46:00.548Z"
   },
   {
    "duration": 5,
    "start_time": "2022-07-13T13:46:01.409Z"
   },
   {
    "duration": 1290,
    "start_time": "2022-07-13T13:46:02.496Z"
   },
   {
    "duration": 970,
    "start_time": "2022-07-13T13:46:10.145Z"
   },
   {
    "duration": 6,
    "start_time": "2022-07-13T13:46:13.223Z"
   },
   {
    "duration": 7,
    "start_time": "2022-07-13T13:46:24.519Z"
   },
   {
    "duration": 7,
    "start_time": "2022-07-13T13:46:29.511Z"
   },
   {
    "duration": 9,
    "start_time": "2022-07-13T13:46:45.488Z"
   },
   {
    "duration": 3,
    "start_time": "2022-07-13T13:46:49.242Z"
   },
   {
    "duration": 635,
    "start_time": "2022-07-13T13:46:49.247Z"
   },
   {
    "duration": 9,
    "start_time": "2022-07-13T13:46:49.884Z"
   },
   {
    "duration": 10,
    "start_time": "2022-07-13T13:46:49.895Z"
   },
   {
    "duration": 8,
    "start_time": "2022-07-13T13:46:49.907Z"
   },
   {
    "duration": 9,
    "start_time": "2022-07-13T13:46:49.916Z"
   },
   {
    "duration": 31,
    "start_time": "2022-07-13T13:46:49.926Z"
   },
   {
    "duration": 10,
    "start_time": "2022-07-13T13:46:49.958Z"
   },
   {
    "duration": 17,
    "start_time": "2022-07-13T13:46:49.970Z"
   },
   {
    "duration": 34,
    "start_time": "2022-07-13T13:46:49.988Z"
   },
   {
    "duration": 66,
    "start_time": "2022-07-13T13:46:50.048Z"
   },
   {
    "duration": 8,
    "start_time": "2022-07-13T13:46:50.116Z"
   },
   {
    "duration": 78,
    "start_time": "2022-07-13T13:46:50.126Z"
   },
   {
    "duration": 280,
    "start_time": "2022-07-13T13:46:50.205Z"
   },
   {
    "duration": 12,
    "start_time": "2022-07-13T13:46:50.487Z"
   },
   {
    "duration": 10,
    "start_time": "2022-07-13T13:46:50.501Z"
   },
   {
    "duration": 13,
    "start_time": "2022-07-13T13:46:50.513Z"
   },
   {
    "duration": 25,
    "start_time": "2022-07-13T13:46:50.527Z"
   },
   {
    "duration": 105,
    "start_time": "2022-07-13T13:46:50.555Z"
   },
   {
    "duration": 39,
    "start_time": "2022-07-13T13:46:50.662Z"
   },
   {
    "duration": 22,
    "start_time": "2022-07-13T13:46:50.703Z"
   },
   {
    "duration": 51,
    "start_time": "2022-07-13T13:46:50.727Z"
   },
   {
    "duration": 10,
    "start_time": "2022-07-13T13:46:50.780Z"
   },
   {
    "duration": 157,
    "start_time": "2022-07-13T13:46:50.791Z"
   },
   {
    "duration": 6,
    "start_time": "2022-07-13T13:46:50.950Z"
   },
   {
    "duration": 9,
    "start_time": "2022-07-13T13:46:50.957Z"
   },
   {
    "duration": 15,
    "start_time": "2022-07-13T13:46:50.967Z"
   },
   {
    "duration": 17,
    "start_time": "2022-07-13T13:46:50.983Z"
   },
   {
    "duration": 9,
    "start_time": "2022-07-13T13:46:51.003Z"
   },
   {
    "duration": 20,
    "start_time": "2022-07-13T13:46:51.014Z"
   },
   {
    "duration": 17,
    "start_time": "2022-07-13T13:46:51.035Z"
   },
   {
    "duration": 64,
    "start_time": "2022-07-13T13:46:51.054Z"
   },
   {
    "duration": 5,
    "start_time": "2022-07-13T13:46:51.120Z"
   },
   {
    "duration": 13,
    "start_time": "2022-07-13T13:46:51.146Z"
   },
   {
    "duration": 447,
    "start_time": "2022-07-13T13:46:51.161Z"
   },
   {
    "duration": 265,
    "start_time": "2022-07-13T13:46:51.610Z"
   },
   {
    "duration": 26,
    "start_time": "2022-07-13T13:46:51.877Z"
   },
   {
    "duration": 41,
    "start_time": "2022-07-13T13:46:51.905Z"
   },
   {
    "duration": 6,
    "start_time": "2022-07-13T13:46:51.948Z"
   },
   {
    "duration": 15,
    "start_time": "2022-07-13T13:46:51.955Z"
   },
   {
    "duration": 7,
    "start_time": "2022-07-13T13:46:53.408Z"
   },
   {
    "duration": 8,
    "start_time": "2022-07-13T13:47:09.399Z"
   },
   {
    "duration": 1002,
    "start_time": "2022-07-13T13:47:23.271Z"
   },
   {
    "duration": 6,
    "start_time": "2022-07-13T13:47:54.581Z"
   },
   {
    "duration": 15,
    "start_time": "2022-07-13T13:48:09.817Z"
   },
   {
    "duration": 4,
    "start_time": "2022-07-13T13:48:13.705Z"
   },
   {
    "duration": 595,
    "start_time": "2022-07-13T13:48:13.713Z"
   },
   {
    "duration": 10,
    "start_time": "2022-07-13T13:48:14.310Z"
   },
   {
    "duration": 11,
    "start_time": "2022-07-13T13:48:14.322Z"
   },
   {
    "duration": 27,
    "start_time": "2022-07-13T13:48:14.336Z"
   },
   {
    "duration": 8,
    "start_time": "2022-07-13T13:48:14.365Z"
   },
   {
    "duration": 20,
    "start_time": "2022-07-13T13:48:14.374Z"
   },
   {
    "duration": 7,
    "start_time": "2022-07-13T13:48:14.396Z"
   },
   {
    "duration": 16,
    "start_time": "2022-07-13T13:48:14.404Z"
   },
   {
    "duration": 47,
    "start_time": "2022-07-13T13:48:14.421Z"
   },
   {
    "duration": 75,
    "start_time": "2022-07-13T13:48:14.471Z"
   },
   {
    "duration": 8,
    "start_time": "2022-07-13T13:48:14.548Z"
   },
   {
    "duration": 69,
    "start_time": "2022-07-13T13:48:14.558Z"
   },
   {
    "duration": 268,
    "start_time": "2022-07-13T13:48:14.628Z"
   },
   {
    "duration": 12,
    "start_time": "2022-07-13T13:48:14.898Z"
   },
   {
    "duration": 11,
    "start_time": "2022-07-13T13:48:14.911Z"
   },
   {
    "duration": 10,
    "start_time": "2022-07-13T13:48:14.924Z"
   },
   {
    "duration": 13,
    "start_time": "2022-07-13T13:48:14.946Z"
   },
   {
    "duration": 104,
    "start_time": "2022-07-13T13:48:14.961Z"
   },
   {
    "duration": 34,
    "start_time": "2022-07-13T13:48:15.067Z"
   },
   {
    "duration": 21,
    "start_time": "2022-07-13T13:48:15.103Z"
   },
   {
    "duration": 48,
    "start_time": "2022-07-13T13:48:15.126Z"
   },
   {
    "duration": 9,
    "start_time": "2022-07-13T13:48:15.176Z"
   },
   {
    "duration": 156,
    "start_time": "2022-07-13T13:48:15.187Z"
   },
   {
    "duration": 6,
    "start_time": "2022-07-13T13:48:15.346Z"
   },
   {
    "duration": 14,
    "start_time": "2022-07-13T13:48:15.354Z"
   },
   {
    "duration": 13,
    "start_time": "2022-07-13T13:48:15.371Z"
   },
   {
    "duration": 15,
    "start_time": "2022-07-13T13:48:15.386Z"
   },
   {
    "duration": 9,
    "start_time": "2022-07-13T13:48:15.405Z"
   },
   {
    "duration": 11,
    "start_time": "2022-07-13T13:48:15.415Z"
   },
   {
    "duration": 10,
    "start_time": "2022-07-13T13:48:15.446Z"
   },
   {
    "duration": 63,
    "start_time": "2022-07-13T13:48:15.458Z"
   },
   {
    "duration": 24,
    "start_time": "2022-07-13T13:48:15.522Z"
   },
   {
    "duration": 10,
    "start_time": "2022-07-13T13:48:15.548Z"
   },
   {
    "duration": 344,
    "start_time": "2022-07-13T13:48:15.560Z"
   },
   {
    "duration": 276,
    "start_time": "2022-07-13T13:48:15.906Z"
   },
   {
    "duration": 28,
    "start_time": "2022-07-13T13:48:16.183Z"
   },
   {
    "duration": 43,
    "start_time": "2022-07-13T13:48:16.212Z"
   },
   {
    "duration": 6,
    "start_time": "2022-07-13T13:48:16.257Z"
   },
   {
    "duration": 14,
    "start_time": "2022-07-13T13:48:16.265Z"
   },
   {
    "duration": 10,
    "start_time": "2022-07-13T13:48:24.238Z"
   },
   {
    "duration": 4,
    "start_time": "2022-07-13T13:48:31.370Z"
   },
   {
    "duration": 635,
    "start_time": "2022-07-13T13:48:31.376Z"
   },
   {
    "duration": 9,
    "start_time": "2022-07-13T13:48:32.013Z"
   },
   {
    "duration": 23,
    "start_time": "2022-07-13T13:48:32.023Z"
   },
   {
    "duration": 10,
    "start_time": "2022-07-13T13:48:32.048Z"
   },
   {
    "duration": 8,
    "start_time": "2022-07-13T13:48:32.060Z"
   },
   {
    "duration": 38,
    "start_time": "2022-07-13T13:48:32.070Z"
   },
   {
    "duration": 12,
    "start_time": "2022-07-13T13:48:32.110Z"
   },
   {
    "duration": 24,
    "start_time": "2022-07-13T13:48:32.124Z"
   },
   {
    "duration": 43,
    "start_time": "2022-07-13T13:48:32.149Z"
   },
   {
    "duration": 63,
    "start_time": "2022-07-13T13:48:32.194Z"
   },
   {
    "duration": 8,
    "start_time": "2022-07-13T13:48:32.259Z"
   },
   {
    "duration": 79,
    "start_time": "2022-07-13T13:48:32.268Z"
   },
   {
    "duration": 282,
    "start_time": "2022-07-13T13:48:32.348Z"
   },
   {
    "duration": 18,
    "start_time": "2022-07-13T13:48:32.632Z"
   },
   {
    "duration": 11,
    "start_time": "2022-07-13T13:48:32.652Z"
   },
   {
    "duration": 23,
    "start_time": "2022-07-13T13:48:32.665Z"
   },
   {
    "duration": 12,
    "start_time": "2022-07-13T13:48:32.690Z"
   },
   {
    "duration": 106,
    "start_time": "2022-07-13T13:48:32.703Z"
   },
   {
    "duration": 41,
    "start_time": "2022-07-13T13:48:32.811Z"
   },
   {
    "duration": 20,
    "start_time": "2022-07-13T13:48:32.854Z"
   },
   {
    "duration": 26,
    "start_time": "2022-07-13T13:48:32.876Z"
   },
   {
    "duration": 9,
    "start_time": "2022-07-13T13:48:32.904Z"
   },
   {
    "duration": 170,
    "start_time": "2022-07-13T13:48:32.915Z"
   },
   {
    "duration": 5,
    "start_time": "2022-07-13T13:48:33.087Z"
   },
   {
    "duration": 16,
    "start_time": "2022-07-13T13:48:33.094Z"
   },
   {
    "duration": 24,
    "start_time": "2022-07-13T13:48:33.112Z"
   },
   {
    "duration": 40,
    "start_time": "2022-07-13T13:48:33.138Z"
   },
   {
    "duration": 10,
    "start_time": "2022-07-13T13:48:33.181Z"
   },
   {
    "duration": 13,
    "start_time": "2022-07-13T13:48:33.192Z"
   },
   {
    "duration": 10,
    "start_time": "2022-07-13T13:48:33.206Z"
   },
   {
    "duration": 62,
    "start_time": "2022-07-13T13:48:33.218Z"
   },
   {
    "duration": 4,
    "start_time": "2022-07-13T13:48:33.281Z"
   },
   {
    "duration": 21,
    "start_time": "2022-07-13T13:48:33.287Z"
   },
   {
    "duration": 331,
    "start_time": "2022-07-13T13:48:33.310Z"
   },
   {
    "duration": 404,
    "start_time": "2022-07-13T13:48:33.645Z"
   },
   {
    "duration": 27,
    "start_time": "2022-07-13T13:48:34.050Z"
   },
   {
    "duration": 27,
    "start_time": "2022-07-13T13:48:34.080Z"
   },
   {
    "duration": 6,
    "start_time": "2022-07-13T13:48:37.855Z"
   },
   {
    "duration": 10,
    "start_time": "2022-07-13T13:48:38.350Z"
   },
   {
    "duration": 887,
    "start_time": "2022-07-13T13:48:45.802Z"
   },
   {
    "duration": 999,
    "start_time": "2022-07-13T13:49:14.143Z"
   },
   {
    "duration": 1174,
    "start_time": "2022-07-13T13:49:18.055Z"
   },
   {
    "duration": 1670,
    "start_time": "2022-07-13T13:51:01.500Z"
   },
   {
    "duration": 10,
    "start_time": "2022-07-13T13:51:14.159Z"
   },
   {
    "duration": 12,
    "start_time": "2022-07-13T13:51:22.318Z"
   },
   {
    "duration": 5,
    "start_time": "2022-07-13T13:51:33.281Z"
   },
   {
    "duration": 15,
    "start_time": "2022-07-13T13:51:39.639Z"
   },
   {
    "duration": 13,
    "start_time": "2022-07-13T13:51:41.990Z"
   },
   {
    "duration": 5,
    "start_time": "2022-07-13T13:51:45.231Z"
   },
   {
    "duration": 5,
    "start_time": "2022-07-13T13:51:49.526Z"
   },
   {
    "duration": 6,
    "start_time": "2022-07-13T13:52:16.994Z"
   },
   {
    "duration": 5,
    "start_time": "2022-07-13T13:52:21.880Z"
   },
   {
    "duration": 7,
    "start_time": "2022-07-13T13:54:05.471Z"
   },
   {
    "duration": 8,
    "start_time": "2022-07-13T13:54:20.519Z"
   },
   {
    "duration": 897,
    "start_time": "2022-07-13T13:55:00.367Z"
   },
   {
    "duration": 1066,
    "start_time": "2022-07-13T13:55:19.720Z"
   },
   {
    "duration": 1111,
    "start_time": "2022-07-13T13:55:40.853Z"
   },
   {
    "duration": 6,
    "start_time": "2022-07-13T13:56:15.553Z"
   },
   {
    "duration": 927,
    "start_time": "2022-07-13T13:56:44.032Z"
   },
   {
    "duration": 7,
    "start_time": "2022-07-13T13:56:50.496Z"
   },
   {
    "duration": 1513,
    "start_time": "2022-07-13T13:56:59.241Z"
   },
   {
    "duration": 6,
    "start_time": "2022-07-13T13:57:03.179Z"
   },
   {
    "duration": 7,
    "start_time": "2022-07-13T13:57:11.079Z"
   },
   {
    "duration": 14,
    "start_time": "2022-07-13T13:57:23.441Z"
   },
   {
    "duration": 13,
    "start_time": "2022-07-13T13:57:26.114Z"
   },
   {
    "duration": 6,
    "start_time": "2022-07-13T13:57:39.463Z"
   },
   {
    "duration": 52,
    "start_time": "2022-07-13T13:58:00.806Z"
   },
   {
    "duration": 15,
    "start_time": "2022-07-13T13:58:04.272Z"
   },
   {
    "duration": 526,
    "start_time": "2022-07-13T13:58:16.336Z"
   },
   {
    "duration": 582,
    "start_time": "2022-07-13T13:58:23.656Z"
   },
   {
    "duration": 7,
    "start_time": "2022-07-13T13:58:29.200Z"
   },
   {
    "duration": 9,
    "start_time": "2022-07-13T13:58:43.159Z"
   },
   {
    "duration": 10,
    "start_time": "2022-07-13T13:59:10.848Z"
   },
   {
    "duration": 15,
    "start_time": "2022-07-13T14:04:18.617Z"
   },
   {
    "duration": 13,
    "start_time": "2022-07-13T14:04:23.401Z"
   },
   {
    "duration": 24,
    "start_time": "2022-07-13T14:06:33.711Z"
   },
   {
    "duration": 25,
    "start_time": "2022-07-13T14:06:36.938Z"
   },
   {
    "duration": 19,
    "start_time": "2022-07-13T14:06:40.704Z"
   },
   {
    "duration": 21,
    "start_time": "2022-07-13T14:06:48.137Z"
   },
   {
    "duration": 30,
    "start_time": "2022-07-13T14:11:57.619Z"
   },
   {
    "duration": 18,
    "start_time": "2022-07-13T14:12:38.657Z"
   },
   {
    "duration": 9,
    "start_time": "2022-07-13T14:14:30.217Z"
   },
   {
    "duration": 22,
    "start_time": "2022-07-13T14:15:01.196Z"
   },
   {
    "duration": 23,
    "start_time": "2022-07-13T14:15:22.730Z"
   },
   {
    "duration": 32,
    "start_time": "2022-07-13T14:15:29.036Z"
   },
   {
    "duration": 21,
    "start_time": "2022-07-13T14:16:01.170Z"
   },
   {
    "duration": 4,
    "start_time": "2022-07-13T14:31:10.780Z"
   },
   {
    "duration": 702,
    "start_time": "2022-07-13T14:31:10.786Z"
   },
   {
    "duration": 16,
    "start_time": "2022-07-13T14:31:11.491Z"
   },
   {
    "duration": 24,
    "start_time": "2022-07-13T14:31:11.509Z"
   },
   {
    "duration": 16,
    "start_time": "2022-07-13T14:31:11.536Z"
   },
   {
    "duration": 13,
    "start_time": "2022-07-13T14:31:11.555Z"
   },
   {
    "duration": 22,
    "start_time": "2022-07-13T14:31:11.570Z"
   },
   {
    "duration": 10,
    "start_time": "2022-07-13T14:31:11.594Z"
   },
   {
    "duration": 45,
    "start_time": "2022-07-13T14:31:11.605Z"
   },
   {
    "duration": 36,
    "start_time": "2022-07-13T14:31:11.652Z"
   },
   {
    "duration": 96,
    "start_time": "2022-07-13T14:31:11.691Z"
   },
   {
    "duration": 18,
    "start_time": "2022-07-13T14:31:11.789Z"
   },
   {
    "duration": 88,
    "start_time": "2022-07-13T14:31:11.808Z"
   },
   {
    "duration": 325,
    "start_time": "2022-07-13T14:31:11.898Z"
   },
   {
    "duration": 27,
    "start_time": "2022-07-13T14:31:12.224Z"
   },
   {
    "duration": 11,
    "start_time": "2022-07-13T14:31:12.252Z"
   },
   {
    "duration": 11,
    "start_time": "2022-07-13T14:31:12.264Z"
   },
   {
    "duration": 16,
    "start_time": "2022-07-13T14:31:12.277Z"
   },
   {
    "duration": 121,
    "start_time": "2022-07-13T14:31:12.295Z"
   },
   {
    "duration": 47,
    "start_time": "2022-07-13T14:31:12.418Z"
   },
   {
    "duration": 22,
    "start_time": "2022-07-13T14:31:12.467Z"
   },
   {
    "duration": 30,
    "start_time": "2022-07-13T14:31:12.491Z"
   },
   {
    "duration": 36,
    "start_time": "2022-07-13T14:31:12.523Z"
   },
   {
    "duration": 164,
    "start_time": "2022-07-13T14:31:12.561Z"
   },
   {
    "duration": 7,
    "start_time": "2022-07-13T14:31:12.727Z"
   },
   {
    "duration": 6,
    "start_time": "2022-07-13T14:31:12.745Z"
   },
   {
    "duration": 8,
    "start_time": "2022-07-13T14:31:12.756Z"
   },
   {
    "duration": 15,
    "start_time": "2022-07-13T14:31:12.766Z"
   },
   {
    "duration": 9,
    "start_time": "2022-07-13T14:31:12.784Z"
   },
   {
    "duration": 12,
    "start_time": "2022-07-13T14:31:12.794Z"
   },
   {
    "duration": 11,
    "start_time": "2022-07-13T14:31:12.808Z"
   },
   {
    "duration": 69,
    "start_time": "2022-07-13T14:31:12.845Z"
   },
   {
    "duration": 4,
    "start_time": "2022-07-13T14:31:12.916Z"
   },
   {
    "duration": 38,
    "start_time": "2022-07-13T14:31:12.921Z"
   },
   {
    "duration": 363,
    "start_time": "2022-07-13T14:31:12.962Z"
   },
   {
    "duration": 304,
    "start_time": "2022-07-13T14:31:13.327Z"
   },
   {
    "duration": 39,
    "start_time": "2022-07-13T14:31:13.633Z"
   },
   {
    "duration": 29,
    "start_time": "2022-07-13T14:31:13.674Z"
   },
   {
    "duration": 6,
    "start_time": "2022-07-13T14:31:13.704Z"
   },
   {
    "duration": 11,
    "start_time": "2022-07-13T14:31:13.712Z"
   },
   {
    "duration": 50,
    "start_time": "2022-07-13T14:31:13.725Z"
   },
   {
    "duration": 4,
    "start_time": "2022-07-13T14:56:56.452Z"
   },
   {
    "duration": 904,
    "start_time": "2022-07-13T14:56:56.461Z"
   },
   {
    "duration": 12,
    "start_time": "2022-07-13T14:56:57.367Z"
   },
   {
    "duration": 20,
    "start_time": "2022-07-13T14:56:57.382Z"
   },
   {
    "duration": 8,
    "start_time": "2022-07-13T14:56:57.405Z"
   },
   {
    "duration": 8,
    "start_time": "2022-07-13T14:56:57.415Z"
   },
   {
    "duration": 42,
    "start_time": "2022-07-13T14:56:57.426Z"
   },
   {
    "duration": 8,
    "start_time": "2022-07-13T14:56:57.470Z"
   },
   {
    "duration": 27,
    "start_time": "2022-07-13T14:56:57.480Z"
   },
   {
    "duration": 56,
    "start_time": "2022-07-13T14:56:57.509Z"
   },
   {
    "duration": 78,
    "start_time": "2022-07-13T14:56:57.568Z"
   },
   {
    "duration": 9,
    "start_time": "2022-07-13T14:56:57.648Z"
   },
   {
    "duration": 71,
    "start_time": "2022-07-13T14:56:57.659Z"
   },
   {
    "duration": 317,
    "start_time": "2022-07-13T14:56:57.732Z"
   },
   {
    "duration": 14,
    "start_time": "2022-07-13T14:56:58.051Z"
   },
   {
    "duration": 8,
    "start_time": "2022-07-13T14:56:58.067Z"
   },
   {
    "duration": 10,
    "start_time": "2022-07-13T14:56:58.077Z"
   },
   {
    "duration": 10,
    "start_time": "2022-07-13T14:56:58.089Z"
   },
   {
    "duration": 134,
    "start_time": "2022-07-13T14:56:58.101Z"
   },
   {
    "duration": 41,
    "start_time": "2022-07-13T14:56:58.237Z"
   },
   {
    "duration": 22,
    "start_time": "2022-07-13T14:56:58.280Z"
   },
   {
    "duration": 61,
    "start_time": "2022-07-13T14:56:58.304Z"
   },
   {
    "duration": 12,
    "start_time": "2022-07-13T14:56:58.366Z"
   },
   {
    "duration": 168,
    "start_time": "2022-07-13T14:56:58.379Z"
   },
   {
    "duration": 5,
    "start_time": "2022-07-13T14:56:58.549Z"
   },
   {
    "duration": 6,
    "start_time": "2022-07-13T14:56:58.556Z"
   },
   {
    "duration": 10,
    "start_time": "2022-07-13T14:56:58.564Z"
   },
   {
    "duration": 17,
    "start_time": "2022-07-13T14:56:58.576Z"
   },
   {
    "duration": 9,
    "start_time": "2022-07-13T14:56:58.596Z"
   },
   {
    "duration": 12,
    "start_time": "2022-07-13T14:56:58.606Z"
   },
   {
    "duration": 11,
    "start_time": "2022-07-13T14:56:58.646Z"
   },
   {
    "duration": 72,
    "start_time": "2022-07-13T14:56:58.659Z"
   },
   {
    "duration": 16,
    "start_time": "2022-07-13T14:56:58.732Z"
   },
   {
    "duration": 19,
    "start_time": "2022-07-13T14:56:58.750Z"
   },
   {
    "duration": 442,
    "start_time": "2022-07-13T14:56:58.772Z"
   },
   {
    "duration": 308,
    "start_time": "2022-07-13T14:56:59.216Z"
   },
   {
    "duration": 42,
    "start_time": "2022-07-13T14:56:59.526Z"
   },
   {
    "duration": 30,
    "start_time": "2022-07-13T14:56:59.570Z"
   },
   {
    "duration": 6,
    "start_time": "2022-07-13T14:56:59.601Z"
   },
   {
    "duration": 19,
    "start_time": "2022-07-13T14:56:59.609Z"
   },
   {
    "duration": 37,
    "start_time": "2022-07-13T14:56:59.631Z"
   },
   {
    "duration": 1067,
    "start_time": "2022-07-13T18:25:24.902Z"
   },
   {
    "duration": 597,
    "start_time": "2022-07-13T18:25:25.971Z"
   },
   {
    "duration": 10,
    "start_time": "2022-07-13T18:25:26.570Z"
   },
   {
    "duration": 18,
    "start_time": "2022-07-13T18:25:26.582Z"
   },
   {
    "duration": 5,
    "start_time": "2022-07-13T18:25:26.602Z"
   },
   {
    "duration": 18,
    "start_time": "2022-07-13T18:25:26.609Z"
   },
   {
    "duration": 21,
    "start_time": "2022-07-13T18:25:26.628Z"
   },
   {
    "duration": 8,
    "start_time": "2022-07-13T18:25:26.650Z"
   },
   {
    "duration": 16,
    "start_time": "2022-07-13T18:25:26.660Z"
   },
   {
    "duration": 49,
    "start_time": "2022-07-13T18:25:26.679Z"
   },
   {
    "duration": 61,
    "start_time": "2022-07-13T18:25:26.729Z"
   },
   {
    "duration": 9,
    "start_time": "2022-07-13T18:25:26.792Z"
   },
   {
    "duration": 76,
    "start_time": "2022-07-13T18:25:26.803Z"
   },
   {
    "duration": 292,
    "start_time": "2022-07-13T18:25:26.881Z"
   },
   {
    "duration": 11,
    "start_time": "2022-07-13T18:25:27.175Z"
   },
   {
    "duration": 11,
    "start_time": "2022-07-13T18:25:27.187Z"
   },
   {
    "duration": 25,
    "start_time": "2022-07-13T18:25:27.200Z"
   },
   {
    "duration": 30,
    "start_time": "2022-07-13T18:25:27.228Z"
   },
   {
    "duration": 128,
    "start_time": "2022-07-13T18:25:27.261Z"
   },
   {
    "duration": 48,
    "start_time": "2022-07-13T18:25:27.392Z"
   },
   {
    "duration": 24,
    "start_time": "2022-07-13T18:25:27.442Z"
   },
   {
    "duration": 25,
    "start_time": "2022-07-13T18:25:27.468Z"
   },
   {
    "duration": 34,
    "start_time": "2022-07-13T18:25:27.495Z"
   },
   {
    "duration": 143,
    "start_time": "2022-07-13T18:25:27.531Z"
   },
   {
    "duration": 5,
    "start_time": "2022-07-13T18:25:27.676Z"
   },
   {
    "duration": 6,
    "start_time": "2022-07-13T18:25:27.683Z"
   },
   {
    "duration": 7,
    "start_time": "2022-07-13T18:25:27.690Z"
   },
   {
    "duration": 28,
    "start_time": "2022-07-13T18:25:27.700Z"
   },
   {
    "duration": 8,
    "start_time": "2022-07-13T18:25:27.730Z"
   },
   {
    "duration": 12,
    "start_time": "2022-07-13T18:25:27.740Z"
   },
   {
    "duration": 14,
    "start_time": "2022-07-13T18:25:27.754Z"
   },
   {
    "duration": 79,
    "start_time": "2022-07-13T18:25:27.770Z"
   },
   {
    "duration": 4,
    "start_time": "2022-07-13T18:25:27.850Z"
   },
   {
    "duration": 16,
    "start_time": "2022-07-13T18:25:27.856Z"
   },
   {
    "duration": 328,
    "start_time": "2022-07-13T18:25:27.874Z"
   },
   {
    "duration": 137,
    "start_time": "2022-07-13T18:25:28.204Z"
   },
   {
    "duration": 0,
    "start_time": "2022-07-13T18:25:28.343Z"
   },
   {
    "duration": 0,
    "start_time": "2022-07-13T18:25:28.344Z"
   },
   {
    "duration": 0,
    "start_time": "2022-07-13T18:25:28.345Z"
   },
   {
    "duration": 0,
    "start_time": "2022-07-13T18:25:28.346Z"
   },
   {
    "duration": 0,
    "start_time": "2022-07-13T18:25:28.347Z"
   },
   {
    "duration": 49,
    "start_time": "2022-07-13T18:27:45.786Z"
   },
   {
    "duration": 1282,
    "start_time": "2022-07-25T22:32:12.301Z"
   },
   {
    "duration": 1122,
    "start_time": "2022-07-25T22:32:13.585Z"
   },
   {
    "duration": 14,
    "start_time": "2022-07-25T22:32:14.709Z"
   },
   {
    "duration": 23,
    "start_time": "2022-07-25T22:32:14.726Z"
   },
   {
    "duration": 6,
    "start_time": "2022-07-25T22:32:14.751Z"
   },
   {
    "duration": 12,
    "start_time": "2022-07-25T22:32:14.759Z"
   },
   {
    "duration": 19,
    "start_time": "2022-07-25T22:32:14.772Z"
   },
   {
    "duration": 39,
    "start_time": "2022-07-25T22:32:14.792Z"
   },
   {
    "duration": 71,
    "start_time": "2022-07-25T22:32:14.833Z"
   },
   {
    "duration": 54,
    "start_time": "2022-07-25T22:32:14.906Z"
   },
   {
    "duration": 69,
    "start_time": "2022-07-25T22:32:14.961Z"
   },
   {
    "duration": 10,
    "start_time": "2022-07-25T22:32:15.032Z"
   },
   {
    "duration": 105,
    "start_time": "2022-07-25T22:32:15.044Z"
   },
   {
    "duration": 287,
    "start_time": "2022-07-25T22:32:15.151Z"
   },
   {
    "duration": 12,
    "start_time": "2022-07-25T22:32:15.439Z"
   },
   {
    "duration": 10,
    "start_time": "2022-07-25T22:32:15.453Z"
   },
   {
    "duration": 10,
    "start_time": "2022-07-25T22:32:15.467Z"
   },
   {
    "duration": 10,
    "start_time": "2022-07-25T22:32:15.479Z"
   },
   {
    "duration": 145,
    "start_time": "2022-07-25T22:32:15.491Z"
   },
   {
    "duration": 33,
    "start_time": "2022-07-25T22:32:15.638Z"
   },
   {
    "duration": 19,
    "start_time": "2022-07-25T22:32:15.674Z"
   },
   {
    "duration": 50,
    "start_time": "2022-07-25T22:32:15.695Z"
   },
   {
    "duration": 9,
    "start_time": "2022-07-25T22:32:15.747Z"
   },
   {
    "duration": 145,
    "start_time": "2022-07-25T22:32:15.758Z"
   },
   {
    "duration": 6,
    "start_time": "2022-07-25T22:32:15.905Z"
   },
   {
    "duration": 9,
    "start_time": "2022-07-25T22:32:15.912Z"
   },
   {
    "duration": 15,
    "start_time": "2022-07-25T22:32:15.922Z"
   },
   {
    "duration": 12,
    "start_time": "2022-07-25T22:32:15.940Z"
   },
   {
    "duration": 10,
    "start_time": "2022-07-25T22:32:15.953Z"
   },
   {
    "duration": 9,
    "start_time": "2022-07-25T22:32:15.964Z"
   },
   {
    "duration": 10,
    "start_time": "2022-07-25T22:32:15.975Z"
   },
   {
    "duration": 94,
    "start_time": "2022-07-25T22:32:15.987Z"
   },
   {
    "duration": 5,
    "start_time": "2022-07-25T22:32:16.082Z"
   },
   {
    "duration": 14,
    "start_time": "2022-07-25T22:32:16.088Z"
   },
   {
    "duration": 324,
    "start_time": "2022-07-25T22:32:16.104Z"
   },
   {
    "duration": 137,
    "start_time": "2022-07-25T22:32:16.429Z"
   },
   {
    "duration": 0,
    "start_time": "2022-07-25T22:32:16.568Z"
   },
   {
    "duration": 0,
    "start_time": "2022-07-25T22:32:16.569Z"
   },
   {
    "duration": 0,
    "start_time": "2022-07-25T22:32:16.570Z"
   },
   {
    "duration": 0,
    "start_time": "2022-07-25T22:32:16.571Z"
   },
   {
    "duration": 0,
    "start_time": "2022-07-25T22:32:16.573Z"
   },
   {
    "duration": 376,
    "start_time": "2022-07-25T22:33:08.790Z"
   },
   {
    "duration": 4,
    "start_time": "2022-07-25T22:33:14.404Z"
   },
   {
    "duration": 599,
    "start_time": "2022-07-25T22:33:14.409Z"
   },
   {
    "duration": 9,
    "start_time": "2022-07-25T22:33:15.010Z"
   },
   {
    "duration": 16,
    "start_time": "2022-07-25T22:33:15.021Z"
   },
   {
    "duration": 6,
    "start_time": "2022-07-25T22:33:15.039Z"
   },
   {
    "duration": 9,
    "start_time": "2022-07-25T22:33:15.047Z"
   },
   {
    "duration": 21,
    "start_time": "2022-07-25T22:33:15.058Z"
   },
   {
    "duration": 8,
    "start_time": "2022-07-25T22:33:15.080Z"
   },
   {
    "duration": 22,
    "start_time": "2022-07-25T22:33:15.089Z"
   },
   {
    "duration": 42,
    "start_time": "2022-07-25T22:33:15.112Z"
   },
   {
    "duration": 59,
    "start_time": "2022-07-25T22:33:15.156Z"
   },
   {
    "duration": 20,
    "start_time": "2022-07-25T22:33:15.217Z"
   },
   {
    "duration": 53,
    "start_time": "2022-07-25T22:33:15.239Z"
   },
   {
    "duration": 261,
    "start_time": "2022-07-25T22:33:15.294Z"
   },
   {
    "duration": 11,
    "start_time": "2022-07-25T22:33:15.557Z"
   },
   {
    "duration": 11,
    "start_time": "2022-07-25T22:33:15.569Z"
   },
   {
    "duration": 11,
    "start_time": "2022-07-25T22:33:15.582Z"
   },
   {
    "duration": 10,
    "start_time": "2022-07-25T22:33:15.595Z"
   },
   {
    "duration": 103,
    "start_time": "2022-07-25T22:33:15.607Z"
   },
   {
    "duration": 40,
    "start_time": "2022-07-25T22:33:15.712Z"
   },
   {
    "duration": 19,
    "start_time": "2022-07-25T22:33:15.753Z"
   },
   {
    "duration": 27,
    "start_time": "2022-07-25T22:33:15.773Z"
   },
   {
    "duration": 8,
    "start_time": "2022-07-25T22:33:15.802Z"
   },
   {
    "duration": 141,
    "start_time": "2022-07-25T22:33:15.812Z"
   },
   {
    "duration": 5,
    "start_time": "2022-07-25T22:33:15.955Z"
   },
   {
    "duration": 7,
    "start_time": "2022-07-25T22:33:15.961Z"
   },
   {
    "duration": 9,
    "start_time": "2022-07-25T22:33:15.969Z"
   },
   {
    "duration": 12,
    "start_time": "2022-07-25T22:33:15.979Z"
   },
   {
    "duration": 8,
    "start_time": "2022-07-25T22:33:15.994Z"
   },
   {
    "duration": 11,
    "start_time": "2022-07-25T22:33:16.003Z"
   },
   {
    "duration": 30,
    "start_time": "2022-07-25T22:33:16.015Z"
   },
   {
    "duration": 68,
    "start_time": "2022-07-25T22:33:16.047Z"
   },
   {
    "duration": 3,
    "start_time": "2022-07-25T22:33:16.117Z"
   },
   {
    "duration": 24,
    "start_time": "2022-07-25T22:33:16.122Z"
   },
   {
    "duration": 313,
    "start_time": "2022-07-25T22:33:16.148Z"
   },
   {
    "duration": 317,
    "start_time": "2022-07-25T22:33:16.464Z"
   },
   {
    "duration": 26,
    "start_time": "2022-07-25T22:33:16.782Z"
   },
   {
    "duration": 209,
    "start_time": "2022-07-25T22:33:16.810Z"
   },
   {
    "duration": 4,
    "start_time": "2022-07-25T22:33:17.021Z"
   },
   {
    "duration": 13,
    "start_time": "2022-07-25T22:33:17.027Z"
   },
   {
    "duration": 24,
    "start_time": "2022-07-25T22:33:17.042Z"
   },
   {
    "duration": 3,
    "start_time": "2022-07-25T22:35:41.948Z"
   },
   {
    "duration": 574,
    "start_time": "2022-07-25T22:35:41.953Z"
   },
   {
    "duration": 9,
    "start_time": "2022-07-25T22:35:42.529Z"
   },
   {
    "duration": 12,
    "start_time": "2022-07-25T22:35:42.540Z"
   },
   {
    "duration": 7,
    "start_time": "2022-07-25T22:35:42.554Z"
   },
   {
    "duration": 7,
    "start_time": "2022-07-25T22:35:42.562Z"
   },
   {
    "duration": 19,
    "start_time": "2022-07-25T22:35:42.570Z"
   },
   {
    "duration": 8,
    "start_time": "2022-07-25T22:35:42.591Z"
   },
   {
    "duration": 19,
    "start_time": "2022-07-25T22:35:42.601Z"
   },
   {
    "duration": 29,
    "start_time": "2022-07-25T22:35:42.637Z"
   },
   {
    "duration": 69,
    "start_time": "2022-07-25T22:35:42.668Z"
   },
   {
    "duration": 8,
    "start_time": "2022-07-25T22:35:42.738Z"
   },
   {
    "duration": 56,
    "start_time": "2022-07-25T22:35:42.748Z"
   },
   {
    "duration": 269,
    "start_time": "2022-07-25T22:35:42.806Z"
   },
   {
    "duration": 11,
    "start_time": "2022-07-25T22:35:43.077Z"
   },
   {
    "duration": 11,
    "start_time": "2022-07-25T22:35:43.089Z"
   },
   {
    "duration": 10,
    "start_time": "2022-07-25T22:35:43.101Z"
   },
   {
    "duration": 29,
    "start_time": "2022-07-25T22:35:43.112Z"
   },
   {
    "duration": 85,
    "start_time": "2022-07-25T22:35:43.142Z"
   },
   {
    "duration": 31,
    "start_time": "2022-07-25T22:35:43.236Z"
   },
   {
    "duration": 18,
    "start_time": "2022-07-25T22:35:43.269Z"
   },
   {
    "duration": 24,
    "start_time": "2022-07-25T22:35:43.288Z"
   },
   {
    "duration": 30,
    "start_time": "2022-07-25T22:35:43.314Z"
   },
   {
    "duration": 129,
    "start_time": "2022-07-25T22:35:43.345Z"
   },
   {
    "duration": 5,
    "start_time": "2022-07-25T22:35:43.475Z"
   },
   {
    "duration": 7,
    "start_time": "2022-07-25T22:35:43.481Z"
   },
   {
    "duration": 6,
    "start_time": "2022-07-25T22:35:43.490Z"
   },
   {
    "duration": 14,
    "start_time": "2022-07-25T22:35:43.497Z"
   },
   {
    "duration": 26,
    "start_time": "2022-07-25T22:35:43.514Z"
   },
   {
    "duration": 11,
    "start_time": "2022-07-25T22:35:43.542Z"
   },
   {
    "duration": 10,
    "start_time": "2022-07-25T22:35:43.555Z"
   },
   {
    "duration": 72,
    "start_time": "2022-07-25T22:35:43.567Z"
   },
   {
    "duration": 5,
    "start_time": "2022-07-25T22:35:43.640Z"
   },
   {
    "duration": 14,
    "start_time": "2022-07-25T22:35:43.646Z"
   },
   {
    "duration": 311,
    "start_time": "2022-07-25T22:35:43.661Z"
   },
   {
    "duration": 240,
    "start_time": "2022-07-25T22:35:43.973Z"
   },
   {
    "duration": 31,
    "start_time": "2022-07-25T22:35:44.215Z"
   },
   {
    "duration": 27,
    "start_time": "2022-07-25T22:35:44.248Z"
   },
   {
    "duration": 5,
    "start_time": "2022-07-25T22:35:44.277Z"
   },
   {
    "duration": 10,
    "start_time": "2022-07-25T22:35:44.283Z"
   },
   {
    "duration": 44,
    "start_time": "2022-07-25T22:35:44.295Z"
   },
   {
    "duration": 3,
    "start_time": "2022-07-25T22:43:52.500Z"
   },
   {
    "duration": 668,
    "start_time": "2022-07-25T22:43:52.508Z"
   },
   {
    "duration": 14,
    "start_time": "2022-07-25T22:43:53.179Z"
   },
   {
    "duration": 28,
    "start_time": "2022-07-25T22:43:53.195Z"
   },
   {
    "duration": 19,
    "start_time": "2022-07-25T22:43:53.226Z"
   },
   {
    "duration": 16,
    "start_time": "2022-07-25T22:43:53.248Z"
   },
   {
    "duration": 29,
    "start_time": "2022-07-25T22:43:53.266Z"
   },
   {
    "duration": 8,
    "start_time": "2022-07-25T22:43:53.297Z"
   },
   {
    "duration": 17,
    "start_time": "2022-07-25T22:43:53.306Z"
   },
   {
    "duration": 34,
    "start_time": "2022-07-25T22:43:53.325Z"
   },
   {
    "duration": 62,
    "start_time": "2022-07-25T22:43:53.360Z"
   },
   {
    "duration": 13,
    "start_time": "2022-07-25T22:43:53.436Z"
   },
   {
    "duration": 61,
    "start_time": "2022-07-25T22:43:53.451Z"
   },
   {
    "duration": 317,
    "start_time": "2022-07-25T22:43:53.513Z"
   },
   {
    "duration": 13,
    "start_time": "2022-07-25T22:43:53.836Z"
   },
   {
    "duration": 21,
    "start_time": "2022-07-25T22:43:53.851Z"
   },
   {
    "duration": 14,
    "start_time": "2022-07-25T22:43:53.874Z"
   },
   {
    "duration": 16,
    "start_time": "2022-07-25T22:43:53.891Z"
   },
   {
    "duration": 114,
    "start_time": "2022-07-25T22:43:53.909Z"
   },
   {
    "duration": 51,
    "start_time": "2022-07-25T22:43:54.025Z"
   },
   {
    "duration": 22,
    "start_time": "2022-07-25T22:43:54.078Z"
   },
   {
    "duration": 57,
    "start_time": "2022-07-25T22:43:54.102Z"
   },
   {
    "duration": 13,
    "start_time": "2022-07-25T22:43:54.161Z"
   },
   {
    "duration": 202,
    "start_time": "2022-07-25T22:43:54.176Z"
   },
   {
    "duration": 6,
    "start_time": "2022-07-25T22:43:54.380Z"
   },
   {
    "duration": 12,
    "start_time": "2022-07-25T22:43:54.388Z"
   },
   {
    "duration": 14,
    "start_time": "2022-07-25T22:43:54.401Z"
   },
   {
    "duration": 31,
    "start_time": "2022-07-25T22:43:54.417Z"
   },
   {
    "duration": 14,
    "start_time": "2022-07-25T22:43:54.453Z"
   },
   {
    "duration": 12,
    "start_time": "2022-07-25T22:43:54.470Z"
   },
   {
    "duration": 18,
    "start_time": "2022-07-25T22:43:54.484Z"
   },
   {
    "duration": 114,
    "start_time": "2022-07-25T22:43:54.504Z"
   },
   {
    "duration": 20,
    "start_time": "2022-07-25T22:43:54.620Z"
   },
   {
    "duration": 22,
    "start_time": "2022-07-25T22:43:54.642Z"
   },
   {
    "duration": 463,
    "start_time": "2022-07-25T22:43:54.667Z"
   },
   {
    "duration": 262,
    "start_time": "2022-07-25T22:43:55.136Z"
   },
   {
    "duration": 38,
    "start_time": "2022-07-25T22:43:55.400Z"
   },
   {
    "duration": 40,
    "start_time": "2022-07-25T22:43:55.441Z"
   },
   {
    "duration": 5,
    "start_time": "2022-07-25T22:43:55.483Z"
   },
   {
    "duration": 27,
    "start_time": "2022-07-25T22:43:55.490Z"
   },
   {
    "duration": 40,
    "start_time": "2022-07-25T22:43:55.519Z"
   }
  ],
  "kernelspec": {
   "display_name": "Python 3 (ipykernel)",
   "language": "python",
   "name": "python3"
  },
  "language_info": {
   "codemirror_mode": {
    "name": "ipython",
    "version": 3
   },
   "file_extension": ".py",
   "mimetype": "text/x-python",
   "name": "python",
   "nbconvert_exporter": "python",
   "pygments_lexer": "ipython3",
   "version": "3.9.5"
  },
  "toc": {
   "base_numbering": 1,
   "nav_menu": {},
   "number_sections": true,
   "sideBar": true,
   "skip_h1_title": true,
   "title_cell": "Оглавление",
   "title_sidebar": "Contents",
   "toc_cell": true,
   "toc_position": {},
   "toc_section_display": true,
   "toc_window_display": true
  }
 },
 "nbformat": 4,
 "nbformat_minor": 5
}
