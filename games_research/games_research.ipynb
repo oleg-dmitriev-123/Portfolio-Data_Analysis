{
 "cells": [
  {
   "cell_type": "markdown",
   "id": "d54d412a",
   "metadata": {},
   "source": [
    "# Поиск закономерностей в данных о продажах игр"
   ]
  },
  {
   "cell_type": "markdown",
   "id": "704e6a18",
   "metadata": {
    "toc": true
   },
   "source": [
    "<h1>Оглавление<span class=\"tocSkip\"></span></h1>\n",
    "<div class=\"toc\"><ul class=\"toc-item\"><li><span><a href=\"#Описание-проекта\" data-toc-modified-id=\"Описание-проекта-1\"><span class=\"toc-item-num\">1&nbsp;&nbsp;</span>Описание проекта</a></span></li><li><span><a href=\"#Настройка-окружения\" data-toc-modified-id=\"Настройка-окружения-2\"><span class=\"toc-item-num\">2&nbsp;&nbsp;</span>Настройка окружения</a></span></li><li><span><a href=\"#Изучение-данных\" data-toc-modified-id=\"Изучение-данных-3\"><span class=\"toc-item-num\">3&nbsp;&nbsp;</span>Изучение данных</a></span><ul class=\"toc-item\"><li><span><a href=\"#Обзор-датафрейма\" data-toc-modified-id=\"Обзор-датафрейма-3.1\"><span class=\"toc-item-num\">3.1&nbsp;&nbsp;</span>Обзор датафрейма</a></span></li><li><span><a href=\"#Вывод\" data-toc-modified-id=\"Вывод-3.2\"><span class=\"toc-item-num\">3.2&nbsp;&nbsp;</span>Вывод</a></span></li></ul></li><li><span><a href=\"#Предобработка-данных\" data-toc-modified-id=\"Предобработка-данных-4\"><span class=\"toc-item-num\">4&nbsp;&nbsp;</span>Предобработка данных</a></span><ul class=\"toc-item\"><li><span><a href=\"#Стиль-заголовков\" data-toc-modified-id=\"Стиль-заголовков-4.1\"><span class=\"toc-item-num\">4.1&nbsp;&nbsp;</span>Стиль заголовков</a></span></li><li><span><a href=\"#Обработка-пропусков\" data-toc-modified-id=\"Обработка-пропусков-4.2\"><span class=\"toc-item-num\">4.2&nbsp;&nbsp;</span>Обработка пропусков</a></span></li><li><span><a href=\"#Замена-типов\" data-toc-modified-id=\"Замена-типов-4.3\"><span class=\"toc-item-num\">4.3&nbsp;&nbsp;</span>Замена типов</a></span></li><li><span><a href=\"#Подсчет-суммарных-продаж-во-всех-регионах\" data-toc-modified-id=\"Подсчет-суммарных-продаж-во-всех-регионах-4.4\"><span class=\"toc-item-num\">4.4&nbsp;&nbsp;</span>Подсчет суммарных продаж во всех регионах</a></span></li><li><span><a href=\"#Вывод\" data-toc-modified-id=\"Вывод-4.5\"><span class=\"toc-item-num\">4.5&nbsp;&nbsp;</span>Вывод</a></span></li></ul></li><li><span><a href=\"#Исследовательский-анализ-данных\" data-toc-modified-id=\"Исследовательский-анализ-данных-5\"><span class=\"toc-item-num\">5&nbsp;&nbsp;</span>Исследовательский анализ данных</a></span><ul class=\"toc-item\"><li><span><a href=\"#Анализ-периодов-выпуска-игр\" data-toc-modified-id=\"Анализ-периодов-выпуска-игр-5.1\"><span class=\"toc-item-num\">5.1&nbsp;&nbsp;</span>Анализ периодов выпуска игр</a></span></li><li><span><a href=\"#Анализ-игровых-платформ\" data-toc-modified-id=\"Анализ-игровых-платформ-5.2\"><span class=\"toc-item-num\">5.2&nbsp;&nbsp;</span>Анализ игровых платформ</a></span></li><li><span><a href=\"#Анализ-жанров-игр\" data-toc-modified-id=\"Анализ-жанров-игр-5.3\"><span class=\"toc-item-num\">5.3&nbsp;&nbsp;</span>Анализ жанров игр</a></span></li><li><span><a href=\"#Вывод\" data-toc-modified-id=\"Вывод-5.4\"><span class=\"toc-item-num\">5.4&nbsp;&nbsp;</span>Вывод</a></span></li></ul></li><li><span><a href=\"#Составление-портрета-пользователя\" data-toc-modified-id=\"Составление-портрета-пользователя-6\"><span class=\"toc-item-num\">6&nbsp;&nbsp;</span>Составление портрета пользователя</a></span><ul class=\"toc-item\"><li><span><a href=\"#Топ-5-платформ-в-разных-регионах\" data-toc-modified-id=\"Топ-5-платформ-в-разных-регионах-6.1\"><span class=\"toc-item-num\">6.1&nbsp;&nbsp;</span>Топ 5 платформ в разных регионах</a></span><ul class=\"toc-item\"><li><span><a href=\"#Вывод\" data-toc-modified-id=\"Вывод-6.1.1\"><span class=\"toc-item-num\">6.1.1&nbsp;&nbsp;</span>Вывод</a></span></li></ul></li><li><span><a href=\"#Топ-5-игровых-жанров-в-разных-регионах\" data-toc-modified-id=\"Топ-5-игровых-жанров-в-разных-регионах-6.2\"><span class=\"toc-item-num\">6.2&nbsp;&nbsp;</span>Топ 5 игровых жанров в разных регионах</a></span><ul class=\"toc-item\"><li><span><a href=\"#Вывод\" data-toc-modified-id=\"Вывод-6.2.1\"><span class=\"toc-item-num\">6.2.1&nbsp;&nbsp;</span>Вывод</a></span></li></ul></li><li><span><a href=\"#Влияние-рейтинга-ESRB-на-продажи\" data-toc-modified-id=\"Влияние-рейтинга-ESRB-на-продажи-6.3\"><span class=\"toc-item-num\">6.3&nbsp;&nbsp;</span>Влияние рейтинга ESRB на продажи</a></span><ul class=\"toc-item\"><li><span><a href=\"#Вывод\" data-toc-modified-id=\"Вывод-6.3.1\"><span class=\"toc-item-num\">6.3.1&nbsp;&nbsp;</span>Вывод</a></span></li></ul></li><li><span><a href=\"#Обший-вывод-по-пункту\" data-toc-modified-id=\"Обший-вывод-по-пункту-6.4\"><span class=\"toc-item-num\">6.4&nbsp;&nbsp;</span>Обший вывод по пункту</a></span></li></ul></li><li><span><a href=\"#Проверка-гипотез\" data-toc-modified-id=\"Проверка-гипотез-7\"><span class=\"toc-item-num\">7&nbsp;&nbsp;</span>Проверка гипотез</a></span><ul class=\"toc-item\"><li><span><a href=\"#Средние-пользовательские-рейтинги-платформ-Xbox-One-и-PC-одинаковые\" data-toc-modified-id=\"Средние-пользовательские-рейтинги-платформ-Xbox-One-и-PC-одинаковые-7.1\"><span class=\"toc-item-num\">7.1&nbsp;&nbsp;</span>Средние пользовательские рейтинги платформ Xbox One и PC одинаковые</a></span><ul class=\"toc-item\"><li><span><a href=\"#Вывод\" data-toc-modified-id=\"Вывод-7.1.1\"><span class=\"toc-item-num\">7.1.1&nbsp;&nbsp;</span>Вывод</a></span></li></ul></li><li><span><a href=\"#Средние-пользовательские-рейтинги-жанров-Action-и-Sports-разные\" data-toc-modified-id=\"Средние-пользовательские-рейтинги-жанров-Action-и-Sports-разные-7.2\"><span class=\"toc-item-num\">7.2&nbsp;&nbsp;</span>Средние пользовательские рейтинги жанров Action и Sports разные</a></span><ul class=\"toc-item\"><li><span><a href=\"#Вывод\" data-toc-modified-id=\"Вывод-7.2.1\"><span class=\"toc-item-num\">7.2.1&nbsp;&nbsp;</span>Вывод</a></span></li></ul></li></ul></li><li><span><a href=\"#Общий-вывод-по-проекту\" data-toc-modified-id=\"Общий-вывод-по-проекту-8\"><span class=\"toc-item-num\">8&nbsp;&nbsp;</span>Общий вывод по проекту</a></span></li></ul></div>"
   ]
  },
  {
   "cell_type": "markdown",
   "id": "9e23333e",
   "metadata": {},
   "source": [
    "## Описание проекта\n",
    "\n",
    "Интернет-магазин продаёт по всему миру\n",
    "компьютерные игры. Нужно выявить определяющие успешность игры закономерности. Это позволит сделать ставку на потенциально популярный продукт и спланировать рекламные кампании"
   ]
  },
  {
   "cell_type": "markdown",
   "id": "f5a288ec",
   "metadata": {},
   "source": [
    "## Настройка окружения"
   ]
  },
  {
   "cell_type": "code",
   "execution_count": 91,
   "id": "a972e010",
   "metadata": {},
   "outputs": [],
   "source": [
    "# отключаю предупреждение anaconda\n",
    "import warnings\n",
    "warnings.simplefilter('ignore')\n",
    "\n",
    "# настройка отображения графика\n",
    "import seaborn as sns\n",
    "import matplotlib\n",
    "import matplotlib.pyplot as plt\n",
    "matplotlib.style.use('dark_background')\n",
    "\n",
    "# увеличение дефолтного размера графиков\n",
    "from pylab import rcParams\n",
    "rcParams['figure.figsize'] = 8,5\n",
    "\n",
    "#сторонние библиотеки\n",
    "import pandas as pd\n",
    "from scipy import stats as st"
   ]
  },
  {
   "cell_type": "markdown",
   "id": "4114f209",
   "metadata": {},
   "source": [
    "## Изучение данных"
   ]
  },
  {
   "cell_type": "markdown",
   "id": "8f9c36a0",
   "metadata": {},
   "source": [
    "### Обзор датафрейма"
   ]
  },
  {
   "cell_type": "code",
   "execution_count": 92,
   "id": "e0a197fc",
   "metadata": {},
   "outputs": [],
   "source": [
    "try:\n",
    "    df = pd.read_csv('games.csv')\n",
    "except:\n",
    "    df = pd.read_csv('/datasets/games.csv')"
   ]
  },
  {
   "cell_type": "code",
   "execution_count": 93,
   "id": "0218070f",
   "metadata": {},
   "outputs": [
    {
     "data": {
      "text/html": [
       "<div>\n",
       "<style scoped>\n",
       "    .dataframe tbody tr th:only-of-type {\n",
       "        vertical-align: middle;\n",
       "    }\n",
       "\n",
       "    .dataframe tbody tr th {\n",
       "        vertical-align: top;\n",
       "    }\n",
       "\n",
       "    .dataframe thead th {\n",
       "        text-align: right;\n",
       "    }\n",
       "</style>\n",
       "<table border=\"1\" class=\"dataframe\">\n",
       "  <thead>\n",
       "    <tr style=\"text-align: right;\">\n",
       "      <th></th>\n",
       "      <th>Name</th>\n",
       "      <th>Platform</th>\n",
       "      <th>Year_of_Release</th>\n",
       "      <th>Genre</th>\n",
       "      <th>NA_sales</th>\n",
       "      <th>EU_sales</th>\n",
       "      <th>JP_sales</th>\n",
       "      <th>Other_sales</th>\n",
       "      <th>Critic_Score</th>\n",
       "      <th>User_Score</th>\n",
       "      <th>Rating</th>\n",
       "    </tr>\n",
       "  </thead>\n",
       "  <tbody>\n",
       "    <tr>\n",
       "      <th>0</th>\n",
       "      <td>Wii Sports</td>\n",
       "      <td>Wii</td>\n",
       "      <td>2006.0</td>\n",
       "      <td>Sports</td>\n",
       "      <td>41.36</td>\n",
       "      <td>28.96</td>\n",
       "      <td>3.77</td>\n",
       "      <td>8.45</td>\n",
       "      <td>76.0</td>\n",
       "      <td>8</td>\n",
       "      <td>E</td>\n",
       "    </tr>\n",
       "    <tr>\n",
       "      <th>1</th>\n",
       "      <td>Super Mario Bros.</td>\n",
       "      <td>NES</td>\n",
       "      <td>1985.0</td>\n",
       "      <td>Platform</td>\n",
       "      <td>29.08</td>\n",
       "      <td>3.58</td>\n",
       "      <td>6.81</td>\n",
       "      <td>0.77</td>\n",
       "      <td>NaN</td>\n",
       "      <td>NaN</td>\n",
       "      <td>NaN</td>\n",
       "    </tr>\n",
       "    <tr>\n",
       "      <th>2</th>\n",
       "      <td>Mario Kart Wii</td>\n",
       "      <td>Wii</td>\n",
       "      <td>2008.0</td>\n",
       "      <td>Racing</td>\n",
       "      <td>15.68</td>\n",
       "      <td>12.76</td>\n",
       "      <td>3.79</td>\n",
       "      <td>3.29</td>\n",
       "      <td>82.0</td>\n",
       "      <td>8.3</td>\n",
       "      <td>E</td>\n",
       "    </tr>\n",
       "    <tr>\n",
       "      <th>3</th>\n",
       "      <td>Wii Sports Resort</td>\n",
       "      <td>Wii</td>\n",
       "      <td>2009.0</td>\n",
       "      <td>Sports</td>\n",
       "      <td>15.61</td>\n",
       "      <td>10.93</td>\n",
       "      <td>3.28</td>\n",
       "      <td>2.95</td>\n",
       "      <td>80.0</td>\n",
       "      <td>8</td>\n",
       "      <td>E</td>\n",
       "    </tr>\n",
       "    <tr>\n",
       "      <th>4</th>\n",
       "      <td>Pokemon Red/Pokemon Blue</td>\n",
       "      <td>GB</td>\n",
       "      <td>1996.0</td>\n",
       "      <td>Role-Playing</td>\n",
       "      <td>11.27</td>\n",
       "      <td>8.89</td>\n",
       "      <td>10.22</td>\n",
       "      <td>1.00</td>\n",
       "      <td>NaN</td>\n",
       "      <td>NaN</td>\n",
       "      <td>NaN</td>\n",
       "    </tr>\n",
       "  </tbody>\n",
       "</table>\n",
       "</div>"
      ],
      "text/plain": [
       "                       Name Platform  Year_of_Release         Genre  NA_sales  \\\n",
       "0                Wii Sports      Wii           2006.0        Sports     41.36   \n",
       "1         Super Mario Bros.      NES           1985.0      Platform     29.08   \n",
       "2            Mario Kart Wii      Wii           2008.0        Racing     15.68   \n",
       "3         Wii Sports Resort      Wii           2009.0        Sports     15.61   \n",
       "4  Pokemon Red/Pokemon Blue       GB           1996.0  Role-Playing     11.27   \n",
       "\n",
       "   EU_sales  JP_sales  Other_sales  Critic_Score User_Score Rating  \n",
       "0     28.96      3.77         8.45          76.0          8      E  \n",
       "1      3.58      6.81         0.77           NaN        NaN    NaN  \n",
       "2     12.76      3.79         3.29          82.0        8.3      E  \n",
       "3     10.93      3.28         2.95          80.0          8      E  \n",
       "4      8.89     10.22         1.00           NaN        NaN    NaN  "
      ]
     },
     "execution_count": 93,
     "metadata": {},
     "output_type": "execute_result"
    }
   ],
   "source": [
    "df.head()"
   ]
  },
  {
   "cell_type": "code",
   "execution_count": 94,
   "id": "951fcefd",
   "metadata": {},
   "outputs": [
    {
     "name": "stdout",
     "output_type": "stream",
     "text": [
      "<class 'pandas.core.frame.DataFrame'>\n",
      "RangeIndex: 16715 entries, 0 to 16714\n",
      "Data columns (total 11 columns):\n",
      " #   Column           Non-Null Count  Dtype  \n",
      "---  ------           --------------  -----  \n",
      " 0   Name             16713 non-null  object \n",
      " 1   Platform         16715 non-null  object \n",
      " 2   Year_of_Release  16446 non-null  float64\n",
      " 3   Genre            16713 non-null  object \n",
      " 4   NA_sales         16715 non-null  float64\n",
      " 5   EU_sales         16715 non-null  float64\n",
      " 6   JP_sales         16715 non-null  float64\n",
      " 7   Other_sales      16715 non-null  float64\n",
      " 8   Critic_Score     8137 non-null   float64\n",
      " 9   User_Score       10014 non-null  object \n",
      " 10  Rating           9949 non-null   object \n",
      "dtypes: float64(6), object(5)\n",
      "memory usage: 1.4+ MB\n"
     ]
    }
   ],
   "source": [
    "df.info()"
   ]
  },
  {
   "cell_type": "code",
   "execution_count": 95,
   "id": "cfd8c48b",
   "metadata": {},
   "outputs": [
    {
     "data": {
      "text/plain": [
       "0"
      ]
     },
     "execution_count": 95,
     "metadata": {},
     "output_type": "execute_result"
    }
   ],
   "source": [
    "df.duplicated().sum()"
   ]
  },
  {
   "cell_type": "code",
   "execution_count": 96,
   "id": "3fb5a182",
   "metadata": {},
   "outputs": [
    {
     "data": {
      "text/plain": [
       "Name                  2\n",
       "Platform              0\n",
       "Year_of_Release     269\n",
       "Genre                 2\n",
       "NA_sales              0\n",
       "EU_sales              0\n",
       "JP_sales              0\n",
       "Other_sales           0\n",
       "Critic_Score       8578\n",
       "User_Score         6701\n",
       "Rating             6766\n",
       "dtype: int64"
      ]
     },
     "execution_count": 96,
     "metadata": {},
     "output_type": "execute_result"
    }
   ],
   "source": [
    "df.isna().sum()"
   ]
  },
  {
   "cell_type": "markdown",
   "id": "8f7cc128",
   "metadata": {},
   "source": [
    "### Вывод\n",
    "\n",
    "Необходимо провести следующие манипуляции с данными:\n",
    "- привести название столбцов в соответствии со стилем camel_case;\n",
    "- изменить тип данных в переменной:  Year_of_Release на int и User_Score на float;\n",
    "- по возможности избавиться от пропусков;"
   ]
  },
  {
   "cell_type": "markdown",
   "id": "c7992d3f",
   "metadata": {},
   "source": [
    "## Предобработка данных"
   ]
  },
  {
   "cell_type": "markdown",
   "id": "590894c3",
   "metadata": {},
   "source": [
    "### Стиль заголовков"
   ]
  },
  {
   "cell_type": "code",
   "execution_count": 97,
   "id": "d443e3d7",
   "metadata": {},
   "outputs": [
    {
     "data": {
      "text/plain": [
       "Index(['Name', 'Platform', 'Year_of_Release', 'Genre', 'NA_sales', 'EU_sales',\n",
       "       'JP_sales', 'Other_sales', 'Critic_Score', 'User_Score', 'Rating'],\n",
       "      dtype='object')"
      ]
     },
     "execution_count": 97,
     "metadata": {},
     "output_type": "execute_result"
    }
   ],
   "source": [
    "df.columns"
   ]
  },
  {
   "cell_type": "code",
   "execution_count": 98,
   "id": "b40046c4",
   "metadata": {},
   "outputs": [],
   "source": [
    "df.columns = ['name', 'platform', 'year_of_release', 'genre', 'na_sales', 'eu_sales',\n",
    "       'jp_sales', 'other_sales', 'critic_score', 'user_score', 'rating']"
   ]
  },
  {
   "cell_type": "markdown",
   "id": "49a9a389",
   "metadata": {},
   "source": [
    "### Обработка пропусков"
   ]
  },
  {
   "cell_type": "markdown",
   "id": "c9d056b8",
   "metadata": {},
   "source": [
    "Пропуски в scores заполнять не надо - любое заполнение исказит результаты корреляционного анализа и стат-тестов"
   ]
  },
  {
   "cell_type": "markdown",
   "id": "4eca899e",
   "metadata": {},
   "source": [
    "**year_of_release**"
   ]
  },
  {
   "cell_type": "code",
   "execution_count": 99,
   "id": "3a1a7c32",
   "metadata": {},
   "outputs": [
    {
     "name": "stdout",
     "output_type": "stream",
     "text": [
      "Кол-во пропущенных зн-ий в year_of_release от общей массы значений составляет: 1.6%\n"
     ]
    }
   ],
   "source": [
    "print('Кол-во пропущенных зн-ий в year_of_release от общей массы значений составляет:',\n",
    "      '{:.1%}'.format(df['year_of_release'].isna().sum() / df.shape[0]))"
   ]
  },
  {
   "cell_type": "markdown",
   "id": "8e43dd20",
   "metadata": {},
   "source": [
    "Т.к. кол-во пропущенных значений невелико, то я удалю строки с пропущенными значениями:"
   ]
  },
  {
   "cell_type": "code",
   "execution_count": 100,
   "id": "aa86a748",
   "metadata": {},
   "outputs": [],
   "source": [
    "df = df.loc[~df['year_of_release'].isna()]"
   ]
  },
  {
   "cell_type": "code",
   "execution_count": 101,
   "id": "05b7eff0",
   "metadata": {},
   "outputs": [
    {
     "name": "stdout",
     "output_type": "stream",
     "text": [
      "Кол-во пропущенных зн-ий в year_of_release от общей массы значений составляет: 0.0%\n"
     ]
    }
   ],
   "source": [
    "#проверка\n",
    "print('Кол-во пропущенных зн-ий в year_of_release от общей массы значений составляет:',\n",
    "      '{:.1%}'.format(df['year_of_release'].isna().sum() / df.shape[0]))"
   ]
  },
  {
   "cell_type": "markdown",
   "id": "5b034e8f",
   "metadata": {},
   "source": [
    "Аналогично поступлю с переменной **name**"
   ]
  },
  {
   "cell_type": "code",
   "execution_count": 102,
   "id": "13d359f0",
   "metadata": {},
   "outputs": [
    {
     "name": "stdout",
     "output_type": "stream",
     "text": [
      "Кол-во пропущенных зн-ий в name составляет: 2\n",
      "Кол-во пропущенных зн-ий в name составляет: 0\n"
     ]
    }
   ],
   "source": [
    "print('Кол-во пропущенных зн-ий в name составляет:', df['name'].isna().sum())\n",
    "df = df.loc[~df['name'].isna()]\n",
    "#проверка\n",
    "print('Кол-во пропущенных зн-ий в name составляет:', df['name'].isna().sum())"
   ]
  },
  {
   "cell_type": "markdown",
   "id": "3170b98c",
   "metadata": {},
   "source": [
    "**rating**"
   ]
  },
  {
   "cell_type": "markdown",
   "id": "2eb90f7b",
   "metadata": {},
   "source": [
    "Так как это качественная переменная, то чтобы не исказить результаты исследования заполню пропуски значениями-заглушками"
   ]
  },
  {
   "cell_type": "code",
   "execution_count": 103,
   "id": "ee3c2c45",
   "metadata": {},
   "outputs": [
    {
     "data": {
      "text/plain": [
       "0"
      ]
     },
     "execution_count": 103,
     "metadata": {},
     "output_type": "execute_result"
    }
   ],
   "source": [
    "df['rating'] = df['rating'].fillna('undefined')\n",
    "#проверка\n",
    "df['rating'].isna().sum()"
   ]
  },
  {
   "cell_type": "markdown",
   "id": "6691c67c",
   "metadata": {},
   "source": [
    "### Замена типов\n",
    "\n",
    "- Изменю тип переменной year_of_release на int. \n",
    "- Изменю тип переменной user_score на float и обработаю зн-ия tbd"
   ]
  },
  {
   "cell_type": "code",
   "execution_count": 104,
   "id": "9ce59a79",
   "metadata": {},
   "outputs": [],
   "source": [
    "df['year_of_release'] = df['year_of_release'].astype('int')"
   ]
  },
  {
   "cell_type": "markdown",
   "id": "498055df",
   "metadata": {},
   "source": [
    "Значения tbd (to be determined) в столбце user_score означают, что данные еще не поступили на момент выгрузки таблицы. По факту этих данных нет и я заменю эти записи на nan тип float, чтобы это не помешало привести user_score к типу float"
   ]
  },
  {
   "cell_type": "code",
   "execution_count": 105,
   "id": "77da6969",
   "metadata": {},
   "outputs": [],
   "source": [
    "df.loc[df['user_score'] == 'tbd', 'user_score']= float('nan')"
   ]
  },
  {
   "cell_type": "code",
   "execution_count": 106,
   "id": "03ae0adb",
   "metadata": {},
   "outputs": [],
   "source": [
    "df['user_score'] = df['user_score'].astype('float')"
   ]
  },
  {
   "cell_type": "markdown",
   "id": "d30c06c1",
   "metadata": {},
   "source": [
    "### Подсчет суммарных продаж во всех регионах\n",
    "\n",
    "Рассчет суммарных продаж во всех регионах и запись их в отдельный\n",
    "столбец.\n",
    "\n"
   ]
  },
  {
   "cell_type": "code",
   "execution_count": 107,
   "id": "26e1f402",
   "metadata": {},
   "outputs": [],
   "source": [
    "df['total_year_sales'] = df['na_sales']+ df['eu_sales']+df['jp_sales']+df['other_sales']\n",
    "#df.head()"
   ]
  },
  {
   "cell_type": "markdown",
   "id": "0309ad26",
   "metadata": {},
   "source": [
    "### Вывод\n",
    "\n",
    "В результате предобработки данных были выполнены следующие задачи:\n",
    " - изменен стиль заголовков;\n",
    " - обработаны пропуски в переменных year_of_release, name, rating, user_score;\n",
    " - заменены типы в переменных year_of_release и user_score;\n",
    " - обработаны зн-ия tbd в переменной user_score;\n"
   ]
  },
  {
   "cell_type": "markdown",
   "id": "1aa6b5f3",
   "metadata": {},
   "source": [
    "## Исследовательский анализ данных"
   ]
  },
  {
   "cell_type": "markdown",
   "id": "566f67ea",
   "metadata": {},
   "source": [
    "### Анализ периодов выпуска игр\n",
    "Изучу сколько игр выпускалось в разные годы. Определю актуальный период."
   ]
  },
  {
   "cell_type": "code",
   "execution_count": 108,
   "id": "35491857",
   "metadata": {
    "scrolled": false
   },
   "outputs": [
    {
     "data": {
      "image/png": "[encoded data removed]",
      "text/plain": [
       "<Figure size 640x400 with 1 Axes>"
      ]
     },
     "metadata": {},
     "output_type": "display_data"
    }
   ],
   "source": [
    "df.groupby('year_of_release')['year_of_release'].count().plot(kind='bar', rot=45);"
   ]
  },
  {
   "cell_type": "markdown",
   "id": "2d96fdda",
   "metadata": {},
   "source": [
    "Я думаю, что для прогнозирования продаж на 2017 год, важны данные, начиная с 2010-х. Так как игровая индустрия динамично меняется, то данные за 2000-е уже неактуальны. Далее я определю актуальный период с еще большей точностью"
   ]
  },
  {
   "cell_type": "code",
   "execution_count": 109,
   "id": "ad85c2f4",
   "metadata": {},
   "outputs": [],
   "source": [
    "#фильтрация данных:\n",
    "df = df.query('year_of_release >= 2010')"
   ]
  },
  {
   "cell_type": "markdown",
   "id": "ede768c5",
   "metadata": {},
   "source": [
    "### Анализ игровых платформ\n",
    "Посмотрю, как менялись продажи по платформам. Выберу платформы с\n",
    "наибольшими суммарными продажами и построю распределение по годам.\n",
    "Определю характерный срок появления новых и исчезновения старых платформ."
   ]
  },
  {
   "cell_type": "code",
   "execution_count": 110,
   "id": "f246916c",
   "metadata": {},
   "outputs": [
    {
     "data": {
      "text/html": [
       "<div>\n",
       "<style scoped>\n",
       "    .dataframe tbody tr th:only-of-type {\n",
       "        vertical-align: middle;\n",
       "    }\n",
       "\n",
       "    .dataframe tbody tr th {\n",
       "        vertical-align: top;\n",
       "    }\n",
       "\n",
       "    .dataframe thead th {\n",
       "        text-align: right;\n",
       "    }\n",
       "</style>\n",
       "<table border=\"1\" class=\"dataframe\">\n",
       "  <thead>\n",
       "    <tr style=\"text-align: right;\">\n",
       "      <th></th>\n",
       "      <th>total_year_sales</th>\n",
       "    </tr>\n",
       "    <tr>\n",
       "      <th>platform</th>\n",
       "      <th></th>\n",
       "    </tr>\n",
       "  </thead>\n",
       "  <tbody>\n",
       "    <tr>\n",
       "      <th>PS3</th>\n",
       "      <td>587.74</td>\n",
       "    </tr>\n",
       "    <tr>\n",
       "      <th>X360</th>\n",
       "      <td>550.41</td>\n",
       "    </tr>\n",
       "    <tr>\n",
       "      <th>PS4</th>\n",
       "      <td>314.14</td>\n",
       "    </tr>\n",
       "  </tbody>\n",
       "</table>\n",
       "</div>"
      ],
      "text/plain": [
       "          total_year_sales\n",
       "platform                  \n",
       "PS3                 587.74\n",
       "X360                550.41\n",
       "PS4                 314.14"
      ]
     },
     "metadata": {},
     "output_type": "display_data"
    },
    {
     "data": {
      "text/html": [
       "<div>\n",
       "<style scoped>\n",
       "    .dataframe tbody tr th:only-of-type {\n",
       "        vertical-align: middle;\n",
       "    }\n",
       "\n",
       "    .dataframe tbody tr th {\n",
       "        vertical-align: top;\n",
       "    }\n",
       "\n",
       "    .dataframe thead th {\n",
       "        text-align: right;\n",
       "    }\n",
       "</style>\n",
       "<table border=\"1\" class=\"dataframe\">\n",
       "  <thead>\n",
       "    <tr style=\"text-align: right;\">\n",
       "      <th></th>\n",
       "      <th>platform</th>\n",
       "      <th>year_of_release</th>\n",
       "      <th>total_year_sales</th>\n",
       "    </tr>\n",
       "  </thead>\n",
       "  <tbody>\n",
       "    <tr>\n",
       "      <th>0</th>\n",
       "      <td>PS3</td>\n",
       "      <td>2010</td>\n",
       "      <td>142.17</td>\n",
       "    </tr>\n",
       "    <tr>\n",
       "      <th>1</th>\n",
       "      <td>PS3</td>\n",
       "      <td>2011</td>\n",
       "      <td>156.78</td>\n",
       "    </tr>\n",
       "    <tr>\n",
       "      <th>2</th>\n",
       "      <td>PS3</td>\n",
       "      <td>2012</td>\n",
       "      <td>107.36</td>\n",
       "    </tr>\n",
       "    <tr>\n",
       "      <th>3</th>\n",
       "      <td>PS3</td>\n",
       "      <td>2013</td>\n",
       "      <td>113.25</td>\n",
       "    </tr>\n",
       "    <tr>\n",
       "      <th>4</th>\n",
       "      <td>PS3</td>\n",
       "      <td>2014</td>\n",
       "      <td>47.76</td>\n",
       "    </tr>\n",
       "    <tr>\n",
       "      <th>5</th>\n",
       "      <td>PS3</td>\n",
       "      <td>2015</td>\n",
       "      <td>16.82</td>\n",
       "    </tr>\n",
       "    <tr>\n",
       "      <th>6</th>\n",
       "      <td>PS3</td>\n",
       "      <td>2016</td>\n",
       "      <td>3.60</td>\n",
       "    </tr>\n",
       "    <tr>\n",
       "      <th>7</th>\n",
       "      <td>PS4</td>\n",
       "      <td>2013</td>\n",
       "      <td>25.99</td>\n",
       "    </tr>\n",
       "    <tr>\n",
       "      <th>8</th>\n",
       "      <td>PS4</td>\n",
       "      <td>2014</td>\n",
       "      <td>100.00</td>\n",
       "    </tr>\n",
       "    <tr>\n",
       "      <th>9</th>\n",
       "      <td>PS4</td>\n",
       "      <td>2015</td>\n",
       "      <td>118.90</td>\n",
       "    </tr>\n",
       "    <tr>\n",
       "      <th>10</th>\n",
       "      <td>PS4</td>\n",
       "      <td>2016</td>\n",
       "      <td>69.25</td>\n",
       "    </tr>\n",
       "    <tr>\n",
       "      <th>11</th>\n",
       "      <td>X360</td>\n",
       "      <td>2010</td>\n",
       "      <td>170.03</td>\n",
       "    </tr>\n",
       "    <tr>\n",
       "      <th>12</th>\n",
       "      <td>X360</td>\n",
       "      <td>2011</td>\n",
       "      <td>143.84</td>\n",
       "    </tr>\n",
       "    <tr>\n",
       "      <th>13</th>\n",
       "      <td>X360</td>\n",
       "      <td>2012</td>\n",
       "      <td>99.74</td>\n",
       "    </tr>\n",
       "    <tr>\n",
       "      <th>14</th>\n",
       "      <td>X360</td>\n",
       "      <td>2013</td>\n",
       "      <td>88.58</td>\n",
       "    </tr>\n",
       "    <tr>\n",
       "      <th>15</th>\n",
       "      <td>X360</td>\n",
       "      <td>2014</td>\n",
       "      <td>34.74</td>\n",
       "    </tr>\n",
       "    <tr>\n",
       "      <th>16</th>\n",
       "      <td>X360</td>\n",
       "      <td>2015</td>\n",
       "      <td>11.96</td>\n",
       "    </tr>\n",
       "    <tr>\n",
       "      <th>17</th>\n",
       "      <td>X360</td>\n",
       "      <td>2016</td>\n",
       "      <td>1.52</td>\n",
       "    </tr>\n",
       "  </tbody>\n",
       "</table>\n",
       "</div>"
      ],
      "text/plain": [
       "   platform  year_of_release  total_year_sales\n",
       "0       PS3             2010            142.17\n",
       "1       PS3             2011            156.78\n",
       "2       PS3             2012            107.36\n",
       "3       PS3             2013            113.25\n",
       "4       PS3             2014             47.76\n",
       "5       PS3             2015             16.82\n",
       "6       PS3             2016              3.60\n",
       "7       PS4             2013             25.99\n",
       "8       PS4             2014            100.00\n",
       "9       PS4             2015            118.90\n",
       "10      PS4             2016             69.25\n",
       "11     X360             2010            170.03\n",
       "12     X360             2011            143.84\n",
       "13     X360             2012             99.74\n",
       "14     X360             2013             88.58\n",
       "15     X360             2014             34.74\n",
       "16     X360             2015             11.96\n",
       "17     X360             2016              1.52"
      ]
     },
     "metadata": {},
     "output_type": "display_data"
    }
   ],
   "source": [
    "# Топ3 платформ с наибольшими суммарными продажами\n",
    "top3_platforms = df.groupby('platform').agg({'total_year_sales': 'sum'}).sort_values(by = 'total_year_sales',ascending=False).head(3)\n",
    "display(top3_platforms)\n",
    "#список из 3 самых продаваемых платформ\n",
    "list_top3_platforms = top3_platforms.index.values\n",
    "# Таблица с распределением продаж топ3 платформ с наибольшими суммарными продажами по годам\n",
    "top3_platforms_table = (\n",
    "    df\n",
    "    .pivot_table(index=['platform','year_of_release'],values=['total_year_sales'],aggfunc='sum')\n",
    "    .query('platform in @list_top3_platforms')\n",
    "    .reset_index()\n",
    ")\n",
    "pd.set_option('display.max_rows', None)\n",
    "display(top3_platforms_table)"
   ]
  },
  {
   "cell_type": "code",
   "execution_count": 111,
   "id": "1aec2310",
   "metadata": {
    "scrolled": false
   },
   "outputs": [
    {
     "data": {
      "image/png": "[encoded data removed]",
      "text/plain": [
       "<Figure size 640x400 with 1 Axes>"
      ]
     },
     "metadata": {},
     "output_type": "display_data"
    },
    {
     "data": {
      "image/png": "[encoded data removed]",
      "text/plain": [
       "<Figure size 640x400 with 1 Axes>"
      ]
     },
     "metadata": {},
     "output_type": "display_data"
    },
    {
     "data": {
      "image/png": "[encoded data removed]",
      "text/plain": [
       "<Figure size 640x400 with 1 Axes>"
      ]
     },
     "metadata": {},
     "output_type": "display_data"
    }
   ],
   "source": [
    "#построение гистограмм годовых общих продаж для каждой игровой платформы из Топ3: \n",
    "for platform in list_top3_platforms:\n",
    "    #рассчет сумарных годовых продаж для каждой platform:\n",
    "    bar_data = df[df['platform'] == platform].groupby('year_of_release')['total_year_sales'].sum()\n",
    "    #display(bar_data.index)\n",
    "    fig = plt.figure()\n",
    "    plt.bar(bar_data.index, bar_data);\n",
    "    plt.title('Распределение суммарных продаж по годам')\n",
    "    fig.suptitle(platform)\n",
    "    #избавление от экспоненциальных зн-ий оси x\n",
    "    plt.ticklabel_format(useOffset=False)\n",
    "    #установление единого масштаба\n",
    "    plt.xlim(2009,2017)\n",
    "    plt.ylim(0,200)\n",
    "    #обозначение осей\n",
    "    plt.xlabel('Год выпуска игры на платформе')\n",
    "    plt.ylabel('Общие продажи во всех регионах в млн. копий')\n",
    "    plt.show();\n"
   ]
  },
  {
   "cell_type": "code",
   "execution_count": 112,
   "id": "b3eb2830",
   "metadata": {
    "scrolled": false
   },
   "outputs": [
    {
     "data": {
      "image/png": "[encoded data removed]",
      "text/plain": [
       "<Figure size 640x400 with 1 Axes>"
      ]
     },
     "metadata": {},
     "output_type": "display_data"
    }
   ],
   "source": [
    "# График суммарных годовых продаж с разбивкой по платформам для топ3 платформ с наибольшими суммарными продажами\n",
    "top3_platforms_table.pivot_table(index = 'year_of_release', columns = 'platform', \n",
    "                                  values = 'total_year_sales', aggfunc = 'sum' ).plot(grid='True').set_title('Графики суммарных годовых продаж для каждой из платформ',size=12)\n",
    "#обозначение осей\n",
    "plt.xlabel('Год выпуска игр на платформах')\n",
    "plt.ylabel('Общие продажи в млн. копий')\n",
    "#избавление от экспоненциальных зн-ий оси x\n",
    "plt.ticklabel_format(useOffset=False)\n",
    "plt.show()"
   ]
  },
  {
   "cell_type": "markdown",
   "id": "085b5906",
   "metadata": {},
   "source": [
    "**Характерный срок появления новых и исчезновения старых платформ**"
   ]
  },
  {
   "cell_type": "code",
   "execution_count": 113,
   "id": "f07bf585",
   "metadata": {},
   "outputs": [
    {
     "name": "stdout",
     "output_type": "stream",
     "text": [
      "Актуальный период жизни игры из списка Топ3 составляет 3 года\n"
     ]
    }
   ],
   "source": [
    "#среднее число лет нахождения на рынке платформ из списка Топ3\n",
    "avg_life = top3_platforms_table.groupby('platform').agg({'year_of_release':'nunique'}).mean()[0]\n",
    "#актуальный период жизни игры равен половине среднего времени жизни платформы, т.к половину периода платформа падает в продажах:\n",
    "actual_time = round(avg_life / 2)\n",
    "print('Актуальный период жизни игры из списка Топ3 составляет', actual_time, 'года')"
   ]
  },
  {
   "cell_type": "markdown",
   "id": "b0def1bb",
   "metadata": {},
   "source": [
    "Исходя из вычислений имеет смысл рассматривать только игры, выпущенные на тех платформах, срок давности которых не превосходит 3 года. Т.е. если мы прогнозируем продажи на 2017 год, то нас интересуют записи, начиная с 2013 года"
   ]
  },
  {
   "cell_type": "code",
   "execution_count": 114,
   "id": "950cdda1",
   "metadata": {},
   "outputs": [],
   "source": [
    "df = df.query('year_of_release > 2013')"
   ]
  },
  {
   "cell_type": "markdown",
   "id": "9a458f5a",
   "metadata": {},
   "source": [
    "**Вывод:**\n",
    "PS3, X360, PS4 лидируют по продажам за все время. К 2016 году все платформы показывают падение в продажах. В 2015 году PS4 была самымой прибыльной игровой приставкой."
   ]
  },
  {
   "cell_type": "code",
   "execution_count": 115,
   "id": "21f0b32f",
   "metadata": {},
   "outputs": [
    {
     "data": {
      "text/html": [
       "<div>\n",
       "<style scoped>\n",
       "    .dataframe tbody tr th:only-of-type {\n",
       "        vertical-align: middle;\n",
       "    }\n",
       "\n",
       "    .dataframe tbody tr th {\n",
       "        vertical-align: top;\n",
       "    }\n",
       "\n",
       "    .dataframe thead th {\n",
       "        text-align: right;\n",
       "    }\n",
       "</style>\n",
       "<table border=\"1\" class=\"dataframe\">\n",
       "  <thead>\n",
       "    <tr style=\"text-align: right;\">\n",
       "      <th></th>\n",
       "      <th>total_year_sales</th>\n",
       "    </tr>\n",
       "    <tr>\n",
       "      <th>platform</th>\n",
       "      <th></th>\n",
       "    </tr>\n",
       "  </thead>\n",
       "  <tbody>\n",
       "    <tr>\n",
       "      <th>PS4</th>\n",
       "      <td>288.15</td>\n",
       "    </tr>\n",
       "    <tr>\n",
       "      <th>XOne</th>\n",
       "      <td>140.36</td>\n",
       "    </tr>\n",
       "    <tr>\n",
       "      <th>3DS</th>\n",
       "      <td>86.68</td>\n",
       "    </tr>\n",
       "  </tbody>\n",
       "</table>\n",
       "</div>"
      ],
      "text/plain": [
       "          total_year_sales\n",
       "platform                  \n",
       "PS4                 288.15\n",
       "XOne                140.36\n",
       "3DS                  86.68"
      ]
     },
     "metadata": {},
     "output_type": "display_data"
    },
    {
     "data": {
      "text/html": [
       "<div>\n",
       "<style scoped>\n",
       "    .dataframe tbody tr th:only-of-type {\n",
       "        vertical-align: middle;\n",
       "    }\n",
       "\n",
       "    .dataframe tbody tr th {\n",
       "        vertical-align: top;\n",
       "    }\n",
       "\n",
       "    .dataframe thead th {\n",
       "        text-align: right;\n",
       "    }\n",
       "</style>\n",
       "<table border=\"1\" class=\"dataframe\">\n",
       "  <thead>\n",
       "    <tr style=\"text-align: right;\">\n",
       "      <th></th>\n",
       "      <th>platform</th>\n",
       "      <th>year_of_release</th>\n",
       "      <th>total_year_sales</th>\n",
       "    </tr>\n",
       "  </thead>\n",
       "  <tbody>\n",
       "    <tr>\n",
       "      <th>0</th>\n",
       "      <td>3DS</td>\n",
       "      <td>2014</td>\n",
       "      <td>43.76</td>\n",
       "    </tr>\n",
       "    <tr>\n",
       "      <th>1</th>\n",
       "      <td>3DS</td>\n",
       "      <td>2015</td>\n",
       "      <td>27.78</td>\n",
       "    </tr>\n",
       "    <tr>\n",
       "      <th>2</th>\n",
       "      <td>3DS</td>\n",
       "      <td>2016</td>\n",
       "      <td>15.14</td>\n",
       "    </tr>\n",
       "    <tr>\n",
       "      <th>3</th>\n",
       "      <td>PS4</td>\n",
       "      <td>2014</td>\n",
       "      <td>100.00</td>\n",
       "    </tr>\n",
       "    <tr>\n",
       "      <th>4</th>\n",
       "      <td>PS4</td>\n",
       "      <td>2015</td>\n",
       "      <td>118.90</td>\n",
       "    </tr>\n",
       "    <tr>\n",
       "      <th>5</th>\n",
       "      <td>PS4</td>\n",
       "      <td>2016</td>\n",
       "      <td>69.25</td>\n",
       "    </tr>\n",
       "    <tr>\n",
       "      <th>6</th>\n",
       "      <td>XOne</td>\n",
       "      <td>2014</td>\n",
       "      <td>54.07</td>\n",
       "    </tr>\n",
       "    <tr>\n",
       "      <th>7</th>\n",
       "      <td>XOne</td>\n",
       "      <td>2015</td>\n",
       "      <td>60.14</td>\n",
       "    </tr>\n",
       "    <tr>\n",
       "      <th>8</th>\n",
       "      <td>XOne</td>\n",
       "      <td>2016</td>\n",
       "      <td>26.15</td>\n",
       "    </tr>\n",
       "  </tbody>\n",
       "</table>\n",
       "</div>"
      ],
      "text/plain": [
       "  platform  year_of_release  total_year_sales\n",
       "0      3DS             2014             43.76\n",
       "1      3DS             2015             27.78\n",
       "2      3DS             2016             15.14\n",
       "3      PS4             2014            100.00\n",
       "4      PS4             2015            118.90\n",
       "5      PS4             2016             69.25\n",
       "6     XOne             2014             54.07\n",
       "7     XOne             2015             60.14\n",
       "8     XOne             2016             26.15"
      ]
     },
     "metadata": {},
     "output_type": "display_data"
    }
   ],
   "source": [
    "# Топ3 платформ с наибольшими суммарными продажами за актуальный период\n",
    "top3_new_platforms = df.groupby('platform').agg({'total_year_sales': 'sum'}).sort_values(by = 'total_year_sales',ascending=False).head(3)\n",
    "display(top3_new_platforms)\n",
    "#список из 3 самых продаваемых платформ\n",
    "list_top3_new_platforms = top3_new_platforms.index.values\n",
    "# Таблица с распределением продаж топ3 платформ с наибольшими суммарными продажами по годам\n",
    "top3_new_platforms_table = (\n",
    "    df\n",
    "    .pivot_table(index=['platform','year_of_release'],values=['total_year_sales'],aggfunc='sum')\n",
    "    .query('platform in @list_top3_new_platforms')\n",
    "    .reset_index()\n",
    ")\n",
    "pd.set_option('display.max_rows', None)\n",
    "display(top3_new_platforms_table)"
   ]
  },
  {
   "cell_type": "code",
   "execution_count": 116,
   "id": "9d66888b",
   "metadata": {
    "scrolled": true
   },
   "outputs": [
    {
     "data": {
      "image/png": "[encoded data removed]",
      "text/plain": [
       "<Figure size 640x400 with 1 Axes>"
      ]
     },
     "metadata": {},
     "output_type": "display_data"
    }
   ],
   "source": [
    "# Динамика суммарных годовых продаж по актуальному периоду\n",
    "top3_new_platforms_table.pivot_table(index = 'year_of_release', columns = 'platform', \n",
    "                                  values = 'total_year_sales', aggfunc = 'sum' ).plot(grid='True').set_title('Графики суммарных годовых продаж для каждой из платформ',size=12)\n",
    "#обозначение осей\n",
    "plt.xlabel('Год выпуска игр на платформах')\n",
    "plt.ylabel('Общие продажи в млн. копий')\n",
    "#избавление от экспоненциальных зн-ий оси x\n",
    "plt.ticklabel_format(useOffset=False)\n",
    "plt.show()"
   ]
  },
  {
   "cell_type": "markdown",
   "id": "59afc3b1",
   "metadata": {},
   "source": [
    "**Вывод:** PS4, XOne и 3DS являются самыми перспективными платформами."
   ]
  },
  {
   "cell_type": "markdown",
   "id": "e8abe967",
   "metadata": {},
   "source": [
    "**Диаграмма размаха по глобальным продажам игр в разбивке по\n",
    "платформам.**"
   ]
  },
  {
   "cell_type": "code",
   "execution_count": 117,
   "id": "90280dee",
   "metadata": {},
   "outputs": [
    {
     "data": {
      "image/png": "[encoded data removed]",
      "text/plain": [
       "<Figure size 1200x1200 with 6 Axes>"
      ]
     },
     "metadata": {},
     "output_type": "display_data"
    }
   ],
   "source": [
    "# для корректного отображения boxplot надо изменить тему\n",
    "matplotlib.style.use('classic')\n",
    "\n",
    "fig, ((ax1, ax2, ax3), (ax4, ax5, ax6)) = plt.subplots(nrows=2, ncols=3, figsize=(15,15))\n",
    "fig.autofmt_xdate()\n",
    "\n",
    "ax1.set(ylim=(0, 0.8))\n",
    "ax2.set(ylim=(0, 0.8))\n",
    "ax3.set(ylim=(0, 0.8))\n",
    "ax4.set(ylim=(0, 10))\n",
    "ax5.set(ylim=(0, 10))\n",
    "ax6.set(ylim=(0, 10))\n",
    "\n",
    "\n",
    "#'PS4'\n",
    "ps4_box_data = df[df['platform'] == 'PS4']['total_year_sales']\n",
    "ax1.boxplot(ps4_box_data)\n",
    "ax1.set_title('PS4')\n",
    "ax4.boxplot(ps4_box_data)\n",
    "ax4.set_title('PS4')\n",
    "\n",
    "#'XOne'\n",
    "ps4_box_data = df[df['platform'] == 'XOne']['total_year_sales']\n",
    "ax2.boxplot(ps4_box_data)\n",
    "ax2.set_title('XOne')\n",
    "ax5.boxplot(ps4_box_data)\n",
    "ax5.set_title('XOne')\n",
    "\n",
    "\n",
    "#'3DS'\n",
    "ps4_box_data = df[df['platform'] == '3DS']['total_year_sales']\n",
    "ax3.boxplot(ps4_box_data)\n",
    "ax3.set_title('3DS')\n",
    "ax6.boxplot(ps4_box_data)\n",
    "ax6.set_title('3DS')\n",
    "\n",
    "\n",
    "plt.show();"
   ]
  },
  {
   "cell_type": "markdown",
   "id": "b7f0acaf",
   "metadata": {},
   "source": [
    "**Вывод:**\n",
    "50% всех продаж самые высокие у приставки XOne - это видно по местоположению Q2. PS4 опережает своих конкурентов по максимальным продажам. 3DS имеет более скромные результаты - медианные продажи меньше приблизительно в 2 раза, чем у конкурентов."
   ]
  },
  {
   "cell_type": "markdown",
   "id": "94c12b2c",
   "metadata": {},
   "source": [
    "**Влияние отзывов критиков на продажи**"
   ]
  },
  {
   "cell_type": "code",
   "execution_count": 118,
   "id": "87a0c5aa",
   "metadata": {
    "scrolled": false
   },
   "outputs": [
    {
     "data": {
      "image/png": "[encoded data removed]",
      "text/plain": [
       "<Figure size 640x480 with 1 Axes>"
      ]
     },
     "metadata": {},
     "output_type": "display_data"
    },
    {
     "data": {
      "image/png": "[encoded data removed]",
      "text/plain": [
       "<Figure size 640x480 with 1 Axes>"
      ]
     },
     "metadata": {},
     "output_type": "display_data"
    },
    {
     "data": {
      "image/png": "[encoded data removed]",
      "text/plain": [
       "<Figure size 640x480 with 1 Axes>"
      ]
     },
     "metadata": {},
     "output_type": "display_data"
    }
   ],
   "source": [
    "matplotlib.style.use('dark_background')\n",
    "\n",
    "for platform in list_top3_new_platforms:\n",
    "    (\n",
    "        df\n",
    "        .query('platform == @platform')\n",
    "        .plot(x='critic_score', y='total_year_sales', kind='scatter',grid=True)\n",
    "        .set_title('Зависимость суммарных подаж от оценок экспертов для '+platform)\n",
    "    )\n",
    "        \n",
    "    #установление единого масштаба шкалы:\n",
    "    plt.ylim(0,5)\n",
    "    plt.xlim(0,100)\n",
    "    #обозначение осей\n",
    "    plt.xlabel('Оценка экспертов')\n",
    "    plt.ylabel('Общие продажи в млн. копий')\n",
    "    plt.show();\n",
    "    "
   ]
  },
  {
   "cell_type": "markdown",
   "id": "17ee03ee",
   "metadata": {},
   "source": [
    "**Вывод:**\n",
    "У всех приставок наблюдается прямая зависимость между оценками экспертов и кол-вом продаж. Самые большие продажи у тех игр, которые эксперты оценили выше 70 баллов."
   ]
  },
  {
   "cell_type": "markdown",
   "id": "6fb3d52b",
   "metadata": {},
   "source": [
    "**Влияние отзывов пользователей на продажи**"
   ]
  },
  {
   "cell_type": "code",
   "execution_count": 119,
   "id": "6c568b6e",
   "metadata": {
    "scrolled": false
   },
   "outputs": [
    {
     "data": {
      "image/png": "[encoded data removed]",
      "text/plain": [
       "<Figure size 640x480 with 1 Axes>"
      ]
     },
     "metadata": {},
     "output_type": "display_data"
    },
    {
     "data": {
      "image/png": "[encoded data removed]",
      "text/plain": [
       "<Figure size 640x480 with 1 Axes>"
      ]
     },
     "metadata": {},
     "output_type": "display_data"
    },
    {
     "data": {
      "image/png": "[encoded data removed]",
      "text/plain": [
       "<Figure size 640x480 with 1 Axes>"
      ]
     },
     "metadata": {},
     "output_type": "display_data"
    }
   ],
   "source": [
    "for platform in list_top3_new_platforms:\n",
    "    (\n",
    "        df\n",
    "        .query('platform == @platform')\n",
    "        .plot(x='user_score', y='total_year_sales', kind='scatter',grid=True)\n",
    "        .set_title('Зависимость суммарных подаж от оценок пользователей для '+platform)\n",
    "    )\n",
    "        \n",
    "    #установление единого масштаба шкалы:\n",
    "    plt.ylim(0,5)\n",
    "    plt.xlim(0,10)\n",
    "    #обозначение осей\n",
    "    plt.xlabel('Оценка пользователей')\n",
    "    plt.ylabel('Общие продажи в млн. копий')\n",
    "    plt.show();\n",
    "    "
   ]
  },
  {
   "cell_type": "markdown",
   "id": "709e8c85",
   "metadata": {},
   "source": [
    "**Вывод:**\n",
    "-  самые большие продажи приходятся на игры, которые получили пользовательские оценки в промежутке (5;9);\n",
    "- большинство игр на всех вышеописанных площадках оцениваются пользователями свыше 5 баллов."
   ]
  },
  {
   "cell_type": "markdown",
   "id": "8b10c99a",
   "metadata": {},
   "source": [
    "**Определение корреляции между отзывами экспертов и продажами**"
   ]
  },
  {
   "cell_type": "code",
   "execution_count": 120,
   "id": "bb8dbc54",
   "metadata": {},
   "outputs": [
    {
     "data": {
      "text/plain": [
       "{'PS4': 0.40266141068104083,\n",
       " 'XOne': 0.42867694370333226,\n",
       " '3DS': 0.314117492869051}"
      ]
     },
     "execution_count": 120,
     "metadata": {},
     "output_type": "execute_result"
    }
   ],
   "source": [
    "#cоздам пустой словарь и буду добавлять в него резудьтаты расчетов\n",
    "cs_corr = dict()\n",
    "\n",
    "for platform in list_top3_new_platforms:\n",
    "    cs_corr[platform] = (\n",
    "        df.query('platform == @platform')['critic_score']\n",
    "        .corr(df.query('platform == @platform')['total_year_sales'])\n",
    "    )\n",
    "    \n",
    "cs_corr"
   ]
  },
  {
   "cell_type": "markdown",
   "id": "e5977dcc",
   "metadata": {},
   "source": [
    "Для всех игр наблюдается наличие средней связи между оценками экспертов и суммарными продажами. "
   ]
  },
  {
   "cell_type": "markdown",
   "id": "44678e11",
   "metadata": {},
   "source": [
    "**Определение корреляции между отзывами пользователей и продажами**"
   ]
  },
  {
   "cell_type": "code",
   "execution_count": 121,
   "id": "a39f476f",
   "metadata": {},
   "outputs": [
    {
     "data": {
      "text/plain": [
       "{'PS4': -0.040131589472697356,\n",
       " 'XOne': -0.0703839280647581,\n",
       " '3DS': 0.2151932718527028}"
      ]
     },
     "execution_count": 121,
     "metadata": {},
     "output_type": "execute_result"
    }
   ],
   "source": [
    "us_corr = dict()\n",
    "\n",
    "for platform in list_top3_new_platforms:\n",
    "    us_corr[platform] = (\n",
    "        df.query('platform == @platform')['user_score']\n",
    "        .corr(df.query('platform == @platform')['total_year_sales'])\n",
    "    )\n",
    "\n",
    "us_corr"
   ]
  },
  {
   "cell_type": "markdown",
   "id": "052f867a",
   "metadata": {},
   "source": [
    "Для PS4 и XOne коэффициенты корреляции очень маленькие. Это говорит об отсутствии взаимосвязи между пользовательскими оценками и суммарными продажами игр. Для 3DS коэффициент корреляции значительно больше, что может свидетельствовать о наличии средней взаимосвязи между пользовательскими оценками и суммарными продажами игр."
   ]
  },
  {
   "cell_type": "markdown",
   "id": "9814221f",
   "metadata": {},
   "source": [
    "### Анализ жанров игр"
   ]
  },
  {
   "cell_type": "markdown",
   "id": "8d933bfe",
   "metadata": {},
   "source": [
    "Посмотрю на общее распределение игр по жанрам. Выделю самые прибыльные жанры."
   ]
  },
  {
   "cell_type": "code",
   "execution_count": 122,
   "id": "9d73ba72",
   "metadata": {},
   "outputs": [
    {
     "data": {
      "image/png": "[encoded data removed]",
      "text/plain": [
       "<Figure size 640x480 with 1 Axes>"
      ]
     },
     "metadata": {},
     "output_type": "display_data"
    }
   ],
   "source": [
    "#сводная таблица общих продаж по жанрам, отсортированная по средним продажам\n",
    "genre_sales_table = df.groupby('genre').agg({'total_year_sales':'median'}).sort_values(by='total_year_sales', ascending=False).reset_index()\n",
    "#список жанров\n",
    "genres = list(genre_sales_table['genre'].values)\n",
    "#список продаж по соответствующим жанрам\n",
    "genre_sales = list(genre_sales_table['total_year_sales'].values)\n",
    "#гистограмма продаж по жанрам\n",
    "plt.bar(genres, genre_sales, width = 0.3)\n",
    "plt.title('Распределение суммарных продаж по жанрам')\n",
    "#обозначение осей\n",
    "plt.xlabel('Жанры игр')\n",
    "plt.ylabel('Общие продажи во всех регионах в млн. копий')\n",
    "#дополнительные настройки\n",
    "plt.xticks(rotation=45)\n",
    "plt.grid(zorder=0)\n",
    "plt.show();"
   ]
  },
  {
   "cell_type": "markdown",
   "id": "b6a334b6",
   "metadata": {},
   "source": [
    "### Вывод ###\n",
    "\n",
    "С большим отрывом самым прибыльным жанром является Shooter (более 0.5 миллиона проданных копий). В тройку самых прибыльных жанров входят Sports (0.18 млн) и Platform (0.17 млн). Самыми провальными с точки зрения продаж являются Adventure, Puzzle, Strategy (около 0.05 млн проданных копий)"
   ]
  },
  {
   "cell_type": "markdown",
   "id": "0df2872d",
   "metadata": {},
   "source": [
    "## Составление портрета пользователя"
   ]
  },
  {
   "cell_type": "markdown",
   "id": "1645d4df",
   "metadata": {},
   "source": [
    "Определение для пользователя каждого региона (NA, EU, JP):\n",
    "- Самые популярные платформы (топ-5). Опишите различия в долях продаж.\n",
    "- Самые популярные жанры (топ-5). Поясните разницу.\n",
    "- Влияет ли рейтинг ESRB на продажи в отдельном регионе?"
   ]
  },
  {
   "cell_type": "markdown",
   "id": "c1820dd6",
   "metadata": {},
   "source": [
    "Для выявления самых популярных жанров и платформ целесообразно рассматривать суммарные продажи"
   ]
  },
  {
   "cell_type": "markdown",
   "id": "b60be255",
   "metadata": {},
   "source": [
    "### Топ 5 платформ в разных регионах"
   ]
  },
  {
   "cell_type": "code",
   "execution_count": 123,
   "id": "8033d22a",
   "metadata": {
    "scrolled": true
   },
   "outputs": [
    {
     "name": "stdout",
     "output_type": "stream",
     "text": [
      "Top5 NA:\n"
     ]
    },
    {
     "data": {
      "text/html": [
       "<div>\n",
       "<style scoped>\n",
       "    .dataframe tbody tr th:only-of-type {\n",
       "        vertical-align: middle;\n",
       "    }\n",
       "\n",
       "    .dataframe tbody tr th {\n",
       "        vertical-align: top;\n",
       "    }\n",
       "\n",
       "    .dataframe thead th {\n",
       "        text-align: right;\n",
       "    }\n",
       "</style>\n",
       "<table border=\"1\" class=\"dataframe\">\n",
       "  <thead>\n",
       "    <tr style=\"text-align: right;\">\n",
       "      <th></th>\n",
       "      <th>platform</th>\n",
       "      <th>sum</th>\n",
       "      <th>share</th>\n",
       "    </tr>\n",
       "  </thead>\n",
       "  <tbody>\n",
       "    <tr>\n",
       "      <th>0</th>\n",
       "      <td>PS4</td>\n",
       "      <td>98.61</td>\n",
       "      <td>0.35</td>\n",
       "    </tr>\n",
       "    <tr>\n",
       "      <th>1</th>\n",
       "      <td>XOne</td>\n",
       "      <td>81.27</td>\n",
       "      <td>0.29</td>\n",
       "    </tr>\n",
       "    <tr>\n",
       "      <th>2</th>\n",
       "      <td>X360</td>\n",
       "      <td>28.30</td>\n",
       "      <td>0.10</td>\n",
       "    </tr>\n",
       "    <tr>\n",
       "      <th>3</th>\n",
       "      <td>3DS</td>\n",
       "      <td>22.64</td>\n",
       "      <td>0.08</td>\n",
       "    </tr>\n",
       "    <tr>\n",
       "      <th>4</th>\n",
       "      <td>PS3</td>\n",
       "      <td>22.05</td>\n",
       "      <td>0.08</td>\n",
       "    </tr>\n",
       "  </tbody>\n",
       "</table>\n",
       "</div>"
      ],
      "text/plain": [
       "  platform    sum  share\n",
       "0      PS4  98.61   0.35\n",
       "1     XOne  81.27   0.29\n",
       "2     X360  28.30   0.10\n",
       "3      3DS  22.64   0.08\n",
       "4      PS3  22.05   0.08"
      ]
     },
     "metadata": {},
     "output_type": "display_data"
    },
    {
     "name": "stdout",
     "output_type": "stream",
     "text": [
      "\n",
      "Top5 EU:\n"
     ]
    },
    {
     "data": {
      "text/html": [
       "<div>\n",
       "<style scoped>\n",
       "    .dataframe tbody tr th:only-of-type {\n",
       "        vertical-align: middle;\n",
       "    }\n",
       "\n",
       "    .dataframe tbody tr th {\n",
       "        vertical-align: top;\n",
       "    }\n",
       "\n",
       "    .dataframe thead th {\n",
       "        text-align: right;\n",
       "    }\n",
       "</style>\n",
       "<table border=\"1\" class=\"dataframe\">\n",
       "  <thead>\n",
       "    <tr style=\"text-align: right;\">\n",
       "      <th></th>\n",
       "      <th>platform</th>\n",
       "      <th>sum</th>\n",
       "      <th>share</th>\n",
       "    </tr>\n",
       "  </thead>\n",
       "  <tbody>\n",
       "    <tr>\n",
       "      <th>0</th>\n",
       "      <td>PS4</td>\n",
       "      <td>130.04</td>\n",
       "      <td>0.48</td>\n",
       "    </tr>\n",
       "    <tr>\n",
       "      <th>1</th>\n",
       "      <td>XOne</td>\n",
       "      <td>46.25</td>\n",
       "      <td>0.17</td>\n",
       "    </tr>\n",
       "    <tr>\n",
       "      <th>2</th>\n",
       "      <td>PS3</td>\n",
       "      <td>25.54</td>\n",
       "      <td>0.09</td>\n",
       "    </tr>\n",
       "    <tr>\n",
       "      <th>3</th>\n",
       "      <td>PC</td>\n",
       "      <td>17.97</td>\n",
       "      <td>0.07</td>\n",
       "    </tr>\n",
       "    <tr>\n",
       "      <th>4</th>\n",
       "      <td>3DS</td>\n",
       "      <td>16.12</td>\n",
       "      <td>0.06</td>\n",
       "    </tr>\n",
       "  </tbody>\n",
       "</table>\n",
       "</div>"
      ],
      "text/plain": [
       "  platform     sum  share\n",
       "0      PS4  130.04   0.48\n",
       "1     XOne   46.25   0.17\n",
       "2      PS3   25.54   0.09\n",
       "3       PC   17.97   0.07\n",
       "4      3DS   16.12   0.06"
      ]
     },
     "metadata": {},
     "output_type": "display_data"
    },
    {
     "name": "stdout",
     "output_type": "stream",
     "text": [
      "\n",
      "Top5 JP:\n"
     ]
    },
    {
     "data": {
      "text/html": [
       "<div>\n",
       "<style scoped>\n",
       "    .dataframe tbody tr th:only-of-type {\n",
       "        vertical-align: middle;\n",
       "    }\n",
       "\n",
       "    .dataframe tbody tr th {\n",
       "        vertical-align: top;\n",
       "    }\n",
       "\n",
       "    .dataframe thead th {\n",
       "        text-align: right;\n",
       "    }\n",
       "</style>\n",
       "<table border=\"1\" class=\"dataframe\">\n",
       "  <thead>\n",
       "    <tr style=\"text-align: right;\">\n",
       "      <th></th>\n",
       "      <th>platform</th>\n",
       "      <th>sum</th>\n",
       "      <th>share</th>\n",
       "    </tr>\n",
       "  </thead>\n",
       "  <tbody>\n",
       "    <tr>\n",
       "      <th>0</th>\n",
       "      <td>3DS</td>\n",
       "      <td>44.24</td>\n",
       "      <td>0.48</td>\n",
       "    </tr>\n",
       "    <tr>\n",
       "      <th>1</th>\n",
       "      <td>PS4</td>\n",
       "      <td>15.02</td>\n",
       "      <td>0.16</td>\n",
       "    </tr>\n",
       "    <tr>\n",
       "      <th>2</th>\n",
       "      <td>PSV</td>\n",
       "      <td>14.54</td>\n",
       "      <td>0.16</td>\n",
       "    </tr>\n",
       "    <tr>\n",
       "      <th>3</th>\n",
       "      <td>PS3</td>\n",
       "      <td>11.22</td>\n",
       "      <td>0.12</td>\n",
       "    </tr>\n",
       "    <tr>\n",
       "      <th>4</th>\n",
       "      <td>WiiU</td>\n",
       "      <td>7.31</td>\n",
       "      <td>0.08</td>\n",
       "    </tr>\n",
       "  </tbody>\n",
       "</table>\n",
       "</div>"
      ],
      "text/plain": [
       "  platform    sum  share\n",
       "0      3DS  44.24   0.48\n",
       "1      PS4  15.02   0.16\n",
       "2      PSV  14.54   0.16\n",
       "3      PS3  11.22   0.12\n",
       "4     WiiU   7.31   0.08"
      ]
     },
     "metadata": {},
     "output_type": "display_data"
    }
   ],
   "source": [
    "#сводная таблица продаж в NA, отсортированная по убыванию\n",
    "na_top = df.groupby('platform')['na_sales'].agg(['sum']).sort_values(by='sum', ascending=False).reset_index()\n",
    "#добавление колонки с долями продаж\n",
    "na_top['share'] = (na_top['sum'] / na_top['sum'].sum()).round(2)\n",
    "print('Top5 NA:')\n",
    "display(na_top.head())\n",
    "print()\n",
    "\n",
    "#сводная таблица продаж в EU, отсортированная по убыванию\n",
    "eu_top = df.groupby('platform')['eu_sales'].agg(['sum']).sort_values(by='sum', ascending=False).reset_index()\n",
    "#добавление колонки с долями продаж\n",
    "eu_top['share'] = (eu_top['sum'] / eu_top['sum'].sum()).round(2)\n",
    "print('Top5 EU:')\n",
    "display(eu_top.head())\n",
    "print()\n",
    "\n",
    "#сводная таблица продаж в JP, отсортированная по убыванию\n",
    "jp_top = df.groupby('platform')['jp_sales'].agg(['sum']).sort_values(by='sum', ascending=False).reset_index()\n",
    "#добавление колонки с долями продаж\n",
    "jp_top['share'] = (jp_top['sum'] / jp_top['sum'].sum()).round(2)\n",
    "print('Top5 JP:')\n",
    "display(jp_top.head())"
   ]
  },
  {
   "cell_type": "markdown",
   "id": "9836a7d0",
   "metadata": {},
   "source": [
    "**Построение столбчатых диаграмм для разных регионов по значениям суммарных продаж в зависимости от платформы**"
   ]
  },
  {
   "cell_type": "code",
   "execution_count": 124,
   "id": "cf5d77a0",
   "metadata": {
    "scrolled": false
   },
   "outputs": [
    {
     "data": {
      "image/png": "[encoded data removed]",
      "text/plain": [
       "<Figure size 1280x480 with 3 Axes>"
      ]
     },
     "metadata": {},
     "output_type": "display_data"
    }
   ],
   "source": [
    "# Настройки отображения\n",
    "fig, (ax1, ax2, ax3) = plt.subplots(nrows=1, ncols=3, figsize=(16, 6))\n",
    "fig.autofmt_xdate()\n",
    "ax1.set(ylim=(0, 150))\n",
    "ax2.set(ylim=(0, 150))\n",
    "ax3.set(ylim=(0, 150))\n",
    "\n",
    "#na_barplot\n",
    "na_barplot = sns.barplot(data=na_top, x='platform', y='sum',ax = ax1)\n",
    "na_barplot.set_title('NA')\n",
    "na_barplot.set_xlabel(\"Платформы\")\n",
    "na_barplot.set_ylabel(\"Суммарные продажи\")\n",
    "\n",
    "#eu_barplot\n",
    "eu_barplot = sns.barplot(data=eu_top, x='platform', y='sum',ax = ax2)\n",
    "eu_barplot.set_title('EU')\n",
    "eu_barplot.set_xlabel(\"Платформы\")\n",
    "eu_barplot.set_ylabel(\"Суммарные продажи\")\n",
    "\n",
    "#jp_barplot\n",
    "jp_barplot = sns.barplot(data=jp_top, x='platform', y='sum',ax = ax3)\n",
    "jp_barplot.set_title('JP')\n",
    "jp_barplot.set_xlabel(\"Платформы\")\n",
    "jp_barplot.set_ylabel(\"Суммарные продажи\")\n",
    "\n",
    "plt.show();"
   ]
  },
  {
   "cell_type": "markdown",
   "id": "8b3803fc",
   "metadata": {},
   "source": [
    "#### Вывод \n",
    "- в Северной Америке самые большие продажи у платформ PS4 и XOne. В Топ3 входит X360;\n",
    "- в Европе с большим отрывом по продажам лидирует платформа PS4; В Топ 3 входят XOne и PS3;\n",
    "- В Японии самые большие продажи у платформы 3DS. В отличии от лидеров европейских и американских продаж - это портативная приставка, разработанные в Японии. Вероятно в Японии геймерская культура больше нацелена на портативные приставки, чем в остальном мире. В топ3 входят PS4 и PSV."
   ]
  },
  {
   "cell_type": "markdown",
   "id": "929add15",
   "metadata": {},
   "source": [
    "### Топ 5 игровых жанров в разных регионах"
   ]
  },
  {
   "cell_type": "code",
   "execution_count": 125,
   "id": "51e0fbe9",
   "metadata": {
    "scrolled": true
   },
   "outputs": [
    {
     "name": "stdout",
     "output_type": "stream",
     "text": [
      "Top5 NA:\n"
     ]
    },
    {
     "data": {
      "text/html": [
       "<div>\n",
       "<style scoped>\n",
       "    .dataframe tbody tr th:only-of-type {\n",
       "        vertical-align: middle;\n",
       "    }\n",
       "\n",
       "    .dataframe tbody tr th {\n",
       "        vertical-align: top;\n",
       "    }\n",
       "\n",
       "    .dataframe thead th {\n",
       "        text-align: right;\n",
       "    }\n",
       "</style>\n",
       "<table border=\"1\" class=\"dataframe\">\n",
       "  <thead>\n",
       "    <tr style=\"text-align: right;\">\n",
       "      <th></th>\n",
       "      <th>genre</th>\n",
       "      <th>sum</th>\n",
       "      <th>share</th>\n",
       "    </tr>\n",
       "  </thead>\n",
       "  <tbody>\n",
       "    <tr>\n",
       "      <th>0</th>\n",
       "      <td>Shooter</td>\n",
       "      <td>79.02</td>\n",
       "      <td>0.28</td>\n",
       "    </tr>\n",
       "    <tr>\n",
       "      <th>1</th>\n",
       "      <td>Action</td>\n",
       "      <td>72.53</td>\n",
       "      <td>0.26</td>\n",
       "    </tr>\n",
       "    <tr>\n",
       "      <th>2</th>\n",
       "      <td>Sports</td>\n",
       "      <td>46.13</td>\n",
       "      <td>0.16</td>\n",
       "    </tr>\n",
       "    <tr>\n",
       "      <th>3</th>\n",
       "      <td>Role-Playing</td>\n",
       "      <td>33.47</td>\n",
       "      <td>0.12</td>\n",
       "    </tr>\n",
       "    <tr>\n",
       "      <th>4</th>\n",
       "      <td>Misc</td>\n",
       "      <td>15.05</td>\n",
       "      <td>0.05</td>\n",
       "    </tr>\n",
       "  </tbody>\n",
       "</table>\n",
       "</div>"
      ],
      "text/plain": [
       "          genre    sum  share\n",
       "0       Shooter  79.02   0.28\n",
       "1        Action  72.53   0.26\n",
       "2        Sports  46.13   0.16\n",
       "3  Role-Playing  33.47   0.12\n",
       "4          Misc  15.05   0.05"
      ]
     },
     "metadata": {},
     "output_type": "display_data"
    },
    {
     "name": "stdout",
     "output_type": "stream",
     "text": [
      "\n",
      "Top5 EU:\n"
     ]
    },
    {
     "data": {
      "text/html": [
       "<div>\n",
       "<style scoped>\n",
       "    .dataframe tbody tr th:only-of-type {\n",
       "        vertical-align: middle;\n",
       "    }\n",
       "\n",
       "    .dataframe tbody tr th {\n",
       "        vertical-align: top;\n",
       "    }\n",
       "\n",
       "    .dataframe thead th {\n",
       "        text-align: right;\n",
       "    }\n",
       "</style>\n",
       "<table border=\"1\" class=\"dataframe\">\n",
       "  <thead>\n",
       "    <tr style=\"text-align: right;\">\n",
       "      <th></th>\n",
       "      <th>genre</th>\n",
       "      <th>sum</th>\n",
       "      <th>share</th>\n",
       "    </tr>\n",
       "  </thead>\n",
       "  <tbody>\n",
       "    <tr>\n",
       "      <th>0</th>\n",
       "      <td>Action</td>\n",
       "      <td>74.68</td>\n",
       "      <td>0.28</td>\n",
       "    </tr>\n",
       "    <tr>\n",
       "      <th>1</th>\n",
       "      <td>Shooter</td>\n",
       "      <td>65.52</td>\n",
       "      <td>0.24</td>\n",
       "    </tr>\n",
       "    <tr>\n",
       "      <th>2</th>\n",
       "      <td>Sports</td>\n",
       "      <td>45.73</td>\n",
       "      <td>0.17</td>\n",
       "    </tr>\n",
       "    <tr>\n",
       "      <th>3</th>\n",
       "      <td>Role-Playing</td>\n",
       "      <td>28.17</td>\n",
       "      <td>0.10</td>\n",
       "    </tr>\n",
       "    <tr>\n",
       "      <th>4</th>\n",
       "      <td>Racing</td>\n",
       "      <td>14.13</td>\n",
       "      <td>0.05</td>\n",
       "    </tr>\n",
       "  </tbody>\n",
       "</table>\n",
       "</div>"
      ],
      "text/plain": [
       "          genre    sum  share\n",
       "0        Action  74.68   0.28\n",
       "1       Shooter  65.52   0.24\n",
       "2        Sports  45.73   0.17\n",
       "3  Role-Playing  28.17   0.10\n",
       "4        Racing  14.13   0.05"
      ]
     },
     "metadata": {},
     "output_type": "display_data"
    },
    {
     "name": "stdout",
     "output_type": "stream",
     "text": [
      "\n",
      "Top5 JP:\n"
     ]
    },
    {
     "data": {
      "text/html": [
       "<div>\n",
       "<style scoped>\n",
       "    .dataframe tbody tr th:only-of-type {\n",
       "        vertical-align: middle;\n",
       "    }\n",
       "\n",
       "    .dataframe tbody tr th {\n",
       "        vertical-align: top;\n",
       "    }\n",
       "\n",
       "    .dataframe thead th {\n",
       "        text-align: right;\n",
       "    }\n",
       "</style>\n",
       "<table border=\"1\" class=\"dataframe\">\n",
       "  <thead>\n",
       "    <tr style=\"text-align: right;\">\n",
       "      <th></th>\n",
       "      <th>genre</th>\n",
       "      <th>sum</th>\n",
       "      <th>share</th>\n",
       "    </tr>\n",
       "  </thead>\n",
       "  <tbody>\n",
       "    <tr>\n",
       "      <th>0</th>\n",
       "      <td>Role-Playing</td>\n",
       "      <td>31.16</td>\n",
       "      <td>0.33</td>\n",
       "    </tr>\n",
       "    <tr>\n",
       "      <th>1</th>\n",
       "      <td>Action</td>\n",
       "      <td>29.58</td>\n",
       "      <td>0.32</td>\n",
       "    </tr>\n",
       "    <tr>\n",
       "      <th>2</th>\n",
       "      <td>Fighting</td>\n",
       "      <td>6.37</td>\n",
       "      <td>0.07</td>\n",
       "    </tr>\n",
       "    <tr>\n",
       "      <th>3</th>\n",
       "      <td>Misc</td>\n",
       "      <td>5.61</td>\n",
       "      <td>0.06</td>\n",
       "    </tr>\n",
       "    <tr>\n",
       "      <th>4</th>\n",
       "      <td>Shooter</td>\n",
       "      <td>4.87</td>\n",
       "      <td>0.05</td>\n",
       "    </tr>\n",
       "  </tbody>\n",
       "</table>\n",
       "</div>"
      ],
      "text/plain": [
       "          genre    sum  share\n",
       "0  Role-Playing  31.16   0.33\n",
       "1        Action  29.58   0.32\n",
       "2      Fighting   6.37   0.07\n",
       "3          Misc   5.61   0.06\n",
       "4       Shooter   4.87   0.05"
      ]
     },
     "metadata": {},
     "output_type": "display_data"
    }
   ],
   "source": [
    "#сводная таблица продаж в NA, отсортированная по убыванию\n",
    "na_top = df.groupby('genre')['na_sales'].agg(['sum']).sort_values(by='sum', ascending=False).reset_index()\n",
    "#добавление колонки с долями продаж\n",
    "na_top['share'] = (na_top['sum'] / na_top['sum'].sum()).round(2)\n",
    "print('Top5 NA:')\n",
    "display(na_top.head())\n",
    "print()\n",
    "\n",
    "#сводная таблица продаж в EU, отсортированная по убыванию\n",
    "eu_top = df.groupby('genre')['eu_sales'].agg(['sum']).sort_values(by='sum', ascending=False).reset_index()\n",
    "#добавление колонки с долями продаж\n",
    "eu_top['share'] = (eu_top['sum'] / eu_top['sum'].sum()).round(2)\n",
    "print('Top5 EU:')\n",
    "display(eu_top.head())\n",
    "print()\n",
    "\n",
    "#сводная таблица продаж в JP, отсортированная по убыванию\n",
    "jp_top = df.groupby('genre')['jp_sales'].agg(['sum']).sort_values(by='sum', ascending=False).reset_index()\n",
    "#добавление колонки с долями продаж\n",
    "jp_top['share'] = (jp_top['sum'] / jp_top['sum'].sum()).round(2)\n",
    "print('Top5 JP:')\n",
    "display(jp_top.head())"
   ]
  },
  {
   "cell_type": "markdown",
   "id": "320820c3",
   "metadata": {},
   "source": [
    "**Построение столбчатых диаграмм для разных регионов по значениям суммарных продаж в зависимости от жанра игры**"
   ]
  },
  {
   "cell_type": "code",
   "execution_count": 126,
   "id": "9e21fb9d",
   "metadata": {
    "scrolled": false
   },
   "outputs": [
    {
     "data": {
      "image/png": "[encoded data removed]",
      "text/plain": [
       "<Figure size 1280x480 with 3 Axes>"
      ]
     },
     "metadata": {},
     "output_type": "display_data"
    }
   ],
   "source": [
    "# Настройки отображения\n",
    "fig, (ax1, ax2, ax3) = plt.subplots(nrows=1, ncols=3, figsize=(16, 6))\n",
    "fig.autofmt_xdate()\n",
    "ax1.set(ylim=(0, 80))\n",
    "ax2.set(ylim=(0, 80))\n",
    "ax3.set(ylim=(0, 80))\n",
    "\n",
    "#na_barplot\n",
    "na_barplot = sns.barplot(data=na_top, x='genre', y='sum',ax = ax1)\n",
    "na_barplot.set_title('NA')\n",
    "na_barplot.set_xlabel(\"Жанры\")\n",
    "na_barplot.set_ylabel(\"Суммарные продажи\")\n",
    "\n",
    "#eu_barplot\n",
    "eu_barplot = sns.barplot(data=eu_top, x='genre', y='sum',ax = ax2)\n",
    "eu_barplot.set_title('EU')\n",
    "eu_barplot.set_xlabel(\"Жанры\")\n",
    "eu_barplot.set_ylabel(\"Суммарные продажи\")\n",
    "\n",
    "#jp_barplot\n",
    "jp_barplot = sns.barplot(data=jp_top, x='genre', y='sum',ax = ax3)\n",
    "jp_barplot.set_title('JP')\n",
    "jp_barplot.set_xlabel(\"Жанры\")\n",
    "jp_barplot.set_ylabel(\"Суммарные продажи\")\n",
    "\n",
    "plt.show();"
   ]
  },
  {
   "cell_type": "markdown",
   "id": "48267df9",
   "metadata": {},
   "source": [
    "#### Вывод\n",
    "- в США самый популярный жанр Shooter. Американцы любят пострелять, во многих штатах разрешено обладать боевым оружием. Это культурная особенность социума. В топ3 входят Action и Sports жанры;\n",
    "- В Европе картина похожая. Люди отдают предпочтение жанрам Action, Shooter, Sports;\n",
    "- В Японии с большим отрывом лидируют жанры Role-Playing и Action. У японцев нет культа стрелялок в игровой индустрии."
   ]
  },
  {
   "cell_type": "markdown",
   "id": "eb41df5c",
   "metadata": {},
   "source": [
    "### Влияние рейтинга ESRB на продажи"
   ]
  },
  {
   "cell_type": "code",
   "execution_count": 127,
   "id": "f8cf8e27",
   "metadata": {
    "scrolled": false
   },
   "outputs": [
    {
     "name": "stdout",
     "output_type": "stream",
     "text": [
      "Top5 NA:\n"
     ]
    },
    {
     "data": {
      "text/html": [
       "<div>\n",
       "<style scoped>\n",
       "    .dataframe tbody tr th:only-of-type {\n",
       "        vertical-align: middle;\n",
       "    }\n",
       "\n",
       "    .dataframe tbody tr th {\n",
       "        vertical-align: top;\n",
       "    }\n",
       "\n",
       "    .dataframe thead th {\n",
       "        text-align: right;\n",
       "    }\n",
       "</style>\n",
       "<table border=\"1\" class=\"dataframe\">\n",
       "  <thead>\n",
       "    <tr style=\"text-align: right;\">\n",
       "      <th></th>\n",
       "      <th>rating</th>\n",
       "      <th>median</th>\n",
       "      <th>count</th>\n",
       "      <th>sum</th>\n",
       "      <th>share</th>\n",
       "    </tr>\n",
       "  </thead>\n",
       "  <tbody>\n",
       "    <tr>\n",
       "      <th>0</th>\n",
       "      <td>M</td>\n",
       "      <td>0.12</td>\n",
       "      <td>265</td>\n",
       "      <td>96.42</td>\n",
       "      <td>0.34</td>\n",
       "    </tr>\n",
       "    <tr>\n",
       "      <th>1</th>\n",
       "      <td>E10+</td>\n",
       "      <td>0.10</td>\n",
       "      <td>185</td>\n",
       "      <td>33.23</td>\n",
       "      <td>0.12</td>\n",
       "    </tr>\n",
       "    <tr>\n",
       "      <th>2</th>\n",
       "      <td>E</td>\n",
       "      <td>0.05</td>\n",
       "      <td>219</td>\n",
       "      <td>50.74</td>\n",
       "      <td>0.18</td>\n",
       "    </tr>\n",
       "    <tr>\n",
       "      <th>3</th>\n",
       "      <td>T</td>\n",
       "      <td>0.03</td>\n",
       "      <td>271</td>\n",
       "      <td>38.95</td>\n",
       "      <td>0.14</td>\n",
       "    </tr>\n",
       "    <tr>\n",
       "      <th>4</th>\n",
       "      <td>undefined</td>\n",
       "      <td>0.00</td>\n",
       "      <td>749</td>\n",
       "      <td>64.72</td>\n",
       "      <td>0.23</td>\n",
       "    </tr>\n",
       "  </tbody>\n",
       "</table>\n",
       "</div>"
      ],
      "text/plain": [
       "      rating  median  count    sum  share\n",
       "0          M    0.12    265  96.42   0.34\n",
       "1       E10+    0.10    185  33.23   0.12\n",
       "2          E    0.05    219  50.74   0.18\n",
       "3          T    0.03    271  38.95   0.14\n",
       "4  undefined    0.00    749  64.72   0.23"
      ]
     },
     "metadata": {},
     "output_type": "display_data"
    },
    {
     "name": "stdout",
     "output_type": "stream",
     "text": [
      "\n",
      "Top5 EU:\n"
     ]
    },
    {
     "data": {
      "text/html": [
       "<div>\n",
       "<style scoped>\n",
       "    .dataframe tbody tr th:only-of-type {\n",
       "        vertical-align: middle;\n",
       "    }\n",
       "\n",
       "    .dataframe tbody tr th {\n",
       "        vertical-align: top;\n",
       "    }\n",
       "\n",
       "    .dataframe thead th {\n",
       "        text-align: right;\n",
       "    }\n",
       "</style>\n",
       "<table border=\"1\" class=\"dataframe\">\n",
       "  <thead>\n",
       "    <tr style=\"text-align: right;\">\n",
       "      <th></th>\n",
       "      <th>rating</th>\n",
       "      <th>median</th>\n",
       "      <th>count</th>\n",
       "      <th>sum</th>\n",
       "      <th>share</th>\n",
       "    </tr>\n",
       "  </thead>\n",
       "  <tbody>\n",
       "    <tr>\n",
       "      <th>0</th>\n",
       "      <td>M</td>\n",
       "      <td>0.12</td>\n",
       "      <td>265</td>\n",
       "      <td>93.44</td>\n",
       "      <td>0.35</td>\n",
       "    </tr>\n",
       "    <tr>\n",
       "      <th>1</th>\n",
       "      <td>E10+</td>\n",
       "      <td>0.09</td>\n",
       "      <td>185</td>\n",
       "      <td>26.16</td>\n",
       "      <td>0.10</td>\n",
       "    </tr>\n",
       "    <tr>\n",
       "      <th>2</th>\n",
       "      <td>E</td>\n",
       "      <td>0.05</td>\n",
       "      <td>219</td>\n",
       "      <td>58.06</td>\n",
       "      <td>0.21</td>\n",
       "    </tr>\n",
       "    <tr>\n",
       "      <th>3</th>\n",
       "      <td>T</td>\n",
       "      <td>0.04</td>\n",
       "      <td>271</td>\n",
       "      <td>34.07</td>\n",
       "      <td>0.13</td>\n",
       "    </tr>\n",
       "    <tr>\n",
       "      <th>4</th>\n",
       "      <td>undefined</td>\n",
       "      <td>0.00</td>\n",
       "      <td>749</td>\n",
       "      <td>58.95</td>\n",
       "      <td>0.22</td>\n",
       "    </tr>\n",
       "  </tbody>\n",
       "</table>\n",
       "</div>"
      ],
      "text/plain": [
       "      rating  median  count    sum  share\n",
       "0          M    0.12    265  93.44   0.35\n",
       "1       E10+    0.09    185  26.16   0.10\n",
       "2          E    0.05    219  58.06   0.21\n",
       "3          T    0.04    271  34.07   0.13\n",
       "4  undefined    0.00    749  58.95   0.22"
      ]
     },
     "metadata": {},
     "output_type": "display_data"
    },
    {
     "name": "stdout",
     "output_type": "stream",
     "text": [
      "\n",
      "Top5 JP:\n"
     ]
    },
    {
     "data": {
      "text/html": [
       "<div>\n",
       "<style scoped>\n",
       "    .dataframe tbody tr th:only-of-type {\n",
       "        vertical-align: middle;\n",
       "    }\n",
       "\n",
       "    .dataframe tbody tr th {\n",
       "        vertical-align: top;\n",
       "    }\n",
       "\n",
       "    .dataframe thead th {\n",
       "        text-align: right;\n",
       "    }\n",
       "</style>\n",
       "<table border=\"1\" class=\"dataframe\">\n",
       "  <thead>\n",
       "    <tr style=\"text-align: right;\">\n",
       "      <th></th>\n",
       "      <th>rating</th>\n",
       "      <th>median</th>\n",
       "      <th>count</th>\n",
       "      <th>sum</th>\n",
       "      <th>share</th>\n",
       "    </tr>\n",
       "  </thead>\n",
       "  <tbody>\n",
       "    <tr>\n",
       "      <th>0</th>\n",
       "      <td>undefined</td>\n",
       "      <td>0.02</td>\n",
       "      <td>749</td>\n",
       "      <td>56.90</td>\n",
       "      <td>0.61</td>\n",
       "    </tr>\n",
       "    <tr>\n",
       "      <th>1</th>\n",
       "      <td>T</td>\n",
       "      <td>0.01</td>\n",
       "      <td>271</td>\n",
       "      <td>14.78</td>\n",
       "      <td>0.16</td>\n",
       "    </tr>\n",
       "    <tr>\n",
       "      <th>2</th>\n",
       "      <td>E</td>\n",
       "      <td>0.00</td>\n",
       "      <td>219</td>\n",
       "      <td>8.94</td>\n",
       "      <td>0.10</td>\n",
       "    </tr>\n",
       "    <tr>\n",
       "      <th>3</th>\n",
       "      <td>E10+</td>\n",
       "      <td>0.00</td>\n",
       "      <td>185</td>\n",
       "      <td>4.46</td>\n",
       "      <td>0.05</td>\n",
       "    </tr>\n",
       "    <tr>\n",
       "      <th>4</th>\n",
       "      <td>M</td>\n",
       "      <td>0.00</td>\n",
       "      <td>265</td>\n",
       "      <td>8.01</td>\n",
       "      <td>0.09</td>\n",
       "    </tr>\n",
       "  </tbody>\n",
       "</table>\n",
       "</div>"
      ],
      "text/plain": [
       "      rating  median  count    sum  share\n",
       "0  undefined    0.02    749  56.90   0.61\n",
       "1          T    0.01    271  14.78   0.16\n",
       "2          E    0.00    219   8.94   0.10\n",
       "3       E10+    0.00    185   4.46   0.05\n",
       "4          M    0.00    265   8.01   0.09"
      ]
     },
     "metadata": {},
     "output_type": "display_data"
    }
   ],
   "source": [
    "#сводная таблица продаж в NA, отсортированная по убыванию\n",
    "na_top = df.groupby('rating')['na_sales'].agg(['median','count','sum']).sort_values(by='median', ascending=False).reset_index()\n",
    "#добавление колонки с долями продаж\n",
    "na_top['share'] = (na_top['sum'] / na_top['sum'].sum()).round(2)\n",
    "print('Top5 NA:')\n",
    "display(na_top.head())\n",
    "print()\n",
    "\n",
    "#сводная таблица продаж в EU, отсортированная по убыванию\n",
    "eu_top = df.groupby('rating')['eu_sales'].agg(['median','count','sum']).sort_values(by='median', ascending=False).reset_index()\n",
    "#добавление колонки с долями продаж\n",
    "eu_top['share'] = (eu_top['sum'] / eu_top['sum'].sum()).round(2)\n",
    "print('Top5 EU:')\n",
    "display(eu_top.head())\n",
    "print()\n",
    "\n",
    "#сводная таблица продаж в JP, отсортированная по убыванию\n",
    "jp_top = df.groupby('rating')['jp_sales'].agg(['median','count','sum']).sort_values(by='median', ascending=False).reset_index()\n",
    "#добавление колонки с долями продаж\n",
    "jp_top['share'] = (jp_top['sum'] / jp_top['sum'].sum()).round(2)\n",
    "print('Top5 JP:')\n",
    "display(jp_top.head())"
   ]
  },
  {
   "cell_type": "markdown",
   "id": "6a39988c",
   "metadata": {},
   "source": [
    "**Построение столбчатых диаграмм для разных регионов по значениям средних продаж в зависимости от рейтинга ESRB**"
   ]
  },
  {
   "cell_type": "code",
   "execution_count": 128,
   "id": "cc9402e5",
   "metadata": {
    "scrolled": false
   },
   "outputs": [
    {
     "data": {
      "image/png": "[encoded data removed]",
      "text/plain": [
       "<Figure size 1280x480 with 3 Axes>"
      ]
     },
     "metadata": {},
     "output_type": "display_data"
    }
   ],
   "source": [
    "# Настройки отображения\n",
    "fig, (ax1, ax2, ax3) = plt.subplots(nrows=1, ncols=3, figsize=(16, 6))\n",
    "fig.autofmt_xdate()\n",
    "ax1.set(ylim=(0, 0.15))\n",
    "ax2.set(ylim=(0, 0.15))\n",
    "ax3.set(ylim=(0, 0.15))\n",
    "\n",
    "#na_barplot\n",
    "na_barplot = sns.barplot(data=na_top, x='rating', y='median',ax = ax1)\n",
    "na_barplot.set_title('NA')\n",
    "na_barplot.set_xlabel(\"Категория\")\n",
    "na_barplot.set_ylabel(\"Медианные продажи\")\n",
    "\n",
    "#eu_barplot\n",
    "eu_barplot = sns.barplot(data=eu_top, x='rating', y='median',ax = ax2)\n",
    "eu_barplot.set_title('EU')\n",
    "eu_barplot.set_xlabel(\"Категория\")\n",
    "eu_barplot.set_ylabel(\"Медианные продажи\")\n",
    "\n",
    "#jp_barplot\n",
    "jp_barplot = sns.barplot(data=jp_top, x='rating', y='median',ax = ax3)\n",
    "jp_barplot.set_title('JP')\n",
    "jp_barplot.set_xlabel(\"Категория\")\n",
    "jp_barplot.set_ylabel(\"Медианные продажи\")\n",
    "\n",
    "plt.show();"
   ]
  },
  {
   "cell_type": "markdown",
   "id": "a226022f",
   "metadata": {},
   "source": [
    "#### Вывод\n",
    "- В США и Европе однозначно прослеживается зависимость продаж от рейтинга игры.Самые большие продажи у рейтинга М (для взрослых);\n",
    "- В данных о Японии самые продаваемые игры не вписываются в рейтинг ESRB, возможно там существует своя система рейтингов."
   ]
  },
  {
   "cell_type": "markdown",
   "id": "478e060a",
   "metadata": {},
   "source": [
    "### Обший вывод по пункту\n",
    "- В США и Европе чаще всего играют во взрослые (рейтинг M) игры из жанров Shooter и Action на домашних игровых приставках PS4 и XOne;\n",
    "- В Японии чаще всего играют в игры жанров Role-Playing и Action на портативных приставках 3DS или домашних игровых приставках PS4. Эти игры почти не классифицируются международным рейтингом ESRB."
   ]
  },
  {
   "cell_type": "markdown",
   "id": "0c86e914",
   "metadata": {},
   "source": [
    "## Проверка гипотез"
   ]
  },
  {
   "cell_type": "markdown",
   "id": "ce80eecf",
   "metadata": {},
   "source": [
    "### Средние пользовательские рейтинги платформ Xbox One и PC одинаковые\n",
    "\n",
    "Чтобы проверить эту гипотезу я проведу t-тест с помощью специального метода для проверки гипотезы о равенстве среднего двух генеральных совокупностей по взятым из них выборкам: `scipy.stats.ttest_ind`.\n",
    "\n",
    "Для проведения t-теста все уловия соблюдены:\n",
    "\n",
    "1) Генеральные совокупности не зависят друг от друга (xone_df и pc_df см.ниже);\n",
    "\n",
    "2) Выборочные средние должны быть нормально распределены (xone_df и pc_df - большие выборки(>50), следовательно их выборочное среднее распределено нормально);\n",
    "\n",
    "3) Дисперсии рассматриваемых генеральных совокупностей должны быть равны (предполагается)."
   ]
  },
  {
   "cell_type": "markdown",
   "id": "a0838231",
   "metadata": {},
   "source": [
    "$H_0:$ Средний пользовательский рейтинг платформы Xbox One равен среднему пользовательскому рейтингу PC;\n",
    "\n",
    "$H_1:$ Средний пользовательский рейтинг платформы Xbox One не равен среднему пользовательскому рейтингу PC;\n"
   ]
  },
  {
   "cell_type": "code",
   "execution_count": 129,
   "id": "7a0083eb",
   "metadata": {
    "scrolled": false
   },
   "outputs": [
    {
     "data": {
      "image/png": "[encoded data removed]",
      "text/plain": [
       "<Figure size 800x800 with 2 Axes>"
      ]
     },
     "metadata": {},
     "output_type": "display_data"
    }
   ],
   "source": [
    "#отфильтрую нужные значения из общего датафрейма:\n",
    "xone_df = df.query('platform == \"XOne\"')['user_score']\n",
    "pc_df = df.query('platform == \"PC\"')['user_score']\n",
    "\n",
    "#очистка данных от нулевых значений\n",
    "xone_df = xone_df.dropna()\n",
    "pc_df = pc_df.dropna()\n",
    "\n",
    "#изучение диаграммы размаха\n",
    "matplotlib.style.use('classic')\n",
    "fix,(ax1,ax2) = plt.subplots(2,1,figsize = (10,10))\n",
    "xone_box = xone_df.plot.box(ax=ax1,grid=True)\n",
    "pc_box = pc_df.plot.box(ax=ax2,grid=True)\n",
    "\n",
    "#фильтрация выбросов\n",
    "xone_df = xone_df[xone_df > 3]\n",
    "pc_df = pc_df[pc_df > 2.5]\n"
   ]
  },
  {
   "cell_type": "code",
   "execution_count": 130,
   "id": "063eb798",
   "metadata": {},
   "outputs": [
    {
     "name": "stdout",
     "output_type": "stream",
     "text": [
      "163 118\n"
     ]
    }
   ],
   "source": [
    "#оценю размеры выборок, пригодится для определения equal_var\n",
    "size_xone_df = xone_df.shape[0]\n",
    "size_pc_df = pc_df.shape[0]\n",
    "\n",
    "print(size_xone_df, size_pc_df)"
   ]
  },
  {
   "cell_type": "code",
   "execution_count": 131,
   "id": "3d5c6dd0",
   "metadata": {},
   "outputs": [
    {
     "name": "stdout",
     "output_type": "stream",
     "text": [
      "p-value =  0.23233499606995134\n",
      "Не получилось отвергнуть H0\n"
     ]
    }
   ],
   "source": [
    "#задам критический уровень статистической значимости\n",
    "alpha = .05\n",
    "\n",
    "results = st.ttest_ind (\n",
    "    xone_df,\n",
    "    pc_df,\n",
    "    # так как выборки разного размера и это различие значительно по отношению к размеру самих выборок, то \n",
    "    equal_var = False\n",
    ")\n",
    "print('p-value = ', results.pvalue)\n",
    "\n",
    "\n",
    "if results.pvalue < alpha:\n",
    "    print('Отвергаем H0 и принимаем H1')\n",
    "else:\n",
    "    print('Не получилось отвергнуть H0')\n",
    "    "
   ]
  },
  {
   "cell_type": "markdown",
   "id": "4154e56d",
   "metadata": {},
   "source": [
    "#### Вывод\n",
    "Нет оснований отрицать, что средний пользовательский рейтинг платформы Xbox One равен среднему пользовательскому рейтингу PC"
   ]
  },
  {
   "cell_type": "markdown",
   "id": "03637774",
   "metadata": {},
   "source": [
    "### Средние пользовательские рейтинги жанров Action и Sports разные"
   ]
  },
  {
   "cell_type": "markdown",
   "id": "e3c84d6e",
   "metadata": {},
   "source": [
    "$H_0:$ Средний пользовательский рейтинг жанра Action равен среднему пользовательскому рейтингу жанра Sports;\n",
    "\n",
    "$H_1:$ Средний пользовательский рейтинг жанра Action не равен среднему пользовательскому рейтингу жанра Sports;\n",
    "\n",
    "Чтобы доказать предлагаемую гипотезу нужно отвергнуть $H_0$ и принять альтернативную гипотезу $H_1$"
   ]
  },
  {
   "cell_type": "code",
   "execution_count": 132,
   "id": "330780c0",
   "metadata": {
    "scrolled": true
   },
   "outputs": [
    {
     "data": {
      "image/png": "[encoded data removed]",
      "text/plain": [
       "<Figure size 800x800 with 2 Axes>"
      ]
     },
     "metadata": {},
     "output_type": "display_data"
    }
   ],
   "source": [
    "#отфильтрую нужные значения датафрейма\n",
    "action_df = df.query('genre == \"Action\"')['user_score']\n",
    "sports_df = df.query('genre == \"Sports\"')['user_score']\n",
    "\n",
    "#избавлюсь от NaN\n",
    "action_df = action_df.dropna()\n",
    "sports_df = sports_df.dropna()\n",
    "\n",
    "#изучение дмаграммы размаха\n",
    "fig,(ax1,ax2) = plt.subplots(2,1,figsize = (10,10))\n",
    "action_box = action_df.plot.box(ax=ax1, grid=True)\n",
    "sports_box = sports_df.plot.box(ax=ax2, grid=True)\n",
    "#настройка отображения графиков\n",
    "ax1.set_ylim(0,10)\n",
    "ax2.set_ylim(0,10)\n",
    "ax1.set_title('Action genre')\n",
    "ax2.set_title('Sports genre')\n",
    "plt.show;\n",
    "\n",
    "#фильтрация выбросов\n",
    "action_df = action_df.loc[action_df > 3.8]"
   ]
  },
  {
   "cell_type": "code",
   "execution_count": 133,
   "id": "8e6f32f5",
   "metadata": {},
   "outputs": [
    {
     "name": "stdout",
     "output_type": "stream",
     "text": [
      "279 127\n"
     ]
    }
   ],
   "source": [
    "#оценю размеры выборок, пригодится для определения equal_var\n",
    "action_df_size = action_df.shape[0]\n",
    "sports_df_size = sports_df.shape[0]\n",
    "\n",
    "print(action_df_size, sports_df_size)"
   ]
  },
  {
   "cell_type": "code",
   "execution_count": 134,
   "id": "b3cb28b7",
   "metadata": {},
   "outputs": [
    {
     "name": "stdout",
     "output_type": "stream",
     "text": [
      "p-value 7.745424586035598e-19\n",
      "Отвергаем H0 и принимаем H1\n"
     ]
    }
   ],
   "source": [
    "#критерий значимости\n",
    "alpha = .05\n",
    "\n",
    "results = st.ttest_ind (\n",
    "    action_df,\n",
    "    sports_df,\n",
    "    #выборки значительно отличаются друг от друга по размеру\n",
    "    equal_var = False\n",
    ")\n",
    "\n",
    "print('p-value', results.pvalue)\n",
    "\n",
    "if results.pvalue < alpha:\n",
    "    print('Отвергаем H0 и принимаем H1')\n",
    "else:\n",
    "    print('Нет оснований отвергать H0')"
   ]
  },
  {
   "cell_type": "markdown",
   "id": "22e3eece",
   "metadata": {},
   "source": [
    "#### Вывод\n",
    "Есть основания предполагать, что средние пользовательские рейтинги жанров Action и Sports разные"
   ]
  },
  {
   "cell_type": "markdown",
   "id": "16723179",
   "metadata": {},
   "source": [
    "## Общий вывод по проекту"
   ]
  },
  {
   "cell_type": "markdown",
   "id": "d8c8f883",
   "metadata": {},
   "source": [
    "Выявление определяющие успешность\n",
    "игры закономерности. Это позволит сделать ставку на потенциально популярный\n",
    "продукт и спланировать рекламные кампании.\n"
   ]
  },
  {
   "cell_type": "markdown",
   "id": "3894875c",
   "metadata": {},
   "source": [
    "На успешность игры влияют следующие параметры:\n",
    "- жанр игры;\n",
    "- платформа на которой она выпускается;\n",
    "- ESRB рейтинг игры;\n",
    "- оценка игры критиками.\n",
    "    \n",
    "Эти характеристики меняются в зависимости от того, где находится целевая аудитория.\n",
    "\n",
    "Для Северной Америки и Европы наилучшей комбинацией параметров является:\n",
    "- жанр игры: Shooter или Action;\n",
    "- платформа: PS4 или XOne\n",
    "- ESRB: M\n",
    "        \n",
    "Для Японии наилучшей комбинацией параметров является:\n",
    "- жанр игры: Role-Playing или Action;\n",
    "- платформа: 3DS или PS4\n",
    "\n",
    "**Обобщая установленные закономерности, можно сделать вывод, что лучшим выбором будет создание игры жанра Action на платформе PS4 с ESRB-рейтингом M**"
   ]
  }
 ],
 "metadata": {
  "ExecuteTimeLog": [
   {
    "duration": 1122,
    "start_time": "2022-02-10T13:57:08.710Z"
   },
   {
    "duration": 241,
    "start_time": "2022-02-10T13:57:09.834Z"
   },
   {
    "duration": 2,
    "start_time": "2022-02-10T13:57:10.077Z"
   },
   {
    "duration": 11,
    "start_time": "2022-02-10T13:57:10.080Z"
   },
   {
    "duration": 13,
    "start_time": "2022-02-10T13:57:10.093Z"
   },
   {
    "duration": 7,
    "start_time": "2022-02-10T13:57:10.107Z"
   },
   {
    "duration": 3,
    "start_time": "2022-02-10T13:57:10.116Z"
   },
   {
    "duration": 3,
    "start_time": "2022-02-10T13:57:10.122Z"
   },
   {
    "duration": 4,
    "start_time": "2022-02-10T13:57:10.127Z"
   },
   {
    "duration": 8,
    "start_time": "2022-02-10T13:57:10.132Z"
   },
   {
    "duration": 6,
    "start_time": "2022-02-10T13:57:10.141Z"
   },
   {
    "duration": 4,
    "start_time": "2022-02-10T13:57:10.148Z"
   },
   {
    "duration": 8,
    "start_time": "2022-02-10T13:57:10.154Z"
   },
   {
    "duration": 5,
    "start_time": "2022-02-10T13:57:10.164Z"
   },
   {
    "duration": 3,
    "start_time": "2022-02-10T13:57:10.171Z"
   },
   {
    "duration": 8,
    "start_time": "2022-02-10T13:57:10.176Z"
   },
   {
    "duration": 5,
    "start_time": "2022-02-10T13:57:10.185Z"
   },
   {
    "duration": 7,
    "start_time": "2022-02-10T13:57:10.191Z"
   },
   {
    "duration": 28,
    "start_time": "2022-02-10T13:57:10.200Z"
   },
   {
    "duration": 292,
    "start_time": "2022-02-10T13:57:10.229Z"
   },
   {
    "duration": 8,
    "start_time": "2022-02-10T13:57:10.523Z"
   },
   {
    "duration": 22,
    "start_time": "2022-02-10T13:57:10.532Z"
   },
   {
    "duration": 561,
    "start_time": "2022-02-10T13:57:10.557Z"
   },
   {
    "duration": 220,
    "start_time": "2022-02-10T13:57:11.120Z"
   },
   {
    "duration": 6,
    "start_time": "2022-02-10T13:57:11.341Z"
   },
   {
    "duration": 12,
    "start_time": "2022-02-10T13:57:11.349Z"
   },
   {
    "duration": 490,
    "start_time": "2022-02-10T13:57:11.362Z"
   },
   {
    "duration": 901,
    "start_time": "2022-02-10T13:57:11.854Z"
   },
   {
    "duration": 875,
    "start_time": "2022-02-10T13:57:12.757Z"
   },
   {
    "duration": 17,
    "start_time": "2022-02-10T13:57:13.634Z"
   },
   {
    "duration": 17,
    "start_time": "2022-02-10T13:57:13.652Z"
   },
   {
    "duration": 222,
    "start_time": "2022-02-10T13:57:13.670Z"
   },
   {
    "duration": 44,
    "start_time": "2022-02-10T13:57:13.893Z"
   },
   {
    "duration": 498,
    "start_time": "2022-02-10T13:57:13.938Z"
   },
   {
    "duration": 108,
    "start_time": "2022-02-10T13:57:14.437Z"
   },
   {
    "duration": 524,
    "start_time": "2022-02-10T13:57:14.547Z"
   },
   {
    "duration": 56,
    "start_time": "2022-02-10T13:57:15.072Z"
   },
   {
    "duration": 401,
    "start_time": "2022-02-10T13:57:15.129Z"
   },
   {
    "duration": 293,
    "start_time": "2022-02-10T13:57:15.532Z"
   },
   {
    "duration": 3,
    "start_time": "2022-02-10T13:57:15.827Z"
   },
   {
    "duration": 6,
    "start_time": "2022-02-10T13:57:15.831Z"
   },
   {
    "duration": 275,
    "start_time": "2022-02-10T13:57:15.839Z"
   },
   {
    "duration": 4,
    "start_time": "2022-02-10T13:57:16.115Z"
   },
   {
    "duration": 19,
    "start_time": "2022-02-10T13:57:16.120Z"
   },
   {
    "duration": 4,
    "start_time": "2022-02-10T14:00:45.630Z"
   },
   {
    "duration": 252,
    "start_time": "2022-02-10T14:00:45.636Z"
   },
   {
    "duration": 2,
    "start_time": "2022-02-10T14:00:45.891Z"
   },
   {
    "duration": 15,
    "start_time": "2022-02-10T14:00:45.896Z"
   },
   {
    "duration": 18,
    "start_time": "2022-02-10T14:00:45.913Z"
   },
   {
    "duration": 17,
    "start_time": "2022-02-10T14:00:45.933Z"
   },
   {
    "duration": 19,
    "start_time": "2022-02-10T14:00:45.951Z"
   },
   {
    "duration": 18,
    "start_time": "2022-02-10T14:00:45.971Z"
   },
   {
    "duration": 10,
    "start_time": "2022-02-10T14:00:45.992Z"
   },
   {
    "duration": 12,
    "start_time": "2022-02-10T14:00:46.004Z"
   },
   {
    "duration": 18,
    "start_time": "2022-02-10T14:00:46.018Z"
   },
   {
    "duration": 20,
    "start_time": "2022-02-10T14:00:46.038Z"
   },
   {
    "duration": 26,
    "start_time": "2022-02-10T14:00:46.060Z"
   },
   {
    "duration": 11,
    "start_time": "2022-02-10T14:00:46.088Z"
   },
   {
    "duration": 10,
    "start_time": "2022-02-10T14:00:46.100Z"
   },
   {
    "duration": 198,
    "start_time": "2022-02-10T14:00:46.112Z"
   },
   {
    "duration": 6,
    "start_time": "2022-02-10T14:00:46.312Z"
   },
   {
    "duration": 11,
    "start_time": "2022-02-10T14:00:46.319Z"
   },
   {
    "duration": 11,
    "start_time": "2022-02-10T14:00:46.332Z"
   },
   {
    "duration": 471,
    "start_time": "2022-02-10T14:00:46.345Z"
   },
   {
    "duration": 12,
    "start_time": "2022-02-10T14:00:46.818Z"
   },
   {
    "duration": 32,
    "start_time": "2022-02-10T14:00:46.831Z"
   },
   {
    "duration": 478,
    "start_time": "2022-02-10T14:00:46.865Z"
   },
   {
    "duration": 283,
    "start_time": "2022-02-10T14:00:47.345Z"
   },
   {
    "duration": 5,
    "start_time": "2022-02-10T14:00:47.630Z"
   },
   {
    "duration": 27,
    "start_time": "2022-02-10T14:00:47.637Z"
   },
   {
    "duration": 344,
    "start_time": "2022-02-10T14:00:47.667Z"
   },
   {
    "duration": 782,
    "start_time": "2022-02-10T14:00:48.013Z"
   },
   {
    "duration": 1019,
    "start_time": "2022-02-10T14:00:48.797Z"
   },
   {
    "duration": 25,
    "start_time": "2022-02-10T14:00:49.818Z"
   },
   {
    "duration": 20,
    "start_time": "2022-02-10T14:00:49.844Z"
   },
   {
    "duration": 210,
    "start_time": "2022-02-10T14:00:49.866Z"
   },
   {
    "duration": 50,
    "start_time": "2022-02-10T14:00:50.078Z"
   },
   {
    "duration": 556,
    "start_time": "2022-02-10T14:00:50.129Z"
   },
   {
    "duration": 48,
    "start_time": "2022-02-10T14:00:50.687Z"
   },
   {
    "duration": 528,
    "start_time": "2022-02-10T14:00:50.737Z"
   },
   {
    "duration": 39,
    "start_time": "2022-02-10T14:00:51.267Z"
   },
   {
    "duration": 386,
    "start_time": "2022-02-10T14:00:51.328Z"
   },
   {
    "duration": 286,
    "start_time": "2022-02-10T14:00:51.716Z"
   },
   {
    "duration": 3,
    "start_time": "2022-02-10T14:00:52.004Z"
   },
   {
    "duration": 10,
    "start_time": "2022-02-10T14:00:52.008Z"
   },
   {
    "duration": 264,
    "start_time": "2022-02-10T14:00:52.027Z"
   },
   {
    "duration": 3,
    "start_time": "2022-02-10T14:00:52.293Z"
   },
   {
    "duration": 6,
    "start_time": "2022-02-10T14:00:52.298Z"
   },
   {
    "duration": 3,
    "start_time": "2022-02-10T14:05:48.610Z"
   },
   {
    "duration": 292,
    "start_time": "2022-02-10T14:05:48.615Z"
   },
   {
    "duration": 2,
    "start_time": "2022-02-10T14:05:48.909Z"
   },
   {
    "duration": 11,
    "start_time": "2022-02-10T14:05:48.913Z"
   },
   {
    "duration": 13,
    "start_time": "2022-02-10T14:05:48.925Z"
   },
   {
    "duration": 8,
    "start_time": "2022-02-10T14:05:48.939Z"
   },
   {
    "duration": 4,
    "start_time": "2022-02-10T14:05:48.948Z"
   },
   {
    "duration": 3,
    "start_time": "2022-02-10T14:05:48.953Z"
   },
   {
    "duration": 4,
    "start_time": "2022-02-10T14:05:48.958Z"
   },
   {
    "duration": 5,
    "start_time": "2022-02-10T14:05:48.963Z"
   },
   {
    "duration": 4,
    "start_time": "2022-02-10T14:05:48.970Z"
   },
   {
    "duration": 3,
    "start_time": "2022-02-10T14:05:48.976Z"
   },
   {
    "duration": 49,
    "start_time": "2022-02-10T14:05:48.981Z"
   },
   {
    "duration": 6,
    "start_time": "2022-02-10T14:05:49.031Z"
   },
   {
    "duration": 4,
    "start_time": "2022-02-10T14:05:49.039Z"
   },
   {
    "duration": 211,
    "start_time": "2022-02-10T14:05:49.045Z"
   },
   {
    "duration": 5,
    "start_time": "2022-02-10T14:05:49.258Z"
   },
   {
    "duration": 7,
    "start_time": "2022-02-10T14:05:49.265Z"
   },
   {
    "duration": 7,
    "start_time": "2022-02-10T14:05:49.275Z"
   },
   {
    "duration": 301,
    "start_time": "2022-02-10T14:05:49.284Z"
   },
   {
    "duration": 5,
    "start_time": "2022-02-10T14:05:49.587Z"
   },
   {
    "duration": 35,
    "start_time": "2022-02-10T14:05:49.594Z"
   },
   {
    "duration": 639,
    "start_time": "2022-02-10T14:05:49.631Z"
   },
   {
    "duration": 205,
    "start_time": "2022-02-10T14:05:50.271Z"
   },
   {
    "duration": 6,
    "start_time": "2022-02-10T14:05:50.478Z"
   },
   {
    "duration": 11,
    "start_time": "2022-02-10T14:05:50.485Z"
   },
   {
    "duration": 350,
    "start_time": "2022-02-10T14:05:50.497Z"
   },
   {
    "duration": 791,
    "start_time": "2022-02-10T14:05:50.848Z"
   },
   {
    "duration": 1007,
    "start_time": "2022-02-10T14:05:51.641Z"
   },
   {
    "duration": 20,
    "start_time": "2022-02-10T14:05:52.650Z"
   },
   {
    "duration": 18,
    "start_time": "2022-02-10T14:05:52.672Z"
   },
   {
    "duration": 218,
    "start_time": "2022-02-10T14:05:52.691Z"
   },
   {
    "duration": 46,
    "start_time": "2022-02-10T14:05:52.911Z"
   },
   {
    "duration": 576,
    "start_time": "2022-02-10T14:05:52.959Z"
   },
   {
    "duration": 37,
    "start_time": "2022-02-10T14:05:53.537Z"
   },
   {
    "duration": 527,
    "start_time": "2022-02-10T14:05:53.575Z"
   },
   {
    "duration": 50,
    "start_time": "2022-02-10T14:05:54.104Z"
   },
   {
    "duration": 599,
    "start_time": "2022-02-10T14:05:54.156Z"
   },
   {
    "duration": 439,
    "start_time": "2022-02-10T14:05:54.758Z"
   },
   {
    "duration": 4,
    "start_time": "2022-02-10T14:05:55.200Z"
   },
   {
    "duration": 22,
    "start_time": "2022-02-10T14:05:55.206Z"
   },
   {
    "duration": 267,
    "start_time": "2022-02-10T14:05:55.231Z"
   },
   {
    "duration": 4,
    "start_time": "2022-02-10T14:05:55.500Z"
   },
   {
    "duration": 8,
    "start_time": "2022-02-10T14:05:55.505Z"
   },
   {
    "duration": 4,
    "start_time": "2022-02-10T14:10:19.466Z"
   },
   {
    "duration": 272,
    "start_time": "2022-02-10T14:10:19.472Z"
   },
   {
    "duration": 2,
    "start_time": "2022-02-10T14:10:19.881Z"
   },
   {
    "duration": 12,
    "start_time": "2022-02-10T14:10:19.885Z"
   },
   {
    "duration": 13,
    "start_time": "2022-02-10T14:10:19.899Z"
   },
   {
    "duration": 7,
    "start_time": "2022-02-10T14:10:19.927Z"
   },
   {
    "duration": 3,
    "start_time": "2022-02-10T14:10:19.936Z"
   },
   {
    "duration": 5,
    "start_time": "2022-02-10T14:10:19.941Z"
   },
   {
    "duration": 5,
    "start_time": "2022-02-10T14:10:19.947Z"
   },
   {
    "duration": 5,
    "start_time": "2022-02-10T14:10:19.954Z"
   },
   {
    "duration": 8,
    "start_time": "2022-02-10T14:10:19.961Z"
   },
   {
    "duration": 6,
    "start_time": "2022-02-10T14:10:19.970Z"
   },
   {
    "duration": 10,
    "start_time": "2022-02-10T14:10:19.978Z"
   },
   {
    "duration": 7,
    "start_time": "2022-02-10T14:10:19.990Z"
   },
   {
    "duration": 4,
    "start_time": "2022-02-10T14:10:21.042Z"
   },
   {
    "duration": 126,
    "start_time": "2022-02-10T14:10:21.048Z"
   },
   {
    "duration": 4,
    "start_time": "2022-02-10T14:10:21.176Z"
   },
   {
    "duration": 13,
    "start_time": "2022-02-10T14:10:21.182Z"
   },
   {
    "duration": 13,
    "start_time": "2022-02-10T14:10:21.196Z"
   },
   {
    "duration": 304,
    "start_time": "2022-02-10T14:10:21.210Z"
   },
   {
    "duration": 14,
    "start_time": "2022-02-10T14:10:21.515Z"
   },
   {
    "duration": 26,
    "start_time": "2022-02-10T14:10:21.531Z"
   },
   {
    "duration": 568,
    "start_time": "2022-02-10T14:10:21.559Z"
   },
   {
    "duration": 212,
    "start_time": "2022-02-10T14:10:22.128Z"
   },
   {
    "duration": 5,
    "start_time": "2022-02-10T14:10:22.342Z"
   },
   {
    "duration": 9,
    "start_time": "2022-02-10T14:10:22.348Z"
   },
   {
    "duration": 362,
    "start_time": "2022-02-10T14:10:22.359Z"
   },
   {
    "duration": 894,
    "start_time": "2022-02-10T14:10:22.723Z"
   },
   {
    "duration": 1024,
    "start_time": "2022-02-10T14:10:23.620Z"
   },
   {
    "duration": 22,
    "start_time": "2022-02-10T14:10:24.646Z"
   },
   {
    "duration": 19,
    "start_time": "2022-02-10T14:10:24.669Z"
   },
   {
    "duration": 309,
    "start_time": "2022-02-10T14:10:24.689Z"
   },
   {
    "duration": 54,
    "start_time": "2022-02-10T14:10:25.000Z"
   },
   {
    "duration": 585,
    "start_time": "2022-02-10T14:10:25.056Z"
   },
   {
    "duration": 38,
    "start_time": "2022-02-10T14:10:25.643Z"
   },
   {
    "duration": 530,
    "start_time": "2022-02-10T14:10:25.683Z"
   },
   {
    "duration": 54,
    "start_time": "2022-02-10T14:10:26.215Z"
   },
   {
    "duration": 599,
    "start_time": "2022-02-10T14:10:26.271Z"
   },
   {
    "duration": 444,
    "start_time": "2022-02-10T14:10:26.873Z"
   },
   {
    "duration": 8,
    "start_time": "2022-02-10T14:10:27.319Z"
   },
   {
    "duration": 6,
    "start_time": "2022-02-10T14:10:27.329Z"
   },
   {
    "duration": 416,
    "start_time": "2022-02-10T14:10:27.338Z"
   },
   {
    "duration": 4,
    "start_time": "2022-02-10T14:10:27.756Z"
   },
   {
    "duration": 9,
    "start_time": "2022-02-10T14:10:27.762Z"
   },
   {
    "duration": 4,
    "start_time": "2022-02-10T14:10:46.869Z"
   },
   {
    "duration": 253,
    "start_time": "2022-02-10T14:10:46.874Z"
   },
   {
    "duration": 2,
    "start_time": "2022-02-10T14:10:47.129Z"
   },
   {
    "duration": 15,
    "start_time": "2022-02-10T14:10:47.132Z"
   },
   {
    "duration": 13,
    "start_time": "2022-02-10T14:10:47.149Z"
   },
   {
    "duration": 7,
    "start_time": "2022-02-10T14:10:47.163Z"
   },
   {
    "duration": 4,
    "start_time": "2022-02-10T14:10:47.172Z"
   },
   {
    "duration": 4,
    "start_time": "2022-02-10T14:10:47.178Z"
   },
   {
    "duration": 4,
    "start_time": "2022-02-10T14:10:47.183Z"
   },
   {
    "duration": 7,
    "start_time": "2022-02-10T14:10:47.189Z"
   },
   {
    "duration": 30,
    "start_time": "2022-02-10T14:10:47.197Z"
   },
   {
    "duration": 4,
    "start_time": "2022-02-10T14:10:47.228Z"
   },
   {
    "duration": 8,
    "start_time": "2022-02-10T14:10:47.233Z"
   },
   {
    "duration": 7,
    "start_time": "2022-02-10T14:10:47.243Z"
   },
   {
    "duration": 5,
    "start_time": "2022-02-10T14:10:47.251Z"
   },
   {
    "duration": 133,
    "start_time": "2022-02-10T14:10:47.257Z"
   },
   {
    "duration": 5,
    "start_time": "2022-02-10T14:10:47.392Z"
   },
   {
    "duration": 4,
    "start_time": "2022-02-10T14:10:47.398Z"
   },
   {
    "duration": 7,
    "start_time": "2022-02-10T14:10:47.405Z"
   },
   {
    "duration": 302,
    "start_time": "2022-02-10T14:10:47.414Z"
   },
   {
    "duration": 11,
    "start_time": "2022-02-10T14:10:47.717Z"
   },
   {
    "duration": 21,
    "start_time": "2022-02-10T14:10:47.729Z"
   },
   {
    "duration": 662,
    "start_time": "2022-02-10T14:10:47.751Z"
   },
   {
    "duration": 206,
    "start_time": "2022-02-10T14:10:48.415Z"
   },
   {
    "duration": 7,
    "start_time": "2022-02-10T14:10:48.623Z"
   },
   {
    "duration": 7,
    "start_time": "2022-02-10T14:10:48.632Z"
   },
   {
    "duration": 351,
    "start_time": "2022-02-10T14:10:48.641Z"
   },
   {
    "duration": 969,
    "start_time": "2022-02-10T14:10:48.993Z"
   },
   {
    "duration": 852,
    "start_time": "2022-02-10T14:10:49.964Z"
   },
   {
    "duration": 19,
    "start_time": "2022-02-10T14:10:50.818Z"
   },
   {
    "duration": 14,
    "start_time": "2022-02-10T14:10:50.839Z"
   },
   {
    "duration": 209,
    "start_time": "2022-02-10T14:10:50.854Z"
   },
   {
    "duration": 37,
    "start_time": "2022-02-10T14:10:51.065Z"
   },
   {
    "duration": 572,
    "start_time": "2022-02-10T14:10:51.104Z"
   },
   {
    "duration": 55,
    "start_time": "2022-02-10T14:10:51.678Z"
   },
   {
    "duration": 515,
    "start_time": "2022-02-10T14:10:51.734Z"
   },
   {
    "duration": 41,
    "start_time": "2022-02-10T14:10:52.250Z"
   },
   {
    "duration": 604,
    "start_time": "2022-02-10T14:10:52.292Z"
   },
   {
    "duration": 443,
    "start_time": "2022-02-10T14:10:52.897Z"
   },
   {
    "duration": 4,
    "start_time": "2022-02-10T14:10:53.342Z"
   },
   {
    "duration": 6,
    "start_time": "2022-02-10T14:10:53.348Z"
   },
   {
    "duration": 353,
    "start_time": "2022-02-10T14:10:53.356Z"
   },
   {
    "duration": 3,
    "start_time": "2022-02-10T14:10:53.711Z"
   },
   {
    "duration": 4,
    "start_time": "2022-02-10T14:10:53.727Z"
   },
   {
    "duration": 4,
    "start_time": "2022-02-10T14:12:36.711Z"
   },
   {
    "duration": 247,
    "start_time": "2022-02-10T14:12:36.716Z"
   },
   {
    "duration": 2,
    "start_time": "2022-02-10T14:12:36.965Z"
   },
   {
    "duration": 10,
    "start_time": "2022-02-10T14:12:36.969Z"
   },
   {
    "duration": 14,
    "start_time": "2022-02-10T14:12:36.981Z"
   },
   {
    "duration": 9,
    "start_time": "2022-02-10T14:12:36.996Z"
   },
   {
    "duration": 4,
    "start_time": "2022-02-10T14:12:37.007Z"
   },
   {
    "duration": 14,
    "start_time": "2022-02-10T14:12:37.014Z"
   },
   {
    "duration": 6,
    "start_time": "2022-02-10T14:12:37.030Z"
   },
   {
    "duration": 6,
    "start_time": "2022-02-10T14:12:37.037Z"
   },
   {
    "duration": 6,
    "start_time": "2022-02-10T14:12:37.044Z"
   },
   {
    "duration": 4,
    "start_time": "2022-02-10T14:12:37.051Z"
   },
   {
    "duration": 9,
    "start_time": "2022-02-10T14:12:37.057Z"
   },
   {
    "duration": 7,
    "start_time": "2022-02-10T14:12:37.067Z"
   },
   {
    "duration": 4,
    "start_time": "2022-02-10T14:12:37.076Z"
   },
   {
    "duration": 146,
    "start_time": "2022-02-10T14:12:37.082Z"
   },
   {
    "duration": 4,
    "start_time": "2022-02-10T14:12:37.254Z"
   },
   {
    "duration": 9,
    "start_time": "2022-02-10T14:12:37.259Z"
   },
   {
    "duration": 8,
    "start_time": "2022-02-10T14:12:37.270Z"
   },
   {
    "duration": 301,
    "start_time": "2022-02-10T14:12:37.472Z"
   },
   {
    "duration": 6,
    "start_time": "2022-02-10T14:12:37.775Z"
   },
   {
    "duration": 28,
    "start_time": "2022-02-10T14:12:37.782Z"
   },
   {
    "duration": 579,
    "start_time": "2022-02-10T14:12:37.812Z"
   },
   {
    "duration": 312,
    "start_time": "2022-02-10T14:12:38.392Z"
   },
   {
    "duration": 6,
    "start_time": "2022-02-10T14:12:38.706Z"
   },
   {
    "duration": 15,
    "start_time": "2022-02-10T14:12:38.713Z"
   },
   {
    "duration": 404,
    "start_time": "2022-02-10T14:12:38.730Z"
   },
   {
    "duration": 896,
    "start_time": "2022-02-10T14:12:39.136Z"
   },
   {
    "duration": 899,
    "start_time": "2022-02-10T14:12:40.034Z"
   },
   {
    "duration": 15,
    "start_time": "2022-02-10T14:12:40.935Z"
   },
   {
    "duration": 16,
    "start_time": "2022-02-10T14:12:40.951Z"
   },
   {
    "duration": 220,
    "start_time": "2022-02-10T14:12:40.968Z"
   },
   {
    "duration": 48,
    "start_time": "2022-02-10T14:12:41.190Z"
   },
   {
    "duration": 565,
    "start_time": "2022-02-10T14:12:41.240Z"
   },
   {
    "duration": 43,
    "start_time": "2022-02-10T14:12:41.807Z"
   },
   {
    "duration": 621,
    "start_time": "2022-02-10T14:12:41.851Z"
   },
   {
    "duration": 34,
    "start_time": "2022-02-10T14:12:42.474Z"
   },
   {
    "duration": 383,
    "start_time": "2022-02-10T14:12:42.527Z"
   },
   {
    "duration": 289,
    "start_time": "2022-02-10T14:12:42.911Z"
   },
   {
    "duration": 3,
    "start_time": "2022-02-10T14:12:43.202Z"
   },
   {
    "duration": 6,
    "start_time": "2022-02-10T14:12:43.206Z"
   },
   {
    "duration": 270,
    "start_time": "2022-02-10T14:12:43.214Z"
   },
   {
    "duration": 3,
    "start_time": "2022-02-10T14:12:43.486Z"
   },
   {
    "duration": 6,
    "start_time": "2022-02-10T14:12:43.490Z"
   },
   {
    "duration": 1220,
    "start_time": "2022-02-16T13:14:58.707Z"
   },
   {
    "duration": 227,
    "start_time": "2022-02-16T13:14:59.929Z"
   },
   {
    "duration": 3,
    "start_time": "2022-02-16T13:15:00.159Z"
   },
   {
    "duration": 23,
    "start_time": "2022-02-16T13:15:00.164Z"
   },
   {
    "duration": 23,
    "start_time": "2022-02-16T13:15:00.189Z"
   },
   {
    "duration": 10,
    "start_time": "2022-02-16T13:15:00.215Z"
   },
   {
    "duration": 10,
    "start_time": "2022-02-16T13:15:00.227Z"
   },
   {
    "duration": 7,
    "start_time": "2022-02-16T13:15:00.241Z"
   },
   {
    "duration": 19,
    "start_time": "2022-02-16T13:15:00.250Z"
   },
   {
    "duration": 9,
    "start_time": "2022-02-16T13:15:00.271Z"
   },
   {
    "duration": 7,
    "start_time": "2022-02-16T13:15:00.282Z"
   },
   {
    "duration": 9,
    "start_time": "2022-02-16T13:15:00.291Z"
   },
   {
    "duration": 20,
    "start_time": "2022-02-16T13:15:00.302Z"
   },
   {
    "duration": 9,
    "start_time": "2022-02-16T13:15:00.324Z"
   },
   {
    "duration": 16,
    "start_time": "2022-02-16T13:15:00.335Z"
   },
   {
    "duration": 19,
    "start_time": "2022-02-16T13:15:00.353Z"
   },
   {
    "duration": 10,
    "start_time": "2022-02-16T13:15:00.374Z"
   },
   {
    "duration": 15,
    "start_time": "2022-02-16T13:15:00.385Z"
   },
   {
    "duration": 10,
    "start_time": "2022-02-16T13:15:00.402Z"
   },
   {
    "duration": 406,
    "start_time": "2022-02-16T13:15:00.414Z"
   },
   {
    "duration": 7,
    "start_time": "2022-02-16T13:15:00.822Z"
   },
   {
    "duration": 51,
    "start_time": "2022-02-16T13:15:00.831Z"
   },
   {
    "duration": 767,
    "start_time": "2022-02-16T13:15:00.885Z"
   },
   {
    "duration": 296,
    "start_time": "2022-02-16T13:15:01.654Z"
   },
   {
    "duration": 7,
    "start_time": "2022-02-16T13:15:01.952Z"
   },
   {
    "duration": 13,
    "start_time": "2022-02-16T13:15:01.970Z"
   },
   {
    "duration": 602,
    "start_time": "2022-02-16T13:15:01.985Z"
   },
   {
    "duration": 918,
    "start_time": "2022-02-16T13:15:02.589Z"
   },
   {
    "duration": 903,
    "start_time": "2022-02-16T13:15:03.509Z"
   },
   {
    "duration": 18,
    "start_time": "2022-02-16T13:15:04.415Z"
   },
   {
    "duration": 17,
    "start_time": "2022-02-16T13:15:04.435Z"
   },
   {
    "duration": 283,
    "start_time": "2022-02-16T13:15:04.470Z"
   },
   {
    "duration": 57,
    "start_time": "2022-02-16T13:15:04.755Z"
   },
   {
    "duration": 655,
    "start_time": "2022-02-16T13:15:04.814Z"
   },
   {
    "duration": 137,
    "start_time": "2022-02-16T13:15:05.471Z"
   },
   {
    "duration": 715,
    "start_time": "2022-02-16T13:15:05.610Z"
   },
   {
    "duration": 65,
    "start_time": "2022-02-16T13:15:06.327Z"
   },
   {
    "duration": 539,
    "start_time": "2022-02-16T13:15:06.394Z"
   },
   {
    "duration": 382,
    "start_time": "2022-02-16T13:15:06.935Z"
   },
   {
    "duration": 4,
    "start_time": "2022-02-16T13:15:07.319Z"
   },
   {
    "duration": 8,
    "start_time": "2022-02-16T13:15:07.325Z"
   },
   {
    "duration": 370,
    "start_time": "2022-02-16T13:15:07.335Z"
   },
   {
    "duration": 4,
    "start_time": "2022-02-16T13:15:07.708Z"
   },
   {
    "duration": 10,
    "start_time": "2022-02-16T13:15:07.714Z"
   },
   {
    "duration": 97,
    "start_time": "2022-02-17T06:13:37.148Z"
   },
   {
    "duration": 94,
    "start_time": "2022-02-17T06:13:44.905Z"
   },
   {
    "duration": 1059,
    "start_time": "2022-02-17T06:15:28.083Z"
   },
   {
    "duration": 226,
    "start_time": "2022-02-17T06:15:29.144Z"
   },
   {
    "duration": 2,
    "start_time": "2022-02-17T06:15:29.372Z"
   },
   {
    "duration": 11,
    "start_time": "2022-02-17T06:15:29.376Z"
   },
   {
    "duration": 14,
    "start_time": "2022-02-17T06:15:29.388Z"
   },
   {
    "duration": 7,
    "start_time": "2022-02-17T06:15:29.404Z"
   },
   {
    "duration": 3,
    "start_time": "2022-02-17T06:15:29.412Z"
   },
   {
    "duration": 3,
    "start_time": "2022-02-17T06:15:29.417Z"
   },
   {
    "duration": 2,
    "start_time": "2022-02-17T06:15:29.432Z"
   },
   {
    "duration": 5,
    "start_time": "2022-02-17T06:15:29.435Z"
   },
   {
    "duration": 5,
    "start_time": "2022-02-17T06:15:29.441Z"
   },
   {
    "duration": 5,
    "start_time": "2022-02-17T06:15:29.448Z"
   },
   {
    "duration": 10,
    "start_time": "2022-02-17T06:15:29.455Z"
   },
   {
    "duration": 7,
    "start_time": "2022-02-17T06:15:29.467Z"
   },
   {
    "duration": 6,
    "start_time": "2022-02-17T06:15:29.475Z"
   },
   {
    "duration": 10,
    "start_time": "2022-02-17T06:15:29.482Z"
   },
   {
    "duration": 10,
    "start_time": "2022-02-17T06:15:29.493Z"
   },
   {
    "duration": 10,
    "start_time": "2022-02-17T06:15:29.504Z"
   },
   {
    "duration": 16,
    "start_time": "2022-02-17T06:15:29.516Z"
   },
   {
    "duration": 320,
    "start_time": "2022-02-17T06:15:37.599Z"
   },
   {
    "duration": 381,
    "start_time": "2022-02-17T07:53:46.971Z"
   },
   {
    "duration": 4,
    "start_time": "2022-02-17T07:54:01.342Z"
   },
   {
    "duration": 242,
    "start_time": "2022-02-17T07:54:01.351Z"
   },
   {
    "duration": 2,
    "start_time": "2022-02-17T07:54:01.595Z"
   },
   {
    "duration": 11,
    "start_time": "2022-02-17T07:54:01.598Z"
   },
   {
    "duration": 16,
    "start_time": "2022-02-17T07:54:01.611Z"
   },
   {
    "duration": 8,
    "start_time": "2022-02-17T07:54:01.628Z"
   },
   {
    "duration": 4,
    "start_time": "2022-02-17T07:54:01.637Z"
   },
   {
    "duration": 3,
    "start_time": "2022-02-17T07:54:01.643Z"
   },
   {
    "duration": 6,
    "start_time": "2022-02-17T07:54:01.647Z"
   },
   {
    "duration": 7,
    "start_time": "2022-02-17T07:54:01.655Z"
   },
   {
    "duration": 15,
    "start_time": "2022-02-17T07:54:01.664Z"
   },
   {
    "duration": 10,
    "start_time": "2022-02-17T07:54:01.680Z"
   },
   {
    "duration": 13,
    "start_time": "2022-02-17T07:54:01.692Z"
   },
   {
    "duration": 8,
    "start_time": "2022-02-17T07:54:01.707Z"
   },
   {
    "duration": 15,
    "start_time": "2022-02-17T07:54:01.716Z"
   },
   {
    "duration": 5,
    "start_time": "2022-02-17T07:54:01.733Z"
   },
   {
    "duration": 8,
    "start_time": "2022-02-17T07:54:01.740Z"
   },
   {
    "duration": 6,
    "start_time": "2022-02-17T07:54:01.750Z"
   },
   {
    "duration": 13,
    "start_time": "2022-02-17T07:54:01.757Z"
   },
   {
    "duration": 293,
    "start_time": "2022-02-17T07:54:01.771Z"
   },
   {
    "duration": 6,
    "start_time": "2022-02-17T07:54:02.066Z"
   },
   {
    "duration": 23,
    "start_time": "2022-02-17T07:54:02.074Z"
   },
   {
    "duration": 596,
    "start_time": "2022-02-17T07:54:02.098Z"
   },
   {
    "duration": 277,
    "start_time": "2022-02-17T07:54:02.696Z"
   },
   {
    "duration": 5,
    "start_time": "2022-02-17T07:54:02.975Z"
   },
   {
    "duration": 5,
    "start_time": "2022-02-17T07:54:02.982Z"
   },
   {
    "duration": 219,
    "start_time": "2022-02-17T07:54:04.129Z"
   },
   {
    "duration": 25,
    "start_time": "2022-02-17T07:55:41.941Z"
   },
   {
    "duration": 305,
    "start_time": "2022-02-17T07:56:07.690Z"
   },
   {
    "duration": 214,
    "start_time": "2022-02-17T07:57:02.547Z"
   },
   {
    "duration": 18,
    "start_time": "2022-02-17T07:58:54.102Z"
   },
   {
    "duration": 12,
    "start_time": "2022-02-17T07:59:10.330Z"
   },
   {
    "duration": 17,
    "start_time": "2022-02-17T07:59:20.945Z"
   },
   {
    "duration": 16,
    "start_time": "2022-02-17T07:59:44.171Z"
   },
   {
    "duration": 5,
    "start_time": "2022-02-17T08:00:10.538Z"
   },
   {
    "duration": 19,
    "start_time": "2022-02-17T08:00:13.244Z"
   },
   {
    "duration": 23,
    "start_time": "2022-02-17T08:00:51.764Z"
   },
   {
    "duration": 26,
    "start_time": "2022-02-17T08:06:01.578Z"
   },
   {
    "duration": 18,
    "start_time": "2022-02-17T08:06:27.203Z"
   },
   {
    "duration": 214,
    "start_time": "2022-02-17T08:06:49.490Z"
   },
   {
    "duration": 227,
    "start_time": "2022-02-17T08:14:34.804Z"
   },
   {
    "duration": 261,
    "start_time": "2022-02-17T08:14:43.896Z"
   },
   {
    "duration": 1156,
    "start_time": "2022-02-17T09:46:52.475Z"
   },
   {
    "duration": 259,
    "start_time": "2022-02-17T09:46:53.633Z"
   },
   {
    "duration": 2,
    "start_time": "2022-02-17T09:46:53.893Z"
   },
   {
    "duration": 19,
    "start_time": "2022-02-17T09:46:53.897Z"
   },
   {
    "duration": 28,
    "start_time": "2022-02-17T09:46:53.918Z"
   },
   {
    "duration": 9,
    "start_time": "2022-02-17T09:46:53.948Z"
   },
   {
    "duration": 23,
    "start_time": "2022-02-17T09:46:53.958Z"
   },
   {
    "duration": 17,
    "start_time": "2022-02-17T09:46:53.983Z"
   },
   {
    "duration": 26,
    "start_time": "2022-02-17T09:46:54.001Z"
   },
   {
    "duration": 17,
    "start_time": "2022-02-17T09:46:54.029Z"
   },
   {
    "duration": 27,
    "start_time": "2022-02-17T09:46:54.048Z"
   },
   {
    "duration": 22,
    "start_time": "2022-02-17T09:46:54.078Z"
   },
   {
    "duration": 26,
    "start_time": "2022-02-17T09:46:54.102Z"
   },
   {
    "duration": 12,
    "start_time": "2022-02-17T09:46:54.130Z"
   },
   {
    "duration": 14,
    "start_time": "2022-02-17T09:46:54.144Z"
   },
   {
    "duration": 22,
    "start_time": "2022-02-17T09:46:54.160Z"
   },
   {
    "duration": 15,
    "start_time": "2022-02-17T09:46:54.184Z"
   },
   {
    "duration": 9,
    "start_time": "2022-02-17T09:46:54.200Z"
   },
   {
    "duration": 13,
    "start_time": "2022-02-17T09:46:54.210Z"
   },
   {
    "duration": 314,
    "start_time": "2022-02-17T09:46:54.224Z"
   },
   {
    "duration": 6,
    "start_time": "2022-02-17T09:46:54.540Z"
   },
   {
    "duration": 31,
    "start_time": "2022-02-17T09:46:54.548Z"
   },
   {
    "duration": 591,
    "start_time": "2022-02-17T09:46:54.582Z"
   },
   {
    "duration": 217,
    "start_time": "2022-02-17T09:46:55.175Z"
   },
   {
    "duration": 6,
    "start_time": "2022-02-17T09:46:55.394Z"
   },
   {
    "duration": 30,
    "start_time": "2022-02-17T09:46:55.401Z"
   },
   {
    "duration": 34,
    "start_time": "2022-02-17T09:46:55.432Z"
   },
   {
    "duration": 15,
    "start_time": "2022-02-17T09:46:55.468Z"
   },
   {
    "duration": 232,
    "start_time": "2022-02-17T09:46:55.484Z"
   },
   {
    "duration": 758,
    "start_time": "2022-02-17T09:46:55.717Z"
   },
   {
    "duration": 870,
    "start_time": "2022-02-17T09:46:56.477Z"
   },
   {
    "duration": 1172,
    "start_time": "2022-02-17T09:46:57.349Z"
   },
   {
    "duration": 20,
    "start_time": "2022-02-17T09:46:58.523Z"
   },
   {
    "duration": 30,
    "start_time": "2022-02-17T09:46:58.545Z"
   },
   {
    "duration": 360,
    "start_time": "2022-02-17T09:46:58.577Z"
   },
   {
    "duration": 58,
    "start_time": "2022-02-17T09:46:58.939Z"
   },
   {
    "duration": 617,
    "start_time": "2022-02-17T09:46:58.999Z"
   },
   {
    "duration": 60,
    "start_time": "2022-02-17T09:46:59.619Z"
   },
   {
    "duration": 955,
    "start_time": "2022-02-17T09:46:59.681Z"
   },
   {
    "duration": 38,
    "start_time": "2022-02-17T09:47:00.638Z"
   },
   {
    "duration": 412,
    "start_time": "2022-02-17T09:47:00.677Z"
   },
   {
    "duration": 304,
    "start_time": "2022-02-17T09:47:01.091Z"
   },
   {
    "duration": 3,
    "start_time": "2022-02-17T09:47:01.397Z"
   },
   {
    "duration": 10,
    "start_time": "2022-02-17T09:47:01.402Z"
   },
   {
    "duration": 296,
    "start_time": "2022-02-17T09:47:01.414Z"
   },
   {
    "duration": 3,
    "start_time": "2022-02-17T09:47:01.712Z"
   },
   {
    "duration": 18,
    "start_time": "2022-02-17T09:47:01.717Z"
   },
   {
    "duration": 203,
    "start_time": "2022-02-17T09:50:00.556Z"
   },
   {
    "duration": 4,
    "start_time": "2022-02-17T09:50:09.676Z"
   },
   {
    "duration": 265,
    "start_time": "2022-02-17T09:50:09.682Z"
   },
   {
    "duration": 3,
    "start_time": "2022-02-17T09:50:09.949Z"
   },
   {
    "duration": 9,
    "start_time": "2022-02-17T09:50:09.954Z"
   },
   {
    "duration": 22,
    "start_time": "2022-02-17T09:50:09.966Z"
   },
   {
    "duration": 12,
    "start_time": "2022-02-17T09:50:09.990Z"
   },
   {
    "duration": 29,
    "start_time": "2022-02-17T09:50:10.005Z"
   },
   {
    "duration": 5,
    "start_time": "2022-02-17T09:50:10.037Z"
   },
   {
    "duration": 3,
    "start_time": "2022-02-17T09:50:10.044Z"
   },
   {
    "duration": 11,
    "start_time": "2022-02-17T09:50:10.049Z"
   },
   {
    "duration": 7,
    "start_time": "2022-02-17T09:50:10.061Z"
   },
   {
    "duration": 8,
    "start_time": "2022-02-17T09:50:10.069Z"
   },
   {
    "duration": 16,
    "start_time": "2022-02-17T09:50:10.078Z"
   },
   {
    "duration": 7,
    "start_time": "2022-02-17T09:50:10.096Z"
   },
   {
    "duration": 27,
    "start_time": "2022-02-17T09:50:10.105Z"
   },
   {
    "duration": 120,
    "start_time": "2022-02-17T09:50:10.134Z"
   },
   {
    "duration": 4,
    "start_time": "2022-02-17T09:50:10.256Z"
   },
   {
    "duration": 5,
    "start_time": "2022-02-17T09:50:10.262Z"
   },
   {
    "duration": 5,
    "start_time": "2022-02-17T09:50:10.270Z"
   },
   {
    "duration": 333,
    "start_time": "2022-02-17T09:50:10.277Z"
   },
   {
    "duration": 7,
    "start_time": "2022-02-17T09:50:10.611Z"
   },
   {
    "duration": 25,
    "start_time": "2022-02-17T09:50:10.632Z"
   },
   {
    "duration": 587,
    "start_time": "2022-02-17T09:50:10.659Z"
   },
   {
    "duration": 222,
    "start_time": "2022-02-17T09:50:11.247Z"
   },
   {
    "duration": 7,
    "start_time": "2022-02-17T09:50:11.472Z"
   },
   {
    "duration": 8,
    "start_time": "2022-02-17T09:50:11.481Z"
   },
   {
    "duration": 43,
    "start_time": "2022-02-17T09:50:11.490Z"
   },
   {
    "duration": 23,
    "start_time": "2022-02-17T09:50:13.558Z"
   },
   {
    "duration": 197,
    "start_time": "2022-02-17T09:50:14.468Z"
   },
   {
    "duration": 388,
    "start_time": "2022-02-17T09:52:53.477Z"
   },
   {
    "duration": 4,
    "start_time": "2022-02-17T09:53:22.089Z"
   },
   {
    "duration": 7,
    "start_time": "2022-02-17T09:53:33.100Z"
   },
   {
    "duration": 411,
    "start_time": "2022-02-17T09:58:48.103Z"
   },
   {
    "duration": 447,
    "start_time": "2022-02-17T09:59:13.133Z"
   },
   {
    "duration": 434,
    "start_time": "2022-02-17T09:59:22.016Z"
   },
   {
    "duration": 304,
    "start_time": "2022-02-17T10:18:43.022Z"
   },
   {
    "duration": 315,
    "start_time": "2022-02-17T10:18:51.097Z"
   },
   {
    "duration": 320,
    "start_time": "2022-02-17T10:19:00.842Z"
   },
   {
    "duration": 691,
    "start_time": "2022-02-17T10:19:04.233Z"
   },
   {
    "duration": 4,
    "start_time": "2022-02-17T10:21:25.196Z"
   },
   {
    "duration": 422,
    "start_time": "2022-02-17T10:21:39.251Z"
   },
   {
    "duration": 1513,
    "start_time": "2022-02-17T12:42:29.025Z"
   },
   {
    "duration": 1203,
    "start_time": "2022-02-17T12:42:52.862Z"
   },
   {
    "duration": 2222,
    "start_time": "2022-02-17T12:43:04.247Z"
   },
   {
    "duration": 317,
    "start_time": "2022-02-17T12:43:50.027Z"
   },
   {
    "duration": 404,
    "start_time": "2022-02-17T12:44:14.363Z"
   },
   {
    "duration": 298,
    "start_time": "2022-02-17T12:44:40.535Z"
   },
   {
    "duration": 321,
    "start_time": "2022-02-17T12:45:05.736Z"
   },
   {
    "duration": 874,
    "start_time": "2022-02-17T12:47:15.160Z"
   },
   {
    "duration": 867,
    "start_time": "2022-02-17T12:47:57.015Z"
   },
   {
    "duration": 866,
    "start_time": "2022-02-17T12:48:30.768Z"
   },
   {
    "duration": 4,
    "start_time": "2022-02-17T12:48:59.043Z"
   },
   {
    "duration": 256,
    "start_time": "2022-02-17T12:48:59.051Z"
   },
   {
    "duration": 2,
    "start_time": "2022-02-17T12:48:59.309Z"
   },
   {
    "duration": 13,
    "start_time": "2022-02-17T12:48:59.314Z"
   },
   {
    "duration": 18,
    "start_time": "2022-02-17T12:48:59.329Z"
   },
   {
    "duration": 10,
    "start_time": "2022-02-17T12:48:59.349Z"
   },
   {
    "duration": 3,
    "start_time": "2022-02-17T12:48:59.361Z"
   },
   {
    "duration": 6,
    "start_time": "2022-02-17T12:48:59.365Z"
   },
   {
    "duration": 3,
    "start_time": "2022-02-17T12:48:59.373Z"
   },
   {
    "duration": 117,
    "start_time": "2022-02-17T12:48:59.379Z"
   },
   {
    "duration": 5,
    "start_time": "2022-02-17T12:48:59.498Z"
   },
   {
    "duration": 6,
    "start_time": "2022-02-17T12:48:59.504Z"
   },
   {
    "duration": 24,
    "start_time": "2022-02-17T12:48:59.512Z"
   },
   {
    "duration": 9,
    "start_time": "2022-02-17T12:48:59.538Z"
   },
   {
    "duration": 4,
    "start_time": "2022-02-17T12:48:59.548Z"
   },
   {
    "duration": 136,
    "start_time": "2022-02-17T12:48:59.553Z"
   },
   {
    "duration": 4,
    "start_time": "2022-02-17T12:48:59.691Z"
   },
   {
    "duration": 5,
    "start_time": "2022-02-17T12:48:59.697Z"
   },
   {
    "duration": 5,
    "start_time": "2022-02-17T12:48:59.703Z"
   },
   {
    "duration": 318,
    "start_time": "2022-02-17T12:48:59.710Z"
   },
   {
    "duration": 7,
    "start_time": "2022-02-17T12:49:00.029Z"
   },
   {
    "duration": 23,
    "start_time": "2022-02-17T12:49:00.038Z"
   },
   {
    "duration": 772,
    "start_time": "2022-02-17T12:49:00.062Z"
   },
   {
    "duration": 328,
    "start_time": "2022-02-17T12:49:00.836Z"
   },
   {
    "duration": 6,
    "start_time": "2022-02-17T12:49:01.166Z"
   },
   {
    "duration": 10,
    "start_time": "2022-02-17T12:49:01.174Z"
   },
   {
    "duration": 25,
    "start_time": "2022-02-17T12:49:01.186Z"
   },
   {
    "duration": 309,
    "start_time": "2022-02-17T12:49:01.234Z"
   },
   {
    "duration": 656,
    "start_time": "2022-02-17T12:49:01.545Z"
   },
   {
    "duration": 4,
    "start_time": "2022-02-17T12:49:02.203Z"
   },
   {
    "duration": 4,
    "start_time": "2022-02-17T12:49:03.094Z"
   },
   {
    "duration": 1205,
    "start_time": "2022-02-17T12:49:03.586Z"
   },
   {
    "duration": 1497,
    "start_time": "2022-02-17T12:50:04.939Z"
   },
   {
    "duration": 2253,
    "start_time": "2022-02-17T12:50:19.415Z"
   },
   {
    "duration": 1414,
    "start_time": "2022-02-17T12:50:42.751Z"
   },
   {
    "duration": 331,
    "start_time": "2022-02-17T12:51:35.961Z"
   },
   {
    "duration": 918,
    "start_time": "2022-02-17T12:51:49.069Z"
   },
   {
    "duration": 1436,
    "start_time": "2022-02-17T12:52:16.590Z"
   },
   {
    "duration": 1122,
    "start_time": "2022-02-17T12:54:03.647Z"
   },
   {
    "duration": 657,
    "start_time": "2022-02-17T12:54:38.552Z"
   },
   {
    "duration": 830,
    "start_time": "2022-02-17T12:55:03.312Z"
   },
   {
    "duration": 911,
    "start_time": "2022-02-17T12:55:14.368Z"
   },
   {
    "duration": 669,
    "start_time": "2022-02-17T12:55:26.688Z"
   },
   {
    "duration": 801,
    "start_time": "2022-02-17T12:56:13.215Z"
   },
   {
    "duration": 675,
    "start_time": "2022-02-17T13:18:13.035Z"
   },
   {
    "duration": 645,
    "start_time": "2022-02-17T13:18:42.092Z"
   },
   {
    "duration": 1192,
    "start_time": "2022-02-17T13:19:26.272Z"
   },
   {
    "duration": 1144,
    "start_time": "2022-02-17T13:21:53.908Z"
   },
   {
    "duration": 671,
    "start_time": "2022-02-17T13:22:05.947Z"
   },
   {
    "duration": 980,
    "start_time": "2022-02-17T13:22:17.051Z"
   },
   {
    "duration": 117,
    "start_time": "2022-02-17T13:22:27.750Z"
   },
   {
    "duration": 1140,
    "start_time": "2022-02-17T13:22:38.506Z"
   },
   {
    "duration": 649,
    "start_time": "2022-02-17T13:22:53.036Z"
   },
   {
    "duration": 354,
    "start_time": "2022-02-17T13:42:09.174Z"
   },
   {
    "duration": 1081,
    "start_time": "2022-02-17T13:42:45.606Z"
   },
   {
    "duration": 1134,
    "start_time": "2022-02-17T13:45:59.952Z"
   },
   {
    "duration": 22,
    "start_time": "2022-02-17T13:49:58.238Z"
   },
   {
    "duration": 23,
    "start_time": "2022-02-17T13:50:07.070Z"
   },
   {
    "duration": 9,
    "start_time": "2022-02-17T14:42:33.513Z"
   },
   {
    "duration": 15,
    "start_time": "2022-02-17T14:42:36.779Z"
   },
   {
    "duration": 16,
    "start_time": "2022-02-17T14:42:43.935Z"
   },
   {
    "duration": 351,
    "start_time": "2022-02-17T14:52:19.984Z"
   },
   {
    "duration": 217,
    "start_time": "2022-02-17T14:52:32.829Z"
   },
   {
    "duration": 303,
    "start_time": "2022-02-17T14:52:39.291Z"
   },
   {
    "duration": 105,
    "start_time": "2022-02-17T15:13:48.897Z"
   },
   {
    "duration": 38,
    "start_time": "2022-02-17T15:15:09.801Z"
   },
   {
    "duration": 484,
    "start_time": "2022-02-17T17:54:11.810Z"
   },
   {
    "duration": 519,
    "start_time": "2022-02-17T17:54:26.083Z"
   },
   {
    "duration": 464,
    "start_time": "2022-02-17T17:54:44.770Z"
   },
   {
    "duration": 518,
    "start_time": "2022-02-17T17:54:51.305Z"
   },
   {
    "duration": 484,
    "start_time": "2022-02-17T17:55:03.475Z"
   },
   {
    "duration": 580,
    "start_time": "2022-02-17T17:55:08.845Z"
   },
   {
    "duration": 479,
    "start_time": "2022-02-17T17:55:12.372Z"
   },
   {
    "duration": 33,
    "start_time": "2022-02-17T17:58:27.628Z"
   },
   {
    "duration": 552,
    "start_time": "2022-02-17T18:00:04.915Z"
   },
   {
    "duration": 5,
    "start_time": "2022-02-17T18:02:31.530Z"
   },
   {
    "duration": 270,
    "start_time": "2022-02-17T18:02:31.537Z"
   },
   {
    "duration": 3,
    "start_time": "2022-02-17T18:02:31.809Z"
   },
   {
    "duration": 11,
    "start_time": "2022-02-17T18:02:31.814Z"
   },
   {
    "duration": 13,
    "start_time": "2022-02-17T18:02:31.827Z"
   },
   {
    "duration": 9,
    "start_time": "2022-02-17T18:02:31.841Z"
   },
   {
    "duration": 4,
    "start_time": "2022-02-17T18:02:31.852Z"
   },
   {
    "duration": 3,
    "start_time": "2022-02-17T18:02:31.858Z"
   },
   {
    "duration": 3,
    "start_time": "2022-02-17T18:02:31.864Z"
   },
   {
    "duration": 8,
    "start_time": "2022-02-17T18:02:31.869Z"
   },
   {
    "duration": 9,
    "start_time": "2022-02-17T18:02:31.879Z"
   },
   {
    "duration": 7,
    "start_time": "2022-02-17T18:02:31.890Z"
   },
   {
    "duration": 10,
    "start_time": "2022-02-17T18:02:31.931Z"
   },
   {
    "duration": 8,
    "start_time": "2022-02-17T18:02:31.942Z"
   },
   {
    "duration": 5,
    "start_time": "2022-02-17T18:02:31.952Z"
   },
   {
    "duration": 128,
    "start_time": "2022-02-17T18:02:31.959Z"
   },
   {
    "duration": 4,
    "start_time": "2022-02-17T18:02:32.089Z"
   },
   {
    "duration": 4,
    "start_time": "2022-02-17T18:02:32.095Z"
   },
   {
    "duration": 5,
    "start_time": "2022-02-17T18:02:32.101Z"
   },
   {
    "duration": 309,
    "start_time": "2022-02-17T18:02:32.108Z"
   },
   {
    "duration": 15,
    "start_time": "2022-02-17T18:02:32.419Z"
   },
   {
    "duration": 31,
    "start_time": "2022-02-17T18:02:32.435Z"
   },
   {
    "duration": 911,
    "start_time": "2022-02-17T18:02:32.469Z"
   },
   {
    "duration": 217,
    "start_time": "2022-02-17T18:02:33.382Z"
   },
   {
    "duration": 6,
    "start_time": "2022-02-17T18:02:33.600Z"
   },
   {
    "duration": 9,
    "start_time": "2022-02-17T18:02:33.608Z"
   },
   {
    "duration": 32,
    "start_time": "2022-02-17T18:02:33.621Z"
   },
   {
    "duration": 215,
    "start_time": "2022-02-17T18:02:33.655Z"
   },
   {
    "duration": 1046,
    "start_time": "2022-02-17T18:02:33.872Z"
   },
   {
    "duration": 914,
    "start_time": "2022-02-17T18:02:34.919Z"
   },
   {
    "duration": 903,
    "start_time": "2022-02-17T18:02:35.835Z"
   },
   {
    "duration": 17,
    "start_time": "2022-02-17T18:02:36.740Z"
   },
   {
    "duration": 15,
    "start_time": "2022-02-17T18:02:36.758Z"
   },
   {
    "duration": 416,
    "start_time": "2022-02-17T18:02:36.775Z"
   },
   {
    "duration": 47,
    "start_time": "2022-02-17T18:02:37.193Z"
   },
   {
    "duration": 498,
    "start_time": "2022-02-17T18:02:37.242Z"
   },
   {
    "duration": 33,
    "start_time": "2022-02-17T18:02:37.741Z"
   },
   {
    "duration": 598,
    "start_time": "2022-02-17T18:02:37.776Z"
   },
   {
    "duration": 581,
    "start_time": "2022-02-17T18:02:41.184Z"
   },
   {
    "duration": 828,
    "start_time": "2022-02-17T18:03:25.591Z"
   },
   {
    "duration": 138,
    "start_time": "2022-02-17T18:03:33.563Z"
   },
   {
    "duration": 395,
    "start_time": "2022-02-17T18:03:46.498Z"
   },
   {
    "duration": 4,
    "start_time": "2022-02-17T18:09:21.903Z"
   },
   {
    "duration": 243,
    "start_time": "2022-02-17T18:09:21.909Z"
   },
   {
    "duration": 3,
    "start_time": "2022-02-17T18:09:22.154Z"
   },
   {
    "duration": 10,
    "start_time": "2022-02-17T18:09:22.159Z"
   },
   {
    "duration": 16,
    "start_time": "2022-02-17T18:09:22.171Z"
   },
   {
    "duration": 45,
    "start_time": "2022-02-17T18:09:22.189Z"
   },
   {
    "duration": 5,
    "start_time": "2022-02-17T18:09:22.236Z"
   },
   {
    "duration": 4,
    "start_time": "2022-02-17T18:09:22.244Z"
   },
   {
    "duration": 3,
    "start_time": "2022-02-17T18:09:22.250Z"
   },
   {
    "duration": 5,
    "start_time": "2022-02-17T18:09:22.255Z"
   },
   {
    "duration": 7,
    "start_time": "2022-02-17T18:09:22.261Z"
   },
   {
    "duration": 8,
    "start_time": "2022-02-17T18:09:22.270Z"
   },
   {
    "duration": 52,
    "start_time": "2022-02-17T18:09:22.280Z"
   },
   {
    "duration": 7,
    "start_time": "2022-02-17T18:09:22.334Z"
   },
   {
    "duration": 4,
    "start_time": "2022-02-17T18:09:22.342Z"
   },
   {
    "duration": 136,
    "start_time": "2022-02-17T18:09:22.348Z"
   },
   {
    "duration": 5,
    "start_time": "2022-02-17T18:09:22.485Z"
   },
   {
    "duration": 5,
    "start_time": "2022-02-17T18:09:22.492Z"
   },
   {
    "duration": 5,
    "start_time": "2022-02-17T18:09:22.499Z"
   },
   {
    "duration": 359,
    "start_time": "2022-02-17T18:09:22.506Z"
   },
   {
    "duration": 8,
    "start_time": "2022-02-17T18:09:22.867Z"
   },
   {
    "duration": 25,
    "start_time": "2022-02-17T18:09:22.877Z"
   },
   {
    "duration": 510,
    "start_time": "2022-02-17T18:09:22.931Z"
   },
   {
    "duration": 235,
    "start_time": "2022-02-17T18:09:23.444Z"
   },
   {
    "duration": 6,
    "start_time": "2022-02-17T18:09:23.681Z"
   },
   {
    "duration": 9,
    "start_time": "2022-02-17T18:09:23.688Z"
   },
   {
    "duration": 48,
    "start_time": "2022-02-17T18:09:23.699Z"
   },
   {
    "duration": 321,
    "start_time": "2022-02-17T18:09:23.749Z"
   },
   {
    "duration": 793,
    "start_time": "2022-02-17T18:09:24.072Z"
   },
   {
    "duration": 823,
    "start_time": "2022-02-17T18:09:24.867Z"
   },
   {
    "duration": 867,
    "start_time": "2022-02-17T18:09:25.692Z"
   },
   {
    "duration": 22,
    "start_time": "2022-02-17T18:09:26.561Z"
   },
   {
    "duration": 19,
    "start_time": "2022-02-17T18:09:26.586Z"
   },
   {
    "duration": 360,
    "start_time": "2022-02-17T18:09:26.607Z"
   },
   {
    "duration": 35,
    "start_time": "2022-02-17T18:09:26.969Z"
   },
   {
    "duration": 520,
    "start_time": "2022-02-17T18:09:27.006Z"
   },
   {
    "duration": 35,
    "start_time": "2022-02-17T18:09:27.527Z"
   },
   {
    "duration": 795,
    "start_time": "2022-02-17T18:09:27.564Z"
   },
   {
    "duration": 37,
    "start_time": "2022-02-17T18:09:28.361Z"
   },
   {
    "duration": 441,
    "start_time": "2022-02-17T18:09:28.400Z"
   },
   {
    "duration": 318,
    "start_time": "2022-02-17T18:09:28.843Z"
   },
   {
    "duration": 4,
    "start_time": "2022-02-17T18:09:29.163Z"
   },
   {
    "duration": 5,
    "start_time": "2022-02-17T18:09:29.169Z"
   },
   {
    "duration": 308,
    "start_time": "2022-02-17T18:09:29.176Z"
   },
   {
    "duration": 2,
    "start_time": "2022-02-17T18:09:29.486Z"
   },
   {
    "duration": 6,
    "start_time": "2022-02-17T18:09:29.490Z"
   },
   {
    "duration": 682,
    "start_time": "2022-02-17T18:29:11.376Z"
   },
   {
    "duration": 870,
    "start_time": "2022-02-17T18:29:19.342Z"
   },
   {
    "duration": 100,
    "start_time": "2022-02-17T19:04:09.283Z"
   },
   {
    "duration": 4,
    "start_time": "2022-02-17T19:05:39.246Z"
   },
   {
    "duration": 258,
    "start_time": "2022-02-17T19:05:39.251Z"
   },
   {
    "duration": 2,
    "start_time": "2022-02-17T19:05:39.511Z"
   },
   {
    "duration": 11,
    "start_time": "2022-02-17T19:05:39.515Z"
   },
   {
    "duration": 14,
    "start_time": "2022-02-17T19:05:39.528Z"
   },
   {
    "duration": 8,
    "start_time": "2022-02-17T19:05:39.543Z"
   },
   {
    "duration": 4,
    "start_time": "2022-02-17T19:05:39.553Z"
   },
   {
    "duration": 4,
    "start_time": "2022-02-17T19:05:39.559Z"
   },
   {
    "duration": 4,
    "start_time": "2022-02-17T19:05:39.565Z"
   },
   {
    "duration": 10,
    "start_time": "2022-02-17T19:05:39.571Z"
   },
   {
    "duration": 12,
    "start_time": "2022-02-17T19:05:39.582Z"
   },
   {
    "duration": 8,
    "start_time": "2022-02-17T19:05:39.596Z"
   },
   {
    "duration": 31,
    "start_time": "2022-02-17T19:05:39.605Z"
   },
   {
    "duration": 7,
    "start_time": "2022-02-17T19:05:39.638Z"
   },
   {
    "duration": 7,
    "start_time": "2022-02-17T19:05:39.647Z"
   },
   {
    "duration": 125,
    "start_time": "2022-02-17T19:05:39.656Z"
   },
   {
    "duration": 4,
    "start_time": "2022-02-17T19:05:39.783Z"
   },
   {
    "duration": 4,
    "start_time": "2022-02-17T19:05:39.789Z"
   },
   {
    "duration": 5,
    "start_time": "2022-02-17T19:05:39.796Z"
   },
   {
    "duration": 329,
    "start_time": "2022-02-17T19:05:39.803Z"
   },
   {
    "duration": 8,
    "start_time": "2022-02-17T19:05:40.134Z"
   },
   {
    "duration": 34,
    "start_time": "2022-02-17T19:05:40.144Z"
   },
   {
    "duration": 502,
    "start_time": "2022-02-17T19:05:40.180Z"
   },
   {
    "duration": 219,
    "start_time": "2022-02-17T19:05:40.684Z"
   },
   {
    "duration": 6,
    "start_time": "2022-02-17T19:05:40.905Z"
   },
   {
    "duration": 21,
    "start_time": "2022-02-17T19:05:40.912Z"
   },
   {
    "duration": 23,
    "start_time": "2022-02-17T19:05:40.935Z"
   },
   {
    "duration": 206,
    "start_time": "2022-02-17T19:05:40.960Z"
   },
   {
    "duration": 681,
    "start_time": "2022-02-17T19:05:41.168Z"
   },
   {
    "duration": 888,
    "start_time": "2022-02-17T19:05:41.850Z"
   },
   {
    "duration": 1278,
    "start_time": "2022-02-17T19:05:42.740Z"
   },
   {
    "duration": 24,
    "start_time": "2022-02-17T19:05:44.020Z"
   },
   {
    "duration": 16,
    "start_time": "2022-02-17T19:05:44.046Z"
   },
   {
    "duration": 248,
    "start_time": "2022-02-17T19:05:44.063Z"
   },
   {
    "duration": 47,
    "start_time": "2022-02-17T19:05:44.312Z"
   },
   {
    "duration": 518,
    "start_time": "2022-02-17T19:05:44.360Z"
   },
   {
    "duration": 60,
    "start_time": "2022-02-17T19:05:44.880Z"
   },
   {
    "duration": 555,
    "start_time": "2022-02-17T19:05:44.942Z"
   },
   {
    "duration": 58,
    "start_time": "2022-02-17T19:05:45.499Z"
   },
   {
    "duration": 646,
    "start_time": "2022-02-17T19:05:45.560Z"
   },
   {
    "duration": 484,
    "start_time": "2022-02-17T19:05:46.208Z"
   },
   {
    "duration": 4,
    "start_time": "2022-02-17T19:05:46.694Z"
   },
   {
    "duration": 6,
    "start_time": "2022-02-17T19:05:46.700Z"
   },
   {
    "duration": 406,
    "start_time": "2022-02-17T19:05:46.708Z"
   },
   {
    "duration": 3,
    "start_time": "2022-02-17T19:05:47.116Z"
   },
   {
    "duration": 15,
    "start_time": "2022-02-17T19:05:47.121Z"
   },
   {
    "duration": 656,
    "start_time": "2022-02-17T19:09:40.147Z"
   },
   {
    "duration": 4,
    "start_time": "2022-02-17T19:09:44.610Z"
   },
   {
    "duration": 251,
    "start_time": "2022-02-17T19:09:44.616Z"
   },
   {
    "duration": 2,
    "start_time": "2022-02-17T19:09:44.869Z"
   },
   {
    "duration": 11,
    "start_time": "2022-02-17T19:09:44.873Z"
   },
   {
    "duration": 14,
    "start_time": "2022-02-17T19:09:44.886Z"
   },
   {
    "duration": 7,
    "start_time": "2022-02-17T19:09:44.901Z"
   },
   {
    "duration": 3,
    "start_time": "2022-02-17T19:09:44.911Z"
   },
   {
    "duration": 3,
    "start_time": "2022-02-17T19:09:44.931Z"
   },
   {
    "duration": 4,
    "start_time": "2022-02-17T19:09:44.935Z"
   },
   {
    "duration": 8,
    "start_time": "2022-02-17T19:09:44.940Z"
   },
   {
    "duration": 9,
    "start_time": "2022-02-17T19:09:44.950Z"
   },
   {
    "duration": 7,
    "start_time": "2022-02-17T19:09:44.961Z"
   },
   {
    "duration": 16,
    "start_time": "2022-02-17T19:09:44.969Z"
   },
   {
    "duration": 7,
    "start_time": "2022-02-17T19:09:44.987Z"
   },
   {
    "duration": 7,
    "start_time": "2022-02-17T19:09:44.996Z"
   },
   {
    "duration": 136,
    "start_time": "2022-02-17T19:09:45.004Z"
   },
   {
    "duration": 5,
    "start_time": "2022-02-17T19:09:45.141Z"
   },
   {
    "duration": 3,
    "start_time": "2022-02-17T19:09:45.148Z"
   },
   {
    "duration": 4,
    "start_time": "2022-02-17T19:09:45.154Z"
   },
   {
    "duration": 315,
    "start_time": "2022-02-17T19:09:45.159Z"
   },
   {
    "duration": 6,
    "start_time": "2022-02-17T19:09:45.476Z"
   },
   {
    "duration": 23,
    "start_time": "2022-02-17T19:09:45.483Z"
   },
   {
    "duration": 798,
    "start_time": "2022-02-17T19:09:45.508Z"
   },
   {
    "duration": 332,
    "start_time": "2022-02-17T19:09:46.308Z"
   },
   {
    "duration": 8,
    "start_time": "2022-02-17T19:09:46.643Z"
   },
   {
    "duration": 8,
    "start_time": "2022-02-17T19:09:46.653Z"
   },
   {
    "duration": 23,
    "start_time": "2022-02-17T19:09:46.663Z"
   },
   {
    "duration": 217,
    "start_time": "2022-02-17T19:09:46.688Z"
   },
   {
    "duration": 772,
    "start_time": "2022-02-17T19:09:46.907Z"
   },
   {
    "duration": 863,
    "start_time": "2022-02-17T19:09:47.681Z"
   },
   {
    "duration": 894,
    "start_time": "2022-02-17T19:09:48.546Z"
   },
   {
    "duration": 17,
    "start_time": "2022-02-17T19:09:49.442Z"
   },
   {
    "duration": 16,
    "start_time": "2022-02-17T19:09:49.461Z"
   },
   {
    "duration": 350,
    "start_time": "2022-02-17T19:09:49.479Z"
   },
   {
    "duration": 49,
    "start_time": "2022-02-17T19:09:49.832Z"
   },
   {
    "duration": 817,
    "start_time": "2022-02-17T19:09:49.883Z"
   },
   {
    "duration": 64,
    "start_time": "2022-02-17T19:09:50.702Z"
   },
   {
    "duration": 575,
    "start_time": "2022-02-17T19:09:50.768Z"
   },
   {
    "duration": 196,
    "start_time": "2022-02-17T19:09:51.345Z"
   },
   {
    "duration": 422,
    "start_time": "2022-02-17T19:09:51.542Z"
   },
   {
    "duration": 328,
    "start_time": "2022-02-17T19:09:51.966Z"
   },
   {
    "duration": 4,
    "start_time": "2022-02-17T19:09:52.297Z"
   },
   {
    "duration": 6,
    "start_time": "2022-02-17T19:09:52.303Z"
   },
   {
    "duration": 450,
    "start_time": "2022-02-17T19:09:52.311Z"
   },
   {
    "duration": 4,
    "start_time": "2022-02-17T19:09:52.766Z"
   },
   {
    "duration": 9,
    "start_time": "2022-02-17T19:09:52.772Z"
   },
   {
    "duration": 651,
    "start_time": "2022-02-17T19:10:08.504Z"
   },
   {
    "duration": 4,
    "start_time": "2022-02-17T19:10:18.049Z"
   },
   {
    "duration": 234,
    "start_time": "2022-02-17T19:10:18.055Z"
   },
   {
    "duration": 3,
    "start_time": "2022-02-17T19:10:18.291Z"
   },
   {
    "duration": 14,
    "start_time": "2022-02-17T19:10:18.296Z"
   },
   {
    "duration": 15,
    "start_time": "2022-02-17T19:10:18.312Z"
   },
   {
    "duration": 9,
    "start_time": "2022-02-17T19:10:18.329Z"
   },
   {
    "duration": 5,
    "start_time": "2022-02-17T19:10:18.340Z"
   },
   {
    "duration": 3,
    "start_time": "2022-02-17T19:10:18.350Z"
   },
   {
    "duration": 2,
    "start_time": "2022-02-17T19:10:18.356Z"
   },
   {
    "duration": 8,
    "start_time": "2022-02-17T19:10:18.360Z"
   },
   {
    "duration": 13,
    "start_time": "2022-02-17T19:10:18.370Z"
   },
   {
    "duration": 10,
    "start_time": "2022-02-17T19:10:18.385Z"
   },
   {
    "duration": 34,
    "start_time": "2022-02-17T19:10:18.398Z"
   },
   {
    "duration": 6,
    "start_time": "2022-02-17T19:10:18.434Z"
   },
   {
    "duration": 18,
    "start_time": "2022-02-17T19:10:18.442Z"
   },
   {
    "duration": 148,
    "start_time": "2022-02-17T19:10:18.462Z"
   },
   {
    "duration": 6,
    "start_time": "2022-02-17T19:10:18.612Z"
   },
   {
    "duration": 6,
    "start_time": "2022-02-17T19:10:18.620Z"
   },
   {
    "duration": 6,
    "start_time": "2022-02-17T19:10:18.628Z"
   },
   {
    "duration": 320,
    "start_time": "2022-02-17T19:10:18.636Z"
   },
   {
    "duration": 6,
    "start_time": "2022-02-17T19:10:18.957Z"
   },
   {
    "duration": 23,
    "start_time": "2022-02-17T19:10:18.965Z"
   },
   {
    "duration": 537,
    "start_time": "2022-02-17T19:10:18.991Z"
   },
   {
    "duration": 458,
    "start_time": "2022-02-17T19:10:19.530Z"
   },
   {
    "duration": 6,
    "start_time": "2022-02-17T19:10:19.990Z"
   },
   {
    "duration": 9,
    "start_time": "2022-02-17T19:10:19.998Z"
   },
   {
    "duration": 42,
    "start_time": "2022-02-17T19:10:20.008Z"
   },
   {
    "duration": 332,
    "start_time": "2022-02-17T19:10:20.052Z"
   },
   {
    "duration": 699,
    "start_time": "2022-02-17T19:10:20.386Z"
   },
   {
    "duration": 829,
    "start_time": "2022-02-17T19:10:21.087Z"
   },
   {
    "duration": 900,
    "start_time": "2022-02-17T19:10:21.918Z"
   },
   {
    "duration": 27,
    "start_time": "2022-02-17T19:10:22.820Z"
   },
   {
    "duration": 14,
    "start_time": "2022-02-17T19:10:22.849Z"
   },
   {
    "duration": 229,
    "start_time": "2022-02-17T19:10:22.865Z"
   },
   {
    "duration": 46,
    "start_time": "2022-02-17T19:10:23.096Z"
   },
   {
    "duration": 508,
    "start_time": "2022-02-17T19:10:23.144Z"
   },
   {
    "duration": 192,
    "start_time": "2022-02-17T19:10:23.654Z"
   },
   {
    "duration": 594,
    "start_time": "2022-02-17T19:10:23.847Z"
   },
   {
    "duration": 41,
    "start_time": "2022-02-17T19:10:24.443Z"
   },
   {
    "duration": 452,
    "start_time": "2022-02-17T19:10:24.486Z"
   },
   {
    "duration": 297,
    "start_time": "2022-02-17T19:10:24.940Z"
   },
   {
    "duration": 4,
    "start_time": "2022-02-17T19:10:25.238Z"
   },
   {
    "duration": 5,
    "start_time": "2022-02-17T19:10:25.244Z"
   },
   {
    "duration": 291,
    "start_time": "2022-02-17T19:10:25.251Z"
   },
   {
    "duration": 4,
    "start_time": "2022-02-17T19:10:25.544Z"
   },
   {
    "duration": 6,
    "start_time": "2022-02-17T19:10:25.549Z"
   },
   {
    "duration": 4,
    "start_time": "2022-02-17T19:13:39.305Z"
   },
   {
    "duration": 249,
    "start_time": "2022-02-17T19:13:39.311Z"
   },
   {
    "duration": 3,
    "start_time": "2022-02-17T19:13:39.562Z"
   },
   {
    "duration": 11,
    "start_time": "2022-02-17T19:13:39.567Z"
   },
   {
    "duration": 20,
    "start_time": "2022-02-17T19:13:39.580Z"
   },
   {
    "duration": 11,
    "start_time": "2022-02-17T19:13:39.602Z"
   },
   {
    "duration": 16,
    "start_time": "2022-02-17T19:13:39.616Z"
   },
   {
    "duration": 4,
    "start_time": "2022-02-17T19:13:39.634Z"
   },
   {
    "duration": 4,
    "start_time": "2022-02-17T19:13:39.639Z"
   },
   {
    "duration": 5,
    "start_time": "2022-02-17T19:13:39.645Z"
   },
   {
    "duration": 10,
    "start_time": "2022-02-17T19:13:39.651Z"
   },
   {
    "duration": 8,
    "start_time": "2022-02-17T19:13:39.662Z"
   },
   {
    "duration": 13,
    "start_time": "2022-02-17T19:13:39.672Z"
   },
   {
    "duration": 6,
    "start_time": "2022-02-17T19:13:39.687Z"
   },
   {
    "duration": 7,
    "start_time": "2022-02-17T19:13:39.695Z"
   },
   {
    "duration": 144,
    "start_time": "2022-02-17T19:13:39.704Z"
   },
   {
    "duration": 5,
    "start_time": "2022-02-17T19:13:39.850Z"
   },
   {
    "duration": 5,
    "start_time": "2022-02-17T19:13:39.856Z"
   },
   {
    "duration": 4,
    "start_time": "2022-02-17T19:13:39.864Z"
   },
   {
    "duration": 346,
    "start_time": "2022-02-17T19:13:39.870Z"
   },
   {
    "duration": 15,
    "start_time": "2022-02-17T19:13:40.218Z"
   },
   {
    "duration": 23,
    "start_time": "2022-02-17T19:13:40.235Z"
   },
   {
    "duration": 498,
    "start_time": "2022-02-17T19:13:40.260Z"
   },
   {
    "duration": 216,
    "start_time": "2022-02-17T19:13:40.760Z"
   },
   {
    "duration": 6,
    "start_time": "2022-02-17T19:13:40.978Z"
   },
   {
    "duration": 33,
    "start_time": "2022-02-17T19:13:40.986Z"
   },
   {
    "duration": 47,
    "start_time": "2022-02-17T19:13:41.021Z"
   },
   {
    "duration": 490,
    "start_time": "2022-02-17T19:13:41.071Z"
   },
   {
    "duration": 1072,
    "start_time": "2022-02-17T19:13:41.563Z"
   },
   {
    "duration": 1166,
    "start_time": "2022-02-17T19:13:42.637Z"
   },
   {
    "duration": 940,
    "start_time": "2022-02-17T19:13:43.805Z"
   },
   {
    "duration": 16,
    "start_time": "2022-02-17T19:13:44.747Z"
   },
   {
    "duration": 15,
    "start_time": "2022-02-17T19:13:44.764Z"
   },
   {
    "duration": 243,
    "start_time": "2022-02-17T19:13:44.780Z"
   },
   {
    "duration": 37,
    "start_time": "2022-02-17T19:13:45.025Z"
   },
   {
    "duration": 507,
    "start_time": "2022-02-17T19:13:45.064Z"
   },
   {
    "duration": 35,
    "start_time": "2022-02-17T19:13:45.573Z"
   },
   {
    "duration": 716,
    "start_time": "2022-02-17T19:13:45.610Z"
   },
   {
    "duration": 38,
    "start_time": "2022-02-17T19:13:46.328Z"
   },
   {
    "duration": 438,
    "start_time": "2022-02-17T19:13:46.367Z"
   },
   {
    "duration": 301,
    "start_time": "2022-02-17T19:13:46.807Z"
   },
   {
    "duration": 4,
    "start_time": "2022-02-17T19:13:47.110Z"
   },
   {
    "duration": 18,
    "start_time": "2022-02-17T19:13:47.116Z"
   },
   {
    "duration": 273,
    "start_time": "2022-02-17T19:13:47.135Z"
   },
   {
    "duration": 4,
    "start_time": "2022-02-17T19:13:47.410Z"
   },
   {
    "duration": 17,
    "start_time": "2022-02-17T19:13:47.416Z"
   },
   {
    "duration": 1197,
    "start_time": "2022-02-17T21:41:07.888Z"
   },
   {
    "duration": 193,
    "start_time": "2022-02-17T21:41:09.087Z"
   },
   {
    "duration": 3,
    "start_time": "2022-02-17T21:41:09.282Z"
   },
   {
    "duration": 12,
    "start_time": "2022-02-17T21:41:09.287Z"
   },
   {
    "duration": 18,
    "start_time": "2022-02-17T21:41:09.301Z"
   },
   {
    "duration": 10,
    "start_time": "2022-02-17T21:41:09.321Z"
   },
   {
    "duration": 8,
    "start_time": "2022-02-17T21:41:09.332Z"
   },
   {
    "duration": 3,
    "start_time": "2022-02-17T21:41:09.370Z"
   },
   {
    "duration": 6,
    "start_time": "2022-02-17T21:41:09.375Z"
   },
   {
    "duration": 7,
    "start_time": "2022-02-17T21:41:09.382Z"
   },
   {
    "duration": 10,
    "start_time": "2022-02-17T21:41:09.391Z"
   },
   {
    "duration": 6,
    "start_time": "2022-02-17T21:41:09.403Z"
   },
   {
    "duration": 13,
    "start_time": "2022-02-17T21:41:09.411Z"
   },
   {
    "duration": 7,
    "start_time": "2022-02-17T21:41:09.426Z"
   },
   {
    "duration": 34,
    "start_time": "2022-02-17T21:41:09.435Z"
   },
   {
    "duration": 8,
    "start_time": "2022-02-17T21:41:09.471Z"
   },
   {
    "duration": 7,
    "start_time": "2022-02-17T21:41:09.481Z"
   },
   {
    "duration": 6,
    "start_time": "2022-02-17T21:41:09.490Z"
   },
   {
    "duration": 7,
    "start_time": "2022-02-17T21:41:09.498Z"
   },
   {
    "duration": 416,
    "start_time": "2022-02-17T21:41:09.507Z"
   },
   {
    "duration": 8,
    "start_time": "2022-02-17T21:41:09.924Z"
   },
   {
    "duration": 47,
    "start_time": "2022-02-17T21:41:09.933Z"
   },
   {
    "duration": 757,
    "start_time": "2022-02-17T21:41:09.983Z"
   },
   {
    "duration": 281,
    "start_time": "2022-02-17T21:41:10.742Z"
   },
   {
    "duration": 6,
    "start_time": "2022-02-17T21:41:11.025Z"
   },
   {
    "duration": 36,
    "start_time": "2022-02-17T21:41:11.033Z"
   },
   {
    "duration": 40,
    "start_time": "2022-02-17T21:41:11.071Z"
   },
   {
    "duration": 292,
    "start_time": "2022-02-17T21:41:11.113Z"
   },
   {
    "duration": 926,
    "start_time": "2022-02-17T21:41:11.406Z"
   },
   {
    "duration": 1169,
    "start_time": "2022-02-17T21:41:12.334Z"
   },
   {
    "duration": 916,
    "start_time": "2022-02-17T21:41:13.505Z"
   },
   {
    "duration": 18,
    "start_time": "2022-02-17T21:41:14.423Z"
   },
   {
    "duration": 34,
    "start_time": "2022-02-17T21:41:14.443Z"
   },
   {
    "duration": 290,
    "start_time": "2022-02-17T21:41:14.479Z"
   },
   {
    "duration": 39,
    "start_time": "2022-02-17T21:41:14.771Z"
   },
   {
    "duration": 731,
    "start_time": "2022-02-17T21:41:14.811Z"
   },
   {
    "duration": 49,
    "start_time": "2022-02-17T21:41:15.545Z"
   },
   {
    "duration": 735,
    "start_time": "2022-02-17T21:41:15.595Z"
   },
   {
    "duration": 57,
    "start_time": "2022-02-17T21:41:16.332Z"
   },
   {
    "duration": 517,
    "start_time": "2022-02-17T21:41:16.391Z"
   },
   {
    "duration": 369,
    "start_time": "2022-02-17T21:41:16.910Z"
   },
   {
    "duration": 4,
    "start_time": "2022-02-17T21:41:17.280Z"
   },
   {
    "duration": 7,
    "start_time": "2022-02-17T21:41:17.285Z"
   },
   {
    "duration": 352,
    "start_time": "2022-02-17T21:41:17.294Z"
   },
   {
    "duration": 4,
    "start_time": "2022-02-17T21:41:17.648Z"
   },
   {
    "duration": 17,
    "start_time": "2022-02-17T21:41:17.653Z"
   },
   {
    "duration": 1203,
    "start_time": "2022-02-17T21:43:30.908Z"
   },
   {
    "duration": 893,
    "start_time": "2022-02-17T21:44:21.567Z"
   },
   {
    "duration": 833,
    "start_time": "2022-02-17T21:44:30.858Z"
   },
   {
    "duration": 792,
    "start_time": "2022-02-17T21:44:54.988Z"
   },
   {
    "duration": 1443,
    "start_time": "2022-02-17T21:45:38.595Z"
   },
   {
    "duration": 942,
    "start_time": "2022-02-17T21:46:17.748Z"
   },
   {
    "duration": 836,
    "start_time": "2022-02-17T21:46:42.098Z"
   },
   {
    "duration": 835,
    "start_time": "2022-02-17T21:46:48.758Z"
   },
   {
    "duration": 852,
    "start_time": "2022-02-17T21:52:29.898Z"
   },
   {
    "duration": 890,
    "start_time": "2022-02-17T21:52:51.908Z"
   },
   {
    "duration": 1188,
    "start_time": "2022-04-11T09:11:51.083Z"
   },
   {
    "duration": 76,
    "start_time": "2022-04-11T09:11:52.273Z"
   },
   {
    "duration": 19,
    "start_time": "2022-04-11T09:11:52.350Z"
   },
   {
    "duration": 16,
    "start_time": "2022-04-11T09:11:52.371Z"
   },
   {
    "duration": 37,
    "start_time": "2022-04-11T09:11:52.388Z"
   },
   {
    "duration": 12,
    "start_time": "2022-04-11T09:11:52.427Z"
   },
   {
    "duration": 7,
    "start_time": "2022-04-11T09:11:52.441Z"
   },
   {
    "duration": 5,
    "start_time": "2022-04-11T09:11:52.450Z"
   },
   {
    "duration": 6,
    "start_time": "2022-04-11T09:11:52.457Z"
   },
   {
    "duration": 5,
    "start_time": "2022-04-11T09:11:52.466Z"
   },
   {
    "duration": 44,
    "start_time": "2022-04-11T09:11:52.473Z"
   },
   {
    "duration": 7,
    "start_time": "2022-04-11T09:11:52.520Z"
   },
   {
    "duration": 15,
    "start_time": "2022-04-11T09:11:52.529Z"
   },
   {
    "duration": 10,
    "start_time": "2022-04-11T09:11:52.546Z"
   },
   {
    "duration": 8,
    "start_time": "2022-04-11T09:11:52.557Z"
   },
   {
    "duration": 7,
    "start_time": "2022-04-11T09:11:52.567Z"
   },
   {
    "duration": 43,
    "start_time": "2022-04-11T09:11:52.575Z"
   },
   {
    "duration": 5,
    "start_time": "2022-04-11T09:11:52.620Z"
   },
   {
    "duration": 11,
    "start_time": "2022-04-11T09:11:52.627Z"
   },
   {
    "duration": 315,
    "start_time": "2022-04-11T09:11:52.640Z"
   },
   {
    "duration": 7,
    "start_time": "2022-04-11T09:11:52.957Z"
   },
   {
    "duration": 25,
    "start_time": "2022-04-11T09:11:52.966Z"
   },
   {
    "duration": 531,
    "start_time": "2022-04-11T09:11:52.993Z"
   },
   {
    "duration": 211,
    "start_time": "2022-04-11T09:11:53.526Z"
   },
   {
    "duration": 9,
    "start_time": "2022-04-11T09:11:53.738Z"
   },
   {
    "duration": 9,
    "start_time": "2022-04-11T09:11:53.748Z"
   },
   {
    "duration": 59,
    "start_time": "2022-04-11T09:11:53.759Z"
   },
   {
    "duration": 211,
    "start_time": "2022-04-11T09:11:53.821Z"
   },
   {
    "duration": 598,
    "start_time": "2022-04-11T09:11:54.035Z"
   },
   {
    "duration": 517,
    "start_time": "2022-04-11T09:11:54.635Z"
   },
   {
    "duration": 534,
    "start_time": "2022-04-11T09:11:55.154Z"
   },
   {
    "duration": 27,
    "start_time": "2022-04-11T09:11:55.690Z"
   },
   {
    "duration": 20,
    "start_time": "2022-04-11T09:11:55.719Z"
   },
   {
    "duration": 219,
    "start_time": "2022-04-11T09:11:55.740Z"
   },
   {
    "duration": 53,
    "start_time": "2022-04-11T09:11:55.961Z"
   },
   {
    "duration": 460,
    "start_time": "2022-04-11T09:11:56.017Z"
   },
   {
    "duration": 142,
    "start_time": "2022-04-11T09:11:56.479Z"
   },
   {
    "duration": 533,
    "start_time": "2022-04-11T09:11:56.623Z"
   },
   {
    "duration": 57,
    "start_time": "2022-04-11T09:11:57.158Z"
   },
   {
    "duration": 354,
    "start_time": "2022-04-11T09:11:57.217Z"
   },
   {
    "duration": 250,
    "start_time": "2022-04-11T09:11:57.573Z"
   },
   {
    "duration": 4,
    "start_time": "2022-04-11T09:11:57.825Z"
   },
   {
    "duration": 7,
    "start_time": "2022-04-11T09:11:57.830Z"
   },
   {
    "duration": 231,
    "start_time": "2022-04-11T09:11:57.838Z"
   },
   {
    "duration": 4,
    "start_time": "2022-04-11T09:11:58.071Z"
   },
   {
    "duration": 7,
    "start_time": "2022-04-11T09:11:58.076Z"
   },
   {
    "duration": 5,
    "start_time": "2022-04-11T09:23:53.514Z"
   },
   {
    "duration": 67,
    "start_time": "2022-04-11T09:23:53.523Z"
   },
   {
    "duration": 15,
    "start_time": "2022-04-11T09:23:53.592Z"
   },
   {
    "duration": 18,
    "start_time": "2022-04-11T09:23:53.609Z"
   },
   {
    "duration": 17,
    "start_time": "2022-04-11T09:23:53.630Z"
   },
   {
    "duration": 10,
    "start_time": "2022-04-11T09:23:53.649Z"
   },
   {
    "duration": 7,
    "start_time": "2022-04-11T09:23:53.661Z"
   },
   {
    "duration": 40,
    "start_time": "2022-04-11T09:23:53.670Z"
   },
   {
    "duration": 8,
    "start_time": "2022-04-11T09:23:53.712Z"
   },
   {
    "duration": 6,
    "start_time": "2022-04-11T09:23:53.722Z"
   },
   {
    "duration": 10,
    "start_time": "2022-04-11T09:23:53.731Z"
   },
   {
    "duration": 15,
    "start_time": "2022-04-11T09:23:53.743Z"
   },
   {
    "duration": 8,
    "start_time": "2022-04-11T09:23:53.760Z"
   },
   {
    "duration": 43,
    "start_time": "2022-04-11T09:23:53.770Z"
   },
   {
    "duration": 8,
    "start_time": "2022-04-11T09:23:53.816Z"
   },
   {
    "duration": 8,
    "start_time": "2022-04-11T09:23:53.826Z"
   },
   {
    "duration": 6,
    "start_time": "2022-04-11T09:23:53.837Z"
   },
   {
    "duration": 352,
    "start_time": "2022-04-11T09:23:53.844Z"
   },
   {
    "duration": 15,
    "start_time": "2022-04-11T09:23:54.199Z"
   },
   {
    "duration": 36,
    "start_time": "2022-04-11T09:23:54.216Z"
   },
   {
    "duration": 571,
    "start_time": "2022-04-11T09:23:54.254Z"
   },
   {
    "duration": 230,
    "start_time": "2022-04-11T09:23:54.826Z"
   },
   {
    "duration": 9,
    "start_time": "2022-04-11T09:23:55.058Z"
   },
   {
    "duration": 10,
    "start_time": "2022-04-11T09:23:55.069Z"
   },
   {
    "duration": 47,
    "start_time": "2022-04-11T09:23:55.081Z"
   },
   {
    "duration": 210,
    "start_time": "2022-04-11T09:23:55.130Z"
   },
   {
    "duration": 502,
    "start_time": "2022-04-11T09:23:55.341Z"
   },
   {
    "duration": 476,
    "start_time": "2022-04-11T09:23:55.845Z"
   },
   {
    "duration": 499,
    "start_time": "2022-04-11T09:23:56.326Z"
   },
   {
    "duration": 18,
    "start_time": "2022-04-11T09:23:56.827Z"
   },
   {
    "duration": 24,
    "start_time": "2022-04-11T09:23:56.846Z"
   },
   {
    "duration": 336,
    "start_time": "2022-04-11T09:23:56.872Z"
   },
   {
    "duration": 51,
    "start_time": "2022-04-11T09:23:57.210Z"
   },
   {
    "duration": 497,
    "start_time": "2022-04-11T09:23:57.264Z"
   },
   {
    "duration": 55,
    "start_time": "2022-04-11T09:23:57.763Z"
   },
   {
    "duration": 549,
    "start_time": "2022-04-11T09:23:57.820Z"
   },
   {
    "duration": 58,
    "start_time": "2022-04-11T09:23:58.371Z"
   },
   {
    "duration": 368,
    "start_time": "2022-04-11T09:23:58.431Z"
   },
   {
    "duration": 249,
    "start_time": "2022-04-11T09:23:58.809Z"
   },
   {
    "duration": 5,
    "start_time": "2022-04-11T09:23:59.060Z"
   },
   {
    "duration": 8,
    "start_time": "2022-04-11T09:23:59.066Z"
   },
   {
    "duration": 227,
    "start_time": "2022-04-11T09:23:59.075Z"
   },
   {
    "duration": 6,
    "start_time": "2022-04-11T09:23:59.304Z"
   },
   {
    "duration": 5,
    "start_time": "2022-04-11T09:23:59.311Z"
   },
   {
    "duration": 4,
    "start_time": "2022-04-11T09:31:50.087Z"
   },
   {
    "duration": 65,
    "start_time": "2022-04-11T09:31:50.094Z"
   },
   {
    "duration": 13,
    "start_time": "2022-04-11T09:31:50.161Z"
   },
   {
    "duration": 14,
    "start_time": "2022-04-11T09:31:50.176Z"
   },
   {
    "duration": 13,
    "start_time": "2022-04-11T09:31:50.192Z"
   },
   {
    "duration": 8,
    "start_time": "2022-04-11T09:31:50.209Z"
   },
   {
    "duration": 4,
    "start_time": "2022-04-11T09:31:50.218Z"
   },
   {
    "duration": 6,
    "start_time": "2022-04-11T09:31:50.223Z"
   },
   {
    "duration": 10,
    "start_time": "2022-04-11T09:31:50.230Z"
   },
   {
    "duration": 8,
    "start_time": "2022-04-11T09:31:50.241Z"
   },
   {
    "duration": 5,
    "start_time": "2022-04-11T09:31:50.252Z"
   },
   {
    "duration": 11,
    "start_time": "2022-04-11T09:31:50.258Z"
   },
   {
    "duration": 43,
    "start_time": "2022-04-11T09:31:50.271Z"
   },
   {
    "duration": 103,
    "start_time": "2022-04-11T09:31:50.315Z"
   },
   {
    "duration": 6,
    "start_time": "2022-04-11T09:31:50.420Z"
   },
   {
    "duration": 8,
    "start_time": "2022-04-11T09:31:50.427Z"
   },
   {
    "duration": 6,
    "start_time": "2022-04-11T09:31:50.437Z"
   },
   {
    "duration": 302,
    "start_time": "2022-04-11T09:31:50.444Z"
   },
   {
    "duration": 7,
    "start_time": "2022-04-11T09:31:50.747Z"
   },
   {
    "duration": 28,
    "start_time": "2022-04-11T09:31:50.755Z"
   },
   {
    "duration": 442,
    "start_time": "2022-04-11T09:31:50.784Z"
   },
   {
    "duration": 204,
    "start_time": "2022-04-11T09:31:51.227Z"
   },
   {
    "duration": 6,
    "start_time": "2022-04-11T09:31:51.433Z"
   },
   {
    "duration": 9,
    "start_time": "2022-04-11T09:31:51.440Z"
   },
   {
    "duration": 24,
    "start_time": "2022-04-11T09:31:51.450Z"
   },
   {
    "duration": 207,
    "start_time": "2022-04-11T09:31:51.475Z"
   },
   {
    "duration": 487,
    "start_time": "2022-04-11T09:31:51.684Z"
   },
   {
    "duration": 541,
    "start_time": "2022-04-11T09:31:52.173Z"
   },
   {
    "duration": 467,
    "start_time": "2022-04-11T09:31:52.718Z"
   },
   {
    "duration": 26,
    "start_time": "2022-04-11T09:31:53.187Z"
   },
   {
    "duration": 17,
    "start_time": "2022-04-11T09:31:53.215Z"
   },
   {
    "duration": 206,
    "start_time": "2022-04-11T09:31:53.233Z"
   },
   {
    "duration": 36,
    "start_time": "2022-04-11T09:31:53.440Z"
   },
   {
    "duration": 452,
    "start_time": "2022-04-11T09:31:53.478Z"
   },
   {
    "duration": 35,
    "start_time": "2022-04-11T09:31:53.932Z"
   },
   {
    "duration": 597,
    "start_time": "2022-04-11T09:31:53.968Z"
   },
   {
    "duration": 55,
    "start_time": "2022-04-11T09:31:54.566Z"
   },
   {
    "duration": 353,
    "start_time": "2022-04-11T09:31:54.623Z"
   },
   {
    "duration": 236,
    "start_time": "2022-04-11T09:31:54.977Z"
   },
   {
    "duration": 4,
    "start_time": "2022-04-11T09:31:55.215Z"
   },
   {
    "duration": 8,
    "start_time": "2022-04-11T09:31:55.221Z"
   },
   {
    "duration": 217,
    "start_time": "2022-04-11T09:31:55.231Z"
   },
   {
    "duration": 4,
    "start_time": "2022-04-11T09:31:55.450Z"
   },
   {
    "duration": 8,
    "start_time": "2022-04-11T09:31:55.456Z"
   }
  ],
  "kernelspec": {
   "display_name": "Python 3 (ipykernel)",
   "language": "python",
   "name": "python3"
  },
  "language_info": {
   "codemirror_mode": {
    "name": "ipython",
    "version": 3
   },
   "file_extension": ".py",
   "mimetype": "text/x-python",
   "name": "python",
   "nbconvert_exporter": "python",
   "pygments_lexer": "ipython3",
   "version": "3.9.5"
  },
  "toc": {
   "base_numbering": 1,
   "nav_menu": {},
   "number_sections": true,
   "sideBar": true,
   "skip_h1_title": true,
   "title_cell": "Оглавление",
   "title_sidebar": "Contents",
   "toc_cell": true,
   "toc_position": {
    "height": "calc(100% - 180px)",
    "left": "10px",
    "top": "150px",
    "width": "351.009px"
   },
   "toc_section_display": true,
   "toc_window_display": true
  }
 },
 "nbformat": 4,
 "nbformat_minor": 5
}
