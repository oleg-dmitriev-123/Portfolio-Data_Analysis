{
 "cells": [
  {
   "cell_type": "markdown",
   "metadata": {},
   "source": [
    "# Исследование надёжности заёмщиков\n",
    "\n",
    "**Описание:**\n",
    "\n",
    "Заказчик — кредитный отдел банка. Необходимо выяснить, влияет ли уровень дохода, семейное положение и количество детей клиента на факт погашения кредита в срок. Установить как цели взятия кредита влияют на срок его погашения. Входные данные от банка — статистика о платёжеспособности клиентов. Результаты исследования будут использовани при построении модели кредитного скоринга."
   ]
  },
  {
   "cell_type": "markdown",
   "metadata": {
    "toc": true
   },
   "source": [
    "<h1>Оглавление<span class=\"tocSkip\"></span></h1>\n",
    "<div class=\"toc\"><ul class=\"toc-item\"><li><span><a href=\"#Настройка-окружения\" data-toc-modified-id=\"Настройка-окружения-1\"><span class=\"toc-item-num\">1&nbsp;&nbsp;</span>Настройка окружения</a></span></li><li><span><a href=\"#Предварительный-обзор-данных\" data-toc-modified-id=\"Предварительный-обзор-данных-2\"><span class=\"toc-item-num\">2&nbsp;&nbsp;</span>Предварительный обзор данных</a></span></li><li><span><a href=\"#Обработка-и-категоризация-данных\" data-toc-modified-id=\"Обработка-и-категоризация-данных-3\"><span class=\"toc-item-num\">3&nbsp;&nbsp;</span>Обработка и категоризация данных</a></span><ul class=\"toc-item\"><li><span><a href=\"#Обработка-пропусков\" data-toc-modified-id=\"Обработка-пропусков-3.1\"><span class=\"toc-item-num\">3.1&nbsp;&nbsp;</span>Обработка пропусков</a></span></li><li><span><a href=\"#Замена-типа-данных\" data-toc-modified-id=\"Замена-типа-данных-3.2\"><span class=\"toc-item-num\">3.2&nbsp;&nbsp;</span>Замена типа данных</a></span></li><li><span><a href=\"#Обработка-дубликатов\" data-toc-modified-id=\"Обработка-дубликатов-3.3\"><span class=\"toc-item-num\">3.3&nbsp;&nbsp;</span>Обработка дубликатов</a></span></li><li><span><a href=\"#Выявление-основных-целей-получения-кредитов-при-помощи-лемматизации\" data-toc-modified-id=\"Выявление-основных-целей-получения-кредитов-при-помощи-лемматизации-3.4\"><span class=\"toc-item-num\">3.4&nbsp;&nbsp;</span>Выявление основных целей получения кредитов при помощи лемматизации</a></span></li><li><span><a href=\"#Категоризация-данных\" data-toc-modified-id=\"Категоризация-данных-3.5\"><span class=\"toc-item-num\">3.5&nbsp;&nbsp;</span>Категоризация данных</a></span></li></ul></li><li><span><a href=\"#Исследование-надежности-заемщиков\" data-toc-modified-id=\"Исследование-надежности-заемщиков-4\"><span class=\"toc-item-num\">4&nbsp;&nbsp;</span>Исследование надежности заемщиков</a></span></li><li><span><a href=\"#Общий-вывод-исследования\" data-toc-modified-id=\"Общий-вывод-исследования-5\"><span class=\"toc-item-num\">5&nbsp;&nbsp;</span>Общий вывод исследования</a></span></li></ul></div>"
   ]
  },
  {
   "cell_type": "markdown",
   "metadata": {},
   "source": [
    "## Настройка окружения"
   ]
  },
  {
   "cell_type": "code",
   "execution_count": 180,
   "metadata": {},
   "outputs": [],
   "source": [
    "import pandas as pd\n",
    "import numpy as np\n",
    "\n",
    "# библиотеки для лемматизации данных\n",
    "from pymystem3 import Mystem\n",
    "from collections import Counter"
   ]
  },
  {
   "cell_type": "markdown",
   "metadata": {},
   "source": [
    "## Предварительный обзор данных"
   ]
  },
  {
   "cell_type": "code",
   "execution_count": 181,
   "metadata": {
    "scrolled": true
   },
   "outputs": [
    {
     "name": "stdout",
     "output_type": "stream",
     "text": [
      "<class 'pandas.core.frame.DataFrame'>\n",
      "RangeIndex: 21525 entries, 0 to 21524\n",
      "Data columns (total 12 columns):\n",
      " #   Column            Non-Null Count  Dtype  \n",
      "---  ------            --------------  -----  \n",
      " 0   children          21525 non-null  int64  \n",
      " 1   days_employed     19351 non-null  float64\n",
      " 2   dob_years         21525 non-null  int64  \n",
      " 3   education         21525 non-null  object \n",
      " 4   education_id      21525 non-null  int64  \n",
      " 5   family_status     21525 non-null  object \n",
      " 6   family_status_id  21525 non-null  int64  \n",
      " 7   gender            21525 non-null  object \n",
      " 8   income_type       21525 non-null  object \n",
      " 9   debt              21525 non-null  int64  \n",
      " 10  total_income      19351 non-null  float64\n",
      " 11  purpose           21525 non-null  object \n",
      "dtypes: float64(2), int64(5), object(5)\n",
      "memory usage: 2.0+ MB\n"
     ]
    }
   ],
   "source": [
    "df = pd.read_csv('/datasets/data.csv')\n",
    "df.info()"
   ]
  },
  {
   "cell_type": "markdown",
   "metadata": {},
   "source": [
    "'education','education_id', 'family_status','family_status_id', 'gender', 'income_type', 'purpose' - категориальные переменные\n",
    "\n",
    "В количественных переменных 'days_employed' и 'total_income' есть пропуски"
   ]
  },
  {
   "cell_type": "code",
   "execution_count": 182,
   "metadata": {
    "scrolled": true
   },
   "outputs": [
    {
     "data": {
      "text/html": [
       "<div>\n",
       "<style scoped>\n",
       "    .dataframe tbody tr th:only-of-type {\n",
       "        vertical-align: middle;\n",
       "    }\n",
       "\n",
       "    .dataframe tbody tr th {\n",
       "        vertical-align: top;\n",
       "    }\n",
       "\n",
       "    .dataframe thead th {\n",
       "        text-align: right;\n",
       "    }\n",
       "</style>\n",
       "<table border=\"1\" class=\"dataframe\">\n",
       "  <thead>\n",
       "    <tr style=\"text-align: right;\">\n",
       "      <th></th>\n",
       "      <th>children</th>\n",
       "      <th>days_employed</th>\n",
       "      <th>dob_years</th>\n",
       "      <th>education</th>\n",
       "      <th>education_id</th>\n",
       "      <th>family_status</th>\n",
       "      <th>family_status_id</th>\n",
       "      <th>gender</th>\n",
       "      <th>income_type</th>\n",
       "      <th>debt</th>\n",
       "      <th>total_income</th>\n",
       "      <th>purpose</th>\n",
       "    </tr>\n",
       "  </thead>\n",
       "  <tbody>\n",
       "    <tr>\n",
       "      <th>0</th>\n",
       "      <td>1</td>\n",
       "      <td>-8437.673028</td>\n",
       "      <td>42</td>\n",
       "      <td>высшее</td>\n",
       "      <td>0</td>\n",
       "      <td>женат / замужем</td>\n",
       "      <td>0</td>\n",
       "      <td>F</td>\n",
       "      <td>сотрудник</td>\n",
       "      <td>0</td>\n",
       "      <td>253875.639453</td>\n",
       "      <td>покупка жилья</td>\n",
       "    </tr>\n",
       "    <tr>\n",
       "      <th>1</th>\n",
       "      <td>1</td>\n",
       "      <td>-4024.803754</td>\n",
       "      <td>36</td>\n",
       "      <td>среднее</td>\n",
       "      <td>1</td>\n",
       "      <td>женат / замужем</td>\n",
       "      <td>0</td>\n",
       "      <td>F</td>\n",
       "      <td>сотрудник</td>\n",
       "      <td>0</td>\n",
       "      <td>112080.014102</td>\n",
       "      <td>приобретение автомобиля</td>\n",
       "    </tr>\n",
       "    <tr>\n",
       "      <th>2</th>\n",
       "      <td>0</td>\n",
       "      <td>-5623.422610</td>\n",
       "      <td>33</td>\n",
       "      <td>Среднее</td>\n",
       "      <td>1</td>\n",
       "      <td>женат / замужем</td>\n",
       "      <td>0</td>\n",
       "      <td>M</td>\n",
       "      <td>сотрудник</td>\n",
       "      <td>0</td>\n",
       "      <td>145885.952297</td>\n",
       "      <td>покупка жилья</td>\n",
       "    </tr>\n",
       "    <tr>\n",
       "      <th>3</th>\n",
       "      <td>3</td>\n",
       "      <td>-4124.747207</td>\n",
       "      <td>32</td>\n",
       "      <td>среднее</td>\n",
       "      <td>1</td>\n",
       "      <td>женат / замужем</td>\n",
       "      <td>0</td>\n",
       "      <td>M</td>\n",
       "      <td>сотрудник</td>\n",
       "      <td>0</td>\n",
       "      <td>267628.550329</td>\n",
       "      <td>дополнительное образование</td>\n",
       "    </tr>\n",
       "    <tr>\n",
       "      <th>4</th>\n",
       "      <td>0</td>\n",
       "      <td>340266.072047</td>\n",
       "      <td>53</td>\n",
       "      <td>среднее</td>\n",
       "      <td>1</td>\n",
       "      <td>гражданский брак</td>\n",
       "      <td>1</td>\n",
       "      <td>F</td>\n",
       "      <td>пенсионер</td>\n",
       "      <td>0</td>\n",
       "      <td>158616.077870</td>\n",
       "      <td>сыграть свадьбу</td>\n",
       "    </tr>\n",
       "    <tr>\n",
       "      <th>5</th>\n",
       "      <td>0</td>\n",
       "      <td>-926.185831</td>\n",
       "      <td>27</td>\n",
       "      <td>высшее</td>\n",
       "      <td>0</td>\n",
       "      <td>гражданский брак</td>\n",
       "      <td>1</td>\n",
       "      <td>M</td>\n",
       "      <td>компаньон</td>\n",
       "      <td>0</td>\n",
       "      <td>255763.565419</td>\n",
       "      <td>покупка жилья</td>\n",
       "    </tr>\n",
       "    <tr>\n",
       "      <th>6</th>\n",
       "      <td>0</td>\n",
       "      <td>-2879.202052</td>\n",
       "      <td>43</td>\n",
       "      <td>высшее</td>\n",
       "      <td>0</td>\n",
       "      <td>женат / замужем</td>\n",
       "      <td>0</td>\n",
       "      <td>F</td>\n",
       "      <td>компаньон</td>\n",
       "      <td>0</td>\n",
       "      <td>240525.971920</td>\n",
       "      <td>операции с жильем</td>\n",
       "    </tr>\n",
       "    <tr>\n",
       "      <th>7</th>\n",
       "      <td>0</td>\n",
       "      <td>-152.779569</td>\n",
       "      <td>50</td>\n",
       "      <td>СРЕДНЕЕ</td>\n",
       "      <td>1</td>\n",
       "      <td>женат / замужем</td>\n",
       "      <td>0</td>\n",
       "      <td>M</td>\n",
       "      <td>сотрудник</td>\n",
       "      <td>0</td>\n",
       "      <td>135823.934197</td>\n",
       "      <td>образование</td>\n",
       "    </tr>\n",
       "    <tr>\n",
       "      <th>8</th>\n",
       "      <td>2</td>\n",
       "      <td>-6929.865299</td>\n",
       "      <td>35</td>\n",
       "      <td>ВЫСШЕЕ</td>\n",
       "      <td>0</td>\n",
       "      <td>гражданский брак</td>\n",
       "      <td>1</td>\n",
       "      <td>F</td>\n",
       "      <td>сотрудник</td>\n",
       "      <td>0</td>\n",
       "      <td>95856.832424</td>\n",
       "      <td>на проведение свадьбы</td>\n",
       "    </tr>\n",
       "    <tr>\n",
       "      <th>9</th>\n",
       "      <td>0</td>\n",
       "      <td>-2188.756445</td>\n",
       "      <td>41</td>\n",
       "      <td>среднее</td>\n",
       "      <td>1</td>\n",
       "      <td>женат / замужем</td>\n",
       "      <td>0</td>\n",
       "      <td>M</td>\n",
       "      <td>сотрудник</td>\n",
       "      <td>0</td>\n",
       "      <td>144425.938277</td>\n",
       "      <td>покупка жилья для семьи</td>\n",
       "    </tr>\n",
       "    <tr>\n",
       "      <th>10</th>\n",
       "      <td>2</td>\n",
       "      <td>-4171.483647</td>\n",
       "      <td>36</td>\n",
       "      <td>высшее</td>\n",
       "      <td>0</td>\n",
       "      <td>женат / замужем</td>\n",
       "      <td>0</td>\n",
       "      <td>M</td>\n",
       "      <td>компаньон</td>\n",
       "      <td>0</td>\n",
       "      <td>113943.491460</td>\n",
       "      <td>покупка недвижимости</td>\n",
       "    </tr>\n",
       "    <tr>\n",
       "      <th>11</th>\n",
       "      <td>0</td>\n",
       "      <td>-792.701887</td>\n",
       "      <td>40</td>\n",
       "      <td>среднее</td>\n",
       "      <td>1</td>\n",
       "      <td>женат / замужем</td>\n",
       "      <td>0</td>\n",
       "      <td>F</td>\n",
       "      <td>сотрудник</td>\n",
       "      <td>0</td>\n",
       "      <td>77069.234271</td>\n",
       "      <td>покупка коммерческой недвижимости</td>\n",
       "    </tr>\n",
       "    <tr>\n",
       "      <th>12</th>\n",
       "      <td>0</td>\n",
       "      <td>NaN</td>\n",
       "      <td>65</td>\n",
       "      <td>среднее</td>\n",
       "      <td>1</td>\n",
       "      <td>гражданский брак</td>\n",
       "      <td>1</td>\n",
       "      <td>M</td>\n",
       "      <td>пенсионер</td>\n",
       "      <td>0</td>\n",
       "      <td>NaN</td>\n",
       "      <td>сыграть свадьбу</td>\n",
       "    </tr>\n",
       "    <tr>\n",
       "      <th>13</th>\n",
       "      <td>0</td>\n",
       "      <td>-1846.641941</td>\n",
       "      <td>54</td>\n",
       "      <td>неоконченное высшее</td>\n",
       "      <td>2</td>\n",
       "      <td>женат / замужем</td>\n",
       "      <td>0</td>\n",
       "      <td>F</td>\n",
       "      <td>сотрудник</td>\n",
       "      <td>0</td>\n",
       "      <td>130458.228857</td>\n",
       "      <td>приобретение автомобиля</td>\n",
       "    </tr>\n",
       "    <tr>\n",
       "      <th>14</th>\n",
       "      <td>0</td>\n",
       "      <td>-1844.956182</td>\n",
       "      <td>56</td>\n",
       "      <td>высшее</td>\n",
       "      <td>0</td>\n",
       "      <td>гражданский брак</td>\n",
       "      <td>1</td>\n",
       "      <td>F</td>\n",
       "      <td>компаньон</td>\n",
       "      <td>1</td>\n",
       "      <td>165127.911772</td>\n",
       "      <td>покупка жилой недвижимости</td>\n",
       "    </tr>\n",
       "    <tr>\n",
       "      <th>15</th>\n",
       "      <td>1</td>\n",
       "      <td>-972.364419</td>\n",
       "      <td>26</td>\n",
       "      <td>среднее</td>\n",
       "      <td>1</td>\n",
       "      <td>женат / замужем</td>\n",
       "      <td>0</td>\n",
       "      <td>F</td>\n",
       "      <td>сотрудник</td>\n",
       "      <td>0</td>\n",
       "      <td>116820.904450</td>\n",
       "      <td>строительство собственной недвижимости</td>\n",
       "    </tr>\n",
       "    <tr>\n",
       "      <th>16</th>\n",
       "      <td>0</td>\n",
       "      <td>-1719.934226</td>\n",
       "      <td>35</td>\n",
       "      <td>среднее</td>\n",
       "      <td>1</td>\n",
       "      <td>женат / замужем</td>\n",
       "      <td>0</td>\n",
       "      <td>F</td>\n",
       "      <td>сотрудник</td>\n",
       "      <td>0</td>\n",
       "      <td>289202.704229</td>\n",
       "      <td>недвижимость</td>\n",
       "    </tr>\n",
       "    <tr>\n",
       "      <th>17</th>\n",
       "      <td>0</td>\n",
       "      <td>-2369.999720</td>\n",
       "      <td>33</td>\n",
       "      <td>высшее</td>\n",
       "      <td>0</td>\n",
       "      <td>гражданский брак</td>\n",
       "      <td>1</td>\n",
       "      <td>M</td>\n",
       "      <td>сотрудник</td>\n",
       "      <td>0</td>\n",
       "      <td>90410.586745</td>\n",
       "      <td>строительство недвижимости</td>\n",
       "    </tr>\n",
       "    <tr>\n",
       "      <th>18</th>\n",
       "      <td>0</td>\n",
       "      <td>400281.136913</td>\n",
       "      <td>53</td>\n",
       "      <td>среднее</td>\n",
       "      <td>1</td>\n",
       "      <td>вдовец / вдова</td>\n",
       "      <td>2</td>\n",
       "      <td>F</td>\n",
       "      <td>пенсионер</td>\n",
       "      <td>0</td>\n",
       "      <td>56823.777243</td>\n",
       "      <td>на покупку подержанного автомобиля</td>\n",
       "    </tr>\n",
       "    <tr>\n",
       "      <th>19</th>\n",
       "      <td>0</td>\n",
       "      <td>-10038.818549</td>\n",
       "      <td>48</td>\n",
       "      <td>СРЕДНЕЕ</td>\n",
       "      <td>1</td>\n",
       "      <td>в разводе</td>\n",
       "      <td>3</td>\n",
       "      <td>F</td>\n",
       "      <td>сотрудник</td>\n",
       "      <td>0</td>\n",
       "      <td>242831.107982</td>\n",
       "      <td>на покупку своего автомобиля</td>\n",
       "    </tr>\n",
       "    <tr>\n",
       "      <th>20</th>\n",
       "      <td>1</td>\n",
       "      <td>-1311.604166</td>\n",
       "      <td>36</td>\n",
       "      <td>среднее</td>\n",
       "      <td>1</td>\n",
       "      <td>женат / замужем</td>\n",
       "      <td>0</td>\n",
       "      <td>M</td>\n",
       "      <td>сотрудник</td>\n",
       "      <td>0</td>\n",
       "      <td>209552.644578</td>\n",
       "      <td>недвижимость</td>\n",
       "    </tr>\n",
       "    <tr>\n",
       "      <th>21</th>\n",
       "      <td>1</td>\n",
       "      <td>-253.685166</td>\n",
       "      <td>33</td>\n",
       "      <td>среднее</td>\n",
       "      <td>1</td>\n",
       "      <td>гражданский брак</td>\n",
       "      <td>1</td>\n",
       "      <td>F</td>\n",
       "      <td>сотрудник</td>\n",
       "      <td>0</td>\n",
       "      <td>131812.203909</td>\n",
       "      <td>приобретение автомобиля</td>\n",
       "    </tr>\n",
       "    <tr>\n",
       "      <th>22</th>\n",
       "      <td>1</td>\n",
       "      <td>-1766.644138</td>\n",
       "      <td>24</td>\n",
       "      <td>среднее</td>\n",
       "      <td>1</td>\n",
       "      <td>гражданский брак</td>\n",
       "      <td>1</td>\n",
       "      <td>F</td>\n",
       "      <td>сотрудник</td>\n",
       "      <td>0</td>\n",
       "      <td>149681.140731</td>\n",
       "      <td>на покупку подержанного автомобиля</td>\n",
       "    </tr>\n",
       "    <tr>\n",
       "      <th>23</th>\n",
       "      <td>0</td>\n",
       "      <td>-272.981385</td>\n",
       "      <td>21</td>\n",
       "      <td>высшее</td>\n",
       "      <td>0</td>\n",
       "      <td>гражданский брак</td>\n",
       "      <td>1</td>\n",
       "      <td>M</td>\n",
       "      <td>сотрудник</td>\n",
       "      <td>0</td>\n",
       "      <td>128265.720871</td>\n",
       "      <td>сыграть свадьбу</td>\n",
       "    </tr>\n",
       "    <tr>\n",
       "      <th>24</th>\n",
       "      <td>1</td>\n",
       "      <td>338551.952911</td>\n",
       "      <td>57</td>\n",
       "      <td>среднее</td>\n",
       "      <td>1</td>\n",
       "      <td>Не женат / не замужем</td>\n",
       "      <td>4</td>\n",
       "      <td>F</td>\n",
       "      <td>пенсионер</td>\n",
       "      <td>0</td>\n",
       "      <td>290547.235997</td>\n",
       "      <td>операции с коммерческой недвижимостью</td>\n",
       "    </tr>\n",
       "    <tr>\n",
       "      <th>25</th>\n",
       "      <td>0</td>\n",
       "      <td>363548.489348</td>\n",
       "      <td>67</td>\n",
       "      <td>среднее</td>\n",
       "      <td>1</td>\n",
       "      <td>женат / замужем</td>\n",
       "      <td>0</td>\n",
       "      <td>M</td>\n",
       "      <td>пенсионер</td>\n",
       "      <td>0</td>\n",
       "      <td>55112.757732</td>\n",
       "      <td>покупка недвижимости</td>\n",
       "    </tr>\n",
       "    <tr>\n",
       "      <th>26</th>\n",
       "      <td>0</td>\n",
       "      <td>NaN</td>\n",
       "      <td>41</td>\n",
       "      <td>среднее</td>\n",
       "      <td>1</td>\n",
       "      <td>женат / замужем</td>\n",
       "      <td>0</td>\n",
       "      <td>M</td>\n",
       "      <td>госслужащий</td>\n",
       "      <td>0</td>\n",
       "      <td>NaN</td>\n",
       "      <td>образование</td>\n",
       "    </tr>\n",
       "    <tr>\n",
       "      <th>27</th>\n",
       "      <td>0</td>\n",
       "      <td>-529.191635</td>\n",
       "      <td>28</td>\n",
       "      <td>высшее</td>\n",
       "      <td>0</td>\n",
       "      <td>женат / замужем</td>\n",
       "      <td>0</td>\n",
       "      <td>M</td>\n",
       "      <td>сотрудник</td>\n",
       "      <td>0</td>\n",
       "      <td>308848.983691</td>\n",
       "      <td>строительство собственной недвижимости</td>\n",
       "    </tr>\n",
       "    <tr>\n",
       "      <th>28</th>\n",
       "      <td>1</td>\n",
       "      <td>-717.274324</td>\n",
       "      <td>26</td>\n",
       "      <td>высшее</td>\n",
       "      <td>0</td>\n",
       "      <td>женат / замужем</td>\n",
       "      <td>0</td>\n",
       "      <td>F</td>\n",
       "      <td>сотрудник</td>\n",
       "      <td>0</td>\n",
       "      <td>187863.237306</td>\n",
       "      <td>строительство собственной недвижимости</td>\n",
       "    </tr>\n",
       "    <tr>\n",
       "      <th>29</th>\n",
       "      <td>0</td>\n",
       "      <td>NaN</td>\n",
       "      <td>63</td>\n",
       "      <td>среднее</td>\n",
       "      <td>1</td>\n",
       "      <td>Не женат / не замужем</td>\n",
       "      <td>4</td>\n",
       "      <td>F</td>\n",
       "      <td>пенсионер</td>\n",
       "      <td>0</td>\n",
       "      <td>NaN</td>\n",
       "      <td>строительство жилой недвижимости</td>\n",
       "    </tr>\n",
       "  </tbody>\n",
       "</table>\n",
       "</div>"
      ],
      "text/plain": [
       "    children  days_employed  dob_years            education  education_id  \\\n",
       "0          1   -8437.673028         42               высшее             0   \n",
       "1          1   -4024.803754         36              среднее             1   \n",
       "2          0   -5623.422610         33              Среднее             1   \n",
       "3          3   -4124.747207         32              среднее             1   \n",
       "4          0  340266.072047         53              среднее             1   \n",
       "5          0    -926.185831         27               высшее             0   \n",
       "6          0   -2879.202052         43               высшее             0   \n",
       "7          0    -152.779569         50              СРЕДНЕЕ             1   \n",
       "8          2   -6929.865299         35               ВЫСШЕЕ             0   \n",
       "9          0   -2188.756445         41              среднее             1   \n",
       "10         2   -4171.483647         36               высшее             0   \n",
       "11         0    -792.701887         40              среднее             1   \n",
       "12         0            NaN         65              среднее             1   \n",
       "13         0   -1846.641941         54  неоконченное высшее             2   \n",
       "14         0   -1844.956182         56               высшее             0   \n",
       "15         1    -972.364419         26              среднее             1   \n",
       "16         0   -1719.934226         35              среднее             1   \n",
       "17         0   -2369.999720         33               высшее             0   \n",
       "18         0  400281.136913         53              среднее             1   \n",
       "19         0  -10038.818549         48              СРЕДНЕЕ             1   \n",
       "20         1   -1311.604166         36              среднее             1   \n",
       "21         1    -253.685166         33              среднее             1   \n",
       "22         1   -1766.644138         24              среднее             1   \n",
       "23         0    -272.981385         21               высшее             0   \n",
       "24         1  338551.952911         57              среднее             1   \n",
       "25         0  363548.489348         67              среднее             1   \n",
       "26         0            NaN         41              среднее             1   \n",
       "27         0    -529.191635         28               высшее             0   \n",
       "28         1    -717.274324         26               высшее             0   \n",
       "29         0            NaN         63              среднее             1   \n",
       "\n",
       "            family_status  family_status_id gender  income_type  debt  \\\n",
       "0         женат / замужем                 0      F    сотрудник     0   \n",
       "1         женат / замужем                 0      F    сотрудник     0   \n",
       "2         женат / замужем                 0      M    сотрудник     0   \n",
       "3         женат / замужем                 0      M    сотрудник     0   \n",
       "4        гражданский брак                 1      F    пенсионер     0   \n",
       "5        гражданский брак                 1      M    компаньон     0   \n",
       "6         женат / замужем                 0      F    компаньон     0   \n",
       "7         женат / замужем                 0      M    сотрудник     0   \n",
       "8        гражданский брак                 1      F    сотрудник     0   \n",
       "9         женат / замужем                 0      M    сотрудник     0   \n",
       "10        женат / замужем                 0      M    компаньон     0   \n",
       "11        женат / замужем                 0      F    сотрудник     0   \n",
       "12       гражданский брак                 1      M    пенсионер     0   \n",
       "13        женат / замужем                 0      F    сотрудник     0   \n",
       "14       гражданский брак                 1      F    компаньон     1   \n",
       "15        женат / замужем                 0      F    сотрудник     0   \n",
       "16        женат / замужем                 0      F    сотрудник     0   \n",
       "17       гражданский брак                 1      M    сотрудник     0   \n",
       "18         вдовец / вдова                 2      F    пенсионер     0   \n",
       "19              в разводе                 3      F    сотрудник     0   \n",
       "20        женат / замужем                 0      M    сотрудник     0   \n",
       "21       гражданский брак                 1      F    сотрудник     0   \n",
       "22       гражданский брак                 1      F    сотрудник     0   \n",
       "23       гражданский брак                 1      M    сотрудник     0   \n",
       "24  Не женат / не замужем                 4      F    пенсионер     0   \n",
       "25        женат / замужем                 0      M    пенсионер     0   \n",
       "26        женат / замужем                 0      M  госслужащий     0   \n",
       "27        женат / замужем                 0      M    сотрудник     0   \n",
       "28        женат / замужем                 0      F    сотрудник     0   \n",
       "29  Не женат / не замужем                 4      F    пенсионер     0   \n",
       "\n",
       "     total_income                                 purpose  \n",
       "0   253875.639453                           покупка жилья  \n",
       "1   112080.014102                 приобретение автомобиля  \n",
       "2   145885.952297                           покупка жилья  \n",
       "3   267628.550329              дополнительное образование  \n",
       "4   158616.077870                         сыграть свадьбу  \n",
       "5   255763.565419                           покупка жилья  \n",
       "6   240525.971920                       операции с жильем  \n",
       "7   135823.934197                             образование  \n",
       "8    95856.832424                   на проведение свадьбы  \n",
       "9   144425.938277                 покупка жилья для семьи  \n",
       "10  113943.491460                    покупка недвижимости  \n",
       "11   77069.234271       покупка коммерческой недвижимости  \n",
       "12            NaN                         сыграть свадьбу  \n",
       "13  130458.228857                 приобретение автомобиля  \n",
       "14  165127.911772              покупка жилой недвижимости  \n",
       "15  116820.904450  строительство собственной недвижимости  \n",
       "16  289202.704229                            недвижимость  \n",
       "17   90410.586745              строительство недвижимости  \n",
       "18   56823.777243      на покупку подержанного автомобиля  \n",
       "19  242831.107982            на покупку своего автомобиля  \n",
       "20  209552.644578                            недвижимость  \n",
       "21  131812.203909                 приобретение автомобиля  \n",
       "22  149681.140731      на покупку подержанного автомобиля  \n",
       "23  128265.720871                         сыграть свадьбу  \n",
       "24  290547.235997   операции с коммерческой недвижимостью  \n",
       "25   55112.757732                    покупка недвижимости  \n",
       "26            NaN                             образование  \n",
       "27  308848.983691  строительство собственной недвижимости  \n",
       "28  187863.237306  строительство собственной недвижимости  \n",
       "29            NaN        строительство жилой недвижимости  "
      ]
     },
     "execution_count": 182,
     "metadata": {},
     "output_type": "execute_result"
    }
   ],
   "source": [
    "df.head(30)"
   ]
  },
  {
   "cell_type": "code",
   "execution_count": 183,
   "metadata": {},
   "outputs": [
    {
     "name": "stdout",
     "output_type": "stream",
     "text": [
      "Кол-во явных дубликатов в таблице: 54\n"
     ]
    }
   ],
   "source": [
    "print('Кол-во явных дубликатов в таблице:', df.duplicated().sum())"
   ]
  },
  {
   "cell_type": "markdown",
   "metadata": {},
   "source": [
    "**Вывод**\n",
    "1. В таблице есть явные и неявные дубликаты.\n",
    "2. В таблице присутствуют пропуски.\n"
   ]
  },
  {
   "cell_type": "markdown",
   "metadata": {},
   "source": [
    "## Обработка и категоризация данных"
   ]
  },
  {
   "cell_type": "markdown",
   "metadata": {},
   "source": [
    "Для начала я изучу некоторые переменные и устраню ошибки в данных"
   ]
  },
  {
   "cell_type": "markdown",
   "metadata": {},
   "source": [
    "**children — количество детей в семье**"
   ]
  },
  {
   "cell_type": "code",
   "execution_count": 184,
   "metadata": {
    "scrolled": true
   },
   "outputs": [
    {
     "data": {
      "text/plain": [
       " 0     14149\n",
       " 1      4818\n",
       " 2      2055\n",
       " 3       330\n",
       " 20       76\n",
       "-1        47\n",
       " 4        41\n",
       " 5         9\n",
       "Name: children, dtype: int64"
      ]
     },
     "execution_count": 184,
     "metadata": {},
     "output_type": "execute_result"
    }
   ],
   "source": [
    "df['children'].value_counts()"
   ]
  },
  {
   "cell_type": "markdown",
   "metadata": {},
   "source": [
    "Вероятно, что вместо 20 детей имелось ввиду 2, т.к. на некоторых клавиатурах клавиши 2 и 0 расположены близко. Под -1 вероятнее всего подразумевается 0 детей. Подозреваю, что это особенность выгрузки данных из некоторой системы."
   ]
  },
  {
   "cell_type": "code",
   "execution_count": 185,
   "metadata": {},
   "outputs": [
    {
     "data": {
      "text/plain": [
       "0    14196\n",
       "1     4818\n",
       "2     2131\n",
       "3      330\n",
       "4       41\n",
       "5        9\n",
       "Name: children, dtype: int64"
      ]
     },
     "execution_count": 185,
     "metadata": {},
     "output_type": "execute_result"
    }
   ],
   "source": [
    "df['children']=df['children'].replace(20,2)\n",
    "df['children']=df['children'].replace(-1,0)\n",
    "#Проверка\n",
    "df['children'].value_counts()"
   ]
  },
  {
   "cell_type": "markdown",
   "metadata": {},
   "source": [
    "\n",
    "**days_employed — общий трудовой стаж в дня**\n"
   ]
  },
  {
   "cell_type": "markdown",
   "metadata": {},
   "source": [
    "Изначально я заметил две особенности в данных, которые меня насторожили:\n",
    "1) Присутствуют, как положительные, так и отрицательные данные. Эту проблему надо устранить, взяв все отрицательные значения по модулю.\n",
    "\n",
    "2) Некоторые значения отличаются друг от друга на порядки, что говорит о разном формате заполнения (дни/часы). Из гистограммы видно, что некоторая часть данных указана в формате часов, но большая часть данных указана в формате дней.Часы надо перевести в дни.\n",
    "\n",
    "Источником этих проблем может быть особенность выгрузки данных из некоторой системы."
   ]
  },
  {
   "cell_type": "code",
   "execution_count": 186,
   "metadata": {},
   "outputs": [
    {
     "data": {
      "image/png": "[encoded data removed]",
      "text/plain": [
       "<Figure size 432x288 with 1 Axes>"
      ]
     },
     "metadata": {
      "needs_background": "light"
     },
     "output_type": "display_data"
    }
   ],
   "source": [
    "df['days_employed'].hist();"
   ]
  },
  {
   "cell_type": "code",
   "execution_count": 187,
   "metadata": {},
   "outputs": [],
   "source": [
    "# Беру все значения по модулю\n",
    "df['days_employed'] = df['days_employed'].apply(abs)\n",
    "# Перевожу все значения трудового стажа в формат дней. \n",
    "# Из гистограммы выше видно, что пороговым значением для сравнения можно взять 300000\n",
    "df.loc[df['days_employed'] > 300000,'days_employed'] = df.loc[df['days_employed'] > 300000,'days_employed']/24"
   ]
  },
  {
   "cell_type": "code",
   "execution_count": 188,
   "metadata": {
    "scrolled": true
   },
   "outputs": [
    {
     "data": {
      "image/png": "[encoded data removed]",
      "text/plain": [
       "<Figure size 432x288 with 1 Axes>"
      ]
     },
     "metadata": {
      "needs_background": "light"
     },
     "output_type": "display_data"
    }
   ],
   "source": [
    "# Проверка\n",
    "df['days_employed'].hist();"
   ]
  },
  {
   "cell_type": "markdown",
   "metadata": {},
   "source": [
    "### Обработка пропусков"
   ]
  },
  {
   "cell_type": "code",
   "execution_count": 189,
   "metadata": {
    "scrolled": false
   },
   "outputs": [
    {
     "data": {
      "text/plain": [
       "children               0\n",
       "days_employed       2174\n",
       "dob_years              0\n",
       "education              0\n",
       "education_id           0\n",
       "family_status          0\n",
       "family_status_id       0\n",
       "gender                 0\n",
       "income_type            0\n",
       "debt                   0\n",
       "total_income        2174\n",
       "purpose                0\n",
       "dtype: int64"
      ]
     },
     "execution_count": 189,
     "metadata": {},
     "output_type": "execute_result"
    }
   ],
   "source": [
    "df.isna().sum()"
   ]
  },
  {
   "cell_type": "markdown",
   "metadata": {},
   "source": [
    "**dob_years — возраст клиента в годах**\n"
   ]
  },
  {
   "cell_type": "markdown",
   "metadata": {},
   "source": [
    "Метод isna() отображает только NaN и None значения. Но для переменной 'dob_years' значение 0 тоже можно считать пропуском."
   ]
  },
  {
   "cell_type": "code",
   "execution_count": 190,
   "metadata": {},
   "outputs": [
    {
     "data": {
      "text/plain": [
       "array([42, 36, 33, 32, 53, 27, 43, 50, 35, 41, 40, 65, 54, 56, 26, 48, 24,\n",
       "       21, 57, 67, 28, 63, 62, 47, 34, 68, 25, 31, 30, 20, 49, 37, 45, 61,\n",
       "       64, 44, 52, 46, 23, 38, 39, 51,  0, 59, 29, 60, 55, 58, 71, 22, 73,\n",
       "       66, 69, 19, 72, 70, 74, 75])"
      ]
     },
     "execution_count": 190,
     "metadata": {},
     "output_type": "execute_result"
    }
   ],
   "source": [
    "df['dob_years'].unique()"
   ]
  },
  {
   "cell_type": "code",
   "execution_count": 191,
   "metadata": {},
   "outputs": [
    {
     "data": {
      "text/plain": [
       "101"
      ]
     },
     "execution_count": 191,
     "metadata": {},
     "output_type": "execute_result"
    }
   ],
   "source": [
    "df['dob_years'][df['dob_years']== 0].count()"
   ]
  },
  {
   "cell_type": "markdown",
   "metadata": {},
   "source": [
    "По всей видимости клиентам с неизвестным возрастом присваивалось зн-ие 0 и такое встречается 101 раз."
   ]
  },
  {
   "cell_type": "markdown",
   "metadata": {},
   "source": [
    "Нулевые значения в dob_years заменю медианными значениями dob_years, взятыми по группам в соответствии с параметром children. \n",
    "На мой взгляд, возраст клиента (dob_years) и количество его детей (children) коррелирующие параметры."
   ]
  },
  {
   "cell_type": "code",
   "execution_count": 192,
   "metadata": {},
   "outputs": [],
   "source": [
    "for children in df['children'].unique():\n",
    "    median = df.loc[ ( df['children'] == children ) & ( df['dob_years'] != 0 ), 'dob_years'].median() \n",
    "    # условие df['dob_years'] != 0 для того, чтобы не портить медианное значение нулевыми элементами\n",
    "    df.loc[ ( df['dob_years'] == 0 ) & ( df['children'] == children ), 'dob_years'] = median"
   ]
  },
  {
   "cell_type": "code",
   "execution_count": 193,
   "metadata": {
    "scrolled": true
   },
   "outputs": [
    {
     "data": {
      "text/plain": [
       "0"
      ]
     },
     "execution_count": 193,
     "metadata": {},
     "output_type": "execute_result"
    }
   ],
   "source": [
    "#Проверка\n",
    "df['dob_years'][df['dob_years']== 0].count()"
   ]
  },
  {
   "cell_type": "markdown",
   "metadata": {},
   "source": [
    "\n",
    "**days_employed — общий трудовой стаж в днях**\n"
   ]
  },
  {
   "cell_type": "markdown",
   "metadata": {},
   "source": [
    "Пропущенные значения в days_employed заменю медианными значенями days_employed , взятыми по группам в соответствии с параметром dob_years. На мой взгляд, трудовой стаж (days_employed) и возраст клиента (dob_years) коррелирующие параметры.\n"
   ]
  },
  {
   "cell_type": "code",
   "execution_count": 194,
   "metadata": {},
   "outputs": [],
   "source": [
    "for dob_years in df['dob_years'].unique():\n",
    "    median = df.loc[df['dob_years'] == dob_years, 'days_employed'].median()\n",
    "    df.loc[ ( df['days_employed'].isna() ) & ( df['dob_years'] == dob_years ), 'days_employed'] = median"
   ]
  },
  {
   "cell_type": "markdown",
   "metadata": {},
   "source": [
    "\n",
    "**total_income — ежемесячный доход**\n"
   ]
  },
  {
   "cell_type": "markdown",
   "metadata": {},
   "source": [
    "Пропущенные значения в total_income заменю медианными значенями total_income, взятыми по группам в соответствии с параметром income_type. На мой взгляд, ежемесячный доход (total_income) и тип занятости (income_type) коррелирующие параметры. \n"
   ]
  },
  {
   "cell_type": "code",
   "execution_count": 195,
   "metadata": {},
   "outputs": [],
   "source": [
    "for income_type in df['income_type'].unique():\n",
    "    median = df.loc[df['income_type'] == income_type,'total_income'].median()\n",
    "    df.loc[ ( df['total_income'].isna() ) & ( df['income_type'] == income_type ),'total_income'] = median  "
   ]
  },
  {
   "cell_type": "code",
   "execution_count": 196,
   "metadata": {},
   "outputs": [
    {
     "data": {
      "text/plain": [
       "children            0\n",
       "days_employed       0\n",
       "dob_years           0\n",
       "education           0\n",
       "education_id        0\n",
       "family_status       0\n",
       "family_status_id    0\n",
       "gender              0\n",
       "income_type         0\n",
       "debt                0\n",
       "total_income        0\n",
       "purpose             0\n",
       "dtype: int64"
      ]
     },
     "execution_count": 196,
     "metadata": {},
     "output_type": "execute_result"
    }
   ],
   "source": [
    "#Проверка замены пустых значений:\n",
    "df.isna().sum()"
   ]
  },
  {
   "cell_type": "markdown",
   "metadata": {},
   "source": [
    "**Вывод**\n",
    "\n",
    "Явные и неявные пропуски в данных были устранены"
   ]
  },
  {
   "cell_type": "markdown",
   "metadata": {},
   "source": [
    "### Замена типа данных"
   ]
  },
  {
   "cell_type": "code",
   "execution_count": 197,
   "metadata": {},
   "outputs": [
    {
     "name": "stdout",
     "output_type": "stream",
     "text": [
      "<class 'pandas.core.frame.DataFrame'>\n",
      "RangeIndex: 21525 entries, 0 to 21524\n",
      "Data columns (total 12 columns):\n",
      " #   Column            Non-Null Count  Dtype  \n",
      "---  ------            --------------  -----  \n",
      " 0   children          21525 non-null  int64  \n",
      " 1   days_employed     21525 non-null  float64\n",
      " 2   dob_years         21525 non-null  float64\n",
      " 3   education         21525 non-null  object \n",
      " 4   education_id      21525 non-null  int64  \n",
      " 5   family_status     21525 non-null  object \n",
      " 6   family_status_id  21525 non-null  int64  \n",
      " 7   gender            21525 non-null  object \n",
      " 8   income_type       21525 non-null  object \n",
      " 9   debt              21525 non-null  int64  \n",
      " 10  total_income      21525 non-null  float64\n",
      " 11  purpose           21525 non-null  object \n",
      "dtypes: float64(3), int64(4), object(5)\n",
      "memory usage: 2.0+ MB\n"
     ]
    }
   ],
   "source": [
    "df.info()"
   ]
  },
  {
   "cell_type": "markdown",
   "metadata": {},
   "source": [
    "Для значений переменной days_employed желательно изменить тип данных на int, т.к. количество дней подразумевает целое число. Для этого я буду использовать метод .astype()"
   ]
  },
  {
   "cell_type": "code",
   "execution_count": 198,
   "metadata": {},
   "outputs": [],
   "source": [
    "df['days_employed'] = df['days_employed'].astype('int')"
   ]
  },
  {
   "cell_type": "markdown",
   "metadata": {},
   "source": [
    "### Обработка дубликатов"
   ]
  },
  {
   "cell_type": "markdown",
   "metadata": {},
   "source": [
    "**Поиск и удаление явных дубликатов**\n",
    "\n",
    "Для удаления явных дубликатов я буду использовать метод drop_duplicates().reset_index(drop = True) и обновлять значение индекса, удаляя предыдущее индексирование. Объединение одинаковых данных, взятых из разных систем может быть причиной возникновения дубликатов."
   ]
  },
  {
   "cell_type": "code",
   "execution_count": 199,
   "metadata": {},
   "outputs": [
    {
     "name": "stdout",
     "output_type": "stream",
     "text": [
      "Кол-во явных дубликатов в таблице до удаления:\n",
      "54\n",
      "Кол-во явных дубликатов в таблице после удаления:\n",
      "0\n"
     ]
    }
   ],
   "source": [
    "print('Кол-во явных дубликатов в таблице до удаления:')\n",
    "print(df.duplicated().sum())\n",
    "df = df.drop_duplicates().reset_index(drop = True)\n",
    "print('Кол-во явных дубликатов в таблице после удаления:')\n",
    "print(df.duplicated().sum())"
   ]
  },
  {
   "cell_type": "markdown",
   "metadata": {},
   "source": [
    "**Поиск и удаление неявных дубликатов**"
   ]
  },
  {
   "cell_type": "markdown",
   "metadata": {},
   "source": [
    "\n",
    "**education — уровень образования клиента**\n"
   ]
  },
  {
   "cell_type": "code",
   "execution_count": 200,
   "metadata": {},
   "outputs": [
    {
     "name": "stdout",
     "output_type": "stream",
     "text": [
      "Кол-во уникальных значений в категориальной переменной education до удаления явных дубликатов:\n",
      "среднее                13705\n",
      "высшее                  4710\n",
      "СРЕДНЕЕ                  772\n",
      "Среднее                  711\n",
      "неоконченное высшее      668\n",
      "ВЫСШЕЕ                   273\n",
      "Высшее                   268\n",
      "начальное                250\n",
      "Неоконченное высшее       47\n",
      "НЕОКОНЧЕННОЕ ВЫСШЕЕ       29\n",
      "НАЧАЛЬНОЕ                 17\n",
      "Начальное                 15\n",
      "ученая степень             4\n",
      "УЧЕНАЯ СТЕПЕНЬ             1\n",
      "Ученая степень             1\n",
      "Name: education, dtype: int64\n"
     ]
    }
   ],
   "source": [
    "print('Кол-во уникальных значений в категориальной переменной education до удаления явных дубликатов:')\n",
    "print(df['education'].value_counts())"
   ]
  },
  {
   "cell_type": "markdown",
   "metadata": {},
   "source": [
    "Для того, чтобы избавится от неявных дубликатов, я приведу все значения переменной 'education' к нижнему регистру, воспользовавшись методом .str.lower()"
   ]
  },
  {
   "cell_type": "code",
   "execution_count": 201,
   "metadata": {},
   "outputs": [
    {
     "name": "stdout",
     "output_type": "stream",
     "text": [
      "Кол-во уникальных значений в категориальной переменной education  после удаления явных дубликатов:\n",
      "среднее                15188\n",
      "высшее                  5251\n",
      "неоконченное высшее      744\n",
      "начальное                282\n",
      "ученая степень             6\n",
      "Name: education, dtype: int64\n"
     ]
    }
   ],
   "source": [
    "df['education'] = df['education'].str.lower()\n",
    "print('Кол-во уникальных значений в категориальной переменной education  после удаления явных дубликатов:')\n",
    "print(df['education'].value_counts())"
   ]
  },
  {
   "cell_type": "markdown",
   "metadata": {},
   "source": [
    "После приведения всех значений к нижнему регистру нужно проверить явные дубликаты еще раз."
   ]
  },
  {
   "cell_type": "code",
   "execution_count": 202,
   "metadata": {},
   "outputs": [
    {
     "name": "stdout",
     "output_type": "stream",
     "text": [
      "Кол-во явных дубликатов в таблице до удаления:\n",
      "17\n",
      "Кол-во явных дубликатов в таблице после удаления:\n",
      "0\n"
     ]
    }
   ],
   "source": [
    "print('Кол-во явных дубликатов в таблице до удаления:')\n",
    "print(df.duplicated().sum())\n",
    "df = df.drop_duplicates().reset_index(drop = True)\n",
    "print('Кол-во явных дубликатов в таблице после удаления:')\n",
    "print(df.duplicated().sum())"
   ]
  },
  {
   "cell_type": "markdown",
   "metadata": {},
   "source": [
    "\n",
    "**gender — пол клиента**\n"
   ]
  },
  {
   "cell_type": "code",
   "execution_count": 203,
   "metadata": {
    "scrolled": true
   },
   "outputs": [
    {
     "name": "stdout",
     "output_type": "stream",
     "text": [
      "Кол-во уникальных значений в категориальной переменной gender:\n",
      "F      14174\n",
      "M       7279\n",
      "XNA        1\n",
      "Name: gender, dtype: int64\n"
     ]
    }
   ],
   "source": [
    "print('Кол-во уникальных значений в категориальной переменной gender:')\n",
    "print(df['gender'].value_counts())"
   ]
  },
  {
   "cell_type": "markdown",
   "metadata": {},
   "source": [
    " Найден артефакт 'XNA'. Думаю, можно избавиться, чтобы не портить картину исследования."
   ]
  },
  {
   "cell_type": "code",
   "execution_count": 204,
   "metadata": {
    "scrolled": true
   },
   "outputs": [
    {
     "name": "stdout",
     "output_type": "stream",
     "text": [
      "Кол-во уникальных значений в категориальной переменной gender после удаления 'XNA':\n",
      "F    14174\n",
      "M     7279\n",
      "Name: gender, dtype: int64\n"
     ]
    }
   ],
   "source": [
    "df = df.loc[df['gender'] != 'XNA']\n",
    "print('Кол-во уникальных значений в категориальной переменной gender после удаления \\'XNA\\':')\n",
    "print(df['gender'].value_counts())"
   ]
  },
  {
   "cell_type": "markdown",
   "metadata": {},
   "source": [
    "**Вывод**\n",
    "\n",
    "Явные и неявные дубликаты найдены и устранены."
   ]
  },
  {
   "cell_type": "markdown",
   "metadata": {},
   "source": [
    "### Выявление основных целей получения кредитов при помощи лемматизации"
   ]
  },
  {
   "cell_type": "markdown",
   "metadata": {},
   "source": [
    "**purpose — цель получения кредита**"
   ]
  },
  {
   "cell_type": "code",
   "execution_count": 205,
   "metadata": {},
   "outputs": [
    {
     "name": "stdout",
     "output_type": "stream",
     "text": [
      "Кол-во уникальных значений в категориальной переменной purpose:\n",
      "свадьба                                   791\n",
      "на проведение свадьбы                     768\n",
      "сыграть свадьбу                           765\n",
      "операции с недвижимостью                  675\n",
      "покупка коммерческой недвижимости         661\n",
      "операции с жильем                         652\n",
      "покупка жилья для сдачи                   651\n",
      "операции с коммерческой недвижимостью     650\n",
      "жилье                                     646\n",
      "покупка жилья                             646\n",
      "покупка жилья для семьи                   638\n",
      "строительство собственной недвижимости    635\n",
      "недвижимость                              633\n",
      "операции со своей недвижимостью           627\n",
      "строительство жилой недвижимости          624\n",
      "покупка своего жилья                      620\n",
      "покупка недвижимости                      620\n",
      "строительство недвижимости                619\n",
      "ремонт жилью                              607\n",
      "покупка жилой недвижимости                606\n",
      "на покупку своего автомобиля              505\n",
      "заняться высшим образованием              496\n",
      "автомобиль                                494\n",
      "сделка с подержанным автомобилем          486\n",
      "свой автомобиль                           478\n",
      "автомобили                                478\n",
      "на покупку подержанного автомобиля        478\n",
      "на покупку автомобиля                     471\n",
      "приобретение автомобиля                   461\n",
      "дополнительное образование                460\n",
      "сделка с автомобилем                      455\n",
      "высшее образование                        452\n",
      "образование                               447\n",
      "получение дополнительного образования     446\n",
      "получение образования                     442\n",
      "профильное образование                    436\n",
      "получение высшего образования             426\n",
      "заняться образованием                     408\n",
      "Name: purpose, dtype: int64\n"
     ]
    }
   ],
   "source": [
    "print('Кол-во уникальных значений в категориальной переменной purpose:')\n",
    "print(df['purpose'].value_counts())"
   ]
  },
  {
   "cell_type": "markdown",
   "metadata": {},
   "source": [
    "Для начала необходимо получить уникальные значени переменной 'purpose', склеить их в одну строку и лемматизировать"
   ]
  },
  {
   "cell_type": "code",
   "execution_count": 206,
   "metadata": {},
   "outputs": [
    {
     "name": "stdout",
     "output_type": "stream",
     "text": [
      "['покупка', ' ', 'жилье', ' ', 'приобретение', ' ', 'автомобиль', ' ', 'дополнительный', ' ', 'образование', ' ', 'сыграть', ' ', 'свадьба', ' ', 'операция', ' ', 'с', ' ', 'жилье', ' ', 'образование', ' ', 'на', ' ', 'проведение', ' ', 'свадьба', ' ', 'покупка', ' ', 'жилье', ' ', 'для', ' ', 'семья', ' ', 'покупка', ' ', 'недвижимость', ' ', 'покупка', ' ', 'коммерческий', ' ', 'недвижимость', ' ', 'покупка', ' ', 'жилой', ' ', 'недвижимость', ' ', 'строительство', ' ', 'собственный', ' ', 'недвижимость', ' ', 'недвижимость', ' ', 'строительство', ' ', 'недвижимость', ' ', 'на', ' ', 'покупка', ' ', 'подержать', ' ', 'автомобиль', ' ', 'на', ' ', 'покупка', ' ', 'свой', ' ', 'автомобиль', ' ', 'операция', ' ', 'с', ' ', 'коммерческий', ' ', 'недвижимость', ' ', 'строительство', ' ', 'жилой', ' ', 'недвижимость', ' ', 'жилье', ' ', 'операция', ' ', 'со', ' ', 'свой', ' ', 'недвижимость', ' ', 'автомобиль', ' ', 'заниматься', ' ', 'образование', ' ', 'сделка', ' ', 'с', ' ', 'подержать', ' ', 'автомобиль', ' ', 'получение', ' ', 'образование', ' ', 'автомобиль', ' ', 'свадьба', ' ', 'получение', ' ', 'дополнительный', ' ', 'образование', ' ', 'покупка', ' ', 'свой', ' ', 'жилье', ' ', 'операция', ' ', 'с', ' ', 'недвижимость', ' ', 'получение', ' ', 'высокий', ' ', 'образование', ' ', 'свой', ' ', 'автомобиль', ' ', 'сделка', ' ', 'с', ' ', 'автомобиль', ' ', 'профильный', ' ', 'образование', ' ', 'высокий', ' ', 'образование', ' ', 'покупка', ' ', 'жилье', ' ', 'для', ' ', 'сдача', ' ', 'на', ' ', 'покупка', ' ', 'автомобиль', ' ', 'ремонт', ' ', 'жилье', ' ', 'заниматься', ' ', 'высокий', ' ', 'образование', '\\n']\n"
     ]
    }
   ],
   "source": [
    "m = Mystem()\n",
    "purp_str = ' '.join(df['purpose'].unique())\n",
    "#print(purp_str)\n",
    "lemmas = m.lemmatize(purp_str)\n",
    "print(lemmas)"
   ]
  },
  {
   "cell_type": "markdown",
   "metadata": {},
   "source": [
    "Теперь необходимо посчитать частоту появления слов и выделить из этого списка самые частые существительные - это будут основные категории. "
   ]
  },
  {
   "cell_type": "code",
   "execution_count": 207,
   "metadata": {},
   "outputs": [
    {
     "name": "stdout",
     "output_type": "stream",
     "text": [
      "Counter({' ': 96, 'покупка': 10, 'недвижимость': 10, 'автомобиль': 9, 'образование': 9, 'жилье': 7, 'с': 5, 'операция': 4, 'на': 4, 'свой': 4, 'свадьба': 3, 'строительство': 3, 'получение': 3, 'высокий': 3, 'дополнительный': 2, 'для': 2, 'коммерческий': 2, 'жилой': 2, 'подержать': 2, 'заниматься': 2, 'сделка': 2, 'приобретение': 1, 'сыграть': 1, 'проведение': 1, 'семья': 1, 'собственный': 1, 'со': 1, 'профильный': 1, 'сдача': 1, 'ремонт': 1, '\\n': 1})\n"
     ]
    }
   ],
   "source": [
    "print(Counter(lemmas)) \n",
    "category_list = ['недвижимость','автомобиль','образование','жилье','операция','свадьба','строительство']"
   ]
  },
  {
   "cell_type": "markdown",
   "metadata": {},
   "source": [
    "Далее следует написать функцию для apply, которая будет лемматизировать последовательно каждую ячейку столбца purpose и проверять, какая из категорий обнаруживается в лемматизированном варианте"
   ]
  },
  {
   "cell_type": "code",
   "execution_count": 208,
   "metadata": {},
   "outputs": [],
   "source": [
    "def purpose_category(purpose):\n",
    "    for category in category_list:\n",
    "        # m.lemmatize(purpose) объект типа list и в нем можно искать совпадение с помощь in\n",
    "        if category in m.lemmatize(purpose): \n",
    "            return category\n",
    "    # В случае, если значение не вошло в категории category_list,\n",
    "    # будет присвоено новое значение 'прочее' \n",
    "    return 'прочее' "
   ]
  },
  {
   "cell_type": "code",
   "execution_count": 209,
   "metadata": {
    "scrolled": true
   },
   "outputs": [
    {
     "data": {
      "text/html": [
       "<div>\n",
       "<style scoped>\n",
       "    .dataframe tbody tr th:only-of-type {\n",
       "        vertical-align: middle;\n",
       "    }\n",
       "\n",
       "    .dataframe tbody tr th {\n",
       "        vertical-align: top;\n",
       "    }\n",
       "\n",
       "    .dataframe thead th {\n",
       "        text-align: right;\n",
       "    }\n",
       "</style>\n",
       "<table border=\"1\" class=\"dataframe\">\n",
       "  <thead>\n",
       "    <tr style=\"text-align: right;\">\n",
       "      <th></th>\n",
       "      <th>children</th>\n",
       "      <th>days_employed</th>\n",
       "      <th>dob_years</th>\n",
       "      <th>education</th>\n",
       "      <th>education_id</th>\n",
       "      <th>family_status</th>\n",
       "      <th>family_status_id</th>\n",
       "      <th>gender</th>\n",
       "      <th>income_type</th>\n",
       "      <th>debt</th>\n",
       "      <th>total_income</th>\n",
       "      <th>purpose</th>\n",
       "    </tr>\n",
       "  </thead>\n",
       "  <tbody>\n",
       "    <tr>\n",
       "      <th>0</th>\n",
       "      <td>1</td>\n",
       "      <td>8437</td>\n",
       "      <td>42.0</td>\n",
       "      <td>высшее</td>\n",
       "      <td>0</td>\n",
       "      <td>женат / замужем</td>\n",
       "      <td>0</td>\n",
       "      <td>F</td>\n",
       "      <td>сотрудник</td>\n",
       "      <td>0</td>\n",
       "      <td>253875.639453</td>\n",
       "      <td>покупка жилья</td>\n",
       "    </tr>\n",
       "    <tr>\n",
       "      <th>1</th>\n",
       "      <td>1</td>\n",
       "      <td>4024</td>\n",
       "      <td>36.0</td>\n",
       "      <td>среднее</td>\n",
       "      <td>1</td>\n",
       "      <td>женат / замужем</td>\n",
       "      <td>0</td>\n",
       "      <td>F</td>\n",
       "      <td>сотрудник</td>\n",
       "      <td>0</td>\n",
       "      <td>112080.014102</td>\n",
       "      <td>приобретение автомобиля</td>\n",
       "    </tr>\n",
       "    <tr>\n",
       "      <th>2</th>\n",
       "      <td>0</td>\n",
       "      <td>5623</td>\n",
       "      <td>33.0</td>\n",
       "      <td>среднее</td>\n",
       "      <td>1</td>\n",
       "      <td>женат / замужем</td>\n",
       "      <td>0</td>\n",
       "      <td>M</td>\n",
       "      <td>сотрудник</td>\n",
       "      <td>0</td>\n",
       "      <td>145885.952297</td>\n",
       "      <td>покупка жилья</td>\n",
       "    </tr>\n",
       "    <tr>\n",
       "      <th>3</th>\n",
       "      <td>3</td>\n",
       "      <td>4124</td>\n",
       "      <td>32.0</td>\n",
       "      <td>среднее</td>\n",
       "      <td>1</td>\n",
       "      <td>женат / замужем</td>\n",
       "      <td>0</td>\n",
       "      <td>M</td>\n",
       "      <td>сотрудник</td>\n",
       "      <td>0</td>\n",
       "      <td>267628.550329</td>\n",
       "      <td>дополнительное образование</td>\n",
       "    </tr>\n",
       "    <tr>\n",
       "      <th>4</th>\n",
       "      <td>0</td>\n",
       "      <td>14177</td>\n",
       "      <td>53.0</td>\n",
       "      <td>среднее</td>\n",
       "      <td>1</td>\n",
       "      <td>гражданский брак</td>\n",
       "      <td>1</td>\n",
       "      <td>F</td>\n",
       "      <td>пенсионер</td>\n",
       "      <td>0</td>\n",
       "      <td>158616.077870</td>\n",
       "      <td>сыграть свадьбу</td>\n",
       "    </tr>\n",
       "  </tbody>\n",
       "</table>\n",
       "</div>"
      ],
      "text/plain": [
       "   children  days_employed  dob_years education  education_id  \\\n",
       "0         1           8437       42.0    высшее             0   \n",
       "1         1           4024       36.0   среднее             1   \n",
       "2         0           5623       33.0   среднее             1   \n",
       "3         3           4124       32.0   среднее             1   \n",
       "4         0          14177       53.0   среднее             1   \n",
       "\n",
       "      family_status  family_status_id gender income_type  debt   total_income  \\\n",
       "0   женат / замужем                 0      F   сотрудник     0  253875.639453   \n",
       "1   женат / замужем                 0      F   сотрудник     0  112080.014102   \n",
       "2   женат / замужем                 0      M   сотрудник     0  145885.952297   \n",
       "3   женат / замужем                 0      M   сотрудник     0  267628.550329   \n",
       "4  гражданский брак                 1      F   пенсионер     0  158616.077870   \n",
       "\n",
       "                      purpose  \n",
       "0               покупка жилья  \n",
       "1     приобретение автомобиля  \n",
       "2               покупка жилья  \n",
       "3  дополнительное образование  \n",
       "4             сыграть свадьбу  "
      ]
     },
     "execution_count": 209,
     "metadata": {},
     "output_type": "execute_result"
    }
   ],
   "source": [
    "# таблица до преобразования\n",
    "df.head()"
   ]
  },
  {
   "cell_type": "code",
   "execution_count": 210,
   "metadata": {},
   "outputs": [],
   "source": [
    "df['purpose'] = df['purpose'].apply(purpose_category)"
   ]
  },
  {
   "cell_type": "code",
   "execution_count": 211,
   "metadata": {
    "scrolled": false
   },
   "outputs": [
    {
     "data": {
      "text/html": [
       "<div>\n",
       "<style scoped>\n",
       "    .dataframe tbody tr th:only-of-type {\n",
       "        vertical-align: middle;\n",
       "    }\n",
       "\n",
       "    .dataframe tbody tr th {\n",
       "        vertical-align: top;\n",
       "    }\n",
       "\n",
       "    .dataframe thead th {\n",
       "        text-align: right;\n",
       "    }\n",
       "</style>\n",
       "<table border=\"1\" class=\"dataframe\">\n",
       "  <thead>\n",
       "    <tr style=\"text-align: right;\">\n",
       "      <th></th>\n",
       "      <th>children</th>\n",
       "      <th>days_employed</th>\n",
       "      <th>dob_years</th>\n",
       "      <th>education</th>\n",
       "      <th>education_id</th>\n",
       "      <th>family_status</th>\n",
       "      <th>family_status_id</th>\n",
       "      <th>gender</th>\n",
       "      <th>income_type</th>\n",
       "      <th>debt</th>\n",
       "      <th>total_income</th>\n",
       "      <th>purpose</th>\n",
       "    </tr>\n",
       "  </thead>\n",
       "  <tbody>\n",
       "    <tr>\n",
       "      <th>0</th>\n",
       "      <td>1</td>\n",
       "      <td>8437</td>\n",
       "      <td>42.0</td>\n",
       "      <td>высшее</td>\n",
       "      <td>0</td>\n",
       "      <td>женат / замужем</td>\n",
       "      <td>0</td>\n",
       "      <td>F</td>\n",
       "      <td>сотрудник</td>\n",
       "      <td>0</td>\n",
       "      <td>253875.639453</td>\n",
       "      <td>жилье</td>\n",
       "    </tr>\n",
       "    <tr>\n",
       "      <th>1</th>\n",
       "      <td>1</td>\n",
       "      <td>4024</td>\n",
       "      <td>36.0</td>\n",
       "      <td>среднее</td>\n",
       "      <td>1</td>\n",
       "      <td>женат / замужем</td>\n",
       "      <td>0</td>\n",
       "      <td>F</td>\n",
       "      <td>сотрудник</td>\n",
       "      <td>0</td>\n",
       "      <td>112080.014102</td>\n",
       "      <td>автомобиль</td>\n",
       "    </tr>\n",
       "    <tr>\n",
       "      <th>2</th>\n",
       "      <td>0</td>\n",
       "      <td>5623</td>\n",
       "      <td>33.0</td>\n",
       "      <td>среднее</td>\n",
       "      <td>1</td>\n",
       "      <td>женат / замужем</td>\n",
       "      <td>0</td>\n",
       "      <td>M</td>\n",
       "      <td>сотрудник</td>\n",
       "      <td>0</td>\n",
       "      <td>145885.952297</td>\n",
       "      <td>жилье</td>\n",
       "    </tr>\n",
       "    <tr>\n",
       "      <th>3</th>\n",
       "      <td>3</td>\n",
       "      <td>4124</td>\n",
       "      <td>32.0</td>\n",
       "      <td>среднее</td>\n",
       "      <td>1</td>\n",
       "      <td>женат / замужем</td>\n",
       "      <td>0</td>\n",
       "      <td>M</td>\n",
       "      <td>сотрудник</td>\n",
       "      <td>0</td>\n",
       "      <td>267628.550329</td>\n",
       "      <td>образование</td>\n",
       "    </tr>\n",
       "    <tr>\n",
       "      <th>4</th>\n",
       "      <td>0</td>\n",
       "      <td>14177</td>\n",
       "      <td>53.0</td>\n",
       "      <td>среднее</td>\n",
       "      <td>1</td>\n",
       "      <td>гражданский брак</td>\n",
       "      <td>1</td>\n",
       "      <td>F</td>\n",
       "      <td>пенсионер</td>\n",
       "      <td>0</td>\n",
       "      <td>158616.077870</td>\n",
       "      <td>свадьба</td>\n",
       "    </tr>\n",
       "  </tbody>\n",
       "</table>\n",
       "</div>"
      ],
      "text/plain": [
       "   children  days_employed  dob_years education  education_id  \\\n",
       "0         1           8437       42.0    высшее             0   \n",
       "1         1           4024       36.0   среднее             1   \n",
       "2         0           5623       33.0   среднее             1   \n",
       "3         3           4124       32.0   среднее             1   \n",
       "4         0          14177       53.0   среднее             1   \n",
       "\n",
       "      family_status  family_status_id gender income_type  debt   total_income  \\\n",
       "0   женат / замужем                 0      F   сотрудник     0  253875.639453   \n",
       "1   женат / замужем                 0      F   сотрудник     0  112080.014102   \n",
       "2   женат / замужем                 0      M   сотрудник     0  145885.952297   \n",
       "3   женат / замужем                 0      M   сотрудник     0  267628.550329   \n",
       "4  гражданский брак                 1      F   пенсионер     0  158616.077870   \n",
       "\n",
       "       purpose  \n",
       "0        жилье  \n",
       "1   автомобиль  \n",
       "2        жилье  \n",
       "3  образование  \n",
       "4      свадьба  "
      ]
     },
     "execution_count": 211,
     "metadata": {},
     "output_type": "execute_result"
    }
   ],
   "source": [
    "# таблица после преобразования\n",
    "df.head()"
   ]
  },
  {
   "cell_type": "code",
   "execution_count": 212,
   "metadata": {},
   "outputs": [
    {
     "name": "stdout",
     "output_type": "stream",
     "text": [
      "['жилье' 'автомобиль' 'образование' 'свадьба' 'недвижимость']\n"
     ]
    }
   ],
   "source": [
    "# Все уникальные значения переменной purpose\n",
    "print(df['purpose'].unique())"
   ]
  },
  {
   "cell_type": "markdown",
   "metadata": {},
   "source": [
    "**Вывод**\n",
    "\n",
    "Из общей массы были выделены основные цели взятия кредита. При помощи лемматизации все значения переменной purpose были упорядочены. Произведенная процедура упростит процесс анализа данных в дальнейшем."
   ]
  },
  {
   "cell_type": "markdown",
   "metadata": {},
   "source": [
    "### Категоризация данных"
   ]
  },
  {
   "cell_type": "markdown",
   "metadata": {},
   "source": [
    "В данных есть словари. В таблице имеются по 2 параметра с образованием и семейным статусом. Именно по ним я и буду выделять словари."
   ]
  },
  {
   "cell_type": "markdown",
   "metadata": {},
   "source": [
    "**Категоризация данных по уровню образования ('education_id', 'education')**"
   ]
  },
  {
   "cell_type": "code",
   "execution_count": 213,
   "metadata": {},
   "outputs": [
    {
     "data": {
      "text/html": [
       "<div>\n",
       "<style scoped>\n",
       "    .dataframe tbody tr th:only-of-type {\n",
       "        vertical-align: middle;\n",
       "    }\n",
       "\n",
       "    .dataframe tbody tr th {\n",
       "        vertical-align: top;\n",
       "    }\n",
       "\n",
       "    .dataframe thead th {\n",
       "        text-align: right;\n",
       "    }\n",
       "</style>\n",
       "<table border=\"1\" class=\"dataframe\">\n",
       "  <thead>\n",
       "    <tr style=\"text-align: right;\">\n",
       "      <th></th>\n",
       "      <th>education_id</th>\n",
       "      <th>education</th>\n",
       "    </tr>\n",
       "  </thead>\n",
       "  <tbody>\n",
       "    <tr>\n",
       "      <th>0</th>\n",
       "      <td>0</td>\n",
       "      <td>высшее</td>\n",
       "    </tr>\n",
       "    <tr>\n",
       "      <th>1</th>\n",
       "      <td>1</td>\n",
       "      <td>среднее</td>\n",
       "    </tr>\n",
       "    <tr>\n",
       "      <th>13</th>\n",
       "      <td>2</td>\n",
       "      <td>неоконченное высшее</td>\n",
       "    </tr>\n",
       "    <tr>\n",
       "      <th>31</th>\n",
       "      <td>3</td>\n",
       "      <td>начальное</td>\n",
       "    </tr>\n",
       "    <tr>\n",
       "      <th>2962</th>\n",
       "      <td>4</td>\n",
       "      <td>ученая степень</td>\n",
       "    </tr>\n",
       "  </tbody>\n",
       "</table>\n",
       "</div>"
      ],
      "text/plain": [
       "      education_id            education\n",
       "0                0               высшее\n",
       "1                1              среднее\n",
       "13               2  неоконченное высшее\n",
       "31               3            начальное\n",
       "2962             4       ученая степень"
      ]
     },
     "execution_count": 213,
     "metadata": {},
     "output_type": "execute_result"
    }
   ],
   "source": [
    "df[['education_id', 'education']].drop_duplicates()"
   ]
  },
  {
   "cell_type": "markdown",
   "metadata": {},
   "source": [
    "**Категоризация данных по семейному положению ('family_status_id', 'family_status')**"
   ]
  },
  {
   "cell_type": "code",
   "execution_count": 214,
   "metadata": {},
   "outputs": [
    {
     "data": {
      "text/html": [
       "<div>\n",
       "<style scoped>\n",
       "    .dataframe tbody tr th:only-of-type {\n",
       "        vertical-align: middle;\n",
       "    }\n",
       "\n",
       "    .dataframe tbody tr th {\n",
       "        vertical-align: top;\n",
       "    }\n",
       "\n",
       "    .dataframe thead th {\n",
       "        text-align: right;\n",
       "    }\n",
       "</style>\n",
       "<table border=\"1\" class=\"dataframe\">\n",
       "  <thead>\n",
       "    <tr style=\"text-align: right;\">\n",
       "      <th></th>\n",
       "      <th>family_status_id</th>\n",
       "      <th>family_status</th>\n",
       "    </tr>\n",
       "  </thead>\n",
       "  <tbody>\n",
       "    <tr>\n",
       "      <th>0</th>\n",
       "      <td>0</td>\n",
       "      <td>женат / замужем</td>\n",
       "    </tr>\n",
       "    <tr>\n",
       "      <th>4</th>\n",
       "      <td>1</td>\n",
       "      <td>гражданский брак</td>\n",
       "    </tr>\n",
       "    <tr>\n",
       "      <th>18</th>\n",
       "      <td>2</td>\n",
       "      <td>вдовец / вдова</td>\n",
       "    </tr>\n",
       "    <tr>\n",
       "      <th>19</th>\n",
       "      <td>3</td>\n",
       "      <td>в разводе</td>\n",
       "    </tr>\n",
       "    <tr>\n",
       "      <th>24</th>\n",
       "      <td>4</td>\n",
       "      <td>Не женат / не замужем</td>\n",
       "    </tr>\n",
       "  </tbody>\n",
       "</table>\n",
       "</div>"
      ],
      "text/plain": [
       "    family_status_id          family_status\n",
       "0                  0        женат / замужем\n",
       "4                  1       гражданский брак\n",
       "18                 2         вдовец / вдова\n",
       "19                 3              в разводе\n",
       "24                 4  Не женат / не замужем"
      ]
     },
     "execution_count": 214,
     "metadata": {},
     "output_type": "execute_result"
    }
   ],
   "source": [
    "df[['family_status_id', 'family_status']].drop_duplicates()"
   ]
  },
  {
   "cell_type": "markdown",
   "metadata": {},
   "source": [
    "**Категоризация данных по количеству детей в семье ('children')**"
   ]
  },
  {
   "cell_type": "markdown",
   "metadata": {},
   "source": [
    "Имеет смысл разбить данные на категории согласно количеству детей: \n",
    "\n",
    "- нет детей;\n",
    "\n",
    "- есть дети (1-2); \n",
    "\n",
    "- многодетные (>3)\n",
    "\n",
    "Для этого я напишу функцию children_count(), которая в зависимости от количества детей будет присваивать новому столбцу 'children_amount_category' одно из трех значений (нет детей/есть дети/многодетные)"
   ]
  },
  {
   "cell_type": "code",
   "execution_count": 215,
   "metadata": {},
   "outputs": [],
   "source": [
    "def children_count(children):\n",
    "    if children == 0:\n",
    "        return 'нет детей'\n",
    "    \n",
    "    elif children > 3:\n",
    "        return 'многодетные'\n",
    "    \n",
    "    else:\n",
    "        return 'есть дети'\n"
   ]
  },
  {
   "cell_type": "markdown",
   "metadata": {},
   "source": [
    "Теперь применю эту функцию ко всему датасету с помощью apply()"
   ]
  },
  {
   "cell_type": "code",
   "execution_count": 216,
   "metadata": {},
   "outputs": [
    {
     "data": {
      "text/plain": [
       "нет детей      14137\n",
       "есть дети       7266\n",
       "многодетные       50\n",
       "Name: children_amount_category, dtype: int64"
      ]
     },
     "execution_count": 216,
     "metadata": {},
     "output_type": "execute_result"
    }
   ],
   "source": [
    "df['children_amount_category'] = df['children'].apply(children_count)\n",
    "df['children_amount_category'].value_counts()"
   ]
  },
  {
   "cell_type": "markdown",
   "metadata": {},
   "source": [
    "**Категоризация данных по уровню дохода ('total_income')**"
   ]
  },
  {
   "cell_type": "markdown",
   "metadata": {},
   "source": [
    "Имеет смысл разбить данные на категории согласно уровню дохода: \n",
    "\n",
    "- низкий (< 0.5 от медианного значения 'total_income');\n",
    "\n",
    "- высокий (> 1.5 от медианного значения 'total_income'); \n",
    "\n",
    "- средний (все остальные)\n",
    "\n",
    "Для этого я напишу функцию income_level_count(), которая в зависимости от уровня дохода будет присваивать новому столбцу 'income_level' одно из трех значений (низкий/высокий/средний)"
   ]
  },
  {
   "cell_type": "code",
   "execution_count": 217,
   "metadata": {},
   "outputs": [],
   "source": [
    "# медианное значение total_income\n",
    "median_income = df['total_income'].median() \n",
    "def income_level_count(income):\n",
    "    \n",
    "    if income < 0.5 * median_income:\n",
    "        return 'низкий'\n",
    "    if income > 1.5 * median_income:\n",
    "        return 'высокий'\n",
    "    \n",
    "    return 'средний'\n",
    "        "
   ]
  },
  {
   "cell_type": "code",
   "execution_count": 218,
   "metadata": {},
   "outputs": [
    {
     "data": {
      "text/plain": [
       "средний    15554\n",
       "высокий     4320\n",
       "низкий      1579\n",
       "Name: income_level, dtype: int64"
      ]
     },
     "execution_count": 218,
     "metadata": {},
     "output_type": "execute_result"
    }
   ],
   "source": [
    "df['income_level'] = df['total_income'].apply(income_level_count)\n",
    "df['income_level'].value_counts()"
   ]
  },
  {
   "cell_type": "markdown",
   "metadata": {},
   "source": [
    "**Вывод**"
   ]
  },
  {
   "cell_type": "markdown",
   "metadata": {},
   "source": [
    "Датасет был разбит на категории согласно уровню образования клиентов, семейному положению, кол-ву детей в семье и уровню дохода."
   ]
  },
  {
   "cell_type": "markdown",
   "metadata": {},
   "source": [
    "## Исследование надежности заемщиков"
   ]
  },
  {
   "cell_type": "markdown",
   "metadata": {},
   "source": [
    "- **Есть ли зависимость между наличием детей и возвратом кредита в срок?**"
   ]
  },
  {
   "cell_type": "markdown",
   "metadata": {},
   "source": [
    "Для ответа на этот вопрос я составлю таблицу report_children, в которой будут столбцы:\n",
    "\n",
    "- 'children_amount_category', характеризующий заемщиков согласно количеству детей в семье;\n",
    "- 'no_debt_amount', отображающий кол-во клиентов не имеющих задолженностей по возврату кредитов; \n",
    "- 'debt_amount', отображающий кол-во клиентов имеющих задолженности по возврату кредитов;\n",
    "- 'borrower_reliability', характеризующий надежность заемщиков. В нем отображается процент клиентов, не имеющих кредитных задолженностей (debt = 0). Чем больше это значение, тем надежнее рассматриваемая категория клиентов."
   ]
  },
  {
   "cell_type": "code",
   "execution_count": 219,
   "metadata": {},
   "outputs": [
    {
     "data": {
      "text/html": [
       "<style  type=\"text/css\" >\n",
       "</style><table id=\"T_ac39f_\" ><thead>    <tr>        <th class=\"blank level0\" ></th>        <th class=\"col_heading level0 col0\" >no_debt_amount</th>        <th class=\"col_heading level0 col1\" >debt_amount</th>        <th class=\"col_heading level0 col2\" >borrower_reliability</th>    </tr>    <tr>        <th class=\"index_name level0\" >children_amount_category</th>        <th class=\"blank\" ></th>        <th class=\"blank\" ></th>        <th class=\"blank\" ></th>    </tr></thead><tbody>\n",
       "                <tr>\n",
       "                        <th id=\"T_ac39f_level0_row0\" class=\"row_heading level0 row0\" >нет детей</th>\n",
       "                        <td id=\"T_ac39f_row0_col0\" class=\"data row0 col0\" >13073</td>\n",
       "                        <td id=\"T_ac39f_row0_col1\" class=\"data row0 col1\" >1064</td>\n",
       "                        <td id=\"T_ac39f_row0_col2\" class=\"data row0 col2\" >92.47%</td>\n",
       "            </tr>\n",
       "            <tr>\n",
       "                        <th id=\"T_ac39f_level0_row1\" class=\"row_heading level0 row1\" >многодетные</th>\n",
       "                        <td id=\"T_ac39f_row1_col0\" class=\"data row1 col0\" >46</td>\n",
       "                        <td id=\"T_ac39f_row1_col1\" class=\"data row1 col1\" >4</td>\n",
       "                        <td id=\"T_ac39f_row1_col2\" class=\"data row1 col2\" >92.00%</td>\n",
       "            </tr>\n",
       "            <tr>\n",
       "                        <th id=\"T_ac39f_level0_row2\" class=\"row_heading level0 row2\" >есть дети</th>\n",
       "                        <td id=\"T_ac39f_row2_col0\" class=\"data row2 col0\" >6593</td>\n",
       "                        <td id=\"T_ac39f_row2_col1\" class=\"data row2 col1\" >673</td>\n",
       "                        <td id=\"T_ac39f_row2_col2\" class=\"data row2 col2\" >90.74%</td>\n",
       "            </tr>\n",
       "    </tbody></table>"
      ],
      "text/plain": [
       "<pandas.io.formats.style.Styler at 0x7faf1ca5e190>"
      ]
     },
     "execution_count": 219,
     "metadata": {},
     "output_type": "execute_result"
    }
   ],
   "source": [
    "report_children = df.pivot_table(index = 'children_amount_category',columns = 'debt', values = 'total_income', aggfunc = 'count')\n",
    "report_children.columns = ['no_debt_amount','debt_amount']\n",
    "report_children['borrower_reliability'] = report_children['no_debt_amount'] / (report_children['no_debt_amount']+report_children['debt_amount'])\n",
    "# сортировка таблицы в порядке убывания надежности заемщиков.\n",
    "report_children = report_children.sort_values(by = 'borrower_reliability', ascending = False)\n",
    "report_children.style.format({'borrower_reliability':'{:.2%}'})"
   ]
  },
  {
   "cell_type": "markdown",
   "metadata": {},
   "source": [
    "**Вывод**"
   ]
  },
  {
   "cell_type": "markdown",
   "metadata": {},
   "source": [
    "Вероятно, люди, не имеющие детей, являются более надежными заемщиками, чем те у кого дети есть. Результаты для категории 'многодетные' могут являтся неточными из-за очень малой выборки в сравнении с остальными категориями."
   ]
  },
  {
   "cell_type": "markdown",
   "metadata": {},
   "source": [
    "- **Есть ли зависимость между семейным положением и возвратом кредита в срок?**"
   ]
  },
  {
   "cell_type": "markdown",
   "metadata": {},
   "source": [
    "В данном случае для подсчета надежности заемщиков каждой группы я беру среднее по столбцу 'debt'. В итоге данный параметр (borrower_insecurity) будет отображать процент клиентов, имеющих кредитныe задолженности.Чем больше этот параметр, тем ненадежнее рассматриваемая группа клиентов."
   ]
  },
  {
   "cell_type": "code",
   "execution_count": 220,
   "metadata": {},
   "outputs": [
    {
     "data": {
      "text/html": [
       "<style  type=\"text/css\" >\n",
       "</style><table id=\"T_8130d_\" ><thead>    <tr>        <th class=\"blank level0\" ></th>        <th class=\"col_heading level0 col0\" >total</th>        <th class=\"col_heading level0 col1\" >debt_amount</th>        <th class=\"col_heading level0 col2\" >borrower_insecurity</th>    </tr>    <tr>        <th class=\"index_name level0\" >family_status</th>        <th class=\"blank\" ></th>        <th class=\"blank\" ></th>        <th class=\"blank\" ></th>    </tr></thead><tbody>\n",
       "                <tr>\n",
       "                        <th id=\"T_8130d_level0_row0\" class=\"row_heading level0 row0\" >Не женат / не замужем</th>\n",
       "                        <td id=\"T_8130d_row0_col0\" class=\"data row0 col0\" >2810</td>\n",
       "                        <td id=\"T_8130d_row0_col1\" class=\"data row0 col1\" >274</td>\n",
       "                        <td id=\"T_8130d_row0_col2\" class=\"data row0 col2\" >9.75%</td>\n",
       "            </tr>\n",
       "            <tr>\n",
       "                        <th id=\"T_8130d_level0_row1\" class=\"row_heading level0 row1\" >гражданский брак</th>\n",
       "                        <td id=\"T_8130d_row1_col0\" class=\"data row1 col0\" >4150</td>\n",
       "                        <td id=\"T_8130d_row1_col1\" class=\"data row1 col1\" >388</td>\n",
       "                        <td id=\"T_8130d_row1_col2\" class=\"data row1 col2\" >9.35%</td>\n",
       "            </tr>\n",
       "            <tr>\n",
       "                        <th id=\"T_8130d_level0_row2\" class=\"row_heading level0 row2\" >женат / замужем</th>\n",
       "                        <td id=\"T_8130d_row2_col0\" class=\"data row2 col0\" >12339</td>\n",
       "                        <td id=\"T_8130d_row2_col1\" class=\"data row2 col1\" >931</td>\n",
       "                        <td id=\"T_8130d_row2_col2\" class=\"data row2 col2\" >7.55%</td>\n",
       "            </tr>\n",
       "            <tr>\n",
       "                        <th id=\"T_8130d_level0_row3\" class=\"row_heading level0 row3\" >в разводе</th>\n",
       "                        <td id=\"T_8130d_row3_col0\" class=\"data row3 col0\" >1195</td>\n",
       "                        <td id=\"T_8130d_row3_col1\" class=\"data row3 col1\" >85</td>\n",
       "                        <td id=\"T_8130d_row3_col2\" class=\"data row3 col2\" >7.11%</td>\n",
       "            </tr>\n",
       "            <tr>\n",
       "                        <th id=\"T_8130d_level0_row4\" class=\"row_heading level0 row4\" >вдовец / вдова</th>\n",
       "                        <td id=\"T_8130d_row4_col0\" class=\"data row4 col0\" >959</td>\n",
       "                        <td id=\"T_8130d_row4_col1\" class=\"data row4 col1\" >63</td>\n",
       "                        <td id=\"T_8130d_row4_col2\" class=\"data row4 col2\" >6.57%</td>\n",
       "            </tr>\n",
       "    </tbody></table>"
      ],
      "text/plain": [
       "<pandas.io.formats.style.Styler at 0x7faf5d85eb50>"
      ]
     },
     "execution_count": 220,
     "metadata": {},
     "output_type": "execute_result"
    }
   ],
   "source": [
    "report_family = df.groupby('family_status' ).agg({'debt':['count','sum','mean']})\n",
    "report_family.columns = ['total','debt_amount','borrower_insecurity']\n",
    "report_family = report_family.sort_values(by = 'borrower_insecurity', ascending = False)\n",
    "report_family.style.format({'borrower_insecurity':'{:.2%}'})"
   ]
  },
  {
   "cell_type": "markdown",
   "metadata": {},
   "source": [
    "**Вывод**\n",
    "\n",
    "В выборке категории 'женат / замужем' намного больше значений, чем в остальных. Это может сказываться на том, что для других категорий расчет менее точен. Категория 'женат / замужем' является более надежной, чем 'Не женат / не замужем', потому что процент должников в ней меньше. Более того семейные люди берут кредит в 6 раз чаще, чем люди без серьезных отношений, что говорит о большей мотивации и, следовательно, большей ответственности (здесь я предполагаю, что семейные цели являются более ответственными, чем цели людей из категории 'не женат/не замужем'). Клиенты из категории 'гражданский брак' находятся между женатыми и неженатыми по надежности, что подтверждает мое предположение. Также из таблицы видно, что люди из категорий 'в разводе', 'вдовец / вдова' являются самыми надежными заемщиками. Мне сложно дать этому факту объяснение, т.к. с точки зрения логики и жизненного опыта эти люди должны являться самыми ненадежными заемщиками. Возможно, эти сведения недостаточно точны в следствии малого объема выборки или нерепрезентативности учебной выборки."
   ]
  },
  {
   "cell_type": "markdown",
   "metadata": {},
   "source": [
    "- **Есть ли зависимость между уровнем дохода и возвратом кредита в срок?**"
   ]
  },
  {
   "cell_type": "markdown",
   "metadata": {},
   "source": [
    "Для ответа на этот вопрос я составлю таблицу report_children, в которой будут столбцы:\n",
    "\n",
    "- 'income_level', характеризующий заемщиков согласно уровню дохода;\n",
    "- 'no_debt_amount', отображающий кол-во клиентов не имеющих задолженностей по возврату кредитов; \n",
    "- 'debt_amount', отображающий кол-во клиентов имеющих задолженности по возврату кредитов;\n",
    "- 'borrower_reliability', характеризующий надежность заемщиков. В нем отображается процент клиентов, не имеющих кредитных задолженностей (debt = 0). Чем больше это значение, тем надежнее рассматриваемая категория клиентов."
   ]
  },
  {
   "cell_type": "code",
   "execution_count": 221,
   "metadata": {},
   "outputs": [
    {
     "data": {
      "text/html": [
       "<style  type=\"text/css\" >\n",
       "</style><table id=\"T_c9cc1_\" ><thead>    <tr>        <th class=\"blank level0\" ></th>        <th class=\"col_heading level0 col0\" >no_debt_amount</th>        <th class=\"col_heading level0 col1\" >debt_amount</th>        <th class=\"col_heading level0 col2\" >borrower_reliability</th>    </tr>    <tr>        <th class=\"index_name level0\" >income_level</th>        <th class=\"blank\" ></th>        <th class=\"blank\" ></th>        <th class=\"blank\" ></th>    </tr></thead><tbody>\n",
       "                <tr>\n",
       "                        <th id=\"T_c9cc1_level0_row0\" class=\"row_heading level0 row0\" >низкий</th>\n",
       "                        <td id=\"T_c9cc1_row0_col0\" class=\"data row0 col0\" >1470</td>\n",
       "                        <td id=\"T_c9cc1_row0_col1\" class=\"data row0 col1\" >109</td>\n",
       "                        <td id=\"T_c9cc1_row0_col2\" class=\"data row0 col2\" >93.10%</td>\n",
       "            </tr>\n",
       "            <tr>\n",
       "                        <th id=\"T_c9cc1_level0_row1\" class=\"row_heading level0 row1\" >высокий</th>\n",
       "                        <td id=\"T_c9cc1_row1_col0\" class=\"data row1 col0\" >4016</td>\n",
       "                        <td id=\"T_c9cc1_row1_col1\" class=\"data row1 col1\" >304</td>\n",
       "                        <td id=\"T_c9cc1_row1_col2\" class=\"data row1 col2\" >92.96%</td>\n",
       "            </tr>\n",
       "            <tr>\n",
       "                        <th id=\"T_c9cc1_level0_row2\" class=\"row_heading level0 row2\" >средний</th>\n",
       "                        <td id=\"T_c9cc1_row2_col0\" class=\"data row2 col0\" >14226</td>\n",
       "                        <td id=\"T_c9cc1_row2_col1\" class=\"data row2 col1\" >1328</td>\n",
       "                        <td id=\"T_c9cc1_row2_col2\" class=\"data row2 col2\" >91.46%</td>\n",
       "            </tr>\n",
       "    </tbody></table>"
      ],
      "text/plain": [
       "<pandas.io.formats.style.Styler at 0x7faf1c7e0d00>"
      ]
     },
     "execution_count": 221,
     "metadata": {},
     "output_type": "execute_result"
    }
   ],
   "source": [
    "report_income = df.pivot_table(index = 'income_level',columns = 'debt', values = 'total_income', aggfunc = 'count')\n",
    "report_income.columns = ['no_debt_amount','debt_amount']\n",
    "report_income['borrower_reliability'] = report_income['no_debt_amount'] / (report_income['no_debt_amount']+report_income['debt_amount'])\n",
    "# сортировка таблицы в порядке убывания надежности заемщиков.\n",
    "report_income = report_income.sort_values(by = 'borrower_reliability', ascending = False)\n",
    "report_income.style.format({'borrower_reliability':'{:.2%}'})"
   ]
  },
  {
   "cell_type": "markdown",
   "metadata": {},
   "source": [
    "**Вывод**"
   ]
  },
  {
   "cell_type": "markdown",
   "metadata": {},
   "source": [
    "Я не наблюдаю выраженной зависимости между уровнем дохода и возвратом кредита в срок. Надежность заемщиков с низким уровнем дохода почти не отличается от надежности заемщиков с высоким. Более того, если бы такая зависимость была значительной, то надежность заемщиков со средним уровнем дохода должна была бы располагаться посередине между надежностью заемщиков с низким и высоким уровнями доходов."
   ]
  },
  {
   "cell_type": "markdown",
   "metadata": {},
   "source": [
    "- **Как разные цели кредита влияют на его возврат в срок?**"
   ]
  },
  {
   "cell_type": "markdown",
   "metadata": {},
   "source": [
    "В данном случае для подсчета надежности заемщиков каждой группы я беру среднее по столбцу 'debt'. В итоге данный параметр (borrower_insecurity) будет отображать процент клиентов, имеющих кредитныe задолженности.Чем больше этот параметр, тем ненадежнее рассматриваемая группа клиентов."
   ]
  },
  {
   "cell_type": "code",
   "execution_count": 222,
   "metadata": {},
   "outputs": [
    {
     "data": {
      "text/html": [
       "<style  type=\"text/css\" >\n",
       "</style><table id=\"T_eb741_\" ><thead>    <tr>        <th class=\"blank level0\" ></th>        <th class=\"col_heading level0 col0\" >total</th>        <th class=\"col_heading level0 col1\" >debt_amount</th>        <th class=\"col_heading level0 col2\" >borrower_insecurity</th>    </tr>    <tr>        <th class=\"index_name level0\" >purpose</th>        <th class=\"blank\" ></th>        <th class=\"blank\" ></th>        <th class=\"blank\" ></th>    </tr></thead><tbody>\n",
       "                <tr>\n",
       "                        <th id=\"T_eb741_level0_row0\" class=\"row_heading level0 row0\" >автомобиль</th>\n",
       "                        <td id=\"T_eb741_row0_col0\" class=\"data row0 col0\" >4306</td>\n",
       "                        <td id=\"T_eb741_row0_col1\" class=\"data row0 col1\" >403</td>\n",
       "                        <td id=\"T_eb741_row0_col2\" class=\"data row0 col2\" >9.36%</td>\n",
       "            </tr>\n",
       "            <tr>\n",
       "                        <th id=\"T_eb741_level0_row1\" class=\"row_heading level0 row1\" >образование</th>\n",
       "                        <td id=\"T_eb741_row1_col0\" class=\"data row1 col0\" >4013</td>\n",
       "                        <td id=\"T_eb741_row1_col1\" class=\"data row1 col1\" >370</td>\n",
       "                        <td id=\"T_eb741_row1_col2\" class=\"data row1 col2\" >9.22%</td>\n",
       "            </tr>\n",
       "            <tr>\n",
       "                        <th id=\"T_eb741_level0_row2\" class=\"row_heading level0 row2\" >свадьба</th>\n",
       "                        <td id=\"T_eb741_row2_col0\" class=\"data row2 col0\" >2324</td>\n",
       "                        <td id=\"T_eb741_row2_col1\" class=\"data row2 col1\" >186</td>\n",
       "                        <td id=\"T_eb741_row2_col2\" class=\"data row2 col2\" >8.00%</td>\n",
       "            </tr>\n",
       "            <tr>\n",
       "                        <th id=\"T_eb741_level0_row3\" class=\"row_heading level0 row3\" >недвижимость</th>\n",
       "                        <td id=\"T_eb741_row3_col0\" class=\"data row3 col0\" >6350</td>\n",
       "                        <td id=\"T_eb741_row3_col1\" class=\"data row3 col1\" >474</td>\n",
       "                        <td id=\"T_eb741_row3_col2\" class=\"data row3 col2\" >7.46%</td>\n",
       "            </tr>\n",
       "            <tr>\n",
       "                        <th id=\"T_eb741_level0_row4\" class=\"row_heading level0 row4\" >жилье</th>\n",
       "                        <td id=\"T_eb741_row4_col0\" class=\"data row4 col0\" >4460</td>\n",
       "                        <td id=\"T_eb741_row4_col1\" class=\"data row4 col1\" >308</td>\n",
       "                        <td id=\"T_eb741_row4_col2\" class=\"data row4 col2\" >6.91%</td>\n",
       "            </tr>\n",
       "    </tbody></table>"
      ],
      "text/plain": [
       "<pandas.io.formats.style.Styler at 0x7faf1c819400>"
      ]
     },
     "execution_count": 222,
     "metadata": {},
     "output_type": "execute_result"
    }
   ],
   "source": [
    "report_purpose = df.groupby('purpose' ).agg({'debt':['count','sum','mean']})\n",
    "report_purpose.columns = ['total','debt_amount','borrower_insecurity']\n",
    "report_purpose = report_purpose.sort_values(by = 'borrower_insecurity', ascending = False)\n",
    "report_purpose.style.format({'borrower_insecurity':'{:.2%}'})"
   ]
  },
  {
   "cell_type": "markdown",
   "metadata": {},
   "source": [
    "**Вывод**"
   ]
  },
  {
   "cell_type": "markdown",
   "metadata": {},
   "source": [
    "Такие цели как 'автомобиль' и 'образование' являются самыми ненадежными согласно статистике. Самые надежные цели связаны с приобретением недвижимости. Возможно это связано с размером кредита, т.к. приобретение жилья обходится значительно дороже, чем реализация остальных представленных целей."
   ]
  },
  {
   "cell_type": "markdown",
   "metadata": {},
   "source": [
    "## Общий вывод исследования"
   ]
  },
  {
   "cell_type": "markdown",
   "metadata": {},
   "source": [
    "Согласно проведенным исследованиям надежнее всего давать кредиты людям с любым уровнем дохода, которые состоят в браке, но не имеют детей и берут кредит на приобретение жилья. Вероятно, это молодые пары, которые создают условия для будущей семьи. Также по каким-то причинам люди из категорий 'в разводе' и 'вдовец/вдова' также являются надежными заемщиками.\n",
    "\n",
    "Наиболее рисковано давать кредиты на покупку автомобиля или оплату образования клиентам, не находящимся в браке, вне зависимости от их уровня дохода."
   ]
  }
 ],
 "metadata": {
  "ExecuteTimeLog": [
   {
    "duration": 76,
    "start_time": "2021-12-27T20:41:02.204Z"
   },
   {
    "duration": 73,
    "start_time": "2021-12-27T20:41:06.998Z"
   },
   {
    "duration": 36,
    "start_time": "2021-12-27T20:41:07.074Z"
   },
   {
    "duration": 47,
    "start_time": "2021-12-27T20:41:07.113Z"
   },
   {
    "duration": 8,
    "start_time": "2021-12-27T20:41:07.163Z"
   },
   {
    "duration": 10,
    "start_time": "2021-12-27T20:41:07.174Z"
   },
   {
    "duration": 413,
    "start_time": "2021-12-27T20:41:07.187Z"
   },
   {
    "duration": 15,
    "start_time": "2021-12-27T20:41:07.602Z"
   },
   {
    "duration": 328,
    "start_time": "2021-12-27T20:41:07.619Z"
   },
   {
    "duration": 18,
    "start_time": "2021-12-27T20:41:07.951Z"
   },
   {
    "duration": 6,
    "start_time": "2021-12-27T20:41:07.971Z"
   },
   {
    "duration": 6,
    "start_time": "2021-12-27T20:41:07.979Z"
   },
   {
    "duration": 72,
    "start_time": "2021-12-27T20:41:07.987Z"
   },
   {
    "duration": 6,
    "start_time": "2021-12-27T20:41:08.062Z"
   },
   {
    "duration": 237,
    "start_time": "2021-12-27T20:41:08.070Z"
   },
   {
    "duration": 69,
    "start_time": "2021-12-27T20:41:08.310Z"
   },
   {
    "duration": 14,
    "start_time": "2021-12-27T20:41:08.382Z"
   },
   {
    "duration": 16,
    "start_time": "2021-12-27T20:41:08.399Z"
   },
   {
    "duration": 5,
    "start_time": "2021-12-27T20:41:08.418Z"
   },
   {
    "duration": 49,
    "start_time": "2021-12-27T20:41:08.426Z"
   },
   {
    "duration": 81,
    "start_time": "2021-12-27T20:41:08.478Z"
   },
   {
    "duration": 10,
    "start_time": "2021-12-27T20:41:08.562Z"
   },
   {
    "duration": 26,
    "start_time": "2021-12-27T20:41:08.575Z"
   },
   {
    "duration": 103,
    "start_time": "2021-12-27T20:41:08.604Z"
   },
   {
    "duration": 8,
    "start_time": "2021-12-27T20:41:08.710Z"
   },
   {
    "duration": 39,
    "start_time": "2021-12-27T20:41:08.720Z"
   },
   {
    "duration": 9,
    "start_time": "2021-12-27T20:41:08.762Z"
   },
   {
    "duration": 13,
    "start_time": "2021-12-27T20:41:08.776Z"
   },
   {
    "duration": 4,
    "start_time": "2021-12-27T20:41:13.818Z"
   },
   {
    "duration": 8,
    "start_time": "2021-12-27T20:44:15.270Z"
   },
   {
    "duration": 8,
    "start_time": "2021-12-27T20:45:12.964Z"
   },
   {
    "duration": 8,
    "start_time": "2021-12-27T20:45:26.025Z"
   },
   {
    "duration": 9,
    "start_time": "2021-12-27T20:45:33.320Z"
   },
   {
    "duration": 1021,
    "start_time": "2021-12-27T20:46:42.604Z"
   },
   {
    "duration": 1002,
    "start_time": "2021-12-27T20:46:53.970Z"
   },
   {
    "duration": 374,
    "start_time": "2021-12-27T20:47:10.963Z"
   },
   {
    "duration": 111,
    "start_time": "2021-12-27T20:47:16.426Z"
   },
   {
    "duration": 915,
    "start_time": "2021-12-27T20:47:20.228Z"
   },
   {
    "duration": 939,
    "start_time": "2021-12-27T20:47:35.434Z"
   },
   {
    "duration": 966,
    "start_time": "2021-12-27T20:48:06.658Z"
   },
   {
    "duration": 972,
    "start_time": "2021-12-27T20:48:47.163Z"
   },
   {
    "duration": 6,
    "start_time": "2021-12-27T20:48:58.900Z"
   },
   {
    "duration": 387,
    "start_time": "2021-12-27T20:51:02.487Z"
   },
   {
    "duration": 395,
    "start_time": "2021-12-27T20:51:34.499Z"
   },
   {
    "duration": 475,
    "start_time": "2021-12-27T20:52:55.234Z"
   },
   {
    "duration": 943,
    "start_time": "2021-12-27T20:53:09.179Z"
   },
   {
    "duration": 121,
    "start_time": "2021-12-27T21:45:56.742Z"
   },
   {
    "duration": 5,
    "start_time": "2021-12-27T21:49:03.456Z"
   },
   {
    "duration": 4,
    "start_time": "2021-12-27T21:49:11.278Z"
   },
   {
    "duration": 4,
    "start_time": "2021-12-27T21:59:58.763Z"
   },
   {
    "duration": 124,
    "start_time": "2021-12-27T22:00:24.031Z"
   },
   {
    "duration": 4,
    "start_time": "2021-12-27T22:16:41.604Z"
   },
   {
    "duration": 20,
    "start_time": "2021-12-27T22:17:12.320Z"
   },
   {
    "duration": 18,
    "start_time": "2021-12-27T22:17:19.744Z"
   },
   {
    "duration": 4,
    "start_time": "2021-12-27T22:17:21.570Z"
   },
   {
    "duration": 4024,
    "start_time": "2021-12-27T22:17:23.320Z"
   },
   {
    "duration": 27,
    "start_time": "2021-12-27T22:17:27.346Z"
   },
   {
    "duration": 1050,
    "start_time": "2021-12-27T22:18:29.657Z"
   },
   {
    "duration": 88,
    "start_time": "2021-12-27T22:18:38.271Z"
   },
   {
    "duration": 29,
    "start_time": "2021-12-27T22:18:38.363Z"
   },
   {
    "duration": 24,
    "start_time": "2021-12-27T22:18:38.396Z"
   },
   {
    "duration": 43,
    "start_time": "2021-12-27T22:18:38.423Z"
   },
   {
    "duration": 13,
    "start_time": "2021-12-27T22:18:38.469Z"
   },
   {
    "duration": 336,
    "start_time": "2021-12-27T22:18:38.485Z"
   },
   {
    "duration": 16,
    "start_time": "2021-12-27T22:18:38.824Z"
   },
   {
    "duration": 369,
    "start_time": "2021-12-27T22:18:38.844Z"
   },
   {
    "duration": 12,
    "start_time": "2021-12-27T22:18:39.216Z"
   },
   {
    "duration": 29,
    "start_time": "2021-12-27T22:18:39.230Z"
   },
   {
    "duration": 7,
    "start_time": "2021-12-27T22:18:39.261Z"
   },
   {
    "duration": 37,
    "start_time": "2021-12-27T22:18:39.270Z"
   },
   {
    "duration": 6,
    "start_time": "2021-12-27T22:18:39.309Z"
   },
   {
    "duration": 274,
    "start_time": "2021-12-27T22:18:39.317Z"
   },
   {
    "duration": 66,
    "start_time": "2021-12-27T22:18:39.593Z"
   },
   {
    "duration": 11,
    "start_time": "2021-12-27T22:18:39.662Z"
   },
   {
    "duration": 14,
    "start_time": "2021-12-27T22:18:39.676Z"
   },
   {
    "duration": 5,
    "start_time": "2021-12-27T22:18:39.692Z"
   },
   {
    "duration": 17,
    "start_time": "2021-12-27T22:18:39.699Z"
   },
   {
    "duration": 97,
    "start_time": "2021-12-27T22:18:39.719Z"
   },
   {
    "duration": 9,
    "start_time": "2021-12-27T22:18:39.819Z"
   },
   {
    "duration": 44,
    "start_time": "2021-12-27T22:18:39.830Z"
   },
   {
    "duration": 89,
    "start_time": "2021-12-27T22:18:39.878Z"
   },
   {
    "duration": 9,
    "start_time": "2021-12-27T22:18:39.970Z"
   },
   {
    "duration": 16,
    "start_time": "2021-12-27T22:18:39.981Z"
   },
   {
    "duration": 10,
    "start_time": "2021-12-27T22:18:39.999Z"
   },
   {
    "duration": 957,
    "start_time": "2021-12-27T22:18:43.025Z"
   },
   {
    "duration": 1011,
    "start_time": "2021-12-27T22:20:12.137Z"
   },
   {
    "duration": 6,
    "start_time": "2021-12-27T22:20:20.582Z"
   },
   {
    "duration": 6,
    "start_time": "2021-12-27T22:20:48.074Z"
   },
   {
    "duration": 6,
    "start_time": "2021-12-27T22:21:10.778Z"
   },
   {
    "duration": 125,
    "start_time": "2021-12-27T22:21:19.880Z"
   },
   {
    "duration": 6,
    "start_time": "2021-12-27T22:21:22.800Z"
   },
   {
    "duration": 5,
    "start_time": "2021-12-27T22:23:03.284Z"
   },
   {
    "duration": 5,
    "start_time": "2021-12-27T22:23:15.344Z"
   },
   {
    "duration": 5,
    "start_time": "2021-12-27T22:24:51.201Z"
   },
   {
    "duration": 21,
    "start_time": "2021-12-27T22:24:52.649Z"
   },
   {
    "duration": 3840,
    "start_time": "2021-12-27T22:24:55.232Z"
   },
   {
    "duration": 19,
    "start_time": "2021-12-27T22:25:01.353Z"
   },
   {
    "duration": 4,
    "start_time": "2021-12-27T22:25:43.097Z"
   },
   {
    "duration": 17,
    "start_time": "2021-12-27T22:25:43.707Z"
   },
   {
    "duration": 22460,
    "start_time": "2021-12-27T22:25:44.431Z"
   },
   {
    "duration": 18,
    "start_time": "2021-12-27T22:26:09.313Z"
   },
   {
    "duration": 19,
    "start_time": "2021-12-27T22:26:16.752Z"
   },
   {
    "duration": 77,
    "start_time": "2021-12-27T22:26:37.563Z"
   },
   {
    "duration": 40,
    "start_time": "2021-12-27T22:26:37.643Z"
   },
   {
    "duration": 23,
    "start_time": "2021-12-27T22:26:37.687Z"
   },
   {
    "duration": 8,
    "start_time": "2021-12-27T22:26:37.713Z"
   },
   {
    "duration": 11,
    "start_time": "2021-12-27T22:26:37.760Z"
   },
   {
    "duration": 322,
    "start_time": "2021-12-27T22:26:37.773Z"
   },
   {
    "duration": 15,
    "start_time": "2021-12-27T22:26:38.097Z"
   },
   {
    "duration": 300,
    "start_time": "2021-12-27T22:26:38.116Z"
   },
   {
    "duration": 12,
    "start_time": "2021-12-27T22:26:38.419Z"
   },
   {
    "duration": 27,
    "start_time": "2021-12-27T22:26:38.433Z"
   },
   {
    "duration": 7,
    "start_time": "2021-12-27T22:26:38.463Z"
   },
   {
    "duration": 39,
    "start_time": "2021-12-27T22:26:38.473Z"
   },
   {
    "duration": 8,
    "start_time": "2021-12-27T22:26:38.514Z"
   },
   {
    "duration": 260,
    "start_time": "2021-12-27T22:26:38.525Z"
   },
   {
    "duration": 71,
    "start_time": "2021-12-27T22:26:38.788Z"
   },
   {
    "duration": 14,
    "start_time": "2021-12-27T22:26:38.862Z"
   },
   {
    "duration": 17,
    "start_time": "2021-12-27T22:26:38.879Z"
   },
   {
    "duration": 6,
    "start_time": "2021-12-27T22:26:38.898Z"
   },
   {
    "duration": 57,
    "start_time": "2021-12-27T22:26:38.907Z"
   },
   {
    "duration": 61,
    "start_time": "2021-12-27T22:26:38.967Z"
   },
   {
    "duration": 33,
    "start_time": "2021-12-27T22:26:39.031Z"
   },
   {
    "duration": 24,
    "start_time": "2021-12-27T22:26:39.066Z"
   },
   {
    "duration": 88,
    "start_time": "2021-12-27T22:26:39.094Z"
   },
   {
    "duration": 9,
    "start_time": "2021-12-27T22:26:39.185Z"
   },
   {
    "duration": 15,
    "start_time": "2021-12-27T22:26:39.196Z"
   },
   {
    "duration": 8,
    "start_time": "2021-12-27T22:26:39.214Z"
   },
   {
    "duration": 971,
    "start_time": "2021-12-27T22:26:39.259Z"
   },
   {
    "duration": 5,
    "start_time": "2021-12-27T22:26:40.232Z"
   },
   {
    "duration": 12,
    "start_time": "2021-12-27T22:26:40.239Z"
   },
   {
    "duration": 6,
    "start_time": "2021-12-27T22:26:40.253Z"
   },
   {
    "duration": 20,
    "start_time": "2021-12-27T22:26:40.261Z"
   },
   {
    "duration": 9936,
    "start_time": "2021-12-27T22:26:40.283Z"
   },
   {
    "duration": 18,
    "start_time": "2021-12-27T22:26:54.233Z"
   },
   {
    "duration": 4,
    "start_time": "2021-12-27T22:27:04.690Z"
   },
   {
    "duration": 509,
    "start_time": "2021-12-27T22:28:08.416Z"
   },
   {
    "duration": 7,
    "start_time": "2021-12-27T22:28:22.385Z"
   },
   {
    "duration": 20,
    "start_time": "2021-12-27T22:29:36.758Z"
   },
   {
    "duration": 5385,
    "start_time": "2021-12-27T22:29:36.781Z"
   },
   {
    "duration": 17,
    "start_time": "2021-12-27T22:29:42.169Z"
   },
   {
    "duration": 7,
    "start_time": "2021-12-27T22:29:42.188Z"
   },
   {
    "duration": 78,
    "start_time": "2021-12-27T22:29:50.660Z"
   },
   {
    "duration": 42,
    "start_time": "2021-12-27T22:29:50.741Z"
   },
   {
    "duration": 26,
    "start_time": "2021-12-27T22:29:50.787Z"
   },
   {
    "duration": 44,
    "start_time": "2021-12-27T22:29:50.817Z"
   },
   {
    "duration": 11,
    "start_time": "2021-12-27T22:29:50.864Z"
   },
   {
    "duration": 328,
    "start_time": "2021-12-27T22:29:50.877Z"
   },
   {
    "duration": 16,
    "start_time": "2021-12-27T22:29:51.207Z"
   },
   {
    "duration": 308,
    "start_time": "2021-12-27T22:29:51.227Z"
   },
   {
    "duration": 12,
    "start_time": "2021-12-27T22:29:51.537Z"
   },
   {
    "duration": 6,
    "start_time": "2021-12-27T22:29:51.560Z"
   },
   {
    "duration": 8,
    "start_time": "2021-12-27T22:29:51.568Z"
   },
   {
    "duration": 39,
    "start_time": "2021-12-27T22:29:51.578Z"
   },
   {
    "duration": 41,
    "start_time": "2021-12-27T22:29:51.619Z"
   },
   {
    "duration": 233,
    "start_time": "2021-12-27T22:29:51.662Z"
   },
   {
    "duration": 66,
    "start_time": "2021-12-27T22:29:51.898Z"
   },
   {
    "duration": 12,
    "start_time": "2021-12-27T22:29:51.967Z"
   },
   {
    "duration": 20,
    "start_time": "2021-12-27T22:29:51.982Z"
   },
   {
    "duration": 8,
    "start_time": "2021-12-27T22:29:52.005Z"
   },
   {
    "duration": 18,
    "start_time": "2021-12-27T22:29:52.015Z"
   },
   {
    "duration": 62,
    "start_time": "2021-12-27T22:29:52.061Z"
   },
   {
    "duration": 10,
    "start_time": "2021-12-27T22:29:52.125Z"
   },
   {
    "duration": 24,
    "start_time": "2021-12-27T22:29:52.160Z"
   },
   {
    "duration": 96,
    "start_time": "2021-12-27T22:29:52.190Z"
   },
   {
    "duration": 9,
    "start_time": "2021-12-27T22:29:52.289Z"
   },
   {
    "duration": 19,
    "start_time": "2021-12-27T22:29:52.301Z"
   },
   {
    "duration": 41,
    "start_time": "2021-12-27T22:29:52.323Z"
   },
   {
    "duration": 986,
    "start_time": "2021-12-27T22:29:52.366Z"
   },
   {
    "duration": 6,
    "start_time": "2021-12-27T22:29:53.355Z"
   },
   {
    "duration": 14,
    "start_time": "2021-12-27T22:29:53.364Z"
   },
   {
    "duration": 344,
    "start_time": "2021-12-27T22:31:07.387Z"
   },
   {
    "duration": 7083,
    "start_time": "2021-12-27T22:31:46.467Z"
   },
   {
    "duration": 7653,
    "start_time": "2021-12-27T22:32:25.603Z"
   },
   {
    "duration": 41,
    "start_time": "2021-12-27T22:33:21.066Z"
   },
   {
    "duration": 377,
    "start_time": "2021-12-27T22:33:34.716Z"
   },
   {
    "duration": 6921,
    "start_time": "2021-12-27T22:33:49.883Z"
   },
   {
    "duration": 79,
    "start_time": "2021-12-27T22:35:34.134Z"
   },
   {
    "duration": 52,
    "start_time": "2021-12-27T22:35:34.215Z"
   },
   {
    "duration": 22,
    "start_time": "2021-12-27T22:35:34.269Z"
   },
   {
    "duration": 8,
    "start_time": "2021-12-27T22:35:34.293Z"
   },
   {
    "duration": 10,
    "start_time": "2021-12-27T22:35:34.303Z"
   },
   {
    "duration": 347,
    "start_time": "2021-12-27T22:35:34.315Z"
   },
   {
    "duration": 15,
    "start_time": "2021-12-27T22:35:34.664Z"
   },
   {
    "duration": 301,
    "start_time": "2021-12-27T22:35:34.683Z"
   },
   {
    "duration": 12,
    "start_time": "2021-12-27T22:35:34.987Z"
   },
   {
    "duration": 6,
    "start_time": "2021-12-27T22:35:35.001Z"
   },
   {
    "duration": 8,
    "start_time": "2021-12-27T22:35:35.010Z"
   },
   {
    "duration": 40,
    "start_time": "2021-12-27T22:35:35.060Z"
   },
   {
    "duration": 8,
    "start_time": "2021-12-27T22:35:35.103Z"
   },
   {
    "duration": 254,
    "start_time": "2021-12-27T22:35:35.113Z"
   },
   {
    "duration": 58,
    "start_time": "2021-12-27T22:35:35.369Z"
   },
   {
    "duration": 32,
    "start_time": "2021-12-27T22:35:35.430Z"
   },
   {
    "duration": 15,
    "start_time": "2021-12-27T22:35:35.464Z"
   },
   {
    "duration": 4,
    "start_time": "2021-12-27T22:35:35.481Z"
   },
   {
    "duration": 19,
    "start_time": "2021-12-27T22:35:35.487Z"
   },
   {
    "duration": 90,
    "start_time": "2021-12-27T22:35:35.508Z"
   },
   {
    "duration": 8,
    "start_time": "2021-12-27T22:35:35.601Z"
   },
   {
    "duration": 25,
    "start_time": "2021-12-27T22:35:35.611Z"
   },
   {
    "duration": 63,
    "start_time": "2021-12-27T22:35:35.662Z"
   },
   {
    "duration": 32,
    "start_time": "2021-12-27T22:35:35.728Z"
   },
   {
    "duration": 14,
    "start_time": "2021-12-27T22:35:35.763Z"
   },
   {
    "duration": 9,
    "start_time": "2021-12-27T22:35:35.780Z"
   },
   {
    "duration": 1000,
    "start_time": "2021-12-27T22:35:35.791Z"
   },
   {
    "duration": 6,
    "start_time": "2021-12-27T22:35:36.794Z"
   },
   {
    "duration": 6,
    "start_time": "2021-12-27T22:35:36.802Z"
   },
   {
    "duration": 50,
    "start_time": "2021-12-27T22:35:36.810Z"
   },
   {
    "duration": 10103,
    "start_time": "2021-12-27T22:35:36.863Z"
   },
   {
    "duration": 17,
    "start_time": "2021-12-27T22:35:46.969Z"
   },
   {
    "duration": 726,
    "start_time": "2021-12-28T09:35:49.560Z"
   },
   {
    "duration": 24,
    "start_time": "2021-12-28T09:35:50.288Z"
   },
   {
    "duration": 41,
    "start_time": "2021-12-28T09:35:50.314Z"
   },
   {
    "duration": 12,
    "start_time": "2021-12-28T09:35:50.358Z"
   },
   {
    "duration": 26,
    "start_time": "2021-12-28T09:35:50.372Z"
   },
   {
    "duration": 274,
    "start_time": "2021-12-28T09:35:50.400Z"
   },
   {
    "duration": 16,
    "start_time": "2021-12-28T09:35:50.675Z"
   },
   {
    "duration": 191,
    "start_time": "2021-12-28T09:35:50.694Z"
   },
   {
    "duration": 11,
    "start_time": "2021-12-28T09:35:50.887Z"
   },
   {
    "duration": 10,
    "start_time": "2021-12-28T09:35:50.899Z"
   },
   {
    "duration": 7,
    "start_time": "2021-12-28T09:35:50.911Z"
   },
   {
    "duration": 45,
    "start_time": "2021-12-28T09:35:50.920Z"
   },
   {
    "duration": 5,
    "start_time": "2021-12-28T09:35:50.967Z"
   },
   {
    "duration": 158,
    "start_time": "2021-12-28T09:35:50.974Z"
   },
   {
    "duration": 45,
    "start_time": "2021-12-28T09:35:51.134Z"
   },
   {
    "duration": 9,
    "start_time": "2021-12-28T09:35:51.181Z"
   },
   {
    "duration": 28,
    "start_time": "2021-12-28T09:35:51.192Z"
   },
   {
    "duration": 4,
    "start_time": "2021-12-28T09:35:51.222Z"
   },
   {
    "duration": 15,
    "start_time": "2021-12-28T09:35:51.228Z"
   },
   {
    "duration": 50,
    "start_time": "2021-12-28T09:35:51.244Z"
   },
   {
    "duration": 7,
    "start_time": "2021-12-28T09:35:51.296Z"
   },
   {
    "duration": 21,
    "start_time": "2021-12-28T09:35:51.304Z"
   },
   {
    "duration": 61,
    "start_time": "2021-12-28T09:35:51.328Z"
   },
   {
    "duration": 7,
    "start_time": "2021-12-28T09:35:51.391Z"
   },
   {
    "duration": 19,
    "start_time": "2021-12-28T09:35:51.399Z"
   },
   {
    "duration": 10,
    "start_time": "2021-12-28T09:35:51.421Z"
   },
   {
    "duration": 995,
    "start_time": "2021-12-28T09:35:51.433Z"
   },
   {
    "duration": 4,
    "start_time": "2021-12-28T09:35:52.430Z"
   },
   {
    "duration": 12,
    "start_time": "2021-12-28T09:35:52.436Z"
   },
   {
    "duration": 21,
    "start_time": "2021-12-28T09:35:52.450Z"
   },
   {
    "duration": 8230,
    "start_time": "2021-12-28T09:35:52.473Z"
   },
   {
    "duration": 12,
    "start_time": "2021-12-28T09:36:00.705Z"
   },
   {
    "duration": 19,
    "start_time": "2021-12-28T09:36:00.718Z"
   },
   {
    "duration": 404,
    "start_time": "2021-12-28T10:16:07.695Z"
   },
   {
    "duration": 17,
    "start_time": "2021-12-28T10:16:13.152Z"
   },
   {
    "duration": 10,
    "start_time": "2021-12-28T10:16:41.663Z"
   },
   {
    "duration": 12,
    "start_time": "2021-12-28T10:16:43.646Z"
   },
   {
    "duration": 12,
    "start_time": "2021-12-28T10:17:08.105Z"
   },
   {
    "duration": 3,
    "start_time": "2021-12-28T10:24:19.164Z"
   },
   {
    "duration": 11,
    "start_time": "2021-12-28T10:26:27.415Z"
   },
   {
    "duration": 324,
    "start_time": "2021-12-28T10:26:54.028Z"
   },
   {
    "duration": 278,
    "start_time": "2021-12-28T10:27:02.255Z"
   },
   {
    "duration": 291,
    "start_time": "2021-12-28T10:27:14.271Z"
   },
   {
    "duration": 13,
    "start_time": "2021-12-28T10:27:50.079Z"
   },
   {
    "duration": 12,
    "start_time": "2021-12-28T10:32:19.346Z"
   },
   {
    "duration": 162,
    "start_time": "2021-12-28T11:51:50.043Z"
   },
   {
    "duration": 106,
    "start_time": "2021-12-28T11:52:46.165Z"
   },
   {
    "duration": 490,
    "start_time": "2021-12-28T11:55:08.237Z"
   },
   {
    "duration": 3,
    "start_time": "2021-12-28T11:58:19.308Z"
   },
   {
    "duration": 14,
    "start_time": "2021-12-28T11:58:20.356Z"
   },
   {
    "duration": 5,
    "start_time": "2021-12-28T12:04:01.686Z"
   },
   {
    "duration": 5,
    "start_time": "2021-12-28T12:04:18.278Z"
   },
   {
    "duration": 21,
    "start_time": "2021-12-28T12:05:10.813Z"
   },
   {
    "duration": 6,
    "start_time": "2021-12-28T12:05:36.659Z"
   },
   {
    "duration": 20,
    "start_time": "2021-12-28T12:05:37.486Z"
   },
   {
    "duration": 264,
    "start_time": "2021-12-28T13:13:13.382Z"
   },
   {
    "duration": 19,
    "start_time": "2021-12-28T13:13:41.188Z"
   },
   {
    "duration": 19,
    "start_time": "2021-12-28T13:14:02.371Z"
   },
   {
    "duration": 264,
    "start_time": "2021-12-28T13:15:16.072Z"
   },
   {
    "duration": 26,
    "start_time": "2021-12-28T13:36:32.938Z"
   },
   {
    "duration": 272,
    "start_time": "2021-12-28T13:36:51.590Z"
   },
   {
    "duration": 264,
    "start_time": "2021-12-28T13:36:57.387Z"
   },
   {
    "duration": 265,
    "start_time": "2021-12-28T13:37:01.637Z"
   },
   {
    "duration": 19,
    "start_time": "2021-12-28T13:37:09.286Z"
   },
   {
    "duration": 266,
    "start_time": "2021-12-28T13:42:22.581Z"
   },
   {
    "duration": 17,
    "start_time": "2021-12-28T13:42:29.319Z"
   },
   {
    "duration": 18,
    "start_time": "2021-12-28T13:43:28.333Z"
   },
   {
    "duration": 18,
    "start_time": "2021-12-28T13:43:37.390Z"
   },
   {
    "duration": 18,
    "start_time": "2021-12-28T13:43:55.028Z"
   },
   {
    "duration": 20,
    "start_time": "2021-12-28T13:45:22.006Z"
   },
   {
    "duration": 21,
    "start_time": "2021-12-28T13:45:52.368Z"
   },
   {
    "duration": 22,
    "start_time": "2021-12-28T13:45:59.469Z"
   },
   {
    "duration": 22,
    "start_time": "2021-12-28T13:47:16.349Z"
   },
   {
    "duration": 21,
    "start_time": "2021-12-28T13:47:23.291Z"
   },
   {
    "duration": 20,
    "start_time": "2021-12-28T13:47:27.600Z"
   },
   {
    "duration": 23,
    "start_time": "2021-12-28T13:49:19.513Z"
   },
   {
    "duration": 23,
    "start_time": "2021-12-28T14:33:43.051Z"
   },
   {
    "duration": 7,
    "start_time": "2021-12-28T14:36:55.288Z"
   },
   {
    "duration": 11,
    "start_time": "2021-12-28T14:37:00.664Z"
   },
   {
    "duration": 14,
    "start_time": "2021-12-28T14:42:45.381Z"
   },
   {
    "duration": 14,
    "start_time": "2021-12-28T14:43:14.786Z"
   },
   {
    "duration": 22,
    "start_time": "2021-12-28T14:44:08.226Z"
   },
   {
    "duration": 22,
    "start_time": "2021-12-28T14:45:07.043Z"
   },
   {
    "duration": 8,
    "start_time": "2021-12-28T15:16:06.274Z"
   },
   {
    "duration": 4,
    "start_time": "2021-12-28T15:21:07.989Z"
   },
   {
    "duration": 3,
    "start_time": "2021-12-28T15:21:32.769Z"
   },
   {
    "duration": 26,
    "start_time": "2021-12-28T15:25:10.598Z"
   },
   {
    "duration": 21,
    "start_time": "2021-12-28T15:26:44.277Z"
   },
   {
    "duration": 30,
    "start_time": "2021-12-28T15:27:30.457Z"
   },
   {
    "duration": 26,
    "start_time": "2021-12-28T15:27:34.915Z"
   },
   {
    "duration": 793,
    "start_time": "2021-12-28T15:32:52.807Z"
   },
   {
    "duration": 16,
    "start_time": "2021-12-28T15:35:04.528Z"
   },
   {
    "duration": 19,
    "start_time": "2021-12-28T15:36:11.829Z"
   },
   {
    "duration": 23,
    "start_time": "2021-12-28T15:38:07.056Z"
   },
   {
    "duration": 16,
    "start_time": "2021-12-28T15:38:13.365Z"
   },
   {
    "duration": 25,
    "start_time": "2021-12-28T15:40:07.542Z"
   },
   {
    "duration": 15,
    "start_time": "2021-12-28T15:40:11.844Z"
   },
   {
    "duration": 277,
    "start_time": "2021-12-28T15:41:44.336Z"
   },
   {
    "duration": 14,
    "start_time": "2021-12-28T15:41:53.558Z"
   },
   {
    "duration": 13,
    "start_time": "2021-12-28T15:42:14.161Z"
   },
   {
    "duration": 22,
    "start_time": "2021-12-28T16:01:09.254Z"
   },
   {
    "duration": 22,
    "start_time": "2021-12-28T16:23:31.441Z"
   },
   {
    "duration": 21,
    "start_time": "2021-12-28T16:24:37.720Z"
   },
   {
    "duration": 20,
    "start_time": "2021-12-28T16:25:12.125Z"
   },
   {
    "duration": 18,
    "start_time": "2021-12-28T16:25:36.081Z"
   },
   {
    "duration": 13,
    "start_time": "2021-12-28T16:55:03.117Z"
   },
   {
    "duration": 58,
    "start_time": "2021-12-28T17:51:08.667Z"
   },
   {
    "duration": 16,
    "start_time": "2021-12-28T17:51:08.727Z"
   },
   {
    "duration": 24,
    "start_time": "2021-12-28T17:51:08.745Z"
   },
   {
    "duration": 5,
    "start_time": "2021-12-28T17:51:08.771Z"
   },
   {
    "duration": 9,
    "start_time": "2021-12-28T17:51:08.777Z"
   },
   {
    "duration": 215,
    "start_time": "2021-12-28T17:51:08.788Z"
   },
   {
    "duration": 13,
    "start_time": "2021-12-28T17:51:09.005Z"
   },
   {
    "duration": 183,
    "start_time": "2021-12-28T17:51:09.021Z"
   },
   {
    "duration": 11,
    "start_time": "2021-12-28T17:51:09.207Z"
   },
   {
    "duration": 7,
    "start_time": "2021-12-28T17:51:09.220Z"
   },
   {
    "duration": 11,
    "start_time": "2021-12-28T17:51:09.229Z"
   },
   {
    "duration": 28,
    "start_time": "2021-12-28T17:51:09.261Z"
   },
   {
    "duration": 6,
    "start_time": "2021-12-28T17:51:09.291Z"
   },
   {
    "duration": 161,
    "start_time": "2021-12-28T17:51:09.299Z"
   },
   {
    "duration": 43,
    "start_time": "2021-12-28T17:51:09.462Z"
   },
   {
    "duration": 11,
    "start_time": "2021-12-28T17:51:09.507Z"
   },
   {
    "duration": 11,
    "start_time": "2021-12-28T17:51:09.520Z"
   },
   {
    "duration": 28,
    "start_time": "2021-12-28T17:51:09.533Z"
   },
   {
    "duration": 16,
    "start_time": "2021-12-28T17:51:09.563Z"
   },
   {
    "duration": 41,
    "start_time": "2021-12-28T17:51:09.581Z"
   },
   {
    "duration": 6,
    "start_time": "2021-12-28T17:51:09.624Z"
   },
   {
    "duration": 41,
    "start_time": "2021-12-28T17:51:09.632Z"
   },
   {
    "duration": 43,
    "start_time": "2021-12-28T17:51:09.676Z"
   },
   {
    "duration": 7,
    "start_time": "2021-12-28T17:51:09.721Z"
   },
   {
    "duration": 13,
    "start_time": "2021-12-28T17:51:09.729Z"
   },
   {
    "duration": 8,
    "start_time": "2021-12-28T17:51:09.760Z"
   },
   {
    "duration": 678,
    "start_time": "2021-12-28T17:51:09.769Z"
   },
   {
    "duration": 12,
    "start_time": "2021-12-28T17:51:10.449Z"
   },
   {
    "duration": 3,
    "start_time": "2021-12-28T17:51:10.462Z"
   },
   {
    "duration": 18,
    "start_time": "2021-12-28T17:51:10.467Z"
   },
   {
    "duration": 7148,
    "start_time": "2021-12-28T17:51:10.486Z"
   },
   {
    "duration": 13,
    "start_time": "2021-12-28T17:51:17.635Z"
   },
   {
    "duration": 4,
    "start_time": "2021-12-28T17:51:17.661Z"
   },
   {
    "duration": 15,
    "start_time": "2021-12-28T17:51:17.666Z"
   },
   {
    "duration": 10,
    "start_time": "2021-12-28T17:51:17.682Z"
   },
   {
    "duration": 4,
    "start_time": "2021-12-28T17:51:17.694Z"
   },
   {
    "duration": 19,
    "start_time": "2021-12-28T17:51:17.700Z"
   },
   {
    "duration": 15,
    "start_time": "2021-12-28T17:51:17.721Z"
   },
   {
    "duration": 35,
    "start_time": "2021-12-28T17:51:17.737Z"
   },
   {
    "duration": 22,
    "start_time": "2021-12-28T17:51:17.773Z"
   },
   {
    "duration": 13,
    "start_time": "2021-12-28T17:51:17.796Z"
   },
   {
    "duration": 18,
    "start_time": "2021-12-28T17:51:17.810Z"
   },
   {
    "duration": 36,
    "start_time": "2021-12-28T17:51:17.830Z"
   },
   {
    "duration": 653,
    "start_time": "2021-12-29T14:46:05.859Z"
   },
   {
    "duration": 23,
    "start_time": "2021-12-29T14:46:06.514Z"
   },
   {
    "duration": 16,
    "start_time": "2021-12-29T14:46:06.539Z"
   },
   {
    "duration": 6,
    "start_time": "2021-12-29T14:46:06.557Z"
   },
   {
    "duration": 7,
    "start_time": "2021-12-29T14:46:06.565Z"
   },
   {
    "duration": 251,
    "start_time": "2021-12-29T14:46:06.574Z"
   },
   {
    "duration": 28,
    "start_time": "2021-12-29T14:46:06.827Z"
   },
   {
    "duration": 193,
    "start_time": "2021-12-29T14:46:06.857Z"
   },
   {
    "duration": 9,
    "start_time": "2021-12-29T14:46:07.052Z"
   },
   {
    "duration": 6,
    "start_time": "2021-12-29T14:46:07.063Z"
   },
   {
    "duration": 12,
    "start_time": "2021-12-29T14:46:07.070Z"
   },
   {
    "duration": 34,
    "start_time": "2021-12-29T14:46:07.083Z"
   },
   {
    "duration": 6,
    "start_time": "2021-12-29T14:46:07.142Z"
   },
   {
    "duration": 157,
    "start_time": "2021-12-29T14:46:07.150Z"
   },
   {
    "duration": 43,
    "start_time": "2021-12-29T14:46:07.309Z"
   },
   {
    "duration": 9,
    "start_time": "2021-12-29T14:46:07.354Z"
   },
   {
    "duration": 29,
    "start_time": "2021-12-29T14:46:07.365Z"
   },
   {
    "duration": 10,
    "start_time": "2021-12-29T14:46:07.395Z"
   },
   {
    "duration": 28,
    "start_time": "2021-12-29T14:46:07.407Z"
   },
   {
    "duration": 57,
    "start_time": "2021-12-29T14:46:07.437Z"
   },
   {
    "duration": 6,
    "start_time": "2021-12-29T14:46:07.496Z"
   },
   {
    "duration": 33,
    "start_time": "2021-12-29T14:46:07.504Z"
   },
   {
    "duration": 69,
    "start_time": "2021-12-29T14:46:07.541Z"
   },
   {
    "duration": 9,
    "start_time": "2021-12-29T14:46:07.613Z"
   },
   {
    "duration": 30,
    "start_time": "2021-12-29T14:46:07.624Z"
   },
   {
    "duration": 24,
    "start_time": "2021-12-29T14:46:07.657Z"
   },
   {
    "duration": 643,
    "start_time": "2021-12-29T14:46:07.684Z"
   },
   {
    "duration": 3,
    "start_time": "2021-12-29T14:46:08.329Z"
   },
   {
    "duration": 3,
    "start_time": "2021-12-29T14:46:08.341Z"
   },
   {
    "duration": 21,
    "start_time": "2021-12-29T14:46:08.345Z"
   },
   {
    "duration": 7505,
    "start_time": "2021-12-29T14:46:08.367Z"
   },
   {
    "duration": 12,
    "start_time": "2021-12-29T14:46:15.874Z"
   },
   {
    "duration": 7,
    "start_time": "2021-12-29T14:46:15.887Z"
   },
   {
    "duration": 12,
    "start_time": "2021-12-29T14:46:15.896Z"
   },
   {
    "duration": 33,
    "start_time": "2021-12-29T14:46:15.909Z"
   },
   {
    "duration": 3,
    "start_time": "2021-12-29T14:46:15.944Z"
   },
   {
    "duration": 13,
    "start_time": "2021-12-29T14:46:15.948Z"
   },
   {
    "duration": 9,
    "start_time": "2021-12-29T14:46:15.963Z"
   },
   {
    "duration": 25,
    "start_time": "2021-12-29T14:46:15.973Z"
   },
   {
    "duration": 956,
    "start_time": "2021-12-29T14:46:16.000Z"
   },
   {
    "duration": 16,
    "start_time": "2021-12-29T14:46:16.958Z"
   },
   {
    "duration": 20,
    "start_time": "2021-12-29T14:46:16.975Z"
   },
   {
    "duration": 44,
    "start_time": "2021-12-29T14:46:16.997Z"
   },
   {
    "duration": 495,
    "start_time": "2021-12-29T16:16:04.045Z"
   },
   {
    "duration": 393,
    "start_time": "2021-12-29T16:16:21.090Z"
   },
   {
    "duration": 648,
    "start_time": "2021-12-29T16:16:25.814Z"
   },
   {
    "duration": 20,
    "start_time": "2021-12-29T16:16:26.463Z"
   },
   {
    "duration": 13,
    "start_time": "2021-12-29T16:16:26.485Z"
   },
   {
    "duration": 4,
    "start_time": "2021-12-29T16:16:26.500Z"
   },
   {
    "duration": 26,
    "start_time": "2021-12-29T16:16:26.506Z"
   },
   {
    "duration": 229,
    "start_time": "2021-12-29T16:16:26.533Z"
   },
   {
    "duration": 11,
    "start_time": "2021-12-29T16:16:26.763Z"
   },
   {
    "duration": 173,
    "start_time": "2021-12-29T16:16:26.776Z"
   },
   {
    "duration": 9,
    "start_time": "2021-12-29T16:16:26.951Z"
   },
   {
    "duration": 4,
    "start_time": "2021-12-29T16:16:26.961Z"
   },
   {
    "duration": 7,
    "start_time": "2021-12-29T16:16:26.967Z"
   },
   {
    "duration": 27,
    "start_time": "2021-12-29T16:16:26.975Z"
   },
   {
    "duration": 25,
    "start_time": "2021-12-29T16:16:27.004Z"
   },
   {
    "duration": 140,
    "start_time": "2021-12-29T16:16:27.030Z"
   },
   {
    "duration": 36,
    "start_time": "2021-12-29T16:16:27.172Z"
   },
   {
    "duration": 18,
    "start_time": "2021-12-29T16:16:27.210Z"
   },
   {
    "duration": 10,
    "start_time": "2021-12-29T16:16:27.229Z"
   },
   {
    "duration": 3,
    "start_time": "2021-12-29T16:16:27.240Z"
   },
   {
    "duration": 12,
    "start_time": "2021-12-29T16:16:27.245Z"
   },
   {
    "duration": 38,
    "start_time": "2021-12-29T16:16:27.259Z"
   },
   {
    "duration": 30,
    "start_time": "2021-12-29T16:16:27.299Z"
   },
   {
    "duration": 17,
    "start_time": "2021-12-29T16:16:27.331Z"
   },
   {
    "duration": 39,
    "start_time": "2021-12-29T16:16:27.351Z"
   },
   {
    "duration": 5,
    "start_time": "2021-12-29T16:16:27.392Z"
   },
   {
    "duration": 35,
    "start_time": "2021-12-29T16:16:27.399Z"
   },
   {
    "duration": 7,
    "start_time": "2021-12-29T16:16:27.435Z"
   },
   {
    "duration": 644,
    "start_time": "2021-12-29T16:16:27.443Z"
   },
   {
    "duration": 4,
    "start_time": "2021-12-29T16:16:28.089Z"
   },
   {
    "duration": 5,
    "start_time": "2021-12-29T16:16:28.094Z"
   },
   {
    "duration": 30,
    "start_time": "2021-12-29T16:16:28.101Z"
   },
   {
    "duration": 6852,
    "start_time": "2021-12-29T16:16:28.133Z"
   },
   {
    "duration": 10,
    "start_time": "2021-12-29T16:16:34.987Z"
   },
   {
    "duration": 9,
    "start_time": "2021-12-29T16:16:34.998Z"
   },
   {
    "duration": 24,
    "start_time": "2021-12-29T16:16:35.008Z"
   },
   {
    "duration": 11,
    "start_time": "2021-12-29T16:16:35.034Z"
   },
   {
    "duration": 3,
    "start_time": "2021-12-29T16:16:35.047Z"
   },
   {
    "duration": 14,
    "start_time": "2021-12-29T16:16:35.052Z"
   },
   {
    "duration": 6,
    "start_time": "2021-12-29T16:16:35.067Z"
   },
   {
    "duration": 19,
    "start_time": "2021-12-29T16:16:35.074Z"
   },
   {
    "duration": 605,
    "start_time": "2021-12-29T16:16:35.095Z"
   },
   {
    "duration": 15,
    "start_time": "2021-12-29T16:16:35.702Z"
   },
   {
    "duration": 17,
    "start_time": "2021-12-29T16:16:35.719Z"
   },
   {
    "duration": 11,
    "start_time": "2021-12-29T16:16:35.738Z"
   },
   {
    "duration": 10,
    "start_time": "2021-12-29T16:17:01.692Z"
   },
   {
    "duration": 56,
    "start_time": "2021-12-29T16:18:57.317Z"
   },
   {
    "duration": 16,
    "start_time": "2021-12-29T16:18:57.375Z"
   },
   {
    "duration": 34,
    "start_time": "2021-12-29T16:18:57.393Z"
   },
   {
    "duration": 5,
    "start_time": "2021-12-29T16:18:57.429Z"
   },
   {
    "duration": 6,
    "start_time": "2021-12-29T16:18:57.436Z"
   },
   {
    "duration": 198,
    "start_time": "2021-12-29T16:18:57.444Z"
   },
   {
    "duration": 10,
    "start_time": "2021-12-29T16:18:57.644Z"
   },
   {
    "duration": 175,
    "start_time": "2021-12-29T16:18:57.656Z"
   },
   {
    "duration": 8,
    "start_time": "2021-12-29T16:18:57.833Z"
   },
   {
    "duration": 4,
    "start_time": "2021-12-29T16:18:57.843Z"
   },
   {
    "duration": 4,
    "start_time": "2021-12-29T16:18:57.849Z"
   },
   {
    "duration": 23,
    "start_time": "2021-12-29T16:18:57.855Z"
   },
   {
    "duration": 5,
    "start_time": "2021-12-29T16:18:57.879Z"
   },
   {
    "duration": 163,
    "start_time": "2021-12-29T16:18:57.885Z"
   },
   {
    "duration": 38,
    "start_time": "2021-12-29T16:18:58.049Z"
   },
   {
    "duration": 9,
    "start_time": "2021-12-29T16:18:58.088Z"
   },
   {
    "duration": 10,
    "start_time": "2021-12-29T16:18:58.098Z"
   },
   {
    "duration": 19,
    "start_time": "2021-12-29T16:18:58.109Z"
   },
   {
    "duration": 14,
    "start_time": "2021-12-29T16:18:58.129Z"
   },
   {
    "duration": 37,
    "start_time": "2021-12-29T16:18:58.144Z"
   },
   {
    "duration": 5,
    "start_time": "2021-12-29T16:18:58.183Z"
   },
   {
    "duration": 37,
    "start_time": "2021-12-29T16:18:58.190Z"
   },
   {
    "duration": 38,
    "start_time": "2021-12-29T16:18:58.230Z"
   },
   {
    "duration": 6,
    "start_time": "2021-12-29T16:18:58.269Z"
   },
   {
    "duration": 12,
    "start_time": "2021-12-29T16:18:58.276Z"
   },
   {
    "duration": 6,
    "start_time": "2021-12-29T16:18:58.289Z"
   },
   {
    "duration": 757,
    "start_time": "2021-12-29T16:18:58.296Z"
   },
   {
    "duration": 4,
    "start_time": "2021-12-29T16:18:59.055Z"
   },
   {
    "duration": 5,
    "start_time": "2021-12-29T16:18:59.061Z"
   },
   {
    "duration": 22,
    "start_time": "2021-12-29T16:18:59.068Z"
   },
   {
    "duration": 6946,
    "start_time": "2021-12-29T16:18:59.091Z"
   },
   {
    "duration": 11,
    "start_time": "2021-12-29T16:19:06.039Z"
   },
   {
    "duration": 7,
    "start_time": "2021-12-29T16:19:06.051Z"
   },
   {
    "duration": 11,
    "start_time": "2021-12-29T16:19:06.059Z"
   },
   {
    "duration": 9,
    "start_time": "2021-12-29T16:19:06.071Z"
   },
   {
    "duration": 3,
    "start_time": "2021-12-29T16:19:06.081Z"
   },
   {
    "duration": 12,
    "start_time": "2021-12-29T16:19:06.085Z"
   },
   {
    "duration": 31,
    "start_time": "2021-12-29T16:19:06.098Z"
   },
   {
    "duration": 22,
    "start_time": "2021-12-29T16:19:06.130Z"
   },
   {
    "duration": 21,
    "start_time": "2021-12-29T16:19:06.153Z"
   },
   {
    "duration": 11,
    "start_time": "2021-12-29T16:19:06.175Z"
   },
   {
    "duration": 15,
    "start_time": "2021-12-29T16:19:06.188Z"
   },
   {
    "duration": 11,
    "start_time": "2021-12-29T16:19:06.226Z"
   },
   {
    "duration": 648,
    "start_time": "2021-12-29T16:49:40.687Z"
   },
   {
    "duration": 20,
    "start_time": "2021-12-29T16:49:41.336Z"
   },
   {
    "duration": 21,
    "start_time": "2021-12-29T16:49:41.358Z"
   },
   {
    "duration": 15,
    "start_time": "2021-12-29T16:49:41.381Z"
   },
   {
    "duration": 12,
    "start_time": "2021-12-29T16:49:41.398Z"
   },
   {
    "duration": 239,
    "start_time": "2021-12-29T16:49:41.411Z"
   },
   {
    "duration": 11,
    "start_time": "2021-12-29T16:49:41.652Z"
   },
   {
    "duration": 181,
    "start_time": "2021-12-29T16:49:41.666Z"
   },
   {
    "duration": 8,
    "start_time": "2021-12-29T16:49:41.849Z"
   },
   {
    "duration": 23,
    "start_time": "2021-12-29T16:49:41.859Z"
   },
   {
    "duration": 16,
    "start_time": "2021-12-29T16:49:41.883Z"
   },
   {
    "duration": 47,
    "start_time": "2021-12-29T16:49:41.901Z"
   },
   {
    "duration": 4,
    "start_time": "2021-12-29T16:49:41.950Z"
   },
   {
    "duration": 154,
    "start_time": "2021-12-29T16:49:41.955Z"
   },
   {
    "duration": 44,
    "start_time": "2021-12-29T16:49:42.111Z"
   },
   {
    "duration": 8,
    "start_time": "2021-12-29T16:49:42.157Z"
   },
   {
    "duration": 30,
    "start_time": "2021-12-29T16:49:42.166Z"
   },
   {
    "duration": 12,
    "start_time": "2021-12-29T16:49:42.198Z"
   },
   {
    "duration": 46,
    "start_time": "2021-12-29T16:49:42.212Z"
   },
   {
    "duration": 53,
    "start_time": "2021-12-29T16:49:42.261Z"
   },
   {
    "duration": 6,
    "start_time": "2021-12-29T16:49:42.316Z"
   },
   {
    "duration": 16,
    "start_time": "2021-12-29T16:49:42.323Z"
   },
   {
    "duration": 36,
    "start_time": "2021-12-29T16:49:42.342Z"
   },
   {
    "duration": 6,
    "start_time": "2021-12-29T16:49:42.380Z"
   },
   {
    "duration": 14,
    "start_time": "2021-12-29T16:49:42.387Z"
   },
   {
    "duration": 11,
    "start_time": "2021-12-29T16:49:42.402Z"
   },
   {
    "duration": 636,
    "start_time": "2021-12-29T16:49:42.415Z"
   },
   {
    "duration": 4,
    "start_time": "2021-12-29T16:49:43.053Z"
   },
   {
    "duration": 10,
    "start_time": "2021-12-29T16:49:43.058Z"
   },
   {
    "duration": 18,
    "start_time": "2021-12-29T16:49:43.070Z"
   },
   {
    "duration": 6623,
    "start_time": "2021-12-29T16:49:43.090Z"
   },
   {
    "duration": 25,
    "start_time": "2021-12-29T16:49:49.715Z"
   },
   {
    "duration": 9,
    "start_time": "2021-12-29T16:49:49.742Z"
   },
   {
    "duration": 26,
    "start_time": "2021-12-29T16:49:49.753Z"
   },
   {
    "duration": 15,
    "start_time": "2021-12-29T16:49:49.782Z"
   },
   {
    "duration": 20,
    "start_time": "2021-12-29T16:49:49.799Z"
   },
   {
    "duration": 33,
    "start_time": "2021-12-29T16:49:49.821Z"
   },
   {
    "duration": 24,
    "start_time": "2021-12-29T16:49:49.856Z"
   },
   {
    "duration": 30,
    "start_time": "2021-12-29T16:49:49.881Z"
   },
   {
    "duration": 957,
    "start_time": "2021-12-29T16:49:49.912Z"
   },
   {
    "duration": 15,
    "start_time": "2021-12-29T16:49:50.870Z"
   },
   {
    "duration": 23,
    "start_time": "2021-12-29T16:49:50.886Z"
   },
   {
    "duration": 23,
    "start_time": "2021-12-29T16:49:50.911Z"
   },
   {
    "duration": 381,
    "start_time": "2022-04-11T04:56:40.956Z"
   },
   {
    "duration": 71,
    "start_time": "2022-04-11T04:56:41.339Z"
   },
   {
    "duration": 24,
    "start_time": "2022-04-11T04:56:41.412Z"
   },
   {
    "duration": 16,
    "start_time": "2022-04-11T04:56:41.438Z"
   },
   {
    "duration": 5,
    "start_time": "2022-04-11T04:56:41.456Z"
   },
   {
    "duration": 8,
    "start_time": "2022-04-11T04:56:41.463Z"
   },
   {
    "duration": 539,
    "start_time": "2022-04-11T04:56:41.473Z"
   },
   {
    "duration": 11,
    "start_time": "2022-04-11T04:56:42.015Z"
   },
   {
    "duration": 132,
    "start_time": "2022-04-11T04:56:42.028Z"
   },
   {
    "duration": 10,
    "start_time": "2022-04-11T04:56:42.164Z"
   },
   {
    "duration": 5,
    "start_time": "2022-04-11T04:56:42.176Z"
   },
   {
    "duration": 26,
    "start_time": "2022-04-11T04:56:42.183Z"
   },
   {
    "duration": 18,
    "start_time": "2022-04-11T04:56:42.211Z"
   },
   {
    "duration": 6,
    "start_time": "2022-04-11T04:56:42.230Z"
   },
   {
    "duration": 109,
    "start_time": "2022-04-11T04:56:42.237Z"
   },
   {
    "duration": 34,
    "start_time": "2022-04-11T04:56:42.347Z"
   },
   {
    "duration": 10,
    "start_time": "2022-04-11T04:56:42.383Z"
   },
   {
    "duration": 15,
    "start_time": "2022-04-11T04:56:42.409Z"
   },
   {
    "duration": 3,
    "start_time": "2022-04-11T04:56:42.425Z"
   },
   {
    "duration": 15,
    "start_time": "2022-04-11T04:56:42.430Z"
   },
   {
    "duration": 69,
    "start_time": "2022-04-11T04:56:42.447Z"
   },
   {
    "duration": 6,
    "start_time": "2022-04-11T04:56:42.518Z"
   },
   {
    "duration": 16,
    "start_time": "2022-04-11T04:56:42.525Z"
   },
   {
    "duration": 43,
    "start_time": "2022-04-11T04:56:42.542Z"
   },
   {
    "duration": 27,
    "start_time": "2022-04-11T04:56:42.586Z"
   },
   {
    "duration": 12,
    "start_time": "2022-04-11T04:56:42.615Z"
   },
   {
    "duration": 6,
    "start_time": "2022-04-11T04:56:42.629Z"
   },
   {
    "duration": 676,
    "start_time": "2022-04-11T04:56:42.640Z"
   },
   {
    "duration": 4,
    "start_time": "2022-04-11T04:56:43.318Z"
   },
   {
    "duration": 5,
    "start_time": "2022-04-11T04:56:43.324Z"
   },
   {
    "duration": 19,
    "start_time": "2022-04-11T04:56:43.331Z"
   },
   {
    "duration": 5908,
    "start_time": "2022-04-11T04:56:43.352Z"
   },
   {
    "duration": 11,
    "start_time": "2022-04-11T04:56:49.262Z"
   },
   {
    "duration": 7,
    "start_time": "2022-04-11T04:56:49.275Z"
   },
   {
    "duration": 29,
    "start_time": "2022-04-11T04:56:49.284Z"
   },
   {
    "duration": 11,
    "start_time": "2022-04-11T04:56:49.315Z"
   },
   {
    "duration": 3,
    "start_time": "2022-04-11T04:56:49.327Z"
   },
   {
    "duration": 13,
    "start_time": "2022-04-11T04:56:49.331Z"
   },
   {
    "duration": 4,
    "start_time": "2022-04-11T04:56:49.346Z"
   },
   {
    "duration": 18,
    "start_time": "2022-04-11T04:56:49.351Z"
   },
   {
    "duration": 91,
    "start_time": "2022-04-11T04:56:49.371Z"
   },
   {
    "duration": 13,
    "start_time": "2022-04-11T04:56:49.464Z"
   },
   {
    "duration": 41,
    "start_time": "2022-04-11T04:56:49.480Z"
   },
   {
    "duration": 13,
    "start_time": "2022-04-11T04:56:49.523Z"
   },
   {
    "duration": 20,
    "start_time": "2022-04-11T04:58:27.236Z"
   },
   {
    "duration": 2,
    "start_time": "2022-04-11T04:58:36.442Z"
   },
   {
    "duration": 63,
    "start_time": "2022-04-11T04:58:36.447Z"
   },
   {
    "duration": 17,
    "start_time": "2022-04-11T04:58:39.507Z"
   },
   {
    "duration": 17,
    "start_time": "2022-04-11T04:58:40.211Z"
   },
   {
    "duration": 128,
    "start_time": "2022-04-11T05:01:06.131Z"
   },
   {
    "duration": 186,
    "start_time": "2022-04-11T05:01:17.842Z"
   },
   {
    "duration": 10,
    "start_time": "2022-04-11T05:01:19.251Z"
   },
   {
    "duration": 122,
    "start_time": "2022-04-11T05:01:22.235Z"
   },
   {
    "duration": 11,
    "start_time": "2022-04-11T05:01:28.874Z"
   },
   {
    "duration": 4,
    "start_time": "2022-04-11T05:01:48.195Z"
   },
   {
    "duration": 6,
    "start_time": "2022-04-11T05:02:35.234Z"
   },
   {
    "duration": 21,
    "start_time": "2022-04-11T05:02:38.458Z"
   },
   {
    "duration": 5,
    "start_time": "2022-04-11T05:02:38.875Z"
   },
   {
    "duration": 81,
    "start_time": "2022-04-11T05:02:55.218Z"
   },
   {
    "duration": 33,
    "start_time": "2022-04-11T05:03:19.394Z"
   },
   {
    "duration": 10,
    "start_time": "2022-04-11T05:03:20.674Z"
   },
   {
    "duration": 14,
    "start_time": "2022-04-11T05:03:42.298Z"
   },
   {
    "duration": 4,
    "start_time": "2022-04-11T05:03:44.146Z"
   },
   {
    "duration": 49,
    "start_time": "2022-04-11T05:04:11.939Z"
   },
   {
    "duration": 7,
    "start_time": "2022-04-11T05:04:16.626Z"
   },
   {
    "duration": 16,
    "start_time": "2022-04-11T05:04:26.971Z"
   },
   {
    "duration": 45,
    "start_time": "2022-04-11T05:04:30.962Z"
   },
   {
    "duration": 6,
    "start_time": "2022-04-11T05:04:39.899Z"
   },
   {
    "duration": 10,
    "start_time": "2022-04-11T05:04:42.060Z"
   },
   {
    "duration": 7,
    "start_time": "2022-04-11T05:05:54.314Z"
   },
   {
    "duration": 677,
    "start_time": "2022-04-11T05:06:08.010Z"
   },
   {
    "duration": 4,
    "start_time": "2022-04-11T05:06:15.802Z"
   },
   {
    "duration": 3,
    "start_time": "2022-04-11T05:06:24.786Z"
   },
   {
    "duration": 18,
    "start_time": "2022-04-11T05:06:27.684Z"
   },
   {
    "duration": 12,
    "start_time": "2022-04-11T05:06:42.941Z"
   },
   {
    "duration": 9,
    "start_time": "2022-04-11T05:08:56.601Z"
   },
   {
    "duration": 719,
    "start_time": "2022-04-11T05:09:10.565Z"
   },
   {
    "duration": 4,
    "start_time": "2022-04-11T05:09:35.267Z"
   },
   {
    "duration": 4,
    "start_time": "2022-04-11T05:10:34.331Z"
   },
   {
    "duration": 14,
    "start_time": "2022-04-11T05:10:35.275Z"
   },
   {
    "duration": 6511,
    "start_time": "2022-04-11T05:10:37.806Z"
   },
   {
    "duration": 12,
    "start_time": "2022-04-11T05:10:44.319Z"
   },
   {
    "duration": 5,
    "start_time": "2022-04-11T05:10:47.611Z"
   },
   {
    "duration": 13,
    "start_time": "2022-04-11T05:12:56.227Z"
   },
   {
    "duration": 12,
    "start_time": "2022-04-11T05:13:04.402Z"
   },
   {
    "duration": 4,
    "start_time": "2022-04-11T05:13:11.708Z"
   },
   {
    "duration": 12,
    "start_time": "2022-04-11T05:13:13.468Z"
   },
   {
    "duration": 5,
    "start_time": "2022-04-11T05:13:17.587Z"
   },
   {
    "duration": 19,
    "start_time": "2022-04-11T05:13:19.977Z"
   },
   {
    "duration": 25,
    "start_time": "2022-04-11T05:15:19.635Z"
   },
   {
    "duration": 14,
    "start_time": "2022-04-11T05:15:36.762Z"
   },
   {
    "duration": 3,
    "start_time": "2022-04-11T05:17:33.532Z"
   },
   {
    "duration": 3,
    "start_time": "2022-04-11T05:17:35.747Z"
   },
   {
    "duration": 3,
    "start_time": "2022-04-11T06:32:08.493Z"
   },
   {
    "duration": 69,
    "start_time": "2022-04-11T06:32:08.501Z"
   },
   {
    "duration": 40,
    "start_time": "2022-04-11T06:32:08.572Z"
   },
   {
    "duration": 17,
    "start_time": "2022-04-11T06:32:08.614Z"
   },
   {
    "duration": 6,
    "start_time": "2022-04-11T06:32:08.632Z"
   },
   {
    "duration": 8,
    "start_time": "2022-04-11T06:32:08.640Z"
   },
   {
    "duration": 172,
    "start_time": "2022-04-11T06:32:08.650Z"
   },
   {
    "duration": 11,
    "start_time": "2022-04-11T06:32:08.824Z"
   },
   {
    "duration": 144,
    "start_time": "2022-04-11T06:32:08.836Z"
   },
   {
    "duration": 11,
    "start_time": "2022-04-11T06:32:08.982Z"
   },
   {
    "duration": 14,
    "start_time": "2022-04-11T06:32:08.995Z"
   },
   {
    "duration": 5,
    "start_time": "2022-04-11T06:32:09.011Z"
   },
   {
    "duration": 16,
    "start_time": "2022-04-11T06:32:09.018Z"
   },
   {
    "duration": 4,
    "start_time": "2022-04-11T06:32:09.036Z"
   },
   {
    "duration": 112,
    "start_time": "2022-04-11T06:32:09.043Z"
   },
   {
    "duration": 32,
    "start_time": "2022-04-11T06:32:09.156Z"
   },
   {
    "duration": 19,
    "start_time": "2022-04-11T06:32:09.190Z"
   },
   {
    "duration": 15,
    "start_time": "2022-04-11T06:32:09.211Z"
   },
   {
    "duration": 4,
    "start_time": "2022-04-11T06:32:09.227Z"
   },
   {
    "duration": 47,
    "start_time": "2022-04-11T06:32:09.233Z"
   },
   {
    "duration": 32,
    "start_time": "2022-04-11T06:32:09.281Z"
   },
   {
    "duration": 26,
    "start_time": "2022-04-11T06:32:09.315Z"
   },
   {
    "duration": 49,
    "start_time": "2022-04-11T06:32:09.342Z"
   },
   {
    "duration": 19,
    "start_time": "2022-04-11T06:32:09.393Z"
   },
   {
    "duration": 12,
    "start_time": "2022-04-11T06:32:09.414Z"
   },
   {
    "duration": 7,
    "start_time": "2022-04-11T06:32:09.427Z"
   },
   {
    "duration": 708,
    "start_time": "2022-04-11T06:32:09.435Z"
   },
   {
    "duration": 4,
    "start_time": "2022-04-11T06:32:10.145Z"
   },
   {
    "duration": 4,
    "start_time": "2022-04-11T06:32:10.151Z"
   },
   {
    "duration": 19,
    "start_time": "2022-04-11T06:32:10.157Z"
   },
   {
    "duration": 6272,
    "start_time": "2022-04-11T06:32:10.178Z"
   },
   {
    "duration": 12,
    "start_time": "2022-04-11T06:32:16.452Z"
   },
   {
    "duration": 6,
    "start_time": "2022-04-11T06:32:16.465Z"
   },
   {
    "duration": 14,
    "start_time": "2022-04-11T06:32:16.473Z"
   },
   {
    "duration": 11,
    "start_time": "2022-04-11T06:32:16.509Z"
   },
   {
    "duration": 4,
    "start_time": "2022-04-11T06:32:16.522Z"
   },
   {
    "duration": 13,
    "start_time": "2022-04-11T06:32:16.527Z"
   },
   {
    "duration": 4,
    "start_time": "2022-04-11T06:32:16.542Z"
   },
   {
    "duration": 20,
    "start_time": "2022-04-11T06:32:16.548Z"
   },
   {
    "duration": 55,
    "start_time": "2022-04-11T06:32:16.569Z"
   },
   {
    "duration": 14,
    "start_time": "2022-04-11T06:32:16.626Z"
   },
   {
    "duration": 20,
    "start_time": "2022-04-11T06:32:16.644Z"
   },
   {
    "duration": 44,
    "start_time": "2022-04-11T06:32:16.666Z"
   },
   {
    "duration": 3,
    "start_time": "2022-04-11T06:33:31.989Z"
   },
   {
    "duration": 68,
    "start_time": "2022-04-11T06:33:31.993Z"
   },
   {
    "duration": 20,
    "start_time": "2022-04-11T06:33:32.063Z"
   },
   {
    "duration": 18,
    "start_time": "2022-04-11T06:33:32.108Z"
   },
   {
    "duration": 5,
    "start_time": "2022-04-11T06:33:32.128Z"
   },
   {
    "duration": 8,
    "start_time": "2022-04-11T06:33:32.134Z"
   },
   {
    "duration": 151,
    "start_time": "2022-04-11T06:33:32.143Z"
   },
   {
    "duration": 14,
    "start_time": "2022-04-11T06:33:32.297Z"
   },
   {
    "duration": 134,
    "start_time": "2022-04-11T06:33:32.313Z"
   },
   {
    "duration": 10,
    "start_time": "2022-04-11T06:33:32.448Z"
   },
   {
    "duration": 4,
    "start_time": "2022-04-11T06:33:32.461Z"
   },
   {
    "duration": 6,
    "start_time": "2022-04-11T06:33:32.467Z"
   },
   {
    "duration": 40,
    "start_time": "2022-04-11T06:33:32.475Z"
   },
   {
    "duration": 4,
    "start_time": "2022-04-11T06:33:32.516Z"
   },
   {
    "duration": 87,
    "start_time": "2022-04-11T06:33:32.522Z"
   },
   {
    "duration": 32,
    "start_time": "2022-04-11T06:33:32.611Z"
   },
   {
    "duration": 10,
    "start_time": "2022-04-11T06:33:32.644Z"
   },
   {
    "duration": 15,
    "start_time": "2022-04-11T06:33:32.655Z"
   },
   {
    "duration": 3,
    "start_time": "2022-04-11T06:33:32.671Z"
   },
   {
    "duration": 72,
    "start_time": "2022-04-11T06:33:32.676Z"
   },
   {
    "duration": 7,
    "start_time": "2022-04-11T06:33:32.750Z"
   },
   {
    "duration": 17,
    "start_time": "2022-04-11T06:33:32.759Z"
   },
   {
    "duration": 68,
    "start_time": "2022-04-11T06:33:32.778Z"
   },
   {
    "duration": 7,
    "start_time": "2022-04-11T06:33:32.848Z"
   },
   {
    "duration": 11,
    "start_time": "2022-04-11T06:33:32.857Z"
   },
   {
    "duration": 13,
    "start_time": "2022-04-11T06:33:32.870Z"
   },
   {
    "duration": 704,
    "start_time": "2022-04-11T06:33:32.908Z"
   },
   {
    "duration": 4,
    "start_time": "2022-04-11T06:33:33.615Z"
   },
   {
    "duration": 3,
    "start_time": "2022-04-11T06:33:33.624Z"
   },
   {
    "duration": 15,
    "start_time": "2022-04-11T06:33:33.629Z"
   },
   {
    "duration": 6174,
    "start_time": "2022-04-11T06:33:33.646Z"
   },
   {
    "duration": 11,
    "start_time": "2022-04-11T06:33:39.822Z"
   },
   {
    "duration": 6,
    "start_time": "2022-04-11T06:33:39.834Z"
   },
   {
    "duration": 12,
    "start_time": "2022-04-11T06:33:39.841Z"
   },
   {
    "duration": 10,
    "start_time": "2022-04-11T06:33:39.854Z"
   },
   {
    "duration": 3,
    "start_time": "2022-04-11T06:33:39.865Z"
   },
   {
    "duration": 42,
    "start_time": "2022-04-11T06:33:39.870Z"
   },
   {
    "duration": 5,
    "start_time": "2022-04-11T06:33:39.913Z"
   },
   {
    "duration": 17,
    "start_time": "2022-04-11T06:33:39.919Z"
   },
   {
    "duration": 21,
    "start_time": "2022-04-11T06:33:39.937Z"
   },
   {
    "duration": 12,
    "start_time": "2022-04-11T06:33:39.960Z"
   },
   {
    "duration": 48,
    "start_time": "2022-04-11T06:33:39.973Z"
   },
   {
    "duration": 11,
    "start_time": "2022-04-11T06:33:40.023Z"
   },
   {
    "duration": 3,
    "start_time": "2022-04-11T06:35:36.943Z"
   },
   {
    "duration": 69,
    "start_time": "2022-04-11T06:35:36.947Z"
   },
   {
    "duration": 16,
    "start_time": "2022-04-11T06:35:37.017Z"
   },
   {
    "duration": 20,
    "start_time": "2022-04-11T06:35:37.034Z"
   },
   {
    "duration": 4,
    "start_time": "2022-04-11T06:35:37.056Z"
   },
   {
    "duration": 8,
    "start_time": "2022-04-11T06:35:37.062Z"
   },
   {
    "duration": 154,
    "start_time": "2022-04-11T06:35:37.071Z"
   },
   {
    "duration": 10,
    "start_time": "2022-04-11T06:35:37.226Z"
   },
   {
    "duration": 125,
    "start_time": "2022-04-11T06:35:37.237Z"
   },
   {
    "duration": 11,
    "start_time": "2022-04-11T06:35:37.363Z"
   },
   {
    "duration": 11,
    "start_time": "2022-04-11T06:35:37.376Z"
   },
   {
    "duration": 20,
    "start_time": "2022-04-11T06:35:37.389Z"
   },
   {
    "duration": 41,
    "start_time": "2022-04-11T06:35:37.411Z"
   },
   {
    "duration": 12,
    "start_time": "2022-04-11T06:35:37.454Z"
   },
   {
    "duration": 118,
    "start_time": "2022-04-11T06:35:37.467Z"
   },
   {
    "duration": 34,
    "start_time": "2022-04-11T06:35:37.587Z"
   },
   {
    "duration": 10,
    "start_time": "2022-04-11T06:35:37.623Z"
   },
   {
    "duration": 17,
    "start_time": "2022-04-11T06:35:37.634Z"
   },
   {
    "duration": 4,
    "start_time": "2022-04-11T06:35:37.653Z"
   },
   {
    "duration": 69,
    "start_time": "2022-04-11T06:35:37.658Z"
   },
   {
    "duration": 6,
    "start_time": "2022-04-11T06:35:37.729Z"
   },
   {
    "duration": 22,
    "start_time": "2022-04-11T06:35:37.736Z"
   },
   {
    "duration": 55,
    "start_time": "2022-04-11T06:35:37.759Z"
   },
   {
    "duration": 6,
    "start_time": "2022-04-11T06:35:37.815Z"
   },
   {
    "duration": 19,
    "start_time": "2022-04-11T06:35:37.822Z"
   },
   {
    "duration": 7,
    "start_time": "2022-04-11T06:35:37.842Z"
   },
   {
    "duration": 680,
    "start_time": "2022-04-11T06:35:37.851Z"
   },
   {
    "duration": 4,
    "start_time": "2022-04-11T06:35:38.534Z"
   },
   {
    "duration": 4,
    "start_time": "2022-04-11T06:35:38.543Z"
   },
   {
    "duration": 14,
    "start_time": "2022-04-11T06:35:38.549Z"
   },
   {
    "duration": 6076,
    "start_time": "2022-04-11T06:35:38.566Z"
   },
   {
    "duration": 13,
    "start_time": "2022-04-11T06:35:44.644Z"
   },
   {
    "duration": 7,
    "start_time": "2022-04-11T06:35:44.658Z"
   },
   {
    "duration": 12,
    "start_time": "2022-04-11T06:35:44.667Z"
   },
   {
    "duration": 36,
    "start_time": "2022-04-11T06:35:44.681Z"
   },
   {
    "duration": 3,
    "start_time": "2022-04-11T06:35:44.718Z"
   },
   {
    "duration": 13,
    "start_time": "2022-04-11T06:35:44.723Z"
   },
   {
    "duration": 4,
    "start_time": "2022-04-11T06:35:44.737Z"
   },
   {
    "duration": 17,
    "start_time": "2022-04-11T06:35:44.743Z"
   },
   {
    "duration": 56,
    "start_time": "2022-04-11T06:35:44.762Z"
   },
   {
    "duration": 13,
    "start_time": "2022-04-11T06:35:44.819Z"
   },
   {
    "duration": 18,
    "start_time": "2022-04-11T06:35:44.833Z"
   },
   {
    "duration": 12,
    "start_time": "2022-04-11T06:35:44.852Z"
   }
  ],
  "kernelspec": {
   "display_name": "Python 3 (ipykernel)",
   "language": "python",
   "name": "python3"
  },
  "language_info": {
   "codemirror_mode": {
    "name": "ipython",
    "version": 3
   },
   "file_extension": ".py",
   "mimetype": "text/x-python",
   "name": "python",
   "nbconvert_exporter": "python",
   "pygments_lexer": "ipython3",
   "version": "3.9.5"
  },
  "toc": {
   "base_numbering": 1,
   "nav_menu": {},
   "number_sections": true,
   "sideBar": true,
   "skip_h1_title": true,
   "title_cell": "Оглавление",
   "title_sidebar": "Contents",
   "toc_cell": true,
   "toc_position": {},
   "toc_section_display": true,
   "toc_window_display": true
  }
 },
 "nbformat": 4,
 "nbformat_minor": 2
}
