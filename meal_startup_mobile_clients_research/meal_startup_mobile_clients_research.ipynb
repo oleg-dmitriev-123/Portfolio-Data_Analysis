{
 "cells": [
  {
   "cell_type": "markdown",
   "id": "4a7ee93e",
   "metadata": {},
   "source": [
    "# Изучение поведения пользователей в мобильном приложении стартапа, продающего продукты питания"
   ]
  },
  {
   "cell_type": "markdown",
   "id": "40b92ed4",
   "metadata": {
    "toc": true
   },
   "source": [
    "<h1>Оглавление<span class=\"tocSkip\"></span></h1>\n",
    "<div class=\"toc\"><ul class=\"toc-item\"><li><span><a href=\"#Описание-проекта\" data-toc-modified-id=\"Описание-проекта-1\"><span class=\"toc-item-num\">1&nbsp;&nbsp;</span>Описание проекта</a></span></li><li><span><a href=\"#Настройка-окружения\" data-toc-modified-id=\"Настройка-окружения-2\"><span class=\"toc-item-num\">2&nbsp;&nbsp;</span>Настройка окружения</a></span></li><li><span><a href=\"#Подготовка-данных\" data-toc-modified-id=\"Подготовка-данных-3\"><span class=\"toc-item-num\">3&nbsp;&nbsp;</span>Подготовка данных</a></span><ul class=\"toc-item\"><li><span><a href=\"#Предварительное-изучение-данных\" data-toc-modified-id=\"Предварительное-изучение-данных-3.1\"><span class=\"toc-item-num\">3.1&nbsp;&nbsp;</span>Предварительное изучение данных</a></span></li><li><span><a href=\"#Замена-названий-столбцов\" data-toc-modified-id=\"Замена-названий-столбцов-3.2\"><span class=\"toc-item-num\">3.2&nbsp;&nbsp;</span>Замена названий столбцов</a></span></li><li><span><a href=\"#Обработка-пропусков\" data-toc-modified-id=\"Обработка-пропусков-3.3\"><span class=\"toc-item-num\">3.3&nbsp;&nbsp;</span>Обработка пропусков</a></span></li><li><span><a href=\"#Обработка-дубликатов\" data-toc-modified-id=\"Обработка-дубликатов-3.4\"><span class=\"toc-item-num\">3.4&nbsp;&nbsp;</span>Обработка дубликатов</a></span></li><li><span><a href=\"#Преобразование-типов-данных\" data-toc-modified-id=\"Преобразование-типов-данных-3.5\"><span class=\"toc-item-num\">3.5&nbsp;&nbsp;</span>Преобразование типов данных</a></span></li><li><span><a href=\"#Добавление-дополнительного-столбца-даты\" data-toc-modified-id=\"Добавление-дополнительного-столбца-даты-3.6\"><span class=\"toc-item-num\">3.6&nbsp;&nbsp;</span>Добавление дополнительного столбца даты</a></span></li></ul></li><li><span><a href=\"#Исследовательский-анализ-данных\" data-toc-modified-id=\"Исследовательский-анализ-данных-4\"><span class=\"toc-item-num\">4&nbsp;&nbsp;</span>Исследовательский анализ данных</a></span><ul class=\"toc-item\"><li><span><a href=\"#События\" data-toc-modified-id=\"События-4.1\"><span class=\"toc-item-num\">4.1&nbsp;&nbsp;</span>События</a></span></li><li><span><a href=\"#Пользователи\" data-toc-modified-id=\"Пользователи-4.2\"><span class=\"toc-item-num\">4.2&nbsp;&nbsp;</span>Пользователи</a></span></li><li><span><a href=\"#Среднее-кол-во-событий-на-пользователя\" data-toc-modified-id=\"Среднее-кол-во-событий-на-пользователя-4.3\"><span class=\"toc-item-num\">4.3&nbsp;&nbsp;</span>Среднее кол-во событий на пользователя</a></span></li><li><span><a href=\"#Исследование-периода-времени\" data-toc-modified-id=\"Исследование-периода-времени-4.4\"><span class=\"toc-item-num\">4.4&nbsp;&nbsp;</span>Исследование периода времени</a></span></li><li><span><a href=\"#Оценка-потерь-важной-информации-в-результате-очистки-данных\" data-toc-modified-id=\"Оценка-потерь-важной-информации-в-результате-очистки-данных-4.5\"><span class=\"toc-item-num\">4.5&nbsp;&nbsp;</span>Оценка потерь важной информации в результате очистки данных</a></span></li><li><span><a href=\"#Проверка-пользователей-из-разных-групп\" data-toc-modified-id=\"Проверка-пользователей-из-разных-групп-4.6\"><span class=\"toc-item-num\">4.6&nbsp;&nbsp;</span>Проверка пользователей из разных групп</a></span></li></ul></li><li><span><a href=\"#Изучение-воронки-событий\" data-toc-modified-id=\"Изучение-воронки-событий-5\"><span class=\"toc-item-num\">5&nbsp;&nbsp;</span>Изучение воронки событий</a></span><ul class=\"toc-item\"><li><span><a href=\"#Сортировка-событий-по-частоте\" data-toc-modified-id=\"Сортировка-событий-по-частоте-5.1\"><span class=\"toc-item-num\">5.1&nbsp;&nbsp;</span>Сортировка событий по частоте</a></span></li><li><span><a href=\"#Сортировка-событий-по-числу-пользователей\" data-toc-modified-id=\"Сортировка-событий-по-числу-пользователей-5.2\"><span class=\"toc-item-num\">5.2&nbsp;&nbsp;</span>Сортировка событий по числу пользователей</a></span></li><li><span><a href=\"#Определение-порядка-событий\" data-toc-modified-id=\"Определение-порядка-событий-5.3\"><span class=\"toc-item-num\">5.3&nbsp;&nbsp;</span>Определение порядка событий</a></span></li><li><span><a href=\"#Расчет-воронки-конверсии-пользователя-в-покупку\" data-toc-modified-id=\"Расчет-воронки-конверсии-пользователя-в-покупку-5.4\"><span class=\"toc-item-num\">5.4&nbsp;&nbsp;</span>Расчет воронки конверсии пользователя в покупку</a></span><ul class=\"toc-item\"><li><span><a href=\"#Способ-№1\" data-toc-modified-id=\"Способ-№1-5.4.1\"><span class=\"toc-item-num\">5.4.1&nbsp;&nbsp;</span>Способ №1</a></span></li><li><span><a href=\"#Способ-№2\" data-toc-modified-id=\"Способ-№2-5.4.2\"><span class=\"toc-item-num\">5.4.2&nbsp;&nbsp;</span>Способ №2</a></span></li></ul></li></ul></li><li><span><a href=\"#Изучение-результата-эксперимента\" data-toc-modified-id=\"Изучение-результата-эксперимента-6\"><span class=\"toc-item-num\">6&nbsp;&nbsp;</span>Изучение результата эксперимента</a></span><ul class=\"toc-item\"><li><span><a href=\"#Подсчет-пользователей-в-экспериментальных-группах\" data-toc-modified-id=\"Подсчет-пользователей-в-экспериментальных-группах-6.1\"><span class=\"toc-item-num\">6.1&nbsp;&nbsp;</span>Подсчет пользователей в экспериментальных группах</a></span></li><li><span><a href=\"#Подготовка-перед-тестом\" data-toc-modified-id=\"Подготовка-перед-тестом-6.2\"><span class=\"toc-item-num\">6.2&nbsp;&nbsp;</span>Подготовка перед тестом</a></span></li><li><span><a href=\"#Проведение-A/A/B---теста\" data-toc-modified-id=\"Проведение-A/A/B---теста-6.3\"><span class=\"toc-item-num\">6.3&nbsp;&nbsp;</span>Проведение A/A/B - теста</a></span></li></ul></li><li><span><a href=\"#Вывод:\" data-toc-modified-id=\"Вывод:-7\"><span class=\"toc-item-num\">7&nbsp;&nbsp;</span>Вывод:</a></span></li></ul></div>"
   ]
  },
  {
   "cell_type": "markdown",
   "id": "03968d21",
   "metadata": {},
   "source": [
    "## Описание проекта"
   ]
  },
  {
   "cell_type": "markdown",
   "id": "794ba496",
   "metadata": {},
   "source": [
    "Стартап продает продукты питания. Необходимо разобраться, как пользователи ведут себя в мобильном приложении.  Для этого необходимо выполнить следующие задачи:\n",
    "\n",
    "1. Изучить воронку продаж и понять путь пользователей до покупки - определить узкое горлышко воронки.\n",
    "2. Оценить результаты A/A/B-эксперимента. Дизайнеры захотели поменять шрифты во всём приложении, а менеджеры испугались, что пользователям будет непривычно. Договорились принять решение по результатам A/A/B-теста. Пользователей разбили на 3 группы: 2 контрольные со старыми шрифтами и одну экспериментальную — с новыми. Надо выяснить, какой шрифт лучше."
   ]
  },
  {
   "cell_type": "markdown",
   "id": "36348e5e",
   "metadata": {},
   "source": [
    "**Описание данных:**\n",
    "\n",
    "Каждая запись в логе — это действие пользователя, или событие.\n",
    "\n",
    "Имя переменной | Описание данных\n",
    "---|---\n",
    "EventName | название события;\n",
    "DeviceIDHash | уникальный идентификатор пользователя;\n",
    "EventTimestamp | время события;\n",
    "ExpId | номер эксперимента: 246 и 247 — контрольные группы, а 248 — экспериментальная.\n"
   ]
  },
  {
   "cell_type": "markdown",
   "id": "4b8a5ce4",
   "metadata": {},
   "source": [
    "## Настройка окружения"
   ]
  },
  {
   "cell_type": "code",
   "execution_count": 103,
   "id": "717b2f25",
   "metadata": {},
   "outputs": [],
   "source": [
    "# отключаю предупреждение anaconda\n",
    "import warnings\n",
    "warnings.simplefilter('ignore')\n",
    "\n",
    "import pandas as pd\n",
    "import seaborn as sns\n",
    "import matplotlib.pyplot as plt\n",
    "\n",
    "import datetime as dt\n",
    "\n",
    "from plotly import graph_objects as go \n",
    "\n",
    "from scipy import stats as st\n",
    "\n",
    "import math"
   ]
  },
  {
   "cell_type": "markdown",
   "id": "0f5f3ede",
   "metadata": {},
   "source": [
    "## Подготовка данных"
   ]
  },
  {
   "cell_type": "markdown",
   "id": "3a79ed7b",
   "metadata": {},
   "source": [
    "### Предварительное изучение данных"
   ]
  },
  {
   "cell_type": "code",
   "execution_count": 104,
   "id": "bd741ac0",
   "metadata": {},
   "outputs": [],
   "source": [
    "try:\n",
    "    data = pd.read_csv('logs_exp.csv', sep='\\t')\n",
    "except:\n",
    "    data = pd.read_csv('/datasets/logs_exp.csv', sep='\\t')"
   ]
  },
  {
   "cell_type": "code",
   "execution_count": 105,
   "id": "c953bdf5",
   "metadata": {},
   "outputs": [
    {
     "name": "stdout",
     "output_type": "stream",
     "text": [
      "<class 'pandas.core.frame.DataFrame'>\n",
      "RangeIndex: 244126 entries, 0 to 244125\n",
      "Data columns (total 4 columns):\n",
      " #   Column          Non-Null Count   Dtype \n",
      "---  ------          --------------   ----- \n",
      " 0   EventName       244126 non-null  object\n",
      " 1   DeviceIDHash    244126 non-null  int64 \n",
      " 2   EventTimestamp  244126 non-null  int64 \n",
      " 3   ExpId           244126 non-null  int64 \n",
      "dtypes: int64(3), object(1)\n",
      "memory usage: 7.5+ MB\n"
     ]
    }
   ],
   "source": [
    "data.info()"
   ]
  },
  {
   "cell_type": "markdown",
   "id": "ecf7b777",
   "metadata": {},
   "source": [
    "### Замена названий столбцов"
   ]
  },
  {
   "cell_type": "code",
   "execution_count": 106,
   "id": "a5732046",
   "metadata": {},
   "outputs": [],
   "source": [
    "data = data.rename(columns={'EventName':'event_name', 'DeviceIDHash':'device_id', 'EventTimestamp':'event_time', 'ExpId':'group'})"
   ]
  },
  {
   "cell_type": "markdown",
   "id": "ce778e29",
   "metadata": {},
   "source": [
    "### Обработка пропусков"
   ]
  },
  {
   "cell_type": "code",
   "execution_count": 107,
   "id": "b57cf0bb",
   "metadata": {
    "scrolled": true
   },
   "outputs": [
    {
     "name": "stdout",
     "output_type": "stream",
     "text": [
      "Кол-во пропусков:  event_name    0\n",
      "device_id     0\n",
      "event_time    0\n",
      "group         0\n",
      "dtype: int64\n"
     ]
    }
   ],
   "source": [
    "print('Кол-во пропусков: ',data.isna().sum())"
   ]
  },
  {
   "cell_type": "markdown",
   "id": "f5991d6b",
   "metadata": {},
   "source": [
    "### Обработка дубликатов"
   ]
  },
  {
   "cell_type": "code",
   "execution_count": 108,
   "id": "ab4d573f",
   "metadata": {},
   "outputs": [
    {
     "name": "stdout",
     "output_type": "stream",
     "text": [
      "Кол-во дубликатов: 413\n"
     ]
    }
   ],
   "source": [
    "print('Кол-во дубликатов:',data.duplicated().sum())"
   ]
  },
  {
   "cell_type": "code",
   "execution_count": 109,
   "id": "668434ad",
   "metadata": {},
   "outputs": [],
   "source": [
    "data = data.drop_duplicates()"
   ]
  },
  {
   "cell_type": "markdown",
   "id": "19cc375e",
   "metadata": {},
   "source": [
    "### Преобразование типов данных"
   ]
  },
  {
   "cell_type": "markdown",
   "id": "22119427",
   "metadata": {},
   "source": [
    "\"event_time\" необходимо привести к типу datetime"
   ]
  },
  {
   "cell_type": "code",
   "execution_count": 110,
   "id": "9f7cc5d2",
   "metadata": {},
   "outputs": [],
   "source": [
    "data['event_time'] = pd.to_datetime(data['event_time'], unit='s')"
   ]
  },
  {
   "cell_type": "code",
   "execution_count": 111,
   "id": "c97f3ceb",
   "metadata": {
    "scrolled": true
   },
   "outputs": [
    {
     "name": "stdout",
     "output_type": "stream",
     "text": [
      "<class 'pandas.core.frame.DataFrame'>\n",
      "Int64Index: 243713 entries, 0 to 244125\n",
      "Data columns (total 4 columns):\n",
      " #   Column      Non-Null Count   Dtype         \n",
      "---  ------      --------------   -----         \n",
      " 0   event_name  243713 non-null  object        \n",
      " 1   device_id   243713 non-null  int64         \n",
      " 2   event_time  243713 non-null  datetime64[ns]\n",
      " 3   group       243713 non-null  int64         \n",
      "dtypes: datetime64[ns](1), int64(2), object(1)\n",
      "memory usage: 9.3+ MB\n"
     ]
    }
   ],
   "source": [
    "data.info()"
   ]
  },
  {
   "cell_type": "markdown",
   "id": "486156b9",
   "metadata": {},
   "source": [
    "### Добавление дополнительного столбца даты"
   ]
  },
  {
   "cell_type": "code",
   "execution_count": 112,
   "id": "50e0ecfb",
   "metadata": {},
   "outputs": [],
   "source": [
    "#столбец даты и времени\n",
    "data['event_time_date'] = data['event_time'].dt.date\n",
    "#data.head()"
   ]
  },
  {
   "cell_type": "markdown",
   "id": "417772b1",
   "metadata": {},
   "source": [
    "## Исследовательский анализ данных"
   ]
  },
  {
   "cell_type": "markdown",
   "id": "d5590111",
   "metadata": {},
   "source": [
    "### События"
   ]
  },
  {
   "cell_type": "code",
   "execution_count": 113,
   "id": "cad13944",
   "metadata": {},
   "outputs": [
    {
     "data": {
      "text/plain": [
       "array(['MainScreenAppear', 'PaymentScreenSuccessful', 'CartScreenAppear',\n",
       "       'OffersScreenAppear', 'Tutorial'], dtype=object)"
      ]
     },
     "execution_count": 113,
     "metadata": {},
     "output_type": "execute_result"
    }
   ],
   "source": [
    "data['event_name'].unique()"
   ]
  },
  {
   "cell_type": "markdown",
   "id": "827d3139",
   "metadata": {},
   "source": [
    "Виды событий:\n",
    "\n",
    "    MainScreenAppear - взаимодействие пользователя с основным экраном\n",
    "    PaymentScreenSuccessful - оплата пользователя прошла успешно\n",
    "    CartScreenAppear - взаимодействие пользователя с экраном введения платежных реквизитов\n",
    "    OffersScreenAppear - взаимодействие пользователя с экраном предложения покупки \n",
    "    Tutorial - обучение пользователя работы с приложением"
   ]
  },
  {
   "cell_type": "markdown",
   "id": "46e064ac",
   "metadata": {},
   "source": [
    "### Пользователи"
   ]
  },
  {
   "cell_type": "code",
   "execution_count": 114,
   "id": "809b907a",
   "metadata": {
    "scrolled": true
   },
   "outputs": [
    {
     "name": "stdout",
     "output_type": "stream",
     "text": [
      "Кол-во уникальных пользователей: 7551\n"
     ]
    }
   ],
   "source": [
    "print('Кол-во уникальных пользователей:', data['device_id'].nunique())"
   ]
  },
  {
   "cell_type": "markdown",
   "id": "c3978c80",
   "metadata": {},
   "source": [
    "### Среднее кол-во событий на пользователя"
   ]
  },
  {
   "cell_type": "code",
   "execution_count": 115,
   "id": "d71eb627",
   "metadata": {},
   "outputs": [
    {
     "name": "stdout",
     "output_type": "stream",
     "text": [
      "Среднее кол-во событий на пользователя: 32.27559263673685\n",
      "Среднее кол-во событий на пользователя: 32.27559263673685\n"
     ]
    }
   ],
   "source": [
    "# cпособ 1\n",
    "print('Среднее кол-во событий на пользователя:', data.groupby('device_id').agg({'event_name':'count'}).mean()[0])\n",
    "# cпособ 2\n",
    "print('Среднее кол-во событий на пользователя:', data['event_name'].count() / data['device_id'].nunique())"
   ]
  },
  {
   "cell_type": "markdown",
   "id": "7cf56e91",
   "metadata": {},
   "source": [
    "### Исследование периода времени"
   ]
  },
  {
   "cell_type": "code",
   "execution_count": 116,
   "id": "bd5da3f3",
   "metadata": {},
   "outputs": [
    {
     "name": "stdout",
     "output_type": "stream",
     "text": [
      "Имеются данные с 2019-07-25 по 2019-08-07\n"
     ]
    }
   ],
   "source": [
    "print('Имеются данные с', data['event_time_date'].min(), 'по', data['event_time_date'].max())"
   ]
  },
  {
   "cell_type": "markdown",
   "id": "7f814036",
   "metadata": {},
   "source": [
    "В распряжении данные за 13 дней: с 25 июля(чтв) по 7 августа(ср)"
   ]
  },
  {
   "cell_type": "markdown",
   "id": "a280b637",
   "metadata": {},
   "source": [
    "**Построение гистограммы по дате и времени**"
   ]
  },
  {
   "cell_type": "code",
   "execution_count": 117,
   "id": "b1930204",
   "metadata": {},
   "outputs": [
    {
     "data": {
      "image/png": "[encoded data removed]",
      "text/plain": [
       "<Figure size 432x288 with 1 Axes>"
      ]
     },
     "metadata": {
      "needs_background": "light"
     },
     "output_type": "display_data"
    }
   ],
   "source": [
    "plt.hist(x=data['event_time'], bins='auto')\n",
    "plt.ylabel('frequency')\n",
    "plt.title('Гистограммы по дате и времени значений датафрема')\n",
    "plt.xticks(rotation=90)\n",
    "plt.tight_layout();"
   ]
  },
  {
   "cell_type": "markdown",
   "id": "5b1463cc",
   "metadata": {},
   "source": [
    "Из гистограммы видно, что основной объем данных относится к августу (с 01.08.19 по 07.08.19).\n",
    "Технически в логи новых дней по некоторым пользователям могут «доезжать» события из прошлого — это может «перекашивать данные»\n",
    "По этой причине стоит отбросить данные за июль и сконцентрироваться на периоде с 01.08.19 по 07.08.19."
   ]
  },
  {
   "cell_type": "code",
   "execution_count": 118,
   "id": "95ac2db8",
   "metadata": {},
   "outputs": [],
   "source": [
    "#фильтрация данных\n",
    "analysis_moment =  dt.datetime.strptime('2019-08-01', '%Y-%m-%d').date()\n",
    "analysis_moment\n",
    "data_clear = data.query('event_time_date >= @analysis_moment')"
   ]
  },
  {
   "cell_type": "markdown",
   "id": "0ab8b003",
   "metadata": {},
   "source": [
    "**В итоге в распоряжении имеются данные за неделю: с 01.08.19 по 07.08.19**"
   ]
  },
  {
   "cell_type": "markdown",
   "id": "b2302a32",
   "metadata": {},
   "source": [
    "### Оценка потерь важной информации в результате очистки данных"
   ]
  },
  {
   "cell_type": "code",
   "execution_count": 119,
   "id": "2ff1c80c",
   "metadata": {},
   "outputs": [],
   "source": [
    "def loss_calculation(source_data, removed_data):\n",
    "    absol_loss = removed_data['device_id'].nunique()\n",
    "    relat_loss = absol_loss / source_data['device_id'].nunique()\n",
    "    \n",
    "    return absol_loss, relat_loss"
   ]
  },
  {
   "cell_type": "code",
   "execution_count": 120,
   "id": "6dd5e429",
   "metadata": {},
   "outputs": [
    {
     "name": "stdout",
     "output_type": "stream",
     "text": [
      "Абсолютные потери для всех событий составляют 1451 пользователей\n",
      "Относительные потери для всех событий составляют 0.192160 пользователей\n",
      "\n",
      "Абсолютные потери для события MainScreenAppear составляют 1028 пользователей\n",
      "Относительные потери для события MainScreenAppear составляют 0.138191 пользователей\n",
      "\n",
      "Абсолютные потери для события PaymentScreenSuccessful составляют 177 пользователей\n",
      "Относительные потери для события PaymentScreenSuccessful составляют 0.049901 пользователей\n",
      "\n",
      "Абсолютные потери для события CartScreenAppear составляют 283 пользователей\n",
      "Относительные потери для события CartScreenAppear составляют 0.075487 пользователей\n",
      "\n",
      "Абсолютные потери для события OffersScreenAppear составляют 323 пользователей\n",
      "Относительные потери для события OffersScreenAppear составляют 0.070020 пользователей\n",
      "\n",
      "Абсолютные потери для события Tutorial составляют 11 пользователей\n",
      "Относительные потери для события Tutorial составляют 0.012987 пользователей\n",
      "\n"
     ]
    }
   ],
   "source": [
    "data_useless = data.query('event_time_date < @analysis_moment')\n",
    "\n",
    "result = loss_calculation(data, data_useless)\n",
    "\n",
    "print('Абсолютные потери для всех событий составляют %d пользователей' % result[0])\n",
    "print('Относительные потери для всех событий составляют %f пользователей' % result[1], end='\\n\\n')\n",
    "\n",
    "for event in data_useless['event_name'].unique():\n",
    "    result = loss_calculation(data.query('event_name == @event'), data_useless.query('event_name == @event'))\n",
    "    print('Абсолютные потери для события %s составляют %d пользователей' % (event, result[0]))\n",
    "    print('Относительные потери для события %s составляют %f пользователей' % (event, result[1]), end='\\n\\n')"
   ]
  },
  {
   "cell_type": "markdown",
   "id": "7c8fb846",
   "metadata": {},
   "source": [
    "**Для пятой части пользователей из первоначального набора данных некоторая часть событий была потеряна**"
   ]
  },
  {
   "cell_type": "code",
   "execution_count": 121,
   "id": "aeedb3a2",
   "metadata": {},
   "outputs": [],
   "source": [
    "# для удобства верну название data\n",
    "data = data_clear"
   ]
  },
  {
   "cell_type": "markdown",
   "id": "ab6ff33c",
   "metadata": {},
   "source": [
    "### Проверка пользователей из разных групп"
   ]
  },
  {
   "cell_type": "markdown",
   "id": "9b2c8ad1",
   "metadata": {},
   "source": [
    "246 и 247 — контрольные группы, а 248 — экспериментальная"
   ]
  },
  {
   "cell_type": "code",
   "execution_count": 122,
   "id": "6217fdb5",
   "metadata": {},
   "outputs": [
    {
     "name": "stdout",
     "output_type": "stream",
     "text": [
      "Номер группы и кол-во пользователей, представленных в ней:\n"
     ]
    },
    {
     "data": {
      "text/plain": [
       "248    84563\n",
       "246    79302\n",
       "247    77022\n",
       "Name: group, dtype: int64"
      ]
     },
     "execution_count": 122,
     "metadata": {},
     "output_type": "execute_result"
    }
   ],
   "source": [
    "print('Номер группы и кол-во пользователей, представленных в ней:')\n",
    "data['group'].value_counts()"
   ]
  },
  {
   "cell_type": "markdown",
   "id": "4c08f3fb",
   "metadata": {},
   "source": [
    "## Изучение воронки событий"
   ]
  },
  {
   "cell_type": "markdown",
   "id": "b6613e52",
   "metadata": {},
   "source": [
    "### Сортировка событий по частоте"
   ]
  },
  {
   "cell_type": "code",
   "execution_count": 123,
   "id": "b6db1f15",
   "metadata": {},
   "outputs": [
    {
     "data": {
      "text/html": [
       "<div>\n",
       "<style scoped>\n",
       "    .dataframe tbody tr th:only-of-type {\n",
       "        vertical-align: middle;\n",
       "    }\n",
       "\n",
       "    .dataframe tbody tr th {\n",
       "        vertical-align: top;\n",
       "    }\n",
       "\n",
       "    .dataframe thead th {\n",
       "        text-align: right;\n",
       "    }\n",
       "</style>\n",
       "<table border=\"1\" class=\"dataframe\">\n",
       "  <thead>\n",
       "    <tr style=\"text-align: right;\">\n",
       "      <th></th>\n",
       "      <th>event_name</th>\n",
       "      <th>frequency</th>\n",
       "    </tr>\n",
       "  </thead>\n",
       "  <tbody>\n",
       "    <tr>\n",
       "      <th>0</th>\n",
       "      <td>MainScreenAppear</td>\n",
       "      <td>117328</td>\n",
       "    </tr>\n",
       "    <tr>\n",
       "      <th>1</th>\n",
       "      <td>OffersScreenAppear</td>\n",
       "      <td>46333</td>\n",
       "    </tr>\n",
       "    <tr>\n",
       "      <th>2</th>\n",
       "      <td>CartScreenAppear</td>\n",
       "      <td>42303</td>\n",
       "    </tr>\n",
       "    <tr>\n",
       "      <th>3</th>\n",
       "      <td>PaymentScreenSuccessful</td>\n",
       "      <td>33918</td>\n",
       "    </tr>\n",
       "    <tr>\n",
       "      <th>4</th>\n",
       "      <td>Tutorial</td>\n",
       "      <td>1005</td>\n",
       "    </tr>\n",
       "  </tbody>\n",
       "</table>\n",
       "</div>"
      ],
      "text/plain": [
       "                event_name  frequency\n",
       "0         MainScreenAppear     117328\n",
       "1       OffersScreenAppear      46333\n",
       "2         CartScreenAppear      42303\n",
       "3  PaymentScreenSuccessful      33918\n",
       "4                 Tutorial       1005"
      ]
     },
     "execution_count": 123,
     "metadata": {},
     "output_type": "execute_result"
    }
   ],
   "source": [
    "(data.groupby('event_name')\n",
    ".agg({'device_id':'count'})\n",
    ".rename(columns={'device_id':'frequency'})\n",
    ".sort_values(by='frequency', ascending=False)\n",
    ".reset_index()\n",
    ")"
   ]
  },
  {
   "cell_type": "markdown",
   "id": "25dd3c83",
   "metadata": {},
   "source": [
    "### Сортировка событий по числу пользователей"
   ]
  },
  {
   "cell_type": "code",
   "execution_count": 124,
   "id": "e8df04ca",
   "metadata": {},
   "outputs": [
    {
     "data": {
      "text/html": [
       "<div>\n",
       "<style scoped>\n",
       "    .dataframe tbody tr th:only-of-type {\n",
       "        vertical-align: middle;\n",
       "    }\n",
       "\n",
       "    .dataframe tbody tr th {\n",
       "        vertical-align: top;\n",
       "    }\n",
       "\n",
       "    .dataframe thead th {\n",
       "        text-align: right;\n",
       "    }\n",
       "</style>\n",
       "<table border=\"1\" class=\"dataframe\">\n",
       "  <thead>\n",
       "    <tr style=\"text-align: right;\">\n",
       "      <th></th>\n",
       "      <th>event_name</th>\n",
       "      <th>num_of_users</th>\n",
       "    </tr>\n",
       "  </thead>\n",
       "  <tbody>\n",
       "    <tr>\n",
       "      <th>0</th>\n",
       "      <td>MainScreenAppear</td>\n",
       "      <td>7419</td>\n",
       "    </tr>\n",
       "    <tr>\n",
       "      <th>1</th>\n",
       "      <td>OffersScreenAppear</td>\n",
       "      <td>4593</td>\n",
       "    </tr>\n",
       "    <tr>\n",
       "      <th>2</th>\n",
       "      <td>CartScreenAppear</td>\n",
       "      <td>3734</td>\n",
       "    </tr>\n",
       "    <tr>\n",
       "      <th>3</th>\n",
       "      <td>PaymentScreenSuccessful</td>\n",
       "      <td>3539</td>\n",
       "    </tr>\n",
       "    <tr>\n",
       "      <th>4</th>\n",
       "      <td>Tutorial</td>\n",
       "      <td>840</td>\n",
       "    </tr>\n",
       "  </tbody>\n",
       "</table>\n",
       "</div>"
      ],
      "text/plain": [
       "                event_name  num_of_users\n",
       "0         MainScreenAppear          7419\n",
       "1       OffersScreenAppear          4593\n",
       "2         CartScreenAppear          3734\n",
       "3  PaymentScreenSuccessful          3539\n",
       "4                 Tutorial           840"
      ]
     },
     "execution_count": 124,
     "metadata": {},
     "output_type": "execute_result"
    }
   ],
   "source": [
    "event_num_users = (data.groupby('event_name')\n",
    ".agg({'device_id':'nunique'})\n",
    ".rename(columns={'device_id':'num_of_users'})\n",
    ".sort_values(by='num_of_users', ascending=False)\n",
    ".reset_index()\n",
    ")\n",
    "event_num_users"
   ]
  },
  {
   "cell_type": "markdown",
   "id": "eb0114a2",
   "metadata": {},
   "source": [
    "**Расчет доли пользователей, которые хоть раз совершали определенное событие**"
   ]
  },
  {
   "cell_type": "code",
   "execution_count": 125,
   "id": "5d69f65f",
   "metadata": {
    "scrolled": false
   },
   "outputs": [
    {
     "data": {
      "text/html": [
       "<div>\n",
       "<style scoped>\n",
       "    .dataframe tbody tr th:only-of-type {\n",
       "        vertical-align: middle;\n",
       "    }\n",
       "\n",
       "    .dataframe tbody tr th {\n",
       "        vertical-align: top;\n",
       "    }\n",
       "\n",
       "    .dataframe thead th {\n",
       "        text-align: right;\n",
       "    }\n",
       "</style>\n",
       "<table border=\"1\" class=\"dataframe\">\n",
       "  <thead>\n",
       "    <tr style=\"text-align: right;\">\n",
       "      <th></th>\n",
       "      <th>event_name</th>\n",
       "      <th>num_of_users</th>\n",
       "      <th>share</th>\n",
       "    </tr>\n",
       "  </thead>\n",
       "  <tbody>\n",
       "    <tr>\n",
       "      <th>0</th>\n",
       "      <td>MainScreenAppear</td>\n",
       "      <td>7419</td>\n",
       "      <td>0.984736</td>\n",
       "    </tr>\n",
       "    <tr>\n",
       "      <th>1</th>\n",
       "      <td>OffersScreenAppear</td>\n",
       "      <td>4593</td>\n",
       "      <td>0.609636</td>\n",
       "    </tr>\n",
       "    <tr>\n",
       "      <th>2</th>\n",
       "      <td>CartScreenAppear</td>\n",
       "      <td>3734</td>\n",
       "      <td>0.495620</td>\n",
       "    </tr>\n",
       "    <tr>\n",
       "      <th>3</th>\n",
       "      <td>PaymentScreenSuccessful</td>\n",
       "      <td>3539</td>\n",
       "      <td>0.469737</td>\n",
       "    </tr>\n",
       "    <tr>\n",
       "      <th>4</th>\n",
       "      <td>Tutorial</td>\n",
       "      <td>840</td>\n",
       "      <td>0.111495</td>\n",
       "    </tr>\n",
       "  </tbody>\n",
       "</table>\n",
       "</div>"
      ],
      "text/plain": [
       "                event_name  num_of_users     share\n",
       "0         MainScreenAppear          7419  0.984736\n",
       "1       OffersScreenAppear          4593  0.609636\n",
       "2         CartScreenAppear          3734  0.495620\n",
       "3  PaymentScreenSuccessful          3539  0.469737\n",
       "4                 Tutorial           840  0.111495"
      ]
     },
     "execution_count": 125,
     "metadata": {},
     "output_type": "execute_result"
    }
   ],
   "source": [
    "total_users = data['device_id'].nunique()\n",
    "\n",
    "event_num_users['share'] = event_num_users['num_of_users'] / total_users\n",
    "\n",
    "event_num_users"
   ]
  },
  {
   "cell_type": "markdown",
   "id": "d9ff611a",
   "metadata": {},
   "source": [
    "### Определение порядка событий"
   ]
  },
  {
   "attachments": {
    "image-3.png": {
     "image/png": "[encoded data removed]"
    }
   },
   "cell_type": "markdown",
   "id": "e05c05ad",
   "metadata": {},
   "source": [
    "![image-3.png](attachment:image-3.png)"
   ]
  },
  {
   "cell_type": "markdown",
   "id": "9749122f",
   "metadata": {},
   "source": [
    "Воронка движения пользователя:\n",
    "\n",
    "    1. Пользователь попадает на главный экран (MainScreenAppear)\n",
    "    2. Пользователь попадает на экран с предложением о покупке (OffersScreenAppear)\n",
    "    3. Пользователь взаимодействует со страницей ввода платежных реквизитов (CartScreenAppear)\n",
    "    4. Появляется экран с подтверждением оплаты. Значит покупка прошла успешно (PaymentScreenSuccessful)\n",
    "    \n",
    "По желанию пользователь может пройти обучение на любом этапе (Tutorial)"
   ]
  },
  {
   "cell_type": "markdown",
   "id": "e3cdd39d",
   "metadata": {},
   "source": [
    "### Расчет воронки конверсии пользователя в покупку"
   ]
  },
  {
   "cell_type": "code",
   "execution_count": 126,
   "id": "75b0f737",
   "metadata": {},
   "outputs": [
    {
     "data": {
      "text/html": [
       "<div>\n",
       "<style scoped>\n",
       "    .dataframe tbody tr th:only-of-type {\n",
       "        vertical-align: middle;\n",
       "    }\n",
       "\n",
       "    .dataframe tbody tr th {\n",
       "        vertical-align: top;\n",
       "    }\n",
       "\n",
       "    .dataframe thead th {\n",
       "        text-align: right;\n",
       "    }\n",
       "</style>\n",
       "<table border=\"1\" class=\"dataframe\">\n",
       "  <thead>\n",
       "    <tr style=\"text-align: right;\">\n",
       "      <th></th>\n",
       "      <th>event_name</th>\n",
       "      <th>device_id</th>\n",
       "      <th>event_time</th>\n",
       "      <th>group</th>\n",
       "      <th>event_time_date</th>\n",
       "    </tr>\n",
       "  </thead>\n",
       "  <tbody>\n",
       "    <tr>\n",
       "      <th>2828</th>\n",
       "      <td>Tutorial</td>\n",
       "      <td>3737462046622621720</td>\n",
       "      <td>2019-08-01 00:07:28</td>\n",
       "      <td>246</td>\n",
       "      <td>2019-08-01</td>\n",
       "    </tr>\n",
       "    <tr>\n",
       "      <th>2829</th>\n",
       "      <td>MainScreenAppear</td>\n",
       "      <td>3737462046622621720</td>\n",
       "      <td>2019-08-01 00:08:00</td>\n",
       "      <td>246</td>\n",
       "      <td>2019-08-01</td>\n",
       "    </tr>\n",
       "    <tr>\n",
       "      <th>2830</th>\n",
       "      <td>MainScreenAppear</td>\n",
       "      <td>3737462046622621720</td>\n",
       "      <td>2019-08-01 00:08:55</td>\n",
       "      <td>246</td>\n",
       "      <td>2019-08-01</td>\n",
       "    </tr>\n",
       "    <tr>\n",
       "      <th>2831</th>\n",
       "      <td>OffersScreenAppear</td>\n",
       "      <td>3737462046622621720</td>\n",
       "      <td>2019-08-01 00:08:58</td>\n",
       "      <td>246</td>\n",
       "      <td>2019-08-01</td>\n",
       "    </tr>\n",
       "    <tr>\n",
       "      <th>2832</th>\n",
       "      <td>MainScreenAppear</td>\n",
       "      <td>1433840883824088890</td>\n",
       "      <td>2019-08-01 00:08:59</td>\n",
       "      <td>247</td>\n",
       "      <td>2019-08-01</td>\n",
       "    </tr>\n",
       "  </tbody>\n",
       "</table>\n",
       "</div>"
      ],
      "text/plain": [
       "              event_name            device_id          event_time  group  \\\n",
       "2828            Tutorial  3737462046622621720 2019-08-01 00:07:28    246   \n",
       "2829    MainScreenAppear  3737462046622621720 2019-08-01 00:08:00    246   \n",
       "2830    MainScreenAppear  3737462046622621720 2019-08-01 00:08:55    246   \n",
       "2831  OffersScreenAppear  3737462046622621720 2019-08-01 00:08:58    246   \n",
       "2832    MainScreenAppear  1433840883824088890 2019-08-01 00:08:59    247   \n",
       "\n",
       "     event_time_date  \n",
       "2828      2019-08-01  \n",
       "2829      2019-08-01  \n",
       "2830      2019-08-01  \n",
       "2831      2019-08-01  \n",
       "2832      2019-08-01  "
      ]
     },
     "execution_count": 126,
     "metadata": {},
     "output_type": "execute_result"
    }
   ],
   "source": [
    "data.head()"
   ]
  },
  {
   "cell_type": "markdown",
   "id": "85f79cc3",
   "metadata": {},
   "source": [
    "#### Способ №1"
   ]
  },
  {
   "cell_type": "code",
   "execution_count": 127,
   "id": "a27c342b",
   "metadata": {},
   "outputs": [
    {
     "data": {
      "text/html": [
       "<div>\n",
       "<style scoped>\n",
       "    .dataframe tbody tr th:only-of-type {\n",
       "        vertical-align: middle;\n",
       "    }\n",
       "\n",
       "    .dataframe tbody tr th {\n",
       "        vertical-align: top;\n",
       "    }\n",
       "\n",
       "    .dataframe thead th {\n",
       "        text-align: right;\n",
       "    }\n",
       "</style>\n",
       "<table border=\"1\" class=\"dataframe\">\n",
       "  <thead>\n",
       "    <tr style=\"text-align: right;\">\n",
       "      <th></th>\n",
       "      <th>device_id</th>\n",
       "      <th>conv</th>\n",
       "      <th>prev_step</th>\n",
       "      <th>step_conv</th>\n",
       "    </tr>\n",
       "    <tr>\n",
       "      <th>event_name</th>\n",
       "      <th></th>\n",
       "      <th></th>\n",
       "      <th></th>\n",
       "      <th></th>\n",
       "    </tr>\n",
       "  </thead>\n",
       "  <tbody>\n",
       "    <tr>\n",
       "      <th>MainScreenAppear</th>\n",
       "      <td>7419</td>\n",
       "      <td>0.984736</td>\n",
       "      <td>NaN</td>\n",
       "      <td>NaN</td>\n",
       "    </tr>\n",
       "    <tr>\n",
       "      <th>OffersScreenAppear</th>\n",
       "      <td>4593</td>\n",
       "      <td>0.609636</td>\n",
       "      <td>7419.0</td>\n",
       "      <td>0.619086</td>\n",
       "    </tr>\n",
       "    <tr>\n",
       "      <th>CartScreenAppear</th>\n",
       "      <td>3734</td>\n",
       "      <td>0.495620</td>\n",
       "      <td>4593.0</td>\n",
       "      <td>0.812976</td>\n",
       "    </tr>\n",
       "    <tr>\n",
       "      <th>PaymentScreenSuccessful</th>\n",
       "      <td>3539</td>\n",
       "      <td>0.469737</td>\n",
       "      <td>3734.0</td>\n",
       "      <td>0.947777</td>\n",
       "    </tr>\n",
       "    <tr>\n",
       "      <th>Tutorial</th>\n",
       "      <td>840</td>\n",
       "      <td>0.111495</td>\n",
       "      <td>3539.0</td>\n",
       "      <td>0.237355</td>\n",
       "    </tr>\n",
       "  </tbody>\n",
       "</table>\n",
       "</div>"
      ],
      "text/plain": [
       "                         device_id      conv  prev_step  step_conv\n",
       "event_name                                                        \n",
       "MainScreenAppear              7419  0.984736        NaN        NaN\n",
       "OffersScreenAppear            4593  0.609636     7419.0   0.619086\n",
       "CartScreenAppear              3734  0.495620     4593.0   0.812976\n",
       "PaymentScreenSuccessful       3539  0.469737     3734.0   0.947777\n",
       "Tutorial                       840  0.111495     3539.0   0.237355"
      ]
     },
     "metadata": {},
     "output_type": "display_data"
    },
    {
     "data": {
      "image/png": "[encoded data removed]",
      "text/plain": [
       "<Figure size 432x288 with 1 Axes>"
      ]
     },
     "metadata": {
      "needs_background": "light"
     },
     "output_type": "display_data"
    }
   ],
   "source": [
    "report = data.groupby('event_name').agg({'device_id':'nunique'}).sort_values(by = 'device_id', ascending = False)\n",
    "report['conv'] = report['device_id']/data['device_id'].nunique()\n",
    "report['prev_step'] = report['device_id'].shift() #сдвигает столбец device_id на одну строку вниз\n",
    "report['step_conv'] = report['device_id']/report['prev_step'] #конверсия в следующий шаг\n",
    "display(report)\n",
    "report['conv'].plot(kind = 'bar');"
   ]
  },
  {
   "cell_type": "markdown",
   "id": "f47f08e2",
   "metadata": {},
   "source": [
    "#### Способ №2"
   ]
  },
  {
   "cell_type": "code",
   "execution_count": 128,
   "id": "9c7537ed",
   "metadata": {},
   "outputs": [
    {
     "data": {
      "text/html": [
       "<div>\n",
       "<style scoped>\n",
       "    .dataframe tbody tr th:only-of-type {\n",
       "        vertical-align: middle;\n",
       "    }\n",
       "\n",
       "    .dataframe tbody tr th {\n",
       "        vertical-align: top;\n",
       "    }\n",
       "\n",
       "    .dataframe thead th {\n",
       "        text-align: right;\n",
       "    }\n",
       "</style>\n",
       "<table border=\"1\" class=\"dataframe\">\n",
       "  <thead>\n",
       "    <tr style=\"text-align: right;\">\n",
       "      <th></th>\n",
       "      <th>event_name</th>\n",
       "      <th>num_of_users</th>\n",
       "      <th>share</th>\n",
       "    </tr>\n",
       "  </thead>\n",
       "  <tbody>\n",
       "    <tr>\n",
       "      <th>0</th>\n",
       "      <td>MainScreenAppear</td>\n",
       "      <td>7419</td>\n",
       "      <td>0.984736</td>\n",
       "    </tr>\n",
       "    <tr>\n",
       "      <th>1</th>\n",
       "      <td>OffersScreenAppear</td>\n",
       "      <td>4593</td>\n",
       "      <td>0.609636</td>\n",
       "    </tr>\n",
       "    <tr>\n",
       "      <th>2</th>\n",
       "      <td>CartScreenAppear</td>\n",
       "      <td>3734</td>\n",
       "      <td>0.495620</td>\n",
       "    </tr>\n",
       "    <tr>\n",
       "      <th>3</th>\n",
       "      <td>PaymentScreenSuccessful</td>\n",
       "      <td>3539</td>\n",
       "      <td>0.469737</td>\n",
       "    </tr>\n",
       "    <tr>\n",
       "      <th>4</th>\n",
       "      <td>Tutorial</td>\n",
       "      <td>840</td>\n",
       "      <td>0.111495</td>\n",
       "    </tr>\n",
       "  </tbody>\n",
       "</table>\n",
       "</div>"
      ],
      "text/plain": [
       "                event_name  num_of_users     share\n",
       "0         MainScreenAppear          7419  0.984736\n",
       "1       OffersScreenAppear          4593  0.609636\n",
       "2         CartScreenAppear          3734  0.495620\n",
       "3  PaymentScreenSuccessful          3539  0.469737\n",
       "4                 Tutorial           840  0.111495"
      ]
     },
     "execution_count": 128,
     "metadata": {},
     "output_type": "execute_result"
    }
   ],
   "source": [
    "event_num_users"
   ]
  },
  {
   "cell_type": "code",
   "execution_count": 129,
   "id": "072a2de8",
   "metadata": {
    "scrolled": false
   },
   "outputs": [],
   "source": [
    "conversion = event_num_users.loc[0:3] \n",
    "fig = go.Figure(\n",
    "    go.Funnel(\n",
    "        y=conversion['event_name'],\n",
    "        x=conversion['num_of_users']\n",
    "    )\n",
    ")\n"
   ]
  },
  {
   "cell_type": "code",
   "execution_count": 130,
   "id": "bf9df982",
   "metadata": {},
   "outputs": [
    {
     "data": {
      "application/vnd.plotly.v1+json": {
       "config": {
        "plotlyServerURL": "https://plot.ly"
       },
       "data": [
        {
         "type": "funnel",
         "x": [
          7419,
          4593,
          3734,
          3539
         ],
         "y": [
          "MainScreenAppear",
          "OffersScreenAppear",
          "CartScreenAppear",
          "PaymentScreenSuccessful"
         ]
        }
       ],
       "layout": {
        "template": {
         "data": {
          "bar": [
           {
            "error_x": {
             "color": "#2a3f5f"
            },
            "error_y": {
             "color": "#2a3f5f"
            },
            "marker": {
             "line": {
              "color": "#E5ECF6",
              "width": 0.5
             },
             "pattern": {
              "fillmode": "overlay",
              "size": 10,
              "solidity": 0.2
             }
            },
            "type": "bar"
           }
          ],
          "barpolar": [
           {
            "marker": {
             "line": {
              "color": "#E5ECF6",
              "width": 0.5
             },
             "pattern": {
              "fillmode": "overlay",
              "size": 10,
              "solidity": 0.2
             }
            },
            "type": "barpolar"
           }
          ],
          "carpet": [
           {
            "aaxis": {
             "endlinecolor": "#2a3f5f",
             "gridcolor": "white",
             "linecolor": "white",
             "minorgridcolor": "white",
             "startlinecolor": "#2a3f5f"
            },
            "baxis": {
             "endlinecolor": "#2a3f5f",
             "gridcolor": "white",
             "linecolor": "white",
             "minorgridcolor": "white",
             "startlinecolor": "#2a3f5f"
            },
            "type": "carpet"
           }
          ],
          "choropleth": [
           {
            "colorbar": {
             "outlinewidth": 0,
             "ticks": ""
            },
            "type": "choropleth"
           }
          ],
          "contour": [
           {
            "colorbar": {
             "outlinewidth": 0,
             "ticks": ""
            },
            "colorscale": [
             [
              0,
              "#0d0887"
             ],
             [
              0.1111111111111111,
              "#46039f"
             ],
             [
              0.2222222222222222,
              "#7201a8"
             ],
             [
              0.3333333333333333,
              "#9c179e"
             ],
             [
              0.4444444444444444,
              "#bd3786"
             ],
             [
              0.5555555555555556,
              "#d8576b"
             ],
             [
              0.6666666666666666,
              "#ed7953"
             ],
             [
              0.7777777777777778,
              "#fb9f3a"
             ],
             [
              0.8888888888888888,
              "#fdca26"
             ],
             [
              1,
              "#f0f921"
             ]
            ],
            "type": "contour"
           }
          ],
          "contourcarpet": [
           {
            "colorbar": {
             "outlinewidth": 0,
             "ticks": ""
            },
            "type": "contourcarpet"
           }
          ],
          "heatmap": [
           {
            "colorbar": {
             "outlinewidth": 0,
             "ticks": ""
            },
            "colorscale": [
             [
              0,
              "#0d0887"
             ],
             [
              0.1111111111111111,
              "#46039f"
             ],
             [
              0.2222222222222222,
              "#7201a8"
             ],
             [
              0.3333333333333333,
              "#9c179e"
             ],
             [
              0.4444444444444444,
              "#bd3786"
             ],
             [
              0.5555555555555556,
              "#d8576b"
             ],
             [
              0.6666666666666666,
              "#ed7953"
             ],
             [
              0.7777777777777778,
              "#fb9f3a"
             ],
             [
              0.8888888888888888,
              "#fdca26"
             ],
             [
              1,
              "#f0f921"
             ]
            ],
            "type": "heatmap"
           }
          ],
          "heatmapgl": [
           {
            "colorbar": {
             "outlinewidth": 0,
             "ticks": ""
            },
            "colorscale": [
             [
              0,
              "#0d0887"
             ],
             [
              0.1111111111111111,
              "#46039f"
             ],
             [
              0.2222222222222222,
              "#7201a8"
             ],
             [
              0.3333333333333333,
              "#9c179e"
             ],
             [
              0.4444444444444444,
              "#bd3786"
             ],
             [
              0.5555555555555556,
              "#d8576b"
             ],
             [
              0.6666666666666666,
              "#ed7953"
             ],
             [
              0.7777777777777778,
              "#fb9f3a"
             ],
             [
              0.8888888888888888,
              "#fdca26"
             ],
             [
              1,
              "#f0f921"
             ]
            ],
            "type": "heatmapgl"
           }
          ],
          "histogram": [
           {
            "marker": {
             "pattern": {
              "fillmode": "overlay",
              "size": 10,
              "solidity": 0.2
             }
            },
            "type": "histogram"
           }
          ],
          "histogram2d": [
           {
            "colorbar": {
             "outlinewidth": 0,
             "ticks": ""
            },
            "colorscale": [
             [
              0,
              "#0d0887"
             ],
             [
              0.1111111111111111,
              "#46039f"
             ],
             [
              0.2222222222222222,
              "#7201a8"
             ],
             [
              0.3333333333333333,
              "#9c179e"
             ],
             [
              0.4444444444444444,
              "#bd3786"
             ],
             [
              0.5555555555555556,
              "#d8576b"
             ],
             [
              0.6666666666666666,
              "#ed7953"
             ],
             [
              0.7777777777777778,
              "#fb9f3a"
             ],
             [
              0.8888888888888888,
              "#fdca26"
             ],
             [
              1,
              "#f0f921"
             ]
            ],
            "type": "histogram2d"
           }
          ],
          "histogram2dcontour": [
           {
            "colorbar": {
             "outlinewidth": 0,
             "ticks": ""
            },
            "colorscale": [
             [
              0,
              "#0d0887"
             ],
             [
              0.1111111111111111,
              "#46039f"
             ],
             [
              0.2222222222222222,
              "#7201a8"
             ],
             [
              0.3333333333333333,
              "#9c179e"
             ],
             [
              0.4444444444444444,
              "#bd3786"
             ],
             [
              0.5555555555555556,
              "#d8576b"
             ],
             [
              0.6666666666666666,
              "#ed7953"
             ],
             [
              0.7777777777777778,
              "#fb9f3a"
             ],
             [
              0.8888888888888888,
              "#fdca26"
             ],
             [
              1,
              "#f0f921"
             ]
            ],
            "type": "histogram2dcontour"
           }
          ],
          "mesh3d": [
           {
            "colorbar": {
             "outlinewidth": 0,
             "ticks": ""
            },
            "type": "mesh3d"
           }
          ],
          "parcoords": [
           {
            "line": {
             "colorbar": {
              "outlinewidth": 0,
              "ticks": ""
             }
            },
            "type": "parcoords"
           }
          ],
          "pie": [
           {
            "automargin": true,
            "type": "pie"
           }
          ],
          "scatter": [
           {
            "marker": {
             "colorbar": {
              "outlinewidth": 0,
              "ticks": ""
             }
            },
            "type": "scatter"
           }
          ],
          "scatter3d": [
           {
            "line": {
             "colorbar": {
              "outlinewidth": 0,
              "ticks": ""
             }
            },
            "marker": {
             "colorbar": {
              "outlinewidth": 0,
              "ticks": ""
             }
            },
            "type": "scatter3d"
           }
          ],
          "scattercarpet": [
           {
            "marker": {
             "colorbar": {
              "outlinewidth": 0,
              "ticks": ""
             }
            },
            "type": "scattercarpet"
           }
          ],
          "scattergeo": [
           {
            "marker": {
             "colorbar": {
              "outlinewidth": 0,
              "ticks": ""
             }
            },
            "type": "scattergeo"
           }
          ],
          "scattergl": [
           {
            "marker": {
             "colorbar": {
              "outlinewidth": 0,
              "ticks": ""
             }
            },
            "type": "scattergl"
           }
          ],
          "scattermapbox": [
           {
            "marker": {
             "colorbar": {
              "outlinewidth": 0,
              "ticks": ""
             }
            },
            "type": "scattermapbox"
           }
          ],
          "scatterpolar": [
           {
            "marker": {
             "colorbar": {
              "outlinewidth": 0,
              "ticks": ""
             }
            },
            "type": "scatterpolar"
           }
          ],
          "scatterpolargl": [
           {
            "marker": {
             "colorbar": {
              "outlinewidth": 0,
              "ticks": ""
             }
            },
            "type": "scatterpolargl"
           }
          ],
          "scatterternary": [
           {
            "marker": {
             "colorbar": {
              "outlinewidth": 0,
              "ticks": ""
             }
            },
            "type": "scatterternary"
           }
          ],
          "surface": [
           {
            "colorbar": {
             "outlinewidth": 0,
             "ticks": ""
            },
            "colorscale": [
             [
              0,
              "#0d0887"
             ],
             [
              0.1111111111111111,
              "#46039f"
             ],
             [
              0.2222222222222222,
              "#7201a8"
             ],
             [
              0.3333333333333333,
              "#9c179e"
             ],
             [
              0.4444444444444444,
              "#bd3786"
             ],
             [
              0.5555555555555556,
              "#d8576b"
             ],
             [
              0.6666666666666666,
              "#ed7953"
             ],
             [
              0.7777777777777778,
              "#fb9f3a"
             ],
             [
              0.8888888888888888,
              "#fdca26"
             ],
             [
              1,
              "#f0f921"
             ]
            ],
            "type": "surface"
           }
          ],
          "table": [
           {
            "cells": {
             "fill": {
              "color": "#EBF0F8"
             },
             "line": {
              "color": "white"
             }
            },
            "header": {
             "fill": {
              "color": "#C8D4E3"
             },
             "line": {
              "color": "white"
             }
            },
            "type": "table"
           }
          ]
         },
         "layout": {
          "annotationdefaults": {
           "arrowcolor": "#2a3f5f",
           "arrowhead": 0,
           "arrowwidth": 1
          },
          "autotypenumbers": "strict",
          "coloraxis": {
           "colorbar": {
            "outlinewidth": 0,
            "ticks": ""
           }
          },
          "colorscale": {
           "diverging": [
            [
             0,
             "#8e0152"
            ],
            [
             0.1,
             "#c51b7d"
            ],
            [
             0.2,
             "#de77ae"
            ],
            [
             0.3,
             "#f1b6da"
            ],
            [
             0.4,
             "#fde0ef"
            ],
            [
             0.5,
             "#f7f7f7"
            ],
            [
             0.6,
             "#e6f5d0"
            ],
            [
             0.7,
             "#b8e186"
            ],
            [
             0.8,
             "#7fbc41"
            ],
            [
             0.9,
             "#4d9221"
            ],
            [
             1,
             "#276419"
            ]
           ],
           "sequential": [
            [
             0,
             "#0d0887"
            ],
            [
             0.1111111111111111,
             "#46039f"
            ],
            [
             0.2222222222222222,
             "#7201a8"
            ],
            [
             0.3333333333333333,
             "#9c179e"
            ],
            [
             0.4444444444444444,
             "#bd3786"
            ],
            [
             0.5555555555555556,
             "#d8576b"
            ],
            [
             0.6666666666666666,
             "#ed7953"
            ],
            [
             0.7777777777777778,
             "#fb9f3a"
            ],
            [
             0.8888888888888888,
             "#fdca26"
            ],
            [
             1,
             "#f0f921"
            ]
           ],
           "sequentialminus": [
            [
             0,
             "#0d0887"
            ],
            [
             0.1111111111111111,
             "#46039f"
            ],
            [
             0.2222222222222222,
             "#7201a8"
            ],
            [
             0.3333333333333333,
             "#9c179e"
            ],
            [
             0.4444444444444444,
             "#bd3786"
            ],
            [
             0.5555555555555556,
             "#d8576b"
            ],
            [
             0.6666666666666666,
             "#ed7953"
            ],
            [
             0.7777777777777778,
             "#fb9f3a"
            ],
            [
             0.8888888888888888,
             "#fdca26"
            ],
            [
             1,
             "#f0f921"
            ]
           ]
          },
          "colorway": [
           "#636efa",
           "#EF553B",
           "#00cc96",
           "#ab63fa",
           "#FFA15A",
           "#19d3f3",
           "#FF6692",
           "#B6E880",
           "#FF97FF",
           "#FECB52"
          ],
          "font": {
           "color": "#2a3f5f"
          },
          "geo": {
           "bgcolor": "white",
           "lakecolor": "white",
           "landcolor": "#E5ECF6",
           "showlakes": true,
           "showland": true,
           "subunitcolor": "white"
          },
          "hoverlabel": {
           "align": "left"
          },
          "hovermode": "closest",
          "mapbox": {
           "style": "light"
          },
          "paper_bgcolor": "white",
          "plot_bgcolor": "#E5ECF6",
          "polar": {
           "angularaxis": {
            "gridcolor": "white",
            "linecolor": "white",
            "ticks": ""
           },
           "bgcolor": "#E5ECF6",
           "radialaxis": {
            "gridcolor": "white",
            "linecolor": "white",
            "ticks": ""
           }
          },
          "scene": {
           "xaxis": {
            "backgroundcolor": "#E5ECF6",
            "gridcolor": "white",
            "gridwidth": 2,
            "linecolor": "white",
            "showbackground": true,
            "ticks": "",
            "zerolinecolor": "white"
           },
           "yaxis": {
            "backgroundcolor": "#E5ECF6",
            "gridcolor": "white",
            "gridwidth": 2,
            "linecolor": "white",
            "showbackground": true,
            "ticks": "",
            "zerolinecolor": "white"
           },
           "zaxis": {
            "backgroundcolor": "#E5ECF6",
            "gridcolor": "white",
            "gridwidth": 2,
            "linecolor": "white",
            "showbackground": true,
            "ticks": "",
            "zerolinecolor": "white"
           }
          },
          "shapedefaults": {
           "line": {
            "color": "#2a3f5f"
           }
          },
          "ternary": {
           "aaxis": {
            "gridcolor": "white",
            "linecolor": "white",
            "ticks": ""
           },
           "baxis": {
            "gridcolor": "white",
            "linecolor": "white",
            "ticks": ""
           },
           "bgcolor": "#E5ECF6",
           "caxis": {
            "gridcolor": "white",
            "linecolor": "white",
            "ticks": ""
           }
          },
          "title": {
           "x": 0.05
          },
          "xaxis": {
           "automargin": true,
           "gridcolor": "white",
           "linecolor": "white",
           "ticks": "",
           "title": {
            "standoff": 15
           },
           "zerolinecolor": "white",
           "zerolinewidth": 2
          },
          "yaxis": {
           "automargin": true,
           "gridcolor": "white",
           "linecolor": "white",
           "ticks": "",
           "title": {
            "standoff": 15
           },
           "zerolinecolor": "white",
           "zerolinewidth": 2
          }
         }
        }
       }
      },
      "text/html": [
       "<div>                            <div id=\"c2d94501-1478-40ee-a8f4-6a43fec9e997\" class=\"plotly-graph-div\" style=\"height:525px; width:100%;\"></div>            <script type=\"text/javascript\">                require([\"plotly\"], function(Plotly) {                    window.PLOTLYENV=window.PLOTLYENV || {};                                    if (document.getElementById(\"c2d94501-1478-40ee-a8f4-6a43fec9e997\")) {                    Plotly.newPlot(                        \"c2d94501-1478-40ee-a8f4-6a43fec9e997\",                        [{\"x\":[7419,4593,3734,3539],\"y\":[\"MainScreenAppear\",\"OffersScreenAppear\",\"CartScreenAppear\",\"PaymentScreenSuccessful\"],\"type\":\"funnel\"}],                        {\"template\":{\"data\":{\"bar\":[{\"error_x\":{\"color\":\"#2a3f5f\"},\"error_y\":{\"color\":\"#2a3f5f\"},\"marker\":{\"line\":{\"color\":\"#E5ECF6\",\"width\":0.5},\"pattern\":{\"fillmode\":\"overlay\",\"size\":10,\"solidity\":0.2}},\"type\":\"bar\"}],\"barpolar\":[{\"marker\":{\"line\":{\"color\":\"#E5ECF6\",\"width\":0.5},\"pattern\":{\"fillmode\":\"overlay\",\"size\":10,\"solidity\":0.2}},\"type\":\"barpolar\"}],\"carpet\":[{\"aaxis\":{\"endlinecolor\":\"#2a3f5f\",\"gridcolor\":\"white\",\"linecolor\":\"white\",\"minorgridcolor\":\"white\",\"startlinecolor\":\"#2a3f5f\"},\"baxis\":{\"endlinecolor\":\"#2a3f5f\",\"gridcolor\":\"white\",\"linecolor\":\"white\",\"minorgridcolor\":\"white\",\"startlinecolor\":\"#2a3f5f\"},\"type\":\"carpet\"}],\"choropleth\":[{\"colorbar\":{\"outlinewidth\":0,\"ticks\":\"\"},\"type\":\"choropleth\"}],\"contour\":[{\"colorbar\":{\"outlinewidth\":0,\"ticks\":\"\"},\"colorscale\":[[0.0,\"#0d0887\"],[0.1111111111111111,\"#46039f\"],[0.2222222222222222,\"#7201a8\"],[0.3333333333333333,\"#9c179e\"],[0.4444444444444444,\"#bd3786\"],[0.5555555555555556,\"#d8576b\"],[0.6666666666666666,\"#ed7953\"],[0.7777777777777778,\"#fb9f3a\"],[0.8888888888888888,\"#fdca26\"],[1.0,\"#f0f921\"]],\"type\":\"contour\"}],\"contourcarpet\":[{\"colorbar\":{\"outlinewidth\":0,\"ticks\":\"\"},\"type\":\"contourcarpet\"}],\"heatmap\":[{\"colorbar\":{\"outlinewidth\":0,\"ticks\":\"\"},\"colorscale\":[[0.0,\"#0d0887\"],[0.1111111111111111,\"#46039f\"],[0.2222222222222222,\"#7201a8\"],[0.3333333333333333,\"#9c179e\"],[0.4444444444444444,\"#bd3786\"],[0.5555555555555556,\"#d8576b\"],[0.6666666666666666,\"#ed7953\"],[0.7777777777777778,\"#fb9f3a\"],[0.8888888888888888,\"#fdca26\"],[1.0,\"#f0f921\"]],\"type\":\"heatmap\"}],\"heatmapgl\":[{\"colorbar\":{\"outlinewidth\":0,\"ticks\":\"\"},\"colorscale\":[[0.0,\"#0d0887\"],[0.1111111111111111,\"#46039f\"],[0.2222222222222222,\"#7201a8\"],[0.3333333333333333,\"#9c179e\"],[0.4444444444444444,\"#bd3786\"],[0.5555555555555556,\"#d8576b\"],[0.6666666666666666,\"#ed7953\"],[0.7777777777777778,\"#fb9f3a\"],[0.8888888888888888,\"#fdca26\"],[1.0,\"#f0f921\"]],\"type\":\"heatmapgl\"}],\"histogram\":[{\"marker\":{\"pattern\":{\"fillmode\":\"overlay\",\"size\":10,\"solidity\":0.2}},\"type\":\"histogram\"}],\"histogram2d\":[{\"colorbar\":{\"outlinewidth\":0,\"ticks\":\"\"},\"colorscale\":[[0.0,\"#0d0887\"],[0.1111111111111111,\"#46039f\"],[0.2222222222222222,\"#7201a8\"],[0.3333333333333333,\"#9c179e\"],[0.4444444444444444,\"#bd3786\"],[0.5555555555555556,\"#d8576b\"],[0.6666666666666666,\"#ed7953\"],[0.7777777777777778,\"#fb9f3a\"],[0.8888888888888888,\"#fdca26\"],[1.0,\"#f0f921\"]],\"type\":\"histogram2d\"}],\"histogram2dcontour\":[{\"colorbar\":{\"outlinewidth\":0,\"ticks\":\"\"},\"colorscale\":[[0.0,\"#0d0887\"],[0.1111111111111111,\"#46039f\"],[0.2222222222222222,\"#7201a8\"],[0.3333333333333333,\"#9c179e\"],[0.4444444444444444,\"#bd3786\"],[0.5555555555555556,\"#d8576b\"],[0.6666666666666666,\"#ed7953\"],[0.7777777777777778,\"#fb9f3a\"],[0.8888888888888888,\"#fdca26\"],[1.0,\"#f0f921\"]],\"type\":\"histogram2dcontour\"}],\"mesh3d\":[{\"colorbar\":{\"outlinewidth\":0,\"ticks\":\"\"},\"type\":\"mesh3d\"}],\"parcoords\":[{\"line\":{\"colorbar\":{\"outlinewidth\":0,\"ticks\":\"\"}},\"type\":\"parcoords\"}],\"pie\":[{\"automargin\":true,\"type\":\"pie\"}],\"scatter\":[{\"marker\":{\"colorbar\":{\"outlinewidth\":0,\"ticks\":\"\"}},\"type\":\"scatter\"}],\"scatter3d\":[{\"line\":{\"colorbar\":{\"outlinewidth\":0,\"ticks\":\"\"}},\"marker\":{\"colorbar\":{\"outlinewidth\":0,\"ticks\":\"\"}},\"type\":\"scatter3d\"}],\"scattercarpet\":[{\"marker\":{\"colorbar\":{\"outlinewidth\":0,\"ticks\":\"\"}},\"type\":\"scattercarpet\"}],\"scattergeo\":[{\"marker\":{\"colorbar\":{\"outlinewidth\":0,\"ticks\":\"\"}},\"type\":\"scattergeo\"}],\"scattergl\":[{\"marker\":{\"colorbar\":{\"outlinewidth\":0,\"ticks\":\"\"}},\"type\":\"scattergl\"}],\"scattermapbox\":[{\"marker\":{\"colorbar\":{\"outlinewidth\":0,\"ticks\":\"\"}},\"type\":\"scattermapbox\"}],\"scatterpolar\":[{\"marker\":{\"colorbar\":{\"outlinewidth\":0,\"ticks\":\"\"}},\"type\":\"scatterpolar\"}],\"scatterpolargl\":[{\"marker\":{\"colorbar\":{\"outlinewidth\":0,\"ticks\":\"\"}},\"type\":\"scatterpolargl\"}],\"scatterternary\":[{\"marker\":{\"colorbar\":{\"outlinewidth\":0,\"ticks\":\"\"}},\"type\":\"scatterternary\"}],\"surface\":[{\"colorbar\":{\"outlinewidth\":0,\"ticks\":\"\"},\"colorscale\":[[0.0,\"#0d0887\"],[0.1111111111111111,\"#46039f\"],[0.2222222222222222,\"#7201a8\"],[0.3333333333333333,\"#9c179e\"],[0.4444444444444444,\"#bd3786\"],[0.5555555555555556,\"#d8576b\"],[0.6666666666666666,\"#ed7953\"],[0.7777777777777778,\"#fb9f3a\"],[0.8888888888888888,\"#fdca26\"],[1.0,\"#f0f921\"]],\"type\":\"surface\"}],\"table\":[{\"cells\":{\"fill\":{\"color\":\"#EBF0F8\"},\"line\":{\"color\":\"white\"}},\"header\":{\"fill\":{\"color\":\"#C8D4E3\"},\"line\":{\"color\":\"white\"}},\"type\":\"table\"}]},\"layout\":{\"annotationdefaults\":{\"arrowcolor\":\"#2a3f5f\",\"arrowhead\":0,\"arrowwidth\":1},\"autotypenumbers\":\"strict\",\"coloraxis\":{\"colorbar\":{\"outlinewidth\":0,\"ticks\":\"\"}},\"colorscale\":{\"diverging\":[[0,\"#8e0152\"],[0.1,\"#c51b7d\"],[0.2,\"#de77ae\"],[0.3,\"#f1b6da\"],[0.4,\"#fde0ef\"],[0.5,\"#f7f7f7\"],[0.6,\"#e6f5d0\"],[0.7,\"#b8e186\"],[0.8,\"#7fbc41\"],[0.9,\"#4d9221\"],[1,\"#276419\"]],\"sequential\":[[0.0,\"#0d0887\"],[0.1111111111111111,\"#46039f\"],[0.2222222222222222,\"#7201a8\"],[0.3333333333333333,\"#9c179e\"],[0.4444444444444444,\"#bd3786\"],[0.5555555555555556,\"#d8576b\"],[0.6666666666666666,\"#ed7953\"],[0.7777777777777778,\"#fb9f3a\"],[0.8888888888888888,\"#fdca26\"],[1.0,\"#f0f921\"]],\"sequentialminus\":[[0.0,\"#0d0887\"],[0.1111111111111111,\"#46039f\"],[0.2222222222222222,\"#7201a8\"],[0.3333333333333333,\"#9c179e\"],[0.4444444444444444,\"#bd3786\"],[0.5555555555555556,\"#d8576b\"],[0.6666666666666666,\"#ed7953\"],[0.7777777777777778,\"#fb9f3a\"],[0.8888888888888888,\"#fdca26\"],[1.0,\"#f0f921\"]]},\"colorway\":[\"#636efa\",\"#EF553B\",\"#00cc96\",\"#ab63fa\",\"#FFA15A\",\"#19d3f3\",\"#FF6692\",\"#B6E880\",\"#FF97FF\",\"#FECB52\"],\"font\":{\"color\":\"#2a3f5f\"},\"geo\":{\"bgcolor\":\"white\",\"lakecolor\":\"white\",\"landcolor\":\"#E5ECF6\",\"showlakes\":true,\"showland\":true,\"subunitcolor\":\"white\"},\"hoverlabel\":{\"align\":\"left\"},\"hovermode\":\"closest\",\"mapbox\":{\"style\":\"light\"},\"paper_bgcolor\":\"white\",\"plot_bgcolor\":\"#E5ECF6\",\"polar\":{\"angularaxis\":{\"gridcolor\":\"white\",\"linecolor\":\"white\",\"ticks\":\"\"},\"bgcolor\":\"#E5ECF6\",\"radialaxis\":{\"gridcolor\":\"white\",\"linecolor\":\"white\",\"ticks\":\"\"}},\"scene\":{\"xaxis\":{\"backgroundcolor\":\"#E5ECF6\",\"gridcolor\":\"white\",\"gridwidth\":2,\"linecolor\":\"white\",\"showbackground\":true,\"ticks\":\"\",\"zerolinecolor\":\"white\"},\"yaxis\":{\"backgroundcolor\":\"#E5ECF6\",\"gridcolor\":\"white\",\"gridwidth\":2,\"linecolor\":\"white\",\"showbackground\":true,\"ticks\":\"\",\"zerolinecolor\":\"white\"},\"zaxis\":{\"backgroundcolor\":\"#E5ECF6\",\"gridcolor\":\"white\",\"gridwidth\":2,\"linecolor\":\"white\",\"showbackground\":true,\"ticks\":\"\",\"zerolinecolor\":\"white\"}},\"shapedefaults\":{\"line\":{\"color\":\"#2a3f5f\"}},\"ternary\":{\"aaxis\":{\"gridcolor\":\"white\",\"linecolor\":\"white\",\"ticks\":\"\"},\"baxis\":{\"gridcolor\":\"white\",\"linecolor\":\"white\",\"ticks\":\"\"},\"bgcolor\":\"#E5ECF6\",\"caxis\":{\"gridcolor\":\"white\",\"linecolor\":\"white\",\"ticks\":\"\"}},\"title\":{\"x\":0.05},\"xaxis\":{\"automargin\":true,\"gridcolor\":\"white\",\"linecolor\":\"white\",\"ticks\":\"\",\"title\":{\"standoff\":15},\"zerolinecolor\":\"white\",\"zerolinewidth\":2},\"yaxis\":{\"automargin\":true,\"gridcolor\":\"white\",\"linecolor\":\"white\",\"ticks\":\"\",\"title\":{\"standoff\":15},\"zerolinecolor\":\"white\",\"zerolinewidth\":2}}}},                        {\"responsive\": true}                    ).then(function(){\n",
       "                            \n",
       "var gd = document.getElementById('c2d94501-1478-40ee-a8f4-6a43fec9e997');\n",
       "var x = new MutationObserver(function (mutations, observer) {{\n",
       "        var display = window.getComputedStyle(gd).display;\n",
       "        if (!display || display === 'none') {{\n",
       "            console.log([gd, 'removed!']);\n",
       "            Plotly.purge(gd);\n",
       "            observer.disconnect();\n",
       "        }}\n",
       "}});\n",
       "\n",
       "// Listen for the removal of the full notebook cells\n",
       "var notebookContainer = gd.closest('#notebook-container');\n",
       "if (notebookContainer) {{\n",
       "    x.observe(notebookContainer, {childList: true});\n",
       "}}\n",
       "\n",
       "// Listen for the clearing of the current output cell\n",
       "var outputEl = gd.closest('.output');\n",
       "if (outputEl) {{\n",
       "    x.observe(outputEl, {childList: true});\n",
       "}}\n",
       "\n",
       "                        })                };                });            </script>        </div>"
      ]
     },
     "metadata": {},
     "output_type": "display_data"
    }
   ],
   "source": [
    "fig.show(); "
   ]
  },
  {
   "cell_type": "markdown",
   "id": "83a8fc32",
   "metadata": {},
   "source": [
    "**Вывод:**\n",
    "\n",
    "    - Больше всего пользователей теряется на шаге: MainScreenAppear-OffersScreenAppear(конверсия в шаг составляет около 62%)\n",
    "    - От первого события до последнего доходит 47.7%"
   ]
  },
  {
   "cell_type": "markdown",
   "id": "a0785ce5",
   "metadata": {},
   "source": [
    "## Изучение результата эксперимента"
   ]
  },
  {
   "cell_type": "markdown",
   "id": "2352d13d",
   "metadata": {},
   "source": [
    "### Подсчет пользователей в экспериментальных группах"
   ]
  },
  {
   "cell_type": "markdown",
   "id": "168cf202",
   "metadata": {},
   "source": [
    "246 и 247 — контрольные группы, а 248 — экспериментальная"
   ]
  },
  {
   "cell_type": "code",
   "execution_count": 131,
   "id": "65b2b26c",
   "metadata": {},
   "outputs": [
    {
     "data": {
      "text/html": [
       "<div>\n",
       "<style scoped>\n",
       "    .dataframe tbody tr th:only-of-type {\n",
       "        vertical-align: middle;\n",
       "    }\n",
       "\n",
       "    .dataframe tbody tr th {\n",
       "        vertical-align: top;\n",
       "    }\n",
       "\n",
       "    .dataframe thead th {\n",
       "        text-align: right;\n",
       "    }\n",
       "</style>\n",
       "<table border=\"1\" class=\"dataframe\">\n",
       "  <thead>\n",
       "    <tr style=\"text-align: right;\">\n",
       "      <th></th>\n",
       "      <th>device_id</th>\n",
       "    </tr>\n",
       "    <tr>\n",
       "      <th>group</th>\n",
       "      <th></th>\n",
       "    </tr>\n",
       "  </thead>\n",
       "  <tbody>\n",
       "    <tr>\n",
       "      <th>246</th>\n",
       "      <td>2484</td>\n",
       "    </tr>\n",
       "    <tr>\n",
       "      <th>247</th>\n",
       "      <td>2513</td>\n",
       "    </tr>\n",
       "    <tr>\n",
       "      <th>248</th>\n",
       "      <td>2537</td>\n",
       "    </tr>\n",
       "  </tbody>\n",
       "</table>\n",
       "</div>"
      ],
      "text/plain": [
       "       device_id\n",
       "group           \n",
       "246         2484\n",
       "247         2513\n",
       "248         2537"
      ]
     },
     "execution_count": 131,
     "metadata": {},
     "output_type": "execute_result"
    }
   ],
   "source": [
    "data.groupby('group').agg({'device_id':'nunique'})"
   ]
  },
  {
   "cell_type": "markdown",
   "id": "ba91fae2",
   "metadata": {},
   "source": [
    "### Подготовка перед тестом"
   ]
  },
  {
   "cell_type": "markdown",
   "id": "b17e4451",
   "metadata": {},
   "source": [
    "Критерии успешного A/A - теста:\n",
    "\n",
    "    - кол-во пользователей в различных группах различается не более, чем на 1%;\n",
    "    - различие ключевых метрик по группам не превышает 1% и не имеет статистической значимости;\n",
    "    - попавший в одну из групп посетитель остаётся в этой группе до конца теста."
   ]
  },
  {
   "cell_type": "markdown",
   "id": "8886e08b",
   "metadata": {},
   "source": [
    "**Проверка различия в кол-ве пользователей между группами**"
   ]
  },
  {
   "cell_type": "code",
   "execution_count": 132,
   "id": "440e669a",
   "metadata": {},
   "outputs": [],
   "source": [
    "data_246 = data.query('group == 246')\n",
    "data_247 = data.query('group == 247')\n",
    "data_248 = data.query('group == 248')"
   ]
  },
  {
   "cell_type": "code",
   "execution_count": 133,
   "id": "2feea9c2",
   "metadata": {
    "scrolled": true
   },
   "outputs": [
    {
     "name": "stdout",
     "output_type": "stream",
     "text": [
      "Различие в кол-ве пользователей между группами 246 и 247 составляет:  2.960193191555649 %\n",
      "Различие в кол-ве пользователей между группами 246 и 248 составляет:  -6.2213970649101835 %\n",
      "Различие в кол-ве пользователей между группами 247 и 248 составляет:  -8.917611721438456 %\n"
     ]
    }
   ],
   "source": [
    "print('Различие в кол-ве пользователей между группами 246 и 247 составляет: ',(data_246.shape[0]/data_247.shape[0] - 1) * 100,'%')\n",
    "print('Различие в кол-ве пользователей между группами 246 и 248 составляет: ',(data_246.shape[0]/data_248.shape[0] - 1) * 100,'%')\n",
    "print('Различие в кол-ве пользователей между группами 247 и 248 составляет: ',(data_247.shape[0]/data_248.shape[0] - 1) * 100,'%')"
   ]
  },
  {
   "cell_type": "markdown",
   "id": "ab88ffef",
   "metadata": {},
   "source": [
    "**Вывод: различие между группами превышают норму в 1%**"
   ]
  },
  {
   "cell_type": "markdown",
   "id": "e841b629",
   "metadata": {},
   "source": [
    "**Проверка пересечений между группами по пользователям**"
   ]
  },
  {
   "cell_type": "code",
   "execution_count": 134,
   "id": "188b4374",
   "metadata": {},
   "outputs": [
    {
     "name": "stdout",
     "output_type": "stream",
     "text": [
      "Кол-во пользователей, учавствующих в 246 и 247 группах одновременно(A/A-тест): 0\n",
      "Кол-во пользователей, учавствующих в 247 и 248 группах одновременно(A/A-тест): 0\n",
      "Кол-во пользователей, учавствующих в 246 и 248 группах одновременно(A/A-тест): 0\n"
     ]
    }
   ],
   "source": [
    "double_user_1 = list(data\n",
    "    .query('group != 248')\n",
    "    .groupby('device_id')\n",
    "    .nunique('group')\n",
    "    .query('group > 1')\n",
    "    .reset_index()['device_id']\n",
    ")\n",
    "\n",
    "print('Кол-во пользователей, учавствующих в 246 и 247 группах одновременно(A/A-тест):',len(double_user_1))\n",
    "\n",
    "double_user_2 = list(data\n",
    "    .query('group != 246')\n",
    "    .groupby('device_id')\n",
    "    .nunique('group')\n",
    "    .query('group > 1')\n",
    "    .reset_index()['device_id']\n",
    ")\n",
    "\n",
    "print('Кол-во пользователей, учавствующих в 247 и 248 группах одновременно(A/A-тест):',len(double_user_2))\n",
    "\n",
    "double_user_3 = list(data\n",
    "    .query('group != 247')\n",
    "    .groupby('device_id')\n",
    "    .nunique('group')\n",
    "    .query('group > 1')\n",
    "    .reset_index()['device_id']\n",
    ")\n",
    "\n",
    "print('Кол-во пользователей, учавствующих в 246 и 248 группах одновременно(A/A-тест):',len(double_user_3))"
   ]
  },
  {
   "cell_type": "markdown",
   "id": "9d5bc423",
   "metadata": {},
   "source": [
    "**Вывод: пересечений между группами по пользователям не обнаружено**"
   ]
  },
  {
   "cell_type": "markdown",
   "id": "5a178a7c",
   "metadata": {},
   "source": [
    "### Проведение A/A/B - теста"
   ]
  },
  {
   "cell_type": "markdown",
   "id": "2625e1a2",
   "metadata": {},
   "source": [
    "Необходимоо построить воронку для каждой тестовой группы и сравнить шаги этих воронок с помощью z-теста\n",
    "\n",
    "    H0: Доли уникальных посетителей, побывавших на этапе воронки, не имеют статистически значимых различий (Конверсии в шаг в исследуемых группах равны)\n",
    "    H1: Между долями уникальных посетителей, побывавших на этапе воронки, есть статистически значимые различия(Конверсии в шаг в исследуемых группах отличаются)\n",
    "    \n",
    "Так как тест получается множественным, то необходимо учесть групповую вероятность ошибки первого рода. Для этого я буду использовать метод Бонферрони. Всего у нас 4 вариации групп на 5 событий, получается уровень статистической значимости будет делиться на 20"
   ]
  },
  {
   "cell_type": "code",
   "execution_count": 135,
   "id": "6eeb1fd1",
   "metadata": {},
   "outputs": [],
   "source": [
    "# Функция для проведения z-теста\n",
    "def check_hypothesis(successes1, successes2, trials1, trials2):\n",
    "    p1 = successes1/trials1\n",
    "    p2 = successes2/trials2\n",
    "    p_combined = (successes1 + successes2) / (trials1 + trials2)\n",
    "    difference = p1 - p2\n",
    "    z_value = difference/math.sqrt(p_combined * (1 - p_combined) * (1/trials1 + 1/trials2))\n",
    "    distr = stats.norm(0, 1)\n",
    "    p_value = (1 - distr.cdf(abs(z_value))) * 2\n",
    "    return p_value\n",
    "\n"
   ]
  },
  {
   "cell_type": "code",
   "execution_count": 136,
   "id": "45902b8e",
   "metadata": {
    "scrolled": false
   },
   "outputs": [
    {
     "data": {
      "text/html": [
       "<div>\n",
       "<style scoped>\n",
       "    .dataframe tbody tr th:only-of-type {\n",
       "        vertical-align: middle;\n",
       "    }\n",
       "\n",
       "    .dataframe tbody tr th {\n",
       "        vertical-align: top;\n",
       "    }\n",
       "\n",
       "    .dataframe thead th {\n",
       "        text-align: right;\n",
       "    }\n",
       "</style>\n",
       "<table border=\"1\" class=\"dataframe\">\n",
       "  <thead>\n",
       "    <tr style=\"text-align: right;\">\n",
       "      <th></th>\n",
       "      <th>A</th>\n",
       "      <th>B</th>\n",
       "      <th>event_name</th>\n",
       "      <th>p-value</th>\n",
       "      <th>reject_h0</th>\n",
       "    </tr>\n",
       "  </thead>\n",
       "  <tbody>\n",
       "    <tr>\n",
       "      <th>0</th>\n",
       "      <td>246</td>\n",
       "      <td>247</td>\n",
       "      <td>Tutorial</td>\n",
       "      <td>0.937700</td>\n",
       "      <td>False</td>\n",
       "    </tr>\n",
       "    <tr>\n",
       "      <th>1</th>\n",
       "      <td>246</td>\n",
       "      <td>247</td>\n",
       "      <td>MainScreenAppear</td>\n",
       "      <td>0.757060</td>\n",
       "      <td>False</td>\n",
       "    </tr>\n",
       "    <tr>\n",
       "      <th>2</th>\n",
       "      <td>246</td>\n",
       "      <td>247</td>\n",
       "      <td>OffersScreenAppear</td>\n",
       "      <td>0.248095</td>\n",
       "      <td>False</td>\n",
       "    </tr>\n",
       "    <tr>\n",
       "      <th>3</th>\n",
       "      <td>246</td>\n",
       "      <td>247</td>\n",
       "      <td>CartScreenAppear</td>\n",
       "      <td>0.228834</td>\n",
       "      <td>False</td>\n",
       "    </tr>\n",
       "    <tr>\n",
       "      <th>4</th>\n",
       "      <td>246</td>\n",
       "      <td>247</td>\n",
       "      <td>PaymentScreenSuccessful</td>\n",
       "      <td>0.114567</td>\n",
       "      <td>False</td>\n",
       "    </tr>\n",
       "    <tr>\n",
       "      <th>5</th>\n",
       "      <td>246</td>\n",
       "      <td>248</td>\n",
       "      <td>Tutorial</td>\n",
       "      <td>0.826429</td>\n",
       "      <td>False</td>\n",
       "    </tr>\n",
       "    <tr>\n",
       "      <th>6</th>\n",
       "      <td>246</td>\n",
       "      <td>248</td>\n",
       "      <td>MainScreenAppear</td>\n",
       "      <td>0.294972</td>\n",
       "      <td>False</td>\n",
       "    </tr>\n",
       "    <tr>\n",
       "      <th>7</th>\n",
       "      <td>246</td>\n",
       "      <td>248</td>\n",
       "      <td>OffersScreenAppear</td>\n",
       "      <td>0.208362</td>\n",
       "      <td>False</td>\n",
       "    </tr>\n",
       "    <tr>\n",
       "      <th>8</th>\n",
       "      <td>246</td>\n",
       "      <td>248</td>\n",
       "      <td>CartScreenAppear</td>\n",
       "      <td>0.078429</td>\n",
       "      <td>False</td>\n",
       "    </tr>\n",
       "    <tr>\n",
       "      <th>9</th>\n",
       "      <td>246</td>\n",
       "      <td>248</td>\n",
       "      <td>PaymentScreenSuccessful</td>\n",
       "      <td>0.212255</td>\n",
       "      <td>False</td>\n",
       "    </tr>\n",
       "    <tr>\n",
       "      <th>10</th>\n",
       "      <td>247</td>\n",
       "      <td>248</td>\n",
       "      <td>Tutorial</td>\n",
       "      <td>0.765324</td>\n",
       "      <td>False</td>\n",
       "    </tr>\n",
       "    <tr>\n",
       "      <th>11</th>\n",
       "      <td>247</td>\n",
       "      <td>248</td>\n",
       "      <td>MainScreenAppear</td>\n",
       "      <td>0.458705</td>\n",
       "      <td>False</td>\n",
       "    </tr>\n",
       "    <tr>\n",
       "      <th>12</th>\n",
       "      <td>247</td>\n",
       "      <td>248</td>\n",
       "      <td>OffersScreenAppear</td>\n",
       "      <td>0.919782</td>\n",
       "      <td>False</td>\n",
       "    </tr>\n",
       "    <tr>\n",
       "      <th>13</th>\n",
       "      <td>247</td>\n",
       "      <td>248</td>\n",
       "      <td>CartScreenAppear</td>\n",
       "      <td>0.578620</td>\n",
       "      <td>False</td>\n",
       "    </tr>\n",
       "    <tr>\n",
       "      <th>14</th>\n",
       "      <td>247</td>\n",
       "      <td>248</td>\n",
       "      <td>PaymentScreenSuccessful</td>\n",
       "      <td>0.737342</td>\n",
       "      <td>False</td>\n",
       "    </tr>\n",
       "    <tr>\n",
       "      <th>15</th>\n",
       "      <td>246 + 247</td>\n",
       "      <td>248</td>\n",
       "      <td>Tutorial</td>\n",
       "      <td>0.764862</td>\n",
       "      <td>False</td>\n",
       "    </tr>\n",
       "    <tr>\n",
       "      <th>16</th>\n",
       "      <td>246 + 247</td>\n",
       "      <td>248</td>\n",
       "      <td>MainScreenAppear</td>\n",
       "      <td>0.294245</td>\n",
       "      <td>False</td>\n",
       "    </tr>\n",
       "    <tr>\n",
       "      <th>17</th>\n",
       "      <td>246 + 247</td>\n",
       "      <td>248</td>\n",
       "      <td>OffersScreenAppear</td>\n",
       "      <td>0.434255</td>\n",
       "      <td>False</td>\n",
       "    </tr>\n",
       "    <tr>\n",
       "      <th>18</th>\n",
       "      <td>246 + 247</td>\n",
       "      <td>248</td>\n",
       "      <td>CartScreenAppear</td>\n",
       "      <td>0.181759</td>\n",
       "      <td>False</td>\n",
       "    </tr>\n",
       "    <tr>\n",
       "      <th>19</th>\n",
       "      <td>246 + 247</td>\n",
       "      <td>248</td>\n",
       "      <td>PaymentScreenSuccessful</td>\n",
       "      <td>0.600429</td>\n",
       "      <td>False</td>\n",
       "    </tr>\n",
       "  </tbody>\n",
       "</table>\n",
       "</div>"
      ],
      "text/plain": [
       "            A    B               event_name   p-value  reject_h0\n",
       "0         246  247                 Tutorial  0.937700      False\n",
       "1         246  247         MainScreenAppear  0.757060      False\n",
       "2         246  247       OffersScreenAppear  0.248095      False\n",
       "3         246  247         CartScreenAppear  0.228834      False\n",
       "4         246  247  PaymentScreenSuccessful  0.114567      False\n",
       "5         246  248                 Tutorial  0.826429      False\n",
       "6         246  248         MainScreenAppear  0.294972      False\n",
       "7         246  248       OffersScreenAppear  0.208362      False\n",
       "8         246  248         CartScreenAppear  0.078429      False\n",
       "9         246  248  PaymentScreenSuccessful  0.212255      False\n",
       "10        247  248                 Tutorial  0.765324      False\n",
       "11        247  248         MainScreenAppear  0.458705      False\n",
       "12        247  248       OffersScreenAppear  0.919782      False\n",
       "13        247  248         CartScreenAppear  0.578620      False\n",
       "14        247  248  PaymentScreenSuccessful  0.737342      False\n",
       "15  246 + 247  248                 Tutorial  0.764862      False\n",
       "16  246 + 247  248         MainScreenAppear  0.294245      False\n",
       "17  246 + 247  248       OffersScreenAppear  0.434255      False\n",
       "18  246 + 247  248         CartScreenAppear  0.181759      False\n",
       "19  246 + 247  248  PaymentScreenSuccessful  0.600429      False"
      ]
     },
     "execution_count": 136,
     "metadata": {},
     "output_type": "execute_result"
    }
   ],
   "source": [
    "combined = data.query('group in [246, 247]')\n",
    "combined['group'] = '246 + 247'\n",
    "data_new = data.append(combined)\n",
    "\n",
    "\n",
    "trials = data_new.groupby('group').agg({'device_id' : 'nunique'})\n",
    "#display(trials)\n",
    "funnel = data_new.pivot_table(index = 'event_name', columns = 'group', values = 'device_id', aggfunc = 'nunique')\n",
    "#display(funnel)\n",
    "\n",
    "p_values = []\n",
    "\n",
    "#перебор всех нужных сочетаний групп\n",
    "for groups in [[246, 247],[246, 248], [247, 248], ['246 + 247', 248]]:\n",
    "    \n",
    "    #перебор всех событий в воронке\n",
    "    for event in data['event_name'].unique():\n",
    "        \n",
    "        p=check_hypothesis(funnel.loc[event, groups[0]], funnel.loc[event, groups[1]],\n",
    "                       trials.loc[groups[0]].values[0], trials.loc[groups[1]].values[0])\n",
    "    \n",
    "        #собираю все результаты\n",
    "        p_values += [[groups[0], groups[1], event, p]]\n",
    "     \n",
    "    \n",
    "p_values = pd.DataFrame(p_values, columns = ['A','B','event_name','p-value'])\n",
    "\n",
    "#назначение уровня статистической значимости\n",
    "alpha = 0.1\n",
    "alpha = alpha/p_values.shape[0] # коррекция Бонферрони - деление на число экспериментов\n",
    "p_values['reject_h0'] = p_values['p-value'] < alpha\n",
    "p_values"
   ]
  },
  {
   "cell_type": "markdown",
   "id": "293ccd86",
   "metadata": {},
   "source": [
    "## Вывод:\n",
    "\n",
    "    1. A/A-тест пройден успешно. Контрольные группы (246 и 247) идентичны.\n",
    "    2. A/B-тест пройден успешно. Сравнение результатов экспериментальной группы с каждой из контрольных групп по отдельности не показало значимых отличий в конверсии. Сравнение результатов экспериментальной группы с объединённой контрольной группой (246 + 247) также не показало значимых отличий в конверсии.\n",
    "    3. Результаты не дают повода отвергнуть H0. Значит, у нас нет повода отрицать, что изменение шрифтов никак не повлияло на взаимодействие пользователя с приложением.\n",
    "    \n",
    "**Изменение шрифтов никак не повлияло на конверсию пользователей в приложении**"
   ]
  }
 ],
 "metadata": {
  "ExecuteTimeLog": [
   {
    "duration": 541,
    "start_time": "2022-05-11T10:24:30.738Z"
   },
   {
    "duration": 387,
    "start_time": "2022-05-11T10:24:55.076Z"
   },
   {
    "duration": 26,
    "start_time": "2022-05-11T10:25:05.325Z"
   },
   {
    "duration": 185,
    "start_time": "2022-05-11T10:32:54.284Z"
   },
   {
    "duration": 13,
    "start_time": "2022-05-11T10:32:58.722Z"
   },
   {
    "duration": 432,
    "start_time": "2022-05-11T10:33:18.297Z"
   },
   {
    "duration": 10,
    "start_time": "2022-05-11T10:33:19.381Z"
   },
   {
    "duration": 1139,
    "start_time": "2022-05-11T10:33:49.734Z"
   },
   {
    "duration": 316,
    "start_time": "2022-05-11T10:40:16.599Z"
   },
   {
    "duration": 4,
    "start_time": "2022-05-11T13:35:04.708Z"
   },
   {
    "duration": 269,
    "start_time": "2022-05-11T13:52:09.648Z"
   },
   {
    "duration": 13,
    "start_time": "2022-05-11T13:52:10.740Z"
   },
   {
    "duration": 22,
    "start_time": "2022-05-11T16:21:04.174Z"
   },
   {
    "duration": 27,
    "start_time": "2022-05-11T16:21:12.194Z"
   },
   {
    "duration": 6,
    "start_time": "2022-05-11T16:24:13.502Z"
   },
   {
    "duration": 163,
    "start_time": "2022-05-11T16:24:29.826Z"
   },
   {
    "duration": 10,
    "start_time": "2022-05-11T16:27:41.433Z"
   },
   {
    "duration": 19,
    "start_time": "2022-05-11T16:31:56.172Z"
   },
   {
    "duration": 9,
    "start_time": "2022-05-11T16:32:24.830Z"
   },
   {
    "duration": 10,
    "start_time": "2022-05-11T16:32:31.468Z"
   },
   {
    "duration": 1648,
    "start_time": "2022-05-11T16:33:09.940Z"
   },
   {
    "duration": 4,
    "start_time": "2022-05-11T16:33:13.772Z"
   },
   {
    "duration": 296,
    "start_time": "2022-05-11T16:33:13.779Z"
   },
   {
    "duration": 11,
    "start_time": "2022-05-11T16:33:14.078Z"
   },
   {
    "duration": 47,
    "start_time": "2022-05-11T16:33:14.092Z"
   },
   {
    "duration": 48,
    "start_time": "2022-05-11T16:33:14.141Z"
   },
   {
    "duration": 54,
    "start_time": "2022-05-11T16:33:14.192Z"
   },
   {
    "duration": 31,
    "start_time": "2022-05-11T16:33:14.248Z"
   },
   {
    "duration": 34,
    "start_time": "2022-05-11T16:33:14.281Z"
   },
   {
    "duration": 11,
    "start_time": "2022-05-11T17:06:25.111Z"
   },
   {
    "duration": 19,
    "start_time": "2022-05-11T17:06:39.815Z"
   },
   {
    "duration": 103,
    "start_time": "2022-05-11T17:07:19.192Z"
   },
   {
    "duration": 81,
    "start_time": "2022-05-11T17:08:17.159Z"
   },
   {
    "duration": 18,
    "start_time": "2022-05-11T17:08:23.727Z"
   },
   {
    "duration": 91,
    "start_time": "2022-05-11T17:08:52.773Z"
   },
   {
    "duration": 136,
    "start_time": "2022-05-11T17:09:00.039Z"
   },
   {
    "duration": 90,
    "start_time": "2022-05-11T17:09:05.895Z"
   },
   {
    "duration": 102,
    "start_time": "2022-05-11T17:09:07.071Z"
   },
   {
    "duration": 84,
    "start_time": "2022-05-11T17:09:07.632Z"
   },
   {
    "duration": 25,
    "start_time": "2022-05-11T17:09:40.176Z"
   },
   {
    "duration": 10,
    "start_time": "2022-05-11T17:23:14.434Z"
   },
   {
    "duration": 26,
    "start_time": "2022-05-11T17:23:20.443Z"
   },
   {
    "duration": 13,
    "start_time": "2022-05-11T17:23:31.512Z"
   },
   {
    "duration": 26,
    "start_time": "2022-05-11T17:24:06.385Z"
   },
   {
    "duration": 4,
    "start_time": "2022-05-11T17:37:23.812Z"
   },
   {
    "duration": 11,
    "start_time": "2022-05-11T17:39:14.857Z"
   },
   {
    "duration": 11,
    "start_time": "2022-05-11T17:40:31.013Z"
   },
   {
    "duration": 126,
    "start_time": "2022-05-11T17:40:42.467Z"
   },
   {
    "duration": 13,
    "start_time": "2022-05-11T17:40:47.603Z"
   },
   {
    "duration": 23,
    "start_time": "2022-05-11T18:52:09.723Z"
   },
   {
    "duration": 11,
    "start_time": "2022-05-11T18:53:19.081Z"
   },
   {
    "duration": 6,
    "start_time": "2022-05-11T18:54:03.903Z"
   },
   {
    "duration": 12,
    "start_time": "2022-05-11T18:54:10.432Z"
   },
   {
    "duration": 100,
    "start_time": "2022-05-11T18:55:19.242Z"
   },
   {
    "duration": 93,
    "start_time": "2022-05-11T18:55:21.579Z"
   },
   {
    "duration": 82,
    "start_time": "2022-05-11T18:56:10.893Z"
   },
   {
    "duration": 81,
    "start_time": "2022-05-11T18:56:24.485Z"
   },
   {
    "duration": 81,
    "start_time": "2022-05-11T18:56:37.466Z"
   },
   {
    "duration": 77,
    "start_time": "2022-05-11T18:56:46.331Z"
   },
   {
    "duration": 42,
    "start_time": "2022-05-11T18:59:30.039Z"
   },
   {
    "duration": 8,
    "start_time": "2022-05-11T18:59:39.205Z"
   },
   {
    "duration": 49,
    "start_time": "2022-05-11T18:59:46.101Z"
   },
   {
    "duration": 425,
    "start_time": "2022-05-11T19:05:08.816Z"
   },
   {
    "duration": 457,
    "start_time": "2022-05-11T19:05:47.697Z"
   },
   {
    "duration": 637,
    "start_time": "2022-05-11T19:06:14.774Z"
   },
   {
    "duration": 12,
    "start_time": "2022-05-11T19:07:43.200Z"
   },
   {
    "duration": 85,
    "start_time": "2022-05-11T19:07:50.078Z"
   },
   {
    "duration": 24,
    "start_time": "2022-05-11T19:10:01.985Z"
   },
   {
    "duration": 644,
    "start_time": "2022-05-11T19:10:27.373Z"
   },
   {
    "duration": 754,
    "start_time": "2022-05-11T19:10:40.605Z"
   },
   {
    "duration": 681,
    "start_time": "2022-05-11T19:10:58.388Z"
   },
   {
    "duration": 702,
    "start_time": "2022-05-11T19:12:45.047Z"
   },
   {
    "duration": 680,
    "start_time": "2022-05-11T19:12:55.514Z"
   },
   {
    "duration": 685,
    "start_time": "2022-05-11T19:13:04.314Z"
   },
   {
    "duration": 828,
    "start_time": "2022-05-11T19:13:07.647Z"
   },
   {
    "duration": 961,
    "start_time": "2022-05-11T19:14:47.808Z"
   },
   {
    "duration": 949,
    "start_time": "2022-05-11T19:15:01.765Z"
   },
   {
    "duration": 132,
    "start_time": "2022-05-11T19:16:36.438Z"
   },
   {
    "duration": 3,
    "start_time": "2022-05-11T19:18:45.096Z"
   },
   {
    "duration": 43,
    "start_time": "2022-05-11T19:20:24.032Z"
   },
   {
    "duration": 19,
    "start_time": "2022-05-11T19:24:28.311Z"
   },
   {
    "duration": 4,
    "start_time": "2022-05-11T19:24:52.884Z"
   },
   {
    "duration": 5,
    "start_time": "2022-05-11T19:24:54.841Z"
   },
   {
    "duration": 471,
    "start_time": "2022-05-11T19:24:54.848Z"
   },
   {
    "duration": 36,
    "start_time": "2022-05-11T19:24:55.322Z"
   },
   {
    "duration": 12,
    "start_time": "2022-05-11T19:24:55.361Z"
   },
   {
    "duration": 10,
    "start_time": "2022-05-11T19:24:55.376Z"
   },
   {
    "duration": 50,
    "start_time": "2022-05-11T19:24:55.389Z"
   },
   {
    "duration": 113,
    "start_time": "2022-05-11T19:24:55.442Z"
   },
   {
    "duration": 144,
    "start_time": "2022-05-11T19:24:55.557Z"
   },
   {
    "duration": 23,
    "start_time": "2022-05-11T19:24:55.705Z"
   },
   {
    "duration": 29,
    "start_time": "2022-05-11T19:24:55.738Z"
   },
   {
    "duration": 129,
    "start_time": "2022-05-11T19:24:55.770Z"
   },
   {
    "duration": 1839,
    "start_time": "2022-05-11T19:24:55.901Z"
   },
   {
    "duration": 1,
    "start_time": "2022-05-11T19:24:57.742Z"
   },
   {
    "duration": 0,
    "start_time": "2022-05-11T19:24:57.744Z"
   },
   {
    "duration": 0,
    "start_time": "2022-05-11T19:24:57.746Z"
   },
   {
    "duration": 0,
    "start_time": "2022-05-11T19:24:57.747Z"
   },
   {
    "duration": 0,
    "start_time": "2022-05-11T19:24:57.749Z"
   },
   {
    "duration": 0,
    "start_time": "2022-05-11T19:24:57.751Z"
   },
   {
    "duration": 0,
    "start_time": "2022-05-11T19:24:57.753Z"
   },
   {
    "duration": 31,
    "start_time": "2022-05-11T19:25:17.770Z"
   },
   {
    "duration": 9,
    "start_time": "2022-05-11T19:25:19.712Z"
   },
   {
    "duration": 88,
    "start_time": "2022-05-11T19:25:21.783Z"
   },
   {
    "duration": 45,
    "start_time": "2022-05-11T19:25:22.537Z"
   },
   {
    "duration": 912,
    "start_time": "2022-05-11T19:25:24.136Z"
   },
   {
    "duration": 12,
    "start_time": "2022-05-11T19:25:26.575Z"
   },
   {
    "duration": 11,
    "start_time": "2022-05-11T19:26:24.888Z"
   },
   {
    "duration": 19,
    "start_time": "2022-05-11T19:27:18.743Z"
   },
   {
    "duration": 14,
    "start_time": "2022-05-11T19:27:55.296Z"
   },
   {
    "duration": 5,
    "start_time": "2022-05-11T19:28:40.674Z"
   },
   {
    "duration": 7,
    "start_time": "2022-05-11T19:28:44.767Z"
   },
   {
    "duration": 16,
    "start_time": "2022-05-11T19:28:58.744Z"
   },
   {
    "duration": 7,
    "start_time": "2022-05-11T19:29:02.342Z"
   },
   {
    "duration": 15,
    "start_time": "2022-05-11T19:29:18.271Z"
   },
   {
    "duration": 1137,
    "start_time": "2022-05-11T19:31:15.048Z"
   },
   {
    "duration": 1058,
    "start_time": "2022-05-11T19:31:37.171Z"
   },
   {
    "duration": 48,
    "start_time": "2022-05-11T19:31:46.220Z"
   },
   {
    "duration": 26,
    "start_time": "2022-05-11T19:33:03.814Z"
   },
   {
    "duration": 22,
    "start_time": "2022-05-11T19:33:41.221Z"
   },
   {
    "duration": 7,
    "start_time": "2022-05-11T19:33:46.539Z"
   },
   {
    "duration": 8,
    "start_time": "2022-05-11T19:33:49.680Z"
   },
   {
    "duration": 6,
    "start_time": "2022-05-11T19:37:15.437Z"
   },
   {
    "duration": 13,
    "start_time": "2022-05-11T19:39:31.528Z"
   },
   {
    "duration": 22,
    "start_time": "2022-05-11T19:39:56.940Z"
   },
   {
    "duration": 5,
    "start_time": "2022-05-11T19:40:01.295Z"
   },
   {
    "duration": 519,
    "start_time": "2022-05-11T19:40:01.329Z"
   },
   {
    "duration": 41,
    "start_time": "2022-05-11T19:40:01.852Z"
   },
   {
    "duration": 33,
    "start_time": "2022-05-11T19:40:01.896Z"
   },
   {
    "duration": 11,
    "start_time": "2022-05-11T19:40:01.932Z"
   },
   {
    "duration": 68,
    "start_time": "2022-05-11T19:40:01.947Z"
   },
   {
    "duration": 151,
    "start_time": "2022-05-11T19:40:02.018Z"
   },
   {
    "duration": 160,
    "start_time": "2022-05-11T19:40:02.172Z"
   },
   {
    "duration": 12,
    "start_time": "2022-05-11T19:40:02.339Z"
   },
   {
    "duration": 34,
    "start_time": "2022-05-11T19:40:02.354Z"
   },
   {
    "duration": 148,
    "start_time": "2022-05-11T19:40:02.391Z"
   },
   {
    "duration": 41,
    "start_time": "2022-05-11T19:40:02.543Z"
   },
   {
    "duration": 10,
    "start_time": "2022-05-11T19:40:02.587Z"
   },
   {
    "duration": 159,
    "start_time": "2022-05-11T19:40:02.600Z"
   },
   {
    "duration": 77,
    "start_time": "2022-05-11T19:40:02.763Z"
   },
   {
    "duration": 1152,
    "start_time": "2022-05-11T19:40:02.843Z"
   },
   {
    "duration": 6,
    "start_time": "2022-05-11T19:40:03.997Z"
   },
   {
    "duration": 34,
    "start_time": "2022-05-11T19:40:04.005Z"
   },
   {
    "duration": 37,
    "start_time": "2022-05-11T19:40:04.042Z"
   },
   {
    "duration": 88,
    "start_time": "2022-05-11T19:40:04.082Z"
   },
   {
    "duration": 1472,
    "start_time": "2022-05-11T19:40:48.063Z"
   },
   {
    "duration": 6,
    "start_time": "2022-05-11T19:41:11.898Z"
   },
   {
    "duration": 12,
    "start_time": "2022-05-11T19:41:18.959Z"
   },
   {
    "duration": 7,
    "start_time": "2022-05-11T19:41:30.514Z"
   },
   {
    "duration": 6,
    "start_time": "2022-05-11T19:41:37.602Z"
   },
   {
    "duration": 6,
    "start_time": "2022-05-11T19:42:19.704Z"
   },
   {
    "duration": 48,
    "start_time": "2022-05-11T19:42:25.599Z"
   },
   {
    "duration": 814,
    "start_time": "2022-05-11T19:42:36.027Z"
   },
   {
    "duration": 4,
    "start_time": "2022-05-11T19:43:13.567Z"
   },
   {
    "duration": 395,
    "start_time": "2022-05-11T19:43:13.574Z"
   },
   {
    "duration": 54,
    "start_time": "2022-05-11T19:43:13.972Z"
   },
   {
    "duration": 13,
    "start_time": "2022-05-11T19:43:14.031Z"
   },
   {
    "duration": 10,
    "start_time": "2022-05-11T19:43:14.047Z"
   },
   {
    "duration": 64,
    "start_time": "2022-05-11T19:43:14.060Z"
   },
   {
    "duration": 135,
    "start_time": "2022-05-11T19:43:14.129Z"
   },
   {
    "duration": 144,
    "start_time": "2022-05-11T19:43:14.267Z"
   },
   {
    "duration": 21,
    "start_time": "2022-05-11T19:43:14.414Z"
   },
   {
    "duration": 47,
    "start_time": "2022-05-11T19:43:14.441Z"
   },
   {
    "duration": 177,
    "start_time": "2022-05-11T19:43:14.491Z"
   },
   {
    "duration": 33,
    "start_time": "2022-05-11T19:43:14.670Z"
   },
   {
    "duration": 14,
    "start_time": "2022-05-11T19:43:14.726Z"
   },
   {
    "duration": 118,
    "start_time": "2022-05-11T19:43:14.743Z"
   },
   {
    "duration": 42,
    "start_time": "2022-05-11T19:43:14.864Z"
   },
   {
    "duration": 1625,
    "start_time": "2022-05-11T19:43:14.926Z"
   },
   {
    "duration": 41,
    "start_time": "2022-05-11T19:43:25.104Z"
   },
   {
    "duration": 875,
    "start_time": "2022-05-11T19:43:27.672Z"
   },
   {
    "duration": 48,
    "start_time": "2022-05-11T19:43:48.152Z"
   },
   {
    "duration": 1426,
    "start_time": "2022-05-11T19:43:51.090Z"
   },
   {
    "duration": 32,
    "start_time": "2022-05-11T19:44:01.568Z"
   },
   {
    "duration": 787,
    "start_time": "2022-05-11T19:44:03.125Z"
   },
   {
    "duration": 206,
    "start_time": "2022-05-11T19:45:02.106Z"
   },
   {
    "duration": 5,
    "start_time": "2022-05-11T19:47:01.673Z"
   },
   {
    "duration": 262,
    "start_time": "2022-05-11T19:47:01.681Z"
   },
   {
    "duration": 28,
    "start_time": "2022-05-11T19:47:01.945Z"
   },
   {
    "duration": 23,
    "start_time": "2022-05-11T19:47:01.975Z"
   },
   {
    "duration": 26,
    "start_time": "2022-05-11T19:47:02.001Z"
   },
   {
    "duration": 19,
    "start_time": "2022-05-11T19:47:02.029Z"
   },
   {
    "duration": 134,
    "start_time": "2022-05-11T19:47:02.050Z"
   },
   {
    "duration": 114,
    "start_time": "2022-05-11T19:47:02.187Z"
   },
   {
    "duration": 22,
    "start_time": "2022-05-11T19:47:02.304Z"
   },
   {
    "duration": 30,
    "start_time": "2022-05-11T19:47:02.328Z"
   },
   {
    "duration": 124,
    "start_time": "2022-05-11T19:47:02.360Z"
   },
   {
    "duration": 44,
    "start_time": "2022-05-11T19:47:02.487Z"
   },
   {
    "duration": 10,
    "start_time": "2022-05-11T19:47:02.533Z"
   },
   {
    "duration": 95,
    "start_time": "2022-05-11T19:47:02.546Z"
   },
   {
    "duration": 42,
    "start_time": "2022-05-11T19:47:02.643Z"
   },
   {
    "duration": 909,
    "start_time": "2022-05-11T19:47:02.688Z"
   },
   {
    "duration": 57,
    "start_time": "2022-05-11T19:47:03.599Z"
   },
   {
    "duration": 5,
    "start_time": "2022-05-11T19:52:34.373Z"
   },
   {
    "duration": 255,
    "start_time": "2022-05-11T19:52:34.386Z"
   },
   {
    "duration": 27,
    "start_time": "2022-05-11T19:52:34.644Z"
   },
   {
    "duration": 10,
    "start_time": "2022-05-11T19:52:34.673Z"
   },
   {
    "duration": 8,
    "start_time": "2022-05-11T19:52:34.685Z"
   },
   {
    "duration": 19,
    "start_time": "2022-05-11T19:52:34.725Z"
   },
   {
    "duration": 106,
    "start_time": "2022-05-11T19:52:34.746Z"
   },
   {
    "duration": 114,
    "start_time": "2022-05-11T19:52:34.855Z"
   },
   {
    "duration": 9,
    "start_time": "2022-05-11T19:52:34.972Z"
   },
   {
    "duration": 45,
    "start_time": "2022-05-11T19:52:34.983Z"
   },
   {
    "duration": 112,
    "start_time": "2022-05-11T19:52:35.030Z"
   },
   {
    "duration": 30,
    "start_time": "2022-05-11T19:52:35.144Z"
   },
   {
    "duration": 10,
    "start_time": "2022-05-11T19:52:35.176Z"
   },
   {
    "duration": 111,
    "start_time": "2022-05-11T19:52:35.188Z"
   },
   {
    "duration": 54,
    "start_time": "2022-05-11T19:52:35.302Z"
   },
   {
    "duration": 1042,
    "start_time": "2022-05-11T19:52:35.358Z"
   },
   {
    "duration": 57,
    "start_time": "2022-05-11T19:52:36.403Z"
   },
   {
    "duration": 5,
    "start_time": "2022-05-11T19:53:48.689Z"
   },
   {
    "duration": 255,
    "start_time": "2022-05-11T19:53:48.697Z"
   },
   {
    "duration": 43,
    "start_time": "2022-05-11T19:53:48.954Z"
   },
   {
    "duration": 28,
    "start_time": "2022-05-11T19:53:49.002Z"
   },
   {
    "duration": 10,
    "start_time": "2022-05-11T19:53:49.032Z"
   },
   {
    "duration": 20,
    "start_time": "2022-05-11T19:53:49.044Z"
   },
   {
    "duration": 156,
    "start_time": "2022-05-11T19:53:49.067Z"
   },
   {
    "duration": 134,
    "start_time": "2022-05-11T19:53:49.225Z"
   },
   {
    "duration": 11,
    "start_time": "2022-05-11T19:53:49.362Z"
   },
   {
    "duration": 47,
    "start_time": "2022-05-11T19:53:49.379Z"
   },
   {
    "duration": 114,
    "start_time": "2022-05-11T19:53:49.429Z"
   },
   {
    "duration": 29,
    "start_time": "2022-05-11T19:53:49.545Z"
   },
   {
    "duration": 10,
    "start_time": "2022-05-11T19:53:49.577Z"
   },
   {
    "duration": 105,
    "start_time": "2022-05-11T19:53:49.589Z"
   },
   {
    "duration": 59,
    "start_time": "2022-05-11T19:53:49.696Z"
   },
   {
    "duration": 917,
    "start_time": "2022-05-11T19:53:49.758Z"
   },
   {
    "duration": 52,
    "start_time": "2022-05-11T19:53:50.677Z"
   },
   {
    "duration": 20,
    "start_time": "2022-05-11T19:53:50.732Z"
   },
   {
    "duration": 983,
    "start_time": "2022-05-11T19:54:10.674Z"
   },
   {
    "duration": 28,
    "start_time": "2022-05-11T19:54:32.547Z"
   },
   {
    "duration": 15,
    "start_time": "2022-05-11T19:55:22.572Z"
   },
   {
    "duration": 7,
    "start_time": "2022-05-11T19:55:58.852Z"
   },
   {
    "duration": 20,
    "start_time": "2022-05-11T19:56:16.779Z"
   },
   {
    "duration": 12,
    "start_time": "2022-05-11T19:58:45.428Z"
   },
   {
    "duration": 11,
    "start_time": "2022-05-11T19:58:50.027Z"
   },
   {
    "duration": 28,
    "start_time": "2022-05-11T19:59:32.347Z"
   },
   {
    "duration": 27,
    "start_time": "2022-05-11T20:01:12.189Z"
   },
   {
    "duration": 17,
    "start_time": "2022-05-11T20:01:17.298Z"
   },
   {
    "duration": 83,
    "start_time": "2022-05-11T20:01:49.116Z"
   },
   {
    "duration": 6,
    "start_time": "2022-05-11T20:05:50.556Z"
   },
   {
    "duration": 13,
    "start_time": "2022-05-11T20:06:02.644Z"
   },
   {
    "duration": 5,
    "start_time": "2022-05-11T20:07:02.274Z"
   },
   {
    "duration": 269,
    "start_time": "2022-05-11T20:07:02.382Z"
   },
   {
    "duration": 27,
    "start_time": "2022-05-11T20:07:02.654Z"
   },
   {
    "duration": 9,
    "start_time": "2022-05-11T20:07:02.683Z"
   },
   {
    "duration": 43,
    "start_time": "2022-05-11T20:07:02.696Z"
   },
   {
    "duration": 111,
    "start_time": "2022-05-11T20:07:02.741Z"
   },
   {
    "duration": 104,
    "start_time": "2022-05-11T20:07:02.855Z"
   },
   {
    "duration": 9,
    "start_time": "2022-05-11T20:07:02.961Z"
   },
   {
    "duration": 32,
    "start_time": "2022-05-11T20:07:02.972Z"
   },
   {
    "duration": 133,
    "start_time": "2022-05-11T20:07:03.006Z"
   },
   {
    "duration": 29,
    "start_time": "2022-05-11T20:07:03.143Z"
   },
   {
    "duration": 11,
    "start_time": "2022-05-11T20:07:03.175Z"
   },
   {
    "duration": 108,
    "start_time": "2022-05-11T20:07:03.188Z"
   },
   {
    "duration": 50,
    "start_time": "2022-05-11T20:07:03.299Z"
   },
   {
    "duration": 896,
    "start_time": "2022-05-11T20:07:03.351Z"
   },
   {
    "duration": 42,
    "start_time": "2022-05-11T20:07:04.250Z"
   },
   {
    "duration": 53,
    "start_time": "2022-05-11T20:07:04.294Z"
   },
   {
    "duration": 96,
    "start_time": "2022-05-11T20:07:04.350Z"
   },
   {
    "duration": 7,
    "start_time": "2022-05-11T20:07:04.448Z"
   },
   {
    "duration": 18,
    "start_time": "2022-05-11T20:07:04.457Z"
   },
   {
    "duration": 11,
    "start_time": "2022-05-11T20:07:04.477Z"
   },
   {
    "duration": 13,
    "start_time": "2022-05-11T20:07:24.560Z"
   },
   {
    "duration": 59,
    "start_time": "2022-05-11T20:13:41.981Z"
   },
   {
    "duration": 36,
    "start_time": "2022-05-11T20:13:44.012Z"
   },
   {
    "duration": 6,
    "start_time": "2022-05-11T20:14:00.052Z"
   },
   {
    "duration": 78,
    "start_time": "2022-05-11T20:15:12.391Z"
   },
   {
    "duration": 7,
    "start_time": "2022-05-11T20:17:14.175Z"
   },
   {
    "duration": 7,
    "start_time": "2022-05-11T20:17:31.966Z"
   },
   {
    "duration": 63,
    "start_time": "2022-05-11T20:19:15.637Z"
   },
   {
    "duration": 1881,
    "start_time": "2022-05-11T20:19:20.213Z"
   },
   {
    "duration": 1759,
    "start_time": "2022-05-11T20:19:28.117Z"
   },
   {
    "duration": 168,
    "start_time": "2022-05-11T20:19:42.390Z"
   },
   {
    "duration": 163,
    "start_time": "2022-05-11T20:20:09.637Z"
   },
   {
    "duration": 166,
    "start_time": "2022-05-11T20:20:48.951Z"
   },
   {
    "duration": 231,
    "start_time": "2022-05-11T20:21:10.526Z"
   },
   {
    "duration": 164,
    "start_time": "2022-05-11T20:22:39.046Z"
   },
   {
    "duration": 165,
    "start_time": "2022-05-11T20:23:08.846Z"
   },
   {
    "duration": 161,
    "start_time": "2022-05-11T20:24:16.951Z"
   },
   {
    "duration": 164,
    "start_time": "2022-05-11T20:24:50.494Z"
   },
   {
    "duration": 11,
    "start_time": "2022-05-11T20:26:17.078Z"
   },
   {
    "duration": 15,
    "start_time": "2022-05-11T20:26:30.310Z"
   },
   {
    "duration": 5,
    "start_time": "2022-05-11T20:27:12.673Z"
   },
   {
    "duration": 258,
    "start_time": "2022-05-11T20:27:12.680Z"
   },
   {
    "duration": 25,
    "start_time": "2022-05-11T20:27:12.940Z"
   },
   {
    "duration": 13,
    "start_time": "2022-05-11T20:27:12.967Z"
   },
   {
    "duration": 41,
    "start_time": "2022-05-11T20:27:12.983Z"
   },
   {
    "duration": 86,
    "start_time": "2022-05-11T20:27:13.026Z"
   },
   {
    "duration": 123,
    "start_time": "2022-05-11T20:27:13.113Z"
   },
   {
    "duration": 9,
    "start_time": "2022-05-11T20:27:13.238Z"
   },
   {
    "duration": 35,
    "start_time": "2022-05-11T20:27:13.249Z"
   },
   {
    "duration": 125,
    "start_time": "2022-05-11T20:27:13.286Z"
   },
   {
    "duration": 35,
    "start_time": "2022-05-11T20:27:13.413Z"
   },
   {
    "duration": 9,
    "start_time": "2022-05-11T20:27:13.450Z"
   },
   {
    "duration": 109,
    "start_time": "2022-05-11T20:27:13.461Z"
   },
   {
    "duration": 60,
    "start_time": "2022-05-11T20:27:13.574Z"
   },
   {
    "duration": 940,
    "start_time": "2022-05-11T20:27:13.636Z"
   },
   {
    "duration": 60,
    "start_time": "2022-05-11T20:27:14.579Z"
   },
   {
    "duration": 29,
    "start_time": "2022-05-11T20:27:14.641Z"
   },
   {
    "duration": 111,
    "start_time": "2022-05-11T20:27:14.672Z"
   },
   {
    "duration": 7,
    "start_time": "2022-05-11T20:27:14.786Z"
   },
   {
    "duration": 30,
    "start_time": "2022-05-11T20:27:14.796Z"
   },
   {
    "duration": 187,
    "start_time": "2022-05-11T20:27:14.828Z"
   },
   {
    "duration": 172,
    "start_time": "2022-05-11T20:27:15.023Z"
   },
   {
    "duration": 1243,
    "start_time": "2022-05-12T09:01:48.038Z"
   },
   {
    "duration": 201,
    "start_time": "2022-05-12T09:01:49.288Z"
   },
   {
    "duration": 22,
    "start_time": "2022-05-12T09:01:49.491Z"
   },
   {
    "duration": 7,
    "start_time": "2022-05-12T09:01:49.515Z"
   },
   {
    "duration": 15,
    "start_time": "2022-05-12T09:01:49.523Z"
   },
   {
    "duration": 89,
    "start_time": "2022-05-12T09:01:49.539Z"
   },
   {
    "duration": 77,
    "start_time": "2022-05-12T09:01:49.629Z"
   },
   {
    "duration": 9,
    "start_time": "2022-05-12T09:01:49.707Z"
   },
   {
    "duration": 20,
    "start_time": "2022-05-12T09:01:49.718Z"
   },
   {
    "duration": 82,
    "start_time": "2022-05-12T09:01:49.741Z"
   },
   {
    "duration": 31,
    "start_time": "2022-05-12T09:01:49.825Z"
   },
   {
    "duration": 11,
    "start_time": "2022-05-12T09:01:49.858Z"
   },
   {
    "duration": 75,
    "start_time": "2022-05-12T09:01:49.871Z"
   },
   {
    "duration": 41,
    "start_time": "2022-05-12T09:01:49.947Z"
   },
   {
    "duration": 619,
    "start_time": "2022-05-12T09:01:49.990Z"
   },
   {
    "duration": 29,
    "start_time": "2022-05-12T09:01:50.611Z"
   },
   {
    "duration": 21,
    "start_time": "2022-05-12T09:01:50.642Z"
   },
   {
    "duration": 77,
    "start_time": "2022-05-12T09:01:50.664Z"
   },
   {
    "duration": 4,
    "start_time": "2022-05-12T09:01:50.743Z"
   },
   {
    "duration": 11,
    "start_time": "2022-05-12T09:01:50.748Z"
   },
   {
    "duration": 124,
    "start_time": "2022-05-12T09:01:50.761Z"
   },
   {
    "duration": 119,
    "start_time": "2022-05-12T09:01:50.888Z"
   },
   {
    "duration": 5,
    "start_time": "2022-05-12T09:12:53.900Z"
   },
   {
    "duration": 11,
    "start_time": "2022-05-12T09:15:19.109Z"
   },
   {
    "duration": 28,
    "start_time": "2022-05-12T09:16:34.741Z"
   },
   {
    "duration": 406,
    "start_time": "2022-05-12T09:19:16.837Z"
   },
   {
    "duration": 422,
    "start_time": "2022-05-12T09:19:21.510Z"
   },
   {
    "duration": 173,
    "start_time": "2022-05-12T09:19:26.711Z"
   },
   {
    "duration": 141,
    "start_time": "2022-05-12T09:19:39.119Z"
   },
   {
    "duration": 27,
    "start_time": "2022-05-12T09:19:45.046Z"
   },
   {
    "duration": 27,
    "start_time": "2022-05-12T09:19:55.127Z"
   },
   {
    "duration": 28,
    "start_time": "2022-05-12T09:20:10.102Z"
   },
   {
    "duration": 24,
    "start_time": "2022-05-12T09:22:12.016Z"
   },
   {
    "duration": 23,
    "start_time": "2022-05-12T09:22:35.094Z"
   },
   {
    "duration": 5,
    "start_time": "2022-05-12T09:22:36.974Z"
   },
   {
    "duration": 58,
    "start_time": "2022-05-12T09:23:29.342Z"
   },
   {
    "duration": 56,
    "start_time": "2022-05-12T09:24:14.574Z"
   },
   {
    "duration": 6,
    "start_time": "2022-05-12T09:26:13.830Z"
   },
   {
    "duration": 30,
    "start_time": "2022-05-12T09:26:17.264Z"
   },
   {
    "duration": 18,
    "start_time": "2022-05-12T09:26:30.518Z"
   },
   {
    "duration": 19,
    "start_time": "2022-05-12T09:26:40.486Z"
   },
   {
    "duration": 17,
    "start_time": "2022-05-12T09:26:44.029Z"
   },
   {
    "duration": 78,
    "start_time": "2022-05-12T09:29:15.903Z"
   },
   {
    "duration": 17,
    "start_time": "2022-05-12T09:30:05.496Z"
   },
   {
    "duration": 89,
    "start_time": "2022-05-12T09:30:54.264Z"
   },
   {
    "duration": 143,
    "start_time": "2022-05-12T09:32:45.856Z"
   },
   {
    "duration": 154,
    "start_time": "2022-05-12T09:32:55.289Z"
   },
   {
    "duration": 120,
    "start_time": "2022-05-12T09:33:51.616Z"
   },
   {
    "duration": 140,
    "start_time": "2022-05-12T09:34:11.912Z"
   },
   {
    "duration": 2,
    "start_time": "2022-05-12T09:36:59.944Z"
   },
   {
    "duration": 7,
    "start_time": "2022-05-12T09:37:05.647Z"
   },
   {
    "duration": 8,
    "start_time": "2022-05-12T09:37:10.239Z"
   },
   {
    "duration": 59,
    "start_time": "2022-05-12T09:38:30.274Z"
   },
   {
    "duration": 13,
    "start_time": "2022-05-12T09:39:35.317Z"
   },
   {
    "duration": 4,
    "start_time": "2022-05-12T11:12:58.643Z"
   },
   {
    "duration": 215,
    "start_time": "2022-05-12T11:12:58.649Z"
   },
   {
    "duration": 26,
    "start_time": "2022-05-12T11:12:58.866Z"
   },
   {
    "duration": 6,
    "start_time": "2022-05-12T11:12:58.894Z"
   },
   {
    "duration": 20,
    "start_time": "2022-05-12T11:12:58.902Z"
   },
   {
    "duration": 83,
    "start_time": "2022-05-12T11:12:58.924Z"
   },
   {
    "duration": 80,
    "start_time": "2022-05-12T11:12:59.009Z"
   },
   {
    "duration": 8,
    "start_time": "2022-05-12T11:12:59.091Z"
   },
   {
    "duration": 26,
    "start_time": "2022-05-12T11:12:59.101Z"
   },
   {
    "duration": 94,
    "start_time": "2022-05-12T11:12:59.130Z"
   },
   {
    "duration": 29,
    "start_time": "2022-05-12T11:12:59.227Z"
   },
   {
    "duration": 8,
    "start_time": "2022-05-12T11:12:59.258Z"
   },
   {
    "duration": 74,
    "start_time": "2022-05-12T11:12:59.268Z"
   },
   {
    "duration": 44,
    "start_time": "2022-05-12T11:12:59.344Z"
   },
   {
    "duration": 476,
    "start_time": "2022-05-12T11:12:59.390Z"
   },
   {
    "duration": 37,
    "start_time": "2022-05-12T11:12:59.869Z"
   },
   {
    "duration": 23,
    "start_time": "2022-05-12T11:12:59.908Z"
   },
   {
    "duration": 88,
    "start_time": "2022-05-12T11:12:59.934Z"
   },
   {
    "duration": 6,
    "start_time": "2022-05-12T11:13:00.024Z"
   },
   {
    "duration": 13,
    "start_time": "2022-05-12T11:13:00.032Z"
   },
   {
    "duration": 155,
    "start_time": "2022-05-12T11:13:00.048Z"
   },
   {
    "duration": 138,
    "start_time": "2022-05-12T11:13:00.205Z"
   },
   {
    "duration": 30,
    "start_time": "2022-05-12T11:13:00.345Z"
   },
   {
    "duration": 22,
    "start_time": "2022-05-12T11:13:00.389Z"
   },
   {
    "duration": 75,
    "start_time": "2022-05-12T11:13:00.413Z"
   },
   {
    "duration": 14,
    "start_time": "2022-05-12T11:13:00.490Z"
   },
   {
    "duration": 9,
    "start_time": "2022-05-12T11:13:00.506Z"
   },
   {
    "duration": 4,
    "start_time": "2022-05-12T12:26:01.436Z"
   },
   {
    "duration": 212,
    "start_time": "2022-05-12T12:26:01.442Z"
   },
   {
    "duration": 20,
    "start_time": "2022-05-12T12:26:01.656Z"
   },
   {
    "duration": 17,
    "start_time": "2022-05-12T12:26:01.678Z"
   },
   {
    "duration": 17,
    "start_time": "2022-05-12T12:26:01.700Z"
   },
   {
    "duration": 62,
    "start_time": "2022-05-12T12:26:01.719Z"
   },
   {
    "duration": 63,
    "start_time": "2022-05-12T12:26:01.792Z"
   },
   {
    "duration": 11,
    "start_time": "2022-05-12T12:26:01.857Z"
   },
   {
    "duration": 29,
    "start_time": "2022-05-12T12:26:01.889Z"
   },
   {
    "duration": 92,
    "start_time": "2022-05-12T12:26:01.919Z"
   },
   {
    "duration": 27,
    "start_time": "2022-05-12T12:26:02.014Z"
   },
   {
    "duration": 32,
    "start_time": "2022-05-12T12:26:02.043Z"
   },
   {
    "duration": 69,
    "start_time": "2022-05-12T12:26:02.077Z"
   },
   {
    "duration": 43,
    "start_time": "2022-05-12T12:26:02.148Z"
   },
   {
    "duration": 945,
    "start_time": "2022-05-12T12:26:02.193Z"
   },
   {
    "duration": 28,
    "start_time": "2022-05-12T12:26:03.140Z"
   },
   {
    "duration": 45,
    "start_time": "2022-05-12T12:26:03.170Z"
   },
   {
    "duration": 81,
    "start_time": "2022-05-12T12:26:03.217Z"
   },
   {
    "duration": 6,
    "start_time": "2022-05-12T12:26:03.299Z"
   },
   {
    "duration": 14,
    "start_time": "2022-05-12T12:26:03.307Z"
   },
   {
    "duration": 134,
    "start_time": "2022-05-12T12:26:03.323Z"
   },
   {
    "duration": 145,
    "start_time": "2022-05-12T12:26:03.458Z"
   },
   {
    "duration": 34,
    "start_time": "2022-05-12T12:26:03.605Z"
   },
   {
    "duration": 21,
    "start_time": "2022-05-12T12:26:03.641Z"
   },
   {
    "duration": 97,
    "start_time": "2022-05-12T12:26:03.664Z"
   },
   {
    "duration": 13,
    "start_time": "2022-05-12T12:26:03.762Z"
   },
   {
    "duration": 25,
    "start_time": "2022-05-12T12:26:03.777Z"
   },
   {
    "duration": 179,
    "start_time": "2022-05-12T12:37:05.669Z"
   },
   {
    "duration": 9,
    "start_time": "2022-05-12T12:51:31.131Z"
   },
   {
    "duration": 193,
    "start_time": "2022-05-12T12:52:47.171Z"
   },
   {
    "duration": 8,
    "start_time": "2022-05-12T12:52:56.978Z"
   },
   {
    "duration": 3,
    "start_time": "2022-05-12T12:53:28.083Z"
   },
   {
    "duration": 205,
    "start_time": "2022-05-12T12:57:47.074Z"
   },
   {
    "duration": 3,
    "start_time": "2022-05-12T12:58:09.561Z"
   },
   {
    "duration": 16,
    "start_time": "2022-05-12T12:58:10.178Z"
   },
   {
    "duration": 4,
    "start_time": "2022-05-12T13:04:08.569Z"
   },
   {
    "duration": 428,
    "start_time": "2022-05-12T13:04:08.575Z"
   },
   {
    "duration": 44,
    "start_time": "2022-05-12T13:04:09.006Z"
   },
   {
    "duration": 24,
    "start_time": "2022-05-12T13:04:09.054Z"
   },
   {
    "duration": 32,
    "start_time": "2022-05-12T13:04:09.082Z"
   },
   {
    "duration": 78,
    "start_time": "2022-05-12T13:04:09.119Z"
   },
   {
    "duration": 96,
    "start_time": "2022-05-12T13:04:09.200Z"
   },
   {
    "duration": 9,
    "start_time": "2022-05-12T13:04:09.301Z"
   },
   {
    "duration": 28,
    "start_time": "2022-05-12T13:04:09.313Z"
   },
   {
    "duration": 103,
    "start_time": "2022-05-12T13:04:09.343Z"
   },
   {
    "duration": 18,
    "start_time": "2022-05-12T13:04:09.448Z"
   },
   {
    "duration": 8,
    "start_time": "2022-05-12T13:04:09.468Z"
   },
   {
    "duration": 75,
    "start_time": "2022-05-12T13:04:09.488Z"
   },
   {
    "duration": 67,
    "start_time": "2022-05-12T13:04:09.565Z"
   },
   {
    "duration": 590,
    "start_time": "2022-05-12T13:04:09.635Z"
   },
   {
    "duration": 30,
    "start_time": "2022-05-12T13:04:10.227Z"
   },
   {
    "duration": 36,
    "start_time": "2022-05-12T13:04:10.259Z"
   },
   {
    "duration": 98,
    "start_time": "2022-05-12T13:04:10.297Z"
   },
   {
    "duration": 7,
    "start_time": "2022-05-12T13:04:10.397Z"
   },
   {
    "duration": 33,
    "start_time": "2022-05-12T13:04:10.406Z"
   },
   {
    "duration": 159,
    "start_time": "2022-05-12T13:04:10.441Z"
   },
   {
    "duration": 150,
    "start_time": "2022-05-12T13:04:10.603Z"
   },
   {
    "duration": 45,
    "start_time": "2022-05-12T13:04:10.755Z"
   },
   {
    "duration": 62,
    "start_time": "2022-05-12T13:04:10.803Z"
   },
   {
    "duration": 83,
    "start_time": "2022-05-12T13:04:10.868Z"
   },
   {
    "duration": 18,
    "start_time": "2022-05-12T13:04:10.953Z"
   },
   {
    "duration": 17,
    "start_time": "2022-05-12T13:04:10.987Z"
   },
   {
    "duration": 39,
    "start_time": "2022-05-12T13:04:11.007Z"
   },
   {
    "duration": 15,
    "start_time": "2022-05-12T13:04:11.049Z"
   },
   {
    "duration": 121,
    "start_time": "2022-05-12T16:50:47.464Z"
   },
   {
    "duration": 40,
    "start_time": "2022-05-12T16:50:52.069Z"
   },
   {
    "duration": 55,
    "start_time": "2022-05-18T08:07:25.818Z"
   },
   {
    "duration": 1812,
    "start_time": "2022-05-18T08:11:08.252Z"
   },
   {
    "duration": 702,
    "start_time": "2022-05-18T08:11:10.067Z"
   },
   {
    "duration": 23,
    "start_time": "2022-05-18T08:11:10.774Z"
   },
   {
    "duration": 8,
    "start_time": "2022-05-18T08:11:10.799Z"
   },
   {
    "duration": 15,
    "start_time": "2022-05-18T08:11:10.809Z"
   },
   {
    "duration": 80,
    "start_time": "2022-05-18T08:11:10.838Z"
   },
   {
    "duration": 91,
    "start_time": "2022-05-18T08:11:10.920Z"
   },
   {
    "duration": 20,
    "start_time": "2022-05-18T08:11:11.013Z"
   },
   {
    "duration": 45,
    "start_time": "2022-05-18T08:11:11.037Z"
   },
   {
    "duration": 100,
    "start_time": "2022-05-18T08:11:11.084Z"
   },
   {
    "duration": 20,
    "start_time": "2022-05-18T08:11:11.186Z"
   },
   {
    "duration": 8,
    "start_time": "2022-05-18T08:11:11.207Z"
   },
   {
    "duration": 84,
    "start_time": "2022-05-18T08:11:11.217Z"
   },
   {
    "duration": 53,
    "start_time": "2022-05-18T08:11:11.302Z"
   },
   {
    "duration": 822,
    "start_time": "2022-05-18T08:11:11.357Z"
   },
   {
    "duration": 37,
    "start_time": "2022-05-18T08:11:12.182Z"
   },
   {
    "duration": 47,
    "start_time": "2022-05-18T08:11:12.221Z"
   },
   {
    "duration": 76,
    "start_time": "2022-05-18T08:11:12.273Z"
   },
   {
    "duration": 5,
    "start_time": "2022-05-18T08:11:12.350Z"
   },
   {
    "duration": 33,
    "start_time": "2022-05-18T08:11:12.357Z"
   },
   {
    "duration": 54,
    "start_time": "2022-05-18T08:11:12.392Z"
   },
   {
    "duration": 66,
    "start_time": "2022-05-18T08:11:12.449Z"
   },
   {
    "duration": 19,
    "start_time": "2022-05-18T08:11:12.516Z"
   },
   {
    "duration": 273,
    "start_time": "2022-05-18T08:11:12.537Z"
   },
   {
    "duration": 201,
    "start_time": "2022-05-18T08:11:12.812Z"
   },
   {
    "duration": 61,
    "start_time": "2022-05-18T08:11:13.015Z"
   },
   {
    "duration": 68,
    "start_time": "2022-05-18T08:11:13.078Z"
   },
   {
    "duration": 9,
    "start_time": "2022-05-18T08:11:13.149Z"
   },
   {
    "duration": 503,
    "start_time": "2022-05-18T08:11:13.160Z"
   },
   {
    "duration": 8,
    "start_time": "2022-05-18T08:11:13.670Z"
   },
   {
    "duration": 503,
    "start_time": "2022-05-18T08:11:13.680Z"
   },
   {
    "duration": 3,
    "start_time": "2022-05-18T08:11:37.307Z"
   },
   {
    "duration": 226,
    "start_time": "2022-05-18T08:11:37.312Z"
   },
   {
    "duration": 41,
    "start_time": "2022-05-18T08:11:37.540Z"
   },
   {
    "duration": 7,
    "start_time": "2022-05-18T08:11:37.582Z"
   },
   {
    "duration": 17,
    "start_time": "2022-05-18T08:11:37.591Z"
   },
   {
    "duration": 94,
    "start_time": "2022-05-18T08:11:37.609Z"
   },
   {
    "duration": 64,
    "start_time": "2022-05-18T08:11:37.705Z"
   },
   {
    "duration": 8,
    "start_time": "2022-05-18T08:11:37.777Z"
   },
   {
    "duration": 20,
    "start_time": "2022-05-18T08:11:37.787Z"
   },
   {
    "duration": 103,
    "start_time": "2022-05-18T08:11:37.809Z"
   },
   {
    "duration": 43,
    "start_time": "2022-05-18T08:11:37.913Z"
   },
   {
    "duration": 28,
    "start_time": "2022-05-18T08:11:37.961Z"
   },
   {
    "duration": 70,
    "start_time": "2022-05-18T08:11:37.991Z"
   },
   {
    "duration": 40,
    "start_time": "2022-05-18T08:11:38.065Z"
   },
   {
    "duration": 161,
    "start_time": "2022-05-18T08:11:38.107Z"
   },
   {
    "duration": 0,
    "start_time": "2022-05-18T08:11:38.273Z"
   },
   {
    "duration": 0,
    "start_time": "2022-05-18T08:11:38.274Z"
   },
   {
    "duration": 0,
    "start_time": "2022-05-18T08:11:38.275Z"
   },
   {
    "duration": 0,
    "start_time": "2022-05-18T08:11:38.276Z"
   },
   {
    "duration": 0,
    "start_time": "2022-05-18T08:11:38.278Z"
   },
   {
    "duration": 1,
    "start_time": "2022-05-18T08:11:38.278Z"
   },
   {
    "duration": 0,
    "start_time": "2022-05-18T08:11:38.280Z"
   },
   {
    "duration": 0,
    "start_time": "2022-05-18T08:11:38.281Z"
   },
   {
    "duration": 0,
    "start_time": "2022-05-18T08:11:38.282Z"
   },
   {
    "duration": 0,
    "start_time": "2022-05-18T08:11:38.283Z"
   },
   {
    "duration": 0,
    "start_time": "2022-05-18T08:11:38.284Z"
   },
   {
    "duration": 0,
    "start_time": "2022-05-18T08:11:38.285Z"
   },
   {
    "duration": 0,
    "start_time": "2022-05-18T08:11:38.286Z"
   },
   {
    "duration": 0,
    "start_time": "2022-05-18T08:11:38.287Z"
   },
   {
    "duration": 0,
    "start_time": "2022-05-18T08:11:38.288Z"
   },
   {
    "duration": 0,
    "start_time": "2022-05-18T08:11:38.290Z"
   },
   {
    "duration": 3,
    "start_time": "2022-05-18T08:13:39.680Z"
   },
   {
    "duration": 237,
    "start_time": "2022-05-18T08:13:39.948Z"
   },
   {
    "duration": 20,
    "start_time": "2022-05-18T08:13:40.187Z"
   },
   {
    "duration": 24,
    "start_time": "2022-05-18T08:13:40.209Z"
   },
   {
    "duration": 53,
    "start_time": "2022-05-18T08:13:40.241Z"
   },
   {
    "duration": 79,
    "start_time": "2022-05-18T08:13:40.297Z"
   },
   {
    "duration": 64,
    "start_time": "2022-05-18T08:13:40.379Z"
   },
   {
    "duration": 8,
    "start_time": "2022-05-18T08:13:40.445Z"
   },
   {
    "duration": 46,
    "start_time": "2022-05-18T08:13:40.455Z"
   },
   {
    "duration": 92,
    "start_time": "2022-05-18T08:13:40.503Z"
   },
   {
    "duration": 19,
    "start_time": "2022-05-18T08:13:40.597Z"
   },
   {
    "duration": 28,
    "start_time": "2022-05-18T08:13:40.617Z"
   },
   {
    "duration": 85,
    "start_time": "2022-05-18T08:13:40.646Z"
   },
   {
    "duration": 55,
    "start_time": "2022-05-18T08:13:40.733Z"
   },
   {
    "duration": 17,
    "start_time": "2022-05-18T08:13:40.791Z"
   },
   {
    "duration": 0,
    "start_time": "2022-05-18T08:13:40.810Z"
   },
   {
    "duration": 0,
    "start_time": "2022-05-18T08:13:40.812Z"
   },
   {
    "duration": 0,
    "start_time": "2022-05-18T08:13:40.813Z"
   },
   {
    "duration": 0,
    "start_time": "2022-05-18T08:13:40.814Z"
   },
   {
    "duration": 0,
    "start_time": "2022-05-18T08:13:40.829Z"
   },
   {
    "duration": 0,
    "start_time": "2022-05-18T08:13:40.831Z"
   },
   {
    "duration": 0,
    "start_time": "2022-05-18T08:13:40.852Z"
   },
   {
    "duration": 0,
    "start_time": "2022-05-18T08:13:40.853Z"
   },
   {
    "duration": 0,
    "start_time": "2022-05-18T08:13:40.853Z"
   },
   {
    "duration": 0,
    "start_time": "2022-05-18T08:13:40.859Z"
   },
   {
    "duration": 0,
    "start_time": "2022-05-18T08:13:40.860Z"
   },
   {
    "duration": 0,
    "start_time": "2022-05-18T08:13:40.862Z"
   },
   {
    "duration": 0,
    "start_time": "2022-05-18T08:13:40.863Z"
   },
   {
    "duration": 0,
    "start_time": "2022-05-18T08:13:40.864Z"
   },
   {
    "duration": 0,
    "start_time": "2022-05-18T08:13:40.865Z"
   },
   {
    "duration": 0,
    "start_time": "2022-05-18T08:13:40.866Z"
   },
   {
    "duration": 4,
    "start_time": "2022-05-18T08:15:27.613Z"
   },
   {
    "duration": 259,
    "start_time": "2022-05-18T08:15:27.621Z"
   },
   {
    "duration": 19,
    "start_time": "2022-05-18T08:15:27.882Z"
   },
   {
    "duration": 24,
    "start_time": "2022-05-18T08:15:27.903Z"
   },
   {
    "duration": 26,
    "start_time": "2022-05-18T08:15:27.931Z"
   },
   {
    "duration": 81,
    "start_time": "2022-05-18T08:15:27.958Z"
   },
   {
    "duration": 68,
    "start_time": "2022-05-18T08:15:28.045Z"
   },
   {
    "duration": 16,
    "start_time": "2022-05-18T08:15:28.115Z"
   },
   {
    "duration": 55,
    "start_time": "2022-05-18T08:15:28.133Z"
   },
   {
    "duration": 94,
    "start_time": "2022-05-18T08:15:28.190Z"
   },
   {
    "duration": 17,
    "start_time": "2022-05-18T08:15:28.286Z"
   },
   {
    "duration": 7,
    "start_time": "2022-05-18T08:15:28.305Z"
   },
   {
    "duration": 75,
    "start_time": "2022-05-18T08:15:28.327Z"
   },
   {
    "duration": 57,
    "start_time": "2022-05-18T08:15:28.404Z"
   },
   {
    "duration": 540,
    "start_time": "2022-05-18T08:15:28.470Z"
   },
   {
    "duration": 52,
    "start_time": "2022-05-18T08:15:29.012Z"
   },
   {
    "duration": 28,
    "start_time": "2022-05-18T08:15:29.066Z"
   },
   {
    "duration": 77,
    "start_time": "2022-05-18T08:15:29.096Z"
   },
   {
    "duration": 5,
    "start_time": "2022-05-18T08:15:29.175Z"
   },
   {
    "duration": 15,
    "start_time": "2022-05-18T08:15:29.181Z"
   },
   {
    "duration": 49,
    "start_time": "2022-05-18T08:15:29.197Z"
   },
   {
    "duration": 99,
    "start_time": "2022-05-18T08:15:29.248Z"
   },
   {
    "duration": 16,
    "start_time": "2022-05-18T08:15:29.349Z"
   },
   {
    "duration": 272,
    "start_time": "2022-05-18T08:15:29.366Z"
   },
   {
    "duration": 28,
    "start_time": "2022-05-18T08:15:29.648Z"
   },
   {
    "duration": 112,
    "start_time": "2022-05-18T08:15:29.678Z"
   },
   {
    "duration": 64,
    "start_time": "2022-05-18T08:15:29.792Z"
   },
   {
    "duration": 15,
    "start_time": "2022-05-18T08:15:29.861Z"
   },
   {
    "duration": 425,
    "start_time": "2022-05-18T08:15:29.879Z"
   },
   {
    "duration": 4,
    "start_time": "2022-05-18T08:15:30.305Z"
   },
   {
    "duration": 557,
    "start_time": "2022-05-18T08:15:30.311Z"
   },
   {
    "duration": 9,
    "start_time": "2022-05-18T08:19:25.880Z"
   },
   {
    "duration": 13,
    "start_time": "2022-05-18T08:21:02.601Z"
   },
   {
    "duration": 5,
    "start_time": "2022-05-18T08:21:13.858Z"
   },
   {
    "duration": 8,
    "start_time": "2022-05-18T08:22:12.616Z"
   },
   {
    "duration": 16,
    "start_time": "2022-05-18T08:22:23.682Z"
   },
   {
    "duration": 20,
    "start_time": "2022-05-18T08:22:54.187Z"
   },
   {
    "duration": 25,
    "start_time": "2022-05-18T08:22:57.417Z"
   },
   {
    "duration": 56,
    "start_time": "2022-05-18T08:23:36.721Z"
   },
   {
    "duration": 27,
    "start_time": "2022-05-18T08:28:33.285Z"
   },
   {
    "duration": 21,
    "start_time": "2022-05-18T08:29:38.369Z"
   },
   {
    "duration": 9,
    "start_time": "2022-05-18T08:29:42.867Z"
   },
   {
    "duration": 344,
    "start_time": "2022-05-18T08:29:42.882Z"
   },
   {
    "duration": 35,
    "start_time": "2022-05-18T08:29:43.230Z"
   },
   {
    "duration": 13,
    "start_time": "2022-05-18T08:29:43.268Z"
   },
   {
    "duration": 16,
    "start_time": "2022-05-18T08:29:43.284Z"
   },
   {
    "duration": 83,
    "start_time": "2022-05-18T08:29:43.302Z"
   },
   {
    "duration": 112,
    "start_time": "2022-05-18T08:29:43.388Z"
   },
   {
    "duration": 9,
    "start_time": "2022-05-18T08:29:43.501Z"
   },
   {
    "duration": 58,
    "start_time": "2022-05-18T08:29:43.514Z"
   },
   {
    "duration": 116,
    "start_time": "2022-05-18T08:29:43.578Z"
   },
   {
    "duration": 18,
    "start_time": "2022-05-18T08:29:43.696Z"
   },
   {
    "duration": 33,
    "start_time": "2022-05-18T08:29:43.715Z"
   },
   {
    "duration": 74,
    "start_time": "2022-05-18T08:29:43.751Z"
   },
   {
    "duration": 54,
    "start_time": "2022-05-18T08:29:43.827Z"
   },
   {
    "duration": 548,
    "start_time": "2022-05-18T08:29:43.882Z"
   },
   {
    "duration": 49,
    "start_time": "2022-05-18T08:29:44.432Z"
   },
   {
    "duration": 29,
    "start_time": "2022-05-18T08:29:45.452Z"
   },
   {
    "duration": 45,
    "start_time": "2022-05-18T08:35:58.227Z"
   },
   {
    "duration": 3,
    "start_time": "2022-05-18T08:36:00.275Z"
   },
   {
    "duration": 32,
    "start_time": "2022-05-18T08:36:00.751Z"
   },
   {
    "duration": 30,
    "start_time": "2022-05-18T08:36:39.968Z"
   },
   {
    "duration": 15,
    "start_time": "2022-05-18T08:37:49.492Z"
   },
   {
    "duration": 82,
    "start_time": "2022-05-18T08:41:31.119Z"
   },
   {
    "duration": 75,
    "start_time": "2022-05-18T08:43:35.819Z"
   },
   {
    "duration": 100,
    "start_time": "2022-05-18T08:44:03.552Z"
   },
   {
    "duration": 82,
    "start_time": "2022-05-18T08:44:29.134Z"
   },
   {
    "duration": 91,
    "start_time": "2022-05-18T08:44:32.958Z"
   },
   {
    "duration": 200,
    "start_time": "2022-05-18T08:44:37.596Z"
   },
   {
    "duration": 88,
    "start_time": "2022-05-18T08:45:13.085Z"
   },
   {
    "duration": 45,
    "start_time": "2022-05-18T08:45:36.823Z"
   },
   {
    "duration": 103,
    "start_time": "2022-05-18T08:45:43.157Z"
   },
   {
    "duration": 41,
    "start_time": "2022-05-18T08:45:56.557Z"
   },
   {
    "duration": 44,
    "start_time": "2022-05-18T08:46:00.845Z"
   },
   {
    "duration": 83,
    "start_time": "2022-05-18T08:47:16.515Z"
   },
   {
    "duration": 94,
    "start_time": "2022-05-18T08:47:19.454Z"
   },
   {
    "duration": 102,
    "start_time": "2022-05-18T08:48:34.199Z"
   },
   {
    "duration": 123,
    "start_time": "2022-05-18T08:48:41.670Z"
   },
   {
    "duration": 11,
    "start_time": "2022-05-18T08:49:26.062Z"
   },
   {
    "duration": 267,
    "start_time": "2022-05-18T08:49:26.076Z"
   },
   {
    "duration": 22,
    "start_time": "2022-05-18T08:49:26.347Z"
   },
   {
    "duration": 8,
    "start_time": "2022-05-18T08:49:26.371Z"
   },
   {
    "duration": 15,
    "start_time": "2022-05-18T08:49:26.383Z"
   },
   {
    "duration": 80,
    "start_time": "2022-05-18T08:49:26.400Z"
   },
   {
    "duration": 79,
    "start_time": "2022-05-18T08:49:26.481Z"
   },
   {
    "duration": 8,
    "start_time": "2022-05-18T08:49:26.562Z"
   },
   {
    "duration": 21,
    "start_time": "2022-05-18T08:49:26.572Z"
   },
   {
    "duration": 93,
    "start_time": "2022-05-18T08:49:26.595Z"
   },
   {
    "duration": 19,
    "start_time": "2022-05-18T08:49:26.689Z"
   },
   {
    "duration": 40,
    "start_time": "2022-05-18T08:49:26.709Z"
   },
   {
    "duration": 37,
    "start_time": "2022-05-18T08:49:26.753Z"
   },
   {
    "duration": 40,
    "start_time": "2022-05-18T08:49:26.793Z"
   },
   {
    "duration": 513,
    "start_time": "2022-05-18T08:49:26.841Z"
   },
   {
    "duration": 41,
    "start_time": "2022-05-18T08:49:27.361Z"
   },
   {
    "duration": 3,
    "start_time": "2022-05-18T08:49:27.404Z"
   },
   {
    "duration": 127,
    "start_time": "2022-05-18T08:49:27.409Z"
   },
   {
    "duration": 69,
    "start_time": "2022-05-18T08:49:27.539Z"
   },
   {
    "duration": 4,
    "start_time": "2022-05-18T08:49:27.610Z"
   },
   {
    "duration": 30,
    "start_time": "2022-05-18T08:49:27.635Z"
   },
   {
    "duration": 31,
    "start_time": "2022-05-18T08:49:27.666Z"
   },
   {
    "duration": 64,
    "start_time": "2022-05-18T08:49:27.699Z"
   },
   {
    "duration": 13,
    "start_time": "2022-05-18T08:49:27.765Z"
   },
   {
    "duration": 222,
    "start_time": "2022-05-18T08:49:27.780Z"
   },
   {
    "duration": 43,
    "start_time": "2022-05-18T08:49:28.004Z"
   },
   {
    "duration": 63,
    "start_time": "2022-05-18T08:49:28.049Z"
   },
   {
    "duration": 45,
    "start_time": "2022-05-18T08:49:28.113Z"
   },
   {
    "duration": 13,
    "start_time": "2022-05-18T08:49:28.162Z"
   },
   {
    "duration": 402,
    "start_time": "2022-05-18T08:49:28.178Z"
   },
   {
    "duration": 5,
    "start_time": "2022-05-18T08:49:28.581Z"
   },
   {
    "duration": 426,
    "start_time": "2022-05-18T08:49:28.588Z"
   },
   {
    "duration": 25,
    "start_time": "2022-05-18T08:50:39.573Z"
   },
   {
    "duration": 9,
    "start_time": "2022-05-18T08:50:52.872Z"
   },
   {
    "duration": 1081,
    "start_time": "2022-07-11T21:29:20.432Z"
   },
   {
    "duration": 545,
    "start_time": "2022-07-11T21:29:21.517Z"
   },
   {
    "duration": 18,
    "start_time": "2022-07-11T21:29:22.064Z"
   },
   {
    "duration": 8,
    "start_time": "2022-07-11T21:29:22.084Z"
   },
   {
    "duration": 12,
    "start_time": "2022-07-11T21:29:22.094Z"
   },
   {
    "duration": 74,
    "start_time": "2022-07-11T21:29:22.107Z"
   },
   {
    "duration": 72,
    "start_time": "2022-07-11T21:29:22.183Z"
   },
   {
    "duration": 8,
    "start_time": "2022-07-11T21:29:22.257Z"
   },
   {
    "duration": 33,
    "start_time": "2022-07-11T21:29:22.267Z"
   },
   {
    "duration": 70,
    "start_time": "2022-07-11T21:29:22.303Z"
   },
   {
    "duration": 20,
    "start_time": "2022-07-11T21:29:22.374Z"
   },
   {
    "duration": 6,
    "start_time": "2022-07-11T21:29:22.396Z"
   },
   {
    "duration": 47,
    "start_time": "2022-07-11T21:29:22.404Z"
   },
   {
    "duration": 45,
    "start_time": "2022-07-11T21:29:22.454Z"
   },
   {
    "duration": 593,
    "start_time": "2022-07-11T21:29:22.501Z"
   },
   {
    "duration": 31,
    "start_time": "2022-07-11T21:29:23.095Z"
   },
   {
    "duration": 15,
    "start_time": "2022-07-11T21:29:23.128Z"
   },
   {
    "duration": 83,
    "start_time": "2022-07-11T21:29:23.145Z"
   },
   {
    "duration": 4,
    "start_time": "2022-07-11T21:29:23.243Z"
   },
   {
    "duration": 10,
    "start_time": "2022-07-11T21:29:23.248Z"
   },
   {
    "duration": 26,
    "start_time": "2022-07-11T21:29:23.260Z"
   },
   {
    "duration": 72,
    "start_time": "2022-07-11T21:29:23.288Z"
   },
   {
    "duration": 11,
    "start_time": "2022-07-11T21:29:23.361Z"
   },
   {
    "duration": 216,
    "start_time": "2022-07-11T21:29:23.374Z"
   },
   {
    "duration": 166,
    "start_time": "2022-07-11T21:29:23.591Z"
   },
   {
    "duration": 32,
    "start_time": "2022-07-11T21:29:23.758Z"
   },
   {
    "duration": 67,
    "start_time": "2022-07-11T21:29:23.791Z"
   },
   {
    "duration": 4,
    "start_time": "2022-07-11T21:29:23.861Z"
   },
   {
    "duration": 618,
    "start_time": "2022-07-11T21:29:23.867Z"
   },
   {
    "duration": 56,
    "start_time": "2022-07-11T21:29:24.487Z"
   },
   {
    "duration": 798,
    "start_time": "2022-07-11T21:29:24.545Z"
   },
   {
    "duration": 8,
    "start_time": "2022-07-11T21:30:25.901Z"
   },
   {
    "duration": 7,
    "start_time": "2022-07-11T21:43:14.194Z"
   },
   {
    "duration": 7,
    "start_time": "2022-07-11T21:43:19.854Z"
   },
   {
    "duration": 6,
    "start_time": "2022-07-11T21:43:26.567Z"
   },
   {
    "duration": 8,
    "start_time": "2022-07-11T21:43:32.415Z"
   },
   {
    "duration": 9,
    "start_time": "2022-07-11T21:43:45.024Z"
   },
   {
    "duration": 46,
    "start_time": "2022-07-12T16:06:34.312Z"
   },
   {
    "duration": 1120,
    "start_time": "2022-07-12T16:06:39.705Z"
   },
   {
    "duration": 516,
    "start_time": "2022-07-12T16:06:40.827Z"
   },
   {
    "duration": 20,
    "start_time": "2022-07-12T16:06:41.345Z"
   },
   {
    "duration": 6,
    "start_time": "2022-07-12T16:06:41.367Z"
   },
   {
    "duration": 52,
    "start_time": "2022-07-12T16:06:41.376Z"
   },
   {
    "duration": 139,
    "start_time": "2022-07-12T16:06:41.430Z"
   },
   {
    "duration": 167,
    "start_time": "2022-07-12T16:06:41.571Z"
   },
   {
    "duration": 7,
    "start_time": "2022-07-12T16:06:41.740Z"
   },
   {
    "duration": 21,
    "start_time": "2022-07-12T16:06:41.749Z"
   },
   {
    "duration": 253,
    "start_time": "2022-07-12T16:06:41.772Z"
   },
   {
    "duration": 31,
    "start_time": "2022-07-12T16:06:42.027Z"
   },
   {
    "duration": 65,
    "start_time": "2022-07-12T16:06:42.061Z"
   },
   {
    "duration": 97,
    "start_time": "2022-07-12T16:06:42.128Z"
   },
   {
    "duration": 32,
    "start_time": "2022-07-12T16:06:42.227Z"
   },
   {
    "duration": 10,
    "start_time": "2022-07-12T16:06:42.261Z"
   },
   {
    "duration": 940,
    "start_time": "2022-07-12T16:06:42.325Z"
   },
   {
    "duration": 100,
    "start_time": "2022-07-12T16:06:43.267Z"
   },
   {
    "duration": 56,
    "start_time": "2022-07-12T16:06:43.370Z"
   },
   {
    "duration": 199,
    "start_time": "2022-07-12T16:06:43.428Z"
   },
   {
    "duration": 6,
    "start_time": "2022-07-12T16:06:43.629Z"
   },
   {
    "duration": 20,
    "start_time": "2022-07-12T16:06:43.637Z"
   },
   {
    "duration": 90,
    "start_time": "2022-07-12T16:06:43.659Z"
   },
   {
    "duration": 173,
    "start_time": "2022-07-12T16:06:43.751Z"
   },
   {
    "duration": 20,
    "start_time": "2022-07-12T16:06:43.926Z"
   },
   {
    "duration": 11,
    "start_time": "2022-07-12T16:06:43.948Z"
   },
   {
    "duration": 482,
    "start_time": "2022-07-12T16:06:43.960Z"
   },
   {
    "duration": 10,
    "start_time": "2022-07-12T16:06:44.444Z"
   },
   {
    "duration": 288,
    "start_time": "2022-07-12T16:06:44.459Z"
   },
   {
    "duration": 91,
    "start_time": "2022-07-12T16:06:44.749Z"
   },
   {
    "duration": 21,
    "start_time": "2022-07-12T16:06:44.842Z"
   },
   {
    "duration": 5,
    "start_time": "2022-07-12T16:06:44.865Z"
   },
   {
    "duration": 718,
    "start_time": "2022-07-12T16:06:44.925Z"
   },
   {
    "duration": 4,
    "start_time": "2022-07-12T16:06:45.645Z"
   },
   {
    "duration": 384,
    "start_time": "2022-07-12T16:06:45.650Z"
   },
   {
    "duration": 1311,
    "start_time": "2022-07-13T12:03:50.597Z"
   },
   {
    "duration": 584,
    "start_time": "2022-07-13T12:03:51.913Z"
   },
   {
    "duration": 36,
    "start_time": "2022-07-13T12:03:52.500Z"
   },
   {
    "duration": 10,
    "start_time": "2022-07-13T12:03:52.539Z"
   },
   {
    "duration": 36,
    "start_time": "2022-07-13T12:03:52.552Z"
   },
   {
    "duration": 106,
    "start_time": "2022-07-13T12:03:52.591Z"
   },
   {
    "duration": 87,
    "start_time": "2022-07-13T12:03:52.699Z"
   },
   {
    "duration": 9,
    "start_time": "2022-07-13T12:03:52.788Z"
   },
   {
    "duration": 23,
    "start_time": "2022-07-13T12:03:52.799Z"
   },
   {
    "duration": 90,
    "start_time": "2022-07-13T12:03:52.825Z"
   },
   {
    "duration": 32,
    "start_time": "2022-07-13T12:03:52.917Z"
   },
   {
    "duration": 9,
    "start_time": "2022-07-13T12:03:52.950Z"
   },
   {
    "duration": 36,
    "start_time": "2022-07-13T12:03:52.961Z"
   },
   {
    "duration": 76,
    "start_time": "2022-07-13T12:03:52.999Z"
   },
   {
    "duration": 781,
    "start_time": "2022-07-13T12:03:53.078Z"
   },
   {
    "duration": 106,
    "start_time": "2022-07-13T12:03:53.861Z"
   },
   {
    "duration": 5,
    "start_time": "2022-07-13T12:03:53.969Z"
   },
   {
    "duration": 308,
    "start_time": "2022-07-13T12:03:53.976Z"
   },
   {
    "duration": 60,
    "start_time": "2022-07-13T12:03:54.286Z"
   },
   {
    "duration": 10,
    "start_time": "2022-07-13T12:03:54.349Z"
   },
   {
    "duration": 98,
    "start_time": "2022-07-13T12:03:54.362Z"
   },
   {
    "duration": 113,
    "start_time": "2022-07-13T12:03:54.462Z"
   },
   {
    "duration": 14,
    "start_time": "2022-07-13T12:03:54.576Z"
   },
   {
    "duration": 62,
    "start_time": "2022-07-13T12:03:54.592Z"
   },
   {
    "duration": 432,
    "start_time": "2022-07-13T12:03:54.657Z"
   },
   {
    "duration": 62,
    "start_time": "2022-07-13T12:03:55.091Z"
   },
   {
    "duration": 335,
    "start_time": "2022-07-13T12:03:55.155Z"
   },
   {
    "duration": 79,
    "start_time": "2022-07-13T12:03:55.495Z"
   },
   {
    "duration": 82,
    "start_time": "2022-07-13T12:03:55.575Z"
   },
   {
    "duration": 7,
    "start_time": "2022-07-13T12:03:55.659Z"
   },
   {
    "duration": 469,
    "start_time": "2022-07-13T12:03:55.668Z"
   },
   {
    "duration": 5,
    "start_time": "2022-07-13T12:03:56.145Z"
   },
   {
    "duration": 450,
    "start_time": "2022-07-13T12:03:56.153Z"
   },
   {
    "duration": 1181,
    "start_time": "2022-08-01T20:31:32.708Z"
   },
   {
    "duration": 734,
    "start_time": "2022-08-01T20:31:33.891Z"
   },
   {
    "duration": 27,
    "start_time": "2022-08-01T20:31:34.626Z"
   },
   {
    "duration": 7,
    "start_time": "2022-08-01T20:31:34.656Z"
   },
   {
    "duration": 12,
    "start_time": "2022-08-01T20:31:34.665Z"
   },
   {
    "duration": 75,
    "start_time": "2022-08-01T20:31:34.679Z"
   },
   {
    "duration": 60,
    "start_time": "2022-08-01T20:31:34.756Z"
   },
   {
    "duration": 19,
    "start_time": "2022-08-01T20:31:34.818Z"
   },
   {
    "duration": 19,
    "start_time": "2022-08-01T20:31:34.839Z"
   },
   {
    "duration": 74,
    "start_time": "2022-08-01T20:31:34.860Z"
   },
   {
    "duration": 23,
    "start_time": "2022-08-01T20:31:34.935Z"
   },
   {
    "duration": 7,
    "start_time": "2022-08-01T20:31:34.959Z"
   },
   {
    "duration": 28,
    "start_time": "2022-08-01T20:31:34.967Z"
   },
   {
    "duration": 48,
    "start_time": "2022-08-01T20:31:34.997Z"
   },
   {
    "duration": 540,
    "start_time": "2022-08-01T20:31:35.047Z"
   },
   {
    "duration": 28,
    "start_time": "2022-08-01T20:31:35.589Z"
   },
   {
    "duration": 3,
    "start_time": "2022-08-01T20:31:35.618Z"
   },
   {
    "duration": 116,
    "start_time": "2022-08-01T20:31:35.633Z"
   },
   {
    "duration": 3,
    "start_time": "2022-08-01T20:31:35.751Z"
   },
   {
    "duration": 19,
    "start_time": "2022-08-01T20:31:35.755Z"
   },
   {
    "duration": 31,
    "start_time": "2022-08-01T20:31:35.776Z"
   },
   {
    "duration": 54,
    "start_time": "2022-08-01T20:31:35.808Z"
   },
   {
    "duration": 11,
    "start_time": "2022-08-01T20:31:35.863Z"
   },
   {
    "duration": 12,
    "start_time": "2022-08-01T20:31:35.875Z"
   },
   {
    "duration": 182,
    "start_time": "2022-08-01T20:31:35.888Z"
   },
   {
    "duration": 7,
    "start_time": "2022-08-01T20:31:36.071Z"
   },
   {
    "duration": 239,
    "start_time": "2022-08-01T20:31:36.079Z"
   },
   {
    "duration": 51,
    "start_time": "2022-08-01T20:31:36.322Z"
   },
   {
    "duration": 88,
    "start_time": "2022-08-01T20:31:36.375Z"
   },
   {
    "duration": 7,
    "start_time": "2022-08-01T20:31:36.465Z"
   },
   {
    "duration": 599,
    "start_time": "2022-08-01T20:31:36.474Z"
   },
   {
    "duration": 4,
    "start_time": "2022-08-01T20:31:37.075Z"
   },
   {
    "duration": 918,
    "start_time": "2022-08-01T20:31:37.137Z"
   },
   {
    "duration": 4,
    "start_time": "2022-08-01T20:34:52.300Z"
   },
   {
    "duration": 191,
    "start_time": "2022-08-01T20:34:52.306Z"
   },
   {
    "duration": 17,
    "start_time": "2022-08-01T20:34:52.499Z"
   },
   {
    "duration": 16,
    "start_time": "2022-08-01T20:34:52.518Z"
   },
   {
    "duration": 16,
    "start_time": "2022-08-01T20:34:52.536Z"
   },
   {
    "duration": 53,
    "start_time": "2022-08-01T20:34:52.554Z"
   },
   {
    "duration": 69,
    "start_time": "2022-08-01T20:34:52.609Z"
   },
   {
    "duration": 7,
    "start_time": "2022-08-01T20:34:52.680Z"
   },
   {
    "duration": 18,
    "start_time": "2022-08-01T20:34:52.689Z"
   },
   {
    "duration": 87,
    "start_time": "2022-08-01T20:34:52.708Z"
   },
   {
    "duration": 17,
    "start_time": "2022-08-01T20:34:52.796Z"
   },
   {
    "duration": 28,
    "start_time": "2022-08-01T20:34:52.815Z"
   },
   {
    "duration": 29,
    "start_time": "2022-08-01T20:34:52.845Z"
   },
   {
    "duration": 22,
    "start_time": "2022-08-01T20:34:52.876Z"
   },
   {
    "duration": 462,
    "start_time": "2022-08-01T20:34:52.899Z"
   },
   {
    "duration": 23,
    "start_time": "2022-08-01T20:34:53.363Z"
   },
   {
    "duration": 3,
    "start_time": "2022-08-01T20:34:53.388Z"
   },
   {
    "duration": 92,
    "start_time": "2022-08-01T20:34:53.392Z"
   },
   {
    "duration": 3,
    "start_time": "2022-08-01T20:34:53.486Z"
   },
   {
    "duration": 10,
    "start_time": "2022-08-01T20:34:53.490Z"
   },
   {
    "duration": 43,
    "start_time": "2022-08-01T20:34:53.501Z"
   },
   {
    "duration": 50,
    "start_time": "2022-08-01T20:34:53.545Z"
   },
   {
    "duration": 10,
    "start_time": "2022-08-01T20:34:53.597Z"
   },
   {
    "duration": 8,
    "start_time": "2022-08-01T20:34:53.609Z"
   },
   {
    "duration": 171,
    "start_time": "2022-08-01T20:34:53.634Z"
   },
   {
    "duration": 7,
    "start_time": "2022-08-01T20:34:53.807Z"
   },
   {
    "duration": 97,
    "start_time": "2022-08-01T20:34:53.815Z"
   },
   {
    "duration": 34,
    "start_time": "2022-08-01T20:34:53.914Z"
   },
   {
    "duration": 23,
    "start_time": "2022-08-01T20:34:53.950Z"
   },
   {
    "duration": 4,
    "start_time": "2022-08-01T20:34:53.975Z"
   },
   {
    "duration": 307,
    "start_time": "2022-08-01T20:34:53.981Z"
   },
   {
    "duration": 3,
    "start_time": "2022-08-01T20:34:54.290Z"
   },
   {
    "duration": 335,
    "start_time": "2022-08-01T20:34:54.294Z"
   },
   {
    "duration": 3,
    "start_time": "2022-08-01T22:03:25.253Z"
   },
   {
    "duration": 4,
    "start_time": "2022-08-01T22:03:27.333Z"
   },
   {
    "duration": 214,
    "start_time": "2022-08-01T22:03:27.339Z"
   },
   {
    "duration": 17,
    "start_time": "2022-08-01T22:03:27.555Z"
   },
   {
    "duration": 5,
    "start_time": "2022-08-01T22:03:27.573Z"
   },
   {
    "duration": 13,
    "start_time": "2022-08-01T22:03:27.580Z"
   },
   {
    "duration": 73,
    "start_time": "2022-08-01T22:03:27.594Z"
   },
   {
    "duration": 72,
    "start_time": "2022-08-01T22:03:27.669Z"
   },
   {
    "duration": 10,
    "start_time": "2022-08-01T22:03:27.748Z"
   },
   {
    "duration": 24,
    "start_time": "2022-08-01T22:03:27.760Z"
   },
   {
    "duration": 91,
    "start_time": "2022-08-01T22:03:27.786Z"
   },
   {
    "duration": 21,
    "start_time": "2022-08-01T22:03:27.880Z"
   },
   {
    "duration": 8,
    "start_time": "2022-08-01T22:03:27.903Z"
   },
   {
    "duration": 55,
    "start_time": "2022-08-01T22:03:27.912Z"
   },
   {
    "duration": 33,
    "start_time": "2022-08-01T22:03:27.970Z"
   },
   {
    "duration": 496,
    "start_time": "2022-08-01T22:03:28.004Z"
   },
   {
    "duration": 43,
    "start_time": "2022-08-01T22:03:28.501Z"
   },
   {
    "duration": 3,
    "start_time": "2022-08-01T22:03:28.546Z"
   },
   {
    "duration": 78,
    "start_time": "2022-08-01T22:03:28.551Z"
   },
   {
    "duration": 16,
    "start_time": "2022-08-01T22:03:28.630Z"
   },
   {
    "duration": 15,
    "start_time": "2022-08-01T22:03:28.648Z"
   },
   {
    "duration": 26,
    "start_time": "2022-08-01T22:03:28.665Z"
   },
   {
    "duration": 60,
    "start_time": "2022-08-01T22:03:28.693Z"
   },
   {
    "duration": 13,
    "start_time": "2022-08-01T22:03:28.754Z"
   },
   {
    "duration": 9,
    "start_time": "2022-08-01T22:03:28.769Z"
   },
   {
    "duration": 187,
    "start_time": "2022-08-01T22:03:28.780Z"
   },
   {
    "duration": 7,
    "start_time": "2022-08-01T22:03:28.968Z"
   },
   {
    "duration": 12,
    "start_time": "2022-08-01T22:03:28.977Z"
   },
   {
    "duration": 60,
    "start_time": "2022-08-01T22:03:28.990Z"
   },
   {
    "duration": 26,
    "start_time": "2022-08-01T22:03:29.053Z"
   },
   {
    "duration": 5,
    "start_time": "2022-08-01T22:03:29.080Z"
   },
   {
    "duration": 331,
    "start_time": "2022-08-01T22:03:29.087Z"
   },
   {
    "duration": 5,
    "start_time": "2022-08-01T22:03:29.420Z"
   },
   {
    "duration": 339,
    "start_time": "2022-08-01T22:03:29.432Z"
   },
   {
    "duration": 5,
    "start_time": "2022-08-01T23:01:26.907Z"
   },
   {
    "duration": 6,
    "start_time": "2022-08-01T23:01:27.383Z"
   },
   {
    "duration": 3,
    "start_time": "2022-08-01T23:01:30.197Z"
   },
   {
    "duration": 252,
    "start_time": "2022-08-01T23:01:30.202Z"
   },
   {
    "duration": 25,
    "start_time": "2022-08-01T23:01:30.458Z"
   },
   {
    "duration": 7,
    "start_time": "2022-08-01T23:01:30.486Z"
   },
   {
    "duration": 28,
    "start_time": "2022-08-01T23:01:30.496Z"
   },
   {
    "duration": 80,
    "start_time": "2022-08-01T23:01:30.526Z"
   },
   {
    "duration": 62,
    "start_time": "2022-08-01T23:01:30.608Z"
   },
   {
    "duration": 7,
    "start_time": "2022-08-01T23:01:30.672Z"
   },
   {
    "duration": 24,
    "start_time": "2022-08-01T23:01:30.680Z"
   },
   {
    "duration": 95,
    "start_time": "2022-08-01T23:01:30.706Z"
   },
   {
    "duration": 16,
    "start_time": "2022-08-01T23:01:30.804Z"
   },
   {
    "duration": 19,
    "start_time": "2022-08-01T23:01:30.821Z"
   },
   {
    "duration": 47,
    "start_time": "2022-08-01T23:01:30.843Z"
   },
   {
    "duration": 23,
    "start_time": "2022-08-01T23:01:30.892Z"
   },
   {
    "duration": 453,
    "start_time": "2022-08-01T23:01:30.917Z"
   },
   {
    "duration": 23,
    "start_time": "2022-08-01T23:01:31.371Z"
   },
   {
    "duration": 3,
    "start_time": "2022-08-01T23:01:31.396Z"
   },
   {
    "duration": 96,
    "start_time": "2022-08-01T23:01:31.400Z"
   },
   {
    "duration": 4,
    "start_time": "2022-08-01T23:01:31.497Z"
   },
   {
    "duration": 10,
    "start_time": "2022-08-01T23:01:31.502Z"
   },
   {
    "duration": 50,
    "start_time": "2022-08-01T23:01:31.513Z"
   },
   {
    "duration": 49,
    "start_time": "2022-08-01T23:01:31.564Z"
   },
   {
    "duration": 20,
    "start_time": "2022-08-01T23:01:31.615Z"
   },
   {
    "duration": 14,
    "start_time": "2022-08-01T23:01:31.640Z"
   },
   {
    "duration": 177,
    "start_time": "2022-08-01T23:01:31.658Z"
   },
   {
    "duration": 9,
    "start_time": "2022-08-01T23:01:31.839Z"
   },
   {
    "duration": 21,
    "start_time": "2022-08-01T23:01:31.849Z"
   },
   {
    "duration": 8,
    "start_time": "2022-08-01T23:01:31.871Z"
   },
   {
    "duration": 33,
    "start_time": "2022-08-01T23:01:31.882Z"
   },
   {
    "duration": 29,
    "start_time": "2022-08-01T23:01:31.916Z"
   },
   {
    "duration": 9,
    "start_time": "2022-08-01T23:01:31.950Z"
   },
   {
    "duration": 304,
    "start_time": "2022-08-01T23:01:31.964Z"
   },
   {
    "duration": 4,
    "start_time": "2022-08-01T23:01:32.269Z"
   },
   {
    "duration": 342,
    "start_time": "2022-08-01T23:01:32.274Z"
   }
  ],
  "kernelspec": {
   "display_name": "Python 3 (ipykernel)",
   "language": "python",
   "name": "python3"
  },
  "language_info": {
   "codemirror_mode": {
    "name": "ipython",
    "version": 3
   },
   "file_extension": ".py",
   "mimetype": "text/x-python",
   "name": "python",
   "nbconvert_exporter": "python",
   "pygments_lexer": "ipython3",
   "version": "3.9.5"
  },
  "toc": {
   "base_numbering": 1,
   "nav_menu": {},
   "number_sections": true,
   "sideBar": true,
   "skip_h1_title": true,
   "title_cell": "Оглавление",
   "title_sidebar": "Contents",
   "toc_cell": true,
   "toc_position": {
    "height": "calc(100% - 180px)",
    "left": "10px",
    "top": "150px",
    "width": "342.5px"
   },
   "toc_section_display": true,
   "toc_window_display": true
  }
 },
 "nbformat": 4,
 "nbformat_minor": 5
}
