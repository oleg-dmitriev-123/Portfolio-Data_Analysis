{
 "cells": [
  {
   "cell_type": "markdown",
   "metadata": {},
   "source": [
    "# Исследование объявлений о продаже квартир"
   ]
  },
  {
   "cell_type": "markdown",
   "metadata": {
    "toc": true
   },
   "source": [
    "<h1>Содержание<span class=\"tocSkip\"></span></h1>\n",
    "<div class=\"toc\"><ul class=\"toc-item\"><li><span><a href=\"#Описание-проекта\" data-toc-modified-id=\"Описание-проекта-1\"><span class=\"toc-item-num\">1&nbsp;&nbsp;</span>Описание проекта</a></span></li><li><span><a href=\"#Настройка-окружения\" data-toc-modified-id=\"Настройка-окружения-2\"><span class=\"toc-item-num\">2&nbsp;&nbsp;</span>Настройка окружения</a></span></li><li><span><a href=\"#Изучение-данных-из-файла\" data-toc-modified-id=\"Изучение-данных-из-файла-3\"><span class=\"toc-item-num\">3&nbsp;&nbsp;</span>Изучение данных из файла</a></span><ul class=\"toc-item\"><li><span><a href=\"#Вывод\" data-toc-modified-id=\"Вывод-3.1\"><span class=\"toc-item-num\">3.1&nbsp;&nbsp;</span>Вывод</a></span></li></ul></li><li><span><a href=\"#Предобработка-данных\" data-toc-modified-id=\"Предобработка-данных-4\"><span class=\"toc-item-num\">4&nbsp;&nbsp;</span>Предобработка данных</a></span><ul class=\"toc-item\"><li><span><a href=\"#Обработка-переменной-rooms\" data-toc-modified-id=\"Обработка-переменной-rooms-4.1\"><span class=\"toc-item-num\">4.1&nbsp;&nbsp;</span>Обработка переменной rooms</a></span></li><li><span><a href=\"#Обработка-пропущенных-значений\" data-toc-modified-id=\"Обработка-пропущенных-значений-4.2\"><span class=\"toc-item-num\">4.2&nbsp;&nbsp;</span>Обработка пропущенных значений</a></span></li><li><span><a href=\"#Изменение-типов-данных\" data-toc-modified-id=\"Изменение-типов-данных-4.3\"><span class=\"toc-item-num\">4.3&nbsp;&nbsp;</span>Изменение типов данных</a></span></li><li><span><a href=\"#Вывод\" data-toc-modified-id=\"Вывод-4.4\"><span class=\"toc-item-num\">4.4&nbsp;&nbsp;</span>Вывод</a></span></li></ul></li><li><span><a href=\"#Расчёты-и-добавление-результатов-в-таблицу\" data-toc-modified-id=\"Расчёты-и-добавление-результатов-в-таблицу-5\"><span class=\"toc-item-num\">5&nbsp;&nbsp;</span>Расчёты и добавление результатов в таблицу</a></span><ul class=\"toc-item\"><li><span><a href=\"#Расчет-цены-квадратного-метра.-Price-per-Square-Meter-(psm)\" data-toc-modified-id=\"Расчет-цены-квадратного-метра.-Price-per-Square-Meter-(psm)-5.1\"><span class=\"toc-item-num\">5.1&nbsp;&nbsp;</span>Расчет цены квадратного метра. Price per Square Meter (psm)</a></span></li><li><span><a href=\"#Добавление-колонок:-день-недели,-месяц-и-год-публикации-объявления\" data-toc-modified-id=\"Добавление-колонок:-день-недели,-месяц-и-год-публикации-объявления-5.2\"><span class=\"toc-item-num\">5.2&nbsp;&nbsp;</span>Добавление колонок: день недели, месяц и год публикации объявления</a></span></li><li><span><a href=\"#Добавление-колонки-этажа-квартиры:-варианты-—-первый,-последний,-другой\" data-toc-modified-id=\"Добавление-колонки-этажа-квартиры:-варианты-—-первый,-последний,-другой-5.3\"><span class=\"toc-item-num\">5.3&nbsp;&nbsp;</span>Добавление колонки этажа квартиры: варианты — первый, последний, другой</a></span></li><li><span><a href=\"#Добавление-колонок:-cоотношение-жилой-и-общей-площади;-площади-кухни-к-общей-площади\" data-toc-modified-id=\"Добавление-колонок:-cоотношение-жилой-и-общей-площади;-площади-кухни-к-общей-площади-5.4\"><span class=\"toc-item-num\">5.4&nbsp;&nbsp;</span>Добавление колонок: cоотношение жилой и общей площади; площади кухни к общей площади</a></span></li><li><span><a href=\"#Вывод\" data-toc-modified-id=\"Вывод-5.5\"><span class=\"toc-item-num\">5.5&nbsp;&nbsp;</span>Вывод</a></span></li></ul></li><li><span><a href=\"#Исследовательский-анализ-данных\" data-toc-modified-id=\"Исследовательский-анализ-данных-6\"><span class=\"toc-item-num\">6&nbsp;&nbsp;</span>Исследовательский анализ данных</a></span><ul class=\"toc-item\"><li><span><a href=\"#Изучение-параметров:-площадь,-цена,-число-комнат,-высота-потолков\" data-toc-modified-id=\"Изучение-параметров:-площадь,-цена,-число-комнат,-высота-потолков-6.1\"><span class=\"toc-item-num\">6.1&nbsp;&nbsp;</span>Изучение параметров: площадь, цена, число комнат, высота потолков</a></span></li><li><span><a href=\"#Время-продажи-квартиры\" data-toc-modified-id=\"Время-продажи-квартиры-6.2\"><span class=\"toc-item-num\">6.2&nbsp;&nbsp;</span>Время продажи квартиры</a></span></li><li><span><a href=\"#Изучение-факторов-влияющих-на-стоимость-квартиры\" data-toc-modified-id=\"Изучение-факторов-влияющих-на-стоимость-квартиры-6.3\"><span class=\"toc-item-num\">6.3&nbsp;&nbsp;</span>Изучение факторов влияющих на стоимость квартиры</a></span></li><li><span><a href=\"#Определение-центральной-области-Санкт-Петербурга\" data-toc-modified-id=\"Определение-центральной-области-Санкт-Петербурга-6.4\"><span class=\"toc-item-num\">6.4&nbsp;&nbsp;</span>Определение центральной области Санкт-Петербурга</a></span></li><li><span><a href=\"#Анализ-квартир-в-центре-Санкт-Петербурга\" data-toc-modified-id=\"Анализ-квартир-в-центре-Санкт-Петербурга-6.5\"><span class=\"toc-item-num\">6.5&nbsp;&nbsp;</span>Анализ квартир в центре Санкт-Петербурга</a></span></li><li><span><a href=\"#Вывод-№1\" data-toc-modified-id=\"Вывод-№1-6.6\"><span class=\"toc-item-num\">6.6&nbsp;&nbsp;</span>Вывод №1</a></span></li><li><span><a href=\"#Вывод-№2\" data-toc-modified-id=\"Вывод-№2-6.7\"><span class=\"toc-item-num\">6.7&nbsp;&nbsp;</span>Вывод №2</a></span></li></ul></li><li><span><a href=\"#Общий-вывод\" data-toc-modified-id=\"Общий-вывод-7\"><span class=\"toc-item-num\">7&nbsp;&nbsp;</span>Общий вывод</a></span></li></ul></div>"
   ]
  },
  {
   "cell_type": "markdown",
   "metadata": {},
   "source": [
    "## Описание проекта\n",
    "\n",
    "В распоряжении есть данные о продаже квартир в Санкт-Петербурге и соседних населённых пунктах за несколько лет. Нужно научиться определять рыночную стоимость объектов недвижимости. Моя задача — установить параметры. Это позволит построить автоматизированную систему: она отследит аномалии и мошенническую деятельность. \n",
    "\n",
    "По каждой квартире на продажу доступны два вида данных. Первые вписаны пользователем, вторые получены автоматически на основе картографических данных. Например, расстояние до центра, аэропорта, ближайшего парка и водоёма. "
   ]
  },
  {
   "cell_type": "markdown",
   "metadata": {},
   "source": [
    "## Настройка окружения"
   ]
  },
  {
   "cell_type": "code",
   "execution_count": 649,
   "metadata": {},
   "outputs": [],
   "source": [
    "import pandas as pd\n",
    "import matplotlib.pyplot as plt "
   ]
  },
  {
   "cell_type": "markdown",
   "metadata": {},
   "source": [
    "## Изучение данных из файла"
   ]
  },
  {
   "cell_type": "code",
   "execution_count": 650,
   "metadata": {},
   "outputs": [
    {
     "name": "stdout",
     "output_type": "stream",
     "text": [
      "[Errno 2] No such file or directory: 'real_estate_data.csv'\n"
     ]
    },
    {
     "data": {
      "text/html": [
       "<div>\n",
       "<style scoped>\n",
       "    .dataframe tbody tr th:only-of-type {\n",
       "        vertical-align: middle;\n",
       "    }\n",
       "\n",
       "    .dataframe tbody tr th {\n",
       "        vertical-align: top;\n",
       "    }\n",
       "\n",
       "    .dataframe thead th {\n",
       "        text-align: right;\n",
       "    }\n",
       "</style>\n",
       "<table border=\"1\" class=\"dataframe\">\n",
       "  <thead>\n",
       "    <tr style=\"text-align: right;\">\n",
       "      <th></th>\n",
       "      <th>total_images</th>\n",
       "      <th>last_price</th>\n",
       "      <th>total_area</th>\n",
       "      <th>first_day_exposition</th>\n",
       "      <th>rooms</th>\n",
       "      <th>ceiling_height</th>\n",
       "      <th>floors_total</th>\n",
       "      <th>living_area</th>\n",
       "      <th>floor</th>\n",
       "      <th>is_apartment</th>\n",
       "      <th>studio</th>\n",
       "      <th>open_plan</th>\n",
       "      <th>kitchen_area</th>\n",
       "      <th>balcony</th>\n",
       "      <th>locality_name</th>\n",
       "      <th>airports_nearest</th>\n",
       "      <th>cityCenters_nearest</th>\n",
       "      <th>parks_around3000</th>\n",
       "      <th>parks_nearest</th>\n",
       "      <th>ponds_around3000</th>\n",
       "      <th>ponds_nearest</th>\n",
       "      <th>days_exposition</th>\n",
       "    </tr>\n",
       "  </thead>\n",
       "  <tbody>\n",
       "    <tr>\n",
       "      <th>0</th>\n",
       "      <td>20</td>\n",
       "      <td>13000000.0</td>\n",
       "      <td>108.0</td>\n",
       "      <td>2019-03-07T00:00:00</td>\n",
       "      <td>3</td>\n",
       "      <td>2.70</td>\n",
       "      <td>16.0</td>\n",
       "      <td>51.0</td>\n",
       "      <td>8</td>\n",
       "      <td>NaN</td>\n",
       "      <td>False</td>\n",
       "      <td>False</td>\n",
       "      <td>25.0</td>\n",
       "      <td>NaN</td>\n",
       "      <td>Санкт-Петербург</td>\n",
       "      <td>18863.0</td>\n",
       "      <td>16028.0</td>\n",
       "      <td>1.0</td>\n",
       "      <td>482.0</td>\n",
       "      <td>2.0</td>\n",
       "      <td>755.0</td>\n",
       "      <td>NaN</td>\n",
       "    </tr>\n",
       "    <tr>\n",
       "      <th>1</th>\n",
       "      <td>7</td>\n",
       "      <td>3350000.0</td>\n",
       "      <td>40.4</td>\n",
       "      <td>2018-12-04T00:00:00</td>\n",
       "      <td>1</td>\n",
       "      <td>NaN</td>\n",
       "      <td>11.0</td>\n",
       "      <td>18.6</td>\n",
       "      <td>1</td>\n",
       "      <td>NaN</td>\n",
       "      <td>False</td>\n",
       "      <td>False</td>\n",
       "      <td>11.0</td>\n",
       "      <td>2.0</td>\n",
       "      <td>посёлок Шушары</td>\n",
       "      <td>12817.0</td>\n",
       "      <td>18603.0</td>\n",
       "      <td>0.0</td>\n",
       "      <td>NaN</td>\n",
       "      <td>0.0</td>\n",
       "      <td>NaN</td>\n",
       "      <td>81.0</td>\n",
       "    </tr>\n",
       "    <tr>\n",
       "      <th>2</th>\n",
       "      <td>10</td>\n",
       "      <td>5196000.0</td>\n",
       "      <td>56.0</td>\n",
       "      <td>2015-08-20T00:00:00</td>\n",
       "      <td>2</td>\n",
       "      <td>NaN</td>\n",
       "      <td>5.0</td>\n",
       "      <td>34.3</td>\n",
       "      <td>4</td>\n",
       "      <td>NaN</td>\n",
       "      <td>False</td>\n",
       "      <td>False</td>\n",
       "      <td>8.3</td>\n",
       "      <td>0.0</td>\n",
       "      <td>Санкт-Петербург</td>\n",
       "      <td>21741.0</td>\n",
       "      <td>13933.0</td>\n",
       "      <td>1.0</td>\n",
       "      <td>90.0</td>\n",
       "      <td>2.0</td>\n",
       "      <td>574.0</td>\n",
       "      <td>558.0</td>\n",
       "    </tr>\n",
       "    <tr>\n",
       "      <th>3</th>\n",
       "      <td>0</td>\n",
       "      <td>64900000.0</td>\n",
       "      <td>159.0</td>\n",
       "      <td>2015-07-24T00:00:00</td>\n",
       "      <td>3</td>\n",
       "      <td>NaN</td>\n",
       "      <td>14.0</td>\n",
       "      <td>NaN</td>\n",
       "      <td>9</td>\n",
       "      <td>NaN</td>\n",
       "      <td>False</td>\n",
       "      <td>False</td>\n",
       "      <td>NaN</td>\n",
       "      <td>0.0</td>\n",
       "      <td>Санкт-Петербург</td>\n",
       "      <td>28098.0</td>\n",
       "      <td>6800.0</td>\n",
       "      <td>2.0</td>\n",
       "      <td>84.0</td>\n",
       "      <td>3.0</td>\n",
       "      <td>234.0</td>\n",
       "      <td>424.0</td>\n",
       "    </tr>\n",
       "    <tr>\n",
       "      <th>4</th>\n",
       "      <td>2</td>\n",
       "      <td>10000000.0</td>\n",
       "      <td>100.0</td>\n",
       "      <td>2018-06-19T00:00:00</td>\n",
       "      <td>2</td>\n",
       "      <td>3.03</td>\n",
       "      <td>14.0</td>\n",
       "      <td>32.0</td>\n",
       "      <td>13</td>\n",
       "      <td>NaN</td>\n",
       "      <td>False</td>\n",
       "      <td>False</td>\n",
       "      <td>41.0</td>\n",
       "      <td>NaN</td>\n",
       "      <td>Санкт-Петербург</td>\n",
       "      <td>31856.0</td>\n",
       "      <td>8098.0</td>\n",
       "      <td>2.0</td>\n",
       "      <td>112.0</td>\n",
       "      <td>1.0</td>\n",
       "      <td>48.0</td>\n",
       "      <td>121.0</td>\n",
       "    </tr>\n",
       "  </tbody>\n",
       "</table>\n",
       "</div>"
      ],
      "text/plain": [
       "   total_images  last_price  total_area first_day_exposition  rooms  \\\n",
       "0            20  13000000.0       108.0  2019-03-07T00:00:00      3   \n",
       "1             7   3350000.0        40.4  2018-12-04T00:00:00      1   \n",
       "2            10   5196000.0        56.0  2015-08-20T00:00:00      2   \n",
       "3             0  64900000.0       159.0  2015-07-24T00:00:00      3   \n",
       "4             2  10000000.0       100.0  2018-06-19T00:00:00      2   \n",
       "\n",
       "   ceiling_height  floors_total  living_area  floor is_apartment  studio  \\\n",
       "0            2.70          16.0         51.0      8          NaN   False   \n",
       "1             NaN          11.0         18.6      1          NaN   False   \n",
       "2             NaN           5.0         34.3      4          NaN   False   \n",
       "3             NaN          14.0          NaN      9          NaN   False   \n",
       "4            3.03          14.0         32.0     13          NaN   False   \n",
       "\n",
       "   open_plan  kitchen_area  balcony    locality_name  airports_nearest  \\\n",
       "0      False          25.0      NaN  Санкт-Петербург           18863.0   \n",
       "1      False          11.0      2.0   посёлок Шушары           12817.0   \n",
       "2      False           8.3      0.0  Санкт-Петербург           21741.0   \n",
       "3      False           NaN      0.0  Санкт-Петербург           28098.0   \n",
       "4      False          41.0      NaN  Санкт-Петербург           31856.0   \n",
       "\n",
       "   cityCenters_nearest  parks_around3000  parks_nearest  ponds_around3000  \\\n",
       "0              16028.0               1.0          482.0               2.0   \n",
       "1              18603.0               0.0            NaN               0.0   \n",
       "2              13933.0               1.0           90.0               2.0   \n",
       "3               6800.0               2.0           84.0               3.0   \n",
       "4               8098.0               2.0          112.0               1.0   \n",
       "\n",
       "   ponds_nearest  days_exposition  \n",
       "0          755.0              NaN  \n",
       "1            NaN             81.0  \n",
       "2          574.0            558.0  \n",
       "3          234.0            424.0  \n",
       "4           48.0            121.0  "
      ]
     },
     "execution_count": 650,
     "metadata": {},
     "output_type": "execute_result"
    }
   ],
   "source": [
    "try:\n",
    "    df = pd.read_csv('real_estate_data.csv', sep='\\t')\n",
    "except FileNotFoundError as e:\n",
    "    print(e)\n",
    "    df = pd.read_csv('/datasets/real_estate_data.csv', sep='\\t')\n",
    "    \n",
    "pd.set_option('display.max_columns', None)\n",
    "df.head()"
   ]
  },
  {
   "cell_type": "code",
   "execution_count": 651,
   "metadata": {},
   "outputs": [
    {
     "name": "stdout",
     "output_type": "stream",
     "text": [
      "<class 'pandas.core.frame.DataFrame'>\n",
      "RangeIndex: 23699 entries, 0 to 23698\n",
      "Data columns (total 22 columns):\n",
      " #   Column                Non-Null Count  Dtype  \n",
      "---  ------                --------------  -----  \n",
      " 0   total_images          23699 non-null  int64  \n",
      " 1   last_price            23699 non-null  float64\n",
      " 2   total_area            23699 non-null  float64\n",
      " 3   first_day_exposition  23699 non-null  object \n",
      " 4   rooms                 23699 non-null  int64  \n",
      " 5   ceiling_height        14504 non-null  float64\n",
      " 6   floors_total          23613 non-null  float64\n",
      " 7   living_area           21796 non-null  float64\n",
      " 8   floor                 23699 non-null  int64  \n",
      " 9   is_apartment          2775 non-null   object \n",
      " 10  studio                23699 non-null  bool   \n",
      " 11  open_plan             23699 non-null  bool   \n",
      " 12  kitchen_area          21421 non-null  float64\n",
      " 13  balcony               12180 non-null  float64\n",
      " 14  locality_name         23650 non-null  object \n",
      " 15  airports_nearest      18157 non-null  float64\n",
      " 16  cityCenters_nearest   18180 non-null  float64\n",
      " 17  parks_around3000      18181 non-null  float64\n",
      " 18  parks_nearest         8079 non-null   float64\n",
      " 19  ponds_around3000      18181 non-null  float64\n",
      " 20  ponds_nearest         9110 non-null   float64\n",
      " 21  days_exposition       20518 non-null  float64\n",
      "dtypes: bool(2), float64(14), int64(3), object(3)\n",
      "memory usage: 3.7+ MB\n"
     ]
    }
   ],
   "source": [
    "df.info()"
   ]
  },
  {
   "cell_type": "code",
   "execution_count": 652,
   "metadata": {},
   "outputs": [
    {
     "name": "stdout",
     "output_type": "stream",
     "text": [
      "Кол-во явных дубликатов в таблице:\n",
      "0\n"
     ]
    }
   ],
   "source": [
    "print('Кол-во явных дубликатов в таблице:')\n",
    "print(df.duplicated().sum())"
   ]
  },
  {
   "cell_type": "code",
   "execution_count": 653,
   "metadata": {},
   "outputs": [
    {
     "data": {
      "text/plain": [
       "total_images                0\n",
       "last_price                  0\n",
       "total_area                  0\n",
       "first_day_exposition        0\n",
       "rooms                       0\n",
       "ceiling_height           9195\n",
       "floors_total               86\n",
       "living_area              1903\n",
       "floor                       0\n",
       "is_apartment            20924\n",
       "studio                      0\n",
       "open_plan                   0\n",
       "kitchen_area             2278\n",
       "balcony                 11519\n",
       "locality_name              49\n",
       "airports_nearest         5542\n",
       "cityCenters_nearest      5519\n",
       "parks_around3000         5518\n",
       "parks_nearest           15620\n",
       "ponds_around3000         5518\n",
       "ponds_nearest           14589\n",
       "days_exposition          3181\n",
       "dtype: int64"
      ]
     },
     "execution_count": 653,
     "metadata": {},
     "output_type": "execute_result"
    }
   ],
   "source": [
    "df.isna().sum()"
   ]
  },
  {
   "cell_type": "markdown",
   "metadata": {},
   "source": [
    "### Вывод"
   ]
  },
  {
   "cell_type": "markdown",
   "metadata": {},
   "source": [
    "1. Некоторые типы переменных подлежат замене.\n",
    "2. В таблице присутствуют пропущенные значения. Они могли возникнуть из-за неисправной выгрузки данных или из-за человеческого фактора.\n",
    "3. В таблице нет явных дубликатов."
   ]
  },
  {
   "cell_type": "markdown",
   "metadata": {},
   "source": [
    "## Предобработка данных"
   ]
  },
  {
   "cell_type": "markdown",
   "metadata": {},
   "source": [
    "### Обработка переменной rooms"
   ]
  },
  {
   "cell_type": "markdown",
   "metadata": {},
   "source": [
    "В данных содержатся 197 квартиры, в которых 0 комнат. Т.к. относительно общего датафрейма это небольшая величина, то я не буду исследовать это явление отдельно и заполню медианными значениями."
   ]
  },
  {
   "cell_type": "code",
   "execution_count": 654,
   "metadata": {},
   "outputs": [
    {
     "name": "stdout",
     "output_type": "stream",
     "text": [
      "Кол-во объектов с параметром rooms = 0: 197\n",
      "Кол-во объектов с параметром rooms = 0 и studio = True: 138\n",
      "Кол-во объектов с параметром rooms = 0 и is_apartment = True: 191\n"
     ]
    }
   ],
   "source": [
    "df['is_apartment'] = df['is_apartment'].astype('bool')\n",
    "print('Кол-во объектов с параметром rooms = 0:', len(df.loc[(df['rooms']==0)]))\n",
    "print('Кол-во объектов с параметром rooms = 0 и studio = True:',len(df.loc[(df['rooms']==0) & (df['studio']==True)]))\n",
    "print('Кол-во объектов с параметром rooms = 0 и is_apartment = True:',len(df.loc[(df['rooms']==0) & (df['is_apartment']==True)]))"
   ]
  },
  {
   "cell_type": "markdown",
   "metadata": {},
   "source": [
    "Удаление дубликатов: Мурино и поселок Мурино"
   ]
  },
  {
   "cell_type": "code",
   "execution_count": 655,
   "metadata": {},
   "outputs": [],
   "source": [
    "df.loc[df['locality_name']=='поселок Мурино','locality_name'] = 'Мурино'"
   ]
  },
  {
   "cell_type": "markdown",
   "metadata": {},
   "source": [
    "### Обработка пропущенных значений "
   ]
  },
  {
   "cell_type": "markdown",
   "metadata": {},
   "source": [
    "Скорее всего, если в 'balcony' и 'is_apartment' отсутствуют значения, то это значит, что балконов 0 и жилье не является апартаментами"
   ]
  },
  {
   "cell_type": "code",
   "execution_count": 656,
   "metadata": {},
   "outputs": [
    {
     "name": "stdout",
     "output_type": "stream",
     "text": [
      "0\n",
      "0\n"
     ]
    }
   ],
   "source": [
    "\n",
    "df.loc[df['balcony'].isna(),'balcony'] = 0\n",
    "print(df['balcony'].isna().sum())\n",
    "\n",
    "df.loc[df['is_apartment'].isna(),'is_apartment'] = False\n",
    "print(df['is_apartment'].isna().sum())\n"
   ]
  },
  {
   "cell_type": "markdown",
   "metadata": {},
   "source": [
    "Площади заполню с группировкой по числу комнат"
   ]
  },
  {
   "cell_type": "code",
   "execution_count": 657,
   "metadata": {},
   "outputs": [
    {
     "name": "stdout",
     "output_type": "stream",
     "text": [
      "Количество пропусков в living_area до обработки: 1903\n",
      "Количество пропусков в kitchen_area до обработки: 2278\n",
      "\n",
      "Количество пропусков в living_area после обработки: 0\n",
      "Количество пропусков в kitchen_area после обработки: 197\n"
     ]
    },
    {
     "name": "stderr",
     "output_type": "stream",
     "text": [
      "/opt/conda/lib/python3.9/site-packages/numpy/lib/nanfunctions.py:1117: RuntimeWarning: Mean of empty slice\n",
      "  return np.nanmean(a, axis, out=out, keepdims=keepdims)\n"
     ]
    }
   ],
   "source": [
    "print('Количество пропусков в living_area до обработки:',df['living_area'].isna().sum())\n",
    "print('Количество пропусков в kitchen_area до обработки:',df['kitchen_area'].isna().sum())\n",
    "print()\n",
    "for num_room in df['rooms'].unique():\n",
    "    median_areaL = df.loc[df['rooms'] == num_room, 'living_area'].median()\n",
    "    df.loc[(df['living_area'].isna()) & (df['rooms'] == num_room),'living_area'] = median_areaL\n",
    "\n",
    "    median_areaK = df.loc[df['rooms'] == num_room, 'kitchen_area'].median()\n",
    "    df.loc[(df['kitchen_area'].isna()) & (df['rooms'] == num_room),'kitchen_area'] = median_areaK\n",
    "    \n",
    "print('Количество пропусков в living_area после обработки:',df['living_area'].isna().sum())\n",
    "print('Количество пропусков в kitchen_area после обработки:',df['kitchen_area'].isna().sum())"
   ]
  },
  {
   "cell_type": "markdown",
   "metadata": {},
   "source": [
    "Исследую распределение пропусков в days_exposition относительно даты публикации first_day_exposition "
   ]
  },
  {
   "cell_type": "code",
   "execution_count": 658,
   "metadata": {},
   "outputs": [],
   "source": [
    "# перевод first_day_exposition в тип datetime\n",
    "df['first_day_exposition'] = pd.to_datetime(\n",
    "    df['first_day_exposition'], format='%Y-%m-%dT%H:%M:%S')"
   ]
  },
  {
   "cell_type": "code",
   "execution_count": 659,
   "metadata": {},
   "outputs": [
    {
     "data": {
      "image/png": "[encoded data removed]",
      "text/plain": [
       "<Figure size 1440x432 with 2 Axes>"
      ]
     },
     "metadata": {
      "needs_background": "light"
     },
     "output_type": "display_data"
    }
   ],
   "source": [
    "fig, axes = plt.subplots(1,2,figsize=(20,6))\n",
    "\n",
    "\n",
    "df[df['days_exposition'].isna()]['first_day_exposition'].hist(bins=30, ax=axes[0])\n",
    "df[df['days_exposition'].notna()]['first_day_exposition'].hist(bins=30, ax=axes[1])\n",
    "\n",
    "axes[0].set_title('Распределение `first_day_exposition` для строк с пропусками');\n",
    "axes[1].set_title('Распределение `first_day_exposition` для строк без пропусков');"
   ]
  },
  {
   "cell_type": "markdown",
   "metadata": {},
   "source": [
    "**Вывод:** можно заметить, что относительно строк без пропусков, день пудбликации объявлений для строк с пропусками ближе к концу периода, что наталкивает на мысль, что это ещё не проданные квартиры, поэтому делать их проданными, заменяя пропуски медианой не стоит"
   ]
  },
  {
   "cell_type": "markdown",
   "metadata": {},
   "source": [
    "### Изменение типов данных"
   ]
  },
  {
   "cell_type": "markdown",
   "metadata": {},
   "source": [
    "1. Переменная is_apartment (апартаменты) представлена в строковом формате. В описании же сказано, что она должна быть булевым типом. Необходимо преобразовать ее в bool.\n",
    "2. Переменная balcony (число балконов) представлена в формате float. Необходимо перевести в int, т.к. не может быть дробной.\n"
   ]
  },
  {
   "cell_type": "code",
   "execution_count": 660,
   "metadata": {
    "scrolled": true
   },
   "outputs": [],
   "source": [
    "df['is_apartment'] = df['is_apartment'].astype('bool')\n",
    "df['balcony'] = df['balcony'].astype('int')"
   ]
  },
  {
   "cell_type": "markdown",
   "metadata": {},
   "source": [
    "### Вывод\n",
    "1. Пропущенные значения заменены обработаны.\n",
    "2. Необходимые типы данных изменены."
   ]
  },
  {
   "cell_type": "markdown",
   "metadata": {},
   "source": [
    "## Расчёты и добавление результатов в таблицу"
   ]
  },
  {
   "cell_type": "markdown",
   "metadata": {},
   "source": [
    "### Расчет цены квадратного метра. Price per Square Meter (psm)"
   ]
  },
  {
   "cell_type": "code",
   "execution_count": 661,
   "metadata": {},
   "outputs": [],
   "source": [
    "df['psm'] = df['last_price']/df['total_area']"
   ]
  },
  {
   "cell_type": "markdown",
   "metadata": {},
   "source": [
    "### Добавление колонок: день недели, месяц и год публикации объявления"
   ]
  },
  {
   "cell_type": "code",
   "execution_count": 662,
   "metadata": {},
   "outputs": [
    {
     "data": {
      "text/html": [
       "<div>\n",
       "<style scoped>\n",
       "    .dataframe tbody tr th:only-of-type {\n",
       "        vertical-align: middle;\n",
       "    }\n",
       "\n",
       "    .dataframe tbody tr th {\n",
       "        vertical-align: top;\n",
       "    }\n",
       "\n",
       "    .dataframe thead th {\n",
       "        text-align: right;\n",
       "    }\n",
       "</style>\n",
       "<table border=\"1\" class=\"dataframe\">\n",
       "  <thead>\n",
       "    <tr style=\"text-align: right;\">\n",
       "      <th></th>\n",
       "      <th>total_images</th>\n",
       "      <th>last_price</th>\n",
       "      <th>total_area</th>\n",
       "      <th>first_day_exposition</th>\n",
       "      <th>rooms</th>\n",
       "      <th>ceiling_height</th>\n",
       "      <th>floors_total</th>\n",
       "      <th>living_area</th>\n",
       "      <th>floor</th>\n",
       "      <th>is_apartment</th>\n",
       "      <th>studio</th>\n",
       "      <th>open_plan</th>\n",
       "      <th>kitchen_area</th>\n",
       "      <th>balcony</th>\n",
       "      <th>locality_name</th>\n",
       "      <th>airports_nearest</th>\n",
       "      <th>cityCenters_nearest</th>\n",
       "      <th>parks_around3000</th>\n",
       "      <th>parks_nearest</th>\n",
       "      <th>ponds_around3000</th>\n",
       "      <th>ponds_nearest</th>\n",
       "      <th>days_exposition</th>\n",
       "      <th>psm</th>\n",
       "      <th>weekday</th>\n",
       "      <th>month</th>\n",
       "      <th>year</th>\n",
       "    </tr>\n",
       "  </thead>\n",
       "  <tbody>\n",
       "    <tr>\n",
       "      <th>0</th>\n",
       "      <td>20</td>\n",
       "      <td>13000000.0</td>\n",
       "      <td>108.0</td>\n",
       "      <td>2019-03-07</td>\n",
       "      <td>3</td>\n",
       "      <td>2.70</td>\n",
       "      <td>16.0</td>\n",
       "      <td>51.0</td>\n",
       "      <td>8</td>\n",
       "      <td>True</td>\n",
       "      <td>False</td>\n",
       "      <td>False</td>\n",
       "      <td>25.0</td>\n",
       "      <td>0</td>\n",
       "      <td>Санкт-Петербург</td>\n",
       "      <td>18863.0</td>\n",
       "      <td>16028.0</td>\n",
       "      <td>1.0</td>\n",
       "      <td>482.0</td>\n",
       "      <td>2.0</td>\n",
       "      <td>755.0</td>\n",
       "      <td>NaN</td>\n",
       "      <td>120370.370370</td>\n",
       "      <td>3</td>\n",
       "      <td>3</td>\n",
       "      <td>2019</td>\n",
       "    </tr>\n",
       "    <tr>\n",
       "      <th>1</th>\n",
       "      <td>7</td>\n",
       "      <td>3350000.0</td>\n",
       "      <td>40.4</td>\n",
       "      <td>2018-12-04</td>\n",
       "      <td>1</td>\n",
       "      <td>NaN</td>\n",
       "      <td>11.0</td>\n",
       "      <td>18.6</td>\n",
       "      <td>1</td>\n",
       "      <td>True</td>\n",
       "      <td>False</td>\n",
       "      <td>False</td>\n",
       "      <td>11.0</td>\n",
       "      <td>2</td>\n",
       "      <td>посёлок Шушары</td>\n",
       "      <td>12817.0</td>\n",
       "      <td>18603.0</td>\n",
       "      <td>0.0</td>\n",
       "      <td>NaN</td>\n",
       "      <td>0.0</td>\n",
       "      <td>NaN</td>\n",
       "      <td>81.0</td>\n",
       "      <td>82920.792079</td>\n",
       "      <td>1</td>\n",
       "      <td>12</td>\n",
       "      <td>2018</td>\n",
       "    </tr>\n",
       "    <tr>\n",
       "      <th>2</th>\n",
       "      <td>10</td>\n",
       "      <td>5196000.0</td>\n",
       "      <td>56.0</td>\n",
       "      <td>2015-08-20</td>\n",
       "      <td>2</td>\n",
       "      <td>NaN</td>\n",
       "      <td>5.0</td>\n",
       "      <td>34.3</td>\n",
       "      <td>4</td>\n",
       "      <td>True</td>\n",
       "      <td>False</td>\n",
       "      <td>False</td>\n",
       "      <td>8.3</td>\n",
       "      <td>0</td>\n",
       "      <td>Санкт-Петербург</td>\n",
       "      <td>21741.0</td>\n",
       "      <td>13933.0</td>\n",
       "      <td>1.0</td>\n",
       "      <td>90.0</td>\n",
       "      <td>2.0</td>\n",
       "      <td>574.0</td>\n",
       "      <td>558.0</td>\n",
       "      <td>92785.714286</td>\n",
       "      <td>3</td>\n",
       "      <td>8</td>\n",
       "      <td>2015</td>\n",
       "    </tr>\n",
       "    <tr>\n",
       "      <th>3</th>\n",
       "      <td>0</td>\n",
       "      <td>64900000.0</td>\n",
       "      <td>159.0</td>\n",
       "      <td>2015-07-24</td>\n",
       "      <td>3</td>\n",
       "      <td>NaN</td>\n",
       "      <td>14.0</td>\n",
       "      <td>45.0</td>\n",
       "      <td>9</td>\n",
       "      <td>True</td>\n",
       "      <td>False</td>\n",
       "      <td>False</td>\n",
       "      <td>9.5</td>\n",
       "      <td>0</td>\n",
       "      <td>Санкт-Петербург</td>\n",
       "      <td>28098.0</td>\n",
       "      <td>6800.0</td>\n",
       "      <td>2.0</td>\n",
       "      <td>84.0</td>\n",
       "      <td>3.0</td>\n",
       "      <td>234.0</td>\n",
       "      <td>424.0</td>\n",
       "      <td>408176.100629</td>\n",
       "      <td>4</td>\n",
       "      <td>7</td>\n",
       "      <td>2015</td>\n",
       "    </tr>\n",
       "    <tr>\n",
       "      <th>4</th>\n",
       "      <td>2</td>\n",
       "      <td>10000000.0</td>\n",
       "      <td>100.0</td>\n",
       "      <td>2018-06-19</td>\n",
       "      <td>2</td>\n",
       "      <td>3.03</td>\n",
       "      <td>14.0</td>\n",
       "      <td>32.0</td>\n",
       "      <td>13</td>\n",
       "      <td>True</td>\n",
       "      <td>False</td>\n",
       "      <td>False</td>\n",
       "      <td>41.0</td>\n",
       "      <td>0</td>\n",
       "      <td>Санкт-Петербург</td>\n",
       "      <td>31856.0</td>\n",
       "      <td>8098.0</td>\n",
       "      <td>2.0</td>\n",
       "      <td>112.0</td>\n",
       "      <td>1.0</td>\n",
       "      <td>48.0</td>\n",
       "      <td>121.0</td>\n",
       "      <td>100000.000000</td>\n",
       "      <td>1</td>\n",
       "      <td>6</td>\n",
       "      <td>2018</td>\n",
       "    </tr>\n",
       "  </tbody>\n",
       "</table>\n",
       "</div>"
      ],
      "text/plain": [
       "   total_images  last_price  total_area first_day_exposition  rooms  \\\n",
       "0            20  13000000.0       108.0           2019-03-07      3   \n",
       "1             7   3350000.0        40.4           2018-12-04      1   \n",
       "2            10   5196000.0        56.0           2015-08-20      2   \n",
       "3             0  64900000.0       159.0           2015-07-24      3   \n",
       "4             2  10000000.0       100.0           2018-06-19      2   \n",
       "\n",
       "   ceiling_height  floors_total  living_area  floor  is_apartment  studio  \\\n",
       "0            2.70          16.0         51.0      8          True   False   \n",
       "1             NaN          11.0         18.6      1          True   False   \n",
       "2             NaN           5.0         34.3      4          True   False   \n",
       "3             NaN          14.0         45.0      9          True   False   \n",
       "4            3.03          14.0         32.0     13          True   False   \n",
       "\n",
       "   open_plan  kitchen_area  balcony    locality_name  airports_nearest  \\\n",
       "0      False          25.0        0  Санкт-Петербург           18863.0   \n",
       "1      False          11.0        2   посёлок Шушары           12817.0   \n",
       "2      False           8.3        0  Санкт-Петербург           21741.0   \n",
       "3      False           9.5        0  Санкт-Петербург           28098.0   \n",
       "4      False          41.0        0  Санкт-Петербург           31856.0   \n",
       "\n",
       "   cityCenters_nearest  parks_around3000  parks_nearest  ponds_around3000  \\\n",
       "0              16028.0               1.0          482.0               2.0   \n",
       "1              18603.0               0.0            NaN               0.0   \n",
       "2              13933.0               1.0           90.0               2.0   \n",
       "3               6800.0               2.0           84.0               3.0   \n",
       "4               8098.0               2.0          112.0               1.0   \n",
       "\n",
       "   ponds_nearest  days_exposition            psm  weekday  month  year  \n",
       "0          755.0              NaN  120370.370370        3      3  2019  \n",
       "1            NaN             81.0   82920.792079        1     12  2018  \n",
       "2          574.0            558.0   92785.714286        3      8  2015  \n",
       "3          234.0            424.0  408176.100629        4      7  2015  \n",
       "4           48.0            121.0  100000.000000        1      6  2018  "
      ]
     },
     "execution_count": 662,
     "metadata": {},
     "output_type": "execute_result"
    }
   ],
   "source": [
    "df['weekday'] = pd.DatetimeIndex(df['first_day_exposition']).weekday\n",
    "df['month'] = pd.DatetimeIndex(df['first_day_exposition']).month\n",
    "df['year'] = pd.DatetimeIndex(df['first_day_exposition']).year\n",
    "df.head()"
   ]
  },
  {
   "cell_type": "markdown",
   "metadata": {},
   "source": [
    "### Добавление колонки этажа квартиры: варианты — первый, последний, другой"
   ]
  },
  {
   "cell_type": "code",
   "execution_count": 663,
   "metadata": {},
   "outputs": [],
   "source": [
    "def add_floor_category(row_values):\n",
    "    if row_values['floor'] == 1:\n",
    "        return 'первый'\n",
    "    if row_values['floor'] == row_values['floors_total']:\n",
    "        return 'последний'\n",
    "    return 'другой'\n",
    "\n",
    "df['floor_category'] = df.apply(add_floor_category, axis=1)"
   ]
  },
  {
   "cell_type": "markdown",
   "metadata": {},
   "source": [
    "### Добавление колонок: cоотношение жилой и общей площади; площади кухни к общей площади"
   ]
  },
  {
   "cell_type": "code",
   "execution_count": 664,
   "metadata": {},
   "outputs": [],
   "source": [
    "#cоотношение жилой и общей площади\n",
    "df['areas_ratio'] = df['living_area']/df['total_area']\n",
    "#cоотношение площади кухни к общей площади\n",
    "df['kitchen_ratio'] = df['kitchen_area']/df['total_area']"
   ]
  },
  {
   "cell_type": "markdown",
   "metadata": {},
   "source": [
    "### Вывод\n",
    "- посчитано и добавлено в таблицу: цена квадратного метра;\n",
    "- посчитано и добавлено в таблицу: день недели, месяц и год публикации объявления;\n",
    "- посчитано и добавлено в таблицу: этаж квартиры; варианты — первый, последний, другой;\n",
    "- посчитано и добавлено в таблицу: соотношение жилой и общей площади, а также отношение площади кухни к общей"
   ]
  },
  {
   "cell_type": "markdown",
   "metadata": {},
   "source": [
    "## Исследовательский анализ данных"
   ]
  },
  {
   "cell_type": "markdown",
   "metadata": {},
   "source": [
    "### Изучение параметров: площадь, цена, число комнат, высота потолков"
   ]
  },
  {
   "cell_type": "markdown",
   "metadata": {},
   "source": [
    "**Площадь:**\n",
    " - total_area — площадь квартиры в квадратных метрах (м²);\n",
    " - living_area — жилая площадь в квадратных метрах (м²);;\n",
    " - kitchen_area — площадь кухни в квадратных метрах (м²);\n",
    " - areas_ratio - cоотношение жилой и общей площади;\n",
    " - kitchen_ratio - cоотношение площади кухни к общей площади"
   ]
  },
  {
   "cell_type": "markdown",
   "metadata": {},
   "source": [
    "**total_area**"
   ]
  },
  {
   "cell_type": "code",
   "execution_count": 665,
   "metadata": {
    "scrolled": true
   },
   "outputs": [
    {
     "name": "stdout",
     "output_type": "stream",
     "text": [
      "count    23699.000000\n",
      "mean        60.348651\n",
      "std         35.654083\n",
      "min         12.000000\n",
      "25%         40.000000\n",
      "50%         52.000000\n",
      "75%         69.900000\n",
      "max        900.000000\n",
      "Name: total_area, dtype: float64\n",
      "\n",
      "mode: 0    45.0\n",
      "dtype: float64\n"
     ]
    }
   ],
   "source": [
    "print(df['total_area'].describe())\n",
    "print()\n",
    "print('mode:', df['total_area'].mode())"
   ]
  },
  {
   "cell_type": "code",
   "execution_count": 666,
   "metadata": {},
   "outputs": [
    {
     "data": {
      "image/png": "[encoded data removed]",
      "text/plain": [
       "<Figure size 432x288 with 1 Axes>"
      ]
     },
     "metadata": {
      "needs_background": "light"
     },
     "output_type": "display_data"
    }
   ],
   "source": [
    "fig, axes = plt.subplots()\n",
    "df['total_area'].hist(bins=50, range=(0,200))\n",
    "axes.set_title('Распределение `total_area`');"
   ]
  },
  {
   "cell_type": "markdown",
   "metadata": {},
   "source": [
    "Мода равна 45 (кв.м.)\n",
    "\n",
    "График напоминает нормальное распределение с сильным скачком в районе моды (45)."
   ]
  },
  {
   "cell_type": "markdown",
   "metadata": {},
   "source": [
    "**living_area**"
   ]
  },
  {
   "cell_type": "code",
   "execution_count": 667,
   "metadata": {},
   "outputs": [
    {
     "name": "stdout",
     "output_type": "stream",
     "text": [
      "count    23699.000000\n",
      "mean        34.321982\n",
      "std         21.700627\n",
      "min          2.000000\n",
      "25%         18.400000\n",
      "50%         30.300000\n",
      "75%         42.700000\n",
      "max        409.700000\n",
      "Name: living_area, dtype: float64\n",
      "\n",
      "mode: 0    18.0\n",
      "dtype: float64\n"
     ]
    }
   ],
   "source": [
    "print(df['living_area'].describe())\n",
    "print()\n",
    "print('mode:', df['living_area'].mode())"
   ]
  },
  {
   "cell_type": "code",
   "execution_count": 668,
   "metadata": {},
   "outputs": [
    {
     "data": {
      "image/png": "[encoded data removed]",
      "text/plain": [
       "<Figure size 432x288 with 1 Axes>"
      ]
     },
     "metadata": {
      "needs_background": "light"
     },
     "output_type": "display_data"
    }
   ],
   "source": [
    "fig, axes = plt.subplots()\n",
    "df['living_area'].hist(bins=30, range=(0,200))\n",
    "axes.set_title('Распределение `living_area`');"
   ]
  },
  {
   "cell_type": "markdown",
   "metadata": {},
   "source": [
    "График напоминает нормальное распределение с сильным скачком в районе значения 18."
   ]
  },
  {
   "cell_type": "markdown",
   "metadata": {},
   "source": [
    "**kitchen_area**"
   ]
  },
  {
   "cell_type": "code",
   "execution_count": 669,
   "metadata": {
    "scrolled": true
   },
   "outputs": [
    {
     "name": "stdout",
     "output_type": "stream",
     "text": [
      "count    23502.000000\n",
      "mean        10.464501\n",
      "std          5.664289\n",
      "min          1.300000\n",
      "25%          7.300000\n",
      "50%          9.040000\n",
      "75%         11.500000\n",
      "max        112.000000\n",
      "Name: kitchen_area, dtype: float64\n",
      "\n",
      "mode: 0    6.0\n",
      "dtype: float64\n"
     ]
    }
   ],
   "source": [
    "print(df['kitchen_area'].describe())\n",
    "print()\n",
    "print('mode:', df['kitchen_area'].mode())"
   ]
  },
  {
   "cell_type": "code",
   "execution_count": 670,
   "metadata": {},
   "outputs": [
    {
     "data": {
      "image/png": "[encoded data removed]",
      "text/plain": [
       "<Figure size 432x288 with 1 Axes>"
      ]
     },
     "metadata": {
      "needs_background": "light"
     },
     "output_type": "display_data"
    }
   ],
   "source": [
    "fig, axes = plt.subplots()\n",
    "df['kitchen_area'].hist(bins=50, range=(0,50))\n",
    "axes.set_title('Распределение `kitchen_area`');"
   ]
  },
  {
   "cell_type": "markdown",
   "metadata": {},
   "source": [
    "График близок к нормальному распределению. "
   ]
  },
  {
   "cell_type": "markdown",
   "metadata": {},
   "source": [
    "**areas_ratio**"
   ]
  },
  {
   "cell_type": "code",
   "execution_count": 671,
   "metadata": {},
   "outputs": [
    {
     "name": "stdout",
     "output_type": "stream",
     "text": [
      "count    23699.000000\n",
      "mean         0.563845\n",
      "std          0.110933\n",
      "min          0.021583\n",
      "25%          0.490326\n",
      "50%          0.566596\n",
      "75%          0.638298\n",
      "max          1.514286\n",
      "Name: areas_ratio, dtype: float64\n",
      "\n",
      "mode: 0    0.5\n",
      "dtype: float64\n"
     ]
    }
   ],
   "source": [
    "print(df['areas_ratio'].describe())\n",
    "print()\n",
    "print('mode:', df['areas_ratio'].mode())"
   ]
  },
  {
   "cell_type": "code",
   "execution_count": 672,
   "metadata": {
    "scrolled": true
   },
   "outputs": [
    {
     "data": {
      "image/png": "[encoded data removed]",
      "text/plain": [
       "<Figure size 432x288 with 1 Axes>"
      ]
     },
     "metadata": {
      "needs_background": "light"
     },
     "output_type": "display_data"
    }
   ],
   "source": [
    "fig, axes = plt.subplots()\n",
    "df['areas_ratio'].hist(bins=50)\n",
    "axes.set_title('Распределение `areas_ratio`');"
   ]
  },
  {
   "cell_type": "markdown",
   "metadata": {},
   "source": [
    "График представляет собой нормальное распределение."
   ]
  },
  {
   "cell_type": "markdown",
   "metadata": {},
   "source": [
    "**kitchen_ratio**"
   ]
  },
  {
   "cell_type": "code",
   "execution_count": 673,
   "metadata": {},
   "outputs": [
    {
     "name": "stdout",
     "output_type": "stream",
     "text": [
      "count    23502.000000\n",
      "mean         0.188245\n",
      "std          0.074150\n",
      "min          0.018296\n",
      "25%          0.133402\n",
      "50%          0.172971\n",
      "75%          0.233114\n",
      "max          0.787879\n",
      "Name: kitchen_ratio, dtype: float64\n",
      "\n",
      "mode: 0    0.2\n",
      "dtype: float64\n"
     ]
    }
   ],
   "source": [
    "print(df['kitchen_ratio'].describe())\n",
    "print()\n",
    "print('mode:', df['kitchen_ratio'].mode())"
   ]
  },
  {
   "cell_type": "code",
   "execution_count": 674,
   "metadata": {},
   "outputs": [
    {
     "data": {
      "image/png": "[encoded data removed]",
      "text/plain": [
       "<Figure size 432x288 with 1 Axes>"
      ]
     },
     "metadata": {
      "needs_background": "light"
     },
     "output_type": "display_data"
    }
   ],
   "source": [
    "fig, axes = plt.subplots()\n",
    "df['kitchen_ratio'].hist(bins=50)\n",
    "axes.set_title('Распределение `kitchen_ratio`');"
   ]
  },
  {
   "cell_type": "markdown",
   "metadata": {},
   "source": [
    "График представляет собой нормальное распределение."
   ]
  },
  {
   "cell_type": "markdown",
   "metadata": {},
   "source": [
    "**Изучение цены:**\n",
    "- last_price — цена на момент снятия с публикации\n",
    "- psm - цена квадратного метра\n"
   ]
  },
  {
   "cell_type": "code",
   "execution_count": 675,
   "metadata": {},
   "outputs": [
    {
     "name": "stdout",
     "output_type": "stream",
     "text": [
      "count    2.369900e+04\n",
      "mean     6.541549e+06\n",
      "std      1.088701e+07\n",
      "min      1.219000e+04\n",
      "25%      3.400000e+06\n",
      "50%      4.650000e+06\n",
      "75%      6.800000e+06\n",
      "max      7.630000e+08\n",
      "Name: last_price, dtype: float64\n",
      "\n",
      "mode: 0    4500000.0\n",
      "dtype: float64\n"
     ]
    }
   ],
   "source": [
    "print(df['last_price'].describe())\n",
    "print()\n",
    "print('mode:', df['last_price'].mode())"
   ]
  },
  {
   "cell_type": "code",
   "execution_count": 676,
   "metadata": {
    "scrolled": false
   },
   "outputs": [
    {
     "data": {
      "image/png": "[encoded data removed]",
      "text/plain": [
       "<Figure size 432x288 with 1 Axes>"
      ]
     },
     "metadata": {
      "needs_background": "light"
     },
     "output_type": "display_data"
    }
   ],
   "source": [
    "fig, axes = plt.subplots()\n",
    "df['last_price'].hist(bins=50, range=(0,1.0e+07))\n",
    "axes.set_title('Распределение `last_price`');"
   ]
  },
  {
   "cell_type": "markdown",
   "metadata": {},
   "source": [
    "График представляет собой нормальное распределение."
   ]
  },
  {
   "cell_type": "code",
   "execution_count": 677,
   "metadata": {},
   "outputs": [
    {
     "name": "stdout",
     "output_type": "stream",
     "text": [
      "count    2.369900e+04\n",
      "mean     9.942166e+04\n",
      "std      5.030680e+04\n",
      "min      1.118349e+02\n",
      "25%      7.658547e+04\n",
      "50%      9.500000e+04\n",
      "75%      1.142563e+05\n",
      "max      1.907500e+06\n",
      "Name: psm, dtype: float64\n",
      "\n",
      "mode: 0    100000.0\n",
      "dtype: float64\n"
     ]
    }
   ],
   "source": [
    "print(df['psm'].describe())\n",
    "print()\n",
    "print('mode:', df['psm'].mode())"
   ]
  },
  {
   "cell_type": "code",
   "execution_count": 678,
   "metadata": {},
   "outputs": [
    {
     "data": {
      "image/png": "[encoded data removed]",
      "text/plain": [
       "<Figure size 432x288 with 1 Axes>"
      ]
     },
     "metadata": {
      "needs_background": "light"
     },
     "output_type": "display_data"
    }
   ],
   "source": [
    "fig, axes = plt.subplots()\n",
    "df['psm'].hist(bins=50, range=(0,4.0e+05))\n",
    "axes.set_title('Распределение `psm`');"
   ]
  },
  {
   "cell_type": "markdown",
   "metadata": {},
   "source": [
    "График представляет собой нормальное распределение."
   ]
  },
  {
   "cell_type": "markdown",
   "metadata": {},
   "source": [
    "**Число комнат:**\n",
    "- rooms — число комнат"
   ]
  },
  {
   "cell_type": "code",
   "execution_count": 679,
   "metadata": {
    "scrolled": true
   },
   "outputs": [
    {
     "name": "stdout",
     "output_type": "stream",
     "text": [
      "count    23699.000000\n",
      "mean         2.070636\n",
      "std          1.078405\n",
      "min          0.000000\n",
      "25%          1.000000\n",
      "50%          2.000000\n",
      "75%          3.000000\n",
      "max         19.000000\n",
      "Name: rooms, dtype: float64\n",
      "\n",
      "mode: 0    1\n",
      "dtype: int64\n"
     ]
    }
   ],
   "source": [
    "print(df['rooms'].describe())\n",
    "print()\n",
    "print('mode:', df['rooms'].mode())"
   ]
  },
  {
   "cell_type": "code",
   "execution_count": 680,
   "metadata": {},
   "outputs": [
    {
     "data": {
      "image/png": "[encoded data removed]",
      "text/plain": [
       "<Figure size 432x288 with 1 Axes>"
      ]
     },
     "metadata": {
      "needs_background": "light"
     },
     "output_type": "display_data"
    }
   ],
   "source": [
    "fig, axes = plt.subplots()\n",
    "df['rooms'].value_counts().sort_index().head(10).plot(kind='bar')\n",
    "axes.set_title('Распределение `rooms`');"
   ]
  },
  {
   "cell_type": "markdown",
   "metadata": {},
   "source": [
    " Можно сказать, что однокомнатных и двухкомнатных квартир в датафрейме больше всего."
   ]
  },
  {
   "cell_type": "markdown",
   "metadata": {},
   "source": [
    "**Высота потолков:**\n",
    "- ceiling_height — высота потолков (м)\n"
   ]
  },
  {
   "cell_type": "code",
   "execution_count": 681,
   "metadata": {},
   "outputs": [
    {
     "name": "stdout",
     "output_type": "stream",
     "text": [
      "count    14504.000000\n",
      "mean         2.771499\n",
      "std          1.261056\n",
      "min          1.000000\n",
      "25%          2.520000\n",
      "50%          2.650000\n",
      "75%          2.800000\n",
      "max        100.000000\n",
      "Name: ceiling_height, dtype: float64\n",
      "\n",
      "mode: 0    2.5\n",
      "dtype: float64\n"
     ]
    }
   ],
   "source": [
    "print(df['ceiling_height'].describe())\n",
    "print()\n",
    "print('mode:', df['ceiling_height'].mode())"
   ]
  },
  {
   "cell_type": "code",
   "execution_count": 682,
   "metadata": {
    "scrolled": false
   },
   "outputs": [
    {
     "data": {
      "image/png": "[encoded data removed]",
      "text/plain": [
       "<Figure size 432x288 with 1 Axes>"
      ]
     },
     "metadata": {
      "needs_background": "light"
     },
     "output_type": "display_data"
    }
   ],
   "source": [
    "fig, axes = plt.subplots()\n",
    "axes.set_title('Распределение `ceiling_height`')\n",
    "df['ceiling_height'].hist(bins=50, range=(1,5));"
   ]
  },
  {
   "cell_type": "markdown",
   "metadata": {},
   "source": [
    "График приближенно напоминает нормальное распределение со скачком в районе моды. Видимо, это строительный стандарт."
   ]
  },
  {
   "cell_type": "markdown",
   "metadata": {},
   "source": [
    "### Время продажи квартиры\n",
    "\n",
    "- days_exposition — сколько дней было размещено объявление (от публикации до снятия)"
   ]
  },
  {
   "cell_type": "code",
   "execution_count": 683,
   "metadata": {},
   "outputs": [
    {
     "name": "stdout",
     "output_type": "stream",
     "text": [
      "count    20518.000000\n",
      "mean       180.888634\n",
      "std        219.727988\n",
      "min          1.000000\n",
      "25%         45.000000\n",
      "50%         95.000000\n",
      "75%        232.000000\n",
      "max       1580.000000\n",
      "Name: days_exposition, dtype: float64\n",
      "\n",
      "mode: 0    45.0\n",
      "dtype: float64\n"
     ]
    }
   ],
   "source": [
    "print(df['days_exposition'].describe())\n",
    "print()\n",
    "print('mode:', df['days_exposition'].mode())\n"
   ]
  },
  {
   "cell_type": "markdown",
   "metadata": {},
   "source": [
    "**mean = 181; median = 95; mode = 45**"
   ]
  },
  {
   "cell_type": "code",
   "execution_count": 684,
   "metadata": {},
   "outputs": [
    {
     "data": {
      "image/png": "[encoded data removed]",
      "text/plain": [
       "<Figure size 432x288 with 1 Axes>"
      ]
     },
     "metadata": {
      "needs_background": "light"
     },
     "output_type": "display_data"
    }
   ],
   "source": [
    "fig, axes = plt.subplots()\n",
    "axes.set_title('Распределение `days_exposition`')\n",
    "df['days_exposition'].hist(bins=250, range=(0,1500));"
   ]
  },
  {
   "cell_type": "markdown",
   "metadata": {},
   "source": [
    "График представляет собой экспоненциальное распределение."
   ]
  },
  {
   "cell_type": "markdown",
   "metadata": {},
   "source": [
    "Половина всех объявлений была снята в течение 95 дней.\n",
    "- Можно считать, что продажа прошла очень быстро, если они осуществлена в течении 45 суток (первый квартиль Q1);\n",
    "- Можно считать, что продажа прошла необычно долго, если они осуществлена в течении 232 суток (третий квартиль Q3);\n"
   ]
  },
  {
   "cell_type": "markdown",
   "metadata": {},
   "source": [
    "**Очистка данных**\n",
    "\n",
    "Уберу редкие и выбивающиеся значения."
   ]
  },
  {
   "cell_type": "markdown",
   "metadata": {},
   "source": [
    "**days_exposition**"
   ]
  },
  {
   "cell_type": "code",
   "execution_count": 744,
   "metadata": {},
   "outputs": [
    {
     "data": {
      "image/png": "[encoded data removed]",
      "text/plain": [
       "<Figure size 432x288 with 1 Axes>"
      ]
     },
     "metadata": {
      "needs_background": "light"
     },
     "output_type": "display_data"
    }
   ],
   "source": [
    "df.boxplot(column='days_exposition');"
   ]
  },
  {
   "cell_type": "markdown",
   "metadata": {},
   "source": [
    "Q3 = 232. Все что лежит выше считается выбросом. Таких значений очень много. И всё же значения, которые отсёк Q3 — редкие. Видно, насколько медиана не стремится к длинному хвосту высоких значений. Приму значения превышающие 1000 дней выбросами и избавлюсь от них:"
   ]
  },
  {
   "cell_type": "code",
   "execution_count": 686,
   "metadata": {},
   "outputs": [],
   "source": [
    "df = df.query('days_exposition < 1000')"
   ]
  },
  {
   "cell_type": "code",
   "execution_count": 687,
   "metadata": {
    "scrolled": true
   },
   "outputs": [
    {
     "data": {
      "image/png": "[encoded data removed]",
      "text/plain": [
       "<Figure size 432x288 with 1 Axes>"
      ]
     },
     "metadata": {
      "needs_background": "light"
     },
     "output_type": "display_data"
    }
   ],
   "source": [
    "#Проверка\n",
    "df['days_exposition'].hist(bins=50, range=(0,1500));"
   ]
  },
  {
   "cell_type": "markdown",
   "metadata": {},
   "source": [
    "Изучу гистограмму около 0."
   ]
  },
  {
   "cell_type": "code",
   "execution_count": 688,
   "metadata": {
    "scrolled": true
   },
   "outputs": [
    {
     "data": {
      "image/png": "[encoded data removed]",
      "text/plain": [
       "<Figure size 432x288 with 1 Axes>"
      ]
     },
     "metadata": {
      "needs_background": "light"
     },
     "output_type": "display_data"
    }
   ],
   "source": [
    "df['days_exposition'].hist(bins=50, range=(0,10));"
   ]
  },
  {
   "cell_type": "markdown",
   "metadata": {},
   "source": [
    "В нуле нет значений и это логично. Данные в этой части кажутся правдоподобными."
   ]
  },
  {
   "cell_type": "markdown",
   "metadata": {},
   "source": [
    "Напишу функцию которая будет возвращать крайние значения переменной за границами которых данные можно считать выбросами"
   ]
  },
  {
   "cell_type": "code",
   "execution_count": 689,
   "metadata": {},
   "outputs": [],
   "source": [
    "def points(column):\n",
    "    \n",
    "    #поиск зн-ия в \"усах\":\n",
    "    q1 = column.quantile(0.25)\n",
    "    q3 = column.quantile(0.75)\n",
    "    iqr = q3 - q1 #iqr\n",
    "    #границы интервала наиболее вероятных значений:\n",
    "    p1 = q1 - 1.5 * iqr \n",
    "    p2 = q3 + 1.5 * iqr\n",
    "    \n",
    "    return [p1,p2]\n",
    "    "
   ]
  },
  {
   "cell_type": "markdown",
   "metadata": {},
   "source": [
    "**psm**"
   ]
  },
  {
   "cell_type": "code",
   "execution_count": 690,
   "metadata": {
    "scrolled": true
   },
   "outputs": [
    {
     "data": {
      "image/png": "[encoded data removed]",
      "text/plain": [
       "<Figure size 432x288 with 1 Axes>"
      ]
     },
     "metadata": {
      "needs_background": "light"
     },
     "output_type": "display_data"
    }
   ],
   "source": [
    "#до очистки\n",
    "df.boxplot(column='psm');"
   ]
  },
  {
   "cell_type": "code",
   "execution_count": 691,
   "metadata": {
    "scrolled": true
   },
   "outputs": [
    {
     "name": "stdout",
     "output_type": "stream",
     "text": [
      "count    2.024000e+04\n",
      "mean     9.784110e+04\n",
      "std      4.755604e+04\n",
      "min      1.118349e+02\n",
      "25%      7.639089e+04\n",
      "50%      9.400000e+04\n",
      "75%      1.119940e+05\n",
      "max      1.907500e+06\n",
      "Name: psm, dtype: float64\n",
      "\n",
      "крайние значения: 22986.220622734058 165398.66762635956\n",
      "\n",
      "count     19287.000000\n",
      "mean      92812.657642\n",
      "std       26950.284804\n",
      "min       23148.148148\n",
      "25%       76136.363636\n",
      "50%       93125.000000\n",
      "75%      109574.468085\n",
      "max      165359.477124\n",
      "Name: psm, dtype: float64\n",
      "\n"
     ]
    }
   ],
   "source": [
    "#неочищенные данные\n",
    "print(df['psm'].describe())\n",
    "print()\n",
    "\n",
    "#получаю крайние значения\n",
    "p1 = points(df['psm'])[0]\n",
    "p2 = points(df['psm'])[1]\n",
    "print('крайние значения:', p1, p2)\n",
    "print()\n",
    "\n",
    "#удаление выбросов:\n",
    "df = df.query('psm > @p1 & psm < @p2')\n",
    "\n",
    "#очищенные данные\n",
    "print(df['psm'].describe())\n",
    "print()"
   ]
  },
  {
   "cell_type": "code",
   "execution_count": 692,
   "metadata": {
    "scrolled": true
   },
   "outputs": [
    {
     "data": {
      "image/png": "[encoded data removed]",
      "text/plain": [
       "<Figure size 432x288 with 1 Axes>"
      ]
     },
     "metadata": {
      "needs_background": "light"
     },
     "output_type": "display_data"
    }
   ],
   "source": [
    "#после очистки\n",
    "df.boxplot(column='psm');"
   ]
  },
  {
   "cell_type": "markdown",
   "metadata": {},
   "source": [
    "**last_price**"
   ]
  },
  {
   "cell_type": "code",
   "execution_count": 693,
   "metadata": {
    "scrolled": true
   },
   "outputs": [
    {
     "data": {
      "image/png": "[encoded data removed]",
      "text/plain": [
       "<Figure size 432x288 with 1 Axes>"
      ]
     },
     "metadata": {
      "needs_background": "light"
     },
     "output_type": "display_data"
    }
   ],
   "source": [
    "#до очистки\n",
    "df.boxplot(column='last_price');"
   ]
  },
  {
   "cell_type": "code",
   "execution_count": 694,
   "metadata": {
    "scrolled": true
   },
   "outputs": [
    {
     "name": "stdout",
     "output_type": "stream",
     "text": [
      "count    1.928700e+04\n",
      "mean     5.304045e+06\n",
      "std      3.442644e+06\n",
      "min      6.500000e+05\n",
      "25%      3.390000e+06\n",
      "50%      4.450000e+06\n",
      "75%      6.200000e+06\n",
      "max      6.500000e+07\n",
      "Name: last_price, dtype: float64\n",
      "\n",
      "крайние значения: -825000.0 10415000.0\n",
      "\n",
      "count    1.803400e+04\n",
      "mean     4.640436e+06\n",
      "std      1.917762e+06\n",
      "min      6.500000e+05\n",
      "25%      3.300000e+06\n",
      "50%      4.300000e+06\n",
      "75%      5.700000e+06\n",
      "max      1.041100e+07\n",
      "Name: last_price, dtype: float64\n",
      "\n"
     ]
    }
   ],
   "source": [
    "#неочищенные данные\n",
    "print(df['last_price'].describe())\n",
    "print()\n",
    "\n",
    "p1 = points(df['last_price'])[0]\n",
    "p2 = points(df['last_price'])[1]\n",
    "print('крайние значения:', p1, p2)\n",
    "print()\n",
    "\n",
    "#удаление выбросов:\n",
    "df = df.query('last_price > @p1 & last_price < @p2')\n",
    "\n",
    "#очищенные данные\n",
    "print(df['last_price'].describe())\n",
    "print()"
   ]
  },
  {
   "cell_type": "code",
   "execution_count": 695,
   "metadata": {
    "scrolled": true
   },
   "outputs": [
    {
     "data": {
      "image/png": "[encoded data removed]",
      "text/plain": [
       "<Figure size 432x288 with 1 Axes>"
      ]
     },
     "metadata": {
      "needs_background": "light"
     },
     "output_type": "display_data"
    }
   ],
   "source": [
    "#после очистки\n",
    "df.boxplot(column='last_price');"
   ]
  },
  {
   "cell_type": "markdown",
   "metadata": {},
   "source": [
    "**total_area**"
   ]
  },
  {
   "cell_type": "code",
   "execution_count": 696,
   "metadata": {},
   "outputs": [
    {
     "data": {
      "image/png": "[encoded data removed]",
      "text/plain": [
       "<Figure size 432x288 with 1 Axes>"
      ]
     },
     "metadata": {
      "needs_background": "light"
     },
     "output_type": "display_data"
    }
   ],
   "source": [
    "#до очистки\n",
    "df.boxplot(column='total_area');"
   ]
  },
  {
   "cell_type": "code",
   "execution_count": 697,
   "metadata": {
    "scrolled": true
   },
   "outputs": [
    {
     "name": "stdout",
     "output_type": "stream",
     "text": [
      "count    18034.000000\n",
      "mean        51.907831\n",
      "std         17.858222\n",
      "min         13.000000\n",
      "25%         38.200000\n",
      "50%         48.000000\n",
      "75%         62.000000\n",
      "max        201.500000\n",
      "Name: total_area, dtype: float64\n",
      "\n",
      "крайние значения: 2.500000000000007 97.69999999999999\n",
      "\n",
      "count    17710.000000\n",
      "mean        50.829819\n",
      "std         16.003310\n",
      "min         13.000000\n",
      "25%         38.000000\n",
      "50%         47.000000\n",
      "75%         61.000000\n",
      "max         97.600000\n",
      "Name: total_area, dtype: float64\n",
      "\n"
     ]
    }
   ],
   "source": [
    "#неочищенные данные\n",
    "print(df['total_area'].describe())\n",
    "print()\n",
    "\n",
    "p1 = points(df['total_area'])[0]\n",
    "p2 = points(df['total_area'])[1]\n",
    "print('крайние значения:', p1, p2)\n",
    "print()\n",
    "\n",
    "#удаление выбросов:\n",
    "df = df.query('total_area > @p1 & total_area < @p2')\n",
    "\n",
    "#очищенные данные\n",
    "print(df['total_area'].describe())\n",
    "print()"
   ]
  },
  {
   "cell_type": "code",
   "execution_count": 698,
   "metadata": {
    "scrolled": false
   },
   "outputs": [
    {
     "data": {
      "image/png": "[encoded data removed]",
      "text/plain": [
       "<Figure size 432x288 with 1 Axes>"
      ]
     },
     "metadata": {
      "needs_background": "light"
     },
     "output_type": "display_data"
    }
   ],
   "source": [
    "#после очистки\n",
    "df.boxplot(column='total_area');"
   ]
  },
  {
   "cell_type": "markdown",
   "metadata": {},
   "source": [
    "**living_area**"
   ]
  },
  {
   "cell_type": "code",
   "execution_count": 699,
   "metadata": {},
   "outputs": [
    {
     "data": {
      "image/png": "[encoded data removed]",
      "text/plain": [
       "<Figure size 432x288 with 1 Axes>"
      ]
     },
     "metadata": {
      "needs_background": "light"
     },
     "output_type": "display_data"
    }
   ],
   "source": [
    "#до очистки\n",
    "df.boxplot(column='living_area');"
   ]
  },
  {
   "cell_type": "code",
   "execution_count": 700,
   "metadata": {
    "scrolled": true
   },
   "outputs": [
    {
     "name": "stdout",
     "output_type": "stream",
     "text": [
      "count    17710.000000\n",
      "mean        28.993611\n",
      "std         11.757998\n",
      "min          2.000000\n",
      "25%         18.000000\n",
      "50%         28.500000\n",
      "75%         37.000000\n",
      "max         91.785000\n",
      "Name: living_area, dtype: float64\n",
      "\n",
      "крайние значения: -10.5 65.5\n",
      "\n",
      "count    17662.000000\n",
      "mean        28.881795\n",
      "std         11.571930\n",
      "min          2.000000\n",
      "25%         18.000000\n",
      "50%         28.500000\n",
      "75%         37.000000\n",
      "max         65.400000\n",
      "Name: living_area, dtype: float64\n",
      "\n"
     ]
    }
   ],
   "source": [
    "#неочищенные данные\n",
    "print(df['living_area'].describe())\n",
    "print()\n",
    "\n",
    "p1 = points(df['living_area'])[0]\n",
    "p2 = points(df['living_area'])[1]\n",
    "print('крайние значения:', p1, p2)\n",
    "print()\n",
    "\n",
    "#удаление выбросов:\n",
    "df = df.query('living_area > @p1 & living_area < @p2')\n",
    "\n",
    "#очищенные данные\n",
    "print(df['living_area'].describe())\n",
    "print()"
   ]
  },
  {
   "cell_type": "code",
   "execution_count": 701,
   "metadata": {
    "scrolled": true
   },
   "outputs": [
    {
     "data": {
      "image/png": "[encoded data removed]",
      "text/plain": [
       "<Figure size 432x288 with 1 Axes>"
      ]
     },
     "metadata": {
      "needs_background": "light"
     },
     "output_type": "display_data"
    }
   ],
   "source": [
    "#после очистки\n",
    "df.boxplot(column='living_area');"
   ]
  },
  {
   "cell_type": "markdown",
   "metadata": {},
   "source": [
    "**kitchen_area**"
   ]
  },
  {
   "cell_type": "code",
   "execution_count": 702,
   "metadata": {},
   "outputs": [
    {
     "data": {
      "image/png": "[encoded data removed]",
      "text/plain": [
       "<Figure size 432x288 with 1 Axes>"
      ]
     },
     "metadata": {
      "needs_background": "light"
     },
     "output_type": "display_data"
    }
   ],
   "source": [
    "#до очистки\n",
    "df.boxplot(column='kitchen_area');"
   ]
  },
  {
   "cell_type": "code",
   "execution_count": 703,
   "metadata": {
    "scrolled": true
   },
   "outputs": [
    {
     "name": "stdout",
     "output_type": "stream",
     "text": [
      "count    17485.000000\n",
      "mean         9.357234\n",
      "std          3.332708\n",
      "min          2.000000\n",
      "25%          7.000000\n",
      "50%          9.000000\n",
      "75%         10.700000\n",
      "max         50.000000\n",
      "Name: kitchen_area, dtype: float64\n",
      "\n",
      "крайние значения: 1.450000000000001 16.25\n",
      "\n",
      "count    16921.000000\n",
      "mean         8.971032\n",
      "std          2.471002\n",
      "min          2.000000\n",
      "25%          7.000000\n",
      "50%          8.900000\n",
      "75%         10.380000\n",
      "max         16.200000\n",
      "Name: kitchen_area, dtype: float64\n",
      "\n"
     ]
    }
   ],
   "source": [
    "#неочищенные данные\n",
    "print(df['kitchen_area'].describe())\n",
    "print()\n",
    "\n",
    "p1 = points(df['kitchen_area'])[0]\n",
    "p2 = points(df['kitchen_area'])[1]\n",
    "print('крайние значения:', p1, p2)\n",
    "print()\n",
    "\n",
    "#удаление выбросов:\n",
    "df = df.query('kitchen_area > @p1 & kitchen_area < @p2')\n",
    "\n",
    "#очищенные данные\n",
    "print(df['kitchen_area'].describe())\n",
    "print()"
   ]
  },
  {
   "cell_type": "code",
   "execution_count": 704,
   "metadata": {
    "scrolled": false
   },
   "outputs": [
    {
     "data": {
      "image/png": "[encoded data removed]",
      "text/plain": [
       "<Figure size 432x288 with 1 Axes>"
      ]
     },
     "metadata": {
      "needs_background": "light"
     },
     "output_type": "display_data"
    }
   ],
   "source": [
    "#после очистки\n",
    "df.boxplot(column='kitchen_area');"
   ]
  },
  {
   "cell_type": "markdown",
   "metadata": {},
   "source": [
    "**cityCenters_nearest**"
   ]
  },
  {
   "cell_type": "code",
   "execution_count": 705,
   "metadata": {},
   "outputs": [
    {
     "data": {
      "image/png": "[encoded data removed]",
      "text/plain": [
       "<Figure size 432x288 with 1 Axes>"
      ]
     },
     "metadata": {
      "needs_background": "light"
     },
     "output_type": "display_data"
    }
   ],
   "source": [
    "#до очистки\n",
    "df.boxplot(column='cityCenters_nearest');"
   ]
  },
  {
   "cell_type": "code",
   "execution_count": 706,
   "metadata": {
    "scrolled": true
   },
   "outputs": [
    {
     "name": "stdout",
     "output_type": "stream",
     "text": [
      "count    12745.000000\n",
      "mean     15408.900432\n",
      "std       8373.512432\n",
      "min        329.000000\n",
      "25%      11050.000000\n",
      "50%      13875.000000\n",
      "75%      16848.000000\n",
      "max      64857.000000\n",
      "Name: cityCenters_nearest, dtype: float64\n",
      "\n",
      "крайние значения: 2353.0 25545.0\n",
      "\n",
      "count    11107.000000\n",
      "mean     13061.303232\n",
      "std       4328.298705\n",
      "min       2357.000000\n",
      "25%      10792.500000\n",
      "50%      13242.000000\n",
      "75%      15713.000000\n",
      "max      25503.000000\n",
      "Name: cityCenters_nearest, dtype: float64\n",
      "\n"
     ]
    }
   ],
   "source": [
    "#неочищенные данные\n",
    "print(df['cityCenters_nearest'].describe())\n",
    "print()\n",
    "\n",
    "p1 = points(df['cityCenters_nearest'])[0]\n",
    "p2 = points(df['cityCenters_nearest'])[1]\n",
    "print('крайние значения:', p1, p2)\n",
    "print()\n",
    "\n",
    "#удаление выбросов:\n",
    "df = df.query('cityCenters_nearest > @p1 & cityCenters_nearest < @p2')\n",
    "\n",
    "#очищенные данные\n",
    "print(df['cityCenters_nearest'].describe())\n",
    "print()"
   ]
  },
  {
   "cell_type": "code",
   "execution_count": 707,
   "metadata": {
    "scrolled": false
   },
   "outputs": [
    {
     "data": {
      "image/png": "[encoded data removed]",
      "text/plain": [
       "<Figure size 432x288 with 1 Axes>"
      ]
     },
     "metadata": {
      "needs_background": "light"
     },
     "output_type": "display_data"
    }
   ],
   "source": [
    "#после очистки\n",
    "df.boxplot(column='cityCenters_nearest');"
   ]
  },
  {
   "cell_type": "markdown",
   "metadata": {},
   "source": [
    "### Изучение факторов влияющих на стоимость квартиры"
   ]
  },
  {
   "cell_type": "code",
   "execution_count": 708,
   "metadata": {
    "scrolled": true
   },
   "outputs": [
    {
     "data": {
      "text/plain": [
       "last_price             1.000000\n",
       "total_area             0.790131\n",
       "living_area            0.639051\n",
       "rooms                  0.507567\n",
       "kitchen_area           0.451726\n",
       "psm                    0.383604\n",
       "total_images           0.150286\n",
       "floors_total           0.104943\n",
       "ponds_around3000       0.098691\n",
       "ceiling_height         0.098147\n",
       "balcony                0.090169\n",
       "parks_around3000       0.077998\n",
       "areas_ratio            0.076741\n",
       "days_exposition        0.068489\n",
       "floor                  0.064286\n",
       "parks_nearest          0.033843\n",
       "year                   0.025378\n",
       "airports_nearest       0.006185\n",
       "weekday                0.005544\n",
       "open_plan             -0.000234\n",
       "is_apartment          -0.002828\n",
       "month                 -0.002940\n",
       "ponds_nearest         -0.019974\n",
       "studio                -0.022351\n",
       "cityCenters_nearest   -0.303361\n",
       "kitchen_ratio         -0.338296\n",
       "Name: last_price, dtype: float64"
      ]
     },
     "execution_count": 708,
     "metadata": {},
     "output_type": "execute_result"
    }
   ],
   "source": [
    "df.corr()['last_price'].sort_values(ascending=False)"
   ]
  },
  {
   "cell_type": "markdown",
   "metadata": {},
   "source": [
    "**last_price** (цена квартиры на момент снятия с публикации) сильнее всего зависит от **total_area,living_area,rooms,kitchen_area,kitchen_ratio,cityCenters_nearest**. Т.е. зависит от площади, числа комнат, удалённости от центра."
   ]
  },
  {
   "cell_type": "markdown",
   "metadata": {},
   "source": [
    "**Зависимость цены от того, на каком этаже расположена квартира: первом, последнем или другом**"
   ]
  },
  {
   "cell_type": "code",
   "execution_count": 709,
   "metadata": {
    "scrolled": true
   },
   "outputs": [
    {
     "data": {
      "image/png": "[encoded data removed]",
      "text/plain": [
       "<Figure size 432x288 with 1 Axes>"
      ]
     },
     "metadata": {
      "needs_background": "light"
     },
     "output_type": "display_data"
    }
   ],
   "source": [
    "df.boxplot(column = 'last_price', by = 'floor_category');\n",
    "plt.ylim(1000000, 8000000);"
   ]
  },
  {
   "cell_type": "markdown",
   "metadata": {},
   "source": [
    "Исходя из медианных значений (зеленых горизонтальных линий) можно проследить следующую зависимость:\n",
    "цены на жилье, расположенное на первом этаже самые низкие. Категория \"последний\" дороже, чем \"первый\". Самое дорогое жилье располагается в категории \"другие\"."
   ]
  },
  {
   "cell_type": "markdown",
   "metadata": {},
   "source": [
    "**Зависимость цены от даты размещения: дня недели, месяца и года**"
   ]
  },
  {
   "cell_type": "code",
   "execution_count": 710,
   "metadata": {
    "scrolled": true
   },
   "outputs": [
    {
     "data": {
      "image/png": "[encoded data removed]",
      "text/plain": [
       "<Figure size 432x288 with 1 Axes>"
      ]
     },
     "metadata": {
      "needs_background": "light"
     },
     "output_type": "display_data"
    }
   ],
   "source": [
    "df.boxplot(column = 'last_price', by = 'weekday');\n",
    "plt.ylim(1000000, 8000000);"
   ]
  },
  {
   "cell_type": "markdown",
   "metadata": {},
   "source": [
    "Явной зависимости не прослеживается"
   ]
  },
  {
   "cell_type": "code",
   "execution_count": 711,
   "metadata": {},
   "outputs": [
    {
     "data": {
      "image/png": "[encoded data removed]",
      "text/plain": [
       "<Figure size 432x288 with 1 Axes>"
      ]
     },
     "metadata": {
      "needs_background": "light"
     },
     "output_type": "display_data"
    }
   ],
   "source": [
    "df.boxplot(column = 'last_price', by = 'month');\n",
    "plt.ylim(3000000, 7000000);"
   ]
  },
  {
   "cell_type": "markdown",
   "metadata": {},
   "source": [
    "Сильная зависимость не прослеживается, но, например, объявления, размещенные в декабре (12) в среднем дороже, чем те, которые разместили в другое время."
   ]
  },
  {
   "cell_type": "code",
   "execution_count": 712,
   "metadata": {},
   "outputs": [
    {
     "data": {
      "image/png": "[encoded data removed]",
      "text/plain": [
       "<Figure size 432x288 with 1 Axes>"
      ]
     },
     "metadata": {
      "needs_background": "light"
     },
     "output_type": "display_data"
    }
   ],
   "source": [
    "df.boxplot(column = 'last_price', by = 'year');\n",
    "plt.ylim(3000000, 9000000);"
   ]
  },
  {
   "cell_type": "code",
   "execution_count": 713,
   "metadata": {},
   "outputs": [
    {
     "name": "stdout",
     "output_type": "stream",
     "text": [
      "Кол-во объявлений в 2014 году: 27\n",
      "Кол-во объявлений в 2015 году: 479\n",
      "Кол-во объявлений в 2016 году: 1461\n",
      "Кол-во объявлений в 2017 году: 4352\n",
      "Кол-во объявлений в 2018 году: 4100\n",
      "Кол-во объявлений в 2019 году: 688\n"
     ]
    }
   ],
   "source": [
    "print('Кол-во объявлений в 2014 году:', df.query('year == 2014').shape[0])\n",
    "print('Кол-во объявлений в 2015 году:', df.query('year == 2015').shape[0])\n",
    "print('Кол-во объявлений в 2016 году:', df.query('year == 2016').shape[0])\n",
    "print('Кол-во объявлений в 2017 году:', df.query('year == 2017').shape[0])\n",
    "print('Кол-во объявлений в 2018 году:', df.query('year == 2018').shape[0])\n",
    "print('Кол-во объявлений в 2019 году:', df.query('year == 2019').shape[0])"
   ]
  },
  {
   "cell_type": "markdown",
   "metadata": {},
   "source": [
    "**Зависимость цены квадратного метра от населенного пункта**"
   ]
  },
  {
   "cell_type": "markdown",
   "metadata": {},
   "source": [
    "Необходимо выбрать 10 населённых пунктов с наибольшим числом объявлений, посчитать среднюю цену квадратного метра в этих населённых пунктах. Выделить населённые пункты с самой высокой и низкой стоимостью жилья."
   ]
  },
  {
   "cell_type": "code",
   "execution_count": 714,
   "metadata": {},
   "outputs": [
    {
     "data": {
      "text/html": [
       "<div>\n",
       "<style scoped>\n",
       "    .dataframe tbody tr th:only-of-type {\n",
       "        vertical-align: middle;\n",
       "    }\n",
       "\n",
       "    .dataframe tbody tr th {\n",
       "        vertical-align: top;\n",
       "    }\n",
       "\n",
       "    .dataframe thead th {\n",
       "        text-align: right;\n",
       "    }\n",
       "</style>\n",
       "<table border=\"1\" class=\"dataframe\">\n",
       "  <thead>\n",
       "    <tr style=\"text-align: right;\">\n",
       "      <th></th>\n",
       "      <th>amount of ads</th>\n",
       "      <th>median price per m2</th>\n",
       "    </tr>\n",
       "    <tr>\n",
       "      <th>locality_name</th>\n",
       "      <th></th>\n",
       "      <th></th>\n",
       "    </tr>\n",
       "  </thead>\n",
       "  <tbody>\n",
       "    <tr>\n",
       "      <th>Санкт-Петербург</th>\n",
       "      <td>10503</td>\n",
       "      <td>100000.000000</td>\n",
       "    </tr>\n",
       "    <tr>\n",
       "      <th>Пушкин</th>\n",
       "      <td>28</td>\n",
       "      <td>96154.911570</td>\n",
       "    </tr>\n",
       "    <tr>\n",
       "      <th>посёлок Парголово</th>\n",
       "      <td>280</td>\n",
       "      <td>92294.871795</td>\n",
       "    </tr>\n",
       "    <tr>\n",
       "      <th>посёлок Стрельна</th>\n",
       "      <td>37</td>\n",
       "      <td>86904.761905</td>\n",
       "    </tr>\n",
       "    <tr>\n",
       "      <th>Мурино</th>\n",
       "      <td>2</td>\n",
       "      <td>79495.249451</td>\n",
       "    </tr>\n",
       "    <tr>\n",
       "      <th>посёлок Шушары</th>\n",
       "      <td>226</td>\n",
       "      <td>78028.338995</td>\n",
       "    </tr>\n",
       "  </tbody>\n",
       "</table>\n",
       "</div>"
      ],
      "text/plain": [
       "                   amount of ads  median price per m2\n",
       "locality_name                                        \n",
       "Санкт-Петербург            10503        100000.000000\n",
       "Пушкин                        28         96154.911570\n",
       "посёлок Парголово            280         92294.871795\n",
       "посёлок Стрельна              37         86904.761905\n",
       "Мурино                         2         79495.249451\n",
       "посёлок Шушары               226         78028.338995"
      ]
     },
     "metadata": {},
     "output_type": "display_data"
    }
   ],
   "source": [
    "table_coast = df.pivot_table(index='locality_name', values='psm', aggfunc=['count','median'])\n",
    "table_coast.columns = ['amount of ads', 'median price per m2']\n",
    "display(table_coast.sort_values(by='median price per m2', ascending=False).head(10))"
   ]
  },
  {
   "cell_type": "markdown",
   "metadata": {},
   "source": [
    "Если рассматривать 10 самых населенных локаций из датафрейма, то в Санкт-Петербурге, Пушкино самая высокая стоимость квадратного метра. В поселке Шушары самая низкая."
   ]
  },
  {
   "cell_type": "markdown",
   "metadata": {},
   "source": [
    "### Определение центральной области Санкт-Петербурга"
   ]
  },
  {
   "cell_type": "code",
   "execution_count": 715,
   "metadata": {},
   "outputs": [],
   "source": [
    "sp_data = df.query('locality_name == \"Санкт-Петербург\"')"
   ]
  },
  {
   "cell_type": "code",
   "execution_count": 716,
   "metadata": {},
   "outputs": [
    {
     "name": "stderr",
     "output_type": "stream",
     "text": [
      "/tmp/ipykernel_111/921441166.py:1: SettingWithCopyWarning: \n",
      "A value is trying to be set on a copy of a slice from a DataFrame.\n",
      "Try using .loc[row_indexer,col_indexer] = value instead\n",
      "\n",
      "See the caveats in the documentation: https://pandas.pydata.org/pandas-docs/stable/user_guide/indexing.html#returning-a-view-versus-a-copy\n",
      "  sp_data['cityCenters_nearest_km'] = (sp_data['cityCenters_nearest'] / 1000).round()\n"
     ]
    },
    {
     "data": {
      "image/png": "[encoded data removed]",
      "text/plain": [
       "<Figure size 720x720 with 1 Axes>"
      ]
     },
     "metadata": {
      "needs_background": "light"
     },
     "output_type": "display_data"
    }
   ],
   "source": [
    "sp_data['cityCenters_nearest_km'] = (sp_data['cityCenters_nearest'] / 1000).round()\n",
    "(sp_data.pivot_table(index='cityCenters_nearest_km', values='psm', aggfunc='mean')\n",
    ".plot(figsize=(10,10), grid=True)\n",
    ");\n"
   ]
  },
  {
   "cell_type": "markdown",
   "metadata": {},
   "source": [
    "График начинает резко расти около отметки в 10 км. Думаю можно принять, что зона (0-10) считается центром города. На промежутке 3-7 км от центра наблюдается спад цен. Это может объяняться снижением уровня комфорта проживания в этой зоне. Возможно вблизи от центра меньше магазинов, чем на небольшом удалении."
   ]
  },
  {
   "cell_type": "markdown",
   "metadata": {},
   "source": [
    "### Анализ квартир в центре Санкт-Петербурга"
   ]
  },
  {
   "cell_type": "markdown",
   "metadata": {},
   "source": [
    "Необходимо выделить сегмент квартир в центре, проанализировать эту территорию и изучить следующие параметры: площадь, цена, число комнат, высота потолков. Выделить факторы, которые влияют на стоимость квартиры (число комнат, этаж, удалённость от центра, дата размещения объявления)."
   ]
  },
  {
   "cell_type": "code",
   "execution_count": 717,
   "metadata": {},
   "outputs": [],
   "source": [
    "sp_centre_data = sp_data.query('cityCenters_nearest_km < 10')"
   ]
  },
  {
   "cell_type": "markdown",
   "metadata": {},
   "source": [
    "**Площадь:**\n",
    " - total_area — площадь квартиры в квадратных метрах (м²);\n",
    " - living_area — жилая площадь в квадратных метрах (м²);;\n",
    " - kitchen_area — площадь кухни в квадратных метрах (м²);\n",
    " - areas_ratio - cоотношение жилой и общей площади;\n",
    " - kitchen_ratio - cоотношение площади кухни к общей площади"
   ]
  },
  {
   "cell_type": "markdown",
   "metadata": {},
   "source": [
    "**total_area**"
   ]
  },
  {
   "cell_type": "code",
   "execution_count": 718,
   "metadata": {
    "scrolled": true
   },
   "outputs": [
    {
     "name": "stdout",
     "output_type": "stream",
     "text": [
      "count    2013.000000\n",
      "mean       56.334704\n",
      "std        16.913430\n",
      "min        13.000000\n",
      "25%        43.400000\n",
      "50%        55.000000\n",
      "75%        69.000000\n",
      "max        97.000000\n",
      "Name: total_area, dtype: float64\n",
      "\n",
      "mode: 0    43.0\n",
      "dtype: float64\n"
     ]
    }
   ],
   "source": [
    "print(sp_centre_data['total_area'].describe())\n",
    "print()\n",
    "print('mode:', sp_centre_data['total_area'].mode())"
   ]
  },
  {
   "cell_type": "code",
   "execution_count": 719,
   "metadata": {},
   "outputs": [
    {
     "data": {
      "image/png": "[encoded data removed]",
      "text/plain": [
       "<Figure size 432x288 with 1 Axes>"
      ]
     },
     "metadata": {
      "needs_background": "light"
     },
     "output_type": "display_data"
    }
   ],
   "source": [
    "fig, axes = plt.subplots()\n",
    "axes.set_title('Распределение `total_area`')\n",
    "sp_centre_data['total_area'].hist(bins=20, range=(0,100));"
   ]
  },
  {
   "cell_type": "markdown",
   "metadata": {},
   "source": [
    "Мода равна 43 (кв.м.).\n",
    "\n",
    "График напоминает нормальное распределение."
   ]
  },
  {
   "cell_type": "markdown",
   "metadata": {},
   "source": [
    "**living_area**"
   ]
  },
  {
   "cell_type": "code",
   "execution_count": 720,
   "metadata": {},
   "outputs": [
    {
     "name": "stdout",
     "output_type": "stream",
     "text": [
      "count    2013.000000\n",
      "mean       33.059702\n",
      "std        12.833056\n",
      "min         2.000000\n",
      "25%        21.110000\n",
      "50%        31.000000\n",
      "75%        42.700000\n",
      "max        65.400000\n",
      "Name: living_area, dtype: float64\n",
      "\n",
      "mode: 0    17.6\n",
      "1    30.5\n",
      "dtype: float64\n"
     ]
    }
   ],
   "source": [
    "print(sp_centre_data['living_area'].describe())\n",
    "print()\n",
    "print('mode:', sp_centre_data['living_area'].mode())"
   ]
  },
  {
   "cell_type": "code",
   "execution_count": 721,
   "metadata": {},
   "outputs": [
    {
     "data": {
      "image/png": "[encoded data removed]",
      "text/plain": [
       "<Figure size 432x288 with 1 Axes>"
      ]
     },
     "metadata": {
      "needs_background": "light"
     },
     "output_type": "display_data"
    }
   ],
   "source": [
    "fig, axes = plt.subplots()\n",
    "axes.set_title('Распределение `living_area`')\n",
    "sp_centre_data['living_area'].hist(bins=20, range=(0,75));"
   ]
  },
  {
   "cell_type": "markdown",
   "metadata": {},
   "source": [
    "График напоминает нормальное распределение."
   ]
  },
  {
   "cell_type": "markdown",
   "metadata": {},
   "source": [
    "**kitchen_area**"
   ]
  },
  {
   "cell_type": "code",
   "execution_count": 722,
   "metadata": {
    "scrolled": true
   },
   "outputs": [
    {
     "name": "stdout",
     "output_type": "stream",
     "text": [
      "count    2013.000000\n",
      "mean        9.316602\n",
      "std         2.664779\n",
      "min         2.000000\n",
      "25%         7.400000\n",
      "50%         9.000000\n",
      "75%        11.000000\n",
      "max        16.200000\n",
      "Name: kitchen_area, dtype: float64\n",
      "\n",
      "mode: 0    8.0\n",
      "dtype: float64\n"
     ]
    }
   ],
   "source": [
    "print(sp_centre_data['kitchen_area'].describe())\n",
    "print()\n",
    "print('mode:', sp_centre_data['kitchen_area'].mode())"
   ]
  },
  {
   "cell_type": "code",
   "execution_count": 723,
   "metadata": {},
   "outputs": [
    {
     "data": {
      "image/png": "[encoded data removed]",
      "text/plain": [
       "<Figure size 432x288 with 1 Axes>"
      ]
     },
     "metadata": {
      "needs_background": "light"
     },
     "output_type": "display_data"
    }
   ],
   "source": [
    "fig, axes = plt.subplots()\n",
    "axes.set_title('Распределение `kitchen_area`')\n",
    "sp_centre_data['kitchen_area'].hist(bins=20, range=(0,20));"
   ]
  },
  {
   "cell_type": "markdown",
   "metadata": {},
   "source": [
    "График близок к нормальному распределению. "
   ]
  },
  {
   "cell_type": "markdown",
   "metadata": {},
   "source": [
    "**areas_ratio**"
   ]
  },
  {
   "cell_type": "code",
   "execution_count": 724,
   "metadata": {},
   "outputs": [
    {
     "name": "stdout",
     "output_type": "stream",
     "text": [
      "count    2013.000000\n",
      "mean        0.579019\n",
      "std         0.107820\n",
      "min         0.038462\n",
      "25%         0.513699\n",
      "50%         0.589744\n",
      "75%         0.652529\n",
      "max         1.353846\n",
      "Name: areas_ratio, dtype: float64\n",
      "\n",
      "mode: 0    0.5\n",
      "dtype: float64\n"
     ]
    }
   ],
   "source": [
    "print(sp_centre_data['areas_ratio'].describe())\n",
    "print()\n",
    "print('mode:', sp_centre_data['areas_ratio'].mode())"
   ]
  },
  {
   "cell_type": "code",
   "execution_count": 725,
   "metadata": {
    "scrolled": true
   },
   "outputs": [
    {
     "data": {
      "image/png": "[encoded data removed]",
      "text/plain": [
       "<Figure size 432x288 with 1 Axes>"
      ]
     },
     "metadata": {
      "needs_background": "light"
     },
     "output_type": "display_data"
    }
   ],
   "source": [
    "fig, axes = plt.subplots()\n",
    "axes.set_title('Распределение `areas_ratio`')\n",
    "sp_centre_data['areas_ratio'].hist(bins=30);"
   ]
  },
  {
   "cell_type": "markdown",
   "metadata": {},
   "source": [
    "График представляет собой нормальное распределение."
   ]
  },
  {
   "cell_type": "markdown",
   "metadata": {},
   "source": [
    "**kitchen_ratio**"
   ]
  },
  {
   "cell_type": "code",
   "execution_count": 726,
   "metadata": {},
   "outputs": [
    {
     "name": "stdout",
     "output_type": "stream",
     "text": [
      "count    2013.000000\n",
      "mean        0.176288\n",
      "std         0.063563\n",
      "min         0.068027\n",
      "25%         0.131122\n",
      "50%         0.161172\n",
      "75%         0.208791\n",
      "max         0.695385\n",
      "Name: kitchen_ratio, dtype: float64\n",
      "\n",
      "mode: 0    0.166667\n",
      "dtype: float64\n"
     ]
    }
   ],
   "source": [
    "print(sp_centre_data['kitchen_ratio'].describe())\n",
    "print()\n",
    "print('mode:', sp_centre_data['kitchen_ratio'].mode())"
   ]
  },
  {
   "cell_type": "code",
   "execution_count": 727,
   "metadata": {},
   "outputs": [
    {
     "data": {
      "image/png": "[encoded data removed]",
      "text/plain": [
       "<Figure size 432x288 with 1 Axes>"
      ]
     },
     "metadata": {
      "needs_background": "light"
     },
     "output_type": "display_data"
    }
   ],
   "source": [
    "fig, axes = plt.subplots()\n",
    "axes.set_title('Распределение `kitchen_ratio`')\n",
    "sp_centre_data['kitchen_ratio'].hist(bins=30);"
   ]
  },
  {
   "cell_type": "markdown",
   "metadata": {},
   "source": [
    "График представляет собой нормальное распределение."
   ]
  },
  {
   "cell_type": "markdown",
   "metadata": {},
   "source": [
    "**Изучение цены:**\n",
    "- last_price — цена на момент снятия с публикации\n",
    "- psm - цена квадратного метра\n"
   ]
  },
  {
   "cell_type": "code",
   "execution_count": 728,
   "metadata": {},
   "outputs": [
    {
     "name": "stdout",
     "output_type": "stream",
     "text": [
      "count    2.013000e+03\n",
      "mean     6.126362e+06\n",
      "std      1.837773e+06\n",
      "min      1.686000e+06\n",
      "25%      4.650000e+06\n",
      "50%      6.000000e+06\n",
      "75%      7.500000e+06\n",
      "max      1.040000e+07\n",
      "Name: last_price, dtype: float64\n",
      "\n",
      "mode: 0    6500000.0\n",
      "dtype: float64\n"
     ]
    }
   ],
   "source": [
    "print(sp_centre_data['last_price'].describe())\n",
    "print()\n",
    "print('mode:', sp_centre_data['last_price'].mode())"
   ]
  },
  {
   "cell_type": "code",
   "execution_count": 729,
   "metadata": {
    "scrolled": false
   },
   "outputs": [
    {
     "data": {
      "image/png": "[encoded data removed]",
      "text/plain": [
       "<Figure size 432x288 with 1 Axes>"
      ]
     },
     "metadata": {
      "needs_background": "light"
     },
     "output_type": "display_data"
    }
   ],
   "source": [
    "fig, axes = plt.subplots()\n",
    "axes.set_title('Распределение `last_price`')\n",
    "sp_centre_data['last_price'].hist(bins=50, range=(0,1.2e+07));"
   ]
  },
  {
   "cell_type": "markdown",
   "metadata": {},
   "source": [
    "График представляет собой нормальное распределение."
   ]
  },
  {
   "cell_type": "code",
   "execution_count": 730,
   "metadata": {},
   "outputs": [
    {
     "name": "stdout",
     "output_type": "stream",
     "text": [
      "count      2013.000000\n",
      "mean     110901.373609\n",
      "std       21962.848857\n",
      "min       26250.000000\n",
      "25%       94420.600858\n",
      "50%      108064.516129\n",
      "75%      126470.588235\n",
      "max      165217.391304\n",
      "Name: psm, dtype: float64\n",
      "\n",
      "mode: 0    100000.0\n",
      "dtype: float64\n"
     ]
    }
   ],
   "source": [
    "print(sp_centre_data['psm'].describe())\n",
    "print()\n",
    "print('mode:', sp_centre_data['psm'].mode())"
   ]
  },
  {
   "cell_type": "code",
   "execution_count": 731,
   "metadata": {
    "scrolled": true
   },
   "outputs": [
    {
     "data": {
      "image/png": "[encoded data removed]",
      "text/plain": [
       "<Figure size 432x288 with 1 Axes>"
      ]
     },
     "metadata": {
      "needs_background": "light"
     },
     "output_type": "display_data"
    }
   ],
   "source": [
    "fig, axes = plt.subplots()\n",
    "axes.set_title('Распределение `psm`')\n",
    "sp_centre_data['psm'].hist(bins=50, range=(0,2.0e+05));"
   ]
  },
  {
   "cell_type": "code",
   "execution_count": 745,
   "metadata": {
    "scrolled": true
   },
   "outputs": [
    {
     "data": {
      "image/png": "[encoded data removed]",
      "text/plain": [
       "<Figure size 1080x288 with 2 Axes>"
      ]
     },
     "metadata": {
      "needs_background": "light"
     },
     "output_type": "display_data"
    }
   ],
   "source": [
    "\n",
    "fig, axes = plt.subplots(1,2,figsize=(15,4))\n",
    "\n",
    "sp_centre_data['psm'].hist(bins=30, ax=axes[0])\n",
    "\n",
    "sp_data['psm'].hist(bins=30, ax=axes[1])\n",
    "\n",
    "\n",
    "axes[0].set_title('Распределение цены на кв.м. для центра')\n",
    "axes[1].set_title('Распределение цены на кв.м. для всего города')\n",
    "\n",
    "plt.show()"
   ]
  },
  {
   "cell_type": "markdown",
   "metadata": {},
   "source": [
    "График представляет собой нормальное распределение."
   ]
  },
  {
   "cell_type": "markdown",
   "metadata": {},
   "source": [
    "**Число комнат:**\n",
    "- rooms — число комнат"
   ]
  },
  {
   "cell_type": "code",
   "execution_count": 733,
   "metadata": {
    "scrolled": true
   },
   "outputs": [
    {
     "name": "stdout",
     "output_type": "stream",
     "text": [
      "count    2013.000000\n",
      "mean        2.058122\n",
      "std         0.839566\n",
      "min         1.000000\n",
      "25%         1.000000\n",
      "50%         2.000000\n",
      "75%         3.000000\n",
      "max         5.000000\n",
      "Name: rooms, dtype: float64\n",
      "\n",
      "mode: 0    2\n",
      "dtype: int64\n"
     ]
    }
   ],
   "source": [
    "print(sp_centre_data['rooms'].describe())\n",
    "print()\n",
    "print('mode:', sp_centre_data['rooms'].mode())"
   ]
  },
  {
   "cell_type": "code",
   "execution_count": 746,
   "metadata": {
    "scrolled": true
   },
   "outputs": [
    {
     "data": {
      "image/png": "[encoded data removed]",
      "text/plain": [
       "<Figure size 1080x288 with 2 Axes>"
      ]
     },
     "metadata": {
      "needs_background": "light"
     },
     "output_type": "display_data"
    }
   ],
   "source": [
    "fig, axes = plt.subplots(1,2,figsize=(15,4))\n",
    "\n",
    "sp_centre_data['rooms'].value_counts().sort_values(ascending=False).plot(kind='bar',xlim = (1,8), ax=axes[0])\n",
    "\n",
    "sp_data['rooms'].value_counts().sort_values(ascending=False).plot(kind='bar',xlim = (1,8), ax=axes[1])\n",
    "\n",
    "axes[0].set_title('Распределение кол-ва комнат для центра')\n",
    "axes[1].set_title('Распределение кол-ва комнат для всего города');"
   ]
  },
  {
   "cell_type": "markdown",
   "metadata": {},
   "source": [
    " Можно сказать, что однакомнатных и двухкомнатных квартир в датафрейме больше всего."
   ]
  },
  {
   "cell_type": "markdown",
   "metadata": {},
   "source": [
    "**Высота потолков:**\n",
    "- ceiling_height — высота потолков (м)\n"
   ]
  },
  {
   "cell_type": "code",
   "execution_count": 735,
   "metadata": {
    "scrolled": true
   },
   "outputs": [
    {
     "name": "stdout",
     "output_type": "stream",
     "text": [
      "count    1221.000000\n",
      "mean        2.919509\n",
      "std         0.932537\n",
      "min         2.400000\n",
      "25%         2.650000\n",
      "50%         2.800000\n",
      "75%         3.000000\n",
      "max        25.000000\n",
      "Name: ceiling_height, dtype: float64\n",
      "\n",
      "mode: 0    3.0\n",
      "dtype: float64\n"
     ]
    }
   ],
   "source": [
    "print(sp_centre_data['ceiling_height'].describe())\n",
    "print()\n",
    "print('mode:', sp_centre_data['ceiling_height'].mode())"
   ]
  },
  {
   "cell_type": "markdown",
   "metadata": {},
   "source": [
    "Больше всего потолков высотой 3 м."
   ]
  },
  {
   "cell_type": "code",
   "execution_count": 736,
   "metadata": {},
   "outputs": [
    {
     "data": {
      "image/png": "[encoded data removed]",
      "text/plain": [
       "<Figure size 1080x288 with 2 Axes>"
      ]
     },
     "metadata": {
      "needs_background": "light"
     },
     "output_type": "display_data"
    }
   ],
   "source": [
    "# код ревьюера\n",
    "\n",
    "fig, axes = plt.subplots(1,2,figsize=(15,4))\n",
    "\n",
    "sp_centre_data['ceiling_height'].hist(bins=30, range=(1,5), ax=axes[0])\n",
    "\n",
    "sp_data['ceiling_height'].hist(bins=30, range=(1,5), ax=axes[1])\n",
    "\n",
    "axes[0].set_title('Распределение высоты потолков для центра')\n",
    "axes[1].set_title('Распределение высоты потолков для всего города');"
   ]
  },
  {
   "cell_type": "markdown",
   "metadata": {},
   "source": [
    "В центре города потолки выше, чем за пределами центра Спб."
   ]
  },
  {
   "cell_type": "markdown",
   "metadata": {},
   "source": [
    "### Вывод №1 ###\n",
    "Сравнивая данные по центру Спб и всему датафрейму (всему жилью, представленному в данных) можно выделить следующие отличия:\n",
    " - total_area: медианное зн-ие в центре Спб **55** m2 против **52** m2 во всем датафрейме ;\n",
    " - psm: **108064** против **95000** ;  \n",
    " - room: **2** и **2** ;\n",
    " - ceiling_height: **2.8** против **2.65** м.\n"
   ]
  },
  {
   "cell_type": "markdown",
   "metadata": {},
   "source": [
    "**Факторы, влияющие на стоимость квартиры**"
   ]
  },
  {
   "cell_type": "markdown",
   "metadata": {},
   "source": [
    "Выделю факторы, которые влияют на стоимость квартиры (число комнат, этаж, удалённость от центра, дата размещения объявления)."
   ]
  },
  {
   "cell_type": "code",
   "execution_count": 737,
   "metadata": {
    "scrolled": true
   },
   "outputs": [
    {
     "data": {
      "text/plain": [
       "last_price                1.000000\n",
       "total_area                0.765864\n",
       "living_area               0.596330\n",
       "rooms                     0.468604\n",
       "kitchen_area              0.463254\n",
       "psm                       0.333054\n",
       "total_images              0.122429\n",
       "ponds_around3000          0.120928\n",
       "days_exposition           0.101938\n",
       "floor                     0.094357\n",
       "floors_total              0.082513\n",
       "parks_nearest             0.076727\n",
       "ceiling_height            0.074068\n",
       "parks_around3000          0.050904\n",
       "weekday                   0.039408\n",
       "balcony                   0.039185\n",
       "month                     0.010555\n",
       "ponds_nearest            -0.002261\n",
       "is_apartment             -0.003900\n",
       "year                     -0.004750\n",
       "areas_ratio              -0.005259\n",
       "open_plan                -0.007600\n",
       "studio                   -0.019734\n",
       "airports_nearest         -0.119594\n",
       "cityCenters_nearest      -0.274913\n",
       "cityCenters_nearest_km   -0.281054\n",
       "kitchen_ratio            -0.312098\n",
       "Name: last_price, dtype: float64"
      ]
     },
     "execution_count": 737,
     "metadata": {},
     "output_type": "execute_result"
    }
   ],
   "source": [
    "sp_centre_data.corr()['last_price'].sort_values(ascending=False)"
   ]
  },
  {
   "cell_type": "markdown",
   "metadata": {},
   "source": [
    "last_price (цена на квадратный метр) сильнее всего зависит от total_area, living_area, rooms,kitchen_ratio,cityCenters_nearest_km   "
   ]
  },
  {
   "cell_type": "markdown",
   "metadata": {},
   "source": [
    "**Зависимость цены на квартиру от числа комнат**"
   ]
  },
  {
   "cell_type": "code",
   "execution_count": 738,
   "metadata": {},
   "outputs": [
    {
     "data": {
      "image/png": "[encoded data removed]",
      "text/plain": [
       "<Figure size 432x288 with 1 Axes>"
      ]
     },
     "metadata": {
      "needs_background": "light"
     },
     "output_type": "display_data"
    }
   ],
   "source": [
    "sp_centre_data.boxplot(column = 'last_price', by = 'rooms');"
   ]
  },
  {
   "cell_type": "markdown",
   "metadata": {},
   "source": [
    "Кол-во комнат напрямую влияет на стоимость квартиры"
   ]
  },
  {
   "cell_type": "markdown",
   "metadata": {},
   "source": [
    "**Зависимость цены от того, на каком этаже расположена квартира: первом, последнем или другом**"
   ]
  },
  {
   "cell_type": "code",
   "execution_count": 739,
   "metadata": {
    "scrolled": true
   },
   "outputs": [
    {
     "data": {
      "image/png": "[encoded data removed]",
      "text/plain": [
       "<Figure size 432x288 with 1 Axes>"
      ]
     },
     "metadata": {
      "needs_background": "light"
     },
     "output_type": "display_data"
    }
   ],
   "source": [
    "sp_centre_data.boxplot(column = 'last_price', by = 'floor_category');"
   ]
  },
  {
   "cell_type": "markdown",
   "metadata": {},
   "source": [
    "Исходя из медианных значений (зеленых горизонтальных линий) можно проследить следующую зависимость:\n",
    "цены на жилье, расположенное на первом этаже самые низкие. Категория \"последний\" дороже, чем \"первый\". Самое дорогое жилье располагается в категории \"другие\"."
   ]
  },
  {
   "cell_type": "markdown",
   "metadata": {},
   "source": [
    "**Зависимость цены на квартиру от ее удаленности от центра**"
   ]
  },
  {
   "cell_type": "code",
   "execution_count": 740,
   "metadata": {},
   "outputs": [
    {
     "data": {
      "image/png": "[encoded data removed]",
      "text/plain": [
       "<Figure size 432x288 with 1 Axes>"
      ]
     },
     "metadata": {
      "needs_background": "light"
     },
     "output_type": "display_data"
    }
   ],
   "source": [
    "sp_centre_data.boxplot(column = 'last_price', by = 'cityCenters_nearest_km');"
   ]
  },
  {
   "cell_type": "markdown",
   "metadata": {},
   "source": [
    "На промежутке 0-3 км наблюдается рост цен по мере приближения к самому центру. На промежутке 3-6 км от центра наблюдается спад цен. Это может объяняться снижением уровня комфорта проживания в этой зоне. Возможно вблизи от центра меньше магазинов, чем на небольшом удалении.Также цены равномерно увеличиваются на промежутке 7-9 км."
   ]
  },
  {
   "cell_type": "markdown",
   "metadata": {},
   "source": [
    "**Зависимость цены от даты размещения: дня недели, месяца и года**"
   ]
  },
  {
   "cell_type": "code",
   "execution_count": 741,
   "metadata": {
    "scrolled": true
   },
   "outputs": [
    {
     "data": {
      "image/png": "[encoded data removed]",
      "text/plain": [
       "<Figure size 432x288 with 1 Axes>"
      ]
     },
     "metadata": {
      "needs_background": "light"
     },
     "output_type": "display_data"
    }
   ],
   "source": [
    "sp_centre_data.boxplot(column = 'last_price', by = 'weekday');"
   ]
  },
  {
   "cell_type": "markdown",
   "metadata": {},
   "source": [
    "Явной зависимости нет, но объявления, размещенные в субботу, немного дороже всех остальных."
   ]
  },
  {
   "cell_type": "code",
   "execution_count": 742,
   "metadata": {},
   "outputs": [
    {
     "data": {
      "image/png": "[encoded data removed]",
      "text/plain": [
       "<Figure size 432x288 with 1 Axes>"
      ]
     },
     "metadata": {
      "needs_background": "light"
     },
     "output_type": "display_data"
    }
   ],
   "source": [
    "sp_centre_data.boxplot(column = 'last_price', by = 'month');"
   ]
  },
  {
   "cell_type": "markdown",
   "metadata": {},
   "source": [
    "Явной зависимости не прослеживается."
   ]
  },
  {
   "cell_type": "code",
   "execution_count": 743,
   "metadata": {},
   "outputs": [
    {
     "data": {
      "image/png": "[encoded data removed]",
      "text/plain": [
       "<Figure size 432x288 with 1 Axes>"
      ]
     },
     "metadata": {
      "needs_background": "light"
     },
     "output_type": "display_data"
    }
   ],
   "source": [
    "sp_centre_data.boxplot(column = 'last_price', by = 'year');"
   ]
  },
  {
   "cell_type": "markdown",
   "metadata": {},
   "source": [
    "В 2015 и 2019 годах отмечаются самые высокие цены. Ценам в 2014 году доверять сложно из-за малого объема выборки и, как следствие, низкой репрезентативности."
   ]
  },
  {
   "cell_type": "markdown",
   "metadata": {},
   "source": [
    "### Вывод №2 ###\n",
    "\n",
    "Факторы влияющие на цену квадратного метра жилья в центре Санкт-Петербурга и за пределами города одни и те же: площадь квартиры, кол-во комнат и удаленность от центра города."
   ]
  },
  {
   "cell_type": "markdown",
   "metadata": {},
   "source": [
    "## Общий вывод"
   ]
  },
  {
   "cell_type": "markdown",
   "metadata": {},
   "source": [
    "В ходе выполнения проекта была произведена предообработка данных, добавление новых и важных для анализа данных в таблицу и проведен исследовательский анализ. Исследовательский анализ показал, что самым дорогим жильем в датафрейме является двух- и трехкомнатные объекты в центре Санкт-Петербурга. Большинство показателей распределены по нормальному закону, а те которые зависят от времени (days_exposition), подчиняются закону распределения Пуассона. Наблюдается существенная разница в стоимости жилья в центре Спб и в Ленинградской области.С помощью графика, отображающего зависимость стоимости квадратного метра от удаленности от центра города Спб, была вычислена центральная зона города.\n",
    "Стоимость квартиры в центре Спб и за его пределами одинаково зависит от ее площади, кол-ва комнат и удаленности от центра. Явной зависимости цены на квартиру от дня и месяца публикации установить не удалось.В Питере цены на жилье почти не менялись за период 2014-2019, за его пределами же в этот период отмечалась более выраженная динамика цен."
   ]
  }
 ],
 "metadata": {
  "ExecuteTimeLog": [
   {
    "duration": 659,
    "start_time": "2022-01-08T18:18:51.281Z"
   },
   {
    "duration": 60,
    "start_time": "2022-01-08T18:19:07.933Z"
   },
   {
    "duration": 80,
    "start_time": "2022-01-08T18:20:36.044Z"
   },
   {
    "duration": 11,
    "start_time": "2022-01-08T18:22:03.669Z"
   },
   {
    "duration": 27,
    "start_time": "2022-01-08T18:31:15.324Z"
   },
   {
    "duration": 15,
    "start_time": "2022-01-08T19:06:15.182Z"
   },
   {
    "duration": 8,
    "start_time": "2022-01-08T19:10:13.261Z"
   },
   {
    "duration": 6,
    "start_time": "2022-01-08T19:10:29.169Z"
   },
   {
    "duration": 8,
    "start_time": "2022-01-08T19:10:40.457Z"
   },
   {
    "duration": 25,
    "start_time": "2022-01-08T19:11:56.205Z"
   },
   {
    "duration": 7,
    "start_time": "2022-01-08T19:12:59.359Z"
   },
   {
    "duration": 6,
    "start_time": "2022-01-08T19:13:38.974Z"
   },
   {
    "duration": 8,
    "start_time": "2022-01-08T19:14:01.617Z"
   },
   {
    "duration": 9,
    "start_time": "2022-01-08T19:14:19.385Z"
   },
   {
    "duration": 7,
    "start_time": "2022-01-08T19:14:34.010Z"
   },
   {
    "duration": 7,
    "start_time": "2022-01-08T19:14:50.689Z"
   },
   {
    "duration": -86,
    "start_time": "2022-01-08T19:15:07.201Z"
   },
   {
    "duration": 9,
    "start_time": "2022-01-08T19:15:08.089Z"
   },
   {
    "duration": 7,
    "start_time": "2022-01-08T19:15:18.608Z"
   },
   {
    "duration": 7,
    "start_time": "2022-01-08T19:15:33.031Z"
   },
   {
    "duration": 10,
    "start_time": "2022-01-08T19:15:56.002Z"
   },
   {
    "duration": 6,
    "start_time": "2022-01-08T19:16:21.092Z"
   },
   {
    "duration": 6,
    "start_time": "2022-01-08T19:16:35.106Z"
   },
   {
    "duration": 121,
    "start_time": "2022-01-08T21:10:49.364Z"
   },
   {
    "duration": 79,
    "start_time": "2022-01-08T21:16:33.241Z"
   },
   {
    "duration": 81,
    "start_time": "2022-01-08T21:16:44.057Z"
   },
   {
    "duration": 35,
    "start_time": "2022-01-08T21:16:50.992Z"
   },
   {
    "duration": 240,
    "start_time": "2022-01-08T21:20:31.062Z"
   },
   {
    "duration": 75,
    "start_time": "2022-01-08T21:20:38.430Z"
   },
   {
    "duration": 113,
    "start_time": "2022-01-08T21:20:41.970Z"
   },
   {
    "duration": 298,
    "start_time": "2022-01-08T21:20:46.664Z"
   },
   {
    "duration": 6,
    "start_time": "2022-01-08T21:25:00.787Z"
   },
   {
    "duration": 9,
    "start_time": "2022-01-08T21:25:27.153Z"
   },
   {
    "duration": 7,
    "start_time": "2022-01-08T21:25:31.282Z"
   },
   {
    "duration": 8,
    "start_time": "2022-01-08T21:25:56.042Z"
   },
   {
    "duration": 7,
    "start_time": "2022-01-08T21:40:46.067Z"
   },
   {
    "duration": 7,
    "start_time": "2022-01-08T21:40:58.611Z"
   },
   {
    "duration": 5,
    "start_time": "2022-01-08T21:41:19.347Z"
   },
   {
    "duration": 6,
    "start_time": "2022-01-08T21:43:39.515Z"
   },
   {
    "duration": 10,
    "start_time": "2022-01-08T21:44:20.084Z"
   },
   {
    "duration": 12,
    "start_time": "2022-01-08T21:49:42.384Z"
   },
   {
    "duration": 313,
    "start_time": "2022-01-08T22:49:16.402Z"
   },
   {
    "duration": 4,
    "start_time": "2022-01-08T22:49:22.889Z"
   },
   {
    "duration": 8,
    "start_time": "2022-01-08T22:51:11.281Z"
   },
   {
    "duration": 5,
    "start_time": "2022-01-08T22:51:41.074Z"
   },
   {
    "duration": 14,
    "start_time": "2022-01-08T22:58:23.781Z"
   },
   {
    "duration": 273,
    "start_time": "2022-01-08T23:00:17.804Z"
   },
   {
    "duration": 257,
    "start_time": "2022-01-08T23:04:19.319Z"
   },
   {
    "duration": 15,
    "start_time": "2022-01-08T23:04:59.814Z"
   },
   {
    "duration": 14,
    "start_time": "2022-01-08T23:06:06.443Z"
   },
   {
    "duration": 79,
    "start_time": "2022-01-08T23:06:15.673Z"
   },
   {
    "duration": 11,
    "start_time": "2022-01-08T23:06:15.753Z"
   },
   {
    "duration": 25,
    "start_time": "2022-01-08T23:06:15.766Z"
   },
   {
    "duration": 8,
    "start_time": "2022-01-08T23:06:15.793Z"
   },
   {
    "duration": 10,
    "start_time": "2022-01-08T23:06:15.803Z"
   },
   {
    "duration": 3,
    "start_time": "2022-01-08T23:06:15.815Z"
   },
   {
    "duration": 9,
    "start_time": "2022-01-08T23:06:15.820Z"
   },
   {
    "duration": 33,
    "start_time": "2022-01-08T23:06:15.831Z"
   },
   {
    "duration": 18,
    "start_time": "2022-01-08T23:06:20.557Z"
   },
   {
    "duration": 273,
    "start_time": "2022-01-08T23:09:25.782Z"
   },
   {
    "duration": 240,
    "start_time": "2022-01-08T23:09:40.840Z"
   },
   {
    "duration": 311,
    "start_time": "2022-01-08T23:09:46.021Z"
   },
   {
    "duration": 16,
    "start_time": "2022-01-08T23:09:52.142Z"
   },
   {
    "duration": 255,
    "start_time": "2022-01-08T23:10:48.471Z"
   },
   {
    "duration": 254,
    "start_time": "2022-01-08T23:11:07.591Z"
   },
   {
    "duration": 15,
    "start_time": "2022-01-08T23:15:00.297Z"
   },
   {
    "duration": 78,
    "start_time": "2022-01-08T23:15:18.449Z"
   },
   {
    "duration": 10,
    "start_time": "2022-01-08T23:15:18.529Z"
   },
   {
    "duration": 41,
    "start_time": "2022-01-08T23:15:18.541Z"
   },
   {
    "duration": 8,
    "start_time": "2022-01-08T23:15:18.584Z"
   },
   {
    "duration": 13,
    "start_time": "2022-01-08T23:15:18.594Z"
   },
   {
    "duration": 3,
    "start_time": "2022-01-08T23:15:18.609Z"
   },
   {
    "duration": 8,
    "start_time": "2022-01-08T23:15:18.614Z"
   },
   {
    "duration": 6,
    "start_time": "2022-01-08T23:15:18.624Z"
   },
   {
    "duration": 44,
    "start_time": "2022-01-08T23:15:18.631Z"
   },
   {
    "duration": 20,
    "start_time": "2022-01-08T23:18:40.320Z"
   },
   {
    "duration": 76,
    "start_time": "2022-01-08T23:18:50.091Z"
   },
   {
    "duration": 10,
    "start_time": "2022-01-08T23:18:50.168Z"
   },
   {
    "duration": 21,
    "start_time": "2022-01-08T23:18:50.180Z"
   },
   {
    "duration": 8,
    "start_time": "2022-01-08T23:18:50.203Z"
   },
   {
    "duration": 16,
    "start_time": "2022-01-08T23:18:50.212Z"
   },
   {
    "duration": 3,
    "start_time": "2022-01-08T23:18:50.229Z"
   },
   {
    "duration": 33,
    "start_time": "2022-01-08T23:18:50.234Z"
   },
   {
    "duration": 6,
    "start_time": "2022-01-08T23:18:50.269Z"
   },
   {
    "duration": 18,
    "start_time": "2022-01-08T23:18:52.095Z"
   },
   {
    "duration": 14,
    "start_time": "2022-01-08T23:19:21.672Z"
   },
   {
    "duration": 4,
    "start_time": "2022-01-09T00:08:53.327Z"
   },
   {
    "duration": 8,
    "start_time": "2022-01-09T00:09:01.476Z"
   },
   {
    "duration": 4,
    "start_time": "2022-01-09T00:09:15.965Z"
   },
   {
    "duration": 6,
    "start_time": "2022-01-09T00:13:52.335Z"
   },
   {
    "duration": 21,
    "start_time": "2022-01-09T00:14:25.129Z"
   },
   {
    "duration": 5,
    "start_time": "2022-01-09T00:15:02.132Z"
   },
   {
    "duration": 29,
    "start_time": "2022-01-09T00:15:03.365Z"
   },
   {
    "duration": 4,
    "start_time": "2022-01-09T00:15:09.252Z"
   },
   {
    "duration": 20,
    "start_time": "2022-01-09T00:15:10.869Z"
   },
   {
    "duration": 83,
    "start_time": "2022-01-09T00:15:21.987Z"
   },
   {
    "duration": 13,
    "start_time": "2022-01-09T00:15:22.072Z"
   },
   {
    "duration": 25,
    "start_time": "2022-01-09T00:15:22.087Z"
   },
   {
    "duration": 10,
    "start_time": "2022-01-09T00:15:22.115Z"
   },
   {
    "duration": 47,
    "start_time": "2022-01-09T00:15:22.127Z"
   },
   {
    "duration": 3,
    "start_time": "2022-01-09T00:15:22.176Z"
   },
   {
    "duration": 11,
    "start_time": "2022-01-09T00:15:22.181Z"
   },
   {
    "duration": 6,
    "start_time": "2022-01-09T00:15:22.194Z"
   },
   {
    "duration": 19,
    "start_time": "2022-01-09T00:15:22.202Z"
   },
   {
    "duration": 4,
    "start_time": "2022-01-09T00:15:22.222Z"
   },
   {
    "duration": 23,
    "start_time": "2022-01-09T00:15:25.392Z"
   },
   {
    "duration": 14,
    "start_time": "2022-01-09T00:16:54.921Z"
   },
   {
    "duration": 338,
    "start_time": "2022-01-09T10:58:53.706Z"
   },
   {
    "duration": 736,
    "start_time": "2022-01-09T10:59:00.310Z"
   },
   {
    "duration": 11,
    "start_time": "2022-01-09T10:59:01.048Z"
   },
   {
    "duration": 23,
    "start_time": "2022-01-09T10:59:01.061Z"
   },
   {
    "duration": 12,
    "start_time": "2022-01-09T10:59:01.086Z"
   },
   {
    "duration": 40,
    "start_time": "2022-01-09T10:59:01.100Z"
   },
   {
    "duration": 3,
    "start_time": "2022-01-09T10:59:01.142Z"
   },
   {
    "duration": 12,
    "start_time": "2022-01-09T10:59:01.147Z"
   },
   {
    "duration": 12,
    "start_time": "2022-01-09T10:59:01.161Z"
   },
   {
    "duration": 19,
    "start_time": "2022-01-09T10:59:01.175Z"
   },
   {
    "duration": 4,
    "start_time": "2022-01-09T10:59:01.196Z"
   },
   {
    "duration": 28,
    "start_time": "2022-01-09T10:59:01.201Z"
   },
   {
    "duration": -118,
    "start_time": "2022-01-09T10:59:33.766Z"
   },
   {
    "duration": 66,
    "start_time": "2022-01-09T10:59:43.285Z"
   },
   {
    "duration": 8,
    "start_time": "2022-01-09T10:59:43.353Z"
   },
   {
    "duration": 19,
    "start_time": "2022-01-09T10:59:43.363Z"
   },
   {
    "duration": 7,
    "start_time": "2022-01-09T10:59:43.383Z"
   },
   {
    "duration": 14,
    "start_time": "2022-01-09T10:59:43.392Z"
   },
   {
    "duration": 21,
    "start_time": "2022-01-09T10:59:43.407Z"
   },
   {
    "duration": 8,
    "start_time": "2022-01-09T10:59:43.430Z"
   },
   {
    "duration": 5,
    "start_time": "2022-01-09T10:59:43.440Z"
   },
   {
    "duration": 15,
    "start_time": "2022-01-09T10:59:43.447Z"
   },
   {
    "duration": 4,
    "start_time": "2022-01-09T10:59:43.463Z"
   },
   {
    "duration": 12,
    "start_time": "2022-01-09T10:59:43.468Z"
   },
   {
    "duration": 30182,
    "start_time": "2022-01-09T10:59:46.170Z"
   },
   {
    "duration": 512,
    "start_time": "2022-01-09T11:00:18.501Z"
   },
   {
    "duration": 534,
    "start_time": "2022-01-09T11:00:22.315Z"
   },
   {
    "duration": 628,
    "start_time": "2022-01-09T11:01:15.959Z"
   },
   {
    "duration": 487,
    "start_time": "2022-01-09T11:01:24.165Z"
   },
   {
    "duration": 4,
    "start_time": "2022-01-09T11:01:43.686Z"
   },
   {
    "duration": 5,
    "start_time": "2022-01-09T11:01:53.042Z"
   },
   {
    "duration": 69,
    "start_time": "2022-01-09T11:02:10.995Z"
   },
   {
    "duration": 70,
    "start_time": "2022-01-09T11:02:25.786Z"
   },
   {
    "duration": 8,
    "start_time": "2022-01-09T11:02:25.858Z"
   },
   {
    "duration": 23,
    "start_time": "2022-01-09T11:02:25.868Z"
   },
   {
    "duration": 7,
    "start_time": "2022-01-09T11:02:25.892Z"
   },
   {
    "duration": 30,
    "start_time": "2022-01-09T11:02:25.901Z"
   },
   {
    "duration": 4,
    "start_time": "2022-01-09T11:02:25.932Z"
   },
   {
    "duration": 10,
    "start_time": "2022-01-09T11:02:25.938Z"
   },
   {
    "duration": 6,
    "start_time": "2022-01-09T11:02:25.950Z"
   },
   {
    "duration": 19,
    "start_time": "2022-01-09T11:02:25.958Z"
   },
   {
    "duration": 3,
    "start_time": "2022-01-09T11:02:25.978Z"
   },
   {
    "duration": 14,
    "start_time": "2022-01-09T11:02:25.983Z"
   },
   {
    "duration": 514,
    "start_time": "2022-01-09T11:02:27.859Z"
   },
   {
    "duration": 7,
    "start_time": "2022-01-09T11:07:52.564Z"
   },
   {
    "duration": 318,
    "start_time": "2022-01-09T11:08:21.789Z"
   },
   {
    "duration": 8,
    "start_time": "2022-01-09T11:09:50.565Z"
   },
   {
    "duration": 14,
    "start_time": "2022-01-09T11:10:25.246Z"
   },
   {
    "duration": 14,
    "start_time": "2022-01-09T11:10:38.911Z"
   },
   {
    "duration": 4,
    "start_time": "2022-01-09T11:11:02.260Z"
   },
   {
    "duration": 19,
    "start_time": "2022-01-09T11:11:15.244Z"
   },
   {
    "duration": 450,
    "start_time": "2022-01-09T11:38:24.955Z"
   },
   {
    "duration": 236,
    "start_time": "2022-01-09T11:38:36.645Z"
   },
   {
    "duration": 178,
    "start_time": "2022-01-09T11:38:47.370Z"
   },
   {
    "duration": 128,
    "start_time": "2022-01-09T11:38:53.378Z"
   },
   {
    "duration": 128,
    "start_time": "2022-01-09T11:38:58.162Z"
   },
   {
    "duration": 257,
    "start_time": "2022-01-09T11:39:03.003Z"
   },
   {
    "duration": 285,
    "start_time": "2022-01-09T11:39:33.546Z"
   },
   {
    "duration": 200,
    "start_time": "2022-01-09T11:39:36.690Z"
   },
   {
    "duration": 214,
    "start_time": "2022-01-09T11:39:39.187Z"
   },
   {
    "duration": 325,
    "start_time": "2022-01-09T11:39:42.298Z"
   },
   {
    "duration": 7,
    "start_time": "2022-01-09T11:45:33.730Z"
   },
   {
    "duration": 876,
    "start_time": "2022-01-09T11:51:40.600Z"
   },
   {
    "duration": 826,
    "start_time": "2022-01-09T11:52:24.555Z"
   },
   {
    "duration": 979,
    "start_time": "2022-01-09T11:52:55.890Z"
   },
   {
    "duration": 213,
    "start_time": "2022-01-09T11:53:06.977Z"
   },
   {
    "duration": 208,
    "start_time": "2022-01-09T11:53:18.498Z"
   },
   {
    "duration": 205,
    "start_time": "2022-01-09T11:53:23.232Z"
   },
   {
    "duration": 246,
    "start_time": "2022-01-09T11:53:27.222Z"
   },
   {
    "duration": 1263,
    "start_time": "2022-01-09T11:53:32.010Z"
   },
   {
    "duration": 215,
    "start_time": "2022-01-09T11:53:41.676Z"
   },
   {
    "duration": 220,
    "start_time": "2022-01-09T13:20:19.452Z"
   },
   {
    "duration": 7,
    "start_time": "2022-01-09T13:21:38.132Z"
   },
   {
    "duration": 8,
    "start_time": "2022-01-09T13:22:11.853Z"
   },
   {
    "duration": 7,
    "start_time": "2022-01-09T13:23:25.604Z"
   },
   {
    "duration": 9,
    "start_time": "2022-01-09T13:26:39.669Z"
   },
   {
    "duration": 9,
    "start_time": "2022-01-09T13:26:54.540Z"
   },
   {
    "duration": 11,
    "start_time": "2022-01-09T13:28:14.660Z"
   },
   {
    "duration": 9,
    "start_time": "2022-01-09T13:28:27.413Z"
   },
   {
    "duration": 317,
    "start_time": "2022-01-09T13:28:43.691Z"
   },
   {
    "duration": 315,
    "start_time": "2022-01-09T13:28:52.467Z"
   },
   {
    "duration": 9,
    "start_time": "2022-01-09T13:29:25.683Z"
   },
   {
    "duration": 19,
    "start_time": "2022-01-09T13:30:29.061Z"
   },
   {
    "duration": 8,
    "start_time": "2022-01-09T13:30:54.198Z"
   },
   {
    "duration": 9,
    "start_time": "2022-01-09T13:34:33.903Z"
   },
   {
    "duration": 520,
    "start_time": "2022-01-09T13:34:53.398Z"
   },
   {
    "duration": 207,
    "start_time": "2022-01-09T13:35:04.030Z"
   },
   {
    "duration": 123,
    "start_time": "2022-01-09T13:36:08.757Z"
   },
   {
    "duration": 9,
    "start_time": "2022-01-09T14:51:54.413Z"
   },
   {
    "duration": 339,
    "start_time": "2022-01-09T14:51:55.243Z"
   },
   {
    "duration": 362,
    "start_time": "2022-01-09T14:52:53.002Z"
   },
   {
    "duration": 154,
    "start_time": "2022-01-09T14:52:57.950Z"
   },
   {
    "duration": 210,
    "start_time": "2022-01-09T14:53:10.256Z"
   },
   {
    "duration": 153,
    "start_time": "2022-01-09T14:53:19.733Z"
   },
   {
    "duration": 165,
    "start_time": "2022-01-09T14:53:33.757Z"
   },
   {
    "duration": 211,
    "start_time": "2022-01-09T14:53:41.422Z"
   },
   {
    "duration": 157,
    "start_time": "2022-01-09T14:53:49.046Z"
   },
   {
    "duration": 200,
    "start_time": "2022-01-09T14:53:53.627Z"
   },
   {
    "duration": 207,
    "start_time": "2022-01-09T14:54:03.982Z"
   },
   {
    "duration": 218,
    "start_time": "2022-01-09T14:54:37.446Z"
   },
   {
    "duration": 267,
    "start_time": "2022-01-09T14:54:42.990Z"
   },
   {
    "duration": 167,
    "start_time": "2022-01-09T14:55:08.301Z"
   },
   {
    "duration": 267,
    "start_time": "2022-01-09T14:55:50.927Z"
   },
   {
    "duration": 214,
    "start_time": "2022-01-09T14:56:02.422Z"
   },
   {
    "duration": 209,
    "start_time": "2022-01-09T14:57:25.085Z"
   },
   {
    "duration": 10,
    "start_time": "2022-01-09T14:57:43.917Z"
   },
   {
    "duration": 9,
    "start_time": "2022-01-09T14:57:47.717Z"
   },
   {
    "duration": 351,
    "start_time": "2022-01-09T14:57:57.454Z"
   },
   {
    "duration": 208,
    "start_time": "2022-01-09T14:58:15.534Z"
   },
   {
    "duration": 9,
    "start_time": "2022-01-09T14:59:05.478Z"
   },
   {
    "duration": 209,
    "start_time": "2022-01-09T14:59:09.295Z"
   },
   {
    "duration": 9,
    "start_time": "2022-01-09T15:00:01.120Z"
   },
   {
    "duration": 209,
    "start_time": "2022-01-09T15:00:07.045Z"
   },
   {
    "duration": 154,
    "start_time": "2022-01-09T15:02:57.583Z"
   },
   {
    "duration": 214,
    "start_time": "2022-01-09T15:03:02.303Z"
   },
   {
    "duration": 9,
    "start_time": "2022-01-09T15:07:25.167Z"
   },
   {
    "duration": 211,
    "start_time": "2022-01-09T15:07:45.559Z"
   },
   {
    "duration": 203,
    "start_time": "2022-01-09T15:08:06.568Z"
   },
   {
    "duration": 207,
    "start_time": "2022-01-09T15:08:11.226Z"
   },
   {
    "duration": 212,
    "start_time": "2022-01-09T15:08:20.936Z"
   },
   {
    "duration": 299,
    "start_time": "2022-01-10T03:34:08.530Z"
   },
   {
    "duration": 650,
    "start_time": "2022-01-10T03:34:14.179Z"
   },
   {
    "duration": 10,
    "start_time": "2022-01-10T03:34:14.830Z"
   },
   {
    "duration": 27,
    "start_time": "2022-01-10T03:34:14.842Z"
   },
   {
    "duration": 7,
    "start_time": "2022-01-10T03:34:14.871Z"
   },
   {
    "duration": 15,
    "start_time": "2022-01-10T03:34:14.879Z"
   },
   {
    "duration": 4,
    "start_time": "2022-01-10T03:34:14.895Z"
   },
   {
    "duration": 9,
    "start_time": "2022-01-10T03:34:14.900Z"
   },
   {
    "duration": 6,
    "start_time": "2022-01-10T03:34:14.910Z"
   },
   {
    "duration": 47,
    "start_time": "2022-01-10T03:34:14.918Z"
   },
   {
    "duration": 5,
    "start_time": "2022-01-10T03:34:14.967Z"
   },
   {
    "duration": 12,
    "start_time": "2022-01-10T03:34:14.973Z"
   },
   {
    "duration": 545,
    "start_time": "2022-01-10T03:34:14.986Z"
   },
   {
    "duration": 5,
    "start_time": "2022-01-10T03:34:15.533Z"
   },
   {
    "duration": 21,
    "start_time": "2022-01-10T03:34:15.539Z"
   },
   {
    "duration": 441,
    "start_time": "2022-01-10T03:34:15.562Z"
   },
   {
    "duration": 10,
    "start_time": "2022-01-10T03:34:16.005Z"
   },
   {
    "duration": 264,
    "start_time": "2022-01-10T03:34:16.017Z"
   },
   {
    "duration": 10,
    "start_time": "2022-01-10T03:34:16.283Z"
   },
   {
    "duration": 244,
    "start_time": "2022-01-10T03:34:16.295Z"
   },
   {
    "duration": 11,
    "start_time": "2022-01-10T03:34:16.540Z"
   },
   {
    "duration": 277,
    "start_time": "2022-01-10T03:34:16.561Z"
   },
   {
    "duration": 11,
    "start_time": "2022-01-10T03:34:16.839Z"
   },
   {
    "duration": 246,
    "start_time": "2022-01-10T03:34:16.859Z"
   },
   {
    "duration": 10,
    "start_time": "2022-01-10T03:34:17.106Z"
   },
   {
    "duration": 11,
    "start_time": "2022-01-10T03:34:22.232Z"
   },
   {
    "duration": 495,
    "start_time": "2022-01-10T03:34:24.759Z"
   },
   {
    "duration": 236,
    "start_time": "2022-01-10T03:37:46.762Z"
   },
   {
    "duration": 242,
    "start_time": "2022-01-10T03:37:58.711Z"
   },
   {
    "duration": 524,
    "start_time": "2022-01-10T03:38:08.452Z"
   },
   {
    "duration": 292,
    "start_time": "2022-01-10T03:38:20.918Z"
   },
   {
    "duration": 85,
    "start_time": "2022-01-10T03:38:28.639Z"
   },
   {
    "duration": 541,
    "start_time": "2022-01-10T03:38:32.023Z"
   },
   {
    "duration": 539,
    "start_time": "2022-01-10T03:38:36.419Z"
   },
   {
    "duration": 217,
    "start_time": "2022-01-10T03:40:45.072Z"
   },
   {
    "duration": 242,
    "start_time": "2022-01-10T03:40:52.551Z"
   },
   {
    "duration": 224,
    "start_time": "2022-01-10T03:40:56.576Z"
   },
   {
    "duration": 11,
    "start_time": "2022-01-10T03:42:23.070Z"
   },
   {
    "duration": 12,
    "start_time": "2022-01-10T03:42:27.375Z"
   },
   {
    "duration": 10,
    "start_time": "2022-01-10T03:43:45.894Z"
   },
   {
    "duration": 233,
    "start_time": "2022-01-10T03:44:06.655Z"
   },
   {
    "duration": 214,
    "start_time": "2022-01-10T03:44:12.191Z"
   },
   {
    "duration": 236,
    "start_time": "2022-01-10T03:44:20.040Z"
   },
   {
    "duration": 218,
    "start_time": "2022-01-10T03:44:25.506Z"
   },
   {
    "duration": 236,
    "start_time": "2022-01-10T03:44:31.055Z"
   },
   {
    "duration": 335,
    "start_time": "2022-01-10T03:44:54.903Z"
   },
   {
    "duration": 232,
    "start_time": "2022-01-10T03:45:02.903Z"
   },
   {
    "duration": 247,
    "start_time": "2022-01-10T03:45:11.017Z"
   },
   {
    "duration": 10,
    "start_time": "2022-01-10T03:49:21.440Z"
   },
   {
    "duration": 228,
    "start_time": "2022-01-10T03:49:49.706Z"
   },
   {
    "duration": 238,
    "start_time": "2022-01-10T03:50:15.161Z"
   },
   {
    "duration": 245,
    "start_time": "2022-01-10T03:50:23.479Z"
   },
   {
    "duration": 165,
    "start_time": "2022-01-10T03:51:33.224Z"
   },
   {
    "duration": 197,
    "start_time": "2022-01-10T03:51:37.768Z"
   },
   {
    "duration": 194,
    "start_time": "2022-01-10T03:51:42.560Z"
   },
   {
    "duration": 189,
    "start_time": "2022-01-10T03:51:49.361Z"
   },
   {
    "duration": 184,
    "start_time": "2022-01-10T03:51:58.201Z"
   },
   {
    "duration": 19,
    "start_time": "2022-01-10T03:58:13.096Z"
   },
   {
    "duration": 312,
    "start_time": "2022-01-10T03:58:57.209Z"
   },
   {
    "duration": 250,
    "start_time": "2022-01-10T03:59:11.001Z"
   },
   {
    "duration": 233,
    "start_time": "2022-01-10T03:59:17.305Z"
   },
   {
    "duration": 10,
    "start_time": "2022-01-10T04:00:45.290Z"
   },
   {
    "duration": 250,
    "start_time": "2022-01-10T05:49:20.810Z"
   },
   {
    "duration": 886,
    "start_time": "2022-01-10T05:49:40.932Z"
   },
   {
    "duration": 376,
    "start_time": "2022-01-10T05:51:01.189Z"
   },
   {
    "duration": 275,
    "start_time": "2022-01-10T05:51:15.396Z"
   },
   {
    "duration": 141,
    "start_time": "2022-01-10T05:52:16.681Z"
   },
   {
    "duration": 130,
    "start_time": "2022-01-10T05:52:55.989Z"
   },
   {
    "duration": 143,
    "start_time": "2022-01-10T05:53:19.684Z"
   },
   {
    "duration": 510,
    "start_time": "2022-01-10T08:20:50.224Z"
   },
   {
    "duration": 847,
    "start_time": "2022-01-10T08:20:59.400Z"
   },
   {
    "duration": 25,
    "start_time": "2022-01-10T08:21:00.249Z"
   },
   {
    "duration": 38,
    "start_time": "2022-01-10T08:21:00.276Z"
   },
   {
    "duration": 11,
    "start_time": "2022-01-10T08:21:00.317Z"
   },
   {
    "duration": 50,
    "start_time": "2022-01-10T08:21:00.331Z"
   },
   {
    "duration": 7,
    "start_time": "2022-01-10T08:21:00.383Z"
   },
   {
    "duration": 15,
    "start_time": "2022-01-10T08:21:00.392Z"
   },
   {
    "duration": 7,
    "start_time": "2022-01-10T08:21:00.411Z"
   },
   {
    "duration": 56,
    "start_time": "2022-01-10T08:21:00.421Z"
   },
   {
    "duration": 13,
    "start_time": "2022-01-10T08:21:00.479Z"
   },
   {
    "duration": 18,
    "start_time": "2022-01-10T08:21:00.495Z"
   },
   {
    "duration": 1019,
    "start_time": "2022-01-10T08:21:00.516Z"
   },
   {
    "duration": 6,
    "start_time": "2022-01-10T08:21:01.537Z"
   },
   {
    "duration": 28,
    "start_time": "2022-01-10T08:21:01.546Z"
   },
   {
    "duration": 568,
    "start_time": "2022-01-10T08:21:01.577Z"
   },
   {
    "duration": 22,
    "start_time": "2022-01-10T08:21:02.147Z"
   },
   {
    "duration": 447,
    "start_time": "2022-01-10T08:21:02.171Z"
   },
   {
    "duration": 15,
    "start_time": "2022-01-10T08:21:02.621Z"
   },
   {
    "duration": 442,
    "start_time": "2022-01-10T08:21:02.638Z"
   },
   {
    "duration": 14,
    "start_time": "2022-01-10T08:21:03.082Z"
   },
   {
    "duration": 453,
    "start_time": "2022-01-10T08:21:03.098Z"
   },
   {
    "duration": 21,
    "start_time": "2022-01-10T08:21:03.553Z"
   },
   {
    "duration": 456,
    "start_time": "2022-01-10T08:21:03.578Z"
   },
   {
    "duration": 13,
    "start_time": "2022-01-10T08:21:04.036Z"
   },
   {
    "duration": 423,
    "start_time": "2022-01-10T08:21:04.051Z"
   },
   {
    "duration": 13,
    "start_time": "2022-01-10T08:21:04.476Z"
   },
   {
    "duration": 446,
    "start_time": "2022-01-10T08:21:04.492Z"
   },
   {
    "duration": 24,
    "start_time": "2022-01-10T08:21:04.940Z"
   },
   {
    "duration": 342,
    "start_time": "2022-01-10T08:21:04.967Z"
   },
   {
    "duration": 12,
    "start_time": "2022-01-10T08:21:05.311Z"
   },
   {
    "duration": 448,
    "start_time": "2022-01-10T08:21:05.326Z"
   },
   {
    "duration": 325,
    "start_time": "2022-01-10T08:21:05.777Z"
   },
   {
    "duration": 9,
    "start_time": "2022-01-10T08:21:10.303Z"
   },
   {
    "duration": 506,
    "start_time": "2022-01-10T08:21:29.161Z"
   },
   {
    "duration": 144,
    "start_time": "2022-01-10T08:21:44.833Z"
   },
   {
    "duration": 14,
    "start_time": "2022-01-10T08:21:44.980Z"
   },
   {
    "duration": 34,
    "start_time": "2022-01-10T08:21:44.997Z"
   },
   {
    "duration": 38,
    "start_time": "2022-01-10T08:21:45.034Z"
   },
   {
    "duration": 25,
    "start_time": "2022-01-10T08:21:45.075Z"
   },
   {
    "duration": 7,
    "start_time": "2022-01-10T08:21:45.103Z"
   },
   {
    "duration": 12,
    "start_time": "2022-01-10T08:21:45.112Z"
   },
   {
    "duration": 7,
    "start_time": "2022-01-10T08:21:45.164Z"
   },
   {
    "duration": 23,
    "start_time": "2022-01-10T08:21:45.174Z"
   },
   {
    "duration": 4,
    "start_time": "2022-01-10T08:21:45.200Z"
   },
   {
    "duration": 19,
    "start_time": "2022-01-10T08:21:45.207Z"
   },
   {
    "duration": 1035,
    "start_time": "2022-01-10T08:21:45.228Z"
   },
   {
    "duration": 6,
    "start_time": "2022-01-10T08:21:46.266Z"
   },
   {
    "duration": 13,
    "start_time": "2022-01-10T08:21:46.275Z"
   },
   {
    "duration": 430,
    "start_time": "2022-01-10T08:21:46.290Z"
   },
   {
    "duration": 13,
    "start_time": "2022-01-10T08:21:46.723Z"
   },
   {
    "duration": 459,
    "start_time": "2022-01-10T08:21:46.739Z"
   },
   {
    "duration": 13,
    "start_time": "2022-01-10T08:21:47.201Z"
   },
   {
    "duration": 552,
    "start_time": "2022-01-10T08:21:47.217Z"
   },
   {
    "duration": 14,
    "start_time": "2022-01-10T08:21:47.771Z"
   },
   {
    "duration": 434,
    "start_time": "2022-01-10T08:21:47.787Z"
   },
   {
    "duration": 14,
    "start_time": "2022-01-10T08:21:48.224Z"
   },
   {
    "duration": 433,
    "start_time": "2022-01-10T08:21:48.244Z"
   },
   {
    "duration": 16,
    "start_time": "2022-01-10T08:21:48.680Z"
   },
   {
    "duration": 427,
    "start_time": "2022-01-10T08:21:48.699Z"
   },
   {
    "duration": 14,
    "start_time": "2022-01-10T08:21:49.128Z"
   },
   {
    "duration": 544,
    "start_time": "2022-01-10T08:21:49.144Z"
   },
   {
    "duration": 15,
    "start_time": "2022-01-10T08:21:49.691Z"
   },
   {
    "duration": 364,
    "start_time": "2022-01-10T08:21:49.709Z"
   },
   {
    "duration": 14,
    "start_time": "2022-01-10T08:21:50.076Z"
   },
   {
    "duration": 446,
    "start_time": "2022-01-10T08:21:50.093Z"
   },
   {
    "duration": 252,
    "start_time": "2022-01-10T08:21:50.541Z"
   },
   {
    "duration": 13,
    "start_time": "2022-01-10T08:21:50.795Z"
   },
   {
    "duration": 443,
    "start_time": "2022-01-10T08:21:50.811Z"
   },
   {
    "duration": 13,
    "start_time": "2022-01-10T08:21:59.769Z"
   },
   {
    "duration": 149,
    "start_time": "2022-01-10T10:17:02.071Z"
   },
   {
    "duration": 461,
    "start_time": "2022-01-10T10:17:40.540Z"
   },
   {
    "duration": 315,
    "start_time": "2022-01-10T10:18:07.864Z"
   },
   {
    "duration": 148,
    "start_time": "2022-01-10T10:19:08.569Z"
   },
   {
    "duration": 112,
    "start_time": "2022-01-10T10:19:25.285Z"
   },
   {
    "duration": 433,
    "start_time": "2022-01-10T10:19:44.410Z"
   },
   {
    "duration": 138,
    "start_time": "2022-01-10T10:19:50.264Z"
   },
   {
    "duration": 119,
    "start_time": "2022-01-10T10:19:56.944Z"
   },
   {
    "duration": 109,
    "start_time": "2022-01-10T10:20:31.746Z"
   },
   {
    "duration": 438,
    "start_time": "2022-01-10T10:21:59.514Z"
   },
   {
    "duration": 108,
    "start_time": "2022-01-10T10:22:14.418Z"
   },
   {
    "duration": 1363,
    "start_time": "2022-01-10T13:08:25.818Z"
   },
   {
    "duration": 443,
    "start_time": "2022-01-10T13:09:39.774Z"
   },
   {
    "duration": 8,
    "start_time": "2022-01-10T13:10:17.647Z"
   },
   {
    "duration": 69,
    "start_time": "2022-01-10T13:10:52.451Z"
   },
   {
    "duration": 307,
    "start_time": "2022-01-10T13:11:43.951Z"
   },
   {
    "duration": 13,
    "start_time": "2022-01-10T13:11:54.009Z"
   },
   {
    "duration": 316,
    "start_time": "2022-01-10T13:12:32.943Z"
   },
   {
    "duration": 17,
    "start_time": "2022-01-10T13:12:50.697Z"
   },
   {
    "duration": 14,
    "start_time": "2022-01-10T13:13:01.858Z"
   },
   {
    "duration": 13,
    "start_time": "2022-01-10T13:13:23.129Z"
   },
   {
    "duration": 13,
    "start_time": "2022-01-10T13:14:39.204Z"
   },
   {
    "duration": 8,
    "start_time": "2022-01-10T13:14:47.636Z"
   },
   {
    "duration": 12,
    "start_time": "2022-01-10T13:14:48.194Z"
   },
   {
    "duration": 13,
    "start_time": "2022-01-10T13:15:04.979Z"
   },
   {
    "duration": 13,
    "start_time": "2022-01-10T13:15:32.652Z"
   },
   {
    "duration": 17,
    "start_time": "2022-01-10T13:15:40.516Z"
   },
   {
    "duration": 134,
    "start_time": "2022-01-10T13:21:21.296Z"
   },
   {
    "duration": 419,
    "start_time": "2022-01-10T13:21:31.015Z"
   },
   {
    "duration": 689,
    "start_time": "2022-01-10T13:22:00.498Z"
   },
   {
    "duration": 20,
    "start_time": "2022-01-10T13:22:37.379Z"
   },
   {
    "duration": 19,
    "start_time": "2022-01-10T13:22:45.377Z"
   },
   {
    "duration": 20,
    "start_time": "2022-01-10T13:23:43.554Z"
   },
   {
    "duration": 7,
    "start_time": "2022-01-10T13:27:18.844Z"
   },
   {
    "duration": 407,
    "start_time": "2022-01-10T13:30:54.087Z"
   },
   {
    "duration": 7,
    "start_time": "2022-01-10T13:31:12.340Z"
   },
   {
    "duration": 329,
    "start_time": "2022-01-10T13:32:21.440Z"
   },
   {
    "duration": 327,
    "start_time": "2022-01-10T13:32:27.586Z"
   },
   {
    "duration": 8,
    "start_time": "2022-01-10T13:32:56.302Z"
   },
   {
    "duration": 34,
    "start_time": "2022-01-10T13:33:11.183Z"
   },
   {
    "duration": 13,
    "start_time": "2022-01-10T13:33:59.025Z"
   },
   {
    "duration": 12,
    "start_time": "2022-01-10T13:34:35.787Z"
   },
   {
    "duration": 13,
    "start_time": "2022-01-10T13:35:37.277Z"
   },
   {
    "duration": 303,
    "start_time": "2022-01-10T13:35:54.578Z"
   },
   {
    "duration": 108,
    "start_time": "2022-01-10T13:36:08.727Z"
   },
   {
    "duration": 14,
    "start_time": "2022-01-10T13:36:18.772Z"
   },
   {
    "duration": 24,
    "start_time": "2022-01-10T13:36:37.660Z"
   },
   {
    "duration": 7,
    "start_time": "2022-01-10T13:37:31.174Z"
   },
   {
    "duration": 8746,
    "start_time": "2022-01-10T13:56:44.804Z"
   },
   {
    "duration": 113,
    "start_time": "2022-01-10T13:56:54.197Z"
   },
   {
    "duration": 114,
    "start_time": "2022-01-10T13:57:01.813Z"
   },
   {
    "duration": 336,
    "start_time": "2022-01-10T13:58:41.549Z"
   },
   {
    "duration": 290,
    "start_time": "2022-01-10T14:00:17.113Z"
   },
   {
    "duration": 1154,
    "start_time": "2022-01-10T14:47:01.465Z"
   },
   {
    "duration": 1438,
    "start_time": "2022-01-10T14:47:40.873Z"
   },
   {
    "duration": 542,
    "start_time": "2022-01-10T14:48:41.453Z"
   },
   {
    "duration": 379,
    "start_time": "2022-01-10T14:48:47.010Z"
   },
   {
    "duration": 426,
    "start_time": "2022-01-10T14:56:31.647Z"
   },
   {
    "duration": 7,
    "start_time": "2022-01-10T14:57:11.817Z"
   },
   {
    "duration": 1355,
    "start_time": "2022-01-10T15:12:34.836Z"
   },
   {
    "duration": 1259,
    "start_time": "2022-01-10T15:12:49.309Z"
   },
   {
    "duration": 1107,
    "start_time": "2022-01-10T15:13:01.325Z"
   },
   {
    "duration": 1143,
    "start_time": "2022-01-10T15:13:11.428Z"
   },
   {
    "duration": 1117,
    "start_time": "2022-01-10T15:13:17.235Z"
   },
   {
    "duration": 1511,
    "start_time": "2022-01-10T15:13:23.620Z"
   },
   {
    "duration": 224,
    "start_time": "2022-01-11T06:16:28.105Z"
   },
   {
    "duration": 679,
    "start_time": "2022-01-11T06:16:32.885Z"
   },
   {
    "duration": 11,
    "start_time": "2022-01-11T06:16:33.566Z"
   },
   {
    "duration": 33,
    "start_time": "2022-01-11T06:16:33.578Z"
   },
   {
    "duration": 8,
    "start_time": "2022-01-11T06:16:33.612Z"
   },
   {
    "duration": 15,
    "start_time": "2022-01-11T06:16:36.123Z"
   },
   {
    "duration": 6,
    "start_time": "2022-01-11T06:16:43.401Z"
   },
   {
    "duration": 8,
    "start_time": "2022-01-11T06:16:44.218Z"
   },
   {
    "duration": 6,
    "start_time": "2022-01-11T06:16:48.186Z"
   },
   {
    "duration": 208,
    "start_time": "2022-01-11T06:17:14.482Z"
   },
   {
    "duration": 23,
    "start_time": "2022-01-11T06:20:13.124Z"
   },
   {
    "duration": 55,
    "start_time": "2022-01-11T06:20:17.907Z"
   },
   {
    "duration": 46,
    "start_time": "2022-01-11T06:20:35.321Z"
   },
   {
    "duration": 475,
    "start_time": "2022-01-11T06:21:01.782Z"
   },
   {
    "duration": 282,
    "start_time": "2022-01-11T06:21:19.409Z"
   },
   {
    "duration": 14,
    "start_time": "2022-01-11T06:21:35.965Z"
   },
   {
    "duration": 192,
    "start_time": "2022-01-11T06:22:03.914Z"
   },
   {
    "duration": 14,
    "start_time": "2022-01-11T06:29:51.064Z"
   },
   {
    "duration": 31,
    "start_time": "2022-01-11T06:35:18.506Z"
   },
   {
    "duration": 31,
    "start_time": "2022-01-11T06:35:49.339Z"
   },
   {
    "duration": 30,
    "start_time": "2022-01-11T06:36:04.976Z"
   },
   {
    "duration": 93,
    "start_time": "2022-01-11T06:37:07.541Z"
   },
   {
    "duration": 13,
    "start_time": "2022-01-11T06:37:07.636Z"
   },
   {
    "duration": 54,
    "start_time": "2022-01-11T06:37:07.651Z"
   },
   {
    "duration": 10,
    "start_time": "2022-01-11T06:37:07.707Z"
   },
   {
    "duration": 15,
    "start_time": "2022-01-11T06:37:07.719Z"
   },
   {
    "duration": 6,
    "start_time": "2022-01-11T06:37:07.736Z"
   },
   {
    "duration": 10,
    "start_time": "2022-01-11T06:37:07.743Z"
   },
   {
    "duration": 39,
    "start_time": "2022-01-11T06:37:07.754Z"
   },
   {
    "duration": 17,
    "start_time": "2022-01-11T06:37:07.796Z"
   },
   {
    "duration": 5,
    "start_time": "2022-01-11T06:37:07.815Z"
   },
   {
    "duration": 35,
    "start_time": "2022-01-11T06:37:07.821Z"
   },
   {
    "duration": 623,
    "start_time": "2022-01-11T06:37:07.858Z"
   },
   {
    "duration": 10,
    "start_time": "2022-01-11T06:37:08.483Z"
   },
   {
    "duration": 11,
    "start_time": "2022-01-11T06:37:08.495Z"
   },
   {
    "duration": 401,
    "start_time": "2022-01-11T06:37:08.508Z"
   },
   {
    "duration": 10,
    "start_time": "2022-01-11T06:37:08.911Z"
   },
   {
    "duration": 279,
    "start_time": "2022-01-11T06:37:08.923Z"
   },
   {
    "duration": 10,
    "start_time": "2022-01-11T06:37:09.203Z"
   },
   {
    "duration": 279,
    "start_time": "2022-01-11T06:37:09.215Z"
   },
   {
    "duration": 11,
    "start_time": "2022-01-11T06:37:09.496Z"
   },
   {
    "duration": 292,
    "start_time": "2022-01-11T06:37:09.508Z"
   },
   {
    "duration": 11,
    "start_time": "2022-01-11T06:37:09.801Z"
   },
   {
    "duration": 291,
    "start_time": "2022-01-11T06:37:09.813Z"
   },
   {
    "duration": 10,
    "start_time": "2022-01-11T06:37:10.106Z"
   },
   {
    "duration": 294,
    "start_time": "2022-01-11T06:37:10.118Z"
   },
   {
    "duration": 11,
    "start_time": "2022-01-11T06:37:10.414Z"
   },
   {
    "duration": 289,
    "start_time": "2022-01-11T06:37:10.428Z"
   },
   {
    "duration": 10,
    "start_time": "2022-01-11T06:37:10.719Z"
   },
   {
    "duration": 233,
    "start_time": "2022-01-11T06:37:10.731Z"
   },
   {
    "duration": 6,
    "start_time": "2022-01-11T06:37:10.966Z"
   },
   {
    "duration": 300,
    "start_time": "2022-01-11T06:37:10.974Z"
   },
   {
    "duration": 172,
    "start_time": "2022-01-11T06:37:11.276Z"
   },
   {
    "duration": 11,
    "start_time": "2022-01-11T06:37:11.450Z"
   },
   {
    "duration": 357,
    "start_time": "2022-01-11T06:37:11.463Z"
   },
   {
    "duration": 81,
    "start_time": "2022-01-11T06:37:11.822Z"
   },
   {
    "duration": 205,
    "start_time": "2022-01-11T06:37:11.905Z"
   },
   {
    "duration": 266,
    "start_time": "2022-01-11T06:37:20.513Z"
   },
   {
    "duration": 343,
    "start_time": "2022-01-11T06:39:15.410Z"
   },
   {
    "duration": 356,
    "start_time": "2022-01-11T06:39:22.583Z"
   },
   {
    "duration": 384,
    "start_time": "2022-01-11T06:39:27.769Z"
   },
   {
    "duration": 344,
    "start_time": "2022-01-11T06:39:35.710Z"
   },
   {
    "duration": 56,
    "start_time": "2022-01-11T06:42:59.169Z"
   },
   {
    "duration": 198,
    "start_time": "2022-01-11T07:04:41.610Z"
   },
   {
    "duration": 15,
    "start_time": "2022-01-11T07:04:48.057Z"
   },
   {
    "duration": 17,
    "start_time": "2022-01-11T07:05:03.634Z"
   },
   {
    "duration": 401,
    "start_time": "2022-01-11T07:05:54.034Z"
   },
   {
    "duration": 16,
    "start_time": "2022-01-11T07:06:03.184Z"
   },
   {
    "duration": 14,
    "start_time": "2022-01-11T07:06:17.546Z"
   },
   {
    "duration": 569,
    "start_time": "2022-01-11T07:11:33.346Z"
   },
   {
    "duration": 24,
    "start_time": "2022-01-11T07:12:02.258Z"
   },
   {
    "duration": 24,
    "start_time": "2022-01-11T07:12:13.786Z"
   },
   {
    "duration": 189,
    "start_time": "2022-01-11T07:15:25.891Z"
   },
   {
    "duration": 17,
    "start_time": "2022-01-11T07:15:36.565Z"
   },
   {
    "duration": 23,
    "start_time": "2022-01-11T07:15:50.129Z"
   },
   {
    "duration": 63,
    "start_time": "2022-01-11T07:16:06.698Z"
   },
   {
    "duration": 63,
    "start_time": "2022-01-11T07:16:26.045Z"
   },
   {
    "duration": 24,
    "start_time": "2022-01-11T07:16:36.522Z"
   },
   {
    "duration": 24,
    "start_time": "2022-01-11T07:16:52.443Z"
   },
   {
    "duration": 22,
    "start_time": "2022-01-11T07:17:01.011Z"
   },
   {
    "duration": 23,
    "start_time": "2022-01-11T07:17:05.169Z"
   },
   {
    "duration": 74,
    "start_time": "2022-01-11T07:21:12.209Z"
   },
   {
    "duration": 11,
    "start_time": "2022-01-11T07:52:27.547Z"
   },
   {
    "duration": 12,
    "start_time": "2022-01-11T07:53:50.411Z"
   },
   {
    "duration": 85,
    "start_time": "2022-01-11T08:26:43.535Z"
   },
   {
    "duration": 10,
    "start_time": "2022-01-11T08:26:43.622Z"
   },
   {
    "duration": 23,
    "start_time": "2022-01-11T08:26:43.634Z"
   },
   {
    "duration": 34,
    "start_time": "2022-01-11T08:26:43.658Z"
   },
   {
    "duration": 14,
    "start_time": "2022-01-11T08:26:43.694Z"
   },
   {
    "duration": 1574,
    "start_time": "2022-01-11T08:26:45.911Z"
   },
   {
    "duration": 1611,
    "start_time": "2022-01-11T08:27:14.504Z"
   },
   {
    "duration": 84,
    "start_time": "2022-01-11T08:32:44.912Z"
   },
   {
    "duration": 10,
    "start_time": "2022-01-11T08:32:44.998Z"
   },
   {
    "duration": 26,
    "start_time": "2022-01-11T08:32:45.011Z"
   },
   {
    "duration": 11,
    "start_time": "2022-01-11T08:32:45.039Z"
   },
   {
    "duration": 47,
    "start_time": "2022-01-11T08:32:45.052Z"
   },
   {
    "duration": 1779,
    "start_time": "2022-01-11T08:32:47.418Z"
   },
   {
    "duration": 1871,
    "start_time": "2022-01-11T08:34:21.549Z"
   },
   {
    "duration": 1757,
    "start_time": "2022-01-11T08:34:35.961Z"
   },
   {
    "duration": 1525,
    "start_time": "2022-01-11T08:34:45.769Z"
   },
   {
    "duration": 82,
    "start_time": "2022-01-11T08:34:53.364Z"
   },
   {
    "duration": 10,
    "start_time": "2022-01-11T08:34:53.448Z"
   },
   {
    "duration": 36,
    "start_time": "2022-01-11T08:34:53.460Z"
   },
   {
    "duration": 9,
    "start_time": "2022-01-11T08:34:53.498Z"
   },
   {
    "duration": 12,
    "start_time": "2022-01-11T08:34:53.508Z"
   },
   {
    "duration": 1535,
    "start_time": "2022-01-11T08:34:55.792Z"
   },
   {
    "duration": 5,
    "start_time": "2022-01-11T08:47:04.717Z"
   },
   {
    "duration": 7,
    "start_time": "2022-01-11T08:47:18.889Z"
   },
   {
    "duration": 87,
    "start_time": "2022-01-11T09:09:20.043Z"
   },
   {
    "duration": 11,
    "start_time": "2022-01-11T09:09:20.131Z"
   },
   {
    "duration": 26,
    "start_time": "2022-01-11T09:09:20.144Z"
   },
   {
    "duration": 9,
    "start_time": "2022-01-11T09:09:20.191Z"
   },
   {
    "duration": 13,
    "start_time": "2022-01-11T09:09:20.202Z"
   },
   {
    "duration": 1529,
    "start_time": "2022-01-11T09:09:23.099Z"
   },
   {
    "duration": 4934,
    "start_time": "2022-01-11T09:14:29.300Z"
   },
   {
    "duration": 4758,
    "start_time": "2022-01-11T09:14:48.528Z"
   },
   {
    "duration": 4708,
    "start_time": "2022-01-11T09:16:49.752Z"
   },
   {
    "duration": 89,
    "start_time": "2022-01-11T09:16:59.441Z"
   },
   {
    "duration": 11,
    "start_time": "2022-01-11T09:16:59.531Z"
   },
   {
    "duration": 25,
    "start_time": "2022-01-11T09:16:59.544Z"
   },
   {
    "duration": 26,
    "start_time": "2022-01-11T09:16:59.571Z"
   },
   {
    "duration": 13,
    "start_time": "2022-01-11T09:16:59.599Z"
   },
   {
    "duration": 4596,
    "start_time": "2022-01-11T09:17:04.253Z"
   },
   {
    "duration": 14,
    "start_time": "2022-01-11T09:18:29.354Z"
   },
   {
    "duration": 19,
    "start_time": "2022-01-11T09:19:11.168Z"
   },
   {
    "duration": 61,
    "start_time": "2022-01-11T09:39:10.615Z"
   },
   {
    "duration": 63,
    "start_time": "2022-01-11T09:40:24.111Z"
   },
   {
    "duration": 4591,
    "start_time": "2022-01-11T09:40:28.187Z"
   },
   {
    "duration": 4681,
    "start_time": "2022-01-11T09:40:38.767Z"
   },
   {
    "duration": 49,
    "start_time": "2022-01-11T09:41:14.744Z"
   },
   {
    "duration": 59,
    "start_time": "2022-01-11T09:41:21.511Z"
   },
   {
    "duration": 88,
    "start_time": "2022-01-11T09:42:09.081Z"
   },
   {
    "duration": 90,
    "start_time": "2022-01-11T09:42:14.831Z"
   },
   {
    "duration": 95,
    "start_time": "2022-01-11T09:42:19.783Z"
   },
   {
    "duration": 95,
    "start_time": "2022-01-11T09:58:38.858Z"
   },
   {
    "duration": 8,
    "start_time": "2022-01-11T09:58:58.433Z"
   },
   {
    "duration": 11,
    "start_time": "2022-01-11T10:00:19.228Z"
   },
   {
    "duration": 7840,
    "start_time": "2022-01-11T10:19:14.653Z"
   },
   {
    "duration": 81,
    "start_time": "2022-01-11T10:19:26.562Z"
   },
   {
    "duration": 10,
    "start_time": "2022-01-11T10:19:26.644Z"
   },
   {
    "duration": 42,
    "start_time": "2022-01-11T10:19:26.655Z"
   },
   {
    "duration": 9,
    "start_time": "2022-01-11T10:19:26.699Z"
   },
   {
    "duration": 22,
    "start_time": "2022-01-11T10:19:26.710Z"
   },
   {
    "duration": 7761,
    "start_time": "2022-01-11T10:19:35.303Z"
   },
   {
    "duration": 20,
    "start_time": "2022-01-11T10:21:04.469Z"
   },
   {
    "duration": 179,
    "start_time": "2022-01-11T12:00:27.558Z"
   },
   {
    "duration": 7,
    "start_time": "2022-01-11T12:00:33.065Z"
   },
   {
    "duration": 58,
    "start_time": "2022-01-11T12:20:05.614Z"
   },
   {
    "duration": 36,
    "start_time": "2022-01-11T12:20:09.870Z"
   },
   {
    "duration": 18,
    "start_time": "2022-01-11T12:21:09.319Z"
   },
   {
    "duration": 199,
    "start_time": "2022-01-11T12:21:28.360Z"
   },
   {
    "duration": 18,
    "start_time": "2022-01-11T12:21:43.111Z"
   },
   {
    "duration": 258,
    "start_time": "2022-01-11T12:22:17.610Z"
   },
   {
    "duration": 194,
    "start_time": "2022-01-11T12:22:37.650Z"
   },
   {
    "duration": 55,
    "start_time": "2022-01-11T12:22:45.799Z"
   },
   {
    "duration": 190,
    "start_time": "2022-01-11T12:22:47.847Z"
   },
   {
    "duration": 20,
    "start_time": "2022-01-11T12:23:15.142Z"
   },
   {
    "duration": 20,
    "start_time": "2022-01-11T12:23:24.495Z"
   },
   {
    "duration": 19,
    "start_time": "2022-01-11T12:23:27.816Z"
   },
   {
    "duration": 20,
    "start_time": "2022-01-11T12:23:32.224Z"
   },
   {
    "duration": 18,
    "start_time": "2022-01-11T12:23:50.287Z"
   },
   {
    "duration": 213,
    "start_time": "2022-01-11T12:24:32.887Z"
   },
   {
    "duration": 23,
    "start_time": "2022-01-11T12:24:46.143Z"
   },
   {
    "duration": 209,
    "start_time": "2022-01-11T12:24:59.592Z"
   },
   {
    "duration": 23,
    "start_time": "2022-01-11T12:25:35.232Z"
   },
   {
    "duration": 205,
    "start_time": "2022-01-11T12:26:11.890Z"
   },
   {
    "duration": 177,
    "start_time": "2022-01-11T12:26:44.041Z"
   },
   {
    "duration": 210,
    "start_time": "2022-01-11T12:26:58.271Z"
   },
   {
    "duration": 65,
    "start_time": "2022-01-11T12:27:05.911Z"
   },
   {
    "duration": 56,
    "start_time": "2022-01-11T12:27:08.407Z"
   },
   {
    "duration": 57,
    "start_time": "2022-01-11T12:27:13.716Z"
   },
   {
    "duration": 59,
    "start_time": "2022-01-11T12:27:17.560Z"
   },
   {
    "duration": 199,
    "start_time": "2022-01-11T12:27:30.808Z"
   },
   {
    "duration": 192,
    "start_time": "2022-01-11T12:29:00.129Z"
   },
   {
    "duration": 187,
    "start_time": "2022-01-11T12:29:08.729Z"
   },
   {
    "duration": 232,
    "start_time": "2022-01-11T12:29:18.816Z"
   },
   {
    "duration": 17,
    "start_time": "2022-01-11T12:30:23.187Z"
   },
   {
    "duration": 64,
    "start_time": "2022-01-11T12:31:01.365Z"
   },
   {
    "duration": 63,
    "start_time": "2022-01-11T12:31:39.354Z"
   },
   {
    "duration": 59,
    "start_time": "2022-01-11T12:31:47.834Z"
   },
   {
    "duration": 17,
    "start_time": "2022-01-11T12:31:58.881Z"
   },
   {
    "duration": 17,
    "start_time": "2022-01-11T12:32:22.657Z"
   },
   {
    "duration": 19,
    "start_time": "2022-01-11T12:32:33.112Z"
   },
   {
    "duration": 18,
    "start_time": "2022-01-11T12:32:38.488Z"
   },
   {
    "duration": 21,
    "start_time": "2022-01-11T12:33:04.266Z"
   },
   {
    "duration": 199,
    "start_time": "2022-01-11T12:33:10.434Z"
   },
   {
    "duration": 18,
    "start_time": "2022-01-11T12:33:24.889Z"
   },
   {
    "duration": 192,
    "start_time": "2022-01-11T12:34:07.535Z"
   },
   {
    "duration": 210,
    "start_time": "2022-01-11T12:34:16.177Z"
   },
   {
    "duration": 58,
    "start_time": "2022-01-11T12:35:33.387Z"
   },
   {
    "duration": 4869,
    "start_time": "2022-01-11T12:35:37.704Z"
   },
   {
    "duration": 5754,
    "start_time": "2022-01-11T12:35:58.795Z"
   },
   {
    "duration": 18,
    "start_time": "2022-01-11T12:36:37.314Z"
   },
   {
    "duration": 208,
    "start_time": "2022-01-11T12:44:57.986Z"
   },
   {
    "duration": 208,
    "start_time": "2022-01-11T12:45:14.864Z"
   },
   {
    "duration": 64,
    "start_time": "2022-01-11T12:46:00.409Z"
   },
   {
    "duration": 4672,
    "start_time": "2022-01-11T12:46:08.121Z"
   },
   {
    "duration": 9542,
    "start_time": "2022-01-11T12:51:05.031Z"
   },
   {
    "duration": 87,
    "start_time": "2022-01-11T12:51:14.575Z"
   },
   {
    "duration": 12,
    "start_time": "2022-01-11T12:51:14.664Z"
   },
   {
    "duration": 24,
    "start_time": "2022-01-11T12:51:14.692Z"
   },
   {
    "duration": 9,
    "start_time": "2022-01-11T12:51:14.717Z"
   },
   {
    "duration": 12,
    "start_time": "2022-01-11T12:51:14.728Z"
   },
   {
    "duration": 9504,
    "start_time": "2022-01-11T12:51:17.487Z"
   },
   {
    "duration": 25,
    "start_time": "2022-01-11T12:52:16.515Z"
   },
   {
    "duration": 100,
    "start_time": "2022-01-11T12:52:33.083Z"
   },
   {
    "duration": 9,
    "start_time": "2022-01-11T12:52:34.692Z"
   },
   {
    "duration": 5426,
    "start_time": "2022-01-11T13:04:04.539Z"
   },
   {
    "duration": 253,
    "start_time": "2022-01-11T13:14:32.645Z"
   },
   {
    "duration": 195,
    "start_time": "2022-01-11T13:16:14.003Z"
   },
   {
    "duration": 288,
    "start_time": "2022-01-11T13:16:34.789Z"
   },
   {
    "duration": 279,
    "start_time": "2022-01-11T13:17:17.429Z"
   },
   {
    "duration": 1240,
    "start_time": "2022-01-11T13:17:26.997Z"
   },
   {
    "duration": 285,
    "start_time": "2022-01-11T13:17:33.886Z"
   },
   {
    "duration": 225,
    "start_time": "2022-01-11T13:17:38.912Z"
   },
   {
    "duration": 18,
    "start_time": "2022-01-11T13:17:46.812Z"
   },
   {
    "duration": 210,
    "start_time": "2022-01-11T13:17:59.495Z"
   },
   {
    "duration": 181,
    "start_time": "2022-01-11T13:20:09.494Z"
   },
   {
    "duration": 184,
    "start_time": "2022-01-11T13:20:18.356Z"
   },
   {
    "duration": 209,
    "start_time": "2022-01-11T13:21:24.984Z"
   },
   {
    "duration": 186,
    "start_time": "2022-01-11T13:22:48.490Z"
   },
   {
    "duration": 279,
    "start_time": "2022-01-11T13:22:52.853Z"
   },
   {
    "duration": 181,
    "start_time": "2022-01-11T13:22:56.809Z"
   },
   {
    "duration": 84,
    "start_time": "2022-01-11T13:24:04.846Z"
   },
   {
    "duration": 207,
    "start_time": "2022-01-11T13:24:21.022Z"
   },
   {
    "duration": 201,
    "start_time": "2022-01-11T13:26:40.543Z"
   },
   {
    "duration": 5,
    "start_time": "2022-01-11T13:26:54.528Z"
   },
   {
    "duration": 8,
    "start_time": "2022-01-11T13:27:48.790Z"
   },
   {
    "duration": 252,
    "start_time": "2022-01-11T13:27:57.030Z"
   },
   {
    "duration": 233,
    "start_time": "2022-01-11T13:28:10.301Z"
   },
   {
    "duration": 242,
    "start_time": "2022-01-11T13:28:23.599Z"
   },
   {
    "duration": 274,
    "start_time": "2022-01-11T13:28:36.208Z"
   },
   {
    "duration": 343,
    "start_time": "2022-01-11T13:30:25.791Z"
   },
   {
    "duration": 12,
    "start_time": "2022-01-11T14:35:45.743Z"
   },
   {
    "duration": 5,
    "start_time": "2022-01-11T14:39:05.400Z"
   },
   {
    "duration": 207,
    "start_time": "2022-01-11T14:39:06.016Z"
   },
   {
    "duration": 94,
    "start_time": "2022-01-11T14:39:22.946Z"
   },
   {
    "duration": 11,
    "start_time": "2022-01-11T14:39:23.041Z"
   },
   {
    "duration": 44,
    "start_time": "2022-01-11T14:39:23.054Z"
   },
   {
    "duration": 11,
    "start_time": "2022-01-11T14:39:23.101Z"
   },
   {
    "duration": 16,
    "start_time": "2022-01-11T14:39:23.114Z"
   },
   {
    "duration": 9361,
    "start_time": "2022-01-11T14:39:23.132Z"
   },
   {
    "duration": 23,
    "start_time": "2022-01-11T14:39:32.495Z"
   },
   {
    "duration": 112,
    "start_time": "2022-01-11T14:39:32.520Z"
   },
   {
    "duration": 7,
    "start_time": "2022-01-11T14:39:32.634Z"
   },
   {
    "duration": 7,
    "start_time": "2022-01-11T14:39:32.643Z"
   },
   {
    "duration": 9,
    "start_time": "2022-01-11T14:39:32.661Z"
   },
   {
    "duration": 329,
    "start_time": "2022-01-11T14:39:34.481Z"
   },
   {
    "duration": 10,
    "start_time": "2022-01-11T14:39:46.793Z"
   },
   {
    "duration": 185,
    "start_time": "2022-01-11T14:40:43.144Z"
   },
   {
    "duration": 365,
    "start_time": "2022-01-11T14:41:06.480Z"
   },
   {
    "duration": 85,
    "start_time": "2022-01-11T14:41:18.318Z"
   },
   {
    "duration": 10,
    "start_time": "2022-01-11T14:41:18.405Z"
   },
   {
    "duration": 22,
    "start_time": "2022-01-11T14:41:18.417Z"
   },
   {
    "duration": 9,
    "start_time": "2022-01-11T14:41:18.441Z"
   },
   {
    "duration": 23,
    "start_time": "2022-01-11T14:41:18.451Z"
   },
   {
    "duration": 9349,
    "start_time": "2022-01-11T14:41:18.491Z"
   },
   {
    "duration": 21,
    "start_time": "2022-01-11T14:41:27.842Z"
   },
   {
    "duration": 116,
    "start_time": "2022-01-11T14:41:27.866Z"
   },
   {
    "duration": 11,
    "start_time": "2022-01-11T14:41:27.984Z"
   },
   {
    "duration": 7,
    "start_time": "2022-01-11T14:41:27.996Z"
   },
   {
    "duration": 8,
    "start_time": "2022-01-11T14:41:28.005Z"
   },
   {
    "duration": 347,
    "start_time": "2022-01-11T14:41:28.015Z"
   },
   {
    "duration": 8,
    "start_time": "2022-01-11T14:41:28.364Z"
   },
   {
    "duration": 183,
    "start_time": "2022-01-11T14:41:32.337Z"
   },
   {
    "duration": 15,
    "start_time": "2022-01-11T14:42:10.153Z"
   },
   {
    "duration": 14,
    "start_time": "2022-01-11T14:42:13.287Z"
   },
   {
    "duration": 4978,
    "start_time": "2022-01-11T14:43:14.380Z"
   },
   {
    "duration": 5250,
    "start_time": "2022-01-11T14:43:29.402Z"
   },
   {
    "duration": 11101,
    "start_time": "2022-01-11T14:44:33.219Z"
   },
   {
    "duration": 27,
    "start_time": "2022-01-11T14:45:27.890Z"
   },
   {
    "duration": 16,
    "start_time": "2022-01-11T14:47:30.121Z"
   },
   {
    "duration": 5,
    "start_time": "2022-01-11T14:47:41.886Z"
   },
   {
    "duration": 31,
    "start_time": "2022-01-11T14:47:42.945Z"
   },
   {
    "duration": 576,
    "start_time": "2022-01-11T14:47:46.944Z"
   },
   {
    "duration": 6,
    "start_time": "2022-01-11T14:47:48.599Z"
   },
   {
    "duration": 11,
    "start_time": "2022-01-11T14:47:54.511Z"
   },
   {
    "duration": 272,
    "start_time": "2022-01-11T14:47:57.535Z"
   },
   {
    "duration": 10,
    "start_time": "2022-01-11T14:48:48.376Z"
   },
   {
    "duration": 281,
    "start_time": "2022-01-11T14:48:50.312Z"
   },
   {
    "duration": 248,
    "start_time": "2022-01-11T14:49:03.938Z"
   },
   {
    "duration": 12,
    "start_time": "2022-01-11T14:49:53.031Z"
   },
   {
    "duration": 273,
    "start_time": "2022-01-11T14:49:53.657Z"
   },
   {
    "duration": 12,
    "start_time": "2022-01-11T14:49:57.249Z"
   },
   {
    "duration": 269,
    "start_time": "2022-01-11T14:50:00.272Z"
   },
   {
    "duration": 11,
    "start_time": "2022-01-11T14:50:02.656Z"
   },
   {
    "duration": 271,
    "start_time": "2022-01-11T14:50:03.399Z"
   },
   {
    "duration": 11,
    "start_time": "2022-01-11T14:50:11.008Z"
   },
   {
    "duration": 298,
    "start_time": "2022-01-11T14:50:11.021Z"
   },
   {
    "duration": 12,
    "start_time": "2022-01-11T14:50:14.056Z"
   },
   {
    "duration": 403,
    "start_time": "2022-01-11T14:50:15.129Z"
   },
   {
    "duration": 11,
    "start_time": "2022-01-11T14:50:19.008Z"
   },
   {
    "duration": 245,
    "start_time": "2022-01-11T14:50:20.024Z"
   },
   {
    "duration": 9,
    "start_time": "2022-01-11T14:50:45.385Z"
   },
   {
    "duration": 271,
    "start_time": "2022-01-11T14:51:00.144Z"
   },
   {
    "duration": 268,
    "start_time": "2022-01-11T14:52:46.723Z"
   },
   {
    "duration": 162,
    "start_time": "2022-01-11T14:52:52.286Z"
   },
   {
    "duration": 9,
    "start_time": "2022-01-11T14:52:54.938Z"
   },
   {
    "duration": 277,
    "start_time": "2022-01-11T14:52:55.888Z"
   },
   {
    "duration": 85,
    "start_time": "2022-01-11T14:53:29.844Z"
   },
   {
    "duration": 11,
    "start_time": "2022-01-11T14:53:29.931Z"
   },
   {
    "duration": 24,
    "start_time": "2022-01-11T14:53:29.945Z"
   },
   {
    "duration": 11,
    "start_time": "2022-01-11T14:53:29.990Z"
   },
   {
    "duration": 15,
    "start_time": "2022-01-11T14:53:30.003Z"
   },
   {
    "duration": 11029,
    "start_time": "2022-01-11T14:53:30.020Z"
   },
   {
    "duration": 41,
    "start_time": "2022-01-11T14:53:41.052Z"
   },
   {
    "duration": 102,
    "start_time": "2022-01-11T14:53:41.094Z"
   },
   {
    "duration": 6,
    "start_time": "2022-01-11T14:53:41.199Z"
   },
   {
    "duration": 19,
    "start_time": "2022-01-11T14:53:41.207Z"
   },
   {
    "duration": 12,
    "start_time": "2022-01-11T14:53:41.228Z"
   },
   {
    "duration": 373,
    "start_time": "2022-01-11T14:53:41.242Z"
   },
   {
    "duration": 10,
    "start_time": "2022-01-11T14:53:41.617Z"
   },
   {
    "duration": 16,
    "start_time": "2022-01-11T14:53:41.629Z"
   },
   {
    "duration": 5,
    "start_time": "2022-01-11T14:53:41.647Z"
   },
   {
    "duration": 63,
    "start_time": "2022-01-11T14:53:41.654Z"
   },
   {
    "duration": 579,
    "start_time": "2022-01-11T14:53:41.719Z"
   },
   {
    "duration": 6,
    "start_time": "2022-01-11T14:53:42.300Z"
   },
   {
    "duration": 11,
    "start_time": "2022-01-11T14:53:42.308Z"
   },
   {
    "duration": 279,
    "start_time": "2022-01-11T14:53:42.320Z"
   },
   {
    "duration": 9,
    "start_time": "2022-01-11T14:53:42.601Z"
   },
   {
    "duration": 261,
    "start_time": "2022-01-11T14:53:42.612Z"
   },
   {
    "duration": 21,
    "start_time": "2022-01-11T14:53:42.875Z"
   },
   {
    "duration": 277,
    "start_time": "2022-01-11T14:53:42.898Z"
   },
   {
    "duration": 19,
    "start_time": "2022-01-11T14:53:43.177Z"
   },
   {
    "duration": 270,
    "start_time": "2022-01-11T14:53:43.197Z"
   },
   {
    "duration": 22,
    "start_time": "2022-01-11T14:53:43.470Z"
   },
   {
    "duration": 404,
    "start_time": "2022-01-11T14:53:43.494Z"
   },
   {
    "duration": 10,
    "start_time": "2022-01-11T14:53:43.900Z"
   },
   {
    "duration": 270,
    "start_time": "2022-01-11T14:53:43.912Z"
   },
   {
    "duration": 10,
    "start_time": "2022-01-11T14:53:44.184Z"
   },
   {
    "duration": 288,
    "start_time": "2022-01-11T14:53:44.196Z"
   },
   {
    "duration": 14,
    "start_time": "2022-01-11T14:53:44.485Z"
   },
   {
    "duration": 235,
    "start_time": "2022-01-11T14:53:44.500Z"
   },
   {
    "duration": 9,
    "start_time": "2022-01-11T14:53:44.736Z"
   },
   {
    "duration": 279,
    "start_time": "2022-01-11T14:53:44.747Z"
   },
   {
    "duration": 165,
    "start_time": "2022-01-11T14:53:45.028Z"
   },
   {
    "duration": 7,
    "start_time": "2022-01-11T14:53:45.195Z"
   },
   {
    "duration": 265,
    "start_time": "2022-01-11T14:53:45.204Z"
   },
   {
    "duration": 71,
    "start_time": "2022-01-11T14:53:45.471Z"
   },
   {
    "duration": 202,
    "start_time": "2022-01-11T14:53:45.545Z"
   },
   {
    "duration": 286,
    "start_time": "2022-01-11T14:53:45.749Z"
   },
   {
    "duration": 359,
    "start_time": "2022-01-11T14:53:46.038Z"
   },
   {
    "duration": 261,
    "start_time": "2022-01-11T14:53:46.399Z"
   },
   {
    "duration": 36,
    "start_time": "2022-01-11T14:53:46.663Z"
   },
   {
    "duration": 278,
    "start_time": "2022-01-11T15:01:01.372Z"
   },
   {
    "duration": 61,
    "start_time": "2022-01-11T15:03:03.508Z"
   },
   {
    "duration": 9,
    "start_time": "2022-01-11T16:20:57.644Z"
   },
   {
    "duration": 33,
    "start_time": "2022-01-11T16:21:21.594Z"
   },
   {
    "duration": 11,
    "start_time": "2022-01-11T16:21:48.245Z"
   },
   {
    "duration": 8,
    "start_time": "2022-01-11T16:21:56.269Z"
   },
   {
    "duration": 4563,
    "start_time": "2022-01-11T16:23:22.263Z"
   },
   {
    "duration": 5,
    "start_time": "2022-01-11T16:23:33.931Z"
   },
   {
    "duration": 57,
    "start_time": "2022-01-11T16:26:01.844Z"
   },
   {
    "duration": 19,
    "start_time": "2022-01-11T16:26:05.339Z"
   },
   {
    "duration": 11,
    "start_time": "2022-01-11T16:28:32.972Z"
   },
   {
    "duration": 45,
    "start_time": "2022-01-11T16:30:19.340Z"
   },
   {
    "duration": 5510,
    "start_time": "2022-01-11T16:30:58.823Z"
   },
   {
    "duration": 4373,
    "start_time": "2022-01-11T16:31:16.085Z"
   },
   {
    "duration": 3572,
    "start_time": "2022-01-11T16:31:28.845Z"
   },
   {
    "duration": 7,
    "start_time": "2022-01-11T16:31:34.221Z"
   },
   {
    "duration": 7,
    "start_time": "2022-01-11T16:31:42.816Z"
   },
   {
    "duration": 5,
    "start_time": "2022-01-11T16:32:04.059Z"
   },
   {
    "duration": 5,
    "start_time": "2022-01-11T16:32:30.644Z"
   },
   {
    "duration": 7,
    "start_time": "2022-01-11T16:32:40.334Z"
   },
   {
    "duration": 7,
    "start_time": "2022-01-11T16:32:45.476Z"
   },
   {
    "duration": 6,
    "start_time": "2022-01-11T16:32:51.477Z"
   },
   {
    "duration": 7,
    "start_time": "2022-01-11T16:33:01.621Z"
   },
   {
    "duration": 6,
    "start_time": "2022-01-11T16:33:07.372Z"
   },
   {
    "duration": 7,
    "start_time": "2022-01-11T16:33:33.509Z"
   },
   {
    "duration": 19,
    "start_time": "2022-01-11T16:34:53.718Z"
   },
   {
    "duration": 197,
    "start_time": "2022-01-11T16:35:31.737Z"
   },
   {
    "duration": 268,
    "start_time": "2022-01-11T16:36:40.206Z"
   },
   {
    "duration": 22,
    "start_time": "2022-01-11T17:42:28.139Z"
   },
   {
    "duration": 9,
    "start_time": "2022-01-11T17:42:54.506Z"
   },
   {
    "duration": 10,
    "start_time": "2022-01-11T17:49:10.810Z"
   },
   {
    "duration": 244,
    "start_time": "2022-01-11T17:49:53.937Z"
   },
   {
    "duration": 227,
    "start_time": "2022-01-11T17:50:21.659Z"
   },
   {
    "duration": 388,
    "start_time": "2022-01-11T17:50:32.740Z"
   },
   {
    "duration": 243,
    "start_time": "2022-01-11T17:50:37.875Z"
   },
   {
    "duration": 210,
    "start_time": "2022-01-11T17:50:44.892Z"
   },
   {
    "duration": 58,
    "start_time": "2022-01-11T17:53:02.132Z"
   },
   {
    "duration": 11,
    "start_time": "2022-01-11T17:57:05.892Z"
   },
   {
    "duration": 293,
    "start_time": "2022-01-11T17:57:13.493Z"
   },
   {
    "duration": 269,
    "start_time": "2022-01-11T17:57:20.334Z"
   },
   {
    "duration": 9,
    "start_time": "2022-01-11T17:58:30.652Z"
   },
   {
    "duration": 279,
    "start_time": "2022-01-11T17:58:32.140Z"
   },
   {
    "duration": 355,
    "start_time": "2022-01-11T17:59:12.229Z"
   },
   {
    "duration": 496,
    "start_time": "2022-01-11T17:59:18.990Z"
   },
   {
    "duration": 722,
    "start_time": "2022-01-11T17:59:31.271Z"
   },
   {
    "duration": 1478,
    "start_time": "2022-01-11T17:59:38.151Z"
   },
   {
    "duration": 920,
    "start_time": "2022-01-11T18:09:55.083Z"
   },
   {
    "duration": 15,
    "start_time": "2022-01-11T18:09:56.006Z"
   },
   {
    "duration": 62,
    "start_time": "2022-01-11T18:09:56.025Z"
   },
   {
    "duration": 13,
    "start_time": "2022-01-11T18:09:56.091Z"
   },
   {
    "duration": 17,
    "start_time": "2022-01-11T18:09:56.107Z"
   },
   {
    "duration": 18767,
    "start_time": "2022-01-11T18:09:56.127Z"
   },
   {
    "duration": 76,
    "start_time": "2022-01-11T18:10:14.898Z"
   },
   {
    "duration": 173,
    "start_time": "2022-01-11T18:10:14.978Z"
   },
   {
    "duration": 8,
    "start_time": "2022-01-11T18:10:15.161Z"
   },
   {
    "duration": 11,
    "start_time": "2022-01-11T18:10:15.172Z"
   },
   {
    "duration": 10,
    "start_time": "2022-01-11T18:10:15.185Z"
   },
   {
    "duration": 702,
    "start_time": "2022-01-11T18:10:15.198Z"
   },
   {
    "duration": 12,
    "start_time": "2022-01-11T18:10:15.904Z"
   },
   {
    "duration": 62,
    "start_time": "2022-01-11T18:10:15.919Z"
   },
   {
    "duration": 7,
    "start_time": "2022-01-11T18:10:15.983Z"
   },
   {
    "duration": 77,
    "start_time": "2022-01-11T18:10:15.993Z"
   },
   {
    "duration": 1160,
    "start_time": "2022-01-11T18:10:16.073Z"
   },
   {
    "duration": 7,
    "start_time": "2022-01-11T18:10:17.235Z"
   },
   {
    "duration": 24,
    "start_time": "2022-01-11T18:10:17.244Z"
   },
   {
    "duration": 430,
    "start_time": "2022-01-11T18:10:17.271Z"
   },
   {
    "duration": 14,
    "start_time": "2022-01-11T18:10:17.703Z"
   },
   {
    "duration": 391,
    "start_time": "2022-01-11T18:10:17.719Z"
   },
   {
    "duration": 14,
    "start_time": "2022-01-11T18:10:18.116Z"
   },
   {
    "duration": 708,
    "start_time": "2022-01-11T18:10:18.134Z"
   },
   {
    "duration": 34,
    "start_time": "2022-01-11T18:10:18.872Z"
   },
   {
    "duration": 680,
    "start_time": "2022-01-11T18:10:18.924Z"
   },
   {
    "duration": 13,
    "start_time": "2022-01-11T18:10:19.607Z"
   },
   {
    "duration": 497,
    "start_time": "2022-01-11T18:10:19.622Z"
   },
   {
    "duration": 13,
    "start_time": "2022-01-11T18:10:20.121Z"
   },
   {
    "duration": 423,
    "start_time": "2022-01-11T18:10:20.136Z"
   },
   {
    "duration": 15,
    "start_time": "2022-01-11T18:10:20.562Z"
   },
   {
    "duration": 432,
    "start_time": "2022-01-11T18:10:20.580Z"
   },
   {
    "duration": 11,
    "start_time": "2022-01-11T18:10:21.014Z"
   },
   {
    "duration": 354,
    "start_time": "2022-01-11T18:10:21.028Z"
   },
   {
    "duration": 12,
    "start_time": "2022-01-11T18:10:21.384Z"
   },
   {
    "duration": 364,
    "start_time": "2022-01-11T18:10:21.399Z"
   },
   {
    "duration": 11,
    "start_time": "2022-01-11T18:10:21.765Z"
   },
   {
    "duration": 414,
    "start_time": "2022-01-11T18:10:21.779Z"
   },
   {
    "duration": 314,
    "start_time": "2022-01-11T18:10:22.195Z"
   },
   {
    "duration": 13,
    "start_time": "2022-01-11T18:10:22.512Z"
   },
   {
    "duration": 404,
    "start_time": "2022-01-11T18:10:22.527Z"
   },
   {
    "duration": 398,
    "start_time": "2022-01-11T18:10:22.934Z"
   },
   {
    "duration": 104,
    "start_time": "2022-01-11T18:10:23.334Z"
   },
   {
    "duration": 295,
    "start_time": "2022-01-11T18:10:23.440Z"
   },
   {
    "duration": 412,
    "start_time": "2022-01-11T18:10:23.737Z"
   },
   {
    "duration": 540,
    "start_time": "2022-01-11T18:10:24.159Z"
   },
   {
    "duration": 386,
    "start_time": "2022-01-11T18:10:24.701Z"
   },
   {
    "duration": 33,
    "start_time": "2022-01-11T18:10:25.090Z"
   },
   {
    "duration": 11,
    "start_time": "2022-01-11T18:10:25.125Z"
   },
   {
    "duration": 450,
    "start_time": "2022-01-11T18:10:25.139Z"
   },
   {
    "duration": 9,
    "start_time": "2022-01-11T18:10:25.592Z"
   },
   {
    "duration": 11,
    "start_time": "2022-01-11T18:10:25.603Z"
   },
   {
    "duration": 1777,
    "start_time": "2022-01-11T18:10:25.616Z"
   },
   {
    "duration": 14,
    "start_time": "2022-01-11T18:10:27.396Z"
   },
   {
    "duration": 458,
    "start_time": "2022-01-11T18:10:27.413Z"
   },
   {
    "duration": 14,
    "start_time": "2022-01-11T18:10:27.874Z"
   },
   {
    "duration": 446,
    "start_time": "2022-01-11T18:10:27.891Z"
   },
   {
    "duration": 25,
    "start_time": "2022-01-11T18:10:28.340Z"
   },
   {
    "duration": 449,
    "start_time": "2022-01-11T18:10:28.368Z"
   },
   {
    "duration": 16,
    "start_time": "2022-01-11T18:10:28.820Z"
   },
   {
    "duration": 528,
    "start_time": "2022-01-11T18:10:28.839Z"
   },
   {
    "duration": 17,
    "start_time": "2022-01-11T18:10:29.370Z"
   },
   {
    "duration": 444,
    "start_time": "2022-01-11T18:10:29.390Z"
   },
   {
    "duration": 28,
    "start_time": "2022-01-11T18:10:29.837Z"
   },
   {
    "duration": 561,
    "start_time": "2022-01-11T18:10:29.868Z"
   },
   {
    "duration": 31,
    "start_time": "2022-01-11T18:10:30.433Z"
   },
   {
    "duration": 387,
    "start_time": "2022-01-11T18:10:30.467Z"
   },
   {
    "duration": 13,
    "start_time": "2022-01-11T18:10:30.862Z"
   },
   {
    "duration": 538,
    "start_time": "2022-01-11T18:10:30.878Z"
   },
   {
    "duration": 15,
    "start_time": "2022-01-11T18:11:10.762Z"
   },
   {
    "duration": 389,
    "start_time": "2022-01-11T18:11:18.057Z"
   },
   {
    "duration": 12,
    "start_time": "2022-01-11T18:11:26.868Z"
   },
   {
    "duration": 411,
    "start_time": "2022-01-11T18:11:31.362Z"
   },
   {
    "duration": 14,
    "start_time": "2022-01-11T18:11:36.489Z"
   },
   {
    "duration": 12,
    "start_time": "2022-01-11T18:11:39.490Z"
   },
   {
    "duration": 383,
    "start_time": "2022-01-11T18:11:43.736Z"
   },
   {
    "duration": 13,
    "start_time": "2022-01-11T18:11:51.177Z"
   },
   {
    "duration": 394,
    "start_time": "2022-01-11T18:11:55.412Z"
   },
   {
    "duration": 12,
    "start_time": "2022-01-11T18:12:02.606Z"
   },
   {
    "duration": 398,
    "start_time": "2022-01-11T18:12:06.609Z"
   },
   {
    "duration": 14,
    "start_time": "2022-01-11T18:12:16.544Z"
   },
   {
    "duration": 418,
    "start_time": "2022-01-11T18:12:21.929Z"
   },
   {
    "duration": 13,
    "start_time": "2022-01-11T18:12:30.817Z"
   },
   {
    "duration": 281,
    "start_time": "2022-01-11T18:12:36.133Z"
   },
   {
    "duration": 12,
    "start_time": "2022-01-11T18:12:42.557Z"
   },
   {
    "duration": 350,
    "start_time": "2022-01-11T18:12:46.961Z"
   },
   {
    "duration": 329,
    "start_time": "2022-01-11T18:13:11.730Z"
   },
   {
    "duration": 483,
    "start_time": "2022-01-11T18:13:18.296Z"
   },
   {
    "duration": 592,
    "start_time": "2022-01-11T18:13:29.888Z"
   },
   {
    "duration": 407,
    "start_time": "2022-01-11T18:14:32.257Z"
   },
   {
    "duration": 1681,
    "start_time": "2022-01-11T18:14:38.434Z"
   },
   {
    "duration": 1191,
    "start_time": "2022-01-11T18:14:55.151Z"
   },
   {
    "duration": 984,
    "start_time": "2022-01-11T18:15:19.338Z"
   },
   {
    "duration": 363,
    "start_time": "2022-01-11T18:16:37.082Z"
   },
   {
    "duration": 113,
    "start_time": "2022-01-11T18:17:08.330Z"
   },
   {
    "duration": 25,
    "start_time": "2022-01-11T20:26:58.392Z"
   },
   {
    "duration": 287,
    "start_time": "2022-01-11T20:31:19.410Z"
   },
   {
    "duration": 422,
    "start_time": "2022-01-11T20:31:42.795Z"
   },
   {
    "duration": 444,
    "start_time": "2022-01-11T20:31:54.462Z"
   },
   {
    "duration": 510,
    "start_time": "2022-01-11T20:33:15.593Z"
   },
   {
    "duration": 114,
    "start_time": "2022-01-11T20:33:20.671Z"
   },
   {
    "duration": 560,
    "start_time": "2022-01-11T20:33:31.431Z"
   },
   {
    "duration": 493,
    "start_time": "2022-01-11T20:34:37.219Z"
   },
   {
    "duration": 121,
    "start_time": "2022-01-11T20:35:31.731Z"
   },
   {
    "duration": 379,
    "start_time": "2022-01-11T20:35:44.880Z"
   },
   {
    "duration": 888,
    "start_time": "2022-01-11T20:36:33.474Z"
   },
   {
    "duration": 650,
    "start_time": "2022-01-11T20:36:41.498Z"
   },
   {
    "duration": 659,
    "start_time": "2022-01-11T20:36:49.392Z"
   },
   {
    "duration": 303,
    "start_time": "2022-01-11T20:38:20.510Z"
   },
   {
    "duration": 543,
    "start_time": "2022-01-11T20:43:43.170Z"
   },
   {
    "duration": 127,
    "start_time": "2022-01-11T20:43:43.716Z"
   },
   {
    "duration": 24,
    "start_time": "2022-01-11T20:43:43.846Z"
   },
   {
    "duration": 42,
    "start_time": "2022-01-11T20:43:43.872Z"
   },
   {
    "duration": 44,
    "start_time": "2022-01-11T20:43:43.916Z"
   },
   {
    "duration": 19,
    "start_time": "2022-01-11T20:43:43.963Z"
   },
   {
    "duration": 17413,
    "start_time": "2022-01-11T20:43:43.986Z"
   },
   {
    "duration": 73,
    "start_time": "2022-01-11T20:44:01.402Z"
   },
   {
    "duration": 181,
    "start_time": "2022-01-11T20:44:01.478Z"
   },
   {
    "duration": 14,
    "start_time": "2022-01-11T20:44:01.662Z"
   },
   {
    "duration": 15,
    "start_time": "2022-01-11T20:44:01.679Z"
   },
   {
    "duration": 64,
    "start_time": "2022-01-11T20:44:01.696Z"
   },
   {
    "duration": 538,
    "start_time": "2022-01-11T20:44:01.763Z"
   },
   {
    "duration": 11,
    "start_time": "2022-01-11T20:44:02.304Z"
   },
   {
    "duration": 57,
    "start_time": "2022-01-11T20:44:02.318Z"
   },
   {
    "duration": 5,
    "start_time": "2022-01-11T20:44:02.378Z"
   },
   {
    "duration": 76,
    "start_time": "2022-01-11T20:44:02.385Z"
   },
   {
    "duration": 976,
    "start_time": "2022-01-11T20:44:02.464Z"
   },
   {
    "duration": 20,
    "start_time": "2022-01-11T20:44:03.443Z"
   },
   {
    "duration": 16,
    "start_time": "2022-01-11T20:44:03.466Z"
   },
   {
    "duration": 461,
    "start_time": "2022-01-11T20:44:03.485Z"
   },
   {
    "duration": 13,
    "start_time": "2022-01-11T20:44:03.961Z"
   },
   {
    "duration": 396,
    "start_time": "2022-01-11T20:44:03.978Z"
   },
   {
    "duration": 14,
    "start_time": "2022-01-11T20:44:04.376Z"
   },
   {
    "duration": 470,
    "start_time": "2022-01-11T20:44:04.392Z"
   },
   {
    "duration": 18,
    "start_time": "2022-01-11T20:44:04.865Z"
   },
   {
    "duration": 459,
    "start_time": "2022-01-11T20:44:04.886Z"
   },
   {
    "duration": 18,
    "start_time": "2022-01-11T20:44:05.348Z"
   },
   {
    "duration": 444,
    "start_time": "2022-01-11T20:44:05.368Z"
   },
   {
    "duration": 13,
    "start_time": "2022-01-11T20:44:05.815Z"
   },
   {
    "duration": 449,
    "start_time": "2022-01-11T20:44:05.830Z"
   },
   {
    "duration": 14,
    "start_time": "2022-01-11T20:44:06.281Z"
   },
   {
    "duration": 469,
    "start_time": "2022-01-11T20:44:06.298Z"
   },
   {
    "duration": 14,
    "start_time": "2022-01-11T20:44:06.769Z"
   },
   {
    "duration": 331,
    "start_time": "2022-01-11T20:44:06.785Z"
   },
   {
    "duration": 13,
    "start_time": "2022-01-11T20:44:07.118Z"
   },
   {
    "duration": 389,
    "start_time": "2022-01-11T20:44:07.133Z"
   },
   {
    "duration": 12,
    "start_time": "2022-01-11T20:44:07.524Z"
   },
   {
    "duration": 441,
    "start_time": "2022-01-11T20:44:07.539Z"
   },
   {
    "duration": 256,
    "start_time": "2022-01-11T20:44:07.982Z"
   },
   {
    "duration": 22,
    "start_time": "2022-01-11T20:44:08.240Z"
   },
   {
    "duration": 427,
    "start_time": "2022-01-11T20:44:08.264Z"
   },
   {
    "duration": 397,
    "start_time": "2022-01-11T20:44:08.694Z"
   },
   {
    "duration": 100,
    "start_time": "2022-01-11T20:44:09.093Z"
   },
   {
    "duration": 318,
    "start_time": "2022-01-11T20:44:09.196Z"
   },
   {
    "duration": 413,
    "start_time": "2022-01-11T20:44:09.517Z"
   },
   {
    "duration": 565,
    "start_time": "2022-01-11T20:44:09.932Z"
   },
   {
    "duration": 399,
    "start_time": "2022-01-11T20:44:10.499Z"
   },
   {
    "duration": 36,
    "start_time": "2022-01-11T20:44:10.900Z"
   },
   {
    "duration": 31,
    "start_time": "2022-01-11T20:44:10.938Z"
   },
   {
    "duration": 472,
    "start_time": "2022-01-11T20:44:10.971Z"
   },
   {
    "duration": 22,
    "start_time": "2022-01-11T20:44:11.445Z"
   },
   {
    "duration": 15,
    "start_time": "2022-01-11T20:44:11.469Z"
   },
   {
    "duration": 1732,
    "start_time": "2022-01-11T20:44:11.486Z"
   },
   {
    "duration": 15,
    "start_time": "2022-01-11T20:44:13.221Z"
   },
   {
    "duration": 476,
    "start_time": "2022-01-11T20:44:13.260Z"
   },
   {
    "duration": 23,
    "start_time": "2022-01-11T20:44:13.739Z"
   },
   {
    "duration": 442,
    "start_time": "2022-01-11T20:44:13.765Z"
   },
   {
    "duration": 15,
    "start_time": "2022-01-11T20:44:14.210Z"
   },
   {
    "duration": 462,
    "start_time": "2022-01-11T20:44:14.228Z"
   },
   {
    "duration": 13,
    "start_time": "2022-01-11T20:44:14.693Z"
   },
   {
    "duration": 449,
    "start_time": "2022-01-11T20:44:14.709Z"
   },
   {
    "duration": 12,
    "start_time": "2022-01-11T20:44:15.161Z"
   },
   {
    "duration": 866,
    "start_time": "2022-01-11T20:44:15.176Z"
   },
   {
    "duration": 25,
    "start_time": "2022-01-11T20:44:16.045Z"
   },
   {
    "duration": 921,
    "start_time": "2022-01-11T20:44:16.073Z"
   },
   {
    "duration": 13,
    "start_time": "2022-01-11T20:44:17.002Z"
   },
   {
    "duration": 321,
    "start_time": "2022-01-11T20:44:17.017Z"
   },
   {
    "duration": 21,
    "start_time": "2022-01-11T20:44:17.340Z"
   },
   {
    "duration": 452,
    "start_time": "2022-01-11T20:44:17.363Z"
   },
   {
    "duration": 44,
    "start_time": "2022-01-11T20:44:17.817Z"
   },
   {
    "duration": 696,
    "start_time": "2022-01-11T20:44:17.863Z"
   },
   {
    "duration": 332,
    "start_time": "2022-01-11T20:44:18.561Z"
   },
   {
    "duration": 544,
    "start_time": "2022-01-11T20:46:46.739Z"
   },
   {
    "duration": 407,
    "start_time": "2022-01-11T20:59:47.296Z"
   },
   {
    "duration": 433,
    "start_time": "2022-01-11T21:00:24.261Z"
   },
   {
    "duration": 6,
    "start_time": "2022-01-11T21:00:42.915Z"
   },
   {
    "duration": 14,
    "start_time": "2022-01-11T21:06:20.695Z"
   },
   {
    "duration": 17,
    "start_time": "2022-01-11T21:09:48.286Z"
   },
   {
    "duration": 38,
    "start_time": "2022-01-11T21:10:26.291Z"
   },
   {
    "duration": 3,
    "start_time": "2022-01-11T21:11:33.628Z"
   },
   {
    "duration": 131,
    "start_time": "2022-01-11T21:13:46.762Z"
   },
   {
    "duration": 15,
    "start_time": "2022-01-11T21:13:46.896Z"
   },
   {
    "duration": 80,
    "start_time": "2022-01-11T21:13:46.915Z"
   },
   {
    "duration": 12,
    "start_time": "2022-01-11T21:13:46.997Z"
   },
   {
    "duration": 64,
    "start_time": "2022-01-11T21:13:47.011Z"
   },
   {
    "duration": 19,
    "start_time": "2022-01-11T21:13:47.077Z"
   },
   {
    "duration": 16609,
    "start_time": "2022-01-11T21:13:47.098Z"
   },
   {
    "duration": 54,
    "start_time": "2022-01-11T21:14:03.711Z"
   },
   {
    "duration": 7,
    "start_time": "2022-01-11T21:14:03.768Z"
   },
   {
    "duration": 176,
    "start_time": "2022-01-11T21:14:03.777Z"
   },
   {
    "duration": 9,
    "start_time": "2022-01-11T21:14:03.960Z"
   },
   {
    "duration": 11,
    "start_time": "2022-01-11T21:14:03.972Z"
   },
   {
    "duration": 14,
    "start_time": "2022-01-11T21:14:03.985Z"
   },
   {
    "duration": 558,
    "start_time": "2022-01-11T21:14:04.001Z"
   },
   {
    "duration": 14,
    "start_time": "2022-01-11T21:14:04.562Z"
   },
   {
    "duration": 25,
    "start_time": "2022-01-11T21:14:04.579Z"
   },
   {
    "duration": 54,
    "start_time": "2022-01-11T21:14:04.608Z"
   },
   {
    "duration": 50,
    "start_time": "2022-01-11T21:14:04.665Z"
   },
   {
    "duration": 987,
    "start_time": "2022-01-11T21:14:04.717Z"
   },
   {
    "duration": 6,
    "start_time": "2022-01-11T21:14:05.706Z"
   },
   {
    "duration": 19,
    "start_time": "2022-01-11T21:14:05.715Z"
   },
   {
    "duration": 431,
    "start_time": "2022-01-11T21:14:05.760Z"
   },
   {
    "duration": 14,
    "start_time": "2022-01-11T21:14:06.197Z"
   },
   {
    "duration": 398,
    "start_time": "2022-01-11T21:14:06.215Z"
   },
   {
    "duration": 12,
    "start_time": "2022-01-11T21:14:06.615Z"
   },
   {
    "duration": 548,
    "start_time": "2022-01-11T21:14:06.629Z"
   },
   {
    "duration": 18,
    "start_time": "2022-01-11T21:14:07.180Z"
   },
   {
    "duration": 476,
    "start_time": "2022-01-11T21:14:07.200Z"
   },
   {
    "duration": 18,
    "start_time": "2022-01-11T21:14:07.679Z"
   },
   {
    "duration": 457,
    "start_time": "2022-01-11T21:14:07.700Z"
   },
   {
    "duration": 13,
    "start_time": "2022-01-11T21:14:08.160Z"
   },
   {
    "duration": 432,
    "start_time": "2022-01-11T21:14:08.176Z"
   },
   {
    "duration": 14,
    "start_time": "2022-01-11T21:14:08.611Z"
   },
   {
    "duration": 441,
    "start_time": "2022-01-11T21:14:08.627Z"
   },
   {
    "duration": 13,
    "start_time": "2022-01-11T21:14:09.071Z"
   },
   {
    "duration": 335,
    "start_time": "2022-01-11T21:14:09.086Z"
   },
   {
    "duration": 13,
    "start_time": "2022-01-11T21:14:09.424Z"
   },
   {
    "duration": 383,
    "start_time": "2022-01-11T21:14:09.439Z"
   },
   {
    "duration": 11,
    "start_time": "2022-01-11T21:14:09.825Z"
   },
   {
    "duration": 449,
    "start_time": "2022-01-11T21:14:09.859Z"
   },
   {
    "duration": 274,
    "start_time": "2022-01-11T21:14:10.312Z"
   },
   {
    "duration": 14,
    "start_time": "2022-01-11T21:14:10.589Z"
   },
   {
    "duration": 499,
    "start_time": "2022-01-11T21:14:10.606Z"
   },
   {
    "duration": 473,
    "start_time": "2022-01-11T21:14:11.108Z"
   },
   {
    "duration": 112,
    "start_time": "2022-01-11T21:14:11.584Z"
   },
   {
    "duration": 340,
    "start_time": "2022-01-11T21:14:11.699Z"
   },
   {
    "duration": 429,
    "start_time": "2022-01-11T21:14:12.042Z"
   },
   {
    "duration": 2145,
    "start_time": "2022-01-11T21:14:12.474Z"
   },
   {
    "duration": 407,
    "start_time": "2022-01-11T21:14:14.621Z"
   },
   {
    "duration": 48,
    "start_time": "2022-01-11T21:14:15.030Z"
   },
   {
    "duration": 12,
    "start_time": "2022-01-11T21:14:15.080Z"
   },
   {
    "duration": 460,
    "start_time": "2022-01-11T21:14:15.094Z"
   },
   {
    "duration": 11,
    "start_time": "2022-01-11T21:14:15.560Z"
   },
   {
    "duration": 14,
    "start_time": "2022-01-11T21:14:15.574Z"
   },
   {
    "duration": 1743,
    "start_time": "2022-01-11T21:14:15.591Z"
   },
   {
    "duration": 26,
    "start_time": "2022-01-11T21:14:17.338Z"
   },
   {
    "duration": 495,
    "start_time": "2022-01-11T21:14:17.366Z"
   },
   {
    "duration": 12,
    "start_time": "2022-01-11T21:14:17.864Z"
   },
   {
    "duration": 460,
    "start_time": "2022-01-11T21:14:17.879Z"
   },
   {
    "duration": 24,
    "start_time": "2022-01-11T21:14:18.341Z"
   },
   {
    "duration": 427,
    "start_time": "2022-01-11T21:14:18.368Z"
   },
   {
    "duration": 12,
    "start_time": "2022-01-11T21:14:18.798Z"
   },
   {
    "duration": 453,
    "start_time": "2022-01-11T21:14:18.812Z"
   },
   {
    "duration": 13,
    "start_time": "2022-01-11T21:14:19.268Z"
   },
   {
    "duration": 855,
    "start_time": "2022-01-11T21:14:19.284Z"
   },
   {
    "duration": 22,
    "start_time": "2022-01-11T21:14:20.141Z"
   },
   {
    "duration": 900,
    "start_time": "2022-01-11T21:14:20.165Z"
   },
   {
    "duration": 12,
    "start_time": "2022-01-11T21:14:21.073Z"
   },
   {
    "duration": 326,
    "start_time": "2022-01-11T21:14:21.088Z"
   },
   {
    "duration": 12,
    "start_time": "2022-01-11T21:14:21.417Z"
   },
   {
    "duration": 424,
    "start_time": "2022-01-11T21:14:21.431Z"
   },
   {
    "duration": 23,
    "start_time": "2022-01-11T21:14:21.859Z"
   },
   {
    "duration": 679,
    "start_time": "2022-01-11T21:14:21.885Z"
   },
   {
    "duration": 333,
    "start_time": "2022-01-11T21:14:22.566Z"
   },
   {
    "duration": 891,
    "start_time": "2022-01-11T21:14:22.901Z"
   },
   {
    "duration": 448,
    "start_time": "2022-01-11T21:14:23.794Z"
   },
   {
    "duration": 578,
    "start_time": "2022-01-11T21:14:24.244Z"
   },
   {
    "duration": 400,
    "start_time": "2022-01-11T21:14:24.825Z"
   },
   {
    "duration": 22,
    "start_time": "2022-01-11T21:23:54.591Z"
   },
   {
    "duration": 110,
    "start_time": "2022-01-11T21:24:07.286Z"
   },
   {
    "duration": 14,
    "start_time": "2022-01-11T21:24:07.399Z"
   },
   {
    "duration": 75,
    "start_time": "2022-01-11T21:24:07.417Z"
   },
   {
    "duration": 16,
    "start_time": "2022-01-11T21:24:07.495Z"
   },
   {
    "duration": 58,
    "start_time": "2022-01-11T21:24:07.515Z"
   },
   {
    "duration": 17,
    "start_time": "2022-01-11T21:24:07.575Z"
   },
   {
    "duration": 18514,
    "start_time": "2022-01-11T21:24:07.595Z"
   },
   {
    "duration": 63,
    "start_time": "2022-01-11T21:24:26.111Z"
   },
   {
    "duration": 7,
    "start_time": "2022-01-11T21:24:26.178Z"
   },
   {
    "duration": 190,
    "start_time": "2022-01-11T21:24:26.188Z"
   },
   {
    "duration": 9,
    "start_time": "2022-01-11T21:24:26.381Z"
   },
   {
    "duration": 12,
    "start_time": "2022-01-11T21:24:26.393Z"
   },
   {
    "duration": 53,
    "start_time": "2022-01-11T21:24:26.408Z"
   },
   {
    "duration": 515,
    "start_time": "2022-01-11T21:24:26.464Z"
   },
   {
    "duration": 12,
    "start_time": "2022-01-11T21:24:26.982Z"
   },
   {
    "duration": 25,
    "start_time": "2022-01-11T21:24:26.996Z"
   },
   {
    "duration": 5,
    "start_time": "2022-01-11T21:24:27.059Z"
   },
   {
    "duration": 51,
    "start_time": "2022-01-11T21:24:27.067Z"
   },
   {
    "duration": 964,
    "start_time": "2022-01-11T21:24:27.121Z"
   },
   {
    "duration": 6,
    "start_time": "2022-01-11T21:24:28.088Z"
   },
   {
    "duration": 17,
    "start_time": "2022-01-11T21:24:28.097Z"
   },
   {
    "duration": 439,
    "start_time": "2022-01-11T21:24:28.116Z"
   },
   {
    "duration": 14,
    "start_time": "2022-01-11T21:24:28.559Z"
   },
   {
    "duration": 465,
    "start_time": "2022-01-11T21:24:28.575Z"
   },
   {
    "duration": 24,
    "start_time": "2022-01-11T21:24:29.043Z"
   },
   {
    "duration": 449,
    "start_time": "2022-01-11T21:24:29.070Z"
   },
   {
    "duration": 35,
    "start_time": "2022-01-11T21:24:29.529Z"
   },
   {
    "duration": 444,
    "start_time": "2022-01-11T21:24:29.568Z"
   },
   {
    "duration": 13,
    "start_time": "2022-01-11T21:24:30.015Z"
   },
   {
    "duration": 452,
    "start_time": "2022-01-11T21:24:30.031Z"
   },
   {
    "duration": 17,
    "start_time": "2022-01-11T21:24:30.485Z"
   },
   {
    "duration": 616,
    "start_time": "2022-01-11T21:24:30.504Z"
   },
   {
    "duration": 15,
    "start_time": "2022-01-11T21:24:31.135Z"
   },
   {
    "duration": 470,
    "start_time": "2022-01-11T21:24:31.160Z"
   },
   {
    "duration": 27,
    "start_time": "2022-01-11T21:24:31.632Z"
   },
   {
    "duration": 322,
    "start_time": "2022-01-11T21:24:31.662Z"
   },
   {
    "duration": 13,
    "start_time": "2022-01-11T21:24:31.987Z"
   },
   {
    "duration": 370,
    "start_time": "2022-01-11T21:24:32.003Z"
   },
   {
    "duration": 11,
    "start_time": "2022-01-11T21:24:32.376Z"
   },
   {
    "duration": 446,
    "start_time": "2022-01-11T21:24:32.389Z"
   },
   {
    "duration": 257,
    "start_time": "2022-01-11T21:24:32.837Z"
   },
   {
    "duration": 16,
    "start_time": "2022-01-11T21:24:33.097Z"
   },
   {
    "duration": 546,
    "start_time": "2022-01-11T21:24:33.115Z"
   },
   {
    "duration": 399,
    "start_time": "2022-01-11T21:24:33.664Z"
   },
   {
    "duration": 105,
    "start_time": "2022-01-11T21:24:34.066Z"
   },
   {
    "duration": 334,
    "start_time": "2022-01-11T21:24:34.173Z"
   },
   {
    "duration": 554,
    "start_time": "2022-01-11T21:24:34.510Z"
   },
   {
    "duration": 668,
    "start_time": "2022-01-11T21:24:35.068Z"
   },
   {
    "duration": 412,
    "start_time": "2022-01-11T21:24:35.740Z"
   },
   {
    "duration": 43,
    "start_time": "2022-01-11T21:24:36.155Z"
   },
   {
    "duration": 16,
    "start_time": "2022-01-11T21:24:36.201Z"
   },
   {
    "duration": 515,
    "start_time": "2022-01-11T21:24:36.220Z"
   },
   {
    "duration": 22,
    "start_time": "2022-01-11T21:24:36.737Z"
   },
   {
    "duration": 13,
    "start_time": "2022-01-11T21:24:36.761Z"
   },
   {
    "duration": 2203,
    "start_time": "2022-01-11T21:24:36.777Z"
   },
   {
    "duration": 14,
    "start_time": "2022-01-11T21:24:38.982Z"
   },
   {
    "duration": 489,
    "start_time": "2022-01-11T21:24:38.999Z"
   },
   {
    "duration": 12,
    "start_time": "2022-01-11T21:24:39.490Z"
   },
   {
    "duration": 443,
    "start_time": "2022-01-11T21:24:39.504Z"
   },
   {
    "duration": 17,
    "start_time": "2022-01-11T21:24:39.950Z"
   },
   {
    "duration": 660,
    "start_time": "2022-01-11T21:24:39.969Z"
   },
   {
    "duration": 34,
    "start_time": "2022-01-11T21:24:40.632Z"
   },
   {
    "duration": 435,
    "start_time": "2022-01-11T21:24:40.668Z"
   },
   {
    "duration": 13,
    "start_time": "2022-01-11T21:24:41.106Z"
   },
   {
    "duration": 856,
    "start_time": "2022-01-11T21:24:41.121Z"
   },
   {
    "duration": 12,
    "start_time": "2022-01-11T21:24:41.980Z"
   },
   {
    "duration": 870,
    "start_time": "2022-01-11T21:24:41.995Z"
   },
   {
    "duration": 12,
    "start_time": "2022-01-11T21:24:42.868Z"
   },
   {
    "duration": 319,
    "start_time": "2022-01-11T21:24:42.883Z"
   },
   {
    "duration": 13,
    "start_time": "2022-01-11T21:24:43.205Z"
   },
   {
    "duration": 414,
    "start_time": "2022-01-11T21:24:43.221Z"
   },
   {
    "duration": 36,
    "start_time": "2022-01-11T21:24:43.638Z"
   },
   {
    "duration": 661,
    "start_time": "2022-01-11T21:24:43.676Z"
   },
   {
    "duration": 360,
    "start_time": "2022-01-11T21:24:44.340Z"
   },
   {
    "duration": 519,
    "start_time": "2022-01-11T21:24:44.704Z"
   },
   {
    "duration": 439,
    "start_time": "2022-01-11T21:24:45.226Z"
   },
   {
    "duration": 699,
    "start_time": "2022-01-11T21:24:45.669Z"
   },
   {
    "duration": 403,
    "start_time": "2022-01-11T21:24:46.371Z"
   },
   {
    "duration": 104,
    "start_time": "2022-01-11T21:25:38.166Z"
   },
   {
    "duration": 16,
    "start_time": "2022-01-11T21:25:38.273Z"
   },
   {
    "duration": 35,
    "start_time": "2022-01-11T21:25:38.292Z"
   },
   {
    "duration": 42,
    "start_time": "2022-01-11T21:25:38.329Z"
   },
   {
    "duration": 24,
    "start_time": "2022-01-11T21:25:38.373Z"
   },
   {
    "duration": 63,
    "start_time": "2022-01-11T21:25:38.400Z"
   },
   {
    "duration": 18607,
    "start_time": "2022-01-11T21:25:38.466Z"
   },
   {
    "duration": 39,
    "start_time": "2022-01-11T21:25:57.077Z"
   },
   {
    "duration": 139,
    "start_time": "2022-01-11T21:26:09.740Z"
   },
   {
    "duration": 11,
    "start_time": "2022-01-11T21:26:30.771Z"
   },
   {
    "duration": 11,
    "start_time": "2022-01-11T21:26:32.068Z"
   },
   {
    "duration": 510,
    "start_time": "2022-01-11T21:26:32.478Z"
   },
   {
    "duration": 11,
    "start_time": "2022-01-11T21:26:57.760Z"
   },
   {
    "duration": 23,
    "start_time": "2022-01-11T21:27:16.306Z"
   },
   {
    "duration": 6,
    "start_time": "2022-01-11T21:27:27.290Z"
   },
   {
    "duration": 55,
    "start_time": "2022-01-11T21:27:29.540Z"
   },
   {
    "duration": 922,
    "start_time": "2022-01-11T21:27:33.091Z"
   },
   {
    "duration": 7,
    "start_time": "2022-01-11T21:27:37.843Z"
   },
   {
    "duration": 14,
    "start_time": "2022-01-11T21:27:43.843Z"
   },
   {
    "duration": 417,
    "start_time": "2022-01-11T21:27:44.866Z"
   },
   {
    "duration": 14,
    "start_time": "2022-01-11T21:27:49.514Z"
   },
   {
    "duration": 372,
    "start_time": "2022-01-11T21:27:50.171Z"
   },
   {
    "duration": 16,
    "start_time": "2022-01-11T21:27:54.483Z"
   },
   {
    "duration": 425,
    "start_time": "2022-01-11T21:27:54.939Z"
   },
   {
    "duration": 15,
    "start_time": "2022-01-11T21:27:58.931Z"
   },
   {
    "duration": 440,
    "start_time": "2022-01-11T21:28:01.363Z"
   },
   {
    "duration": 14,
    "start_time": "2022-01-11T21:28:04.659Z"
   },
   {
    "duration": 412,
    "start_time": "2022-01-11T21:28:08.923Z"
   },
   {
    "duration": 16,
    "start_time": "2022-01-11T21:28:12.851Z"
   },
   {
    "duration": 407,
    "start_time": "2022-01-11T21:28:13.556Z"
   },
   {
    "duration": 16,
    "start_time": "2022-01-11T21:28:16.436Z"
   },
   {
    "duration": 417,
    "start_time": "2022-01-11T21:28:16.749Z"
   },
   {
    "duration": 16,
    "start_time": "2022-01-11T21:28:21.723Z"
   },
   {
    "duration": 310,
    "start_time": "2022-01-11T21:28:24.567Z"
   },
   {
    "duration": 15,
    "start_time": "2022-01-11T21:28:51.700Z"
   },
   {
    "duration": 344,
    "start_time": "2022-01-11T21:28:52.676Z"
   },
   {
    "duration": 13,
    "start_time": "2022-01-11T21:29:08.982Z"
   },
   {
    "duration": 406,
    "start_time": "2022-01-11T21:29:20.684Z"
   },
   {
    "duration": 264,
    "start_time": "2022-01-11T21:31:35.644Z"
   },
   {
    "duration": 13,
    "start_time": "2022-01-11T21:32:01.365Z"
   },
   {
    "duration": 434,
    "start_time": "2022-01-11T21:32:01.539Z"
   },
   {
    "duration": 868,
    "start_time": "2022-01-11T21:32:07.678Z"
   },
   {
    "duration": 82,
    "start_time": "2022-01-11T21:32:16.565Z"
   },
   {
    "duration": 307,
    "start_time": "2022-01-11T21:32:43.356Z"
   },
   {
    "duration": 398,
    "start_time": "2022-01-11T21:32:50.444Z"
   },
   {
    "duration": 543,
    "start_time": "2022-01-11T21:32:53.796Z"
   },
   {
    "duration": 397,
    "start_time": "2022-01-11T21:33:46.140Z"
   },
   {
    "duration": 35,
    "start_time": "2022-01-11T21:33:54.813Z"
   },
   {
    "duration": 12,
    "start_time": "2022-01-11T21:34:07.451Z"
   },
   {
    "duration": 539,
    "start_time": "2022-01-11T21:34:08.902Z"
   },
   {
    "duration": 9,
    "start_time": "2022-01-11T21:34:20.822Z"
   },
   {
    "duration": 11,
    "start_time": "2022-01-11T21:34:23.102Z"
   },
   {
    "duration": 1682,
    "start_time": "2022-01-11T21:34:27.335Z"
   },
   {
    "duration": 12,
    "start_time": "2022-01-11T21:34:38.708Z"
   },
   {
    "duration": 434,
    "start_time": "2022-01-11T21:34:39.316Z"
   },
   {
    "duration": 14,
    "start_time": "2022-01-11T21:34:41.338Z"
   },
   {
    "duration": 394,
    "start_time": "2022-01-11T21:34:41.668Z"
   },
   {
    "duration": 11,
    "start_time": "2022-01-11T21:34:42.804Z"
   },
   {
    "duration": 415,
    "start_time": "2022-01-11T21:34:44.520Z"
   },
   {
    "duration": 12,
    "start_time": "2022-01-11T21:34:46.929Z"
   },
   {
    "duration": 410,
    "start_time": "2022-01-11T21:34:48.171Z"
   },
   {
    "duration": 13,
    "start_time": "2022-01-11T21:34:51.508Z"
   },
   {
    "duration": 841,
    "start_time": "2022-01-11T21:34:51.749Z"
   },
   {
    "duration": 13,
    "start_time": "2022-01-11T21:34:52.593Z"
   },
   {
    "duration": 835,
    "start_time": "2022-01-11T21:34:53.635Z"
   },
   {
    "duration": 11,
    "start_time": "2022-01-11T21:34:54.933Z"
   },
   {
    "duration": 283,
    "start_time": "2022-01-11T21:34:55.679Z"
   },
   {
    "duration": 12,
    "start_time": "2022-01-11T21:35:05.477Z"
   },
   {
    "duration": 371,
    "start_time": "2022-01-11T21:35:06.708Z"
   },
   {
    "duration": 26,
    "start_time": "2022-01-11T21:35:17.092Z"
   },
   {
    "duration": 26,
    "start_time": "2022-01-11T21:36:09.139Z"
   },
   {
    "duration": 649,
    "start_time": "2022-01-11T21:36:21.854Z"
   },
   {
    "duration": 308,
    "start_time": "2022-01-11T21:36:44.380Z"
   },
   {
    "duration": 499,
    "start_time": "2022-01-11T21:36:48.124Z"
   },
   {
    "duration": 416,
    "start_time": "2022-01-11T21:36:53.868Z"
   },
   {
    "duration": 547,
    "start_time": "2022-01-11T21:37:33.117Z"
   },
   {
    "duration": 362,
    "start_time": "2022-01-11T21:37:36.109Z"
   },
   {
    "duration": 650,
    "start_time": "2022-01-13T12:23:38.222Z"
   },
   {
    "duration": 17,
    "start_time": "2022-01-13T12:23:38.874Z"
   },
   {
    "duration": 26,
    "start_time": "2022-01-13T12:23:38.893Z"
   },
   {
    "duration": 8,
    "start_time": "2022-01-13T12:23:38.921Z"
   },
   {
    "duration": 19,
    "start_time": "2022-01-13T12:23:38.931Z"
   },
   {
    "duration": 40,
    "start_time": "2022-01-13T12:23:38.952Z"
   },
   {
    "duration": 10801,
    "start_time": "2022-01-13T12:23:38.995Z"
   },
   {
    "duration": 26,
    "start_time": "2022-01-13T12:23:49.798Z"
   },
   {
    "duration": 107,
    "start_time": "2022-01-13T12:23:49.826Z"
   },
   {
    "duration": 7,
    "start_time": "2022-01-13T12:23:49.935Z"
   },
   {
    "duration": 8,
    "start_time": "2022-01-13T12:23:49.944Z"
   },
   {
    "duration": 422,
    "start_time": "2022-01-13T12:23:49.954Z"
   },
   {
    "duration": 600,
    "start_time": "2022-01-13T12:23:50.378Z"
   },
   {
    "duration": 18,
    "start_time": "2022-01-13T12:23:50.980Z"
   },
   {
    "duration": 17,
    "start_time": "2022-01-13T12:23:51.000Z"
   },
   {
    "duration": 4,
    "start_time": "2022-01-13T12:23:51.020Z"
   },
   {
    "duration": 33,
    "start_time": "2022-01-13T12:23:51.026Z"
   },
   {
    "duration": 655,
    "start_time": "2022-01-13T12:23:51.061Z"
   },
   {
    "duration": 5,
    "start_time": "2022-01-13T12:23:51.718Z"
   },
   {
    "duration": 11,
    "start_time": "2022-01-13T12:23:51.725Z"
   },
   {
    "duration": 281,
    "start_time": "2022-01-13T12:23:51.737Z"
   },
   {
    "duration": 9,
    "start_time": "2022-01-13T12:23:52.020Z"
   },
   {
    "duration": 240,
    "start_time": "2022-01-13T12:23:52.033Z"
   },
   {
    "duration": 21,
    "start_time": "2022-01-13T12:23:52.275Z"
   },
   {
    "duration": 274,
    "start_time": "2022-01-13T12:23:52.298Z"
   },
   {
    "duration": 18,
    "start_time": "2022-01-13T12:23:52.574Z"
   },
   {
    "duration": 279,
    "start_time": "2022-01-13T12:23:52.593Z"
   },
   {
    "duration": 22,
    "start_time": "2022-01-13T12:23:52.873Z"
   },
   {
    "duration": 277,
    "start_time": "2022-01-13T12:23:52.897Z"
   },
   {
    "duration": 19,
    "start_time": "2022-01-13T12:23:53.176Z"
   },
   {
    "duration": 272,
    "start_time": "2022-01-13T12:23:53.196Z"
   },
   {
    "duration": 11,
    "start_time": "2022-01-13T12:23:53.469Z"
   },
   {
    "duration": 270,
    "start_time": "2022-01-13T12:23:53.492Z"
   },
   {
    "duration": 9,
    "start_time": "2022-01-13T12:23:53.764Z"
   },
   {
    "duration": 197,
    "start_time": "2022-01-13T12:23:53.774Z"
   },
   {
    "duration": 19,
    "start_time": "2022-01-13T12:23:53.973Z"
   },
   {
    "duration": 298,
    "start_time": "2022-01-13T12:23:53.993Z"
   },
   {
    "duration": 9,
    "start_time": "2022-01-13T12:23:54.293Z"
   },
   {
    "duration": 278,
    "start_time": "2022-01-13T12:23:54.304Z"
   },
   {
    "duration": 167,
    "start_time": "2022-01-13T12:23:54.584Z"
   },
   {
    "duration": 11,
    "start_time": "2022-01-13T12:23:54.754Z"
   },
   {
    "duration": 277,
    "start_time": "2022-01-13T12:23:54.766Z"
   },
   {
    "duration": 255,
    "start_time": "2022-01-13T12:23:55.045Z"
   },
   {
    "duration": 67,
    "start_time": "2022-01-13T12:23:55.303Z"
   },
   {
    "duration": 221,
    "start_time": "2022-01-13T12:23:55.372Z"
   },
   {
    "duration": 279,
    "start_time": "2022-01-13T12:23:55.595Z"
   },
   {
    "duration": 362,
    "start_time": "2022-01-13T12:23:55.876Z"
   },
   {
    "duration": 264,
    "start_time": "2022-01-13T12:23:56.239Z"
   },
   {
    "duration": 24,
    "start_time": "2022-01-13T12:23:56.504Z"
   },
   {
    "duration": 8,
    "start_time": "2022-01-13T12:23:56.530Z"
   },
   {
    "duration": 320,
    "start_time": "2022-01-13T12:23:56.540Z"
   },
   {
    "duration": 7,
    "start_time": "2022-01-13T12:23:56.862Z"
   },
   {
    "duration": 26,
    "start_time": "2022-01-13T12:23:56.871Z"
   },
   {
    "duration": 1114,
    "start_time": "2022-01-13T12:23:56.899Z"
   },
   {
    "duration": 9,
    "start_time": "2022-01-13T12:23:58.015Z"
   },
   {
    "duration": 290,
    "start_time": "2022-01-13T12:23:58.025Z"
   },
   {
    "duration": 8,
    "start_time": "2022-01-13T12:23:58.317Z"
   },
   {
    "duration": 266,
    "start_time": "2022-01-13T12:23:58.327Z"
   },
   {
    "duration": 9,
    "start_time": "2022-01-13T12:23:58.595Z"
   },
   {
    "duration": 287,
    "start_time": "2022-01-13T12:23:58.606Z"
   },
   {
    "duration": 9,
    "start_time": "2022-01-13T12:23:58.895Z"
   },
   {
    "duration": 280,
    "start_time": "2022-01-13T12:23:58.906Z"
   },
   {
    "duration": 12,
    "start_time": "2022-01-13T12:23:59.188Z"
   },
   {
    "duration": 640,
    "start_time": "2022-01-13T12:23:59.202Z"
   },
   {
    "duration": 10,
    "start_time": "2022-01-13T12:23:59.844Z"
   },
   {
    "duration": 561,
    "start_time": "2022-01-13T12:23:59.856Z"
   },
   {
    "duration": 10,
    "start_time": "2022-01-13T12:24:00.419Z"
   },
   {
    "duration": 208,
    "start_time": "2022-01-13T12:24:00.435Z"
   },
   {
    "duration": 9,
    "start_time": "2022-01-13T12:24:00.644Z"
   },
   {
    "duration": 256,
    "start_time": "2022-01-13T12:24:00.655Z"
   },
   {
    "duration": 18,
    "start_time": "2022-01-13T12:24:00.913Z"
   },
   {
    "duration": 434,
    "start_time": "2022-01-13T12:24:00.933Z"
   },
   {
    "duration": 215,
    "start_time": "2022-01-13T12:24:01.369Z"
   },
   {
    "duration": 472,
    "start_time": "2022-01-13T12:24:01.586Z"
   },
   {
    "duration": 276,
    "start_time": "2022-01-13T12:24:02.060Z"
   },
   {
    "duration": 452,
    "start_time": "2022-01-13T12:24:02.338Z"
   },
   {
    "duration": 276,
    "start_time": "2022-01-13T12:24:02.793Z"
   },
   {
    "duration": 604,
    "start_time": "2022-01-13T12:24:03.071Z"
   },
   {
    "duration": 564,
    "start_time": "2022-01-13T12:24:19.259Z"
   },
   {
    "duration": 100,
    "start_time": "2022-01-13T12:24:24.392Z"
   },
   {
    "duration": 10,
    "start_time": "2022-01-13T12:24:24.494Z"
   },
   {
    "duration": 24,
    "start_time": "2022-01-13T12:24:24.506Z"
   },
   {
    "duration": 9,
    "start_time": "2022-01-13T12:24:24.532Z"
   },
   {
    "duration": 58,
    "start_time": "2022-01-13T12:24:24.543Z"
   },
   {
    "duration": 12,
    "start_time": "2022-01-13T12:24:24.603Z"
   },
   {
    "duration": 11312,
    "start_time": "2022-01-13T12:24:24.616Z"
   },
   {
    "duration": 26,
    "start_time": "2022-01-13T12:24:35.931Z"
   },
   {
    "duration": 101,
    "start_time": "2022-01-13T12:24:35.959Z"
   },
   {
    "duration": 7,
    "start_time": "2022-01-13T12:24:36.061Z"
   },
   {
    "duration": 11,
    "start_time": "2022-01-13T12:24:36.069Z"
   },
   {
    "duration": 317,
    "start_time": "2022-01-13T12:24:36.091Z"
   },
   {
    "duration": 584,
    "start_time": "2022-01-13T12:24:36.410Z"
   },
   {
    "duration": 57,
    "start_time": "2022-01-13T12:24:36.996Z"
   },
   {
    "duration": -873,
    "start_time": "2022-01-13T12:24:37.930Z"
   },
   {
    "duration": -877,
    "start_time": "2022-01-13T12:24:37.935Z"
   },
   {
    "duration": -880,
    "start_time": "2022-01-13T12:24:37.939Z"
   },
   {
    "duration": -883,
    "start_time": "2022-01-13T12:24:37.943Z"
   },
   {
    "duration": -887,
    "start_time": "2022-01-13T12:24:37.948Z"
   },
   {
    "duration": -892,
    "start_time": "2022-01-13T12:24:37.954Z"
   },
   {
    "duration": -896,
    "start_time": "2022-01-13T12:24:37.959Z"
   },
   {
    "duration": -900,
    "start_time": "2022-01-13T12:24:37.964Z"
   },
   {
    "duration": -904,
    "start_time": "2022-01-13T12:24:37.969Z"
   },
   {
    "duration": -908,
    "start_time": "2022-01-13T12:24:37.975Z"
   },
   {
    "duration": -911,
    "start_time": "2022-01-13T12:24:37.979Z"
   },
   {
    "duration": -917,
    "start_time": "2022-01-13T12:24:37.985Z"
   },
   {
    "duration": -938,
    "start_time": "2022-01-13T12:24:38.007Z"
   },
   {
    "duration": -942,
    "start_time": "2022-01-13T12:24:38.012Z"
   },
   {
    "duration": -947,
    "start_time": "2022-01-13T12:24:38.018Z"
   },
   {
    "duration": -952,
    "start_time": "2022-01-13T12:24:38.024Z"
   },
   {
    "duration": -957,
    "start_time": "2022-01-13T12:24:38.030Z"
   },
   {
    "duration": -962,
    "start_time": "2022-01-13T12:24:38.036Z"
   },
   {
    "duration": -966,
    "start_time": "2022-01-13T12:24:38.040Z"
   },
   {
    "duration": -971,
    "start_time": "2022-01-13T12:24:38.046Z"
   },
   {
    "duration": -974,
    "start_time": "2022-01-13T12:24:38.050Z"
   },
   {
    "duration": -976,
    "start_time": "2022-01-13T12:24:38.053Z"
   },
   {
    "duration": -978,
    "start_time": "2022-01-13T12:24:38.056Z"
   },
   {
    "duration": -980,
    "start_time": "2022-01-13T12:24:38.059Z"
   },
   {
    "duration": -982,
    "start_time": "2022-01-13T12:24:38.062Z"
   },
   {
    "duration": -984,
    "start_time": "2022-01-13T12:24:38.065Z"
   },
   {
    "duration": -990,
    "start_time": "2022-01-13T12:24:38.071Z"
   },
   {
    "duration": -993,
    "start_time": "2022-01-13T12:24:38.075Z"
   },
   {
    "duration": -994,
    "start_time": "2022-01-13T12:24:38.077Z"
   },
   {
    "duration": -996,
    "start_time": "2022-01-13T12:24:38.080Z"
   },
   {
    "duration": -999,
    "start_time": "2022-01-13T12:24:38.083Z"
   },
   {
    "duration": -1001,
    "start_time": "2022-01-13T12:24:38.086Z"
   },
   {
    "duration": -1003,
    "start_time": "2022-01-13T12:24:38.089Z"
   },
   {
    "duration": -1002,
    "start_time": "2022-01-13T12:24:38.092Z"
   },
   {
    "duration": -1004,
    "start_time": "2022-01-13T12:24:38.095Z"
   },
   {
    "duration": -1166,
    "start_time": "2022-01-13T12:24:38.258Z"
   },
   {
    "duration": -1236,
    "start_time": "2022-01-13T12:24:38.329Z"
   },
   {
    "duration": -1238,
    "start_time": "2022-01-13T12:24:38.332Z"
   },
   {
    "duration": -1240,
    "start_time": "2022-01-13T12:24:38.335Z"
   },
   {
    "duration": -1242,
    "start_time": "2022-01-13T12:24:38.338Z"
   },
   {
    "duration": -1246,
    "start_time": "2022-01-13T12:24:38.343Z"
   },
   {
    "duration": -1248,
    "start_time": "2022-01-13T12:24:38.346Z"
   },
   {
    "duration": -1250,
    "start_time": "2022-01-13T12:24:38.349Z"
   },
   {
    "duration": -1253,
    "start_time": "2022-01-13T12:24:38.353Z"
   },
   {
    "duration": -1255,
    "start_time": "2022-01-13T12:24:38.356Z"
   },
   {
    "duration": -1256,
    "start_time": "2022-01-13T12:24:38.358Z"
   },
   {
    "duration": -1259,
    "start_time": "2022-01-13T12:24:38.361Z"
   },
   {
    "duration": -1260,
    "start_time": "2022-01-13T12:24:38.363Z"
   },
   {
    "duration": -1262,
    "start_time": "2022-01-13T12:24:38.366Z"
   },
   {
    "duration": -1264,
    "start_time": "2022-01-13T12:24:38.369Z"
   },
   {
    "duration": -1266,
    "start_time": "2022-01-13T12:24:38.372Z"
   },
   {
    "duration": -1268,
    "start_time": "2022-01-13T12:24:38.375Z"
   },
   {
    "duration": -1269,
    "start_time": "2022-01-13T12:24:38.378Z"
   },
   {
    "duration": -1270,
    "start_time": "2022-01-13T12:24:38.381Z"
   },
   {
    "duration": -1272,
    "start_time": "2022-01-13T12:24:38.384Z"
   },
   {
    "duration": -1274,
    "start_time": "2022-01-13T12:24:38.387Z"
   },
   {
    "duration": -1275,
    "start_time": "2022-01-13T12:24:38.390Z"
   },
   {
    "duration": -1277,
    "start_time": "2022-01-13T12:24:38.393Z"
   },
   {
    "duration": -1278,
    "start_time": "2022-01-13T12:24:38.396Z"
   },
   {
    "duration": -1281,
    "start_time": "2022-01-13T12:24:38.400Z"
   },
   {
    "duration": -1282,
    "start_time": "2022-01-13T12:24:38.403Z"
   },
   {
    "duration": -1285,
    "start_time": "2022-01-13T12:24:38.408Z"
   },
   {
    "duration": -1289,
    "start_time": "2022-01-13T12:24:38.413Z"
   },
   {
    "duration": -1293,
    "start_time": "2022-01-13T12:24:38.418Z"
   },
   {
    "duration": 111,
    "start_time": "2022-01-13T12:26:03.788Z"
   },
   {
    "duration": 13,
    "start_time": "2022-01-13T12:26:03.901Z"
   },
   {
    "duration": 24,
    "start_time": "2022-01-13T12:26:03.917Z"
   },
   {
    "duration": 52,
    "start_time": "2022-01-13T12:26:03.942Z"
   },
   {
    "duration": 15,
    "start_time": "2022-01-13T12:26:03.995Z"
   },
   {
    "duration": 11,
    "start_time": "2022-01-13T12:26:04.012Z"
   },
   {
    "duration": 10719,
    "start_time": "2022-01-13T12:26:04.025Z"
   },
   {
    "duration": 27,
    "start_time": "2022-01-13T12:26:14.746Z"
   },
   {
    "duration": 102,
    "start_time": "2022-01-13T12:26:14.775Z"
   },
   {
    "duration": 16,
    "start_time": "2022-01-13T12:26:14.880Z"
   },
   {
    "duration": 20,
    "start_time": "2022-01-13T12:26:14.898Z"
   },
   {
    "duration": 328,
    "start_time": "2022-01-13T12:26:14.920Z"
   },
   {
    "duration": 755,
    "start_time": "2022-01-13T12:26:15.250Z"
   },
   {
    "duration": 8,
    "start_time": "2022-01-13T12:26:16.006Z"
   },
   {
    "duration": 18,
    "start_time": "2022-01-13T12:26:16.016Z"
   },
   {
    "duration": 4,
    "start_time": "2022-01-13T12:26:16.036Z"
   },
   {
    "duration": 64,
    "start_time": "2022-01-13T12:26:16.042Z"
   },
   {
    "duration": 568,
    "start_time": "2022-01-13T12:26:16.108Z"
   },
   {
    "duration": 16,
    "start_time": "2022-01-13T12:26:16.678Z"
   },
   {
    "duration": 12,
    "start_time": "2022-01-13T12:26:16.695Z"
   },
   {
    "duration": 276,
    "start_time": "2022-01-13T12:26:16.709Z"
   },
   {
    "duration": 10,
    "start_time": "2022-01-13T12:26:16.991Z"
   },
   {
    "duration": 243,
    "start_time": "2022-01-13T12:26:17.002Z"
   },
   {
    "duration": 10,
    "start_time": "2022-01-13T12:26:17.247Z"
   },
   {
    "duration": 275,
    "start_time": "2022-01-13T12:26:17.259Z"
   },
   {
    "duration": 10,
    "start_time": "2022-01-13T12:26:17.536Z"
   },
   {
    "duration": 275,
    "start_time": "2022-01-13T12:26:17.550Z"
   },
   {
    "duration": 10,
    "start_time": "2022-01-13T12:26:17.827Z"
   },
   {
    "duration": 274,
    "start_time": "2022-01-13T12:26:17.839Z"
   },
   {
    "duration": 11,
    "start_time": "2022-01-13T12:26:18.115Z"
   },
   {
    "duration": 282,
    "start_time": "2022-01-13T12:26:18.128Z"
   },
   {
    "duration": 9,
    "start_time": "2022-01-13T12:26:18.412Z"
   },
   {
    "duration": 294,
    "start_time": "2022-01-13T12:26:18.423Z"
   },
   {
    "duration": 10,
    "start_time": "2022-01-13T12:26:18.719Z"
   },
   {
    "duration": 244,
    "start_time": "2022-01-13T12:26:18.730Z"
   },
   {
    "duration": 19,
    "start_time": "2022-01-13T12:26:18.976Z"
   },
   {
    "duration": 244,
    "start_time": "2022-01-13T12:26:18.997Z"
   },
   {
    "duration": 14,
    "start_time": "2022-01-13T12:26:19.243Z"
   },
   {
    "duration": 383,
    "start_time": "2022-01-13T12:26:19.259Z"
   },
   {
    "duration": 201,
    "start_time": "2022-01-13T12:26:19.644Z"
   },
   {
    "duration": 9,
    "start_time": "2022-01-13T12:26:19.847Z"
   },
   {
    "duration": 562,
    "start_time": "2022-01-13T12:26:19.858Z"
   },
   {
    "duration": 296,
    "start_time": "2022-01-13T12:26:20.422Z"
   },
   {
    "duration": 92,
    "start_time": "2022-01-13T12:26:20.720Z"
   },
   {
    "duration": 223,
    "start_time": "2022-01-13T12:26:20.813Z"
   },
   {
    "duration": 300,
    "start_time": "2022-01-13T12:26:21.037Z"
   },
   {
    "duration": 400,
    "start_time": "2022-01-13T12:26:21.339Z"
   },
   {
    "duration": 273,
    "start_time": "2022-01-13T12:26:21.740Z"
   },
   {
    "duration": 26,
    "start_time": "2022-01-13T12:26:22.016Z"
   },
   {
    "duration": 12,
    "start_time": "2022-01-13T12:26:22.044Z"
   },
   {
    "duration": 316,
    "start_time": "2022-01-13T12:26:22.057Z"
   },
   {
    "duration": 7,
    "start_time": "2022-01-13T12:26:22.375Z"
   },
   {
    "duration": 9,
    "start_time": "2022-01-13T12:26:22.392Z"
   },
   {
    "duration": 1097,
    "start_time": "2022-01-13T12:26:22.403Z"
   },
   {
    "duration": 8,
    "start_time": "2022-01-13T12:26:23.501Z"
   },
   {
    "duration": 473,
    "start_time": "2022-01-13T12:26:23.511Z"
   },
   {
    "duration": 8,
    "start_time": "2022-01-13T12:26:23.991Z"
   },
   {
    "duration": 262,
    "start_time": "2022-01-13T12:26:24.001Z"
   },
   {
    "duration": 8,
    "start_time": "2022-01-13T12:26:24.265Z"
   },
   {
    "duration": 285,
    "start_time": "2022-01-13T12:26:24.275Z"
   },
   {
    "duration": 8,
    "start_time": "2022-01-13T12:26:24.562Z"
   },
   {
    "duration": 269,
    "start_time": "2022-01-13T12:26:24.572Z"
   },
   {
    "duration": 8,
    "start_time": "2022-01-13T12:26:24.843Z"
   },
   {
    "duration": 527,
    "start_time": "2022-01-13T12:26:24.853Z"
   },
   {
    "duration": 16,
    "start_time": "2022-01-13T12:26:25.382Z"
   },
   {
    "duration": 551,
    "start_time": "2022-01-13T12:26:25.400Z"
   },
   {
    "duration": 9,
    "start_time": "2022-01-13T12:26:25.953Z"
   },
   {
    "duration": 198,
    "start_time": "2022-01-13T12:26:25.963Z"
   },
   {
    "duration": 8,
    "start_time": "2022-01-13T12:26:26.163Z"
   },
   {
    "duration": 283,
    "start_time": "2022-01-13T12:26:26.173Z"
   },
   {
    "duration": 21,
    "start_time": "2022-01-13T12:26:26.457Z"
   },
   {
    "duration": 430,
    "start_time": "2022-01-13T12:26:26.491Z"
   },
   {
    "duration": 206,
    "start_time": "2022-01-13T12:26:26.922Z"
   },
   {
    "duration": 329,
    "start_time": "2022-01-13T12:26:27.130Z"
   },
   {
    "duration": 275,
    "start_time": "2022-01-13T12:26:27.460Z"
   },
   {
    "duration": 609,
    "start_time": "2022-01-13T12:26:27.736Z"
   },
   {
    "duration": 253,
    "start_time": "2022-01-13T12:26:28.346Z"
   },
   {
    "duration": 507,
    "start_time": "2022-01-13T12:45:42.975Z"
   },
   {
    "duration": 491,
    "start_time": "2022-01-13T12:45:50.838Z"
   },
   {
    "duration": 117,
    "start_time": "2022-01-13T23:41:47.816Z"
   },
   {
    "duration": 635,
    "start_time": "2022-01-13T23:43:52.051Z"
   },
   {
    "duration": 66,
    "start_time": "2022-01-13T23:43:57.121Z"
   },
   {
    "duration": 85,
    "start_time": "2022-01-13T23:44:06.646Z"
   },
   {
    "duration": 79,
    "start_time": "2022-01-13T23:44:37.903Z"
   },
   {
    "duration": 78,
    "start_time": "2022-01-13T23:44:54.433Z"
   },
   {
    "duration": 6,
    "start_time": "2022-01-14T00:46:23.177Z"
   },
   {
    "duration": 406,
    "start_time": "2022-01-14T00:46:48.726Z"
   },
   {
    "duration": 10,
    "start_time": "2022-01-14T00:46:58.284Z"
   },
   {
    "duration": 12,
    "start_time": "2022-01-14T00:47:11.127Z"
   },
   {
    "duration": 11,
    "start_time": "2022-01-14T00:49:03.518Z"
   },
   {
    "duration": 11,
    "start_time": "2022-01-14T00:49:12.084Z"
   },
   {
    "duration": 11,
    "start_time": "2022-01-14T00:49:26.547Z"
   },
   {
    "duration": 12,
    "start_time": "2022-01-14T00:50:26.288Z"
   },
   {
    "duration": 12,
    "start_time": "2022-01-14T00:52:10.519Z"
   },
   {
    "duration": 31,
    "start_time": "2022-01-14T00:52:28.221Z"
   },
   {
    "duration": 8,
    "start_time": "2022-01-14T00:52:34.382Z"
   },
   {
    "duration": 6,
    "start_time": "2022-01-14T00:52:49.372Z"
   },
   {
    "duration": 119,
    "start_time": "2022-01-14T00:53:01.366Z"
   },
   {
    "duration": 105,
    "start_time": "2022-01-14T00:53:06.684Z"
   },
   {
    "duration": 8,
    "start_time": "2022-01-14T00:53:17.630Z"
   },
   {
    "duration": 8,
    "start_time": "2022-01-14T00:53:34.886Z"
   },
   {
    "duration": 8,
    "start_time": "2022-01-14T00:53:47.741Z"
   },
   {
    "duration": 11,
    "start_time": "2022-01-14T00:54:07.005Z"
   },
   {
    "duration": 10,
    "start_time": "2022-01-14T00:54:22.196Z"
   },
   {
    "duration": 78,
    "start_time": "2022-01-14T00:54:29.759Z"
   },
   {
    "duration": 9,
    "start_time": "2022-01-14T00:54:29.839Z"
   },
   {
    "duration": 23,
    "start_time": "2022-01-14T00:54:29.850Z"
   },
   {
    "duration": 10,
    "start_time": "2022-01-14T00:54:29.874Z"
   },
   {
    "duration": 10,
    "start_time": "2022-01-14T00:54:33.051Z"
   },
   {
    "duration": 12,
    "start_time": "2022-01-14T00:54:43.229Z"
   },
   {
    "duration": 11,
    "start_time": "2022-01-14T00:55:01.508Z"
   },
   {
    "duration": 11,
    "start_time": "2022-01-14T00:58:59.444Z"
   },
   {
    "duration": 11,
    "start_time": "2022-01-14T00:59:11.350Z"
   },
   {
    "duration": 83,
    "start_time": "2022-01-14T02:02:47.026Z"
   },
   {
    "duration": 10,
    "start_time": "2022-01-14T02:02:47.111Z"
   },
   {
    "duration": 23,
    "start_time": "2022-01-14T02:02:47.123Z"
   },
   {
    "duration": 8,
    "start_time": "2022-01-14T02:02:47.147Z"
   },
   {
    "duration": 12,
    "start_time": "2022-01-14T02:02:57.368Z"
   },
   {
    "duration": 8,
    "start_time": "2022-01-14T02:02:59.248Z"
   },
   {
    "duration": 6,
    "start_time": "2022-01-14T02:11:50.280Z"
   },
   {
    "duration": 80,
    "start_time": "2022-01-14T02:33:37.763Z"
   },
   {
    "duration": 9,
    "start_time": "2022-01-14T02:33:37.845Z"
   },
   {
    "duration": 22,
    "start_time": "2022-01-14T02:33:37.856Z"
   },
   {
    "duration": 7,
    "start_time": "2022-01-14T02:33:37.880Z"
   },
   {
    "duration": 9,
    "start_time": "2022-01-14T02:33:37.889Z"
   },
   {
    "duration": 7,
    "start_time": "2022-01-14T02:33:37.928Z"
   },
   {
    "duration": 4,
    "start_time": "2022-01-14T02:34:34.434Z"
   },
   {
    "duration": 346,
    "start_time": "2022-01-14T02:34:44.708Z"
   },
   {
    "duration": 4,
    "start_time": "2022-01-14T02:35:42.641Z"
   },
   {
    "duration": 2034,
    "start_time": "2022-01-14T02:35:43.377Z"
   },
   {
    "duration": 82,
    "start_time": "2022-01-14T02:35:52.184Z"
   },
   {
    "duration": 9,
    "start_time": "2022-01-14T02:35:52.268Z"
   },
   {
    "duration": 21,
    "start_time": "2022-01-14T02:35:52.279Z"
   },
   {
    "duration": 7,
    "start_time": "2022-01-14T02:35:52.302Z"
   },
   {
    "duration": 9,
    "start_time": "2022-01-14T02:35:52.327Z"
   },
   {
    "duration": 7,
    "start_time": "2022-01-14T02:35:52.338Z"
   },
   {
    "duration": 4,
    "start_time": "2022-01-14T02:35:52.528Z"
   },
   {
    "duration": 4,
    "start_time": "2022-01-14T02:35:55.563Z"
   },
   {
    "duration": 1099,
    "start_time": "2022-01-14T02:35:56.330Z"
   },
   {
    "duration": 2,
    "start_time": "2022-01-14T02:37:22.803Z"
   },
   {
    "duration": 375,
    "start_time": "2022-01-14T02:38:15.322Z"
   },
   {
    "duration": 2,
    "start_time": "2022-01-14T02:38:31.491Z"
   },
   {
    "duration": 78,
    "start_time": "2022-01-14T02:49:02.779Z"
   },
   {
    "duration": 9,
    "start_time": "2022-01-14T02:49:02.858Z"
   },
   {
    "duration": 21,
    "start_time": "2022-01-14T02:49:02.869Z"
   },
   {
    "duration": 7,
    "start_time": "2022-01-14T02:49:02.892Z"
   },
   {
    "duration": 29,
    "start_time": "2022-01-14T02:49:02.901Z"
   },
   {
    "duration": 9,
    "start_time": "2022-01-14T02:49:02.931Z"
   },
   {
    "duration": 2,
    "start_time": "2022-01-14T02:49:02.942Z"
   },
   {
    "duration": 121,
    "start_time": "2022-01-14T02:49:02.946Z"
   },
   {
    "duration": -331,
    "start_time": "2022-01-14T02:49:03.399Z"
   },
   {
    "duration": 7,
    "start_time": "2022-01-14T02:49:16.126Z"
   },
   {
    "duration": 338,
    "start_time": "2022-01-14T02:49:17.789Z"
   },
   {
    "duration": 523,
    "start_time": "2022-01-14T04:09:01.261Z"
   },
   {
    "duration": 547,
    "start_time": "2022-01-14T04:09:26.404Z"
   },
   {
    "duration": 506,
    "start_time": "2022-01-14T04:09:46.350Z"
   },
   {
    "duration": 834,
    "start_time": "2022-01-14T13:06:56.542Z"
   },
   {
    "duration": 11,
    "start_time": "2022-01-14T13:06:57.378Z"
   },
   {
    "duration": 29,
    "start_time": "2022-01-14T13:06:57.391Z"
   },
   {
    "duration": 25,
    "start_time": "2022-01-14T13:06:57.422Z"
   },
   {
    "duration": 13,
    "start_time": "2022-01-14T13:06:57.449Z"
   },
   {
    "duration": 10,
    "start_time": "2022-01-14T13:06:57.464Z"
   },
   {
    "duration": 3,
    "start_time": "2022-01-14T13:06:57.476Z"
   },
   {
    "duration": 94,
    "start_time": "2022-01-14T13:06:57.481Z"
   },
   {
    "duration": -55,
    "start_time": "2022-01-14T13:06:57.632Z"
   },
   {
    "duration": -65,
    "start_time": "2022-01-14T13:06:57.643Z"
   },
   {
    "duration": -74,
    "start_time": "2022-01-14T13:06:57.653Z"
   },
   {
    "duration": 76,
    "start_time": "2022-01-14T13:29:18.870Z"
   },
   {
    "duration": 9,
    "start_time": "2022-01-14T13:29:18.947Z"
   },
   {
    "duration": 21,
    "start_time": "2022-01-14T13:29:18.958Z"
   },
   {
    "duration": 8,
    "start_time": "2022-01-14T13:29:18.981Z"
   },
   {
    "duration": 10,
    "start_time": "2022-01-14T13:29:18.990Z"
   },
   {
    "duration": 8,
    "start_time": "2022-01-14T13:29:19.001Z"
   },
   {
    "duration": 3,
    "start_time": "2022-01-14T13:29:19.041Z"
   },
   {
    "duration": 98,
    "start_time": "2022-01-14T13:29:19.046Z"
   },
   {
    "duration": -502,
    "start_time": "2022-01-14T13:29:19.648Z"
   },
   {
    "duration": -544,
    "start_time": "2022-01-14T13:29:19.690Z"
   },
   {
    "duration": 900,
    "start_time": "2022-01-15T01:21:59.203Z"
   },
   {
    "duration": 20,
    "start_time": "2022-01-15T01:22:00.106Z"
   },
   {
    "duration": 38,
    "start_time": "2022-01-15T01:22:00.129Z"
   },
   {
    "duration": 11,
    "start_time": "2022-01-15T01:22:00.170Z"
   },
   {
    "duration": 45,
    "start_time": "2022-01-15T01:22:00.183Z"
   },
   {
    "duration": 15,
    "start_time": "2022-01-15T01:22:00.230Z"
   },
   {
    "duration": 5,
    "start_time": "2022-01-15T01:22:00.247Z"
   },
   {
    "duration": 350,
    "start_time": "2022-01-15T01:22:00.255Z"
   },
   {
    "duration": -2080,
    "start_time": "2022-01-15T01:22:02.687Z"
   },
   {
    "duration": -2090,
    "start_time": "2022-01-15T01:22:02.699Z"
   },
   {
    "duration": -2099,
    "start_time": "2022-01-15T01:22:02.709Z"
   },
   {
    "duration": 12,
    "start_time": "2022-01-15T01:22:09.221Z"
   },
   {
    "duration": 110,
    "start_time": "2022-01-15T01:23:49.551Z"
   },
   {
    "duration": 14,
    "start_time": "2022-01-15T01:23:49.663Z"
   },
   {
    "duration": 65,
    "start_time": "2022-01-15T01:23:49.680Z"
   },
   {
    "duration": 12,
    "start_time": "2022-01-15T01:23:49.749Z"
   },
   {
    "duration": 17,
    "start_time": "2022-01-15T01:23:49.763Z"
   },
   {
    "duration": 13,
    "start_time": "2022-01-15T01:23:49.818Z"
   },
   {
    "duration": 3,
    "start_time": "2022-01-15T01:23:49.833Z"
   },
   {
    "duration": 115,
    "start_time": "2022-01-15T01:23:49.840Z"
   },
   {
    "duration": -934,
    "start_time": "2022-01-15T01:23:50.893Z"
   },
   {
    "duration": -945,
    "start_time": "2022-01-15T01:23:50.906Z"
   },
   {
    "duration": -953,
    "start_time": "2022-01-15T01:23:50.915Z"
   },
   {
    "duration": -958,
    "start_time": "2022-01-15T01:23:50.922Z"
   },
   {
    "duration": -966,
    "start_time": "2022-01-15T01:23:50.931Z"
   },
   {
    "duration": -974,
    "start_time": "2022-01-15T01:23:50.941Z"
   },
   {
    "duration": -982,
    "start_time": "2022-01-15T01:23:50.950Z"
   },
   {
    "duration": -988,
    "start_time": "2022-01-15T01:23:50.958Z"
   },
   {
    "duration": -995,
    "start_time": "2022-01-15T01:23:50.966Z"
   },
   {
    "duration": -1002,
    "start_time": "2022-01-15T01:23:50.975Z"
   },
   {
    "duration": -1009,
    "start_time": "2022-01-15T01:23:50.983Z"
   },
   {
    "duration": -1028,
    "start_time": "2022-01-15T01:23:51.003Z"
   },
   {
    "duration": -1037,
    "start_time": "2022-01-15T01:23:51.014Z"
   },
   {
    "duration": -1047,
    "start_time": "2022-01-15T01:23:51.025Z"
   },
   {
    "duration": -1055,
    "start_time": "2022-01-15T01:23:51.034Z"
   },
   {
    "duration": -1064,
    "start_time": "2022-01-15T01:23:51.045Z"
   },
   {
    "duration": -1072,
    "start_time": "2022-01-15T01:23:51.054Z"
   },
   {
    "duration": -1079,
    "start_time": "2022-01-15T01:23:51.062Z"
   },
   {
    "duration": -1088,
    "start_time": "2022-01-15T01:23:51.072Z"
   },
   {
    "duration": -1094,
    "start_time": "2022-01-15T01:23:51.080Z"
   },
   {
    "duration": -1101,
    "start_time": "2022-01-15T01:23:51.088Z"
   },
   {
    "duration": -1108,
    "start_time": "2022-01-15T01:23:51.096Z"
   },
   {
    "duration": -1123,
    "start_time": "2022-01-15T01:23:51.112Z"
   },
   {
    "duration": -1128,
    "start_time": "2022-01-15T01:23:51.119Z"
   },
   {
    "duration": -1135,
    "start_time": "2022-01-15T01:23:51.127Z"
   },
   {
    "duration": -1141,
    "start_time": "2022-01-15T01:23:51.134Z"
   },
   {
    "duration": -1151,
    "start_time": "2022-01-15T01:23:51.145Z"
   },
   {
    "duration": -1158,
    "start_time": "2022-01-15T01:23:51.153Z"
   },
   {
    "duration": -1165,
    "start_time": "2022-01-15T01:23:51.161Z"
   },
   {
    "duration": -1152,
    "start_time": "2022-01-15T01:23:51.169Z"
   },
   {
    "duration": -1159,
    "start_time": "2022-01-15T01:23:51.177Z"
   },
   {
    "duration": -1165,
    "start_time": "2022-01-15T01:23:51.184Z"
   },
   {
    "duration": -1171,
    "start_time": "2022-01-15T01:23:51.192Z"
   },
   {
    "duration": -1177,
    "start_time": "2022-01-15T01:23:51.199Z"
   },
   {
    "duration": -1183,
    "start_time": "2022-01-15T01:23:51.206Z"
   },
   {
    "duration": -1199,
    "start_time": "2022-01-15T01:23:51.223Z"
   },
   {
    "duration": -1206,
    "start_time": "2022-01-15T01:23:51.231Z"
   },
   {
    "duration": -1213,
    "start_time": "2022-01-15T01:23:51.239Z"
   },
   {
    "duration": -1218,
    "start_time": "2022-01-15T01:23:51.246Z"
   },
   {
    "duration": -1224,
    "start_time": "2022-01-15T01:23:51.253Z"
   },
   {
    "duration": -1230,
    "start_time": "2022-01-15T01:23:51.260Z"
   },
   {
    "duration": -1237,
    "start_time": "2022-01-15T01:23:51.268Z"
   },
   {
    "duration": -1241,
    "start_time": "2022-01-15T01:23:51.274Z"
   },
   {
    "duration": -1247,
    "start_time": "2022-01-15T01:23:51.281Z"
   },
   {
    "duration": -1253,
    "start_time": "2022-01-15T01:23:51.288Z"
   },
   {
    "duration": -1259,
    "start_time": "2022-01-15T01:23:51.296Z"
   },
   {
    "duration": -1266,
    "start_time": "2022-01-15T01:23:51.304Z"
   },
   {
    "duration": -1271,
    "start_time": "2022-01-15T01:23:51.311Z"
   },
   {
    "duration": 374,
    "start_time": "2022-01-15T01:23:50.045Z"
   },
   {
    "duration": -1242,
    "start_time": "2022-01-15T01:23:51.664Z"
   },
   {
    "duration": -1296,
    "start_time": "2022-01-15T01:23:51.719Z"
   },
   {
    "duration": -1303,
    "start_time": "2022-01-15T01:23:51.728Z"
   },
   {
    "duration": -1311,
    "start_time": "2022-01-15T01:23:51.737Z"
   },
   {
    "duration": -1318,
    "start_time": "2022-01-15T01:23:51.745Z"
   },
   {
    "duration": -1324,
    "start_time": "2022-01-15T01:23:51.753Z"
   },
   {
    "duration": -1330,
    "start_time": "2022-01-15T01:23:51.760Z"
   },
   {
    "duration": -1337,
    "start_time": "2022-01-15T01:23:51.768Z"
   },
   {
    "duration": -1344,
    "start_time": "2022-01-15T01:23:51.777Z"
   },
   {
    "duration": -1371,
    "start_time": "2022-01-15T01:23:51.805Z"
   },
   {
    "duration": -1378,
    "start_time": "2022-01-15T01:23:51.813Z"
   },
   {
    "duration": -1395,
    "start_time": "2022-01-15T01:23:51.831Z"
   },
   {
    "duration": -1401,
    "start_time": "2022-01-15T01:23:51.839Z"
   },
   {
    "duration": -1421,
    "start_time": "2022-01-15T01:23:51.860Z"
   },
   {
    "duration": -1426,
    "start_time": "2022-01-15T01:23:51.867Z"
   },
   {
    "duration": -1433,
    "start_time": "2022-01-15T01:23:51.875Z"
   },
   {
    "duration": -1439,
    "start_time": "2022-01-15T01:23:51.882Z"
   },
   {
    "duration": -1445,
    "start_time": "2022-01-15T01:23:51.890Z"
   },
   {
    "duration": -1451,
    "start_time": "2022-01-15T01:23:51.897Z"
   },
   {
    "duration": 273,
    "start_time": "2022-01-15T01:25:52.622Z"
   },
   {
    "duration": 4,
    "start_time": "2022-01-15T01:26:21.077Z"
   },
   {
    "duration": 334,
    "start_time": "2022-01-15T15:12:09.558Z"
   },
   {
    "duration": 2853,
    "start_time": "2022-01-15T15:12:12.449Z"
   },
   {
    "duration": -7615,
    "start_time": "2022-01-15T15:12:22.924Z"
   },
   {
    "duration": -7619,
    "start_time": "2022-01-15T15:12:22.929Z"
   },
   {
    "duration": -7623,
    "start_time": "2022-01-15T15:12:22.935Z"
   },
   {
    "duration": -7626,
    "start_time": "2022-01-15T15:12:22.940Z"
   },
   {
    "duration": -7630,
    "start_time": "2022-01-15T15:12:22.945Z"
   },
   {
    "duration": -7633,
    "start_time": "2022-01-15T15:12:22.950Z"
   },
   {
    "duration": -7638,
    "start_time": "2022-01-15T15:12:22.956Z"
   },
   {
    "duration": -7641,
    "start_time": "2022-01-15T15:12:22.961Z"
   },
   {
    "duration": -7645,
    "start_time": "2022-01-15T15:12:22.966Z"
   },
   {
    "duration": -7647,
    "start_time": "2022-01-15T15:12:22.970Z"
   },
   {
    "duration": -7651,
    "start_time": "2022-01-15T15:12:22.975Z"
   },
   {
    "duration": -7654,
    "start_time": "2022-01-15T15:12:22.980Z"
   },
   {
    "duration": -7658,
    "start_time": "2022-01-15T15:12:22.985Z"
   },
   {
    "duration": -7661,
    "start_time": "2022-01-15T15:12:22.990Z"
   },
   {
    "duration": -7666,
    "start_time": "2022-01-15T15:12:22.996Z"
   },
   {
    "duration": -7669,
    "start_time": "2022-01-15T15:12:23.001Z"
   },
   {
    "duration": -7673,
    "start_time": "2022-01-15T15:12:23.007Z"
   },
   {
    "duration": -7683,
    "start_time": "2022-01-15T15:12:23.018Z"
   },
   {
    "duration": -7686,
    "start_time": "2022-01-15T15:12:23.023Z"
   },
   {
    "duration": -7690,
    "start_time": "2022-01-15T15:12:23.028Z"
   },
   {
    "duration": -7692,
    "start_time": "2022-01-15T15:12:23.032Z"
   },
   {
    "duration": -7695,
    "start_time": "2022-01-15T15:12:23.036Z"
   },
   {
    "duration": -7698,
    "start_time": "2022-01-15T15:12:23.041Z"
   },
   {
    "duration": -7702,
    "start_time": "2022-01-15T15:12:23.046Z"
   },
   {
    "duration": -7689,
    "start_time": "2022-01-15T15:12:23.050Z"
   },
   {
    "duration": -7692,
    "start_time": "2022-01-15T15:12:23.055Z"
   },
   {
    "duration": -7696,
    "start_time": "2022-01-15T15:12:23.060Z"
   },
   {
    "duration": -7699,
    "start_time": "2022-01-15T15:12:23.065Z"
   },
   {
    "duration": -7702,
    "start_time": "2022-01-15T15:12:23.070Z"
   },
   {
    "duration": -7706,
    "start_time": "2022-01-15T15:12:23.075Z"
   },
   {
    "duration": -7709,
    "start_time": "2022-01-15T15:12:23.080Z"
   },
   {
    "duration": -7712,
    "start_time": "2022-01-15T15:12:23.084Z"
   },
   {
    "duration": -7716,
    "start_time": "2022-01-15T15:12:23.089Z"
   },
   {
    "duration": -7719,
    "start_time": "2022-01-15T15:12:23.094Z"
   },
   {
    "duration": -7721,
    "start_time": "2022-01-15T15:12:23.098Z"
   },
   {
    "duration": -7724,
    "start_time": "2022-01-15T15:12:23.102Z"
   },
   {
    "duration": -7727,
    "start_time": "2022-01-15T15:12:23.107Z"
   },
   {
    "duration": -7730,
    "start_time": "2022-01-15T15:12:23.111Z"
   },
   {
    "duration": -7733,
    "start_time": "2022-01-15T15:12:23.116Z"
   },
   {
    "duration": -7743,
    "start_time": "2022-01-15T15:12:23.127Z"
   },
   {
    "duration": -7747,
    "start_time": "2022-01-15T15:12:23.132Z"
   },
   {
    "duration": -7750,
    "start_time": "2022-01-15T15:12:23.137Z"
   },
   {
    "duration": -7754,
    "start_time": "2022-01-15T15:12:23.142Z"
   },
   {
    "duration": -7758,
    "start_time": "2022-01-15T15:12:23.147Z"
   },
   {
    "duration": -7760,
    "start_time": "2022-01-15T15:12:23.151Z"
   },
   {
    "duration": -7763,
    "start_time": "2022-01-15T15:12:23.155Z"
   },
   {
    "duration": -7768,
    "start_time": "2022-01-15T15:12:23.161Z"
   },
   {
    "duration": -7809,
    "start_time": "2022-01-15T15:12:23.204Z"
   },
   {
    "duration": -7932,
    "start_time": "2022-01-15T15:12:23.328Z"
   },
   {
    "duration": -8040,
    "start_time": "2022-01-15T15:12:23.437Z"
   },
   {
    "duration": -8042,
    "start_time": "2022-01-15T15:12:23.441Z"
   },
   {
    "duration": -7986,
    "start_time": "2022-01-15T15:12:23.445Z"
   },
   {
    "duration": -7989,
    "start_time": "2022-01-15T15:12:23.449Z"
   },
   {
    "duration": -7990,
    "start_time": "2022-01-15T15:12:23.452Z"
   },
   {
    "duration": -8113,
    "start_time": "2022-01-15T15:12:23.576Z"
   },
   {
    "duration": -8206,
    "start_time": "2022-01-15T15:12:23.670Z"
   },
   {
    "duration": -8208,
    "start_time": "2022-01-15T15:12:23.674Z"
   },
   {
    "duration": -8211,
    "start_time": "2022-01-15T15:12:23.678Z"
   },
   {
    "duration": -8214,
    "start_time": "2022-01-15T15:12:23.682Z"
   },
   {
    "duration": -8274,
    "start_time": "2022-01-15T15:12:23.744Z"
   },
   {
    "duration": -8277,
    "start_time": "2022-01-15T15:12:23.748Z"
   },
   {
    "duration": -8281,
    "start_time": "2022-01-15T15:12:23.753Z"
   },
   {
    "duration": -8283,
    "start_time": "2022-01-15T15:12:23.757Z"
   },
   {
    "duration": -8285,
    "start_time": "2022-01-15T15:12:23.761Z"
   },
   {
    "duration": -8312,
    "start_time": "2022-01-15T15:12:23.790Z"
   },
   {
    "duration": -8356,
    "start_time": "2022-01-15T15:12:23.835Z"
   },
   {
    "duration": -8386,
    "start_time": "2022-01-15T15:12:23.866Z"
   },
   {
    "duration": -8387,
    "start_time": "2022-01-15T15:12:23.869Z"
   },
   {
    "duration": -8390,
    "start_time": "2022-01-15T15:12:23.873Z"
   },
   {
    "duration": -8431,
    "start_time": "2022-01-15T15:12:23.915Z"
   },
   {
    "duration": -8433,
    "start_time": "2022-01-15T15:12:23.919Z"
   },
   {
    "duration": -8469,
    "start_time": "2022-01-15T15:12:23.957Z"
   },
   {
    "duration": -8472,
    "start_time": "2022-01-15T15:12:23.961Z"
   },
   {
    "duration": -8479,
    "start_time": "2022-01-15T15:12:23.970Z"
   },
   {
    "duration": -8483,
    "start_time": "2022-01-15T15:12:23.975Z"
   },
   {
    "duration": -8485,
    "start_time": "2022-01-15T15:12:23.978Z"
   },
   {
    "duration": -8487,
    "start_time": "2022-01-15T15:12:23.982Z"
   },
   {
    "duration": -8489,
    "start_time": "2022-01-15T15:12:23.985Z"
   },
   {
    "duration": -8566,
    "start_time": "2022-01-15T15:12:24.063Z"
   },
   {
    "duration": -8656,
    "start_time": "2022-01-15T15:12:24.154Z"
   },
   {
    "duration": -8598,
    "start_time": "2022-01-15T15:12:24.158Z"
   },
   {
    "duration": -8600,
    "start_time": "2022-01-15T15:12:24.161Z"
   },
   {
    "duration": -8603,
    "start_time": "2022-01-15T15:12:24.165Z"
   },
   {
    "duration": -8604,
    "start_time": "2022-01-15T15:12:24.168Z"
   },
   {
    "duration": -8607,
    "start_time": "2022-01-15T15:12:24.172Z"
   },
   {
    "duration": -8608,
    "start_time": "2022-01-15T15:12:24.175Z"
   },
   {
    "duration": -8612,
    "start_time": "2022-01-15T15:12:24.180Z"
   },
   {
    "duration": -8620,
    "start_time": "2022-01-15T15:12:24.190Z"
   },
   {
    "duration": -8623,
    "start_time": "2022-01-15T15:12:24.195Z"
   },
   {
    "duration": -8625,
    "start_time": "2022-01-15T15:12:24.198Z"
   },
   {
    "duration": -8627,
    "start_time": "2022-01-15T15:12:24.202Z"
   },
   {
    "duration": -8630,
    "start_time": "2022-01-15T15:12:24.206Z"
   },
   {
    "duration": -8642,
    "start_time": "2022-01-15T15:12:24.219Z"
   },
   {
    "duration": -8652,
    "start_time": "2022-01-15T15:12:24.230Z"
   },
   {
    "duration": 290,
    "start_time": "2022-01-15T15:13:30.691Z"
   },
   {
    "duration": 269,
    "start_time": "2022-01-15T15:13:34.310Z"
   },
   {
    "duration": 15,
    "start_time": "2022-01-15T15:13:34.581Z"
   },
   {
    "duration": 74,
    "start_time": "2022-01-15T15:13:34.599Z"
   },
   {
    "duration": 12,
    "start_time": "2022-01-15T15:13:34.675Z"
   },
   {
    "duration": 17,
    "start_time": "2022-01-15T15:13:34.689Z"
   },
   {
    "duration": 9,
    "start_time": "2022-01-15T15:13:34.708Z"
   },
   {
    "duration": 49,
    "start_time": "2022-01-15T15:13:34.719Z"
   },
   {
    "duration": 3,
    "start_time": "2022-01-15T15:13:34.771Z"
   },
   {
    "duration": 176,
    "start_time": "2022-01-15T15:13:34.777Z"
   },
   {
    "duration": 11,
    "start_time": "2022-01-15T15:13:34.956Z"
   },
   {
    "duration": 1075,
    "start_time": "2022-01-15T15:13:34.970Z"
   },
   {
    "duration": 28,
    "start_time": "2022-01-15T15:13:36.047Z"
   },
   {
    "duration": 10,
    "start_time": "2022-01-15T15:13:36.078Z"
   },
   {
    "duration": 93,
    "start_time": "2022-01-15T15:13:36.091Z"
   },
   {
    "duration": 1370,
    "start_time": "2022-01-15T15:13:36.186Z"
   },
   {
    "duration": 6,
    "start_time": "2022-01-15T15:13:37.560Z"
   },
   {
    "duration": 17,
    "start_time": "2022-01-15T15:13:37.568Z"
   },
   {
    "duration": 424,
    "start_time": "2022-01-15T15:13:37.587Z"
   },
   {
    "duration": 13,
    "start_time": "2022-01-15T15:13:38.014Z"
   },
   {
    "duration": 388,
    "start_time": "2022-01-15T15:13:38.030Z"
   },
   {
    "duration": 14,
    "start_time": "2022-01-15T15:13:38.420Z"
   },
   {
    "duration": 426,
    "start_time": "2022-01-15T15:13:38.436Z"
   },
   {
    "duration": 12,
    "start_time": "2022-01-15T15:13:38.868Z"
   },
   {
    "duration": 433,
    "start_time": "2022-01-15T15:13:38.885Z"
   },
   {
    "duration": 15,
    "start_time": "2022-01-15T15:13:39.321Z"
   },
   {
    "duration": 436,
    "start_time": "2022-01-15T15:13:39.339Z"
   },
   {
    "duration": 15,
    "start_time": "2022-01-15T15:13:39.778Z"
   },
   {
    "duration": 430,
    "start_time": "2022-01-15T15:13:39.795Z"
   },
   {
    "duration": 13,
    "start_time": "2022-01-15T15:13:40.227Z"
   },
   {
    "duration": 416,
    "start_time": "2022-01-15T15:13:40.259Z"
   },
   {
    "duration": 12,
    "start_time": "2022-01-15T15:13:40.677Z"
   },
   {
    "duration": 528,
    "start_time": "2022-01-15T15:13:40.691Z"
   },
   {
    "duration": -7521,
    "start_time": "2022-01-15T15:13:48.743Z"
   },
   {
    "duration": -7524,
    "start_time": "2022-01-15T15:13:48.748Z"
   },
   {
    "duration": -7526,
    "start_time": "2022-01-15T15:13:48.751Z"
   },
   {
    "duration": -7534,
    "start_time": "2022-01-15T15:13:48.761Z"
   },
   {
    "duration": -7538,
    "start_time": "2022-01-15T15:13:48.766Z"
   },
   {
    "duration": -7544,
    "start_time": "2022-01-15T15:13:48.774Z"
   },
   {
    "duration": -7547,
    "start_time": "2022-01-15T15:13:48.778Z"
   },
   {
    "duration": -7550,
    "start_time": "2022-01-15T15:13:48.783Z"
   },
   {
    "duration": -7552,
    "start_time": "2022-01-15T15:13:48.787Z"
   },
   {
    "duration": -7554,
    "start_time": "2022-01-15T15:13:48.791Z"
   },
   {
    "duration": -7536,
    "start_time": "2022-01-15T15:13:48.795Z"
   },
   {
    "duration": -7539,
    "start_time": "2022-01-15T15:13:48.799Z"
   },
   {
    "duration": -7545,
    "start_time": "2022-01-15T15:13:48.807Z"
   },
   {
    "duration": -7549,
    "start_time": "2022-01-15T15:13:48.812Z"
   },
   {
    "duration": -7552,
    "start_time": "2022-01-15T15:13:48.816Z"
   },
   {
    "duration": -7573,
    "start_time": "2022-01-15T15:13:48.838Z"
   },
   {
    "duration": -7575,
    "start_time": "2022-01-15T15:13:48.842Z"
   },
   {
    "duration": -7579,
    "start_time": "2022-01-15T15:13:48.847Z"
   },
   {
    "duration": -7584,
    "start_time": "2022-01-15T15:13:48.854Z"
   },
   {
    "duration": -7587,
    "start_time": "2022-01-15T15:13:48.858Z"
   },
   {
    "duration": -7590,
    "start_time": "2022-01-15T15:13:48.863Z"
   },
   {
    "duration": -7598,
    "start_time": "2022-01-15T15:13:48.872Z"
   },
   {
    "duration": -7601,
    "start_time": "2022-01-15T15:13:48.876Z"
   },
   {
    "duration": -7609,
    "start_time": "2022-01-15T15:13:48.886Z"
   },
   {
    "duration": -7611,
    "start_time": "2022-01-15T15:13:48.889Z"
   },
   {
    "duration": -7795,
    "start_time": "2022-01-15T15:13:49.075Z"
   },
   {
    "duration": -7827,
    "start_time": "2022-01-15T15:13:49.108Z"
   },
   {
    "duration": -7830,
    "start_time": "2022-01-15T15:13:49.112Z"
   },
   {
    "duration": -7831,
    "start_time": "2022-01-15T15:13:49.115Z"
   },
   {
    "duration": -7834,
    "start_time": "2022-01-15T15:13:49.119Z"
   },
   {
    "duration": -7860,
    "start_time": "2022-01-15T15:13:49.146Z"
   },
   {
    "duration": -7920,
    "start_time": "2022-01-15T15:13:49.208Z"
   },
   {
    "duration": -7923,
    "start_time": "2022-01-15T15:13:49.212Z"
   },
   {
    "duration": -7929,
    "start_time": "2022-01-15T15:13:49.220Z"
   },
   {
    "duration": -7932,
    "start_time": "2022-01-15T15:13:49.224Z"
   },
   {
    "duration": -7934,
    "start_time": "2022-01-15T15:13:49.227Z"
   },
   {
    "duration": -8044,
    "start_time": "2022-01-15T15:13:49.338Z"
   },
   {
    "duration": -8047,
    "start_time": "2022-01-15T15:13:49.342Z"
   },
   {
    "duration": -8273,
    "start_time": "2022-01-15T15:13:49.570Z"
   },
   {
    "duration": -8397,
    "start_time": "2022-01-15T15:13:49.695Z"
   },
   {
    "duration": -8339,
    "start_time": "2022-01-15T15:13:49.699Z"
   },
   {
    "duration": -8349,
    "start_time": "2022-01-15T15:13:49.710Z"
   },
   {
    "duration": -8352,
    "start_time": "2022-01-15T15:13:49.714Z"
   },
   {
    "duration": -8353,
    "start_time": "2022-01-15T15:13:49.717Z"
   },
   {
    "duration": -8356,
    "start_time": "2022-01-15T15:13:49.721Z"
   },
   {
    "duration": -8357,
    "start_time": "2022-01-15T15:13:49.724Z"
   },
   {
    "duration": -8359,
    "start_time": "2022-01-15T15:13:49.727Z"
   },
   {
    "duration": -8363,
    "start_time": "2022-01-15T15:13:49.732Z"
   },
   {
    "duration": -8365,
    "start_time": "2022-01-15T15:13:49.736Z"
   },
   {
    "duration": -8382,
    "start_time": "2022-01-15T15:13:49.754Z"
   },
   {
    "duration": -8384,
    "start_time": "2022-01-15T15:13:49.758Z"
   },
   {
    "duration": -8385,
    "start_time": "2022-01-15T15:13:49.761Z"
   },
   {
    "duration": -8395,
    "start_time": "2022-01-15T15:13:49.772Z"
   },
   {
    "duration": -8397,
    "start_time": "2022-01-15T15:13:49.776Z"
   },
   {
    "duration": -8400,
    "start_time": "2022-01-15T15:13:49.781Z"
   },
   {
    "duration": -8434,
    "start_time": "2022-01-15T15:13:49.816Z"
   },
   {
    "duration": -8440,
    "start_time": "2022-01-15T15:13:49.824Z"
   },
   {
    "duration": -8443,
    "start_time": "2022-01-15T15:13:49.828Z"
   },
   {
    "duration": -8450,
    "start_time": "2022-01-15T15:13:49.837Z"
   },
   {
    "duration": -8453,
    "start_time": "2022-01-15T15:13:49.841Z"
   },
   {
    "duration": -8454,
    "start_time": "2022-01-15T15:13:49.844Z"
   },
   {
    "duration": -8462,
    "start_time": "2022-01-15T15:13:49.853Z"
   },
   {
    "duration": -8464,
    "start_time": "2022-01-15T15:13:49.857Z"
   },
   {
    "duration": 507,
    "start_time": "2022-01-15T15:14:47.682Z"
   },
   {
    "duration": 502,
    "start_time": "2022-01-15T15:14:52.905Z"
   },
   {
    "duration": 278,
    "start_time": "2022-01-15T15:15:14.412Z"
   },
   {
    "duration": 309,
    "start_time": "2022-01-15T15:16:43.756Z"
   },
   {
    "duration": 15,
    "start_time": "2022-01-15T15:16:44.067Z"
   },
   {
    "duration": 40,
    "start_time": "2022-01-15T15:16:44.085Z"
   },
   {
    "duration": 40,
    "start_time": "2022-01-15T15:16:44.128Z"
   },
   {
    "duration": 17,
    "start_time": "2022-01-15T15:16:44.171Z"
   },
   {
    "duration": 9,
    "start_time": "2022-01-15T15:16:44.190Z"
   },
   {
    "duration": 64,
    "start_time": "2022-01-15T15:16:44.202Z"
   },
   {
    "duration": 3,
    "start_time": "2022-01-15T15:16:44.270Z"
   },
   {
    "duration": 172,
    "start_time": "2022-01-15T15:16:44.276Z"
   },
   {
    "duration": 15,
    "start_time": "2022-01-15T15:16:44.451Z"
   },
   {
    "duration": 1039,
    "start_time": "2022-01-15T15:16:44.468Z"
   },
   {
    "duration": 71,
    "start_time": "2022-01-15T15:16:45.508Z"
   },
   {
    "duration": 6,
    "start_time": "2022-01-15T15:16:45.583Z"
   },
   {
    "duration": 167,
    "start_time": "2022-01-15T15:16:45.592Z"
   },
   {
    "duration": 1366,
    "start_time": "2022-01-15T15:16:45.763Z"
   },
   {
    "duration": 8,
    "start_time": "2022-01-15T15:16:47.132Z"
   },
   {
    "duration": 30,
    "start_time": "2022-01-15T15:16:47.143Z"
   },
   {
    "duration": 446,
    "start_time": "2022-01-15T15:16:47.176Z"
   },
   {
    "duration": 15,
    "start_time": "2022-01-15T15:16:47.625Z"
   },
   {
    "duration": 398,
    "start_time": "2022-01-15T15:16:47.659Z"
   },
   {
    "duration": 14,
    "start_time": "2022-01-15T15:16:48.060Z"
   },
   {
    "duration": 436,
    "start_time": "2022-01-15T15:16:48.077Z"
   },
   {
    "duration": 13,
    "start_time": "2022-01-15T15:16:48.519Z"
   },
   {
    "duration": 548,
    "start_time": "2022-01-15T15:16:48.535Z"
   },
   {
    "duration": 14,
    "start_time": "2022-01-15T15:16:49.086Z"
   },
   {
    "duration": 533,
    "start_time": "2022-01-15T15:16:49.102Z"
   },
   {
    "duration": 27,
    "start_time": "2022-01-15T15:16:49.638Z"
   },
   {
    "duration": 420,
    "start_time": "2022-01-15T15:16:49.667Z"
   },
   {
    "duration": 14,
    "start_time": "2022-01-15T15:16:50.090Z"
   },
   {
    "duration": 558,
    "start_time": "2022-01-15T15:16:50.107Z"
   },
   {
    "duration": 13,
    "start_time": "2022-01-15T15:16:50.667Z"
   },
   {
    "duration": 300,
    "start_time": "2022-01-15T15:16:50.682Z"
   },
   {
    "duration": 15,
    "start_time": "2022-01-15T15:16:50.986Z"
   },
   {
    "duration": 470,
    "start_time": "2022-01-15T15:16:51.003Z"
   },
   {
    "duration": 15,
    "start_time": "2022-01-15T15:16:51.476Z"
   },
   {
    "duration": 1005,
    "start_time": "2022-01-15T15:16:51.494Z"
   },
   {
    "duration": 249,
    "start_time": "2022-01-15T15:16:52.502Z"
   },
   {
    "duration": 12,
    "start_time": "2022-01-15T15:16:52.754Z"
   },
   {
    "duration": 594,
    "start_time": "2022-01-15T15:16:52.769Z"
   },
   {
    "duration": 863,
    "start_time": "2022-01-15T15:16:53.365Z"
   },
   {
    "duration": 4,
    "start_time": "2022-01-15T15:16:54.231Z"
   },
   {
    "duration": 307,
    "start_time": "2022-01-15T15:16:54.238Z"
   },
   {
    "duration": 39,
    "start_time": "2022-01-15T15:16:54.548Z"
   },
   {
    "duration": 254,
    "start_time": "2022-01-15T15:16:54.589Z"
   },
   {
    "duration": 242,
    "start_time": "2022-01-15T15:16:54.845Z"
   },
   {
    "duration": 31,
    "start_time": "2022-01-15T15:16:55.090Z"
   },
   {
    "duration": 242,
    "start_time": "2022-01-15T15:16:55.124Z"
   },
   {
    "duration": 249,
    "start_time": "2022-01-15T15:16:55.368Z"
   },
   {
    "duration": 44,
    "start_time": "2022-01-15T15:16:55.619Z"
   },
   {
    "duration": 216,
    "start_time": "2022-01-15T15:16:55.666Z"
   },
   {
    "duration": 246,
    "start_time": "2022-01-15T15:16:55.885Z"
   },
   {
    "duration": 41,
    "start_time": "2022-01-15T15:16:56.133Z"
   },
   {
    "duration": 237,
    "start_time": "2022-01-15T15:16:56.177Z"
   },
   {
    "duration": 242,
    "start_time": "2022-01-15T15:16:56.417Z"
   },
   {
    "duration": 39,
    "start_time": "2022-01-15T15:16:56.661Z"
   },
   {
    "duration": 259,
    "start_time": "2022-01-15T15:16:56.702Z"
   },
   {
    "duration": 240,
    "start_time": "2022-01-15T15:16:56.964Z"
   },
   {
    "duration": 32,
    "start_time": "2022-01-15T15:16:57.208Z"
   },
   {
    "duration": 237,
    "start_time": "2022-01-15T15:16:57.259Z"
   },
   {
    "duration": 68,
    "start_time": "2022-01-15T15:16:57.499Z"
   },
   {
    "duration": 368,
    "start_time": "2022-01-15T15:16:57.570Z"
   },
   {
    "duration": 452,
    "start_time": "2022-01-15T15:16:57.941Z"
   },
   {
    "duration": 564,
    "start_time": "2022-01-15T15:16:58.395Z"
   },
   {
    "duration": 432,
    "start_time": "2022-01-15T15:16:58.962Z"
   },
   {
    "duration": 189,
    "start_time": "2022-01-15T15:16:59.397Z"
   },
   {
    "duration": 29,
    "start_time": "2022-01-15T15:16:59.589Z"
   },
   {
    "duration": 41,
    "start_time": "2022-01-15T15:16:59.620Z"
   },
   {
    "duration": 450,
    "start_time": "2022-01-15T15:16:59.669Z"
   },
   {
    "duration": 8,
    "start_time": "2022-01-15T15:17:00.122Z"
   },
   {
    "duration": 28,
    "start_time": "2022-01-15T15:17:00.133Z"
   },
   {
    "duration": 341,
    "start_time": "2022-01-15T15:17:00.164Z"
   },
   {
    "duration": 13,
    "start_time": "2022-01-15T15:17:00.507Z"
   },
   {
    "duration": 411,
    "start_time": "2022-01-15T15:17:00.523Z"
   },
   {
    "duration": 27,
    "start_time": "2022-01-15T15:17:00.936Z"
   },
   {
    "duration": 500,
    "start_time": "2022-01-15T15:17:00.965Z"
   },
   {
    "duration": 15,
    "start_time": "2022-01-15T15:17:01.468Z"
   },
   {
    "duration": 403,
    "start_time": "2022-01-15T15:17:01.485Z"
   },
   {
    "duration": 14,
    "start_time": "2022-01-15T15:17:01.892Z"
   },
   {
    "duration": 408,
    "start_time": "2022-01-15T15:17:01.909Z"
   },
   {
    "duration": 13,
    "start_time": "2022-01-15T15:17:02.320Z"
   },
   {
    "duration": 446,
    "start_time": "2022-01-15T15:17:02.335Z"
   },
   {
    "duration": 14,
    "start_time": "2022-01-15T15:17:02.783Z"
   },
   {
    "duration": 458,
    "start_time": "2022-01-15T15:17:02.799Z"
   },
   {
    "duration": 781,
    "start_time": "2022-01-15T15:17:03.260Z"
   },
   {
    "duration": 22,
    "start_time": "2022-01-15T15:17:04.044Z"
   },
   {
    "duration": 571,
    "start_time": "2022-01-15T15:17:04.068Z"
   },
   {
    "duration": 25,
    "start_time": "2022-01-15T15:17:04.642Z"
   },
   {
    "duration": 791,
    "start_time": "2022-01-15T15:17:04.669Z"
   },
   {
    "duration": 20,
    "start_time": "2022-01-15T15:17:05.462Z"
   },
   {
    "duration": 383,
    "start_time": "2022-01-15T15:17:05.484Z"
   },
   {
    "duration": 476,
    "start_time": "2022-01-15T15:17:05.869Z"
   },
   {
    "duration": 491,
    "start_time": "2022-01-15T15:17:06.348Z"
   },
   {
    "duration": 404,
    "start_time": "2022-01-15T15:17:06.842Z"
   },
   {
    "duration": 587,
    "start_time": "2022-01-15T15:17:07.248Z"
   },
   {
    "duration": 384,
    "start_time": "2022-01-15T15:17:07.838Z"
   },
   {
    "duration": 679,
    "start_time": "2022-01-15T15:18:09.460Z"
   },
   {
    "duration": 788,
    "start_time": "2022-01-15T15:18:20.294Z"
   },
   {
    "duration": 731,
    "start_time": "2022-01-15T15:18:24.421Z"
   },
   {
    "duration": 98,
    "start_time": "2022-01-15T15:19:45.380Z"
   },
   {
    "duration": 863,
    "start_time": "2022-01-15T15:20:20.395Z"
   },
   {
    "duration": 686,
    "start_time": "2022-04-11T09:46:20.377Z"
   },
   {
    "duration": 2,
    "start_time": "2022-04-11T09:47:54.976Z"
   },
   {
    "duration": 131,
    "start_time": "2022-04-11T09:47:54.985Z"
   },
   {
    "duration": 15,
    "start_time": "2022-04-11T09:47:55.118Z"
   },
   {
    "duration": 22,
    "start_time": "2022-04-11T09:47:55.134Z"
   },
   {
    "duration": 9,
    "start_time": "2022-04-11T09:47:55.158Z"
   },
   {
    "duration": 43,
    "start_time": "2022-04-11T09:47:55.168Z"
   },
   {
    "duration": 6,
    "start_time": "2022-04-11T09:47:55.212Z"
   },
   {
    "duration": 8,
    "start_time": "2022-04-11T09:47:55.219Z"
   },
   {
    "duration": 56,
    "start_time": "2022-04-11T09:47:55.228Z"
   },
   {
    "duration": 29,
    "start_time": "2022-04-11T09:47:55.285Z"
   },
   {
    "duration": 501,
    "start_time": "2022-04-11T09:47:55.316Z"
   },
   {
    "duration": 5,
    "start_time": "2022-04-11T09:49:12.654Z"
   },
   {
    "duration": 167,
    "start_time": "2022-04-11T09:50:07.981Z"
   },
   {
    "duration": 240,
    "start_time": "2022-04-11T09:50:12.701Z"
   },
   {
    "duration": 448,
    "start_time": "2022-04-11T09:50:19.805Z"
   },
   {
    "duration": 186,
    "start_time": "2022-04-11T09:50:31.012Z"
   },
   {
    "duration": 1579,
    "start_time": "2022-04-11T09:50:35.963Z"
   },
   {
    "duration": 2,
    "start_time": "2022-04-11T09:50:42.805Z"
   },
   {
    "duration": 132,
    "start_time": "2022-04-11T09:50:42.812Z"
   },
   {
    "duration": 17,
    "start_time": "2022-04-11T09:50:42.946Z"
   },
   {
    "duration": 49,
    "start_time": "2022-04-11T09:50:42.965Z"
   },
   {
    "duration": 10,
    "start_time": "2022-04-11T09:50:43.017Z"
   },
   {
    "duration": 11,
    "start_time": "2022-04-11T09:50:43.029Z"
   },
   {
    "duration": 5,
    "start_time": "2022-04-11T09:50:43.041Z"
   },
   {
    "duration": 8,
    "start_time": "2022-04-11T09:50:43.047Z"
   },
   {
    "duration": 93,
    "start_time": "2022-04-11T09:50:43.056Z"
   },
   {
    "duration": 7,
    "start_time": "2022-04-11T09:50:43.151Z"
   },
   {
    "duration": 464,
    "start_time": "2022-04-11T09:50:43.161Z"
   },
   {
    "duration": 5,
    "start_time": "2022-04-11T09:50:43.627Z"
   },
   {
    "duration": 10,
    "start_time": "2022-04-11T09:50:43.634Z"
   },
   {
    "duration": 34,
    "start_time": "2022-04-11T09:50:43.646Z"
   },
   {
    "duration": 368,
    "start_time": "2022-04-11T09:50:43.682Z"
   },
   {
    "duration": 6,
    "start_time": "2022-04-11T09:50:44.051Z"
   },
   {
    "duration": 10,
    "start_time": "2022-04-11T09:50:44.059Z"
   },
   {
    "duration": 201,
    "start_time": "2022-04-11T09:50:44.071Z"
   },
   {
    "duration": 11,
    "start_time": "2022-04-11T09:50:44.274Z"
   },
   {
    "duration": 270,
    "start_time": "2022-04-11T09:50:44.286Z"
   },
   {
    "duration": 9,
    "start_time": "2022-04-11T09:50:44.558Z"
   },
   {
    "duration": 206,
    "start_time": "2022-04-11T09:50:44.569Z"
   },
   {
    "duration": 11,
    "start_time": "2022-04-11T09:50:44.777Z"
   },
   {
    "duration": 214,
    "start_time": "2022-04-11T09:50:44.790Z"
   },
   {
    "duration": 179,
    "start_time": "2022-04-11T09:50:46.044Z"
   },
   {
    "duration": 12,
    "start_time": "2022-04-11T09:50:49.212Z"
   },
   {
    "duration": 188,
    "start_time": "2022-04-11T09:50:52.283Z"
   },
   {
    "duration": 10,
    "start_time": "2022-04-11T09:50:55.339Z"
   },
   {
    "duration": 183,
    "start_time": "2022-04-11T09:50:58.715Z"
   },
   {
    "duration": 10,
    "start_time": "2022-04-11T09:51:03.547Z"
   },
   {
    "duration": 183,
    "start_time": "2022-04-11T09:51:06.157Z"
   },
   {
    "duration": 9,
    "start_time": "2022-04-11T09:51:12.516Z"
   },
   {
    "duration": 145,
    "start_time": "2022-04-11T09:51:15.979Z"
   },
   {
    "duration": 211,
    "start_time": "2022-04-11T09:51:25.044Z"
   },
   {
    "duration": 508,
    "start_time": "2022-04-11T09:51:33.580Z"
   },
   {
    "duration": 122,
    "start_time": "2022-04-11T09:52:35.837Z"
   },
   {
    "duration": 174,
    "start_time": "2022-04-11T09:52:41.356Z"
   },
   {
    "duration": 151,
    "start_time": "2022-04-11T09:52:45.445Z"
   },
   {
    "duration": 118,
    "start_time": "2022-04-11T09:52:59.052Z"
   },
   {
    "duration": 118,
    "start_time": "2022-04-11T10:35:27.485Z"
   },
   {
    "duration": 115,
    "start_time": "2022-04-11T10:35:35.538Z"
   },
   {
    "duration": 119,
    "start_time": "2022-04-11T10:36:10.427Z"
   },
   {
    "duration": 106,
    "start_time": "2022-04-11T10:36:14.463Z"
   },
   {
    "duration": 173,
    "start_time": "2022-04-11T10:36:23.683Z"
   },
   {
    "duration": 112,
    "start_time": "2022-04-11T10:36:29.682Z"
   },
   {
    "duration": 113,
    "start_time": "2022-04-11T10:36:34.762Z"
   },
   {
    "duration": 113,
    "start_time": "2022-04-11T10:39:11.892Z"
   },
   {
    "duration": 106,
    "start_time": "2022-04-11T10:39:16.323Z"
   },
   {
    "duration": 111,
    "start_time": "2022-04-11T10:39:19.450Z"
   },
   {
    "duration": 116,
    "start_time": "2022-04-11T10:39:22.961Z"
   },
   {
    "duration": 152,
    "start_time": "2022-04-11T11:16:29.065Z"
   },
   {
    "duration": 156,
    "start_time": "2022-04-11T11:16:33.160Z"
   },
   {
    "duration": 143,
    "start_time": "2022-04-11T11:16:40.023Z"
   },
   {
    "duration": 149,
    "start_time": "2022-04-11T11:16:47.047Z"
   },
   {
    "duration": 236,
    "start_time": "2022-04-11T11:16:49.623Z"
   },
   {
    "duration": 160,
    "start_time": "2022-04-11T11:16:51.791Z"
   },
   {
    "duration": 152,
    "start_time": "2022-04-11T11:16:57.590Z"
   },
   {
    "duration": 71,
    "start_time": "2022-04-11T11:17:01.366Z"
   },
   {
    "duration": 189,
    "start_time": "2022-04-11T11:17:05.190Z"
   },
   {
    "duration": 67,
    "start_time": "2022-04-11T11:17:17.975Z"
   },
   {
    "duration": 60,
    "start_time": "2022-04-11T11:17:24.240Z"
   },
   {
    "duration": 176,
    "start_time": "2022-04-11T11:17:29.352Z"
   },
   {
    "duration": 236,
    "start_time": "2022-04-11T11:17:40.273Z"
   },
   {
    "duration": 25,
    "start_time": "2022-04-11T11:57:02.047Z"
   },
   {
    "duration": 81,
    "start_time": "2022-04-11T11:57:17.657Z"
   },
   {
    "duration": 9,
    "start_time": "2022-04-11T11:57:29.353Z"
   },
   {
    "duration": 9,
    "start_time": "2022-04-11T11:57:33.314Z"
   },
   {
    "duration": 176,
    "start_time": "2022-04-11T11:57:33.713Z"
   },
   {
    "duration": 68,
    "start_time": "2022-04-11T11:57:50.943Z"
   },
   {
    "duration": 165,
    "start_time": "2022-04-11T11:57:54.745Z"
   },
   {
    "duration": 170,
    "start_time": "2022-04-11T11:57:57.724Z"
   },
   {
    "duration": 172,
    "start_time": "2022-04-11T11:58:05.634Z"
   },
   {
    "duration": 185,
    "start_time": "2022-04-11T11:59:32.505Z"
   },
   {
    "duration": 103,
    "start_time": "2022-04-11T11:59:41.578Z"
   },
   {
    "duration": 2,
    "start_time": "2022-04-11T11:59:51.888Z"
   },
   {
    "duration": 140,
    "start_time": "2022-04-11T11:59:51.895Z"
   },
   {
    "duration": 14,
    "start_time": "2022-04-11T11:59:52.036Z"
   },
   {
    "duration": 21,
    "start_time": "2022-04-11T11:59:52.051Z"
   },
   {
    "duration": 36,
    "start_time": "2022-04-11T11:59:52.074Z"
   },
   {
    "duration": 10,
    "start_time": "2022-04-11T11:59:52.111Z"
   },
   {
    "duration": 9,
    "start_time": "2022-04-11T11:59:52.123Z"
   },
   {
    "duration": 9,
    "start_time": "2022-04-11T11:59:52.134Z"
   },
   {
    "duration": 86,
    "start_time": "2022-04-11T11:59:52.144Z"
   },
   {
    "duration": 8,
    "start_time": "2022-04-11T11:59:52.231Z"
   },
   {
    "duration": 439,
    "start_time": "2022-04-11T11:59:52.241Z"
   },
   {
    "duration": 5,
    "start_time": "2022-04-11T11:59:52.682Z"
   },
   {
    "duration": 17,
    "start_time": "2022-04-11T11:59:52.688Z"
   },
   {
    "duration": 44,
    "start_time": "2022-04-11T11:59:52.706Z"
   },
   {
    "duration": 312,
    "start_time": "2022-04-11T11:59:52.752Z"
   },
   {
    "duration": 5,
    "start_time": "2022-04-11T11:59:53.066Z"
   },
   {
    "duration": 16,
    "start_time": "2022-04-11T11:59:53.072Z"
   },
   {
    "duration": 183,
    "start_time": "2022-04-11T11:59:53.089Z"
   },
   {
    "duration": 9,
    "start_time": "2022-04-11T11:59:53.273Z"
   },
   {
    "duration": 175,
    "start_time": "2022-04-11T11:59:53.283Z"
   },
   {
    "duration": 9,
    "start_time": "2022-04-11T11:59:53.459Z"
   },
   {
    "duration": 193,
    "start_time": "2022-04-11T11:59:53.470Z"
   },
   {
    "duration": 9,
    "start_time": "2022-04-11T11:59:53.664Z"
   },
   {
    "duration": 189,
    "start_time": "2022-04-11T11:59:53.675Z"
   },
   {
    "duration": 10,
    "start_time": "2022-04-11T11:59:53.866Z"
   },
   {
    "duration": 274,
    "start_time": "2022-04-11T11:59:53.877Z"
   },
   {
    "duration": 9,
    "start_time": "2022-04-11T11:59:54.152Z"
   },
   {
    "duration": 182,
    "start_time": "2022-04-11T11:59:54.163Z"
   },
   {
    "duration": 9,
    "start_time": "2022-04-11T11:59:54.349Z"
   },
   {
    "duration": 186,
    "start_time": "2022-04-11T11:59:54.360Z"
   },
   {
    "duration": 8,
    "start_time": "2022-04-11T11:59:54.547Z"
   },
   {
    "duration": 154,
    "start_time": "2022-04-11T11:59:54.557Z"
   },
   {
    "duration": 9,
    "start_time": "2022-04-11T11:59:54.712Z"
   },
   {
    "duration": 200,
    "start_time": "2022-04-11T11:59:54.723Z"
   },
   {
    "duration": 10,
    "start_time": "2022-04-11T11:59:54.925Z"
   },
   {
    "duration": 407,
    "start_time": "2022-04-11T11:59:54.937Z"
   },
   {
    "duration": 205,
    "start_time": "2022-04-11T11:59:55.346Z"
   },
   {
    "duration": 11,
    "start_time": "2022-04-11T11:59:55.553Z"
   },
   {
    "duration": 192,
    "start_time": "2022-04-11T11:59:55.565Z"
   },
   {
    "duration": 161,
    "start_time": "2022-04-11T11:59:55.758Z"
   },
   {
    "duration": 3,
    "start_time": "2022-04-11T11:59:55.921Z"
   },
   {
    "duration": 127,
    "start_time": "2022-04-11T11:59:55.925Z"
   },
   {
    "duration": 23,
    "start_time": "2022-04-11T11:59:56.053Z"
   },
   {
    "duration": 126,
    "start_time": "2022-04-11T11:59:56.077Z"
   },
   {
    "duration": 108,
    "start_time": "2022-04-11T11:59:56.204Z"
   },
   {
    "duration": 23,
    "start_time": "2022-04-11T11:59:56.314Z"
   },
   {
    "duration": 116,
    "start_time": "2022-04-11T11:59:56.338Z"
   },
   {
    "duration": 115,
    "start_time": "2022-04-11T11:59:56.456Z"
   },
   {
    "duration": 22,
    "start_time": "2022-04-11T11:59:56.573Z"
   },
   {
    "duration": 115,
    "start_time": "2022-04-11T11:59:56.597Z"
   },
   {
    "duration": 108,
    "start_time": "2022-04-11T11:59:56.715Z"
   },
   {
    "duration": 114,
    "start_time": "2022-04-11T11:59:56.825Z"
   },
   {
    "duration": 111,
    "start_time": "2022-04-11T11:59:56.941Z"
   },
   {
    "duration": 108,
    "start_time": "2022-04-11T11:59:57.054Z"
   },
   {
    "duration": 21,
    "start_time": "2022-04-11T11:59:57.164Z"
   },
   {
    "duration": 121,
    "start_time": "2022-04-11T11:59:57.187Z"
   },
   {
    "duration": 112,
    "start_time": "2022-04-11T11:59:57.310Z"
   },
   {
    "duration": 23,
    "start_time": "2022-04-11T11:59:57.423Z"
   },
   {
    "duration": 110,
    "start_time": "2022-04-11T11:59:57.448Z"
   },
   {
    "duration": 25,
    "start_time": "2022-04-11T11:59:57.560Z"
   },
   {
    "duration": 158,
    "start_time": "2022-04-11T11:59:57.587Z"
   },
   {
    "duration": 192,
    "start_time": "2022-04-11T11:59:57.746Z"
   },
   {
    "duration": 243,
    "start_time": "2022-04-11T11:59:57.940Z"
   },
   {
    "duration": 172,
    "start_time": "2022-04-11T11:59:58.185Z"
   },
   {
    "duration": 21,
    "start_time": "2022-04-11T11:59:58.359Z"
   },
   {
    "duration": 36,
    "start_time": "2022-04-11T11:59:58.382Z"
   },
   {
    "duration": 6,
    "start_time": "2022-04-11T11:59:58.421Z"
   },
   {
    "duration": 182,
    "start_time": "2022-04-11T11:59:58.429Z"
   },
   {
    "duration": 6,
    "start_time": "2022-04-11T11:59:58.613Z"
   },
   {
    "duration": 11,
    "start_time": "2022-04-11T11:59:58.621Z"
   },
   {
    "duration": 8,
    "start_time": "2022-04-11T12:00:15.707Z"
   },
   {
    "duration": 229,
    "start_time": "2022-04-11T12:00:16.300Z"
   },
   {
    "duration": 154,
    "start_time": "2022-04-11T12:00:59.396Z"
   },
   {
    "duration": 151,
    "start_time": "2022-04-11T12:01:08.049Z"
   },
   {
    "duration": 163,
    "start_time": "2022-04-11T12:01:13.250Z"
   },
   {
    "duration": 162,
    "start_time": "2022-04-11T12:01:17.065Z"
   },
   {
    "duration": 174,
    "start_time": "2022-04-11T12:01:23.113Z"
   },
   {
    "duration": 184,
    "start_time": "2022-04-11T12:01:27.506Z"
   },
   {
    "duration": 242,
    "start_time": "2022-04-11T12:01:41.993Z"
   },
   {
    "duration": 286,
    "start_time": "2022-04-11T12:01:55.130Z"
   },
   {
    "duration": 265,
    "start_time": "2022-04-11T12:02:18.735Z"
   },
   {
    "duration": 3,
    "start_time": "2022-04-11T12:02:25.197Z"
   },
   {
    "duration": 124,
    "start_time": "2022-04-11T12:02:25.205Z"
   },
   {
    "duration": 14,
    "start_time": "2022-04-11T12:02:25.331Z"
   },
   {
    "duration": 20,
    "start_time": "2022-04-11T12:02:25.346Z"
   },
   {
    "duration": 9,
    "start_time": "2022-04-11T12:02:25.368Z"
   },
   {
    "duration": 15,
    "start_time": "2022-04-11T12:02:25.408Z"
   },
   {
    "duration": 5,
    "start_time": "2022-04-11T12:02:25.425Z"
   },
   {
    "duration": 9,
    "start_time": "2022-04-11T12:02:25.431Z"
   },
   {
    "duration": 87,
    "start_time": "2022-04-11T12:02:25.442Z"
   },
   {
    "duration": 8,
    "start_time": "2022-04-11T12:02:25.530Z"
   },
   {
    "duration": 488,
    "start_time": "2022-04-11T12:02:25.541Z"
   },
   {
    "duration": 4,
    "start_time": "2022-04-11T12:02:26.031Z"
   },
   {
    "duration": 4,
    "start_time": "2022-04-11T12:02:26.037Z"
   },
   {
    "duration": 30,
    "start_time": "2022-04-11T12:02:26.043Z"
   },
   {
    "duration": 327,
    "start_time": "2022-04-11T12:02:26.074Z"
   },
   {
    "duration": 7,
    "start_time": "2022-04-11T12:02:26.403Z"
   },
   {
    "duration": 11,
    "start_time": "2022-04-11T12:02:26.411Z"
   },
   {
    "duration": 190,
    "start_time": "2022-04-11T12:02:26.423Z"
   },
   {
    "duration": 9,
    "start_time": "2022-04-11T12:02:26.615Z"
   },
   {
    "duration": 177,
    "start_time": "2022-04-11T12:02:26.626Z"
   },
   {
    "duration": 10,
    "start_time": "2022-04-11T12:02:26.808Z"
   },
   {
    "duration": 192,
    "start_time": "2022-04-11T12:02:26.819Z"
   },
   {
    "duration": 9,
    "start_time": "2022-04-11T12:02:27.012Z"
   },
   {
    "duration": 186,
    "start_time": "2022-04-11T12:02:27.023Z"
   },
   {
    "duration": 10,
    "start_time": "2022-04-11T12:02:27.211Z"
   },
   {
    "duration": 186,
    "start_time": "2022-04-11T12:02:27.223Z"
   },
   {
    "duration": 9,
    "start_time": "2022-04-11T12:02:27.410Z"
   },
   {
    "duration": 262,
    "start_time": "2022-04-11T12:02:27.421Z"
   },
   {
    "duration": 11,
    "start_time": "2022-04-11T12:02:27.687Z"
   },
   {
    "duration": 200,
    "start_time": "2022-04-11T12:02:27.709Z"
   },
   {
    "duration": 9,
    "start_time": "2022-04-11T12:02:27.910Z"
   },
   {
    "duration": 164,
    "start_time": "2022-04-11T12:02:27.921Z"
   },
   {
    "duration": 11,
    "start_time": "2022-04-11T12:02:28.086Z"
   },
   {
    "duration": 202,
    "start_time": "2022-04-11T12:02:28.109Z"
   },
   {
    "duration": 10,
    "start_time": "2022-04-11T12:02:28.313Z"
   },
   {
    "duration": 447,
    "start_time": "2022-04-11T12:02:28.324Z"
   },
   {
    "duration": 129,
    "start_time": "2022-04-11T12:02:28.773Z"
   },
   {
    "duration": 10,
    "start_time": "2022-04-11T12:02:28.908Z"
   },
   {
    "duration": 274,
    "start_time": "2022-04-11T12:02:28.920Z"
   },
   {
    "duration": 161,
    "start_time": "2022-04-11T12:02:29.196Z"
   },
   {
    "duration": 3,
    "start_time": "2022-04-11T12:02:29.359Z"
   },
   {
    "duration": 137,
    "start_time": "2022-04-11T12:02:29.364Z"
   },
   {
    "duration": 24,
    "start_time": "2022-04-11T12:02:29.503Z"
   },
   {
    "duration": 124,
    "start_time": "2022-04-11T12:02:29.529Z"
   },
   {
    "duration": 111,
    "start_time": "2022-04-11T12:02:29.655Z"
   },
   {
    "duration": 24,
    "start_time": "2022-04-11T12:02:29.768Z"
   },
   {
    "duration": 121,
    "start_time": "2022-04-11T12:02:29.793Z"
   },
   {
    "duration": 117,
    "start_time": "2022-04-11T12:02:29.916Z"
   },
   {
    "duration": 22,
    "start_time": "2022-04-11T12:02:30.035Z"
   },
   {
    "duration": 113,
    "start_time": "2022-04-11T12:02:30.058Z"
   },
   {
    "duration": 109,
    "start_time": "2022-04-11T12:02:30.173Z"
   },
   {
    "duration": 41,
    "start_time": "2022-04-11T12:02:30.284Z"
   },
   {
    "duration": 119,
    "start_time": "2022-04-11T12:02:30.327Z"
   },
   {
    "duration": 119,
    "start_time": "2022-04-11T12:02:30.448Z"
   },
   {
    "duration": 119,
    "start_time": "2022-04-11T12:02:30.569Z"
   },
   {
    "duration": 123,
    "start_time": "2022-04-11T12:02:30.690Z"
   },
   {
    "duration": 117,
    "start_time": "2022-04-11T12:02:30.815Z"
   },
   {
    "duration": 24,
    "start_time": "2022-04-11T12:02:30.934Z"
   },
   {
    "duration": 112,
    "start_time": "2022-04-11T12:02:30.959Z"
   },
   {
    "duration": 37,
    "start_time": "2022-04-11T12:02:31.073Z"
   },
   {
    "duration": 149,
    "start_time": "2022-04-11T12:02:31.111Z"
   },
   {
    "duration": 187,
    "start_time": "2022-04-11T12:02:31.262Z"
   },
   {
    "duration": 241,
    "start_time": "2022-04-11T12:02:31.450Z"
   },
   {
    "duration": 169,
    "start_time": "2022-04-11T12:02:31.693Z"
   },
   {
    "duration": 21,
    "start_time": "2022-04-11T12:02:31.863Z"
   },
   {
    "duration": 37,
    "start_time": "2022-04-11T12:02:31.885Z"
   },
   {
    "duration": 7,
    "start_time": "2022-04-11T12:02:31.924Z"
   },
   {
    "duration": 171,
    "start_time": "2022-04-11T12:02:31.932Z"
   },
   {
    "duration": 8,
    "start_time": "2022-04-11T12:02:32.109Z"
   },
   {
    "duration": 25,
    "start_time": "2022-04-11T12:02:32.118Z"
   },
   {
    "duration": 153,
    "start_time": "2022-04-11T12:02:32.145Z"
   },
   {
    "duration": 8,
    "start_time": "2022-04-11T12:02:32.299Z"
   },
   {
    "duration": 159,
    "start_time": "2022-04-11T12:02:32.309Z"
   },
   {
    "duration": 9,
    "start_time": "2022-04-11T12:02:32.470Z"
   },
   {
    "duration": 257,
    "start_time": "2022-04-11T12:02:32.481Z"
   },
   {
    "duration": 9,
    "start_time": "2022-04-11T12:02:32.740Z"
   },
   {
    "duration": 179,
    "start_time": "2022-04-11T12:02:32.750Z"
   },
   {
    "duration": 9,
    "start_time": "2022-04-11T12:02:32.931Z"
   },
   {
    "duration": 174,
    "start_time": "2022-04-11T12:02:32.941Z"
   },
   {
    "duration": 8,
    "start_time": "2022-04-11T12:02:33.116Z"
   },
   {
    "duration": 192,
    "start_time": "2022-04-11T12:02:33.126Z"
   },
   {
    "duration": 9,
    "start_time": "2022-04-11T12:02:33.319Z"
   },
   {
    "duration": 199,
    "start_time": "2022-04-11T12:02:33.333Z"
   },
   {
    "duration": 309,
    "start_time": "2022-04-11T12:02:33.534Z"
   },
   {
    "duration": 8,
    "start_time": "2022-04-11T12:02:33.845Z"
   },
   {
    "duration": 235,
    "start_time": "2022-04-11T12:02:33.855Z"
   },
   {
    "duration": 18,
    "start_time": "2022-04-11T12:02:34.092Z"
   },
   {
    "duration": 316,
    "start_time": "2022-04-11T12:02:34.112Z"
   },
   {
    "duration": 11,
    "start_time": "2022-04-11T12:02:34.429Z"
   },
   {
    "duration": 249,
    "start_time": "2022-04-11T12:03:26.361Z"
   },
   {
    "duration": 144,
    "start_time": "2022-04-11T12:03:34.762Z"
   },
   {
    "duration": 2,
    "start_time": "2022-04-11T12:03:47.202Z"
   },
   {
    "duration": 143,
    "start_time": "2022-04-11T12:03:47.206Z"
   },
   {
    "duration": 13,
    "start_time": "2022-04-11T12:03:47.351Z"
   },
   {
    "duration": 20,
    "start_time": "2022-04-11T12:03:47.366Z"
   },
   {
    "duration": 9,
    "start_time": "2022-04-11T12:03:47.409Z"
   },
   {
    "duration": 11,
    "start_time": "2022-04-11T12:03:47.419Z"
   },
   {
    "duration": 5,
    "start_time": "2022-04-11T12:03:47.431Z"
   },
   {
    "duration": 7,
    "start_time": "2022-04-11T12:03:47.438Z"
   },
   {
    "duration": 95,
    "start_time": "2022-04-11T12:03:47.446Z"
   },
   {
    "duration": 7,
    "start_time": "2022-04-11T12:03:47.543Z"
   },
   {
    "duration": 458,
    "start_time": "2022-04-11T12:03:47.554Z"
   },
   {
    "duration": 5,
    "start_time": "2022-04-11T12:03:48.014Z"
   },
   {
    "duration": 5,
    "start_time": "2022-04-11T12:03:48.020Z"
   },
   {
    "duration": 31,
    "start_time": "2022-04-11T12:03:48.026Z"
   },
   {
    "duration": 333,
    "start_time": "2022-04-11T12:03:48.058Z"
   },
   {
    "duration": 5,
    "start_time": "2022-04-11T12:03:48.392Z"
   },
   {
    "duration": 13,
    "start_time": "2022-04-11T12:03:48.399Z"
   },
   {
    "duration": 188,
    "start_time": "2022-04-11T12:03:48.413Z"
   },
   {
    "duration": 14,
    "start_time": "2022-04-11T12:03:48.603Z"
   },
   {
    "duration": 178,
    "start_time": "2022-04-11T12:03:48.619Z"
   },
   {
    "duration": 17,
    "start_time": "2022-04-11T12:03:48.799Z"
   },
   {
    "duration": 190,
    "start_time": "2022-04-11T12:03:48.818Z"
   },
   {
    "duration": 11,
    "start_time": "2022-04-11T12:03:49.010Z"
   },
   {
    "duration": 191,
    "start_time": "2022-04-11T12:03:49.022Z"
   },
   {
    "duration": 10,
    "start_time": "2022-04-11T12:03:49.214Z"
   },
   {
    "duration": 269,
    "start_time": "2022-04-11T12:03:49.226Z"
   },
   {
    "duration": 13,
    "start_time": "2022-04-11T12:03:49.497Z"
   },
   {
    "duration": 179,
    "start_time": "2022-04-11T12:03:49.512Z"
   },
   {
    "duration": 19,
    "start_time": "2022-04-11T12:03:49.695Z"
   },
   {
    "duration": 194,
    "start_time": "2022-04-11T12:03:49.716Z"
   },
   {
    "duration": 8,
    "start_time": "2022-04-11T12:03:49.912Z"
   },
   {
    "duration": 156,
    "start_time": "2022-04-11T12:03:49.922Z"
   },
   {
    "duration": 10,
    "start_time": "2022-04-11T12:03:50.079Z"
   },
   {
    "duration": 217,
    "start_time": "2022-04-11T12:03:50.091Z"
   },
   {
    "duration": 9,
    "start_time": "2022-04-11T12:03:50.310Z"
   },
   {
    "duration": 412,
    "start_time": "2022-04-11T12:03:50.321Z"
   },
   {
    "duration": 215,
    "start_time": "2022-04-11T12:03:50.734Z"
   },
   {
    "duration": 10,
    "start_time": "2022-04-11T12:03:50.951Z"
   },
   {
    "duration": 194,
    "start_time": "2022-04-11T12:03:50.962Z"
   },
   {
    "duration": 164,
    "start_time": "2022-04-11T12:03:51.157Z"
   },
   {
    "duration": 4,
    "start_time": "2022-04-11T12:03:51.323Z"
   },
   {
    "duration": 130,
    "start_time": "2022-04-11T12:03:51.329Z"
   },
   {
    "duration": 22,
    "start_time": "2022-04-11T12:03:51.461Z"
   },
   {
    "duration": 129,
    "start_time": "2022-04-11T12:03:51.485Z"
   },
   {
    "duration": 121,
    "start_time": "2022-04-11T12:03:51.616Z"
   },
   {
    "duration": 24,
    "start_time": "2022-04-11T12:03:51.739Z"
   },
   {
    "duration": 119,
    "start_time": "2022-04-11T12:03:51.765Z"
   },
   {
    "duration": 119,
    "start_time": "2022-04-11T12:03:51.886Z"
   },
   {
    "duration": 22,
    "start_time": "2022-04-11T12:03:52.007Z"
   },
   {
    "duration": 111,
    "start_time": "2022-04-11T12:03:52.031Z"
   },
   {
    "duration": 106,
    "start_time": "2022-04-11T12:03:52.144Z"
   },
   {
    "duration": 23,
    "start_time": "2022-04-11T12:03:52.252Z"
   },
   {
    "duration": 114,
    "start_time": "2022-04-11T12:03:52.277Z"
   },
   {
    "duration": 195,
    "start_time": "2022-04-11T12:03:52.393Z"
   },
   {
    "duration": 34,
    "start_time": "2022-04-11T12:03:52.590Z"
   },
   {
    "duration": 113,
    "start_time": "2022-04-11T12:03:52.626Z"
   },
   {
    "duration": 114,
    "start_time": "2022-04-11T12:03:52.740Z"
   },
   {
    "duration": 23,
    "start_time": "2022-04-11T12:03:52.855Z"
   },
   {
    "duration": 113,
    "start_time": "2022-04-11T12:03:52.879Z"
   },
   {
    "duration": 34,
    "start_time": "2022-04-11T12:03:52.993Z"
   },
   {
    "duration": 153,
    "start_time": "2022-04-11T12:03:53.029Z"
   },
   {
    "duration": 191,
    "start_time": "2022-04-11T12:03:53.184Z"
   },
   {
    "duration": 238,
    "start_time": "2022-04-11T12:03:53.376Z"
   },
   {
    "duration": 170,
    "start_time": "2022-04-11T12:03:53.616Z"
   },
   {
    "duration": 30,
    "start_time": "2022-04-11T12:03:53.787Z"
   },
   {
    "duration": 19,
    "start_time": "2022-04-11T12:03:53.819Z"
   },
   {
    "duration": 6,
    "start_time": "2022-04-11T12:03:53.840Z"
   },
   {
    "duration": 183,
    "start_time": "2022-04-11T12:03:53.847Z"
   },
   {
    "duration": 8,
    "start_time": "2022-04-11T12:03:54.031Z"
   },
   {
    "duration": 9,
    "start_time": "2022-04-11T12:03:54.040Z"
   },
   {
    "duration": 150,
    "start_time": "2022-04-11T12:03:54.051Z"
   },
   {
    "duration": 11,
    "start_time": "2022-04-11T12:03:54.203Z"
   },
   {
    "duration": 257,
    "start_time": "2022-04-11T12:03:54.216Z"
   },
   {
    "duration": 8,
    "start_time": "2022-04-11T12:03:54.475Z"
   },
   {
    "duration": 158,
    "start_time": "2022-04-11T12:03:54.485Z"
   },
   {
    "duration": 8,
    "start_time": "2022-04-11T12:03:54.645Z"
   },
   {
    "duration": 178,
    "start_time": "2022-04-11T12:03:54.654Z"
   },
   {
    "duration": 8,
    "start_time": "2022-04-11T12:03:54.834Z"
   },
   {
    "duration": 164,
    "start_time": "2022-04-11T12:03:54.844Z"
   },
   {
    "duration": 8,
    "start_time": "2022-04-11T12:03:55.010Z"
   },
   {
    "duration": 191,
    "start_time": "2022-04-11T12:03:55.020Z"
   },
   {
    "duration": 8,
    "start_time": "2022-04-11T12:03:55.213Z"
   },
   {
    "duration": 212,
    "start_time": "2022-04-11T12:03:55.226Z"
   },
   {
    "duration": 304,
    "start_time": "2022-04-11T12:03:55.440Z"
   },
   {
    "duration": 9,
    "start_time": "2022-04-11T12:03:55.746Z"
   },
   {
    "duration": 245,
    "start_time": "2022-04-11T12:03:55.756Z"
   },
   {
    "duration": 13,
    "start_time": "2022-04-11T12:03:56.003Z"
   },
   {
    "duration": 395,
    "start_time": "2022-04-11T12:03:56.018Z"
   },
   {
    "duration": 10,
    "start_time": "2022-04-11T12:03:56.415Z"
   },
   {
    "duration": 160,
    "start_time": "2022-04-11T12:03:59.073Z"
   },
   {
    "duration": 151,
    "start_time": "2022-04-11T12:04:10.157Z"
   },
   {
    "duration": 145,
    "start_time": "2022-04-11T12:04:17.731Z"
   },
   {
    "duration": 129,
    "start_time": "2022-04-11T12:04:21.874Z"
   },
   {
    "duration": 182,
    "start_time": "2022-04-11T12:04:26.810Z"
   },
   {
    "duration": 165,
    "start_time": "2022-04-11T12:04:31.762Z"
   },
   {
    "duration": 213,
    "start_time": "2022-04-11T12:04:34.346Z"
   },
   {
    "duration": 153,
    "start_time": "2022-04-11T12:04:37.633Z"
   },
   {
    "duration": 2,
    "start_time": "2022-04-11T12:06:42.001Z"
   },
   {
    "duration": 144,
    "start_time": "2022-04-11T12:06:42.293Z"
   },
   {
    "duration": 14,
    "start_time": "2022-04-11T12:06:42.439Z"
   },
   {
    "duration": 20,
    "start_time": "2022-04-11T12:06:42.455Z"
   },
   {
    "duration": 32,
    "start_time": "2022-04-11T12:06:42.477Z"
   },
   {
    "duration": 10,
    "start_time": "2022-04-11T12:06:42.511Z"
   },
   {
    "duration": 5,
    "start_time": "2022-04-11T12:06:42.523Z"
   },
   {
    "duration": 8,
    "start_time": "2022-04-11T12:06:42.530Z"
   },
   {
    "duration": 190,
    "start_time": "2022-04-11T12:06:42.539Z"
   },
   {
    "duration": 7,
    "start_time": "2022-04-11T12:06:42.730Z"
   },
   {
    "duration": 482,
    "start_time": "2022-04-11T12:06:42.740Z"
   },
   {
    "duration": 5,
    "start_time": "2022-04-11T12:06:43.224Z"
   },
   {
    "duration": 4,
    "start_time": "2022-04-11T12:06:43.231Z"
   },
   {
    "duration": 31,
    "start_time": "2022-04-11T12:06:43.236Z"
   },
   {
    "duration": 331,
    "start_time": "2022-04-11T12:06:43.268Z"
   },
   {
    "duration": 8,
    "start_time": "2022-04-11T12:06:43.601Z"
   },
   {
    "duration": 9,
    "start_time": "2022-04-11T12:06:43.611Z"
   },
   {
    "duration": 185,
    "start_time": "2022-04-11T12:06:43.621Z"
   },
   {
    "duration": 9,
    "start_time": "2022-04-11T12:06:43.808Z"
   },
   {
    "duration": 171,
    "start_time": "2022-04-11T12:06:43.818Z"
   },
   {
    "duration": 19,
    "start_time": "2022-04-11T12:06:43.990Z"
   },
   {
    "duration": 181,
    "start_time": "2022-04-11T12:06:44.011Z"
   },
   {
    "duration": 14,
    "start_time": "2022-04-11T12:06:44.194Z"
   },
   {
    "duration": 180,
    "start_time": "2022-04-11T12:06:44.210Z"
   },
   {
    "duration": 18,
    "start_time": "2022-04-11T12:06:44.392Z"
   },
   {
    "duration": 183,
    "start_time": "2022-04-11T12:06:44.412Z"
   },
   {
    "duration": 14,
    "start_time": "2022-04-11T12:06:44.596Z"
   },
   {
    "duration": 173,
    "start_time": "2022-04-11T12:06:44.611Z"
   },
   {
    "duration": 105,
    "start_time": "2022-04-11T12:06:44.789Z"
   },
   {
    "duration": 202,
    "start_time": "2022-04-11T12:06:44.895Z"
   },
   {
    "duration": 13,
    "start_time": "2022-04-11T12:06:45.099Z"
   },
   {
    "duration": 148,
    "start_time": "2022-04-11T12:06:45.113Z"
   },
   {
    "duration": 9,
    "start_time": "2022-04-11T12:06:45.262Z"
   },
   {
    "duration": 198,
    "start_time": "2022-04-11T12:06:45.272Z"
   },
   {
    "duration": 10,
    "start_time": "2022-04-11T12:06:45.471Z"
   },
   {
    "duration": 413,
    "start_time": "2022-04-11T12:06:45.482Z"
   },
   {
    "duration": 120,
    "start_time": "2022-04-11T12:06:45.897Z"
   },
   {
    "duration": 9,
    "start_time": "2022-04-11T12:06:46.018Z"
   },
   {
    "duration": 189,
    "start_time": "2022-04-11T12:06:46.029Z"
   },
   {
    "duration": 239,
    "start_time": "2022-04-11T12:06:46.220Z"
   },
   {
    "duration": 4,
    "start_time": "2022-04-11T12:06:46.460Z"
   },
   {
    "duration": 124,
    "start_time": "2022-04-11T12:06:46.465Z"
   },
   {
    "duration": 35,
    "start_time": "2022-04-11T12:06:46.591Z"
   },
   {
    "duration": 114,
    "start_time": "2022-04-11T12:06:46.627Z"
   },
   {
    "duration": 110,
    "start_time": "2022-04-11T12:06:46.742Z"
   },
   {
    "duration": 22,
    "start_time": "2022-04-11T12:06:46.854Z"
   },
   {
    "duration": 112,
    "start_time": "2022-04-11T12:06:46.878Z"
   },
   {
    "duration": 114,
    "start_time": "2022-04-11T12:06:46.991Z"
   },
   {
    "duration": 20,
    "start_time": "2022-04-11T12:06:47.109Z"
   },
   {
    "duration": 106,
    "start_time": "2022-04-11T12:06:47.130Z"
   },
   {
    "duration": 96,
    "start_time": "2022-04-11T12:06:47.238Z"
   },
   {
    "duration": 20,
    "start_time": "2022-04-11T12:06:47.335Z"
   },
   {
    "duration": 119,
    "start_time": "2022-04-11T12:06:47.357Z"
   },
   {
    "duration": 103,
    "start_time": "2022-04-11T12:06:47.478Z"
   },
   {
    "duration": 34,
    "start_time": "2022-04-11T12:06:47.582Z"
   },
   {
    "duration": 102,
    "start_time": "2022-04-11T12:06:47.617Z"
   },
   {
    "duration": 110,
    "start_time": "2022-04-11T12:06:47.721Z"
   },
   {
    "duration": 21,
    "start_time": "2022-04-11T12:06:47.833Z"
   },
   {
    "duration": 113,
    "start_time": "2022-04-11T12:06:47.855Z"
   },
   {
    "duration": 27,
    "start_time": "2022-04-11T12:06:47.969Z"
   },
   {
    "duration": 237,
    "start_time": "2022-04-11T12:06:47.997Z"
   },
   {
    "duration": 183,
    "start_time": "2022-04-11T12:06:48.235Z"
   },
   {
    "duration": 243,
    "start_time": "2022-04-11T12:06:48.420Z"
   },
   {
    "duration": 177,
    "start_time": "2022-04-11T12:06:48.665Z"
   },
   {
    "duration": 22,
    "start_time": "2022-04-11T12:06:48.843Z"
   },
   {
    "duration": 19,
    "start_time": "2022-04-11T12:06:48.867Z"
   },
   {
    "duration": 26,
    "start_time": "2022-04-11T12:06:48.888Z"
   },
   {
    "duration": 172,
    "start_time": "2022-04-11T12:06:48.915Z"
   },
   {
    "duration": 7,
    "start_time": "2022-04-11T12:06:49.088Z"
   },
   {
    "duration": 19,
    "start_time": "2022-04-11T12:06:49.097Z"
   },
   {
    "duration": 140,
    "start_time": "2022-04-11T12:06:49.117Z"
   },
   {
    "duration": 9,
    "start_time": "2022-04-11T12:06:49.258Z"
   },
   {
    "duration": 157,
    "start_time": "2022-04-11T12:06:49.268Z"
   },
   {
    "duration": 8,
    "start_time": "2022-04-11T12:06:49.427Z"
   },
   {
    "duration": 171,
    "start_time": "2022-04-11T12:06:49.437Z"
   },
   {
    "duration": 9,
    "start_time": "2022-04-11T12:06:49.610Z"
   },
   {
    "duration": 170,
    "start_time": "2022-04-11T12:06:49.620Z"
   },
   {
    "duration": 17,
    "start_time": "2022-04-11T12:06:49.792Z"
   },
   {
    "duration": 172,
    "start_time": "2022-04-11T12:06:49.811Z"
   },
   {
    "duration": 10,
    "start_time": "2022-04-11T12:06:49.985Z"
   },
   {
    "duration": 283,
    "start_time": "2022-04-11T12:06:50.008Z"
   },
   {
    "duration": 19,
    "start_time": "2022-04-11T12:06:50.293Z"
   },
   {
    "duration": 193,
    "start_time": "2022-04-11T12:06:50.317Z"
   },
   {
    "duration": 306,
    "start_time": "2022-04-11T12:06:50.512Z"
   },
   {
    "duration": 9,
    "start_time": "2022-04-11T12:06:50.820Z"
   },
   {
    "duration": 240,
    "start_time": "2022-04-11T12:06:50.830Z"
   },
   {
    "duration": 10,
    "start_time": "2022-04-11T12:06:51.072Z"
   },
   {
    "duration": 316,
    "start_time": "2022-04-11T12:06:51.084Z"
   },
   {
    "duration": 12,
    "start_time": "2022-04-11T12:06:51.402Z"
   },
   {
    "duration": 159,
    "start_time": "2022-04-11T12:06:51.416Z"
   },
   {
    "duration": 133,
    "start_time": "2022-04-11T12:06:51.577Z"
   },
   {
    "duration": 192,
    "start_time": "2022-04-11T12:06:51.712Z"
   },
   {
    "duration": 269,
    "start_time": "2022-04-11T12:06:51.906Z"
   },
   {
    "duration": 222,
    "start_time": "2022-04-11T12:06:52.177Z"
   },
   {
    "duration": 158,
    "start_time": "2022-04-11T12:06:52.400Z"
   },
   {
    "duration": 130,
    "start_time": "2022-04-11T12:07:15.611Z"
   },
   {
    "duration": 2,
    "start_time": "2022-04-11T12:07:20.115Z"
   },
   {
    "duration": 132,
    "start_time": "2022-04-11T12:07:20.122Z"
   },
   {
    "duration": 20,
    "start_time": "2022-04-11T12:07:20.256Z"
   },
   {
    "duration": 46,
    "start_time": "2022-04-11T12:07:20.277Z"
   },
   {
    "duration": 9,
    "start_time": "2022-04-11T12:07:20.325Z"
   },
   {
    "duration": 10,
    "start_time": "2022-04-11T12:07:20.336Z"
   },
   {
    "duration": 5,
    "start_time": "2022-04-11T12:07:20.348Z"
   },
   {
    "duration": 7,
    "start_time": "2022-04-11T12:07:20.355Z"
   },
   {
    "duration": 98,
    "start_time": "2022-04-11T12:07:20.364Z"
   },
   {
    "duration": 7,
    "start_time": "2022-04-11T12:07:20.464Z"
   },
   {
    "duration": 485,
    "start_time": "2022-04-11T12:07:20.474Z"
   },
   {
    "duration": 5,
    "start_time": "2022-04-11T12:07:20.962Z"
   },
   {
    "duration": 10,
    "start_time": "2022-04-11T12:07:20.969Z"
   },
   {
    "duration": 44,
    "start_time": "2022-04-11T12:07:20.980Z"
   },
   {
    "duration": 327,
    "start_time": "2022-04-11T12:07:21.026Z"
   },
   {
    "duration": 5,
    "start_time": "2022-04-11T12:07:21.354Z"
   },
   {
    "duration": 10,
    "start_time": "2022-04-11T12:07:21.361Z"
   },
   {
    "duration": 200,
    "start_time": "2022-04-11T12:07:21.372Z"
   },
   {
    "duration": 11,
    "start_time": "2022-04-11T12:07:21.574Z"
   },
   {
    "duration": 179,
    "start_time": "2022-04-11T12:07:21.586Z"
   },
   {
    "duration": 9,
    "start_time": "2022-04-11T12:07:21.767Z"
   },
   {
    "duration": 275,
    "start_time": "2022-04-11T12:07:21.778Z"
   },
   {
    "duration": 10,
    "start_time": "2022-04-11T12:07:22.055Z"
   },
   {
    "duration": 191,
    "start_time": "2022-04-11T12:07:22.067Z"
   },
   {
    "duration": 10,
    "start_time": "2022-04-11T12:07:22.260Z"
   },
   {
    "duration": 201,
    "start_time": "2022-04-11T12:07:22.271Z"
   },
   {
    "duration": 9,
    "start_time": "2022-04-11T12:07:22.474Z"
   },
   {
    "duration": 182,
    "start_time": "2022-04-11T12:07:22.485Z"
   },
   {
    "duration": 10,
    "start_time": "2022-04-11T12:07:22.671Z"
   },
   {
    "duration": 199,
    "start_time": "2022-04-11T12:07:22.682Z"
   },
   {
    "duration": 9,
    "start_time": "2022-04-11T12:07:22.882Z"
   },
   {
    "duration": 154,
    "start_time": "2022-04-11T12:07:22.892Z"
   },
   {
    "duration": 10,
    "start_time": "2022-04-11T12:07:23.047Z"
   },
   {
    "duration": 197,
    "start_time": "2022-04-11T12:07:23.058Z"
   },
   {
    "duration": 10,
    "start_time": "2022-04-11T12:07:23.257Z"
   },
   {
    "duration": 509,
    "start_time": "2022-04-11T12:07:23.268Z"
   },
   {
    "duration": 125,
    "start_time": "2022-04-11T12:07:23.779Z"
   },
   {
    "duration": 11,
    "start_time": "2022-04-11T12:07:23.905Z"
   },
   {
    "duration": 186,
    "start_time": "2022-04-11T12:07:23.918Z"
   },
   {
    "duration": 158,
    "start_time": "2022-04-11T12:07:24.106Z"
   },
   {
    "duration": 3,
    "start_time": "2022-04-11T12:07:24.266Z"
   },
   {
    "duration": 125,
    "start_time": "2022-04-11T12:07:24.271Z"
   },
   {
    "duration": 30,
    "start_time": "2022-04-11T12:07:24.398Z"
   },
   {
    "duration": 119,
    "start_time": "2022-04-11T12:07:24.429Z"
   },
   {
    "duration": 118,
    "start_time": "2022-04-11T12:07:24.550Z"
   },
   {
    "duration": 23,
    "start_time": "2022-04-11T12:07:24.670Z"
   },
   {
    "duration": 105,
    "start_time": "2022-04-11T12:07:24.694Z"
   },
   {
    "duration": 114,
    "start_time": "2022-04-11T12:07:24.801Z"
   },
   {
    "duration": 20,
    "start_time": "2022-04-11T12:07:24.917Z"
   },
   {
    "duration": 109,
    "start_time": "2022-04-11T12:07:24.939Z"
   },
   {
    "duration": 188,
    "start_time": "2022-04-11T12:07:25.050Z"
   },
   {
    "duration": 22,
    "start_time": "2022-04-11T12:07:25.240Z"
   },
   {
    "duration": 122,
    "start_time": "2022-04-11T12:07:25.263Z"
   },
   {
    "duration": 104,
    "start_time": "2022-04-11T12:07:25.387Z"
   },
   {
    "duration": 29,
    "start_time": "2022-04-11T12:07:25.493Z"
   },
   {
    "duration": 112,
    "start_time": "2022-04-11T12:07:25.524Z"
   },
   {
    "duration": 115,
    "start_time": "2022-04-11T12:07:25.637Z"
   },
   {
    "duration": 21,
    "start_time": "2022-04-11T12:07:25.754Z"
   },
   {
    "duration": 109,
    "start_time": "2022-04-11T12:07:25.777Z"
   },
   {
    "duration": 30,
    "start_time": "2022-04-11T12:07:25.888Z"
   },
   {
    "duration": 148,
    "start_time": "2022-04-11T12:07:25.919Z"
   },
   {
    "duration": 176,
    "start_time": "2022-04-11T12:07:26.069Z"
   },
   {
    "duration": 233,
    "start_time": "2022-04-11T12:07:26.247Z"
   },
   {
    "duration": 175,
    "start_time": "2022-04-11T12:07:26.482Z"
   },
   {
    "duration": 115,
    "start_time": "2022-04-11T12:07:26.659Z"
   },
   {
    "duration": 35,
    "start_time": "2022-04-11T12:07:26.775Z"
   },
   {
    "duration": 7,
    "start_time": "2022-04-11T12:07:26.811Z"
   },
   {
    "duration": 169,
    "start_time": "2022-04-11T12:07:26.819Z"
   },
   {
    "duration": 7,
    "start_time": "2022-04-11T12:07:26.990Z"
   },
   {
    "duration": 11,
    "start_time": "2022-04-11T12:07:27.009Z"
   },
   {
    "duration": 145,
    "start_time": "2022-04-11T12:07:27.021Z"
   },
   {
    "duration": 8,
    "start_time": "2022-04-11T12:07:27.168Z"
   },
   {
    "duration": 159,
    "start_time": "2022-04-11T12:07:27.177Z"
   },
   {
    "duration": 8,
    "start_time": "2022-04-11T12:07:27.338Z"
   },
   {
    "duration": 178,
    "start_time": "2022-04-11T12:07:27.347Z"
   },
   {
    "duration": 10,
    "start_time": "2022-04-11T12:07:27.527Z"
   },
   {
    "duration": 173,
    "start_time": "2022-04-11T12:07:27.538Z"
   },
   {
    "duration": 10,
    "start_time": "2022-04-11T12:07:27.713Z"
   },
   {
    "duration": 173,
    "start_time": "2022-04-11T12:07:27.725Z"
   },
   {
    "duration": 16,
    "start_time": "2022-04-11T12:07:27.899Z"
   },
   {
    "duration": 194,
    "start_time": "2022-04-11T12:07:27.917Z"
   },
   {
    "duration": 9,
    "start_time": "2022-04-11T12:07:28.113Z"
   },
   {
    "duration": 209,
    "start_time": "2022-04-11T12:07:28.127Z"
   },
   {
    "duration": 294,
    "start_time": "2022-04-11T12:07:28.338Z"
   },
   {
    "duration": 8,
    "start_time": "2022-04-11T12:07:28.634Z"
   },
   {
    "duration": 235,
    "start_time": "2022-04-11T12:07:28.643Z"
   },
   {
    "duration": 9,
    "start_time": "2022-04-11T12:07:28.879Z"
   },
   {
    "duration": 398,
    "start_time": "2022-04-11T12:07:28.890Z"
   },
   {
    "duration": 20,
    "start_time": "2022-04-11T12:07:29.289Z"
   },
   {
    "duration": 148,
    "start_time": "2022-04-11T12:07:29.311Z"
   },
   {
    "duration": 132,
    "start_time": "2022-04-11T12:07:29.461Z"
   },
   {
    "duration": 187,
    "start_time": "2022-04-11T12:07:29.594Z"
   },
   {
    "duration": 173,
    "start_time": "2022-04-11T12:07:29.783Z"
   },
   {
    "duration": 222,
    "start_time": "2022-04-11T12:07:29.958Z"
   },
   {
    "duration": 160,
    "start_time": "2022-04-11T12:07:30.182Z"
   },
   {
    "duration": 3,
    "start_time": "2022-04-11T12:07:42.885Z"
   },
   {
    "duration": 2,
    "start_time": "2022-04-11T12:07:46.564Z"
   },
   {
    "duration": 132,
    "start_time": "2022-04-11T12:07:46.571Z"
   },
   {
    "duration": 15,
    "start_time": "2022-04-11T12:07:46.709Z"
   },
   {
    "duration": 21,
    "start_time": "2022-04-11T12:07:46.726Z"
   },
   {
    "duration": 9,
    "start_time": "2022-04-11T12:07:46.749Z"
   },
   {
    "duration": 50,
    "start_time": "2022-04-11T12:07:46.760Z"
   },
   {
    "duration": 6,
    "start_time": "2022-04-11T12:07:46.811Z"
   },
   {
    "duration": 8,
    "start_time": "2022-04-11T12:07:46.819Z"
   },
   {
    "duration": 86,
    "start_time": "2022-04-11T12:07:46.829Z"
   },
   {
    "duration": 9,
    "start_time": "2022-04-11T12:07:46.916Z"
   },
   {
    "duration": 598,
    "start_time": "2022-04-11T12:07:46.927Z"
   },
   {
    "duration": 5,
    "start_time": "2022-04-11T12:07:47.527Z"
   },
   {
    "duration": 6,
    "start_time": "2022-04-11T12:07:47.533Z"
   },
   {
    "duration": 32,
    "start_time": "2022-04-11T12:07:47.541Z"
   },
   {
    "duration": 346,
    "start_time": "2022-04-11T12:07:47.575Z"
   },
   {
    "duration": 4,
    "start_time": "2022-04-11T12:07:47.923Z"
   },
   {
    "duration": 10,
    "start_time": "2022-04-11T12:07:47.929Z"
   },
   {
    "duration": 196,
    "start_time": "2022-04-11T12:07:47.940Z"
   },
   {
    "duration": 10,
    "start_time": "2022-04-11T12:07:48.137Z"
   },
   {
    "duration": 182,
    "start_time": "2022-04-11T12:07:48.148Z"
   },
   {
    "duration": 10,
    "start_time": "2022-04-11T12:07:48.332Z"
   },
   {
    "duration": 199,
    "start_time": "2022-04-11T12:07:48.344Z"
   },
   {
    "duration": 10,
    "start_time": "2022-04-11T12:07:48.544Z"
   },
   {
    "duration": 194,
    "start_time": "2022-04-11T12:07:48.556Z"
   },
   {
    "duration": 9,
    "start_time": "2022-04-11T12:07:48.752Z"
   },
   {
    "duration": 199,
    "start_time": "2022-04-11T12:07:48.763Z"
   },
   {
    "duration": 10,
    "start_time": "2022-04-11T12:07:48.964Z"
   },
   {
    "duration": 195,
    "start_time": "2022-04-11T12:07:48.976Z"
   },
   {
    "duration": 11,
    "start_time": "2022-04-11T12:07:49.177Z"
   },
   {
    "duration": 202,
    "start_time": "2022-04-11T12:07:49.190Z"
   },
   {
    "duration": 19,
    "start_time": "2022-04-11T12:07:49.394Z"
   },
   {
    "duration": 232,
    "start_time": "2022-04-11T12:07:49.414Z"
   },
   {
    "duration": 9,
    "start_time": "2022-04-11T12:07:49.648Z"
   },
   {
    "duration": 205,
    "start_time": "2022-04-11T12:07:49.659Z"
   },
   {
    "duration": 10,
    "start_time": "2022-04-11T12:07:49.866Z"
   },
   {
    "duration": 419,
    "start_time": "2022-04-11T12:07:49.877Z"
   },
   {
    "duration": 122,
    "start_time": "2022-04-11T12:07:50.298Z"
   },
   {
    "duration": 10,
    "start_time": "2022-04-11T12:07:50.421Z"
   },
   {
    "duration": 192,
    "start_time": "2022-04-11T12:07:50.432Z"
   },
   {
    "duration": 161,
    "start_time": "2022-04-11T12:07:50.625Z"
   },
   {
    "duration": 4,
    "start_time": "2022-04-11T12:07:50.788Z"
   },
   {
    "duration": 128,
    "start_time": "2022-04-11T12:07:50.793Z"
   },
   {
    "duration": 112,
    "start_time": "2022-04-11T12:07:50.923Z"
   },
   {
    "duration": 120,
    "start_time": "2022-04-11T12:07:51.037Z"
   },
   {
    "duration": 111,
    "start_time": "2022-04-11T12:07:51.159Z"
   },
   {
    "duration": 21,
    "start_time": "2022-04-11T12:07:51.272Z"
   },
   {
    "duration": 124,
    "start_time": "2022-04-11T12:07:51.295Z"
   },
   {
    "duration": 116,
    "start_time": "2022-04-11T12:07:51.421Z"
   },
   {
    "duration": 22,
    "start_time": "2022-04-11T12:07:51.538Z"
   },
   {
    "duration": 109,
    "start_time": "2022-04-11T12:07:51.561Z"
   },
   {
    "duration": 101,
    "start_time": "2022-04-11T12:07:51.672Z"
   },
   {
    "duration": 22,
    "start_time": "2022-04-11T12:07:51.774Z"
   },
   {
    "duration": 111,
    "start_time": "2022-04-11T12:07:51.808Z"
   },
   {
    "duration": 106,
    "start_time": "2022-04-11T12:07:51.920Z"
   },
   {
    "duration": 21,
    "start_time": "2022-04-11T12:07:52.027Z"
   },
   {
    "duration": 118,
    "start_time": "2022-04-11T12:07:52.049Z"
   },
   {
    "duration": 111,
    "start_time": "2022-04-11T12:07:52.169Z"
   },
   {
    "duration": 29,
    "start_time": "2022-04-11T12:07:52.282Z"
   },
   {
    "duration": 104,
    "start_time": "2022-04-11T12:07:52.313Z"
   },
   {
    "duration": 26,
    "start_time": "2022-04-11T12:07:52.418Z"
   },
   {
    "duration": 147,
    "start_time": "2022-04-11T12:07:52.445Z"
   },
   {
    "duration": 178,
    "start_time": "2022-04-11T12:07:52.593Z"
   },
   {
    "duration": 329,
    "start_time": "2022-04-11T12:07:52.772Z"
   },
   {
    "duration": 181,
    "start_time": "2022-04-11T12:07:53.102Z"
   },
   {
    "duration": 34,
    "start_time": "2022-04-11T12:07:53.284Z"
   },
   {
    "duration": 20,
    "start_time": "2022-04-11T12:07:53.319Z"
   },
   {
    "duration": 7,
    "start_time": "2022-04-11T12:07:53.341Z"
   },
   {
    "duration": 181,
    "start_time": "2022-04-11T12:07:53.349Z"
   },
   {
    "duration": 8,
    "start_time": "2022-04-11T12:07:53.532Z"
   },
   {
    "duration": 12,
    "start_time": "2022-04-11T12:07:53.541Z"
   },
   {
    "duration": 154,
    "start_time": "2022-04-11T12:07:53.554Z"
   },
   {
    "duration": 9,
    "start_time": "2022-04-11T12:07:53.710Z"
   },
   {
    "duration": 161,
    "start_time": "2022-04-11T12:07:53.720Z"
   },
   {
    "duration": 9,
    "start_time": "2022-04-11T12:07:53.883Z"
   },
   {
    "duration": 166,
    "start_time": "2022-04-11T12:07:53.893Z"
   },
   {
    "duration": 7,
    "start_time": "2022-04-11T12:07:54.061Z"
   },
   {
    "duration": 178,
    "start_time": "2022-04-11T12:07:54.070Z"
   },
   {
    "duration": 8,
    "start_time": "2022-04-11T12:07:54.250Z"
   },
   {
    "duration": 170,
    "start_time": "2022-04-11T12:07:54.260Z"
   },
   {
    "duration": 8,
    "start_time": "2022-04-11T12:07:54.431Z"
   },
   {
    "duration": 187,
    "start_time": "2022-04-11T12:07:54.441Z"
   },
   {
    "duration": 7,
    "start_time": "2022-04-11T12:07:54.630Z"
   },
   {
    "duration": 207,
    "start_time": "2022-04-11T12:07:54.643Z"
   },
   {
    "duration": 405,
    "start_time": "2022-04-11T12:07:54.852Z"
   },
   {
    "duration": 9,
    "start_time": "2022-04-11T12:07:55.258Z"
   },
   {
    "duration": 242,
    "start_time": "2022-04-11T12:07:55.269Z"
   },
   {
    "duration": 8,
    "start_time": "2022-04-11T12:07:55.513Z"
   },
   {
    "duration": 318,
    "start_time": "2022-04-11T12:07:55.523Z"
   },
   {
    "duration": 11,
    "start_time": "2022-04-11T12:07:55.843Z"
   },
   {
    "duration": 162,
    "start_time": "2022-04-11T12:07:55.855Z"
   },
   {
    "duration": 147,
    "start_time": "2022-04-11T12:07:56.018Z"
   },
   {
    "duration": 203,
    "start_time": "2022-04-11T12:07:56.167Z"
   },
   {
    "duration": 170,
    "start_time": "2022-04-11T12:07:56.372Z"
   },
   {
    "duration": 319,
    "start_time": "2022-04-11T12:07:56.544Z"
   },
   {
    "duration": 161,
    "start_time": "2022-04-11T12:07:56.865Z"
   },
   {
    "duration": 3,
    "start_time": "2022-04-11T12:15:03.305Z"
   },
   {
    "duration": 190,
    "start_time": "2022-04-11T12:15:03.311Z"
   },
   {
    "duration": 13,
    "start_time": "2022-04-11T12:15:03.508Z"
   },
   {
    "duration": 20,
    "start_time": "2022-04-11T12:15:03.523Z"
   },
   {
    "duration": 8,
    "start_time": "2022-04-11T12:15:03.545Z"
   },
   {
    "duration": 15,
    "start_time": "2022-04-11T12:15:03.555Z"
   },
   {
    "duration": 40,
    "start_time": "2022-04-11T12:15:03.571Z"
   },
   {
    "duration": 15,
    "start_time": "2022-04-11T12:15:03.613Z"
   },
   {
    "duration": 87,
    "start_time": "2022-04-11T12:15:03.630Z"
   },
   {
    "duration": 8,
    "start_time": "2022-04-11T12:15:03.719Z"
   },
   {
    "duration": 457,
    "start_time": "2022-04-11T12:15:03.730Z"
   },
   {
    "duration": 5,
    "start_time": "2022-04-11T12:15:04.189Z"
   },
   {
    "duration": 14,
    "start_time": "2022-04-11T12:15:04.195Z"
   },
   {
    "duration": 33,
    "start_time": "2022-04-11T12:15:04.210Z"
   },
   {
    "duration": 318,
    "start_time": "2022-04-11T12:15:04.245Z"
   },
   {
    "duration": 5,
    "start_time": "2022-04-11T12:15:04.565Z"
   },
   {
    "duration": 11,
    "start_time": "2022-04-11T12:15:04.572Z"
   },
   {
    "duration": 195,
    "start_time": "2022-04-11T12:15:04.585Z"
   },
   {
    "duration": 9,
    "start_time": "2022-04-11T12:15:04.782Z"
   },
   {
    "duration": 185,
    "start_time": "2022-04-11T12:15:04.793Z"
   },
   {
    "duration": 10,
    "start_time": "2022-04-11T12:15:04.979Z"
   },
   {
    "duration": 189,
    "start_time": "2022-04-11T12:15:04.990Z"
   },
   {
    "duration": 10,
    "start_time": "2022-04-11T12:15:05.181Z"
   },
   {
    "duration": 194,
    "start_time": "2022-04-11T12:15:05.192Z"
   },
   {
    "duration": 9,
    "start_time": "2022-04-11T12:15:05.388Z"
   },
   {
    "duration": 291,
    "start_time": "2022-04-11T12:15:05.398Z"
   },
   {
    "duration": 20,
    "start_time": "2022-04-11T12:15:05.691Z"
   },
   {
    "duration": 186,
    "start_time": "2022-04-11T12:15:05.713Z"
   },
   {
    "duration": 11,
    "start_time": "2022-04-11T12:15:05.911Z"
   },
   {
    "duration": 197,
    "start_time": "2022-04-11T12:15:05.924Z"
   },
   {
    "duration": 9,
    "start_time": "2022-04-11T12:15:06.122Z"
   },
   {
    "duration": 159,
    "start_time": "2022-04-11T12:15:06.133Z"
   },
   {
    "duration": 15,
    "start_time": "2022-04-11T12:15:06.294Z"
   },
   {
    "duration": 204,
    "start_time": "2022-04-11T12:15:06.311Z"
   },
   {
    "duration": 11,
    "start_time": "2022-04-11T12:15:06.517Z"
   },
   {
    "duration": 430,
    "start_time": "2022-04-11T12:15:06.530Z"
   },
   {
    "duration": 214,
    "start_time": "2022-04-11T12:15:06.962Z"
   },
   {
    "duration": 11,
    "start_time": "2022-04-11T12:15:07.178Z"
   },
   {
    "duration": 195,
    "start_time": "2022-04-11T12:15:07.190Z"
   },
   {
    "duration": 165,
    "start_time": "2022-04-11T12:15:07.387Z"
   },
   {
    "duration": 3,
    "start_time": "2022-04-11T12:15:07.554Z"
   },
   {
    "duration": 128,
    "start_time": "2022-04-11T12:15:07.559Z"
   },
   {
    "duration": 36,
    "start_time": "2022-04-11T12:15:07.689Z"
   },
   {
    "duration": 122,
    "start_time": "2022-04-11T12:15:07.728Z"
   },
   {
    "duration": 123,
    "start_time": "2022-04-11T12:15:07.852Z"
   },
   {
    "duration": 32,
    "start_time": "2022-04-11T12:15:07.977Z"
   },
   {
    "duration": 107,
    "start_time": "2022-04-11T12:15:08.010Z"
   },
   {
    "duration": 124,
    "start_time": "2022-04-11T12:15:08.120Z"
   },
   {
    "duration": 24,
    "start_time": "2022-04-11T12:15:08.246Z"
   },
   {
    "duration": 117,
    "start_time": "2022-04-11T12:15:08.272Z"
   },
   {
    "duration": 106,
    "start_time": "2022-04-11T12:15:08.391Z"
   },
   {
    "duration": 32,
    "start_time": "2022-04-11T12:15:08.499Z"
   },
   {
    "duration": 121,
    "start_time": "2022-04-11T12:15:08.533Z"
   },
   {
    "duration": 208,
    "start_time": "2022-04-11T12:15:08.656Z"
   },
   {
    "duration": 24,
    "start_time": "2022-04-11T12:15:08.866Z"
   },
   {
    "duration": 112,
    "start_time": "2022-04-11T12:15:08.908Z"
   },
   {
    "duration": 123,
    "start_time": "2022-04-11T12:15:09.022Z"
   },
   {
    "duration": 24,
    "start_time": "2022-04-11T12:15:09.147Z"
   },
   {
    "duration": 108,
    "start_time": "2022-04-11T12:15:09.173Z"
   },
   {
    "duration": 33,
    "start_time": "2022-04-11T12:15:09.283Z"
   },
   {
    "duration": 151,
    "start_time": "2022-04-11T12:15:09.318Z"
   },
   {
    "duration": 194,
    "start_time": "2022-04-11T12:15:09.470Z"
   },
   {
    "duration": 250,
    "start_time": "2022-04-11T12:15:09.665Z"
   },
   {
    "duration": 184,
    "start_time": "2022-04-11T12:15:09.917Z"
   },
   {
    "duration": 26,
    "start_time": "2022-04-11T12:15:10.103Z"
   },
   {
    "duration": 19,
    "start_time": "2022-04-11T12:15:10.131Z"
   },
   {
    "duration": 7,
    "start_time": "2022-04-11T12:15:10.152Z"
   },
   {
    "duration": 197,
    "start_time": "2022-04-11T12:15:10.161Z"
   },
   {
    "duration": 7,
    "start_time": "2022-04-11T12:15:10.360Z"
   },
   {
    "duration": 10,
    "start_time": "2022-04-11T12:15:10.369Z"
   },
   {
    "duration": 156,
    "start_time": "2022-04-11T12:15:10.381Z"
   },
   {
    "duration": 8,
    "start_time": "2022-04-11T12:15:10.539Z"
   },
   {
    "duration": 276,
    "start_time": "2022-04-11T12:15:10.549Z"
   },
   {
    "duration": 8,
    "start_time": "2022-04-11T12:15:10.827Z"
   },
   {
    "duration": 173,
    "start_time": "2022-04-11T12:15:10.837Z"
   },
   {
    "duration": 10,
    "start_time": "2022-04-11T12:15:11.012Z"
   },
   {
    "duration": 184,
    "start_time": "2022-04-11T12:15:11.024Z"
   },
   {
    "duration": 10,
    "start_time": "2022-04-11T12:15:11.210Z"
   },
   {
    "duration": 173,
    "start_time": "2022-04-11T12:15:11.221Z"
   },
   {
    "duration": 16,
    "start_time": "2022-04-11T12:15:11.395Z"
   },
   {
    "duration": 187,
    "start_time": "2022-04-11T12:15:11.412Z"
   },
   {
    "duration": 14,
    "start_time": "2022-04-11T12:15:11.601Z"
   },
   {
    "duration": 203,
    "start_time": "2022-04-11T12:15:11.621Z"
   },
   {
    "duration": 316,
    "start_time": "2022-04-11T12:15:11.825Z"
   },
   {
    "duration": 10,
    "start_time": "2022-04-11T12:15:12.143Z"
   },
   {
    "duration": 247,
    "start_time": "2022-04-11T12:15:12.154Z"
   },
   {
    "duration": 11,
    "start_time": "2022-04-11T12:15:12.403Z"
   },
   {
    "duration": 436,
    "start_time": "2022-04-11T12:15:12.416Z"
   },
   {
    "duration": 10,
    "start_time": "2022-04-11T12:15:12.854Z"
   },
   {
    "duration": 173,
    "start_time": "2022-04-11T12:15:12.865Z"
   },
   {
    "duration": 140,
    "start_time": "2022-04-11T12:15:13.039Z"
   },
   {
    "duration": 194,
    "start_time": "2022-04-11T12:15:13.181Z"
   },
   {
    "duration": 183,
    "start_time": "2022-04-11T12:15:13.377Z"
   },
   {
    "duration": 230,
    "start_time": "2022-04-11T12:15:13.561Z"
   },
   {
    "duration": 168,
    "start_time": "2022-04-11T12:15:13.793Z"
   },
   {
    "duration": 94,
    "start_time": "2022-04-11T12:15:53.730Z"
   },
   {
    "duration": 392,
    "start_time": "2022-04-11T12:17:07.643Z"
   },
   {
    "duration": 241,
    "start_time": "2022-04-11T12:17:14.954Z"
   }
  ],
  "kernelspec": {
   "display_name": "Python 3 (ipykernel)",
   "language": "python",
   "name": "python3"
  },
  "language_info": {
   "codemirror_mode": {
    "name": "ipython",
    "version": 3
   },
   "file_extension": ".py",
   "mimetype": "text/x-python",
   "name": "python",
   "nbconvert_exporter": "python",
   "pygments_lexer": "ipython3",
   "version": "3.9.5"
  },
  "toc": {
   "base_numbering": 1,
   "nav_menu": {},
   "number_sections": true,
   "sideBar": true,
   "skip_h1_title": true,
   "title_cell": "Содержание",
   "title_sidebar": "Contents",
   "toc_cell": true,
   "toc_position": {
    "height": "calc(100% - 180px)",
    "left": "10px",
    "top": "150px",
    "width": "203px"
   },
   "toc_section_display": true,
   "toc_window_display": true
  }
 },
 "nbformat": 4,
 "nbformat_minor": 2
}
