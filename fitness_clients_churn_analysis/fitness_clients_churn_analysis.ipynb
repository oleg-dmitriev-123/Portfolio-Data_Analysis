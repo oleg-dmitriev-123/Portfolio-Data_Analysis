{
 "cells": [
  {
   "cell_type": "markdown",
   "id": "ee8cc792",
   "metadata": {},
   "source": [
    "# Анализ оттока клиентов фитнес-центра"
   ]
  },
  {
   "cell_type": "markdown",
   "id": "9998dc70",
   "metadata": {
    "toc": true
   },
   "source": [
    "<h1>Оглавление<span class=\"tocSkip\"></span></h1>\n",
    "<div class=\"toc\"><ul class=\"toc-item\"><li><span><a href=\"#Описание-проекта\" data-toc-modified-id=\"Описание-проекта-1\"><span class=\"toc-item-num\">1&nbsp;&nbsp;</span>Описание проекта</a></span><ul class=\"toc-item\"><li><span><a href=\"#Описание-данных\" data-toc-modified-id=\"Описание-данных-1.1\"><span class=\"toc-item-num\">1.1&nbsp;&nbsp;</span>Описание данных</a></span></li></ul></li><li><span><a href=\"#Материалы\" data-toc-modified-id=\"Материалы-2\"><span class=\"toc-item-num\">2&nbsp;&nbsp;</span>Материалы</a></span></li><li><span><a href=\"#Настройка-окружения\" data-toc-modified-id=\"Настройка-окружения-3\"><span class=\"toc-item-num\">3&nbsp;&nbsp;</span>Настройка окружения</a></span></li><li><span><a href=\"#Загрузка-данных\" data-toc-modified-id=\"Загрузка-данных-4\"><span class=\"toc-item-num\">4&nbsp;&nbsp;</span>Загрузка данных</a></span></li><li><span><a href=\"#Исследовательский-анализ-данных-(EDA)\" data-toc-modified-id=\"Исследовательский-анализ-данных-(EDA)-5\"><span class=\"toc-item-num\">5&nbsp;&nbsp;</span>Исследовательский анализ данных (EDA)</a></span><ul class=\"toc-item\"><li><span><a href=\"#Изучение-датасета\" data-toc-modified-id=\"Изучение-датасета-5.1\"><span class=\"toc-item-num\">5.1&nbsp;&nbsp;</span>Изучение датасета</a></span><ul class=\"toc-item\"><li><span><a href=\"#Вывод\" data-toc-modified-id=\"Вывод-5.1.1\"><span class=\"toc-item-num\">5.1.1&nbsp;&nbsp;</span>Вывод</a></span></li></ul></li><li><span><a href=\"#Средние-значения-признаков-в-двух-группах-—-тех,-кто-ушел-в-отток-и-тех,-кто-остался\" data-toc-modified-id=\"Средние-значения-признаков-в-двух-группах-—-тех,-кто-ушел-в-отток-и-тех,-кто-остался-5.2\"><span class=\"toc-item-num\">5.2&nbsp;&nbsp;</span>Средние значения признаков в двух группах — тех, кто ушел в отток и тех, кто остался</a></span><ul class=\"toc-item\"><li><span><a href=\"#Вывод\" data-toc-modified-id=\"Вывод-5.2.1\"><span class=\"toc-item-num\">5.2.1&nbsp;&nbsp;</span>Вывод</a></span></li></ul></li><li><span><a href=\"#Построение-столбчатых-гистограмм-и-распределений-признаков-для-тех,-кто-ушёл-(отток)-и-тех,-кто-остался-(не-попали-в-отток)\" data-toc-modified-id=\"Построение-столбчатых-гистограмм-и-распределений-признаков-для-тех,-кто-ушёл-(отток)-и-тех,-кто-остался-(не-попали-в-отток)-5.3\"><span class=\"toc-item-num\">5.3&nbsp;&nbsp;</span>Построение столбчатых гистограмм и распределений признаков для тех, кто ушёл (отток) и тех, кто остался (не попали в отток)</a></span><ul class=\"toc-item\"><li><span><a href=\"#Вывод\" data-toc-modified-id=\"Вывод-5.3.1\"><span class=\"toc-item-num\">5.3.1&nbsp;&nbsp;</span>Вывод</a></span></li></ul></li><li><span><a href=\"#Построение-матрицы-корреляций\" data-toc-modified-id=\"Построение-матрицы-корреляций-5.4\"><span class=\"toc-item-num\">5.4&nbsp;&nbsp;</span>Построение матрицы корреляций</a></span><ul class=\"toc-item\"><li><span><a href=\"#Вывод\" data-toc-modified-id=\"Вывод-5.4.1\"><span class=\"toc-item-num\">5.4.1&nbsp;&nbsp;</span>Вывод</a></span></li></ul></li></ul></li><li><span><a href=\"#Построение-модели-прогнозирования-оттока-клиентов\" data-toc-modified-id=\"Построение-модели-прогнозирования-оттока-клиентов-6\"><span class=\"toc-item-num\">6&nbsp;&nbsp;</span>Построение модели прогнозирования оттока клиентов</a></span><ul class=\"toc-item\"><li><span><a href=\"#Избавление-от-мультиколлинеарности\" data-toc-modified-id=\"Избавление-от-мультиколлинеарности-6.1\"><span class=\"toc-item-num\">6.1&nbsp;&nbsp;</span>Избавление от мультиколлинеарности</a></span></li><li><span><a href=\"#Разбиение-данных-на-обучающую-и-валидационную-выборку\" data-toc-modified-id=\"Разбиение-данных-на-обучающую-и-валидационную-выборку-6.2\"><span class=\"toc-item-num\">6.2&nbsp;&nbsp;</span>Разбиение данных на обучающую и валидационную выборку</a></span></li><li><span><a href=\"#Нормализация-и-стандартизация-данных\" data-toc-modified-id=\"Нормализация-и-стандартизация-данных-6.3\"><span class=\"toc-item-num\">6.3&nbsp;&nbsp;</span>Нормализация и стандартизация данных</a></span></li><li><span><a href=\"#Обучение-модели-по-методу-&quot;Logistic-Regression&quot;\" data-toc-modified-id=\"Обучение-модели-по-методу-&quot;Logistic-Regression&quot;-6.4\"><span class=\"toc-item-num\">6.4&nbsp;&nbsp;</span>Обучение модели по методу \"Logistic Regression\"</a></span></li><li><span><a href=\"#Обучение-модели-по-методу-&quot;Random-Forest&quot;\" data-toc-modified-id=\"Обучение-модели-по-методу-&quot;Random-Forest&quot;-6.5\"><span class=\"toc-item-num\">6.5&nbsp;&nbsp;</span>Обучение модели по методу \"Random Forest\"</a></span></li><li><span><a href=\"#Сравнение-моделей-по-метрикам--accuracy,-precision-и-recall\" data-toc-modified-id=\"Сравнение-моделей-по-метрикам--accuracy,-precision-и-recall-6.6\"><span class=\"toc-item-num\">6.6&nbsp;&nbsp;</span>Сравнение моделей по метрикам  accuracy, precision и recall</a></span><ul class=\"toc-item\"><li><span><a href=\"#Вывод\" data-toc-modified-id=\"Вывод-6.6.1\"><span class=\"toc-item-num\">6.6.1&nbsp;&nbsp;</span>Вывод</a></span></li></ul></li></ul></li><li><span><a href=\"#Кластеризация-клиентов\" data-toc-modified-id=\"Кластеризация-клиентов-7\"><span class=\"toc-item-num\">7&nbsp;&nbsp;</span>Кластеризация клиентов</a></span><ul class=\"toc-item\"><li><span><a href=\"#Построение-матрицы-расстояний\" data-toc-modified-id=\"Построение-матрицы-расстояний-7.1\"><span class=\"toc-item-num\">7.1&nbsp;&nbsp;</span>Построение матрицы расстояний</a></span><ul class=\"toc-item\"><li><span><a href=\"#Вывод\" data-toc-modified-id=\"Вывод-7.1.1\"><span class=\"toc-item-num\">7.1.1&nbsp;&nbsp;</span>Вывод</a></span></li></ul></li><li><span><a href=\"#Кластеризация-на-основании-алгоритма-K-Means\" data-toc-modified-id=\"Кластеризация-на-основании-алгоритма-K-Means-7.2\"><span class=\"toc-item-num\">7.2&nbsp;&nbsp;</span>Кластеризация на основании алгоритма K-Means</a></span><ul class=\"toc-item\"><li><span><a href=\"#Вывод\" data-toc-modified-id=\"Вывод-7.2.1\"><span class=\"toc-item-num\">7.2.1&nbsp;&nbsp;</span>Вывод</a></span></li></ul></li><li><span><a href=\"#Построение-распределения-признаков-для-кластеров\" data-toc-modified-id=\"Построение-распределения-признаков-для-кластеров-7.3\"><span class=\"toc-item-num\">7.3&nbsp;&nbsp;</span>Построение распределения признаков для кластеров</a></span><ul class=\"toc-item\"><li><span><a href=\"#Вывод\" data-toc-modified-id=\"Вывод-7.3.1\"><span class=\"toc-item-num\">7.3.1&nbsp;&nbsp;</span>Вывод</a></span></li></ul></li><li><span><a href=\"#Описание-профиля-каждого-кластера\" data-toc-modified-id=\"Описание-профиля-каждого-кластера-7.4\"><span class=\"toc-item-num\">7.4&nbsp;&nbsp;</span>Описание профиля каждого кластера</a></span></li><li><span><a href=\"#Основные-выводы\" data-toc-modified-id=\"Основные-выводы-7.5\"><span class=\"toc-item-num\">7.5&nbsp;&nbsp;</span>Основные выводы</a></span><ul class=\"toc-item\"><li><span><a href=\"#Вывод-№1\" data-toc-modified-id=\"Вывод-№1-7.5.1\"><span class=\"toc-item-num\">7.5.1&nbsp;&nbsp;</span>Вывод №1</a></span></li><li><span><a href=\"#Вывод-№2\" data-toc-modified-id=\"Вывод-№2-7.5.2\"><span class=\"toc-item-num\">7.5.2&nbsp;&nbsp;</span>Вывод №2</a></span></li><li><span><a href=\"#Вывод-№3\" data-toc-modified-id=\"Вывод-№3-7.5.3\"><span class=\"toc-item-num\">7.5.3&nbsp;&nbsp;</span>Вывод №3</a></span></li><li><span><a href=\"#Вывод-№4\" data-toc-modified-id=\"Вывод-№4-7.5.4\"><span class=\"toc-item-num\">7.5.4&nbsp;&nbsp;</span>Вывод №4</a></span></li><li><span><a href=\"#Вывод-№5\" data-toc-modified-id=\"Вывод-№5-7.5.5\"><span class=\"toc-item-num\">7.5.5&nbsp;&nbsp;</span>Вывод №5</a></span></li></ul></li><li><span><a href=\"#Рекомендации\" data-toc-modified-id=\"Рекомендации-7.6\"><span class=\"toc-item-num\">7.6&nbsp;&nbsp;</span>Рекомендации</a></span></li></ul></li></ul></div>"
   ]
  },
  {
   "cell_type": "markdown",
   "id": "4cbc62ee",
   "metadata": {},
   "source": [
    "## Описание проекта\n",
    "\n",
    "Сеть фитнес-центров «Культурист-датасаентист» разрабатывает стратегию взаимодействия с клиентами на основе аналитических данных. Необходимо провести анализ и подготовить план действий по удержанию клиентов."
   ]
  },
  {
   "cell_type": "markdown",
   "id": "2477345e",
   "metadata": {},
   "source": [
    "### Описание данных\n",
    "\n",
    "Данные клиента за предыдущий до проверки факта оттока месяц:\n",
    "\n",
    "Имя переменной | Описание данных\n",
    "---|---\n",
    "gender | пол\n",
    "Near_Location | проживание или работа в районе, где находится фитнес-центр\n",
    "Partner | сотрудник компании-партнёра клуба (сотрудничество с компаниями, чьи сотрудники могут получать скидки на абонемент — в таком случае фитнес-центр хранит информацию о работодателе клиента)\n",
    "Promo_friends | факт первоначальной записи в рамках акции «приведи друга» (использовал промо-код от знакомого при оплате первого абонемента)\n",
    "Phone | наличие контактного телефона\n",
    "Age | возраст\n",
    "Lifetime | время с момента первого обращения в фитнес-центр (в месяцах)\n",
    "\n",
    "Информация на основе журнала посещений, покупок и информация о текущем статусе абонемента клиента:\n",
    "\n",
    "Имя переменной | Описание данных\n",
    "---|---\n",
    "Contract_period | длительность текущего действующего абонемента (месяц, 6 месяцев, год)\n",
    "Month_to_end_contract | срок до окончания текущего действующего абонемента (в месяцах)\n",
    "Group_visits | факт посещения групповых занятий\n",
    "Avg_class_frequency_total | средняя частота посещений в неделю за все время с начала действия абонемента\n",
    "Avg_class_frequency_current_month | средняя частота посещений в неделю за предыдущий месяц\n",
    "Avg_additional_charges_total | суммарная выручка от других услуг фитнес-центра: кафе, спорттовары, косметический и массажный салон\n",
    "\n",
    "Имя переменной | Описание данных\n",
    "---|---\n",
    "Churn |факт оттока в текущем месяце"
   ]
  },
  {
   "cell_type": "markdown",
   "id": "3cecec0e",
   "metadata": {},
   "source": [
    "## Материалы\n",
    "\n",
    "[Презентация с результатами исследования](https://drive.google.com/file/d/1gbyV1XKQjFBrQo6Ims-nbZVsJdiehlo4/view?usp=sharing)"
   ]
  },
  {
   "cell_type": "markdown",
   "id": "305e3eb1",
   "metadata": {},
   "source": [
    "## Настройка окружения"
   ]
  },
  {
   "cell_type": "code",
   "execution_count": 26,
   "id": "3f997763",
   "metadata": {},
   "outputs": [],
   "source": [
    "# отключаю предупреждение anaconda\n",
    "import warnings\n",
    "warnings.simplefilter('ignore')\n",
    "\n",
    "import pandas as pd\n",
    "\n",
    "from sklearn.model_selection import train_test_split\n",
    "from sklearn.linear_model import LogisticRegression\n",
    "from sklearn.ensemble import RandomForestClassifier\n",
    "from sklearn.metrics import accuracy_score, precision_score, recall_score\n",
    "from sklearn.preprocessing import StandardScaler\n",
    "from scipy.cluster.hierarchy import dendrogram, linkage \n",
    "from sklearn.cluster import KMeans\n",
    "\n",
    "# настройка отображения графика\n",
    "import seaborn as sns\n",
    "import matplotlib\n",
    "import matplotlib.pyplot as plt\n",
    "matplotlib.style.use('ggplot')\n",
    "\n"
   ]
  },
  {
   "cell_type": "markdown",
   "id": "daa2f87b",
   "metadata": {},
   "source": [
    "## Загрузка данных"
   ]
  },
  {
   "cell_type": "code",
   "execution_count": 27,
   "id": "c73b537c",
   "metadata": {},
   "outputs": [],
   "source": [
    "try:\n",
    "    df = pd.read_csv('gym_churn.csv')\n",
    "except:\n",
    "    df = pd.read_csv('/datasets/gym_churn.csv')"
   ]
  },
  {
   "cell_type": "markdown",
   "id": "c281b981",
   "metadata": {},
   "source": [
    "## Исследовательский анализ данных (EDA)"
   ]
  },
  {
   "cell_type": "markdown",
   "id": "25732973",
   "metadata": {},
   "source": [
    "### Изучение датасета"
   ]
  },
  {
   "cell_type": "code",
   "execution_count": 28,
   "id": "34beac45",
   "metadata": {
    "scrolled": true
   },
   "outputs": [
    {
     "name": "stdout",
     "output_type": "stream",
     "text": [
      "<class 'pandas.core.frame.DataFrame'>\n",
      "RangeIndex: 4000 entries, 0 to 3999\n",
      "Data columns (total 14 columns):\n",
      " #   Column                             Non-Null Count  Dtype  \n",
      "---  ------                             --------------  -----  \n",
      " 0   gender                             4000 non-null   int64  \n",
      " 1   Near_Location                      4000 non-null   int64  \n",
      " 2   Partner                            4000 non-null   int64  \n",
      " 3   Promo_friends                      4000 non-null   int64  \n",
      " 4   Phone                              4000 non-null   int64  \n",
      " 5   Contract_period                    4000 non-null   int64  \n",
      " 6   Group_visits                       4000 non-null   int64  \n",
      " 7   Age                                4000 non-null   int64  \n",
      " 8   Avg_additional_charges_total       4000 non-null   float64\n",
      " 9   Month_to_end_contract              4000 non-null   float64\n",
      " 10  Lifetime                           4000 non-null   int64  \n",
      " 11  Avg_class_frequency_total          4000 non-null   float64\n",
      " 12  Avg_class_frequency_current_month  4000 non-null   float64\n",
      " 13  Churn                              4000 non-null   int64  \n",
      "dtypes: float64(4), int64(10)\n",
      "memory usage: 437.6 KB\n"
     ]
    }
   ],
   "source": [
    "df.info()"
   ]
  },
  {
   "cell_type": "code",
   "execution_count": 29,
   "id": "c5939130",
   "metadata": {},
   "outputs": [],
   "source": [
    "# признаки Contract_period, Age, Avg_class_frequency_total, Month_to_end_contract, Lifetime, \n",
    "# Avg_class_frequency_total, Avg_class_frequency_current_month\n",
    "# являются количественными:\n",
    "quant_signs = ['Contract_period', 'Age', 'Avg_additional_charges_total', 'Month_to_end_contract', 'Lifetime', 'Avg_class_frequency_total', 'Avg_class_frequency_current_month']\n",
    "\n",
    "# признаки gender, Near_Location, Partner, Promo_friends, Phone, Group_visits, Churn\n",
    "# являются качественными:\n",
    "qualit_signs = ['gender', 'Near_Location', 'Partner', 'Promo_friends', 'Phone', 'Group_visits', 'Churn']\n"
   ]
  },
  {
   "cell_type": "code",
   "execution_count": 30,
   "id": "75d7b9cd",
   "metadata": {
    "scrolled": true
   },
   "outputs": [
    {
     "name": "stdout",
     "output_type": "stream",
     "text": [
      "Кол-во явных дубликатов в таблице:\n",
      "0\n",
      "Кол-во пропусков в таблице:\n",
      "gender                               0\n",
      "Near_Location                        0\n",
      "Partner                              0\n",
      "Promo_friends                        0\n",
      "Phone                                0\n",
      "Contract_period                      0\n",
      "Group_visits                         0\n",
      "Age                                  0\n",
      "Avg_additional_charges_total         0\n",
      "Month_to_end_contract                0\n",
      "Lifetime                             0\n",
      "Avg_class_frequency_total            0\n",
      "Avg_class_frequency_current_month    0\n",
      "Churn                                0\n",
      "dtype: int64\n"
     ]
    }
   ],
   "source": [
    "print('Кол-во явных дубликатов в таблице:')\n",
    "print(df.duplicated().sum())\n",
    "print('Кол-во пропусков в таблице:')\n",
    "print(df.isna().sum())"
   ]
  },
  {
   "cell_type": "markdown",
   "id": "faf99a1f",
   "metadata": {},
   "source": [
    "#### Вывод\n",
    "\n",
    "В данных нет пропусков и нет дубликатов"
   ]
  },
  {
   "cell_type": "code",
   "execution_count": 31,
   "id": "fe225d18",
   "metadata": {
    "scrolled": true
   },
   "outputs": [
    {
     "name": "stdout",
     "output_type": "stream",
     "text": [
      "Описание признака Contract_period\n",
      "count    4000.000000\n",
      "mean        4.681250\n",
      "std         4.549706\n",
      "min         1.000000\n",
      "25%         1.000000\n",
      "50%         1.000000\n",
      "75%         6.000000\n",
      "max        12.000000\n",
      "Name: Contract_period, dtype: float64\n",
      "\n",
      "Описание признака Age\n",
      "count    4000.000000\n",
      "mean       29.184250\n",
      "std         3.258367\n",
      "min        18.000000\n",
      "25%        27.000000\n",
      "50%        29.000000\n",
      "75%        31.000000\n",
      "max        41.000000\n",
      "Name: Age, dtype: float64\n",
      "\n",
      "Описание признака Avg_additional_charges_total\n",
      "count    4000.000000\n",
      "mean      146.943728\n",
      "std        96.355602\n",
      "min         0.148205\n",
      "25%        68.868830\n",
      "50%       136.220159\n",
      "75%       210.949625\n",
      "max       552.590740\n",
      "Name: Avg_additional_charges_total, dtype: float64\n",
      "\n",
      "Описание признака Month_to_end_contract\n",
      "count    4000.000000\n",
      "mean        4.322750\n",
      "std         4.191297\n",
      "min         1.000000\n",
      "25%         1.000000\n",
      "50%         1.000000\n",
      "75%         6.000000\n",
      "max        12.000000\n",
      "Name: Month_to_end_contract, dtype: float64\n",
      "\n",
      "Описание признака Lifetime\n",
      "count    4000.000000\n",
      "mean        3.724750\n",
      "std         3.749267\n",
      "min         0.000000\n",
      "25%         1.000000\n",
      "50%         3.000000\n",
      "75%         5.000000\n",
      "max        31.000000\n",
      "Name: Lifetime, dtype: float64\n",
      "\n",
      "Описание признака Avg_class_frequency_total\n",
      "count    4000.000000\n",
      "mean        1.879020\n",
      "std         0.972245\n",
      "min         0.000000\n",
      "25%         1.180875\n",
      "50%         1.832768\n",
      "75%         2.536078\n",
      "max         6.023668\n",
      "Name: Avg_class_frequency_total, dtype: float64\n",
      "\n",
      "Описание признака Avg_class_frequency_current_month\n",
      "count    4000.000000\n",
      "mean        1.767052\n",
      "std         1.052906\n",
      "min         0.000000\n",
      "25%         0.963003\n",
      "50%         1.719574\n",
      "75%         2.510336\n",
      "max         6.146783\n",
      "Name: Avg_class_frequency_current_month, dtype: float64\n",
      "\n"
     ]
    }
   ],
   "source": [
    "# Описание количественных признаков\n",
    "for v in quant_signs:\n",
    "    print('Описание признака',v)\n",
    "    print(df[v].describe())\n",
    "    print()"
   ]
  },
  {
   "cell_type": "code",
   "execution_count": 32,
   "id": "fc6cc459",
   "metadata": {
    "scrolled": true
   },
   "outputs": [
    {
     "name": "stdout",
     "output_type": "stream",
     "text": [
      "Описание признака gender\n",
      "count    4000.000000\n",
      "mean        0.510250\n",
      "std         0.499957\n",
      "min         0.000000\n",
      "25%         0.000000\n",
      "50%         1.000000\n",
      "75%         1.000000\n",
      "max         1.000000\n",
      "Name: gender, dtype: float64\n",
      "\n",
      "Описание признака Near_Location\n",
      "count    4000.000000\n",
      "mean        0.845250\n",
      "std         0.361711\n",
      "min         0.000000\n",
      "25%         1.000000\n",
      "50%         1.000000\n",
      "75%         1.000000\n",
      "max         1.000000\n",
      "Name: Near_Location, dtype: float64\n",
      "\n",
      "Описание признака Partner\n",
      "count    4000.000000\n",
      "mean        0.486750\n",
      "std         0.499887\n",
      "min         0.000000\n",
      "25%         0.000000\n",
      "50%         0.000000\n",
      "75%         1.000000\n",
      "max         1.000000\n",
      "Name: Partner, dtype: float64\n",
      "\n",
      "Описание признака Promo_friends\n",
      "count    4000.000000\n",
      "mean        0.308500\n",
      "std         0.461932\n",
      "min         0.000000\n",
      "25%         0.000000\n",
      "50%         0.000000\n",
      "75%         1.000000\n",
      "max         1.000000\n",
      "Name: Promo_friends, dtype: float64\n",
      "\n",
      "Описание признака Phone\n",
      "count    4000.000000\n",
      "mean        0.903500\n",
      "std         0.295313\n",
      "min         0.000000\n",
      "25%         1.000000\n",
      "50%         1.000000\n",
      "75%         1.000000\n",
      "max         1.000000\n",
      "Name: Phone, dtype: float64\n",
      "\n",
      "Описание признака Group_visits\n",
      "count    4000.000000\n",
      "mean        0.412250\n",
      "std         0.492301\n",
      "min         0.000000\n",
      "25%         0.000000\n",
      "50%         0.000000\n",
      "75%         1.000000\n",
      "max         1.000000\n",
      "Name: Group_visits, dtype: float64\n",
      "\n",
      "Описание признака Churn\n",
      "count    4000.000000\n",
      "mean        0.265250\n",
      "std         0.441521\n",
      "min         0.000000\n",
      "25%         0.000000\n",
      "50%         0.000000\n",
      "75%         1.000000\n",
      "max         1.000000\n",
      "Name: Churn, dtype: float64\n",
      "\n"
     ]
    }
   ],
   "source": [
    "# Описание качественных признаков\n",
    "for v in qualit_signs:\n",
    "    print('Описание признака',v)\n",
    "    print(df[v].describe())\n",
    "    print()"
   ]
  },
  {
   "cell_type": "markdown",
   "id": "d2c90649",
   "metadata": {},
   "source": [
    "1. У половины клиентов длительность абонемента не превышает 1 месяца; Для четверти клиентов длительность абонемента превышает 6 месяцев.\n",
    "2. Большинство клиентов в возрасте от 27 лет до 31 года;\n",
    "3. Суммарная выручка от других услуг фитнес-центра с половины клиентов не превышает 137 единиц;\n",
    "4. Половина клиентов не превысила лайфтайм в 3 месяца; 3/4 клиентов не превысило лайфтайм в 5 месяцев с начала занятий;\n",
    "5. Половина клиентов посещает зал не чаще 2-х раз в неделю;\n",
    "6. Половина клиентов имеют пол - 1, половина - 0\n",
    "7. Подавляющее большинство клиентов живут или работают в районе рядом с залом;\n",
    "8. Половина клиентов является сотрудниками компаний-партнёров клуба\n",
    "8. 30% клиетов пришли в рамках акции «приведи друга»;\n",
    "9. Для подавляющего большинства клиентов известен номер телефона;\n",
    "10. 40% клиентов ходят на групповые программы тренировок;\n",
    "11. В текущем месяце в отток попало 26% процентов клиентов.\n",
    "    "
   ]
  },
  {
   "cell_type": "markdown",
   "id": "291ab56f",
   "metadata": {},
   "source": [
    "### Средние значения признаков в двух группах — тех, кто ушел в отток и тех, кто остался"
   ]
  },
  {
   "cell_type": "code",
   "execution_count": 33,
   "id": "d0793319",
   "metadata": {},
   "outputs": [],
   "source": [
    "grouped_by_churn = (df.groupby('Churn')\n",
    "                     .agg({'gender':'mean', \n",
    "                           'Near_Location':'mean',\n",
    "                           'Partner':'mean',\n",
    "                           'Promo_friends':'mean',\n",
    "                           'Phone':'mean',\n",
    "                           'Contract_period':'mean',\n",
    "                           'Group_visits':'mean',\n",
    "                           'Age':'mean',\n",
    "                           'Avg_additional_charges_total':'mean',\n",
    "                           'Month_to_end_contract':'mean',\n",
    "                           'Lifetime':'mean',\n",
    "                           'Avg_class_frequency_total':'mean',\n",
    "                           'Avg_class_frequency_current_month':'mean',\n",
    "                           'Churn':'mean',                       \n",
    "                          })\n",
    "                   )"
   ]
  },
  {
   "cell_type": "code",
   "execution_count": 34,
   "id": "66e343e6",
   "metadata": {
    "scrolled": true
   },
   "outputs": [
    {
     "data": {
      "text/html": [
       "<div>\n",
       "<style scoped>\n",
       "    .dataframe tbody tr th:only-of-type {\n",
       "        vertical-align: middle;\n",
       "    }\n",
       "\n",
       "    .dataframe tbody tr th {\n",
       "        vertical-align: top;\n",
       "    }\n",
       "\n",
       "    .dataframe thead th {\n",
       "        text-align: right;\n",
       "    }\n",
       "</style>\n",
       "<table border=\"1\" class=\"dataframe\">\n",
       "  <thead>\n",
       "    <tr style=\"text-align: right;\">\n",
       "      <th></th>\n",
       "      <th>gender</th>\n",
       "      <th>Near_Location</th>\n",
       "      <th>Partner</th>\n",
       "      <th>Promo_friends</th>\n",
       "      <th>Phone</th>\n",
       "      <th>Contract_period</th>\n",
       "      <th>Group_visits</th>\n",
       "      <th>Age</th>\n",
       "      <th>Avg_additional_charges_total</th>\n",
       "      <th>Month_to_end_contract</th>\n",
       "      <th>Lifetime</th>\n",
       "      <th>Avg_class_frequency_total</th>\n",
       "      <th>Avg_class_frequency_current_month</th>\n",
       "      <th>Churn</th>\n",
       "    </tr>\n",
       "    <tr>\n",
       "      <th>Churn</th>\n",
       "      <th></th>\n",
       "      <th></th>\n",
       "      <th></th>\n",
       "      <th></th>\n",
       "      <th></th>\n",
       "      <th></th>\n",
       "      <th></th>\n",
       "      <th></th>\n",
       "      <th></th>\n",
       "      <th></th>\n",
       "      <th></th>\n",
       "      <th></th>\n",
       "      <th></th>\n",
       "      <th></th>\n",
       "    </tr>\n",
       "  </thead>\n",
       "  <tbody>\n",
       "    <tr>\n",
       "      <th>0</th>\n",
       "      <td>0.510037</td>\n",
       "      <td>0.873086</td>\n",
       "      <td>0.534195</td>\n",
       "      <td>0.353522</td>\n",
       "      <td>0.903709</td>\n",
       "      <td>5.747193</td>\n",
       "      <td>0.464103</td>\n",
       "      <td>29.976523</td>\n",
       "      <td>158.445715</td>\n",
       "      <td>5.283089</td>\n",
       "      <td>4.711807</td>\n",
       "      <td>2.024876</td>\n",
       "      <td>2.027882</td>\n",
       "      <td>0</td>\n",
       "    </tr>\n",
       "    <tr>\n",
       "      <th>1</th>\n",
       "      <td>0.510839</td>\n",
       "      <td>0.768143</td>\n",
       "      <td>0.355325</td>\n",
       "      <td>0.183789</td>\n",
       "      <td>0.902922</td>\n",
       "      <td>1.728558</td>\n",
       "      <td>0.268615</td>\n",
       "      <td>26.989632</td>\n",
       "      <td>115.082899</td>\n",
       "      <td>1.662582</td>\n",
       "      <td>0.990575</td>\n",
       "      <td>1.474995</td>\n",
       "      <td>1.044546</td>\n",
       "      <td>1</td>\n",
       "    </tr>\n",
       "  </tbody>\n",
       "</table>\n",
       "</div>"
      ],
      "text/plain": [
       "         gender  Near_Location   Partner  Promo_friends     Phone  \\\n",
       "Churn                                                               \n",
       "0      0.510037       0.873086  0.534195       0.353522  0.903709   \n",
       "1      0.510839       0.768143  0.355325       0.183789  0.902922   \n",
       "\n",
       "       Contract_period  Group_visits        Age  Avg_additional_charges_total  \\\n",
       "Churn                                                                           \n",
       "0             5.747193      0.464103  29.976523                    158.445715   \n",
       "1             1.728558      0.268615  26.989632                    115.082899   \n",
       "\n",
       "       Month_to_end_contract  Lifetime  Avg_class_frequency_total  \\\n",
       "Churn                                                               \n",
       "0                   5.283089  4.711807                   2.024876   \n",
       "1                   1.662582  0.990575                   1.474995   \n",
       "\n",
       "       Avg_class_frequency_current_month  Churn  \n",
       "Churn                                            \n",
       "0                               2.027882      0  \n",
       "1                               1.044546      1  "
      ]
     },
     "execution_count": 34,
     "metadata": {},
     "output_type": "execute_result"
    }
   ],
   "source": [
    "grouped_by_churn"
   ]
  },
  {
   "cell_type": "markdown",
   "id": "3892022c",
   "metadata": {},
   "source": [
    "#### Вывод\n",
    "\n",
    "Явные различия между теми, кто ушел в отток и теми, кто остался проявляются в следующих признаках:\n",
    "\n",
    "**Partner, Promo_friends, Contract_period, Group_visits, Avg_additional_charges_total, Month_to_end_contract, Lifetime, Avg_class_frequency_total, Avg_class_frequency_current_month**\n",
    "\n",
    "Для тех, кто ушел в отток, средние значения этих признаков меньше"
   ]
  },
  {
   "cell_type": "markdown",
   "id": "c46f9cdf",
   "metadata": {},
   "source": [
    "### Построение столбчатых гистограмм и распределений признаков для тех, кто ушёл (отток) и тех, кто остался (не попали в отток)"
   ]
  },
  {
   "cell_type": "code",
   "execution_count": 35,
   "id": "02c026f0",
   "metadata": {},
   "outputs": [],
   "source": [
    "def feat_hist(x, group_col, key_cols):\n",
    "    x_new = x.copy()[key_cols]\n",
    "    \n",
    "    for c in key_cols:\n",
    "        #пропускаю группировочную переменную:\n",
    "        if c == group_col: continue\n",
    "           \n",
    "        # качественные признаки\n",
    "        if len(x_new[c].unique()) == 2:\n",
    "            report = x_new.reset_index().pivot_table(index = c, columns = group_col, values = 'index', aggfunc = 'count')\n",
    "            print(report)\n",
    "            report.plot(kind = 'bar', stacked = True, alpha = 0.5)\n",
    "        else:\n",
    "            \n",
    "            for cl in x[group_col].unique():\n",
    "                sns.distplot(x_new[x_new[group_col]==cl][c],\n",
    "                            label='{} = {}'.format(group_col, str(cl)), bins = 10)\n",
    "            \n",
    "            \n",
    "        plt.title(c)\n",
    "        plt.legend()\n",
    "        plt.show();\n"
   ]
  },
  {
   "cell_type": "code",
   "execution_count": 36,
   "id": "cbcbc478",
   "metadata": {
    "scrolled": true
   },
   "outputs": [
    {
     "name": "stdout",
     "output_type": "stream",
     "text": [
      "Churn      0    1\n",
      "gender           \n",
      "0       1440  519\n",
      "1       1499  542\n"
     ]
    },
    {
     "data": {
      "image/png": "[encoded data removed]",
      "text/plain": [
       "<Figure size 432x288 with 1 Axes>"
      ]
     },
     "metadata": {},
     "output_type": "display_data"
    },
    {
     "name": "stdout",
     "output_type": "stream",
     "text": [
      "Churn             0    1\n",
      "Near_Location           \n",
      "0               373  246\n",
      "1              2566  815\n"
     ]
    },
    {
     "data": {
      "image/png": "[encoded data removed]",
      "text/plain": [
       "<Figure size 432x288 with 1 Axes>"
      ]
     },
     "metadata": {},
     "output_type": "display_data"
    },
    {
     "name": "stdout",
     "output_type": "stream",
     "text": [
      "Churn       0    1\n",
      "Partner           \n",
      "0        1369  684\n",
      "1        1570  377\n"
     ]
    },
    {
     "data": {
      "image/png": "[encoded data removed]",
      "text/plain": [
       "<Figure size 432x288 with 1 Axes>"
      ]
     },
     "metadata": {},
     "output_type": "display_data"
    },
    {
     "name": "stdout",
     "output_type": "stream",
     "text": [
      "Churn             0    1\n",
      "Promo_friends           \n",
      "0              1900  866\n",
      "1              1039  195\n"
     ]
    },
    {
     "data": {
      "image/png": "[encoded data removed]",
      "text/plain": [
       "<Figure size 432x288 with 1 Axes>"
      ]
     },
     "metadata": {},
     "output_type": "display_data"
    },
    {
     "name": "stdout",
     "output_type": "stream",
     "text": [
      "Churn     0    1\n",
      "Phone           \n",
      "0       283  103\n",
      "1      2656  958\n"
     ]
    },
    {
     "data": {
      "image/png": "[encoded data removed]",
      "text/plain": [
       "<Figure size 432x288 with 1 Axes>"
      ]
     },
     "metadata": {},
     "output_type": "display_data"
    },
    {
     "data": {
      "image/png": "[encoded data removed]",
      "text/plain": [
       "<Figure size 432x288 with 1 Axes>"
      ]
     },
     "metadata": {},
     "output_type": "display_data"
    },
    {
     "name": "stdout",
     "output_type": "stream",
     "text": [
      "Churn            0    1\n",
      "Group_visits           \n",
      "0             1575  776\n",
      "1             1364  285\n"
     ]
    },
    {
     "data": {
      "image/png": "[encoded data removed]",
      "text/plain": [
       "<Figure size 432x288 with 1 Axes>"
      ]
     },
     "metadata": {},
     "output_type": "display_data"
    },
    {
     "data": {
      "image/png": "[encoded data removed]",
      "text/plain": [
       "<Figure size 432x288 with 1 Axes>"
      ]
     },
     "metadata": {},
     "output_type": "display_data"
    },
    {
     "data": {
      "image/png": "[encoded data removed]",
      "text/plain": [
       "<Figure size 432x288 with 1 Axes>"
      ]
     },
     "metadata": {},
     "output_type": "display_data"
    },
    {
     "data": {
      "image/png": "[encoded data removed]",
      "text/plain": [
       "<Figure size 432x288 with 1 Axes>"
      ]
     },
     "metadata": {},
     "output_type": "display_data"
    },
    {
     "data": {
      "image/png": "[encoded data removed]",
      "text/plain": [
       "<Figure size 432x288 with 1 Axes>"
      ]
     },
     "metadata": {},
     "output_type": "display_data"
    },
    {
     "data": {
      "image/png": "[encoded data removed]",
      "text/plain": [
       "<Figure size 432x288 with 1 Axes>"
      ]
     },
     "metadata": {},
     "output_type": "display_data"
    },
    {
     "data": {
      "image/png": "[encoded data removed]",
      "text/plain": [
       "<Figure size 432x288 with 1 Axes>"
      ]
     },
     "metadata": {},
     "output_type": "display_data"
    }
   ],
   "source": [
    "feat_hist(df, 'Churn', df.columns)"
   ]
  },
  {
   "cell_type": "markdown",
   "id": "cf63b8ff",
   "metadata": {},
   "source": [
    "#### Вывод\n",
    " - Partner: доля ушедших в отток клиентов больше среди тех, кто не является партнером компании;\n",
    " - Contract_period:большая часть клиентов, попавших в отток, имела контракт на 1 месяц;\n",
    " - Group_visits: доля ушедших в отток клиентов больше среди тех, кто не посещал групповые занятия;\n",
    " - Age: больше всего в отток уходит клиентов в возрасте 22-30. Клиенты, которые остались в среднем старше (27-35);\n",
    " - Avg_additional_charges_total: выручка с тех, кто ушел в отток в среднем ниже (примерно на 100 едениц);\n",
    " - Month_to_end_contract: срок до окончания текущего действующего абонемента для клиентов, ушедших в отток, в подавляющем большинстве случаев составляет 1 месяц;\n",
    " - Lifetime: самая большая вероятность ухода в отток среди тех клиентов, кто занимается менее 3-х месяцев (среднее время формирования привычки для человека);\n",
    " - Avg_class_frequency_total: средняя частота посещений в неделю за все время с начала действия абонемента для тех, кто ушел в отток в основном составляет 1-2 раза. Для тех, кто посещает зал 3 и более раз - вероятность оттока значительно меньше;\n",
    " Avg_class_frequency_current_month: сценарий аналогичный Avg_class_frequency_total, но с большим числом ушедших в отток пользователей, которые вообще не посещали зал последний месяц.\n",
    " \n",
    " \n"
   ]
  },
  {
   "cell_type": "markdown",
   "id": "14d97512",
   "metadata": {},
   "source": [
    "### Построение матрицы корреляций"
   ]
  },
  {
   "cell_type": "code",
   "execution_count": 37,
   "id": "baf7ebce",
   "metadata": {
    "scrolled": true
   },
   "outputs": [
    {
     "data": {
      "image/png": "[encoded data removed]",
      "text/plain": [
       "<Figure size 1080x1080 with 2 Axes>"
      ]
     },
     "metadata": {},
     "output_type": "display_data"
    }
   ],
   "source": [
    "corr_m = df.corr()\n",
    "plt.figure(figsize=(15,15))\n",
    "sns.heatmap(corr_m, square = True, annot = True)\n",
    "plt.show();"
   ]
  },
  {
   "cell_type": "markdown",
   "id": "55632338",
   "metadata": {},
   "source": [
    "#### Вывод\n",
    "\n",
    "Значимые взаимосвязи между признаками: \n",
    "- Avg_class_frequency_total и Avg_class_frequency_current_month;\n",
    "- Contract_period и month_to_end_contact; \n",
    "- Partner и Promo_friends;\n",
    "- Churn и (Lifetime, Avg_class_frequency_current_month, Age, Contract_period, Month_to_end_contract)"
   ]
  },
  {
   "cell_type": "markdown",
   "id": "feaeec1f",
   "metadata": {},
   "source": [
    "## Построение модели прогнозирования оттока клиентов\n",
    "\n",
    "Построение модели бинарной классификации клиентов, где целевой признак — факт оттока клиента в следующем месяце"
   ]
  },
  {
   "cell_type": "markdown",
   "id": "a33763f9",
   "metadata": {},
   "source": [
    "### Избавление от мультиколлинеарности\n",
    "Чтобы избавиться от переобучения модели под сильно коррелируемые признаки (> 0.8) необходимо избавиться от сильно связанных пар признаков, а именно **Avg_class_frequency_total** и **Avg_class_frequency_current_month**; **Contract_period** и **month_to_end_contact**; . Удалю из датасета признак **Avg_class_frequency_current_month** и **Contract_period**:"
   ]
  },
  {
   "cell_type": "code",
   "execution_count": 38,
   "id": "d67aafa2",
   "metadata": {},
   "outputs": [],
   "source": [
    "df = df.drop(columns=['Avg_class_frequency_current_month', 'Contract_period'], axis=1)"
   ]
  },
  {
   "cell_type": "markdown",
   "id": "34ea464f",
   "metadata": {},
   "source": [
    "### Разбиение данных на обучающую и валидационную выборку"
   ]
  },
  {
   "cell_type": "code",
   "execution_count": 39,
   "id": "c01bbd5e",
   "metadata": {},
   "outputs": [],
   "source": [
    "# разделение данных на признаки и целевую переменную\n",
    "X = df.drop(columns=['Churn'], axis = 1)\n",
    "y = df['Churn']"
   ]
  },
  {
   "cell_type": "code",
   "execution_count": 40,
   "id": "312038ff",
   "metadata": {},
   "outputs": [],
   "source": [
    "# разделение данных на обучающую и валидационную выборку\n",
    "X_train, X_test, y_train, y_test = train_test_split(X,y,test_size=0.2, random_state=0)"
   ]
  },
  {
   "cell_type": "markdown",
   "id": "a4d5e216",
   "metadata": {},
   "source": [
    "### Нормализация и стандартизация данных\n",
    "Нормализация присвоит признакам значения в интервале от 0 до 1. Стандартизация приведёт значения признаков к виду стандартного нормального распределения: значения будут центрированы относительно 0, а средний разброс данных составит 1."
   ]
  },
  {
   "cell_type": "code",
   "execution_count": 41,
   "id": "b123b5f8",
   "metadata": {},
   "outputs": [],
   "source": [
    "scaler = StandardScaler()\n",
    "\n",
    "# обучаю scaler и одновременно трансформирую матрицу для обучающей выборки\n",
    "X_train_st = scaler.fit_transform(X_train)\n",
    "# применяю стандартизацию к матрице признаков для тестовой выборки\n",
    "X_test_st = scaler.transform(X_test)"
   ]
  },
  {
   "cell_type": "markdown",
   "id": "074fbd95",
   "metadata": {},
   "source": [
    "### Обучение модели по методу \"Logistic Regression\""
   ]
  },
  {
   "cell_type": "code",
   "execution_count": 42,
   "id": "64142f7a",
   "metadata": {},
   "outputs": [
    {
     "name": "stdout",
     "output_type": "stream",
     "text": [
      "[0 1 1 1 0 0 0 0 1 0 0 0 0 0 0 1 0 0 1 0 0 0 0 0 0 1 0 0 0 0 0 0 0 0 0 0 0\n",
      " 0 0 0 0 0 0 0 0 1 0 0 1 1 1 0 0 0 0 1 0 0 1 0 1 1 0 0 0 0 0 0 0 0 0 0 0 0\n",
      " 0 0 1 1 1 0 1 0 0 0 0 1 1 0 0 0 0 0 1 0 0 0 0 0 0 1 0 1 1 0 0 0 0 0 1 0 0\n",
      " 0 1 0 0 0 0 1 0 0 0 0 0 1 1 0 0 0 1 0 1 0 1 0 0 0 0 1 1 1 1 1 0 1 0 1 1 1\n",
      " 0 0 0 1 1 0 0 1 0 1 0 1 0 0 0 1 0 0 0 0 0 1 0 0 1 0 0 0 0 0 1 0 1 1 0 0 0\n",
      " 1 0 0 0 0 0 0 0 0 1 0 0 0 1 0 0 0 0 0 0 0 1 0 0 0 0 0 0 0 1 0 0 0 0 0 1 0\n",
      " 0 0 1 1 0 0 0 0 0 0 0 0 0 0 0 0 1 0 0 0 1 0 0 0 0 0 0 0 0 0 0 0 0 0 0 1 1\n",
      " 0 0 0 0 0 1 1 0 0 1 0 0 1 0 0 0 0 0 1 1 0 0 0 0 0 0 0 0 0 0 0 1 0 0 0 1 1\n",
      " 0 0 0 0 1 0 0 1 0 0 0 0 0 0 0 0 0 0 0 0 0 0 0 0 0 1 0 0 0 0 0 0 0 0 0 0 0\n",
      " 0 0 1 0 1 0 1 1 0 1 0 0 0 0 0 0 0 0 0 0 0 1 0 0 1 1 0 1 1 0 1 0 1 1 0 0 0\n",
      " 1 0 0 1 0 1 1 1 0 0 1 1 0 0 0 0 1 0 0 0 0 0 1 0 1 0 1 0 0 1 0 0 1 0 1 0 0\n",
      " 0 0 0 0 0 0 0 0 0 0 0 1 0 0 0 1 1 1 0 0 1 1 0 0 0 0 1 1 0 0 1 1 0 0 0 0 0\n",
      " 0 0 0 1 0 0 1 0 0 0 0 1 1 0 1 0 0 0 0 1 0 0 0 0 0 1 1 0 0 0 0 1 0 1 0 1 1\n",
      " 0 0 0 1 0 0 0 1 1 0 0 0 0 0 0 0 0 0 0 0 0 0 0 0 0 0 1 0 0 0 0 0 0 0 0 0 0\n",
      " 0 1 1 0 0 0 0 0 0 0 0 0 1 0 1 0 0 0 0 1 0 1 0 1 0 0 0 0 0 1 0 1 1 0 0 0 0\n",
      " 0 0 0 1 0 0 0 0 1 0 0 0 0 0 0 1 1 0 0 0 1 0 0 0 0 1 0 0 0 0 0 0 1 1 0 0 1\n",
      " 0 0 0 0 0 0 0 0 0 0 1 1 0 1 0 1 0 0 0 1 0 0 0 1 1 1 0 0 0 1 0 0 1 0 0 0 0\n",
      " 0 0 0 0 0 0 0 0 1 0 0 1 1 0 0 0 0 0 1 0 0 0 1 0 0 1 0 1 0 1 1 1 0 0 0 0 0\n",
      " 1 0 1 0 0 0 0 0 0 0 0 0 0 0 0 0 0 0 0 1 0 0 0 0 0 1 0 0 1 0 0 0 0 1 0 0 0\n",
      " 0 0 0 0 0 0 1 0 0 1 0 0 0 0 1 0 0 0 0 0 0 0 1 0 0 0 1 1 1 0 0 0 0 0 1 1 1\n",
      " 0 0 0 0 0 0 0 1 0 0 1 1 1 1 0 0 0 0 0 0 1 0 0 0 0 0 0 1 0 0 0 0 0 0 1 1 0\n",
      " 1 1 0 1 1 1 1 0 1 0 0 0 0 1 1 0 1 0 1 0 0 0 0]\n",
      "[2.52544824e-03 9.57099320e-01 5.87586834e-01 8.07584462e-01\n",
      " 5.00560245e-02 6.71908960e-03 4.13035744e-02 1.31798688e-03\n",
      " 8.49766369e-01 8.29648137e-03 2.35174981e-03 3.54476304e-01\n",
      " 1.83993628e-01 2.46185407e-01 1.66648524e-02 6.51343239e-01\n",
      " 1.23820141e-01 1.58409743e-06 7.99393198e-01 1.46965171e-01\n",
      " 3.67693064e-01 1.29368562e-03 2.45483189e-03 1.15083475e-02\n",
      " 5.77856096e-02 6.64404538e-01 8.05983075e-02 1.15116460e-01\n",
      " 8.72339239e-02 2.82934602e-03 1.15327876e-06 6.52471768e-02\n",
      " 5.19517641e-02 4.38513958e-01 5.34704679e-02 2.13479897e-02\n",
      " 4.71429526e-04 2.85956303e-03 4.12543645e-04 7.23920359e-02\n",
      " 1.65772594e-03 1.10036432e-02 8.03973188e-05 7.18213182e-04\n",
      " 1.40437569e-02 6.84586968e-01 1.89847048e-01 3.15726355e-03\n",
      " 9.14373962e-01 9.11104697e-01 6.54638485e-01 1.54740207e-02\n",
      " 9.45669063e-03 1.17856756e-02 8.50665866e-08 8.55388130e-01\n",
      " 3.68720408e-05 3.09723383e-01 5.18953357e-01 1.89627567e-07\n",
      " 8.69833849e-01 9.01801890e-01 2.24707006e-01 3.49022628e-01\n",
      " 2.07618417e-04 2.26535370e-02 2.18465066e-04 1.20986238e-04\n",
      " 5.95334882e-03 2.41507269e-02 1.20454505e-02 1.18312350e-04\n",
      " 7.45249987e-03 5.32327498e-02 9.14763407e-04 1.27685596e-03\n",
      " 9.64574959e-01 7.81940934e-01 8.63773376e-01 7.55661910e-03\n",
      " 5.75243237e-01 4.01237389e-04 5.68455263e-08 5.14305492e-02\n",
      " 4.27093033e-02 8.61848632e-01 9.64871437e-01 6.74290725e-03\n",
      " 8.51779814e-02 3.22658016e-02 1.67937524e-04 3.86042859e-04\n",
      " 6.89628399e-01 1.11763302e-03 1.83168455e-07 2.82034220e-03\n",
      " 1.93380007e-01 9.72096381e-06 1.89333940e-05 6.18331620e-01\n",
      " 4.92377664e-05 5.77725796e-01 9.63323562e-01 2.53828135e-02\n",
      " 9.86176073e-03 1.62598568e-06 9.09127124e-04 8.33514120e-02\n",
      " 9.50624405e-01 4.12240042e-04 5.66681223e-04 1.82736399e-02\n",
      " 9.53540093e-01 4.63659799e-01 4.68903058e-01 8.96158983e-05\n",
      " 2.30386188e-06 5.98319028e-01 7.71767810e-04 2.90943372e-02\n",
      " 3.83987555e-05 7.93315183e-03 2.56459473e-03 7.92811895e-01\n",
      " 9.50167912e-01 1.02118362e-02 4.95261203e-02 2.76146600e-04\n",
      " 9.20563843e-01 6.42771492e-07 7.36919365e-01 3.10898583e-01\n",
      " 6.94138273e-01 1.41087141e-08 1.99808097e-10 3.46617925e-01\n",
      " 8.21619980e-02 6.93451936e-01 9.57811403e-01 6.60802643e-01\n",
      " 8.36808977e-01 9.78419650e-01 1.78395829e-02 7.73473313e-01\n",
      " 4.96875666e-05 6.04290578e-01 8.23110027e-01 9.84714847e-01\n",
      " 4.61115411e-02 4.43624635e-01 3.48193189e-05 9.79583368e-01\n",
      " 6.89802411e-01 1.55187354e-02 1.60859667e-03 9.14563976e-01\n",
      " 1.95132201e-01 8.16400439e-01 1.18287275e-05 9.48596033e-01\n",
      " 5.03382376e-05 2.14721488e-01 9.22682690e-03 9.95662405e-01\n",
      " 6.37581010e-02 9.04478780e-05 4.61154238e-01 3.10231352e-02\n",
      " 9.44438267e-04 7.34345625e-01 9.41919215e-02 3.05774903e-03\n",
      " 6.98836009e-01 4.46784322e-03 2.81527416e-01 2.93468565e-04\n",
      " 2.96442024e-01 5.11791591e-06 7.51590742e-01 2.09966750e-02\n",
      " 9.61717368e-01 9.40321601e-01 4.15030329e-01 1.27494486e-07\n",
      " 3.35687007e-02 9.51691714e-01 2.13995724e-02 1.09933140e-02\n",
      " 1.29354248e-05 1.04913358e-01 9.18208461e-02 2.11626407e-05\n",
      " 4.03267641e-01 3.32445679e-01 9.20129513e-01 2.53289354e-01\n",
      " 1.07936943e-01 7.23917964e-03 8.34924168e-01 1.79734502e-02\n",
      " 1.21769894e-01 2.19729080e-04 7.93630543e-02 1.92847326e-03\n",
      " 2.95395070e-01 2.55756176e-01 6.42761074e-01 2.33950133e-05\n",
      " 1.45664319e-05 7.94905388e-03 3.83701155e-03 6.18581405e-03\n",
      " 1.30889880e-02 4.81896418e-02 6.02276431e-01 2.51572043e-04\n",
      " 2.12498450e-01 9.55303973e-02 2.08650806e-03 8.00198498e-07\n",
      " 7.51340914e-01 2.30519162e-03 1.22455525e-01 5.57550858e-03\n",
      " 8.86451940e-01 9.52647270e-01 1.64853090e-03 1.37896995e-04\n",
      " 3.32840202e-03 1.72754417e-01 5.44669007e-04 8.33400486e-03\n",
      " 1.26292204e-02 1.38127289e-02 4.49596327e-05 8.42089978e-05\n",
      " 1.98916730e-02 6.19160273e-02 6.90019701e-01 3.71352979e-02\n",
      " 4.20508370e-04 1.74561062e-04 9.41336126e-01 8.08914921e-03\n",
      " 2.17029886e-01 3.38863292e-04 3.89520403e-01 1.17437205e-03\n",
      " 3.63354452e-03 1.23866919e-02 1.06925688e-03 4.60303102e-01\n",
      " 2.62585779e-01 2.37515874e-03 4.75932728e-05 4.75845502e-05\n",
      " 1.58812556e-02 5.18959739e-01 9.77520412e-01 7.76012031e-04\n",
      " 2.29639019e-03 7.36481076e-05 2.66945001e-02 1.16900990e-03\n",
      " 8.79413798e-01 9.42913152e-01 5.63392961e-02 7.38640675e-05\n",
      " 9.93451506e-01 7.32079095e-03 5.14884355e-06 9.79888086e-01\n",
      " 7.71103751e-02 7.80960619e-03 6.60458662e-04 2.25209147e-02\n",
      " 4.97595952e-06 8.94646589e-01 7.68905877e-01 9.00863941e-02\n",
      " 8.17970802e-02 2.27931513e-03 4.68263088e-09 2.06482374e-02\n",
      " 3.71503954e-02 1.43800448e-03 2.26380201e-01 5.55530796e-06\n",
      " 2.02567049e-01 4.15198389e-01 6.58547651e-01 5.26032799e-02\n",
      " 9.63659766e-03 7.18049652e-02 9.92286865e-01 7.67833312e-01\n",
      " 3.10341378e-04 5.35970545e-02 1.50938431e-02 3.57734261e-01\n",
      " 9.81378604e-01 1.31130426e-05 3.70236563e-03 9.67116377e-01\n",
      " 5.17688334e-03 2.90022162e-03 9.36091958e-03 1.00921521e-02\n",
      " 2.88695686e-02 8.55314052e-02 1.30177125e-01 3.73674013e-01\n",
      " 3.27798686e-01 1.50755469e-01 1.06818332e-02 2.49392826e-03\n",
      " 2.28875341e-02 3.67586048e-02 4.07700919e-02 1.01478591e-04\n",
      " 7.38455152e-02 5.27076647e-01 4.19031251e-02 5.94088949e-04\n",
      " 7.19644151e-03 3.75358692e-01 1.04683949e-02 1.02729061e-02\n",
      " 1.22697905e-01 1.53609229e-01 2.10579299e-03 1.48771114e-06\n",
      " 3.85454739e-02 2.13614929e-01 3.34499843e-01 8.75889308e-01\n",
      " 3.15257007e-01 9.68186177e-01 8.99376695e-04 9.91419479e-01\n",
      " 9.76966709e-01 1.73317541e-02 9.41436839e-01 2.71358133e-01\n",
      " 1.22086626e-01 4.95933335e-02 1.30138458e-03 2.07025261e-02\n",
      " 8.21401564e-02 4.99217850e-06 9.21105202e-04 4.62637069e-03\n",
      " 1.73595023e-01 2.69326355e-02 7.06927859e-01 5.63988270e-03\n",
      " 1.05796688e-02 8.17486810e-01 6.72223162e-01 4.96497047e-01\n",
      " 9.88039874e-01 8.41517378e-01 9.66705011e-04 9.53423287e-01\n",
      " 2.53398773e-04 5.83650249e-01 8.91640024e-01 2.07055107e-01\n",
      " 1.54773669e-02 6.07515025e-02 6.36915763e-01 4.44104325e-03\n",
      " 8.61859162e-04 5.74609236e-01 1.93366404e-06 9.70589118e-01\n",
      " 7.99718682e-01 9.48324511e-01 1.03560569e-03 5.11099985e-02\n",
      " 6.26546162e-01 9.72922676e-01 4.57017036e-05 1.18187643e-01\n",
      " 1.50404849e-01 2.09635262e-03 9.24954380e-01 1.13471217e-02\n",
      " 3.83714385e-01 7.97418540e-02 1.63871759e-01 2.93586861e-04\n",
      " 8.89732403e-01 4.36940777e-02 7.00886534e-01 8.22979798e-03\n",
      " 8.24910224e-01 4.61984810e-02 1.06802838e-04 5.32744013e-01\n",
      " 5.63324509e-02 1.06347440e-02 9.48053524e-01 1.27565416e-01\n",
      " 8.00940671e-01 1.03916579e-03 6.35491872e-06 1.56042178e-04\n",
      " 1.48506845e-02 3.71946751e-01 6.35089520e-02 4.46383461e-01\n",
      " 8.74634006e-02 7.70657291e-04 2.73796455e-04 1.03580153e-04\n",
      " 6.25208329e-02 1.37497770e-02 5.99410141e-01 1.71743230e-01\n",
      " 3.93411500e-02 5.34846973e-02 5.03672221e-01 5.40505081e-01\n",
      " 8.80880560e-01 5.66250416e-04 2.18157846e-01 8.12709094e-01\n",
      " 7.75326638e-01 1.05628572e-05 2.09452060e-04 2.46563531e-03\n",
      " 2.23505749e-01 7.36712472e-01 8.60876338e-01 3.46774237e-02\n",
      " 1.21216817e-02 9.53071013e-01 7.83882137e-01 2.23394343e-02\n",
      " 7.85500582e-02 2.42477048e-04 1.67847364e-06 5.51760813e-02\n",
      " 2.39042920e-04 1.80190173e-03 2.08550167e-04 7.84102724e-01\n",
      " 4.95927356e-02 7.31517393e-03 9.32775870e-01 9.38848303e-05\n",
      " 2.03045689e-01 1.81087303e-01 8.57193894e-04 8.29958207e-01\n",
      " 5.71409288e-01 6.48056411e-04 9.88720042e-01 2.58297353e-02\n",
      " 7.06795558e-05 4.06759915e-02 2.44404102e-01 9.43389607e-01\n",
      " 4.28326458e-01 6.08983197e-04 8.73673110e-02 4.05789182e-04\n",
      " 1.51609166e-02 8.96669777e-01 7.93779115e-01 1.05573816e-01\n",
      " 1.48265601e-05 1.62932770e-04 3.30441309e-03 5.32945096e-01\n",
      " 3.90667737e-06 6.44015328e-01 8.15974146e-03 9.46258738e-01\n",
      " 5.33330098e-01 8.66596014e-04 1.21263020e-02 4.41166331e-05\n",
      " 9.76175892e-01 3.10262770e-02 1.40415722e-03 1.79810620e-02\n",
      " 5.91789916e-01 8.36861709e-01 1.59180885e-05 1.79785480e-02\n",
      " 1.39293288e-01 1.82393563e-03 1.75351399e-01 4.56062083e-02\n",
      " 5.85072448e-03 3.06233024e-10 5.04748030e-08 1.35413218e-03\n",
      " 1.24953850e-01 2.93441376e-04 4.96272290e-03 2.58300307e-04\n",
      " 3.05157374e-03 3.50021097e-01 1.43540224e-02 9.90213261e-01\n",
      " 5.48324017e-04 1.62776481e-03 3.76428149e-01 5.08171315e-02\n",
      " 1.59961891e-04 3.18395039e-04 4.52377496e-01 2.76016521e-01\n",
      " 3.61144301e-01 7.58307119e-02 8.84120983e-04 9.48770985e-01\n",
      " 9.69706751e-01 2.28267442e-01 6.47197312e-05 4.22977625e-01\n",
      " 3.60517621e-01 2.37076395e-05 2.82682534e-03 3.19275738e-02\n",
      " 5.28442588e-09 1.69023744e-04 7.16436158e-01 1.00665118e-02\n",
      " 7.01909458e-01 2.01453369e-03 2.56032591e-01 9.45415458e-04\n",
      " 1.99834095e-06 9.93320925e-01 3.80186735e-01 5.00087227e-01\n",
      " 5.12911052e-03 8.14862474e-01 1.13764264e-02 1.07926495e-02\n",
      " 1.82747922e-02 1.23004145e-02 3.02016514e-07 7.31286399e-01\n",
      " 2.41633610e-06 9.43706454e-01 8.38061677e-01 2.24107012e-05\n",
      " 1.68670601e-05 3.96645363e-01 7.09418102e-02 3.83462724e-01\n",
      " 2.87806880e-02 1.25835906e-01 8.73382361e-01 1.12721006e-02\n",
      " 5.96209696e-04 6.52608968e-03 1.00253626e-02 8.34091041e-01\n",
      " 5.03127752e-02 2.43214676e-01 8.34486357e-05 2.55710975e-02\n",
      " 1.06738938e-04 2.76724142e-01 6.09314040e-01 5.74905443e-01\n",
      " 1.76966970e-07 4.38745337e-02 4.89237052e-04 9.26943165e-01\n",
      " 2.71214832e-03 9.07017006e-02 2.95746160e-05 4.00390342e-01\n",
      " 9.20468492e-01 4.11281901e-01 1.13761248e-01 4.23036447e-03\n",
      " 9.45073466e-03 5.52699713e-02 7.46537500e-03 9.03167454e-01\n",
      " 6.34902022e-01 4.00587411e-01 1.08323220e-01 5.41400556e-01\n",
      " 2.06370422e-05 1.22993491e-01 2.68852883e-02 2.18302542e-01\n",
      " 5.29214855e-03 1.61111697e-01 2.39724505e-01 4.17157022e-03\n",
      " 6.68896152e-03 1.50311022e-02 9.45665313e-01 9.54926194e-01\n",
      " 7.28258795e-02 8.60911944e-01 3.43452995e-07 9.73844496e-01\n",
      " 1.14359615e-05 2.29634754e-01 2.68556810e-05 7.50934141e-01\n",
      " 5.26669499e-02 5.14577376e-03 5.13556362e-02 8.98695243e-01\n",
      " 9.57572938e-01 7.40699698e-01 3.85941212e-01 1.44872565e-01\n",
      " 2.19139214e-01 6.80059768e-01 2.32410126e-01 3.04066367e-04\n",
      " 9.90223557e-01 1.84522907e-03 2.43091041e-04 1.13452713e-02\n",
      " 8.50474815e-05 8.79303283e-02 4.52062141e-02 3.72340496e-01\n",
      " 2.25964739e-01 4.90174391e-03 3.97622631e-05 5.47294614e-04\n",
      " 8.48926687e-02 9.23933555e-01 6.49799982e-03 7.27390238e-04\n",
      " 6.96108354e-01 7.32282428e-01 1.15464075e-02 3.92422594e-01\n",
      " 3.85102718e-06 2.49393889e-02 1.11946087e-04 6.87859542e-01\n",
      " 1.00270016e-03 3.51866300e-02 1.62836861e-04 5.78110700e-01\n",
      " 3.26083561e-02 3.86488191e-02 5.71987242e-01 1.48306374e-01\n",
      " 8.66280080e-01 1.90995388e-01 5.43677187e-01 9.42952178e-01\n",
      " 9.44741965e-01 2.79571516e-01 4.54186544e-02 4.17021778e-01\n",
      " 1.87808852e-04 3.73425065e-05 8.56226792e-01 1.40580355e-04\n",
      " 8.72933310e-01 4.69151774e-03 3.78488347e-04 1.45847581e-03\n",
      " 1.47388072e-05 1.98321964e-01 3.11518431e-01 1.00056851e-04\n",
      " 2.77422334e-03 1.05197435e-05 5.05945314e-03 2.37843673e-05\n",
      " 2.21578056e-03 4.99680033e-02 2.70632614e-01 5.31876889e-03\n",
      " 3.72698343e-03 7.76574817e-01 1.07311497e-04 3.83145493e-03\n",
      " 3.00595440e-04 8.52136344e-03 1.27040876e-01 6.17206309e-01\n",
      " 2.71325542e-03 1.12240494e-02 7.94334077e-01 6.79153700e-02\n",
      " 1.10873404e-01 9.40863391e-05 7.17895714e-03 7.80498424e-01\n",
      " 1.44084726e-01 4.23775446e-02 1.36871915e-04 7.22098321e-03\n",
      " 6.67652352e-02 1.35999358e-04 1.54239377e-01 7.83403850e-05\n",
      " 5.77056382e-02 6.45833330e-01 2.49965998e-03 1.94079330e-04\n",
      " 6.27201466e-01 1.21831748e-03 6.63466126e-04 1.65526986e-03\n",
      " 1.06543704e-02 9.72064605e-01 1.92018587e-02 1.55848246e-01\n",
      " 2.68784683e-03 4.67660669e-04 1.38794658e-04 4.91954128e-01\n",
      " 9.19187742e-05 7.92836268e-01 9.26402117e-03 1.79144565e-02\n",
      " 9.45602018e-02 7.04493999e-01 5.25074054e-01 7.16515737e-01\n",
      " 9.71638955e-02 4.12468244e-04 2.46720332e-01 2.66361717e-01\n",
      " 8.31561668e-03 8.36828659e-01 8.08061307e-01 9.94101305e-01\n",
      " 2.22851154e-01 8.86467617e-10 1.23861367e-02 6.18400644e-03\n",
      " 3.58522117e-03 1.98002893e-02 5.71536495e-02 6.89925921e-01\n",
      " 1.22020583e-06 1.46472751e-07 8.95268322e-01 8.89960412e-01\n",
      " 9.70421599e-01 6.16654951e-01 1.27932968e-05 1.25340336e-01\n",
      " 1.81807457e-04 2.63462296e-01 2.45487873e-03 2.48819515e-03\n",
      " 5.96314322e-01 3.78217884e-01 2.82888839e-01 7.36972258e-03\n",
      " 9.73257181e-04 7.92351198e-06 3.92088209e-02 9.68058918e-01\n",
      " 3.78816957e-01 4.00349385e-02 1.84434356e-10 1.20170221e-01\n",
      " 2.80863677e-01 5.56047303e-03 9.46344530e-01 6.53462608e-01\n",
      " 1.14461640e-06 8.95073054e-01 9.37359198e-01 1.97584586e-01\n",
      " 7.08890531e-01 8.04641945e-01 7.96670056e-01 9.78533040e-01\n",
      " 3.90623328e-02 9.92248958e-01 9.53586279e-02 2.58141427e-02\n",
      " 1.27673034e-03 5.40042314e-02 9.60112746e-01 8.99457938e-01\n",
      " 7.58590283e-03 9.80094280e-01 4.49811148e-01 7.87870786e-01\n",
      " 3.37641090e-02 2.64769675e-01 1.82957535e-05 8.60296357e-04]\n"
     ]
    }
   ],
   "source": [
    "# выбор алгоритма для модели\n",
    "lr_model = LogisticRegression(solver='liblinear', random_state=0)\n",
    "\n",
    "# обучение модели\n",
    "lr_model.fit(X_train_st, y_train)\n",
    "\n",
    "# прогнозирование\n",
    "lr_predictions = lr_model.predict(X_test_st)\n",
    "lr_probabilities = lr_model.predict_proba(X_test_st)[:,1]\n",
    "\n",
    "# результат\n",
    "print(lr_predictions)\n",
    "print(lr_probabilities)"
   ]
  },
  {
   "cell_type": "markdown",
   "id": "07cf5be3",
   "metadata": {},
   "source": [
    "### Обучение модели по методу \"Random Forest\""
   ]
  },
  {
   "cell_type": "code",
   "execution_count": 43,
   "id": "5eb21ef5",
   "metadata": {
    "scrolled": true
   },
   "outputs": [
    {
     "name": "stdout",
     "output_type": "stream",
     "text": [
      "[0 1 0 1 0 0 0 0 1 0 0 0 0 0 0 1 0 0 1 0 0 0 0 0 0 0 0 0 0 0 0 0 0 1 0 0 0\n",
      " 0 0 0 0 0 0 0 0 1 0 0 1 1 1 0 0 0 0 1 0 0 1 0 1 1 0 0 0 0 0 0 0 0 0 0 0 0\n",
      " 0 0 1 0 1 0 1 0 0 0 0 1 1 0 0 0 0 0 1 0 0 0 0 0 0 1 0 0 1 0 0 0 0 0 1 0 0\n",
      " 0 1 0 1 0 0 1 0 0 0 0 0 1 1 0 0 0 1 0 1 0 1 0 0 0 0 0 1 1 1 1 0 1 0 1 1 1\n",
      " 0 0 0 1 0 0 0 1 0 1 0 1 0 0 0 1 0 0 0 0 0 1 0 0 1 0 0 0 0 0 1 0 1 1 0 0 0\n",
      " 1 0 0 0 0 0 0 0 1 1 0 0 0 1 0 0 0 0 0 0 0 1 0 0 0 0 0 0 0 1 0 0 0 0 0 1 0\n",
      " 0 0 1 1 0 0 0 0 0 0 0 0 0 0 0 0 0 0 0 0 1 0 0 0 1 0 0 0 0 0 0 0 0 0 0 0 1\n",
      " 0 0 0 0 0 1 1 0 0 1 0 0 1 0 0 0 0 0 1 1 0 0 0 0 0 0 0 0 0 0 0 1 0 0 0 1 1\n",
      " 0 0 0 0 1 0 0 1 0 0 0 0 0 0 0 0 0 0 0 0 0 0 0 0 0 0 0 0 0 0 0 0 0 0 0 0 0\n",
      " 0 0 1 0 1 0 1 1 0 1 0 0 0 0 0 0 0 0 0 0 0 1 0 0 1 1 0 1 1 0 0 0 1 1 0 0 0\n",
      " 1 0 0 1 0 1 1 1 0 0 0 1 0 0 0 0 1 0 0 0 0 0 1 0 1 0 1 0 0 1 0 0 1 0 1 0 0\n",
      " 0 0 0 0 0 0 0 0 0 0 0 1 0 0 0 0 1 1 0 0 1 0 0 0 0 0 1 1 0 0 0 1 0 0 0 0 0\n",
      " 0 0 0 1 0 0 1 0 0 0 0 1 1 0 1 0 0 0 0 1 0 0 0 0 0 1 1 0 0 0 0 0 0 1 0 1 1\n",
      " 0 0 0 1 0 0 0 1 1 0 0 0 0 0 0 0 0 0 0 0 0 0 0 0 0 0 1 0 0 0 0 0 0 1 0 1 0\n",
      " 0 1 1 0 0 0 0 0 0 0 0 0 1 0 1 0 0 0 0 1 0 0 0 1 0 0 0 0 0 1 0 1 1 0 0 1 0\n",
      " 0 0 0 1 0 0 0 0 1 0 0 0 0 0 0 1 0 0 0 0 1 0 0 0 0 1 1 0 0 0 0 0 1 0 0 0 1\n",
      " 0 0 0 0 0 0 0 0 0 0 1 1 0 1 0 1 0 0 0 1 0 0 0 1 1 1 0 0 0 0 0 0 1 0 0 0 0\n",
      " 0 0 0 0 0 0 0 0 1 0 0 0 1 0 0 0 0 0 1 0 0 0 0 0 0 1 0 1 0 1 1 1 0 0 0 0 0\n",
      " 1 0 1 0 0 0 0 0 0 0 0 0 0 0 0 0 0 0 0 1 0 0 0 0 0 1 0 0 1 0 0 0 0 1 0 0 0\n",
      " 0 0 0 0 0 0 1 0 0 0 0 0 0 0 1 0 0 0 0 0 1 0 1 0 0 0 1 0 0 0 0 0 0 0 1 1 1\n",
      " 0 0 0 0 0 0 0 1 0 0 1 1 1 1 0 0 0 0 0 0 1 0 0 0 0 0 0 1 0 0 0 0 0 0 1 1 0\n",
      " 1 1 0 1 1 1 1 0 1 0 0 0 0 1 1 0 1 0 1 0 1 0 0]\n",
      "[0.03 0.97 0.25 0.9  0.14 0.01 0.1  0.02 0.9  0.06 0.   0.17 0.06 0.15\n",
      " 0.01 0.56 0.07 0.   0.64 0.07 0.2  0.   0.04 0.09 0.02 0.3  0.1  0.07\n",
      " 0.2  0.02 0.   0.08 0.15 0.54 0.09 0.05 0.01 0.   0.03 0.16 0.01 0.01\n",
      " 0.   0.01 0.08 0.67 0.22 0.05 0.98 0.93 0.52 0.   0.02 0.14 0.08 0.75\n",
      " 0.05 0.46 0.95 0.02 0.93 0.92 0.16 0.26 0.   0.02 0.02 0.   0.13 0.09\n",
      " 0.02 0.02 0.05 0.   0.01 0.   0.94 0.33 0.91 0.03 0.54 0.06 0.01 0.05\n",
      " 0.06 0.8  0.99 0.08 0.04 0.02 0.03 0.   0.66 0.04 0.   0.02 0.06 0.04\n",
      " 0.02 0.71 0.19 0.43 0.98 0.24 0.06 0.   0.   0.33 0.95 0.05 0.01 0.09\n",
      " 0.94 0.18 0.58 0.02 0.06 0.84 0.   0.06 0.   0.02 0.   0.58 0.89 0.\n",
      " 0.13 0.   0.96 0.02 0.58 0.11 0.74 0.02 0.01 0.34 0.08 0.44 0.92 0.52\n",
      " 0.78 0.95 0.01 0.59 0.   0.52 0.62 1.   0.2  0.3  0.   0.99 0.4  0.06\n",
      " 0.04 0.91 0.11 0.63 0.06 0.95 0.02 0.05 0.01 0.99 0.16 0.   0.45 0.\n",
      " 0.   0.91 0.11 0.02 0.61 0.09 0.11 0.16 0.32 0.01 0.55 0.01 0.83 0.99\n",
      " 0.23 0.   0.03 0.98 0.01 0.   0.   0.06 0.18 0.   0.35 0.52 0.95 0.22\n",
      " 0.12 0.03 0.52 0.   0.06 0.01 0.05 0.   0.22 0.29 0.8  0.01 0.01 0.\n",
      " 0.01 0.02 0.01 0.06 0.56 0.   0.19 0.05 0.11 0.   0.96 0.09 0.13 0.25\n",
      " 0.82 0.97 0.   0.   0.03 0.19 0.   0.   0.05 0.08 0.01 0.01 0.   0.07\n",
      " 0.25 0.06 0.01 0.01 0.72 0.06 0.15 0.09 0.61 0.01 0.   0.01 0.   0.41\n",
      " 0.12 0.01 0.08 0.01 0.04 0.5  0.98 0.08 0.03 0.   0.07 0.01 0.78 0.64\n",
      " 0.13 0.   0.91 0.   0.   0.96 0.02 0.05 0.02 0.12 0.03 0.9  0.73 0.26\n",
      " 0.05 0.   0.   0.05 0.08 0.02 0.03 0.01 0.09 0.33 0.71 0.16 0.01 0.32\n",
      " 0.95 0.65 0.02 0.06 0.1  0.23 0.91 0.05 0.03 0.73 0.02 0.06 0.01 0.01\n",
      " 0.   0.12 0.05 0.35 0.4  0.15 0.   0.01 0.03 0.13 0.04 0.02 0.12 0.49\n",
      " 0.03 0.   0.01 0.31 0.18 0.02 0.12 0.19 0.   0.01 0.04 0.33 0.4  0.99\n",
      " 0.4  0.94 0.01 0.99 0.78 0.04 0.91 0.12 0.07 0.04 0.   0.04 0.   0.\n",
      " 0.   0.   0.04 0.04 0.96 0.03 0.04 0.8  0.81 0.47 0.93 0.86 0.   0.5\n",
      " 0.02 0.76 0.89 0.2  0.14 0.   0.62 0.   0.1  0.75 0.1  0.99 0.83 0.85\n",
      " 0.02 0.15 0.29 0.96 0.   0.13 0.2  0.08 0.99 0.   0.47 0.1  0.13 0.01\n",
      " 0.96 0.04 0.91 0.11 0.91 0.05 0.01 0.61 0.1  0.03 0.99 0.04 0.92 0.05\n",
      " 0.   0.   0.04 0.35 0.02 0.4  0.21 0.   0.   0.   0.15 0.   0.75 0.2\n",
      " 0.12 0.03 0.24 0.56 0.86 0.   0.34 0.92 0.37 0.   0.01 0.03 0.29 0.92\n",
      " 0.91 0.15 0.01 0.44 0.82 0.01 0.05 0.   0.   0.06 0.   0.   0.   0.94\n",
      " 0.15 0.01 0.94 0.   0.13 0.42 0.02 0.75 0.8  0.   0.94 0.1  0.   0.1\n",
      " 0.22 0.99 0.35 0.15 0.29 0.03 0.16 0.99 0.71 0.22 0.   0.   0.03 0.36\n",
      " 0.   0.74 0.   0.97 0.67 0.04 0.01 0.01 0.96 0.03 0.01 0.01 0.53 0.88\n",
      " 0.01 0.   0.08 0.02 0.14 0.   0.01 0.02 0.   0.04 0.05 0.   0.04 0.05\n",
      " 0.01 0.34 0.01 0.99 0.04 0.   0.14 0.03 0.07 0.02 0.71 0.17 0.61 0.18\n",
      " 0.01 0.96 0.98 0.1  0.02 0.43 0.24 0.   0.01 0.09 0.   0.01 0.65 0.\n",
      " 0.53 0.03 0.15 0.   0.03 0.97 0.41 0.42 0.02 0.97 0.   0.02 0.   0.02\n",
      " 0.   0.67 0.02 0.98 0.86 0.   0.   0.55 0.04 0.21 0.03 0.15 0.93 0.\n",
      " 0.   0.01 0.02 0.87 0.1  0.15 0.02 0.05 0.   0.25 0.87 0.47 0.13 0.05\n",
      " 0.   0.95 0.01 0.22 0.   0.45 0.96 0.51 0.22 0.   0.   0.07 0.   0.99\n",
      " 0.47 0.2  0.05 0.58 0.03 0.34 0.04 0.15 0.   0.36 0.2  0.   0.05 0.01\n",
      " 0.64 0.96 0.05 0.68 0.01 0.98 0.03 0.42 0.01 0.7  0.07 0.02 0.03 0.97\n",
      " 0.98 0.78 0.24 0.14 0.26 0.43 0.1  0.04 0.95 0.02 0.   0.   0.03 0.22\n",
      " 0.08 0.22 0.19 0.02 0.   0.12 0.05 0.99 0.   0.   0.45 0.93 0.   0.27\n",
      " 0.   0.02 0.03 0.89 0.01 0.08 0.   0.48 0.06 0.12 0.67 0.19 0.74 0.15\n",
      " 0.51 1.   0.72 0.09 0.13 0.45 0.03 0.01 0.93 0.01 0.73 0.   0.04 0.\n",
      " 0.   0.38 0.24 0.01 0.   0.   0.04 0.   0.   0.19 0.39 0.12 0.06 0.58\n",
      " 0.01 0.   0.02 0.02 0.2  0.6  0.08 0.02 0.86 0.1  0.09 0.01 0.07 0.7\n",
      " 0.21 0.16 0.01 0.01 0.12 0.   0.08 0.02 0.02 0.53 0.01 0.03 0.46 0.01\n",
      " 0.   0.   0.06 0.93 0.03 0.14 0.21 0.   0.   0.57 0.   0.99 0.01 0.04\n",
      " 0.05 0.67 0.46 0.46 0.2  0.   0.28 0.15 0.01 0.72 0.74 0.98 0.08 0.\n",
      " 0.19 0.   0.02 0.05 0.12 0.63 0.01 0.   0.62 0.95 0.96 0.78 0.   0.24\n",
      " 0.   0.32 0.01 0.01 0.83 0.39 0.19 0.02 0.02 0.   0.1  0.95 0.24 0.14\n",
      " 0.05 0.1  0.5  0.   0.93 0.71 0.   0.81 0.98 0.08 0.72 0.58 0.92 0.98\n",
      " 0.15 1.   0.2  0.06 0.   0.03 0.96 0.92 0.   0.98 0.45 0.88 0.01 0.52\n",
      " 0.   0.04]\n"
     ]
    }
   ],
   "source": [
    "# выбор алгоритма для модели\n",
    "rf_model = RandomForestClassifier(n_estimators = 100, random_state = 0)\n",
    "\n",
    "# обучение модели\n",
    "rf_model.fit(X_train_st, y_train)\n",
    "\n",
    "# предсказание\n",
    "rf_predictions = rf_model.predict(X_test_st)\n",
    "rf_probabilities = rf_model.predict_proba(X_test_st)[:,1]\n",
    "\n",
    "# результат\n",
    "print(rf_predictions)\n",
    "print(rf_probabilities)"
   ]
  },
  {
   "cell_type": "markdown",
   "id": "cc63b7d3",
   "metadata": {},
   "source": [
    "### Сравнение моделей по метрикам  accuracy, precision и recall"
   ]
  },
  {
   "cell_type": "code",
   "execution_count": 44,
   "id": "0ec9bce3",
   "metadata": {
    "scrolled": true
   },
   "outputs": [
    {
     "name": "stdout",
     "output_type": "stream",
     "text": [
      "Logistic Regression:\n",
      "Accuracy 0.90\n",
      "Precision: 0.79\n",
      "Recall: 0.81\n",
      "\n",
      "Random Forest:\n",
      "Accuracy 0.90\n",
      "Precision: 0.80\n",
      "Recall: 0.77\n"
     ]
    }
   ],
   "source": [
    "print('Logistic Regression:')\n",
    "print('Accuracy {:.2f}'.format(accuracy_score(y_test, lr_predictions)))\n",
    "print('Precision: {:.2f}'.format(precision_score(y_test, lr_predictions)))\n",
    "print('Recall: {:.2f}'.format(recall_score(y_test, lr_predictions)))\n",
    "print()\n",
    "print('Random Forest:')\n",
    "print('Accuracy {:.2f}'.format(accuracy_score(y_test, rf_predictions)))\n",
    "print('Precision: {:.2f}'.format(precision_score(y_test, rf_predictions)))\n",
    "print('Recall: {:.2f}'.format(recall_score(y_test, rf_predictions)))"
   ]
  },
  {
   "cell_type": "markdown",
   "id": "64825230",
   "metadata": {},
   "source": [
    "#### Вывод\n",
    "\n",
    "Модель Logistic Regression показала себя лучше в сравнении с Random Forest по метрике Recall (полнота). Но метрика Precision (точность) выше у алгоритма Random Forest. Местрики Accuracy у двух алгоритмов одинаковые."
   ]
  },
  {
   "cell_type": "markdown",
   "id": "98c75f6e",
   "metadata": {},
   "source": [
    "## Кластеризация клиентов"
   ]
  },
  {
   "cell_type": "markdown",
   "id": "7638e9fc",
   "metadata": {},
   "source": [
    "### Построение матрицы расстояний"
   ]
  },
  {
   "cell_type": "code",
   "execution_count": 45,
   "id": "49f00b79",
   "metadata": {},
   "outputs": [],
   "source": [
    "# стандартизую матрицу всех признаков\n",
    "sc = StandardScaler()\n",
    "X_sc = sc.fit_transform(X)"
   ]
  },
  {
   "cell_type": "code",
   "execution_count": 46,
   "id": "af7818b2",
   "metadata": {},
   "outputs": [],
   "source": [
    "# таблица «связок» между объектами\n",
    "linked = linkage(X_sc, method = 'ward') "
   ]
  },
  {
   "cell_type": "code",
   "execution_count": null,
   "id": "4f373429",
   "metadata": {
    "scrolled": true
   },
   "outputs": [],
   "source": [
    "# визуализация дендрограммы\n",
    "plt.figure(figsize=(15, 10))  \n",
    "dendrogram(linked, orientation='top')\n",
    "plt.title('Иерархическая кластеризация клиентов')\n",
    "plt.show() "
   ]
  },
  {
   "cell_type": "markdown",
   "id": "1d0063d5",
   "metadata": {},
   "source": [
    "#### Вывод\n",
    "\n",
    "Предложенное оптимальное число кластеров 4 — четыре разных цвета на нижнем уровне дендрограммы"
   ]
  },
  {
   "cell_type": "markdown",
   "id": "ba4ec6bf",
   "metadata": {},
   "source": [
    "### Кластеризация на основании алгоритма K-Means"
   ]
  },
  {
   "cell_type": "code",
   "execution_count": null,
   "id": "88478de5",
   "metadata": {
    "scrolled": true
   },
   "outputs": [],
   "source": [
    "km = KMeans(n_clusters=5, random_state=0) \n",
    "\n",
    "#применение алгоритма к данным и формирование вектора кластеров. Предварительное удоление столбца Churn \n",
    "labels = km.fit_predict(df.drop(columns = ['Churn']))\n",
    "df['cluster'] = labels\n",
    "\n",
    "clusters = df.groupby(['cluster']).mean()\n",
    "print(clusters.head())"
   ]
  },
  {
   "cell_type": "markdown",
   "id": "821fde4a",
   "metadata": {},
   "source": [
    "#### Вывод\n",
    "\n",
    "Алгоритм K-Means разделил данные по 5 кластерам. Больше всего отток в 0 и 4 кластерах:"
   ]
  },
  {
   "cell_type": "markdown",
   "id": "8f4bee7f",
   "metadata": {},
   "source": [
    "cluster | churn\n",
    "---|---                                     \n",
    "0                         |  0.350536   \n",
    "1                         |  0.178470  \n",
    "2                         |  0.227743  \n",
    "3                         |  0.044280  \n",
    "4                         |  0.333010 "
   ]
  },
  {
   "cell_type": "markdown",
   "id": "435fedc3",
   "metadata": {},
   "source": [
    "### Построение распределения признаков для кластеров"
   ]
  },
  {
   "cell_type": "code",
   "execution_count": null,
   "id": "d514af3c",
   "metadata": {},
   "outputs": [],
   "source": [
    "def feat_hist_viz(x, group_col, key_cols):\n",
    "    x_new = x.copy()[key_cols]\n",
    "    \n",
    "    for c in key_cols:\n",
    "        #пропускаю группировочную переменную:\n",
    "        if c == group_col: continue\n",
    "           \n",
    "        # качественные признаки\n",
    "        if len(x_new[c].unique()) == 2:\n",
    "            report = x_new.reset_index().pivot_table(index = c, columns = group_col, values = 'index', aggfunc = 'count')\n",
    "            print(report)\n",
    "            sns.countplot(data = x_new, x = c, hue = group_col)\n",
    "            #report.plot(kind = 'bar', stacked = True, alpha = 0.5)\n",
    "        else:\n",
    "            \n",
    "            for cl in x[group_col].unique():\n",
    "                sns.boxplot(x =group_col ,y = c, data = x_new)\n",
    "                \n",
    "            \n",
    "            \n",
    "        plt.title(c)\n",
    "        plt.legend()\n",
    "        plt.show();\n"
   ]
  },
  {
   "cell_type": "code",
   "execution_count": null,
   "id": "50b52863",
   "metadata": {
    "scrolled": true
   },
   "outputs": [],
   "source": [
    "feat_hist_viz(df, 'cluster', df.columns)"
   ]
  },
  {
   "attachments": {},
   "cell_type": "markdown",
   "id": "b2643568",
   "metadata": {},
   "source": [
    "   - **Профиль кластера 0**:\n",
    "    Клиенты нулевого кластера чаще всего попадают в отток. Люди из этого кластера поровну мужчины и женщины, чаще всего находятся рядом с залом (квартира/работа в одном районе). Половина из этих клиентов пришли по партнерской программе и 1/3 по акции \"приведи друга\". Для 90% клиентов известен телефон и 38% посещает групповые тренировки. Клиенты из 0 и 4 кластера самые молодые (большинство моложе 30) и они меньше всего пользуются дополнительными услугами фитнес-центра. Выручка в 0 кластере около 30 единиц с каждого клиента. Для большинства из них абонемент заканчивается через месяц. Большая часть клиентов не перешла лайфтайм в 3 месяца и посещает тренировки не чаще 2-х раз в неделю.\n",
    "\n",
    "    \n",
    "    \n",
    "   - **Профиль кластера 1**:\n",
    "   Кластер имеет средний показатель оттока. Клиенты из этого кластера поровну мужчины и женщины,  чаще всего находятся рядом с залом (квартира/работа в одном районе). Половина из этих клиентов пришли по партнерской программе и 1/3 по ации \"приведи друга\". Для 90% клиентов известен телефон и 43% посещает групповые тренировки. Клиенты из 1 кластера в большинстве моложе 30 и они пользуются дополнительными услугами фитнес-центра: кафе, спорттовары, косметический и массажный салон. Средняя выручка с этих клиентов около 250 единиц.  Для большинства из них абонемент заканчивается через 5 месяцев. Большая часть клиентов перешла лайфтайм в 3 месяца и посещает тренировки не чаще 2-х раз в неделю.\n",
    "    \n",
    "    \n",
    "   - **Профиль кластера 2**:\n",
    "    Кластер имеет средний показатель оттока. Клиенты из этого кластера поровну мужчины и женщины чаще всего находятся рядом с залом (квартира/работа в одном районе). Половина из этих клиентов пришли по партнерской программе и 1/3 по акции \"приведи друга\". Для 90% клиентов известен телефон и 42% посещает групповые тренировки. Клиенты из 2 кластера моложе 30 и они чаще всех пользуются дополнительными услугами фитнес-центра: кафе, спорттовары, косметический и массажный салон. Средняя выручка с этих клиентов около 330 единиц.  Для большинства из них абонемент заканчивается через 1 месяц. Большая часть клиентов перешла лайфтайм в 3 месяца и посещает тренировки чаще 2-х раз в неделю.\n",
    "    \n",
    "    \n",
    "   - **Профиль кластера 3**:\n",
    "    Кластер имеет самый низкий показатель оттока. Клиенты из этого кластера поровну мужчины и женщины,  чаще всего находятся рядом с залом (квартира/работа в одном районе). Половина из этих клиентов пришли по партнерской программе и 1/3 по акции \"приведи друга\". Для 90% клиентов известен телефон и 43% посещает групповые тренировки. Клиентам из 3 кластера около 30 и они пользуются дополнительными услугами фитнес-центра: кафе, спорттовары, косметический и массажный салон. Средняя выручка с этих клиентов около 250 единиц.  Для большинства из них абонемент заканчивается через 5 месяцев; Большая часть клиентов перешла лайфтайм в 3 месяца и посещает тренировки не чаще 2-х раз в неделю.\n",
    "    \n",
    "    \n",
    "   - **Профиль кластера 4**:\n",
    "    Кластер имеет высокий показатель оттока. Люди из этого кластера поровну мужчины и женщины, чаще всего находятся рядом с залом (квартира/работа в одном районе). Половина из этих клиентов пришли по партнерской программе и 1/3 по акции \"приведи друга\". Для 90% клиентов известен телефон и 41% посещает групповые тренировки. Клиенты из 0 и 4 кластера самые молодые (большинство моложе 30) и они меньше всего пользуются дополнительными услугами фитнес-центра: кафе, спорттовары, косметический и массажный салон. С клиентов из 4 кластера выручка составляет около 100 единиц. Для большинства из них абонемент заканчивается через месяц. Большая часть клиентов не перешла лайфтайм в 3 месяца и посещает тренировки не чаще 2-х раз в неделю."
   ]
  },
  {
   "cell_type": "markdown",
   "id": "e465a791",
   "metadata": {},
   "source": [
    "#### Вывод\n",
    "\n",
    " - Явные отличия среди кластеров выражены на графике Avg_additional_charges_total. Клиенты из 0 и 4 кластеров меньше всего пользуются дополнительными услугами фитнес-центра: кафе, спорттовары, косметический и массажный салон;\n",
    " - Значения признака Month_to_end_contract для 0 и 4 кластеров чаще всего составляют 1 месяц;\n",
    " - Для 0 и 4 кластеров Lifetime достигает пика  на интервале 0-3 месяца."
   ]
  },
  {
   "cell_type": "markdown",
   "id": "ff5831c0",
   "metadata": {},
   "source": [
    "### Описание профиля каждого кластера"
   ]
  },
  {
   "cell_type": "markdown",
   "id": "c81c0875",
   "metadata": {},
   "source": [
    "### Основные выводы"
   ]
  },
  {
   "cell_type": "markdown",
   "id": "f1c1d5d3",
   "metadata": {},
   "source": [
    "#### Вывод №1\n",
    " - Partner: доля ушедших в отток клиентов больше среди тех, кто не является партнером компании;\n",
    " - Contract_period:большая часть клиентов, попавших в отток, имела контракт на 1 месяц;\n",
    " - Group_visits: доля ушедших в отток клиентов больше среди тех, кто не посещал групповые занятия;\n",
    " - Age: больше всего в отток уходит клиентов в возрасте 22-30. Клиенты, которые остались в среднем старше (27-35);\n",
    " - Avg_additional_charges_total: выручка с тех, кто ушел в отток в среднем ниже (примерно на 100 едениц);\n",
    " - Month_to_end_contract: срок до окончания текущего действующего абонемента для клиентов, ушедших в отток, в подавляющем большинстве случаев составляет 1 месяц;\n",
    " - Lifetime: самая большая вероятность ухода в отток среди тех, клиентов, кто занимается менее 3-х месяцев (среднее время формирования привычки для человека);\n",
    " - Avg_class_frequency_total: средняя частота посещений в неделю за все время с начала действия абонемента для тех, кто ушел в отток в основном составляет 1-2 раза. Для тех, кто посещает зал 3 и более раз - вероятность оттока значительно меньше;\n",
    " Avg_class_frequency_current_month: сценарий аналогичный Avg_class_frequency_total, но с большим числом ушедших в отток пользователей, которые вообще не посещали зал последний месяц.\n",
    " \n",
    " \n"
   ]
  },
  {
   "cell_type": "markdown",
   "id": "a8d2049a",
   "metadata": {},
   "source": [
    "#### Вывод №2\n",
    "\n",
    "Значимые взаимосвязи между признаками: \n",
    "- Avg_class_frequency_total и Avg_class_frequency_current_month;\n",
    "- Partner и Promo_friends;\n",
    "- Churn и (Lifetime, Avg_class_frequency_current_month, Age, Contract_period, Month_to_end_contract)"
   ]
  },
  {
   "cell_type": "markdown",
   "id": "9354267d",
   "metadata": {},
   "source": [
    "#### Вывод №3\n",
    "\n",
    "Модель Logistic Regression показала себя лучше в сравнении с Random Forest по метрике Recall (полнота). Но метрика Precision (точность) выше у алгоритма Random Forest"
   ]
  },
  {
   "cell_type": "markdown",
   "id": "05e11d6c",
   "metadata": {},
   "source": [
    "#### Вывод №4\n",
    "\n",
    "Предложенное оптимальное число кластеров 5(k-Means). Больше всего отток в 0 и 4 кластерах:\n",
    " \n",
    "cluster | churn\n",
    "---|---                                     \n",
    "0                         |  0.350536   \n",
    "1                         |  0.178470  \n",
    "2                         |  0.227743  \n",
    "3                         |  0.044280  \n",
    "4                         |  0.333010 "
   ]
  },
  {
   "cell_type": "markdown",
   "id": "5336d4f8",
   "metadata": {},
   "source": [
    "#### Вывод №5\n",
    "\n",
    " - Явные отличия среди кластеров выражены на графике Avg_additional_charges_total. Клиенты из 0 и 4 кластеров меньше всего пользуются дополнительными услугами фитнес-центра: кафе, спорттовары, косметический и массажный салон;\n",
    " - Значения признака Month_to_end_contract для 0 и 4 кластеров чаще всего составляют 1 месяц;\n",
    " - Для 0 и 4 кластеров Lifetime достигает пика  на интервале 0-3 месяца."
   ]
  },
  {
   "cell_type": "markdown",
   "id": "0c9db66b",
   "metadata": {},
   "source": [
    "### Рекомендации"
   ]
  },
  {
   "cell_type": "markdown",
   "id": "c3aff434",
   "metadata": {},
   "source": [
    " - Делать ставку на привлечение клиентов к дополнительными услугами фитнес-центра: кафе, спорттовары, косметический и массажный салон;\n",
    " - Делать ставку на клиентов 27-35 лет, так как они более надежные и платежеспособные;\n",
    " - Проявлять наибольшее внимание к клиентам, чей лайфтайм еще не превысил 3 месяца - вероятность их оттока самая большая;\n",
    " - Увеличивать число недельных посещений тренировок. Если клиент посещает тренировки более 2-х раз в неделю, то вероятность его оттока значительно меньше."
   ]
  }
 ],
 "metadata": {
  "ExecuteTimeLog": [
   {
    "duration": 1795,
    "start_time": "2022-06-21T18:22:33.725Z"
   },
   {
    "duration": 198,
    "start_time": "2022-06-21T18:22:35.522Z"
   },
   {
    "duration": 13,
    "start_time": "2022-06-21T18:22:35.722Z"
   },
   {
    "duration": 3,
    "start_time": "2022-06-21T18:22:35.738Z"
   },
   {
    "duration": 13,
    "start_time": "2022-06-21T18:22:35.743Z"
   },
   {
    "duration": 44,
    "start_time": "2022-06-21T18:22:35.758Z"
   },
   {
    "duration": 23,
    "start_time": "2022-06-21T18:22:35.803Z"
   },
   {
    "duration": 26,
    "start_time": "2022-06-21T18:22:35.828Z"
   },
   {
    "duration": 31,
    "start_time": "2022-06-21T18:22:35.856Z"
   },
   {
    "duration": 6,
    "start_time": "2022-06-21T18:22:35.890Z"
   },
   {
    "duration": 2832,
    "start_time": "2022-06-21T18:22:35.897Z"
   },
   {
    "duration": 3256,
    "start_time": "2022-06-21T18:22:38.730Z"
   },
   {
    "duration": 4,
    "start_time": "2022-06-21T18:22:41.987Z"
   },
   {
    "duration": 14,
    "start_time": "2022-06-21T18:22:41.992Z"
   },
   {
    "duration": 14,
    "start_time": "2022-06-21T18:22:42.007Z"
   },
   {
    "duration": 12,
    "start_time": "2022-06-21T18:22:42.023Z"
   },
   {
    "duration": 28,
    "start_time": "2022-06-21T18:22:42.036Z"
   },
   {
    "duration": 540,
    "start_time": "2022-06-21T18:22:42.066Z"
   },
   {
    "duration": 11,
    "start_time": "2022-06-21T18:22:42.607Z"
   },
   {
    "duration": 7,
    "start_time": "2022-06-21T18:22:42.620Z"
   },
   {
    "duration": 655,
    "start_time": "2022-06-21T18:22:42.629Z"
   },
   {
    "duration": 128588,
    "start_time": "2022-06-21T18:22:43.286Z"
   },
   {
    "duration": 1394,
    "start_time": "2022-06-21T18:24:51.876Z"
   },
   {
    "duration": 3730,
    "start_time": "2022-06-21T18:24:53.273Z"
   },
   {
    "duration": 128,
    "start_time": "2022-06-21T18:25:59.026Z"
   },
   {
    "duration": 6,
    "start_time": "2022-06-21T18:26:25.211Z"
   },
   {
    "duration": 76,
    "start_time": "2022-06-21T18:26:25.219Z"
   },
   {
    "duration": 11,
    "start_time": "2022-06-21T18:26:25.297Z"
   },
   {
    "duration": 6,
    "start_time": "2022-06-21T18:26:25.310Z"
   },
   {
    "duration": 19,
    "start_time": "2022-06-21T18:26:25.318Z"
   },
   {
    "duration": 33,
    "start_time": "2022-06-21T18:26:25.338Z"
   },
   {
    "duration": 28,
    "start_time": "2022-06-21T18:26:25.373Z"
   },
   {
    "duration": 13,
    "start_time": "2022-06-21T18:26:25.403Z"
   },
   {
    "duration": 13,
    "start_time": "2022-06-21T18:26:25.417Z"
   },
   {
    "duration": 21,
    "start_time": "2022-06-21T18:26:25.432Z"
   },
   {
    "duration": 2933,
    "start_time": "2022-06-21T18:26:25.455Z"
   },
   {
    "duration": 1693,
    "start_time": "2022-06-21T18:26:28.392Z"
   },
   {
    "duration": 16,
    "start_time": "2022-06-21T18:26:30.088Z"
   },
   {
    "duration": 0,
    "start_time": "2022-06-21T18:26:30.106Z"
   },
   {
    "duration": 0,
    "start_time": "2022-06-21T18:26:30.107Z"
   },
   {
    "duration": 0,
    "start_time": "2022-06-21T18:26:30.108Z"
   },
   {
    "duration": 0,
    "start_time": "2022-06-21T18:26:30.109Z"
   },
   {
    "duration": 0,
    "start_time": "2022-06-21T18:26:30.111Z"
   },
   {
    "duration": 0,
    "start_time": "2022-06-21T18:26:30.112Z"
   },
   {
    "duration": 1,
    "start_time": "2022-06-21T18:26:30.113Z"
   },
   {
    "duration": 0,
    "start_time": "2022-06-21T18:26:30.114Z"
   },
   {
    "duration": 0,
    "start_time": "2022-06-21T18:26:30.115Z"
   },
   {
    "duration": 0,
    "start_time": "2022-06-21T18:26:30.117Z"
   },
   {
    "duration": 0,
    "start_time": "2022-06-21T18:26:30.118Z"
   },
   {
    "duration": 6,
    "start_time": "2022-06-21T18:26:45.226Z"
   },
   {
    "duration": 5,
    "start_time": "2022-06-21T18:28:19.037Z"
   },
   {
    "duration": 96,
    "start_time": "2022-06-21T18:28:19.044Z"
   },
   {
    "duration": 11,
    "start_time": "2022-06-21T18:28:19.142Z"
   },
   {
    "duration": 34,
    "start_time": "2022-06-21T18:28:19.155Z"
   },
   {
    "duration": 17,
    "start_time": "2022-06-21T18:28:19.193Z"
   },
   {
    "duration": 146,
    "start_time": "2022-06-21T18:28:19.212Z"
   },
   {
    "duration": 31,
    "start_time": "2022-06-21T18:28:19.361Z"
   },
   {
    "duration": 16,
    "start_time": "2022-06-21T18:28:19.394Z"
   },
   {
    "duration": 13,
    "start_time": "2022-06-21T18:28:19.411Z"
   },
   {
    "duration": 5,
    "start_time": "2022-06-21T18:28:19.425Z"
   },
   {
    "duration": 2947,
    "start_time": "2022-06-21T18:28:19.432Z"
   },
   {
    "duration": 1765,
    "start_time": "2022-06-21T18:28:22.380Z"
   },
   {
    "duration": 9,
    "start_time": "2022-06-21T18:28:24.155Z"
   },
   {
    "duration": 46,
    "start_time": "2022-06-21T18:28:24.166Z"
   },
   {
    "duration": 9,
    "start_time": "2022-06-21T18:28:24.214Z"
   },
   {
    "duration": 10,
    "start_time": "2022-06-21T18:28:24.225Z"
   },
   {
    "duration": 25,
    "start_time": "2022-06-21T18:28:24.236Z"
   },
   {
    "duration": 468,
    "start_time": "2022-06-21T18:28:24.263Z"
   },
   {
    "duration": 25,
    "start_time": "2022-06-21T18:28:24.733Z"
   },
   {
    "duration": 11,
    "start_time": "2022-06-21T18:28:24.759Z"
   },
   {
    "duration": 652,
    "start_time": "2022-06-21T18:28:24.773Z"
   },
   {
    "duration": 130102,
    "start_time": "2022-06-21T18:28:25.427Z"
   },
   {
    "duration": 861,
    "start_time": "2022-06-21T18:30:35.531Z"
   },
   {
    "duration": 3622,
    "start_time": "2022-06-21T18:30:36.394Z"
   },
   {
    "duration": 5,
    "start_time": "2022-06-21T19:25:45.600Z"
   },
   {
    "duration": 357,
    "start_time": "2022-06-21T19:25:45.606Z"
   },
   {
    "duration": 21,
    "start_time": "2022-06-21T19:25:45.968Z"
   },
   {
    "duration": 6,
    "start_time": "2022-06-21T19:25:45.990Z"
   },
   {
    "duration": 12,
    "start_time": "2022-06-21T19:25:45.998Z"
   },
   {
    "duration": 24,
    "start_time": "2022-06-21T19:25:46.011Z"
   },
   {
    "duration": 39,
    "start_time": "2022-06-21T19:25:46.037Z"
   },
   {
    "duration": 19,
    "start_time": "2022-06-21T19:25:46.084Z"
   },
   {
    "duration": 15,
    "start_time": "2022-06-21T19:25:46.105Z"
   },
   {
    "duration": 6,
    "start_time": "2022-06-21T19:25:46.121Z"
   },
   {
    "duration": 2667,
    "start_time": "2022-06-21T19:25:46.129Z"
   },
   {
    "duration": 1536,
    "start_time": "2022-06-21T19:25:48.797Z"
   },
   {
    "duration": 9,
    "start_time": "2022-06-21T19:25:50.341Z"
   },
   {
    "duration": 29,
    "start_time": "2022-06-21T19:25:50.357Z"
   },
   {
    "duration": 16,
    "start_time": "2022-06-21T19:25:50.388Z"
   },
   {
    "duration": 10,
    "start_time": "2022-06-21T19:25:50.406Z"
   },
   {
    "duration": 17,
    "start_time": "2022-06-21T19:25:50.418Z"
   },
   {
    "duration": 385,
    "start_time": "2022-06-21T19:25:50.437Z"
   },
   {
    "duration": 12,
    "start_time": "2022-06-21T19:25:50.823Z"
   },
   {
    "duration": 24,
    "start_time": "2022-06-21T19:25:50.836Z"
   },
   {
    "duration": 675,
    "start_time": "2022-06-21T19:25:50.870Z"
   },
   {
    "duration": 119767,
    "start_time": "2022-06-21T19:25:57.042Z"
   },
   {
    "duration": 2265,
    "start_time": "2022-06-22T18:22:48.954Z"
   },
   {
    "duration": 161,
    "start_time": "2022-06-22T18:22:51.221Z"
   },
   {
    "duration": 11,
    "start_time": "2022-06-22T18:22:51.383Z"
   },
   {
    "duration": 2,
    "start_time": "2022-06-22T18:22:51.396Z"
   },
   {
    "duration": 12,
    "start_time": "2022-06-22T18:22:51.400Z"
   },
   {
    "duration": 23,
    "start_time": "2022-06-22T18:22:51.414Z"
   },
   {
    "duration": 21,
    "start_time": "2022-06-22T18:22:51.439Z"
   },
   {
    "duration": 13,
    "start_time": "2022-06-22T18:22:51.461Z"
   },
   {
    "duration": 15,
    "start_time": "2022-06-22T18:22:51.475Z"
   },
   {
    "duration": 4,
    "start_time": "2022-06-22T18:22:51.492Z"
   },
   {
    "duration": 2241,
    "start_time": "2022-06-22T18:22:51.498Z"
   },
   {
    "duration": 1514,
    "start_time": "2022-06-22T18:22:53.741Z"
   },
   {
    "duration": 4,
    "start_time": "2022-06-22T18:22:55.257Z"
   },
   {
    "duration": 7,
    "start_time": "2022-06-22T18:22:55.262Z"
   },
   {
    "duration": 13,
    "start_time": "2022-06-22T18:22:55.270Z"
   },
   {
    "duration": 11,
    "start_time": "2022-06-22T18:22:55.284Z"
   },
   {
    "duration": 17,
    "start_time": "2022-06-22T18:22:55.297Z"
   },
   {
    "duration": 343,
    "start_time": "2022-06-22T18:22:55.316Z"
   },
   {
    "duration": 11,
    "start_time": "2022-06-22T18:22:55.660Z"
   },
   {
    "duration": 8,
    "start_time": "2022-06-22T18:22:55.673Z"
   },
   {
    "duration": 535,
    "start_time": "2022-06-22T18:22:55.682Z"
   },
   {
    "duration": 102702,
    "start_time": "2022-06-22T18:22:56.219Z"
   },
   {
    "duration": 1113,
    "start_time": "2022-06-22T18:24:38.922Z"
   },
   {
    "duration": 2592,
    "start_time": "2022-06-22T18:24:40.036Z"
   },
   {
    "duration": 67,
    "start_time": "2022-06-23T11:48:21.158Z"
   },
   {
    "duration": 3,
    "start_time": "2022-06-23T12:04:41.710Z"
   },
   {
    "duration": 49,
    "start_time": "2022-06-23T12:04:43.965Z"
   },
   {
    "duration": 2064,
    "start_time": "2022-06-23T12:04:49.549Z"
   },
   {
    "duration": 105,
    "start_time": "2022-06-23T12:04:54.237Z"
   },
   {
    "duration": 13,
    "start_time": "2022-06-23T12:04:55.614Z"
   },
   {
    "duration": 3,
    "start_time": "2022-06-23T12:04:58.119Z"
   },
   {
    "duration": 14,
    "start_time": "2022-06-23T12:04:58.925Z"
   },
   {
    "duration": 25,
    "start_time": "2022-06-23T12:05:02.193Z"
   },
   {
    "duration": 27,
    "start_time": "2022-06-23T12:05:03.110Z"
   },
   {
    "duration": 81,
    "start_time": "2022-06-23T12:56:48.626Z"
   },
   {
    "duration": 15,
    "start_time": "2022-06-23T12:56:54.961Z"
   },
   {
    "duration": 10,
    "start_time": "2022-06-23T12:57:51.660Z"
   },
   {
    "duration": 22,
    "start_time": "2022-06-23T12:57:55.365Z"
   },
   {
    "duration": 16,
    "start_time": "2022-06-23T12:58:29.592Z"
   },
   {
    "duration": 4,
    "start_time": "2022-06-23T12:58:49.149Z"
   },
   {
    "duration": 103,
    "start_time": "2022-06-23T12:58:49.161Z"
   },
   {
    "duration": 11,
    "start_time": "2022-06-23T12:58:49.267Z"
   },
   {
    "duration": 3,
    "start_time": "2022-06-23T12:58:49.280Z"
   },
   {
    "duration": 25,
    "start_time": "2022-06-23T12:58:49.285Z"
   },
   {
    "duration": 55,
    "start_time": "2022-06-23T12:58:49.312Z"
   },
   {
    "duration": 37,
    "start_time": "2022-06-23T12:58:49.370Z"
   },
   {
    "duration": 14,
    "start_time": "2022-06-23T12:58:49.409Z"
   },
   {
    "duration": 16,
    "start_time": "2022-06-23T12:58:49.425Z"
   },
   {
    "duration": 5,
    "start_time": "2022-06-23T12:58:49.468Z"
   },
   {
    "duration": 2721,
    "start_time": "2022-06-23T12:58:49.475Z"
   },
   {
    "duration": 1765,
    "start_time": "2022-06-23T12:58:52.198Z"
   },
   {
    "duration": 5,
    "start_time": "2022-06-23T12:58:53.967Z"
   },
   {
    "duration": 14,
    "start_time": "2022-06-23T12:58:53.974Z"
   },
   {
    "duration": 10,
    "start_time": "2022-06-23T12:58:53.991Z"
   },
   {
    "duration": 11,
    "start_time": "2022-06-23T12:58:54.002Z"
   },
   {
    "duration": 52,
    "start_time": "2022-06-23T12:58:54.015Z"
   },
   {
    "duration": 393,
    "start_time": "2022-06-23T12:58:54.070Z"
   },
   {
    "duration": 15,
    "start_time": "2022-06-23T12:58:54.468Z"
   },
   {
    "duration": 8,
    "start_time": "2022-06-23T12:58:54.486Z"
   },
   {
    "duration": 590,
    "start_time": "2022-06-23T12:58:54.496Z"
   },
   {
    "duration": 125334,
    "start_time": "2022-06-23T12:58:55.089Z"
   },
   {
    "duration": 1245,
    "start_time": "2022-06-23T13:01:00.426Z"
   },
   {
    "duration": 3228,
    "start_time": "2022-06-23T13:01:01.673Z"
   },
   {
    "duration": 591,
    "start_time": "2022-06-23T13:01:04.903Z"
   },
   {
    "duration": 13,
    "start_time": "2022-06-23T13:04:53.172Z"
   },
   {
    "duration": 56,
    "start_time": "2022-06-23T13:04:57.193Z"
   },
   {
    "duration": 6,
    "start_time": "2022-06-23T13:05:03.897Z"
   },
   {
    "duration": 1493,
    "start_time": "2022-06-23T13:05:04.601Z"
   },
   {
    "duration": 8,
    "start_time": "2022-06-23T13:06:31.642Z"
   },
   {
    "duration": 3603,
    "start_time": "2022-06-23T13:06:32.840Z"
   },
   {
    "duration": 5,
    "start_time": "2022-06-23T14:51:17.538Z"
   },
   {
    "duration": 3964,
    "start_time": "2022-06-23T14:51:17.946Z"
   },
   {
    "duration": 1978,
    "start_time": "2022-07-28T18:00:09.994Z"
   },
   {
    "duration": 183,
    "start_time": "2022-07-28T18:00:11.975Z"
   },
   {
    "duration": 14,
    "start_time": "2022-07-28T18:00:12.160Z"
   },
   {
    "duration": 3,
    "start_time": "2022-07-28T18:00:12.176Z"
   },
   {
    "duration": 18,
    "start_time": "2022-07-28T18:00:12.181Z"
   },
   {
    "duration": 34,
    "start_time": "2022-07-28T18:00:12.201Z"
   },
   {
    "duration": 28,
    "start_time": "2022-07-28T18:00:12.237Z"
   },
   {
    "duration": 14,
    "start_time": "2022-07-28T18:00:12.267Z"
   },
   {
    "duration": 42,
    "start_time": "2022-07-28T18:00:12.283Z"
   },
   {
    "duration": 7,
    "start_time": "2022-07-28T18:00:12.328Z"
   },
   {
    "duration": 2812,
    "start_time": "2022-07-28T18:00:12.337Z"
   },
   {
    "duration": 1886,
    "start_time": "2022-07-28T18:00:15.152Z"
   },
   {
    "duration": 6,
    "start_time": "2022-07-28T18:00:17.040Z"
   },
   {
    "duration": 10,
    "start_time": "2022-07-28T18:00:17.048Z"
   },
   {
    "duration": 13,
    "start_time": "2022-07-28T18:00:17.060Z"
   },
   {
    "duration": 12,
    "start_time": "2022-07-28T18:00:17.074Z"
   },
   {
    "duration": 21,
    "start_time": "2022-07-28T18:00:17.087Z"
   },
   {
    "duration": 402,
    "start_time": "2022-07-28T18:00:17.110Z"
   },
   {
    "duration": 13,
    "start_time": "2022-07-28T18:00:17.514Z"
   },
   {
    "duration": 12,
    "start_time": "2022-07-28T18:00:17.528Z"
   },
   {
    "duration": 662,
    "start_time": "2022-07-28T18:00:17.542Z"
   },
   {
    "duration": 129057,
    "start_time": "2022-07-28T18:00:18.206Z"
   },
   {
    "duration": 1360,
    "start_time": "2022-07-28T18:02:27.265Z"
   },
   {
    "duration": 6,
    "start_time": "2022-07-28T18:02:28.627Z"
   },
   {
    "duration": 3962,
    "start_time": "2022-07-28T18:02:28.634Z"
   },
   {
    "duration": 6,
    "start_time": "2022-07-29T12:23:12.017Z"
   },
   {
    "duration": 85,
    "start_time": "2022-07-29T12:23:12.026Z"
   },
   {
    "duration": 14,
    "start_time": "2022-07-29T12:23:12.113Z"
   },
   {
    "duration": 6,
    "start_time": "2022-07-29T12:23:12.129Z"
   },
   {
    "duration": 13,
    "start_time": "2022-07-29T12:23:12.136Z"
   },
   {
    "duration": 72,
    "start_time": "2022-07-29T12:23:12.151Z"
   },
   {
    "duration": 29,
    "start_time": "2022-07-29T12:23:12.226Z"
   },
   {
    "duration": 18,
    "start_time": "2022-07-29T12:23:12.257Z"
   },
   {
    "duration": 42,
    "start_time": "2022-07-29T12:23:12.278Z"
   },
   {
    "duration": 8,
    "start_time": "2022-07-29T12:23:12.322Z"
   },
   {
    "duration": 2973,
    "start_time": "2022-07-29T12:23:12.332Z"
   },
   {
    "duration": 1791,
    "start_time": "2022-07-29T12:23:15.309Z"
   },
   {
    "duration": 10,
    "start_time": "2022-07-29T12:23:17.101Z"
   },
   {
    "duration": 12,
    "start_time": "2022-07-29T12:23:17.113Z"
   },
   {
    "duration": 15,
    "start_time": "2022-07-29T12:23:17.127Z"
   },
   {
    "duration": 13,
    "start_time": "2022-07-29T12:23:17.144Z"
   },
   {
    "duration": 59,
    "start_time": "2022-07-29T12:23:17.159Z"
   },
   {
    "duration": 450,
    "start_time": "2022-07-29T12:23:17.221Z"
   },
   {
    "duration": 14,
    "start_time": "2022-07-29T12:23:17.673Z"
   },
   {
    "duration": 28,
    "start_time": "2022-07-29T12:23:17.690Z"
   },
   {
    "duration": 714,
    "start_time": "2022-07-29T12:23:17.720Z"
   }
  ],
  "kernelspec": {
   "display_name": "Python 3 (ipykernel)",
   "language": "python",
   "name": "python3"
  },
  "language_info": {
   "codemirror_mode": {
    "name": "ipython",
    "version": 3
   },
   "file_extension": ".py",
   "mimetype": "text/x-python",
   "name": "python",
   "nbconvert_exporter": "python",
   "pygments_lexer": "ipython3",
   "version": "3.9.5"
  },
  "toc": {
   "base_numbering": 1,
   "nav_menu": {},
   "number_sections": true,
   "sideBar": true,
   "skip_h1_title": true,
   "title_cell": "Оглавление",
   "title_sidebar": "Contents",
   "toc_cell": true,
   "toc_position": {
    "height": "calc(100% - 180px)",
    "left": "10px",
    "top": "150px",
    "width": "288px"
   },
   "toc_section_display": true,
   "toc_window_display": false
  }
 },
 "nbformat": 4,
 "nbformat_minor": 5
}
