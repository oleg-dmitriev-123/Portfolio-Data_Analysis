{
 "cells": [
  {
   "cell_type": "markdown",
   "id": "99605a56",
   "metadata": {},
   "source": [
    "# Анализ рынка заведений общественного питания Москвы"
   ]
  },
  {
   "cell_type": "markdown",
   "id": "d3a6d4bc",
   "metadata": {
    "toc": true
   },
   "source": [
    "<h1>Оглавление<span class=\"tocSkip\"></span></h1>\n",
    "<div class=\"toc\"><ul class=\"toc-item\"><li><span><a href=\"#Описание-проекта\" data-toc-modified-id=\"Описание-проекта-1\"><span class=\"toc-item-num\">1&nbsp;&nbsp;</span>Описание проекта</a></span></li><li><span><a href=\"#Материалы\" data-toc-modified-id=\"Материалы-2\"><span class=\"toc-item-num\">2&nbsp;&nbsp;</span>Материалы</a></span></li><li><span><a href=\"#Настройка-окружения\" data-toc-modified-id=\"Настройка-окружения-3\"><span class=\"toc-item-num\">3&nbsp;&nbsp;</span>Настройка окружения</a></span></li><li><span><a href=\"#Изучение-данных\" data-toc-modified-id=\"Изучение-данных-4\"><span class=\"toc-item-num\">4&nbsp;&nbsp;</span>Изучение данных</a></span><ul class=\"toc-item\"><li><span><a href=\"#Удаление-дубликатов-и-пропусков\" data-toc-modified-id=\"Удаление-дубликатов-и-пропусков-4.1\"><span class=\"toc-item-num\">4.1&nbsp;&nbsp;</span>Удаление дубликатов и пропусков</a></span></li><li><span><a href=\"#Частичное-приведение-object_name-к-единому-стилю.\" data-toc-modified-id=\"Частичное-приведение-object_name-к-единому-стилю.-4.2\"><span class=\"toc-item-num\">4.2&nbsp;&nbsp;</span>Частичное приведение object_name к единому стилю.</a></span></li></ul></li><li><span><a href=\"#Исследование\" data-toc-modified-id=\"Исследование-5\"><span class=\"toc-item-num\">5&nbsp;&nbsp;</span>Исследование</a></span><ul class=\"toc-item\"><li><span><a href=\"#Исследование-соотношения-видов-объектов-общественного-питания-по-количеству\" data-toc-modified-id=\"Исследование-соотношения-видов-объектов-общественного-питания-по-количеству-5.1\"><span class=\"toc-item-num\">5.1&nbsp;&nbsp;</span>Исследование соотношения видов объектов общественного питания по количеству</a></span><ul class=\"toc-item\"><li><span><a href=\"#Вывод-№1\" data-toc-modified-id=\"Вывод-№1-5.1.1\"><span class=\"toc-item-num\">5.1.1&nbsp;&nbsp;</span>Вывод №1</a></span></li></ul></li><li><span><a href=\"#Исследование-соотношений-сетевых-и-несетевых-заведений-по-количеству\" data-toc-modified-id=\"Исследование-соотношений-сетевых-и-несетевых-заведений-по-количеству-5.2\"><span class=\"toc-item-num\">5.2&nbsp;&nbsp;</span>Исследование соотношений сетевых и несетевых заведений по количеству</a></span><ul class=\"toc-item\"><li><span><a href=\"#Вывод-№2\" data-toc-modified-id=\"Вывод-№2-5.2.1\"><span class=\"toc-item-num\">5.2.1&nbsp;&nbsp;</span>Вывод №2</a></span></li></ul></li><li><span><a href=\"#Взаимосвязь-типа-заведения-и-принадлежности-к-сети-заведений\" data-toc-modified-id=\"Взаимосвязь-типа-заведения-и-принадлежности-к-сети-заведений-5.3\"><span class=\"toc-item-num\">5.3&nbsp;&nbsp;</span>Взаимосвязь типа заведения и принадлежности к сети заведений</a></span><ul class=\"toc-item\"><li><span><a href=\"#Вывод-№3\" data-toc-modified-id=\"Вывод-№3-5.3.1\"><span class=\"toc-item-num\">5.3.1&nbsp;&nbsp;</span>Вывод №3</a></span></li></ul></li><li><span><a href=\"#Исследование-взаимосвязи-числа-посадочных-мест-и-количества-заведений-в-составе-сети\" data-toc-modified-id=\"Исследование-взаимосвязи-числа-посадочных-мест-и-количества-заведений-в-составе-сети-5.4\"><span class=\"toc-item-num\">5.4&nbsp;&nbsp;</span>Исследование взаимосвязи числа посадочных мест и количества заведений в составе сети</a></span><ul class=\"toc-item\"><li><span><a href=\"#Вывод-№4\" data-toc-modified-id=\"Вывод-№4-5.4.1\"><span class=\"toc-item-num\">5.4.1&nbsp;&nbsp;</span>Вывод №4</a></span></li></ul></li><li><span><a href=\"#Исследование-взаимосвязи-вида-объекта-общественного-питания-и-среднего-количества-посадочных-мест\" data-toc-modified-id=\"Исследование-взаимосвязи-вида-объекта-общественного-питания-и-среднего-количества-посадочных-мест-5.5\"><span class=\"toc-item-num\">5.5&nbsp;&nbsp;</span>Исследование взаимосвязи вида объекта общественного питания и среднего количества посадочных мест</a></span><ul class=\"toc-item\"><li><span><a href=\"#Вывод-№5\" data-toc-modified-id=\"Вывод-№5-5.5.1\"><span class=\"toc-item-num\">5.5.1&nbsp;&nbsp;</span>Вывод №5</a></span></li></ul></li><li><span><a href=\"#Топ-10-улиц-по-количеству-объектов-общественного-питания\" data-toc-modified-id=\"Топ-10-улиц-по-количеству-объектов-общественного-питания-5.6\"><span class=\"toc-item-num\">5.6&nbsp;&nbsp;</span>Топ-10 улиц по количеству объектов общественного питания</a></span><ul class=\"toc-item\"><li><span><a href=\"#Выделение-в-отдельный-столбец-информации-об-улице-из-столбца-address\" data-toc-modified-id=\"Выделение-в-отдельный-столбец-информации-об-улице-из-столбца-address-5.6.1\"><span class=\"toc-item-num\">5.6.1&nbsp;&nbsp;</span>Выделение в отдельный столбец информации об улице из столбца address</a></span></li><li><span><a href=\"#График-топ-10-улиц-по-количеству-объектов-общественного-питания\" data-toc-modified-id=\"График-топ-10-улиц-по-количеству-объектов-общественного-питания-5.6.2\"><span class=\"toc-item-num\">5.6.2&nbsp;&nbsp;</span>График топ-10 улиц по количеству объектов общественного питания</a></span></li><li><span><a href=\"#Получение-адресной-информации-из-внешних-источников\" data-toc-modified-id=\"Получение-адресной-информации-из-внешних-источников-5.6.3\"><span class=\"toc-item-num\">5.6.3&nbsp;&nbsp;</span>Получение адресной информации из внешних источников</a></span></li><li><span><a href=\"#Вывод-№6\" data-toc-modified-id=\"Вывод-№6-5.6.4\"><span class=\"toc-item-num\">5.6.4&nbsp;&nbsp;</span>Вывод №6</a></span></li></ul></li><li><span><a href=\"#Улицы-с-одним-объектом-общественного-питания\" data-toc-modified-id=\"Улицы-с-одним-объектом-общественного-питания-5.7\"><span class=\"toc-item-num\">5.7&nbsp;&nbsp;</span>Улицы с одним объектом общественного питания</a></span><ul class=\"toc-item\"><li><span><a href=\"#Вывод-№7\" data-toc-modified-id=\"Вывод-№7-5.7.1\"><span class=\"toc-item-num\">5.7.1&nbsp;&nbsp;</span>Вывод №7</a></span></li></ul></li><li><span><a href=\"#Распределение-количества-посадочных-мест-для-улиц-с-большим-количеством-объектов-общественного-питания\" data-toc-modified-id=\"Распределение-количества-посадочных-мест-для-улиц-с-большим-количеством-объектов-общественного-питания-5.8\"><span class=\"toc-item-num\">5.8&nbsp;&nbsp;</span>Распределение количества посадочных мест для улиц с большим количеством объектов общественного питания</a></span><ul class=\"toc-item\"><li><span><a href=\"#Вывод-№8\" data-toc-modified-id=\"Вывод-№8-5.8.1\"><span class=\"toc-item-num\">5.8.1&nbsp;&nbsp;</span>Вывод №8</a></span></li></ul></li></ul></li><li><span><a href=\"#Общий-вывод\" data-toc-modified-id=\"Общий-вывод-6\"><span class=\"toc-item-num\">6&nbsp;&nbsp;</span>Общий вывод</a></span></li></ul></div>"
   ]
  },
  {
   "cell_type": "markdown",
   "id": "9758018f",
   "metadata": {},
   "source": [
    "## Описание проекта"
   ]
  },
  {
   "cell_type": "markdown",
   "id": "e631a7c9",
   "metadata": {},
   "source": [
    "Необходимо подготовить исследование рынка общественного питания в Москве, чтобы принять правильные решения относительно открытия нового кафе."
   ]
  },
  {
   "cell_type": "markdown",
   "id": "a966e441",
   "metadata": {},
   "source": [
    "**Описание данных**\n",
    "\n",
    "Таблица rest_data:\n",
    "\n",
    "Имя переменной | Описание данных\n",
    "---|---\n",
    "id | идентификатор объекта;\n",
    "object_name | название объекта общественного питания;\n",
    "chain | сетевой ресторан;\n",
    "object_type | тип объекта общественного питания;\n",
    "address | адрес;\n",
    "number | количество посадочных мест."
   ]
  },
  {
   "cell_type": "markdown",
   "id": "d7cc2cd4",
   "metadata": {},
   "source": [
    "## Материалы\n",
    "\n",
    "[Презентация](https://drive.google.com/file/d/1Q72ftfBwyzasfzSKuPHTVRjZ2PYGa2eW/view?usp=sharing)"
   ]
  },
  {
   "cell_type": "markdown",
   "id": "1aa521cc",
   "metadata": {},
   "source": [
    "## Настройка окружения"
   ]
  },
  {
   "cell_type": "code",
   "execution_count": 31,
   "id": "b0e5527f",
   "metadata": {},
   "outputs": [],
   "source": [
    "# отключаю предупреждение anaconda\n",
    "import warnings\n",
    "warnings.simplefilter('ignore')\n",
    "\n",
    "import pandas as pd\n",
    "\n",
    "import matplotlib\n",
    "import matplotlib.pyplot as plt\n",
    "#matplotlib.style.use('seaborn-muted')\n",
    "\n",
    "import seaborn as sns\n",
    "\n",
    "from plotly import graph_objects as go\n",
    "import plotly.express as px\n",
    "\n",
    "from numpy import median\n",
    "import re"
   ]
  },
  {
   "cell_type": "markdown",
   "id": "c95d1972",
   "metadata": {},
   "source": [
    "## Изучение данных"
   ]
  },
  {
   "cell_type": "code",
   "execution_count": 32,
   "id": "8a4a3dc5",
   "metadata": {},
   "outputs": [],
   "source": [
    "try:\n",
    "    data = pd.read_csv('rest_data.csv')\n",
    "except:\n",
    "    data = pd.read_csv('/datasets/rest_data.csv')"
   ]
  },
  {
   "cell_type": "code",
   "execution_count": 33,
   "id": "57f71c97",
   "metadata": {},
   "outputs": [
    {
     "data": {
      "text/html": [
       "<div>\n",
       "<style scoped>\n",
       "    .dataframe tbody tr th:only-of-type {\n",
       "        vertical-align: middle;\n",
       "    }\n",
       "\n",
       "    .dataframe tbody tr th {\n",
       "        vertical-align: top;\n",
       "    }\n",
       "\n",
       "    .dataframe thead th {\n",
       "        text-align: right;\n",
       "    }\n",
       "</style>\n",
       "<table border=\"1\" class=\"dataframe\">\n",
       "  <thead>\n",
       "    <tr style=\"text-align: right;\">\n",
       "      <th></th>\n",
       "      <th>id</th>\n",
       "      <th>object_name</th>\n",
       "      <th>chain</th>\n",
       "      <th>object_type</th>\n",
       "      <th>address</th>\n",
       "      <th>number</th>\n",
       "    </tr>\n",
       "  </thead>\n",
       "  <tbody>\n",
       "    <tr>\n",
       "      <th>0</th>\n",
       "      <td>151635</td>\n",
       "      <td>СМЕТАНА</td>\n",
       "      <td>нет</td>\n",
       "      <td>кафе</td>\n",
       "      <td>город Москва, улица Егора Абакумова, дом 9</td>\n",
       "      <td>48</td>\n",
       "    </tr>\n",
       "    <tr>\n",
       "      <th>1</th>\n",
       "      <td>77874</td>\n",
       "      <td>Родник</td>\n",
       "      <td>нет</td>\n",
       "      <td>кафе</td>\n",
       "      <td>город Москва, улица Талалихина, дом 2/1, корпус 1</td>\n",
       "      <td>35</td>\n",
       "    </tr>\n",
       "    <tr>\n",
       "      <th>2</th>\n",
       "      <td>24309</td>\n",
       "      <td>Кафе «Академия»</td>\n",
       "      <td>нет</td>\n",
       "      <td>кафе</td>\n",
       "      <td>город Москва, Абельмановская улица, дом 6</td>\n",
       "      <td>95</td>\n",
       "    </tr>\n",
       "    <tr>\n",
       "      <th>3</th>\n",
       "      <td>21894</td>\n",
       "      <td>ПИЦЦЕТОРИЯ</td>\n",
       "      <td>да</td>\n",
       "      <td>кафе</td>\n",
       "      <td>город Москва, Абрамцевская улица, дом 1</td>\n",
       "      <td>40</td>\n",
       "    </tr>\n",
       "    <tr>\n",
       "      <th>4</th>\n",
       "      <td>119365</td>\n",
       "      <td>Кафе «Вишневая метель»</td>\n",
       "      <td>нет</td>\n",
       "      <td>кафе</td>\n",
       "      <td>город Москва, Абрамцевская улица, дом 9, корпус 1</td>\n",
       "      <td>50</td>\n",
       "    </tr>\n",
       "  </tbody>\n",
       "</table>\n",
       "</div>"
      ],
      "text/plain": [
       "       id             object_name chain object_type  \\\n",
       "0  151635                 СМЕТАНА   нет        кафе   \n",
       "1   77874                  Родник   нет        кафе   \n",
       "2   24309         Кафе «Академия»   нет        кафе   \n",
       "3   21894              ПИЦЦЕТОРИЯ    да        кафе   \n",
       "4  119365  Кафе «Вишневая метель»   нет        кафе   \n",
       "\n",
       "                                             address  number  \n",
       "0         город Москва, улица Егора Абакумова, дом 9      48  \n",
       "1  город Москва, улица Талалихина, дом 2/1, корпус 1      35  \n",
       "2          город Москва, Абельмановская улица, дом 6      95  \n",
       "3            город Москва, Абрамцевская улица, дом 1      40  \n",
       "4  город Москва, Абрамцевская улица, дом 9, корпус 1      50  "
      ]
     },
     "execution_count": 33,
     "metadata": {},
     "output_type": "execute_result"
    }
   ],
   "source": [
    "data.head()"
   ]
  },
  {
   "cell_type": "code",
   "execution_count": 34,
   "id": "3f072575",
   "metadata": {
    "scrolled": true
   },
   "outputs": [
    {
     "name": "stdout",
     "output_type": "stream",
     "text": [
      "<class 'pandas.core.frame.DataFrame'>\n",
      "RangeIndex: 15366 entries, 0 to 15365\n",
      "Data columns (total 6 columns):\n",
      " #   Column       Non-Null Count  Dtype \n",
      "---  ------       --------------  ----- \n",
      " 0   id           15366 non-null  int64 \n",
      " 1   object_name  15366 non-null  object\n",
      " 2   chain        15366 non-null  object\n",
      " 3   object_type  15366 non-null  object\n",
      " 4   address      15366 non-null  object\n",
      " 5   number       15366 non-null  int64 \n",
      "dtypes: int64(2), object(4)\n",
      "memory usage: 720.4+ KB\n"
     ]
    }
   ],
   "source": [
    "data.info()"
   ]
  },
  {
   "cell_type": "markdown",
   "id": "5d79981a",
   "metadata": {},
   "source": [
    "### Удаление дубликатов и пропусков"
   ]
  },
  {
   "cell_type": "code",
   "execution_count": 35,
   "id": "85a949cb",
   "metadata": {},
   "outputs": [
    {
     "data": {
      "text/html": [
       "<div>\n",
       "<style scoped>\n",
       "    .dataframe tbody tr th:only-of-type {\n",
       "        vertical-align: middle;\n",
       "    }\n",
       "\n",
       "    .dataframe tbody tr th {\n",
       "        vertical-align: top;\n",
       "    }\n",
       "\n",
       "    .dataframe thead th {\n",
       "        text-align: right;\n",
       "    }\n",
       "</style>\n",
       "<table border=\"1\" class=\"dataframe\">\n",
       "  <thead>\n",
       "    <tr style=\"text-align: right;\">\n",
       "      <th></th>\n",
       "      <th>id</th>\n",
       "      <th>object_name</th>\n",
       "      <th>chain</th>\n",
       "      <th>object_type</th>\n",
       "      <th>address</th>\n",
       "      <th>number</th>\n",
       "    </tr>\n",
       "  </thead>\n",
       "  <tbody>\n",
       "    <tr>\n",
       "      <th>0</th>\n",
       "      <td>151635</td>\n",
       "      <td>СМЕТАНА</td>\n",
       "      <td>нет</td>\n",
       "      <td>кафе</td>\n",
       "      <td>город Москва, улица Егора Абакумова, дом 9</td>\n",
       "      <td>48</td>\n",
       "    </tr>\n",
       "    <tr>\n",
       "      <th>1</th>\n",
       "      <td>77874</td>\n",
       "      <td>Родник</td>\n",
       "      <td>нет</td>\n",
       "      <td>кафе</td>\n",
       "      <td>город Москва, улица Талалихина, дом 2/1, корпус 1</td>\n",
       "      <td>35</td>\n",
       "    </tr>\n",
       "    <tr>\n",
       "      <th>2</th>\n",
       "      <td>24309</td>\n",
       "      <td>Кафе «Академия»</td>\n",
       "      <td>нет</td>\n",
       "      <td>кафе</td>\n",
       "      <td>город Москва, Абельмановская улица, дом 6</td>\n",
       "      <td>95</td>\n",
       "    </tr>\n",
       "    <tr>\n",
       "      <th>3</th>\n",
       "      <td>21894</td>\n",
       "      <td>ПИЦЦЕТОРИЯ</td>\n",
       "      <td>да</td>\n",
       "      <td>кафе</td>\n",
       "      <td>город Москва, Абрамцевская улица, дом 1</td>\n",
       "      <td>40</td>\n",
       "    </tr>\n",
       "    <tr>\n",
       "      <th>4</th>\n",
       "      <td>119365</td>\n",
       "      <td>Кафе «Вишневая метель»</td>\n",
       "      <td>нет</td>\n",
       "      <td>кафе</td>\n",
       "      <td>город Москва, Абрамцевская улица, дом 9, корпус 1</td>\n",
       "      <td>50</td>\n",
       "    </tr>\n",
       "  </tbody>\n",
       "</table>\n",
       "</div>"
      ],
      "text/plain": [
       "       id             object_name chain object_type  \\\n",
       "0  151635                 СМЕТАНА   нет        кафе   \n",
       "1   77874                  Родник   нет        кафе   \n",
       "2   24309         Кафе «Академия»   нет        кафе   \n",
       "3   21894              ПИЦЦЕТОРИЯ    да        кафе   \n",
       "4  119365  Кафе «Вишневая метель»   нет        кафе   \n",
       "\n",
       "                                             address  number  \n",
       "0         город Москва, улица Егора Абакумова, дом 9      48  \n",
       "1  город Москва, улица Талалихина, дом 2/1, корпус 1      35  \n",
       "2          город Москва, Абельмановская улица, дом 6      95  \n",
       "3            город Москва, Абрамцевская улица, дом 1      40  \n",
       "4  город Москва, Абрамцевская улица, дом 9, корпус 1      50  "
      ]
     },
     "execution_count": 35,
     "metadata": {},
     "output_type": "execute_result"
    }
   ],
   "source": [
    "data.head()"
   ]
  },
  {
   "cell_type": "code",
   "execution_count": 36,
   "id": "7521e19c",
   "metadata": {},
   "outputs": [
    {
     "name": "stdout",
     "output_type": "stream",
     "text": [
      "Кол-во дубликатов: 82\n",
      "Кол-во пропусков:  object_name    0\n",
      "chain          0\n",
      "object_type    0\n",
      "address        0\n",
      "number         0\n",
      "dtype: int64\n",
      "Кол-во строк до удаления дубликатов: 15366\n",
      "Кол-во строк после удаления дубликатов: 15284\n"
     ]
    }
   ],
   "source": [
    "data_no_id = data[['object_name','chain','object_type','address','number']]\n",
    "print('Кол-во дубликатов:',data_no_id.duplicated().sum())\n",
    "print('Кол-во пропусков: ',data_no_id.isna().sum())\n",
    "\n",
    "#удаление дубликатов\n",
    "print('Кол-во строк до удаления дубликатов:',data.shape[0])\n",
    "data = data.groupby(['object_name','chain','object_type','address','number']).agg({'id':'first'}).reset_index()\n",
    "print('Кол-во строк после удаления дубликатов:',data.shape[0])"
   ]
  },
  {
   "cell_type": "markdown",
   "id": "124ca6df",
   "metadata": {},
   "source": [
    "### Частичное приведение object_name к единому стилю."
   ]
  },
  {
   "cell_type": "code",
   "execution_count": 37,
   "id": "ecf92973",
   "metadata": {},
   "outputs": [],
   "source": [
    "data['object_name'] = data['object_name'].str.lower()"
   ]
  },
  {
   "cell_type": "code",
   "execution_count": 38,
   "id": "47e7b912",
   "metadata": {
    "scrolled": true
   },
   "outputs": [
    {
     "name": "stdout",
     "output_type": "stream",
     "text": [
      "1-ый московский кадетский корпус\n",
      "1-й мок\n",
      "100 личная столовая\n",
      "100 личное кафе\n",
      "1001 ночь\n",
      "100лоффка\n",
      "101 вкус\n",
      "13 rules\n",
      "13 rules kraft beer\n",
      "15 kitchen+bar\n",
      "18 автобусный парк\n",
      "19bar atmosphere\n",
      "1x bet\n",
      "2-й автобусный парк\n",
      "23'00\n",
      "24 градуса\n",
      "259\n",
      "3 skovorodki\n",
      "3 правила\n",
      "33 пингвина\n",
      "37-37\n",
      "44 чашма\n",
      "495\n",
      "5звезд юг 52\n",
      "68. пауза\n",
      "69 pints бар\n",
      "69 pints\n",
      "7 сендвичей\n",
      "7 злаков\n",
      "7 сэндвичей-meating\n",
      "7717 lounge (кальянная)\n",
      "8 oz унций\n",
      "8-ой троллейбусный парк\n",
      "9 автобусный парк\n",
      "9bar\n",
      "abc coffee roasters\n",
      "accenti\n",
      "adry\n",
      "aglomerat\n",
      "al33 пиццерия бар ботега\n",
      "aloha poke bar\n",
      "amarsi\n",
      "amg\n",
      "apartament пар бар\n",
      "aqkitchen\n",
      "art pub\n",
      "abbey players irish pub\n",
      "absolem\n",
      "acai family\n",
      "alex пекарня\n",
      "amande cafe\n",
      "americano кафе\n",
      "amerigos pizza\n",
      "amore grande\n",
      "amore, итальянское мороженое\n",
      "amster bar snacks\n",
      "an nam\n",
      "andiamo\n",
      "andy's friends\n",
      "arahis pub\n",
      "arbat hall\n",
      "arena by soho family\n",
      "aroma\n",
      "art cafe\n",
      "art lunch\n",
      "art&food\n",
      "avenue 6\n",
      "barbados\n",
      "barrique\n",
      "bazar\n",
      "bb & burgers\n",
      "bb grill\n",
      "bb энд burger\n",
      "bb&burgers\n",
      "bbburgers\n",
      "bbq\n",
      "bbq am барбекю\n",
      "beer beer bar\n",
      "beer dock\n",
      "benefit фреш бар\n",
      "bibi-донер\n",
      "big суши\n",
      "bistrot\n",
      "black star burger\n",
      "blin.ru food&tea\n",
      "blinдаж\n",
      "bo\n",
      "bokker\n",
      "boroda burger\n",
      "boston\n",
      "bp\n",
      "bq cafe & osteria mario\n",
      "brasserie мост\n",
      "brb\n",
      "breac cafe\n",
      "brewery&bar poet\n",
      "brawlers pab\n",
      "buba by sumosan\n",
      "bubba sheri\n",
      "burger heroes\n",
      "buro tsum\n",
      "buzfood\n",
      "bami\n",
      "babbles dessert&babbles\n",
      "bambule\n",
      "bananas\n",
      "bar bq\n",
      "bar bq cafe\n",
      "bar dag\n",
      "bar losbandidos\n",
      "bar for bikers\n",
      "barbqcafe\n",
      "barbecue beer bar\n",
      "barbecue bbq storege\n",
      "barbeque\n",
      "barbeque bbq\n",
      "bardak кафе по-турецки\n",
      "baristo coffee\n",
      "barrister\n",
      "barton\n",
      "baskin robbins\n",
      "be positive\n",
      "be my pizza\n",
      "beef роял\n",
      "beer gik\n",
      "beer happens\n",
      "beer harbor\n",
      "beer and fries\n",
      "beernation\n",
      "beermood\n",
      "beertep\n",
      "benner's\n",
      "berikoni\n",
      "berry fruit\n",
      "beverly hills diner\n",
      "bierloga\n",
      "big wall cafe\n",
      "big boys\n",
      "bigati bar\n",
      "bistrof & boutigue №7\n",
      "bizone hookah\n",
      "bizone антикафе\n",
      "black & white\n",
      "black hat\n",
      "black star burger prime\n",
      "black star burgers\n",
      "black swan pub&shop\n",
      "black cafe\n",
      "black coffe and food\n",
      "black&black\n",
      "blak tai\n",
      "blak's\n",
      "bloom-n-brew\n",
      "blush\n",
      "bo-bo lounge\n",
      "bob's your uncle\n",
      "bocconcino\n",
      "bodrero\n",
      "bodro coffee\n",
      "bodrum\n",
      "boilerman craft beer\n",
      "bolognetta\n",
      "bon app\n",
      "bongo coffee\n",
      "boobo\n",
      "bootleggers\n",
      "born to burn\n",
      "boroda\n",
      "bosco bar\n",
      "bosco cafe\n",
      "bottomsup\n",
      "bridge coffee\n",
      "brioche\n",
      "brisket bbq\n",
      "broms\n",
      "brooklyn burgers bar\n",
      "brou star броубар\n",
      "brut bar\n",
      "bubble mania\n",
      "bubbleology\n",
      "bucks coffee\n",
      "buffalo\n",
      "buffalo's & tacodor\n",
      "buffalos\n",
      "burger & pizzetta\n",
      "burger club\n",
      "burger first\n",
      "burger №1\n",
      "burgerking\n",
      "burgerbar dos bandidos\n",
      "bushe\n",
      "buthers стейк бар\n",
      "c cups сеть стильных кофеен\n",
      "cafe de arts\n",
      "casa leone\n",
      "catch\n",
      "cedro\n",
      "cheese connection\n",
      "chehonte\n",
      "chill&beer\n",
      "ciao bella\n",
      "ciao pizza\n",
      "ciderella\n",
      "cinnabon\n",
      "cito\n",
      "cofe fest\n",
      "coffe\n",
      "coffe nobe\n",
      "coffe way\n",
      "coffee bar\n",
      "coffee gate\n",
      "coffee like\n",
      "coffee sova\n",
      "coffee way\n",
      "cofix\n",
      "cofix+plombir\n",
      "collider\n",
      "colors\n",
      "correas\n",
      "crafter\n",
      "creco\n",
      "cross keys pab\n",
      "cuba паб\n",
      "cups & hugs\n",
      "cafe 88\n",
      "cafe giusto\n",
      "cafe rioba\n",
      "cafe del parco\n",
      "cafe&spa art de vie\n",
      "cafetera\n",
      "caffeine\n",
      "calabash club\n",
      "camera obscura\n",
      "carte d or\n",
      "casa di moska\n",
      "casa di familiya\n",
      "cash&curry\n",
      "cassette cafe\n",
      "castle dish\n",
      "catavina\n",
      "cavlar bar\n",
      "cernovar\n",
      "cevicheria.tartaria\n",
      "cezve coffee\n",
      "chaikhana shurpa\n",
      "charley's\n",
      "charlie moscow\n",
      "chefs table\n",
      "chicken duck\n",
      "chilling moscow\n",
      "chilling time\n",
      "china blue\n",
      "china street\n",
      "chinese market\n",
      "chinook ресторан\n",
      "chipl\n",
      "chips\n",
      "choice bar\n",
      "chopeat\n",
      "cihan steak and kebab\n",
      "cinnabon2\n",
      "citylunch\n",
      "classiko bar\n",
      "club le shateau\n",
      "cobra game house\n",
      "cofe mix\n",
      "coffe & master\n",
      "coffe bar\n",
      "coffe ko\n",
      "coffe point\n",
      "coffe to go\n",
      "coffe crew\n",
      "coffe in time\n",
      "coffe&kitchen\n",
      "coffe-like\n",
      "coffebrain\n",
      "coffee\n",
      "coffee & talk\n",
      "coffee & waffles & movenpick\n",
      "coffee bo\n",
      "coffee energy\n",
      "coffee good\n",
      "coffee moose\n",
      "coffee play\n",
      "coffee in\n",
      "coffee moments\n",
      "coffee moose кофейня\n",
      "coffee port\n",
      "coffee smile\n",
      "coffeeshop\n",
      "coffeefresh\n",
      "coffeeist\n",
      "coffeek\n",
      "coffeeshop company\n",
      "coffey\n",
      "cofix-bright\n",
      "cola burger\n",
      "community\n",
      "cookhouse\n",
      "copybara\n",
      "corner burger\n",
      "corner cafe kitchen\n",
      "cosmohookah bar\n",
      "costa coffee\n",
      "courvoisier\n",
      "craft & draft\n",
      "craft beer\n",
      "craft beer republic\n",
      "craft republic\n",
      "craft station\n",
      "crafted\n",
      "craftlaand\n",
      "crazy brothers\n",
      "cream station\n",
      "crema espresso bar\n",
      "crop\n",
      "croquette cafe\n",
      "crush hof\n",
      "crystal\n",
      "cure bar\n",
      "curry up\n",
      "cutlet\n",
      "cуши.пицца\n",
      "cити гольф\n",
      "d wine\n",
      "d&d cafe\n",
      "dante bar and kitchen\n",
      "dim sum\n",
      "dimsum&co\n",
      "district\n",
      "doner kebab\n",
      "doner шаурма\n",
      "doner-jn\n",
      "double b\n",
      "drake\n",
      "duck it\n",
      "duckit\n",
      "duckstars\n",
      "dagda irish pub\n",
      "daily chef\n",
      "danatos пицца\n",
      "dankin donats\n",
      "darbars\n",
      "dark patrik's pub\n",
      "dead rabbit pub\n",
      "deli by prime прайм-кафе\n",
      "devi\n",
      "di паоло\n",
      "dim sum & co\n",
      "dim sum&co\n",
      "dim sun\n",
      "dim&sam\n",
      "dippin dots\n",
      "dippin dots, мороженое\n",
      "dizengof99\n",
      "django lounge кальян-бар\n",
      "do do пицца\n",
      "dobrosco\n",
      "dodici wine and kitchen\n",
      "dolce gamarjoba\n",
      "dolce crema\n",
      "domino-s pizza\n",
      "dominos pizza\n",
      "donatello's\n",
      "doner club\n",
      "doner house\n",
      "doner kebab-куры гриль\n",
      "doner хаус\n",
      "doubl b\n",
      "double pizza\n",
      "doughnats coffee\n",
      "down house\n",
      "dream & drink caffee\n",
      "dream lounge moscow кальянная\n",
      "dreamwok\n",
      "drive\n",
      "drova\n",
      "dry and wet bar\n",
      "duck star's\n",
      "dunkin donuts\n",
      "dunkin donuts (азия box - бургер box)\n",
      "dым вино\n",
      "eataly\n",
      "efir lounge\n",
      "el cafe\n",
      "else kafe\n",
      "eshak\n",
      "everest hookah кальянная\n",
      "exlibris\n",
      "easy brix\n",
      "eat georgian\n",
      "eat market\n",
      "eat and talk\n",
      "eateriakitchen (паста)\n",
      "ecook\n",
      "edison\n",
      "el inka\n",
      "eleven-hall\n",
      "embers speakeasy\n",
      "enjoylife\n",
      "executive lounge (клубная гостинная)\n",
      "extra lounge\n",
      "fabrika deli\n",
      "fan food\n",
      "farro\n",
      "farш\n",
      "food place\n",
      "food point\n",
      "food store еда&бар\n",
      "fresh cafe\n",
      "fridays\n",
      "from rome to home\n",
      "fumisawa sushi\n",
      "fair play\n",
      "fame\n",
      "familly film\n",
      "family farm burgers\n",
      "fan zone\n",
      "farinari\n",
      "farsh\n",
      "fibonacci\n",
      "filin good bar\n",
      "filini\n",
      "fish me\n",
      "fish burger\n",
      "fishop и ramen&noodles\n",
      "five\n",
      "flames lounge\n",
      "fleur cafe\n",
      "flight club\n",
      "florentini\n",
      "food cafe\n",
      "food embassy юлии высоцкой\n",
      "food mama\n",
      "food market\n",
      "food room\n",
      "food store\n",
      "food trip cafe\n",
      "food and cakes\n",
      "foood bazar\n",
      "forest\n",
      "forneria\n",
      "fornetto\n",
      "forte bello, zafferano, edoko\n",
      "frank by баста\n",
      "franklin's roll&burger\n",
      "franklins\n",
      "franklins roll&burger,yamkee\n",
      "franllins\n",
      "french kiss\n",
      "frenchkiss\n",
      "frenchkiss free\n",
      "fresh bar\n",
      "fresh cacao\n",
      "fresh for you\n",
      "freshcafe\n",
      "freshup & cream bar\n",
      "frid chicken\n",
      "fridays kfc\n",
      "fried chicken\n",
      "friends\n",
      "friends&family\n",
      "fritado мир на сковороде\n",
      "froyolla\n",
      "fruit lab\n",
      "fruity yummy\n",
      "fudzy\n",
      "fusion\n",
      "fusion menu\n",
      "fарш\n",
      "g arbuz\n",
      "gagawa\n",
      "garden\n",
      "gianfranco\n",
      "gipsy\n",
      "gokos греческая кухня\n",
      "good enough\n",
      "grammy s\n",
      "grand урюк\n",
      "granny кафе ош\n",
      "grillfest (колбаски гриль)\n",
      "galateria plombir\n",
      "gallo pizza burger\n",
      "garden lounge кальянная\n",
      "garnets & рассольников\n",
      "gelateria plombir\n",
      "gelato bacio\n",
      "genso\n",
      "genso sushi, явтай\n",
      "gentleman coffee\n",
      "geometric pizza\n",
      "get lucky\n",
      "get and jerry\n",
      "glenuill\n",
      "gloster\n",
      "glow sabs\n",
      "glowsubs sandwiches\n",
      "go кофе\n",
      "gocoffe\n",
      "goat metal bar\n",
      "gold\n",
      "golden palace\n",
      "goncharov\n",
      "gonzo lounge\n",
      "good food\n",
      "good chillout коллекция\n",
      "goodman гудман\n",
      "gotham lounge\n",
      "gournest гнездо гурмана\n",
      "graff lounge\n",
      "granat\n",
      "grand cru\n",
      "grano\n",
      "greek freak\n",
      "grill room\n",
      "grill&garden\n",
      "grill-house\n",
      "guinness steak pub\n",
      "gvido\n",
      "gvido gelato\n",
      "haggis\n",
      "hamm's food\n",
      "hand\n",
      "hang kong\n",
      "healthy food\n",
      "help and friend\n",
      "heritage\n",
      "hygge\n",
      "hadwok\n",
      "happy cup club\n",
      "harat's pub\n",
      "harats pub\n",
      "hard wok cafe\n",
      "hardy lounge bar\n",
      "helthy food\n",
      "hidden bar\n",
      "high wok & sushi\n",
      "holy vegan\n",
      "hook time\n",
      "hookah burger\n",
      "hookah cloud lounge\n",
      "hookah maryino\n",
      "hookah place\n",
      "hookah place semenovskaya\n",
      "hookah time\n",
      "hookahplace\n",
      "hookahxv\n",
      "hookanplace\n",
      "hot noodle\n",
      "howards loves craft\n",
      "hub столовая\n",
      "hudson bar\n",
      "hungry wolf\n",
      "hunters\n",
      "i am ok\n",
      "i like craft\n",
      "i like grill\n",
      "i lounge\n",
      "i van gogh\n",
      "i like bar\n",
      "i-chef\n",
      "i-chet\n",
      "ibrohim кебаб\n",
      "ice tube\n",
      "icon\n",
      "id cafe здоровое питание\n",
      "il borgo\n",
      "il fornetto\n",
      "il forno иль форно\n",
      "il patio\n",
      "il pizzaiolo\n",
      "il tocco\n",
      "il патио\n",
      "il патиопланета суши\n",
      "in rocki\n",
      "indiyskaya tochka\n",
      "ipho cafe\n",
      "iq wine\n",
      "iqos\n",
      "irish mist pub\n",
      "istanbul corner\n",
      "ivas lounge\n",
      "ibis kitchen\n",
      "idola\n",
      "il massimo\n",
      "il pizzaolo\n",
      "im smoking\n",
      "imho bar\n",
      "induke\n",
      "inbox\n",
      "inferno\n",
      "inferno kitchen правильная еда\n",
      "italy\n",
      "j cafe moscow\n",
      "j.gilroys pub\n",
      "jack & jane\n",
      "jd burgers\n",
      "jj coffee\n",
      "jungle joy\n",
      "jw джерри вингс (jerry wings)\n",
      "jacky jacky gastrobar\n",
      "jai hind\n",
      "jamies italian\n",
      "jeffreys coffee\n",
      "jis asian bistro & wine\n",
      "johny friends\n",
      "johnyjosper pub\n",
      "jpan bistro\n",
      "k-grill\n",
      "k-town\n",
      "k-town korean noodle bar\n",
      "kafin\n",
      "kfc\n",
      "kfc волгоградский\n",
      "kfc.\n",
      "kingberry\n",
      "krevetka seafood\n",
      "krombacher beer kitchen\n",
      "ku рамен изакая бар\n",
      "kulinari\n",
      "kurkuma\n",
      "kuzina\n",
      "kvarta\n",
      "kvartal\n",
      "kafe les\n",
      "kafin. best coffe. best price\n",
      "kalimera\n",
      "kalyan4you\n",
      "karaoke lounge vs\n",
      "katie osheas\n",
      "kaufman кафе\n",
      "kebab grill\n",
      "kebab house\n",
      "kebablab\n",
      "ketch up\n",
      "khinkalnaya\n",
      "killfish\n",
      "kislovsky\n",
      "kitchen\n",
      "kofeway\n",
      "koffee moose\n",
      "kombinat deli\n",
      "kombinat deli кафе кулинария\n",
      "kozlovna\n",
      "koпteam\n",
      "kripto cafe and bar\n",
      "krispy creme\n",
      "krispy krem\n",
      "krispy kreme\n",
      "kuksu house\n",
      "kurnik русские традиции сегодня\n",
      "kusselita\n",
      "kuvings\n",
      "la casa del vino\n",
      "la verona\n",
      "lafka bar\n",
      "laltro bosco\n",
      "lambic\n",
      "lambic брассерия\n",
      "latinos\n",
      "lavka хлеб\n",
      "lavkalavka\n",
      "lawson bar\n",
      "les\n",
      "life bowl\n",
      "lift\n",
      "locals\n",
      "loft bar\n",
      "loftsmoke кальянная\n",
      "luce\n",
      "luna караоке-ресторан\n",
      "lunchroom\n",
      "lusun\n",
      "la casa cubana\n",
      "la corte di milano\n",
      "la mia georgia\n",
      "la piazza\n",
      "la provincia\n",
      "la spezia\n",
      "la scala\n",
      "la scarpetta\n",
      "la cafe\n",
      "la casa\n",
      "laboratoria coffee\n",
      "lacky ducks bar\n",
      "laffa laffa\n",
      "lampa cafe\n",
      "lancheria by bruno\n",
      "lao lee\n",
      "lari georgian kitchen\n",
      "larionov grill & bar\n",
      "larionov grill and bar\n",
      "le bar a vin\n",
      "legendario\n",
      "legio syshi\n",
      "legion\n",
      "leningrad\n",
      "leto lounge\n",
      "lets rok bar\n",
      "ligeros club\n",
      "like wine\n",
      "limassol\n",
      "lion's head pub\n",
      "lions lairs\n",
      "litro\n",
      "little garden kitchen&bar\n",
      "little osaka\n",
      "little бейрут\n",
      "live stars\n",
      "local band\n",
      "local bar by timur lansky\n",
      "lock stock\n",
      "loft 17\n",
      "loft hall\n",
      "loft soft bar\n",
      "london beer&grill\n",
      "look in rooms\n",
      "lookin rooms, диско 90-х\n",
      "los bandidos\n",
      "lost bar\n",
      "louis\n",
      "lounge 1847\n",
      "lounge bar 19-90\n",
      "lounge bar m&f\n",
      "lova lova multibar\n",
      "love\n",
      "love coffee\n",
      "love suchi and...\n",
      "lovin kafe\n",
      "lowenbrau haus\n",
      "luciano\n",
      "lucky b starols\n",
      "lumberjack bar\n",
      "lunchjoy ресторан китайской кухни\n",
      "lюstra\n",
      "m cafe хинкальная\n",
      "madeo\n",
      "mashup\n",
      "matcha sushi&bento\n",
      "matrёshka фри\n",
      "max bakery\n",
      "meat puppets\n",
      "meatstreet\n",
      "meduzza lounge bar\n",
      "mel кафе\n",
      "melt me\n",
      "michaels island cafe\n",
      "mojo бар\n",
      "mr. burgerovich\n",
      "mukuzani\n",
      "ma mi ханойская лапша\n",
      "mac&cheese\n",
      "macaronika\n",
      "mad man\n",
      "mad city bar\n",
      "mad wine bar\n",
      "maestro wok\n",
      "magic fox\n",
      "main street кафе\n",
      "maison declair\n",
      "maison declaiz\n",
      "maki maki\n",
      "mandy's apothecary irish pub\n",
      "maneki neko\n",
      "marfino delivery\n",
      "market burger bar\n",
      "market place\n",
      "marmalato\n",
      "marrakesh хинкальная\n",
      "marx urban grill\n",
      "masons lounge bar\n",
      "massala house\n",
      "master gyros\n",
      "matcha dope\n",
      "matcha botanicals\n",
      "matcha sushi bento\n",
      "matreshka coffee\n",
      "matreshka free\n",
      "maxi pizza\n",
      "maxima cafe\n",
      "mcdonalds\n",
      "mealty\n",
      "meat avenue\n",
      "meat meet\n",
      "meat and fish\n",
      "meat love burger\n",
      "meatchell\n",
      "meatless\n",
      "medusa asian kitchen bar\n",
      "meduzzza кальян-бар\n",
      "meet meat\n",
      "mentano\n",
      "mery\n",
      "metafora bar\n",
      "miles\n",
      "milk&beans\n",
      "milky moons\n",
      "mini pizza e.f.\n",
      "mino biff burger\n",
      "minori sushi\n",
      "mister x\n",
      "mitrofood\n",
      "mixsalad\n",
      "modus friends\n",
      "mojo\n",
      "momento eat\n",
      "mon bon\n",
      "mondriannlounge\n",
      "monkeys's\n",
      "monster hills\n",
      "moregrill\n",
      "mosinyaz кафе\n",
      "moskalyan\n",
      "movenpick\n",
      "mr doodls\n",
      "mr falafel\n",
      "mr. kiko\n",
      "mr.chef\n",
      "mr.doner\n",
      "mr.ginger\n",
      "mr.tutti - 2\n",
      "mr.тутти\n",
      "much more\n",
      "mulberry lounge\n",
      "munchies pizza&bierra\n",
      "mushrooms\n",
      "my gelato\n",
      "my place\n",
      "my box\n",
      "my gelato кафе\n",
      "mybar\n",
      "mystery hookah bar\n",
      "mоs gastronomic smart и casual\n",
      "nathans\n",
      "ngon\n",
      "nice to meat you бургерная\n",
      "nobu\n",
      "noodle bar\n",
      "noosh\n",
      "nargilia loft. кальянная. центр паровых коктелей\n",
      "natura sanat\n",
      "nem & pho\n",
      "new york pizza\n",
      "no security grill & bar\n",
      "non la\n",
      "noodles\n",
      "nook cofee\n",
      "nordiclub\n",
      "o eskimo chistaya liniya\n",
      "o escimo\n",
      "o'donoghue's\n",
      "oconnells pub\n",
      "ok doner\n",
      "ok food story\n",
      "omgcoffee\n",
      "original\n",
      "ovo\n",
      "oxus\n",
      "officina\n",
      "oh my pho\n",
      "oki sushi\n",
      "oli oli\n",
      "olster's pub\n",
      "one level\n",
      "one more pub\n",
      "one price coffe\n",
      "one price coffee\n",
      "one bucks coffee\n",
      "one more pab\n",
      "oneprice\n",
      "onepricecoffe\n",
      "onepricecoffee\n",
      "oriental\n",
      "osteria mario\n",
      "osteria mario+швили\n",
      "osteria toscana\n",
      "osteriamario\n",
      "oversalad\n",
      "p.square\n",
      "p4b lounge bar\n",
      "party bun\n",
      "pasta\n",
      "paul\n",
      "paul поль\n",
      "pecivo\n",
      "petrushka\n",
      "pho bo 360\n",
      "pho u\n",
      "pho u вьетнамская еда\n",
      "pho viet въетнамская кухня\n",
      "pho вкусный\n",
      "picnic cafe\n",
      "pinocchio\n",
      "pinsapoint\n",
      "pioppo albero\n",
      "pitas\n",
      "pivbar\n",
      "pizza hut\n",
      "plan b\n",
      "plov box\n",
      "plov.com\n",
      "plpb пицца\n",
      "pointcoffe&food\n",
      "pq coffee and friends\n",
      "prime\n",
      "prime star прайм стар\n",
      "prime прайм стар прайм-кафе\n",
      "pro суши пицца\n",
      "ps гвозди\n",
      "public cafe\n",
      "palacio\n",
      "palas des thes\n",
      "panda express\n",
      "papa grill\n",
      "papas burgers\n",
      "paprika picante\n",
      "paradise spa club\n",
      "pari-joli\n",
      "passion\n",
      "pasta + salsa\n",
      "pasta cup&pinsa\n",
      "pasta deli\n",
      "pastoria\n",
      "paul cafe\n",
      "paulaner brauhaus\n",
      "pelmeniki club\n",
      "pelmesh\n",
      "per se cafe\n",
      "peri\n",
      "peshi\n",
      "petite pierre cafe\n",
      "pho\n",
      "pho bo\n",
      "pho bo ханойский стрит-фуд\n",
      "pho fighters\n",
      "pho hanoi\n",
      "pho point\n",
      "pho viet\n",
      "pho viet (вьетнамский стритфуд)\n",
      "pho bo san\n",
      "phobo\n",
      "picciotti\n",
      "piccolo\n",
      "pie factore\n",
      "pinsapositana\n",
      "pinzauno\n",
      "pinzeria by bontempi\n",
      "pinzeria by bontempo\n",
      "pitstopкафе\n",
      "pita gyros\n",
      "pita mix\n",
      "pita&meat\n",
      "piu del cibo\n",
      "pizengof99 спб\n",
      "pizza 24 express\n",
      "pizza express\n",
      "pizza loft coffee\n",
      "pizza mia\n",
      "pizza napoleana\n",
      "pizza oh\n",
      "pizza preferita\n",
      "pizza rim\n",
      "pizzamento\n",
      "pizzeria 360\n",
      "pizzetta\n",
      "planeta sushi il patio\n",
      "plov profi\n",
      "plovberry\n",
      "ploveberry\n",
      "point 242\n",
      "point coffe and food\n",
      "point58\n",
      "poke house\n",
      "pomodorro\n",
      "porto maltese\n",
      "porto-pomodoro\n",
      "poutinerie\n",
      "price coffee\n",
      "prim\n",
      "prime beef\n",
      "prime cafe\n",
      "prime прайм стар\n",
      "private lounge\n",
      "pro пельмени\n",
      "props coffee\n",
      "prosecco bar pr11\n",
      "pub no pub\n",
      "pushka\n",
      "q2 lounge\n",
      "quanviet\n",
      "rd cafe\n",
      "rest\n",
      "restarant club karaoke bar «tarhun»\n",
      "rix restaurant\n",
      "roll & beer\n",
      "roll wok\n",
      "rotonda\n",
      "raffle\n",
      "rainbow pub\n",
      "ramen+noodles\n",
      "ramen-club\n",
      "rare pastrami\n",
      "red black family\n",
      "red buffet\n",
      "red food\n",
      "red mango\n",
      "red rocket bar\n",
      "red star cafe\n",
      "redspoon\n",
      "regent\n",
      "remy burger\n",
      "rfat kurkuma\n",
      "ribambelle\n",
      "rich lounge\n",
      "right hops\n",
      "rioba\n",
      "roaster coffee\n",
      "rocky 215\n",
      "rollrolls\n",
      "rollfix\n",
      "rolls\n",
      "rolls race\n",
      "romanov cinema\n",
      "rombouts\n",
      "ron бар вино еда\n",
      "roni makaroni\n",
      "rose bar\n",
      "roy castle pub\n",
      "royal arbat\n",
      "royal coffee\n",
      "royce\n",
      "royce club\n",
      "rule taproom\n",
      "russian media cafe\n",
      "rustik\n",
      "ryba sushi and oysters\n",
      "s lounge bar\n",
      "salon\n",
      "saltenas\n",
      "samovar\n",
      "sanders grill\n",
      "saцebela\n",
      "sempre\n",
      "serbiя\n",
      "sfc11\n",
      "shake shack\n",
      "sham\n",
      "shishkin village\n",
      "sixties\n",
      "smartfood\n",
      "soho\n",
      "sohomarket\n",
      "soul seoul\n",
      "sport bar\n",
      "stadling pub\n",
      "stag's head pub\n",
      "starbucks coffee\n",
      "stick\n",
      "studio\n",
      "subway\n",
      "surf coffee\n",
      "sushi hot\n",
      "sushi love\n",
      "sushi world\n",
      "sushi буфет\n",
      "sushifix\n",
      "sushiyai\n",
      "symphony вьетнамская кухня\n",
      "sadu\n",
      "salades\n",
      "salateria\n",
      "sapiens\n",
      "sea-тория\n",
      "seafood factory\n",
      "seasons\n",
      "seeds\n",
      "semplice\n",
      "serb s\n",
      "serf burger\n",
      "sergiopizza\n",
      "sexton\n",
      "shake up\n",
      "share house\n",
      "shaurmaclub кафе быстрого питания\n",
      "she and him\n",
      "shefs\n",
      "shefshows by novikov\n",
      "shell, yes\n",
      "shishas бар\n",
      "shop and bar denis simachev\n",
      "shut up karaoke premium club\n",
      "shvilli (реторан швили)\n",
      "silver panda\n",
      "simit house\n",
      "simple place\n",
      "simple greece\n",
      "simplewine\n",
      "sinemore\n",
      "sinners and begginers win bar\n",
      "sio столовая\n",
      "sky lounge bar\n",
      "sky фо вьетнамская кухня\n",
      "skypoint\n",
      "sleeptom\n",
      "smart kitchen\n",
      "smoke lounge\n",
      "smoke me in wonderland\n",
      "smoky\n",
      "snooty fox\n",
      "sodexho\n",
      "sokol coffe\n",
      "sos.cafe\n",
      "soupme ресторан в стакане\n",
      "space owl\n",
      "spaten\n",
      "spy moscow\n",
      "staff only\n",
      "star craft & kitchen\n",
      "star hit cafe\n",
      "starbucks\n",
      "starbucks старбакс\n",
      "starbucks кофе\n",
      "starbucks, старбакс кофе\n",
      "starhit cafe\n",
      "starlite diner\n",
      "stay true\n",
      "steak it easy\n",
      "stone age\n",
      "stone crab\n",
      "street coffe\n",
      "strip & go\n",
      "studiofood\n",
      "styling bull cafe\n",
      "sumakh\n",
      "sufifood\n",
      "sun flower-парк\n",
      "sun flower-парк лобби-бар\n",
      "super mango shake\n",
      "super mango, напитки\n",
      "suptown cafe\n",
      "sure\n",
      "surf\n",
      "surf coffe\n",
      "surfcoffee\n",
      "sushi club пицца суши\n",
      "sushi fix\n",
      "sushi island\n",
      "sushi by jimmy\n",
      "sushi-make\n",
      "sushinerowok\n",
      "sushisale\n",
      "sushiwok\n",
      "sushilka\n",
      "svoy pub beer&pizza\n",
      "sweet market\n",
      "sweet smoke\n",
      "sytiy los\n",
      "sytiy los (w)\n",
      "t.g.i. friday's + il патио\n",
      "tajj mahal\n",
      "tempo di pasta\n",
      "terekhov girl\n",
      "testa\n",
      "tgi fridays\n",
      "the y\n",
      "tokyo\n",
      "tokyo-japan\n",
      "torro gril & wine bar\n",
      "torro grill\n",
      "trueburgers\n",
      "tutti frutti frozen yogurt\n",
      "two smocking barrels pub\n",
      "takeshi\n",
      "table one\n",
      "taboo bar\n",
      "take wake\n",
      "take and wake\n",
      "take it easy\n",
      "tako project\n",
      "talk of the town\n",
      "tametta\n",
      "tapas avocado bar\n",
      "tapas avokado bar\n",
      "tasty joys\n",
      "tasty thai\n",
      "tea & smoke\n",
      "tea funny\n",
      "teddy\n",
      "tehnikum\n",
      "teremok\n",
      "th old shool pab\n",
      "thali&dosa\n",
      "the 12 wine bar\n",
      "the buffet\n",
      "the hummus\n",
      "the mad cook\n",
      "the rooms\n",
      "the sixties\n",
      "the terrace\n",
      "the truffel\n",
      "the waiters\n",
      "the cafe\n",
      "the sweets lounge\n",
      "the море\n",
      "the сад\n",
      "the фоrмат caffe diemme\n",
      "the бык\n",
      "theburger brothers\n",
      "time club убежище\n",
      "time lap butovo\n",
      "time to coffe\n",
      "tocador, buffalos\n",
      "tokyo bay\n",
      "too much\n",
      "torro grill & wine bar\n",
      "torro grill торро гриль\n",
      "touch of matcha\n",
      "traffic jam паб\n",
      "travelcafe\n",
      "travelers coffe\n",
      "travelers coffee\n",
      "true cost\n",
      "true pho\n",
      "true burgers\n",
      "tuscany courtyard\n",
      "tutta la vita\n",
      "tutti frutti\n",
      "uno bar\n",
      "upside down cake\n",
      "union jack\n",
      "unlock cafe\n",
      "upside down\n",
      "upside down cake (udcкафе)\n",
      "upside down cake кафе\n",
      "upsidedowncake\n",
      "urban cafe\n",
      "vani\n",
      "veneto pizza\n",
      "vesuvio pizzeria by giuseppe peluso\n",
      "vogoo\n",
      "voque-cafe\n",
      "valiko пекарня\n",
      "van wok\n",
      "van wok ванвок\n",
      "vanwok\n",
      "vanwok ванвок\n",
      "vcafe\n",
      "veladora. tacos y tragos\n",
      "vice burgers\n",
      "vietcafe вьеткафе\n",
      "vietexpress\n",
      "viki cake cafe\n",
      "villa\n",
      "villa della pasta\n",
      "vinari bar & kitchen\n",
      "vinopolis\n",
      "vip wok buffet\n",
      "vip pyanik\n",
      "vitamin & smoothei bar macadamia\n",
      "vnukovo village\n",
      "volt coffee\n",
      "vsemlavaш\n",
      "vино and еда\n",
      "vместо sushi\n",
      "w.h. lounge\n",
      "woodwood pizza &burgers\n",
      "world class кафе\n",
      "wow\n",
      "wowfest\n",
      "wakecup\n",
      "waffle fish\n",
      "wake cup\n",
      "wayme\n",
      "we cidreria\n",
      "wells\n",
      "white cafe\n",
      "white eagles pub\n",
      "white hall\n",
      "white owl кофейня\n",
      "white rabbite (белый кролик)\n",
      "white star lounge\n",
      "who is who\n",
      "wild bean cafe\n",
      "wine point\n",
      "wine and dine\n",
      "winil wine bar\n",
      "wino bar\n",
      "wok & box\n",
      "wok & рис\n",
      "wok box\n",
      "wok бургер\n",
      "wok и рис\n",
      "wok&box\n",
      "wokker\n",
      "wonjo kitchen\n",
      "wood greel\n",
      "wood wood burgers\n",
      "wow moscow lounge\n",
      "xx by urban taste\n",
      "xin chao вьетнамская еда\n",
      "yes pizza\n",
      "yo\n",
      "yoko\n",
      "yammy\n",
      "yogurt frenzy\n",
      "yokoso\n",
      "yoyosushi\n",
      "yummy duck\n",
      "zames\n",
      "zizo\n",
      "za gorami\n",
      "zafferano, эдоко, forte bello\n",
      "zaiceff\n",
      "zavodoff\n",
      "zest\n",
      "zharovnya\n",
      "zinger grill\n",
      "zodiac\n",
      "zotman pizza pie\n",
      "zotto\n",
      "«2 2» паб\n",
      "«амега» раздаточный буфет 2-го автобусного парка\n",
      "«би-ба-бо» боулинг центр\n",
      "«гбоу «школа с углубленным изучением английского языка» №1208»\n",
      "«гама-сервис»\n",
      "«иzюм» дагестанская кухня\n",
      "«ип» мураховский и.ф\n",
      "«ип» рушева т.с\n",
      "«ип» шацкая е.м\n",
      "«кафе «кулинарная лавка братьев караваевых»\n",
      "«кафе «кулинарная лавка братьев караваевых»»\n",
      "«московский комбинат шампанских вин»\n",
      "«снек бар в кинотеатре «космик»»\n",
      "ёбидоёби\n",
      "ёрш\n",
      "а ля фуршет\n",
      "а-петит\n",
      "а-трейд\n",
      "ав-дейли\n",
      "ав-дейли азбука вкуса\n",
      "авест - а\n",
      "авокадо\n",
      "аврора\n",
      "авто-рекорс\n",
      "автокомбинат\n",
      "автокомбинат 3\n",
      "автокомбинат-1\n",
      "автомехбаза зелен.хоз-а\n",
      "азербайджан\n",
      "академическая\n",
      "академия\n",
      "академия натальи нестеровой «кафе университетское»\n",
      "акбаш\n",
      "алёнка\n",
      "алаверды\n",
      "александровский\n",
      "алеся\n",
      "алиби\n",
      "алло пицца\n",
      "алло-пицца\n",
      "алроса-торг\n",
      "альпийский дворик\n",
      "альфа\n",
      "альянс\n",
      "ам ваr cafe\n",
      "амадеус\n",
      "америкэн сити пицца\n",
      "аморино\n",
      "английский паб альбион\n",
      "андерсон\n",
      "анджело\n",
      "анисс\n",
      "антик\n",
      "антураж-центр\n",
      "ао «мосэнерго» (филиал тэц-25)\n",
      "арарат кафе\n",
      "аргументы и факты\n",
      "ариадна\n",
      "ариана\n",
      "армения\n",
      "арт-кафе\n",
      "артекс\n",
      "артес либералис\n",
      "артико\n",
      "артс палас\n",
      "артэкс+\n",
      "аруба\n",
      "аст - гоф\n",
      "астория\n",
      "атриум\n",
      "аэлита\n",
      "абаль\n",
      "абица\n",
      "абрамовъ\n",
      "абу гош\n",
      "август\n",
      "авеню\n",
      "авиалюкс\n",
      "авиньон\n",
      "авлабар\n",
      "авокадо поинт\n",
      "аврора (закрытое)\n",
      "австрийская пекарня и паб\n",
      "автосуши\n",
      "адажио\n",
      "аджарули\n",
      "адмирал\n",
      "адриана\n",
      "азбука вкуса\n",
      "азиатико\n",
      "азия\n",
      "азия&гриль\n",
      "ай лайк вайн\n",
      "айда чайхана\n",
      "айдабаран\n",
      "айва\n",
      "айхал\n",
      "акасака\n",
      "акватер+\n",
      "акеро\n",
      "акира\n",
      "аксессуары\n",
      "аладин\n",
      "алгет\n",
      "алекс\n",
      "александра\n",
      "александровский зал ( закрытое)\n",
      "аленка\n",
      "алиса\n",
      "алко-24-бар\n",
      "аллегро\n",
      "алло пицца 2\n",
      "алмаз\n",
      "алмус\n",
      "алтаргана\n",
      "алые паруса\n",
      "аль посто\n",
      "альбион\n",
      "альфорно\n",
      "альянс престиж\n",
      "амбарчик\n",
      "американ сити пицца цех по изготовлению пиццы\n",
      "американская лаборатория десертов\n",
      "аморе\n",
      "амстердам\n",
      "амстердам бар\n",
      "амстердам чипс компани\n",
      "ангария - волшебная страна\n",
      "английский паб «смитс»\n",
      "английский паб букингем\n",
      "андерсен\n",
      "андиамо\n",
      "андрбар\n",
      "ани\n",
      "анис\n",
      "анненфельд\n",
      "ансар\n",
      "анти-кафе кальянная «moskalyan»\n",
      "антикафе happy people\n",
      "антикафе «shelter»\n",
      "антикафе «нулевой километр»\n",
      "антикафе «совиный дом»\n",
      "антикафе белый лист\n",
      "антикафе кальянная\n",
      "антикафе лень\n",
      "антикварный boutique & bar\n",
      "антикинотеатр «newtone»\n",
      "антонина\n",
      "антракт\n",
      "аншлаг трактир «сам пришел»\n",
      "апрель\n",
      "арабская шаверма\n",
      "арабская шаурма\n",
      "арабский донер\n",
      "арамье\n",
      "арарат\n",
      "арбатский базар\n",
      "аргентинская кухня «el guacho»\n",
      "арго\n",
      "арена\n",
      "ариэль\n",
      "арма craft\n",
      "армянский лаваш\n",
      "армянский переулок\n",
      "ароматная река\n",
      "арт - кафе фа - минор\n",
      "арт буланже\n",
      "арт кафе «new place moscow»\n",
      "арт кафе «гончаровъ»\n",
      "арт пабы\n",
      "арт бар палиха\n",
      "арт кафе\n",
      "арт клуб на плющихе\n",
      "арт-галерея\n",
      "арт-кальянная shishasity\n",
      "арт-кафе «красный крокодил»\n",
      "арт-кафе рукав\n",
      "арт-кафе при театре\n",
      "арт-столовая\n",
      "артиссимо\n",
      "арутюнян а.в.\n",
      "арчи\n",
      "асаки\n",
      "асса\n",
      "ассамблея (закрытое)\n",
      "ассорти\n",
      "атаман\n",
      "атлас\n",
      "афродита при транспортной фирме очаково\n",
      "ацатун\n",
      "ача-чача\n",
      "ашкым\n",
      "аэроплаза\n",
      "аэростар-клуб\n",
      "аэрофуд-внуково\n",
      "аяна\n",
      "б-12\n",
      "баан тай\n",
      "бабошина зоя михайловна\n",
      "бавариус\n",
      "базилик\n",
      "бак бо\n",
      "бакинский бульвар\n",
      "баклажан\n",
      "баловень т\n",
      "банкет-сервис\n",
      "банкетный зал\n",
      "банкетный зал «вечерний-космос»\n",
      "банкетный зал «галактика»\n",
      "бар\n",
      "бар «бинза»\n",
      "бар «грин хэт»\n",
      "бар «крафтбар»\n",
      "бар «на 1-м этаже фгуп ттц «останкино»»\n",
      "бар азбука вкуса\n",
      "бар в бильярдном клубе\n",
      "бар в гостинице «тифлисъ»\n",
      "бар в физк.-оздор.комплексе\n",
      "бар в фитнес клубе\n",
      "бар кинотеатра\n",
      "бар кинотеатра «каро-фильм»\n",
      "бар при «дворце бракосочетания»\n",
      "бар при интернет-кафе\n",
      "бар при оздоровительном центре\n",
      "бар при тц борисхоф\n",
      "бар спортклуба\n",
      "бар при московском гольф клубе\n",
      "бар-фитнес\n",
      "барави-т\n",
      "барбекю ресторан\n",
      "бары 12345\n",
      "бары в фитнес клубе «доктор лодер»\n",
      "батони\n",
      "бахча\n",
      "бб крафт\n",
      "бб крафт пиво кофе\n",
      "бб крафт савела\n",
      "бб и бургерс\n",
      "бб энд бургерс в&в бургер\n",
      "бдд паб\n",
      "бенедикт\n",
      "бергштайн-бар\n",
      "бертан xx11\n",
      "беспокойная юность\n",
      "би-би-кинг\n",
      "бизес-центр карачарово\n",
      "бизнес прогресо\n",
      "бизнес центр таганский\n",
      "бизнес-школа аип\n",
      "бильярдный клуб\n",
      "биретта\n",
      "биродром панчетта\n",
      "бистро\n",
      "бистро вкусняк\n",
      "бистро пронто\n",
      "бистро-пекарня\n",
      "битрайт\n",
      "бок переделкино\n",
      "бокас дель торо\n",
      "бора-бора\n",
      "боско бар\n",
      "боско кафе\n",
      "босфор\n",
      "ботик петра\n",
      "боулинг-клуб «галактика»\n",
      "боцман\n",
      "бочка\n",
      "брава коста кофе\n",
      "бризоль-м\n",
      "брик-м (закрытое)\n",
      "брусника\n",
      "будайский дворик\n",
      "будвар\n",
      "булочная № 5\n",
      "бурбон\n",
      "бургер кинг\n",
      "бургер рус\n",
      "бутчер\n",
      "буфет\n",
      "буфет - раздаточная на конечной станции\n",
      "буфет -раздаточная депо им. н.э. баумана\n",
      "буфет в медицинской академии им. и.м. сеченова\n",
      "буфет в техникуме\n",
      "буфет зао московский школьник\n",
      "буфет зрительский при драм. театре\n",
      "буфет конечной станции «останкино»\n",
      "буфет метро\n",
      "буфет муз.школа им. гнесиных\n",
      "буфет при а-с юго-запад\n",
      "буфет при гкб 23\n",
      "буфет при мгюа\n",
      "буфет при мед.колледже 2\n",
      "буфет при медучилище\n",
      "буфет при мфюа\n",
      "буфет при оао вниси\n",
      "буфет при станции «абрамцевская»\n",
      "буфет при шк. 305\n",
      "буфет раздаточная при цсо\n",
      "буфет фгбоу во «ргсу»\n",
      "буфет шк. 199\n",
      "буфет шк. 584\n",
      "буфет шк.102\n",
      "буфет шк.104\n",
      "буфет шк.191\n",
      "буфет шк.197\n",
      "буфет шк.199\n",
      "буфет шк.521\n",
      "буфет школы 1283\n",
      "буфет школы 1284\n",
      "буфет школы 1305\n",
      "буфет школы 1500\n",
      "буфет школы 167\n",
      "буфет школы 610\n",
      "буфет при вавт\n",
      "буфет при гуп «объединенный комбинат школьного питания»\n",
      "буфет при конечной станции «ввц-южная»\n",
      "буфет при международном славянском институте\n",
      "буфет при московском финансово-экономическом институте\n",
      "буфет при школе искусств им. с. мамонтова\n",
      "буфет школа 1586\n",
      "буфет-раздаточная\n",
      "буфет-раздаточная «осташково»\n",
      "буфет-раздаточная при шк.9\n",
      "буфет-раздаточная при оао «московская типография № 2»\n",
      "буфет-раздаточный при школе 293\n",
      "буфет-раздаточный при школе № 242\n",
      "буфет-роздаточная при лицеи художественного тексти\n",
      "буфет-роздаточная при цсо\n",
      "буфетпри мгу\n",
      "бухарест\n",
      "баpбекю\n",
      "бабу\n",
      "баба марта\n",
      "бабай клаб\n",
      "бабель\n",
      "бавария\n",
      "бавария №1. крафт бар\n",
      "бага бар\n",
      "багратионофф\n",
      "базар-вокзал\n",
      "бай донер\n",
      "бакинские вечера\n",
      "бакинский прибой\n",
      "бакинский дворик\n",
      "бакинский очаг\n",
      "бакинский рай\n",
      "баклафе\n",
      "балалаечная\n",
      "бали\n",
      "балкан\n",
      "балканский ресторан джумбус\n",
      "бамбук и кактус\n",
      "банан кофе\n",
      "банана тук-тук\n",
      "банзай\n",
      "банкетная площадка кафе\n",
      "банкетный\n",
      "банкетный зал «кристалл ballroom»\n",
      "банкетный зал орион холл\n",
      "банкетный зал шелк\n",
      "бар (закрытое)\n",
      "бар (розливное пиво)\n",
      "бар - кальянная «манго lounge»\n",
      "бар - ресторан новиков\n",
      "бар 19-80\n",
      "бар 1930\n",
      "бар 33\n",
      "бар 365\n",
      "бар great room\n",
      "бар imax\n",
      "бар lasthop\n",
      "бар noor\n",
      "бар right hops\n",
      "бар the kisa bar\n",
      "бар vip этажа\n",
      "бар « bad bro bar»\n",
      "бар «bar beer shop»\n",
      "бар «big jims pub»\n",
      "бар «borough, раклет-бар»\n",
      "бар «dubai»\n",
      "бар «duck stars»\n",
      "бар «human»\n",
      "бар «iggi pub»\n",
      "бар «ku рамен-бар»\n",
      "бар «mad men bar»\n",
      "бар «mr. чо»\n",
      "бар «pivbar»\n",
      "бар «robert burns»\n",
      "бар «stoy bar»\n",
      "бар «wisky room»\n",
      "бар «бадди бар»\n",
      "бар «бирхен»\n",
      "бар «боливар»\n",
      "бар «брюс»\n",
      "бар «ворд класс»\n",
      "бар «варка»\n",
      "бар «ваша пинта»\n",
      "бар «винный бар»\n",
      "бар «вирсар»\n",
      "бар «витражи»\n",
      "бар «все свои»\n",
      "бар «гидра»\n",
      "бар «джанго»\n",
      "бар «джонни грин паб»\n",
      "бар «игги паб»\n",
      "бар «консешн бар»\n",
      "бар «кофе»\n",
      "бар «киану»\n",
      "бар «крафтовый бар»\n",
      "бар «крафтъ 22»\n",
      "бар «крафтыч»\n",
      "бар «кружка паб»\n",
      "бар «кружка»\n",
      "бар «культура»\n",
      "бар «люкс»\n",
      "бар «лиса и гусь»\n",
      "бар «лобби»\n",
      "бар «мир бильярда»\n",
      "бар «мориарти бар»\n",
      "бар «на рогах»\n",
      "бар «налей,медведь»\n",
      "бар «опята»\n",
      "бар «паб»\n",
      "бар «попкорн»\n",
      "бар «пальмира бизнес клуб»\n",
      "бар «пивная»\n",
      "бар «пивной погребок»\n",
      "бар «пиво варкрафт»\n",
      "бар «понти»\n",
      "бар «праймбифбар»\n",
      "бар «разливное пиво»\n",
      "бар «стабильная линия»\n",
      "бар «суши wok»\n",
      "бар «суши»\n",
      "бар «терраса»\n",
      "бар «турбоэра»\n",
      "бар «туше»\n",
      "бар «фитнес-бар»\n",
      "бар «фора» (букмекерская контора)\n",
      "бар «хлеб и вино»\n",
      "бар «хмельная долина»\n",
      "бар алекс\n",
      "бар боулинг-космик\n",
      "бар бочка\n",
      "бар варвар\n",
      "бар виват\n",
      "бар голова\n",
      "бар джентльмен клуб леди\n",
      "бар италия\n",
      "бар камерного зала\n",
      "бар караоке\n",
      "бар крафт тайм\n",
      "бар крафтовое пиво\n",
      "бар лобби гостиницы балчуг\n",
      "бар липа\n",
      "бар московский\n",
      "бар мята lounge\n",
      "бар нептун\n",
      "бар парадайз\n",
      "бар пилот\n",
      "бар спб\n",
      "бар свои\n",
      "бар сити спейс\n",
      "бар суши «my box»\n",
      "бар большого зала\n",
      "бар в гостинице\n",
      "бар и бильярд «стопка»\n",
      "бар караоки «22»\n",
      "бар на 12 этаже\n",
      "бар при кинотеатре кф-алмаз\n",
      "бар при сауне\n",
      "бар суши takai\n",
      "бар театрального зала\n",
      "бар №1 магазин разливного пива\n",
      "бар, боулинг, клуб\n",
      "бар- буфет «николай»\n",
      "бар-бильярд\n",
      "бар-шоп бирстон\n",
      "бар-буфет николай\n",
      "бар-кальян курилы\n",
      "бар-караоке «камергерка»\n",
      "бар-ресторан «1929»\n",
      "бар-ресторан «brothers»\n",
      "бар-ресторан луч\n",
      "бар«brix bar»\n",
      "бар«пивная библиотека»\n",
      "баркаs\n",
      "барнум\n",
      "баракат\n",
      "баран-баран\n",
      "барашек\n",
      "барашка\n",
      "барбари «coffe toon»\n",
      "барбарис\n",
      "барбекю\n",
      "барбошко\n",
      "баркас\n",
      "барон-баран\n",
      "бартаун\n",
      "бархат\n",
      "баскет ланч\n",
      "баскин роббинс\n",
      "батон\n",
      "батоно\n",
      "батонохлеб\n",
      "баттерфляй\n",
      "батчери\n",
      "бауман\n",
      "баффало\n",
      "баффалос\n",
      "бахтриони\n",
      "башня\n",
      "баяр\n",
      "беби джоли\n",
      "беверли хилс, мс donair, спецбуфет №1\n",
      "бега\n",
      "бегемот\n",
      "бегония-л\n",
      "без понтов\n",
      "без границ...\n",
      "без забот\n",
      "бейкери март\n",
      "бейрут\n",
      "бейрут-экспресс\n",
      "белая ночь\n",
      "беллиссима\n",
      "белое озеро\n",
      "белорусская хата\n",
      "белуга\n",
      "белучи\n",
      "белые аллеи\n",
      "белый\n",
      "белый журавль\n",
      "белый кролик\n",
      "бельгийская брассери 0,33\n",
      "бельгийская картошка\n",
      "бельгийский картофель\n",
      "бен ганн\n",
      "бенвенуто\n",
      "бенджамин\n",
      "бенто wok\n",
      "бенто суши\n",
      "берега\n",
      "березка\n",
      "березки\n",
      "берекет\n",
      "берлин кебаб\n",
      "берри брэд\n",
      "берёзка\n",
      "берёзовая роща\n",
      "бестужевъ\n",
      "бешбармак\n",
      "библиотека\n",
      "бивис паб\n",
      "биг байт\n",
      "бигбэнг by френдс\n",
      "бижу\n",
      "бизнес клуб «финансист»\n",
      "бик-кау\n",
      "билла\n",
      "бильярд седьмая луза\n",
      "бильярдная\n",
      "бильярдная сова\n",
      "бильярдное кафе\n",
      "бильярдный бар-клуб полковник и байрон\n",
      "бильярдный клуб 15-ый шар\n",
      "бильярдный клуб «дуплет»\n",
      "бильярдный клуб «лига»\n",
      "бильярдный клуб «пит стоп»\n",
      "бильярдный клуб «падишах»\n",
      "бильярдный клуб «француз»\n",
      "бильярный клуб-бар\n",
      "биологика\n",
      "бир лофт\n",
      "бир хаус паб\n",
      "бир н ролл\n",
      "бир хаус\n",
      "бир энд брюд\n",
      "биратория\n",
      "биркрафт\n",
      "бирмаркет\n",
      "бирменбар\n",
      "биротека\n",
      "бирхаус\n",
      "бистерия\n",
      "бистро 160\n",
      "бистро 24\n",
      "бистро «burger shaw»\n",
      "бистро «бак-бук»\n",
      "бистро «молодо-зелено»\n",
      "бистро гриль\n",
      "бистро халяль\n",
      "бистро пекарня\n",
      "бистро. шаурма\n",
      "бистро5\n",
      "бистрофф\n",
      "биффиш\n",
      "бифхаус\n",
      "бишкек\n",
      "блан де блан\n",
      "блексмит\n",
      "блеск\n",
      "блинок\n",
      "блинная\n",
      "блинчик\n",
      "блины\n",
      "блины и пироги\n",
      "блонд-брюн\n",
      "блэк маркет\n",
      "блэк стоун\n",
      "блэк фламинго\n",
      "блэк харп\n",
      "блэк джи лоунж\n",
      "блэк милк\n",
      "блэк стар бургер\n",
      "блэк-кофе мини-кофейня\n",
      "блюм кафе\n",
      "бмле\n",
      "бо\n",
      "бобби даззлер\n",
      "бобры и утки\n",
      "богатырь\n",
      "богатырь №1\n",
      "бодр-добр\n",
      "бодрум\n",
      "бодрый день\n",
      "бодрый день кофе с собой\n",
      "бой-z\n",
      "бокончино\n",
      "бол бол\n",
      "бол бол фуд\n",
      "большевик лофт-евент холл\n",
      "большой\n",
      "бон аппетит\n",
      "бон густо\n",
      "бон лаваш\n",
      "бон кафе\n",
      "бонжур сити\n",
      "борго\n",
      "борисова надежда александровна\n",
      "бородачи\n",
      "босс-кулинария\n",
      "бостон паб\n",
      "бостон пати паб\n",
      "ботанист\n",
      "брайтон\n",
      "брайтон-корпорейшн\n",
      "брассерия\n",
      "брассерия ламбик\n",
      "братья караваевы\n",
      "братья караваевых\n",
      "братья третьяковы\n",
      "браунимама\n",
      "бригантина\n",
      "бродвей\n",
      "бродвей пекарня кулинария пиццерия\n",
      "броу бар\n",
      "брудер\n",
      "бруно\n",
      "брусника 2\n",
      "брюгге\n",
      "брюс ли\n",
      "брюссель\n",
      "брянский бык\n",
      "буlки\n",
      "бублик кулинария\n",
      "будвайзер бар\n",
      "будур\n",
      "булка\n",
      "булкер\n",
      "булкер столовая\n",
      "булки от пекаря\n",
      "булкоешка\n",
      "булочная 5\n",
      "булочная «батон»\n",
      "булочная батон\n",
      "булочная фокина\n",
      "булочная №10\n",
      "булочная №4\n",
      "булочная-кондитерская с кафетерием\n",
      "булочная-пекарня\n",
      "булошная\n",
      "бульвар\n",
      "бульон крутон\n",
      "бункер 42 на таганке\n",
      "бурбон стрит\n",
      "бурген кинг\n",
      "бургер &фрайс\n",
      "бургер mix\n",
      "бургер кинг burger king\n",
      "бургер клаб\n",
      "бургер пицца\n",
      "бургер сити клаб\n",
      "бургер шеф\n",
      "бургер герой пивной бар\n",
      "бургерная\n",
      "бургерная «high ground киберспорт лаунж» интернет-кафе, кальян-бар\n",
      "бургерная «хищник. стейк & бургерс»\n",
      "бургерная меат лав\n",
      "бургерная фарш\n",
      "бургерная хищник\n",
      "бургерная электроугли\n",
      "бургеры\n",
      "бургеры и стейки\n",
      "бургеры, выпечка\n",
      "бургомистр\n",
      "бургон\n",
      "буревестник\n",
      "буржуа кафе\n",
      "буржуй\n",
      "буритос\n",
      "буркина фасо\n",
      "буркина фасоль\n",
      "бурлеск\n",
      "бутбая м.м.\n",
      "бутер клаб\n",
      "бутлер\n",
      "бутово гриль\n",
      "бутчер бизон\n",
      "бутылка, кружка и котел\n",
      "бууза\n",
      "буфет - гбоу 60\n",
      "буфет - гбоу сош № 389\n",
      "буфет - гбоу сош № 64\n",
      "буфет - гбоу сош № 659\n",
      "буфет - гбоу сош № 732\n",
      "буфет - гбоу сош № 806\n",
      "буфет - гбоу сош № 808\n",
      "буфет - гбоу сош № 81\n",
      "буфет - гбоу сош № 887\n",
      "буфет - гбоу сош №6\n",
      "буфет - гбоу № 1584\n",
      "буфет - гбоу №1781\n",
      "буфет -гбоу сош № 1061\n",
      "буфет 29 ргау-мсха им. к.а. тимирязева\n",
      "буфет audi\n",
      "буфет hyndai motorstudio\n",
      "буфет «апельсин»\n",
      "буфет «артекс»\n",
      "буфет «булгаковский дом»\n",
      "буфет «вкусный мир»\n",
      "буфет «гоу гимназия 1579 кдп »\n",
      "буфет «геликон опера»\n",
      "буфет «иль джорно»\n",
      "буфет «коникс-школьник»\n",
      "буфет «кулинария при гкнпц им. хруничева м.в»\n",
      "буфет «мцби»\n",
      "буфет «медицинский колледж»\n",
      "буфет «панджшер»\n",
      "буфет «раздаточная при автостанции -филиал 5 автобусного парка гуп мосгортранс»\n",
      "буфет «раздаточная №2 фгу при гкнпц им. м.в.хруничева»\n",
      "буфет «раздаточная №4»\n",
      "буфет «сандуновские бани»\n",
      "буфет «сош №334»\n",
      "буфет «скалка»\n",
      "буфет «согдиана»\n",
      "буфет «фаст»\n",
      "буфет «фуд - лайн»\n",
      "буфет «чайная»\n",
      "буфет «школа 511 кдп»\n",
      "буфет гаоу «мгпу институ специального образования и комплексной реабилитации»\n",
      "буфет гбоу «гимназия № 1514»\n",
      "буфет гбоу «гуманитарный лицей № 1536»\n",
      "буфет гбоу «мгпу социальный институт»\n",
      "буфет гбоу «образотвательный комплекс юго-запад»\n",
      "буфет гбоу «школа 58»\n",
      "буфет гбоу «школа № 1205»\n",
      "буфет гбоу «школа № 7»\n",
      "буфет гбоу «школа №117»\n",
      "буфет гбоу «школа №118»\n",
      "буфет лингвистической экономической школы-лицея\n",
      "буфет мтуси\n",
      "буфет мади\n",
      "буфет общества частных коневладельцев\n",
      "буфет ргау-мсха им. к.а. тимирязева\n",
      "буфет тестов\n",
      "буфет фуд про\n",
      "буфет цдкж (дом культуры железнодорожников)\n",
      "буфет в «бок на дубнинской»\n",
      "буфет в «ледовом дворце»\n",
      "буфет в автомире\n",
      "буфет в гбук г.москвы театра уголок дедушки дурова\n",
      "буфет в театре эрмитаж\n",
      "буфет в театре имени евгения вахтангова\n",
      "буфет в учебном заведении\n",
      "буфет гостиница шахтер\n",
      "буфет колледжа автоматизации и информационных технологий\n",
      "буфет медицинского училища при гкб им. боткина\n",
      "буфет на хитровке\n",
      "буфет полиграфического колледжа 56\n",
      "буфет политехнического колледжа 8\n",
      "буфет при астраханских банях\n",
      "буфет при вузе\n",
      "буфет при гбоу города москвы «школа № 1505»\n",
      "буфет при гбу г. москвы нии скорой помощи им. склифосовского департамента здравоохранения г. москвы\n",
      "буфет при гбук г. москвы театр школа драматического искусства\n",
      "буфет при гоу сош № 737\n",
      "буфет при гоу сош №1114\n",
      "буфет при гуп «объединенный комбинат школьно питания»\n",
      "буфет при московской финансово-юридической академии (учебный корпус)\n",
      "буфет при ржевской бане\n",
      "буфет при сок ргау-мсха им. к.а. тимирязева\n",
      "буфет при фгбоу во мглу\n",
      "буфет при цо №1637\n",
      "буфет при цо №1852\n",
      "буфет при кинотеатре\n",
      "буфет при кинотеатре «иллюзион»\n",
      "буфет при музыкальной школе\n",
      "буфет при налоговой\n",
      "буфет при общежитии\n",
      "буфет при театре\n",
      "буфет при школе № 1329\n",
      "буфет при школе №681\n",
      "буфет социального обслуживания «вешняки»\n",
      "буфет театра «et cetera»\n",
      "буфет театра ромэн\n",
      "буфет театра сфера\n",
      "буфет техникума мпэ\n",
      "буфет школы 141\n",
      "буфет школы 153\n",
      "буфет школы 158\n",
      "буфет школы 1601\n",
      "буфет школы 211\n",
      "буфет школы 221\n",
      "буфет школы 692\n",
      "буфет школы 694\n",
      "буфет школы 721\n",
      "буфет школы № 152\n",
      "буфет школы № 1575\n",
      "буфет школы № 227\n",
      "буфет школы № 684\n",
      "буфет № 1 ргау-мсха им. к.а. тимирязева\n",
      "буфет № 10 ргау-мсха им. к.а.тимирязева\n",
      "буфет № 11 при общежитии №8 ргау-мсха им. к.а. тимирязева\n",
      "буфет № 17 ргау-мсха им. к.а. тимирязева\n",
      "буфет № 2 ргау-мсха им. к.а. тимирязева\n",
      "буфет № 6 ргау-мсха им. к.а. тимирязева\n",
      "буфет № 7 в общежитии ргау-мсха им. к.а. тимирязева\n",
      "буфет №1\n",
      "буфет-бар бутербург\n",
      "буфет-раздаточная 1293\n",
      "буфет-раздаточная при гбу тцсо\n",
      "буфет-раздаточная при колледже\n",
      "буфет-раздаточная при школе 273\n",
      "буфет-раздаточная при школе 440\n",
      "буфет-раздаточная при школе цо увк 1811«измайлово»\n",
      "буфет-раздаточная № 731\n",
      "буфет-раздаточная № 749\n",
      "буфет-раздаточный\n",
      "буфет-раздаточный № 260\n",
      "буфет-холл ргау-мсха им. к.а. тимирязева\n",
      "буфет«лэк»\n",
      "буфетная продукция\n",
      "буффало\n",
      "буффет\n",
      "буффетум\n",
      "буханка\n",
      "бухара\n",
      "бухта\n",
      "буше\n",
      "бык ground\n",
      "быстро вкусно\n",
      "быстро-кафе\n",
      "быстрое питание\n",
      "быстрое питание ип красавин александр владимирович\n",
      "бюргер\n",
      "в москве как дома\n",
      "в темноте\n",
      "в кафе\n",
      "в лаваше\n",
      "в окошках\n",
      "в&в бургер\n",
      "в2в\n",
      "вlack burger чайхона №1\n",
      "вайт вотерс хоспиталити партнерс\n",
      "ваниль\n",
      "ванильное небо\n",
      "вардзия\n",
      "вах хинкальная\n",
      "вгик\n",
      "вгости. урюк\n",
      "вегето\n",
      "вектор\n",
      "вектор -с\n",
      "вельен\n",
      "венеция\n",
      "веранда 1.1\n",
      "веранда 10.1\n",
      "веранда 11\n",
      "веранда 12\n",
      "веранда 12.1\n",
      "веранда 13\n",
      "веранда 13.1\n",
      "веранда 14\n",
      "веранда 14.1\n",
      "веранда 15\n",
      "веранда 15.1\n",
      "веранда 16\n",
      "веранда 16.1\n",
      "веранда 17\n",
      "веранда 17.1\n",
      "веранда 18\n",
      "веранда 3.1\n",
      "веранда 4\n",
      "веранда 5\n",
      "веранда 6\n",
      "веранда 7\n",
      "веранда 7.1\n",
      "веранда 8\n",
      "веранда 9\n",
      "вернада 10\n",
      "виктория\n",
      "вилла густа нагасаки\n",
      "винни\n",
      "винный буфет\n",
      "вино и сулугуни\n",
      "вино и сыр кафе-бар\n",
      "винодельня\n",
      "витамин-бар\n",
      "вителия\n",
      "вкус дня\n",
      "вкинобар\n",
      "вниикабельной пром.\n",
      "воздухотехника\n",
      "воккер\n",
      "вокмания\n",
      "волерто\n",
      "волна бизнеса\n",
      "восточная сказка\n",
      "восточный квартал\n",
      "врест\n",
      "всеросийская государственная налоговая академия\n",
      "встреча\n",
      "вуден бор\n",
      "выпечка, кофе\n",
      "выпечка, пиво\n",
      "вьетнамская кухня\n",
      "вэлла\n",
      "ваби-саби\n",
      "важная персона\n",
      "вай мэ\n",
      "вай нот\n",
      "вайн рум\n",
      "вайн энд краб\n",
      "валенок\n",
      "валенсия\n",
      "ванвок\n",
      "ванильный шпатель улица\n",
      "ванильный шпатель\n",
      "ванчо пицца\n",
      "ваня нальет\n",
      "варвара\n",
      "вареничная\n",
      "вареничная (хинкальная)\n",
      "вареничная 1\n",
      "вареничная № 1\n",
      "вареничная №1\n",
      "варка\n",
      "васаби\n",
      "вафли\n",
      "вашлаваш\n",
      "веанжи\n",
      "вегас\n",
      "веганская кухня\n",
      "вегетарианская кухня\n",
      "вегетарианское кафе вкус и цвет\n",
      "вегетерианское кафе суперия\n",
      "ведическое кафе ганга\n",
      "великолепный век\n",
      "вельвет\n",
      "венахи\n",
      "венская кофейня coffee shop\n",
      "венская кофейня-кофе шоп\n",
      "венское кафе\n",
      "вентура\n",
      "вера олива\n",
      "веранда\n",
      "веранда 1\n",
      "веранда 10\n",
      "веранда 10.2\n",
      "веранда 2\n",
      "веранда 3\n",
      "веранда 6.1 крабыкутабы\n",
      "вереск-л\n",
      "верона алекс\n",
      "веселая черепашка\n",
      "веселые вареники (закрытое)\n",
      "весна\n",
      "ветераны фалафеля\n",
      "ветерок\n",
      "ветка\n",
      "вечерние огни\n",
      "вечерняя сменная общеобразовательная школа №57\n",
      "взлет\n",
      "виб бар\n",
      "вивальди\n",
      "виват авто\n",
      "виват пицца\n",
      "виват-пицца\n",
      "византий\n",
      "византия\n",
      "вика-99\n",
      "виктория и альберт\n",
      "вилдшвайн\n",
      "вилка ложка два ствола\n",
      "вилла дадиани\n",
      "вилла паста\n",
      "вилладжио\n",
      "вильям басс\n",
      "винил и вино\n",
      "винный базар\n",
      "винный базар соседи\n",
      "винный базар танцы\n",
      "винный бар\n",
      "винный базар «корка»\n",
      "винный бар 13\n",
      "винный бар alma valley\n",
      "винный кофейный бар 45\n",
      "винный магазин-бар «хлеб и вино»\n",
      "вино и мясо\n",
      "вино и трюфель\n",
      "вино и гады\n",
      "вино кафе\n",
      "виновники wine+kitchen\n",
      "винотека кино вино и домино\n",
      "винфуд\n",
      "вирджинс-клуб\n",
      "витал гидропроект\n",
      "витаминный бар, соки\n",
      "вишневый сад\n",
      "вишнёвый сад\n",
      "вкус востока\n",
      "вкус вьетнама\n",
      "вкус грузии\n",
      "вкус мяса\n",
      "вкус и цвет\n",
      "вкусная жизнь\n",
      "вкусная страна\n",
      "вкусная компания\n",
      "вкусная столовая\n",
      "вкусно\n",
      "вкусно как дома\n",
      "вкусно по-домашнему\n",
      "вкусно подано\n",
      "вкуснохаус\n",
      "вкусное время\n",
      "вкусное место\n",
      "вкусные пончики\n",
      "вкусный кофе\n",
      "вкусный мир\n",
      "вкусный хауз\n",
      "вкусный выбор\n",
      "вкусняшка\n",
      "вкусторг\n",
      "влад и к\n",
      "владивосток\n",
      "владимир\n",
      "во\n",
      "водный\n",
      "возрождение\n",
      "вок вэй\n",
      "вок стайл\n",
      "вок мания\n",
      "вок-стрип\n",
      "вокер\n",
      "вокруг света\n",
      "волга\n",
      "волконский\n",
      "волконский у дома\n",
      "волхонский\n",
      "волчья стая\n",
      "ворона кофе & сыр\n",
      "воронеж\n",
      "восток\n",
      "восточка. этническая кухня.\n",
      "восточная кухня\n",
      "восточная кухня азия\n",
      "восточная кухня кафе пекарня\n",
      "восточная ночь\n",
      "восточные вечера\n",
      "восточный базар\n",
      "восточный дворик\n",
      "восточный пекарь\n",
      "восточный теремок\n",
      "вояж\n",
      "враки\n",
      "времена года\n",
      "время есть\n",
      "время кофе\n",
      "время обедать\n",
      "все твои друзья\n",
      "всероссийский научно-исследовательский институт мясной промышленности им. в.м. горбатова\n",
      "второе кафе\n",
      "вурстбар\n",
      "вусал\n",
      "выпечка\n",
      "выпечка - шаурма\n",
      "выпечка тандыр\n",
      "выпечка ручной работы\n",
      "выпечка, шаурма\n",
      "выпечка, доннер\n",
      "выпечка, кофейня\n",
      "выпечка,шаурма\n",
      "выпечка. шаурма.\n",
      "выпечка.гриль\n",
      "высота 5642\n",
      "выхинский дворик\n",
      "выше крыши\n",
      "вьет вок\n",
      "вьет кинг\n",
      "вьет лотос\n",
      "вьет соул\n",
      "вьет фо\n",
      "вьет кафе\n",
      "вьетnam\n",
      "вьетвок\n",
      "вьеткафе\n",
      "вьетнэм\n",
      "вьетпапа\n",
      "вьетнамская кухня ngon\n",
      "вьетнамская кухня pho viet\n",
      "вьетнамская кухня фо-бо\n",
      "вьетфо кафе\n",
      "вэрон\n",
      "вятское сервис\n",
      "г мпи им. ипполитова-иванова\n",
      "газпромнефть\n",
      "галерея питания\n",
      "гамма лайт\n",
      "гараж\n",
      "гастробар «проба»\n",
      "гбоу «лицейско-гимнастический комплекс на юго-востоке\n",
      "гбоу «многофункциональный образовательный комплекс «кузьминки»\n",
      "гбоу «многофункциональный образовательный комплекс «кузьминки»)\n",
      "гбоу «технический пожарно-спасательный колледж имени героя рф в.м.максимчука»\n",
      "гбоу «школа с углубленным изучением английского языка» №1208\n",
      "гбоу «школа № 2111 «новая волна»\n",
      "гбоу «школа № 479 им. дважды героя советского союза маршала в.и. чуйкова\n",
      "гбоу гимназия № 1540\n",
      "гбоу коллежд связи №54\n",
      "гбоу лицей 1574\n",
      "гбоу лицей № 1574\n",
      "гбоу лицей №1524\n",
      "гбоу многопрофильный лицей 1501\n",
      "гбоу многопрофильный лицей № 1501\n",
      "гбоу многопрофильный лицей №1501\n",
      "гбоу нач.школа № 1632\n",
      "гбоу пушкинская школа № 1500\n",
      "гбоу скисиг\n",
      "гбоу сош 1173\n",
      "гбоу сош 1366\n",
      "гбоу сош 1582\n",
      "гбоу сош 556\n",
      "гбоу сош 879\n",
      "гбоу сош 880\n",
      "гбоу сош 944\n",
      "гбоу сош № 641 им. сергея есенина\n",
      "гбоу сош № 825\n",
      "гбоу сош №654 имени а.д. фридмана\n",
      "гбоу сош №654 имени а.д. фридмана (школа №458)\n",
      "гбоу спо строительный колледж\n",
      "гбоу спо технический пожарно-спасательный колледж № 57\n",
      "гбоу школа 1207 «кдп»\n",
      "гбоу школа 1636 «кдп»\n",
      "гбоу школа 544 «кдп»\n",
      "гбоу школа 548 «кдп»\n",
      "гбоу школа 896 «кдп»\n",
      "гбоу школа 949 «кдп»\n",
      "гбоу школа 979 «кдп»\n",
      "гбоу школа № 1636 «кдп»\n",
      "гбоу школа №1034 оао «комбинат дошкольного питания»\n",
      "гбоу школа №1998 оао «комбинат дошкольного питания»\n",
      "гбоу школа №867 «оао комбинат дошкольного питания»\n",
      "гбоу школа №867 оао «комбинат дошкольного питания»\n",
      "гбоу школа №998 оао «комбинат дошкольного питания»\n",
      "гбоу школа дмитровский\n",
      "гбоу школа № 1078\n",
      "гбоу школа № 1352\n",
      "гбоу школа № 1411 (267)\n",
      "гбоу школа № 1411 (761)\n",
      "гбоу школа № 1411 (970)\n",
      "гбоу школа № 1411( 958)\n",
      "гбоу школа № 1411(606)\n",
      "гбоу школа № 1499\n",
      "гбоу школа № 1554 (969)\n",
      "гбоу школа № 1598\n",
      "гбоу школа № 2054\n",
      "гбоу школа № 319\n",
      "гбоу школа № 626\n",
      "гбоу школа № 626 (гбоу сош № 568)\n",
      "гбоу школа № 626 (школа№ 517)\n",
      "гбоу школа № 626 структурное подразделение «ремизово»\n",
      "гбоу школа № 950 (959)\n",
      "гбоу школа № 950 (966)\n",
      "гбоу школа № 962\n",
      "гбоу школа № 962 ( 952)\n",
      "гбоу школа № 962 (265)\n",
      "гбоу школа № 962 (745)\n",
      "гбоу школа №1155\n",
      "гбоу школа №1270\n",
      "гбоу школа №1302\n",
      "гбоу школа №1411\n",
      "гбоу школа №1468\n",
      "гбоу школа №1519\n",
      "гбоу школа №1554 (1709)\n",
      "гбоу школа №1554 (240)\n",
      "гбоу школа №1554 (начальная школа)\n",
      "гбоу школа №1619\n",
      "гбоу школа №2057 дс -1\n",
      "гбоу школа №2057 дс-2\n",
      "гбоу школа №2057 шо-1\n",
      "гбоу школа №2057 шо-2\n",
      "гбоу школа №2104\n",
      "гбоу школа №2117\n",
      "гбоу школа №2122\n",
      "гбоу школа №2200\n",
      "гбоу школа №356 имени н.з. коляды\n",
      "гбоу школа №480 им. в.в. талалихина\n",
      "гбоу школа №480 им.в.в. талалихина\n",
      "гбоу школа №498\n",
      "гбоу школа №69\n",
      "гбоу школа №705\n",
      "гбоу школа №771\n",
      "гбоу школа №86 имени м.е. катукова\n",
      "гбоу школа №89\n",
      "гбоу школа №950\n",
      "гбоу школа №962 (1486)\n",
      "гбоу школа №962 (1491)\n",
      "гбоу школа№ 1554 (258)\n",
      "гбоу школа№ 950 ( 263)\n",
      "гбоу г. москвы школа № 854\n",
      "гбоу г. москвы школа №1557\n",
      "гбоу г.москвы лицей № 1557\n",
      "гбоу г.москвы школа №2057 дшо-3\n",
      "гбоу г.москвы школа № 609\n",
      "гбоу г.москвы школа № 845\n",
      "гбоу г.москвы школа № 854\n",
      "гбоу гимназия № 1516\n",
      "гбоу гимназия № 45 им.л.и.мильграма\n",
      "гбоу города москвы «школа № 2057»\n",
      "гбоу коллежд связи 54\n",
      "гбоу школа № 1236\n",
      "гбоу школа № 1613\n",
      "гбоу школа № 2114\n",
      "гбоу школа № 368 «лосиный остров»\n",
      "гбоу школа №1236\n",
      "гбоу школа №2114\n",
      "гбоу школа №236\n",
      "гбоу № 2089 сош №1\n",
      "гбоудо «севастополец»\n",
      "гбпоу «1-й мок» сп № 2 факультет дизайна\n",
      "гбпоу «педагогический колледж «10»)\n",
      "гбпоу гбпоу ок «юго-запад»\n",
      "гбпоу колледж малого бизнеса №4\n",
      "гбпоу окг столица отделение ратная\n",
      "гбпоу тсу и т № 29\n",
      "гбпоу г. москвы колледж архитектуры и строительства №7\n",
      "гбпоу колледж сферы услуг №3\n",
      "генацвале\n",
      "генацвале vip\n",
      "генацвали\n",
      "геотория\n",
      "герои\n",
      "геронтологический центр переделкино\n",
      "гивисациви\n",
      "гин-но-таки\n",
      "гокос\n",
      "город ветров\n",
      "городская больница 12\n",
      "городская клинич.б-ца 7 завиша\n",
      "городская клиническая больница имени м.п. кончаловского\n",
      "горячая выпечка\n",
      "гос.школа высшего спорт. мастерства\n",
      "гостиница «даниловская» бар\n",
      "гостиница «даниловская» кофейня\n",
      "гостиница лефортово\n",
      "гостиница эмос\n",
      "гостиничный комплекс мо рф славянка\n",
      "государственное бюджетное общеобразовательное учреждение города москвы школа № 1528\n",
      "государственное бюджетное общеобразовательное учреждение города москвы школа № 853\n",
      "государственное бюджетное общеобразовательное учреждение города москвы школа №1528\n",
      "государственное бюджетное общеобразовательное учреждение города москвы школа №719\n",
      "государственное бюджетное общеоразовательное учреждение города москвы школа №1528\n",
      "готов\n",
      "гоу впо российский государственный университет инновационных технологий и предпринимательства\n",
      "гоу мгпу объединение сервис\n",
      "гоу педагогический колледж № 7 маросейка\n",
      "гоу сош № 1174\n",
      "гоу сош № 1356\n",
      "гоу сош № 1595\n",
      "гоу сош № 1945\n",
      "гоу спо «строительный колледж № 41»\n",
      "гоу спо колледжа архитектуры и строительства №7, тсп-3\n",
      "гоу спо политехнического колледжа им. и.ф. павлова №8\n",
      "гоу спо колледж малого бизнеса № 40\n",
      "гоу цо технологический колледж\n",
      "гоу цо № 2006\n",
      "гоуспо технологический колледж №28\n",
      "гохран рф при минфине\n",
      "гп «мосгортранс» 1-й троллейбусный парк\n",
      "гп кп мгаи\n",
      "гп кп мгапп\n",
      "гп мгапп\n",
      "гп фуфс рф\n",
      "гп шбс «люблино» шк. 482\n",
      "гп шбс «люблино» шк. 484\n",
      "гп шбс «люблино» шк. 488\n",
      "гп шбс «люблино» шк. 489\n",
      "гп шбс «люблино» шк. 654ст\n",
      "гп шбс «люблино» шк. 687\n",
      "гпшбс «люблино» шк. 475\n",
      "гпшбс «люблино» шк. 478\n",
      "гпшбс «люблино» шк. 841\n",
      "гпшбс «люблино» школа 458\n",
      "грабли\n",
      "грандъ-александр\n",
      "граци\n",
      "гриль хаус\n",
      "гримм\n",
      "грин хаус\n",
      "грин-палас\n",
      "гудбиф\n",
      "гудс\n",
      "гуз\n",
      "гук «государственный театр киноактера»\n",
      "гуп 1-ый автобусный парк «мосгортранс» автобусная\n",
      "гуп «ритуал кро №3» (организация поминальной трапезы)\n",
      "гуп «сэу фсвт россии»\n",
      "гуп оп «петровка»\n",
      "гуп школьник\n",
      "густо\n",
      "гуу\n",
      "габриелян\n",
      "гавана\n",
      "гаджет студио\n",
      "гадкий кайот\n",
      "газпром нефть\n",
      "газпромнефть кафе\n",
      "газпромнефтьцентр\n",
      "галактика\n",
      "галата\n",
      "галерея\n",
      "галерея алекс\n",
      "галерея художника\n",
      "галерея- алекс\n",
      "галилео\n",
      "гамарджоба, генацвале\n",
      "гамбринус\n",
      "гандзак\n",
      "ганс и марта\n",
      "гараж крафт бир\n",
      "гарден\n",
      "гармония вкуса\n",
      "гасторбар\n",
      "гастро бар +1\n",
      "гастробар\n",
      "гастробар mist\n",
      "гастробар «наше место»\n",
      "гастролавка бородинского\n",
      "гастромаркет балчуг\n",
      "гастромаркет столица, открытая кухня\n",
      "гастрономическая бургерная янхук\n",
      "гастропаб «юкон»\n",
      "гастропаб пью ем\n",
      "гацоева анжела камалдиновна\n",
      "гвен-генацвалет\n",
      "гемриеле\n",
      "геогриевское подворье\n",
      "гершензон\n",
      "гиблинг\n",
      "гимназия 1542\n",
      "гимназия 1554\n",
      "гимназия № 1527\n",
      "гино-но-таки\n",
      "глав пив маг\n",
      "глав пирог\n",
      "глав суши\n",
      "главпивмаг\n",
      "главпивторг\n",
      "главбух\n",
      "главпирог\n",
      "гладиатор\n",
      "гластонбери\n",
      "глобус\n",
      "глория\n",
      "глоу сабс\n",
      "гнездо глухаря\n",
      "говядина\n",
      "гогиели\n",
      "гоголь\n",
      "голдпицца\n",
      "голенкова л.в.\n",
      "голову с плеч\n",
      "голубка\n",
      "гольдас\n",
      "гонконг\n",
      "гонконгские вафли\n",
      "гончаровъ\n",
      "гоотовая еда\n",
      "горница\n",
      "город\n",
      "город -сад\n",
      "город сад\n",
      "город-сад\n",
      "городская служба питания\n",
      "городская поликлиника 220\n",
      "городские автокофейни\n",
      "городское кафе «лакомка»\n",
      "городское кафе и бар ps\n",
      "гороячие сосиски\n",
      "горыныч\n",
      "горячая выпечка 24\n",
      "горячая выпечка из печи, куры-гриль\n",
      "горячая выпечка, шашлычная\n",
      "горячая кукуруза, напитки\n",
      "горячая лепешка\n",
      "горячее питание\n",
      "горячие ночи востока\n",
      "горячий лаваш\n",
      "горячий хлеб\n",
      "гостеприимный город\n",
      "гостехстрой\n",
      "готика\n",
      "готовая еда\n",
      "готовые блюда\n",
      "готовые блюда милти\n",
      "гранат\n",
      "гранатовый сад\n",
      "гранатовый сад №1\n",
      "гранатовый сок\n",
      "гранд\n",
      "гранд виктория\n",
      "гранд европейский экспресс\n",
      "гранд круассан\n",
      "гранд урюк\n",
      "гранд фэмили\n",
      "гранж\n",
      "графский дворик\n",
      "граци рагацци зю кафе\n",
      "гренка\n",
      "гретель\n",
      "греческая кухня\n",
      "греческий гирос\n",
      "гречка лаб\n",
      "гриль\n",
      "гриль & гирос\n",
      "гриль бар\n",
      "гриль хауз\n",
      "гриль хаус lamb cook\n",
      "гриль хаус дисконт бар\n",
      "гриль холл\n",
      "гриль бар meet meat\n",
      "гриль и гирос\n",
      "гриль и сувлаки\n",
      "гриль-бар «веранда»\n",
      "гриль-бар «жаровня»\n",
      "гринклаб\n",
      "гринсайд\n",
      "гришаев в.в\n",
      "грузинка\n",
      "грузинская выпечка\n",
      "грузинская кухня\n",
      "грузинская кухня lazuri\n",
      "грузинская кухня меама\n",
      "грузинская кухня хачапурная\n",
      "грузинская кухня эzо\n",
      "грузинская кухня эzо хинкальная\n",
      "грузинская лавка тбилисобо\n",
      "грузинская пекарня\n",
      "грузинские каникулы\n",
      "грузинские каникулы барбарис\n",
      "грузинский акцент\n",
      "грузинский дворик\n",
      "грузинский домик\n",
      "груша\n",
      "грязные танцы\n",
      "грячие закуски,напитки, поп корн, мороженое,сладости\n",
      "гудбар\n",
      "гудвин\n",
      "гудман\n",
      "гудман гудвин\n",
      "гудсон бар\n",
      "гункан\n",
      "гурия\n",
      "гурман\n",
      "гурмания\n",
      "гурмэ кебаб\n",
      "густаторе\n",
      "гусятникоff\n",
      "гюлер групп\n",
      "гюмри\n",
      "д'кафе\n",
      "да, еда\n",
      "да-чикко\n",
      "дабл капс\n",
      "даблби\n",
      "даблби кофейня\n",
      "дагестанская лавка\n",
      "дай краба\n",
      "даймонд\n",
      "данкин донатс\n",
      "дарья-99\n",
      "дата-ута московский открытый университет\n",
      "дача на покровке\n",
      "две палочки\n",
      "дворец детского спорта\n",
      "дгуп укк гуп мосгортранс\n",
      "дгуп филевский атп гк мосгортранс\n",
      "дгуп филевский атп гк «мосгортранс» ип хлебников а.в.\n",
      "дежавю\n",
      "дейлин\n",
      "дело вкуса\n",
      "десять шесть\n",
      "детская поликлиника млсо\n",
      "детский дом 14\n",
      "детский клуб «андерсон»\n",
      "детское кафе\n",
      "детское кафе «андерсон»\n",
      "джон булл паб\n",
      "джон джоли\n",
      "джон-донн курасава\n",
      "джуджа\n",
      "джус-бар\n",
      "дз пд москоу\n",
      "дзендао\n",
      "диди папа\n",
      "диорама бар\n",
      "диссидент\n",
      "доготовочная столовая - гбоу школа № 1925\n",
      "доготовочная столовая - мтк 61\n",
      "доготовочная столовая - школа 1024\n",
      "доготовочная столовая - школа 1025\n",
      "доготовочная столовая - школа 1048\n",
      "доготовочная столовая - школа 1200\n",
      "доготовочная столовая - школа 1351\n",
      "доготовочная столовая - школа 1591\n",
      "доготовочная столовая - школа 1914\n",
      "доготовочная столовая - школа 1924\n",
      "доготовочная столовая - школа 1926\n",
      "доготовочная столовая - школа 1927\n",
      "доготовочная столовая при школе 1995\n",
      "додо пицца\n",
      "дозари кальянный клуб\n",
      "док-1\n",
      "долина солнца\n",
      "дом актера\n",
      "дом белого журавля\n",
      "дом куксу\n",
      "домино'с пицца\n",
      "донателло пицца\n",
      "донер кебаб\n",
      "донер кинг\n",
      "донер сити\n",
      "донер хаус\n",
      "донер-клаб\n",
      "донеретт\n",
      "донеретт&пекарня\n",
      "донеретто-пекарня\n",
      "достоевский\n",
      "дружба\n",
      "дума\n",
      "дурдинъ\n",
      "дуэт\n",
      "дши 11\n",
      "дэз минтранса россии\n",
      "дядюшка хо\n",
      "да еда. шаурма\n",
      "да кофе\n",
      "да пино\n",
      "да пино (da pino)\n",
      "дабл би\n",
      "дабл би блэк\n",
      "дабл би-кофейня\n",
      "давид айвазовский\n",
      "дагестанская кухня\n",
      "дагестанские лави\n",
      "дайнинг холл\n",
      "дак-фудс\n",
      "далбли\n",
      "дамаскина к.а\n",
      "дан кафе\n",
      "дарбази\n",
      "дарвин паб\n",
      "дас крюгер холл\n",
      "дача на варшавке\n",
      "два кренделя\n",
      "два кувшина\n",
      "дворец султана\n",
      "дворик детства мирабель\n",
      "дворный пивик\n",
      "де бассус\n",
      "де марко\n",
      "дебют\n",
      "девятка\n",
      "дежурная рюмочная\n",
      "дейли шеф\n",
      "деливери пицца\n",
      "деликатесы\n",
      "детская больница №13 н.ф. филатова дзм\n",
      "детский сад № 2070\n",
      "детское кафе «ежеминутка»\n",
      "детское кафе «космик»\n",
      "дефакто\n",
      "джаганнат\n",
      "джаз\n",
      "джаз клуб эссе\n",
      "джаз-клуб союз композиторов\n",
      "джакузня\n",
      "джамбо\n",
      "джангл лэнд\n",
      "джандуя\n",
      "джанус\n",
      "джардино ди пино\n",
      "джастфою\n",
      "джейсибизнес\n",
      "джеки - джеки\n",
      "джелато\n",
      "джелато «пломбир»\n",
      "джем клуб андрея макаревича\n",
      "джеримис\n",
      "джерри вингс\n",
      "джеффрис кофе\n",
      "джим энд джек\n",
      "джимми ли\n",
      "джо блэк кофейня\n",
      "джо кофе\n",
      "джоведи\n",
      "джон донатс кофе, шаурма\n",
      "джон донн\n",
      "джонджоли\n",
      "джонджоли, песто\n",
      "джуси лаб\n",
      "джусто\n",
      "диал лидер\n",
      "диана\n",
      "диемме\n",
      "дижестив\n",
      "дизайн кофе\n",
      "диктатура эстетика\n",
      "дилли\n",
      "димсам\n",
      "дионис\n",
      "дипломат\n",
      "диско-бар «гриль холл»\n",
      "до до пицца\n",
      "добрые люди\n",
      "добрынинский\n",
      "добрынинский и партнёры\n",
      "догма болт шоп\n",
      "додопицца\n",
      "доктор ватсон\n",
      "доктор живаго\n",
      "долина\n",
      "долина чайхона\n",
      "долма\n",
      "долмама\n",
      "дольче фантазия\n",
      "дольче булка\n",
      "дом 12\n",
      "дом 15 кафе\n",
      "дом 8а\n",
      "дом чуду\n",
      "дом татарской кухни\n",
      "дом торжеств государь\n",
      "дом хинкали\n",
      "дом шашлыка\n",
      "дом №5\n",
      "домашнее кафе сеть городских кафе\n",
      "домашнее кафе\n",
      "домашний компот\n",
      "домашний очаг\n",
      "домашний ресторан «friends and family»\n",
      "домашний уют\n",
      "домашняя выпечка\n",
      "домашняя еда\n",
      "домашняя кухня\n",
      "домашняя снедь\n",
      "домино'с пицца domino,s pizza\n",
      "доминос пицца\n",
      "доможилов\n",
      "дон джулио\n",
      "дон донер\n",
      "дон хуан\n",
      "донар кебаб\n",
      "донатос пицца\n",
      "донатс\n",
      "донер\n",
      "донер & тандыр\n",
      "донер 24\n",
      "донер бистро\n",
      "донер горячая выпечка\n",
      "донер кебаб сели поели\n",
      "донер кебаб хаус\n",
      "донер кебаб.лепешки\n",
      "донер кофе\n",
      "донер пекарня\n",
      "донер и филатель\n",
      "донер и пекарня\n",
      "донер кебаб на углях\n",
      "донер на углях\n",
      "донер шаурма\n",
      "донер шеф\n",
      "донер №1\n",
      "донер&тантуни\n",
      "донер, выпечка\n",
      "донер-кебаб\n",
      "донер-хаус\n",
      "донеркебаб\n",
      "донерок\n",
      "донерхаус\n",
      "донерет\n",
      "донеретт пекарня\n",
      "донеретт, пекарня\n",
      "донеретт.пекарня\n",
      "донеретта пекарня\n",
      "донеретто\n",
      "донеретто пекарня\n",
      "доннер (шаурма)\n",
      "доннерет\n",
      "доннеретто\n",
      "донор кебаб\n",
      "доноретта\n",
      "дориан грей\n",
      "дорогая я перезвоню\n",
      "дорогая, я перезвоню\n",
      "дорофея и ко\n",
      "дорф\n",
      "доставка японской кухни banzai sheff\n",
      "доставка еды и обедов «вкусно house»\n",
      "драйвер вкуса\n",
      "дрим бар\n",
      "дринкит\n",
      "другая шаурма\n",
      "другой бар\n",
      "дружба (first)\n",
      "дружба народов\n",
      "друзья\n",
      "дублинец\n",
      "дудук\n",
      "дулганов эрик ержанович\n",
      "душа грузии деда\n",
      "душевная кухня (food line)\n",
      "дым и вино\n",
      "дымократия\n",
      "дюплекс\n",
      "дюссельдорф\n",
      "дюшес\n",
      "дядюшка кофе\n",
      "дядя ваня\n",
      "дядя коля\n",
      "евро донер\n",
      "евро кафе\n",
      "европа\n",
      "егоза\n",
      "еда 24\n",
      "емка\n",
      "ермак\n",
      "есенин\n",
      "еврокафе\n",
      "еда\n",
      "еда бар нам\n",
      "еда еда\n",
      "еда обитания\n",
      "ежевика\n",
      "ели пели\n",
      "ели сацебели\n",
      "ели пельмени\n",
      "ели, пили\n",
      "елихинкали\n",
      "елки-палки\n",
      "емеля\n",
      "еп-поем\n",
      "ереван\n",
      "ерен тур\n",
      "есть пить\n",
      "есть бургер\n",
      "есть хинкали, пить вино\n",
      "ешка\n",
      "ешка (студенческая столовая)\n",
      "ешь живи пицца-бар\n",
      "ешь хлеб\n",
      "ешь фрукт\n",
      "ешь хинкали, пей вино\n",
      "жара hookah&lounge\n",
      "жаровня\n",
      "жеральдин\n",
      "жан жак\n",
      "жар птица\n",
      "жара\n",
      "жарим и парим\n",
      "жарим-шпарим\n",
      "жарки\n",
      "жасмин\n",
      "желатессимо\n",
      "жестокий романс\n",
      "живое пиво\n",
      "жига дрыга бар\n",
      "жигулевское\n",
      "жигули\n",
      "жизнь пи\n",
      "жингялов хац гирос бургер\n",
      "житная 10\n",
      "журфак\n",
      "з-д «компрессор»\n",
      "загородный\n",
      "загорье бдо шк. 877\n",
      "загорье гбоу 1861\n",
      "загорье гоу сош 1426\n",
      "загорье шк. 508\n",
      "загорье шк. 902\n",
      "загорье шк. 934\n",
      "загорье шк. 935\n",
      "загорье шк. 941\n",
      "загорье шк. 947\n",
      "загорье шк.1428\n",
      "загорье шк.877\n",
      "загорье шк.915\n",
      "загорье шк.942\n",
      "загорье шк.№ 948\n",
      "загорье шк.№5\n",
      "закавказье\n",
      "закрытый клуб «гараж»\n",
      "зао смк северная звезда\n",
      "зарубежье\n",
      "зоар кафе\n",
      "золотая вобла\n",
      "золотой дракон\n",
      "золотые ручки\n",
      "зрительский буфет\n",
      "зси\n",
      "завод\n",
      "завтрак на обед\n",
      "завтраки\n",
      "зазеркалье\n",
      "закон бернулли\n",
      "закусочая\n",
      "закусочная\n",
      "закусочная kfc\n",
      "закусочная labobaloca\n",
      "закусочная «kfc»\n",
      "закусочная «kebab grill»\n",
      "закусочная «mealty»\n",
      "закусочная «sushi stor»\n",
      "закусочная «американ сити пицца»\n",
      "закусочная «баскин роббинс & стардогс»\n",
      "закусочная «бургер кинг»\n",
      "закусочная «гриль кебаб»\n",
      "закусочная «донеретто»\n",
      "закусочная «колобок»\n",
      "закусочная «кофе с собой»\n",
      "закусочная «крошка картошка»\n",
      "закусочная «пицца хат»\n",
      "закусочная «пицца в марьино»\n",
      "закусочная «пицца»\n",
      "закусочная «стардогs»\n",
      "закусочная «сушишоп»\n",
      "закусочная «теремок»\n",
      "зал наполеон\n",
      "залечь на дно\n",
      "замзам\n",
      "замечательные люди\n",
      "замок\n",
      "запад-восток\n",
      "зар-пицца\n",
      "зарайский дворик\n",
      "зарафшон\n",
      "заря\n",
      "заяц и шляпа\n",
      "звезда\n",
      "здесь поем\n",
      "здоровая кухня\n",
      "здоровое питание\n",
      "здравствуй рыба\n",
      "зеленая поляна\n",
      "зеленая точка\n",
      "зеленый змий\n",
      "зеленый мыс\n",
      "зеленый сад\n",
      "зелень\n",
      "зелёный лис\n",
      "зеравшан\n",
      "зерно и сало\n",
      "зефир\n",
      "зилола\n",
      "зимес\n",
      "зодиак\n",
      "золотая бухара\n",
      "золотая лихорадка\n",
      "золотая лошадь\n",
      "золотая рыбка\n",
      "золотая рыбка улица\n",
      "золото фм\n",
      "золотое руно\n",
      "золотой орех\n",
      "золотой родник\n",
      "золотой дворик\n",
      "золотой павлин\n",
      "зю кафе\n",
      "ибис китчен\n",
      "иверия\n",
      "идель\n",
      "идола турецкий донер\n",
      "иезбера т.а.\n",
      "изи паб\n",
      "илико\n",
      "иль патио\n",
      "иль форно\n",
      "импекс тдк\n",
      "институт международной торговли и права\n",
      "институт пластической хирургии и косметологии\n",
      "интермедсервис\n",
      "интернат №72 «комбинат дошкольного питания»\n",
      "интернат №73 «курьяновская база»\n",
      "интернет кафе\n",
      "интероптика кейтеринг\n",
      "интерпаб\n",
      "ип«жуков м.а»\n",
      "ип«осипова е.е»\n",
      "иранская кухня\n",
      "ист болт рус\n",
      "ит маркет роза\n",
      "ит-сервис\n",
      "итальянец\n",
      "ибрагимов магомед сулейманович\n",
      "идилия\n",
      "идола\n",
      "изба\n",
      "изюм\n",
      "изя гриль\n",
      "икура паб\n",
      "илларион\n",
      "иль бароло\n",
      "иль джорно\n",
      "иль патио планета суши\n",
      "иль форнетто\n",
      "иль-патио\n",
      "илья муромец\n",
      "имаджин\n",
      "имбирь\n",
      "имерети\n",
      "империя кино 2000\n",
      "империя пиццы\n",
      "индеич\n",
      "индийская кухня\n",
      "индийская точка\n",
      "инжир\n",
      "институт прикладных технологий (миит)\n",
      "интересный ресторан\n",
      "интернат 28\n",
      "интертрансэкспедиция\n",
      "интерьер\n",
      "интурист коломенское\n",
      "инферно лаунка\n",
      "ирландский паб\n",
      "ирландский паб «моллиc»\n",
      "ирландский паб «шон о нилл»\n",
      "ирландский паб белфаст\n",
      "ирланский бар сильверс\n",
      "исмаилов о.т.\n",
      "испанские пончики чуррос\n",
      "испанские сладости улица\n",
      "иссыкуль\n",
      "италония\n",
      "итальянская лавка\n",
      "итальянский ресторан «беллини»\n",
      "итальянское кафе\n",
      "итальянцы остерия\n",
      "ичибан боши\n",
      "йогоцентр\n",
      "йоркшир\n",
      "к литру литр\n",
      "к111\n",
      "кrispy кreme\n",
      "кабинет\n",
      "кадетская школа интернат 9моск. пансион гос. вос\n",
      "казан-ок\n",
      "как надо\n",
      "какая-то кофейня\n",
      "кактус\n",
      "каланчевка\n",
      "калитники-кейтеринг\n",
      "кальян\n",
      "кальянная «москальян»\n",
      "кальянная облака lounge\n",
      "кантинетта антинори\n",
      "караван прожект\n",
      "караоки\n",
      "кардинал\n",
      "каретный ряд\n",
      "кариночка\n",
      "карл баленг\n",
      "каро\n",
      "карри\n",
      "картонтара\n",
      "кафе\n",
      "кафе -бар «кипарис»\n",
      "кафе 2\n",
      "кафе 7-ой этаж фгуп ттц «останкино»\n",
      "кафе 9-й этаж фгуп ттц «останкино»\n",
      "кафе kfc\n",
      "кафе starbucks\n",
      "кафе « бакинский дворик»\n",
      "кафе «азербайджан»\n",
      "кафе «азра»\n",
      "кафе «андерсон»\n",
      "кафе «венская сказка»\n",
      "кафе «восточный базар»\n",
      "кафе «вьет кафе»\n",
      "кафе «галладенс»\n",
      "кафе «каро фильм»\n",
      "кафе «кафишка»\n",
      "кафе «каюта»\n",
      "кафе «компании вевс»\n",
      "кафе «космос»\n",
      "кафе «крем»\n",
      "кафе «кафе дра»\n",
      "кафе «лукоморье»\n",
      "кафе «макдоналдс»\n",
      "кафе «мираж»\n",
      "кафе «му-му»\n",
      "кафе «матрешка»\n",
      "кафе «мир кебаб»\n",
      "кафе «околица»\n",
      "кафе «одилия»\n",
      "кафе «пекинская утка»\n",
      "кафе «прайд 66»\n",
      "кафе «русский чай»\n",
      "кафе «сабвэй»\n",
      "кафе «салсабил»\n",
      "кафе «супвок»\n",
      "кафе «суши бар»\n",
      "кафе «теремок»\n",
      "кафе «траттория венеция»\n",
      "кафе «топаз-джони»\n",
      "кафе «удача»\n",
      "кафе «хинкальная»\n",
      "кафе «хлеб насущный»\n",
      "кафе «цветочный лес»\n",
      "кафе «чердачок»\n",
      "кафе «шашлычок»\n",
      "кафе «шеффилд»\n",
      "кафе «штолле»\n",
      "кафе «шамкир»\n",
      "кафе «шоколадница»\n",
      "кафе «эларджи»\n",
      "кафе «эль-шарк»\n",
      "кафе «якитория»\n",
      "кафе ао гостиница «турист»\n",
      "кафе балкан\n",
      "кафе бар-караоке\n",
      "кафе бен а комер\n",
      "кафе булошная\n",
      "кафе бургер кинг\n",
      "кафе важная персона\n",
      "кафе вкус востока\n",
      "кафе вкусняшка\n",
      "кафе генеральной дирекции\n",
      "кафе грант\n",
      "кафе доберман\n",
      "кафе ип зеленый а.ю.\n",
      "кафе концертной студии фгуп ттц «останкино»\n",
      "кафе коста\n",
      "кафе кофе-хаус\n",
      "кафе лампа алтуфьево\n",
      "кафе линия\n",
      "кафе макдоналдс\n",
      "кафе матрешка\n",
      "кафе на азс\n",
      "кафе на басманной\n",
      "кафе очаг\n",
      "кафе паб дедди\n",
      "кафе пармежано\n",
      "кафе при бассейне\n",
      "кафе при батутном центре «небо»\n",
      "кафе при гостинице «саяны»\n",
      "кафе при гостинице вос\n",
      "кафе при гостинице ярославская\n",
      "кафе при дц автомир\n",
      "кафе при ледовом дворце\n",
      "кафе пушкинъ\n",
      "кафе рача\n",
      "кафе рева\n",
      "кафе ро-са\n",
      "кафе рябинка\n",
      "кафе самарканд\n",
      "кафе сказка\n",
      "кафе скала\n",
      "кафе союз бар\n",
      "кафе треугольник\n",
      "кафе уют\n",
      "кафе хайп\n",
      "кафе чайкана хамза\n",
      "кафе шарманка\n",
      "кафе экипаж\n",
      "кафе южный порт -м\n",
      "кафе в дк им.луначарского\n",
      "кафе в кинотеатре люксор\n",
      "кафе при вавт\n",
      "кафе при оао «гипромез»\n",
      "кафе при оао г-це «звездная»\n",
      "кафе при фгуп ттц «останкино»\n",
      "кафе при гостинице «университетсткая»\n",
      "кафе при кс мосфильм\n",
      "кафе- бар\n",
      "кафе-бар\n",
      "кафе-бар «hi пятница»\n",
      "кафе-бар «главclub green concert»\n",
      "кафе-бар «жако»\n",
      "кафе-бар «ля-николя»\n",
      "кафе-бар водолей\n",
      "кафе-бар курага\n",
      "кафе-бар при азс\n",
      "кафе-бар при кинотеатре «космос»\n",
      "кафе-бистро\n",
      "кафе-бистро софимарсо\n",
      "кафе-бутик posh up, babe\n",
      "кафе-караоке «la la land»\n",
      "кафе-кондитерская\n",
      "кафе-кулинария\n",
      "кафе-кухня\n",
      "кафе-пекарея «волконский»\n",
      "кафе-пиццерия\n",
      "кафе-ресторан «биф-тайм»\n",
      "кафе-столовая\n",
      "кафедра питания при мигаике\n",
      "кафетерий\n",
      "кафетерий (служебный) гостиницы «космос»\n",
      "кафетерий клуб миэт\n",
      "кдп - кетеринг цсо\n",
      "кдп « кетеринг»\n",
      "кдф кетеринг домостроительный комбинат 2\n",
      "кедр лаунж бар\n",
      "кинки\n",
      "кирим\n",
      "кирпич\n",
      "китайгородская стена\n",
      "китайская лапша «рамэн»\n",
      "китайский летчик «джаода»\n",
      "китеж\n",
      "кларк ки\n",
      "клевер ритейл групп\n",
      "клево\n",
      "клуб 18 12\n",
      "клуб высоцкого\n",
      "клубный ресторан\n",
      "км 20\n",
      "кове\n",
      "кои нори\n",
      "кока-кола эйчбиси евразия\n",
      "колбасофф\n",
      "колледж 10\n",
      "колледж декоративно-прикладного искусства № 36\n",
      "колледж малого бизнеса\n",
      "колледж навигаторов имени шашкова с.а.\n",
      "колледж работ.гост.и рестор.цариц.\n",
      "колледж связи 54\n",
      "колледж современных технологий\n",
      "колледж № 27\n",
      "колледж № 29\n",
      "колледж №26\n",
      "колледж №34\n",
      "колледж №57\n",
      "колобок\n",
      "колтрейн\n",
      "кольчуга\n",
      "комбинат питания\n",
      "комбинат питания «управление академсервис»\n",
      "комбинат питания конкорд\n",
      "комбинат питания мгту им.н.э.баумана\n",
      "комбинат питания мгуиэ\n",
      "комбинат питания мирэа\n",
      "комбинат питания мпгу\n",
      "комбинат питания ран\n",
      "комбинат питания учащихся при гос.образ.уч.мгкэмит\n",
      "комбинат питания фин.хоз.упр.мэрии москвы\n",
      "комбинат питания школа 921\n",
      "комбинат рыба и только\n",
      "компания «алвар» мнирти\n",
      "конверс-банк\n",
      "кондитерская\n",
      "кондитерская «шодо»\n",
      "конеч.ст.водит. 7 трол.\n",
      "конеч.ст.водит.9 ав.п..\n",
      "коникс школьник\n",
      "коникс-школьник школа 1403\n",
      "консис +\n",
      "консьерж-бар\n",
      "концерн радиостроения вега\n",
      "концерт бар\n",
      "корвет\n",
      "корчма «тарас бульба»\n",
      "корчма тарас бульба\n",
      "котикилюди\n",
      "кофе бин\n",
      "кофе выпечка\n",
      "кофе поинт\n",
      "кофе с собой\n",
      "кофе тайм\n",
      "кофе хаус\n",
      "кофе хаус. экспрессо и капучино бар\n",
      "кофе-порт\n",
      "кофебум\n",
      "кофейня\n",
      "кофейня «costa coffee»\n",
      "кофейня «де марко»\n",
      "кофейня «капучинофф»\n",
      "кофейня «шоколадница»\n",
      "кофейня альковъ\n",
      "кофейня келарь\n",
      "кофейня правда кофе\n",
      "кофемания\n",
      "кофепорт\n",
      "кофешоп компани\n",
      "кп «кремлевский»\n",
      "кп мгу буфет\n",
      "кп мгу буфет 101\n",
      "кп мгу буфет 104\n",
      "кп мгу буфет 142\n",
      "кп мгу буфет 145\n",
      "кп мгу буфет 146\n",
      "кп мгу буфет 31\n",
      "кп мгу буфет 41\n",
      "кп мгу буфет 42\n",
      "кп мгу буфет 5\n",
      "кп мгу буфет 71\n",
      "кп мгу буфет 72\n",
      "кп мгу буфет 87\n",
      "кп мгу буфет 88\n",
      "кп мгу буфет 91\n",
      "кп мгу закусочная 1\n",
      "кп мгу закусочная 2\n",
      "кп мгу столовая 1\n",
      "кп мгу столовая 10\n",
      "кп мгу столовая 14\n",
      "кп мгу столовая 15\n",
      "кп мгу столовая 2\n",
      "кп мгу столовая 3\n",
      "кп мгу столовая 4\n",
      "кп мгу столовая 4 2\n",
      "кп мгу столовая 5\n",
      "кп мгу столовая 7\n",
      "кп мгу столовая 8\n",
      "кп мгу столовая 9\n",
      "кп мэи\n",
      "кп мэи кафе дом 13\n",
      "кп оусц крылатское\n",
      "кпф семья-1\n",
      "крафт 1.8\n",
      "крафтовое пиво\n",
      "кредитный колледж загорье\n",
      "кристиан\n",
      "кристина\n",
      "крошка картошка\n",
      "кружка\n",
      "крузо\n",
      "крюково-цсо взрослое отделение\n",
      "ксн\n",
      "ксц «переделкино»\n",
      "ку ка буфет домашней еды\n",
      "ку рамен изакая бар\n",
      "кувера\n",
      "кулинария\n",
      "кулинария дубрава\n",
      "кулинария пекарня\n",
      "кулинарная лавка братьев караваевых\n",
      "кулинарное бюро\n",
      "кунак\n",
      "кучина (эль питоре)\n",
      "кфс амрест\n",
      "кабак у азера\n",
      "кабачок дым коромыслом\n",
      "кабуки\n",
      "кабул\n",
      "кавали клуб\n",
      "кавказская кухня\n",
      "кавказская пленница\n",
      "кавказский дворик\n",
      "кадаши ( закрытый)\n",
      "кадетская шк-интернат № 10\n",
      "кадетский корпус следственного комитета рф имени александра невского\n",
      "кадриль\n",
      "казан\n",
      "казан мангал\n",
      "казан чай бар\n",
      "казан-чайхона кафе\n",
      "кайф кормить\n",
      "как дома\n",
      "калач\n",
      "калимера\n",
      "калина бар\n",
      "калинка\n",
      "калинка малинка\n",
      "калифорния дайнер\n",
      "кальян бар\n",
      "кальян бар «garage lounge»\n",
      "кальян клуб тайга\n",
      "кальян- бар «мята lounge»\n",
      "кальян-бар «бедуин»\n",
      "кальян-бар\n",
      "кальян-бар atw lounge\n",
      "кальян-бар moskalyan\n",
      "кальян-бар parovarnya\n",
      "кальян-бар shisha room\n",
      "кальян-бар smoke banshee\n",
      "кальян-бар «мята lounge»\n",
      "кальян-бар атмосфера лаунж на автозаводской\n",
      "кальян-бар мята lounge\n",
      "кальянная\n",
      "кальянная - компьютерный клуб\n",
      "кальянная 2500\n",
      "кальянная blak smoke\n",
      "кальянная cube lounge\n",
      "кальянная f-lounge\n",
      "кальянная garnet loung\n",
      "кальянная hookah time тульская\n",
      "кальянная jellyfish\n",
      "кальянная loft 24\n",
      "кальянная losi lounge bar\n",
      "кальянная mr. mishka\n",
      "кальянная noel lounge\n",
      "кальянная rodina lounge\n",
      "кальянная sin city lounge\n",
      "кальянная smoke lounge\n",
      "кальянная vysota57 lounge\n",
      "кальянная «abu dhabi»\n",
      "кальянная «euphoria»\n",
      "кальянная «great als lounge»\n",
      "кальянная «hookah place»\n",
      "кальянная «no name»\n",
      "кальянная «riccy»\n",
      "кальянная «бонапрт»\n",
      "кальянная «вдох-выдох»\n",
      "кальянная «высота 57»\n",
      "кальянная «дымный орешек»\n",
      "кальянная «курилы»\n",
      "кальянная «лаундж-бар облако»\n",
      "кальянная «лофт»\n",
      "кальянная «мята lounge»\n",
      "кальянная «мята launge»\n",
      "кальянная «небо лаунж»\n",
      "кальянная «облако 54»\n",
      "кальянная «огни баку лаунж»\n",
      "кальянная «шале»\n",
      "кальянная «шишка»\n",
      "кальянная библиотека\n",
      "кальянная вэйп онлайн\n",
      "кальянная до-зари\n",
      "кальянная дымок\n",
      "кальянная культ\n",
      "кальянная мята lounge\n",
      "кальянная на районе\n",
      "кальянная нуар\n",
      "кальянная облака\n",
      "кальянная отокомае\n",
      "кальянная проект\n",
      "кальянная трасса09\n",
      "кальянная хука хауз\n",
      "кальянная бар\n",
      "кальянная на бутлерова\n",
      "кальянная на островитянова 13\n",
      "кальянная нефть\n",
      "кальянная №1\n",
      "кальяннная\n",
      "кальянный дворик\n",
      "кальянный клуб дымок уголек\n",
      "кальянс\n",
      "каменев василий владимирович\n",
      "камера обскура кофе\n",
      "каморра\n",
      "кампус\n",
      "кампус кафе-бар\n",
      "камчатка\n",
      "кантата\n",
      "кантина\n",
      "кантина (закрытое)\n",
      "кантина кафе офис клуб\n",
      "кап-ферра\n",
      "капито кафе\n",
      "капоне\n",
      "каприз\n",
      "каравелла\n",
      "карагат\n",
      "карамель\n",
      "карамель ресторантс\n",
      "карамзин\n",
      "караоке song vape bar steak house\n",
      "караоке «бум»\n",
      "караоке «соло & маска»\n",
      "караоке «эхо»\n",
      "караоке маяк\n",
      "караоке мост клуб\n",
      "караоке трели\n",
      "караоке хо\n",
      "караоке клуб five\n",
      "караоке клуб «cava»\n",
      "караоке клуб «опера»\n",
      "караоке клуб аурум\n",
      "караоке на лубянке\n",
      "караоке-бар «брюсофф»\n",
      "караоке-бар, кальян\n",
      "караоке-прожектор\n",
      "караоке-бар\n",
      "караоке-бар loft\n",
      "караоке-бар piano\n",
      "караоке-бар serebro\n",
      "караоке-бар «bar les»\n",
      "караоке-бар ян пен\n",
      "караоке-клуб\n",
      "караоке-клуб энгельс\n",
      "караокетеатр «синематограф»\n",
      "карат\n",
      "карейские салаты\n",
      "карл баллинг\n",
      "карлсон и ко\n",
      "карнавал\n",
      "карте бланж\n",
      "картоха\n",
      "касабланка\n",
      "каспий\n",
      "катька запеканка\n",
      "кафе ( закрытое)\n",
      "кафе (ремонт)\n",
      "кафе (закрытое)\n",
      "кафе - бар «room»\n",
      "кафе - столовая «маячок»\n",
      "кафе -бар\n",
      "кафе -бар «lobby winewood»\n",
      "кафе 01\n",
      "кафе 02\n",
      "кафе 12\n",
      "кафе 1639\n",
      "кафе 2.0\n",
      "кафе 24 градуса\n",
      "кафе 35\n",
      "кафе 42 coffee shop\n",
      "кафе 5 +\n",
      "кафе 7 сендвичей\n",
      "кафе angelov\n",
      "кафе bp дмитровская\n",
      "кафе beef you\n",
      "кафе black code\n",
      "кафе brocard\n",
      "кафе cinnabo\n",
      "кафе crazy noodle\n",
      "кафе cacao\n",
      "кафе camera obscura\n",
      "кафе che guevara\n",
      "кафе chicen and pizza\n",
      "кафе coffee inn\n",
      "кафе dessert\n",
      "кафе dim sum & c0\n",
      "кафе dunkin donuts\n",
      "кафе georgian street food\n",
      "кафе holder hood\n",
      "кафе hookah lounge hidar кальян\n",
      "кафе i need doner\n",
      "кафе il giorno\n",
      "кафе kfs\n",
      "кафе la carotte\n",
      "кафе la maree\n",
      "кафе louis vuitton\n",
      "кафе marshe\n",
      "кафе mashup kitchen\n",
      "кафе ng on\n",
      "кафе olo\n",
      "кафе payot\n",
      "кафе prime прайм стар\n",
      "кафе pho bo\n",
      "кафе pit stop\n",
      "кафе prime\n",
      "кафе prime прайм стар прайм-кафе\n",
      "кафе r&n\n",
      "кафе r.f.lounge\n",
      "кафе saj\n",
      "кафе tim-tim\n",
      "кафе victory\n",
      "кафе zinagoga\n",
      "кафе « ух, ты блины»\n",
      "кафе «13 бар»\n",
      "кафе «15 а»\n",
      "кафе «1808»\n",
      "кафе «288»\n",
      "кафе «317»\n",
      "кафе «93 с»\n",
      "кафе «abc coffee roasters»\n",
      "кафе «agadir»\n",
      "кафе «arcus bar and food»\n",
      "кафе «avocado queen»\n",
      "кафе «americano»\n",
      "кафе «anadolu»\n",
      "кафе «bender»\n",
      "кафе «bistrot canaille»\n",
      "кафе «blaks»\n",
      "кафе «bocconcino»\n",
      "кафе «boston prime»\n",
      "кафе «bowler fresh bar»\n",
      "кафе «bread and meat»\n",
      "кафе «breakfast club»\n",
      "кафе «brooklyn burgers»\n",
      "кафе «buffalos»\n",
      "кафе «burgers and crabs»\n",
      "кафе «buro canteen»\n",
      "кафе «classroom kafe»\n",
      "кафе «correas»\n",
      "кафе «cezve coffee»\n",
      "кафе «cinnabon»\n",
      "кафе «coffee bean»\n",
      "кафе «coffee moose»\n",
      "кафе «coffeesphere»\n",
      "кафе «coffeport»\n",
      "кафе «conversation»\n",
      "кафе «cookery кулинария»\n",
      "кафе «costa coffee»\n",
      "кафе «cream dream»\n",
      "кафе «culinaryon»\n",
      "кафе «cultura coffe»\n",
      "кафе «dobrosco»\n",
      "кафе «dan cafe»\n",
      "кафе «david b»\n",
      "кафе «delonix»\n",
      "кафе «diem»\n",
      "кафе «doner city»\n",
      "кафе «dream coffee»\n",
      "кафе «dreamwok»\n",
      "кафе «du-du»\n",
      "кафе «duck it»\n",
      "кафе «dомино'с пицца»\n",
      "кафе «emivi»\n",
      "кафе «encore fitness»\n",
      "кафе «favorite cake»\n",
      "кафе «fresh cafe»\n",
      "кафе «french bistro»\n",
      "кафе «fresh»\n",
      "кафе «georgian house»\n",
      "кафе «grape»\n",
      "кафе «grill kitchen»\n",
      "кафе «gvido gelato»\n",
      "кафе «healthy beat»\n",
      "кафе «healthy food»\n",
      "кафе «hudson deli»\n",
      "кафе «i love kake»\n",
      "кафе «ii giorno»\n",
      "кафе «ii gorno»\n",
      "кафе «il mio posto»\n",
      "кафе «iq»\n",
      "кафе «kfc»\n",
      "кафе «koffe break»\n",
      "кафе «kuvshin»\n",
      "кафе «la pausa»\n",
      "кафе «less sugar bar»\n",
      "кафе «la carotte»\n",
      "кафе «la melange» (fарш)\n",
      "кафе «ladure»\n",
      "кафе «lale sultan»\n",
      "кафе «leffe»\n",
      "кафе «little white»\n",
      "кафе «littles kids play cafe»\n",
      "кафе «luncheria»\n",
      "кафе «m-city»\n",
      "кафе «margarita»\n",
      "кафе «mes»\n",
      "кафе «mangal house»\n",
      "кафе «masters & margaritas»\n",
      "кафе «mavi»\n",
      "кафе «mid»\n",
      "кафе «morocco»\n",
      "кафе «mr. ambar»\n",
      "кафе «mэри»\n",
      "кафе «nude. coffee & wine bar»\n",
      "кафе «one teaspoon»\n",
      "кафе «one bucks coffee»\n",
      "кафе «ph&b»\n",
      "кафе «prime cafe»\n",
      "кафе «prime»\n",
      "кафе «prime» прайм стар\n",
      "кафе «pho»\n",
      "кафе «pinsa maestrello»\n",
      "кафе «pizza express 24»\n",
      "кафе «plaza garden»\n",
      "кафе «ploft»\n",
      "кафе «plovbox»\n",
      "кафе «presnina»\n",
      "кафе «prime mart»\n",
      "кафе «prime star»\n",
      "кафе «prime» (прайм стар)\n",
      "кафе «ruma's»\n",
      "кафе «russkii»\n",
      "кафе «rusty pub»\n",
      "кафе «sio»\n",
      "кафе «skyfood»\n",
      "кафе «sml deli coffee shop»\n",
      "кафе «subway»\n",
      "кафе «sagah»\n",
      "кафе «sandwich club»\n",
      "кафе «saperavi»\n",
      "кафе «sark sofrasi»\n",
      "кафе «scramble»\n",
      "кафе «silver panda»\n",
      "кафе «simplewine»\n",
      "кафе «sketch food»\n",
      "кафе «skuratov»\n",
      "кафе «smoothiencoffee»\n",
      "кафе «soul in bowl»\n",
      "кафе «star hit cafe»\n",
      "кафе «starbucks»\n",
      "кафе «steak and beer\n",
      "кафе «surf coffee»\n",
      "кафе «sweety»\n",
      "кафе «the бассейн»\n",
      "кафе «tacador»\n",
      "кафе «the house»\n",
      "кафе «tigerbunny»\n",
      "кафе «tilda food & bar»\n",
      "кафе «tornano»\n",
      "кафе «traveler's coffee»\n",
      "кафе «travelers coffee»\n",
      "кафе «urbankitchen гастропаб»\n",
      "кафе «urban»\n",
      "кафе «vlofte»\n",
      "кафе «woknroll»\n",
      "кафе «woodwoodburgers»\n",
      "кафе «white cafe»\n",
      "кафе «yes pizza»\n",
      "кафе «yummy mix salad bar»\n",
      "кафе «yummy»\n",
      "кафе «zoo canteen»\n",
      "кафе «zoo парк-кафе»\n",
      "кафе «lemon lounge»\n",
      "кафе «а-трейд»\n",
      "кафе «амстердам»\n",
      "кафе «авто суши»\n",
      "кафе «азбука вкуса»\n",
      "кафе «академия»\n",
      "кафе «акита»\n",
      "кафе «алазани»\n",
      "кафе «амиго»\n",
      "кафе «ангел»\n",
      "кафе «английский дворик»\n",
      "кафе «аннушка»\n",
      "кафе «арабика»\n",
      "кафе «ассамбляж\n",
      "кафе «ассорти»\n",
      "кафе «базилик»\n",
      "кафе «берлога»\n",
      "кафе «бирхаус»\n",
      "кафе «бирюса»\n",
      "кафе «блэк-кэт»\n",
      "кафе «бургер кинг»\n",
      "кафе «бабушкина вкуснятина»\n",
      "кафе «баваро»\n",
      "кафе «баграм»\n",
      "кафе «багратион»\n",
      "кафе «бар славянский»\n",
      "кафе «барбарис»\n",
      "кафе «баскин роббинс»\n",
      "кафе «башлам»\n",
      "кафе «баязет»\n",
      "кафе «без повода»\n",
      "кафе «безе»\n",
      "кафе «белая - лошадь»\n",
      "кафе «белочка»\n",
      "кафе «березка»\n",
      "кафе «берёзка»\n",
      "кафе «бистро»\n",
      "кафе «блэк капс»\n",
      "кафе «бонархитект»\n",
      "кафе «бонум»\n",
      "кафе «ботаника»\n",
      "кафе «брауни»\n",
      "кафе «брусника»\n",
      "кафе «буба на никитской»\n",
      "кафе «булкоешка»\n",
      "кафе «бульон»\n",
      "кафе «бургер клаб»\n",
      "кафе «бургерим»\n",
      "кафе «буркина фасоль»\n",
      "кафе «буфет»\n",
      "кафе «бухта»\n",
      "кафе «вектор а»\n",
      "кафе «винотека-простые вещи»\n",
      "кафе «ваби-саби»\n",
      "кафе «ванадис»\n",
      "кафе «ванильное небо»\n",
      "кафе «вареничная №1»\n",
      "кафе «вейк ап»\n",
      "кафе «венахи»\n",
      "кафе «венское»\n",
      "кафе «веранда»\n",
      "кафе «верона»\n",
      "кафе «веста»\n",
      "кафе «вечернее бистро»\n",
      "кафе «вечный зов»\n",
      "кафе «взлет»\n",
      "кафе «виктория»\n",
      "кафе «винный базар»\n",
      "кафе «вишневая метель»\n",
      "кафе «вокомания»\n",
      "кафе «волконский»\n",
      "кафе «восточная кухня»\n",
      "кафе «восточная сказка»\n",
      "кафе «восточные вечера»\n",
      "кафе «время есть»\n",
      "кафе «вьетнамская кухня»\n",
      "кафе «галерея»\n",
      "кафе «гамарджоба»\n",
      "кафе «ганеш»\n",
      "кафе «грин-сити»\n",
      "кафе «груша»\n",
      "кафе «гавань»\n",
      "кафе «газпромнефть»\n",
      "кафе «галес»\n",
      "кафе «гипер»\n",
      "кафе «гирос»\n",
      "кафе «глафира»\n",
      "кафе «гнездо»\n",
      "кафе «гольф»\n",
      "кафе «городское кафе 317»\n",
      "кафе «граф монте-кристо»\n",
      "кафе «гренки»\n",
      "кафе «гурман»\n",
      "кафе «гусар»\n",
      "кафе «гутай»\n",
      "кафе «диалог»\n",
      "кафе «дизайн кафе»\n",
      "кафе «дуэты»\n",
      "кафе «даблби»\n",
      "кафе «давидов кафе-бар»\n",
      "кафе «дагестанская лавка»\n",
      "кафе «дайнинг холл»\n",
      "кафе «данкин донатс»\n",
      "кафе «дарума суши»\n",
      "кафе «дафеншо»\n",
      "кафе «дворик»\n",
      "кафе «делимарше»\n",
      "кафе «делишес»\n",
      "кафе «день и ночь»\n",
      "кафе «деревяшка»\n",
      "кафе «джиджигриль»\n",
      "кафе «джойя»\n",
      "кафе «джон булл паб»\n",
      "кафе «джон донн»\n",
      "кафе «дилижанс»\n",
      "кафе «дом друзей»\n",
      "кафе «дом ученых»\n",
      "кафе «домино'с пицца»\n",
      "кафе «домисоль»\n",
      "кафе «донер кебаб»\n",
      "кафе «дубки»\n",
      "кафе «дядюшкин двор»\n",
      "кафе «елисей»\n",
      "кафе «есть бургер»\n",
      "кафе «есть хинкали, пить вино»\n",
      "кафе «жаминэ»\n",
      "кафе «жемчужина»\n",
      "кафе «золотая лестница»\n",
      "кафе «золотой якорь»\n",
      "кафе «загорье»\n",
      "кафе «закарпатские узоры»\n",
      "кафе «зелёная точка»\n",
      "кафе «зефир»\n",
      "кафе «золотой колос»\n",
      "кафе «икта»\n",
      "кафе «иль джорно»\n",
      "кафе «иль патио»\n",
      "кафе «ильинка»\n",
      "кафе «империя бургеров»\n",
      "кафе «иностранцы»\n",
      "кафе «ирина»\n",
      "кафе «калинка-д»\n",
      "кафе «кантина»\n",
      "кафе «каретный двор»\n",
      "кафе «квартира 44»\n",
      "кафе «китайский сад»\n",
      "кафе «какао»\n",
      "кафе «кальянная weston lounge club»\n",
      "кафе «кальянная москальян»\n",
      "кафе «кальянная»\n",
      "кафе «кальянный дворик»\n",
      "кафе «кампанелло»\n",
      "кафе «капитан морган»\n",
      "кафе «караван»\n",
      "кафе «карамель»\n",
      "кафе «карина»\n",
      "кафе «каро-фильм»\n",
      "кафе «каррифан»\n",
      "кафе «кафе гараж»\n",
      "кафе «кафе»\n",
      "кафе «кафейня»\n",
      "кафе «кафетерий»\n",
      "кафе «кафетериус»\n",
      "кафе «кебаб-экспресс»\n",
      "кафе «керемет»\n",
      "кафе «клевер»\n",
      "кафе «клубавторадио»\n",
      "кафе «клякса»\n",
      "кафе «ковчег»\n",
      "кафе «колхида»\n",
      "кафе «компот»\n",
      "кафе «кондитерская олега ильина»\n",
      "кафе «кондитерская»\n",
      "кафе «корсар»\n",
      "кафе «кофе & молоко»\n",
      "кафе «кофе бюро»\n",
      "кафе «кофе поинт»\n",
      "кафе «кофе порт»\n",
      "кафе «кофе хаус»\n",
      "кафе «кофе бин»\n",
      "кафе «кофе пью и читаю»\n",
      "кафе «кофе»\n",
      "кафе «кофейня старбакс»\n",
      "кафе «кофепорт»\n",
      "кафе «кофетерапия»\n",
      "кафе «кофишенская»\n",
      "кафе «крафтед»\n",
      "кафе «крепость»\n",
      "кафе «крошка картошка»\n",
      "кафе «крошка-картошка»\n",
      "кафе «кружка»\n",
      "кафе «крэйзи парк»\n",
      "кафе «кукареку»\n",
      "кафе «кулаковская о. н.»\n",
      "кафе «кулинар»\n",
      "кафе «кулинария здоровья»\n",
      "кафе «кулинария»\n",
      "кафе «кулинарная лавка братьев караваевых»\n",
      "кафе «кулинарное бюро»\n",
      "кафе «кулинарное чтиво»\n",
      "кафе «курассан»\n",
      "кафе «курительная комната babylon vape shop»\n",
      "кафе «ла рокка»\n",
      "кафе «лаборатория»\n",
      "кафе «лаваца»\n",
      "кафе «лавка и кафе студии лебедева»\n",
      "кафе «лавка-добавка»\n",
      "кафе «лавкалавка»\n",
      "кафе «лайк»\n",
      "кафе «ламаджо»\n",
      "кафе «лапша»\n",
      "кафе «лаффа лаффа»\n",
      "кафе «левон'c»\n",
      "кафе «лига»\n",
      "кафе «линдфорс»\n",
      "кафе «лисья нора»\n",
      "кафе «лихие 90»\n",
      "кафе «лоранж»\n",
      "кафе «малахит»\n",
      "кафе «мангал»\n",
      "кафе «мастер -фуд»\n",
      "кафе «медси фитнес»\n",
      "кафе «меленка»\n",
      "кафе «ммома»\n",
      "кафе «мпл»\n",
      "кафе «музей космонавтики»\n",
      "кафе «мадиани»\n",
      "кафе «максимус»\n",
      "кафе «малина»\n",
      "кафе «мама миа»\n",
      "кафе «мама, я в тбилиси»\n",
      "кафе «мансарда»\n",
      "кафе «манту бар»\n",
      "кафе «мануфактура»\n",
      "кафе «маргарита бистро»\n",
      "кафе «маргилан»\n",
      "кафе «марков дворик»\n",
      "кафе «мармелад»\n",
      "кафе «мармилатте»\n",
      "кафе «мартини»\n",
      "кафе «марукамэ»\n",
      "кафе «марше интернэшнл»\n",
      "кафе «масленица»\n",
      "кафе «мастер ланч»\n",
      "кафе «маяк»\n",
      "кафе «мегаполис»\n",
      "кафе «между булками»\n",
      "кафе «между делом»\n",
      "кафе «мезонин»\n",
      "кафе «менза»\n",
      "кафе «меркато»\n",
      "кафе «метелица»\n",
      "кафе «метиз»\n",
      "кафе «минутка»\n",
      "кафе «митпоинт»\n",
      "кафе «митос»\n",
      "кафе «мишель»\n",
      "кафе «может, кофе»\n",
      "кафе «мороженое»\n",
      "кафе «моё кафе»\n",
      "кафе «му му»\n",
      "кафе «музыкальный клуб форте»\n",
      "кафе «мэри джейн»\n",
      "кафе «мэри»\n",
      "кафе «мэрис»\n",
      "кафе «мясо сыр вино»\n",
      "кафе «мясо на углях»\n",
      "кафе «мята lounge» кальянный клуб\n",
      "кафе «незабудка»\n",
      "кафе «нестрон»\n",
      "кафе «ной. горячие лепёшки»\n",
      "кафе «на петрашке»\n",
      "кафе «нар»\n",
      "кафе «наршараб»\n",
      "кафе «наш двор»\n",
      "кафе «наш бараш»\n",
      "кафе «небеса»\n",
      "кафе «неолит»\n",
      "кафе «нияма»\n",
      "кафе «новая азия»\n",
      "кафе «оазис»\n",
      "кафе «обедбуфет»\n",
      "кафе «огонек»\n",
      "кафе «олень»\n",
      "кафе «олимпия»\n",
      "кафе «оптима»\n",
      "кафе «опята»\n",
      "кафе «орбита»\n",
      "кафе «орлиное гнездо»\n",
      "кафе «орхан»\n",
      "кафе «орхидея»\n",
      "кафе «осетинские пироги»\n",
      "кафе «пассаж»\n",
      "кафе «паста дели и трэвэлерс кофе»\n",
      "кафе «персона грата»\n",
      "кафе «петрол комплекс эквипмент кампани»\n",
      "кафе «пинч»\n",
      "кафе «пицца ди рома»\n",
      "кафе «плов+»\n",
      "кафе «прендл»\n",
      "кафе «профитроли»\n",
      "кафе «пальчики оближешь»\n",
      "кафе «пандок»\n",
      "кафе «папа джонс»\n",
      "кафе «папаха»\n",
      "кафе «парамания»\n",
      "кафе «парк»\n",
      "кафе «пармезан»\n",
      "кафе «пекарня «мюнгер»»\n",
      "кафе «пекарня»\n",
      "кафе «пепебьянко»\n",
      "кафе «перовский дворик»\n",
      "кафе «петтина»\n",
      "кафе «пион»\n",
      "кафе «пири-пири»\n",
      "кафе «пицца пепе»\n",
      "кафе «пицца фабрика»\n",
      "кафе «пицца хат»\n",
      "кафе «пицца бар»\n",
      "кафе «планета»\n",
      "кафе «поинт»\n",
      "кафе «покровское»\n",
      "кафе «поль бейкери»\n",
      "кафе «пончики»\n",
      "кафе «правда кофе»\n",
      "кафе «прайм стар»\n",
      "кафе «прибой»\n",
      "кафе «приходите еще»\n",
      "кафе «причал»\n",
      "кафе «пробка и штопор и даблби»\n",
      "кафе «прогресс»\n",
      "кафе «пролив»\n",
      "кафе «рива»\n",
      "кафе «радуга»\n",
      "кафе «райский уголок»\n",
      "кафе «раковая на таганке»\n",
      "кафе «реберная»\n",
      "кафе «резиденция»\n",
      "кафе «ренессанс»\n",
      "кафе «рецептор»\n",
      "кафе «риоба»\n",
      "кафе «русвилс»\n",
      "кафе «русские традиции»\n",
      "кафе «сofix»\n",
      "кафе «саквояж»\n",
      "кафе «ск чертаново»\n",
      "кафе «соната»\n",
      "кафе «сабвей» старбакс\n",
      "кафе «салхино»\n",
      "кафе «самарканд»\n",
      "кафе «сахара»\n",
      "кафе «сахли»\n",
      "кафе «свежая выпечка»\n",
      "кафе «свежие соки»\n",
      "кафе «свой круг»\n",
      "кафе «северсити»\n",
      "кафе «северяне»\n",
      "кафе «семь сэндвичей»\n",
      "кафе «серебрянка»\n",
      "кафе «силвер панда»\n",
      "кафе «сильвер панда»\n",
      "кафе «сим-сим»\n",
      "кафе «сим-сити home»\n",
      "кафе «сказка»\n",
      "кафе «скалка»\n",
      "кафе «скрип колеса»\n",
      "кафе «советская чебуречная»\n",
      "кафе «сололаки»\n",
      "кафе «сочи»\n",
      "кафе «стар хит»\n",
      "кафе «старбакс»\n",
      "кафе «старый кувшин»\n",
      "кафе «столешников»\n",
      "кафе «столичный чебурек»\n",
      "кафе «страдивари» бар\n",
      "кафе «студент»\n",
      "кафе «суло»\n",
      "кафе «сумах»\n",
      "кафе «суши store»\n",
      "кафе «суши wok»\n",
      "кафе «суши вок»\n",
      "кафе «суши сет»\n",
      "кафе «суши-маркет»\n",
      "кафе «сушиwok»\n",
      "кафе «суши»\n",
      "кафе «сушивесла»\n",
      "кафе «съешь-ка»\n",
      "кафе «сэр хинкаль»\n",
      "кафе «сюрприз»\n",
      "кафе «таба та»\n",
      "кафе «тархил»\n",
      "кафе «театр на юго-западе»\n",
      "кафе «техас»\n",
      "кафе «типо фитнес»\n",
      "кафе «то да сё»\n",
      "кафе «тай чай»\n",
      "кафе «такси 18»\n",
      "кафе «тандем кафе»\n",
      "кафе «тануки»\n",
      "кафе «тапчан»\n",
      "кафе «тбилисоба»\n",
      "кафе «телескоп»\n",
      "кафе «тетя мотя»\n",
      "кафе «торнадо»\n",
      "кафе «трактир на бехтерева»\n",
      "кафе «трапезная»\n",
      "кафе «траттория модерна»\n",
      "кафе «три правила»\n",
      "кафе «у гены»\n",
      "кафе «у гриши»\n",
      "кафе «у лоренцо»\n",
      "кафе «у руслана»\n",
      "кафе «у толика»\n",
      "кафе «уют»\n",
      "кафе «украинская ночь»\n",
      "кафе «универсал рс»\n",
      "кафе «урюк» хивинская чайхона\n",
      "кафе «фишка»\n",
      "кафе «фо-нэм»\n",
      "кафе «фарфале»\n",
      "кафе «фастфуд»\n",
      "кафе «федя дичь»\n",
      "кафе «фейна»\n",
      "кафе «фиалка»\n",
      "кафе «фирма»\n",
      "кафе «фортутти»\n",
      "кафе «фортепьяно»\n",
      "кафе «фортуна»\n",
      "кафе «франсуа пекарня»\n",
      "кафе «фреш маркет»\n",
      "кафе «фреш»\n",
      "кафе «фрэндс форевер»\n",
      "кафе «фудсити»\n",
      "кафе «фудмаркет»\n",
      "кафе «хадсон дели»\n",
      "кафе «хазри»\n",
      "кафе «хатимаки»\n",
      "кафе «хива»\n",
      "кафе «хинкальный дворик»\n",
      "кафе «хинкальный дом»\n",
      "кафе «хлеб и масло»\n",
      "кафе «хлебная лавка»\n",
      "кафе «хлебный двор»\n",
      "кафе «холст и масло»\n",
      "кафе «хомяк»\n",
      "кафе «центральный дом литераторов»\n",
      "кафе «царица»\n",
      "кафе «цинандали»\n",
      "кафе «циники»\n",
      "кафе «цитадель»\n",
      "кафе «цуккини»\n",
      "кафе «чайхана айва»\n",
      "кафе «чайхана тапчан»\n",
      "кафе «чайхана»\n",
      "кафе «чайхона ош сити»\n",
      "кафе «чайхона»\n",
      "кафе «чак чак»\n",
      "кафе «чашки»\n",
      "кафе «чебурекас»\n",
      "кафе «чебуреки, пончики»\n",
      "кафе «чебуречная»\n",
      "кафе «чемпион»\n",
      "кафе «черный кот»\n",
      "кафе «чешский калач. пян-се»\n",
      "кафе «чикаго»\n",
      "кафе «чинар»\n",
      "кафе «чистая линия»\n",
      "кафе «шашлычный двор»\n",
      "кафе «шаверма»\n",
      "кафе «шадэ»\n",
      "кафе «шарманка»\n",
      "кафе «шаурма №1»\n",
      "кафе «шашлычная»\n",
      "кафе «шашлычный дворик»\n",
      "кафе «шварцкайзер»\n",
      "кафе «шенк»\n",
      "кафе «шинок»\n",
      "кафе «шиша»\n",
      "кафе «шмели»\n",
      "кафе «шпинат»\n",
      "кафе «эваланч»\n",
      "кафе «эгриси»\n",
      "кафе «эклерко»\n",
      "кафе «эдоко»\n",
      "кафе «эко суши»\n",
      "кафе «экспомил»\n",
      "кафе «экспостроймаш»\n",
      "кафе «экспресс-кофейня»\n",
      "кафе «экспресс»\n",
      "кафе «элла 24»\n",
      "кафе «эльбрус»\n",
      "кафе «эссе»\n",
      "кафе «эстетик»\n",
      "кафе «юдашкин плейз»\n",
      "кафе «я-самарканд»\n",
      "кафе «бургерная farш»\n",
      "кафе ёжики тефтельки\n",
      "кафе авто-спектр\n",
      "кафе арка\n",
      "кафе авилон\n",
      "кафе автоdom\n",
      "кафе ай бург\n",
      "кафе альбатрос\n",
      "кафе альберабелло\n",
      "кафе алё, гараж\n",
      "кафе ани\n",
      "кафе арарат (при гостинице «арарат парк хаятт»)\n",
      "кафе аршин\n",
      "кафе аюпов а.а.\n",
      "кафе бифхаус\n",
      "кафе блиндаж\n",
      "кафе бар бульвар\n",
      "кафе бардак\n",
      "кафе бистро\n",
      "кафе бистро халяль\n",
      "кафе бобры и утки\n",
      "кафе ботаник\n",
      "кафе брассери брюсель\n",
      "кафе брашна\n",
      "кафе бульвар\n",
      "кафе высота\n",
      "кафе ваби-саби\n",
      "кафе воккер\n",
      "кафе волконский пекарня\n",
      "кафе восточное бистро\n",
      "кафе вьетнамской кухни «дядюшка хо»\n",
      "кафе гагава\n",
      "кафе гбук московское кино\n",
      "кафе гио\n",
      "кафе гурман\n",
      "кафе галерея-алекс\n",
      "кафе гермес\n",
      "кафе гор\n",
      "кафе гранат\n",
      "кафе гурмэ\n",
      "кафе дада\n",
      "кафе дели\n",
      "кафе дк московский\n",
      "кафе дабелби\n",
      "кафе даблби\n",
      "кафе даиси\n",
      "кафе дачный сезон\n",
      "кафе дворик гурмэ\n",
      "кафе джелатерия прима\n",
      "кафе диана\n",
      "кафе дом кафе\n",
      "кафе дом офицеров\n",
      "кафе дракон и кролик\n",
      "кафе друзья\n",
      "кафе дяди сэма\n",
      "кафе еасс\n",
      "кафе евроспар\n",
      "кафе жемчужина\n",
      "кафе жили-были\n",
      "кафе задолбало\n",
      "кафе здоровая еда\n",
      "кафе здоровой еды\n",
      "кафе зельгрос\n",
      "кафе зефир\n",
      "кафе золотая арфа\n",
      "кафе золотая грань\n",
      "кафе зона отдыха\n",
      "кафе ип иванов\n",
      "кафе ип цатурян\n",
      "кафе ивеко групп\n",
      "кафе изюм\n",
      "кафе иль патио «il patio»\n",
      "кафе инторгсервис\n",
      "кафе кофе тун\n",
      "кафе кранцлер гостиницы балчуг\n",
      "кафе казанок\n",
      "кафе кальян\n",
      "кафе кампуз\n",
      "кафе канапе\n",
      "кафе капкан\n",
      "кафе карпов\n",
      "кафе китайская кухня\n",
      "кафе китайской кухни qilixiang\n",
      "кафе ковров-пекарня\n",
      "кафе ковчег\n",
      "кафе компот\n",
      "кафе космик\n",
      "кафе кофе сэт\n",
      "кафе кофемания\n",
      "кафе кузьмич\n",
      "кафе кунцево\n",
      "кафе курочка с нами\n",
      "кафе кусочки\n",
      "кафе ла пиола\n",
      "кафе лакастакофе\n",
      "кафе лавашок\n",
      "кафе лель\n",
      "кафе лефортово\n",
      "кафе линдфос\n",
      "кафе лица\n",
      "кафе лукойл\n",
      "кафе луч\n",
      "кафе ля-фа\n",
      "кафе манас\n",
      "кафе мимино\n",
      "кафе му-му\n",
      "кафе мангал\n",
      "кафе маритоццо\n",
      "кафе мария\n",
      "кафе мастер и маргарита\n",
      "кафе микс\n",
      "кафе минутка\n",
      "кафе мицва\n",
      "кафе мокко, family bakery\n",
      "кафе морепива\n",
      "кафе моремания\n",
      "кафе мороженное\n",
      "кафе мороженое гриль\n",
      "кафе му му\n",
      "кафе мысли кофе\n",
      "кафе мята\n",
      "кафе на шашлыки\n",
      "кафе наше место трактир\n",
      "кафе нэндл\n",
      "кафе обжорный ряд\n",
      "кафе ок\n",
      "кафе ошхона\n",
      "кафе обедов\n",
      "кафе овца\n",
      "кафе огни города\n",
      "кафе оджахури\n",
      "кафе оливка\n",
      "кафе олимпик\n",
      "кафе осетинские пироги\n",
      "кафе островок суши\n",
      "кафе панчо пицца\n",
      "кафе пицца ди рома\n",
      "кафе пронто\n",
      "кафе панорама\n",
      "кафе патриот\n",
      "кафе пекарня\n",
      "кафе пекарня хачапури\n",
      "кафе песто и митлес\n",
      "кафе пиццерия\n",
      "кафе поляна\n",
      "кафе порт\n",
      "кафе прайм стар\n",
      "кафе пуаро\n",
      "кафе рай\n",
      "кафе ранголи\n",
      "кафе ргсу\n",
      "кафе релакс эко-ланч\n",
      "кафе рецептор\n",
      "кафе родник\n",
      "кафе руккола\n",
      "кафе русский «водочный» дом\n",
      "кафе свежъ\n",
      "кафе сити чебуречная\n",
      "кафе солоха\n",
      "кафе сабвей\n",
      "кафе самарканд самса горячая лепешка\n",
      "кафе самарканд №1 чайхана\n",
      "кафе самса 1\n",
      "кафе сан мишель\n",
      "кафе свентана-м\n",
      "кафе свои люди\n",
      "кафе сельскийдом\n",
      "кафе син поинт\n",
      "кафе синдбад\n",
      "кафе сказки алисы. белка бар\n",
      "кафе соболев о.м.\n",
      "кафе сокровище\n",
      "кафе солнцево\n",
      "кафе соловей\n",
      "кафе сообщники\n",
      "кафе спортэкс\n",
      "кафе спотыкач\n",
      "кафе столовая\n",
      "кафе стоп, снято.\n",
      "кафе строгоноф\n",
      "кафе ступени\n",
      "кафе султан\n",
      "кафе суп\n",
      "кафе суши wok\n",
      "кафе сю си пуси\n",
      "кафе тай китген\n",
      "кафе техас-чикен\n",
      "кафе ткс\n",
      "кафе траттория терраса\n",
      "кафе три правила\n",
      "кафе тайм аут\n",
      "кафе теремок\n",
      "кафе тихий дом\n",
      "кафе торшер\n",
      "кафе трасса\n",
      "кафе траттория\n",
      "кафе у лоры\n",
      "кафе у друзей\n",
      "кафе уорлд чесс рус москва\n",
      "кафе урюк\n",
      "кафе фгуп гк «славянка»\n",
      "кафе фо-бо\n",
      "кафе ферганское\n",
      "кафе франклинс\n",
      "кафе фреш салат бар\n",
      "кафе хинкалоff\n",
      "кафе халяль\n",
      "кафе хинкальная\n",
      "кафе хинкальная 11\n",
      "кафе хинкальная грузинская кухня\n",
      "кафе хлеб насущный\n",
      "кафе цурцум\n",
      "кафе чайхона №1\n",
      "кафе чебуречная\n",
      "кафе шаурма\n",
      "кафе шаурма, донер кебаб\n",
      "кафе шашлык\n",
      "кафе штолле\n",
      "кафе щапово\n",
      "кафе э.д.р.\n",
      "кафе эко\n",
      "кафе экспресс\n",
      "кафе южное\n",
      "кафе южный порт\n",
      "кафе юма\n",
      "кафе якитория\n",
      "кафе бар\n",
      "кафе белла италия\n",
      "кафе быстрого питания му-му\n",
      "кафе в сдюшор 71 «тимирязевская»\n",
      "кафе в гостинице «блюз кафе»\n",
      "кафе в музее кусково\n",
      "кафе в отеле райкин плаза\n",
      "кафе восточной кухни караван\n",
      "кафе въетнамской кухни «фо стрит»\n",
      "кафе выпечка\n",
      "кафе выпечка разливное пиво\n",
      "кафе вьетнамское ли\n",
      "кафе грузинская кухня\n",
      "кафе здорового питания\n",
      "кафе здоровой еды «healty food»\n",
      "кафе кальянная\n",
      "кафе караван\n",
      "кафе кондитерская «французская пекарня»\n",
      "кафе контдитерская кузина\n",
      "кафе любимое\n",
      "кафе мороженного «tutti frutti»\n",
      "кафе на азс рн-москва\n",
      "кафе на вучетича\n",
      "кафе на доватора\n",
      "кафе на зорге\n",
      "кафе на крутицком\n",
      "кафе на мойке\n",
      "кафе на нагатинской\n",
      "кафе на озерной\n",
      "кафе на улофа\n",
      "кафе на углях\n",
      "кафе панорама - озеро белое\n",
      "кафе пекарня «хлеб насущий»\n",
      "кафе пекарня есть поесть\n",
      "кафе при азс\n",
      "кафе при азс «bp»\n",
      "кафе при азс «газпромнефть»\n",
      "кафе при азс «тиса»\n",
      "кафе при азс газпромнефть\n",
      "кафе при азс газпромнефть №134\n",
      "кафе при азс лукойл\n",
      "кафе при азс нефтьмагистраль\n",
      "кафе при азс шелл нефть\n",
      "кафе при гкнпц им.хруничева\n",
      "кафе при гкнпц им. м.в.хруничева\n",
      "кафе при кск «пегас»\n",
      "кафе при картцентре «серебряный дождь»\n",
      "кафе при автосалоне\n",
      "кафе при автосервисе\n",
      "кафе при бане\n",
      "кафе при г-це максима\n",
      "кафе при гостинице\n",
      "кафе при гостинице «вояджер»\n",
      "кафе при гостинице «москомспорта»\n",
      "кафе при гостинице «рослеспром»\n",
      "кафе при мойке\n",
      "кафе при отеле «хованский»\n",
      "кафе при отеле графский\n",
      "кафе при салоне красоты dessange\n",
      "кафе ресторан белое золото\n",
      "кафе славянской кухни поварок\n",
      "кафе у джона\n",
      "кафе у фонтана\n",
      "кафе хинкальная саамо\n",
      "кафе шоколад\n",
      "кафе японское\n",
      "кафе № 1\n",
      "кафе, столовая\n",
      "кафе, шаурма\n",
      "кафе, кальян-бар l&m\n",
      "кафе, столовая, пицца, пончики\n",
      "кафе- а-ля-карт\n",
      "кафе-бильярд\n",
      "кафе-буфет\n",
      "кафе-пекарня\n",
      "кафе-пекарня levin bakehous\n",
      "кафе-столовая сити ланч в бц «кристалл»\n",
      "кафе-халяль\n",
      "кафе-шашлыки\n",
      "кафе-бар grill express\n",
      "кафе-бар «clever»\n",
      "кафе-бар «troy»\n",
      "кафе-бар «амазония»\n",
      "кафе-бар «бигус»\n",
      "кафе-бар «династия»\n",
      "кафе-бар «дружба»\n",
      "кафе-бар «есенин пиво»\n",
      "кафе-бар «жулебино»\n",
      "кафе-бар «искра»\n",
      "кафе-бар «караоке myzon»\n",
      "кафе-бар «каюк компания»\n",
      "кафе-бар «кико»\n",
      "кафе-бар «пантера»\n",
      "кафе-бар «салют»\n",
      "кафе-бар «хижина»\n",
      "кафе-бар альбом\n",
      "кафе-бар проточный\n",
      "кафе-бистро вкуснота\n",
      "кафе-бистро солоха\n",
      "кафе-блинная сударушка\n",
      "кафе-бутик «leonidas»\n",
      "кафе-закусочная «бургер кинг»\n",
      "кафе-кальянная\n",
      "кафе-кальянная «мамуния»\n",
      "кафе-караоке\n",
      "кафе-клуб правда\n",
      "кафе-кондитерская «kathrin bakery»\n",
      "кафе-кондитерская «селезнефф»\n",
      "кафе-кондитерская мистер эклер\n",
      "кафе-кулинария «время есть»\n",
      "кафе-кулинария «кулинариум»\n",
      "кафе-мороженное «gelateria 17»\n",
      "кафе-мороженое viani\n",
      "кафе-паб брюссель\n",
      "кафе-пекарня paul\n",
      "кафе-пекарня «бурекас бейкери»\n",
      "кафе-пекарня «завтраки.ру»\n",
      "кафе-пекарня «мюнгер»\n",
      "кафе-пекарня арчибальд\n",
      "кафе-пекарня дк (домашняя кулинария)\n",
      "кафе-пекарня франсуа\n",
      "кафе-пиццерия суши\n",
      "кафе-ресторан «таверна»\n",
      "кафе-столовая «лапауза»\n",
      "кафе-столовая «репортер»\n",
      "кафе-столовая «сыто-пряно»\n",
      "кафе-столовая «уголок»\n",
      "кафе-столовая вкус жизни\n",
      "кафе-столовая карэль\n",
      "кафе-чайхана «пловчик»\n",
      "кафе«мир шашлыков»\n",
      "кафе«чайхана райхан»\n",
      "кафейня musetti\n",
      "кафейня «brooklyn»\n",
      "кафейня «булка»\n",
      "кафейня «пеар - 4»\n",
      "кафейня кофе мира\n",
      "кафест\n",
      "кафетерий ab dali\n",
      "кафетерий «la croisette»\n",
      "кафетерий «брави-т»\n",
      "кафетерий «город строителей»\n",
      "кафетерий «итальянская кондитерская»\n",
      "кафетерий «кофе с собой»\n",
      "кафетерий «кухня. всегда готово»\n",
      "кафетерий «лепешки из тандыра»\n",
      "кафетерий «плюшка&ватрушка»\n",
      "кафетерий «русский лес»\n",
      "кафетерий «тоткот»\n",
      "кафетерий «хачапури»\n",
      "кафетерий «чайная»\n",
      "кафетерий дос\n",
      "кафетерий делисью\n",
      "кафетерий дюплекс\n",
      "кафетерий при гостинице «саяны»\n",
      "кафетерий в автосалоне вольво на тульской\n",
      "кафетерий на заправке\n",
      "кафетерий при азк 317\n",
      "кафетерий при азс\n",
      "кафетерий № 1\n",
      "кафетерий, тандыр\n",
      "кафетерий-кондитерская «ватрушка»\n",
      "кафетериус\n",
      "кафетерия\n",
      "кафи при азс\n",
      "кафишка\n",
      "кафк «качевник»\n",
      "кафк пиала\n",
      "каффа\n",
      "каффе «wokker»\n",
      "каффетерия\n",
      "кахури\n",
      "качаторе\n",
      "каша малаша\n",
      "каши от аркаши\n",
      "кашкар\n",
      "квартал +\n",
      "квартира 44\n",
      "квартира № 5\n",
      "квартира № 7\n",
      "кворум\n",
      "кебаб\n",
      "кебаб 24\n",
      "кебаб мд\n",
      "кебаб хаус\n",
      "кебаб-гриль\n",
      "кебабкинг\n",
      "кебеб\n",
      "кегли\n",
      "кейдер\n",
      "кельт ирландский паб «конор мак несса»\n",
      "келья\n",
      "кенди чоп\n",
      "кид рок кафе\n",
      "киевский дворик\n",
      "килфиш бар\n",
      "кимберли\n",
      "кимчи\n",
      "кинематограф\n",
      "кинза\n",
      "кинзадза\n",
      "кино искра театр\n",
      "кинобар\n",
      "кинобар «синемапарк»\n",
      "киноклуб фитиль\n",
      "киноплов\n",
      "кинотеатр салют\n",
      "кинто\n",
      "кипрская кухня\n",
      "кислород\n",
      "китайская кухня\n",
      "китайская грамота бар и еда\n",
      "китайская еда\n",
      "китайская забегаловка\n",
      "китайская лапша\n",
      "китайская провинция\n",
      "китайские новости\n",
      "китайский ресторан\n",
      "китайский ресторан «ок»\n",
      "кицунэ\n",
      "клаб гриль\n",
      "клава\n",
      "кларом\n",
      "клаштер\n",
      "клледж № 28\n",
      "клуб «angels»\n",
      "клуб «gazgolder»\n",
      "клуб «высотка»\n",
      "клуб «моюз»\n",
      "клуб «подzемка»\n",
      "клуб «примерное поведение»\n",
      "клуб аврора\n",
      "клуб дорффман\n",
      "клуб караоке\n",
      "клуб кафе караоке labиринт\n",
      "клуб мачо\n",
      "клуб морковь\n",
      "клуб плэй\n",
      "клуб-караоке весна\n",
      "клубень\n",
      "клюква\n",
      "клюква lounge\n",
      "клюква кухня и бар\n",
      "княжий дворик\n",
      "ко-ко\n",
      "кобзарь\n",
      "ковчег\n",
      "когофрагола\n",
      "козаностра\n",
      "коко чикен\n",
      "коксинель\n",
      "коктейли\n",
      "коктейли movenpick\n",
      "коктейли и пирожные\n",
      "коктейльная\n",
      "колбасный цех\n",
      "коленки пчелы\n",
      "колесо времени\n",
      "колибри\n",
      "колковна\n",
      "коллаборация\n",
      "колледж автомобильного транспорта № 9\n",
      "колледж архитектуры и менеджмента в строительстве № 17\n",
      "колледж градостроительства и предпринимательства\n",
      "колледж железнодорожного и городского транспорта\n",
      "колледж легкой промышленности\n",
      "колледж по подготовке социальных работников № 16\n",
      "колледж сферы услуг № 44\n",
      "колледж сферы услуг №10\n",
      "колледж технологический № 41\n",
      "колледж №24\n",
      "колледж-xxi-век\n",
      "колос пекарня осетинские пироги\n",
      "колхи\n",
      "колхида\n",
      "комбинат дошкольного питания\n",
      "комбинат питаная вагш\n",
      "комбинат питания - «столовая левада»\n",
      "комбинат питания мгту им. н.э. баумана\n",
      "комбинат питания митхт «инфраструктура холдинг»\n",
      "комбинат питания мэрии\n",
      "комбинат хлебопродуктов\n",
      "комеди кафе\n",
      "комета\n",
      "комета бар\n",
      "комменти ресторан\n",
      "компасс групп рус\n",
      "комплексное предприятие\n",
      "компот\n",
      "кому жить хорошо\n",
      "конак\n",
      "кондитерия тирольские пироги\n",
      "кондитерская -пекарня «мия»\n",
      "кондитерская atelier de tartelettes\n",
      "кондитерская la fete\n",
      "кондитерская «констанция»\n",
      "кондитерская «кузина»\n",
      "кондитерская «пряник.рогалик»\n",
      "кондитерская волконский\n",
      "кондитерская здоровая индустрия\n",
      "кондитерская мануфактура\n",
      "кондитерская марта\n",
      "кондитерская фортутти\n",
      "кондитерская кафе пушкинъ\n",
      "кондитерская лавка «александра»\n",
      "кондитерская лавка александра\n",
      "кондитерская пекарня\n",
      "кондитерская, кафе чертаново\n",
      "кондитерская-пекарня волконский\n",
      "кондитерский дом гриджио\n",
      "кони а.ф.\n",
      "консерватория (при гостинице «арарат парк хайят»)\n",
      "консерватория им. п.и. чайковского\n",
      "коперник\n",
      "коптильня\n",
      "копченый цех\n",
      "корейская кухня\n",
      "корейский ресторан\n",
      "корейское бистро «инсам»\n",
      "коржовъ\n",
      "корифей\n",
      "корица\n",
      "кормушка\n",
      "корн доги\n",
      "корнели пицца\n",
      "корнер\n",
      "корнер гриль\n",
      "корона\n",
      "корпоративный ресторан карэль\n",
      "корчма\n",
      "корчма диканька\n",
      "корчма«тарас бульба»\n",
      "корчматарас бульба\n",
      "космик\n",
      "косой маркс\n",
      "коста кофе\n",
      "кот-ч\n",
      "коте азур\n",
      "котлет нет\n",
      "котлета\n",
      "кофе\n",
      "кофе fix price\n",
      "кофе raf\n",
      "кофе «кофе собой»\n",
      "кофе «поинт»\n",
      "кофе бар 17\n",
      "кофе баристо\n",
      "кофе бюро\n",
      "кофе еда\n",
      "кофе есть\n",
      "кофе моментс\n",
      "кофе он\n",
      "кофе паб\n",
      "кофе премиум\n",
      "кофе пью\n",
      "кофе сити\n",
      "кофе стайл\n",
      "кофе таймс\n",
      "кофе ти\n",
      "кофе тун суши тун\n",
      "кофе хантер\n",
      "кофе хаус,экспресс\n",
      "кофе хлеб\n",
      "кофе эли\n",
      "кофе энигма\n",
      "кофе внутри\n",
      "кофе и ко\n",
      "кофе и пахлава\n",
      "кофе и пирожок\n",
      "кофе на вынос\n",
      "кофе рядом\n",
      "кофе с собой gate 42\n",
      "кофе с собой «coffe way»\n",
      "кофе с собой «coffee point»\n",
      "кофе с собой «кофейня»\n",
      "кофе с собой «сладкая карамель»\n",
      "кофе с собой «тоа кофе»\n",
      "кофе с собой пирогово\n",
      "кофе с собой и кулинария\n",
      "кофе тун\n",
      "кофе-бар\n",
      "кофе-бин\n",
      "кофе-фм\n",
      "кофе-хаус\n",
      "кофе-пекарня каскара\n",
      "кофе.книги.крокодил\n",
      "кофеlike\n",
      "кофебар\n",
      "кофемаркет\n",
      "кофеварня\n",
      "кофеек\n",
      "кофеин\n",
      "кофеин крю\n",
      "кофей пицца\n",
      "кофейка\n",
      "кофейник«капучино лаб»\n",
      "кофейный бандит\n",
      "кофейный бар\n",
      "кофейня - гострономическая лавка\n",
      "кофейня 47\n",
      "кофейня 8 дробь 4\n",
      "кофейня arti coffee\n",
      "кофейня cofix\n",
      "кофейня cookc\n",
      "кофейня fresh bar\n",
      "кофейня kafedra kofee\n",
      "кофейня kofeincafe\n",
      "кофейня magic\n",
      "кофейня stories\n",
      "кофейня wild bean cafe\n",
      "кофейня your time waffles\n",
      "кофейня «11 минут»\n",
      "кофейня «bp»\n",
      "кофейня «cofe way»\n",
      "кофейня «coffeeway»\n",
      "кофейня «cofix»\n",
      "кофейня «kimicake»\n",
      "кофейня «pick up coffee»\n",
      "кофейня «дабл би»\n",
      "кофейня «даблби»\n",
      "кофейня «иван-чай»\n",
      "кофейня «итальяно»\n",
      "кофейня «кофе хаус»\n",
      "кофейня «кофе или чай»\n",
      "кофейня «кофеман»\n",
      "кофейня «кофепорт»\n",
      "кофейня «малинари»\n",
      "кофейня «маэстро кофе»\n",
      "кофейня «мой кофе»\n",
      "кофейня «правда кофе»\n",
      "кофейня «старбакс кофе»\n",
      "кофейня «соловей»\n",
      "кофейня «старбакс»\n",
      "кофейня «твой кофе»\n",
      "кофейня «цурикат»\n",
      "кофейня «чайникофф»\n",
      "кофейня «чудо выпечки»\n",
      "кофейня авеню\n",
      "кофейня даблби\n",
      "кофейня делюсь душой\n",
      "кофейня кофеин\n",
      "кофейня кофе коста\n",
      "кофейня кофемания, пиццерия бармалини\n",
      "кофейня кофикс\n",
      "кофейня крендель «кофе с собой»\n",
      "кофейня малевичъ\n",
      "кофейня синкопа\n",
      "кофейня тесто\n",
      "кофейня тревеллерс\n",
      "кофейня цдм\n",
      "кофейня шоколадница\n",
      "кофейня шишкин лес\n",
      "кофейня кофе бин\n",
      "кофекрю\n",
      "кофеловерс\n",
      "кофемания starbucks\n",
      "кофемаус\n",
      "кофеок\n",
      "кофеоно\n",
      "кофетерий\n",
      "кофетерий «кондитерский дом александра селезнева»\n",
      "кофетерий «кофе точка»\n",
      "кофетун\n",
      "кофецвет\n",
      "кофешоп coffeeshop company\n",
      "кофикс\n",
      "кочевник\n",
      "кошерная пицца\n",
      "краб\n",
      "краб паб\n",
      "крабс\n",
      "крапива\n",
      "красная машина\n",
      "краснов п.е.\n",
      "краснодар\n",
      "крафт & бургер\n",
      "крафт бар\n",
      "крафт стейшн\n",
      "крафт-паб «69 pints»\n",
      "крафт-бар колбаса\n",
      "крафтмен\n",
      "крафтмания\n",
      "крафтовый бар «кампания»\n",
      "крафтовый кофе-бар\n",
      "креветки\n",
      "крейзи дейзи\n",
      "кренделькофф\n",
      "крепери де пари\n",
      "кровля\n",
      "крошка крем\n",
      "крошка-картошка\n",
      "крошкакартошка\n",
      "круасанкафе\n",
      "круассан\n",
      "круглый кот\n",
      "круиз\n",
      "крылышко-ножка\n",
      "крылья\n",
      "крыша\n",
      "кстати\n",
      "куба либре\n",
      "кузина\n",
      "кукуруза и сок\n",
      "кулибин\n",
      "кулина room\n",
      "кулинар №1\n",
      "кулинари\n",
      "кулинариум-экспресс\n",
      "кулинариум\n",
      "кулинариум экспресс\n",
      "кулинария 360\n",
      "кулинария seiko sushi\n",
      "кулинария «брецель»\n",
      "кулинария «городская еда»\n",
      "кулинария «сытый-добрый»\n",
      "кулинария арамье\n",
      "кулинария голубка\n",
      "кулинария добрынинская\n",
      "кулинария пан пан\n",
      "кулинария три сестры\n",
      "кулинария фасоль\n",
      "кулинария мясная\n",
      "кулинария.салаты\n",
      "кулинарная лавка братьев караваевых братья караваевы\n",
      "кулинарная лавка\n",
      "кулинарная лавка «два кренделя»\n",
      "кулинарная лавка «добавка»\n",
      "кулинарная лавка «ем и ем»\n",
      "кулинарная лавка «печка»\n",
      "кулинарная лавка два кренделя\n",
      "кулинарная лавка«два кренделя»\n",
      "кулинарная студия юлии высоцкой\n",
      "кулинарное бюро kitchen\n",
      "кулинарное бюро китчен\n",
      "кулинарный рай\n",
      "кулинарный магазин «просто вкусно»\n",
      "культ\n",
      "культ кальянная\n",
      "культура уличной еды\n",
      "куманек- суши - вок\n",
      "кумру\n",
      "кунаки\n",
      "кунжут кафе\n",
      "купянчанка\n",
      "курбер\n",
      "курдюк\n",
      "курочка с нами\n",
      "куршевель\n",
      "куры гриль\n",
      "куры-гриль шаурма\n",
      "кутузов, давыдов, барклай\n",
      "кухмистерская\n",
      "кухмистерская «профессор пуф»\n",
      "кухни кипра\n",
      "кухня «сытый слон». доставка горячих обедов\n",
      "кухня кипра\n",
      "кухня полли\n",
      "кухня из сезонных продуктов\n",
      "кухня на районе\n",
      "кухня народов\n",
      "кушавель\n",
      "кушай город\n",
      "лён-гречка\n",
      "лав кафе\n",
      "ладюрэ рус\n",
      "лакса\n",
      "лакшим\n",
      "ланч бокс\n",
      "лапша\n",
      "ларгус-м\n",
      "ларионов гриль\n",
      "ле спа\n",
      "легенда\n",
      "лемончелло\n",
      "линдерхоф\n",
      "лиор\n",
      "лицей 1303\n",
      "лицей прикладного искусства 332\n",
      "лобби\n",
      "лобби бар\n",
      "лобби-бар\n",
      "лоза\n",
      "локомотив\n",
      "лол\n",
      "лос бурритос\n",
      "лса\n",
      "луар\n",
      "лукум\n",
      "любимый город\n",
      "ла ваш\n",
      "ла гатта\n",
      "ла джоконда\n",
      "ла карта\n",
      "ла маре\n",
      "ла прима маргарита\n",
      "ла специя италия\n",
      "ла фантази\n",
      "лагатта\n",
      "лаборатория\n",
      "лаборатория lounge\n",
      "лав бургер\n",
      "лавкрафт\n",
      "лавлаваш\n",
      "лаваш и угли\n",
      "лаваш хаус\n",
      "лаваш&хачапури\n",
      "лаваш-центр\n",
      "лавашок\n",
      "лавка мяса и вина\n",
      "лавка № 1 гастрономическая пивная\n",
      "лавкалавка\n",
      "лагман № 1\n",
      "лагманная\n",
      "лагманты\n",
      "ладо\n",
      "лайт\n",
      "лайт кафе\n",
      "лаки кинг\n",
      "лаки чан\n",
      "ламаджо\n",
      "ламбик\n",
      "лангот\n",
      "лангуст\n",
      "ландринъ\n",
      "ланч кафе\n",
      "ланч-буфет «апельсин»\n",
      "ланчком\n",
      "ланчер\n",
      "ланчтайм\n",
      "лапша тянем-потянем\n",
      "лапшиза\n",
      "лапшичная lanzhou\n",
      "лапы и хвосты\n",
      "ларам\n",
      "ларс веганс\n",
      "латте\n",
      "латук\n",
      "лаундж-бар «мята lounge»\n",
      "лаундж-кафе свои\n",
      "лаунж-бар яблоко\n",
      "лаунч бар\n",
      "лафа\n",
      "лачи\n",
      "ле ван кыонг\n",
      "лекробаг\n",
      "легенда самарканда\n",
      "легендарный тифлис\n",
      "ледовый дворец мечта\n",
      "лейка\n",
      "лекавет\n",
      "лен\n",
      "ленинград\n",
      "леона\n",
      "лепешка\n",
      "лепим и варим\n",
      "лермонтов\n",
      "лес\n",
      "лесной уют\n",
      "лето\n",
      "лето близко\n",
      "либерти\n",
      "либерто\n",
      "ливан-хаус\n",
      "ливанец\n",
      "ливингстон\n",
      "лига пап\n",
      "лигурия\n",
      "ликия\n",
      "лило\n",
      "лиля брик\n",
      "лимон\n",
      "лимончино\n",
      "линдфорс\n",
      "литл панда\n",
      "лицей\n",
      "лицей 1589\n",
      "лицей при пединституте\n",
      "лицей № 507\n",
      "лицей №1581\n",
      "лобби- бар\n",
      "лобби-бар «welcome»\n",
      "лобби-бар «у фонтана»\n",
      "лобби-бар «аквамарин»\n",
      "лобби-бар «рандеву» при гостинице\n",
      "лобби-бар лайтбар\n",
      "лоби бар «галерея»\n",
      "лобиани\n",
      "логово\n",
      "лодка\n",
      "ложки вилки\n",
      "ложки и вилки\n",
      "локал вест\n",
      "лола\n",
      "лондон гриль, море суши\n",
      "лора крафт\n",
      "лотос\n",
      "лофт 8.14\n",
      "лофт фарфор\n",
      "луиджи\n",
      "лукоил\n",
      "лукойл\n",
      "лукойл-центрнефтьпродукт\n",
      "лукоморье\n",
      "луна\n",
      "лунева с.в.\n",
      "лунный дворик\n",
      "луснар\n",
      "луч\n",
      "лю милье\n",
      "любава\n",
      "любимая пицца\n",
      "люблю жизнь\n",
      "любовь пирогова\n",
      "любовь и сладости\n",
      "люди как люди\n",
      "ля марэ\n",
      "ля музон\n",
      "ля фа\n",
      "ля фантази\n",
      "ля фантазия\n",
      "ля фентази\n",
      "лямур\n",
      "ляфантази\n",
      "ляхова л.к.\n",
      "лёд n roll\n",
      "м - кафе\n",
      "м арс\n",
      "мilky donut\n",
      "ма пицца\n",
      "магадан\n",
      "магнолия\n",
      "майя\n",
      "мак фокс\n",
      "макдоналдс\n",
      "маки-маки\n",
      "макси пицца\n",
      "максимальный ресторан\n",
      "малыш и карлсон\n",
      "марани\n",
      "мари\n",
      "марина\n",
      "марракеш\n",
      "март\n",
      "мартиника\n",
      "маск-100\n",
      "мастер кебаб\n",
      "мастер кондитер\n",
      "матрешка\n",
      "матча\n",
      "мбкк «коломенское»\n",
      "мббургер\n",
      "мгах им в.и. сурикова\n",
      "мгиу «инфар»\n",
      "мгиу буфет «наслузова»\n",
      "мгпу\n",
      "мгу инженерной экологии\n",
      "мед-стоматологический университет\n",
      "медицинский колледж № 7\n",
      "медицинский колледж №5\n",
      "медицинское училище 15\n",
      "медучил. 4 ф-л. при мгкэит\n",
      "медучилище 7\n",
      "менза\n",
      "метехи\n",
      "метрополь\n",
      "мечты\n",
      "мз «кристаалл» столовая на балансе з-да\n",
      "мзэма\n",
      "ми пьяче\n",
      "миа пицца\n",
      "миди\n",
      "микс\n",
      "милос греческая кухня\n",
      "милти\n",
      "милти готовые блюда для здорового питания\n",
      "мими\n",
      "мимино\n",
      "мин.образ.рф фаворит 1357\n",
      "мин.образов. рф «сервисный центр»\n",
      "миндаль\n",
      "миндаль и кофе\n",
      "мио\n",
      "мир шашлыков\n",
      "мирамар\n",
      "ммк молодежный\n",
      "мнии альтаир\n",
      "мниипа\n",
      "мнити\n",
      "мнтк мх глаза бар дес.\n",
      "мнтк мх глаза буфет 3\n",
      "мнтк мх глаза буфет ап\n",
      "мнтк мх глаза кафе\n",
      "мнтк мх глаза пищеблок\n",
      "мнтк мх глаза р-н спектор-1\n",
      "мнтк мх глаза столовая\n",
      "модус-групп\n",
      "мойчойс\n",
      "мокка\n",
      "моно\n",
      "монополь\n",
      "монтероссо\n",
      "моремания\n",
      "морозко\n",
      "мосводоканал\n",
      "моск. гор. колледж инф-х технологий\n",
      "моск. гос. авиац.-технологич. университет\n",
      "моск. университет прикладной биотехнологии\n",
      "моск.катрон.полиграф.комбинат\n",
      "моск.межреспуб. винзавод\n",
      "москабельмет\n",
      "москва - макдоналдс\n",
      "москвич\n",
      "московская городская реклама\n",
      "московская экспертно импортная компания\n",
      "московский городской институт управления пм\n",
      "московский коммерческий колледж\n",
      "московский ордена ленина и ордена трудового красного знамени метрополитен имени в.и.ленина\n",
      "московский технический лицей\n",
      "московский ювелирный завод\n",
      "московское упп 13 всесоюзное общество слепых\n",
      "моспромстой\n",
      "моспромстрой отель менеджмент\n",
      "мосстроймех.5 ум 25\n",
      "моэк\n",
      "мпбк очаково\n",
      "мпз кампомос\n",
      "мпк «крекер»\n",
      "мпо «электротехника вос»\n",
      "мпо электротехника\n",
      "мск кальян-бар\n",
      "мск московская сеть кальянных\n",
      "мск московская сеть кальянных на шаболовке\n",
      "мск кальянная\n",
      "мсу 31 промэлектромонтаж\n",
      "му-му\n",
      "муган\n",
      "мфюа «нано фреш»\n",
      "мясо.кулинария «дедовский пекарь»\n",
      "мясоroob\n",
      "маffли\n",
      "магбургер\n",
      "магазин «кулинария»\n",
      "магазин японской кухни\n",
      "магазин готовой еды «милти»\n",
      "магазин кофе чай\n",
      "магазин кулинарии «вкусняша»\n",
      "магазин кулинарии «№111 фгуп гкнпц им. м.в. хруничева»\n",
      "магазин фасфудной продукции\n",
      "магазин-бар «бирстон»\n",
      "магазин-кулинария «добрый свет»\n",
      "магазин-кулинария\n",
      "магазин-кулинария «мясная кулинария»\n",
      "магазин-кулинария «суши сет»\n",
      "магазин-кулинария арго и к\n",
      "магбургер азс №16\n",
      "магбургер азс №17\n",
      "магия вкуса\n",
      "магиён\n",
      "магнум\n",
      "мадам вонг\n",
      "мадам галифе\n",
      "маза\n",
      "маидат кафе\n",
      "майкитай\n",
      "майкл коллинз\n",
      "макаронино\n",
      "маккадамия\n",
      "маковка\n",
      "макс бреннер\n",
      "макс бар\n",
      "максима пицца\n",
      "малаев\n",
      "маленькая пекарня\n",
      "малетон\n",
      "малика\n",
      "мама гочи\n",
      "мама будет рада\n",
      "мама, я в лапшу\n",
      "мама, я на паре\n",
      "мама-карло\n",
      "мамина еда\n",
      "мамуния\n",
      "манави\n",
      "мангал хаус\n",
      "мангалбар\n",
      "мандарин\n",
      "мандариновый гусь\n",
      "манеров\n",
      "маникюр энд бар\n",
      "манка\n",
      "манты и чебуреки\n",
      "мараканд\n",
      "маракеш\n",
      "маргарита\n",
      "мареа\n",
      "мариус\n",
      "марков двор\n",
      "марков двор кафе\n",
      "марма\n",
      "мармелад\n",
      "мармеладница\n",
      "мармеландия\n",
      "мармилатта\n",
      "мармолада\n",
      "марокко\n",
      "марсала\n",
      "марсера\n",
      "мартиросян м.г.\n",
      "мару\n",
      "мархал\n",
      "марципан\n",
      "марчеллис\n",
      "масала хаус\n",
      "мастер\n",
      "мастер гурмэ\n",
      "мастер отель внуково\n",
      "матч поинт\n",
      "мафия\n",
      "мацони\n",
      "маэстрелло\n",
      "маэстро\n",
      "маэстро ресто\n",
      "маэстро рестро\n",
      "маэстро пицца\n",
      "мегаполис\n",
      "мегобари\n",
      "мегрелия\n",
      "мед. колледж № 1\n",
      "медицинский колледж имени клары цеткин дзр г. москвы\n",
      "медицинский колледж № 6\n",
      "медицинское училище № 12\n",
      "медуза\n",
      "мексиканская кухня\n",
      "меленка\n",
      "мелочи жизни\n",
      "мельница\n",
      "менора\n",
      "мериталь\n",
      "мерси 5\n",
      "мерси баку\n",
      "месопотамия\n",
      "местечко\n",
      "местная религиозная организация ортодоксального иудаизма «московская еврейская религиозная община»\n",
      "место есть\n",
      "месье круассан\n",
      "метеор\n",
      "метро к&к\n",
      "меценатъ\n",
      "меццо пицца\n",
      "мечта кафе\n",
      "миля\n",
      "мидл ист\n",
      "мизандари\n",
      "микроб\n",
      "миксалат\n",
      "миксер\n",
      "милана\n",
      "милано пицца\n",
      "миллениум\n",
      "милленниум\n",
      "мимино хинкальная\n",
      "мини пекарня «маковка»\n",
      "мини-кафе «halal food certified»\n",
      "мини-кофейня\n",
      "мини-кофейня кофепорт\n",
      "мини-пекарня\n",
      "мини-пекарня «выпекай-ка»\n",
      "минская10\n",
      "мио дольче джулия\n",
      "мир аранчини\n",
      "мир халяль\n",
      "мир донер\n",
      "мирадж\n",
      "мираж\n",
      "мираторг\n",
      "мираторг бургер&фрайс\n",
      "мисада\n",
      "мистер донер 24\n",
      "мистер картошка\n",
      "мистер круассан\n",
      "мистер хинкали\n",
      "миша фишер\n",
      "миядзаки\n",
      "много лосося\n",
      "многопрофильный лицей 1501\n",
      "могучая кучка\n",
      "моди\n",
      "модус вита\n",
      "мозаика\n",
      "мой ашан\n",
      "мойкофебар\n",
      "молли малоун\n",
      "молли гвинз\n",
      "молодежь\n",
      "молодость lounge\n",
      "молоко\n",
      "молочные коктейли\n",
      "молочные коктели\n",
      "мольберт\n",
      "мондриан бар\n",
      "монретин\n",
      "море рыбы\n",
      "моремания экспресс\n",
      "мороженное movenpick\n",
      "мороженое\n",
      "мороженое plombir\n",
      "мороженое «myyo»\n",
      "мороженое, фреши, сладости «трава»\n",
      "мосгортранс трамвайное депо\n",
      "москальян\n",
      "моспаб\n",
      "мосбург\n",
      "мосдонер\n",
      "москафе\n",
      "москва\n",
      "москва париж\n",
      "москва поет\n",
      "московская сеть кальянных мск\n",
      "московский\n",
      "московский дворик\n",
      "московский казачий кадетский корпус\n",
      "московский полетехнический колледж № 39\n",
      "московский государственный открытый педагогический университет им. м.а. шолохова\n",
      "московский приборостроительный техникум, центр дополнительного образования рэу им. г.в.плеханова\n",
      "московский строительный колледж № 38\n",
      "московский театр русской драмы\n",
      "московский технико-экономический колледж\n",
      "моспицца\n",
      "мохнатый шмель\n",
      "моцарт\n",
      "мрамор\n",
      "музей пива\n",
      "музей шоколада\n",
      "музыкальный колледж\n",
      "музыкальный ресторан цдри\n",
      "мулалиев м.ю.\n",
      "мумий тролль\n",
      "муракамэ\n",
      "мускат\n",
      "мускат-молодежная\n",
      "мустафа кебаб\n",
      "мэйбикофе\n",
      "мюнгер\n",
      "мягкие рестораны\n",
      "мясная кулинария\n",
      "мясной бар №7\n",
      "мясной ресторан 4560\n",
      "мясо\n",
      "мясо - огонь\n",
      "мясо в лаваше\n",
      "мясо ели мужики\n",
      "мясо и овощи\n",
      "мясо и паста\n",
      "мясо и рыба\n",
      "мясо на гриле\n",
      "мясо&рыба\n",
      "мясо&рыба детский\n",
      "мясорубка\n",
      "мята\n",
      "мята lounge\n",
      "мята lounge автозаводская\n",
      "мята lounge октябрьская\n",
      "мята lounge шаболовка\n",
      "мята кальянная\n",
      "мята лаунж\n",
      "мята университет\n",
      "мёд\n",
      "мёнга\n",
      "н.f.c. халяль\n",
      "нola mexican grill\n",
      "на мса\n",
      "наас\n",
      "навигацкая школа\n",
      "нам\n",
      "наполетана\n",
      "нар\n",
      "наследие\n",
      "негосударственная школа «выбор»\n",
      "негосударственная школа «гармония»\n",
      "негосударственная школа «глобус»\n",
      "некрасовка +\n",
      "некрасовские бани\n",
      "немецкая слобода\n",
      "немодные burgers\n",
      "ниимэ и завод микрон\n",
      "ниипм\n",
      "ниихолода\n",
      "никала\n",
      "никиэт имени н.а. доллежаля\n",
      "ниппон\n",
      "нихони\n",
      "нияма\n",
      "но «фонд содействия развитию передовых медецинских технологий имени святослава федорова»\n",
      "новые формы\n",
      "ноев ковчег\n",
      "норд\n",
      "ноу «мини-школа»\n",
      "ноу школа «ника»\n",
      "нофар\n",
      "нпц челюстно-лицевой хирургии\n",
      "нтц атлас\n",
      "нэцкэ\n",
      "на востоке\n",
      "на знаменке\n",
      "на мосфильмовской\n",
      "на орбите\n",
      "на чили\n",
      "на кранах\n",
      "на мельнице\n",
      "на углях\n",
      "наливки\n",
      "набатчиков а.п.\n",
      "набатчиков а.п.(14 автобусный парк гк мосгортранс)\n",
      "набодчиков а.п.\n",
      "навоке\n",
      "найскафе\n",
      "найт флайт\n",
      "нанг\n",
      "напитки\n",
      "нардин\n",
      "наркологическая клиническая больница № 17\n",
      "наска\n",
      "настоишная\n",
      "натахтари\n",
      "натюрлих\n",
      "находка\n",
      "наш самарканд\n",
      "наш пончик\n",
      "не горюй\n",
      "не кафе, а космос\n",
      "не путай берега\n",
      "небесный тихоход\n",
      "неглинка (при гостинице «арарат парк хаятт»)\n",
      "нейборс\n",
      "нейтанс\n",
      "немецкая кухня\n",
      "нео фуд\n",
      "нептун\n",
      "неспрессо\n",
      "нецкин п.в.\n",
      "никола тесла\n",
      "николай\n",
      "никольский\n",
      "никольский парк\n",
      "ничего лишнего\n",
      "нияма пицца пи\n",
      "нияма- суши бар\n",
      "нияма. пицца пи\n",
      "новатор кофе\n",
      "новая столовая\n",
      "новая хинкальная\n",
      "новая столовая рускухня\n",
      "новая эра\n",
      "новогиреевское\n",
      "номер 15\n",
      "нон\n",
      "нон ла\n",
      "нордека\n",
      "нори суши бар\n",
      "ночной баку\n",
      "ночной караван\n",
      "ночной клуб «red wings»\n",
      "ночной клуб «zall»\n",
      "ночной клуб «солярис»\n",
      "ночной клуб лолита\n",
      "ночной клуб эклипс\n",
      "ноян тун\n",
      "ньокки\n",
      "нью амстердам холл\n",
      "нью йорк\n",
      "нью-йорк стейк-хаус\n",
      "нью-йорк пицца и гриль\n",
      "о ле\n",
      "о суши\n",
      "о эскимо\n",
      "о чем говорят...\n",
      "о, мой крафт\n",
      "о-хара\n",
      "оао «вилс» столовая 1\n",
      "оао «вилс» столовая 2\n",
      "оао «опытный з-д сухих смесей»\n",
      "оао «фаберлик косметик»\n",
      "обжора\n",
      "огонек\n",
      "одесса-мама\n",
      "одиссей+\n",
      "озби\n",
      "ока-2000\n",
      "окофемой\n",
      "оле-оле\n",
      "ом кафе\n",
      "омпк\n",
      "ооо «очаково»\n",
      "ооо «театро»\n",
      "ооо «фуд про»\n",
      "ооо кобинат питания конкорд\n",
      "ооо«рфк»\n",
      "опк «зеленоградский»\n",
      "оравела\n",
      "оригами суши-роллы\n",
      "орс-нод-1 столовая 11\n",
      "орхидея\n",
      "осипов а.с. (прод.база «очаково»)\n",
      "оазис\n",
      "оазис внуково\n",
      "обед буфет\n",
      "обеды с собой\n",
      "обжорный ряд\n",
      "оби-рахмат\n",
      "облака\n",
      "облако 11\n",
      "облако 53 lounge\n",
      "облепиха\n",
      "обломов\n",
      "образ\n",
      "обухов паб\n",
      "общественное питание\n",
      "огни баку\n",
      "огни востока\n",
      "одесса -мама\n",
      "оджалеши\n",
      "оджахури\n",
      "однажды в самарканде\n",
      "однажды в ташкенте\n",
      "одуван\n",
      "озгон\n",
      "оке поке кафе\n",
      "океан\n",
      "океан суши\n",
      "окинори\n",
      "околица\n",
      "оксюморон\n",
      "октоберфест\n",
      "октябрь event hall\n",
      "олд сити\n",
      "олива\n",
      "оливье\n",
      "олимпиец\n",
      "оманд\n",
      "омулевая бочка\n",
      "он мой\n",
      "онегин\n",
      "оникс\n",
      "опорный пункт\n",
      "оптимист\n",
      "оранж три\n",
      "оранжерея\n",
      "оранта\n",
      "органик клуб\n",
      "ордынка\n",
      "орехово пицца\n",
      "орко покровка менеджмент\n",
      "осетпирог\n",
      "осетинсике пироги печево\n",
      "осетинские пироги\n",
      "останкино\n",
      "останкинский молочный комбинат\n",
      "остериа марио\n",
      "остерия divino, караоке лаундж\n",
      "остерия бьянка\n",
      "остерия марио\n",
      "осторожно слон\n",
      "остро wok суши\n",
      "остро wok\n",
      "остроwok\n",
      "островок «super mango shake»\n",
      "островок чай-кофе\n",
      "островский\n",
      "осьминожка\n",
      "от души\n",
      "от заката до рассвета\n",
      "отдых\n",
      "отель мастер\n",
      "оттоман\n",
      "офис-мучачос\n",
      "офицерское\n",
      "офицерское собрание ресторан\n",
      "охотник\n",
      "охунова у.д.\n",
      "очаg\n",
      "очаг\n",
      "очаг mangal house\n",
      "ош\n",
      "ош кафе\n",
      "п пицца\n",
      "паб zolden (закрыто на ремонт в 2018 году)\n",
      "паб андердог\n",
      "паб бразен\n",
      "паб-солодоварня 1516\n",
      "палео\n",
      "палехский дворик\n",
      "панаехали\n",
      "панорама\n",
      "папа джойс\n",
      "папа джонс\n",
      "папа джонс пицца\n",
      "папа карло\n",
      "парус\n",
      "пбо la pausa pizzeria and cafe\n",
      "пбо «kfc покрышкина»\n",
      "пбо «kfc»\n",
      "пбо «вокмания»\n",
      "пбо «гриль хаус»\n",
      "пбо «теремок»\n",
      "пед. колледж 4\n",
      "педагогический колледж\n",
      "педучилище 6\n",
      "пекарня\n",
      "пекарня «амбар»\n",
      "пекарня волконский\n",
      "пекарня франсуа\n",
      "пекинская утка\n",
      "пельменики\n",
      "пельмешка хаус\n",
      "первое кафе\n",
      "петрович\n",
      "петрол комплекс эквипмент кампани\n",
      "петрол комплекс эквипмент компани\n",
      "петрол комплекс эквипмент компани при азс\n",
      "пещера\n",
      "пивко\n",
      "пивная\n",
      "пивная street суши room\n",
      "пивной бар\n",
      "пивной бар элефант\n",
      "пивной дворик\n",
      "пивной ресторан «штирлиц»\n",
      "пиво\n",
      "пиво воды в розливъ\n",
      "пилзнер\n",
      "пион\n",
      "пипл энд паста\n",
      "пироги штолле\n",
      "пита хаус 24 часа\n",
      "пицца «паоло»\n",
      "пицца аморэ\n",
      "пицца ресторантс\n",
      "пиццерия\n",
      "пиццерия «джовани»\n",
      "пиццерия «папа джонс»\n",
      "пиццетория\n",
      "пищеблок при 4-ом роддоме\n",
      "пищевой колледж загорье\n",
      "пловманты\n",
      "подмосковный строитель\n",
      "подъезд\n",
      "полиграфический колледж 56\n",
      "поло-клаб\n",
      "поместье\n",
      "помидор\n",
      "пончики\n",
      "пороселло\n",
      "порто мальтеза\n",
      "последняя капля\n",
      "пост скриптум\n",
      "почтмейстер\n",
      "ппк пропиком\n",
      "правdа кофе\n",
      "правда кофе\n",
      "прайм\n",
      "прайм стар\n",
      "праймстар ресторантс групп\n",
      "праймкафе прайм стар\n",
      "предприятие быстрого обслуживания\n",
      "президент-отель «лось»\n",
      "престо\n",
      "при гимназии 1512\n",
      "при школе 1028\n",
      "при школе 1389\n",
      "при школе 1404\n",
      "при школе 36 вечерняя\n",
      "при школе 402\n",
      "при школе 404\n",
      "при школе 407\n",
      "при школе 634\n",
      "при школе 781\n",
      "при школе 810\n",
      "при школе 813\n",
      "при школе 891\n",
      "при школе 892\n",
      "примавера\n",
      "про гимназия 1753\n",
      "про кафе\n",
      "пробка\n",
      "прогресс\n",
      "пронто\n",
      "пропаганда\n",
      "пропиком\n",
      "проспект 9\n",
      "профинвест\n",
      "профсервис\n",
      "птл 306 продцентр геркулес\n",
      "пу 33\n",
      "пу 45 «коп зил»\n",
      "пу 53\n",
      "путь каравана\n",
      "пьяный дятел\n",
      "пять пятниц\n",
      "па-паэлья\n",
      "паб\n",
      "папан\n",
      "паб 885\n",
      "паб delirium tremens\n",
      "паб «three tuns»\n",
      "паб «victoria & albert»\n",
      "паб «zlucky»\n",
      "паб «хищник»\n",
      "паб «шемрок»\n",
      "паб биротека бирмаркет\n",
      "паб гастро моментс\n",
      "паб злачное место\n",
      "паб кружка\n",
      "паб ло пикассо\n",
      "паб друзей магазин разливных напитков\n",
      "паб&пиццерия\n",
      "паб21\n",
      "павильон «кафе»\n",
      "павильон «кукуруза»\n",
      "павлин мавлин чайхона №1\n",
      "павлин-мавлин\n",
      "паддис\n",
      "пай поинт\n",
      "пак beer\n",
      "паладин\n",
      "палермо\n",
      "пальмира\n",
      "пампа грин\n",
      "пан запекан\n",
      "паназиатская кухня «канэ»\n",
      "панда\n",
      "панда кафе\n",
      "панделли гриль\n",
      "панорама 93\n",
      "панчо вилья\n",
      "панчо пицца\n",
      "паоло\n",
      "папа вейдер\n",
      "папа бык\n",
      "папа'с буфет\n",
      "папас бар энд гриль\n",
      "папоротник\n",
      "паприка\n",
      "парадиз ролан\n",
      "паризьен\n",
      "парк (при гостинице «арарат парк хаятт»)\n",
      "парк хаус\n",
      "парк-отель\n",
      "парламент\n",
      "паровозик\n",
      "парос-тал\n",
      "паскуччи\n",
      "паста\n",
      "паста браво\n",
      "паста ризотто\n",
      "паста и баста\n",
      "пастаместо\n",
      "патиссон\n",
      "патриот столовая-кулинария\n",
      "паттерна\n",
      "пауланер\n",
      "паулхауз ресторан\n",
      "пацио пицца\n",
      "паша пахвала\n",
      "пекарная лавка «донер кебаб»\n",
      "пекарня & донер\n",
      "пекарня 1\n",
      "пекарня 24\n",
      "пекарня beno\n",
      "пекарня family\n",
      "пекарня konigsbaker\n",
      "пекарня «вкус хлеба»\n",
      "пекарня «вкусняшка»\n",
      "пекарня «волконский хлеб»\n",
      "пекарня «гурман»\n",
      "пекарня «дон батон»\n",
      "пекарня «доноретто»\n",
      "пекарня «доноррето»\n",
      "пекарня «дружок-пирожок»\n",
      "пекарня «есть поесть»\n",
      "пекарня «загляни генацвале»\n",
      "пекарня «изюминка»\n",
      "пекарня «лепешки»\n",
      "пекарня «маковка»\n",
      "пекарня «малина»\n",
      "пекарня «молон лаве»\n",
      "пекарня «папан»\n",
      "пекарня «печной дар»\n",
      "пекарня «супер пирог»\n",
      "пекарня «тестоместо»\n",
      "пекарня «три сыра»\n",
      "пекарня «хлебница»\n",
      "пекарня «хлебное место»\n",
      "пекарня «четыре пекаря»\n",
      "пекарня арт буланже\n",
      "пекарня булкоешка\n",
      "пекарня буханка\n",
      "пекарня вкусная жизнь\n",
      "пекарня восточная кухня\n",
      "пекарня горхлеб\n",
      "пекарня домашний хлеб\n",
      "пекарня донер\n",
      "пекарня донер бистро\n",
      "пекарня жаворонок\n",
      "пекарня империя вкуса\n",
      "пекарня кулинария пицца\n",
      "пекарня маковка\n",
      "пекарня маман\n",
      "пекарня папан\n",
      "пекарня панпан\n",
      "пекарня паул\n",
      "пекарня пепела\n",
      "пекарня тоне\n",
      "пекарня хлебница\n",
      "пекарня и хлебница\n",
      "пекарня на дровах\n",
      "пекарня шаурма, пироги.\n",
      "пекарня № 1\n",
      "пекарня №1\n",
      "пекарня-бистро\n",
      "пекарня-булки\n",
      "пекарня-столовая «столичная»\n",
      "пекарня-зерно\n",
      "пекарня-кафе\n",
      "пекарня-кондитерская\n",
      "пекарь\n",
      "пекинский сад\n",
      "пельмени\n",
      "пельменная\n",
      "пельменная лавка\n",
      "пельменная №1\n",
      "пельменники\n",
      "пельменчик\n",
      "пельменьи\n",
      "пельмешки\n",
      "пенная галерея\n",
      "пенный плен\n",
      "пентхаус\n",
      "пепе неро\n",
      "пепела\n",
      "первая креветочная\n",
      "пергамент\n",
      "перекресток\n",
      "перекус\n",
      "перелетный кабак\n",
      "перепёлка\n",
      "перец и мята\n",
      "перня, шаурма\n",
      "перовский дворик\n",
      "перуанский ресторан «lima»\n",
      "пескаторе\n",
      "песнь моряка\n",
      "пети\n",
      "петров и васечка\n",
      "петрол копмлекс эквипмент кампани\n",
      "печки-лавочки\n",
      "печорин александр александрович\n",
      "печь и гриль\n",
      "пиала\n",
      "пиано\n",
      "пиатто\n",
      "пивариум\n",
      "пивбар\n",
      "пивбар 24 часа\n",
      "пивбар «коломенское»\n",
      "пивбар у бобра\n",
      "пивзавод ресторан brotundbeer\n",
      "пивзавод77\n",
      "пивная телега\n",
      "пивная фон вакано\n",
      "пивной бар хмельная пинта\n",
      "пивной бар «рябинка»\n",
      "пивной двор\n",
      "пивной клуб монте кристо\n",
      "пивной бар (beer&beard)\n",
      "пивной бар «kraftr zona»\n",
      "пивной бар «kraftsman»\n",
      "пивной бар «бернес»\n",
      "пивной бар «пивовар»\n",
      "пивной бар карасик\n",
      "пивной бар парка\n",
      "пивной дом gиm\n",
      "пивной клуб «амбар»\n",
      "пивной погребок\n",
      "пивной трактир «охота»\n",
      "пиво бар\n",
      "пиво в розлив - бар\n",
      "пиво есть\n",
      "пиво и гриль\n",
      "пиво и раки\n",
      "пиво и раки улица\n",
      "пиво на разлив\n",
      "пиво-воды\n",
      "пиво.бургеры.кофе.\n",
      "пиворыба\n",
      "пивовар\n",
      "пивоварня\n",
      "пивоварня шварцкайзер\n",
      "пивотека\n",
      "пивотека 465\n",
      "пиицерия\n",
      "пикассо кафе-бар\n",
      "пикколо\n",
      "пикник\n",
      "пиколини\n",
      "пилигрим\n",
      "пиликан\n",
      "пилпили\n",
      "пипл паста\n",
      "пипл&паста\n",
      "пипони\n",
      "пиппони\n",
      "пират пицца\n",
      "пироги\n",
      "пироги «скалка»\n",
      "пироги хаус\n",
      "пироги и гирос\n",
      "пироги,вино и гусь\n",
      "пироговая рогова\n",
      "пироговая штолле\n",
      "пироговая лавка\n",
      "пироговая №1\n",
      "пирожки\n",
      "пирожковая\n",
      "пирожковпая\n",
      "пиросмани\n",
      "пит брэд\n",
      "пит стоп\n",
      "пита хаус шашлычная пекарня\n",
      "пита и суваки\n",
      "пита и сувлаки\n",
      "пита-бар meat me\n",
      "пита-пита\n",
      "питамикс\n",
      "питер\n",
      "питербургер\n",
      "питчер паб\n",
      "пить есть\n",
      "пица паоло\n",
      "пице хат\n",
      "пицерия\n",
      "пицерия «папа джонс»\n",
      "пицерия «шварц кайзер»\n",
      "пицерия папа джонс\n",
      "пицерия пауло виктория\n",
      "пицца\n",
      "пицца & паста пауло\n",
      "пицца 22 сантиметра\n",
      "пицца 24\n",
      "пицца 360\n",
      "пицца comorra\n",
      "пицца don vito\n",
      "пицца pomodoro\n",
      "пицца pomodoro и суши дзен\n",
      "пицца sole\n",
      "пицца vabenne\n",
      "пицца «pizza pomodoro»\n",
      "пицца «wokk»\n",
      "пицца «додо»\n",
      "пицца венчур\n",
      "пицца гирос\n",
      "пицца гирос, шаурма\n",
      "пицца джэт\n",
      "пицца лока\n",
      "пицца лукка\n",
      "пицца пипони\n",
      "пицца паоло\n",
      "пицца паоло и бенто wok\n",
      "пицца пауло\n",
      "пицца помодоро\n",
      "пицца суши\n",
      "пицца суши вок\n",
      "пицца фабрика\n",
      "пицца хат\n",
      "пицца чили\n",
      "пицца экспресс\n",
      "пицца бар на трофимова\n",
      "пицца дон тано\n",
      "пицца и суши pomodoro\n",
      "пицца и суши навынос\n",
      "пицца лэнд\n",
      "пицца на вынос\n",
      "пицца на дом\n",
      "пицца пацио\n",
      "пицца суши «pomodoro»\n",
      "пицца экспрес\n",
      "пицца, суши\n",
      "пицца-пи\n",
      "пицца-фабрика\n",
      "пицца-маркет «смайл пицца &роллы»\n",
      "пиццаменто\n",
      "пиццарня\n",
      "пиццбургеr №1\n",
      "пиццерия ii pomodoro\n",
      "пиццерия ii pittore\n",
      "пиццерия il marco\n",
      "пиццерия pomodoro royal\n",
      "пиццерия scrocchiarella\n",
      "пиццерия vesuvio\n",
      "пиццерия «dan cafe»\n",
      "пиццерия «home pizza»\n",
      "пиццерия «motsna pizza»\n",
      "пиццерия «senza tutolo»\n",
      "пиццерия «zotman»\n",
      "пиццерия «академия»\n",
      "пиццерия «алло пицца»\n",
      "пиццерия «виват пицца»\n",
      "пиццерия «додо»\n",
      "пиццерия «додо пицца»\n",
      "пиццерия «домино'с пицца»\n",
      "пиццерия «лапинса»\n",
      "пиццерия «питто»\n",
      "пиццерия «пицца паоло»\n",
      "пиццерия «пицца стар»\n",
      "пиццерия «пицца хат»\n",
      "пиццерия «пицца хаус»\n",
      "пиццерия «пиццбург»\n",
      "пиццерия «сити пицца»\n",
      "пиццерия «челентано»\n",
      "пиццерия алеко\n",
      "пиццерия дон-пиццерон\n",
      "пиццерия донателло\n",
      "пиццерия лагатта\n",
      "пиццерия милано\n",
      "пиццерия паоло\n",
      "пиццерия папа джонс\n",
      "пиццерия пинза\n",
      "пиццерия пиу дель чибо\n",
      "пиццерия престо\n",
      "пиццерия роллофф\n",
      "пиццерия тартелино\n",
      "пиццерия томатино\n",
      "пиццерия траттория uno\n",
      "пиццерия хвост бобра\n",
      "пиццерия на вынос\n",
      "пищеблок ( закрытое)\n",
      "планета боулинг\n",
      "планета сибирь\n",
      "планета суши\n",
      "плескавица\n",
      "плоffхана\n",
      "плов\n",
      "плов базар\n",
      "плов самса\n",
      "плов тут\n",
      "плов хаус\n",
      "плов-сити\n",
      "плов.ком\n",
      "пловаш\n",
      "пловная №1\n",
      "пломбир\n",
      "пломбир джелатерия\n",
      "по щучьему велению\n",
      "поварская лавка\n",
      "погребок\n",
      "под мухой\n",
      "подмосковные вечера\n",
      "подозрительные лица\n",
      "подсолнух\n",
      "поесть и поиграть\n",
      "пожарный колледж 57\n",
      "позитано\n",
      "поке\n",
      "поке хаус\n",
      "поколение\n",
      "покровские пекарни\n",
      "полигон\n",
      "политех\n",
      "политех № 2\n",
      "полка\n",
      "полковнику никто не пишет\n",
      "поль бейкери\n",
      "поляков в.в.\n",
      "полярная станция\n",
      "поминальная трапеза\n",
      "помодоро\n",
      "понаели\n",
      "пончиковая\n",
      "пончиковая №1\n",
      "пончиковое кафе икеа ikea\n",
      "попкорн бар\n",
      "пора по пицце\n",
      "порт\n",
      "порт находка\n",
      "порто\n",
      "порто мальтезе\n",
      "порто миконос\n",
      "порто помодоро\n",
      "постскриптум «p.s»\n",
      "правdа кафе\n",
      "правда кафе\n",
      "православный центр образования святителя николая чудотворца\n",
      "прага\n",
      "пражечка\n",
      "праздник вкуса\n",
      "прайм биф\n",
      "прайм биф улица\n",
      "прайм стар кафе\n",
      "прайм-кафе\n",
      "прайм-кафе прайм стар\n",
      "праймбифбар\n",
      "праймстар\n",
      "практика\n",
      "пралине\n",
      "праун бар\n",
      "предприятие бысторого обслуживания восточная кухня «стамбул wood grill»\n",
      "предприятие быстрого обслуживания «kfc»\n",
      "предприятие быстрого обслуживания «бенто wok»\n",
      "предприятие быстрого обслуживания «бургер кинг»\n",
      "предприятие быстрого обслуживания «гриль хаус - мясо и овощи»\n",
      "предприятие быстрого обслуживания «додо пицца»\n",
      "предприятие быстрого обслуживания «домино'с пицца»\n",
      "предприятие быстрого обслуживания «донар кебаб»\n",
      "предприятие быстрого обслуживания «донер бистро»\n",
      "предприятие быстрого обслуживания «донеретт»\n",
      "предприятие быстрого обслуживания «кофе с собой»\n",
      "предприятие быстрого обслуживания «кофепит»\n",
      "предприятие быстрого обслуживания «кофикс»\n",
      "предприятие быстрого обслуживания «крошка картошка»\n",
      "предприятие быстрого обслуживания «магбургер»\n",
      "предприятие быстрого обслуживания «макдоналдс»\n",
      "предприятие быстрого обслуживания «милти»\n",
      "предприятие быстрого обслуживания «пицца в чертаново»\n",
      "предприятие быстрого обслуживания «ресторанный дворик»\n",
      "предприятие быстрого обслуживания «русъпай»\n",
      "предприятие быстрого обслуживания «суши бар таку»\n",
      "предприятие быстрого обслуживания «суши. пицца»\n",
      "предприятие быстрого обслуживания «сушишоп»\n",
      "предприятие быстрого обслуживания «теремок»\n",
      "предприятие быстрого обслуживания «шаурма, куры-гриль, выпечка»\n",
      "предприятие быстрого обслуживания «шаурма»\n",
      "предприятие быстрого обслуживания при азс «кафе»\n",
      "предприятие быстрого обслуживания при мойке «кафе»\n",
      "предприятие быстрого питания\n",
      "предприятие быстрого питания «вьетнамская кухня pho viet»\n",
      "предприятие быстрого питания «крошка картошка»\n",
      "предприятие быстрого питания «экодом»\n",
      "премьер\n",
      "премьер пицца\n",
      "пресс-столовая\n",
      "префектура\n",
      "при всероссийском учебном научно - методическом центре\n",
      "при железнодорожном колледже №52\n",
      "при коледже индустрии гостеприимства и менеджмента №23\n",
      "при вечерней школе 148\n",
      "при колледже автоматизациии информационых технологий № 20\n",
      "при медицинском училище № 19\n",
      "при объединении лит\n",
      "при школе 1294\n",
      "при школе 1349\n",
      "при школе 1360\n",
      "при школе 1452\n",
      "при школе 362\n",
      "при школе 363\n",
      "при школе 365\n",
      "при школе 374\n",
      "при школе 382\n",
      "при школе 386\n",
      "при школе 390\n",
      "привал\n",
      "призма\n",
      "примус\n",
      "принц\n",
      "принцесса\n",
      "принцесса шоко\n",
      "про мясо\n",
      "про пельмени\n",
      "про суши\n",
      "пробка гриль\n",
      "прованс\n",
      "провинчи\n",
      "прогимназия- 1728\n",
      "прогноз погоды\n",
      "проект 6-2\n",
      "прожарка\n",
      "прожектор\n",
      "производственная столовая кин\n",
      "пролетарец\n",
      "проссеко\n",
      "просто\n",
      "простые вещи\n",
      "профессор пуф\n",
      "профит\n",
      "профтесто\n",
      "псарьки\n",
      "психоневрологический интернат № 18\n",
      "птицасиница\n",
      "птицы и пчелы\n",
      "пульсар\n",
      "пунк питания\n",
      "пункт общественного питания «шаурма»\n",
      "пункт общественного питания без зала обслуживания пицца «паоло»\n",
      "пункт общественного питания без зала обслуживания посетителей\n",
      "пункт питания\n",
      "пунш мастер\n",
      "пур-пур\n",
      "пури хачапури\n",
      "пури-хачапури\n",
      "пушкаревъ\n",
      "пхада\n",
      "пхали-лали\n",
      "пшеница\n",
      "пьяный енот\n",
      "пьяный краб и счастливая курица\n",
      "пян-се\n",
      "пять звед менеджемент\n",
      "пять звезд\n",
      "р. и м.\n",
      "разгуляй\n",
      "раиса захарна\n",
      "рай\n",
      "райсен\n",
      "раковарня\n",
      "рапс\n",
      "рахимкулова т.х.\n",
      "рбоои «наш долг»\n",
      "ред кафе\n",
      "ресто клаб\n",
      "рестомаркет\n",
      "рестора бса vip -клуб с «пресс-центром»\n",
      "ресторан tgi friday s\n",
      "ресторан «hungry fox»\n",
      "ресторан «repablic»\n",
      "ресторан «бакинский дворик»\n",
      "ресторан «белладжио»\n",
      "ресторан «бизон» «мареа»\n",
      "ресторан «воробьи»\n",
      "ресторан «восточный уют»\n",
      "ресторан «губернаторский»\n",
      "ресторан «гастробар»\n",
      "ресторан «джон джоли»\n",
      "ресторан «калинка»\n",
      "ресторан «кабоб»\n",
      "ресторан «квак2»\n",
      "ресторан «космик»\n",
      "ресторан «лайт тач»\n",
      "ресторан «минсон»\n",
      "ресторан «мистер хинкали»\n",
      "ресторан «премьер-спорт»\n",
      "ресторан «скай клуб»\n",
      "ресторан «сафиса»\n",
      "ресторан «тануки»\n",
      "ресторан «турист»\n",
      "ресторан «тапас марбелья»\n",
      "ресторан «урюк»\n",
      "ресторан «хуанхэ»\n",
      "ресторан «цыцыла»\n",
      "ресторан «чайхона №1»\n",
      "ресторан «чайхана\n",
      "ресторан «чайхана»\n",
      "ресторан «черный бык»\n",
      "ресторан банкетного обслуживания\n",
      "ресторан веранда\n",
      "ресторан гостиницы «даниловская»\n",
      "ресторан зеленое яблоко\n",
      "ресторан при московском гольф клубе\n",
      "ресторан при гостинице «университетсткая»\n",
      "ресторан-клуб «ананас»\n",
      "ресторан«макдоналдс»\n",
      "риальто\n",
      "ривер\n",
      "римини\n",
      "ринко-сервис\n",
      "ритм блюз кафе\n",
      "риф\n",
      "рнии космического приборостроения\n",
      "рно\n",
      "роддом 17 пищеблок\n",
      "родина\n",
      "роза ветров\n",
      "рой кастл\n",
      "рок-кафе\n",
      "ромбус\n",
      "рос ноу\n",
      "росинтер-ресторантс\n",
      "росс\n",
      "ростик\n",
      "ростикс kfc\n",
      "ррг-бар\n",
      "рс петровский\n",
      "рск миг столовая\n",
      "рти-финанс\n",
      "рубин\n",
      "ружена\n",
      "рум сервис\n",
      "рус сервис\n",
      "русагрохолдинг\n",
      "русский\n",
      "русский погребок\n",
      "русское подворье\n",
      "рынрадо\n",
      "рэдимэйд\n",
      "рэдимэйд групп\n",
      "радость\n",
      "радуга\n",
      "радэа\n",
      "разведка\n",
      "развлекательный центр «semenov»\n",
      "рай у фонтана\n",
      "райская трапеза\n",
      "райский уголок\n",
      "райский дворик\n",
      "райский пирожок\n",
      "райский сад\n",
      "ракия бар\n",
      "раковарня «иван раков»\n",
      "раковая на анохина\n",
      "раковая на усачева\n",
      "рамен\n",
      "рамен клаб\n",
      "рамен клаб японская лапшичная\n",
      "раменная\n",
      "рамн\n",
      "рандеву на сходненской\n",
      "рандом кафе\n",
      "ранний птах\n",
      "распутин\n",
      "рауше\n",
      "рахмилевич сахар\n",
      "рачевня «поплавок»\n",
      "ребро адама\n",
      "ребрышки и крылышки\n",
      "ред 36\n",
      "ред брик\n",
      "ред-кафе\n",
      "релакс плюс\n",
      "ремесленная пекарня\n",
      "репаст\n",
      "репин\n",
      "рестлайн\n",
      "ресто групп\n",
      "ресто-буфет\n",
      "ресто-бар платформа\n",
      "рестобар 1-7\n",
      "ресторан\n",
      "ресторан ( закрытая)\n",
      "ресторан (при гостинице «марриот сущёвский»)\n",
      "ресторан - глобус\n",
      "ресторан 4tuna caf&gri\n",
      "ресторан 800 contemporary steak\n",
      "ресторан brown bar\n",
      "ресторан boobo\n",
      "ресторан brasserie lambic\n",
      "ресторан buba by sumosan\n",
      "ресторан casa agave\n",
      "ресторан dewars powerhouse\n",
      "ресторан drunken duck pub\n",
      "ресторан grut\n",
      "ресторан gabriel\n",
      "ресторан is ku\n",
      "ресторан il fornetto\n",
      "ресторан kfc\n",
      "ресторан lafa\n",
      "ресторан le restaurant\n",
      "ресторан legend\n",
      "ресторан magura asian bistro\n",
      "ресторан name\n",
      "ресторан paul\n",
      "ресторан premer lounge\n",
      "ресторан rfr\n",
      "ресторан sillycat\n",
      "ресторан stories\n",
      "ресторан t.g.i. fraydas\n",
      "ресторан xiv\n",
      "ресторан « ла маре»\n",
      "ресторан «2545»\n",
      "ресторан «37.37»\n",
      "ресторан «8 oz»\n",
      "ресторан «abc kitchen»\n",
      "ресторан «anton»\n",
      "ресторан «assunta madre»\n",
      "ресторан «bb burgers»\n",
      "ресторан «bb grill»\n",
      "ресторан «bbcafe»\n",
      "ресторан «bix»\n",
      "ресторан «bottarga»\n",
      "ресторан «bamboobar»\n",
      "ресторан «big»\n",
      "ресторан «bocconcino»\n",
      "ресторан «boobo»\n",
      "ресторан «butler»\n",
      "ресторан «china club»\n",
      "ресторан «correas»\n",
      "ресторан «cut»\n",
      "ресторан «carne»\n",
      "ресторан «chef's kitchen by sodexo»\n",
      "ресторан «chicha»\n",
      "ресторан «choice. healthy social club»\n",
      "ресторан «city voice»\n",
      "ресторан «cosmik»\n",
      "ресторан «croydon»\n",
      "ресторан «cutfish»\n",
      "ресторан «didi»\n",
      "ресторан «dim sum & co»\n",
      "ресторан «dream city»\n",
      "ресторан «easy food»\n",
      "ресторан «forte bello»\n",
      "ресторан «farrof palace»\n",
      "ресторан «flat iron bar & roadhouse»\n",
      "ресторан «florentini»\n",
      "ресторан «goodman»\n",
      "ресторан «hite»\n",
      "ресторан «humans seafood bar»\n",
      "ресторан «i like bar»\n",
      "ресторан «il canto»\n",
      "ресторан «insight»\n",
      "ресторан «kfc»\n",
      "ресторан «kabuki»\n",
      "ресторан «karas»\n",
      "ресторан «khinka lee»\n",
      "ресторан «kings»\n",
      "ресторан «lao lee»\n",
      "ресторан «larionov grill&bar»\n",
      "ресторан «loft hall»\n",
      "ресторан «lucky izakaya bar»\n",
      "ресторан «lureme»\n",
      "ресторан «mc traders»\n",
      "ресторан «maritozzo»\n",
      "ресторан «max beef for money»\n",
      "ресторан «meat up»\n",
      "ресторан «meat&fisht»\n",
      "ресторан «meat&fish»\n",
      "ресторан «mollusca»\n",
      "ресторан «montifiori»\n",
      "ресторан «montis friends»\n",
      "ресторан «nегодники»\n",
      "ресторан «osteria mario»\n",
      "ресторан «plum»\n",
      "ресторан «panorama 360»\n",
      "ресторан «pesto»\n",
      "ресторан «pho bo»\n",
      "ресторан «pilsner»\n",
      "ресторан «ra family»\n",
      "ресторан «radeberger»\n",
      "ресторан «real authentic wine salon»\n",
      "ресторан «remi kiеchen»\n",
      "ресторан «remy kitchen bakery»\n",
      "ресторан «river side»\n",
      "ресторан «ruski»\n",
      "ресторан «sal.u.meria»\n",
      "ресторан «sabor de la vida»\n",
      "ресторан «saltenas»\n",
      "ресторан «sbarro»\n",
      "ресторан «scrocchiarella на никитском»\n",
      "ресторан «selfie»\n",
      "ресторан «shelbybar»\n",
      "ресторан «shiba»\n",
      "ресторан «sixty»\n",
      "ресторан «sono vino»\n",
      "ресторан «steak it easy»\n",
      "ресторан «sun and moon»\n",
      "ресторан «tgi fridays»\n",
      "ресторан «the toy»\n",
      "ресторан «terraneo»\n",
      "ресторан «truecost»\n",
      "ресторан «tutto bene»\n",
      "ресторан «ugolёk»\n",
      "ресторан «verde»\n",
      "ресторан «viet cafe»\n",
      "ресторан «yaffa»\n",
      "ресторан «zafferano»\n",
      "ресторан «zotman pizza pie»\n",
      "ресторан «ёрш»\n",
      "ресторан «альфа»\n",
      "ресторан «атмосфера»\n",
      "ресторан «ауру»\n",
      "ресторан «авиатор»\n",
      "ресторан «аист»\n",
      "ресторан «арго»\n",
      "ресторан «архитектор»\n",
      "ресторан «бета»\n",
      "ресторан «бирштрассе»\n",
      "ресторан «бони мария»\n",
      "ресторан «бочка»\n",
      "ресторан «брудер»\n",
      "ресторан «бургер кинг»\n",
      "ресторан «баварская кухня»\n",
      "ресторан «бакинская жемчужина»\n",
      "ресторан «бакинский бульвар»\n",
      "ресторан «балзи росси»\n",
      "ресторан «белл паб»\n",
      "ресторан «белые журавли»\n",
      "ресторан «белый город»\n",
      "ресторан «белый дом»\n",
      "ресторан «биджо»\n",
      "ресторан «бирхоф»\n",
      "ресторан «бистро»\n",
      "ресторан «борисовский пассаж»\n",
      "ресторан «бостон»\n",
      "ресторан «боттега сицилиана»\n",
      "ресторан «боэми»\n",
      "ресторан «боярский»\n",
      "ресторан «буйабез»\n",
      "ресторан «бульвар»\n",
      "ресторан «бэлла паста»\n",
      "ресторан «в старом городе»\n",
      "ресторан «вега»\n",
      "ресторан «вечерний баку»\n",
      "ресторан «винотема»\n",
      "ресторан «виттория»\n",
      "ресторан «вареничная №1»\n",
      "ресторан «варшавский»\n",
      "ресторан «вдохновенье»\n",
      "ресторан «велюте» в бц «ртс»\n",
      "ресторан «веранда 32.05»\n",
      "ресторан «виа романо», «йоркшир»\n",
      "ресторан «винный рынок»\n",
      "ресторан «винтаж»\n",
      "ресторан «водопад»\n",
      "ресторан «вояж»\n",
      "ресторан «вьеткафе»\n",
      "ресторан «гандара»\n",
      "ресторан «грано»\n",
      "ресторан «гулиани\n",
      "ресторан «гуси лебеди»\n",
      "ресторан «галерея»\n",
      "ресторан «гогиели»\n",
      "ресторан «голос»\n",
      "ресторан «гранатовый сад»\n",
      "ресторан «граф орлов»\n",
      "ресторан «гриль и вино»\n",
      "ресторан «грузин»\n",
      "ресторан «грузинская кухня»\n",
      "ресторан «джорджия»\n",
      "ресторан «днк»\n",
      "ресторан «дон»\n",
      "ресторан «донна клара»\n",
      "ресторан «де пари»\n",
      "ресторан «дед пихто»\n",
      "ресторан «джардино да пино»\n",
      "ресторан «джон сильвер»\n",
      "ресторан «дичь»\n",
      "ресторан «добрыня»\n",
      "ресторан «дом на патриарших»\n",
      "ресторан «домжур»\n",
      "ресторан «домино'с пицца»\n",
      "ресторан «донна маргарита»\n",
      "ресторан «дружба»\n",
      "ресторан «дюжина»\n",
      "ресторан «дядюшка хо»\n",
      "ресторан «ерш»\n",
      "ресторан «жи - есть»\n",
      "ресторан «заварка»\n",
      "ресторан «заречье»\n",
      "ресторан «золотая вобла»\n",
      "ресторан «золотое время»\n",
      "ресторан «золотые пруды»\n",
      "ресторан «зоо»\n",
      "ресторан «иль патио»\n",
      "ресторан «императорский зал»\n",
      "ресторан «ист-вест»\n",
      "ресторан «измайловский двор»\n",
      "ресторан «измайловский»\n",
      "ресторан «иль асадор»\n",
      "ресторан «илья муромец»\n",
      "ресторан «империя»\n",
      "ресторан «кабанчик»\n",
      "ресторан «корё»\n",
      "ресторан «коралл»\n",
      "ресторан «казбек»\n",
      "ресторан «караоке»\n",
      "ресторан «кеци»\n",
      "ресторан «китайские новости»\n",
      "ресторан «китайский самовар»\n",
      "ресторан «клюква»\n",
      "ресторан «колбасофф»\n",
      "ресторан «колизей холл»\n",
      "ресторан «корчма тарас бульба»\n",
      "ресторан «крафт, лофт и компот»\n",
      "ресторан «кувшин»\n",
      "ресторан «кузьминки»\n",
      "ресторан «кухня полли»\n",
      "ресторан «ла делициа»\n",
      "ресторан «ламази»\n",
      "ресторан «лебединое озеро»\n",
      "ресторан «лед и пламя»\n",
      "ресторан «леман»\n",
      "ресторан «линкольн»\n",
      "ресторан «лук кафе»\n",
      "ресторан «люкс»\n",
      "ресторан «ля таверна»\n",
      "ресторан «марта марио»\n",
      "ресторан «макдоналдс»\n",
      "ресторан «макото»\n",
      "ресторан «манана»\n",
      "ресторан «марри иванна»\n",
      "ресторан «марукамэ»\n",
      "ресторан «маяк»\n",
      "ресторан «михаил светлов»\n",
      "ресторан «молон лаве»\n",
      "ресторан «монте кристо»\n",
      "ресторан «москва-дели»\n",
      "ресторан «москвовский»\n",
      "ресторан «мтиели»\n",
      "ресторан «на свежем воздухе»\n",
      "ресторан «нар шараб»\n",
      "ресторан «наршараб»\n",
      "ресторан «никита»\n",
      "ресторан «никуда не едем» , «квартира»\n",
      "ресторан «новый свет»\n",
      "ресторан «ньокки»\n",
      "ресторан «особое место»\n",
      "ресторан «охота мяса»\n",
      "ресторан «очаг гурманов»\n",
      "ресторан «палаццо дукале»\n",
      "ресторан «пикколо диаболо»\n",
      "ресторан «планета космос»\n",
      "ресторан «пьяный краб и счастливая курица»\n",
      "ресторан «пальмира»\n",
      "ресторан «панорама»\n",
      "ресторан «паприколли»\n",
      "ресторан «парк кафе»\n",
      "ресторан «патара»\n",
      "ресторан «пекин»\n",
      "ресторан «персия»\n",
      "ресторан «пивной дворик»\n",
      "ресторан «пивнушка»\n",
      "ресторан «пикканте»\n",
      "ресторан «пикник на обочине»\n",
      "ресторан «пицца хат»\n",
      "ресторан «планета суши»\n",
      "ресторан «посейдон»\n",
      "ресторан «прай тайм»\n",
      "ресторан «практика by darvin»\n",
      "ресторан «пронто»\n",
      "ресторан «пяток»\n",
      "ресторан «райon»\n",
      "ресторан «раковарня»\n",
      "ресторан «ресторан на шаболовке»\n",
      "ресторан «русский паб»\n",
      "ресторан «русский»\n",
      "ресторан «сайзен»\n",
      "ресторан «сандуновские бани»\n",
      "ресторан «сандык»\n",
      "ресторан «созвездие»\n",
      "ресторан «старый дворик»\n",
      "ресторан «столовая при консерватории»\n",
      "ресторан «сайгон»\n",
      "ресторан «саксон и пароль»\n",
      "ресторан «салют»\n",
      "ресторан «сахара»\n",
      "ресторан «сванетти»\n",
      "ресторан «своя компания»\n",
      "ресторан «сибирь»\n",
      "ресторан «сим-сити»\n",
      "ресторан «сказка»\n",
      "ресторан «скай вью»\n",
      "ресторан «славия»\n",
      "ресторан «старый дуб»\n",
      "ресторан «старый фаэтон»\n",
      "ресторан «столичный вкус»\n",
      "ресторан «субботица»\n",
      "ресторан «султан»\n",
      "ресторан «суфле» при гостинице\n",
      "ресторан «суши make»\n",
      "ресторан «счастливая щука»\n",
      "ресторан «сытый лось»\n",
      "ресторан «сэнкчуэри»\n",
      "ресторан «твин пигс»\n",
      "ресторан «тройка»\n",
      "ресторан «тандыр»\n",
      "ресторан «тапчан»\n",
      "ресторан «телега»\n",
      "ресторан «темпл бар»\n",
      "ресторан «теремок»\n",
      "ресторан «территория»\n",
      "ресторан «тики бар»\n",
      "ресторан «токио»\n",
      "ресторан «трио»\n",
      "ресторан «тропарево»\n",
      "ресторан «тэсти»\n",
      "ресторан «усадьба»\n",
      "ресторан «фокачерия»\n",
      "ресторан «фрау шнапсбир»\n",
      "ресторан «фьюжен плаза»\n",
      "ресторан «фьюжн плаза»\n",
      "ресторан «худжурао»\n",
      "ресторан «хеппиэнд»\n",
      "ресторан «хинкали. вино. мимино»\n",
      "ресторан «хинкальная»\n",
      "ресторан «хлеб и вино»\n",
      "ресторан «хруст»\n",
      "ресторан «хэ цзин»\n",
      "ресторан «цдт»\n",
      "ресторан «царьград»\n",
      "ресторан «цветение сакуры»\n",
      "ресторан «цирк на трехгорке»\n",
      "ресторан «чайка»\n",
      "ресторан «чайхана томанно»\n",
      "ресторан «чайхана урюк»\n",
      "ресторан «шестнадцать тонн»\n",
      "ресторан «шехерезада»\n",
      "ресторан «шагал»\n",
      "ресторан «шах кебаб»\n",
      "ресторан «шахин шах»\n",
      "ресторан «шинок»\n",
      "ресторан «шурочка»\n",
      "ресторан «экспомил»\n",
      "ресторан «эль гаучо»\n",
      "ресторан «эрмитаж»\n",
      "ресторан «юджунг»\n",
      "ресторан «южная ночь»\n",
      "ресторан «южное китайское море»\n",
      "ресторан «якитория»\n",
      "ресторан «якуми»\n",
      "ресторан «ян примус»\n",
      "ресторан «япоша»\n",
      "ресторан автограф\n",
      "ресторан ай дабаран\n",
      "ресторан акапелла\n",
      "ресторан алазанская долина\n",
      "ресторан александр\n",
      "ресторан аэроплаза\n",
      "ресторан базара нет\n",
      "ресторан баку-сити\n",
      "ресторан балчуг гриль гостиницы балчуг\n",
      "ресторан березка\n",
      "ресторан боломут\n",
      "ресторан весна\n",
      "ресторан виноградник\n",
      "ресторан вегас\n",
      "ресторан венеция\n",
      "ресторан вереск\n",
      "ресторан воробьевы горы\n",
      "ресторан вояж\n",
      "ресторан все свое\n",
      "ресторан вьетнамской кухни гао\n",
      "ресторан география\n",
      "ресторан гуава\n",
      "ресторан гудман\n",
      "ресторан две палочки\n",
      "ресторан джеронимо\n",
      "ресторан джон джоли\n",
      "ресторан дэтоль\n",
      "ресторан золберг\n",
      "ресторан золотая роща\n",
      "ресторан икеа ikea\n",
      "ресторан ип кантария\n",
      "ресторан кимчи\n",
      "ресторан кфс\n",
      "ресторан калужская застава\n",
      "ресторан карлсон\n",
      "ресторан континенталь\n",
      "ресторан купец\n",
      "ресторан ледо\n",
      "ресторан луизиана\n",
      "ресторан миш мэш\n",
      "ресторан маки-маки\n",
      "ресторан мой двор\n",
      "ресторан море мяса\n",
      "ресторан московский\n",
      "ресторан новая москва\n",
      "ресторан ночной клуб vegas\n",
      "ресторан ночной дворик\n",
      "ресторан патэ\n",
      "ресторан панч энд джуди\n",
      "ресторан планета суши иль патио\n",
      "ресторан руставелли\n",
      "ресторан сеул\n",
      "ресторан столичный вкус\n",
      "ресторан сычуань\n",
      "ресторан тануки\n",
      "ресторан таун хаус\n",
      "ресторан теремок\n",
      "ресторан токио сити\n",
      "ресторан торро гриль\n",
      "ресторан фаzенда\n",
      "ресторан фреш сити\n",
      "ресторан хан канг\n",
      "ресторан хинкальная\n",
      "ресторан холидей инн\n",
      "ресторан царская кухня\n",
      "ресторан черрето море\n",
      "ресторан эридан\n",
      "ресторан ярославский\n",
      "ресторан ян примус\n",
      "ресторан быстрого питания kfc\n",
      "ресторан быстрого питания «клюква»\n",
      "ресторан быстрого питания «крошка картошка»\n",
      "ресторан в отеле «best seasons»\n",
      "ресторан в гостинице «азимут»\n",
      "ресторан вьетнамской кухни «вкус вьет»\n",
      "ресторан доминос\n",
      "ресторан и бар «teika boom»\n",
      "ресторан караоке импровизация\n",
      "ресторан китайской кухни «хао и»\n",
      "ресторан корпоративного питания\n",
      "ресторан на болотном\n",
      "ресторан при курорте красная пахра\n",
      "ресторан при гостинице «на смирновской 25»\n",
      "ресторан при гостинице катерина\n",
      "ресторан северная кухня бёрн\n",
      "ресторан японской кухни «маки-маки»\n",
      "ресторан, бар «мандарин»\n",
      "ресторан-бар, ночной клуб «адмирал»\n",
      "ресторан-бар, ночной клуб «сказка»\n",
      "ресторан«most lounge bar»\n",
      "ресторан«uilliams»\n",
      "ресторан«вьеткафе»\n",
      "ресторани «самми»\n",
      "ресторанный дворик «рублев»\n",
      "ресторанный дом flash royal\n",
      "ресторантс-сервис\n",
      "ресторация боско\n",
      "рестран perfect\n",
      "ретро\n",
      "ретро-кафе\n",
      "рецептор\n",
      "речники-19\n",
      "ржавый флюгер\n",
      "ривер клаб москов\n",
      "риверсайд\n",
      "рика\n",
      "рико\n",
      "римон\n",
      "римская пицца\n",
      "рио грандэ\n",
      "риоба\n",
      "рис варись\n",
      "рис и фиш\n",
      "ритм и вкус\n",
      "рихтер\n",
      "роаст китчен\n",
      "родник\n",
      "родные люди\n",
      "розетка и кофе\n",
      "розмарин\n",
      "рок-бар «безумий»\n",
      "рок-н-ролл, martinez bar\n",
      "роллофф\n",
      "рома\n",
      "романов\n",
      "романтика\n",
      "рони\n",
      "росинтер ресторантс\n",
      "роснефть\n",
      "роснефть (закрытое)\n",
      "российская академия народного хозяйства и государственной службы при презеденте российской федерации\n",
      "россичъ\n",
      "россо энд бьянко\n",
      "ростов папа гастро бар\n",
      "ротекс\n",
      "ротонда\n",
      "роут 66\n",
      "роял\n",
      "рубим бургер\n",
      "руккола\n",
      "румор\n",
      "руспицца\n",
      "русская кухня\n",
      "русская охота\n",
      "русская трапеза\n",
      "русские обеды\n",
      "русские сезоны\n",
      "русский аппетит\n",
      "русский маффин\n",
      "русский колос\n",
      "рыба & мясо на углях\n",
      "рыба есть\n",
      "рыба мечты\n",
      "рыба моя\n",
      "рыбное место\n",
      "рыбный базар\n",
      "рыбы нет\n",
      "рыжая куница\n",
      "рыжая борода\n",
      "рюмка пива\n",
      "рюмка водки\n",
      "рюмочная\n",
      "рюмочная «зинзивер»\n",
      "рюмочная бухучет\n",
      "рязанский проспект\n",
      "рёберная на усачевской\n",
      "с акцентом\n",
      "с любовью грузия\n",
      "с утра\n",
      "сherry coffee\n",
      "сoffeekraft\n",
      "сабвей\n",
      "садовое кольцо\n",
      "сайгон\n",
      "самарканд\n",
      "самобранка\n",
      "самокат-кэттеринг\n",
      "сан-диего\n",
      "сандвик-мктс\n",
      "саперави\n",
      "сапфир 1\n",
      "сасс\n",
      "сатурн - шбс 3\n",
      "сатурн-шбс-3 спец. коррек. общеобраз.школа-интернат vi вида\n",
      "сатурн-шбс-3 столовая школы 1014\n",
      "сатурн-шбс-3 столовая школы 1015\n",
      "сатурн-шбс-3 столовая школы 1018\n",
      "сатурн-шбс-3 столовая школы 1238\n",
      "сатурн-шбс-3 столовая школы 1376\n",
      "сатурн-шбс-3 столовая школы 1432\n",
      "сатурн-шбс-3 столовая школы 1437\n",
      "сатурн-шбс-3 столовая школы 1455\n",
      "сатурн-шбс-3 столовая школы 1467\n",
      "сатурн-шбс-3 столовая школы №1238\n",
      "сатурн-шбс-3 столовая школы №1437\n",
      "сатурн-шбс-3 столовая гимназии 1596\n",
      "сафиуллина с.с.\n",
      "сахли\n",
      "светлана\n",
      "сезам\n",
      "сезам чайхана\n",
      "сейджи\n",
      "сейм\n",
      "секретное место\n",
      "семифредо\n",
      "сердолик-ю\n",
      "сеул\n",
      "сибирская корона\n",
      "симпл\n",
      "синамон\n",
      "синнабон\n",
      "система бит 2000\n",
      "сити лайф\n",
      "сиэль\n",
      "сказочный двор\n",
      "скалка\n",
      "скатиерть самобранка\n",
      "сливки гурмэ\n",
      "сло россия\n",
      "служебное кафе\n",
      "служебный буфет\n",
      "сметана\n",
      "сму-15 «метрострой»\n",
      "снэм\n",
      "современные пищевые технологии\n",
      "содексо евроазия\n",
      "сок\n",
      "сок ооо автокомбинат 3\n",
      "сол\n",
      "соло\n",
      "соль и перец\n",
      "солюкс клаб\n",
      "сохо-румс\n",
      "соц-психологическ. институт «коп зил»\n",
      "сп «рольф»\n",
      "спб\n",
      "спецбуфет 1 «а»\n",
      "специальная коррекционная общеобр школ. инт 8 105\n",
      "спорт-имидж\n",
      "спорт-кафе\n",
      "спортивно-оздоровительный центр мэи\n",
      "ссср столовая\n",
      "ст шк.176«школьник-юз»\n",
      "ст шк.2013 «школьник-юз»\n",
      "ст.цо 170 школьник-юз\n",
      "ст.шк. 1104 «школьник-юз»\n",
      "ст.шк. 1273 «школьник-юз»\n",
      "ст.шк.103 «школьник-юз»\n",
      "ст.шк.1086 «школьник-юз»\n",
      "ст.шк.113 «школьник-юз»\n",
      "ст.шк.1405 рус.бал.«школьник»\n",
      "ст.шк.17 «школьник-юз»\n",
      "ст.шк.20 «школьник-юз»\n",
      "ст.шк.49«школьник-юз»\n",
      "ст.шк.793 «школьник-юз»\n",
      "ст.шк.863 «школьник.юз»\n",
      "ст.шк49 «школьник-юз»\n",
      "ст.шк791«школьник-юз»\n",
      "стар догс\n",
      "старая башня\n",
      "старая гавань\n",
      "старая мансарда\n",
      "старина мюллер старина миллер\n",
      "старый батумъ\n",
      "старый город\n",
      "старый егерь\n",
      "статус м\n",
      "стейк-хаус гудман\n",
      "стиль\n",
      "стол. 3-го автобусного парка\n",
      "стол. при гимназии № 1573\n",
      "стол. при го сош № 219\n",
      "стол. при го цо № 166\n",
      "стол. при го цо №1430\n",
      "стол. при гоу сош № 1051\n",
      "стол. при гоу сош № 1416\n",
      "стол. при гоу сош № 655\n",
      "стол. при гоу сош №. 266\n",
      "стол. при гоу сош №1122\n",
      "стол. при гоу сош №206\n",
      "стол. при прогимназии № 1819\n",
      "стол. при шк. 1370\n",
      "стол. при шк. 305\n",
      "стол. при шк. 967\n",
      "стол. при шк. гоу сош №1449\n",
      "стол. шк. 1213\n",
      "стол. шк. 1454\n",
      "стол. шк. 163\n",
      "стол. шк. 216\n",
      "стол. шк. 218\n",
      "стол. шк. 929\n",
      "стол. шк.207\n",
      "стол.шк.1121гуп«школьное питание»\n",
      "стол.шк.1983гуп «школьное питание»\n",
      "стол.шк.244 кшп«логарифм»\n",
      "стол.шк.272 кшп«логарифм»\n",
      "стол.шк.885\n",
      "стол.шк.n183 гуп«школьное питание»\n",
      "стол.шк.n208 гуп«школьное питание»\n",
      "стол.шк.n656 кшп«логарифм»\n",
      "стол.шк.n849 гуп«школьное питание»\n",
      "стол.школы 1592 кшп «логарифм»\n",
      "столичное питание\n",
      "столичные аптеки\n",
      "столичный донер\n",
      "столовая\n",
      "столовая ( асоу)\n",
      "столовая (гбоу «школа № 281»)\n",
      "столовая (гбоу «школа №1095»)\n",
      "столовая (гбоу «школа №1558 имени росалии де кастро»)\n",
      "столовая (гбоу «школа №1558имени росалии де кастро»)\n",
      "столовая (гбоу «школа №281»)\n",
      "столовая (гбпоу «1-ый мок»)\n",
      "столовая - гум карачарово\n",
      "столовая - доготовочная при гоу лицей 1568\n",
      "столовая - кантинасити\n",
      "столовая 1-й этаж фгуп ттц «останкино»\n",
      "столовая 11 комбинат питания мгу\n",
      "столовая 16 при рудн\n",
      "столовая 18 оро мосвоенторг\n",
      "столовая 2 этаж фгуп ртрс\n",
      "столовая 5\n",
      "столовая 5 комбинат питания при мгу\n",
      "столовая 8\n",
      "столовая le cafe\n",
      "столовая n 17 при нии автоматики\n",
      "столовая «аркада»\n",
      "столовая «буфет&обед»\n",
      "столовая «грабли»\n",
      "столовая «союз»\n",
      "столовая автокомбинат луч\n",
      "столовая автокомбината\n",
      "столовая академии мчс россии\n",
      "столовая ао «ркоф»\n",
      "столовая ао госниип\n",
      "столовая баловень\n",
      "столовая бц «ультрамарин»\n",
      "столовая в медицинской академии им. и.м. сеченова\n",
      "столовая в префектуре\n",
      "столовая вниси\n",
      "столовая гаудо «домисолька»\n",
      "столовая гбоу «курчатовская школа»\n",
      "столовая гбоу школа № 293 им. а.т. твардовского\n",
      "столовая гбоу города москвы № 1195\n",
      "столовая гбоу города москвы № 1400\n",
      "столовая гбоу города москвы № 384\n",
      "столовая гбоу города москвы № 391\n",
      "столовая гбоу города москвы № 587\n",
      "столовая гбоу города москвы № 809\n",
      "столовая гбпоу зкно\n",
      "столовая гбпоу мтк\n",
      "столовая генштаба\n",
      "столовая гимназии 1516\n",
      "столовая гимназии 1526\n",
      "столовая главного центра спецсвязи\n",
      "столовая гоу сош № 499\n",
      "столовая гуз\n",
      "столовая гуп «мосгортранс» 6-го троллейбусного парка\n",
      "столовая деметра\n",
      "столовая для персонала\n",
      "столовая для сотрудников ниц им. и.а.сеченова\n",
      "столовая завода стройпрогресс\n",
      "столовая зеленоградстрой\n",
      "столовая института проблем механики\n",
      "столовая квант\n",
      "столовая колледж 46\n",
      "столовая колледжа 23 индустрии гостеприимства и\n",
      "столовая колорит кадетского корпуса № 1783\n",
      "столовая колорит школа 287\n",
      "столовая колорит школа 304\n",
      "столовая колорит школа № 1220\n",
      "столовая колорит школа № 1415\n",
      "столовая компонент\n",
      "столовая мгпу\n",
      "столовая миолста\n",
      "столовая миэт\n",
      "столовая московский гуманитарный университет\n",
      "столовая мосэнергосбыт\n",
      "столовая на территории «автобаза ильинское»\n",
      "столовая нии тп\n",
      "столовая оао «аркона»\n",
      "столовая оао нпо «химавтоматика»\n",
      "столовая оао хк «электрозавод»\n",
      "столовая овк «экополис» n 1080\n",
      "столовая ооо «компас групп рус»\n",
      "столовая ооо коникс-школьник\n",
      "столовая политехнического колледжа № 50\n",
      "столовая при автодорожном колледже\n",
      "столовая при автосалоне «автомир»\n",
      "столовая при ао внииэто\n",
      "столовая при атомэнергопроекте\n",
      "столовая при военторгбаз фкп «5113цтзб»\n",
      "столовая при гбоу школа № 1503\n",
      "столовая при гимназии мпс рф\n",
      "столовая при гимназии № 1572\n",
      "столовая при гмпу «радуга»\n",
      "столовая при гоу гимназии № 1562\n",
      "столовая при гоу гимназии № 1566\n",
      "столовая при гоу лицее № 1547\n",
      "столовая при гоу сош № 1040\n",
      "столовая при гоу сош № 1043\n",
      "столовая при гоу сош № 1049\n",
      "столовая при гоу сош № 1141\n",
      "столовая при гоу сош № 1142\n",
      "столовая при гоу сош № 1145\n",
      "столовая при гоу сош № 1147\n",
      "столовая при гоу сош № 1319\n",
      "столовая при гоу сош № 1357\n",
      "столовая при гоу сош № 1458\n",
      "столовая при гоу сош № 1716\n",
      "столовая при гоу сош № 1780\n",
      "столовая при гоу сош № 1881\n",
      "столовая при гоу сош № 1902\n",
      "столовая при гоу сош № 1904\n",
      "столовая при гоу сош № 1910\n",
      "столовая при гоу сош № 1934\n",
      "столовая при гоу сош № 1959\n",
      "столовая при гоу сош № 1965\n",
      "столовая при гоу сош № 1967\n",
      "столовая при гоу сош № 1968\n",
      "столовая при гоу сош № 1989\n",
      "столовая при гоу сош № 495\n",
      "столовая при гоу сош № 590\n",
      "столовая при гоу спец. школе-интернате 20\n",
      "столовая при гоу спо ксу-29 училище\n",
      "столовая при гоу цо 491\n",
      "столовая при гоу цо № 1423\n",
      "столовая при гоу цо № 1462\n",
      "столовая при гоу цо № 1493\n",
      "столовая при гоу цо № 491\n",
      "столовая при гоу эшвсм «северный»\n",
      "столовая при гу спо технологический колледж №28\n",
      "столовая при гуп объединенный комбинат школьного питания\n",
      "столовая при доме-пансионате ветеранов науки\n",
      "столовая при жби\n",
      "столовая при з-де мэмрз\n",
      "столовая при заводе сатурн\n",
      "столовая при зао «кузьминское»\n",
      "столовая при институте\n",
      "столовая при институте им. пушкина\n",
      "столовая при кадетской школе\n",
      "столовая при кбтм\n",
      "столовая при колледжах №№ 12,124\n",
      "столовая при колледже метростроя №53\n",
      "столовая при лицее 1537\n",
      "столовая при мгпу\n",
      "столовая при мгсу\n",
      "столовая при медицинском колледже № 4\n",
      "столовая при ммгп «мосгаз» буфет\n",
      "столовая при моск. кардолентной ф-ке\n",
      "столовая при московском коледже железнодорожного транспорта\n",
      "столовая при московском колледже градостроительства\n",
      "столовая при московском электромеханическом колледже №55\n",
      "столовая при мост-банке\n",
      "столовая при музыкальном институте им. а.г. шнитке\n",
      "столовая при московском эндокринном заводе\n",
      "столовая при нииаа им. семенихина\n",
      "столовая при ну акушерства и гинекологии\n",
      "столовая при оао «звездный»\n",
      "столовая при оао «калибр»\n",
      "столовая при оао «калибровский завод»\n",
      "столовая при оао «хибинский 16»\n",
      "столовая при оао мосгипротранс\n",
      "столовая при пансионате для ветеранов труда n 31\n",
      "столовая при пансионате для ветеранов труда n 6\n",
      "столовая при полиграфическом колледже\n",
      "столовая при политехническом колледже n13\n",
      "столовая при рдкб на ленинском\n",
      "столовая при реабилитационном центре\n",
      "столовая при рнц «курчатовский институт»\n",
      "столовая при соцжилдоме\n",
      "столовая при сп мггу\n",
      "столовая при спортивно-педагогическом колледже\n",
      "столовая при ст. товарная-ярославская\n",
      "столовая при строительном колледже n12\n",
      "столовая при тэц-8\n",
      "столовая при увд сзао\n",
      "столовая при упки мосгортепло\n",
      "столовая при упп-11 вос\n",
      "столовая при управлении судебного департамента\n",
      "столовая при финансовой академии\n",
      "столовая при художественно-педагогическом колледже технологии идизайна\n",
      "столовая при цкб тяжелого машиностроения\n",
      "столовая при цсо\n",
      "столовая при цсио «самбо 70»\n",
      "столовая при шк. 1380\n",
      "столовая при шк. 274\n",
      "столовая при шк. 276\n",
      "столовая при шк. 283\n",
      "столовая при шк. 290\n",
      "столовая при шк. 753\n",
      "столовая при шк. 756\n",
      "столовая при шк. 951\n",
      "столовая при шк. 967\n",
      "столовая при шк. n139\n",
      "столовая при шк. n1412\n",
      "столовая при шк. n1413\n",
      "столовая при шк. n1682\n",
      "столовая при шк. n180\n",
      "столовая при шк. n195\n",
      "столовая при шк. n241\n",
      "столовая при шк. n245\n",
      "столовая при шк. n249\n",
      "столовая при шк. n254\n",
      "столовая при шк. n255\n",
      "столовая при шк. n332\n",
      "столовая при шк. n388\n",
      "столовая при шк. n755\n",
      "столовая при шк. n758\n",
      "столовая при шк. n953\n",
      "столовая при шк. n954\n",
      "столовая при шк. n960\n",
      "столовая при шк. n964\n",
      "столовая при шк. лотос\n",
      "столовая при шк. надежда\n",
      "столовая при шк.1311\n",
      "столовая при школе 121\n",
      "столовая при школе 1494\n",
      "столовая при школе 1494 (2)\n",
      "столовая при школе 1494 (3)\n",
      "столовая при школе 278\n",
      "столовая при школе 296\n",
      "столовая при электродном заводе\n",
      "столовая пригоу сош № 1959\n",
      "столовая раздат. от филёв. авт. парка\n",
      "столовая рггу\n",
      "столовая соц.дом.\n",
      "столовая спецшкола 9\n",
      "столовая структурного подразделения №3 гбоу школы 814\n",
      "столовая структурное подразделение № 1 гбоу школа 814\n",
      "столовая структурное подразделение №4 гбоу школа 2025\n",
      "столовая структурное подразделение №4 школа 814\n",
      "столовая тмп n 20\n",
      "столовая тэц 12\n",
      "столовая уипимса\n",
      "столовая фгбоу во «ргсу»\n",
      "столовая фгпу усст 2\n",
      "столовая финансовой академии при правительстве рф\n",
      "столовая центр переливания крови\n",
      "столовая центра «зубаревский»\n",
      "столовая циам им.баранова\n",
      "столовая цо 504 полюс\n",
      "столовая центр психолого-педагогической реабилитации и коррекции\n",
      "столовая шк 1468\n",
      "столовая шк 480\n",
      "столовая шк 498\n",
      "столовая шк № 1445\n",
      "столовая шк №1694\n",
      "столовая шк. 1020\n",
      "столовая шк. 107\n",
      "столовая шк. 1106\n",
      "столовая шк. 1108\n",
      "столовая шк. 1206\n",
      "столовая шк. 125\n",
      "столовая шк. 1280\n",
      "столовая шк. 1534\n",
      "столовая шк. 156\n",
      "столовая шк. 18\n",
      "столовая шк. 200\n",
      "столовая шк. 27\n",
      "столовая шк. 4\n",
      "столовая шк. 625\n",
      "столовая шк. 693\n",
      "столовая шк. 780\n",
      "столовая шк. 790\n",
      "столовая шк.108\n",
      "столовая шк.1103\n",
      "столовая шк.1107\n",
      "столовая шк.1693\n",
      "столовая шк.498\n",
      "столовая шк.765\n",
      "столовая шк.789\n",
      "столовая шк.794\n",
      "столовая шк.862\n",
      "столовая шк.864\n",
      "столовая школа 1248\n",
      "столовая школа 14\n",
      "столовая школа 14 (598)\n",
      "столовая школа 1485\n",
      "столовая школа 1485 (созвездие)\n",
      "столовая школа 1543\n",
      "столовая школа 1741\n",
      "столовая школа 261\n",
      "столовая школа 262\n",
      "столовая школа 571\n",
      "столовая школа 58\n",
      "столовая школа 71\n",
      "столовая школа 712\n",
      "столовая школа 73\n",
      "столовая школа 79\n",
      "столовая школа 803\n",
      "столовая школа 804\n",
      "столовая школа 843\n",
      "столовая школа 843 (812)\n",
      "столовая школа 875\n",
      "столовая школа 875 (807)\n",
      "столовая школа 97\n",
      "столовая школа 98\n",
      "столовая школа 99\n",
      "столовая школа «уна»\n",
      "столовая школа структурное подразделение №2 гбоу школы 2025\n",
      "столовая школы 1171\n",
      "столовая школы 1178\n",
      "столовая школы 1232\n",
      "столовая школы 1245\n",
      "столовая школы 1254\n",
      "столовая школы 1301\n",
      "столовая школы 1465\n",
      "столовая школы 1513\n",
      "столовая школы 376\n",
      "столовая школы 380\n",
      "столовая школы 392\n",
      "столовая школы 429\n",
      "столовая школы 433\n",
      "столовая школы 434\n",
      "столовая школы 549\n",
      "столовая школы 552\n",
      "столовая школы 56\n",
      "столовая школы 650\n",
      "столовая школы 657\n",
      "столовая школы 67\n",
      "столовая школы 688\n",
      "столовая школы 710\n",
      "столовая школы 811\n",
      "столовая школы 859\n",
      "столовая школы 881\n",
      "столовая школы 900\n",
      "столовая школы 901\n",
      "столовая школы 91\n",
      "столовая школы 924\n",
      "столовая школы № 1378\n",
      "столовая школы № 2044\n",
      "столовая школы № 709\n",
      "столовая школы850\n",
      "столовая школы932\n",
      "столовая на пермской\n",
      "столовая при «люкс»\n",
      "столовая при автокомбинате № 12\n",
      "столовая при вниижт\n",
      "столовая при вузе\n",
      "столовая при гбоу школа № 1539\n",
      "столовая при гбоу школа № 293 им. а.т. твардовского\n",
      "столовая при гимназии № 1756\n",
      "столовая при колледже художественных ремесел № 59\n",
      "столовая при лицее 1795 корпус № 373\n",
      "столовая при лицее 1795 корпус № 835\n",
      "столовая при мггэи\n",
      "столовая при мгппу\n",
      "столовая при мгу\n",
      "столовая при микояновском мясокомбинате\n",
      "столовая при оао «мосавто»\n",
      "столовая при оао док-3\n",
      "столовая при ооо «природоведение и школа»\n",
      "столовая при ооо «центркнига»\n",
      "столовая при тэц-23\n",
      "столовая при ц с п с и д доверие\n",
      "столовая при цо 1246 корпус № 1035\n",
      "столовая при цо 1246 корпус № 1246\n",
      "столовая при цсо раменки\n",
      "столовая при колледже № 21\n",
      "столовая при кс мосфильм\n",
      "столовая при общежитии мгу\n",
      "столовая при офисном центре\n",
      "столовая спец.база атп-3 мосводоканал\n",
      "столовая структурного подразделения №3 гбоу школы 2025\n",
      "столовая структурное подразделение №2 школа 814\n",
      "столовая структурное подразделение №5 школы 814\n",
      "столовая школа 1118\n",
      "столовая школа 1448\n",
      "столовая школа 1498\n",
      "столовая школа 1941\n",
      "столовая школа 29\n",
      "столовая школа 37\n",
      "столовая школа 38\n",
      "столовая школа 74\n",
      "столовая школа «наши традиции»\n",
      "столовая школы 1119\n",
      "столовая школы 12\n",
      "столовая школы 1214\n",
      "столовая школы 1306\n",
      "столовая школы 1434\n",
      "столовая № 17\n",
      "столовая №19\n",
      "столовая-буфет\n",
      "столовая-доготовочная при гимназии № 1577\n",
      "столовая-доготовочная при лицее «разум»\n",
      "столовая-доготовочная при шк. 1038\n",
      "столовая-доготовочная при шк. 1482\n",
      "столовая-доготовочная при шк. 233\n",
      "столовая-доготовочная при шк. 46\n",
      "столовая-доготовочная при шк. 611\n",
      "столовая-доготовочная при шк. 956\n",
      "столовая-доготовочная при школе 1094\n",
      "столовая-доготовочная при школе 1096\n",
      "столовая-доготовочная при школе 1099\n",
      "столовая-доготовочная при школе 1100\n",
      "столовая-доготовочная при школе 1137\n",
      "столовая-доготовочная при школе 1374\n",
      "столовая-доготовочная при школе 1414\n",
      "столовая-доготовочная при школе 750\n",
      "столовая-доготовочная при школе 752\n",
      "столовая-доготовочная при школе 760\n",
      "столовая-доготовочная при школе № 1956\n",
      "столовая-доготовочная при школе № 237\n",
      "столовая-доготовочная при школе-интернате\n",
      "столовая-доготовочная школы № 259\n",
      "столовая-доготовочная школы-интерната № 16\n",
      "столовая-раздаточная при шк. 1237\n",
      "столовая-раздаточная при шк. 285\n",
      "столовая-раздаточная при шк. 289\n",
      "столовая-раздаточная при шк. 300\n",
      "столовая-раздаточная при шк. 307\n",
      "столовая-раздаточная при шк. 957\n",
      "стоовая мгу интернат\n",
      "сторм-д\n",
      "строительный колледж\n",
      "строительный колледж 30\n",
      "стройтехника 9\n",
      "студиорум\n",
      "суздаль\n",
      "сумоист\n",
      "сумосан\n",
      "суп\n",
      "суши\n",
      "суши love\n",
      "суши shop\n",
      "суши store\n",
      "суши wok\n",
      "суши бар\n",
      "суши вок\n",
      "суши магия\n",
      "суши маки\n",
      "суши маркет\n",
      "суши стоп\n",
      "суши стор\n",
      "суши фэктори экспресс\n",
      "суши шоп\n",
      "суши-бар\n",
      "суши-бар «там-там»\n",
      "суши-сет\n",
      "сушипицца\n",
      "сушисет\n",
      "сущевский дворик\n",
      "сыроварня\n",
      "сэ сян вэй\n",
      "сэлтинс\n",
      "саамо\n",
      "сабвей subway\n",
      "сабвей сушивок\n",
      "сабвэй\n",
      "саби\n",
      "сабкафе\n",
      "сабрина\n",
      "савеловский парк\n",
      "савинков игорь юрьевич\n",
      "савой\n",
      "садко\n",
      "сажа\n",
      "сайда лтд\n",
      "сайкло\n",
      "салам алейкум\n",
      "саламури\n",
      "салат бар\n",
      "салат-бар eva\n",
      "салаты\n",
      "салаты выпечка\n",
      "салли о брайенс\n",
      "сам пришел\n",
      "сам-ам\n",
      "самарканд-сити\n",
      "самналей\n",
      "самовар\n",
      "самородинов сергей александрович\n",
      "самса\n",
      "самса 24\n",
      "самса гриль шаурма 24 от души\n",
      "самса хаус\n",
      "самса № 1\n",
      "самса № 3\n",
      "самсахана\n",
      "сан-саныч\n",
      "санапиро караоке\n",
      "сандал\n",
      "сармат\n",
      "сатва\n",
      "сатурн-шб-3\n",
      "сахалин\n",
      "сахар\n",
      "сахар. кафе-ресторан\n",
      "сахара\n",
      "саяны\n",
      "саят нова\n",
      "сбарро\n",
      "сбыт-р\n",
      "сварня\n",
      "свежевыжатые соки\n",
      "светлый\n",
      "светское кафе\n",
      "свинья и роза\n",
      "свобода\n",
      "свобода бар\n",
      "свои\n",
      "свой ключ\n",
      "своя тема\n",
      "свояк\n",
      "севгелим\n",
      "север\n",
      "север-юг\n",
      "сегодня мидии\n",
      "сегодня суши\n",
      "седьмой элемент\n",
      "сезоны\n",
      "селдасъел\n",
      "сели поели\n",
      "сели-поели\n",
      "селфипицца\n",
      "семейная кондитерская «beze»\n",
      "семейное антикафе белый кролик\n",
      "семейное кафе\n",
      "семейное кафе «polianto»\n",
      "семейное кафе андерсон\n",
      "семейное кафе счастье есть\n",
      "семейное кафе ути-пути\n",
      "семейное кафе и кондитерская «андерсон»\n",
      "семейный очаг\n",
      "семейный ресторан «космик»\n",
      "семь красавиц\n",
      "семь летучих рыб\n",
      "семь пятниц\n",
      "сенси кафе\n",
      "сербская мясара\n",
      "серебряный век\n",
      "сесто сенсо\n",
      "сестры\n",
      "сеть магазинов «суши wok»\n",
      "сеть пекарен трдельник\n",
      "сибилла\n",
      "сибириада\n",
      "сибирская кухня «некрайний север»\n",
      "сибирь сибирь\n",
      "сижу курю\n",
      "сикварули\n",
      "сильвер панда\n",
      "син-чао\n",
      "сингапур\n",
      "синдбад\n",
      "синдикат 2016\n",
      "синий медведь\n",
      "синкопа\n",
      "синяя река\n",
      "сирена\n",
      "сирень\n",
      "систерс\n",
      "сити\n",
      "сити кафе\n",
      "сити лайф-голден гейт\n",
      "сити пицца\n",
      "сити ресторантс\n",
      "сити гриль шаурма\n",
      "сити кафе сова\n",
      "сказка\n",
      "сказка бутово\n",
      "сказка востока\n",
      "скай кальян-бар\n",
      "скай кофе\n",
      "скуратов кофе\n",
      "слава\n",
      "славянпродукт\n",
      "сладкая вата\n",
      "сладкая вата, попкорн\n",
      "сладкое нескладкое\n",
      "сладкомания\n",
      "сладости и радости\n",
      "следующая станция сокол\n",
      "слепой пью\n",
      "сливки\n",
      "сливки и общество\n",
      "служебная столовая\n",
      "смайл\n",
      "смак фуд корт\n",
      "смог бургер\n",
      "смок хаус\n",
      "смок-1\n",
      "смокпоинт\n",
      "смородина\n",
      "смузи бар уголок полезные продукты\n",
      "смузи бар\n",
      "смузи&хлеб\n",
      "смузи-бар «ешь фрукт»\n",
      "со своим\n",
      "со-со\n",
      "сова\n",
      "совет в филях\n",
      "советская столовая «печки-лавочки»\n",
      "советские времена\n",
      "советские времена чебуречная ссср\n",
      "советские пончики\n",
      "современная гуманитарная академия\n",
      "соки\n",
      "соки, выпечка\n",
      "сокол\n",
      "соколиная охота\n",
      "солнечный очаг\n",
      "солнце плаза\n",
      "солнце в тарелке\n",
      "солнцевский замок\n",
      "соло караоке клуб\n",
      "соломка\n",
      "соль\n",
      "соль и мясо\n",
      "сольфасоль\n",
      "солёная карамель\n",
      "сомбреро\n",
      "сон менделеева\n",
      "сонг\n",
      "сопрано караоке\n",
      "соседи\n",
      "сосны\n",
      "соти эл\n",
      "сотниченко е.а\n",
      "сотоловая академия экономики и права\n",
      "софра\n",
      "соцбытсервис\n",
      "социальное питание центр\n",
      "союз вкуса\n",
      "спасский\n",
      "спектр\n",
      "спеттаколо\n",
      "спецбуфет 7\n",
      "специализированный цех вито-1\n",
      "специализированный цех магнолия\n",
      "спорт бар групп\n",
      "спорт бар\n",
      "спорт-бар\n",
      "спорт-бар «допинг»\n",
      "спорт-бар «космик»\n",
      "спорт-бар «торнадо»\n",
      "спорт-бар «фортуна»\n",
      "спорт-бар гладиатор\n",
      "спорт-бар империя\n",
      "спортбар\n",
      "спортбар №1\n",
      "среда\n",
      "ст\n",
      "стадион спартаковец\n",
      "сталовая «фазанчик»\n",
      "стамбул\n",
      "станция савеловская\n",
      "стархит кафе\n",
      "стара юга\n",
      "старая европа\n",
      "старая усадьба\n",
      "старбагс\n",
      "старбакс\n",
      "старбакс starbucks\n",
      "старбакс кофе\n",
      "стардаст кофе-кофе с собой\n",
      "стардогs\n",
      "стардогs и шаурма\n",
      "стардогс\n",
      "стардогс стардогs\n",
      "старик кутабыч\n",
      "старик и море\n",
      "старина миллер\n",
      "старый баку\n",
      "старый сычуань\n",
      "старый ханой\n",
      "старый чинар\n",
      "старый дворик\n",
      "статус\n",
      "стейк хаус «бизон»\n",
      "стейк хаус гудман\n",
      "стейк и пинта\n",
      "стейкс\n",
      "стейкхаус «бизон»\n",
      "стендап\n",
      "стерео пипл\n",
      "стильавто\n",
      "стой и свети\n",
      "столешников\n",
      "столица\n",
      "столичное бистро\n",
      "столичные чебуреки\n",
      "столичный паб\n",
      "столова «гбоу школа №852»\n",
      "столова молмаш\n",
      "столовая (автосалон)\n",
      "столовая (университет им. косыгина)\n",
      "столовая (закрытое)\n",
      "столовая (налоговая)\n",
      "столовая - буфет при цатра\n",
      "столовая - ргау-мсха им. к.а. тимирязева\n",
      "столовая 1350\n",
      "столовая 1404\n",
      "столовая 1420-1\n",
      "столовая 16-й корпус\n",
      "столовая 1908\n",
      "столовая 1909\n",
      "столовая 1922\n",
      "столовая 1935\n",
      "столовая 1937\n",
      "столовая 1а\n",
      "столовая 24 часа\n",
      "столовая 326\n",
      "столовая 328\n",
      "столовая 355\n",
      "столовая 894\n",
      "столовая 895\n",
      "столовая arcus\n",
      "столовая mfc foods\n",
      "столовая pro\n",
      "столовая good meal\n",
      "столовая «arcus bar and food»\n",
      "столовая «cafetera»\n",
      "столовая «cantina city»\n",
      "столовая «just kitchen»\n",
      "столовая «анокпумгкэит»\n",
      "столовая «апельсин»\n",
      "столовая «арт-столовая»\n",
      "столовая «вниихт»\n",
      "столовая «ватрушка»\n",
      "столовая «вижн»\n",
      "столовая «вкусно поесть»\n",
      "столовая «гала пицца»\n",
      "столовая «гбоу сош 1158»\n",
      "столовая «гбоу сош 1179»\n",
      "столовая «гбоу сош 1623»\n",
      "столовая «гбоу сош 851»\n",
      "столовая «гбоу сош 856»\n",
      "столовая «гбоу спо технологический колледж №34 сп №3»\n",
      "столовая «гбоу школа № 1692»\n",
      "столовая «гбоу школа №1692»\n",
      "столовая «гбоу школа №718»\n",
      "столовая «гбоу школа №852»\n",
      "столовая «гбоу школа №853»\n",
      "столовая «гбоу гимназия №1528»\n",
      "столовая «гкб им. с.п. боткина»\n",
      "столовая «го сош № 1133»\n",
      "столовая «го сош № 1371»\n",
      "столовая «го сош № 63»\n",
      "столовая «го сош № 713»\n",
      "столовая «гоу сош № 1127»\n",
      "столовая «гоу сош № 2017 кдп»\n",
      "столовая «гоу сош №1718»\n",
      "столовая «гоу сош №1748»\n",
      "столовая «гоу сош №1749»\n",
      "столовая «гоу сош №2033»\n",
      "столовая «гоу сош №343»\n",
      "столовая «гоу сош №349»\n",
      "столовая «гоу сош №360»\n",
      "столовая «гоу сош №399»\n",
      "столовая «гоу сош №619»\n",
      "столовая «гоу сош №708»\n",
      "столовая «гоу спо политехнический колледж № 31»\n",
      "столовая «гуп орс метрополитен»\n",
      "столовая «гимназия № 1593»\n",
      "столовая «гостиница мзп»\n",
      "столовая «гринлондон»\n",
      "столовая «дежене»\n",
      "столовая «диетическая столовая комбината питания космос»\n",
      "столовая «ешка»\n",
      "столовая «жить веселей»\n",
      "столовая «иноти»\n",
      "столовая «кп хлебосол»\n",
      "столовая «кантина»\n",
      "столовая «кастрюлька»\n",
      "столовая «колледж 32»\n",
      "столовая «колледж №20»\n",
      "столовая «комбинат питания космос»\n",
      "столовая «комбинат питания цб рф»\n",
      "столовая «компотик»\n",
      "столовая «коникс школьник»\n",
      "столовая «коникс-школьник»\n",
      "столовая «ланч холл»\n",
      "столовая «леметр фск»\n",
      "столовая «лицей 1151 кдп»\n",
      "столовая «мгавт»\n",
      "столовая «мгюа им. кутафина»\n",
      "столовая «мосинжстрой»\n",
      "столовая «мпо металлист»\n",
      "столовая «миг»\n",
      "столовая «московская международная киношкола»\n",
      "столовая «московский индустриальный банк»\n",
      "столовая «московский психолого-педагогический колледж»\n",
      "столовая «московский школьник»\n",
      "столовая «нии стали»\n",
      "столовая «норма»\n",
      "столовая «ооо вито-1»\n",
      "столовая «оп мгу кп мгу столовая 12»\n",
      "столовая «потенциал»\n",
      "столовая «протон»\n",
      "столовая «профессиональный лицей 313»\n",
      "столовая «педагогический институт»\n",
      "столовая «полисервис-мзп»\n",
      "столовая «правда»\n",
      "столовая «примус»\n",
      "столовая «прогимназия №1520»\n",
      "столовая «рестлайн-север»\n",
      "столовая «рабочая»\n",
      "столовая «столовая №3 при гкнпц им.хруничева м.в»\n",
      "столовая «столовая №5 оооп мгту банка россии»\n",
      "столовая «свет»\n",
      "столовая «славянская трапеза»\n",
      "столовая «сова»\n",
      "столовая «спецмонтажмеханизация»\n",
      "столовая «спорткомплекс борисово»\n",
      "столовая «столовая при гпз - 3»\n",
      "столовая «столовая»\n",
      "столовая «тарелка»\n",
      "столовая «текстильная академия»\n",
      "столовая «торг. оборуд. и инвентарь»\n",
      "столовая «тринта»\n",
      "столовая «у иваныча»\n",
      "столовая «увд»\n",
      "столовая «университет дружбы народов»\n",
      "столовая «фламинго»\n",
      "столовая «фуд про»\n",
      "столовая «хлебозавод-28»\n",
      "столовая «цо «чертаново» спорт-школа»\n",
      "столовая «цо № 1130»\n",
      "столовая «цо № 1440»\n",
      "столовая «цо № 1471»\n",
      "столовая «цо №1450 «комбинат дошкольного питания»\n",
      "столовая «центра социальной защиты»\n",
      "столовая «школа 1580 кдп»\n",
      "столовая «школа 1263»\n",
      "столовая «школа 166»\n",
      "столовая «школа 2000 кдп»\n",
      "столовая «школа 566»\n",
      "столовая «школа 630»\n",
      "столовая «школа 639»\n",
      "столовая «школа 981 кдп»\n",
      "столовая «школа 982 кдп»\n",
      "столовая «школа 983 кдп»\n",
      "столовая «школьная»\n",
      "столовая «щи-борщи\n",
      "столовая «элма»\n",
      "столовая академии федеральной пограничной службы россии\n",
      "столовая альянс\n",
      "столовая бабурова и.н.\n",
      "столовая бирпарк (малышев в.а.)\n",
      "столовая бц интеграл\n",
      "столовая вгтрк\n",
      "столовая вниинефть\n",
      "столовая вэи им.ленина\n",
      "столовая время еды\n",
      "столовая гаоу во мгпу\n",
      "столовая гбоу 45 гимназия имени л.и. мильграмма\n",
      "столовая гбоу «немецкая школа № 1212»\n",
      "столовая гбоу впо мгпу института естествознаний и спортивных технологий\n",
      "столовая гбоу гимназия № 1552\n",
      "столовая гбоу курчатовская школа\n",
      "столовая гбоу прогимназия № 1736\n",
      "столовая гбоу сош 991 2\n",
      "столовая гбоу сош № 1190\n",
      "столовая гбоу сош № 1191\n",
      "столовая гбоу сош № 1286\n",
      "столовая гбоу сош № 1358\n",
      "столовая гбоу сош № 1538\n",
      "столовая гбоу сош № 1544\n",
      "столовая гбоу сош № 1564\n",
      "столовая гбоу сош № 1571\n",
      "столовая гбоу сош № 1747\n",
      "столовая гбоу сош № 1900\n",
      "столовая гбоу сош № 1944\n",
      "столовая гбоу сош № 534\n",
      "столовая гбоу сош № 827\n",
      "столовая гбоу сош № 871\n",
      "столовая гбоу сош № 883\n",
      "столовая гбоу сош № 893\n",
      "столовая гбоу сош № 945\n",
      "столовая гбоу сош № 980\n",
      "столовая гбоу сош № 985\n",
      "столовая гбоу сош № 995\n",
      "столовая гбоу сош №1286\n",
      "столовая гбоу сош №1399\n",
      "столовая гбоу сош №1571\n",
      "столовая гбоу сош №1651\n",
      "столовая гбоу сош №827\n",
      "столовая гбоу сош №833\n",
      "столовая гбоу сош №883\n",
      "столовая гбоу цо № 1433\n",
      "столовая гбоу цо № 936\n",
      "столовая гбоу цо № 943 «школа здоровья»\n",
      "столовая гбоу школа № 109\n",
      "столовая гбоу школа № 1101 здание 1.1\n",
      "столовая гбоу школа № 1101 здание 1.3\n",
      "столовая гбоу школа № 1101 здание 2.1\n",
      "столовая гбоу школа № 1298\n",
      "столовая гбоу школа № 138\n",
      "столовая гбоу школа № 1387\n",
      "столовая гбоу школа № 1507 корпус школьного образования № 1507\n",
      "столовая гбоу школа № 1507 корпус школьного образования № 865\n",
      "столовая гбоу школа № 1507 корпус школьного образования № 930\n",
      "столовая гбоу школа № 1515\n",
      "столовая гбоу школа № 1517\n",
      "столовая гбоу школа № 1522 имени в.и.чуркина\n",
      "столовая гбоу школа № 1532 здание 1\n",
      "столовая гбоу школа № 1532 здание 2\n",
      "столовая гбоу школа № 1532 здание 3\n",
      "столовая гбоу школа № 1532 здание 4\n",
      "столовая гбоу школа № 1560 «лидер»\n",
      "столовая гбоу школа № 1985\n",
      "столовая гбоу школа № 2005\n",
      "столовая гбоу школа № 51\n",
      "столовая гбоу школа №1373\n",
      "столовая гбоу коррекционная средняя общеобразовательная школа 4 вида № 418\n",
      "столовая гбоу школа № 1373\n",
      "столовая гбоу школа № 1476\n",
      "столовая гбоу школа № 1502 при мэи\n",
      "столовая гбоу школа № 1504\n",
      "столовая гбоу школа № 922\n",
      "столовая гбоу школа №1476\n",
      "столовая гбоушкола № 922\n",
      "столовая гбпоу «колледж полиции»\n",
      "столовая гбпоу «мгтк имени л.а.филатова»\n",
      "столовая гбпоу «мтк»\n",
      "столовая гбпоу колледж гостеприимства и менеджмента № 23\n",
      "столовая гбпоу колледж железнодорожного и городского транспорта\n",
      "столовая гбпоу пк № 18\n",
      "столовая гбпоу скисиг\n",
      "столовая гну виэсх\n",
      "столовая госнииас\n",
      "столовая гоу 1083\n",
      "столовая гоу 1084\n",
      "столовая гоу 1907\n",
      "столовая гоу 398\n",
      "столовая гоу 436\n",
      "столовая гоу камс №17\n",
      "столовая гоу клп №24\n",
      "столовая гоу сош №1563\n",
      "столовая гуп «мосгортранс»\n",
      "столовая гуцэи им. м.н. румянцева\n",
      "столовая гимназии № 1576 корпус 3\n",
      "столовая гимназии № 1576 корпус 4\n",
      "столовая гимназии № 1576 корпус 5\n",
      "столовая головинского суда\n",
      "столовая голос\n",
      "столовая гранат\n",
      "столовая дск-1\n",
      "столовая домашние обеды\n",
      "столовая жаровня.офис\n",
      "столовая инт.30\n",
      "столовая ип завацкий е.а.\n",
      "столовая информ - транзит\n",
      "столовая кухня\n",
      "столовая клюква\n",
      "столовая клёнфуд\n",
      "столовая колледж сферы услуг № 10 подразделение № 4\n",
      "столовая колледжа железнодорожного и городского транспорта\n",
      "столовая колледжа легкой промышленности\n",
      "столовая кулинария\n",
      "столовая лмк\n",
      "столовая лиц. 342\n",
      "столовая маи\n",
      "столовая мвд рф (закрытое)\n",
      "столовая мгпу факультета психологии\n",
      "столовая мгтс\n",
      "столовая мгуп им. ивана федорова\n",
      "столовая миг\n",
      "столовая мит\n",
      "столовая мосгоргеотрест\n",
      "столовая мотэк\n",
      "столовая мпо имени и. румянцева\n",
      "столовая мпэк рэу им. г.в. плеханова\n",
      "столовая мтуси\n",
      "столовая муц еэс\n",
      "столовая мфк\n",
      "столовая мади\n",
      "столовая меридиан\n",
      "столовая москвич\n",
      "столовая московского международного университета\n",
      "столовая нии пластик\n",
      "столовая оао узоры\n",
      "столовая педколледжа №13\n",
      "столовая пельменная\n",
      "столовая политехнического колледжа им. годовикова\n",
      "столовая префектуры сао\n",
      "столовая ргау мсха им. к. а. тимирязева\n",
      "столовая ргау мсха им. к.а. тимирязева\n",
      "столовая ргау-мсха им. к.а. тимирязева\n",
      "столовая роат рут миит\n",
      "столовая рабочая\n",
      "столовая радовать\n",
      "столовая росстройэкспо\n",
      "столовая свеп\n",
      "столовая сош 1029\n",
      "столовая сош 1120\n",
      "столовая сош 1211\n",
      "столовая сош 1296\n",
      "столовая сош 222\n",
      "столовая сош 231\n",
      "столовая ссср\n",
      "столовая спецшколы № 1\n",
      "столовая стар фуд\n",
      "столовая столичная\n",
      "столовая структурного подразделения №5 школы 2025\n",
      "столовая тц «энтузиаст»\n",
      "столовая увк 1601\n",
      "столовая уоо цсбофнпр\n",
      "столовая фаворит моторс\n",
      "столовая фуршет.ру\n",
      "столовая ххi века\n",
      "столовая цо 1402\n",
      "столовая цо 1419\n",
      "столовая цо 1487\n",
      "столовая цо 1678\n",
      "столовая цо сабурово 1828 кдп\n",
      "столовая цо сабурово 1828 кдп- 1\n",
      "столовая цо № 1798\n",
      "столовая шк. 1282\n",
      "столовая шк.1036\n",
      "столовая шк.1282\n",
      "столовая шк.1530\n",
      "столовая шк.1752\n",
      "столовая шк.364\n",
      "столовая шк.369\n",
      "столовая шк.378\n",
      "столовая школа 1738\n",
      "столовая школа 1905\n",
      "столовая школа 537 «комбинат дошкольного питания»\n",
      "столовая школа 84\n",
      "столовая школа 916\n",
      "столовая школа-интернат №15 циркового профиля им. ю.в. никулина для детей, оставшихся без попечения\n",
      "столовая школа № 937\n",
      "столовая школа №937\n",
      "столовая школа №939\n",
      "столовая школы № 939\n",
      "столовая школы № 996\n",
      "столовая школы№ 438\n",
      "столовая школы№ 548\n",
      "столовая в акадо телеком\n",
      "столовая в бц «аннино плаза»\n",
      "столовая в бц «южный парк»\n",
      "столовая в гбуз мо моники им. м.ф. владимирского\n",
      "столовая в деловом центре яуза\n",
      "столовая в тд перовский\n",
      "столовая в тоц олимпик плаза\n",
      "столовая в элит кроус\n",
      "столовая в школе 1150 корп.1609\n",
      "столовая в школе 1150 корп.1632 (ранее школа 1913)\n",
      "столовая в школе 1150 корп.1642 (ранее школа 1940)\n",
      "столовая в школе 1151 корп.1464 (ранее школа 1149)\n",
      "столовая в школе 1151 корп.1468\n",
      "столовая в школе 1151 корп.1469\n",
      "столовая в школе 1194\n",
      "столовая в школе 1194 корп.1530 (ранее школа1740)\n",
      "столовая в школе 1194 корп.1548 (ранее увк 1639)\n",
      "столовая в школе 1739\n",
      "столовая в школе 1912 корп. 1816\n",
      "столовая в школе 1912 ул.2 пятилетка д.18а (ранее школа 229)\n",
      "столовая в школе 2045 корп. 2312\n",
      "столовая в школе 2045 корп.1440 (ранее школа 1702)\n",
      "столовая в школе 2045 корп.1611 (ранее увк 1762)\n",
      "столовая в школе 2045 корп.2011 (ранее школа 2038)\n",
      "столовая в школе № 449\n",
      "столовая высшей школы экономики\n",
      "столовая гимназии 1570\n",
      "столовая гимназии № 1576\n",
      "столовая гимназии № 1576 корпус 1\n",
      "столовая гостиницы «сокол»\n",
      "столовая института мировых цивилизаций\n",
      "столовая кадетской школы 1784\n",
      "столовая колледжа архитектуры и строительства № 7\n",
      "столовая лицея 1550\n",
      "столовая на новых черемушках\n",
      "столовая на базе гбоу школа № 2083. до «журавушка»\n",
      "столовая на базе гбоу школа № 2083. до «ивушка»\n",
      "столовая на базе гбоу школа № 2083. до «остафьево»\n",
      "столовая на базе гбоу школа № 2083. до «росинка»\n",
      "столовая на базе гбоу школа № 2083. до «сказка»\n",
      "столовая на базе гбоу школа № 2083. сп «остафьево»\n",
      "столовая на базе гбоу школа № 2083. сп «родники»\n",
      "столовая на базе гбоу школа №2083. до «семицветик»\n",
      "столовая на базе гбоу школа №2083. сп «ерино»\n",
      "столовая на базе гбоу № 2083. сп «знамя октября»\n",
      "столовая на территории зви\n",
      "столовая пед.колледжа №14\n",
      "столовая пр центре проектного творчества старт-про\n",
      "столовая при 2 автобусном парке\n",
      "столовая при всероссийском заочном финансовом итституте(взфэи)\n",
      "столовая при гбоу «первый московский хоспис им. в.в. миллионщиковой»\n",
      "столовая при гбоу впо «первый мгму им. и.м. сеченова»\n",
      "столовая при гбоу лицей 1535\n",
      "столовая при гбоу лицей 1555\n",
      "столовая при гбоу школа 1231\n",
      "столовая при гбоу школа 1253\n",
      "столовая при гбоу школа 171\n",
      "столовая при гбоу школа 57\n",
      "столовая при гбоу школа № 2075\n",
      "столовая при гбоу города москвы «школа № 1505»\n",
      "столовая при гбпоу пт № 2 (колледж)\n",
      "столовая при гбу тцсо филиал хамовники\n",
      "столовая при гбуз гкб им. с.п. боткина, филиал жк № 12 дзм\n",
      "столовая при гоу сош № 696\n",
      "столовая при гоу сош № 700\n",
      "столовая при гоу сош №1497\n",
      "столовая при гоу сош №72\n",
      "столовая при гоу спо ск №41\n",
      "столовая при гоу цо № 1816\n",
      "столовая при дюсш 1\n",
      "столовая при зао «микояновский мясокомбинат»\n",
      "столовая при маоу «гимназия г. троицка»\n",
      "столовая при маоу «гимназия им. н.в. пушкова»\n",
      "столовая при маоу «лицей города троицка»\n",
      "столовая при маоу нш\n",
      "столовая при маоу сош № 2\n",
      "столовая при маоу сош № 6\n",
      "столовая при мап\n",
      "столовая при мз электропривод\n",
      "столовая при медицинском колледже № 5\n",
      "столовая при ноу школа «ника»\n",
      "столовая при оано оц «лучик»\n",
      "столовая при оао вниист\n",
      "столовая при образовательном комплексе дизайна и технологии\n",
      "столовая при пао «промсвязьбанк»\n",
      "столовая при пао кмз\n",
      "столовая при ргсу\n",
      "столовая при сбербанке\n",
      "столовая при спортивной школе № 29\n",
      "столовая при тд «преображенский»\n",
      "столовая при умц пенсионного фонда рф\n",
      "столовая при фгбоу во мглу\n",
      "столовая при фгбоу во мпгу\n",
      "столовая при фгбоу впо митхт им. м.в. ломоносова\n",
      "столовая при фгбоу впо российской академии народного хозяйства и государственной службы\n",
      "столовая при фгбоуво мпгу\n",
      "столовая при филипповской школе\n",
      "столовая при центре образования «радуга»\n",
      "столовая при центре развития и коррекции\n",
      "столовая при чмпз\n",
      "столовая при чоу «золотое сечение»\n",
      "столовая при шк. 1310 (796)\n",
      "столовая при шк. 1324\n",
      "столовая при шк. 1324 (409)\n",
      "столовая при шк. 1324 (797)\n",
      "столовая при шк. 1342 (795)\n",
      "столовая при шк. 2072\n",
      "столовая при шк. 2093 (783)\n",
      "столовая при шк. 2093 (787)\n",
      "столовая при банковской школе\n",
      "столовая при бизнес-колледже\n",
      "столовая при гимназии 1529 им. а.с. грибоедова\n",
      "столовая при детском доме 48\n",
      "столовая при заводе первый дск\n",
      "столовая при колледже\n",
      "столовая при колледже градостроительства и сервиса № 38\n",
      "столовая при колледже №13\n",
      "столовая при колледже №26\n",
      "столовая при колледже №42\n",
      "столовая при общежитии\n",
      "столовая при общежитии мади\n",
      "столовая при пансионате «коньково» для ветеранов войны\n",
      "столовая при пансионате для ветеранов №19\n",
      "столовая при частной школе «виктория -2000»\n",
      "столовая при школе\n",
      "столовая при школе 1056\n",
      "столовая при школе 1362\n",
      "столовая при школе 1508\n",
      "столовая при школе 1551\n",
      "столовая при школе 2097\n",
      "столовая при школе 351\n",
      "столовая при школе 361\n",
      "столовая при школе 723\n",
      "столовая при школе 734\n",
      "столовая при школе цо увк 1811«измайлово»\n",
      "столовая при школе интернат № 53\n",
      "столовая при школе № 1022\n",
      "столовая при школе № 1297\n",
      "столовая при школе № 1307 (цо тропарево)\n",
      "столовая при школе № 1329 (второе здание)\n",
      "столовая при школе № 1543 (1723)\n",
      "столовая при школе № 1602\n",
      "столовая при школе № 2054\n",
      "столовая при школе № 2107\n",
      "столовая при школе № 542\n",
      "столовая при школе № 647\n",
      "столовая при школе №1297\n",
      "столовая при школе-интернате №8\n",
      "столовая структурного подразделения №1 гбоу школы № 2025\n",
      "столовая театрального колледжа\n",
      "столовая технологического колледжа №14\n",
      "столовая центра образования № 1679\n",
      "столовая циам им баранова\n",
      "столовая школы 1164\n",
      "столовая школы 315\n",
      "столовая школы гбоу «школа 1244»\n",
      "столовая школы гбоу «школа 1288»\n",
      "столовая школы гбоу «школа 148»\n",
      "столовая школы гбоу «школа 686»\n",
      "столовая школы гбоу «школа1287»\n",
      "столовая школы № 1223\n",
      "столовая школы № 1223 отделение № 2\n",
      "столовая школы № 1575\n",
      "столовая школы № 1847\n",
      "столовая школы № 185\n",
      "столовая школы № 601\n",
      "столовая школы № 90\n",
      "столовая школы №152\n",
      "столовая школы №629\n",
      "столовая школы №709\n",
      "столовая № 1\n",
      "столовая № 5 (автохозяйство хозу гувд)\n",
      "столовая № 5 коп банка россии\n",
      "столовая №1\n",
      "столовая №1 ргау-мсха им. к.а. тимирязева\n",
      "столовая №15\n",
      "столовая №21\n",
      "столовая №8, при гкнпц им.хруничева м.в\n",
      "столовая, кулинария\n",
      "столовая-пекарня\n",
      "столовая-пельменная\n",
      "столовая-бар хутор\n",
      "столовая-кулинария\n",
      "столовая1359\n",
      "столовая1420-2\n",
      "столовая№ 1 пицца\n",
      "столовой ргау-мсха им. к.а. тимирязева\n",
      "столовужки\n",
      "столовя автобусный парк №13\n",
      "страдивари\n",
      "страна души\n",
      "страна которой нет\n",
      "стрелка\n",
      "стрит флеш\n",
      "стрит. еда.\n",
      "строгинская гавань\n",
      "строительный колледж № 26 сп 6\n",
      "строительный колледж № 26, сп 2\n",
      "строительный техникум\n",
      "студент (закрытое)\n",
      "студенческое кафе (закрытое)\n",
      "студкафе\n",
      "стумари\n",
      "сувлаки\n",
      "сулико\n",
      "султан\n",
      "сундук\n",
      "суп кафе\n",
      "супкультура\n",
      "сурнэли\n",
      "сухарева башня\n",
      "суши make\n",
      "суши okisushi\n",
      "суши tak amura\n",
      "суши «boofet»\n",
      "суши «зеленая точка»\n",
      "суши «маки экспресс»\n",
      "суши «маки-маки»\n",
      "суши авеню\n",
      "суши бокс\n",
      "суши весла\n",
      "суши кафе кондитерские товары\n",
      "суши лав\n",
      "суши маке\n",
      "суши нори\n",
      "суши пицца вок\n",
      "суши пицца кофе\n",
      "суши ролл №1\n",
      "суши сэн\n",
      "суши сами\n",
      "суши сет\n",
      "суши сёри\n",
      "суши фаст\n",
      "суши фреш\n",
      "суши бар sushi club\n",
      "суши бар «маки-маки»\n",
      "суши маг\n",
      "суши маркет суши град\n",
      "суши маркет тапошими\n",
      "суши пицца « rock&roll»\n",
      "суши с собой\n",
      "суши тун\n",
      "суши тун, хруст pizza, кофе тун\n",
      "суши фиш\n",
      "суши шоп пицца шоп\n",
      "суши, мидии, устрицы\n",
      "суши-порт\n",
      "суши-роллы\n",
      "суши-бар yocoso\n",
      "суши-бар ки-do\n",
      "суши-бар пиццерия милана\n",
      "суши-бар терияки\n",
      "суши-бар эноки ( при гостинице арарат парк хаятт\n",
      "суши-лавка «японский пес»\n",
      "суши-маркет\n",
      "суши-роллы на вынос\n",
      "суши-шоп\n",
      "сушиguru\n",
      "сушиstore\n",
      "сушиwok\n",
      "сушивок\n",
      "сушилав\n",
      "сушимаке\n",
      "сушиман\n",
      "сушистор\n",
      "сушишоп\n",
      "сушибар азия mix\n",
      "сушиед\n",
      "сушимаркет\n",
      "сценарио\n",
      "счастье\n",
      "съестная лавка\n",
      "сырная лавка «бурвиль»\n",
      "сырно вкусно\n",
      "сытая утка\n",
      "сытный лис\n",
      "сыто пьяно\n",
      "сытый гусь\n",
      "сытый лось\n",
      "сэлэнгэ\n",
      "сэндвичи\n",
      "таежный\n",
      "тажинерия\n",
      "тай-тай\n",
      "тайна\n",
      "таку\n",
      "такэ\n",
      "такэ до\n",
      "тамада\n",
      "таможня дает добро\n",
      "тан\n",
      "тандыр\n",
      "тануки\n",
      "татлер клаб\n",
      "ташир пицца\n",
      "тбилиси\n",
      "тд гум «фестивальное» «япония»\n",
      "тд гум «фестивальное» азия\n",
      "тд гум кафе «фестивальное» италия\n",
      "тд гум кафе «фестивальное» картофель\n",
      "тд гум кп кафе «фестивальное» блины\n",
      "тд гум кафе 1 гастроном 1\n",
      "тд гум кафе 2 гастроном 1\n",
      "тд гум кафе фестивальное бар кинозал\n",
      "тд гум бар в столовой\n",
      "тд гум столовая №1\n",
      "тд гумкафе «фестивальное» столовая 57\n",
      "театр корша\n",
      "тема\n",
      "теремок\n",
      "теремок инвест\n",
      "территория ясенево\n",
      "тесто и сыр\n",
      "тефлис\n",
      "техас-чикен\n",
      "техн.колледж смм\n",
      "технологии ресторанного бизнеса\n",
      "технологический колледж № 14\n",
      "ти-бон\n",
      "тибет\n",
      "тимур\n",
      "тинатин\n",
      "тифлисский дворик\n",
      "токио\n",
      "токио вау\n",
      "том тэйлор рус\n",
      "том янг\n",
      "тоторо\n",
      "точка отрыва\n",
      "трактир вагант\n",
      "трактир у тимофееча\n",
      "тратория italian «паста&пицца»\n",
      "траттория\n",
      "трест военных столовых управления минобороны рф\n",
      "триумф\n",
      "труффальдино\n",
      "тукан\n",
      "тцсо чертаново «кдп»\n",
      "тэц 9 энерготорг\n",
      "тэц-11\n",
      "таблица\n",
      "табриз\n",
      "табу бар\n",
      "табу бар вайн\n",
      "таверна\n",
      "таверна ягнёнок\n",
      "тажин\n",
      "тай паттара\n",
      "тайм авеню\n",
      "тайская кухня «том-ям»\n",
      "тайское мороженое, лимонады\n",
      "так сказала моя мама\n",
      "такос донер\n",
      "таксим\n",
      "таксо пицца\n",
      "такуми сан\n",
      "тамаси суши\n",
      "тамерлан\n",
      "тандыр кебаб\n",
      "тандыр хаус\n",
      "тандыр хачапури\n",
      "тандырная № 1\n",
      "тандырница\n",
      "тантаки\n",
      "тап и баррель паб\n",
      "тапки\n",
      "тапчан\n",
      "тарабин\n",
      "тарелка\n",
      "тарелка столовая\n",
      "татарские пироги\n",
      "тбилисо\n",
      "твое кафе\n",
      "твой кофе\n",
      "творческое кафе лето близко\n",
      "театр цдр\n",
      "театрально-концертный зал цдкж\n",
      "тейсти тай\n",
      "телебистро\n",
      "телетай\n",
      "темаки\n",
      "темпл бар\n",
      "темпура\n",
      "теплица\n",
      "терем\n",
      "теремок-инвест\n",
      "террин\n",
      "территориальное структурное подразделение «севастопольское» гбпоу ок «юго-запад»\n",
      "территория\n",
      "территория timbigfamily\n",
      "территория мороженого\n",
      "тесто & сыр\n",
      "техком\n",
      "техно люкс\n",
      "техно-веранда\n",
      "технопарк\n",
      "тещин борщ\n",
      "тиа\n",
      "тин вудман бар\n",
      "типси паб\n",
      "тирольские пироги\n",
      "тирс групп\n",
      "ткемали\n",
      "тлеулесова а.б.\n",
      "то да сё\n",
      "тодасё\n",
      "точтонадо\n",
      "тоже паб\n",
      "токат\n",
      "токмакоff\n",
      "том-ям\n",
      "томи\n",
      "тонгал\n",
      "топхолл\n",
      "торговый дом арамье\n",
      "торро гриль\n",
      "торт хауз\n",
      "торт и кофе\n",
      "тортугас бар\n",
      "точка dzy\n",
      "точка дзы\n",
      "точка кипения\n",
      "точка общественного питания\n",
      "точка продажи готовой еды милти\n",
      "траза-бар (спорт-бар)\n",
      "трактир\n",
      "трактир пушкин\n",
      "трактир на лодочной\n",
      "транзистр паб\n",
      "транзит времени\n",
      "трансоел- компани\n",
      "трапеzа\n",
      "трапеза\n",
      "трапезария марков двор\n",
      "трапезная\n",
      "тратория\n",
      "тратория semplice\n",
      "траттория stefano\n",
      "траттория венеция\n",
      "траттория пепе\n",
      "траттория пане олио\n",
      "траттория примавера\n",
      "траттория семпличе\n",
      "траттория на столешниковом\n",
      "трескать\n",
      "третьяков\n",
      "три обезьяны\n",
      "три правила\n",
      "три сковородки\n",
      "три жирафа\n",
      "три мудреца\n",
      "три перца\n",
      "три ступени\n",
      "три утки\n",
      "трио\n",
      "триумфинвест\n",
      "трое из ларца\n",
      "трын-трава\n",
      "тук-тук\n",
      "тульский дворик\n",
      "турандот\n",
      "турецкая шаурма\n",
      "тутти фрутти\n",
      "тутти и джорни\n",
      "тутти-пицца вертел\n",
      "тэмпл бар\n",
      "тянем-потянем\n",
      "у адама\n",
      "у бурчо\n",
      "у джузеппе\n",
      "у дяди макса\n",
      "у кирилловны\n",
      "у кэти кафе\n",
      "у мангала\n",
      "у михалыча хинкальная №1\n",
      "у николая\n",
      "у пиросмани\n",
      "у русико\n",
      "у сильвы\n",
      "у фонтана\n",
      "угреша\n",
      "узбекистан\n",
      "уито «сервис»\n",
      "ук стратегия управления\n",
      "уличная еда\n",
      "ультра\n",
      "уника 1\n",
      "урбан кофикс раша\n",
      "урюк\n",
      "усадьба\n",
      "усз «минтопэнерго»\n",
      "утро\n",
      "уют\n",
      "уайт харт паб\n",
      "уахтанг\n",
      "угол\n",
      "удон сан\n",
      "узбекская кухня\n",
      "узбекская лавка\n",
      "узбекские блюда\n",
      "узбекское кафе\n",
      "узбечка\n",
      "укроп и кинза\n",
      "укубар\n",
      "укун кафе\n",
      "улетные крылья\n",
      "улисс паб\n",
      "улыбка\n",
      "урарту\n",
      "ургут\n",
      "урожай\n",
      "урюк вавилова\n",
      "усадьба принца\n",
      "усадьба банная\n",
      "успех\n",
      "утёс\n",
      "ухтомская усадьба\n",
      "ухты-пухты\n",
      "уют востока\n",
      "ф-ка госзнак\n",
      "ф-л 17авт.парк. гуп «мосгортранс»\n",
      "фа-соль-ка\n",
      "факультет педагогики мгпу\n",
      "фантоцци рус\n",
      "фаренгейт\n",
      "фарн\n",
      "фарш\n",
      "фатп\n",
      "фаулз\n",
      "фгбу комбинат питания кремлевский\n",
      "фгбу транспортный комбинат россия\n",
      "фгуп «висти»\n",
      "фгуп «мрти ран»\n",
      "фгуп гнпп регион\n",
      "фгуп издательство известия упд рф\n",
      "фгуп международный почтампт\n",
      "фгуп уат минрф по атомной энергии\n",
      "фергана\n",
      "филиал шбс люблино шк. 1041\n",
      "филиал шбс люблино шк. 1085\n",
      "филиал шбс люблино шк. 1146\n",
      "филиал шбс люблино шк. 1256\n",
      "филиал шбс люблино шк. 493\n",
      "филиал шбс люблино шк. 519\n",
      "филиал шбс люблино шк. 773\n",
      "филиал шбс люблино шк. 846\n",
      "филиал шбс люблино шк. 918\n",
      "фипс\n",
      "фирма акварель\n",
      "фирма бит\n",
      "фирма дисконт\n",
      "фирма продинтер\n",
      "фирма раздолье\n",
      "фитнес-бар «wellnes park»\n",
      "фитнес-бар «world class»\n",
      "флоренция\n",
      "фо фа\n",
      "фрайдис\n",
      "французская пекарня\n",
      "фрателли\n",
      "фрателло\n",
      "френдс\n",
      "фреско\n",
      "фреш\n",
      "фреш бар\n",
      "фрэш суши\n",
      "фуда\n",
      "фудмастер\n",
      "фуза\n",
      "фабрика пицца\n",
      "фабрика шаурмы\n",
      "фабрика хлеба\n",
      "фабула\n",
      "фаворит\n",
      "файн фуд\n",
      "фактура бар\n",
      "фанни кабани\n",
      "фантомас\n",
      "фараон\n",
      "фаршбургер\n",
      "фаэтон\n",
      "федеральная сеть кофейных баров coffee way\n",
      "феникс\n",
      "ферма\n",
      "ферма дома\n",
      "фермер буфет\n",
      "фермербуфет\n",
      "фермерская шаурма\n",
      "феста и тесто\n",
      "фидан\n",
      "фиданочка\n",
      "филармония\n",
      "филетто\n",
      "филиал\n",
      "финист\n",
      "финтрейд\n",
      "фитнес бар холдинг\n",
      "фитнес бар «холдинг»\n",
      "фитнес-кафе\n",
      "фиш базар\n",
      "фишерикс\n",
      "фишерия\n",
      "флорентина сити\n",
      "флорентини\n",
      "флориста-бариста\n",
      "фо & ролл\n",
      "фо бо\n",
      "фо ролл\n",
      "фо-бо\n",
      "фобо\n",
      "фон карлос\n",
      "фонбет\n",
      "фортутти\n",
      "форбес\n",
      "форест бар\n",
      "фортуна\n",
      "фрайчикен\n",
      "франклин'с бургер\n",
      "франклинс бургер\n",
      "французская блинная «крепери де пари»\n",
      "французская выпечка\n",
      "французская кондитерская\n",
      "французская кондитерская шантимель «art dessert»\n",
      "французская пекарня delice\n",
      "французская пекарня кофейня бонжур\n",
      "фрегат\n",
      "фрезита пицца\n",
      "френдис\n",
      "френдс. в гостях у моники\n",
      "френч кебаб\n",
      "фреско караоке\n",
      "фреш маркет\n",
      "фреш смуси бар\n",
      "фреш-кафе\n",
      "фрешмаркет77\n",
      "фри бар\n",
      "фридом\n",
      "фриз кейк\n",
      "фрукты и овощи\n",
      "фу сян\n",
      "фуд маркет\n",
      "фуд-бар «грабли»\n",
      "фудсмак\n",
      "фудзи-ко\n",
      "фудкорд\n",
      "фудмаркет. аргашокова о.в.\n",
      "фудмаркет. галичкин\n",
      "фудмаркет. грачева\n",
      "фудмаркет. дмитриев е.н.\n",
      "фудмаркет. дмитриев ю.м.\n",
      "фудмаркет. коноплина е.а,\n",
      "фудмаркет. косорев и ко\n",
      "фудмаркет. магрус\n",
      "фудмаркет. назимов р.в.\n",
      "фудмаркет. орлов в.а.\n",
      "фудмаркет. рогачикова\n",
      "фудмаркет. салпагарова\n",
      "фудмаркет. тардатьян ф.г,\n",
      "фудмаркет. тонорян а.г.\n",
      "фудмаркет. транспортные технологии\n",
      "фудмаркет. шапиро\n",
      "фудмаркет. якубов р.я.\n",
      "фудмаркет. яшечкина\n",
      "фудмаркет.паритова\n",
      "фудмаркет.швыдкой\n",
      "фудпоинт\n",
      "фудсайд\n",
      "фуллхаус\n",
      "фуршет школа\n",
      "фуршет.ру\n",
      "фьюжн\n",
      "фэнтези румс\n",
      "хакi-мун\n",
      "ханой\n",
      "хард рок кафе\n",
      "харт-трейдинг лтд\n",
      "хата lounge\n",
      "хачапури\n",
      "хинкаль палас\n",
      "хинкальная\n",
      "хинкальный дом тбилисо\n",
      "хищnik\n",
      "хлеб насущный\n",
      "хлеб и co\n",
      "хлеб и вино\n",
      "хлебная лавка\n",
      "хозу «минсоцзащиты»\n",
      "хозу «углепроф»\n",
      "хозу минкультуры рф\n",
      "хорошее место\n",
      "халасе\n",
      "халасё wok and beer\n",
      "халва\n",
      "халяль\n",
      "халяль выпечка 24\n",
      "халяль узбекская кухня\n",
      "халяль фуд\n",
      "хан донер\n",
      "хан кебаб\n",
      "хаовейдао\n",
      "харбин\n",
      "харламова л.в.\n",
      "хатимаки\n",
      "хаус бар\n",
      "хач хач хачапури ловкач\n",
      "хачапурoff\n",
      "хачапури молодежная\n",
      "хачапури и вино\n",
      "хачапури, одесса -мама\n",
      "хачапуритверскя\n",
      "хачмас\n",
      "хаят\n",
      "хе пин\n",
      "хет трик\n",
      "хижина\n",
      "хилс\n",
      "хинкала\n",
      "хинкали & хачапури\n",
      "хинкали (грузинская кухня)\n",
      "хинкали gali\n",
      "хинкали gали\n",
      "хинкали пойнт\n",
      "хинкали от души\n",
      "хинкали-gали\n",
      "хинкали-гали\n",
      "хинкалико\n",
      "хинкальнaя\n",
      "хинкальна\n",
      "хинкальная (на м. бирюзова)\n",
      "хинкальная 777\n",
      "хинкальная city\n",
      "хинкальная «кахури»\n",
      "хинкальная батони\n",
      "хинкальная батоно\n",
      "хинкальная виноград\n",
      "хинкальная кахетия\n",
      "хинкальная кинто\n",
      "хинкальная кера\n",
      "хинкальная салхино\n",
      "хинкальная чела\n",
      "хинкальная на арме\n",
      "хинкальная на спасской\n",
      "хинкальная у бехо\n",
      "хинкальная № 1\n",
      "хинкальная №1\n",
      "хинкальная №5\n",
      "хинкальная, пекарня\n",
      "хинкальная.джи\n",
      "хинкальный дом арго\n",
      "хинкальный дом мегобари\n",
      "хинкальный дом\n",
      "хинкальный дом «тбилисо»\n",
      "хинкальный дом колхида\n",
      "хинкальня\n",
      "хинкарули\n",
      "хитрые люди\n",
      "хлеб & мясо\n",
      "хлеб (пекарня)\n",
      "хлеб да калач\n",
      "хлеб да соль\n",
      "хлеб&co\n",
      "хлеб-мясо на углях\n",
      "хлебникофф\n",
      "хлебная затея\n",
      "хлебная лавка перкарня\n",
      "хлебная лавка бородинского\n",
      "хлебница\n",
      "хлебница пекарня\n",
      "хлебничная\n",
      "хлебное место\n",
      "хлебный двор\n",
      "хлебный рай\n",
      "хлебозавод №24 столовая\n",
      "хлебопекарные изделия из тандыра\n",
      "хмели-сунели\n",
      "хмель и солод\n",
      "хмель и эль\n",
      "хмельбург\n",
      "хмельная жаба\n",
      "хмельная келья\n",
      "хмельная печка кафе коптильня\n",
      "хмельная у бороды\n",
      "хокк\n",
      "хон гиль дон\n",
      "хонест\n",
      "хоросан\n",
      "хорошая столовая\n",
      "хорошее дело\n",
      "хорошие знакомые\n",
      "хорошие люди\n",
      "хороший выбор\n",
      "хороший год\n",
      "хот доги\n",
      "хот-дог бар\n",
      "хотдоги\n",
      "хочу на дачу\n",
      "хочу шашлык\n",
      "хуанхэ\n",
      "хукан\n",
      "хумус\n",
      "хуторок\n",
      "царь-пиво\n",
      "цдс дюна\n",
      "центр образования 1858\n",
      "центр образования 1858 школа 334\n",
      "центр павла слободкина\n",
      "центр сервис-л\n",
      "центр социального обеспечения\n",
      "центр социального обслуживания оао «кдп»\n",
      "центральный дом ученых ран\n",
      "цех\n",
      "цим\n",
      "цимус фуд\n",
      "цирк\n",
      "цицинова т.а.\n",
      "цнии связи\n",
      "цниитмаш\n",
      "цнити\n",
      "цо 1409\n",
      "цо 345\n",
      "цо №1450 «комбинат дошкольного питания»\n",
      "цо №504 «комбинат дошкольного питания»\n",
      "црп зеленоград\n",
      "цсо\n",
      "цсо «марфино»\n",
      "цсо зеленоградский\n",
      "цсо солнечный столовая-раздаточная\n",
      "цсо центр социального обслуживания «братеево»\n",
      "цссв «каховские ромашки»\n",
      "царица востока\n",
      "царицынский мясокомбинат\n",
      "царская заимка\n",
      "царские сады\n",
      "центр образования 1865\n",
      "центр паровых коктейлей «time lap»\n",
      "центр плова\n",
      "центр ремесел\n",
      "центр системы питания\n",
      "центрторгпроект\n",
      "центральная станция\n",
      "центральный дом адвоката\n",
      "центрострой\n",
      "церковная столовая\n",
      "цех бортового питания\n",
      "цинандали\n",
      "цинандали хинкальная\n",
      "цитрин\n",
      "цыпа гриль\n",
      "чё чё\n",
      "чайнатаун в китай городе\n",
      "чайхана «наваи»\n",
      "чайхана, пирог хауз\n",
      "чайхона\n",
      "чайхона хурма\n",
      "чайхона №1\n",
      "чайхона.uz\n",
      "часон\n",
      "чача\n",
      "чебуречная\n",
      "чебуречная №7\n",
      "чечевица\n",
      "чип-гео геологический центр\n",
      "чистякова м.м.\n",
      "чито-ра\n",
      "чурчхелла\n",
      "чай и кофе\n",
      "чай+\n",
      "чай, кофе, выпечка\n",
      "чайковский\n",
      "чайна клуб\n",
      "чайная\n",
      "чайная «алхимик»\n",
      "чайная гурия terrace\n",
      "чайная ложка\n",
      "чайная высота\n",
      "чайная и кальянная\n",
      "чайникофф\n",
      "чайный клуб «мойчай.ру»\n",
      "чайный стол( буфет служебной столовой)\n",
      "чайхана\n",
      "чайхана 777\n",
      "чайхана «айва»\n",
      "чайхана «алайский базар»\n",
      "чайхана «баракат»\n",
      "чайхана «бухара»\n",
      "чайхана «манас»\n",
      "чайхана «мантыбар»\n",
      "чайхана «павлин мавлин»\n",
      "чайхана «регистан»\n",
      "чайхана айыл\n",
      "чайхана восток\n",
      "чайхана восток халяль 24\n",
      "чайхана восточная сказка\n",
      "чайхана дружба народов\n",
      "чайхана инжир\n",
      "чайхана каймак\n",
      "чайхана лагман\n",
      "чайхана лаззат\n",
      "чайхана миксмакс\n",
      "чайхана нар\n",
      "чайхана ош\n",
      "чайхана рохат\n",
      "чайхана сезам\n",
      "чайхана тархун\n",
      "чайхана ташкент\n",
      "чайхана ташкент № 1\n",
      "чайхана файзи\n",
      "чайхана халва\n",
      "чайхана шинам\n",
      "чайхана элина\n",
      "чайхана эне-сай\n",
      "чайхана№3\n",
      "чайхона 7-24\n",
      "чайхона for you\n",
      "чайхона foryou\n",
      "чайхона olive\n",
      "чайхона vizir\n",
      "чайхона « в гости»\n",
      "чайхона «барака»\n",
      "чайхона «вкус востока»\n",
      "чайхона «золотой самарканд»\n",
      "чайхона «одно небо»\n",
      "чайхона «самарканд»\n",
      "чайхона айва\n",
      "чайхона алма\n",
      "чайхона баракат\n",
      "чайхона восток\n",
      "чайхона лаззат\n",
      "чайхона о-мад\n",
      "чайхона ором\n",
      "чайхона сунжа\n",
      "чайхона урюк\n",
      "чайхона фаиза\n",
      "чайхона халва\n",
      "чайхона ходжент\n",
      "чайхона тандыр хаус\n",
      "чайхона №1 бутово\n",
      "чак норрис крафт паб\n",
      "чакруло\n",
      "чао пицца\n",
      "чап чак\n",
      "час пик\n",
      "чаудер\n",
      "чача room\n",
      "чашка\n",
      "чвйхана караван\n",
      "чебуреки\n",
      "чебуречная «дружба»\n",
      "чебуречная «советские времена»\n",
      "чебуречная дружба\n",
      "чебуречная ссср\n",
      "чеддер паб\n",
      "человек и пароход\n",
      "челси\n",
      "чемодан\n",
      "чентрале\n",
      "черемуха\n",
      "черемушки кафе при фок\n",
      "черетто\n",
      "черная кошка\n",
      "черновар бар\n",
      "черный какаду\n",
      "черчилль паб\n",
      "честерфилд\n",
      "честная кухня\n",
      "чехов\n",
      "чеченская кухня\n",
      "чешская пивная «козловица»\n",
      "чешская пивная «пилзнер»\n",
      "чешская пивная козловица\n",
      "чешская пивная пилзнер\n",
      "чешская пивница\n",
      "чешский дворик\n",
      "чешский ресторан стражек\n",
      "чи ли сян\n",
      "чи-фань\n",
      "чип\n",
      "чихо\n",
      "чикаго прайм\n",
      "чин чин\n",
      "чинар\n",
      "чинук стейт бар\n",
      "чипсайд\n",
      "чиставто+\n",
      "чито ра\n",
      "чичико\n",
      "чойхана\n",
      "чудо пекарня шаргунь\n",
      "чудо тандыр\n",
      "чудо тандыр донер\n",
      "чудо гриль\n",
      "чудо печка\n",
      "чудо-печка\n",
      "чуковский\n",
      "чё хотэли пили ели\n",
      "шабада\n",
      "шаверма\n",
      "шаляпин\n",
      "шантимель\n",
      "шарлима\n",
      "шаурма\n",
      "шаурма жи\n",
      "шаурма кинг\n",
      "шаурма на углях\n",
      "шаурма, куры-гриль,выпечка\n",
      "шаурма, шашлык\n",
      "шаурма. гриль\n",
      "шафран\n",
      "шашлык-машлык\n",
      "шашлычная\n",
      "шбс «люблино» школа 1996\n",
      "шбс «люблино» школа 473\n",
      "шварц кайзер\n",
      "шварцвальд\n",
      "шейх палас\n",
      "шереметьевский удпрф\n",
      "шеф\n",
      "шикари\n",
      "ширван\n",
      "школа 1055 «кдп»\n",
      "школа 1073 кдп\n",
      "школа 1115\n",
      "школа 1188\n",
      "школа 1205\n",
      "школа 1222\n",
      "школа 1226\n",
      "школа 1228\n",
      "школа 1229\n",
      "школа 1242 «кдп»\n",
      "школа 1242 кдп\n",
      "школа 1270\n",
      "школа 1274\n",
      "школа 1306-частная\n",
      "школа 1321\n",
      "школа 1375 кшп «загорье»\n",
      "школа 1381\n",
      "школа 1444\n",
      "школа 1468\n",
      "школа 1472 кшп «загорье»\n",
      "школа 15\n",
      "школа 1523 «кдп»\n",
      "школа 1527 гимназия «кдп»\n",
      "школа 1569 2 «созвездие»\n",
      "школа 1569 «созвездие»\n",
      "школа 1650\n",
      "школа 1703\n",
      "школа 1710\n",
      "школа 1770\n",
      "школа 1778\n",
      "школа 1806\n",
      "школа 190\n",
      "школа 190 филиал\n",
      "школа 1948\n",
      "школа 2001 «кдп»\n",
      "школа 2016 кшп загорье\n",
      "школа 2045 корп.2031\n",
      "школа 2056\n",
      "школа 2095\n",
      "школа 2104\n",
      "школа 298\n",
      "школа 3\n",
      "школа 415\n",
      "школа 416\n",
      "школа 417\n",
      "школа 420\n",
      "школа 424\n",
      "школа 451\n",
      "школа 463 «кдп»\n",
      "школа 469\n",
      "школа 471\n",
      "школа 481\n",
      "школа 485\n",
      "школа 486\n",
      "школа 492 «кдп»\n",
      "школа 492 оао кдп\n",
      "школа 494 «кдп»\n",
      "школа 498\n",
      "школа 502 «кдп»\n",
      "школа 506\n",
      "школа 507 кдп\n",
      "школа 509\n",
      "школа 510\n",
      "школа 513\n",
      "школа 514\n",
      "школа 514 «кдп»\n",
      "школа 515 «комбинат дошкольного питания»\n",
      "школа 523\n",
      "школа 529\n",
      "школа 530\n",
      "школа 539\n",
      "школа 540 «кдп»\n",
      "школа 543 гуп «школьник»\n",
      "школа 546 «комбинат дошкольного пиания»\n",
      "школа 551 «комбинат дошкольного питания»\n",
      "школа 562\n",
      "школа 567 кшп «загорье»\n",
      "школа 573 «кдп»\n",
      "школа 574 кдп\n",
      "школа 604\n",
      "школа 617\n",
      "школа 618\n",
      "школа 628 «комбинат дошкольного питания»\n",
      "школа 632\n",
      "школа 667 «кдп»\n",
      "школа 675\n",
      "школа 730 гуп «школьник»\n",
      "школа 733\n",
      "школа 735\n",
      "школа 751\n",
      "школа 762\n",
      "школа 763\n",
      "школа 804\n",
      "школа 842\n",
      "школа 878\n",
      "школа 906 кдп\n",
      "школа 927 «кдп»\n",
      "школа 933 «кдп»\n",
      "школа 940 гуп «школьник»\n",
      "школа 978 гуп «школьник»\n",
      "школа n 1955\n",
      "школа аварели андрияки с\n",
      "школа знак\n",
      "школа №1272\n",
      "школа №1466 оао «кдп»\n",
      "школа №868 оао «кдп»\n",
      "школа №869 оао «кдп»\n",
      "школа №870 оао «кдп»\n",
      "школа №904 оао «кдп»\n",
      "школа №982 оао «кдп»\n",
      "школа-интернат 19\n",
      "школа-интернат 25\n",
      "школа-интернат 61\n",
      "школа-интернат 68\n",
      "школьная столовая 1005 1210\n",
      "школьная столовая 92 1210\n",
      "школьная столовая № 1210\n",
      "школьная столовая № 1874\n",
      "школьно- базовый комбинат\n",
      "школьно-базовая столовая колорит гимназ. 1518\n",
      "школьно-базовая столовая колорит школа 1531\n",
      "шоколадница\n",
      "шпатен-хаус\n",
      "шпилька\n",
      "штолле\n",
      "шу-шу\n",
      "шук\n",
      "шабаева александра николаевна\n",
      "шава гриль\n",
      "шава №1 выпечка\n",
      "шаверма - куры гриль\n",
      "шаверма doner master\n",
      "шаверна по питерски\n",
      "шайк бар\n",
      "шалахо\n",
      "шале-кафе\n",
      "шалом бутик свежей еды\n",
      "шампурхаус\n",
      "шампури\n",
      "шампурная\n",
      "шанделир\n",
      "шантэклер\n",
      "шантимель (кондитерские)\n",
      "шантимэль\n",
      "шантри\n",
      "шарден\n",
      "шардени\n",
      "шарманка\n",
      "шарон\n",
      "шатер\n",
      "шато бобров\n",
      "шаурmen\n",
      "шаурма 24\n",
      "шаурма 31\n",
      "шаурма hardy street food\n",
      "шаурма live\n",
      "шаурма «самса №1»\n",
      "шаурма выпечка\n",
      "шаурма кафе 05\n",
      "шаурма культура\n",
      "шаурма тандыр\n",
      "шаурма в пите\n",
      "шаурма в тандырном лаваше\n",
      "шаурма и выпечка\n",
      "шаурма и кафе «самарканд»\n",
      "шаурма куры гриль\n",
      "шаурма на углях- чайхана баракат\n",
      "шаурма на углях-чайхана баракат\n",
      "шаурма разливное пиво\n",
      "шаурма с собой\n",
      "шаурма чебуреки\n",
      "шаурма № 1\n",
      "шаурма №1\n",
      "шаурма&гриль\n",
      "шаурма, выпечка\n",
      "шаурма, куры гриль, выпечка\n",
      "шаурма, куры-гриль\n",
      "шаурма, пекарня\n",
      "шаурма,чебуреки,выпечка\n",
      "шаурма,выпечка, куры-гриль\n",
      "шаурма,пекарня\n",
      "шаурма,пирожки\n",
      "шаурма-24\n",
      "шаурма-чебуреки\n",
      "шаурма-выпечка\n",
      "шаурма-шашлык\n",
      "шаурма. лаваш\n",
      "шаурма24\n",
      "шаурмаroom\n",
      "шаурмания\n",
      "шаурмастер\n",
      "шаурмен\n",
      "шаурмэн\n",
      "шаурум\n",
      "шах-даг\n",
      "шаш бургер\n",
      "шашлык -хаус\n",
      "шашлык 23\n",
      "шашлык люля шаурма\n",
      "шашлык на углях\n",
      "шашлык на углях, люля-кебаб\n",
      "шашлык, пекарня\n",
      "шашлыки шаурма\n",
      "шашлыки. выпечка «doner kebab»\n",
      "шашлыкоff\n",
      "шашлыкофф\n",
      "шашлыкян\n",
      "шашлычок и выпечка\n",
      "шашлычная курдюк\n",
      "шашлычный дворик\n",
      "шашлычный мир\n",
      "шашлычок\n",
      "шашлычок 24\n",
      "шварmeateasy\n",
      "швили\n",
      "шеf пончик\n",
      "шейк шак\n",
      "шейкбери\n",
      "шеки\n",
      "шекспир\n",
      "шелби\n",
      "шепоты и крики\n",
      "шератон\n",
      "шервуд\n",
      "шерлок\n",
      "шеф бургер\n",
      "шеф кебаб & steak\n",
      "шеф хаус\n",
      "шикари иль патио\n",
      "ширин\n",
      "ширин кафе\n",
      "широкую на широкую\n",
      "шиф кафе\n",
      "шиша\n",
      "шишас бар\n",
      "шишка\n",
      "шк-интернат №105\n",
      "шкварка\n",
      "школа\n",
      "школа 1000\n",
      "школа 1001\n",
      "школа 1002\n",
      "школа 1003\n",
      "школа 1004\n",
      "школа 1007\n",
      "школа 1009\n",
      "школа 1011\n",
      "школа 1012\n",
      "школа 1203\n",
      "школа 1204\n",
      "школа 1225\n",
      "школа 1227\n",
      "школа 1247\n",
      "школа 1347\n",
      "школа 1429\n",
      "школа 1621\n",
      "школа 1748\n",
      "школа 1871\n",
      "школа 310\n",
      "школа 320\n",
      "школа 330\n",
      "школа 346\n",
      "школа 353\n",
      "школа 354\n",
      "школа 359\n",
      "школа 414\n",
      "школа 435\n",
      "школа 448\n",
      "школа 613\n",
      "школа 661\n",
      "школа 664\n",
      "школа «№123»\n",
      "школа апогей\n",
      "школа интеллект\n",
      "школа гимназия 1534\n",
      "школа с углубленным изучением отдельных предметов № 1234\n",
      "школа танцев galladance\n",
      "школа № 1\n",
      "школа № 11\n",
      "школа № 120\n",
      "школа № 1249 (доготовочная столовая)\n",
      "школа № 1251 (доготовочная столовая)\n",
      "школа № 1252 (доготовочная столовая)\n",
      "школа № 1257\n",
      "школа № 1260\n",
      "школа № 1265\n",
      "школа № 1266\n",
      "школа № 1279\n",
      "школа № 1285\n",
      "школа № 1384 (доготовочная столовая)\n",
      "школа № 1431\n",
      "школа № 149\n",
      "школа № 162 (доготовочная столовая)\n",
      "школа № 187\n",
      "школа № 192\n",
      "школа № 1948\n",
      "школа № 198\n",
      "школа № 2042\n",
      "школа № 22\n",
      "школа № 25\n",
      "школа № 26\n",
      "школа № 439 ителлект\n",
      "школа № 524\n",
      "школа № 536\n",
      "школа № 538\n",
      "школа № 554\n",
      "школа № 706 (доготовочная столовая)\n",
      "школа № 739 (доготовочная столовая)\n",
      "школа № 820\n",
      "школа № 824\n",
      "школа № 830\n",
      "школа № 830 корпус № 4\n",
      "школа № 834\n",
      "школа №105\n",
      "школа №110\n",
      "школа №124\n",
      "школа №1241\n",
      "школа №1243\n",
      "школа №136\n",
      "школа №2073\n",
      "школа №82\n",
      "школа №83\n",
      "школа №87\n",
      "школа №96\n",
      "школа-интернат №42\n",
      "школа-интернат № 108\n",
      "школы № 1451\n",
      "школьник-юз\n",
      "школьно-базовая столовая\n",
      "шоколад\n",
      "шоколадница кофе хаус\n",
      "шоколадница кофемания\n",
      "шоколадница экспресс\n",
      "шоколадное ателье\n",
      "шотландская клетка\n",
      "штаб пивной бар\n",
      "штирбирлиц\n",
      "штос\n",
      "шумкина 26\n",
      "шурма\n",
      "шурпа\n",
      "шэгги дог\n",
      "шёлковый путь\n",
      "щепка\n",
      "щербакова людмила анатольевна\n",
      "щедрый барин\n",
      "щепка улица\n",
      "щербенко л.а.\n",
      "щербет\n",
      "эzo\n",
      "экле\n",
      "экспедиция\n",
      "эларджи\n",
      "электромеханический колледж 55\n",
      "элион\n",
      "элкат\n",
      "эль гаучо\n",
      "эль инка\n",
      "эль кафе\n",
      "эмма\n",
      "эрвин\n",
      "эристави\n",
      "эскалибур лтд\n",
      "этномир\n",
      "это\n",
      "эфи\n",
      "эвент холл триумф\n",
      "эвоян э.а\n",
      "эгоистка\n",
      "эгриси\n",
      "эдвардз\n",
      "эдельвейс\n",
      "эдем\n",
      "эдоко\n",
      "экипаж\n",
      "эклер\n",
      "эклерка\n",
      "эклерная\n",
      "эко-няма\n",
      "эко-пекарня президент\n",
      "экспериентальное хозяйство кленово-чегодаево\n",
      "экспериментариум кафе\n",
      "экспресс бистро\n",
      "экспресс кафе\n",
      "экспресс-кафе «donar»\n",
      "экспресс-кофейня «werry berry»\n",
      "экспромт\n",
      "экспромт beer & meat\n",
      "экстра виржен\n",
      "электроугли\n",
      "элемент\n",
      "эликсир\n",
      "элит\n",
      "эль гаучито\n",
      "эль россо\n",
      "эль и стаут\n",
      "эльрома\n",
      "эмиратас\n",
      "эмпорио\n",
      "эрик рыжий\n",
      "эскабар\n",
      "эстрада лобби-бар\n",
      "этаж прожект\n",
      "ю-мэ\n",
      "юдиф\n",
      "юлдес-тур\n",
      "югос\n",
      "южане\n",
      "южное\n",
      "южный дворик\n",
      "юкон\n",
      "юнайтед китчен\n",
      "юнион джек\n",
      "юнит\n",
      "юнона\n",
      "юность\n",
      "юрта\n",
      "я люблю суши\n",
      "якитория\n",
      "якитория и спорт бар\n",
      "якорь\n",
      "ямми микс\n",
      "янсон\n",
      "япоша\n",
      "ярославский посад\n",
      "ярс-трейд\n",
      "ясон\n",
      "ясамарканд24\n",
      "яв тай\n",
      "явтай\n",
      "якиманка (закрытое)\n",
      "якитория и ян примус\n",
      "ям ресторантс интернешенл си ай эс\n",
      "ямас\n",
      "ямато\n",
      "ямская поляна-кафе\n",
      "ян примус\n",
      "яндекс еда\n",
      "янис\n",
      "японоитальяна\n",
      "японская кулинария\n",
      "японский пес\n",
      "японский ресторан «ваби-саби»\n",
      "япончик\n",
      "япошкин кот\n",
      "яръ\n",
      "ясмин\n",
      "яуза\n",
      "бар «центральный»\n",
      "бар гостиницы «татьяна»\n",
      "буфет при ммг\n",
      "буфет при школе № 443\n",
      "буфет при школе №1269\n",
      "кафе «бин»\n",
      "кафе «ля ферм»\n",
      "кафе «михайло»\n",
      "кафе «сквознячок»\n",
      "кафе аэробар при павелецком вокзале\n",
      "кафе баловень\n",
      "кафе при кинотеатре\n",
      "лицей 1524\n",
      "пищеблок в хоровой академии\n",
      "ресторан « 5 звезд»\n",
      "ресторан «аллегро»\n",
      "ресторан «гроссбир»\n",
      "ресторан «молли гвинз»\n",
      "ресторан «топаз»\n",
      "ресторан терраса\n",
      "ресторан тверской\n",
      "ресторан гостиницы «татьяна»\n",
      "столовая при ммг\n",
      "столовая при гостинице\n",
      "столовая при школе № 1317\n",
      "столовая при школе № 1329\n",
      "столовая при школе № 406\n",
      "столовая при школе № 422\n",
      "столовая при школе № 423\n",
      "столовая при школе № 635\n",
      "столовая при школе № 672\n",
      "столовая при школе № 782\n",
      "столовая при школе № 788\n",
      "столовая при школе № 920\n",
      "столовая при школе №450\n",
      "школа 1039\n",
      "школа 1143\n",
      "школа 1186\n",
      "школа 1877\n",
      "школа 1986\n",
      "школа 2010\n",
      "школа 2011\n",
      "школа 2012\n",
      "школа 335\n",
      "школа 338\n",
      "школа 393\n",
      "школа 460\n",
      "школа 476\n",
      "школа 772\n",
      "школа 775\n",
      "школа 913\n",
      "школа 919\n"
     ]
    }
   ],
   "source": [
    "# вывод уникальных значений \n",
    "for v in data['object_name'].unique():\n",
    "    print(v)"
   ]
  },
  {
   "cell_type": "code",
   "execution_count": 39,
   "id": "66c4524f",
   "metadata": {},
   "outputs": [],
   "source": [
    "data[data['object_name'] == 'кафе «subway»']['object_name']  = 'сабвей'\n",
    "data[data['object_name'] == 'ресторан «макдоналдс»']['object_name']  = 'макдоналдс'\n",
    "data[data['object_name'] == 'кафе «тануки»']['object_name']  = 'тануки'\n",
    "data[data['object_name'] == 'ресторан «тануки»']['object_name']  = 'тануки'\n",
    "data[data['object_name'] == 'шоколадница кофе хаус']['object_name']  = 'кофе хаус'\n",
    "data[data['object_name'] == 'кофейня «кофе хаус»']['object_name']  = 'кофе хаус'\n",
    "data[data['object_name'] == 'кофе хаус. экспрессо и капучино бар']['object_name']  = 'кофе хаус'\n",
    "data[data['object_name'] == 'кафе «якитория»']['object_name']  = 'якитория'\n",
    "data[data['object_name'] == 'ресторан «бургер кинг»']['object_name']  = 'бургер кинг'\n",
    "data[data['object_name'] == 'иль-патио']['object_name']  = 'иль патио'\n",
    "data[data['object_name'] == 'кафе «папа джонс»']['object_name']  = 'папа джонс'\n",
    "data[data['object_name'] == 'пиццерия «папа джонс»']['object_name']  = 'папа джонс'\n",
    "data[data['object_name'] == 'кофейня «даблби»']['object_name']  = 'даблби'\n",
    "data[data['object_name'] == 'кальянная хука хауз']['object_name']  = 'хука хауз'\n",
    "data[data['object_name'] == 'ресторан «джон джоли»']['object_name']  = 'джон джоли'\n",
    "data[data['object_name'] == 'кафе «шоколадница»']['object_name']  = 'шоколадница'\n",
    "data[data['object_name'] == 'старбакс starbucks']['object_name']  = 'старбакс'\n",
    "data[data['object_name'] == 'starbucks coffee']['object_name']  = 'старбакс'\n",
    "data[data['object_name'] == 'ресторан быстрого питания kfc']['object_name']  = 'kfc'\n",
    "data[data['object_name'] == 'бар мята lounge']['object_name']  = 'мята lounge'\n",
    "data[data['object_name'] == 'мята lounge октябрьская']['object_name']  = 'мята lounge'\n",
    "data[data['object_name'] == 'кальянная «мята lounge»']['object_name']  = 'мята lounge'\n",
    "data[data['object_name'] == 'лаундж-бар «мята lounge»']['object_name']  = 'мята lounge'\n",
    "data[data['object_name'] == 'vanwok ванвок']['object_name']  = 'ванвок'\n",
    "data[data['object_name'] == 'van wok ванвок']['object_name']  = 'ванвок'\n"
   ]
  },
  {
   "cell_type": "markdown",
   "id": "56540c25",
   "metadata": {},
   "source": [
    "## Исследование"
   ]
  },
  {
   "cell_type": "markdown",
   "id": "af306062",
   "metadata": {},
   "source": [
    "### Исследование соотношения видов объектов общественного питания по количеству\n"
   ]
  },
  {
   "cell_type": "code",
   "execution_count": 40,
   "id": "156c6d63",
   "metadata": {},
   "outputs": [
    {
     "data": {
      "text/html": [
       "<div>\n",
       "<style scoped>\n",
       "    .dataframe tbody tr th:only-of-type {\n",
       "        vertical-align: middle;\n",
       "    }\n",
       "\n",
       "    .dataframe tbody tr th {\n",
       "        vertical-align: top;\n",
       "    }\n",
       "\n",
       "    .dataframe thead th {\n",
       "        text-align: right;\n",
       "    }\n",
       "</style>\n",
       "<table border=\"1\" class=\"dataframe\">\n",
       "  <thead>\n",
       "    <tr style=\"text-align: right;\">\n",
       "      <th></th>\n",
       "      <th>object_type</th>\n",
       "      <th>number</th>\n",
       "    </tr>\n",
       "  </thead>\n",
       "  <tbody>\n",
       "    <tr>\n",
       "      <th>0</th>\n",
       "      <td>кафе</td>\n",
       "      <td>6071</td>\n",
       "    </tr>\n",
       "    <tr>\n",
       "      <th>1</th>\n",
       "      <td>столовая</td>\n",
       "      <td>2584</td>\n",
       "    </tr>\n",
       "    <tr>\n",
       "      <th>2</th>\n",
       "      <td>ресторан</td>\n",
       "      <td>2282</td>\n",
       "    </tr>\n",
       "    <tr>\n",
       "      <th>3</th>\n",
       "      <td>предприятие быстрого обслуживания</td>\n",
       "      <td>1898</td>\n",
       "    </tr>\n",
       "    <tr>\n",
       "      <th>4</th>\n",
       "      <td>бар</td>\n",
       "      <td>855</td>\n",
       "    </tr>\n",
       "  </tbody>\n",
       "</table>\n",
       "</div>"
      ],
      "text/plain": [
       "                         object_type  number\n",
       "0                               кафе    6071\n",
       "1                           столовая    2584\n",
       "2                           ресторан    2282\n",
       "3  предприятие быстрого обслуживания    1898\n",
       "4                                бар     855"
      ]
     },
     "execution_count": 40,
     "metadata": {},
     "output_type": "execute_result"
    }
   ],
   "source": [
    "rest_types = (\n",
    "    data.groupby('object_type')\n",
    "    .agg({'id':'nunique'})\n",
    "    .rename(columns={'id':'number'})\n",
    "    .sort_values(by='number',ascending=False)\n",
    "    .reset_index()\n",
    ")\n",
    "rest_types.head()"
   ]
  },
  {
   "cell_type": "code",
   "execution_count": 41,
   "id": "294017a7",
   "metadata": {
    "scrolled": true
   },
   "outputs": [
    {
     "data": {
      "application/vnd.plotly.v1+json": {
       "config": {
        "plotlyServerURL": "https://plot.ly"
       },
       "data": [
        {
         "domain": {
          "x": [
           0,
           1
          ],
          "y": [
           0,
           1
          ]
         },
         "hovertemplate": "object_type=%{label}<br>number=%{value}<extra></extra>",
         "labels": [
          "кафе",
          "столовая",
          "ресторан",
          "предприятие быстрого обслуживания",
          "бар",
          "буфет",
          "кафетерий",
          "закусочная",
          "магазин (отдел кулинарии)"
         ],
         "legendgroup": "",
         "name": "",
         "showlegend": true,
         "type": "pie",
         "values": [
          6071,
          2584,
          2282,
          1898,
          855,
          577,
          395,
          349,
          273
         ]
        }
       ],
       "layout": {
        "legend": {
         "tracegroupgap": 0
        },
        "piecolorway": [
         "rgb(51, 19, 23)",
         "rgb(79, 28, 33)",
         "rgb(108, 36, 36)",
         "rgb(135, 47, 32)",
         "rgb(157, 66, 25)",
         "rgb(174, 88, 20)",
         "rgb(188, 111, 19)",
         "rgb(199, 137, 22)",
         "rgb(209, 164, 32)",
         "rgb(217, 192, 44)",
         "rgb(222, 222, 59)",
         "rgb(224, 253, 74)"
        ],
        "template": {
         "data": {
          "bar": [
           {
            "error_x": {
             "color": "#2a3f5f"
            },
            "error_y": {
             "color": "#2a3f5f"
            },
            "marker": {
             "line": {
              "color": "#E5ECF6",
              "width": 0.5
             },
             "pattern": {
              "fillmode": "overlay",
              "size": 10,
              "solidity": 0.2
             }
            },
            "type": "bar"
           }
          ],
          "barpolar": [
           {
            "marker": {
             "line": {
              "color": "#E5ECF6",
              "width": 0.5
             },
             "pattern": {
              "fillmode": "overlay",
              "size": 10,
              "solidity": 0.2
             }
            },
            "type": "barpolar"
           }
          ],
          "carpet": [
           {
            "aaxis": {
             "endlinecolor": "#2a3f5f",
             "gridcolor": "white",
             "linecolor": "white",
             "minorgridcolor": "white",
             "startlinecolor": "#2a3f5f"
            },
            "baxis": {
             "endlinecolor": "#2a3f5f",
             "gridcolor": "white",
             "linecolor": "white",
             "minorgridcolor": "white",
             "startlinecolor": "#2a3f5f"
            },
            "type": "carpet"
           }
          ],
          "choropleth": [
           {
            "colorbar": {
             "outlinewidth": 0,
             "ticks": ""
            },
            "type": "choropleth"
           }
          ],
          "contour": [
           {
            "colorbar": {
             "outlinewidth": 0,
             "ticks": ""
            },
            "colorscale": [
             [
              0,
              "#0d0887"
             ],
             [
              0.1111111111111111,
              "#46039f"
             ],
             [
              0.2222222222222222,
              "#7201a8"
             ],
             [
              0.3333333333333333,
              "#9c179e"
             ],
             [
              0.4444444444444444,
              "#bd3786"
             ],
             [
              0.5555555555555556,
              "#d8576b"
             ],
             [
              0.6666666666666666,
              "#ed7953"
             ],
             [
              0.7777777777777778,
              "#fb9f3a"
             ],
             [
              0.8888888888888888,
              "#fdca26"
             ],
             [
              1,
              "#f0f921"
             ]
            ],
            "type": "contour"
           }
          ],
          "contourcarpet": [
           {
            "colorbar": {
             "outlinewidth": 0,
             "ticks": ""
            },
            "type": "contourcarpet"
           }
          ],
          "heatmap": [
           {
            "colorbar": {
             "outlinewidth": 0,
             "ticks": ""
            },
            "colorscale": [
             [
              0,
              "#0d0887"
             ],
             [
              0.1111111111111111,
              "#46039f"
             ],
             [
              0.2222222222222222,
              "#7201a8"
             ],
             [
              0.3333333333333333,
              "#9c179e"
             ],
             [
              0.4444444444444444,
              "#bd3786"
             ],
             [
              0.5555555555555556,
              "#d8576b"
             ],
             [
              0.6666666666666666,
              "#ed7953"
             ],
             [
              0.7777777777777778,
              "#fb9f3a"
             ],
             [
              0.8888888888888888,
              "#fdca26"
             ],
             [
              1,
              "#f0f921"
             ]
            ],
            "type": "heatmap"
           }
          ],
          "heatmapgl": [
           {
            "colorbar": {
             "outlinewidth": 0,
             "ticks": ""
            },
            "colorscale": [
             [
              0,
              "#0d0887"
             ],
             [
              0.1111111111111111,
              "#46039f"
             ],
             [
              0.2222222222222222,
              "#7201a8"
             ],
             [
              0.3333333333333333,
              "#9c179e"
             ],
             [
              0.4444444444444444,
              "#bd3786"
             ],
             [
              0.5555555555555556,
              "#d8576b"
             ],
             [
              0.6666666666666666,
              "#ed7953"
             ],
             [
              0.7777777777777778,
              "#fb9f3a"
             ],
             [
              0.8888888888888888,
              "#fdca26"
             ],
             [
              1,
              "#f0f921"
             ]
            ],
            "type": "heatmapgl"
           }
          ],
          "histogram": [
           {
            "marker": {
             "pattern": {
              "fillmode": "overlay",
              "size": 10,
              "solidity": 0.2
             }
            },
            "type": "histogram"
           }
          ],
          "histogram2d": [
           {
            "colorbar": {
             "outlinewidth": 0,
             "ticks": ""
            },
            "colorscale": [
             [
              0,
              "#0d0887"
             ],
             [
              0.1111111111111111,
              "#46039f"
             ],
             [
              0.2222222222222222,
              "#7201a8"
             ],
             [
              0.3333333333333333,
              "#9c179e"
             ],
             [
              0.4444444444444444,
              "#bd3786"
             ],
             [
              0.5555555555555556,
              "#d8576b"
             ],
             [
              0.6666666666666666,
              "#ed7953"
             ],
             [
              0.7777777777777778,
              "#fb9f3a"
             ],
             [
              0.8888888888888888,
              "#fdca26"
             ],
             [
              1,
              "#f0f921"
             ]
            ],
            "type": "histogram2d"
           }
          ],
          "histogram2dcontour": [
           {
            "colorbar": {
             "outlinewidth": 0,
             "ticks": ""
            },
            "colorscale": [
             [
              0,
              "#0d0887"
             ],
             [
              0.1111111111111111,
              "#46039f"
             ],
             [
              0.2222222222222222,
              "#7201a8"
             ],
             [
              0.3333333333333333,
              "#9c179e"
             ],
             [
              0.4444444444444444,
              "#bd3786"
             ],
             [
              0.5555555555555556,
              "#d8576b"
             ],
             [
              0.6666666666666666,
              "#ed7953"
             ],
             [
              0.7777777777777778,
              "#fb9f3a"
             ],
             [
              0.8888888888888888,
              "#fdca26"
             ],
             [
              1,
              "#f0f921"
             ]
            ],
            "type": "histogram2dcontour"
           }
          ],
          "mesh3d": [
           {
            "colorbar": {
             "outlinewidth": 0,
             "ticks": ""
            },
            "type": "mesh3d"
           }
          ],
          "parcoords": [
           {
            "line": {
             "colorbar": {
              "outlinewidth": 0,
              "ticks": ""
             }
            },
            "type": "parcoords"
           }
          ],
          "pie": [
           {
            "automargin": true,
            "type": "pie"
           }
          ],
          "scatter": [
           {
            "marker": {
             "colorbar": {
              "outlinewidth": 0,
              "ticks": ""
             }
            },
            "type": "scatter"
           }
          ],
          "scatter3d": [
           {
            "line": {
             "colorbar": {
              "outlinewidth": 0,
              "ticks": ""
             }
            },
            "marker": {
             "colorbar": {
              "outlinewidth": 0,
              "ticks": ""
             }
            },
            "type": "scatter3d"
           }
          ],
          "scattercarpet": [
           {
            "marker": {
             "colorbar": {
              "outlinewidth": 0,
              "ticks": ""
             }
            },
            "type": "scattercarpet"
           }
          ],
          "scattergeo": [
           {
            "marker": {
             "colorbar": {
              "outlinewidth": 0,
              "ticks": ""
             }
            },
            "type": "scattergeo"
           }
          ],
          "scattergl": [
           {
            "marker": {
             "colorbar": {
              "outlinewidth": 0,
              "ticks": ""
             }
            },
            "type": "scattergl"
           }
          ],
          "scattermapbox": [
           {
            "marker": {
             "colorbar": {
              "outlinewidth": 0,
              "ticks": ""
             }
            },
            "type": "scattermapbox"
           }
          ],
          "scatterpolar": [
           {
            "marker": {
             "colorbar": {
              "outlinewidth": 0,
              "ticks": ""
             }
            },
            "type": "scatterpolar"
           }
          ],
          "scatterpolargl": [
           {
            "marker": {
             "colorbar": {
              "outlinewidth": 0,
              "ticks": ""
             }
            },
            "type": "scatterpolargl"
           }
          ],
          "scatterternary": [
           {
            "marker": {
             "colorbar": {
              "outlinewidth": 0,
              "ticks": ""
             }
            },
            "type": "scatterternary"
           }
          ],
          "surface": [
           {
            "colorbar": {
             "outlinewidth": 0,
             "ticks": ""
            },
            "colorscale": [
             [
              0,
              "#0d0887"
             ],
             [
              0.1111111111111111,
              "#46039f"
             ],
             [
              0.2222222222222222,
              "#7201a8"
             ],
             [
              0.3333333333333333,
              "#9c179e"
             ],
             [
              0.4444444444444444,
              "#bd3786"
             ],
             [
              0.5555555555555556,
              "#d8576b"
             ],
             [
              0.6666666666666666,
              "#ed7953"
             ],
             [
              0.7777777777777778,
              "#fb9f3a"
             ],
             [
              0.8888888888888888,
              "#fdca26"
             ],
             [
              1,
              "#f0f921"
             ]
            ],
            "type": "surface"
           }
          ],
          "table": [
           {
            "cells": {
             "fill": {
              "color": "#EBF0F8"
             },
             "line": {
              "color": "white"
             }
            },
            "header": {
             "fill": {
              "color": "#C8D4E3"
             },
             "line": {
              "color": "white"
             }
            },
            "type": "table"
           }
          ]
         },
         "layout": {
          "annotationdefaults": {
           "arrowcolor": "#2a3f5f",
           "arrowhead": 0,
           "arrowwidth": 1
          },
          "autotypenumbers": "strict",
          "coloraxis": {
           "colorbar": {
            "outlinewidth": 0,
            "ticks": ""
           }
          },
          "colorscale": {
           "diverging": [
            [
             0,
             "#8e0152"
            ],
            [
             0.1,
             "#c51b7d"
            ],
            [
             0.2,
             "#de77ae"
            ],
            [
             0.3,
             "#f1b6da"
            ],
            [
             0.4,
             "#fde0ef"
            ],
            [
             0.5,
             "#f7f7f7"
            ],
            [
             0.6,
             "#e6f5d0"
            ],
            [
             0.7,
             "#b8e186"
            ],
            [
             0.8,
             "#7fbc41"
            ],
            [
             0.9,
             "#4d9221"
            ],
            [
             1,
             "#276419"
            ]
           ],
           "sequential": [
            [
             0,
             "#0d0887"
            ],
            [
             0.1111111111111111,
             "#46039f"
            ],
            [
             0.2222222222222222,
             "#7201a8"
            ],
            [
             0.3333333333333333,
             "#9c179e"
            ],
            [
             0.4444444444444444,
             "#bd3786"
            ],
            [
             0.5555555555555556,
             "#d8576b"
            ],
            [
             0.6666666666666666,
             "#ed7953"
            ],
            [
             0.7777777777777778,
             "#fb9f3a"
            ],
            [
             0.8888888888888888,
             "#fdca26"
            ],
            [
             1,
             "#f0f921"
            ]
           ],
           "sequentialminus": [
            [
             0,
             "#0d0887"
            ],
            [
             0.1111111111111111,
             "#46039f"
            ],
            [
             0.2222222222222222,
             "#7201a8"
            ],
            [
             0.3333333333333333,
             "#9c179e"
            ],
            [
             0.4444444444444444,
             "#bd3786"
            ],
            [
             0.5555555555555556,
             "#d8576b"
            ],
            [
             0.6666666666666666,
             "#ed7953"
            ],
            [
             0.7777777777777778,
             "#fb9f3a"
            ],
            [
             0.8888888888888888,
             "#fdca26"
            ],
            [
             1,
             "#f0f921"
            ]
           ]
          },
          "colorway": [
           "#636efa",
           "#EF553B",
           "#00cc96",
           "#ab63fa",
           "#FFA15A",
           "#19d3f3",
           "#FF6692",
           "#B6E880",
           "#FF97FF",
           "#FECB52"
          ],
          "font": {
           "color": "#2a3f5f"
          },
          "geo": {
           "bgcolor": "white",
           "lakecolor": "white",
           "landcolor": "#E5ECF6",
           "showlakes": true,
           "showland": true,
           "subunitcolor": "white"
          },
          "hoverlabel": {
           "align": "left"
          },
          "hovermode": "closest",
          "mapbox": {
           "style": "light"
          },
          "paper_bgcolor": "white",
          "plot_bgcolor": "#E5ECF6",
          "polar": {
           "angularaxis": {
            "gridcolor": "white",
            "linecolor": "white",
            "ticks": ""
           },
           "bgcolor": "#E5ECF6",
           "radialaxis": {
            "gridcolor": "white",
            "linecolor": "white",
            "ticks": ""
           }
          },
          "scene": {
           "xaxis": {
            "backgroundcolor": "#E5ECF6",
            "gridcolor": "white",
            "gridwidth": 2,
            "linecolor": "white",
            "showbackground": true,
            "ticks": "",
            "zerolinecolor": "white"
           },
           "yaxis": {
            "backgroundcolor": "#E5ECF6",
            "gridcolor": "white",
            "gridwidth": 2,
            "linecolor": "white",
            "showbackground": true,
            "ticks": "",
            "zerolinecolor": "white"
           },
           "zaxis": {
            "backgroundcolor": "#E5ECF6",
            "gridcolor": "white",
            "gridwidth": 2,
            "linecolor": "white",
            "showbackground": true,
            "ticks": "",
            "zerolinecolor": "white"
           }
          },
          "shapedefaults": {
           "line": {
            "color": "#2a3f5f"
           }
          },
          "ternary": {
           "aaxis": {
            "gridcolor": "white",
            "linecolor": "white",
            "ticks": ""
           },
           "baxis": {
            "gridcolor": "white",
            "linecolor": "white",
            "ticks": ""
           },
           "bgcolor": "#E5ECF6",
           "caxis": {
            "gridcolor": "white",
            "linecolor": "white",
            "ticks": ""
           }
          },
          "title": {
           "x": 0.05
          },
          "xaxis": {
           "automargin": true,
           "gridcolor": "white",
           "linecolor": "white",
           "ticks": "",
           "title": {
            "standoff": 15
           },
           "zerolinecolor": "white",
           "zerolinewidth": 2
          },
          "yaxis": {
           "automargin": true,
           "gridcolor": "white",
           "linecolor": "white",
           "ticks": "",
           "title": {
            "standoff": 15
           },
           "zerolinecolor": "white",
           "zerolinewidth": 2
          }
         }
        },
        "title": {
         "text": "Cоотношения видов объектов общественного питания по количеству"
        }
       }
      },
      "text/html": [
       "<div>                            <div id=\"230c6257-ba3d-42c4-92d5-ac419b491661\" class=\"plotly-graph-div\" style=\"height:525px; width:100%;\"></div>            <script type=\"text/javascript\">                require([\"plotly\"], function(Plotly) {                    window.PLOTLYENV=window.PLOTLYENV || {};                                    if (document.getElementById(\"230c6257-ba3d-42c4-92d5-ac419b491661\")) {                    Plotly.newPlot(                        \"230c6257-ba3d-42c4-92d5-ac419b491661\",                        [{\"domain\":{\"x\":[0.0,1.0],\"y\":[0.0,1.0]},\"hovertemplate\":\"object_type=%{label}<br>number=%{value}<extra></extra>\",\"labels\":[\"\\u043a\\u0430\\u0444\\u0435\",\"\\u0441\\u0442\\u043e\\u043b\\u043e\\u0432\\u0430\\u044f\",\"\\u0440\\u0435\\u0441\\u0442\\u043e\\u0440\\u0430\\u043d\",\"\\u043f\\u0440\\u0435\\u0434\\u043f\\u0440\\u0438\\u044f\\u0442\\u0438\\u0435 \\u0431\\u044b\\u0441\\u0442\\u0440\\u043e\\u0433\\u043e \\u043e\\u0431\\u0441\\u043b\\u0443\\u0436\\u0438\\u0432\\u0430\\u043d\\u0438\\u044f\",\"\\u0431\\u0430\\u0440\",\"\\u0431\\u0443\\u0444\\u0435\\u0442\",\"\\u043a\\u0430\\u0444\\u0435\\u0442\\u0435\\u0440\\u0438\\u0439\",\"\\u0437\\u0430\\u043a\\u0443\\u0441\\u043e\\u0447\\u043d\\u0430\\u044f\",\"\\u043c\\u0430\\u0433\\u0430\\u0437\\u0438\\u043d (\\u043e\\u0442\\u0434\\u0435\\u043b \\u043a\\u0443\\u043b\\u0438\\u043d\\u0430\\u0440\\u0438\\u0438)\"],\"legendgroup\":\"\",\"name\":\"\",\"showlegend\":true,\"values\":[6071,2584,2282,1898,855,577,395,349,273],\"type\":\"pie\"}],                        {\"template\":{\"data\":{\"bar\":[{\"error_x\":{\"color\":\"#2a3f5f\"},\"error_y\":{\"color\":\"#2a3f5f\"},\"marker\":{\"line\":{\"color\":\"#E5ECF6\",\"width\":0.5},\"pattern\":{\"fillmode\":\"overlay\",\"size\":10,\"solidity\":0.2}},\"type\":\"bar\"}],\"barpolar\":[{\"marker\":{\"line\":{\"color\":\"#E5ECF6\",\"width\":0.5},\"pattern\":{\"fillmode\":\"overlay\",\"size\":10,\"solidity\":0.2}},\"type\":\"barpolar\"}],\"carpet\":[{\"aaxis\":{\"endlinecolor\":\"#2a3f5f\",\"gridcolor\":\"white\",\"linecolor\":\"white\",\"minorgridcolor\":\"white\",\"startlinecolor\":\"#2a3f5f\"},\"baxis\":{\"endlinecolor\":\"#2a3f5f\",\"gridcolor\":\"white\",\"linecolor\":\"white\",\"minorgridcolor\":\"white\",\"startlinecolor\":\"#2a3f5f\"},\"type\":\"carpet\"}],\"choropleth\":[{\"colorbar\":{\"outlinewidth\":0,\"ticks\":\"\"},\"type\":\"choropleth\"}],\"contour\":[{\"colorbar\":{\"outlinewidth\":0,\"ticks\":\"\"},\"colorscale\":[[0.0,\"#0d0887\"],[0.1111111111111111,\"#46039f\"],[0.2222222222222222,\"#7201a8\"],[0.3333333333333333,\"#9c179e\"],[0.4444444444444444,\"#bd3786\"],[0.5555555555555556,\"#d8576b\"],[0.6666666666666666,\"#ed7953\"],[0.7777777777777778,\"#fb9f3a\"],[0.8888888888888888,\"#fdca26\"],[1.0,\"#f0f921\"]],\"type\":\"contour\"}],\"contourcarpet\":[{\"colorbar\":{\"outlinewidth\":0,\"ticks\":\"\"},\"type\":\"contourcarpet\"}],\"heatmap\":[{\"colorbar\":{\"outlinewidth\":0,\"ticks\":\"\"},\"colorscale\":[[0.0,\"#0d0887\"],[0.1111111111111111,\"#46039f\"],[0.2222222222222222,\"#7201a8\"],[0.3333333333333333,\"#9c179e\"],[0.4444444444444444,\"#bd3786\"],[0.5555555555555556,\"#d8576b\"],[0.6666666666666666,\"#ed7953\"],[0.7777777777777778,\"#fb9f3a\"],[0.8888888888888888,\"#fdca26\"],[1.0,\"#f0f921\"]],\"type\":\"heatmap\"}],\"heatmapgl\":[{\"colorbar\":{\"outlinewidth\":0,\"ticks\":\"\"},\"colorscale\":[[0.0,\"#0d0887\"],[0.1111111111111111,\"#46039f\"],[0.2222222222222222,\"#7201a8\"],[0.3333333333333333,\"#9c179e\"],[0.4444444444444444,\"#bd3786\"],[0.5555555555555556,\"#d8576b\"],[0.6666666666666666,\"#ed7953\"],[0.7777777777777778,\"#fb9f3a\"],[0.8888888888888888,\"#fdca26\"],[1.0,\"#f0f921\"]],\"type\":\"heatmapgl\"}],\"histogram\":[{\"marker\":{\"pattern\":{\"fillmode\":\"overlay\",\"size\":10,\"solidity\":0.2}},\"type\":\"histogram\"}],\"histogram2d\":[{\"colorbar\":{\"outlinewidth\":0,\"ticks\":\"\"},\"colorscale\":[[0.0,\"#0d0887\"],[0.1111111111111111,\"#46039f\"],[0.2222222222222222,\"#7201a8\"],[0.3333333333333333,\"#9c179e\"],[0.4444444444444444,\"#bd3786\"],[0.5555555555555556,\"#d8576b\"],[0.6666666666666666,\"#ed7953\"],[0.7777777777777778,\"#fb9f3a\"],[0.8888888888888888,\"#fdca26\"],[1.0,\"#f0f921\"]],\"type\":\"histogram2d\"}],\"histogram2dcontour\":[{\"colorbar\":{\"outlinewidth\":0,\"ticks\":\"\"},\"colorscale\":[[0.0,\"#0d0887\"],[0.1111111111111111,\"#46039f\"],[0.2222222222222222,\"#7201a8\"],[0.3333333333333333,\"#9c179e\"],[0.4444444444444444,\"#bd3786\"],[0.5555555555555556,\"#d8576b\"],[0.6666666666666666,\"#ed7953\"],[0.7777777777777778,\"#fb9f3a\"],[0.8888888888888888,\"#fdca26\"],[1.0,\"#f0f921\"]],\"type\":\"histogram2dcontour\"}],\"mesh3d\":[{\"colorbar\":{\"outlinewidth\":0,\"ticks\":\"\"},\"type\":\"mesh3d\"}],\"parcoords\":[{\"line\":{\"colorbar\":{\"outlinewidth\":0,\"ticks\":\"\"}},\"type\":\"parcoords\"}],\"pie\":[{\"automargin\":true,\"type\":\"pie\"}],\"scatter\":[{\"marker\":{\"colorbar\":{\"outlinewidth\":0,\"ticks\":\"\"}},\"type\":\"scatter\"}],\"scatter3d\":[{\"line\":{\"colorbar\":{\"outlinewidth\":0,\"ticks\":\"\"}},\"marker\":{\"colorbar\":{\"outlinewidth\":0,\"ticks\":\"\"}},\"type\":\"scatter3d\"}],\"scattercarpet\":[{\"marker\":{\"colorbar\":{\"outlinewidth\":0,\"ticks\":\"\"}},\"type\":\"scattercarpet\"}],\"scattergeo\":[{\"marker\":{\"colorbar\":{\"outlinewidth\":0,\"ticks\":\"\"}},\"type\":\"scattergeo\"}],\"scattergl\":[{\"marker\":{\"colorbar\":{\"outlinewidth\":0,\"ticks\":\"\"}},\"type\":\"scattergl\"}],\"scattermapbox\":[{\"marker\":{\"colorbar\":{\"outlinewidth\":0,\"ticks\":\"\"}},\"type\":\"scattermapbox\"}],\"scatterpolar\":[{\"marker\":{\"colorbar\":{\"outlinewidth\":0,\"ticks\":\"\"}},\"type\":\"scatterpolar\"}],\"scatterpolargl\":[{\"marker\":{\"colorbar\":{\"outlinewidth\":0,\"ticks\":\"\"}},\"type\":\"scatterpolargl\"}],\"scatterternary\":[{\"marker\":{\"colorbar\":{\"outlinewidth\":0,\"ticks\":\"\"}},\"type\":\"scatterternary\"}],\"surface\":[{\"colorbar\":{\"outlinewidth\":0,\"ticks\":\"\"},\"colorscale\":[[0.0,\"#0d0887\"],[0.1111111111111111,\"#46039f\"],[0.2222222222222222,\"#7201a8\"],[0.3333333333333333,\"#9c179e\"],[0.4444444444444444,\"#bd3786\"],[0.5555555555555556,\"#d8576b\"],[0.6666666666666666,\"#ed7953\"],[0.7777777777777778,\"#fb9f3a\"],[0.8888888888888888,\"#fdca26\"],[1.0,\"#f0f921\"]],\"type\":\"surface\"}],\"table\":[{\"cells\":{\"fill\":{\"color\":\"#EBF0F8\"},\"line\":{\"color\":\"white\"}},\"header\":{\"fill\":{\"color\":\"#C8D4E3\"},\"line\":{\"color\":\"white\"}},\"type\":\"table\"}]},\"layout\":{\"annotationdefaults\":{\"arrowcolor\":\"#2a3f5f\",\"arrowhead\":0,\"arrowwidth\":1},\"autotypenumbers\":\"strict\",\"coloraxis\":{\"colorbar\":{\"outlinewidth\":0,\"ticks\":\"\"}},\"colorscale\":{\"diverging\":[[0,\"#8e0152\"],[0.1,\"#c51b7d\"],[0.2,\"#de77ae\"],[0.3,\"#f1b6da\"],[0.4,\"#fde0ef\"],[0.5,\"#f7f7f7\"],[0.6,\"#e6f5d0\"],[0.7,\"#b8e186\"],[0.8,\"#7fbc41\"],[0.9,\"#4d9221\"],[1,\"#276419\"]],\"sequential\":[[0.0,\"#0d0887\"],[0.1111111111111111,\"#46039f\"],[0.2222222222222222,\"#7201a8\"],[0.3333333333333333,\"#9c179e\"],[0.4444444444444444,\"#bd3786\"],[0.5555555555555556,\"#d8576b\"],[0.6666666666666666,\"#ed7953\"],[0.7777777777777778,\"#fb9f3a\"],[0.8888888888888888,\"#fdca26\"],[1.0,\"#f0f921\"]],\"sequentialminus\":[[0.0,\"#0d0887\"],[0.1111111111111111,\"#46039f\"],[0.2222222222222222,\"#7201a8\"],[0.3333333333333333,\"#9c179e\"],[0.4444444444444444,\"#bd3786\"],[0.5555555555555556,\"#d8576b\"],[0.6666666666666666,\"#ed7953\"],[0.7777777777777778,\"#fb9f3a\"],[0.8888888888888888,\"#fdca26\"],[1.0,\"#f0f921\"]]},\"colorway\":[\"#636efa\",\"#EF553B\",\"#00cc96\",\"#ab63fa\",\"#FFA15A\",\"#19d3f3\",\"#FF6692\",\"#B6E880\",\"#FF97FF\",\"#FECB52\"],\"font\":{\"color\":\"#2a3f5f\"},\"geo\":{\"bgcolor\":\"white\",\"lakecolor\":\"white\",\"landcolor\":\"#E5ECF6\",\"showlakes\":true,\"showland\":true,\"subunitcolor\":\"white\"},\"hoverlabel\":{\"align\":\"left\"},\"hovermode\":\"closest\",\"mapbox\":{\"style\":\"light\"},\"paper_bgcolor\":\"white\",\"plot_bgcolor\":\"#E5ECF6\",\"polar\":{\"angularaxis\":{\"gridcolor\":\"white\",\"linecolor\":\"white\",\"ticks\":\"\"},\"bgcolor\":\"#E5ECF6\",\"radialaxis\":{\"gridcolor\":\"white\",\"linecolor\":\"white\",\"ticks\":\"\"}},\"scene\":{\"xaxis\":{\"backgroundcolor\":\"#E5ECF6\",\"gridcolor\":\"white\",\"gridwidth\":2,\"linecolor\":\"white\",\"showbackground\":true,\"ticks\":\"\",\"zerolinecolor\":\"white\"},\"yaxis\":{\"backgroundcolor\":\"#E5ECF6\",\"gridcolor\":\"white\",\"gridwidth\":2,\"linecolor\":\"white\",\"showbackground\":true,\"ticks\":\"\",\"zerolinecolor\":\"white\"},\"zaxis\":{\"backgroundcolor\":\"#E5ECF6\",\"gridcolor\":\"white\",\"gridwidth\":2,\"linecolor\":\"white\",\"showbackground\":true,\"ticks\":\"\",\"zerolinecolor\":\"white\"}},\"shapedefaults\":{\"line\":{\"color\":\"#2a3f5f\"}},\"ternary\":{\"aaxis\":{\"gridcolor\":\"white\",\"linecolor\":\"white\",\"ticks\":\"\"},\"baxis\":{\"gridcolor\":\"white\",\"linecolor\":\"white\",\"ticks\":\"\"},\"bgcolor\":\"#E5ECF6\",\"caxis\":{\"gridcolor\":\"white\",\"linecolor\":\"white\",\"ticks\":\"\"}},\"title\":{\"x\":0.05},\"xaxis\":{\"automargin\":true,\"gridcolor\":\"white\",\"linecolor\":\"white\",\"ticks\":\"\",\"title\":{\"standoff\":15},\"zerolinecolor\":\"white\",\"zerolinewidth\":2},\"yaxis\":{\"automargin\":true,\"gridcolor\":\"white\",\"linecolor\":\"white\",\"ticks\":\"\",\"title\":{\"standoff\":15},\"zerolinecolor\":\"white\",\"zerolinewidth\":2}}},\"legend\":{\"tracegroupgap\":0},\"title\":{\"text\":\"C\\u043e\\u043e\\u0442\\u043d\\u043e\\u0448\\u0435\\u043d\\u0438\\u044f \\u0432\\u0438\\u0434\\u043e\\u0432 \\u043e\\u0431\\u044a\\u0435\\u043a\\u0442\\u043e\\u0432 \\u043e\\u0431\\u0449\\u0435\\u0441\\u0442\\u0432\\u0435\\u043d\\u043d\\u043e\\u0433\\u043e \\u043f\\u0438\\u0442\\u0430\\u043d\\u0438\\u044f \\u043f\\u043e \\u043a\\u043e\\u043b\\u0438\\u0447\\u0435\\u0441\\u0442\\u0432\\u0443\"},\"piecolorway\":[\"rgb(51, 19, 23)\",\"rgb(79, 28, 33)\",\"rgb(108, 36, 36)\",\"rgb(135, 47, 32)\",\"rgb(157, 66, 25)\",\"rgb(174, 88, 20)\",\"rgb(188, 111, 19)\",\"rgb(199, 137, 22)\",\"rgb(209, 164, 32)\",\"rgb(217, 192, 44)\",\"rgb(222, 222, 59)\",\"rgb(224, 253, 74)\"]},                        {\"responsive\": true}                    ).then(function(){\n",
       "                            \n",
       "var gd = document.getElementById('230c6257-ba3d-42c4-92d5-ac419b491661');\n",
       "var x = new MutationObserver(function (mutations, observer) {{\n",
       "        var display = window.getComputedStyle(gd).display;\n",
       "        if (!display || display === 'none') {{\n",
       "            console.log([gd, 'removed!']);\n",
       "            Plotly.purge(gd);\n",
       "            observer.disconnect();\n",
       "        }}\n",
       "}});\n",
       "\n",
       "// Listen for the removal of the full notebook cells\n",
       "var notebookContainer = gd.closest('#notebook-container');\n",
       "if (notebookContainer) {{\n",
       "    x.observe(notebookContainer, {childList: true});\n",
       "}}\n",
       "\n",
       "// Listen for the clearing of the current output cell\n",
       "var outputEl = gd.closest('.output');\n",
       "if (outputEl) {{\n",
       "    x.observe(outputEl, {childList: true});\n",
       "}}\n",
       "\n",
       "                        })                };                });            </script>        </div>"
      ]
     },
     "metadata": {},
     "output_type": "display_data"
    }
   ],
   "source": [
    "fig = px.pie(rest_types, values='number',\n",
    "             names='object_type',\n",
    "             color_discrete_sequence=px.colors.sequential.solar,\n",
    "            title='Cоотношения видов объектов общественного питания по количеству')\n",
    "fig.show()"
   ]
  },
  {
   "cell_type": "markdown",
   "id": "8d707fb5",
   "metadata": {},
   "source": [
    "#### Вывод №1\n",
    "\n",
    "Самые популярные типы заведений в Москве:\n",
    "\n",
    "    - кафе (40% от общего числа)\n",
    "    - столовая (17%)\n",
    "    - ресторан(15%)"
   ]
  },
  {
   "cell_type": "markdown",
   "id": "c9315915",
   "metadata": {},
   "source": [
    "### Исследование соотношений сетевых и несетевых заведений по количеству"
   ]
  },
  {
   "cell_type": "code",
   "execution_count": 42,
   "id": "a76efd8f",
   "metadata": {
    "scrolled": true
   },
   "outputs": [
    {
     "data": {
      "text/html": [
       "<div>\n",
       "<style scoped>\n",
       "    .dataframe tbody tr th:only-of-type {\n",
       "        vertical-align: middle;\n",
       "    }\n",
       "\n",
       "    .dataframe tbody tr th {\n",
       "        vertical-align: top;\n",
       "    }\n",
       "\n",
       "    .dataframe thead th {\n",
       "        text-align: right;\n",
       "    }\n",
       "</style>\n",
       "<table border=\"1\" class=\"dataframe\">\n",
       "  <thead>\n",
       "    <tr style=\"text-align: right;\">\n",
       "      <th></th>\n",
       "      <th>chain</th>\n",
       "      <th>number</th>\n",
       "    </tr>\n",
       "  </thead>\n",
       "  <tbody>\n",
       "    <tr>\n",
       "      <th>0</th>\n",
       "      <td>да</td>\n",
       "      <td>2964</td>\n",
       "    </tr>\n",
       "    <tr>\n",
       "      <th>1</th>\n",
       "      <td>нет</td>\n",
       "      <td>12320</td>\n",
       "    </tr>\n",
       "  </tbody>\n",
       "</table>\n",
       "</div>"
      ],
      "text/plain": [
       "  chain  number\n",
       "0    да    2964\n",
       "1   нет   12320"
      ]
     },
     "execution_count": 42,
     "metadata": {},
     "output_type": "execute_result"
    }
   ],
   "source": [
    "is_chain_rest = (\n",
    "    data.groupby('chain')\n",
    "    .agg({'id':'count'})\n",
    "    .reset_index()\n",
    "    .rename(columns={'id':'number'})\n",
    ")\n",
    "is_chain_rest.head()"
   ]
  },
  {
   "cell_type": "code",
   "execution_count": 43,
   "id": "ee6f7f84",
   "metadata": {},
   "outputs": [
    {
     "data": {
      "application/vnd.plotly.v1+json": {
       "config": {
        "plotlyServerURL": "https://plot.ly"
       },
       "data": [
        {
         "domain": {
          "x": [
           0,
           1
          ],
          "y": [
           0,
           1
          ]
         },
         "hovertemplate": "label=%{label}<br>value=%{value}<extra></extra>",
         "labels": [
          "Сетевое заведение",
          "Несетевое заведение"
         ],
         "legendgroup": "",
         "name": "",
         "showlegend": true,
         "type": "pie",
         "values": [
          2964,
          12320
         ]
        }
       ],
       "layout": {
        "legend": {
         "tracegroupgap": 0
        },
        "piecolorway": [
         "rgb(51, 19, 23)",
         "rgb(79, 28, 33)",
         "rgb(108, 36, 36)",
         "rgb(135, 47, 32)",
         "rgb(157, 66, 25)",
         "rgb(174, 88, 20)",
         "rgb(188, 111, 19)",
         "rgb(199, 137, 22)",
         "rgb(209, 164, 32)",
         "rgb(217, 192, 44)",
         "rgb(222, 222, 59)",
         "rgb(224, 253, 74)"
        ],
        "template": {
         "data": {
          "bar": [
           {
            "error_x": {
             "color": "#2a3f5f"
            },
            "error_y": {
             "color": "#2a3f5f"
            },
            "marker": {
             "line": {
              "color": "#E5ECF6",
              "width": 0.5
             },
             "pattern": {
              "fillmode": "overlay",
              "size": 10,
              "solidity": 0.2
             }
            },
            "type": "bar"
           }
          ],
          "barpolar": [
           {
            "marker": {
             "line": {
              "color": "#E5ECF6",
              "width": 0.5
             },
             "pattern": {
              "fillmode": "overlay",
              "size": 10,
              "solidity": 0.2
             }
            },
            "type": "barpolar"
           }
          ],
          "carpet": [
           {
            "aaxis": {
             "endlinecolor": "#2a3f5f",
             "gridcolor": "white",
             "linecolor": "white",
             "minorgridcolor": "white",
             "startlinecolor": "#2a3f5f"
            },
            "baxis": {
             "endlinecolor": "#2a3f5f",
             "gridcolor": "white",
             "linecolor": "white",
             "minorgridcolor": "white",
             "startlinecolor": "#2a3f5f"
            },
            "type": "carpet"
           }
          ],
          "choropleth": [
           {
            "colorbar": {
             "outlinewidth": 0,
             "ticks": ""
            },
            "type": "choropleth"
           }
          ],
          "contour": [
           {
            "colorbar": {
             "outlinewidth": 0,
             "ticks": ""
            },
            "colorscale": [
             [
              0,
              "#0d0887"
             ],
             [
              0.1111111111111111,
              "#46039f"
             ],
             [
              0.2222222222222222,
              "#7201a8"
             ],
             [
              0.3333333333333333,
              "#9c179e"
             ],
             [
              0.4444444444444444,
              "#bd3786"
             ],
             [
              0.5555555555555556,
              "#d8576b"
             ],
             [
              0.6666666666666666,
              "#ed7953"
             ],
             [
              0.7777777777777778,
              "#fb9f3a"
             ],
             [
              0.8888888888888888,
              "#fdca26"
             ],
             [
              1,
              "#f0f921"
             ]
            ],
            "type": "contour"
           }
          ],
          "contourcarpet": [
           {
            "colorbar": {
             "outlinewidth": 0,
             "ticks": ""
            },
            "type": "contourcarpet"
           }
          ],
          "heatmap": [
           {
            "colorbar": {
             "outlinewidth": 0,
             "ticks": ""
            },
            "colorscale": [
             [
              0,
              "#0d0887"
             ],
             [
              0.1111111111111111,
              "#46039f"
             ],
             [
              0.2222222222222222,
              "#7201a8"
             ],
             [
              0.3333333333333333,
              "#9c179e"
             ],
             [
              0.4444444444444444,
              "#bd3786"
             ],
             [
              0.5555555555555556,
              "#d8576b"
             ],
             [
              0.6666666666666666,
              "#ed7953"
             ],
             [
              0.7777777777777778,
              "#fb9f3a"
             ],
             [
              0.8888888888888888,
              "#fdca26"
             ],
             [
              1,
              "#f0f921"
             ]
            ],
            "type": "heatmap"
           }
          ],
          "heatmapgl": [
           {
            "colorbar": {
             "outlinewidth": 0,
             "ticks": ""
            },
            "colorscale": [
             [
              0,
              "#0d0887"
             ],
             [
              0.1111111111111111,
              "#46039f"
             ],
             [
              0.2222222222222222,
              "#7201a8"
             ],
             [
              0.3333333333333333,
              "#9c179e"
             ],
             [
              0.4444444444444444,
              "#bd3786"
             ],
             [
              0.5555555555555556,
              "#d8576b"
             ],
             [
              0.6666666666666666,
              "#ed7953"
             ],
             [
              0.7777777777777778,
              "#fb9f3a"
             ],
             [
              0.8888888888888888,
              "#fdca26"
             ],
             [
              1,
              "#f0f921"
             ]
            ],
            "type": "heatmapgl"
           }
          ],
          "histogram": [
           {
            "marker": {
             "pattern": {
              "fillmode": "overlay",
              "size": 10,
              "solidity": 0.2
             }
            },
            "type": "histogram"
           }
          ],
          "histogram2d": [
           {
            "colorbar": {
             "outlinewidth": 0,
             "ticks": ""
            },
            "colorscale": [
             [
              0,
              "#0d0887"
             ],
             [
              0.1111111111111111,
              "#46039f"
             ],
             [
              0.2222222222222222,
              "#7201a8"
             ],
             [
              0.3333333333333333,
              "#9c179e"
             ],
             [
              0.4444444444444444,
              "#bd3786"
             ],
             [
              0.5555555555555556,
              "#d8576b"
             ],
             [
              0.6666666666666666,
              "#ed7953"
             ],
             [
              0.7777777777777778,
              "#fb9f3a"
             ],
             [
              0.8888888888888888,
              "#fdca26"
             ],
             [
              1,
              "#f0f921"
             ]
            ],
            "type": "histogram2d"
           }
          ],
          "histogram2dcontour": [
           {
            "colorbar": {
             "outlinewidth": 0,
             "ticks": ""
            },
            "colorscale": [
             [
              0,
              "#0d0887"
             ],
             [
              0.1111111111111111,
              "#46039f"
             ],
             [
              0.2222222222222222,
              "#7201a8"
             ],
             [
              0.3333333333333333,
              "#9c179e"
             ],
             [
              0.4444444444444444,
              "#bd3786"
             ],
             [
              0.5555555555555556,
              "#d8576b"
             ],
             [
              0.6666666666666666,
              "#ed7953"
             ],
             [
              0.7777777777777778,
              "#fb9f3a"
             ],
             [
              0.8888888888888888,
              "#fdca26"
             ],
             [
              1,
              "#f0f921"
             ]
            ],
            "type": "histogram2dcontour"
           }
          ],
          "mesh3d": [
           {
            "colorbar": {
             "outlinewidth": 0,
             "ticks": ""
            },
            "type": "mesh3d"
           }
          ],
          "parcoords": [
           {
            "line": {
             "colorbar": {
              "outlinewidth": 0,
              "ticks": ""
             }
            },
            "type": "parcoords"
           }
          ],
          "pie": [
           {
            "automargin": true,
            "type": "pie"
           }
          ],
          "scatter": [
           {
            "marker": {
             "colorbar": {
              "outlinewidth": 0,
              "ticks": ""
             }
            },
            "type": "scatter"
           }
          ],
          "scatter3d": [
           {
            "line": {
             "colorbar": {
              "outlinewidth": 0,
              "ticks": ""
             }
            },
            "marker": {
             "colorbar": {
              "outlinewidth": 0,
              "ticks": ""
             }
            },
            "type": "scatter3d"
           }
          ],
          "scattercarpet": [
           {
            "marker": {
             "colorbar": {
              "outlinewidth": 0,
              "ticks": ""
             }
            },
            "type": "scattercarpet"
           }
          ],
          "scattergeo": [
           {
            "marker": {
             "colorbar": {
              "outlinewidth": 0,
              "ticks": ""
             }
            },
            "type": "scattergeo"
           }
          ],
          "scattergl": [
           {
            "marker": {
             "colorbar": {
              "outlinewidth": 0,
              "ticks": ""
             }
            },
            "type": "scattergl"
           }
          ],
          "scattermapbox": [
           {
            "marker": {
             "colorbar": {
              "outlinewidth": 0,
              "ticks": ""
             }
            },
            "type": "scattermapbox"
           }
          ],
          "scatterpolar": [
           {
            "marker": {
             "colorbar": {
              "outlinewidth": 0,
              "ticks": ""
             }
            },
            "type": "scatterpolar"
           }
          ],
          "scatterpolargl": [
           {
            "marker": {
             "colorbar": {
              "outlinewidth": 0,
              "ticks": ""
             }
            },
            "type": "scatterpolargl"
           }
          ],
          "scatterternary": [
           {
            "marker": {
             "colorbar": {
              "outlinewidth": 0,
              "ticks": ""
             }
            },
            "type": "scatterternary"
           }
          ],
          "surface": [
           {
            "colorbar": {
             "outlinewidth": 0,
             "ticks": ""
            },
            "colorscale": [
             [
              0,
              "#0d0887"
             ],
             [
              0.1111111111111111,
              "#46039f"
             ],
             [
              0.2222222222222222,
              "#7201a8"
             ],
             [
              0.3333333333333333,
              "#9c179e"
             ],
             [
              0.4444444444444444,
              "#bd3786"
             ],
             [
              0.5555555555555556,
              "#d8576b"
             ],
             [
              0.6666666666666666,
              "#ed7953"
             ],
             [
              0.7777777777777778,
              "#fb9f3a"
             ],
             [
              0.8888888888888888,
              "#fdca26"
             ],
             [
              1,
              "#f0f921"
             ]
            ],
            "type": "surface"
           }
          ],
          "table": [
           {
            "cells": {
             "fill": {
              "color": "#EBF0F8"
             },
             "line": {
              "color": "white"
             }
            },
            "header": {
             "fill": {
              "color": "#C8D4E3"
             },
             "line": {
              "color": "white"
             }
            },
            "type": "table"
           }
          ]
         },
         "layout": {
          "annotationdefaults": {
           "arrowcolor": "#2a3f5f",
           "arrowhead": 0,
           "arrowwidth": 1
          },
          "autotypenumbers": "strict",
          "coloraxis": {
           "colorbar": {
            "outlinewidth": 0,
            "ticks": ""
           }
          },
          "colorscale": {
           "diverging": [
            [
             0,
             "#8e0152"
            ],
            [
             0.1,
             "#c51b7d"
            ],
            [
             0.2,
             "#de77ae"
            ],
            [
             0.3,
             "#f1b6da"
            ],
            [
             0.4,
             "#fde0ef"
            ],
            [
             0.5,
             "#f7f7f7"
            ],
            [
             0.6,
             "#e6f5d0"
            ],
            [
             0.7,
             "#b8e186"
            ],
            [
             0.8,
             "#7fbc41"
            ],
            [
             0.9,
             "#4d9221"
            ],
            [
             1,
             "#276419"
            ]
           ],
           "sequential": [
            [
             0,
             "#0d0887"
            ],
            [
             0.1111111111111111,
             "#46039f"
            ],
            [
             0.2222222222222222,
             "#7201a8"
            ],
            [
             0.3333333333333333,
             "#9c179e"
            ],
            [
             0.4444444444444444,
             "#bd3786"
            ],
            [
             0.5555555555555556,
             "#d8576b"
            ],
            [
             0.6666666666666666,
             "#ed7953"
            ],
            [
             0.7777777777777778,
             "#fb9f3a"
            ],
            [
             0.8888888888888888,
             "#fdca26"
            ],
            [
             1,
             "#f0f921"
            ]
           ],
           "sequentialminus": [
            [
             0,
             "#0d0887"
            ],
            [
             0.1111111111111111,
             "#46039f"
            ],
            [
             0.2222222222222222,
             "#7201a8"
            ],
            [
             0.3333333333333333,
             "#9c179e"
            ],
            [
             0.4444444444444444,
             "#bd3786"
            ],
            [
             0.5555555555555556,
             "#d8576b"
            ],
            [
             0.6666666666666666,
             "#ed7953"
            ],
            [
             0.7777777777777778,
             "#fb9f3a"
            ],
            [
             0.8888888888888888,
             "#fdca26"
            ],
            [
             1,
             "#f0f921"
            ]
           ]
          },
          "colorway": [
           "#636efa",
           "#EF553B",
           "#00cc96",
           "#ab63fa",
           "#FFA15A",
           "#19d3f3",
           "#FF6692",
           "#B6E880",
           "#FF97FF",
           "#FECB52"
          ],
          "font": {
           "color": "#2a3f5f"
          },
          "geo": {
           "bgcolor": "white",
           "lakecolor": "white",
           "landcolor": "#E5ECF6",
           "showlakes": true,
           "showland": true,
           "subunitcolor": "white"
          },
          "hoverlabel": {
           "align": "left"
          },
          "hovermode": "closest",
          "mapbox": {
           "style": "light"
          },
          "paper_bgcolor": "white",
          "plot_bgcolor": "#E5ECF6",
          "polar": {
           "angularaxis": {
            "gridcolor": "white",
            "linecolor": "white",
            "ticks": ""
           },
           "bgcolor": "#E5ECF6",
           "radialaxis": {
            "gridcolor": "white",
            "linecolor": "white",
            "ticks": ""
           }
          },
          "scene": {
           "xaxis": {
            "backgroundcolor": "#E5ECF6",
            "gridcolor": "white",
            "gridwidth": 2,
            "linecolor": "white",
            "showbackground": true,
            "ticks": "",
            "zerolinecolor": "white"
           },
           "yaxis": {
            "backgroundcolor": "#E5ECF6",
            "gridcolor": "white",
            "gridwidth": 2,
            "linecolor": "white",
            "showbackground": true,
            "ticks": "",
            "zerolinecolor": "white"
           },
           "zaxis": {
            "backgroundcolor": "#E5ECF6",
            "gridcolor": "white",
            "gridwidth": 2,
            "linecolor": "white",
            "showbackground": true,
            "ticks": "",
            "zerolinecolor": "white"
           }
          },
          "shapedefaults": {
           "line": {
            "color": "#2a3f5f"
           }
          },
          "ternary": {
           "aaxis": {
            "gridcolor": "white",
            "linecolor": "white",
            "ticks": ""
           },
           "baxis": {
            "gridcolor": "white",
            "linecolor": "white",
            "ticks": ""
           },
           "bgcolor": "#E5ECF6",
           "caxis": {
            "gridcolor": "white",
            "linecolor": "white",
            "ticks": ""
           }
          },
          "title": {
           "x": 0.05
          },
          "xaxis": {
           "automargin": true,
           "gridcolor": "white",
           "linecolor": "white",
           "ticks": "",
           "title": {
            "standoff": 15
           },
           "zerolinecolor": "white",
           "zerolinewidth": 2
          },
          "yaxis": {
           "automargin": true,
           "gridcolor": "white",
           "linecolor": "white",
           "ticks": "",
           "title": {
            "standoff": 15
           },
           "zerolinecolor": "white",
           "zerolinewidth": 2
          }
         }
        },
        "title": {
         "text": "Принадлежность объектов к сетям заведений"
        }
       }
      },
      "text/html": [
       "<div>                            <div id=\"29d30ed4-361f-48b3-86b5-01cf76ecaf27\" class=\"plotly-graph-div\" style=\"height:525px; width:100%;\"></div>            <script type=\"text/javascript\">                require([\"plotly\"], function(Plotly) {                    window.PLOTLYENV=window.PLOTLYENV || {};                                    if (document.getElementById(\"29d30ed4-361f-48b3-86b5-01cf76ecaf27\")) {                    Plotly.newPlot(                        \"29d30ed4-361f-48b3-86b5-01cf76ecaf27\",                        [{\"domain\":{\"x\":[0.0,1.0],\"y\":[0.0,1.0]},\"hovertemplate\":\"label=%{label}<br>value=%{value}<extra></extra>\",\"labels\":[\"\\u0421\\u0435\\u0442\\u0435\\u0432\\u043e\\u0435 \\u0437\\u0430\\u0432\\u0435\\u0434\\u0435\\u043d\\u0438\\u0435\",\"\\u041d\\u0435\\u0441\\u0435\\u0442\\u0435\\u0432\\u043e\\u0435 \\u0437\\u0430\\u0432\\u0435\\u0434\\u0435\\u043d\\u0438\\u0435\"],\"legendgroup\":\"\",\"name\":\"\",\"showlegend\":true,\"values\":[2964,12320],\"type\":\"pie\"}],                        {\"template\":{\"data\":{\"bar\":[{\"error_x\":{\"color\":\"#2a3f5f\"},\"error_y\":{\"color\":\"#2a3f5f\"},\"marker\":{\"line\":{\"color\":\"#E5ECF6\",\"width\":0.5},\"pattern\":{\"fillmode\":\"overlay\",\"size\":10,\"solidity\":0.2}},\"type\":\"bar\"}],\"barpolar\":[{\"marker\":{\"line\":{\"color\":\"#E5ECF6\",\"width\":0.5},\"pattern\":{\"fillmode\":\"overlay\",\"size\":10,\"solidity\":0.2}},\"type\":\"barpolar\"}],\"carpet\":[{\"aaxis\":{\"endlinecolor\":\"#2a3f5f\",\"gridcolor\":\"white\",\"linecolor\":\"white\",\"minorgridcolor\":\"white\",\"startlinecolor\":\"#2a3f5f\"},\"baxis\":{\"endlinecolor\":\"#2a3f5f\",\"gridcolor\":\"white\",\"linecolor\":\"white\",\"minorgridcolor\":\"white\",\"startlinecolor\":\"#2a3f5f\"},\"type\":\"carpet\"}],\"choropleth\":[{\"colorbar\":{\"outlinewidth\":0,\"ticks\":\"\"},\"type\":\"choropleth\"}],\"contour\":[{\"colorbar\":{\"outlinewidth\":0,\"ticks\":\"\"},\"colorscale\":[[0.0,\"#0d0887\"],[0.1111111111111111,\"#46039f\"],[0.2222222222222222,\"#7201a8\"],[0.3333333333333333,\"#9c179e\"],[0.4444444444444444,\"#bd3786\"],[0.5555555555555556,\"#d8576b\"],[0.6666666666666666,\"#ed7953\"],[0.7777777777777778,\"#fb9f3a\"],[0.8888888888888888,\"#fdca26\"],[1.0,\"#f0f921\"]],\"type\":\"contour\"}],\"contourcarpet\":[{\"colorbar\":{\"outlinewidth\":0,\"ticks\":\"\"},\"type\":\"contourcarpet\"}],\"heatmap\":[{\"colorbar\":{\"outlinewidth\":0,\"ticks\":\"\"},\"colorscale\":[[0.0,\"#0d0887\"],[0.1111111111111111,\"#46039f\"],[0.2222222222222222,\"#7201a8\"],[0.3333333333333333,\"#9c179e\"],[0.4444444444444444,\"#bd3786\"],[0.5555555555555556,\"#d8576b\"],[0.6666666666666666,\"#ed7953\"],[0.7777777777777778,\"#fb9f3a\"],[0.8888888888888888,\"#fdca26\"],[1.0,\"#f0f921\"]],\"type\":\"heatmap\"}],\"heatmapgl\":[{\"colorbar\":{\"outlinewidth\":0,\"ticks\":\"\"},\"colorscale\":[[0.0,\"#0d0887\"],[0.1111111111111111,\"#46039f\"],[0.2222222222222222,\"#7201a8\"],[0.3333333333333333,\"#9c179e\"],[0.4444444444444444,\"#bd3786\"],[0.5555555555555556,\"#d8576b\"],[0.6666666666666666,\"#ed7953\"],[0.7777777777777778,\"#fb9f3a\"],[0.8888888888888888,\"#fdca26\"],[1.0,\"#f0f921\"]],\"type\":\"heatmapgl\"}],\"histogram\":[{\"marker\":{\"pattern\":{\"fillmode\":\"overlay\",\"size\":10,\"solidity\":0.2}},\"type\":\"histogram\"}],\"histogram2d\":[{\"colorbar\":{\"outlinewidth\":0,\"ticks\":\"\"},\"colorscale\":[[0.0,\"#0d0887\"],[0.1111111111111111,\"#46039f\"],[0.2222222222222222,\"#7201a8\"],[0.3333333333333333,\"#9c179e\"],[0.4444444444444444,\"#bd3786\"],[0.5555555555555556,\"#d8576b\"],[0.6666666666666666,\"#ed7953\"],[0.7777777777777778,\"#fb9f3a\"],[0.8888888888888888,\"#fdca26\"],[1.0,\"#f0f921\"]],\"type\":\"histogram2d\"}],\"histogram2dcontour\":[{\"colorbar\":{\"outlinewidth\":0,\"ticks\":\"\"},\"colorscale\":[[0.0,\"#0d0887\"],[0.1111111111111111,\"#46039f\"],[0.2222222222222222,\"#7201a8\"],[0.3333333333333333,\"#9c179e\"],[0.4444444444444444,\"#bd3786\"],[0.5555555555555556,\"#d8576b\"],[0.6666666666666666,\"#ed7953\"],[0.7777777777777778,\"#fb9f3a\"],[0.8888888888888888,\"#fdca26\"],[1.0,\"#f0f921\"]],\"type\":\"histogram2dcontour\"}],\"mesh3d\":[{\"colorbar\":{\"outlinewidth\":0,\"ticks\":\"\"},\"type\":\"mesh3d\"}],\"parcoords\":[{\"line\":{\"colorbar\":{\"outlinewidth\":0,\"ticks\":\"\"}},\"type\":\"parcoords\"}],\"pie\":[{\"automargin\":true,\"type\":\"pie\"}],\"scatter\":[{\"marker\":{\"colorbar\":{\"outlinewidth\":0,\"ticks\":\"\"}},\"type\":\"scatter\"}],\"scatter3d\":[{\"line\":{\"colorbar\":{\"outlinewidth\":0,\"ticks\":\"\"}},\"marker\":{\"colorbar\":{\"outlinewidth\":0,\"ticks\":\"\"}},\"type\":\"scatter3d\"}],\"scattercarpet\":[{\"marker\":{\"colorbar\":{\"outlinewidth\":0,\"ticks\":\"\"}},\"type\":\"scattercarpet\"}],\"scattergeo\":[{\"marker\":{\"colorbar\":{\"outlinewidth\":0,\"ticks\":\"\"}},\"type\":\"scattergeo\"}],\"scattergl\":[{\"marker\":{\"colorbar\":{\"outlinewidth\":0,\"ticks\":\"\"}},\"type\":\"scattergl\"}],\"scattermapbox\":[{\"marker\":{\"colorbar\":{\"outlinewidth\":0,\"ticks\":\"\"}},\"type\":\"scattermapbox\"}],\"scatterpolar\":[{\"marker\":{\"colorbar\":{\"outlinewidth\":0,\"ticks\":\"\"}},\"type\":\"scatterpolar\"}],\"scatterpolargl\":[{\"marker\":{\"colorbar\":{\"outlinewidth\":0,\"ticks\":\"\"}},\"type\":\"scatterpolargl\"}],\"scatterternary\":[{\"marker\":{\"colorbar\":{\"outlinewidth\":0,\"ticks\":\"\"}},\"type\":\"scatterternary\"}],\"surface\":[{\"colorbar\":{\"outlinewidth\":0,\"ticks\":\"\"},\"colorscale\":[[0.0,\"#0d0887\"],[0.1111111111111111,\"#46039f\"],[0.2222222222222222,\"#7201a8\"],[0.3333333333333333,\"#9c179e\"],[0.4444444444444444,\"#bd3786\"],[0.5555555555555556,\"#d8576b\"],[0.6666666666666666,\"#ed7953\"],[0.7777777777777778,\"#fb9f3a\"],[0.8888888888888888,\"#fdca26\"],[1.0,\"#f0f921\"]],\"type\":\"surface\"}],\"table\":[{\"cells\":{\"fill\":{\"color\":\"#EBF0F8\"},\"line\":{\"color\":\"white\"}},\"header\":{\"fill\":{\"color\":\"#C8D4E3\"},\"line\":{\"color\":\"white\"}},\"type\":\"table\"}]},\"layout\":{\"annotationdefaults\":{\"arrowcolor\":\"#2a3f5f\",\"arrowhead\":0,\"arrowwidth\":1},\"autotypenumbers\":\"strict\",\"coloraxis\":{\"colorbar\":{\"outlinewidth\":0,\"ticks\":\"\"}},\"colorscale\":{\"diverging\":[[0,\"#8e0152\"],[0.1,\"#c51b7d\"],[0.2,\"#de77ae\"],[0.3,\"#f1b6da\"],[0.4,\"#fde0ef\"],[0.5,\"#f7f7f7\"],[0.6,\"#e6f5d0\"],[0.7,\"#b8e186\"],[0.8,\"#7fbc41\"],[0.9,\"#4d9221\"],[1,\"#276419\"]],\"sequential\":[[0.0,\"#0d0887\"],[0.1111111111111111,\"#46039f\"],[0.2222222222222222,\"#7201a8\"],[0.3333333333333333,\"#9c179e\"],[0.4444444444444444,\"#bd3786\"],[0.5555555555555556,\"#d8576b\"],[0.6666666666666666,\"#ed7953\"],[0.7777777777777778,\"#fb9f3a\"],[0.8888888888888888,\"#fdca26\"],[1.0,\"#f0f921\"]],\"sequentialminus\":[[0.0,\"#0d0887\"],[0.1111111111111111,\"#46039f\"],[0.2222222222222222,\"#7201a8\"],[0.3333333333333333,\"#9c179e\"],[0.4444444444444444,\"#bd3786\"],[0.5555555555555556,\"#d8576b\"],[0.6666666666666666,\"#ed7953\"],[0.7777777777777778,\"#fb9f3a\"],[0.8888888888888888,\"#fdca26\"],[1.0,\"#f0f921\"]]},\"colorway\":[\"#636efa\",\"#EF553B\",\"#00cc96\",\"#ab63fa\",\"#FFA15A\",\"#19d3f3\",\"#FF6692\",\"#B6E880\",\"#FF97FF\",\"#FECB52\"],\"font\":{\"color\":\"#2a3f5f\"},\"geo\":{\"bgcolor\":\"white\",\"lakecolor\":\"white\",\"landcolor\":\"#E5ECF6\",\"showlakes\":true,\"showland\":true,\"subunitcolor\":\"white\"},\"hoverlabel\":{\"align\":\"left\"},\"hovermode\":\"closest\",\"mapbox\":{\"style\":\"light\"},\"paper_bgcolor\":\"white\",\"plot_bgcolor\":\"#E5ECF6\",\"polar\":{\"angularaxis\":{\"gridcolor\":\"white\",\"linecolor\":\"white\",\"ticks\":\"\"},\"bgcolor\":\"#E5ECF6\",\"radialaxis\":{\"gridcolor\":\"white\",\"linecolor\":\"white\",\"ticks\":\"\"}},\"scene\":{\"xaxis\":{\"backgroundcolor\":\"#E5ECF6\",\"gridcolor\":\"white\",\"gridwidth\":2,\"linecolor\":\"white\",\"showbackground\":true,\"ticks\":\"\",\"zerolinecolor\":\"white\"},\"yaxis\":{\"backgroundcolor\":\"#E5ECF6\",\"gridcolor\":\"white\",\"gridwidth\":2,\"linecolor\":\"white\",\"showbackground\":true,\"ticks\":\"\",\"zerolinecolor\":\"white\"},\"zaxis\":{\"backgroundcolor\":\"#E5ECF6\",\"gridcolor\":\"white\",\"gridwidth\":2,\"linecolor\":\"white\",\"showbackground\":true,\"ticks\":\"\",\"zerolinecolor\":\"white\"}},\"shapedefaults\":{\"line\":{\"color\":\"#2a3f5f\"}},\"ternary\":{\"aaxis\":{\"gridcolor\":\"white\",\"linecolor\":\"white\",\"ticks\":\"\"},\"baxis\":{\"gridcolor\":\"white\",\"linecolor\":\"white\",\"ticks\":\"\"},\"bgcolor\":\"#E5ECF6\",\"caxis\":{\"gridcolor\":\"white\",\"linecolor\":\"white\",\"ticks\":\"\"}},\"title\":{\"x\":0.05},\"xaxis\":{\"automargin\":true,\"gridcolor\":\"white\",\"linecolor\":\"white\",\"ticks\":\"\",\"title\":{\"standoff\":15},\"zerolinecolor\":\"white\",\"zerolinewidth\":2},\"yaxis\":{\"automargin\":true,\"gridcolor\":\"white\",\"linecolor\":\"white\",\"ticks\":\"\",\"title\":{\"standoff\":15},\"zerolinecolor\":\"white\",\"zerolinewidth\":2}}},\"legend\":{\"tracegroupgap\":0},\"title\":{\"text\":\"\\u041f\\u0440\\u0438\\u043d\\u0430\\u0434\\u043b\\u0435\\u0436\\u043d\\u043e\\u0441\\u0442\\u044c \\u043e\\u0431\\u044a\\u0435\\u043a\\u0442\\u043e\\u0432 \\u043a \\u0441\\u0435\\u0442\\u044f\\u043c \\u0437\\u0430\\u0432\\u0435\\u0434\\u0435\\u043d\\u0438\\u0439\"},\"piecolorway\":[\"rgb(51, 19, 23)\",\"rgb(79, 28, 33)\",\"rgb(108, 36, 36)\",\"rgb(135, 47, 32)\",\"rgb(157, 66, 25)\",\"rgb(174, 88, 20)\",\"rgb(188, 111, 19)\",\"rgb(199, 137, 22)\",\"rgb(209, 164, 32)\",\"rgb(217, 192, 44)\",\"rgb(222, 222, 59)\",\"rgb(224, 253, 74)\"]},                        {\"responsive\": true}                    ).then(function(){\n",
       "                            \n",
       "var gd = document.getElementById('29d30ed4-361f-48b3-86b5-01cf76ecaf27');\n",
       "var x = new MutationObserver(function (mutations, observer) {{\n",
       "        var display = window.getComputedStyle(gd).display;\n",
       "        if (!display || display === 'none') {{\n",
       "            console.log([gd, 'removed!']);\n",
       "            Plotly.purge(gd);\n",
       "            observer.disconnect();\n",
       "        }}\n",
       "}});\n",
       "\n",
       "// Listen for the removal of the full notebook cells\n",
       "var notebookContainer = gd.closest('#notebook-container');\n",
       "if (notebookContainer) {{\n",
       "    x.observe(notebookContainer, {childList: true});\n",
       "}}\n",
       "\n",
       "// Listen for the clearing of the current output cell\n",
       "var outputEl = gd.closest('.output');\n",
       "if (outputEl) {{\n",
       "    x.observe(outputEl, {childList: true});\n",
       "}}\n",
       "\n",
       "                        })                };                });            </script>        </div>"
      ]
     },
     "metadata": {},
     "output_type": "display_data"
    }
   ],
   "source": [
    "name = ['Сетевое заведение', 'Несетевое заведение']\n",
    "\n",
    "fig = px.pie(values=is_chain_rest['number'],\n",
    "             names=name,\n",
    "             color_discrete_sequence=px.colors.sequential.solar,\n",
    "            title='Принадлежность объектов к сетям заведений')\n",
    "fig.show()"
   ]
  },
  {
   "cell_type": "markdown",
   "id": "bac0b532",
   "metadata": {},
   "source": [
    "#### Вывод №2\n",
    "\n",
    "Большая часть заведений - несетевые (81%). Доля сетевых заведений 19%"
   ]
  },
  {
   "cell_type": "markdown",
   "id": "a16daa2d",
   "metadata": {},
   "source": [
    "### Взаимосвязь типа заведения и принадлежности к сети заведений\n",
    "Для какого вида объекта общественного питания характерно сетевое распространение?"
   ]
  },
  {
   "cell_type": "code",
   "execution_count": 44,
   "id": "1d9adfca",
   "metadata": {
    "scrolled": true
   },
   "outputs": [
    {
     "data": {
      "text/html": [
       "<div>\n",
       "<style scoped>\n",
       "    .dataframe tbody tr th:only-of-type {\n",
       "        vertical-align: middle;\n",
       "    }\n",
       "\n",
       "    .dataframe tbody tr th {\n",
       "        vertical-align: top;\n",
       "    }\n",
       "\n",
       "    .dataframe thead th {\n",
       "        text-align: right;\n",
       "    }\n",
       "</style>\n",
       "<table border=\"1\" class=\"dataframe\">\n",
       "  <thead>\n",
       "    <tr style=\"text-align: right;\">\n",
       "      <th></th>\n",
       "      <th>object_type</th>\n",
       "      <th>number</th>\n",
       "    </tr>\n",
       "  </thead>\n",
       "  <tbody>\n",
       "    <tr>\n",
       "      <th>0</th>\n",
       "      <td>кафе</td>\n",
       "      <td>1396</td>\n",
       "    </tr>\n",
       "    <tr>\n",
       "      <th>1</th>\n",
       "      <td>предприятие быстрого обслуживания</td>\n",
       "      <td>788</td>\n",
       "    </tr>\n",
       "    <tr>\n",
       "      <th>2</th>\n",
       "      <td>ресторан</td>\n",
       "      <td>543</td>\n",
       "    </tr>\n",
       "    <tr>\n",
       "      <th>3</th>\n",
       "      <td>магазин (отдел кулинарии)</td>\n",
       "      <td>78</td>\n",
       "    </tr>\n",
       "    <tr>\n",
       "      <th>4</th>\n",
       "      <td>закусочная</td>\n",
       "      <td>56</td>\n",
       "    </tr>\n",
       "  </tbody>\n",
       "</table>\n",
       "</div>"
      ],
      "text/plain": [
       "                         object_type  number\n",
       "0                               кафе    1396\n",
       "1  предприятие быстрого обслуживания     788\n",
       "2                           ресторан     543\n",
       "3          магазин (отдел кулинарии)      78\n",
       "4                         закусочная      56"
      ]
     },
     "execution_count": 44,
     "metadata": {},
     "output_type": "execute_result"
    }
   ],
   "source": [
    "chain_rests = data.query('chain == \"да\"')\n",
    "chain_rests_type_distr = (\n",
    "    chain_rests.groupby('object_type')\n",
    "    .agg({'id':'nunique'})\n",
    "    .rename(columns={'id':'number'})\n",
    "    .sort_values(by='number', ascending=False)\n",
    "    .reset_index()\n",
    ")\n",
    "chain_rests_type_distr.head()"
   ]
  },
  {
   "cell_type": "code",
   "execution_count": 45,
   "id": "2675a6be",
   "metadata": {
    "scrolled": true
   },
   "outputs": [
    {
     "data": {
      "application/vnd.plotly.v1+json": {
       "config": {
        "plotlyServerURL": "https://plot.ly"
       },
       "data": [
        {
         "domain": {
          "x": [
           0,
           1
          ],
          "y": [
           0,
           1
          ]
         },
         "hovertemplate": "object_type=%{label}<br>number=%{value}<extra></extra>",
         "labels": [
          "кафе",
          "предприятие быстрого обслуживания",
          "ресторан",
          "магазин (отдел кулинарии)",
          "закусочная",
          "кафетерий",
          "бар",
          "буфет",
          "столовая"
         ],
         "legendgroup": "",
         "name": "",
         "showlegend": true,
         "type": "pie",
         "values": [
          1396,
          788,
          543,
          78,
          56,
          52,
          37,
          11,
          3
         ]
        }
       ],
       "layout": {
        "legend": {
         "tracegroupgap": 0
        },
        "piecolorway": [
         "rgb(51, 19, 23)",
         "rgb(79, 28, 33)",
         "rgb(108, 36, 36)",
         "rgb(135, 47, 32)",
         "rgb(157, 66, 25)",
         "rgb(174, 88, 20)",
         "rgb(188, 111, 19)",
         "rgb(199, 137, 22)",
         "rgb(209, 164, 32)",
         "rgb(217, 192, 44)",
         "rgb(222, 222, 59)",
         "rgb(224, 253, 74)"
        ],
        "template": {
         "data": {
          "bar": [
           {
            "error_x": {
             "color": "#2a3f5f"
            },
            "error_y": {
             "color": "#2a3f5f"
            },
            "marker": {
             "line": {
              "color": "#E5ECF6",
              "width": 0.5
             },
             "pattern": {
              "fillmode": "overlay",
              "size": 10,
              "solidity": 0.2
             }
            },
            "type": "bar"
           }
          ],
          "barpolar": [
           {
            "marker": {
             "line": {
              "color": "#E5ECF6",
              "width": 0.5
             },
             "pattern": {
              "fillmode": "overlay",
              "size": 10,
              "solidity": 0.2
             }
            },
            "type": "barpolar"
           }
          ],
          "carpet": [
           {
            "aaxis": {
             "endlinecolor": "#2a3f5f",
             "gridcolor": "white",
             "linecolor": "white",
             "minorgridcolor": "white",
             "startlinecolor": "#2a3f5f"
            },
            "baxis": {
             "endlinecolor": "#2a3f5f",
             "gridcolor": "white",
             "linecolor": "white",
             "minorgridcolor": "white",
             "startlinecolor": "#2a3f5f"
            },
            "type": "carpet"
           }
          ],
          "choropleth": [
           {
            "colorbar": {
             "outlinewidth": 0,
             "ticks": ""
            },
            "type": "choropleth"
           }
          ],
          "contour": [
           {
            "colorbar": {
             "outlinewidth": 0,
             "ticks": ""
            },
            "colorscale": [
             [
              0,
              "#0d0887"
             ],
             [
              0.1111111111111111,
              "#46039f"
             ],
             [
              0.2222222222222222,
              "#7201a8"
             ],
             [
              0.3333333333333333,
              "#9c179e"
             ],
             [
              0.4444444444444444,
              "#bd3786"
             ],
             [
              0.5555555555555556,
              "#d8576b"
             ],
             [
              0.6666666666666666,
              "#ed7953"
             ],
             [
              0.7777777777777778,
              "#fb9f3a"
             ],
             [
              0.8888888888888888,
              "#fdca26"
             ],
             [
              1,
              "#f0f921"
             ]
            ],
            "type": "contour"
           }
          ],
          "contourcarpet": [
           {
            "colorbar": {
             "outlinewidth": 0,
             "ticks": ""
            },
            "type": "contourcarpet"
           }
          ],
          "heatmap": [
           {
            "colorbar": {
             "outlinewidth": 0,
             "ticks": ""
            },
            "colorscale": [
             [
              0,
              "#0d0887"
             ],
             [
              0.1111111111111111,
              "#46039f"
             ],
             [
              0.2222222222222222,
              "#7201a8"
             ],
             [
              0.3333333333333333,
              "#9c179e"
             ],
             [
              0.4444444444444444,
              "#bd3786"
             ],
             [
              0.5555555555555556,
              "#d8576b"
             ],
             [
              0.6666666666666666,
              "#ed7953"
             ],
             [
              0.7777777777777778,
              "#fb9f3a"
             ],
             [
              0.8888888888888888,
              "#fdca26"
             ],
             [
              1,
              "#f0f921"
             ]
            ],
            "type": "heatmap"
           }
          ],
          "heatmapgl": [
           {
            "colorbar": {
             "outlinewidth": 0,
             "ticks": ""
            },
            "colorscale": [
             [
              0,
              "#0d0887"
             ],
             [
              0.1111111111111111,
              "#46039f"
             ],
             [
              0.2222222222222222,
              "#7201a8"
             ],
             [
              0.3333333333333333,
              "#9c179e"
             ],
             [
              0.4444444444444444,
              "#bd3786"
             ],
             [
              0.5555555555555556,
              "#d8576b"
             ],
             [
              0.6666666666666666,
              "#ed7953"
             ],
             [
              0.7777777777777778,
              "#fb9f3a"
             ],
             [
              0.8888888888888888,
              "#fdca26"
             ],
             [
              1,
              "#f0f921"
             ]
            ],
            "type": "heatmapgl"
           }
          ],
          "histogram": [
           {
            "marker": {
             "pattern": {
              "fillmode": "overlay",
              "size": 10,
              "solidity": 0.2
             }
            },
            "type": "histogram"
           }
          ],
          "histogram2d": [
           {
            "colorbar": {
             "outlinewidth": 0,
             "ticks": ""
            },
            "colorscale": [
             [
              0,
              "#0d0887"
             ],
             [
              0.1111111111111111,
              "#46039f"
             ],
             [
              0.2222222222222222,
              "#7201a8"
             ],
             [
              0.3333333333333333,
              "#9c179e"
             ],
             [
              0.4444444444444444,
              "#bd3786"
             ],
             [
              0.5555555555555556,
              "#d8576b"
             ],
             [
              0.6666666666666666,
              "#ed7953"
             ],
             [
              0.7777777777777778,
              "#fb9f3a"
             ],
             [
              0.8888888888888888,
              "#fdca26"
             ],
             [
              1,
              "#f0f921"
             ]
            ],
            "type": "histogram2d"
           }
          ],
          "histogram2dcontour": [
           {
            "colorbar": {
             "outlinewidth": 0,
             "ticks": ""
            },
            "colorscale": [
             [
              0,
              "#0d0887"
             ],
             [
              0.1111111111111111,
              "#46039f"
             ],
             [
              0.2222222222222222,
              "#7201a8"
             ],
             [
              0.3333333333333333,
              "#9c179e"
             ],
             [
              0.4444444444444444,
              "#bd3786"
             ],
             [
              0.5555555555555556,
              "#d8576b"
             ],
             [
              0.6666666666666666,
              "#ed7953"
             ],
             [
              0.7777777777777778,
              "#fb9f3a"
             ],
             [
              0.8888888888888888,
              "#fdca26"
             ],
             [
              1,
              "#f0f921"
             ]
            ],
            "type": "histogram2dcontour"
           }
          ],
          "mesh3d": [
           {
            "colorbar": {
             "outlinewidth": 0,
             "ticks": ""
            },
            "type": "mesh3d"
           }
          ],
          "parcoords": [
           {
            "line": {
             "colorbar": {
              "outlinewidth": 0,
              "ticks": ""
             }
            },
            "type": "parcoords"
           }
          ],
          "pie": [
           {
            "automargin": true,
            "type": "pie"
           }
          ],
          "scatter": [
           {
            "marker": {
             "colorbar": {
              "outlinewidth": 0,
              "ticks": ""
             }
            },
            "type": "scatter"
           }
          ],
          "scatter3d": [
           {
            "line": {
             "colorbar": {
              "outlinewidth": 0,
              "ticks": ""
             }
            },
            "marker": {
             "colorbar": {
              "outlinewidth": 0,
              "ticks": ""
             }
            },
            "type": "scatter3d"
           }
          ],
          "scattercarpet": [
           {
            "marker": {
             "colorbar": {
              "outlinewidth": 0,
              "ticks": ""
             }
            },
            "type": "scattercarpet"
           }
          ],
          "scattergeo": [
           {
            "marker": {
             "colorbar": {
              "outlinewidth": 0,
              "ticks": ""
             }
            },
            "type": "scattergeo"
           }
          ],
          "scattergl": [
           {
            "marker": {
             "colorbar": {
              "outlinewidth": 0,
              "ticks": ""
             }
            },
            "type": "scattergl"
           }
          ],
          "scattermapbox": [
           {
            "marker": {
             "colorbar": {
              "outlinewidth": 0,
              "ticks": ""
             }
            },
            "type": "scattermapbox"
           }
          ],
          "scatterpolar": [
           {
            "marker": {
             "colorbar": {
              "outlinewidth": 0,
              "ticks": ""
             }
            },
            "type": "scatterpolar"
           }
          ],
          "scatterpolargl": [
           {
            "marker": {
             "colorbar": {
              "outlinewidth": 0,
              "ticks": ""
             }
            },
            "type": "scatterpolargl"
           }
          ],
          "scatterternary": [
           {
            "marker": {
             "colorbar": {
              "outlinewidth": 0,
              "ticks": ""
             }
            },
            "type": "scatterternary"
           }
          ],
          "surface": [
           {
            "colorbar": {
             "outlinewidth": 0,
             "ticks": ""
            },
            "colorscale": [
             [
              0,
              "#0d0887"
             ],
             [
              0.1111111111111111,
              "#46039f"
             ],
             [
              0.2222222222222222,
              "#7201a8"
             ],
             [
              0.3333333333333333,
              "#9c179e"
             ],
             [
              0.4444444444444444,
              "#bd3786"
             ],
             [
              0.5555555555555556,
              "#d8576b"
             ],
             [
              0.6666666666666666,
              "#ed7953"
             ],
             [
              0.7777777777777778,
              "#fb9f3a"
             ],
             [
              0.8888888888888888,
              "#fdca26"
             ],
             [
              1,
              "#f0f921"
             ]
            ],
            "type": "surface"
           }
          ],
          "table": [
           {
            "cells": {
             "fill": {
              "color": "#EBF0F8"
             },
             "line": {
              "color": "white"
             }
            },
            "header": {
             "fill": {
              "color": "#C8D4E3"
             },
             "line": {
              "color": "white"
             }
            },
            "type": "table"
           }
          ]
         },
         "layout": {
          "annotationdefaults": {
           "arrowcolor": "#2a3f5f",
           "arrowhead": 0,
           "arrowwidth": 1
          },
          "autotypenumbers": "strict",
          "coloraxis": {
           "colorbar": {
            "outlinewidth": 0,
            "ticks": ""
           }
          },
          "colorscale": {
           "diverging": [
            [
             0,
             "#8e0152"
            ],
            [
             0.1,
             "#c51b7d"
            ],
            [
             0.2,
             "#de77ae"
            ],
            [
             0.3,
             "#f1b6da"
            ],
            [
             0.4,
             "#fde0ef"
            ],
            [
             0.5,
             "#f7f7f7"
            ],
            [
             0.6,
             "#e6f5d0"
            ],
            [
             0.7,
             "#b8e186"
            ],
            [
             0.8,
             "#7fbc41"
            ],
            [
             0.9,
             "#4d9221"
            ],
            [
             1,
             "#276419"
            ]
           ],
           "sequential": [
            [
             0,
             "#0d0887"
            ],
            [
             0.1111111111111111,
             "#46039f"
            ],
            [
             0.2222222222222222,
             "#7201a8"
            ],
            [
             0.3333333333333333,
             "#9c179e"
            ],
            [
             0.4444444444444444,
             "#bd3786"
            ],
            [
             0.5555555555555556,
             "#d8576b"
            ],
            [
             0.6666666666666666,
             "#ed7953"
            ],
            [
             0.7777777777777778,
             "#fb9f3a"
            ],
            [
             0.8888888888888888,
             "#fdca26"
            ],
            [
             1,
             "#f0f921"
            ]
           ],
           "sequentialminus": [
            [
             0,
             "#0d0887"
            ],
            [
             0.1111111111111111,
             "#46039f"
            ],
            [
             0.2222222222222222,
             "#7201a8"
            ],
            [
             0.3333333333333333,
             "#9c179e"
            ],
            [
             0.4444444444444444,
             "#bd3786"
            ],
            [
             0.5555555555555556,
             "#d8576b"
            ],
            [
             0.6666666666666666,
             "#ed7953"
            ],
            [
             0.7777777777777778,
             "#fb9f3a"
            ],
            [
             0.8888888888888888,
             "#fdca26"
            ],
            [
             1,
             "#f0f921"
            ]
           ]
          },
          "colorway": [
           "#636efa",
           "#EF553B",
           "#00cc96",
           "#ab63fa",
           "#FFA15A",
           "#19d3f3",
           "#FF6692",
           "#B6E880",
           "#FF97FF",
           "#FECB52"
          ],
          "font": {
           "color": "#2a3f5f"
          },
          "geo": {
           "bgcolor": "white",
           "lakecolor": "white",
           "landcolor": "#E5ECF6",
           "showlakes": true,
           "showland": true,
           "subunitcolor": "white"
          },
          "hoverlabel": {
           "align": "left"
          },
          "hovermode": "closest",
          "mapbox": {
           "style": "light"
          },
          "paper_bgcolor": "white",
          "plot_bgcolor": "#E5ECF6",
          "polar": {
           "angularaxis": {
            "gridcolor": "white",
            "linecolor": "white",
            "ticks": ""
           },
           "bgcolor": "#E5ECF6",
           "radialaxis": {
            "gridcolor": "white",
            "linecolor": "white",
            "ticks": ""
           }
          },
          "scene": {
           "xaxis": {
            "backgroundcolor": "#E5ECF6",
            "gridcolor": "white",
            "gridwidth": 2,
            "linecolor": "white",
            "showbackground": true,
            "ticks": "",
            "zerolinecolor": "white"
           },
           "yaxis": {
            "backgroundcolor": "#E5ECF6",
            "gridcolor": "white",
            "gridwidth": 2,
            "linecolor": "white",
            "showbackground": true,
            "ticks": "",
            "zerolinecolor": "white"
           },
           "zaxis": {
            "backgroundcolor": "#E5ECF6",
            "gridcolor": "white",
            "gridwidth": 2,
            "linecolor": "white",
            "showbackground": true,
            "ticks": "",
            "zerolinecolor": "white"
           }
          },
          "shapedefaults": {
           "line": {
            "color": "#2a3f5f"
           }
          },
          "ternary": {
           "aaxis": {
            "gridcolor": "white",
            "linecolor": "white",
            "ticks": ""
           },
           "baxis": {
            "gridcolor": "white",
            "linecolor": "white",
            "ticks": ""
           },
           "bgcolor": "#E5ECF6",
           "caxis": {
            "gridcolor": "white",
            "linecolor": "white",
            "ticks": ""
           }
          },
          "title": {
           "x": 0.05
          },
          "xaxis": {
           "automargin": true,
           "gridcolor": "white",
           "linecolor": "white",
           "ticks": "",
           "title": {
            "standoff": 15
           },
           "zerolinecolor": "white",
           "zerolinewidth": 2
          },
          "yaxis": {
           "automargin": true,
           "gridcolor": "white",
           "linecolor": "white",
           "ticks": "",
           "title": {
            "standoff": 15
           },
           "zerolinecolor": "white",
           "zerolinewidth": 2
          }
         }
        },
        "title": {
         "text": "Типы заведений принадлежащих к сетям общественного питания"
        }
       }
      },
      "text/html": [
       "<div>                            <div id=\"062ab2af-b293-4c42-83ab-b87df7f452a0\" class=\"plotly-graph-div\" style=\"height:525px; width:100%;\"></div>            <script type=\"text/javascript\">                require([\"plotly\"], function(Plotly) {                    window.PLOTLYENV=window.PLOTLYENV || {};                                    if (document.getElementById(\"062ab2af-b293-4c42-83ab-b87df7f452a0\")) {                    Plotly.newPlot(                        \"062ab2af-b293-4c42-83ab-b87df7f452a0\",                        [{\"domain\":{\"x\":[0.0,1.0],\"y\":[0.0,1.0]},\"hovertemplate\":\"object_type=%{label}<br>number=%{value}<extra></extra>\",\"labels\":[\"\\u043a\\u0430\\u0444\\u0435\",\"\\u043f\\u0440\\u0435\\u0434\\u043f\\u0440\\u0438\\u044f\\u0442\\u0438\\u0435 \\u0431\\u044b\\u0441\\u0442\\u0440\\u043e\\u0433\\u043e \\u043e\\u0431\\u0441\\u043b\\u0443\\u0436\\u0438\\u0432\\u0430\\u043d\\u0438\\u044f\",\"\\u0440\\u0435\\u0441\\u0442\\u043e\\u0440\\u0430\\u043d\",\"\\u043c\\u0430\\u0433\\u0430\\u0437\\u0438\\u043d (\\u043e\\u0442\\u0434\\u0435\\u043b \\u043a\\u0443\\u043b\\u0438\\u043d\\u0430\\u0440\\u0438\\u0438)\",\"\\u0437\\u0430\\u043a\\u0443\\u0441\\u043e\\u0447\\u043d\\u0430\\u044f\",\"\\u043a\\u0430\\u0444\\u0435\\u0442\\u0435\\u0440\\u0438\\u0439\",\"\\u0431\\u0430\\u0440\",\"\\u0431\\u0443\\u0444\\u0435\\u0442\",\"\\u0441\\u0442\\u043e\\u043b\\u043e\\u0432\\u0430\\u044f\"],\"legendgroup\":\"\",\"name\":\"\",\"showlegend\":true,\"values\":[1396,788,543,78,56,52,37,11,3],\"type\":\"pie\"}],                        {\"template\":{\"data\":{\"bar\":[{\"error_x\":{\"color\":\"#2a3f5f\"},\"error_y\":{\"color\":\"#2a3f5f\"},\"marker\":{\"line\":{\"color\":\"#E5ECF6\",\"width\":0.5},\"pattern\":{\"fillmode\":\"overlay\",\"size\":10,\"solidity\":0.2}},\"type\":\"bar\"}],\"barpolar\":[{\"marker\":{\"line\":{\"color\":\"#E5ECF6\",\"width\":0.5},\"pattern\":{\"fillmode\":\"overlay\",\"size\":10,\"solidity\":0.2}},\"type\":\"barpolar\"}],\"carpet\":[{\"aaxis\":{\"endlinecolor\":\"#2a3f5f\",\"gridcolor\":\"white\",\"linecolor\":\"white\",\"minorgridcolor\":\"white\",\"startlinecolor\":\"#2a3f5f\"},\"baxis\":{\"endlinecolor\":\"#2a3f5f\",\"gridcolor\":\"white\",\"linecolor\":\"white\",\"minorgridcolor\":\"white\",\"startlinecolor\":\"#2a3f5f\"},\"type\":\"carpet\"}],\"choropleth\":[{\"colorbar\":{\"outlinewidth\":0,\"ticks\":\"\"},\"type\":\"choropleth\"}],\"contour\":[{\"colorbar\":{\"outlinewidth\":0,\"ticks\":\"\"},\"colorscale\":[[0.0,\"#0d0887\"],[0.1111111111111111,\"#46039f\"],[0.2222222222222222,\"#7201a8\"],[0.3333333333333333,\"#9c179e\"],[0.4444444444444444,\"#bd3786\"],[0.5555555555555556,\"#d8576b\"],[0.6666666666666666,\"#ed7953\"],[0.7777777777777778,\"#fb9f3a\"],[0.8888888888888888,\"#fdca26\"],[1.0,\"#f0f921\"]],\"type\":\"contour\"}],\"contourcarpet\":[{\"colorbar\":{\"outlinewidth\":0,\"ticks\":\"\"},\"type\":\"contourcarpet\"}],\"heatmap\":[{\"colorbar\":{\"outlinewidth\":0,\"ticks\":\"\"},\"colorscale\":[[0.0,\"#0d0887\"],[0.1111111111111111,\"#46039f\"],[0.2222222222222222,\"#7201a8\"],[0.3333333333333333,\"#9c179e\"],[0.4444444444444444,\"#bd3786\"],[0.5555555555555556,\"#d8576b\"],[0.6666666666666666,\"#ed7953\"],[0.7777777777777778,\"#fb9f3a\"],[0.8888888888888888,\"#fdca26\"],[1.0,\"#f0f921\"]],\"type\":\"heatmap\"}],\"heatmapgl\":[{\"colorbar\":{\"outlinewidth\":0,\"ticks\":\"\"},\"colorscale\":[[0.0,\"#0d0887\"],[0.1111111111111111,\"#46039f\"],[0.2222222222222222,\"#7201a8\"],[0.3333333333333333,\"#9c179e\"],[0.4444444444444444,\"#bd3786\"],[0.5555555555555556,\"#d8576b\"],[0.6666666666666666,\"#ed7953\"],[0.7777777777777778,\"#fb9f3a\"],[0.8888888888888888,\"#fdca26\"],[1.0,\"#f0f921\"]],\"type\":\"heatmapgl\"}],\"histogram\":[{\"marker\":{\"pattern\":{\"fillmode\":\"overlay\",\"size\":10,\"solidity\":0.2}},\"type\":\"histogram\"}],\"histogram2d\":[{\"colorbar\":{\"outlinewidth\":0,\"ticks\":\"\"},\"colorscale\":[[0.0,\"#0d0887\"],[0.1111111111111111,\"#46039f\"],[0.2222222222222222,\"#7201a8\"],[0.3333333333333333,\"#9c179e\"],[0.4444444444444444,\"#bd3786\"],[0.5555555555555556,\"#d8576b\"],[0.6666666666666666,\"#ed7953\"],[0.7777777777777778,\"#fb9f3a\"],[0.8888888888888888,\"#fdca26\"],[1.0,\"#f0f921\"]],\"type\":\"histogram2d\"}],\"histogram2dcontour\":[{\"colorbar\":{\"outlinewidth\":0,\"ticks\":\"\"},\"colorscale\":[[0.0,\"#0d0887\"],[0.1111111111111111,\"#46039f\"],[0.2222222222222222,\"#7201a8\"],[0.3333333333333333,\"#9c179e\"],[0.4444444444444444,\"#bd3786\"],[0.5555555555555556,\"#d8576b\"],[0.6666666666666666,\"#ed7953\"],[0.7777777777777778,\"#fb9f3a\"],[0.8888888888888888,\"#fdca26\"],[1.0,\"#f0f921\"]],\"type\":\"histogram2dcontour\"}],\"mesh3d\":[{\"colorbar\":{\"outlinewidth\":0,\"ticks\":\"\"},\"type\":\"mesh3d\"}],\"parcoords\":[{\"line\":{\"colorbar\":{\"outlinewidth\":0,\"ticks\":\"\"}},\"type\":\"parcoords\"}],\"pie\":[{\"automargin\":true,\"type\":\"pie\"}],\"scatter\":[{\"marker\":{\"colorbar\":{\"outlinewidth\":0,\"ticks\":\"\"}},\"type\":\"scatter\"}],\"scatter3d\":[{\"line\":{\"colorbar\":{\"outlinewidth\":0,\"ticks\":\"\"}},\"marker\":{\"colorbar\":{\"outlinewidth\":0,\"ticks\":\"\"}},\"type\":\"scatter3d\"}],\"scattercarpet\":[{\"marker\":{\"colorbar\":{\"outlinewidth\":0,\"ticks\":\"\"}},\"type\":\"scattercarpet\"}],\"scattergeo\":[{\"marker\":{\"colorbar\":{\"outlinewidth\":0,\"ticks\":\"\"}},\"type\":\"scattergeo\"}],\"scattergl\":[{\"marker\":{\"colorbar\":{\"outlinewidth\":0,\"ticks\":\"\"}},\"type\":\"scattergl\"}],\"scattermapbox\":[{\"marker\":{\"colorbar\":{\"outlinewidth\":0,\"ticks\":\"\"}},\"type\":\"scattermapbox\"}],\"scatterpolar\":[{\"marker\":{\"colorbar\":{\"outlinewidth\":0,\"ticks\":\"\"}},\"type\":\"scatterpolar\"}],\"scatterpolargl\":[{\"marker\":{\"colorbar\":{\"outlinewidth\":0,\"ticks\":\"\"}},\"type\":\"scatterpolargl\"}],\"scatterternary\":[{\"marker\":{\"colorbar\":{\"outlinewidth\":0,\"ticks\":\"\"}},\"type\":\"scatterternary\"}],\"surface\":[{\"colorbar\":{\"outlinewidth\":0,\"ticks\":\"\"},\"colorscale\":[[0.0,\"#0d0887\"],[0.1111111111111111,\"#46039f\"],[0.2222222222222222,\"#7201a8\"],[0.3333333333333333,\"#9c179e\"],[0.4444444444444444,\"#bd3786\"],[0.5555555555555556,\"#d8576b\"],[0.6666666666666666,\"#ed7953\"],[0.7777777777777778,\"#fb9f3a\"],[0.8888888888888888,\"#fdca26\"],[1.0,\"#f0f921\"]],\"type\":\"surface\"}],\"table\":[{\"cells\":{\"fill\":{\"color\":\"#EBF0F8\"},\"line\":{\"color\":\"white\"}},\"header\":{\"fill\":{\"color\":\"#C8D4E3\"},\"line\":{\"color\":\"white\"}},\"type\":\"table\"}]},\"layout\":{\"annotationdefaults\":{\"arrowcolor\":\"#2a3f5f\",\"arrowhead\":0,\"arrowwidth\":1},\"autotypenumbers\":\"strict\",\"coloraxis\":{\"colorbar\":{\"outlinewidth\":0,\"ticks\":\"\"}},\"colorscale\":{\"diverging\":[[0,\"#8e0152\"],[0.1,\"#c51b7d\"],[0.2,\"#de77ae\"],[0.3,\"#f1b6da\"],[0.4,\"#fde0ef\"],[0.5,\"#f7f7f7\"],[0.6,\"#e6f5d0\"],[0.7,\"#b8e186\"],[0.8,\"#7fbc41\"],[0.9,\"#4d9221\"],[1,\"#276419\"]],\"sequential\":[[0.0,\"#0d0887\"],[0.1111111111111111,\"#46039f\"],[0.2222222222222222,\"#7201a8\"],[0.3333333333333333,\"#9c179e\"],[0.4444444444444444,\"#bd3786\"],[0.5555555555555556,\"#d8576b\"],[0.6666666666666666,\"#ed7953\"],[0.7777777777777778,\"#fb9f3a\"],[0.8888888888888888,\"#fdca26\"],[1.0,\"#f0f921\"]],\"sequentialminus\":[[0.0,\"#0d0887\"],[0.1111111111111111,\"#46039f\"],[0.2222222222222222,\"#7201a8\"],[0.3333333333333333,\"#9c179e\"],[0.4444444444444444,\"#bd3786\"],[0.5555555555555556,\"#d8576b\"],[0.6666666666666666,\"#ed7953\"],[0.7777777777777778,\"#fb9f3a\"],[0.8888888888888888,\"#fdca26\"],[1.0,\"#f0f921\"]]},\"colorway\":[\"#636efa\",\"#EF553B\",\"#00cc96\",\"#ab63fa\",\"#FFA15A\",\"#19d3f3\",\"#FF6692\",\"#B6E880\",\"#FF97FF\",\"#FECB52\"],\"font\":{\"color\":\"#2a3f5f\"},\"geo\":{\"bgcolor\":\"white\",\"lakecolor\":\"white\",\"landcolor\":\"#E5ECF6\",\"showlakes\":true,\"showland\":true,\"subunitcolor\":\"white\"},\"hoverlabel\":{\"align\":\"left\"},\"hovermode\":\"closest\",\"mapbox\":{\"style\":\"light\"},\"paper_bgcolor\":\"white\",\"plot_bgcolor\":\"#E5ECF6\",\"polar\":{\"angularaxis\":{\"gridcolor\":\"white\",\"linecolor\":\"white\",\"ticks\":\"\"},\"bgcolor\":\"#E5ECF6\",\"radialaxis\":{\"gridcolor\":\"white\",\"linecolor\":\"white\",\"ticks\":\"\"}},\"scene\":{\"xaxis\":{\"backgroundcolor\":\"#E5ECF6\",\"gridcolor\":\"white\",\"gridwidth\":2,\"linecolor\":\"white\",\"showbackground\":true,\"ticks\":\"\",\"zerolinecolor\":\"white\"},\"yaxis\":{\"backgroundcolor\":\"#E5ECF6\",\"gridcolor\":\"white\",\"gridwidth\":2,\"linecolor\":\"white\",\"showbackground\":true,\"ticks\":\"\",\"zerolinecolor\":\"white\"},\"zaxis\":{\"backgroundcolor\":\"#E5ECF6\",\"gridcolor\":\"white\",\"gridwidth\":2,\"linecolor\":\"white\",\"showbackground\":true,\"ticks\":\"\",\"zerolinecolor\":\"white\"}},\"shapedefaults\":{\"line\":{\"color\":\"#2a3f5f\"}},\"ternary\":{\"aaxis\":{\"gridcolor\":\"white\",\"linecolor\":\"white\",\"ticks\":\"\"},\"baxis\":{\"gridcolor\":\"white\",\"linecolor\":\"white\",\"ticks\":\"\"},\"bgcolor\":\"#E5ECF6\",\"caxis\":{\"gridcolor\":\"white\",\"linecolor\":\"white\",\"ticks\":\"\"}},\"title\":{\"x\":0.05},\"xaxis\":{\"automargin\":true,\"gridcolor\":\"white\",\"linecolor\":\"white\",\"ticks\":\"\",\"title\":{\"standoff\":15},\"zerolinecolor\":\"white\",\"zerolinewidth\":2},\"yaxis\":{\"automargin\":true,\"gridcolor\":\"white\",\"linecolor\":\"white\",\"ticks\":\"\",\"title\":{\"standoff\":15},\"zerolinecolor\":\"white\",\"zerolinewidth\":2}}},\"legend\":{\"tracegroupgap\":0},\"title\":{\"text\":\"\\u0422\\u0438\\u043f\\u044b \\u0437\\u0430\\u0432\\u0435\\u0434\\u0435\\u043d\\u0438\\u0439 \\u043f\\u0440\\u0438\\u043d\\u0430\\u0434\\u043b\\u0435\\u0436\\u0430\\u0449\\u0438\\u0445 \\u043a \\u0441\\u0435\\u0442\\u044f\\u043c \\u043e\\u0431\\u0449\\u0435\\u0441\\u0442\\u0432\\u0435\\u043d\\u043d\\u043e\\u0433\\u043e \\u043f\\u0438\\u0442\\u0430\\u043d\\u0438\\u044f\"},\"piecolorway\":[\"rgb(51, 19, 23)\",\"rgb(79, 28, 33)\",\"rgb(108, 36, 36)\",\"rgb(135, 47, 32)\",\"rgb(157, 66, 25)\",\"rgb(174, 88, 20)\",\"rgb(188, 111, 19)\",\"rgb(199, 137, 22)\",\"rgb(209, 164, 32)\",\"rgb(217, 192, 44)\",\"rgb(222, 222, 59)\",\"rgb(224, 253, 74)\"]},                        {\"responsive\": true}                    ).then(function(){\n",
       "                            \n",
       "var gd = document.getElementById('062ab2af-b293-4c42-83ab-b87df7f452a0');\n",
       "var x = new MutationObserver(function (mutations, observer) {{\n",
       "        var display = window.getComputedStyle(gd).display;\n",
       "        if (!display || display === 'none') {{\n",
       "            console.log([gd, 'removed!']);\n",
       "            Plotly.purge(gd);\n",
       "            observer.disconnect();\n",
       "        }}\n",
       "}});\n",
       "\n",
       "// Listen for the removal of the full notebook cells\n",
       "var notebookContainer = gd.closest('#notebook-container');\n",
       "if (notebookContainer) {{\n",
       "    x.observe(notebookContainer, {childList: true});\n",
       "}}\n",
       "\n",
       "// Listen for the clearing of the current output cell\n",
       "var outputEl = gd.closest('.output');\n",
       "if (outputEl) {{\n",
       "    x.observe(outputEl, {childList: true});\n",
       "}}\n",
       "\n",
       "                        })                };                });            </script>        </div>"
      ]
     },
     "metadata": {},
     "output_type": "display_data"
    }
   ],
   "source": [
    "name = ['Сетевое заведение', 'Несетевое заведение']\n",
    "\n",
    "fig = px.pie(chain_rests_type_distr,\n",
    "             values='number',\n",
    "             names='object_type',\n",
    "             color_discrete_sequence=px.colors.sequential.solar,\n",
    "            title='Типы заведений принадлежащих к сетям общественного питания')\n",
    "fig.show()"
   ]
  },
  {
   "cell_type": "markdown",
   "id": "45eefb3b",
   "metadata": {},
   "source": [
    "#### Вывод №3\n",
    "Среди сетевых заведений самыми популярными являются следующие типы:\n",
    "\n",
    "    - кафе(47%);\n",
    "    - предприятия быстрого питания(27%);\n",
    "    - рестораны(18%)"
   ]
  },
  {
   "cell_type": "markdown",
   "id": "6bc3c277",
   "metadata": {},
   "source": [
    "### Исследование взаимосвязи числа посадочных мест и количества заведений в составе сети\n",
    "\n",
    "Что характерно для сетевых заведений: много заведений с небольшим числом посадочных мест в каждом или мало заведений с большим количеством посадочных мест?"
   ]
  },
  {
   "cell_type": "code",
   "execution_count": 46,
   "id": "f0591e5a",
   "metadata": {},
   "outputs": [
    {
     "data": {
      "text/html": [
       "<div>\n",
       "<style scoped>\n",
       "    .dataframe tbody tr th:only-of-type {\n",
       "        vertical-align: middle;\n",
       "    }\n",
       "\n",
       "    .dataframe tbody tr th {\n",
       "        vertical-align: top;\n",
       "    }\n",
       "\n",
       "    .dataframe thead th {\n",
       "        text-align: right;\n",
       "    }\n",
       "</style>\n",
       "<table border=\"1\" class=\"dataframe\">\n",
       "  <thead>\n",
       "    <tr style=\"text-align: right;\">\n",
       "      <th></th>\n",
       "      <th>object_name</th>\n",
       "      <th>sum_number_of_restraunts</th>\n",
       "      <th>avg_number_of_seats</th>\n",
       "    </tr>\n",
       "  </thead>\n",
       "  <tbody>\n",
       "    <tr>\n",
       "      <th>0</th>\n",
       "      <td>шоколадница</td>\n",
       "      <td>157</td>\n",
       "      <td>50.0</td>\n",
       "    </tr>\n",
       "    <tr>\n",
       "      <th>1</th>\n",
       "      <td>kfc</td>\n",
       "      <td>155</td>\n",
       "      <td>45.0</td>\n",
       "    </tr>\n",
       "    <tr>\n",
       "      <th>2</th>\n",
       "      <td>макдоналдс</td>\n",
       "      <td>150</td>\n",
       "      <td>77.5</td>\n",
       "    </tr>\n",
       "    <tr>\n",
       "      <th>3</th>\n",
       "      <td>бургер кинг</td>\n",
       "      <td>137</td>\n",
       "      <td>45.0</td>\n",
       "    </tr>\n",
       "    <tr>\n",
       "      <th>4</th>\n",
       "      <td>теремок</td>\n",
       "      <td>94</td>\n",
       "      <td>23.0</td>\n",
       "    </tr>\n",
       "  </tbody>\n",
       "</table>\n",
       "</div>"
      ],
      "text/plain": [
       "   object_name  sum_number_of_restraunts  avg_number_of_seats\n",
       "0  шоколадница                       157                 50.0\n",
       "1          kfc                       155                 45.0\n",
       "2   макдоналдс                       150                 77.5\n",
       "3  бургер кинг                       137                 45.0\n",
       "4      теремок                        94                 23.0"
      ]
     },
     "execution_count": 46,
     "metadata": {},
     "output_type": "execute_result"
    }
   ],
   "source": [
    "pivot_table_1 = (\n",
    "    data.query('chain == \"да\"')\n",
    "    .groupby('object_name')\n",
    "    .agg({'id':'count','number':'median'})\n",
    "    .rename(columns={'id':'sum_number_of_restraunts','number':'avg_number_of_seats'})\n",
    "    .query('sum_number_of_restraunts > 1')\n",
    "    .sort_values(by='sum_number_of_restraunts', ascending=False)\n",
    "    .reset_index()\n",
    ")\n",
    "pivot_table_1.head()"
   ]
  },
  {
   "cell_type": "code",
   "execution_count": 47,
   "id": "24ba0488",
   "metadata": {},
   "outputs": [
    {
     "name": "stdout",
     "output_type": "stream",
     "text": [
      "Среднее число посадочных мест в сетевых заведениях 44.25\n"
     ]
    },
    {
     "data": {
      "image/png": "[encoded data removed]",
      "text/plain": [
       "<Figure size 864x864 with 3 Axes>"
      ]
     },
     "metadata": {},
     "output_type": "display_data"
    }
   ],
   "source": [
    "# построение точечной диаграммы\n",
    "plot = sns.jointplot(\n",
    "    x='sum_number_of_restraunts', \n",
    "    y='avg_number_of_seats',\n",
    "    kind='scatter',\n",
    "    data=pivot_table_1,\n",
    "    height = 12,\n",
    "    color='#672F09'\n",
    "\n",
    "    )\n",
    "# линия, отражающая среднее значение кол-ва посадочных мест по всем объектам данных\n",
    "avg_seats = pivot_table_1['avg_number_of_seats'].median()\n",
    "print('Среднее число посадочных мест в сетевых заведениях', avg_seats)\n",
    "plot.ax_joint.axhline(y=avg_seats, color='red');\n"
   ]
  },
  {
   "cell_type": "markdown",
   "id": "252fa821",
   "metadata": {},
   "source": [
    "#### Вывод №4\n",
    "Для сетевых заведений характерно небольшое число ресторанов (2-10) c числом посадочных мест около 45. "
   ]
  },
  {
   "cell_type": "markdown",
   "id": "890a30de",
   "metadata": {},
   "source": [
    "### Исследование взаимосвязи вида объекта общественного питания и среднего количества посадочных мест\n",
    "\n",
    "Для каждого вида объекта общественного питания опишите среднее количество посадочных мест. Какой вид предоставляет в среднем самое большое количество посадочных мест? "
   ]
  },
  {
   "cell_type": "code",
   "execution_count": 48,
   "id": "386ed6ef",
   "metadata": {},
   "outputs": [
    {
     "data": {
      "text/html": [
       "<div>\n",
       "<style scoped>\n",
       "    .dataframe tbody tr th:only-of-type {\n",
       "        vertical-align: middle;\n",
       "    }\n",
       "\n",
       "    .dataframe tbody tr th {\n",
       "        vertical-align: top;\n",
       "    }\n",
       "\n",
       "    .dataframe thead th {\n",
       "        text-align: right;\n",
       "    }\n",
       "</style>\n",
       "<table border=\"1\" class=\"dataframe\">\n",
       "  <thead>\n",
       "    <tr style=\"text-align: right;\">\n",
       "      <th></th>\n",
       "      <th>object_type</th>\n",
       "      <th>avg_number_of_seats</th>\n",
       "    </tr>\n",
       "  </thead>\n",
       "  <tbody>\n",
       "    <tr>\n",
       "      <th>0</th>\n",
       "      <td>столовая</td>\n",
       "      <td>103</td>\n",
       "    </tr>\n",
       "    <tr>\n",
       "      <th>1</th>\n",
       "      <td>ресторан</td>\n",
       "      <td>80</td>\n",
       "    </tr>\n",
       "    <tr>\n",
       "      <th>2</th>\n",
       "      <td>бар</td>\n",
       "      <td>35</td>\n",
       "    </tr>\n",
       "    <tr>\n",
       "      <th>3</th>\n",
       "      <td>буфет</td>\n",
       "      <td>32</td>\n",
       "    </tr>\n",
       "    <tr>\n",
       "      <th>4</th>\n",
       "      <td>кафе</td>\n",
       "      <td>30</td>\n",
       "    </tr>\n",
       "  </tbody>\n",
       "</table>\n",
       "</div>"
      ],
      "text/plain": [
       "  object_type  avg_number_of_seats\n",
       "0    столовая                  103\n",
       "1    ресторан                   80\n",
       "2         бар                   35\n",
       "3       буфет                   32\n",
       "4        кафе                   30"
      ]
     },
     "execution_count": 48,
     "metadata": {},
     "output_type": "execute_result"
    }
   ],
   "source": [
    "pivot_table_2 = (\n",
    "    data.groupby('object_type')\n",
    "    .agg({'number':'median'})\n",
    "    .rename(columns={'number':'avg_number_of_seats'})\n",
    "    .sort_values(by='avg_number_of_seats', ascending=False)\n",
    "    .reset_index()\n",
    ")\n",
    "pivot_table_2.head()"
   ]
  },
  {
   "cell_type": "code",
   "execution_count": 49,
   "id": "433b5fcd",
   "metadata": {
    "scrolled": true
   },
   "outputs": [
    {
     "data": {
      "application/vnd.plotly.v1+json": {
       "config": {
        "plotlyServerURL": "https://plot.ly"
       },
       "data": [
        {
         "domain": {
          "x": [
           0,
           1
          ],
          "y": [
           0,
           1
          ]
         },
         "hovertemplate": "object_type=%{label}<br>avg_number_of_seats=%{value}<extra></extra>",
         "labels": [
          "столовая",
          "ресторан",
          "бар",
          "буфет",
          "кафе",
          "кафетерий",
          "предприятие быстрого обслуживания",
          "закусочная",
          "магазин (отдел кулинарии)"
         ],
         "legendgroup": "",
         "name": "",
         "showlegend": true,
         "type": "pie",
         "values": [
          103,
          80,
          35,
          32,
          30,
          6,
          6,
          0,
          0
         ]
        }
       ],
       "layout": {
        "legend": {
         "tracegroupgap": 0
        },
        "piecolorway": [
         "rgb(51, 19, 23)",
         "rgb(79, 28, 33)",
         "rgb(108, 36, 36)",
         "rgb(135, 47, 32)",
         "rgb(157, 66, 25)",
         "rgb(174, 88, 20)",
         "rgb(188, 111, 19)",
         "rgb(199, 137, 22)",
         "rgb(209, 164, 32)",
         "rgb(217, 192, 44)",
         "rgb(222, 222, 59)",
         "rgb(224, 253, 74)"
        ],
        "template": {
         "data": {
          "bar": [
           {
            "error_x": {
             "color": "#2a3f5f"
            },
            "error_y": {
             "color": "#2a3f5f"
            },
            "marker": {
             "line": {
              "color": "#E5ECF6",
              "width": 0.5
             },
             "pattern": {
              "fillmode": "overlay",
              "size": 10,
              "solidity": 0.2
             }
            },
            "type": "bar"
           }
          ],
          "barpolar": [
           {
            "marker": {
             "line": {
              "color": "#E5ECF6",
              "width": 0.5
             },
             "pattern": {
              "fillmode": "overlay",
              "size": 10,
              "solidity": 0.2
             }
            },
            "type": "barpolar"
           }
          ],
          "carpet": [
           {
            "aaxis": {
             "endlinecolor": "#2a3f5f",
             "gridcolor": "white",
             "linecolor": "white",
             "minorgridcolor": "white",
             "startlinecolor": "#2a3f5f"
            },
            "baxis": {
             "endlinecolor": "#2a3f5f",
             "gridcolor": "white",
             "linecolor": "white",
             "minorgridcolor": "white",
             "startlinecolor": "#2a3f5f"
            },
            "type": "carpet"
           }
          ],
          "choropleth": [
           {
            "colorbar": {
             "outlinewidth": 0,
             "ticks": ""
            },
            "type": "choropleth"
           }
          ],
          "contour": [
           {
            "colorbar": {
             "outlinewidth": 0,
             "ticks": ""
            },
            "colorscale": [
             [
              0,
              "#0d0887"
             ],
             [
              0.1111111111111111,
              "#46039f"
             ],
             [
              0.2222222222222222,
              "#7201a8"
             ],
             [
              0.3333333333333333,
              "#9c179e"
             ],
             [
              0.4444444444444444,
              "#bd3786"
             ],
             [
              0.5555555555555556,
              "#d8576b"
             ],
             [
              0.6666666666666666,
              "#ed7953"
             ],
             [
              0.7777777777777778,
              "#fb9f3a"
             ],
             [
              0.8888888888888888,
              "#fdca26"
             ],
             [
              1,
              "#f0f921"
             ]
            ],
            "type": "contour"
           }
          ],
          "contourcarpet": [
           {
            "colorbar": {
             "outlinewidth": 0,
             "ticks": ""
            },
            "type": "contourcarpet"
           }
          ],
          "heatmap": [
           {
            "colorbar": {
             "outlinewidth": 0,
             "ticks": ""
            },
            "colorscale": [
             [
              0,
              "#0d0887"
             ],
             [
              0.1111111111111111,
              "#46039f"
             ],
             [
              0.2222222222222222,
              "#7201a8"
             ],
             [
              0.3333333333333333,
              "#9c179e"
             ],
             [
              0.4444444444444444,
              "#bd3786"
             ],
             [
              0.5555555555555556,
              "#d8576b"
             ],
             [
              0.6666666666666666,
              "#ed7953"
             ],
             [
              0.7777777777777778,
              "#fb9f3a"
             ],
             [
              0.8888888888888888,
              "#fdca26"
             ],
             [
              1,
              "#f0f921"
             ]
            ],
            "type": "heatmap"
           }
          ],
          "heatmapgl": [
           {
            "colorbar": {
             "outlinewidth": 0,
             "ticks": ""
            },
            "colorscale": [
             [
              0,
              "#0d0887"
             ],
             [
              0.1111111111111111,
              "#46039f"
             ],
             [
              0.2222222222222222,
              "#7201a8"
             ],
             [
              0.3333333333333333,
              "#9c179e"
             ],
             [
              0.4444444444444444,
              "#bd3786"
             ],
             [
              0.5555555555555556,
              "#d8576b"
             ],
             [
              0.6666666666666666,
              "#ed7953"
             ],
             [
              0.7777777777777778,
              "#fb9f3a"
             ],
             [
              0.8888888888888888,
              "#fdca26"
             ],
             [
              1,
              "#f0f921"
             ]
            ],
            "type": "heatmapgl"
           }
          ],
          "histogram": [
           {
            "marker": {
             "pattern": {
              "fillmode": "overlay",
              "size": 10,
              "solidity": 0.2
             }
            },
            "type": "histogram"
           }
          ],
          "histogram2d": [
           {
            "colorbar": {
             "outlinewidth": 0,
             "ticks": ""
            },
            "colorscale": [
             [
              0,
              "#0d0887"
             ],
             [
              0.1111111111111111,
              "#46039f"
             ],
             [
              0.2222222222222222,
              "#7201a8"
             ],
             [
              0.3333333333333333,
              "#9c179e"
             ],
             [
              0.4444444444444444,
              "#bd3786"
             ],
             [
              0.5555555555555556,
              "#d8576b"
             ],
             [
              0.6666666666666666,
              "#ed7953"
             ],
             [
              0.7777777777777778,
              "#fb9f3a"
             ],
             [
              0.8888888888888888,
              "#fdca26"
             ],
             [
              1,
              "#f0f921"
             ]
            ],
            "type": "histogram2d"
           }
          ],
          "histogram2dcontour": [
           {
            "colorbar": {
             "outlinewidth": 0,
             "ticks": ""
            },
            "colorscale": [
             [
              0,
              "#0d0887"
             ],
             [
              0.1111111111111111,
              "#46039f"
             ],
             [
              0.2222222222222222,
              "#7201a8"
             ],
             [
              0.3333333333333333,
              "#9c179e"
             ],
             [
              0.4444444444444444,
              "#bd3786"
             ],
             [
              0.5555555555555556,
              "#d8576b"
             ],
             [
              0.6666666666666666,
              "#ed7953"
             ],
             [
              0.7777777777777778,
              "#fb9f3a"
             ],
             [
              0.8888888888888888,
              "#fdca26"
             ],
             [
              1,
              "#f0f921"
             ]
            ],
            "type": "histogram2dcontour"
           }
          ],
          "mesh3d": [
           {
            "colorbar": {
             "outlinewidth": 0,
             "ticks": ""
            },
            "type": "mesh3d"
           }
          ],
          "parcoords": [
           {
            "line": {
             "colorbar": {
              "outlinewidth": 0,
              "ticks": ""
             }
            },
            "type": "parcoords"
           }
          ],
          "pie": [
           {
            "automargin": true,
            "type": "pie"
           }
          ],
          "scatter": [
           {
            "marker": {
             "colorbar": {
              "outlinewidth": 0,
              "ticks": ""
             }
            },
            "type": "scatter"
           }
          ],
          "scatter3d": [
           {
            "line": {
             "colorbar": {
              "outlinewidth": 0,
              "ticks": ""
             }
            },
            "marker": {
             "colorbar": {
              "outlinewidth": 0,
              "ticks": ""
             }
            },
            "type": "scatter3d"
           }
          ],
          "scattercarpet": [
           {
            "marker": {
             "colorbar": {
              "outlinewidth": 0,
              "ticks": ""
             }
            },
            "type": "scattercarpet"
           }
          ],
          "scattergeo": [
           {
            "marker": {
             "colorbar": {
              "outlinewidth": 0,
              "ticks": ""
             }
            },
            "type": "scattergeo"
           }
          ],
          "scattergl": [
           {
            "marker": {
             "colorbar": {
              "outlinewidth": 0,
              "ticks": ""
             }
            },
            "type": "scattergl"
           }
          ],
          "scattermapbox": [
           {
            "marker": {
             "colorbar": {
              "outlinewidth": 0,
              "ticks": ""
             }
            },
            "type": "scattermapbox"
           }
          ],
          "scatterpolar": [
           {
            "marker": {
             "colorbar": {
              "outlinewidth": 0,
              "ticks": ""
             }
            },
            "type": "scatterpolar"
           }
          ],
          "scatterpolargl": [
           {
            "marker": {
             "colorbar": {
              "outlinewidth": 0,
              "ticks": ""
             }
            },
            "type": "scatterpolargl"
           }
          ],
          "scatterternary": [
           {
            "marker": {
             "colorbar": {
              "outlinewidth": 0,
              "ticks": ""
             }
            },
            "type": "scatterternary"
           }
          ],
          "surface": [
           {
            "colorbar": {
             "outlinewidth": 0,
             "ticks": ""
            },
            "colorscale": [
             [
              0,
              "#0d0887"
             ],
             [
              0.1111111111111111,
              "#46039f"
             ],
             [
              0.2222222222222222,
              "#7201a8"
             ],
             [
              0.3333333333333333,
              "#9c179e"
             ],
             [
              0.4444444444444444,
              "#bd3786"
             ],
             [
              0.5555555555555556,
              "#d8576b"
             ],
             [
              0.6666666666666666,
              "#ed7953"
             ],
             [
              0.7777777777777778,
              "#fb9f3a"
             ],
             [
              0.8888888888888888,
              "#fdca26"
             ],
             [
              1,
              "#f0f921"
             ]
            ],
            "type": "surface"
           }
          ],
          "table": [
           {
            "cells": {
             "fill": {
              "color": "#EBF0F8"
             },
             "line": {
              "color": "white"
             }
            },
            "header": {
             "fill": {
              "color": "#C8D4E3"
             },
             "line": {
              "color": "white"
             }
            },
            "type": "table"
           }
          ]
         },
         "layout": {
          "annotationdefaults": {
           "arrowcolor": "#2a3f5f",
           "arrowhead": 0,
           "arrowwidth": 1
          },
          "autotypenumbers": "strict",
          "coloraxis": {
           "colorbar": {
            "outlinewidth": 0,
            "ticks": ""
           }
          },
          "colorscale": {
           "diverging": [
            [
             0,
             "#8e0152"
            ],
            [
             0.1,
             "#c51b7d"
            ],
            [
             0.2,
             "#de77ae"
            ],
            [
             0.3,
             "#f1b6da"
            ],
            [
             0.4,
             "#fde0ef"
            ],
            [
             0.5,
             "#f7f7f7"
            ],
            [
             0.6,
             "#e6f5d0"
            ],
            [
             0.7,
             "#b8e186"
            ],
            [
             0.8,
             "#7fbc41"
            ],
            [
             0.9,
             "#4d9221"
            ],
            [
             1,
             "#276419"
            ]
           ],
           "sequential": [
            [
             0,
             "#0d0887"
            ],
            [
             0.1111111111111111,
             "#46039f"
            ],
            [
             0.2222222222222222,
             "#7201a8"
            ],
            [
             0.3333333333333333,
             "#9c179e"
            ],
            [
             0.4444444444444444,
             "#bd3786"
            ],
            [
             0.5555555555555556,
             "#d8576b"
            ],
            [
             0.6666666666666666,
             "#ed7953"
            ],
            [
             0.7777777777777778,
             "#fb9f3a"
            ],
            [
             0.8888888888888888,
             "#fdca26"
            ],
            [
             1,
             "#f0f921"
            ]
           ],
           "sequentialminus": [
            [
             0,
             "#0d0887"
            ],
            [
             0.1111111111111111,
             "#46039f"
            ],
            [
             0.2222222222222222,
             "#7201a8"
            ],
            [
             0.3333333333333333,
             "#9c179e"
            ],
            [
             0.4444444444444444,
             "#bd3786"
            ],
            [
             0.5555555555555556,
             "#d8576b"
            ],
            [
             0.6666666666666666,
             "#ed7953"
            ],
            [
             0.7777777777777778,
             "#fb9f3a"
            ],
            [
             0.8888888888888888,
             "#fdca26"
            ],
            [
             1,
             "#f0f921"
            ]
           ]
          },
          "colorway": [
           "#636efa",
           "#EF553B",
           "#00cc96",
           "#ab63fa",
           "#FFA15A",
           "#19d3f3",
           "#FF6692",
           "#B6E880",
           "#FF97FF",
           "#FECB52"
          ],
          "font": {
           "color": "#2a3f5f"
          },
          "geo": {
           "bgcolor": "white",
           "lakecolor": "white",
           "landcolor": "#E5ECF6",
           "showlakes": true,
           "showland": true,
           "subunitcolor": "white"
          },
          "hoverlabel": {
           "align": "left"
          },
          "hovermode": "closest",
          "mapbox": {
           "style": "light"
          },
          "paper_bgcolor": "white",
          "plot_bgcolor": "#E5ECF6",
          "polar": {
           "angularaxis": {
            "gridcolor": "white",
            "linecolor": "white",
            "ticks": ""
           },
           "bgcolor": "#E5ECF6",
           "radialaxis": {
            "gridcolor": "white",
            "linecolor": "white",
            "ticks": ""
           }
          },
          "scene": {
           "xaxis": {
            "backgroundcolor": "#E5ECF6",
            "gridcolor": "white",
            "gridwidth": 2,
            "linecolor": "white",
            "showbackground": true,
            "ticks": "",
            "zerolinecolor": "white"
           },
           "yaxis": {
            "backgroundcolor": "#E5ECF6",
            "gridcolor": "white",
            "gridwidth": 2,
            "linecolor": "white",
            "showbackground": true,
            "ticks": "",
            "zerolinecolor": "white"
           },
           "zaxis": {
            "backgroundcolor": "#E5ECF6",
            "gridcolor": "white",
            "gridwidth": 2,
            "linecolor": "white",
            "showbackground": true,
            "ticks": "",
            "zerolinecolor": "white"
           }
          },
          "shapedefaults": {
           "line": {
            "color": "#2a3f5f"
           }
          },
          "ternary": {
           "aaxis": {
            "gridcolor": "white",
            "linecolor": "white",
            "ticks": ""
           },
           "baxis": {
            "gridcolor": "white",
            "linecolor": "white",
            "ticks": ""
           },
           "bgcolor": "#E5ECF6",
           "caxis": {
            "gridcolor": "white",
            "linecolor": "white",
            "ticks": ""
           }
          },
          "title": {
           "x": 0.05
          },
          "xaxis": {
           "automargin": true,
           "gridcolor": "white",
           "linecolor": "white",
           "ticks": "",
           "title": {
            "standoff": 15
           },
           "zerolinecolor": "white",
           "zerolinewidth": 2
          },
          "yaxis": {
           "automargin": true,
           "gridcolor": "white",
           "linecolor": "white",
           "ticks": "",
           "title": {
            "standoff": 15
           },
           "zerolinecolor": "white",
           "zerolinewidth": 2
          }
         }
        },
        "title": {
         "text": "Кол-во посадочных мест в зависимости от типа заведения"
        }
       }
      },
      "text/html": [
       "<div>                            <div id=\"209b0d24-325f-493d-b6fc-6c65499158ab\" class=\"plotly-graph-div\" style=\"height:525px; width:100%;\"></div>            <script type=\"text/javascript\">                require([\"plotly\"], function(Plotly) {                    window.PLOTLYENV=window.PLOTLYENV || {};                                    if (document.getElementById(\"209b0d24-325f-493d-b6fc-6c65499158ab\")) {                    Plotly.newPlot(                        \"209b0d24-325f-493d-b6fc-6c65499158ab\",                        [{\"domain\":{\"x\":[0.0,1.0],\"y\":[0.0,1.0]},\"hovertemplate\":\"object_type=%{label}<br>avg_number_of_seats=%{value}<extra></extra>\",\"labels\":[\"\\u0441\\u0442\\u043e\\u043b\\u043e\\u0432\\u0430\\u044f\",\"\\u0440\\u0435\\u0441\\u0442\\u043e\\u0440\\u0430\\u043d\",\"\\u0431\\u0430\\u0440\",\"\\u0431\\u0443\\u0444\\u0435\\u0442\",\"\\u043a\\u0430\\u0444\\u0435\",\"\\u043a\\u0430\\u0444\\u0435\\u0442\\u0435\\u0440\\u0438\\u0439\",\"\\u043f\\u0440\\u0435\\u0434\\u043f\\u0440\\u0438\\u044f\\u0442\\u0438\\u0435 \\u0431\\u044b\\u0441\\u0442\\u0440\\u043e\\u0433\\u043e \\u043e\\u0431\\u0441\\u043b\\u0443\\u0436\\u0438\\u0432\\u0430\\u043d\\u0438\\u044f\",\"\\u0437\\u0430\\u043a\\u0443\\u0441\\u043e\\u0447\\u043d\\u0430\\u044f\",\"\\u043c\\u0430\\u0433\\u0430\\u0437\\u0438\\u043d (\\u043e\\u0442\\u0434\\u0435\\u043b \\u043a\\u0443\\u043b\\u0438\\u043d\\u0430\\u0440\\u0438\\u0438)\"],\"legendgroup\":\"\",\"name\":\"\",\"showlegend\":true,\"values\":[103,80,35,32,30,6,6,0,0],\"type\":\"pie\"}],                        {\"template\":{\"data\":{\"bar\":[{\"error_x\":{\"color\":\"#2a3f5f\"},\"error_y\":{\"color\":\"#2a3f5f\"},\"marker\":{\"line\":{\"color\":\"#E5ECF6\",\"width\":0.5},\"pattern\":{\"fillmode\":\"overlay\",\"size\":10,\"solidity\":0.2}},\"type\":\"bar\"}],\"barpolar\":[{\"marker\":{\"line\":{\"color\":\"#E5ECF6\",\"width\":0.5},\"pattern\":{\"fillmode\":\"overlay\",\"size\":10,\"solidity\":0.2}},\"type\":\"barpolar\"}],\"carpet\":[{\"aaxis\":{\"endlinecolor\":\"#2a3f5f\",\"gridcolor\":\"white\",\"linecolor\":\"white\",\"minorgridcolor\":\"white\",\"startlinecolor\":\"#2a3f5f\"},\"baxis\":{\"endlinecolor\":\"#2a3f5f\",\"gridcolor\":\"white\",\"linecolor\":\"white\",\"minorgridcolor\":\"white\",\"startlinecolor\":\"#2a3f5f\"},\"type\":\"carpet\"}],\"choropleth\":[{\"colorbar\":{\"outlinewidth\":0,\"ticks\":\"\"},\"type\":\"choropleth\"}],\"contour\":[{\"colorbar\":{\"outlinewidth\":0,\"ticks\":\"\"},\"colorscale\":[[0.0,\"#0d0887\"],[0.1111111111111111,\"#46039f\"],[0.2222222222222222,\"#7201a8\"],[0.3333333333333333,\"#9c179e\"],[0.4444444444444444,\"#bd3786\"],[0.5555555555555556,\"#d8576b\"],[0.6666666666666666,\"#ed7953\"],[0.7777777777777778,\"#fb9f3a\"],[0.8888888888888888,\"#fdca26\"],[1.0,\"#f0f921\"]],\"type\":\"contour\"}],\"contourcarpet\":[{\"colorbar\":{\"outlinewidth\":0,\"ticks\":\"\"},\"type\":\"contourcarpet\"}],\"heatmap\":[{\"colorbar\":{\"outlinewidth\":0,\"ticks\":\"\"},\"colorscale\":[[0.0,\"#0d0887\"],[0.1111111111111111,\"#46039f\"],[0.2222222222222222,\"#7201a8\"],[0.3333333333333333,\"#9c179e\"],[0.4444444444444444,\"#bd3786\"],[0.5555555555555556,\"#d8576b\"],[0.6666666666666666,\"#ed7953\"],[0.7777777777777778,\"#fb9f3a\"],[0.8888888888888888,\"#fdca26\"],[1.0,\"#f0f921\"]],\"type\":\"heatmap\"}],\"heatmapgl\":[{\"colorbar\":{\"outlinewidth\":0,\"ticks\":\"\"},\"colorscale\":[[0.0,\"#0d0887\"],[0.1111111111111111,\"#46039f\"],[0.2222222222222222,\"#7201a8\"],[0.3333333333333333,\"#9c179e\"],[0.4444444444444444,\"#bd3786\"],[0.5555555555555556,\"#d8576b\"],[0.6666666666666666,\"#ed7953\"],[0.7777777777777778,\"#fb9f3a\"],[0.8888888888888888,\"#fdca26\"],[1.0,\"#f0f921\"]],\"type\":\"heatmapgl\"}],\"histogram\":[{\"marker\":{\"pattern\":{\"fillmode\":\"overlay\",\"size\":10,\"solidity\":0.2}},\"type\":\"histogram\"}],\"histogram2d\":[{\"colorbar\":{\"outlinewidth\":0,\"ticks\":\"\"},\"colorscale\":[[0.0,\"#0d0887\"],[0.1111111111111111,\"#46039f\"],[0.2222222222222222,\"#7201a8\"],[0.3333333333333333,\"#9c179e\"],[0.4444444444444444,\"#bd3786\"],[0.5555555555555556,\"#d8576b\"],[0.6666666666666666,\"#ed7953\"],[0.7777777777777778,\"#fb9f3a\"],[0.8888888888888888,\"#fdca26\"],[1.0,\"#f0f921\"]],\"type\":\"histogram2d\"}],\"histogram2dcontour\":[{\"colorbar\":{\"outlinewidth\":0,\"ticks\":\"\"},\"colorscale\":[[0.0,\"#0d0887\"],[0.1111111111111111,\"#46039f\"],[0.2222222222222222,\"#7201a8\"],[0.3333333333333333,\"#9c179e\"],[0.4444444444444444,\"#bd3786\"],[0.5555555555555556,\"#d8576b\"],[0.6666666666666666,\"#ed7953\"],[0.7777777777777778,\"#fb9f3a\"],[0.8888888888888888,\"#fdca26\"],[1.0,\"#f0f921\"]],\"type\":\"histogram2dcontour\"}],\"mesh3d\":[{\"colorbar\":{\"outlinewidth\":0,\"ticks\":\"\"},\"type\":\"mesh3d\"}],\"parcoords\":[{\"line\":{\"colorbar\":{\"outlinewidth\":0,\"ticks\":\"\"}},\"type\":\"parcoords\"}],\"pie\":[{\"automargin\":true,\"type\":\"pie\"}],\"scatter\":[{\"marker\":{\"colorbar\":{\"outlinewidth\":0,\"ticks\":\"\"}},\"type\":\"scatter\"}],\"scatter3d\":[{\"line\":{\"colorbar\":{\"outlinewidth\":0,\"ticks\":\"\"}},\"marker\":{\"colorbar\":{\"outlinewidth\":0,\"ticks\":\"\"}},\"type\":\"scatter3d\"}],\"scattercarpet\":[{\"marker\":{\"colorbar\":{\"outlinewidth\":0,\"ticks\":\"\"}},\"type\":\"scattercarpet\"}],\"scattergeo\":[{\"marker\":{\"colorbar\":{\"outlinewidth\":0,\"ticks\":\"\"}},\"type\":\"scattergeo\"}],\"scattergl\":[{\"marker\":{\"colorbar\":{\"outlinewidth\":0,\"ticks\":\"\"}},\"type\":\"scattergl\"}],\"scattermapbox\":[{\"marker\":{\"colorbar\":{\"outlinewidth\":0,\"ticks\":\"\"}},\"type\":\"scattermapbox\"}],\"scatterpolar\":[{\"marker\":{\"colorbar\":{\"outlinewidth\":0,\"ticks\":\"\"}},\"type\":\"scatterpolar\"}],\"scatterpolargl\":[{\"marker\":{\"colorbar\":{\"outlinewidth\":0,\"ticks\":\"\"}},\"type\":\"scatterpolargl\"}],\"scatterternary\":[{\"marker\":{\"colorbar\":{\"outlinewidth\":0,\"ticks\":\"\"}},\"type\":\"scatterternary\"}],\"surface\":[{\"colorbar\":{\"outlinewidth\":0,\"ticks\":\"\"},\"colorscale\":[[0.0,\"#0d0887\"],[0.1111111111111111,\"#46039f\"],[0.2222222222222222,\"#7201a8\"],[0.3333333333333333,\"#9c179e\"],[0.4444444444444444,\"#bd3786\"],[0.5555555555555556,\"#d8576b\"],[0.6666666666666666,\"#ed7953\"],[0.7777777777777778,\"#fb9f3a\"],[0.8888888888888888,\"#fdca26\"],[1.0,\"#f0f921\"]],\"type\":\"surface\"}],\"table\":[{\"cells\":{\"fill\":{\"color\":\"#EBF0F8\"},\"line\":{\"color\":\"white\"}},\"header\":{\"fill\":{\"color\":\"#C8D4E3\"},\"line\":{\"color\":\"white\"}},\"type\":\"table\"}]},\"layout\":{\"annotationdefaults\":{\"arrowcolor\":\"#2a3f5f\",\"arrowhead\":0,\"arrowwidth\":1},\"autotypenumbers\":\"strict\",\"coloraxis\":{\"colorbar\":{\"outlinewidth\":0,\"ticks\":\"\"}},\"colorscale\":{\"diverging\":[[0,\"#8e0152\"],[0.1,\"#c51b7d\"],[0.2,\"#de77ae\"],[0.3,\"#f1b6da\"],[0.4,\"#fde0ef\"],[0.5,\"#f7f7f7\"],[0.6,\"#e6f5d0\"],[0.7,\"#b8e186\"],[0.8,\"#7fbc41\"],[0.9,\"#4d9221\"],[1,\"#276419\"]],\"sequential\":[[0.0,\"#0d0887\"],[0.1111111111111111,\"#46039f\"],[0.2222222222222222,\"#7201a8\"],[0.3333333333333333,\"#9c179e\"],[0.4444444444444444,\"#bd3786\"],[0.5555555555555556,\"#d8576b\"],[0.6666666666666666,\"#ed7953\"],[0.7777777777777778,\"#fb9f3a\"],[0.8888888888888888,\"#fdca26\"],[1.0,\"#f0f921\"]],\"sequentialminus\":[[0.0,\"#0d0887\"],[0.1111111111111111,\"#46039f\"],[0.2222222222222222,\"#7201a8\"],[0.3333333333333333,\"#9c179e\"],[0.4444444444444444,\"#bd3786\"],[0.5555555555555556,\"#d8576b\"],[0.6666666666666666,\"#ed7953\"],[0.7777777777777778,\"#fb9f3a\"],[0.8888888888888888,\"#fdca26\"],[1.0,\"#f0f921\"]]},\"colorway\":[\"#636efa\",\"#EF553B\",\"#00cc96\",\"#ab63fa\",\"#FFA15A\",\"#19d3f3\",\"#FF6692\",\"#B6E880\",\"#FF97FF\",\"#FECB52\"],\"font\":{\"color\":\"#2a3f5f\"},\"geo\":{\"bgcolor\":\"white\",\"lakecolor\":\"white\",\"landcolor\":\"#E5ECF6\",\"showlakes\":true,\"showland\":true,\"subunitcolor\":\"white\"},\"hoverlabel\":{\"align\":\"left\"},\"hovermode\":\"closest\",\"mapbox\":{\"style\":\"light\"},\"paper_bgcolor\":\"white\",\"plot_bgcolor\":\"#E5ECF6\",\"polar\":{\"angularaxis\":{\"gridcolor\":\"white\",\"linecolor\":\"white\",\"ticks\":\"\"},\"bgcolor\":\"#E5ECF6\",\"radialaxis\":{\"gridcolor\":\"white\",\"linecolor\":\"white\",\"ticks\":\"\"}},\"scene\":{\"xaxis\":{\"backgroundcolor\":\"#E5ECF6\",\"gridcolor\":\"white\",\"gridwidth\":2,\"linecolor\":\"white\",\"showbackground\":true,\"ticks\":\"\",\"zerolinecolor\":\"white\"},\"yaxis\":{\"backgroundcolor\":\"#E5ECF6\",\"gridcolor\":\"white\",\"gridwidth\":2,\"linecolor\":\"white\",\"showbackground\":true,\"ticks\":\"\",\"zerolinecolor\":\"white\"},\"zaxis\":{\"backgroundcolor\":\"#E5ECF6\",\"gridcolor\":\"white\",\"gridwidth\":2,\"linecolor\":\"white\",\"showbackground\":true,\"ticks\":\"\",\"zerolinecolor\":\"white\"}},\"shapedefaults\":{\"line\":{\"color\":\"#2a3f5f\"}},\"ternary\":{\"aaxis\":{\"gridcolor\":\"white\",\"linecolor\":\"white\",\"ticks\":\"\"},\"baxis\":{\"gridcolor\":\"white\",\"linecolor\":\"white\",\"ticks\":\"\"},\"bgcolor\":\"#E5ECF6\",\"caxis\":{\"gridcolor\":\"white\",\"linecolor\":\"white\",\"ticks\":\"\"}},\"title\":{\"x\":0.05},\"xaxis\":{\"automargin\":true,\"gridcolor\":\"white\",\"linecolor\":\"white\",\"ticks\":\"\",\"title\":{\"standoff\":15},\"zerolinecolor\":\"white\",\"zerolinewidth\":2},\"yaxis\":{\"automargin\":true,\"gridcolor\":\"white\",\"linecolor\":\"white\",\"ticks\":\"\",\"title\":{\"standoff\":15},\"zerolinecolor\":\"white\",\"zerolinewidth\":2}}},\"legend\":{\"tracegroupgap\":0},\"title\":{\"text\":\"\\u041a\\u043e\\u043b-\\u0432\\u043e \\u043f\\u043e\\u0441\\u0430\\u0434\\u043e\\u0447\\u043d\\u044b\\u0445 \\u043c\\u0435\\u0441\\u0442 \\u0432 \\u0437\\u0430\\u0432\\u0438\\u0441\\u0438\\u043c\\u043e\\u0441\\u0442\\u0438 \\u043e\\u0442 \\u0442\\u0438\\u043f\\u0430 \\u0437\\u0430\\u0432\\u0435\\u0434\\u0435\\u043d\\u0438\\u044f\"},\"piecolorway\":[\"rgb(51, 19, 23)\",\"rgb(79, 28, 33)\",\"rgb(108, 36, 36)\",\"rgb(135, 47, 32)\",\"rgb(157, 66, 25)\",\"rgb(174, 88, 20)\",\"rgb(188, 111, 19)\",\"rgb(199, 137, 22)\",\"rgb(209, 164, 32)\",\"rgb(217, 192, 44)\",\"rgb(222, 222, 59)\",\"rgb(224, 253, 74)\"]},                        {\"responsive\": true}                    ).then(function(){\n",
       "                            \n",
       "var gd = document.getElementById('209b0d24-325f-493d-b6fc-6c65499158ab');\n",
       "var x = new MutationObserver(function (mutations, observer) {{\n",
       "        var display = window.getComputedStyle(gd).display;\n",
       "        if (!display || display === 'none') {{\n",
       "            console.log([gd, 'removed!']);\n",
       "            Plotly.purge(gd);\n",
       "            observer.disconnect();\n",
       "        }}\n",
       "}});\n",
       "\n",
       "// Listen for the removal of the full notebook cells\n",
       "var notebookContainer = gd.closest('#notebook-container');\n",
       "if (notebookContainer) {{\n",
       "    x.observe(notebookContainer, {childList: true});\n",
       "}}\n",
       "\n",
       "// Listen for the clearing of the current output cell\n",
       "var outputEl = gd.closest('.output');\n",
       "if (outputEl) {{\n",
       "    x.observe(outputEl, {childList: true});\n",
       "}}\n",
       "\n",
       "                        })                };                });            </script>        </div>"
      ]
     },
     "metadata": {},
     "output_type": "display_data"
    }
   ],
   "source": [
    "fig = px.pie(pivot_table_2,\n",
    "             values='avg_number_of_seats',\n",
    "             names='object_type',\n",
    "             color_discrete_sequence=px.colors.sequential.solar,\n",
    "            title='Кол-во посадочных мест в зависимости от типа заведения')\n",
    "fig.show()"
   ]
  },
  {
   "cell_type": "code",
   "execution_count": 50,
   "id": "524099ed",
   "metadata": {
    "scrolled": true
   },
   "outputs": [
    {
     "data": {
      "image/png": "[encoded data removed]",
      "text/plain": [
       "<Figure size 1080x504 with 1 Axes>"
      ]
     },
     "metadata": {},
     "output_type": "display_data"
    }
   ],
   "source": [
    "sns.boxplot(y='number', x='object_type', data=data)\n",
    "plt.ylim(-1, 750);"
   ]
  },
  {
   "cell_type": "markdown",
   "id": "6174ebc6",
   "metadata": {},
   "source": [
    "#### Вывод №5\n",
    "Больше всего посадочных мест в следующих типах объектов общественного питания:\n",
    "\n",
    "    - столовая: В среднем 100 посадочных мест;\n",
    "    - ресторан: В среднем 80 посадочных мест;\n",
    "    - бар: В среднем 35 посадочных мест;\n",
    "    - буфет: В среднем 32 посадочных места;\n",
    "    - кафе: В среднем 30 посадочных мест;"
   ]
  },
  {
   "cell_type": "markdown",
   "id": "6f5bf3d9",
   "metadata": {},
   "source": [
    "### Топ-10 улиц по количеству объектов общественного питания\n",
    "\n",
    "Постройте график топ-10 улиц по количеству объектов общественного питания. Воспользуйтесь внешней информацией и ответьте на вопрос — в каких районах Москвы находятся эти улицы?\n",
    "\n"
   ]
  },
  {
   "cell_type": "markdown",
   "id": "e6fcf994",
   "metadata": {},
   "source": [
    "#### Выделение в отдельный столбец информации об улице из столбца address\n",
    "\n",
    "Для решения этой задачи строка в столбце address будет разбиваться методом split() по запятым и по нужному индексу будет извлекаться улица. Т.к. в данных присутствует особенность - для Зеленоградского административного округа указывается \"город Москва, город Зеленоград\", а для всех остальных записей указывается только \"город Москва\", то выделение улицы будет производиться по условию. С помощью библиотеки re для регулярных выражений будут отобраны строки, в состав которых входит подстрока 'город Москва, город Зеленоград' и для них название улицы будет второй позиционный индекс в строке. Для остальных записей - первый.\n"
   ]
  },
  {
   "cell_type": "code",
   "execution_count": 51,
   "id": "2c7381ef",
   "metadata": {},
   "outputs": [],
   "source": [
    "# Строки датафрейма с 'город Москва, город Зеленоград'\n",
    "#display(data[data['address'].str.contains(\"Зеленоград\")].head())\n",
    "\n",
    "# Выделение улицы адреса в соответствии с алгоритмом, описанным выше\n",
    "pattern = re.compile(r'город Москва, город Зеленоград')\n",
    "data['address_street'] = [x.split(',')[2] if pattern.match(x) else x.split(',')[1] for x in data['address']]\n",
    "\n",
    "#Проверка правильности выделения улиц для строк с 'город Москва, город Зеленоград'\n",
    "#display(data[data['address'].str.contains(\"Зеленоград\")].head())\n",
    "\n",
    "#Проверка правильности выделения улиц для остальных строк\n",
    "#display(data.head())"
   ]
  },
  {
   "cell_type": "markdown",
   "id": "abffbc82",
   "metadata": {},
   "source": [
    "#### График топ-10 улиц по количеству объектов общественного питания"
   ]
  },
  {
   "cell_type": "code",
   "execution_count": 52,
   "id": "1caae0a5",
   "metadata": {},
   "outputs": [],
   "source": [
    "# топ-10 улиц по количеству объектов общественного питания\n",
    "pivot_table_3 = (\n",
    "    data.groupby('address_street')\n",
    "    .agg({'id':'nunique'})\n",
    "    .rename(columns={'id':'num_of_objects'})\n",
    "    .sort_values(by='num_of_objects', ascending=False)\n",
    "    .reset_index()\n",
    ")\n",
    "top_streets = pivot_table_3.head(10)"
   ]
  },
  {
   "cell_type": "code",
   "execution_count": 53,
   "id": "918728c7",
   "metadata": {
    "scrolled": true
   },
   "outputs": [
    {
     "data": {
      "image/png": "[encoded data removed]",
      "text/plain": [
       "<Figure size 1080x504 with 1 Axes>"
      ]
     },
     "metadata": {},
     "output_type": "display_data"
    }
   ],
   "source": [
    "sns.set(rc={'figure.figsize':(15,7)})\n",
    "\n",
    "streets_bar = sns.barplot(\n",
    "    x='address_street',\n",
    "    y='num_of_objects', \n",
    "    data=top_streets,\n",
    "    palette=\"pink\"\n",
    ")\n",
    "plt.xticks(rotation=90)\n",
    "plt.tight_layout()\n",
    "streets_bar.axes.set_title('Топ 10 улиц по числу объектов',fontsize=17)\n",
    "streets_bar.tick_params(labelsize=12)"
   ]
  },
  {
   "cell_type": "markdown",
   "id": "0e1fba09",
   "metadata": {},
   "source": [
    "#### Получение адресной информации из внешних источников"
   ]
  },
  {
   "cell_type": "markdown",
   "id": "25c13ea9",
   "metadata": {},
   "source": [
    "Внешняя таблица с адресной информацией:\n",
    "\n",
    "https://docs.google.com/spreadsheets/d/1mjuP5Ar5hCChMBZri5GNw_fSOL2N0jBj9wibKlCE3jU/edit?usp=sharing"
   ]
  },
  {
   "cell_type": "code",
   "execution_count": 54,
   "id": "56b0ad7d",
   "metadata": {
    "scrolled": true
   },
   "outputs": [
    {
     "data": {
      "text/html": [
       "<div>\n",
       "<style scoped>\n",
       "    .dataframe tbody tr th:only-of-type {\n",
       "        vertical-align: middle;\n",
       "    }\n",
       "\n",
       "    .dataframe tbody tr th {\n",
       "        vertical-align: top;\n",
       "    }\n",
       "\n",
       "    .dataframe thead th {\n",
       "        text-align: right;\n",
       "    }\n",
       "</style>\n",
       "<table border=\"1\" class=\"dataframe\">\n",
       "  <thead>\n",
       "    <tr style=\"text-align: right;\">\n",
       "      <th></th>\n",
       "      <th>address_street</th>\n",
       "      <th>num_of_objects</th>\n",
       "      <th>adm_area</th>\n",
       "      <th>district</th>\n",
       "    </tr>\n",
       "  </thead>\n",
       "  <tbody>\n",
       "    <tr>\n",
       "      <th>0</th>\n",
       "      <td>проспект Мира</td>\n",
       "      <td>204</td>\n",
       "      <td>Центральный административный округ</td>\n",
       "      <td>Мещанский район</td>\n",
       "    </tr>\n",
       "    <tr>\n",
       "      <th>1</th>\n",
       "      <td>Профсоюзная улица</td>\n",
       "      <td>181</td>\n",
       "      <td>Юго-Западный административный округ</td>\n",
       "      <td>Академический район</td>\n",
       "    </tr>\n",
       "    <tr>\n",
       "      <th>2</th>\n",
       "      <td>Ленинградский проспект</td>\n",
       "      <td>170</td>\n",
       "      <td>Северный административный округ</td>\n",
       "      <td>район Беговой</td>\n",
       "    </tr>\n",
       "    <tr>\n",
       "      <th>3</th>\n",
       "      <td>Пресненская набережная</td>\n",
       "      <td>167</td>\n",
       "      <td>Центральный административный округ</td>\n",
       "      <td>Пресненский район</td>\n",
       "    </tr>\n",
       "    <tr>\n",
       "      <th>4</th>\n",
       "      <td>Варшавское шоссе</td>\n",
       "      <td>161</td>\n",
       "      <td>Южный административный округ</td>\n",
       "      <td>Донской район</td>\n",
       "    </tr>\n",
       "    <tr>\n",
       "      <th>5</th>\n",
       "      <td>Ленинский проспект</td>\n",
       "      <td>147</td>\n",
       "      <td>Центральный административный округ</td>\n",
       "      <td>район Якиманка</td>\n",
       "    </tr>\n",
       "    <tr>\n",
       "      <th>6</th>\n",
       "      <td>поселение Сосенское</td>\n",
       "      <td>137</td>\n",
       "      <td>Новомосковский административный округ</td>\n",
       "      <td>поселение Сосенское</td>\n",
       "    </tr>\n",
       "    <tr>\n",
       "      <th>7</th>\n",
       "      <td>проспект Вернадского</td>\n",
       "      <td>128</td>\n",
       "      <td>Юго-Западный административный округ</td>\n",
       "      <td>Ломоносовский район</td>\n",
       "    </tr>\n",
       "    <tr>\n",
       "      <th>8</th>\n",
       "      <td>Кутузовский проспект</td>\n",
       "      <td>114</td>\n",
       "      <td>Западный административный округ</td>\n",
       "      <td>район Дорогомилово</td>\n",
       "    </tr>\n",
       "    <tr>\n",
       "      <th>9</th>\n",
       "      <td>Каширское шоссе</td>\n",
       "      <td>111</td>\n",
       "      <td>Южный административный округ</td>\n",
       "      <td>район Москворечье-Сабурово</td>\n",
       "    </tr>\n",
       "  </tbody>\n",
       "</table>\n",
       "</div>"
      ],
      "text/plain": [
       "            address_street  num_of_objects  \\\n",
       "0            проспект Мира             204   \n",
       "1        Профсоюзная улица             181   \n",
       "2   Ленинградский проспект             170   \n",
       "3   Пресненская набережная             167   \n",
       "4         Варшавское шоссе             161   \n",
       "5       Ленинский проспект             147   \n",
       "6      поселение Сосенское             137   \n",
       "7     проспект Вернадского             128   \n",
       "8     Кутузовский проспект             114   \n",
       "9          Каширское шоссе             111   \n",
       "\n",
       "                                adm_area                    district  \n",
       "0     Центральный административный округ             Мещанский район  \n",
       "1    Юго-Западный административный округ         Академический район  \n",
       "2        Северный административный округ               район Беговой  \n",
       "3     Центральный административный округ           Пресненский район  \n",
       "4           Южный административный округ               Донской район  \n",
       "5     Центральный административный округ              район Якиманка  \n",
       "6  Новомосковский административный округ         поселение Сосенское  \n",
       "7    Юго-Западный административный округ         Ломоносовский район  \n",
       "8        Западный административный округ          район Дорогомилово  \n",
       "9           Южный административный округ  район Москворечье-Сабурово  "
      ]
     },
     "metadata": {},
     "output_type": "display_data"
    }
   ],
   "source": [
    "# чтение таблицы\n",
    "from io import BytesIO\n",
    "import requests\n",
    "spreadsheet_id = '1mjuP5Ar5hCChMBZri5GNw_fSOL2N0jBj9wibKlCE3jU'\n",
    "file_name = 'https://docs.google.com/spreadsheets/d/{}/export?format=csv'.format(spreadsheet_id)\n",
    "r = requests.get(file_name)\n",
    "data_large = pd.read_csv(BytesIO(r.content))\n",
    "#pd.set_option('display.max_columns', None)\n",
    "#display(data_large.head())\n",
    "\n",
    "#переименование столбцов\n",
    "data_large = data_large.rename(columns=\n",
    "                               {'ID':'id','Name':'name','IsNetObject':'is_net_object',\n",
    "                                'OperatingCompany':'operating_company','TypeObject':'type_object','AdmArea':'adm_area',\n",
    "                                'District':'district','Address':'address','PublicPhone':'public_phone',\n",
    "                                'SeatsCount':'seats_count','SocialPrivileges':'social_privileges'})\n",
    "#display(data_large.head())\n",
    "\n",
    "#избавляюсь от первой строки\n",
    "info = data_large.loc[0] #сохраняю информацию\n",
    "data_large = data_large.drop(index=[0]) #удаляю первую строку\n",
    "data_large = data_large.reset_index(drop=True) #сбрасываю индекс\n",
    "#display(data_large.head())\n",
    "\n",
    "#получаю названия улиц по описанному выше алгоритму\n",
    "data_large['address_street'] = [x.split(',')[2] if pattern.match(x) else x.split(',')[1] for x in data_large['address']]\n",
    "#display(data_large.head())\n",
    "\n",
    "# подготавливаю данные для объединения - группирую по названию улиц\n",
    "data_large_grouped = (\n",
    "    data_large.groupby('address_street')\n",
    "    .agg({'adm_area':'first','district':'first'})\n",
    "    .reset_index()    \n",
    ")\n",
    "#display(data_large_grouped.head())\n",
    "\n",
    "#объединяю таблицы\n",
    "data_combined = pd.merge(left=top_streets, right=data_large_grouped, how='left', on='address_street')\n",
    "display(data_combined)"
   ]
  },
  {
   "cell_type": "markdown",
   "id": "7b861aca",
   "metadata": {},
   "source": [
    "#### Вывод №6\n",
    "Топ улиц по количеству объектов общественного питания:\n",
    "\n",
    "    - проспект Мира (Мещанский район, ЦАО);\n",
    "    \n",
    "    - ул.Профсоюзная (Академический район, ЮЗАО);\n",
    "    \n",
    "    - Ленинградский проспект (район Беговой, CAJ);"
   ]
  },
  {
   "cell_type": "markdown",
   "id": "64c81d9d",
   "metadata": {},
   "source": [
    "### Улицы с одним объектом общественного питания\n",
    "\n",
    "Найдите число улиц с одним объектом общественного питания. Воспользуйтесь внешней информацией и ответьте на вопрос — в каких районах Москвы находятся эти улицы?\n",
    "\n"
   ]
  },
  {
   "cell_type": "code",
   "execution_count": 55,
   "id": "965902bb",
   "metadata": {},
   "outputs": [
    {
     "name": "stdout",
     "output_type": "stream",
     "text": [
      "Число улиц с одним объектом общественного питания: 672\n"
     ]
    }
   ],
   "source": [
    "pivot_table_4 = (\n",
    "    data.groupby('address_street')\n",
    "    .agg({'id':'nunique'})\n",
    "    .rename(columns={'id':'num_of_objects'})\n",
    "    .query('num_of_objects == 1')\n",
    "    .reset_index()\n",
    ")\n",
    "number_of_streets_with_one_object = pivot_table_4.shape[0]\n",
    "print('Число улиц с одним объектом общественного питания:', number_of_streets_with_one_object)"
   ]
  },
  {
   "cell_type": "code",
   "execution_count": 56,
   "id": "dbdda7d1",
   "metadata": {},
   "outputs": [
    {
     "data": {
      "text/plain": [
       "0        1-й Балтийский переулок\n",
       "1         1-й Басманный переулок\n",
       "2        1-й Ботанический проезд\n",
       "3        1-й Вешняковский проезд\n",
       "4      1-й Голутвинский переулок\n",
       "5      1-й Зачатьевский переулок\n",
       "6         1-й Кирпичный переулок\n",
       "7     1-й Кожевнический переулок\n",
       "8         1-й Кожуховский проезд\n",
       "9       1-й Коптельский переулок\n",
       "Name: address_street, dtype: object"
      ]
     },
     "execution_count": 56,
     "metadata": {},
     "output_type": "execute_result"
    }
   ],
   "source": [
    "pivot_table_4['address_street'].head(10)"
   ]
  },
  {
   "cell_type": "code",
   "execution_count": 57,
   "id": "ce888531",
   "metadata": {},
   "outputs": [
    {
     "data": {
      "text/html": [
       "<div>\n",
       "<style scoped>\n",
       "    .dataframe tbody tr th:only-of-type {\n",
       "        vertical-align: middle;\n",
       "    }\n",
       "\n",
       "    .dataframe tbody tr th {\n",
       "        vertical-align: top;\n",
       "    }\n",
       "\n",
       "    .dataframe thead th {\n",
       "        text-align: right;\n",
       "    }\n",
       "</style>\n",
       "<table border=\"1\" class=\"dataframe\">\n",
       "  <thead>\n",
       "    <tr style=\"text-align: right;\">\n",
       "      <th></th>\n",
       "      <th>address_street</th>\n",
       "      <th>num_of_objects</th>\n",
       "      <th>adm_area</th>\n",
       "      <th>district</th>\n",
       "    </tr>\n",
       "  </thead>\n",
       "  <tbody>\n",
       "    <tr>\n",
       "      <th>0</th>\n",
       "      <td>1-й Балтийский переулок</td>\n",
       "      <td>1</td>\n",
       "      <td>Северный административный округ</td>\n",
       "      <td>район Аэропорт</td>\n",
       "    </tr>\n",
       "    <tr>\n",
       "      <th>1</th>\n",
       "      <td>1-й Басманный переулок</td>\n",
       "      <td>1</td>\n",
       "      <td>Центральный административный округ</td>\n",
       "      <td>Красносельский район</td>\n",
       "    </tr>\n",
       "    <tr>\n",
       "      <th>2</th>\n",
       "      <td>1-й Ботанический проезд</td>\n",
       "      <td>1</td>\n",
       "      <td>Северо-Восточный административный округ</td>\n",
       "      <td>район Свиблово</td>\n",
       "    </tr>\n",
       "    <tr>\n",
       "      <th>3</th>\n",
       "      <td>1-й Вешняковский проезд</td>\n",
       "      <td>1</td>\n",
       "      <td>NaN</td>\n",
       "      <td>NaN</td>\n",
       "    </tr>\n",
       "    <tr>\n",
       "      <th>4</th>\n",
       "      <td>1-й Голутвинский переулок</td>\n",
       "      <td>1</td>\n",
       "      <td>Центральный административный округ</td>\n",
       "      <td>район Якиманка</td>\n",
       "    </tr>\n",
       "    <tr>\n",
       "      <th>5</th>\n",
       "      <td>1-й Зачатьевский переулок</td>\n",
       "      <td>1</td>\n",
       "      <td>NaN</td>\n",
       "      <td>NaN</td>\n",
       "    </tr>\n",
       "    <tr>\n",
       "      <th>6</th>\n",
       "      <td>1-й Кирпичный переулок</td>\n",
       "      <td>1</td>\n",
       "      <td>Восточный административный округ</td>\n",
       "      <td>район Соколиная Гора</td>\n",
       "    </tr>\n",
       "    <tr>\n",
       "      <th>7</th>\n",
       "      <td>1-й Кожевнический переулок</td>\n",
       "      <td>1</td>\n",
       "      <td>NaN</td>\n",
       "      <td>NaN</td>\n",
       "    </tr>\n",
       "    <tr>\n",
       "      <th>8</th>\n",
       "      <td>1-й Кожуховский проезд</td>\n",
       "      <td>1</td>\n",
       "      <td>NaN</td>\n",
       "      <td>NaN</td>\n",
       "    </tr>\n",
       "    <tr>\n",
       "      <th>9</th>\n",
       "      <td>1-й Коптельский переулок</td>\n",
       "      <td>1</td>\n",
       "      <td>NaN</td>\n",
       "      <td>NaN</td>\n",
       "    </tr>\n",
       "  </tbody>\n",
       "</table>\n",
       "</div>"
      ],
      "text/plain": [
       "                address_street  num_of_objects  \\\n",
       "0      1-й Балтийский переулок               1   \n",
       "1       1-й Басманный переулок               1   \n",
       "2      1-й Ботанический проезд               1   \n",
       "3      1-й Вешняковский проезд               1   \n",
       "4    1-й Голутвинский переулок               1   \n",
       "5    1-й Зачатьевский переулок               1   \n",
       "6       1-й Кирпичный переулок               1   \n",
       "7   1-й Кожевнический переулок               1   \n",
       "8       1-й Кожуховский проезд               1   \n",
       "9     1-й Коптельский переулок               1   \n",
       "\n",
       "                                  adm_area              district  \n",
       "0          Северный административный округ        район Аэропорт  \n",
       "1       Центральный административный округ  Красносельский район  \n",
       "2  Северо-Восточный административный округ        район Свиблово  \n",
       "3                                      NaN                   NaN  \n",
       "4       Центральный административный округ        район Якиманка  \n",
       "5                                      NaN                   NaN  \n",
       "6         Восточный административный округ  район Соколиная Гора  \n",
       "7                                      NaN                   NaN  \n",
       "8                                      NaN                   NaN  \n",
       "9                                      NaN                   NaN  "
      ]
     },
     "metadata": {},
     "output_type": "display_data"
    }
   ],
   "source": [
    "#объединяю таблицы\n",
    "data_combined_2 = pd.merge(left=pivot_table_4, right=data_large_grouped, how='left', on='address_street')\n",
    "display(data_combined_2.head(10))"
   ]
  },
  {
   "cell_type": "markdown",
   "id": "ad744fd1",
   "metadata": {},
   "source": [
    "#### Вывод №7\n",
    "\n",
    "    - 1-й Балтийский переулок (район Аэропорт, САО)\n",
    "    - 1-й Басманный переулок (районы Красносельский, ЦАО)\n",
    "    - 1-й Ботанический проезд (район Свиблово, СВАО)\n",
    "    - 1-й Вешняковский проезд (район Рязанский, ЮВАО - ручной поиск)\n",
    "    - 1-й Голутвинский переулок (район Якиманка, ЦАО)"
   ]
  },
  {
   "cell_type": "markdown",
   "id": "2f8cbc9c",
   "metadata": {},
   "source": [
    "### Распределение количества посадочных мест для улиц с большим количеством объектов общественного питания\n",
    "Посмотрите на распределение количества посадочных мест для улиц с большим количеством объектов общественного питания. Какие закономерности можно выявить?"
   ]
  },
  {
   "cell_type": "code",
   "execution_count": 58,
   "id": "d0550010",
   "metadata": {},
   "outputs": [],
   "source": [
    "pivot_table_5 = (\n",
    "    data.groupby('address_street')\n",
    "    .agg({'id':'nunique', 'number':'median'})\n",
    "    .rename(columns={'id':'num_of_objects','number':'avg_num_of_seats'})\n",
    "    .sort_values(by='num_of_objects', ascending=False)\n",
    "    .reset_index()\n",
    ")\n",
    "top_streets = pivot_table_5.head(10)\n",
    "#top_streets"
   ]
  },
  {
   "cell_type": "code",
   "execution_count": 59,
   "id": "e318debf",
   "metadata": {
    "scrolled": true
   },
   "outputs": [
    {
     "data": {
      "image/png": "[encoded data removed]",
      "text/plain": [
       "<Figure size 1080x504 with 1 Axes>"
      ]
     },
     "metadata": {},
     "output_type": "display_data"
    }
   ],
   "source": [
    "seats_distribution = sns.distplot(top_streets['avg_num_of_seats'], bins=5, color='#672F09')\n",
    "seats_distribution.set_title('Распределение количества посадочных мест для улиц с большим количеством объектов общественного питания',\n",
    "                            fontsize=15);"
   ]
  },
  {
   "cell_type": "markdown",
   "id": "ffc97f0f",
   "metadata": {},
   "source": [
    "#### Вывод №8\n",
    "\n",
    "    Распределение количества посадочных мест для улиц с большим количеством объектов общественного питания представляет из себя нормальное с вершиной в районе 40 посадочных мест"
   ]
  },
  {
   "cell_type": "markdown",
   "id": "3751206d",
   "metadata": {},
   "source": [
    "## Общий вывод\n",
    "\n",
    "Сделайте общий вывод и дайте рекомендации о виде заведения, количестве посадочных мест, а также районе расположения. Прокомментируйте возможность развития сети."
   ]
  },
  {
   "cell_type": "markdown",
   "id": "93f8cf58",
   "metadata": {},
   "source": [
    "**Результаты исследования:**\n",
    "- Из общего числа заведений доля сетевых составляет 20%;\n",
    "- 50% всех типов сетевых заведений составляют кафе; \n",
    "- В кафе около 25 посадочных мест. На проходных улицах число посадочных мест в среднем увеличивается до 40. В сетевых заведениях среднее число посадочных мест составляет 45;\n",
    "- Самые популярные улицы для открытия заведений:  проспект Мира, ул.Профсоюзная, Ленинградский проспект,Пресненская набережная.\n",
    "    \n",
    "**Рекомендации:**\n",
    "\n",
    "Так как планируется открывать уникальное место, в котором будут обслуживать роботы, то лучше всего сделать ставку на кафе в проходном месте (например, проспект Мира) с большим числом посадочных мест (не менее 40) и быстрым обслуживанием роботами\n",
    "\n",
    "\n"
   ]
  },
  {
   "cell_type": "code",
   "execution_count": null,
   "id": "5aa99f40",
   "metadata": {},
   "outputs": [],
   "source": []
  }
 ],
 "metadata": {
  "ExecuteTimeLog": [
   {
    "duration": 2042,
    "start_time": "2022-05-08T08:55:01.672Z"
   },
   {
    "duration": 277,
    "start_time": "2022-05-08T08:55:03.717Z"
   },
   {
    "duration": 0,
    "start_time": "2022-05-08T08:55:03.998Z"
   },
   {
    "duration": 0,
    "start_time": "2022-05-08T08:55:03.999Z"
   },
   {
    "duration": 0,
    "start_time": "2022-05-08T08:55:04.001Z"
   },
   {
    "duration": 0,
    "start_time": "2022-05-08T08:55:04.002Z"
   },
   {
    "duration": 0,
    "start_time": "2022-05-08T08:55:04.003Z"
   },
   {
    "duration": 0,
    "start_time": "2022-05-08T08:55:04.005Z"
   },
   {
    "duration": 4,
    "start_time": "2022-05-08T08:55:14.388Z"
   },
   {
    "duration": 110,
    "start_time": "2022-05-08T08:55:14.395Z"
   },
   {
    "duration": 18,
    "start_time": "2022-05-08T08:55:14.507Z"
   },
   {
    "duration": 38,
    "start_time": "2022-05-08T08:55:14.528Z"
   },
   {
    "duration": 33,
    "start_time": "2022-05-08T08:55:14.568Z"
   },
   {
    "duration": 13,
    "start_time": "2022-05-08T08:55:14.603Z"
   },
   {
    "duration": 44,
    "start_time": "2022-05-08T08:55:14.617Z"
   },
   {
    "duration": 265,
    "start_time": "2022-05-08T08:55:14.664Z"
   },
   {
    "duration": 1642,
    "start_time": "2022-05-08T09:01:15.727Z"
   },
   {
    "duration": 116,
    "start_time": "2022-05-08T09:01:17.373Z"
   },
   {
    "duration": 20,
    "start_time": "2022-05-08T09:01:17.492Z"
   },
   {
    "duration": 41,
    "start_time": "2022-05-08T09:01:17.514Z"
   },
   {
    "duration": 37,
    "start_time": "2022-05-08T09:01:17.560Z"
   },
   {
    "duration": 14,
    "start_time": "2022-05-08T09:01:17.599Z"
   },
   {
    "duration": 49,
    "start_time": "2022-05-08T09:01:17.616Z"
   },
   {
    "duration": 228,
    "start_time": "2022-05-08T09:01:17.667Z"
   },
   {
    "duration": 168,
    "start_time": "2022-05-08T09:05:13.304Z"
   },
   {
    "duration": 27,
    "start_time": "2022-05-08T09:05:22.967Z"
   },
   {
    "duration": 21,
    "start_time": "2022-05-08T09:05:28.238Z"
   },
   {
    "duration": 1420,
    "start_time": "2022-05-08T09:05:31.192Z"
   },
   {
    "duration": 109,
    "start_time": "2022-05-08T09:06:13.038Z"
   },
   {
    "duration": 25,
    "start_time": "2022-05-08T09:07:04.535Z"
   },
   {
    "duration": 21,
    "start_time": "2022-05-08T09:07:12.479Z"
   },
   {
    "duration": 14,
    "start_time": "2022-05-08T09:07:12.934Z"
   },
   {
    "duration": 4,
    "start_time": "2022-05-08T09:10:59.248Z"
   },
   {
    "duration": 121,
    "start_time": "2022-05-08T09:10:59.255Z"
   },
   {
    "duration": 13,
    "start_time": "2022-05-08T09:10:59.378Z"
   },
   {
    "duration": 20,
    "start_time": "2022-05-08T09:10:59.395Z"
   },
   {
    "duration": 69,
    "start_time": "2022-05-08T09:10:59.417Z"
   },
   {
    "duration": 15,
    "start_time": "2022-05-08T09:10:59.489Z"
   },
   {
    "duration": 63,
    "start_time": "2022-05-08T09:10:59.507Z"
   },
   {
    "duration": 16,
    "start_time": "2022-05-08T09:10:59.572Z"
   },
   {
    "duration": 10,
    "start_time": "2022-05-08T09:32:33.482Z"
   },
   {
    "duration": 17,
    "start_time": "2022-05-08T09:32:45.370Z"
   },
   {
    "duration": 16,
    "start_time": "2022-05-08T09:32:56.139Z"
   },
   {
    "duration": 17,
    "start_time": "2022-05-08T09:33:09.809Z"
   },
   {
    "duration": 7,
    "start_time": "2022-05-08T09:35:30.034Z"
   },
   {
    "duration": 17,
    "start_time": "2022-05-08T09:35:41.354Z"
   },
   {
    "duration": 13,
    "start_time": "2022-05-08T09:51:27.748Z"
   },
   {
    "duration": 17,
    "start_time": "2022-05-08T09:51:34.419Z"
   },
   {
    "duration": 88,
    "start_time": "2022-05-08T09:54:54.388Z"
   },
   {
    "duration": 23,
    "start_time": "2022-05-08T09:55:09.370Z"
   },
   {
    "duration": 22,
    "start_time": "2022-05-08T09:55:20.955Z"
   },
   {
    "duration": 236,
    "start_time": "2022-05-08T09:55:41.098Z"
   },
   {
    "duration": 18,
    "start_time": "2022-05-08T09:57:32.172Z"
   },
   {
    "duration": 15,
    "start_time": "2022-05-08T09:57:36.635Z"
   },
   {
    "duration": 4,
    "start_time": "2022-05-08T09:57:55.028Z"
   },
   {
    "duration": 124,
    "start_time": "2022-05-08T09:57:55.035Z"
   },
   {
    "duration": 15,
    "start_time": "2022-05-08T09:57:55.162Z"
   },
   {
    "duration": 27,
    "start_time": "2022-05-08T09:57:55.181Z"
   },
   {
    "duration": 78,
    "start_time": "2022-05-08T09:57:55.211Z"
   },
   {
    "duration": 20,
    "start_time": "2022-05-08T09:57:55.292Z"
   },
   {
    "duration": 42,
    "start_time": "2022-05-08T09:57:55.314Z"
   },
   {
    "duration": 16,
    "start_time": "2022-05-08T09:57:55.359Z"
   },
   {
    "duration": 17,
    "start_time": "2022-05-08T09:57:55.380Z"
   },
   {
    "duration": 65,
    "start_time": "2022-05-08T09:57:55.399Z"
   },
   {
    "duration": 29,
    "start_time": "2022-05-08T09:57:55.466Z"
   },
   {
    "duration": 54,
    "start_time": "2022-05-08T09:57:55.498Z"
   },
   {
    "duration": 5,
    "start_time": "2022-05-08T09:58:36.843Z"
   },
   {
    "duration": 9,
    "start_time": "2022-05-08T09:58:39.122Z"
   },
   {
    "duration": 153,
    "start_time": "2022-05-08T09:58:39.135Z"
   },
   {
    "duration": 18,
    "start_time": "2022-05-08T09:58:39.291Z"
   },
   {
    "duration": 41,
    "start_time": "2022-05-08T09:58:39.313Z"
   },
   {
    "duration": 30,
    "start_time": "2022-05-08T09:58:39.356Z"
   },
   {
    "duration": 19,
    "start_time": "2022-05-08T09:58:39.389Z"
   },
   {
    "duration": 51,
    "start_time": "2022-05-08T09:58:39.411Z"
   },
   {
    "duration": 18,
    "start_time": "2022-05-08T09:58:39.465Z"
   },
   {
    "duration": 16,
    "start_time": "2022-05-08T09:58:39.486Z"
   },
   {
    "duration": 55,
    "start_time": "2022-05-08T09:58:39.505Z"
   },
   {
    "duration": 28,
    "start_time": "2022-05-08T09:58:39.563Z"
   },
   {
    "duration": 244,
    "start_time": "2022-05-08T09:58:39.594Z"
   },
   {
    "duration": 48,
    "start_time": "2022-05-08T09:59:28.244Z"
   },
   {
    "duration": 18,
    "start_time": "2022-05-08T10:00:44.732Z"
   },
   {
    "duration": 90,
    "start_time": "2022-05-08T10:00:54.732Z"
   },
   {
    "duration": 13,
    "start_time": "2022-05-08T10:01:00.386Z"
   },
   {
    "duration": 16,
    "start_time": "2022-05-08T10:01:37.836Z"
   },
   {
    "duration": 13,
    "start_time": "2022-05-08T10:01:45.811Z"
   },
   {
    "duration": 39,
    "start_time": "2022-05-08T10:03:06.939Z"
   },
   {
    "duration": 22,
    "start_time": "2022-05-08T10:03:34.064Z"
   },
   {
    "duration": 24,
    "start_time": "2022-05-08T10:04:30.532Z"
   },
   {
    "duration": 21,
    "start_time": "2022-05-08T10:04:49.100Z"
   },
   {
    "duration": 16,
    "start_time": "2022-05-08T10:05:05.957Z"
   },
   {
    "duration": 16,
    "start_time": "2022-05-08T10:05:09.765Z"
   },
   {
    "duration": 17,
    "start_time": "2022-05-08T11:55:45.246Z"
   },
   {
    "duration": 15,
    "start_time": "2022-05-08T11:57:09.958Z"
   },
   {
    "duration": 16,
    "start_time": "2022-05-08T11:58:04.854Z"
   },
   {
    "duration": 16,
    "start_time": "2022-05-08T11:58:32.999Z"
   },
   {
    "duration": 15,
    "start_time": "2022-05-08T11:58:36.865Z"
   },
   {
    "duration": 15,
    "start_time": "2022-05-08T11:59:21.230Z"
   },
   {
    "duration": 14,
    "start_time": "2022-05-08T11:59:36.069Z"
   },
   {
    "duration": 16,
    "start_time": "2022-05-08T11:59:40.270Z"
   },
   {
    "duration": 16,
    "start_time": "2022-05-08T11:59:43.277Z"
   },
   {
    "duration": 16,
    "start_time": "2022-05-08T12:01:56.817Z"
   },
   {
    "duration": 29,
    "start_time": "2022-05-08T14:59:04.076Z"
   },
   {
    "duration": 20,
    "start_time": "2022-05-08T15:01:09.676Z"
   },
   {
    "duration": 20,
    "start_time": "2022-05-08T15:01:30.220Z"
   },
   {
    "duration": 10,
    "start_time": "2022-05-08T15:02:12.180Z"
   },
   {
    "duration": 24,
    "start_time": "2022-05-08T15:04:05.228Z"
   },
   {
    "duration": 30,
    "start_time": "2022-05-08T15:04:19.500Z"
   },
   {
    "duration": 4,
    "start_time": "2022-05-08T15:06:00.533Z"
   },
   {
    "duration": 153,
    "start_time": "2022-05-08T15:06:00.540Z"
   },
   {
    "duration": 17,
    "start_time": "2022-05-08T15:06:00.695Z"
   },
   {
    "duration": 48,
    "start_time": "2022-05-08T15:06:00.715Z"
   },
   {
    "duration": 53,
    "start_time": "2022-05-08T15:06:00.766Z"
   },
   {
    "duration": 20,
    "start_time": "2022-05-08T15:06:00.821Z"
   },
   {
    "duration": 18,
    "start_time": "2022-05-08T15:06:00.851Z"
   },
   {
    "duration": 30,
    "start_time": "2022-05-08T15:06:00.872Z"
   },
   {
    "duration": 44,
    "start_time": "2022-05-08T15:06:00.907Z"
   },
   {
    "duration": 22,
    "start_time": "2022-05-08T15:06:00.954Z"
   },
   {
    "duration": 14,
    "start_time": "2022-05-08T15:06:00.978Z"
   },
   {
    "duration": 56,
    "start_time": "2022-05-08T15:06:00.994Z"
   },
   {
    "duration": 63,
    "start_time": "2022-05-08T15:06:01.052Z"
   },
   {
    "duration": 1220,
    "start_time": "2022-05-08T15:12:15.156Z"
   },
   {
    "duration": 4,
    "start_time": "2022-05-08T15:12:33.037Z"
   },
   {
    "duration": 334,
    "start_time": "2022-05-08T15:12:49.013Z"
   },
   {
    "duration": 14,
    "start_time": "2022-05-08T15:12:53.469Z"
   },
   {
    "duration": 635,
    "start_time": "2022-05-08T15:14:15.837Z"
   },
   {
    "duration": 195,
    "start_time": "2022-05-08T15:14:45.620Z"
   },
   {
    "duration": 24,
    "start_time": "2022-05-08T15:17:31.118Z"
   },
   {
    "duration": 34,
    "start_time": "2022-05-08T15:17:43.069Z"
   },
   {
    "duration": 15,
    "start_time": "2022-05-08T15:30:21.535Z"
   },
   {
    "duration": 31,
    "start_time": "2022-05-08T15:30:33.415Z"
   },
   {
    "duration": 23,
    "start_time": "2022-05-08T15:30:47.311Z"
   },
   {
    "duration": 24,
    "start_time": "2022-05-08T15:30:58.646Z"
   },
   {
    "duration": 28,
    "start_time": "2022-05-08T15:31:15.703Z"
   },
   {
    "duration": 32,
    "start_time": "2022-05-08T15:31:20.422Z"
   },
   {
    "duration": 14,
    "start_time": "2022-05-08T15:31:20.653Z"
   },
   {
    "duration": 2138,
    "start_time": "2022-05-08T15:32:10.878Z"
   },
   {
    "duration": 2156,
    "start_time": "2022-05-08T15:35:09.231Z"
   },
   {
    "duration": 2537,
    "start_time": "2022-05-08T15:35:23.615Z"
   },
   {
    "duration": 2389,
    "start_time": "2022-05-08T15:35:30.935Z"
   },
   {
    "duration": 12,
    "start_time": "2022-05-08T15:35:52.369Z"
   },
   {
    "duration": 14,
    "start_time": "2022-05-08T15:35:54.519Z"
   },
   {
    "duration": 2425,
    "start_time": "2022-05-08T15:36:56.976Z"
   },
   {
    "duration": 2516,
    "start_time": "2022-05-08T15:37:06.887Z"
   },
   {
    "duration": 2198,
    "start_time": "2022-05-08T15:37:21.088Z"
   },
   {
    "duration": 2840,
    "start_time": "2022-05-08T17:28:28.122Z"
   },
   {
    "duration": 2669,
    "start_time": "2022-05-08T17:31:59.443Z"
   },
   {
    "duration": 2378,
    "start_time": "2022-05-08T17:32:04.347Z"
   },
   {
    "duration": 2685,
    "start_time": "2022-05-08T17:32:11.707Z"
   },
   {
    "duration": 2266,
    "start_time": "2022-05-08T17:32:31.221Z"
   },
   {
    "duration": 2752,
    "start_time": "2022-05-08T17:37:53.491Z"
   },
   {
    "duration": 2278,
    "start_time": "2022-05-08T17:38:16.292Z"
   },
   {
    "duration": 2798,
    "start_time": "2022-05-08T17:39:10.186Z"
   },
   {
    "duration": 2275,
    "start_time": "2022-05-08T17:39:29.298Z"
   },
   {
    "duration": 2878,
    "start_time": "2022-05-08T17:40:08.050Z"
   },
   {
    "duration": 2231,
    "start_time": "2022-05-08T17:40:41.997Z"
   },
   {
    "duration": 6,
    "start_time": "2022-05-08T17:41:07.130Z"
   },
   {
    "duration": 6,
    "start_time": "2022-05-08T17:41:20.123Z"
   },
   {
    "duration": 2340,
    "start_time": "2022-05-08T17:42:29.371Z"
   },
   {
    "duration": 2844,
    "start_time": "2022-05-08T17:42:49.539Z"
   },
   {
    "duration": 2401,
    "start_time": "2022-05-08T17:44:31.195Z"
   },
   {
    "duration": 2803,
    "start_time": "2022-05-08T17:44:36.490Z"
   },
   {
    "duration": 4,
    "start_time": "2022-05-08T17:56:55.994Z"
   },
   {
    "duration": 131,
    "start_time": "2022-05-08T17:56:56.002Z"
   },
   {
    "duration": 13,
    "start_time": "2022-05-08T17:56:56.136Z"
   },
   {
    "duration": 22,
    "start_time": "2022-05-08T17:56:56.151Z"
   },
   {
    "duration": 32,
    "start_time": "2022-05-08T17:56:56.177Z"
   },
   {
    "duration": 54,
    "start_time": "2022-05-08T17:56:56.211Z"
   },
   {
    "duration": 16,
    "start_time": "2022-05-08T17:56:56.268Z"
   },
   {
    "duration": 16,
    "start_time": "2022-05-08T17:56:56.286Z"
   },
   {
    "duration": 61,
    "start_time": "2022-05-08T17:56:56.304Z"
   },
   {
    "duration": 26,
    "start_time": "2022-05-08T17:56:56.367Z"
   },
   {
    "duration": 15,
    "start_time": "2022-05-08T17:56:56.396Z"
   },
   {
    "duration": 25,
    "start_time": "2022-05-08T17:56:56.452Z"
   },
   {
    "duration": 6,
    "start_time": "2022-05-08T17:56:56.479Z"
   },
   {
    "duration": 2253,
    "start_time": "2022-05-08T17:56:56.487Z"
   },
   {
    "duration": 17,
    "start_time": "2022-05-08T17:56:58.742Z"
   },
   {
    "duration": 16,
    "start_time": "2022-05-08T17:56:58.761Z"
   },
   {
    "duration": 24,
    "start_time": "2022-05-08T18:02:22.269Z"
   },
   {
    "duration": 13,
    "start_time": "2022-05-08T18:04:25.653Z"
   },
   {
    "duration": 18,
    "start_time": "2022-05-08T18:05:27.609Z"
   },
   {
    "duration": 16,
    "start_time": "2022-05-08T18:07:27.845Z"
   },
   {
    "duration": 15,
    "start_time": "2022-05-08T18:08:42.108Z"
   },
   {
    "duration": 4,
    "start_time": "2022-05-08T18:08:58.072Z"
   },
   {
    "duration": 111,
    "start_time": "2022-05-08T18:08:58.079Z"
   },
   {
    "duration": 13,
    "start_time": "2022-05-08T18:08:58.192Z"
   },
   {
    "duration": 35,
    "start_time": "2022-05-08T18:08:58.208Z"
   },
   {
    "duration": 34,
    "start_time": "2022-05-08T18:08:58.246Z"
   },
   {
    "duration": 21,
    "start_time": "2022-05-08T18:08:58.282Z"
   },
   {
    "duration": 55,
    "start_time": "2022-05-08T18:08:58.305Z"
   },
   {
    "duration": 20,
    "start_time": "2022-05-08T18:08:58.362Z"
   },
   {
    "duration": 19,
    "start_time": "2022-05-08T18:08:58.384Z"
   },
   {
    "duration": 69,
    "start_time": "2022-05-08T18:08:58.406Z"
   },
   {
    "duration": 14,
    "start_time": "2022-05-08T18:08:58.477Z"
   },
   {
    "duration": 71,
    "start_time": "2022-05-08T18:08:58.493Z"
   },
   {
    "duration": 8,
    "start_time": "2022-05-08T18:08:58.567Z"
   },
   {
    "duration": 2896,
    "start_time": "2022-05-08T18:08:58.581Z"
   },
   {
    "duration": 15,
    "start_time": "2022-05-08T18:09:01.479Z"
   },
   {
    "duration": 34,
    "start_time": "2022-05-08T18:09:01.496Z"
   },
   {
    "duration": 37,
    "start_time": "2022-05-08T18:09:01.532Z"
   },
   {
    "duration": 3,
    "start_time": "2022-05-08T18:42:28.230Z"
   },
   {
    "duration": 20,
    "start_time": "2022-05-08T18:47:32.023Z"
   },
   {
    "duration": 21,
    "start_time": "2022-05-08T18:48:12.568Z"
   },
   {
    "duration": 5,
    "start_time": "2022-05-08T20:21:31.584Z"
   },
   {
    "duration": 112,
    "start_time": "2022-05-08T20:21:31.592Z"
   },
   {
    "duration": 14,
    "start_time": "2022-05-08T20:21:31.706Z"
   },
   {
    "duration": 42,
    "start_time": "2022-05-08T20:21:31.723Z"
   },
   {
    "duration": 37,
    "start_time": "2022-05-08T20:21:31.768Z"
   },
   {
    "duration": 52,
    "start_time": "2022-05-08T20:21:31.807Z"
   },
   {
    "duration": 15,
    "start_time": "2022-05-08T20:21:31.861Z"
   },
   {
    "duration": 32,
    "start_time": "2022-05-08T20:21:31.878Z"
   },
   {
    "duration": 40,
    "start_time": "2022-05-08T20:21:31.913Z"
   },
   {
    "duration": 20,
    "start_time": "2022-05-08T20:21:31.956Z"
   },
   {
    "duration": 14,
    "start_time": "2022-05-08T20:21:31.979Z"
   },
   {
    "duration": 68,
    "start_time": "2022-05-08T20:21:31.996Z"
   },
   {
    "duration": 6,
    "start_time": "2022-05-08T20:21:32.066Z"
   },
   {
    "duration": 2752,
    "start_time": "2022-05-08T20:21:32.074Z"
   },
   {
    "duration": 37,
    "start_time": "2022-05-08T20:21:34.829Z"
   },
   {
    "duration": 32,
    "start_time": "2022-05-08T20:21:34.869Z"
   },
   {
    "duration": 15,
    "start_time": "2022-05-08T20:21:34.904Z"
   },
   {
    "duration": 17,
    "start_time": "2022-05-08T20:21:34.952Z"
   },
   {
    "duration": 5,
    "start_time": "2022-05-08T20:22:29.309Z"
   },
   {
    "duration": 13,
    "start_time": "2022-05-08T20:22:32.894Z"
   },
   {
    "duration": 6,
    "start_time": "2022-05-08T20:22:36.782Z"
   },
   {
    "duration": 16,
    "start_time": "2022-05-08T20:26:29.415Z"
   },
   {
    "duration": 6,
    "start_time": "2022-05-08T20:28:37.401Z"
   },
   {
    "duration": 6,
    "start_time": "2022-05-08T20:28:44.689Z"
   },
   {
    "duration": 5,
    "start_time": "2022-05-08T20:34:01.039Z"
   },
   {
    "duration": 6,
    "start_time": "2022-05-08T20:34:09.887Z"
   },
   {
    "duration": 5,
    "start_time": "2022-05-08T20:35:01.521Z"
   },
   {
    "duration": 6,
    "start_time": "2022-05-08T20:35:07.552Z"
   },
   {
    "duration": 12,
    "start_time": "2022-05-08T20:35:27.810Z"
   },
   {
    "duration": 7,
    "start_time": "2022-05-08T20:35:49.280Z"
   },
   {
    "duration": 33,
    "start_time": "2022-05-08T20:36:55.616Z"
   },
   {
    "duration": 16,
    "start_time": "2022-05-08T20:37:07.384Z"
   },
   {
    "duration": 28,
    "start_time": "2022-05-08T20:37:50.272Z"
   },
   {
    "duration": 38,
    "start_time": "2022-05-08T20:41:03.271Z"
   },
   {
    "duration": 24,
    "start_time": "2022-05-08T20:41:35.561Z"
   },
   {
    "duration": 24,
    "start_time": "2022-05-08T20:41:50.841Z"
   },
   {
    "duration": 16,
    "start_time": "2022-05-08T20:42:10.485Z"
   },
   {
    "duration": 21,
    "start_time": "2022-05-08T20:42:16.696Z"
   },
   {
    "duration": 23,
    "start_time": "2022-05-08T20:42:27.105Z"
   },
   {
    "duration": 15,
    "start_time": "2022-05-08T20:43:48.849Z"
   },
   {
    "duration": 26,
    "start_time": "2022-05-08T20:43:52.768Z"
   },
   {
    "duration": 12,
    "start_time": "2022-05-08T20:44:13.209Z"
   },
   {
    "duration": 9,
    "start_time": "2022-05-08T20:44:30.593Z"
   },
   {
    "duration": 9,
    "start_time": "2022-05-08T20:44:33.205Z"
   },
   {
    "duration": 16,
    "start_time": "2022-05-08T20:44:38.096Z"
   },
   {
    "duration": 27,
    "start_time": "2022-05-08T20:46:44.188Z"
   },
   {
    "duration": 84,
    "start_time": "2022-05-08T20:50:40.098Z"
   },
   {
    "duration": 18,
    "start_time": "2022-05-08T20:58:58.867Z"
   },
   {
    "duration": 20,
    "start_time": "2022-05-08T20:59:12.914Z"
   },
   {
    "duration": 35,
    "start_time": "2022-05-08T21:00:58.730Z"
   },
   {
    "duration": 9,
    "start_time": "2022-05-08T21:01:12.843Z"
   },
   {
    "duration": 7,
    "start_time": "2022-05-08T21:01:52.138Z"
   },
   {
    "duration": 9,
    "start_time": "2022-05-08T21:01:56.218Z"
   },
   {
    "duration": 6,
    "start_time": "2022-05-08T21:01:59.362Z"
   },
   {
    "duration": 4,
    "start_time": "2022-05-08T21:02:37.610Z"
   },
   {
    "duration": 87,
    "start_time": "2022-05-08T21:03:00.466Z"
   },
   {
    "duration": 7,
    "start_time": "2022-05-08T21:03:17.787Z"
   },
   {
    "duration": 5,
    "start_time": "2022-05-08T21:04:01.330Z"
   },
   {
    "duration": 4,
    "start_time": "2022-05-08T21:04:07.890Z"
   },
   {
    "duration": 5,
    "start_time": "2022-05-08T21:04:33.003Z"
   },
   {
    "duration": 5,
    "start_time": "2022-05-08T21:04:36.282Z"
   },
   {
    "duration": 6,
    "start_time": "2022-05-08T21:06:58.554Z"
   },
   {
    "duration": 6,
    "start_time": "2022-05-08T21:07:17.890Z"
   },
   {
    "duration": 6,
    "start_time": "2022-05-08T21:08:57.498Z"
   },
   {
    "duration": 103,
    "start_time": "2022-05-08T21:10:03.139Z"
   },
   {
    "duration": 6,
    "start_time": "2022-05-08T21:10:26.482Z"
   },
   {
    "duration": 6,
    "start_time": "2022-05-08T21:10:47.042Z"
   },
   {
    "duration": 8,
    "start_time": "2022-05-08T21:12:21.586Z"
   },
   {
    "duration": 8,
    "start_time": "2022-05-08T21:12:29.116Z"
   },
   {
    "duration": 7,
    "start_time": "2022-05-08T21:14:12.179Z"
   },
   {
    "duration": 7,
    "start_time": "2022-05-08T21:14:16.667Z"
   },
   {
    "duration": 121,
    "start_time": "2022-05-08T21:14:43.747Z"
   },
   {
    "duration": 6,
    "start_time": "2022-05-08T21:14:57.810Z"
   },
   {
    "duration": 7,
    "start_time": "2022-05-08T21:15:10.451Z"
   },
   {
    "duration": 22,
    "start_time": "2022-05-08T21:16:40.052Z"
   },
   {
    "duration": 17,
    "start_time": "2022-05-08T21:16:43.627Z"
   },
   {
    "duration": 28,
    "start_time": "2022-05-08T21:16:58.211Z"
   },
   {
    "duration": 14,
    "start_time": "2022-05-08T21:18:11.907Z"
   },
   {
    "duration": 85,
    "start_time": "2022-05-08T21:18:26.051Z"
   },
   {
    "duration": 87,
    "start_time": "2022-05-08T21:19:23.564Z"
   },
   {
    "duration": 17,
    "start_time": "2022-05-08T21:19:27.899Z"
   },
   {
    "duration": 14,
    "start_time": "2022-05-08T21:19:50.091Z"
   },
   {
    "duration": 33,
    "start_time": "2022-05-08T21:23:26.803Z"
   },
   {
    "duration": 23,
    "start_time": "2022-05-08T21:24:12.572Z"
   },
   {
    "duration": 5,
    "start_time": "2022-05-08T21:31:53.481Z"
   },
   {
    "duration": 162,
    "start_time": "2022-05-08T21:31:53.488Z"
   },
   {
    "duration": 16,
    "start_time": "2022-05-08T21:31:53.656Z"
   },
   {
    "duration": 54,
    "start_time": "2022-05-08T21:31:53.675Z"
   },
   {
    "duration": 86,
    "start_time": "2022-05-08T21:31:53.731Z"
   },
   {
    "duration": 46,
    "start_time": "2022-05-08T21:31:53.819Z"
   },
   {
    "duration": 39,
    "start_time": "2022-05-08T21:31:53.868Z"
   },
   {
    "duration": 52,
    "start_time": "2022-05-08T21:31:53.910Z"
   },
   {
    "duration": 15,
    "start_time": "2022-05-08T21:31:53.966Z"
   },
   {
    "duration": 22,
    "start_time": "2022-05-08T21:31:53.983Z"
   },
   {
    "duration": 53,
    "start_time": "2022-05-08T21:31:54.008Z"
   },
   {
    "duration": 24,
    "start_time": "2022-05-08T21:31:54.064Z"
   },
   {
    "duration": 6,
    "start_time": "2022-05-08T21:31:54.091Z"
   },
   {
    "duration": 2996,
    "start_time": "2022-05-08T21:31:54.099Z"
   },
   {
    "duration": 20,
    "start_time": "2022-05-08T21:31:57.097Z"
   },
   {
    "duration": 40,
    "start_time": "2022-05-08T21:31:57.119Z"
   },
   {
    "duration": 28,
    "start_time": "2022-05-08T21:31:57.162Z"
   },
   {
    "duration": 23,
    "start_time": "2022-05-08T21:31:57.193Z"
   },
   {
    "duration": 62,
    "start_time": "2022-05-08T21:31:57.218Z"
   },
   {
    "duration": 7,
    "start_time": "2022-05-08T21:31:57.282Z"
   },
   {
    "duration": 83,
    "start_time": "2022-05-08T21:32:41.590Z"
   },
   {
    "duration": 4,
    "start_time": "2022-05-08T21:32:46.275Z"
   },
   {
    "duration": 117,
    "start_time": "2022-05-08T21:32:46.283Z"
   },
   {
    "duration": 13,
    "start_time": "2022-05-08T21:32:46.403Z"
   },
   {
    "duration": 40,
    "start_time": "2022-05-08T21:32:46.419Z"
   },
   {
    "duration": 36,
    "start_time": "2022-05-08T21:32:46.463Z"
   },
   {
    "duration": 53,
    "start_time": "2022-05-08T21:32:46.501Z"
   },
   {
    "duration": 25,
    "start_time": "2022-05-08T21:32:46.557Z"
   },
   {
    "duration": 21,
    "start_time": "2022-05-08T21:32:46.586Z"
   },
   {
    "duration": 59,
    "start_time": "2022-05-08T21:32:46.610Z"
   },
   {
    "duration": 24,
    "start_time": "2022-05-08T21:32:46.675Z"
   },
   {
    "duration": 65,
    "start_time": "2022-05-08T21:32:46.702Z"
   },
   {
    "duration": 35,
    "start_time": "2022-05-08T21:32:46.770Z"
   },
   {
    "duration": 7,
    "start_time": "2022-05-08T21:32:46.808Z"
   },
   {
    "duration": 2420,
    "start_time": "2022-05-08T21:32:46.817Z"
   },
   {
    "duration": 31,
    "start_time": "2022-05-08T21:32:49.240Z"
   },
   {
    "duration": 16,
    "start_time": "2022-05-08T21:32:49.273Z"
   },
   {
    "duration": 20,
    "start_time": "2022-05-08T21:32:49.291Z"
   },
   {
    "duration": 100,
    "start_time": "2022-05-08T21:32:49.357Z"
   },
   {
    "duration": 76,
    "start_time": "2022-05-08T21:34:02.270Z"
   },
   {
    "duration": 5,
    "start_time": "2022-05-08T21:34:18.148Z"
   },
   {
    "duration": 134,
    "start_time": "2022-05-08T21:34:18.156Z"
   },
   {
    "duration": 16,
    "start_time": "2022-05-08T21:34:18.292Z"
   },
   {
    "duration": 21,
    "start_time": "2022-05-08T21:34:18.310Z"
   },
   {
    "duration": 33,
    "start_time": "2022-05-08T21:34:18.357Z"
   },
   {
    "duration": 18,
    "start_time": "2022-05-08T21:34:18.393Z"
   },
   {
    "duration": 55,
    "start_time": "2022-05-08T21:34:18.413Z"
   },
   {
    "duration": 20,
    "start_time": "2022-05-08T21:34:18.472Z"
   },
   {
    "duration": 18,
    "start_time": "2022-05-08T21:34:18.498Z"
   },
   {
    "duration": 29,
    "start_time": "2022-05-08T21:34:18.553Z"
   },
   {
    "duration": 15,
    "start_time": "2022-05-08T21:34:18.585Z"
   },
   {
    "duration": 66,
    "start_time": "2022-05-08T21:34:18.602Z"
   },
   {
    "duration": 9,
    "start_time": "2022-05-08T21:34:18.671Z"
   },
   {
    "duration": 2991,
    "start_time": "2022-05-08T21:34:18.682Z"
   },
   {
    "duration": 19,
    "start_time": "2022-05-08T21:34:21.675Z"
   },
   {
    "duration": 15,
    "start_time": "2022-05-08T21:34:21.696Z"
   },
   {
    "duration": 61,
    "start_time": "2022-05-08T21:34:21.714Z"
   },
   {
    "duration": 101,
    "start_time": "2022-05-08T21:34:21.778Z"
   },
   {
    "duration": 39,
    "start_time": "2022-05-08T21:34:54.229Z"
   },
   {
    "duration": 1893,
    "start_time": "2022-05-09T08:54:10.301Z"
   },
   {
    "duration": 113,
    "start_time": "2022-05-09T08:54:12.197Z"
   },
   {
    "duration": 18,
    "start_time": "2022-05-09T08:54:12.312Z"
   },
   {
    "duration": 20,
    "start_time": "2022-05-09T08:54:12.333Z"
   },
   {
    "duration": 37,
    "start_time": "2022-05-09T08:54:12.355Z"
   },
   {
    "duration": 39,
    "start_time": "2022-05-09T08:54:12.394Z"
   },
   {
    "duration": 249,
    "start_time": "2022-05-09T08:54:12.435Z"
   },
   {
    "duration": 38,
    "start_time": "2022-05-09T08:54:12.686Z"
   },
   {
    "duration": 14,
    "start_time": "2022-05-09T08:54:12.727Z"
   },
   {
    "duration": 20,
    "start_time": "2022-05-09T08:54:12.745Z"
   },
   {
    "duration": 68,
    "start_time": "2022-05-09T08:54:12.767Z"
   },
   {
    "duration": 24,
    "start_time": "2022-05-09T08:54:12.837Z"
   },
   {
    "duration": 61,
    "start_time": "2022-05-09T08:54:12.863Z"
   },
   {
    "duration": 2450,
    "start_time": "2022-05-09T08:54:12.927Z"
   },
   {
    "duration": 18,
    "start_time": "2022-05-09T08:54:15.379Z"
   },
   {
    "duration": 32,
    "start_time": "2022-05-09T08:54:15.399Z"
   },
   {
    "duration": 34,
    "start_time": "2022-05-09T08:54:15.433Z"
   },
   {
    "duration": 33,
    "start_time": "2022-05-09T08:54:15.470Z"
   },
   {
    "duration": 52,
    "start_time": "2022-05-09T08:55:34.988Z"
   },
   {
    "duration": 1610,
    "start_time": "2022-05-09T08:57:02.398Z"
   },
   {
    "duration": 140,
    "start_time": "2022-05-09T08:57:04.011Z"
   },
   {
    "duration": 22,
    "start_time": "2022-05-09T08:57:04.153Z"
   },
   {
    "duration": 51,
    "start_time": "2022-05-09T08:57:04.179Z"
   },
   {
    "duration": 52,
    "start_time": "2022-05-09T08:57:04.233Z"
   },
   {
    "duration": 52,
    "start_time": "2022-05-09T08:57:04.288Z"
   },
   {
    "duration": 365,
    "start_time": "2022-05-09T08:57:04.343Z"
   },
   {
    "duration": 22,
    "start_time": "2022-05-09T08:57:04.712Z"
   },
   {
    "duration": 15,
    "start_time": "2022-05-09T08:57:04.736Z"
   },
   {
    "duration": 78,
    "start_time": "2022-05-09T08:57:04.754Z"
   },
   {
    "duration": 15,
    "start_time": "2022-05-09T08:57:04.835Z"
   },
   {
    "duration": 77,
    "start_time": "2022-05-09T08:57:04.852Z"
   },
   {
    "duration": 7,
    "start_time": "2022-05-09T08:57:04.931Z"
   },
   {
    "duration": 2491,
    "start_time": "2022-05-09T08:57:04.940Z"
   },
   {
    "duration": 19,
    "start_time": "2022-05-09T08:57:07.433Z"
   },
   {
    "duration": 14,
    "start_time": "2022-05-09T08:57:07.455Z"
   },
   {
    "duration": 61,
    "start_time": "2022-05-09T08:57:07.472Z"
   },
   {
    "duration": 26,
    "start_time": "2022-05-09T08:57:07.535Z"
   },
   {
    "duration": 264,
    "start_time": "2022-05-09T08:57:07.563Z"
   },
   {
    "duration": 1524,
    "start_time": "2022-05-09T08:57:47.048Z"
   },
   {
    "duration": 126,
    "start_time": "2022-05-09T08:57:48.575Z"
   },
   {
    "duration": 20,
    "start_time": "2022-05-09T08:57:48.703Z"
   },
   {
    "duration": 21,
    "start_time": "2022-05-09T08:57:48.726Z"
   },
   {
    "duration": 32,
    "start_time": "2022-05-09T08:57:48.749Z"
   },
   {
    "duration": 45,
    "start_time": "2022-05-09T08:57:48.784Z"
   },
   {
    "duration": 249,
    "start_time": "2022-05-09T08:57:48.831Z"
   },
   {
    "duration": 18,
    "start_time": "2022-05-09T08:57:49.082Z"
   },
   {
    "duration": 32,
    "start_time": "2022-05-09T08:57:49.102Z"
   },
   {
    "duration": 22,
    "start_time": "2022-05-09T08:57:49.137Z"
   },
   {
    "duration": 67,
    "start_time": "2022-05-09T08:57:49.162Z"
   },
   {
    "duration": 24,
    "start_time": "2022-05-09T08:57:49.231Z"
   },
   {
    "duration": 6,
    "start_time": "2022-05-09T08:57:49.258Z"
   },
   {
    "duration": 2479,
    "start_time": "2022-05-09T08:57:49.267Z"
   },
   {
    "duration": 18,
    "start_time": "2022-05-09T08:57:51.748Z"
   },
   {
    "duration": 15,
    "start_time": "2022-05-09T08:57:51.769Z"
   },
   {
    "duration": 67,
    "start_time": "2022-05-09T08:57:51.787Z"
   },
   {
    "duration": 39,
    "start_time": "2022-05-09T08:57:51.857Z"
   },
   {
    "duration": 433,
    "start_time": "2022-05-09T08:57:51.900Z"
   },
   {
    "duration": 37,
    "start_time": "2022-05-09T08:57:52.336Z"
   },
   {
    "duration": 1575,
    "start_time": "2022-05-09T08:59:20.175Z"
   },
   {
    "duration": 113,
    "start_time": "2022-05-09T08:59:21.752Z"
   },
   {
    "duration": 19,
    "start_time": "2022-05-09T08:59:21.867Z"
   },
   {
    "duration": 39,
    "start_time": "2022-05-09T08:59:21.889Z"
   },
   {
    "duration": 34,
    "start_time": "2022-05-09T08:59:21.930Z"
   },
   {
    "duration": 21,
    "start_time": "2022-05-09T08:59:21.967Z"
   },
   {
    "duration": 268,
    "start_time": "2022-05-09T08:59:21.990Z"
   },
   {
    "duration": 17,
    "start_time": "2022-05-09T08:59:22.261Z"
   },
   {
    "duration": 15,
    "start_time": "2022-05-09T08:59:22.280Z"
   },
   {
    "duration": 22,
    "start_time": "2022-05-09T08:59:22.327Z"
   },
   {
    "duration": 16,
    "start_time": "2022-05-09T08:59:22.351Z"
   },
   {
    "duration": 25,
    "start_time": "2022-05-09T08:59:22.425Z"
   },
   {
    "duration": 8,
    "start_time": "2022-05-09T08:59:22.452Z"
   },
   {
    "duration": 2538,
    "start_time": "2022-05-09T08:59:22.462Z"
   },
   {
    "duration": 32,
    "start_time": "2022-05-09T08:59:25.003Z"
   },
   {
    "duration": 15,
    "start_time": "2022-05-09T08:59:25.038Z"
   },
   {
    "duration": 26,
    "start_time": "2022-05-09T08:59:25.056Z"
   },
   {
    "duration": 58,
    "start_time": "2022-05-09T08:59:25.084Z"
   },
   {
    "duration": 15395,
    "start_time": "2022-05-09T08:59:25.144Z"
   },
   {
    "duration": 24,
    "start_time": "2022-05-09T08:59:40.541Z"
   },
   {
    "duration": 165,
    "start_time": "2022-05-09T09:00:08.236Z"
   },
   {
    "duration": 19,
    "start_time": "2022-05-09T09:00:10.306Z"
   },
   {
    "duration": 234,
    "start_time": "2022-05-09T09:00:10.737Z"
   },
   {
    "duration": 258,
    "start_time": "2022-05-09T09:00:21.610Z"
   },
   {
    "duration": 287,
    "start_time": "2022-05-09T09:01:07.931Z"
   },
   {
    "duration": 15,
    "start_time": "2022-05-09T09:01:33.465Z"
   },
   {
    "duration": 229,
    "start_time": "2022-05-09T09:01:47.050Z"
   },
   {
    "duration": 235,
    "start_time": "2022-05-09T09:02:13.466Z"
   },
   {
    "duration": 22,
    "start_time": "2022-05-09T09:02:21.513Z"
   },
   {
    "duration": 319,
    "start_time": "2022-05-09T09:03:13.682Z"
   },
   {
    "duration": 332,
    "start_time": "2022-05-09T09:03:17.033Z"
   },
   {
    "duration": 118,
    "start_time": "2022-05-09T09:04:24.451Z"
   },
   {
    "duration": 449,
    "start_time": "2022-05-09T09:04:29.418Z"
   },
   {
    "duration": 374,
    "start_time": "2022-05-09T09:04:39.507Z"
   },
   {
    "duration": 394,
    "start_time": "2022-05-09T09:05:25.765Z"
   },
   {
    "duration": 552,
    "start_time": "2022-05-09T09:06:08.666Z"
   },
   {
    "duration": 552,
    "start_time": "2022-05-09T09:06:20.291Z"
   },
   {
    "duration": 599,
    "start_time": "2022-05-09T09:06:27.290Z"
   },
   {
    "duration": 557,
    "start_time": "2022-05-09T09:06:34.845Z"
   },
   {
    "duration": 685,
    "start_time": "2022-05-09T09:06:43.915Z"
   },
   {
    "duration": 643,
    "start_time": "2022-05-09T09:06:51.171Z"
   },
   {
    "duration": 629,
    "start_time": "2022-05-09T09:08:51.699Z"
   },
   {
    "duration": 658,
    "start_time": "2022-05-09T09:09:17.682Z"
   },
   {
    "duration": 645,
    "start_time": "2022-05-09T09:09:24.497Z"
   },
   {
    "duration": 643,
    "start_time": "2022-05-09T09:09:30.546Z"
   },
   {
    "duration": 635,
    "start_time": "2022-05-09T09:10:26.949Z"
   },
   {
    "duration": 24,
    "start_time": "2022-05-09T09:10:39.571Z"
   },
   {
    "duration": 31,
    "start_time": "2022-05-09T09:11:09.219Z"
   },
   {
    "duration": 656,
    "start_time": "2022-05-09T09:11:46.587Z"
   },
   {
    "duration": 627,
    "start_time": "2022-05-09T09:12:05.598Z"
   },
   {
    "duration": 28,
    "start_time": "2022-05-09T09:28:38.725Z"
   },
   {
    "duration": 18,
    "start_time": "2022-05-09T09:31:12.414Z"
   },
   {
    "duration": 22,
    "start_time": "2022-05-09T09:31:17.308Z"
   },
   {
    "duration": 20,
    "start_time": "2022-05-09T09:32:23.501Z"
   },
   {
    "duration": 8,
    "start_time": "2022-05-09T09:32:36.509Z"
   },
   {
    "duration": 17,
    "start_time": "2022-05-09T09:32:57.780Z"
   },
   {
    "duration": 7,
    "start_time": "2022-05-09T09:32:59.863Z"
   },
   {
    "duration": 21,
    "start_time": "2022-05-09T09:33:09.396Z"
   },
   {
    "duration": 7,
    "start_time": "2022-05-09T09:33:10.989Z"
   },
   {
    "duration": 6,
    "start_time": "2022-05-09T09:33:24.540Z"
   },
   {
    "duration": 10,
    "start_time": "2022-05-09T10:01:07.200Z"
   },
   {
    "duration": 22,
    "start_time": "2022-05-09T10:02:38.994Z"
   },
   {
    "duration": 21,
    "start_time": "2022-05-09T10:03:07.151Z"
   },
   {
    "duration": 29,
    "start_time": "2022-05-09T10:03:14.902Z"
   },
   {
    "duration": 344,
    "start_time": "2022-05-09T10:07:41.010Z"
   },
   {
    "duration": 338,
    "start_time": "2022-05-09T10:08:18.216Z"
   },
   {
    "duration": 540,
    "start_time": "2022-05-09T10:08:34.727Z"
   },
   {
    "duration": 855,
    "start_time": "2022-05-09T10:08:44.577Z"
   },
   {
    "duration": 970,
    "start_time": "2022-05-09T10:08:50.233Z"
   },
   {
    "duration": 30,
    "start_time": "2022-05-09T10:09:05.480Z"
   },
   {
    "duration": 355,
    "start_time": "2022-05-09T10:09:06.425Z"
   },
   {
    "duration": 551,
    "start_time": "2022-05-09T10:09:33.529Z"
   },
   {
    "duration": 355,
    "start_time": "2022-05-09T10:09:58.864Z"
   },
   {
    "duration": 610,
    "start_time": "2022-05-09T10:10:31.225Z"
   },
   {
    "duration": 362,
    "start_time": "2022-05-09T10:10:43.209Z"
   },
   {
    "duration": 465,
    "start_time": "2022-05-09T10:11:49.065Z"
   },
   {
    "duration": 382,
    "start_time": "2022-05-09T10:11:55.625Z"
   },
   {
    "duration": 400,
    "start_time": "2022-05-09T10:12:07.673Z"
   },
   {
    "duration": 536,
    "start_time": "2022-05-09T10:12:12.312Z"
   },
   {
    "duration": 15,
    "start_time": "2022-05-09T10:15:21.043Z"
   },
   {
    "duration": 17,
    "start_time": "2022-05-09T11:14:51.465Z"
   },
   {
    "duration": 16,
    "start_time": "2022-05-09T11:15:46.655Z"
   },
   {
    "duration": 15,
    "start_time": "2022-05-09T11:15:52.518Z"
   },
   {
    "duration": 11,
    "start_time": "2022-05-09T11:17:16.247Z"
   },
   {
    "duration": 9,
    "start_time": "2022-05-09T11:17:52.994Z"
   },
   {
    "duration": 1678,
    "start_time": "2022-05-09T11:18:15.255Z"
   },
   {
    "duration": 240,
    "start_time": "2022-05-09T11:39:06.000Z"
   },
   {
    "duration": 2258,
    "start_time": "2022-05-09T11:39:18.777Z"
   },
   {
    "duration": 272,
    "start_time": "2022-05-09T11:40:26.697Z"
   },
   {
    "duration": 1910,
    "start_time": "2022-05-09T11:40:27.168Z"
   },
   {
    "duration": 4,
    "start_time": "2022-05-09T11:41:03.074Z"
   },
   {
    "duration": 159,
    "start_time": "2022-05-09T11:41:03.081Z"
   },
   {
    "duration": 15,
    "start_time": "2022-05-09T11:41:03.242Z"
   },
   {
    "duration": 36,
    "start_time": "2022-05-09T11:41:03.259Z"
   },
   {
    "duration": 111,
    "start_time": "2022-05-09T11:41:03.297Z"
   },
   {
    "duration": 19,
    "start_time": "2022-05-09T11:41:03.411Z"
   },
   {
    "duration": 2197,
    "start_time": "2022-05-09T11:41:03.434Z"
   },
   {
    "duration": 192,
    "start_time": "2022-05-09T11:41:05.642Z"
   },
   {
    "duration": 30,
    "start_time": "2022-05-09T11:41:05.840Z"
   },
   {
    "duration": 22,
    "start_time": "2022-05-09T11:41:05.873Z"
   },
   {
    "duration": 50,
    "start_time": "2022-05-09T11:41:05.898Z"
   },
   {
    "duration": 23,
    "start_time": "2022-05-09T11:41:05.950Z"
   },
   {
    "duration": 72,
    "start_time": "2022-05-09T11:41:05.976Z"
   },
   {
    "duration": 22,
    "start_time": "2022-05-09T11:41:06.051Z"
   },
   {
    "duration": 64,
    "start_time": "2022-05-09T11:41:06.076Z"
   },
   {
    "duration": 0,
    "start_time": "2022-05-09T11:41:06.144Z"
   },
   {
    "duration": 0,
    "start_time": "2022-05-09T11:41:06.146Z"
   },
   {
    "duration": 0,
    "start_time": "2022-05-09T11:41:06.148Z"
   },
   {
    "duration": 0,
    "start_time": "2022-05-09T11:41:06.150Z"
   },
   {
    "duration": 0,
    "start_time": "2022-05-09T11:41:06.152Z"
   },
   {
    "duration": 0,
    "start_time": "2022-05-09T11:41:06.155Z"
   },
   {
    "duration": 0,
    "start_time": "2022-05-09T11:41:06.157Z"
   },
   {
    "duration": 0,
    "start_time": "2022-05-09T11:41:06.159Z"
   },
   {
    "duration": 0,
    "start_time": "2022-05-09T11:41:06.161Z"
   },
   {
    "duration": 0,
    "start_time": "2022-05-09T11:41:06.163Z"
   },
   {
    "duration": 0,
    "start_time": "2022-05-09T11:41:06.165Z"
   },
   {
    "duration": 0,
    "start_time": "2022-05-09T11:41:06.167Z"
   },
   {
    "duration": 1530,
    "start_time": "2022-05-09T11:41:35.160Z"
   },
   {
    "duration": 118,
    "start_time": "2022-05-09T11:41:36.693Z"
   },
   {
    "duration": 19,
    "start_time": "2022-05-09T11:41:36.814Z"
   },
   {
    "duration": 20,
    "start_time": "2022-05-09T11:41:36.836Z"
   },
   {
    "duration": 38,
    "start_time": "2022-05-09T11:41:36.859Z"
   },
   {
    "duration": 30,
    "start_time": "2022-05-09T11:41:36.899Z"
   },
   {
    "duration": 1855,
    "start_time": "2022-05-09T11:41:36.931Z"
   },
   {
    "duration": 199,
    "start_time": "2022-05-09T11:41:38.825Z"
   },
   {
    "duration": 34,
    "start_time": "2022-05-09T11:41:39.027Z"
   },
   {
    "duration": 297,
    "start_time": "2022-05-09T11:41:39.068Z"
   },
   {
    "duration": 28,
    "start_time": "2022-05-09T11:41:39.368Z"
   },
   {
    "duration": 17,
    "start_time": "2022-05-09T11:41:39.426Z"
   },
   {
    "duration": 80,
    "start_time": "2022-05-09T11:41:39.446Z"
   },
   {
    "duration": 16,
    "start_time": "2022-05-09T11:41:39.528Z"
   },
   {
    "duration": 317,
    "start_time": "2022-05-09T11:41:39.547Z"
   },
   {
    "duration": 0,
    "start_time": "2022-05-09T11:41:39.866Z"
   },
   {
    "duration": 0,
    "start_time": "2022-05-09T11:41:39.868Z"
   },
   {
    "duration": 0,
    "start_time": "2022-05-09T11:41:39.870Z"
   },
   {
    "duration": 0,
    "start_time": "2022-05-09T11:41:39.871Z"
   },
   {
    "duration": 0,
    "start_time": "2022-05-09T11:41:39.872Z"
   },
   {
    "duration": 0,
    "start_time": "2022-05-09T11:41:39.874Z"
   },
   {
    "duration": 0,
    "start_time": "2022-05-09T11:41:39.875Z"
   },
   {
    "duration": 0,
    "start_time": "2022-05-09T11:41:39.876Z"
   },
   {
    "duration": 0,
    "start_time": "2022-05-09T11:41:39.878Z"
   },
   {
    "duration": 0,
    "start_time": "2022-05-09T11:41:39.879Z"
   },
   {
    "duration": 0,
    "start_time": "2022-05-09T11:41:39.881Z"
   },
   {
    "duration": 0,
    "start_time": "2022-05-09T11:41:39.882Z"
   },
   {
    "duration": 5,
    "start_time": "2022-05-09T11:42:50.795Z"
   },
   {
    "duration": 131,
    "start_time": "2022-05-09T11:42:50.803Z"
   },
   {
    "duration": 13,
    "start_time": "2022-05-09T11:42:50.937Z"
   },
   {
    "duration": 20,
    "start_time": "2022-05-09T11:42:50.953Z"
   },
   {
    "duration": 62,
    "start_time": "2022-05-09T11:42:50.975Z"
   },
   {
    "duration": 17,
    "start_time": "2022-05-09T11:42:51.039Z"
   },
   {
    "duration": 1923,
    "start_time": "2022-05-09T11:42:51.059Z"
   },
   {
    "duration": 266,
    "start_time": "2022-05-09T11:42:52.985Z"
   },
   {
    "duration": 31,
    "start_time": "2022-05-09T11:42:53.256Z"
   },
   {
    "duration": 40,
    "start_time": "2022-05-09T11:42:53.290Z"
   },
   {
    "duration": 24,
    "start_time": "2022-05-09T11:42:53.333Z"
   },
   {
    "duration": 21,
    "start_time": "2022-05-09T11:42:53.359Z"
   },
   {
    "duration": 68,
    "start_time": "2022-05-09T11:42:53.383Z"
   },
   {
    "duration": 21,
    "start_time": "2022-05-09T11:42:53.454Z"
   },
   {
    "duration": 54,
    "start_time": "2022-05-09T11:42:53.477Z"
   },
   {
    "duration": 0,
    "start_time": "2022-05-09T11:42:53.535Z"
   },
   {
    "duration": 0,
    "start_time": "2022-05-09T11:42:53.537Z"
   },
   {
    "duration": 0,
    "start_time": "2022-05-09T11:42:53.539Z"
   },
   {
    "duration": 0,
    "start_time": "2022-05-09T11:42:53.541Z"
   },
   {
    "duration": 0,
    "start_time": "2022-05-09T11:42:53.543Z"
   },
   {
    "duration": 0,
    "start_time": "2022-05-09T11:42:53.545Z"
   },
   {
    "duration": 0,
    "start_time": "2022-05-09T11:42:53.548Z"
   },
   {
    "duration": 0,
    "start_time": "2022-05-09T11:42:53.550Z"
   },
   {
    "duration": 0,
    "start_time": "2022-05-09T11:42:53.552Z"
   },
   {
    "duration": 0,
    "start_time": "2022-05-09T11:42:53.554Z"
   },
   {
    "duration": 0,
    "start_time": "2022-05-09T11:42:53.557Z"
   },
   {
    "duration": 0,
    "start_time": "2022-05-09T11:42:53.559Z"
   },
   {
    "duration": 29,
    "start_time": "2022-05-09T11:43:42.106Z"
   },
   {
    "duration": 4,
    "start_time": "2022-05-09T11:44:13.852Z"
   },
   {
    "duration": 119,
    "start_time": "2022-05-09T11:44:13.858Z"
   },
   {
    "duration": 15,
    "start_time": "2022-05-09T11:44:13.980Z"
   },
   {
    "duration": 38,
    "start_time": "2022-05-09T11:44:13.997Z"
   },
   {
    "duration": 34,
    "start_time": "2022-05-09T11:44:14.038Z"
   },
   {
    "duration": 16,
    "start_time": "2022-05-09T11:44:14.075Z"
   },
   {
    "duration": 1848,
    "start_time": "2022-05-09T11:44:14.094Z"
   },
   {
    "duration": 187,
    "start_time": "2022-05-09T11:44:15.945Z"
   },
   {
    "duration": 25,
    "start_time": "2022-05-09T11:44:16.135Z"
   },
   {
    "duration": 17,
    "start_time": "2022-05-09T11:44:16.163Z"
   },
   {
    "duration": 51,
    "start_time": "2022-05-09T11:44:16.186Z"
   },
   {
    "duration": 18,
    "start_time": "2022-05-09T11:44:16.240Z"
   },
   {
    "duration": 28,
    "start_time": "2022-05-09T11:44:16.261Z"
   },
   {
    "duration": 46,
    "start_time": "2022-05-09T11:44:16.292Z"
   },
   {
    "duration": 19,
    "start_time": "2022-05-09T11:44:16.342Z"
   },
   {
    "duration": 68,
    "start_time": "2022-05-09T11:44:16.364Z"
   },
   {
    "duration": 1,
    "start_time": "2022-05-09T11:44:16.435Z"
   },
   {
    "duration": 0,
    "start_time": "2022-05-09T11:44:16.437Z"
   },
   {
    "duration": 0,
    "start_time": "2022-05-09T11:44:16.439Z"
   },
   {
    "duration": 0,
    "start_time": "2022-05-09T11:44:16.441Z"
   },
   {
    "duration": 0,
    "start_time": "2022-05-09T11:44:16.443Z"
   },
   {
    "duration": 0,
    "start_time": "2022-05-09T11:44:16.445Z"
   },
   {
    "duration": 0,
    "start_time": "2022-05-09T11:44:16.447Z"
   },
   {
    "duration": 0,
    "start_time": "2022-05-09T11:44:16.450Z"
   },
   {
    "duration": 0,
    "start_time": "2022-05-09T11:44:16.451Z"
   },
   {
    "duration": 1,
    "start_time": "2022-05-09T11:44:16.453Z"
   },
   {
    "duration": 0,
    "start_time": "2022-05-09T11:44:16.455Z"
   },
   {
    "duration": 0,
    "start_time": "2022-05-09T11:44:16.457Z"
   },
   {
    "duration": 20,
    "start_time": "2022-05-09T11:44:50.056Z"
   },
   {
    "duration": 5,
    "start_time": "2022-05-09T11:45:57.251Z"
   },
   {
    "duration": 122,
    "start_time": "2022-05-09T11:45:57.259Z"
   },
   {
    "duration": 14,
    "start_time": "2022-05-09T11:45:57.384Z"
   },
   {
    "duration": 33,
    "start_time": "2022-05-09T11:45:57.401Z"
   },
   {
    "duration": 32,
    "start_time": "2022-05-09T11:45:57.438Z"
   },
   {
    "duration": 16,
    "start_time": "2022-05-09T11:45:57.472Z"
   },
   {
    "duration": 1886,
    "start_time": "2022-05-09T11:45:57.491Z"
   },
   {
    "duration": 7,
    "start_time": "2022-05-09T11:45:59.380Z"
   },
   {
    "duration": 19,
    "start_time": "2022-05-09T11:45:59.427Z"
   },
   {
    "duration": 34,
    "start_time": "2022-05-09T11:45:59.449Z"
   },
   {
    "duration": 45,
    "start_time": "2022-05-09T11:45:59.485Z"
   },
   {
    "duration": 18,
    "start_time": "2022-05-09T11:45:59.533Z"
   },
   {
    "duration": 21,
    "start_time": "2022-05-09T11:45:59.554Z"
   },
   {
    "duration": 64,
    "start_time": "2022-05-09T11:45:59.578Z"
   },
   {
    "duration": 16,
    "start_time": "2022-05-09T11:45:59.645Z"
   },
   {
    "duration": 22,
    "start_time": "2022-05-09T11:45:59.664Z"
   },
   {
    "duration": 70,
    "start_time": "2022-05-09T11:45:59.688Z"
   },
   {
    "duration": 7,
    "start_time": "2022-05-09T11:45:59.760Z"
   },
   {
    "duration": 1664,
    "start_time": "2022-05-09T11:45:59.772Z"
   },
   {
    "duration": 21,
    "start_time": "2022-05-09T11:46:01.439Z"
   },
   {
    "duration": 189,
    "start_time": "2022-05-09T11:46:01.464Z"
   },
   {
    "duration": 43,
    "start_time": "2022-05-09T11:46:01.656Z"
   },
   {
    "duration": 35,
    "start_time": "2022-05-09T11:46:01.702Z"
   },
   {
    "duration": 659,
    "start_time": "2022-05-09T11:46:01.740Z"
   },
   {
    "duration": 27,
    "start_time": "2022-05-09T11:46:02.402Z"
   },
   {
    "duration": 8,
    "start_time": "2022-05-09T11:46:02.431Z"
   },
   {
    "duration": 33,
    "start_time": "2022-05-09T11:46:02.441Z"
   },
   {
    "duration": 73,
    "start_time": "2022-05-09T11:46:02.477Z"
   },
   {
    "duration": 632,
    "start_time": "2022-05-09T11:46:02.552Z"
   },
   {
    "duration": 6,
    "start_time": "2022-05-09T11:47:01.496Z"
   },
   {
    "duration": 137,
    "start_time": "2022-05-09T11:47:01.505Z"
   },
   {
    "duration": 14,
    "start_time": "2022-05-09T11:47:01.645Z"
   },
   {
    "duration": 21,
    "start_time": "2022-05-09T11:47:01.664Z"
   },
   {
    "duration": 77,
    "start_time": "2022-05-09T11:47:01.688Z"
   },
   {
    "duration": 25,
    "start_time": "2022-05-09T11:47:01.768Z"
   },
   {
    "duration": 2041,
    "start_time": "2022-05-09T11:47:01.796Z"
   },
   {
    "duration": 106,
    "start_time": "2022-05-09T11:47:03.839Z"
   },
   {
    "duration": 21,
    "start_time": "2022-05-09T11:47:03.949Z"
   },
   {
    "duration": 56,
    "start_time": "2022-05-09T11:47:03.973Z"
   },
   {
    "duration": 16,
    "start_time": "2022-05-09T11:47:04.031Z"
   },
   {
    "duration": 20,
    "start_time": "2022-05-09T11:47:04.050Z"
   },
   {
    "duration": 52,
    "start_time": "2022-05-09T11:47:04.072Z"
   },
   {
    "duration": 23,
    "start_time": "2022-05-09T11:47:04.127Z"
   },
   {
    "duration": 21,
    "start_time": "2022-05-09T11:47:04.152Z"
   },
   {
    "duration": 62,
    "start_time": "2022-05-09T11:47:04.176Z"
   },
   {
    "duration": 37,
    "start_time": "2022-05-09T11:47:04.240Z"
   },
   {
    "duration": 0,
    "start_time": "2022-05-09T11:47:04.280Z"
   },
   {
    "duration": 0,
    "start_time": "2022-05-09T11:47:04.282Z"
   },
   {
    "duration": 0,
    "start_time": "2022-05-09T11:47:04.285Z"
   },
   {
    "duration": 0,
    "start_time": "2022-05-09T11:47:04.286Z"
   },
   {
    "duration": 0,
    "start_time": "2022-05-09T11:47:04.288Z"
   },
   {
    "duration": 0,
    "start_time": "2022-05-09T11:47:04.290Z"
   },
   {
    "duration": 0,
    "start_time": "2022-05-09T11:47:04.291Z"
   },
   {
    "duration": 0,
    "start_time": "2022-05-09T11:47:04.325Z"
   },
   {
    "duration": 0,
    "start_time": "2022-05-09T11:47:04.326Z"
   },
   {
    "duration": 0,
    "start_time": "2022-05-09T11:47:04.328Z"
   },
   {
    "duration": 0,
    "start_time": "2022-05-09T11:47:04.329Z"
   },
   {
    "duration": 0,
    "start_time": "2022-05-09T11:47:04.331Z"
   },
   {
    "duration": 5,
    "start_time": "2022-05-09T11:48:08.337Z"
   },
   {
    "duration": 158,
    "start_time": "2022-05-09T11:48:08.345Z"
   },
   {
    "duration": 14,
    "start_time": "2022-05-09T11:48:08.507Z"
   },
   {
    "duration": 28,
    "start_time": "2022-05-09T11:48:08.523Z"
   },
   {
    "duration": 52,
    "start_time": "2022-05-09T11:48:08.555Z"
   },
   {
    "duration": 39,
    "start_time": "2022-05-09T11:48:08.610Z"
   },
   {
    "duration": 2105,
    "start_time": "2022-05-09T11:48:08.652Z"
   },
   {
    "duration": 134,
    "start_time": "2022-05-09T11:48:10.759Z"
   },
   {
    "duration": 42,
    "start_time": "2022-05-09T11:48:10.896Z"
   },
   {
    "duration": 28,
    "start_time": "2022-05-09T11:48:10.941Z"
   },
   {
    "duration": 16,
    "start_time": "2022-05-09T11:48:10.974Z"
   },
   {
    "duration": 20,
    "start_time": "2022-05-09T11:48:11.025Z"
   },
   {
    "duration": 19,
    "start_time": "2022-05-09T11:48:11.048Z"
   },
   {
    "duration": 57,
    "start_time": "2022-05-09T11:48:11.069Z"
   },
   {
    "duration": 17,
    "start_time": "2022-05-09T11:48:11.128Z"
   },
   {
    "duration": 19,
    "start_time": "2022-05-09T11:48:11.148Z"
   },
   {
    "duration": 70,
    "start_time": "2022-05-09T11:48:11.169Z"
   },
   {
    "duration": 9,
    "start_time": "2022-05-09T11:48:11.242Z"
   },
   {
    "duration": 2534,
    "start_time": "2022-05-09T11:48:11.254Z"
   },
   {
    "duration": 47,
    "start_time": "2022-05-09T11:48:13.792Z"
   },
   {
    "duration": 22,
    "start_time": "2022-05-09T11:48:13.842Z"
   },
   {
    "duration": 61,
    "start_time": "2022-05-09T11:48:13.868Z"
   },
   {
    "duration": 31,
    "start_time": "2022-05-09T11:48:13.931Z"
   },
   {
    "duration": 1108,
    "start_time": "2022-05-09T11:48:13.965Z"
   },
   {
    "duration": 22,
    "start_time": "2022-05-09T11:48:15.076Z"
   },
   {
    "duration": 29,
    "start_time": "2022-05-09T11:48:15.100Z"
   },
   {
    "duration": 24,
    "start_time": "2022-05-09T11:48:15.131Z"
   },
   {
    "duration": 22,
    "start_time": "2022-05-09T11:48:15.158Z"
   },
   {
    "duration": 382,
    "start_time": "2022-05-09T11:48:15.225Z"
   },
   {
    "duration": 28,
    "start_time": "2022-05-09T12:18:38.719Z"
   },
   {
    "duration": 1724,
    "start_time": "2022-05-09T12:26:33.700Z"
   },
   {
    "duration": 1706,
    "start_time": "2022-05-09T12:26:48.801Z"
   },
   {
    "duration": 2012,
    "start_time": "2022-05-09T12:26:53.260Z"
   },
   {
    "duration": 2112,
    "start_time": "2022-05-09T12:28:58.924Z"
   },
   {
    "duration": 113,
    "start_time": "2022-05-09T13:55:09.669Z"
   },
   {
    "duration": 6,
    "start_time": "2022-05-09T16:49:21.813Z"
   },
   {
    "duration": 306,
    "start_time": "2022-05-09T16:49:21.822Z"
   },
   {
    "duration": 17,
    "start_time": "2022-05-09T16:49:22.132Z"
   },
   {
    "duration": 21,
    "start_time": "2022-05-09T16:49:22.154Z"
   },
   {
    "duration": 63,
    "start_time": "2022-05-09T16:49:22.177Z"
   },
   {
    "duration": 17,
    "start_time": "2022-05-09T16:49:22.242Z"
   },
   {
    "duration": 1811,
    "start_time": "2022-05-09T16:49:22.261Z"
   },
   {
    "duration": 114,
    "start_time": "2022-05-09T16:49:24.075Z"
   },
   {
    "duration": 47,
    "start_time": "2022-05-09T16:49:24.191Z"
   },
   {
    "duration": 12,
    "start_time": "2022-05-09T16:49:24.243Z"
   },
   {
    "duration": 0,
    "start_time": "2022-05-09T16:49:24.258Z"
   },
   {
    "duration": 0,
    "start_time": "2022-05-09T16:49:24.259Z"
   },
   {
    "duration": 0,
    "start_time": "2022-05-09T16:49:24.261Z"
   },
   {
    "duration": 0,
    "start_time": "2022-05-09T16:49:24.263Z"
   },
   {
    "duration": 0,
    "start_time": "2022-05-09T16:49:24.265Z"
   },
   {
    "duration": 0,
    "start_time": "2022-05-09T16:49:24.267Z"
   },
   {
    "duration": 0,
    "start_time": "2022-05-09T16:49:24.269Z"
   },
   {
    "duration": 0,
    "start_time": "2022-05-09T16:49:24.270Z"
   },
   {
    "duration": 0,
    "start_time": "2022-05-09T16:49:24.272Z"
   },
   {
    "duration": 0,
    "start_time": "2022-05-09T16:49:24.273Z"
   },
   {
    "duration": 0,
    "start_time": "2022-05-09T16:49:24.275Z"
   },
   {
    "duration": 1,
    "start_time": "2022-05-09T16:49:24.276Z"
   },
   {
    "duration": 0,
    "start_time": "2022-05-09T16:49:24.278Z"
   },
   {
    "duration": 1,
    "start_time": "2022-05-09T16:49:24.279Z"
   },
   {
    "duration": 0,
    "start_time": "2022-05-09T16:49:24.328Z"
   },
   {
    "duration": 0,
    "start_time": "2022-05-09T16:49:24.330Z"
   },
   {
    "duration": 0,
    "start_time": "2022-05-09T16:49:24.331Z"
   },
   {
    "duration": 6,
    "start_time": "2022-05-09T16:49:53.701Z"
   },
   {
    "duration": 165,
    "start_time": "2022-05-09T16:49:53.710Z"
   },
   {
    "duration": 13,
    "start_time": "2022-05-09T16:49:53.983Z"
   },
   {
    "duration": 23,
    "start_time": "2022-05-09T16:49:53.999Z"
   },
   {
    "duration": 45,
    "start_time": "2022-05-09T16:49:54.030Z"
   },
   {
    "duration": 17,
    "start_time": "2022-05-09T16:49:54.078Z"
   },
   {
    "duration": 1840,
    "start_time": "2022-05-09T16:49:54.098Z"
   },
   {
    "duration": 98,
    "start_time": "2022-05-09T16:49:55.943Z"
   },
   {
    "duration": 20,
    "start_time": "2022-05-09T16:49:56.043Z"
   },
   {
    "duration": 12,
    "start_time": "2022-05-09T16:49:56.066Z"
   },
   {
    "duration": 0,
    "start_time": "2022-05-09T16:49:56.081Z"
   },
   {
    "duration": 0,
    "start_time": "2022-05-09T16:49:56.084Z"
   },
   {
    "duration": 0,
    "start_time": "2022-05-09T16:49:56.086Z"
   },
   {
    "duration": 0,
    "start_time": "2022-05-09T16:49:56.087Z"
   },
   {
    "duration": 0,
    "start_time": "2022-05-09T16:49:56.089Z"
   },
   {
    "duration": 0,
    "start_time": "2022-05-09T16:49:56.090Z"
   },
   {
    "duration": 0,
    "start_time": "2022-05-09T16:49:56.131Z"
   },
   {
    "duration": 0,
    "start_time": "2022-05-09T16:49:56.141Z"
   },
   {
    "duration": 0,
    "start_time": "2022-05-09T16:49:56.143Z"
   },
   {
    "duration": 0,
    "start_time": "2022-05-09T16:49:56.146Z"
   },
   {
    "duration": 0,
    "start_time": "2022-05-09T16:49:56.149Z"
   },
   {
    "duration": 0,
    "start_time": "2022-05-09T16:49:56.151Z"
   },
   {
    "duration": 0,
    "start_time": "2022-05-09T16:49:56.153Z"
   },
   {
    "duration": 0,
    "start_time": "2022-05-09T16:49:56.155Z"
   },
   {
    "duration": 0,
    "start_time": "2022-05-09T16:49:56.158Z"
   },
   {
    "duration": 1,
    "start_time": "2022-05-09T16:49:56.159Z"
   },
   {
    "duration": 0,
    "start_time": "2022-05-09T16:49:56.161Z"
   },
   {
    "duration": 5,
    "start_time": "2022-05-09T16:51:11.374Z"
   },
   {
    "duration": 229,
    "start_time": "2022-05-09T16:51:11.382Z"
   },
   {
    "duration": 21,
    "start_time": "2022-05-09T16:51:11.614Z"
   },
   {
    "duration": 22,
    "start_time": "2022-05-09T16:51:11.640Z"
   },
   {
    "duration": 40,
    "start_time": "2022-05-09T16:51:11.664Z"
   },
   {
    "duration": 42,
    "start_time": "2022-05-09T16:51:11.707Z"
   },
   {
    "duration": 1788,
    "start_time": "2022-05-09T16:51:11.752Z"
   },
   {
    "duration": 99,
    "start_time": "2022-05-09T16:51:13.543Z"
   },
   {
    "duration": 20,
    "start_time": "2022-05-09T16:51:13.645Z"
   },
   {
    "duration": 15,
    "start_time": "2022-05-09T16:51:13.669Z"
   },
   {
    "duration": 57,
    "start_time": "2022-05-09T16:51:13.686Z"
   },
   {
    "duration": 16,
    "start_time": "2022-05-09T16:51:13.745Z"
   },
   {
    "duration": 21,
    "start_time": "2022-05-09T16:51:13.763Z"
   },
   {
    "duration": 55,
    "start_time": "2022-05-09T16:51:13.786Z"
   },
   {
    "duration": 27,
    "start_time": "2022-05-09T16:51:13.843Z"
   },
   {
    "duration": 7,
    "start_time": "2022-05-09T16:51:13.872Z"
   },
   {
    "duration": 1880,
    "start_time": "2022-05-09T16:51:13.882Z"
   },
   {
    "duration": 18,
    "start_time": "2022-05-09T16:51:15.764Z"
   },
   {
    "duration": 15,
    "start_time": "2022-05-09T16:51:15.784Z"
   },
   {
    "duration": 23,
    "start_time": "2022-05-09T16:51:15.827Z"
   },
   {
    "duration": 25,
    "start_time": "2022-05-09T16:51:15.852Z"
   },
   {
    "duration": 694,
    "start_time": "2022-05-09T16:51:15.879Z"
   },
   {
    "duration": 21,
    "start_time": "2022-05-09T16:51:16.576Z"
   },
   {
    "duration": 7,
    "start_time": "2022-05-09T16:51:16.599Z"
   },
   {
    "duration": 25,
    "start_time": "2022-05-09T16:51:16.627Z"
   },
   {
    "duration": 403,
    "start_time": "2022-05-09T16:51:16.654Z"
   },
   {
    "duration": 5,
    "start_time": "2022-05-09T16:53:38.581Z"
   },
   {
    "duration": 126,
    "start_time": "2022-05-09T16:53:38.589Z"
   },
   {
    "duration": 18,
    "start_time": "2022-05-09T16:53:38.718Z"
   },
   {
    "duration": 28,
    "start_time": "2022-05-09T16:53:38.740Z"
   },
   {
    "duration": 56,
    "start_time": "2022-05-09T16:53:38.771Z"
   },
   {
    "duration": 20,
    "start_time": "2022-05-09T16:53:38.831Z"
   },
   {
    "duration": 1782,
    "start_time": "2022-05-09T16:53:38.854Z"
   },
   {
    "duration": 124,
    "start_time": "2022-05-09T16:53:40.645Z"
   },
   {
    "duration": 22,
    "start_time": "2022-05-09T16:53:40.783Z"
   },
   {
    "duration": 33,
    "start_time": "2022-05-09T16:53:40.807Z"
   },
   {
    "duration": 25,
    "start_time": "2022-05-09T16:53:40.843Z"
   },
   {
    "duration": 16,
    "start_time": "2022-05-09T16:53:40.870Z"
   },
   {
    "duration": 25,
    "start_time": "2022-05-09T16:53:40.924Z"
   },
   {
    "duration": 26,
    "start_time": "2022-05-09T16:53:40.951Z"
   },
   {
    "duration": 65,
    "start_time": "2022-05-09T16:53:40.980Z"
   },
   {
    "duration": 7,
    "start_time": "2022-05-09T16:53:41.048Z"
   },
   {
    "duration": 2148,
    "start_time": "2022-05-09T16:53:41.057Z"
   },
   {
    "duration": 37,
    "start_time": "2022-05-09T16:53:43.208Z"
   },
   {
    "duration": 18,
    "start_time": "2022-05-09T16:53:43.248Z"
   },
   {
    "duration": 57,
    "start_time": "2022-05-09T16:53:43.268Z"
   },
   {
    "duration": 36,
    "start_time": "2022-05-09T16:53:43.328Z"
   },
   {
    "duration": 711,
    "start_time": "2022-05-09T16:53:43.367Z"
   },
   {
    "duration": 25,
    "start_time": "2022-05-09T16:53:44.080Z"
   },
   {
    "duration": 10,
    "start_time": "2022-05-09T16:53:44.131Z"
   },
   {
    "duration": 27,
    "start_time": "2022-05-09T16:53:44.144Z"
   },
   {
    "duration": 582,
    "start_time": "2022-05-09T16:53:44.173Z"
   },
   {
    "duration": 6,
    "start_time": "2022-05-09T16:54:21.441Z"
   },
   {
    "duration": 126,
    "start_time": "2022-05-09T16:54:21.449Z"
   },
   {
    "duration": 15,
    "start_time": "2022-05-09T16:54:21.577Z"
   },
   {
    "duration": 39,
    "start_time": "2022-05-09T16:54:21.596Z"
   },
   {
    "duration": 35,
    "start_time": "2022-05-09T16:54:21.638Z"
   },
   {
    "duration": 15,
    "start_time": "2022-05-09T16:54:21.676Z"
   },
   {
    "duration": 1834,
    "start_time": "2022-05-09T16:54:21.694Z"
   },
   {
    "duration": 69,
    "start_time": "2022-05-09T16:54:23.532Z"
   },
   {
    "duration": 38,
    "start_time": "2022-05-09T16:54:23.603Z"
   },
   {
    "duration": 31,
    "start_time": "2022-05-09T16:54:23.646Z"
   },
   {
    "duration": 20,
    "start_time": "2022-05-09T16:54:23.679Z"
   },
   {
    "duration": 44,
    "start_time": "2022-05-09T16:54:23.701Z"
   },
   {
    "duration": 22,
    "start_time": "2022-05-09T16:54:23.748Z"
   },
   {
    "duration": 15,
    "start_time": "2022-05-09T16:54:23.772Z"
   },
   {
    "duration": 58,
    "start_time": "2022-05-09T16:54:23.789Z"
   },
   {
    "duration": 7,
    "start_time": "2022-05-09T16:54:23.849Z"
   },
   {
    "duration": 1866,
    "start_time": "2022-05-09T16:54:23.858Z"
   },
   {
    "duration": 24,
    "start_time": "2022-05-09T16:54:25.728Z"
   },
   {
    "duration": 17,
    "start_time": "2022-05-09T16:54:25.755Z"
   },
   {
    "duration": 70,
    "start_time": "2022-05-09T16:54:25.776Z"
   },
   {
    "duration": 26,
    "start_time": "2022-05-09T16:54:25.849Z"
   },
   {
    "duration": 689,
    "start_time": "2022-05-09T16:54:25.877Z"
   },
   {
    "duration": 23,
    "start_time": "2022-05-09T16:54:26.569Z"
   },
   {
    "duration": 34,
    "start_time": "2022-05-09T16:54:26.596Z"
   },
   {
    "duration": 37,
    "start_time": "2022-05-09T16:54:26.633Z"
   },
   {
    "duration": 440,
    "start_time": "2022-05-09T16:54:26.673Z"
   },
   {
    "duration": 15,
    "start_time": "2022-05-09T16:55:54.358Z"
   },
   {
    "duration": 16,
    "start_time": "2022-05-09T16:57:56.575Z"
   },
   {
    "duration": 519,
    "start_time": "2022-05-09T16:58:25.371Z"
   },
   {
    "duration": 59,
    "start_time": "2022-05-09T16:59:20.661Z"
   },
   {
    "duration": 95,
    "start_time": "2022-05-09T17:01:26.939Z"
   },
   {
    "duration": 67,
    "start_time": "2022-05-09T17:01:48.771Z"
   },
   {
    "duration": 58,
    "start_time": "2022-05-09T17:01:53.340Z"
   },
   {
    "duration": 6,
    "start_time": "2022-05-09T17:01:57.170Z"
   },
   {
    "duration": 164,
    "start_time": "2022-05-09T17:01:57.179Z"
   },
   {
    "duration": 14,
    "start_time": "2022-05-09T17:01:57.345Z"
   },
   {
    "duration": 21,
    "start_time": "2022-05-09T17:01:57.362Z"
   },
   {
    "duration": 48,
    "start_time": "2022-05-09T17:01:57.422Z"
   },
   {
    "duration": 17,
    "start_time": "2022-05-09T17:01:57.473Z"
   },
   {
    "duration": 1968,
    "start_time": "2022-05-09T17:01:57.492Z"
   },
   {
    "duration": 101,
    "start_time": "2022-05-09T17:01:59.462Z"
   },
   {
    "duration": 21,
    "start_time": "2022-05-09T17:01:59.566Z"
   },
   {
    "duration": 88,
    "start_time": "2022-05-09T17:01:59.589Z"
   },
   {
    "duration": 16,
    "start_time": "2022-05-09T17:01:59.679Z"
   },
   {
    "duration": 89,
    "start_time": "2022-05-09T17:01:59.698Z"
   },
   {
    "duration": 37,
    "start_time": "2022-05-09T17:01:59.790Z"
   },
   {
    "duration": 25,
    "start_time": "2022-05-09T17:01:59.832Z"
   },
   {
    "duration": 16,
    "start_time": "2022-05-09T17:01:59.860Z"
   },
   {
    "duration": 73,
    "start_time": "2022-05-09T17:01:59.878Z"
   },
   {
    "duration": 7,
    "start_time": "2022-05-09T17:01:59.953Z"
   },
   {
    "duration": 1819,
    "start_time": "2022-05-09T17:01:59.966Z"
   },
   {
    "duration": 19,
    "start_time": "2022-05-09T17:02:01.787Z"
   },
   {
    "duration": 38,
    "start_time": "2022-05-09T17:02:01.808Z"
   },
   {
    "duration": 28,
    "start_time": "2022-05-09T17:02:01.848Z"
   },
   {
    "duration": 25,
    "start_time": "2022-05-09T17:02:01.879Z"
   },
   {
    "duration": 692,
    "start_time": "2022-05-09T17:02:01.926Z"
   },
   {
    "duration": 30,
    "start_time": "2022-05-09T17:02:02.620Z"
   },
   {
    "duration": 13,
    "start_time": "2022-05-09T17:02:02.652Z"
   },
   {
    "duration": 27,
    "start_time": "2022-05-09T17:02:02.667Z"
   },
   {
    "duration": 416,
    "start_time": "2022-05-09T17:02:02.696Z"
   },
   {
    "duration": 89,
    "start_time": "2022-05-09T17:03:20.219Z"
   },
   {
    "duration": 230,
    "start_time": "2022-05-09T17:03:36.153Z"
   },
   {
    "duration": 65,
    "start_time": "2022-05-09T17:04:28.997Z"
   },
   {
    "duration": 1755,
    "start_time": "2022-05-09T17:05:39.194Z"
   },
   {
    "duration": 60,
    "start_time": "2022-05-09T17:07:29.462Z"
   },
   {
    "duration": 75,
    "start_time": "2022-05-09T17:07:54.397Z"
   },
   {
    "duration": 104,
    "start_time": "2022-05-09T17:08:22.400Z"
   },
   {
    "duration": 69,
    "start_time": "2022-05-09T17:08:35.717Z"
   },
   {
    "duration": 81,
    "start_time": "2022-05-09T17:08:40.600Z"
   },
   {
    "duration": 62,
    "start_time": "2022-05-09T17:09:10.448Z"
   },
   {
    "duration": 713,
    "start_time": "2022-05-09T17:12:40.054Z"
   },
   {
    "duration": 41,
    "start_time": "2022-05-09T17:13:38.794Z"
   },
   {
    "duration": 648,
    "start_time": "2022-05-09T17:13:41.626Z"
   },
   {
    "duration": 652,
    "start_time": "2022-05-09T17:13:52.708Z"
   },
   {
    "duration": 34,
    "start_time": "2022-05-09T17:14:28.975Z"
   },
   {
    "duration": 810,
    "start_time": "2022-05-09T17:14:39.943Z"
   },
   {
    "duration": 621,
    "start_time": "2022-05-09T17:15:05.948Z"
   },
   {
    "duration": 657,
    "start_time": "2022-05-09T17:15:25.237Z"
   },
   {
    "duration": 770,
    "start_time": "2022-05-09T17:16:00.126Z"
   },
   {
    "duration": 668,
    "start_time": "2022-05-09T17:16:04.721Z"
   },
   {
    "duration": 717,
    "start_time": "2022-05-09T17:16:10.285Z"
   },
   {
    "duration": 517,
    "start_time": "2022-05-09T17:17:46.912Z"
   },
   {
    "duration": 2022,
    "start_time": "2022-05-09T22:03:58.010Z"
   },
   {
    "duration": 119,
    "start_time": "2022-05-09T22:04:00.035Z"
   },
   {
    "duration": 20,
    "start_time": "2022-05-09T22:04:00.156Z"
   },
   {
    "duration": 21,
    "start_time": "2022-05-09T22:04:00.179Z"
   },
   {
    "duration": 60,
    "start_time": "2022-05-09T22:04:00.202Z"
   },
   {
    "duration": 15,
    "start_time": "2022-05-09T22:04:00.264Z"
   },
   {
    "duration": 1700,
    "start_time": "2022-05-09T22:04:00.281Z"
   },
   {
    "duration": 95,
    "start_time": "2022-05-09T22:04:01.991Z"
   },
   {
    "duration": 27,
    "start_time": "2022-05-09T22:04:02.088Z"
   },
   {
    "duration": 661,
    "start_time": "2022-05-09T22:04:02.119Z"
   },
   {
    "duration": 22,
    "start_time": "2022-05-09T22:04:02.783Z"
   },
   {
    "duration": 163,
    "start_time": "2022-05-09T22:04:02.808Z"
   },
   {
    "duration": 85,
    "start_time": "2022-05-09T22:04:02.974Z"
   },
   {
    "duration": 57,
    "start_time": "2022-05-09T22:04:03.062Z"
   },
   {
    "duration": 33,
    "start_time": "2022-05-09T22:04:03.152Z"
   },
   {
    "duration": 9,
    "start_time": "2022-05-09T22:04:03.187Z"
   },
   {
    "duration": 1689,
    "start_time": "2022-05-09T22:04:03.199Z"
   },
   {
    "duration": 20,
    "start_time": "2022-05-09T22:04:04.890Z"
   },
   {
    "duration": 82,
    "start_time": "2022-05-09T22:04:04.913Z"
   },
   {
    "duration": 25,
    "start_time": "2022-05-09T22:04:04.998Z"
   },
   {
    "duration": 23,
    "start_time": "2022-05-09T22:04:05.052Z"
   },
   {
    "duration": 658,
    "start_time": "2022-05-09T22:04:05.077Z"
   },
   {
    "duration": 29,
    "start_time": "2022-05-09T22:04:05.737Z"
   },
   {
    "duration": 8,
    "start_time": "2022-05-09T22:04:05.769Z"
   },
   {
    "duration": 23,
    "start_time": "2022-05-09T22:04:05.779Z"
   },
   {
    "duration": 406,
    "start_time": "2022-05-09T22:04:05.805Z"
   },
   {
    "duration": 6,
    "start_time": "2022-05-09T22:07:07.515Z"
   },
   {
    "duration": 126,
    "start_time": "2022-05-09T22:07:07.523Z"
   },
   {
    "duration": 14,
    "start_time": "2022-05-09T22:07:07.651Z"
   },
   {
    "duration": 38,
    "start_time": "2022-05-09T22:07:07.668Z"
   },
   {
    "duration": 51,
    "start_time": "2022-05-09T22:07:07.708Z"
   },
   {
    "duration": 15,
    "start_time": "2022-05-09T22:07:07.762Z"
   },
   {
    "duration": 2182,
    "start_time": "2022-05-09T22:07:07.780Z"
   },
   {
    "duration": 120,
    "start_time": "2022-05-09T22:07:09.981Z"
   },
   {
    "duration": 47,
    "start_time": "2022-05-09T22:07:10.107Z"
   },
   {
    "duration": 58,
    "start_time": "2022-05-09T22:07:10.157Z"
   },
   {
    "duration": 41,
    "start_time": "2022-05-09T22:07:10.217Z"
   },
   {
    "duration": 102,
    "start_time": "2022-05-09T22:07:10.261Z"
   },
   {
    "duration": 22,
    "start_time": "2022-05-09T22:07:10.365Z"
   },
   {
    "duration": 81,
    "start_time": "2022-05-09T22:07:10.389Z"
   },
   {
    "duration": 25,
    "start_time": "2022-05-09T22:07:10.472Z"
   },
   {
    "duration": 11,
    "start_time": "2022-05-09T22:07:10.499Z"
   },
   {
    "duration": 1649,
    "start_time": "2022-05-09T22:07:10.512Z"
   },
   {
    "duration": 19,
    "start_time": "2022-05-09T22:07:12.164Z"
   },
   {
    "duration": 80,
    "start_time": "2022-05-09T22:07:12.185Z"
   },
   {
    "duration": 30,
    "start_time": "2022-05-09T22:07:12.268Z"
   },
   {
    "duration": 22,
    "start_time": "2022-05-09T22:07:12.300Z"
   },
   {
    "duration": 670,
    "start_time": "2022-05-09T22:07:12.324Z"
   },
   {
    "duration": 20,
    "start_time": "2022-05-09T22:07:12.997Z"
   },
   {
    "duration": 31,
    "start_time": "2022-05-09T22:07:13.023Z"
   },
   {
    "duration": 28,
    "start_time": "2022-05-09T22:07:13.056Z"
   },
   {
    "duration": 556,
    "start_time": "2022-05-09T22:07:13.087Z"
   },
   {
    "duration": 7,
    "start_time": "2022-05-09T22:08:42.682Z"
   },
   {
    "duration": 137,
    "start_time": "2022-05-09T22:08:42.693Z"
   },
   {
    "duration": 12,
    "start_time": "2022-05-09T22:08:42.833Z"
   },
   {
    "duration": 20,
    "start_time": "2022-05-09T22:08:42.851Z"
   },
   {
    "duration": 43,
    "start_time": "2022-05-09T22:08:42.875Z"
   },
   {
    "duration": 47,
    "start_time": "2022-05-09T22:08:42.921Z"
   },
   {
    "duration": 1890,
    "start_time": "2022-05-09T22:08:42.971Z"
   },
   {
    "duration": 88,
    "start_time": "2022-05-09T22:08:44.864Z"
   },
   {
    "duration": 19,
    "start_time": "2022-05-09T22:08:44.955Z"
   },
   {
    "duration": 84,
    "start_time": "2022-05-09T22:08:44.976Z"
   },
   {
    "duration": 17,
    "start_time": "2022-05-09T22:08:45.066Z"
   },
   {
    "duration": 84,
    "start_time": "2022-05-09T22:08:45.086Z"
   },
   {
    "duration": 23,
    "start_time": "2022-05-09T22:08:45.173Z"
   },
   {
    "duration": 84,
    "start_time": "2022-05-09T22:08:45.199Z"
   },
   {
    "duration": 33,
    "start_time": "2022-05-09T22:08:45.285Z"
   },
   {
    "duration": 1647,
    "start_time": "2022-05-09T22:08:45.321Z"
   },
   {
    "duration": 19,
    "start_time": "2022-05-09T22:08:46.970Z"
   },
   {
    "duration": 204,
    "start_time": "2022-05-09T22:08:46.991Z"
   },
   {
    "duration": 21,
    "start_time": "2022-05-09T22:08:47.197Z"
   },
   {
    "duration": 42,
    "start_time": "2022-05-09T22:08:47.220Z"
   },
   {
    "duration": 615,
    "start_time": "2022-05-09T22:08:47.264Z"
   },
   {
    "duration": 21,
    "start_time": "2022-05-09T22:08:47.881Z"
   },
   {
    "duration": 7,
    "start_time": "2022-05-09T22:08:47.904Z"
   },
   {
    "duration": 52,
    "start_time": "2022-05-09T22:08:47.914Z"
   },
   {
    "duration": 359,
    "start_time": "2022-05-09T22:08:47.969Z"
   },
   {
    "duration": 2260,
    "start_time": "2022-05-10T18:17:18.768Z"
   },
   {
    "duration": 208,
    "start_time": "2022-05-10T18:17:21.031Z"
   },
   {
    "duration": 13,
    "start_time": "2022-05-10T18:17:21.241Z"
   },
   {
    "duration": 22,
    "start_time": "2022-05-10T18:17:21.256Z"
   },
   {
    "duration": 27,
    "start_time": "2022-05-10T18:17:21.300Z"
   },
   {
    "duration": 14,
    "start_time": "2022-05-10T18:17:21.329Z"
   },
   {
    "duration": 1066,
    "start_time": "2022-05-10T18:17:21.345Z"
   },
   {
    "duration": 44,
    "start_time": "2022-05-10T18:17:22.414Z"
   },
   {
    "duration": 16,
    "start_time": "2022-05-10T18:17:22.460Z"
   },
   {
    "duration": 592,
    "start_time": "2022-05-10T18:17:22.478Z"
   },
   {
    "duration": 11,
    "start_time": "2022-05-10T18:17:23.072Z"
   },
   {
    "duration": 58,
    "start_time": "2022-05-10T18:17:23.084Z"
   },
   {
    "duration": 76,
    "start_time": "2022-05-10T18:17:23.144Z"
   },
   {
    "duration": 41,
    "start_time": "2022-05-10T18:17:23.222Z"
   },
   {
    "duration": 59,
    "start_time": "2022-05-10T18:17:23.266Z"
   },
   {
    "duration": 1163,
    "start_time": "2022-05-10T18:17:23.327Z"
   },
   {
    "duration": 19,
    "start_time": "2022-05-10T18:17:24.499Z"
   },
   {
    "duration": 39,
    "start_time": "2022-05-10T18:17:24.519Z"
   },
   {
    "duration": 17,
    "start_time": "2022-05-10T18:17:24.560Z"
   },
   {
    "duration": 28,
    "start_time": "2022-05-10T18:17:24.579Z"
   },
   {
    "duration": 423,
    "start_time": "2022-05-10T18:17:24.609Z"
   },
   {
    "duration": 14,
    "start_time": "2022-05-10T18:17:25.033Z"
   },
   {
    "duration": 25,
    "start_time": "2022-05-10T18:17:25.049Z"
   },
   {
    "duration": 17,
    "start_time": "2022-05-10T18:17:25.076Z"
   },
   {
    "duration": 206,
    "start_time": "2022-05-10T18:17:25.095Z"
   },
   {
    "duration": 1502,
    "start_time": "2022-05-10T19:43:17.278Z"
   },
   {
    "duration": 162,
    "start_time": "2022-05-10T19:43:18.782Z"
   },
   {
    "duration": 14,
    "start_time": "2022-05-10T19:43:18.945Z"
   },
   {
    "duration": 20,
    "start_time": "2022-05-10T19:43:18.961Z"
   },
   {
    "duration": 29,
    "start_time": "2022-05-10T19:43:18.982Z"
   },
   {
    "duration": 10,
    "start_time": "2022-05-10T19:43:19.012Z"
   },
   {
    "duration": 1139,
    "start_time": "2022-05-10T19:43:19.024Z"
   },
   {
    "duration": 41,
    "start_time": "2022-05-10T19:43:20.200Z"
   },
   {
    "duration": 14,
    "start_time": "2022-05-10T19:43:20.242Z"
   },
   {
    "duration": 377,
    "start_time": "2022-05-10T19:43:20.259Z"
   },
   {
    "duration": 11,
    "start_time": "2022-05-10T19:43:20.638Z"
   },
   {
    "duration": 55,
    "start_time": "2022-05-10T19:43:20.650Z"
   },
   {
    "duration": 18,
    "start_time": "2022-05-10T19:43:20.707Z"
   },
   {
    "duration": 180,
    "start_time": "2022-05-10T19:43:20.726Z"
   },
   {
    "duration": 17,
    "start_time": "2022-05-10T19:43:20.908Z"
   },
   {
    "duration": 1042,
    "start_time": "2022-05-10T19:43:20.927Z"
   },
   {
    "duration": 12,
    "start_time": "2022-05-10T19:43:21.970Z"
   },
   {
    "duration": 40,
    "start_time": "2022-05-10T19:43:21.983Z"
   },
   {
    "duration": 19,
    "start_time": "2022-05-10T19:43:22.025Z"
   },
   {
    "duration": 18,
    "start_time": "2022-05-10T19:43:22.046Z"
   },
   {
    "duration": 367,
    "start_time": "2022-05-10T19:43:22.066Z"
   },
   {
    "duration": 15,
    "start_time": "2022-05-10T19:43:22.435Z"
   },
   {
    "duration": 11,
    "start_time": "2022-05-10T19:43:22.452Z"
   },
   {
    "duration": 35,
    "start_time": "2022-05-10T19:43:22.464Z"
   },
   {
    "duration": 186,
    "start_time": "2022-05-10T19:43:22.501Z"
   },
   {
    "duration": 183,
    "start_time": "2022-05-10T20:59:55.747Z"
   },
   {
    "duration": 13,
    "start_time": "2022-05-10T21:09:17.069Z"
   },
   {
    "duration": 4,
    "start_time": "2022-05-10T21:10:25.238Z"
   },
   {
    "duration": 160,
    "start_time": "2022-05-10T21:10:25.244Z"
   },
   {
    "duration": 9,
    "start_time": "2022-05-10T21:10:25.407Z"
   },
   {
    "duration": 11,
    "start_time": "2022-05-10T21:10:31.756Z"
   },
   {
    "duration": 14,
    "start_time": "2022-05-10T21:10:32.504Z"
   },
   {
    "duration": 11,
    "start_time": "2022-05-10T21:10:39.723Z"
   },
   {
    "duration": 22,
    "start_time": "2022-05-10T21:11:29.813Z"
   },
   {
    "duration": 35,
    "start_time": "2022-05-10T21:14:43.315Z"
   },
   {
    "duration": 40,
    "start_time": "2022-05-10T21:14:52.596Z"
   },
   {
    "duration": 37,
    "start_time": "2022-05-10T21:15:01.283Z"
   },
   {
    "duration": 186,
    "start_time": "2022-05-10T21:23:19.005Z"
   },
   {
    "duration": 43,
    "start_time": "2022-05-10T21:23:34.599Z"
   },
   {
    "duration": 16,
    "start_time": "2022-05-10T21:27:44.708Z"
   },
   {
    "duration": 18,
    "start_time": "2022-05-10T21:29:02.352Z"
   },
   {
    "duration": 22,
    "start_time": "2022-05-10T21:29:14.021Z"
   },
   {
    "duration": 17,
    "start_time": "2022-05-10T21:30:30.069Z"
   },
   {
    "duration": 4,
    "start_time": "2022-05-10T21:30:57.466Z"
   },
   {
    "duration": 197,
    "start_time": "2022-05-10T21:30:57.472Z"
   },
   {
    "duration": 9,
    "start_time": "2022-05-10T21:30:57.671Z"
   },
   {
    "duration": 17,
    "start_time": "2022-05-10T21:30:57.681Z"
   },
   {
    "duration": 36,
    "start_time": "2022-05-10T21:30:57.700Z"
   },
   {
    "duration": 19,
    "start_time": "2022-05-10T21:30:57.738Z"
   },
   {
    "duration": 26,
    "start_time": "2022-05-10T21:31:00.980Z"
   },
   {
    "duration": 11,
    "start_time": "2022-05-10T21:31:07.851Z"
   },
   {
    "duration": 1353,
    "start_time": "2022-05-10T21:31:08.658Z"
   },
   {
    "duration": 83,
    "start_time": "2022-05-10T21:31:10.020Z"
   },
   {
    "duration": 5,
    "start_time": "2022-05-10T21:31:22.033Z"
   },
   {
    "duration": 165,
    "start_time": "2022-05-10T21:31:22.041Z"
   },
   {
    "duration": 9,
    "start_time": "2022-05-10T21:31:22.208Z"
   },
   {
    "duration": 20,
    "start_time": "2022-05-10T21:31:22.219Z"
   },
   {
    "duration": 72,
    "start_time": "2022-05-10T21:31:22.241Z"
   },
   {
    "duration": 48,
    "start_time": "2022-05-10T21:31:24.060Z"
   },
   {
    "duration": 28,
    "start_time": "2022-05-10T21:31:24.532Z"
   },
   {
    "duration": 43,
    "start_time": "2022-05-10T21:32:03.702Z"
   },
   {
    "duration": 31,
    "start_time": "2022-05-10T21:32:17.101Z"
   },
   {
    "duration": 4,
    "start_time": "2022-05-10T21:32:28.073Z"
   },
   {
    "duration": 146,
    "start_time": "2022-05-10T21:32:28.078Z"
   },
   {
    "duration": 9,
    "start_time": "2022-05-10T21:32:28.227Z"
   },
   {
    "duration": 13,
    "start_time": "2022-05-10T21:32:28.237Z"
   },
   {
    "duration": 49,
    "start_time": "2022-05-10T21:32:28.252Z"
   },
   {
    "duration": 29,
    "start_time": "2022-05-10T21:32:29.419Z"
   },
   {
    "duration": 30,
    "start_time": "2022-05-10T21:32:30.125Z"
   },
   {
    "duration": 3,
    "start_time": "2022-05-10T21:33:28.674Z"
   },
   {
    "duration": 248,
    "start_time": "2022-05-10T21:33:28.679Z"
   },
   {
    "duration": 9,
    "start_time": "2022-05-10T21:33:28.928Z"
   },
   {
    "duration": 13,
    "start_time": "2022-05-10T21:33:28.938Z"
   },
   {
    "duration": 31,
    "start_time": "2022-05-10T21:33:28.953Z"
   },
   {
    "duration": 190,
    "start_time": "2022-05-10T21:33:28.985Z"
   },
   {
    "duration": 0,
    "start_time": "2022-05-10T21:33:29.177Z"
   },
   {
    "duration": 0,
    "start_time": "2022-05-10T21:33:29.178Z"
   },
   {
    "duration": 0,
    "start_time": "2022-05-10T21:33:29.179Z"
   },
   {
    "duration": 0,
    "start_time": "2022-05-10T21:33:29.180Z"
   },
   {
    "duration": 0,
    "start_time": "2022-05-10T21:33:29.181Z"
   },
   {
    "duration": 0,
    "start_time": "2022-05-10T21:33:29.182Z"
   },
   {
    "duration": 0,
    "start_time": "2022-05-10T21:33:29.183Z"
   },
   {
    "duration": 0,
    "start_time": "2022-05-10T21:33:29.184Z"
   },
   {
    "duration": 0,
    "start_time": "2022-05-10T21:33:29.185Z"
   },
   {
    "duration": 0,
    "start_time": "2022-05-10T21:33:29.186Z"
   },
   {
    "duration": 0,
    "start_time": "2022-05-10T21:33:29.187Z"
   },
   {
    "duration": 0,
    "start_time": "2022-05-10T21:33:29.188Z"
   },
   {
    "duration": 0,
    "start_time": "2022-05-10T21:33:29.189Z"
   },
   {
    "duration": 0,
    "start_time": "2022-05-10T21:33:29.190Z"
   },
   {
    "duration": 0,
    "start_time": "2022-05-10T21:33:29.191Z"
   },
   {
    "duration": 0,
    "start_time": "2022-05-10T21:33:29.192Z"
   },
   {
    "duration": 0,
    "start_time": "2022-05-10T21:33:29.193Z"
   },
   {
    "duration": 0,
    "start_time": "2022-05-10T21:33:29.193Z"
   },
   {
    "duration": 0,
    "start_time": "2022-05-10T21:33:29.194Z"
   },
   {
    "duration": 0,
    "start_time": "2022-05-10T21:33:29.195Z"
   },
   {
    "duration": 4,
    "start_time": "2022-05-10T21:33:45.488Z"
   },
   {
    "duration": 816,
    "start_time": "2022-05-10T21:33:45.494Z"
   },
   {
    "duration": 9,
    "start_time": "2022-05-10T21:33:46.312Z"
   },
   {
    "duration": 27,
    "start_time": "2022-05-10T21:33:46.322Z"
   },
   {
    "duration": 33,
    "start_time": "2022-05-10T21:33:46.350Z"
   },
   {
    "duration": 29,
    "start_time": "2022-05-10T21:33:49.459Z"
   },
   {
    "duration": 29,
    "start_time": "2022-05-10T21:33:49.490Z"
   },
   {
    "duration": 30,
    "start_time": "2022-05-10T21:34:07.579Z"
   },
   {
    "duration": 34,
    "start_time": "2022-05-10T21:34:16.806Z"
   },
   {
    "duration": 32,
    "start_time": "2022-05-10T21:34:23.500Z"
   },
   {
    "duration": 16,
    "start_time": "2022-05-10T21:35:02.878Z"
   },
   {
    "duration": 32,
    "start_time": "2022-05-10T21:36:36.142Z"
   },
   {
    "duration": 4,
    "start_time": "2022-05-10T21:37:14.676Z"
   },
   {
    "duration": 167,
    "start_time": "2022-05-10T21:37:14.681Z"
   },
   {
    "duration": 8,
    "start_time": "2022-05-10T21:37:14.849Z"
   },
   {
    "duration": 17,
    "start_time": "2022-05-10T21:37:14.859Z"
   },
   {
    "duration": 31,
    "start_time": "2022-05-10T21:37:14.877Z"
   },
   {
    "duration": 30,
    "start_time": "2022-05-10T21:37:16.492Z"
   },
   {
    "duration": 30,
    "start_time": "2022-05-10T21:37:49.141Z"
   },
   {
    "duration": 30,
    "start_time": "2022-05-10T21:38:03.125Z"
   },
   {
    "duration": 29,
    "start_time": "2022-05-10T21:38:10.509Z"
   },
   {
    "duration": 5,
    "start_time": "2022-05-10T21:43:12.913Z"
   },
   {
    "duration": 784,
    "start_time": "2022-05-10T21:43:12.920Z"
   },
   {
    "duration": 8,
    "start_time": "2022-05-10T21:43:13.705Z"
   },
   {
    "duration": 14,
    "start_time": "2022-05-10T21:43:13.716Z"
   },
   {
    "duration": 31,
    "start_time": "2022-05-10T21:43:13.732Z"
   },
   {
    "duration": 29,
    "start_time": "2022-05-10T21:43:15.462Z"
   },
   {
    "duration": 14,
    "start_time": "2022-05-10T21:43:16.070Z"
   },
   {
    "duration": 34,
    "start_time": "2022-05-10T21:43:31.440Z"
   },
   {
    "duration": 4,
    "start_time": "2022-05-10T21:45:04.548Z"
   },
   {
    "duration": 217,
    "start_time": "2022-05-10T21:45:04.554Z"
   },
   {
    "duration": 10,
    "start_time": "2022-05-10T21:45:04.773Z"
   },
   {
    "duration": 13,
    "start_time": "2022-05-10T21:45:04.785Z"
   },
   {
    "duration": 13,
    "start_time": "2022-05-10T21:45:08.774Z"
   },
   {
    "duration": 33,
    "start_time": "2022-05-10T21:45:09.374Z"
   },
   {
    "duration": 31,
    "start_time": "2022-05-10T21:45:22.995Z"
   },
   {
    "duration": 4,
    "start_time": "2022-05-10T21:47:58.208Z"
   },
   {
    "duration": 152,
    "start_time": "2022-05-10T21:47:58.214Z"
   },
   {
    "duration": 8,
    "start_time": "2022-05-10T21:47:58.368Z"
   },
   {
    "duration": 14,
    "start_time": "2022-05-10T21:47:58.378Z"
   },
   {
    "duration": 23,
    "start_time": "2022-05-10T21:48:34.297Z"
   },
   {
    "duration": 9,
    "start_time": "2022-05-10T22:04:01.102Z"
   },
   {
    "duration": 38,
    "start_time": "2022-05-10T22:05:02.265Z"
   },
   {
    "duration": 41,
    "start_time": "2022-05-10T22:05:11.759Z"
   },
   {
    "duration": 39,
    "start_time": "2022-05-10T22:05:43.657Z"
   },
   {
    "duration": 42,
    "start_time": "2022-05-10T22:05:58.912Z"
   },
   {
    "duration": 59,
    "start_time": "2022-05-10T22:14:34.449Z"
   },
   {
    "duration": 67,
    "start_time": "2022-05-10T22:14:53.572Z"
   },
   {
    "duration": 63,
    "start_time": "2022-05-10T22:14:56.977Z"
   },
   {
    "duration": 58,
    "start_time": "2022-05-10T22:15:23.290Z"
   },
   {
    "duration": 12,
    "start_time": "2022-05-10T22:15:42.320Z"
   },
   {
    "duration": 1095,
    "start_time": "2022-05-10T22:15:50.832Z"
   },
   {
    "duration": 41,
    "start_time": "2022-05-10T22:15:55.964Z"
   },
   {
    "duration": 12,
    "start_time": "2022-05-10T22:16:03.721Z"
   },
   {
    "duration": 35,
    "start_time": "2022-05-10T22:16:07.841Z"
   },
   {
    "duration": 10,
    "start_time": "2022-05-10T22:16:31.377Z"
   },
   {
    "duration": 32,
    "start_time": "2022-05-10T22:16:32.665Z"
   },
   {
    "duration": 14,
    "start_time": "2022-05-10T22:16:40.465Z"
   },
   {
    "duration": 32,
    "start_time": "2022-05-10T22:16:41.563Z"
   },
   {
    "duration": 16,
    "start_time": "2022-05-10T22:17:09.329Z"
   },
   {
    "duration": 1050,
    "start_time": "2022-05-10T22:17:11.889Z"
   },
   {
    "duration": 12,
    "start_time": "2022-05-10T22:17:20.994Z"
   },
   {
    "duration": 34,
    "start_time": "2022-05-10T22:17:22.897Z"
   },
   {
    "duration": 231,
    "start_time": "2022-05-10T22:25:21.357Z"
   },
   {
    "duration": 4,
    "start_time": "2022-05-10T22:26:01.788Z"
   },
   {
    "duration": 155,
    "start_time": "2022-05-10T22:26:01.794Z"
   },
   {
    "duration": 9,
    "start_time": "2022-05-10T22:26:01.951Z"
   },
   {
    "duration": 18,
    "start_time": "2022-05-10T22:26:01.962Z"
   },
   {
    "duration": 10,
    "start_time": "2022-05-10T22:26:01.982Z"
   },
   {
    "duration": 69,
    "start_time": "2022-05-10T22:26:01.993Z"
   },
   {
    "duration": 11,
    "start_time": "2022-05-10T22:26:02.064Z"
   },
   {
    "duration": 1227,
    "start_time": "2022-05-10T22:26:02.076Z"
   },
   {
    "duration": 42,
    "start_time": "2022-05-10T22:26:03.305Z"
   },
   {
    "duration": 13,
    "start_time": "2022-05-10T22:26:03.349Z"
   },
   {
    "duration": 56,
    "start_time": "2022-05-10T22:26:03.364Z"
   },
   {
    "duration": 11,
    "start_time": "2022-05-10T22:26:03.421Z"
   },
   {
    "duration": 35,
    "start_time": "2022-05-10T22:26:03.433Z"
   },
   {
    "duration": 42,
    "start_time": "2022-05-10T22:26:03.470Z"
   },
   {
    "duration": 34,
    "start_time": "2022-05-10T22:26:03.513Z"
   },
   {
    "duration": 16,
    "start_time": "2022-05-10T22:26:03.549Z"
   },
   {
    "duration": 1255,
    "start_time": "2022-05-10T22:26:03.567Z"
   },
   {
    "duration": 11,
    "start_time": "2022-05-10T22:26:04.824Z"
   },
   {
    "duration": 33,
    "start_time": "2022-05-10T22:26:04.837Z"
   },
   {
    "duration": 33,
    "start_time": "2022-05-10T22:26:07.339Z"
   },
   {
    "duration": 223,
    "start_time": "2022-05-10T22:26:08.362Z"
   },
   {
    "duration": 211,
    "start_time": "2022-05-10T22:28:50.236Z"
   },
   {
    "duration": 352,
    "start_time": "2022-05-10T22:29:00.811Z"
   },
   {
    "duration": 1232,
    "start_time": "2022-05-10T22:29:22.798Z"
   },
   {
    "duration": 149,
    "start_time": "2022-05-10T22:29:24.032Z"
   },
   {
    "duration": 14,
    "start_time": "2022-05-10T22:29:24.183Z"
   },
   {
    "duration": 13,
    "start_time": "2022-05-10T22:29:24.199Z"
   },
   {
    "duration": 9,
    "start_time": "2022-05-10T22:29:24.214Z"
   },
   {
    "duration": 58,
    "start_time": "2022-05-10T22:29:24.225Z"
   },
   {
    "duration": 24,
    "start_time": "2022-05-10T22:29:24.285Z"
   },
   {
    "duration": 1130,
    "start_time": "2022-05-10T22:29:24.311Z"
   },
   {
    "duration": 71,
    "start_time": "2022-05-10T22:29:25.443Z"
   },
   {
    "duration": 12,
    "start_time": "2022-05-10T22:29:25.516Z"
   },
   {
    "duration": 366,
    "start_time": "2022-05-10T22:29:25.529Z"
   },
   {
    "duration": 11,
    "start_time": "2022-05-10T22:29:25.897Z"
   },
   {
    "duration": 152,
    "start_time": "2022-05-10T22:29:25.910Z"
   },
   {
    "duration": 38,
    "start_time": "2022-05-10T22:29:26.064Z"
   },
   {
    "duration": 31,
    "start_time": "2022-05-10T22:29:26.104Z"
   },
   {
    "duration": 27,
    "start_time": "2022-05-10T22:29:26.136Z"
   },
   {
    "duration": 908,
    "start_time": "2022-05-10T22:29:26.164Z"
   },
   {
    "duration": 12,
    "start_time": "2022-05-10T22:29:27.074Z"
   },
   {
    "duration": 40,
    "start_time": "2022-05-10T22:29:27.087Z"
   },
   {
    "duration": 33,
    "start_time": "2022-05-10T22:29:33.622Z"
   },
   {
    "duration": 176,
    "start_time": "2022-05-10T22:29:36.533Z"
   },
   {
    "duration": 745,
    "start_time": "2022-05-10T22:30:18.175Z"
   },
   {
    "duration": 177,
    "start_time": "2022-05-10T22:30:49.950Z"
   },
   {
    "duration": 221,
    "start_time": "2022-05-10T22:31:52.766Z"
   },
   {
    "duration": 10,
    "start_time": "2022-05-10T22:33:23.814Z"
   },
   {
    "duration": 3,
    "start_time": "2022-05-10T22:33:27.001Z"
   },
   {
    "duration": 156,
    "start_time": "2022-05-10T22:33:27.006Z"
   },
   {
    "duration": 7,
    "start_time": "2022-05-10T22:33:27.164Z"
   },
   {
    "duration": 13,
    "start_time": "2022-05-10T22:33:27.173Z"
   },
   {
    "duration": 7,
    "start_time": "2022-05-10T22:33:27.188Z"
   },
   {
    "duration": 57,
    "start_time": "2022-05-10T22:33:27.196Z"
   },
   {
    "duration": 10,
    "start_time": "2022-05-10T22:33:27.254Z"
   },
   {
    "duration": 1094,
    "start_time": "2022-05-10T22:33:27.265Z"
   },
   {
    "duration": 80,
    "start_time": "2022-05-10T22:33:28.360Z"
   },
   {
    "duration": 11,
    "start_time": "2022-05-10T22:33:28.442Z"
   },
   {
    "duration": 48,
    "start_time": "2022-05-10T22:33:28.456Z"
   },
   {
    "duration": 10,
    "start_time": "2022-05-10T22:33:28.506Z"
   },
   {
    "duration": 36,
    "start_time": "2022-05-10T22:33:28.517Z"
   },
   {
    "duration": 14,
    "start_time": "2022-05-10T22:33:28.554Z"
   },
   {
    "duration": 60,
    "start_time": "2022-05-10T22:33:28.570Z"
   },
   {
    "duration": 14,
    "start_time": "2022-05-10T22:33:28.632Z"
   },
   {
    "duration": 943,
    "start_time": "2022-05-10T22:33:28.647Z"
   },
   {
    "duration": 11,
    "start_time": "2022-05-10T22:33:29.591Z"
   },
   {
    "duration": 33,
    "start_time": "2022-05-10T22:33:29.603Z"
   },
   {
    "duration": 217,
    "start_time": "2022-05-10T22:33:29.638Z"
   },
   {
    "duration": 220,
    "start_time": "2022-05-10T22:33:29.857Z"
   },
   {
    "duration": 0,
    "start_time": "2022-05-10T22:33:30.078Z"
   },
   {
    "duration": 1,
    "start_time": "2022-05-10T22:33:30.079Z"
   },
   {
    "duration": 0,
    "start_time": "2022-05-10T22:33:30.081Z"
   },
   {
    "duration": 0,
    "start_time": "2022-05-10T22:33:30.081Z"
   },
   {
    "duration": 0,
    "start_time": "2022-05-10T22:33:30.083Z"
   },
   {
    "duration": 0,
    "start_time": "2022-05-10T22:33:30.084Z"
   },
   {
    "duration": 0,
    "start_time": "2022-05-10T22:33:30.084Z"
   },
   {
    "duration": 0,
    "start_time": "2022-05-10T22:33:30.085Z"
   },
   {
    "duration": 338,
    "start_time": "2022-05-10T22:33:44.718Z"
   },
   {
    "duration": 3,
    "start_time": "2022-05-10T22:33:55.843Z"
   },
   {
    "duration": 148,
    "start_time": "2022-05-10T22:33:55.848Z"
   },
   {
    "duration": 8,
    "start_time": "2022-05-10T22:33:55.998Z"
   },
   {
    "duration": 14,
    "start_time": "2022-05-10T22:33:56.008Z"
   },
   {
    "duration": 7,
    "start_time": "2022-05-10T22:33:56.024Z"
   },
   {
    "duration": 78,
    "start_time": "2022-05-10T22:33:56.032Z"
   },
   {
    "duration": 10,
    "start_time": "2022-05-10T22:33:56.112Z"
   },
   {
    "duration": 1197,
    "start_time": "2022-05-10T22:33:56.123Z"
   },
   {
    "duration": 43,
    "start_time": "2022-05-10T22:33:57.322Z"
   },
   {
    "duration": 35,
    "start_time": "2022-05-10T22:33:57.366Z"
   },
   {
    "duration": 34,
    "start_time": "2022-05-10T22:33:57.404Z"
   },
   {
    "duration": 11,
    "start_time": "2022-05-10T22:33:57.439Z"
   },
   {
    "duration": 61,
    "start_time": "2022-05-10T22:33:57.452Z"
   },
   {
    "duration": 14,
    "start_time": "2022-05-10T22:33:57.515Z"
   },
   {
    "duration": 34,
    "start_time": "2022-05-10T22:33:57.531Z"
   },
   {
    "duration": 40,
    "start_time": "2022-05-10T22:33:57.567Z"
   },
   {
    "duration": 980,
    "start_time": "2022-05-10T22:33:57.608Z"
   },
   {
    "duration": 19,
    "start_time": "2022-05-10T22:33:58.590Z"
   },
   {
    "duration": 33,
    "start_time": "2022-05-10T22:33:58.610Z"
   },
   {
    "duration": 213,
    "start_time": "2022-05-10T22:33:58.644Z"
   },
   {
    "duration": 356,
    "start_time": "2022-05-10T22:33:58.859Z"
   },
   {
    "duration": 224,
    "start_time": "2022-05-10T22:33:59.216Z"
   },
   {
    "duration": 16,
    "start_time": "2022-05-10T22:33:59.441Z"
   },
   {
    "duration": 16,
    "start_time": "2022-05-10T22:33:59.458Z"
   },
   {
    "duration": 360,
    "start_time": "2022-05-10T22:33:59.475Z"
   },
   {
    "duration": 14,
    "start_time": "2022-05-10T22:33:59.836Z"
   },
   {
    "duration": 5,
    "start_time": "2022-05-10T22:33:59.851Z"
   },
   {
    "duration": 28,
    "start_time": "2022-05-10T22:33:59.857Z"
   },
   {
    "duration": 180,
    "start_time": "2022-05-10T22:33:59.888Z"
   },
   {
    "duration": 347,
    "start_time": "2022-05-10T22:35:37.662Z"
   },
   {
    "duration": 470,
    "start_time": "2022-05-10T22:36:01.086Z"
   },
   {
    "duration": 371,
    "start_time": "2022-05-10T22:36:06.854Z"
   },
   {
    "duration": 23,
    "start_time": "2022-05-10T22:36:19.190Z"
   },
   {
    "duration": 376,
    "start_time": "2022-05-10T22:36:23.574Z"
   },
   {
    "duration": 102,
    "start_time": "2022-05-10T22:36:50.990Z"
   },
   {
    "duration": 357,
    "start_time": "2022-05-10T22:36:53.367Z"
   },
   {
    "duration": 13,
    "start_time": "2022-05-10T22:38:14.751Z"
   },
   {
    "duration": 478,
    "start_time": "2022-05-10T22:38:19.246Z"
   },
   {
    "duration": 165,
    "start_time": "2022-05-10T22:40:24.879Z"
   },
   {
    "duration": 1179,
    "start_time": "2022-05-10T22:41:17.260Z"
   },
   {
    "duration": 165,
    "start_time": "2022-05-10T22:41:18.441Z"
   },
   {
    "duration": 12,
    "start_time": "2022-05-10T22:41:18.608Z"
   },
   {
    "duration": 14,
    "start_time": "2022-05-10T22:41:18.622Z"
   },
   {
    "duration": 8,
    "start_time": "2022-05-10T22:41:18.638Z"
   },
   {
    "duration": 70,
    "start_time": "2022-05-10T22:41:18.647Z"
   },
   {
    "duration": 10,
    "start_time": "2022-05-10T22:41:18.718Z"
   },
   {
    "duration": 1186,
    "start_time": "2022-05-10T22:41:18.729Z"
   },
   {
    "duration": 42,
    "start_time": "2022-05-10T22:41:19.917Z"
   },
   {
    "duration": 12,
    "start_time": "2022-05-10T22:41:19.961Z"
   },
   {
    "duration": 353,
    "start_time": "2022-05-10T22:41:19.974Z"
   },
   {
    "duration": 11,
    "start_time": "2022-05-10T22:41:20.329Z"
   },
   {
    "duration": 64,
    "start_time": "2022-05-10T22:41:20.341Z"
   },
   {
    "duration": 15,
    "start_time": "2022-05-10T22:41:20.407Z"
   },
   {
    "duration": 81,
    "start_time": "2022-05-10T22:41:20.424Z"
   },
   {
    "duration": 16,
    "start_time": "2022-05-10T22:41:20.506Z"
   },
   {
    "duration": 1031,
    "start_time": "2022-05-10T22:41:20.524Z"
   },
   {
    "duration": 12,
    "start_time": "2022-05-10T22:41:21.556Z"
   },
   {
    "duration": 45,
    "start_time": "2022-05-10T22:41:21.570Z"
   },
   {
    "duration": 181,
    "start_time": "2022-05-10T22:41:21.617Z"
   },
   {
    "duration": 141,
    "start_time": "2022-05-10T22:41:21.800Z"
   },
   {
    "duration": 0,
    "start_time": "2022-05-10T22:41:21.943Z"
   },
   {
    "duration": 0,
    "start_time": "2022-05-10T22:41:21.944Z"
   },
   {
    "duration": 1,
    "start_time": "2022-05-10T22:41:21.944Z"
   },
   {
    "duration": 0,
    "start_time": "2022-05-10T22:41:21.945Z"
   },
   {
    "duration": 0,
    "start_time": "2022-05-10T22:41:21.946Z"
   },
   {
    "duration": 0,
    "start_time": "2022-05-10T22:41:21.947Z"
   },
   {
    "duration": 0,
    "start_time": "2022-05-10T22:41:21.948Z"
   },
   {
    "duration": 0,
    "start_time": "2022-05-10T22:41:21.949Z"
   },
   {
    "duration": 0,
    "start_time": "2022-05-10T22:41:21.950Z"
   },
   {
    "duration": 0,
    "start_time": "2022-05-10T22:41:21.950Z"
   },
   {
    "duration": 167,
    "start_time": "2022-05-10T22:41:45.836Z"
   },
   {
    "duration": 162,
    "start_time": "2022-05-10T22:42:15.014Z"
   },
   {
    "duration": 1175,
    "start_time": "2022-05-10T22:42:40.294Z"
   },
   {
    "duration": 151,
    "start_time": "2022-05-10T22:42:41.471Z"
   },
   {
    "duration": 13,
    "start_time": "2022-05-10T22:42:41.623Z"
   },
   {
    "duration": 13,
    "start_time": "2022-05-10T22:42:41.638Z"
   },
   {
    "duration": 7,
    "start_time": "2022-05-10T22:42:41.653Z"
   },
   {
    "duration": 82,
    "start_time": "2022-05-10T22:42:41.662Z"
   },
   {
    "duration": 9,
    "start_time": "2022-05-10T22:42:41.746Z"
   },
   {
    "duration": 1091,
    "start_time": "2022-05-10T22:42:41.757Z"
   },
   {
    "duration": 76,
    "start_time": "2022-05-10T22:42:42.850Z"
   },
   {
    "duration": 139,
    "start_time": "2022-05-10T22:42:42.929Z"
   },
   {
    "duration": 12,
    "start_time": "2022-05-10T22:42:43.069Z"
   },
   {
    "duration": 520,
    "start_time": "2022-05-10T22:42:43.083Z"
   },
   {
    "duration": 11,
    "start_time": "2022-05-10T22:42:43.604Z"
   },
   {
    "duration": 86,
    "start_time": "2022-05-10T22:42:43.617Z"
   },
   {
    "duration": 13,
    "start_time": "2022-05-10T22:42:43.704Z"
   },
   {
    "duration": 89,
    "start_time": "2022-05-10T22:42:43.718Z"
   },
   {
    "duration": 17,
    "start_time": "2022-05-10T22:42:43.809Z"
   },
   {
    "duration": 1464,
    "start_time": "2022-05-10T22:42:43.827Z"
   },
   {
    "duration": 16,
    "start_time": "2022-05-10T22:42:45.293Z"
   },
   {
    "duration": 30,
    "start_time": "2022-05-10T22:42:45.311Z"
   },
   {
    "duration": 140,
    "start_time": "2022-05-10T22:42:45.343Z"
   },
   {
    "duration": 539,
    "start_time": "2022-05-10T22:42:45.485Z"
   },
   {
    "duration": 0,
    "start_time": "2022-05-10T22:42:46.026Z"
   },
   {
    "duration": 0,
    "start_time": "2022-05-10T22:42:46.027Z"
   },
   {
    "duration": 0,
    "start_time": "2022-05-10T22:42:46.028Z"
   },
   {
    "duration": 0,
    "start_time": "2022-05-10T22:42:46.029Z"
   },
   {
    "duration": 0,
    "start_time": "2022-05-10T22:42:46.031Z"
   },
   {
    "duration": 0,
    "start_time": "2022-05-10T22:42:46.032Z"
   },
   {
    "duration": 0,
    "start_time": "2022-05-10T22:42:46.032Z"
   },
   {
    "duration": 0,
    "start_time": "2022-05-10T22:42:46.034Z"
   },
   {
    "duration": 3,
    "start_time": "2022-05-10T22:47:17.026Z"
   },
   {
    "duration": 148,
    "start_time": "2022-05-10T22:47:17.031Z"
   },
   {
    "duration": 8,
    "start_time": "2022-05-10T22:47:17.181Z"
   },
   {
    "duration": 14,
    "start_time": "2022-05-10T22:47:17.191Z"
   },
   {
    "duration": 7,
    "start_time": "2022-05-10T22:47:17.207Z"
   },
   {
    "duration": 158,
    "start_time": "2022-05-10T22:47:17.216Z"
   },
   {
    "duration": 9,
    "start_time": "2022-05-10T22:47:17.376Z"
   },
   {
    "duration": 1123,
    "start_time": "2022-05-10T22:47:17.387Z"
   },
   {
    "duration": 44,
    "start_time": "2022-05-10T22:47:18.518Z"
   },
   {
    "duration": 37,
    "start_time": "2022-05-10T22:47:18.564Z"
   },
   {
    "duration": 32,
    "start_time": "2022-05-10T22:47:18.603Z"
   },
   {
    "duration": 11,
    "start_time": "2022-05-10T22:47:18.636Z"
   },
   {
    "duration": 30,
    "start_time": "2022-05-10T22:47:18.648Z"
   },
   {
    "duration": 13,
    "start_time": "2022-05-10T22:47:18.700Z"
   },
   {
    "duration": 32,
    "start_time": "2022-05-10T22:47:18.715Z"
   },
   {
    "duration": 15,
    "start_time": "2022-05-10T22:47:18.748Z"
   },
   {
    "duration": 941,
    "start_time": "2022-05-10T22:47:18.764Z"
   },
   {
    "duration": 13,
    "start_time": "2022-05-10T22:47:19.708Z"
   },
   {
    "duration": 34,
    "start_time": "2022-05-10T22:47:19.723Z"
   },
   {
    "duration": 523,
    "start_time": "2022-05-10T22:47:19.759Z"
   },
   {
    "duration": 0,
    "start_time": "2022-05-10T22:47:20.284Z"
   },
   {
    "duration": 0,
    "start_time": "2022-05-10T22:47:20.286Z"
   },
   {
    "duration": 0,
    "start_time": "2022-05-10T22:47:20.287Z"
   },
   {
    "duration": 0,
    "start_time": "2022-05-10T22:47:20.288Z"
   },
   {
    "duration": 0,
    "start_time": "2022-05-10T22:47:20.300Z"
   },
   {
    "duration": 0,
    "start_time": "2022-05-10T22:47:20.301Z"
   },
   {
    "duration": 0,
    "start_time": "2022-05-10T22:47:20.302Z"
   },
   {
    "duration": 24,
    "start_time": "2022-05-10T22:47:36.436Z"
   },
   {
    "duration": 14,
    "start_time": "2022-05-10T22:47:36.827Z"
   },
   {
    "duration": 379,
    "start_time": "2022-05-10T22:47:37.014Z"
   },
   {
    "duration": 449,
    "start_time": "2022-05-10T22:49:05.661Z"
   },
   {
    "duration": 332,
    "start_time": "2022-05-10T22:49:24.788Z"
   },
   {
    "duration": 1152,
    "start_time": "2022-05-10T22:49:34.993Z"
   },
   {
    "duration": 169,
    "start_time": "2022-05-10T22:49:36.146Z"
   },
   {
    "duration": 13,
    "start_time": "2022-05-10T22:49:36.316Z"
   },
   {
    "duration": 13,
    "start_time": "2022-05-10T22:49:36.331Z"
   },
   {
    "duration": 8,
    "start_time": "2022-05-10T22:49:36.345Z"
   },
   {
    "duration": 72,
    "start_time": "2022-05-10T22:49:36.354Z"
   },
   {
    "duration": 11,
    "start_time": "2022-05-10T22:49:36.427Z"
   },
   {
    "duration": 1165,
    "start_time": "2022-05-10T22:49:36.439Z"
   },
   {
    "duration": 39,
    "start_time": "2022-05-10T22:49:37.606Z"
   },
   {
    "duration": 11,
    "start_time": "2022-05-10T22:49:37.648Z"
   },
   {
    "duration": 375,
    "start_time": "2022-05-10T22:49:37.661Z"
   },
   {
    "duration": 11,
    "start_time": "2022-05-10T22:49:38.037Z"
   },
   {
    "duration": 154,
    "start_time": "2022-05-10T22:49:38.050Z"
   },
   {
    "duration": 13,
    "start_time": "2022-05-10T22:49:38.205Z"
   },
   {
    "duration": 29,
    "start_time": "2022-05-10T22:49:38.220Z"
   },
   {
    "duration": 14,
    "start_time": "2022-05-10T22:49:38.251Z"
   },
   {
    "duration": 889,
    "start_time": "2022-05-10T22:49:38.266Z"
   },
   {
    "duration": 11,
    "start_time": "2022-05-10T22:49:39.157Z"
   },
   {
    "duration": 38,
    "start_time": "2022-05-10T22:49:39.170Z"
   },
   {
    "duration": 433,
    "start_time": "2022-05-10T22:49:39.210Z"
   },
   {
    "duration": 0,
    "start_time": "2022-05-10T22:49:39.644Z"
   },
   {
    "duration": 0,
    "start_time": "2022-05-10T22:49:39.645Z"
   },
   {
    "duration": 0,
    "start_time": "2022-05-10T22:49:39.646Z"
   },
   {
    "duration": 0,
    "start_time": "2022-05-10T22:49:39.647Z"
   },
   {
    "duration": 0,
    "start_time": "2022-05-10T22:49:39.649Z"
   },
   {
    "duration": 0,
    "start_time": "2022-05-10T22:49:39.649Z"
   },
   {
    "duration": 0,
    "start_time": "2022-05-10T22:49:39.650Z"
   },
   {
    "duration": 320,
    "start_time": "2022-05-10T22:49:51.495Z"
   },
   {
    "duration": 334,
    "start_time": "2022-05-10T22:51:10.542Z"
   },
   {
    "duration": 339,
    "start_time": "2022-05-10T22:51:15.654Z"
   },
   {
    "duration": 336,
    "start_time": "2022-05-10T22:51:34.517Z"
   },
   {
    "duration": 413,
    "start_time": "2022-05-10T22:51:46.589Z"
   },
   {
    "duration": 3,
    "start_time": "2022-05-10T22:52:21.465Z"
   },
   {
    "duration": 155,
    "start_time": "2022-05-10T22:52:21.470Z"
   },
   {
    "duration": 8,
    "start_time": "2022-05-10T22:52:21.627Z"
   },
   {
    "duration": 12,
    "start_time": "2022-05-10T22:52:21.637Z"
   },
   {
    "duration": 10,
    "start_time": "2022-05-10T22:52:21.651Z"
   },
   {
    "duration": 71,
    "start_time": "2022-05-10T22:52:21.662Z"
   },
   {
    "duration": 10,
    "start_time": "2022-05-10T22:52:21.734Z"
   },
   {
    "duration": 1116,
    "start_time": "2022-05-10T22:52:21.746Z"
   },
   {
    "duration": 79,
    "start_time": "2022-05-10T22:52:22.864Z"
   },
   {
    "duration": 14,
    "start_time": "2022-05-10T22:52:22.944Z"
   },
   {
    "duration": 49,
    "start_time": "2022-05-10T22:52:22.961Z"
   },
   {
    "duration": 11,
    "start_time": "2022-05-10T22:52:23.012Z"
   },
   {
    "duration": 33,
    "start_time": "2022-05-10T22:52:23.025Z"
   },
   {
    "duration": 47,
    "start_time": "2022-05-10T22:52:23.060Z"
   },
   {
    "duration": 33,
    "start_time": "2022-05-10T22:52:23.109Z"
   },
   {
    "duration": 17,
    "start_time": "2022-05-10T22:52:23.144Z"
   },
   {
    "duration": 1008,
    "start_time": "2022-05-10T22:52:23.162Z"
   },
   {
    "duration": 14,
    "start_time": "2022-05-10T22:52:24.172Z"
   },
   {
    "duration": 34,
    "start_time": "2022-05-10T22:52:24.201Z"
   },
   {
    "duration": 364,
    "start_time": "2022-05-10T22:52:24.236Z"
   },
   {
    "duration": 18,
    "start_time": "2022-05-10T22:52:24.602Z"
   },
   {
    "duration": 15,
    "start_time": "2022-05-10T22:52:24.622Z"
   },
   {
    "duration": 383,
    "start_time": "2022-05-10T22:52:24.639Z"
   },
   {
    "duration": 14,
    "start_time": "2022-05-10T22:52:25.024Z"
   },
   {
    "duration": 7,
    "start_time": "2022-05-10T22:52:25.039Z"
   },
   {
    "duration": 18,
    "start_time": "2022-05-10T22:52:25.048Z"
   },
   {
    "duration": 310,
    "start_time": "2022-05-10T22:52:25.067Z"
   },
   {
    "duration": 1370,
    "start_time": "2022-05-11T04:56:35.835Z"
   },
   {
    "duration": 99,
    "start_time": "2022-05-11T04:56:37.207Z"
   },
   {
    "duration": 13,
    "start_time": "2022-05-11T04:56:37.307Z"
   },
   {
    "duration": 14,
    "start_time": "2022-05-11T04:56:37.322Z"
   },
   {
    "duration": 9,
    "start_time": "2022-05-11T04:56:37.337Z"
   },
   {
    "duration": 60,
    "start_time": "2022-05-11T04:56:37.347Z"
   },
   {
    "duration": 10,
    "start_time": "2022-05-11T04:56:37.409Z"
   },
   {
    "duration": 1089,
    "start_time": "2022-05-11T04:56:37.421Z"
   },
   {
    "duration": 40,
    "start_time": "2022-05-11T04:56:38.547Z"
   },
   {
    "duration": 12,
    "start_time": "2022-05-11T04:56:38.590Z"
   },
   {
    "duration": 412,
    "start_time": "2022-05-11T04:56:38.604Z"
   },
   {
    "duration": 11,
    "start_time": "2022-05-11T04:56:39.017Z"
   },
   {
    "duration": 34,
    "start_time": "2022-05-11T04:56:39.048Z"
   },
   {
    "duration": 72,
    "start_time": "2022-05-11T04:56:39.084Z"
   },
   {
    "duration": 31,
    "start_time": "2022-05-11T04:56:39.157Z"
   },
   {
    "duration": 16,
    "start_time": "2022-05-11T04:56:39.190Z"
   },
   {
    "duration": 998,
    "start_time": "2022-05-11T04:56:39.207Z"
   },
   {
    "duration": 12,
    "start_time": "2022-05-11T04:56:40.206Z"
   },
   {
    "duration": 45,
    "start_time": "2022-05-11T04:56:40.219Z"
   },
   {
    "duration": 374,
    "start_time": "2022-05-11T04:56:40.266Z"
   },
   {
    "duration": 18,
    "start_time": "2022-05-11T04:56:40.642Z"
   },
   {
    "duration": 18,
    "start_time": "2022-05-11T04:56:40.662Z"
   },
   {
    "duration": 394,
    "start_time": "2022-05-11T04:56:40.681Z"
   },
   {
    "duration": 14,
    "start_time": "2022-05-11T04:56:41.077Z"
   },
   {
    "duration": 4,
    "start_time": "2022-05-11T04:56:41.093Z"
   },
   {
    "duration": 13,
    "start_time": "2022-05-11T04:56:41.099Z"
   },
   {
    "duration": 204,
    "start_time": "2022-05-11T04:56:41.114Z"
   },
   {
    "duration": 1377,
    "start_time": "2022-05-11T05:05:29.526Z"
   },
   {
    "duration": 4,
    "start_time": "2022-05-11T05:31:02.290Z"
   },
   {
    "duration": 123,
    "start_time": "2022-05-11T05:31:02.297Z"
   },
   {
    "duration": 12,
    "start_time": "2022-05-11T05:31:02.422Z"
   },
   {
    "duration": 24,
    "start_time": "2022-05-11T05:31:02.436Z"
   },
   {
    "duration": 9,
    "start_time": "2022-05-11T05:31:02.462Z"
   },
   {
    "duration": 79,
    "start_time": "2022-05-11T05:31:02.473Z"
   },
   {
    "duration": 10,
    "start_time": "2022-05-11T05:31:02.554Z"
   },
   {
    "duration": 1124,
    "start_time": "2022-05-11T05:31:02.566Z"
   },
   {
    "duration": 70,
    "start_time": "2022-05-11T05:31:03.692Z"
   },
   {
    "duration": 12,
    "start_time": "2022-05-11T05:31:03.764Z"
   },
   {
    "duration": 33,
    "start_time": "2022-05-11T05:31:03.777Z"
   },
   {
    "duration": 11,
    "start_time": "2022-05-11T05:31:03.811Z"
   },
   {
    "duration": 35,
    "start_time": "2022-05-11T05:31:03.847Z"
   },
   {
    "duration": 14,
    "start_time": "2022-05-11T05:31:03.884Z"
   },
   {
    "duration": 52,
    "start_time": "2022-05-11T05:31:03.900Z"
   },
   {
    "duration": 15,
    "start_time": "2022-05-11T05:31:03.954Z"
   },
   {
    "duration": 973,
    "start_time": "2022-05-11T05:31:03.970Z"
   },
   {
    "duration": 12,
    "start_time": "2022-05-11T05:31:04.944Z"
   },
   {
    "duration": 32,
    "start_time": "2022-05-11T05:31:04.958Z"
   },
   {
    "duration": 382,
    "start_time": "2022-05-11T05:31:04.992Z"
   },
   {
    "duration": 16,
    "start_time": "2022-05-11T05:31:05.376Z"
   },
   {
    "duration": 18,
    "start_time": "2022-05-11T05:31:05.393Z"
   },
   {
    "duration": 508,
    "start_time": "2022-05-11T05:31:05.413Z"
   },
   {
    "duration": 1723,
    "start_time": "2022-05-11T05:31:05.924Z"
   },
   {
    "duration": 14,
    "start_time": "2022-05-11T05:31:07.649Z"
   },
   {
    "duration": 4,
    "start_time": "2022-05-11T05:31:07.665Z"
   },
   {
    "duration": 15,
    "start_time": "2022-05-11T05:31:07.671Z"
   },
   {
    "duration": 229,
    "start_time": "2022-05-11T05:31:07.688Z"
   },
   {
    "duration": 1984,
    "start_time": "2022-05-11T05:33:49.843Z"
   },
   {
    "duration": 7,
    "start_time": "2022-05-11T05:34:54.946Z"
   },
   {
    "duration": 14,
    "start_time": "2022-05-11T05:35:07.769Z"
   },
   {
    "duration": 1752,
    "start_time": "2022-05-11T05:39:28.382Z"
   },
   {
    "duration": 1875,
    "start_time": "2022-05-11T05:41:16.212Z"
   },
   {
    "duration": 1760,
    "start_time": "2022-05-11T05:41:26.277Z"
   },
   {
    "duration": 108,
    "start_time": "2022-05-11T05:42:36.572Z"
   },
   {
    "duration": 1979,
    "start_time": "2022-05-11T05:42:41.258Z"
   },
   {
    "duration": 3309,
    "start_time": "2022-05-11T05:43:21.949Z"
   },
   {
    "duration": 1785,
    "start_time": "2022-05-11T05:47:07.526Z"
   },
   {
    "duration": 16,
    "start_time": "2022-05-11T05:47:53.420Z"
   },
   {
    "duration": 4,
    "start_time": "2022-05-11T05:48:36.141Z"
   },
   {
    "duration": 115,
    "start_time": "2022-05-11T05:48:36.147Z"
   },
   {
    "duration": 9,
    "start_time": "2022-05-11T05:48:36.264Z"
   },
   {
    "duration": 13,
    "start_time": "2022-05-11T05:48:36.274Z"
   },
   {
    "duration": 8,
    "start_time": "2022-05-11T05:48:36.289Z"
   },
   {
    "duration": 86,
    "start_time": "2022-05-11T05:48:36.299Z"
   },
   {
    "duration": 10,
    "start_time": "2022-05-11T05:48:36.387Z"
   },
   {
    "duration": 1175,
    "start_time": "2022-05-11T05:48:36.398Z"
   },
   {
    "duration": 41,
    "start_time": "2022-05-11T05:48:37.574Z"
   },
   {
    "duration": 37,
    "start_time": "2022-05-11T05:48:37.617Z"
   },
   {
    "duration": 33,
    "start_time": "2022-05-11T05:48:37.655Z"
   },
   {
    "duration": 11,
    "start_time": "2022-05-11T05:48:37.689Z"
   },
   {
    "duration": 58,
    "start_time": "2022-05-11T05:48:37.702Z"
   },
   {
    "duration": 13,
    "start_time": "2022-05-11T05:48:37.763Z"
   },
   {
    "duration": 31,
    "start_time": "2022-05-11T05:48:37.778Z"
   },
   {
    "duration": 39,
    "start_time": "2022-05-11T05:48:37.811Z"
   },
   {
    "duration": 961,
    "start_time": "2022-05-11T05:48:37.852Z"
   },
   {
    "duration": 12,
    "start_time": "2022-05-11T05:48:38.814Z"
   },
   {
    "duration": 40,
    "start_time": "2022-05-11T05:48:38.828Z"
   },
   {
    "duration": 368,
    "start_time": "2022-05-11T05:48:38.870Z"
   },
   {
    "duration": 21,
    "start_time": "2022-05-11T05:48:39.240Z"
   },
   {
    "duration": 12,
    "start_time": "2022-05-11T05:48:39.263Z"
   },
   {
    "duration": 18,
    "start_time": "2022-05-11T05:48:39.276Z"
   },
   {
    "duration": 6,
    "start_time": "2022-05-11T05:48:39.296Z"
   },
   {
    "duration": 482,
    "start_time": "2022-05-11T05:48:39.303Z"
   },
   {
    "duration": 1809,
    "start_time": "2022-05-11T05:48:39.787Z"
   },
   {
    "duration": 16,
    "start_time": "2022-05-11T05:48:41.598Z"
   },
   {
    "duration": 0,
    "start_time": "2022-05-11T05:48:41.615Z"
   },
   {
    "duration": 0,
    "start_time": "2022-05-11T05:48:41.617Z"
   },
   {
    "duration": 0,
    "start_time": "2022-05-11T05:48:41.617Z"
   },
   {
    "duration": 0,
    "start_time": "2022-05-11T05:48:41.619Z"
   },
   {
    "duration": 1,
    "start_time": "2022-05-11T05:48:41.619Z"
   },
   {
    "duration": 3414,
    "start_time": "2022-05-11T05:51:07.133Z"
   },
   {
    "duration": 3448,
    "start_time": "2022-05-11T05:52:45.212Z"
   },
   {
    "duration": 1826,
    "start_time": "2022-05-11T05:52:50.740Z"
   },
   {
    "duration": 1736,
    "start_time": "2022-05-11T05:53:18.348Z"
   },
   {
    "duration": 1770,
    "start_time": "2022-05-11T05:54:41.418Z"
   },
   {
    "duration": 1829,
    "start_time": "2022-05-11T05:54:53.565Z"
   },
   {
    "duration": 9,
    "start_time": "2022-05-11T05:55:33.818Z"
   },
   {
    "duration": 1812,
    "start_time": "2022-05-11T05:55:52.563Z"
   },
   {
    "duration": 1917,
    "start_time": "2022-05-11T05:56:04.766Z"
   },
   {
    "duration": 37,
    "start_time": "2022-05-11T05:56:16.388Z"
   },
   {
    "duration": 33,
    "start_time": "2022-05-11T05:56:24.197Z"
   },
   {
    "duration": 24,
    "start_time": "2022-05-11T05:58:17.373Z"
   },
   {
    "duration": 7,
    "start_time": "2022-05-11T05:58:48.484Z"
   },
   {
    "duration": 10,
    "start_time": "2022-05-11T06:00:42.573Z"
   },
   {
    "duration": 8,
    "start_time": "2022-05-11T06:00:53.540Z"
   },
   {
    "duration": 13,
    "start_time": "2022-05-11T06:01:09.229Z"
   },
   {
    "duration": 9,
    "start_time": "2022-05-11T06:01:09.685Z"
   },
   {
    "duration": 10,
    "start_time": "2022-05-11T06:01:21.156Z"
   },
   {
    "duration": 8,
    "start_time": "2022-05-11T06:01:21.549Z"
   },
   {
    "duration": 12,
    "start_time": "2022-05-11T06:01:28.901Z"
   },
   {
    "duration": 8,
    "start_time": "2022-05-11T06:01:30.333Z"
   },
   {
    "duration": 4,
    "start_time": "2022-05-11T06:02:01.021Z"
   },
   {
    "duration": 12,
    "start_time": "2022-05-11T06:02:02.036Z"
   },
   {
    "duration": 8,
    "start_time": "2022-05-11T06:02:02.972Z"
   },
   {
    "duration": 9,
    "start_time": "2022-05-11T06:02:16.189Z"
   },
   {
    "duration": 10,
    "start_time": "2022-05-11T06:02:38.507Z"
   },
   {
    "duration": 8,
    "start_time": "2022-05-11T06:02:38.925Z"
   },
   {
    "duration": 10,
    "start_time": "2022-05-11T06:02:44.773Z"
   },
   {
    "duration": 8,
    "start_time": "2022-05-11T06:02:45.269Z"
   },
   {
    "duration": 13,
    "start_time": "2022-05-11T06:05:48.398Z"
   },
   {
    "duration": 7,
    "start_time": "2022-05-11T06:05:56.925Z"
   },
   {
    "duration": 6,
    "start_time": "2022-05-11T06:06:39.975Z"
   },
   {
    "duration": 9,
    "start_time": "2022-05-11T06:06:41.101Z"
   },
   {
    "duration": 6,
    "start_time": "2022-05-11T06:07:05.157Z"
   },
   {
    "duration": 9,
    "start_time": "2022-05-11T06:07:05.621Z"
   },
   {
    "duration": 8,
    "start_time": "2022-05-11T06:07:10.510Z"
   },
   {
    "duration": 9,
    "start_time": "2022-05-11T06:07:10.868Z"
   },
   {
    "duration": 8,
    "start_time": "2022-05-11T06:07:16.196Z"
   },
   {
    "duration": 9,
    "start_time": "2022-05-11T06:07:17.149Z"
   },
   {
    "duration": 2865,
    "start_time": "2022-05-11T06:12:50.065Z"
   },
   {
    "duration": 109,
    "start_time": "2022-05-11T06:13:07.777Z"
   },
   {
    "duration": 1926,
    "start_time": "2022-05-11T06:13:10.553Z"
   },
   {
    "duration": 1877,
    "start_time": "2022-05-11T06:14:58.077Z"
   },
   {
    "duration": 2094,
    "start_time": "2022-05-11T06:16:43.728Z"
   },
   {
    "duration": 384,
    "start_time": "2022-05-11T06:16:45.824Z"
   },
   {
    "duration": 12,
    "start_time": "2022-05-11T06:16:46.210Z"
   },
   {
    "duration": 12,
    "start_time": "2022-05-11T06:16:46.224Z"
   },
   {
    "duration": 8,
    "start_time": "2022-05-11T06:16:46.237Z"
   },
   {
    "duration": 61,
    "start_time": "2022-05-11T06:16:46.246Z"
   },
   {
    "duration": 10,
    "start_time": "2022-05-11T06:16:46.310Z"
   },
   {
    "duration": 1229,
    "start_time": "2022-05-11T06:16:46.321Z"
   },
   {
    "duration": 43,
    "start_time": "2022-05-11T06:16:47.552Z"
   },
   {
    "duration": 14,
    "start_time": "2022-05-11T06:16:47.597Z"
   },
   {
    "duration": 344,
    "start_time": "2022-05-11T06:16:47.613Z"
   },
   {
    "duration": 13,
    "start_time": "2022-05-11T06:16:47.959Z"
   },
   {
    "duration": 98,
    "start_time": "2022-05-11T06:16:47.974Z"
   },
   {
    "duration": 18,
    "start_time": "2022-05-11T06:16:48.074Z"
   },
   {
    "duration": 89,
    "start_time": "2022-05-11T06:16:48.094Z"
   },
   {
    "duration": 16,
    "start_time": "2022-05-11T06:16:48.185Z"
   },
   {
    "duration": 1005,
    "start_time": "2022-05-11T06:16:48.202Z"
   },
   {
    "duration": 12,
    "start_time": "2022-05-11T06:16:49.208Z"
   },
   {
    "duration": 46,
    "start_time": "2022-05-11T06:16:49.221Z"
   },
   {
    "duration": 405,
    "start_time": "2022-05-11T06:16:49.269Z"
   },
   {
    "duration": 19,
    "start_time": "2022-05-11T06:16:49.676Z"
   },
   {
    "duration": 16,
    "start_time": "2022-05-11T06:16:49.697Z"
   },
   {
    "duration": 32,
    "start_time": "2022-05-11T06:16:49.715Z"
   },
   {
    "duration": 8,
    "start_time": "2022-05-11T06:16:49.749Z"
   },
   {
    "duration": 425,
    "start_time": "2022-05-11T06:16:49.759Z"
   },
   {
    "duration": 1945,
    "start_time": "2022-05-11T06:16:50.186Z"
   },
   {
    "duration": 22,
    "start_time": "2022-05-11T06:16:52.133Z"
   },
   {
    "duration": 4,
    "start_time": "2022-05-11T06:16:52.158Z"
   },
   {
    "duration": 17,
    "start_time": "2022-05-11T06:16:52.164Z"
   },
   {
    "duration": 198,
    "start_time": "2022-05-11T06:16:52.183Z"
   },
   {
    "duration": 13,
    "start_time": "2022-05-11T06:39:23.467Z"
   },
   {
    "duration": 3,
    "start_time": "2022-05-11T06:39:38.492Z"
   },
   {
    "duration": 15,
    "start_time": "2022-05-11T06:39:46.555Z"
   },
   {
    "duration": 5,
    "start_time": "2022-05-11T06:39:54.851Z"
   },
   {
    "duration": 13,
    "start_time": "2022-05-11T06:40:01.548Z"
   },
   {
    "duration": 1144,
    "start_time": "2022-05-11T06:43:31.661Z"
   },
   {
    "duration": 108,
    "start_time": "2022-05-11T06:43:32.808Z"
   },
   {
    "duration": 13,
    "start_time": "2022-05-11T06:43:32.918Z"
   },
   {
    "duration": 14,
    "start_time": "2022-05-11T06:43:32.933Z"
   },
   {
    "duration": 8,
    "start_time": "2022-05-11T06:43:32.948Z"
   },
   {
    "duration": 61,
    "start_time": "2022-05-11T06:43:32.958Z"
   },
   {
    "duration": 11,
    "start_time": "2022-05-11T06:43:33.020Z"
   },
   {
    "duration": 1204,
    "start_time": "2022-05-11T06:43:33.047Z"
   },
   {
    "duration": 40,
    "start_time": "2022-05-11T06:43:34.253Z"
   },
   {
    "duration": 12,
    "start_time": "2022-05-11T06:43:34.296Z"
   },
   {
    "duration": 339,
    "start_time": "2022-05-11T06:43:34.309Z"
   },
   {
    "duration": 12,
    "start_time": "2022-05-11T06:43:34.650Z"
   },
   {
    "duration": 193,
    "start_time": "2022-05-11T06:43:34.664Z"
   },
   {
    "duration": 15,
    "start_time": "2022-05-11T06:43:34.858Z"
   },
   {
    "duration": 34,
    "start_time": "2022-05-11T06:43:34.874Z"
   },
   {
    "duration": 45,
    "start_time": "2022-05-11T06:43:34.909Z"
   },
   {
    "duration": 943,
    "start_time": "2022-05-11T06:43:34.955Z"
   },
   {
    "duration": 12,
    "start_time": "2022-05-11T06:43:35.900Z"
   },
   {
    "duration": 46,
    "start_time": "2022-05-11T06:43:35.913Z"
   },
   {
    "duration": 364,
    "start_time": "2022-05-11T06:43:35.960Z"
   },
   {
    "duration": 23,
    "start_time": "2022-05-11T06:43:36.326Z"
   },
   {
    "duration": 19,
    "start_time": "2022-05-11T06:43:36.350Z"
   },
   {
    "duration": 419,
    "start_time": "2022-05-11T06:43:36.371Z"
   },
   {
    "duration": 2713,
    "start_time": "2022-05-11T06:43:36.792Z"
   },
   {
    "duration": 14,
    "start_time": "2022-05-11T06:43:39.506Z"
   },
   {
    "duration": 5,
    "start_time": "2022-05-11T06:43:39.521Z"
   },
   {
    "duration": 31,
    "start_time": "2022-05-11T06:43:39.527Z"
   },
   {
    "duration": 13,
    "start_time": "2022-05-11T06:43:39.561Z"
   },
   {
    "duration": 206,
    "start_time": "2022-05-11T06:43:39.576Z"
   },
   {
    "duration": 1229,
    "start_time": "2022-05-11T06:48:24.007Z"
   },
   {
    "duration": 114,
    "start_time": "2022-05-11T06:48:25.238Z"
   },
   {
    "duration": 14,
    "start_time": "2022-05-11T06:48:25.353Z"
   },
   {
    "duration": 13,
    "start_time": "2022-05-11T06:48:25.369Z"
   },
   {
    "duration": 8,
    "start_time": "2022-05-11T06:48:25.384Z"
   },
   {
    "duration": 69,
    "start_time": "2022-05-11T06:48:25.393Z"
   },
   {
    "duration": 10,
    "start_time": "2022-05-11T06:48:25.464Z"
   },
   {
    "duration": 1332,
    "start_time": "2022-05-11T06:48:25.476Z"
   },
   {
    "duration": 71,
    "start_time": "2022-05-11T06:48:26.810Z"
   },
   {
    "duration": 12,
    "start_time": "2022-05-11T06:48:26.883Z"
   },
   {
    "duration": 330,
    "start_time": "2022-05-11T06:48:26.897Z"
   },
   {
    "duration": 11,
    "start_time": "2022-05-11T06:48:27.229Z"
   },
   {
    "duration": 108,
    "start_time": "2022-05-11T06:48:27.241Z"
   },
   {
    "duration": 13,
    "start_time": "2022-05-11T06:48:27.351Z"
   },
   {
    "duration": 32,
    "start_time": "2022-05-11T06:48:27.366Z"
   },
   {
    "duration": 34,
    "start_time": "2022-05-11T06:48:27.399Z"
   },
   {
    "duration": 827,
    "start_time": "2022-05-11T06:48:27.435Z"
   },
   {
    "duration": 11,
    "start_time": "2022-05-11T06:48:28.263Z"
   },
   {
    "duration": 32,
    "start_time": "2022-05-11T06:48:28.276Z"
   },
   {
    "duration": 351,
    "start_time": "2022-05-11T06:48:28.309Z"
   },
   {
    "duration": 17,
    "start_time": "2022-05-11T06:48:28.661Z"
   },
   {
    "duration": 16,
    "start_time": "2022-05-11T06:48:28.679Z"
   },
   {
    "duration": 377,
    "start_time": "2022-05-11T06:48:28.696Z"
   },
   {
    "duration": 1834,
    "start_time": "2022-05-11T06:48:29.075Z"
   },
   {
    "duration": 14,
    "start_time": "2022-05-11T06:48:30.911Z"
   },
   {
    "duration": 5,
    "start_time": "2022-05-11T06:48:30.927Z"
   },
   {
    "duration": 18,
    "start_time": "2022-05-11T06:48:30.948Z"
   },
   {
    "duration": 19,
    "start_time": "2022-05-11T06:48:30.970Z"
   },
   {
    "duration": 331,
    "start_time": "2022-05-11T06:48:30.991Z"
   },
   {
    "duration": 723,
    "start_time": "2022-05-11T06:50:11.904Z"
   },
   {
    "duration": 768,
    "start_time": "2022-05-11T06:50:28.813Z"
   },
   {
    "duration": 730,
    "start_time": "2022-05-11T06:51:18.664Z"
   },
   {
    "duration": 698,
    "start_time": "2022-05-11T06:52:29.089Z"
   },
   {
    "duration": 3,
    "start_time": "2022-05-11T06:52:31.936Z"
   },
   {
    "duration": 111,
    "start_time": "2022-05-11T06:52:31.941Z"
   },
   {
    "duration": 9,
    "start_time": "2022-05-11T06:52:32.053Z"
   },
   {
    "duration": 14,
    "start_time": "2022-05-11T06:52:32.064Z"
   },
   {
    "duration": 8,
    "start_time": "2022-05-11T06:52:32.081Z"
   },
   {
    "duration": 84,
    "start_time": "2022-05-11T06:52:32.090Z"
   },
   {
    "duration": 10,
    "start_time": "2022-05-11T06:52:32.176Z"
   },
   {
    "duration": 1164,
    "start_time": "2022-05-11T06:52:32.188Z"
   },
   {
    "duration": 41,
    "start_time": "2022-05-11T06:52:33.354Z"
   },
   {
    "duration": 13,
    "start_time": "2022-05-11T06:52:33.396Z"
   },
   {
    "duration": 57,
    "start_time": "2022-05-11T06:52:33.410Z"
   },
   {
    "duration": 11,
    "start_time": "2022-05-11T06:52:33.469Z"
   },
   {
    "duration": 33,
    "start_time": "2022-05-11T06:52:33.481Z"
   },
   {
    "duration": 40,
    "start_time": "2022-05-11T06:52:33.517Z"
   },
   {
    "duration": 34,
    "start_time": "2022-05-11T06:52:33.559Z"
   },
   {
    "duration": 19,
    "start_time": "2022-05-11T06:52:33.594Z"
   },
   {
    "duration": 873,
    "start_time": "2022-05-11T06:52:33.615Z"
   },
   {
    "duration": 12,
    "start_time": "2022-05-11T06:52:34.490Z"
   },
   {
    "duration": 50,
    "start_time": "2022-05-11T06:52:34.503Z"
   },
   {
    "duration": 331,
    "start_time": "2022-05-11T06:52:34.555Z"
   },
   {
    "duration": 18,
    "start_time": "2022-05-11T06:52:34.888Z"
   },
   {
    "duration": 17,
    "start_time": "2022-05-11T06:52:34.908Z"
   },
   {
    "duration": 381,
    "start_time": "2022-05-11T06:52:34.926Z"
   },
   {
    "duration": 2062,
    "start_time": "2022-05-11T06:52:35.309Z"
   },
   {
    "duration": 13,
    "start_time": "2022-05-11T06:52:37.373Z"
   },
   {
    "duration": 4,
    "start_time": "2022-05-11T06:52:37.388Z"
   },
   {
    "duration": 66,
    "start_time": "2022-05-11T06:52:37.394Z"
   },
   {
    "duration": 21,
    "start_time": "2022-05-11T06:52:37.462Z"
   },
   {
    "duration": 663,
    "start_time": "2022-05-11T06:52:37.485Z"
   },
   {
    "duration": 715,
    "start_time": "2022-05-11T06:55:12.273Z"
   },
   {
    "duration": 821,
    "start_time": "2022-05-11T06:55:17.176Z"
   },
   {
    "duration": 1100,
    "start_time": "2022-05-11T06:57:17.405Z"
   },
   {
    "duration": 94,
    "start_time": "2022-05-11T06:57:18.507Z"
   },
   {
    "duration": 13,
    "start_time": "2022-05-11T06:57:18.602Z"
   },
   {
    "duration": 14,
    "start_time": "2022-05-11T06:57:18.617Z"
   },
   {
    "duration": 8,
    "start_time": "2022-05-11T06:57:18.633Z"
   },
   {
    "duration": 65,
    "start_time": "2022-05-11T06:57:18.642Z"
   },
   {
    "duration": 10,
    "start_time": "2022-05-11T06:57:18.708Z"
   },
   {
    "duration": 1238,
    "start_time": "2022-05-11T06:57:18.720Z"
   },
   {
    "duration": 43,
    "start_time": "2022-05-11T06:57:19.961Z"
   },
   {
    "duration": 13,
    "start_time": "2022-05-11T06:57:20.007Z"
   },
   {
    "duration": 366,
    "start_time": "2022-05-11T06:57:20.022Z"
   },
   {
    "duration": 12,
    "start_time": "2022-05-11T06:57:20.390Z"
   },
   {
    "duration": 60,
    "start_time": "2022-05-11T06:57:20.403Z"
   },
   {
    "duration": 14,
    "start_time": "2022-05-11T06:57:20.465Z"
   },
   {
    "duration": 181,
    "start_time": "2022-05-11T06:57:20.481Z"
   },
   {
    "duration": 19,
    "start_time": "2022-05-11T06:57:20.664Z"
   },
   {
    "duration": 693,
    "start_time": "2022-05-11T06:57:20.684Z"
   },
   {
    "duration": 12,
    "start_time": "2022-05-11T06:57:21.379Z"
   },
   {
    "duration": 33,
    "start_time": "2022-05-11T06:57:21.392Z"
   },
   {
    "duration": 337,
    "start_time": "2022-05-11T06:57:21.426Z"
   },
   {
    "duration": 17,
    "start_time": "2022-05-11T06:57:21.765Z"
   },
   {
    "duration": 19,
    "start_time": "2022-05-11T06:57:21.783Z"
   },
   {
    "duration": 374,
    "start_time": "2022-05-11T06:57:21.804Z"
   },
   {
    "duration": 1815,
    "start_time": "2022-05-11T06:57:22.179Z"
   },
   {
    "duration": 13,
    "start_time": "2022-05-11T06:57:23.995Z"
   },
   {
    "duration": 4,
    "start_time": "2022-05-11T06:57:24.010Z"
   },
   {
    "duration": 32,
    "start_time": "2022-05-11T06:57:24.015Z"
   },
   {
    "duration": 14,
    "start_time": "2022-05-11T06:57:24.050Z"
   },
   {
    "duration": 196,
    "start_time": "2022-05-11T06:57:24.066Z"
   },
   {
    "duration": 1623,
    "start_time": "2022-05-12T02:11:29.251Z"
   },
   {
    "duration": 167,
    "start_time": "2022-05-12T02:11:30.876Z"
   },
   {
    "duration": 15,
    "start_time": "2022-05-12T02:11:31.045Z"
   },
   {
    "duration": 93,
    "start_time": "2022-05-12T02:11:31.063Z"
   },
   {
    "duration": 42,
    "start_time": "2022-05-12T02:11:31.158Z"
   },
   {
    "duration": 168,
    "start_time": "2022-05-12T02:11:31.202Z"
   },
   {
    "duration": 12,
    "start_time": "2022-05-12T02:11:31.372Z"
   },
   {
    "duration": 1603,
    "start_time": "2022-05-12T02:11:31.386Z"
   },
   {
    "duration": 76,
    "start_time": "2022-05-12T02:11:32.991Z"
   },
   {
    "duration": 12,
    "start_time": "2022-05-12T02:11:33.070Z"
   },
   {
    "duration": 536,
    "start_time": "2022-05-12T02:11:33.084Z"
   },
   {
    "duration": 27,
    "start_time": "2022-05-12T02:11:33.622Z"
   },
   {
    "duration": 99,
    "start_time": "2022-05-12T02:11:33.650Z"
   },
   {
    "duration": 28,
    "start_time": "2022-05-12T02:11:33.751Z"
   },
   {
    "duration": 58,
    "start_time": "2022-05-12T02:11:33.781Z"
   },
   {
    "duration": 25,
    "start_time": "2022-05-12T02:11:33.841Z"
   },
   {
    "duration": 799,
    "start_time": "2022-05-12T02:11:33.868Z"
   },
   {
    "duration": 13,
    "start_time": "2022-05-12T02:11:34.669Z"
   },
   {
    "duration": 47,
    "start_time": "2022-05-12T02:11:34.684Z"
   },
   {
    "duration": 376,
    "start_time": "2022-05-12T02:11:34.733Z"
   },
   {
    "duration": 18,
    "start_time": "2022-05-12T02:11:35.111Z"
   },
   {
    "duration": 55,
    "start_time": "2022-05-12T02:11:35.131Z"
   },
   {
    "duration": 401,
    "start_time": "2022-05-12T02:11:35.188Z"
   },
   {
    "duration": 3324,
    "start_time": "2022-05-12T02:11:35.591Z"
   },
   {
    "duration": 28,
    "start_time": "2022-05-12T02:11:38.918Z"
   },
   {
    "duration": 22,
    "start_time": "2022-05-12T02:11:38.948Z"
   },
   {
    "duration": 34,
    "start_time": "2022-05-12T02:11:38.972Z"
   },
   {
    "duration": 22,
    "start_time": "2022-05-12T02:11:39.010Z"
   },
   {
    "duration": 207,
    "start_time": "2022-05-12T02:11:39.034Z"
   },
   {
    "duration": 13,
    "start_time": "2022-05-12T02:13:03.314Z"
   },
   {
    "duration": 248,
    "start_time": "2022-05-12T02:14:00.665Z"
   },
   {
    "duration": 482,
    "start_time": "2022-05-12T02:14:40.137Z"
   },
   {
    "duration": 252,
    "start_time": "2022-05-12T02:14:45.296Z"
   },
   {
    "duration": 249,
    "start_time": "2022-05-12T02:14:50.291Z"
   },
   {
    "duration": 243,
    "start_time": "2022-05-12T02:14:57.240Z"
   },
   {
    "duration": 252,
    "start_time": "2022-05-12T02:15:01.407Z"
   },
   {
    "duration": 1410,
    "start_time": "2022-07-04T14:38:07.964Z"
   },
   {
    "duration": 126,
    "start_time": "2022-07-04T14:38:09.376Z"
   },
   {
    "duration": 16,
    "start_time": "2022-07-04T14:38:09.504Z"
   },
   {
    "duration": 15,
    "start_time": "2022-07-04T14:38:09.522Z"
   },
   {
    "duration": 11,
    "start_time": "2022-07-04T14:38:09.539Z"
   },
   {
    "duration": 83,
    "start_time": "2022-07-04T14:38:09.552Z"
   },
   {
    "duration": 12,
    "start_time": "2022-07-04T14:38:09.637Z"
   },
   {
    "duration": 1280,
    "start_time": "2022-07-04T14:38:09.651Z"
   },
   {
    "duration": 44,
    "start_time": "2022-07-04T14:38:10.933Z"
   },
   {
    "duration": 29,
    "start_time": "2022-07-04T14:38:10.979Z"
   },
   {
    "duration": 714,
    "start_time": "2022-07-04T14:38:11.010Z"
   },
   {
    "duration": 12,
    "start_time": "2022-07-04T14:38:11.726Z"
   },
   {
    "duration": 220,
    "start_time": "2022-07-04T14:38:11.740Z"
   },
   {
    "duration": 74,
    "start_time": "2022-07-04T14:38:11.962Z"
   },
   {
    "duration": 106,
    "start_time": "2022-07-04T14:38:12.038Z"
   },
   {
    "duration": 20,
    "start_time": "2022-07-04T14:38:12.146Z"
   },
   {
    "duration": 1414,
    "start_time": "2022-07-04T14:38:12.169Z"
   },
   {
    "duration": 13,
    "start_time": "2022-07-04T14:38:13.585Z"
   },
   {
    "duration": 52,
    "start_time": "2022-07-04T14:38:13.601Z"
   },
   {
    "duration": 415,
    "start_time": "2022-07-04T14:38:13.654Z"
   },
   {
    "duration": 301,
    "start_time": "2022-07-04T14:38:14.071Z"
   },
   {
    "duration": 19,
    "start_time": "2022-07-04T14:38:14.374Z"
   },
   {
    "duration": 28,
    "start_time": "2022-07-04T14:38:14.395Z"
   },
   {
    "duration": 463,
    "start_time": "2022-07-04T14:38:14.426Z"
   },
   {
    "duration": 2384,
    "start_time": "2022-07-04T14:38:14.891Z"
   },
   {
    "duration": 14,
    "start_time": "2022-07-04T14:38:17.277Z"
   },
   {
    "duration": 17,
    "start_time": "2022-07-04T14:38:17.293Z"
   },
   {
    "duration": 49,
    "start_time": "2022-07-04T14:38:17.312Z"
   },
   {
    "duration": 20,
    "start_time": "2022-07-04T14:38:17.363Z"
   },
   {
    "duration": 347,
    "start_time": "2022-07-04T14:38:17.386Z"
   },
   {
    "duration": 1439,
    "start_time": "2022-07-12T16:02:14.152Z"
   },
   {
    "duration": 128,
    "start_time": "2022-07-12T16:02:15.593Z"
   },
   {
    "duration": 13,
    "start_time": "2022-07-12T16:02:15.723Z"
   },
   {
    "duration": 15,
    "start_time": "2022-07-12T16:02:15.738Z"
   },
   {
    "duration": 9,
    "start_time": "2022-07-12T16:02:15.754Z"
   },
   {
    "duration": 93,
    "start_time": "2022-07-12T16:02:15.764Z"
   },
   {
    "duration": 13,
    "start_time": "2022-07-12T16:02:15.859Z"
   },
   {
    "duration": 1584,
    "start_time": "2022-07-12T16:02:15.874Z"
   },
   {
    "duration": 162,
    "start_time": "2022-07-12T16:02:17.462Z"
   },
   {
    "duration": 15,
    "start_time": "2022-07-12T16:02:17.626Z"
   },
   {
    "duration": 787,
    "start_time": "2022-07-12T16:02:17.642Z"
   },
   {
    "duration": 12,
    "start_time": "2022-07-12T16:02:18.431Z"
   },
   {
    "duration": 223,
    "start_time": "2022-07-12T16:02:18.445Z"
   },
   {
    "duration": 15,
    "start_time": "2022-07-12T16:02:18.669Z"
   },
   {
    "duration": 70,
    "start_time": "2022-07-12T16:02:18.685Z"
   },
   {
    "duration": 20,
    "start_time": "2022-07-12T16:02:18.757Z"
   },
   {
    "duration": 807,
    "start_time": "2022-07-12T16:02:18.778Z"
   },
   {
    "duration": 14,
    "start_time": "2022-07-12T16:02:19.587Z"
   },
   {
    "duration": 52,
    "start_time": "2022-07-12T16:02:19.603Z"
   },
   {
    "duration": 418,
    "start_time": "2022-07-12T16:02:19.657Z"
   },
   {
    "duration": 279,
    "start_time": "2022-07-12T16:02:20.077Z"
   },
   {
    "duration": 18,
    "start_time": "2022-07-12T16:02:20.358Z"
   },
   {
    "duration": 19,
    "start_time": "2022-07-12T16:02:20.378Z"
   },
   {
    "duration": 425,
    "start_time": "2022-07-12T16:02:20.399Z"
   },
   {
    "duration": 6572,
    "start_time": "2022-07-12T16:02:20.826Z"
   },
   {
    "duration": 29,
    "start_time": "2022-07-12T16:02:27.401Z"
   },
   {
    "duration": 36,
    "start_time": "2022-07-12T16:02:27.432Z"
   },
   {
    "duration": 21,
    "start_time": "2022-07-12T16:02:27.472Z"
   },
   {
    "duration": 13,
    "start_time": "2022-07-12T16:02:27.495Z"
   },
   {
    "duration": 210,
    "start_time": "2022-07-12T16:02:27.510Z"
   },
   {
    "duration": 1319,
    "start_time": "2022-08-03T14:32:48.393Z"
   },
   {
    "duration": 148,
    "start_time": "2022-08-03T14:32:49.714Z"
   },
   {
    "duration": 13,
    "start_time": "2022-08-03T14:32:49.867Z"
   },
   {
    "duration": 14,
    "start_time": "2022-08-03T14:32:49.882Z"
   },
   {
    "duration": 9,
    "start_time": "2022-08-03T14:32:49.898Z"
   },
   {
    "duration": 58,
    "start_time": "2022-08-03T14:32:49.908Z"
   },
   {
    "duration": 11,
    "start_time": "2022-08-03T14:32:49.968Z"
   },
   {
    "duration": 1166,
    "start_time": "2022-08-03T14:32:49.980Z"
   },
   {
    "duration": 79,
    "start_time": "2022-08-03T14:32:51.149Z"
   },
   {
    "duration": 13,
    "start_time": "2022-08-03T14:32:51.230Z"
   },
   {
    "duration": 470,
    "start_time": "2022-08-03T14:32:51.245Z"
   },
   {
    "duration": 13,
    "start_time": "2022-08-03T14:32:51.718Z"
   },
   {
    "duration": 98,
    "start_time": "2022-08-03T14:32:51.733Z"
   },
   {
    "duration": 20,
    "start_time": "2022-08-03T14:32:51.833Z"
   },
   {
    "duration": 41,
    "start_time": "2022-08-03T14:32:51.907Z"
   },
   {
    "duration": 19,
    "start_time": "2022-08-03T14:32:51.950Z"
   },
   {
    "duration": 874,
    "start_time": "2022-08-03T14:32:52.006Z"
   },
   {
    "duration": 13,
    "start_time": "2022-08-03T14:32:52.882Z"
   },
   {
    "duration": 38,
    "start_time": "2022-08-03T14:32:52.905Z"
   },
   {
    "duration": 397,
    "start_time": "2022-08-03T14:32:52.945Z"
   },
   {
    "duration": 277,
    "start_time": "2022-08-03T14:32:53.344Z"
   },
   {
    "duration": 16,
    "start_time": "2022-08-03T14:32:53.623Z"
   },
   {
    "duration": 18,
    "start_time": "2022-08-03T14:32:53.641Z"
   },
   {
    "duration": 416,
    "start_time": "2022-08-03T14:32:53.660Z"
   },
   {
    "duration": 2956,
    "start_time": "2022-08-03T14:32:54.082Z"
   },
   {
    "duration": 13,
    "start_time": "2022-08-03T14:32:57.040Z"
   },
   {
    "duration": 6,
    "start_time": "2022-08-03T14:32:57.057Z"
   },
   {
    "duration": 20,
    "start_time": "2022-08-03T14:32:57.064Z"
   },
   {
    "duration": 34,
    "start_time": "2022-08-03T14:32:57.086Z"
   },
   {
    "duration": 232,
    "start_time": "2022-08-03T14:32:57.122Z"
   },
   {
    "duration": 4,
    "start_time": "2022-08-03T22:12:49.096Z"
   },
   {
    "duration": 128,
    "start_time": "2022-08-03T22:12:49.102Z"
   },
   {
    "duration": 11,
    "start_time": "2022-08-03T22:12:49.232Z"
   },
   {
    "duration": 16,
    "start_time": "2022-08-03T22:12:49.244Z"
   },
   {
    "duration": 11,
    "start_time": "2022-08-03T22:12:49.262Z"
   },
   {
    "duration": 87,
    "start_time": "2022-08-03T22:12:49.275Z"
   },
   {
    "duration": 11,
    "start_time": "2022-08-03T22:12:49.363Z"
   },
   {
    "duration": 1338,
    "start_time": "2022-08-03T22:12:49.377Z"
   },
   {
    "duration": 55,
    "start_time": "2022-08-03T22:12:50.725Z"
   },
   {
    "duration": 37,
    "start_time": "2022-08-03T22:12:50.781Z"
   },
   {
    "duration": 35,
    "start_time": "2022-08-03T22:12:50.821Z"
   },
   {
    "duration": 13,
    "start_time": "2022-08-03T22:12:50.858Z"
   },
   {
    "duration": 63,
    "start_time": "2022-08-03T22:12:50.873Z"
   },
   {
    "duration": 15,
    "start_time": "2022-08-03T22:12:50.938Z"
   },
   {
    "duration": 54,
    "start_time": "2022-08-03T22:12:50.955Z"
   },
   {
    "duration": 18,
    "start_time": "2022-08-03T22:12:51.011Z"
   },
   {
    "duration": 798,
    "start_time": "2022-08-03T22:12:51.030Z"
   },
   {
    "duration": 13,
    "start_time": "2022-08-03T22:12:51.830Z"
   },
   {
    "duration": 34,
    "start_time": "2022-08-03T22:12:51.844Z"
   },
   {
    "duration": 272,
    "start_time": "2022-08-03T22:12:51.880Z"
   },
   {
    "duration": 18,
    "start_time": "2022-08-03T22:12:52.153Z"
   },
   {
    "duration": 33,
    "start_time": "2022-08-03T22:12:52.173Z"
   },
   {
    "duration": 404,
    "start_time": "2022-08-03T22:12:52.208Z"
   },
   {
    "duration": 3416,
    "start_time": "2022-08-03T22:12:52.613Z"
   },
   {
    "duration": 18,
    "start_time": "2022-08-03T22:12:56.031Z"
   },
   {
    "duration": 13,
    "start_time": "2022-08-03T22:12:56.051Z"
   },
   {
    "duration": 19,
    "start_time": "2022-08-03T22:12:56.066Z"
   },
   {
    "duration": 34,
    "start_time": "2022-08-03T22:12:56.087Z"
   },
   {
    "duration": 207,
    "start_time": "2022-08-03T22:12:56.125Z"
   }
  ],
  "kernelspec": {
   "display_name": "Python 3 (ipykernel)",
   "language": "python",
   "name": "python3"
  },
  "language_info": {
   "codemirror_mode": {
    "name": "ipython",
    "version": 3
   },
   "file_extension": ".py",
   "mimetype": "text/x-python",
   "name": "python",
   "nbconvert_exporter": "python",
   "pygments_lexer": "ipython3",
   "version": "3.9.5"
  },
  "toc": {
   "base_numbering": 1,
   "nav_menu": {},
   "number_sections": true,
   "sideBar": true,
   "skip_h1_title": true,
   "title_cell": "Оглавление",
   "title_sidebar": "Contents",
   "toc_cell": true,
   "toc_position": {
    "height": "calc(100% - 180px)",
    "left": "10px",
    "top": "150px",
    "width": "288px"
   },
   "toc_section_display": true,
   "toc_window_display": true
  }
 },
 "nbformat": 4,
 "nbformat_minor": 5
}
