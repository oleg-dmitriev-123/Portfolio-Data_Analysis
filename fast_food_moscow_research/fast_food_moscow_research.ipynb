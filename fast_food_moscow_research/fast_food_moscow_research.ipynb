{
 "cells": [
  {
   "cell_type": "markdown",
   "id": "2ca4d629",
   "metadata": {},
   "source": [
    "# Анализ рынка заведений общественного питания Москвы"
   ]
  },
  {
   "cell_type": "markdown",
   "id": "d3a6d4bc",
   "metadata": {
    "toc": true
   },
   "source": [
    "<h1>Оглавление<span class=\"tocSkip\"></span></h1>\n",
    "<div class=\"toc\"><ul class=\"toc-item\"><li><span><a href=\"#Описание-проекта\" data-toc-modified-id=\"Описание-проекта-1\"><span class=\"toc-item-num\">1&nbsp;&nbsp;</span>Описание проекта</a></span></li><li><span><a href=\"#Материалы\" data-toc-modified-id=\"Материалы-2\"><span class=\"toc-item-num\">2&nbsp;&nbsp;</span>Материалы</a></span></li><li><span><a href=\"#Настройка-окружения\" data-toc-modified-id=\"Настройка-окружения-3\"><span class=\"toc-item-num\">3&nbsp;&nbsp;</span>Настройка окружения</a></span></li><li><span><a href=\"#Изучение-данных\" data-toc-modified-id=\"Изучение-данных-4\"><span class=\"toc-item-num\">4&nbsp;&nbsp;</span>Изучение данных</a></span><ul class=\"toc-item\"><li><span><a href=\"#Удаление-дубликатов-и-пропусков\" data-toc-modified-id=\"Удаление-дубликатов-и-пропусков-4.1\"><span class=\"toc-item-num\">4.1&nbsp;&nbsp;</span>Удаление дубликатов и пропусков</a></span></li><li><span><a href=\"#Частичное-приведение-object_name-к-единому-стилю.\" data-toc-modified-id=\"Частичное-приведение-object_name-к-единому-стилю.-4.2\"><span class=\"toc-item-num\">4.2&nbsp;&nbsp;</span>Частичное приведение object_name к единому стилю.</a></span></li></ul></li><li><span><a href=\"#Исследование\" data-toc-modified-id=\"Исследование-5\"><span class=\"toc-item-num\">5&nbsp;&nbsp;</span>Исследование</a></span><ul class=\"toc-item\"><li><span><a href=\"#Исследование-соотношения-видов-объектов-общественного-питания-по-количеству\" data-toc-modified-id=\"Исследование-соотношения-видов-объектов-общественного-питания-по-количеству-5.1\"><span class=\"toc-item-num\">5.1&nbsp;&nbsp;</span>Исследование соотношения видов объектов общественного питания по количеству</a></span><ul class=\"toc-item\"><li><span><a href=\"#Вывод-№1\" data-toc-modified-id=\"Вывод-№1-5.1.1\"><span class=\"toc-item-num\">5.1.1&nbsp;&nbsp;</span>Вывод №1</a></span></li></ul></li><li><span><a href=\"#Исследование-соотношений-сетевых-и-несетевых-заведений-по-количеству\" data-toc-modified-id=\"Исследование-соотношений-сетевых-и-несетевых-заведений-по-количеству-5.2\"><span class=\"toc-item-num\">5.2&nbsp;&nbsp;</span>Исследование соотношений сетевых и несетевых заведений по количеству</a></span><ul class=\"toc-item\"><li><span><a href=\"#Вывод-№2\" data-toc-modified-id=\"Вывод-№2-5.2.1\"><span class=\"toc-item-num\">5.2.1&nbsp;&nbsp;</span>Вывод №2</a></span></li></ul></li><li><span><a href=\"#Взаимосвязь-типа-заведения-и-принадлежности-к-сети-заведений\" data-toc-modified-id=\"Взаимосвязь-типа-заведения-и-принадлежности-к-сети-заведений-5.3\"><span class=\"toc-item-num\">5.3&nbsp;&nbsp;</span>Взаимосвязь типа заведения и принадлежности к сети заведений</a></span><ul class=\"toc-item\"><li><span><a href=\"#Вывод-№3\" data-toc-modified-id=\"Вывод-№3-5.3.1\"><span class=\"toc-item-num\">5.3.1&nbsp;&nbsp;</span>Вывод №3</a></span></li></ul></li><li><span><a href=\"#Исследование-взаимосвязи-числа-посадочных-мест-и-количества-заведений-в-составе-сети\" data-toc-modified-id=\"Исследование-взаимосвязи-числа-посадочных-мест-и-количества-заведений-в-составе-сети-5.4\"><span class=\"toc-item-num\">5.4&nbsp;&nbsp;</span>Исследование взаимосвязи числа посадочных мест и количества заведений в составе сети</a></span><ul class=\"toc-item\"><li><span><a href=\"#Вывод-№4\" data-toc-modified-id=\"Вывод-№4-5.4.1\"><span class=\"toc-item-num\">5.4.1&nbsp;&nbsp;</span>Вывод №4</a></span></li></ul></li><li><span><a href=\"#Исследование-взаимосвязи-вида-объекта-общественного-питания-и-среднего-количества-посадочных-мест\" data-toc-modified-id=\"Исследование-взаимосвязи-вида-объекта-общественного-питания-и-среднего-количества-посадочных-мест-5.5\"><span class=\"toc-item-num\">5.5&nbsp;&nbsp;</span>Исследование взаимосвязи вида объекта общественного питания и среднего количества посадочных мест</a></span><ul class=\"toc-item\"><li><span><a href=\"#Вывод-№5\" data-toc-modified-id=\"Вывод-№5-5.5.1\"><span class=\"toc-item-num\">5.5.1&nbsp;&nbsp;</span>Вывод №5</a></span></li></ul></li><li><span><a href=\"#Топ-10-улиц-по-количеству-объектов-общественного-питания\" data-toc-modified-id=\"Топ-10-улиц-по-количеству-объектов-общественного-питания-5.6\"><span class=\"toc-item-num\">5.6&nbsp;&nbsp;</span>Топ-10 улиц по количеству объектов общественного питания</a></span><ul class=\"toc-item\"><li><span><a href=\"#Выделение-в-отдельный-столбец-информации-об-улице-из-столбца-address\" data-toc-modified-id=\"Выделение-в-отдельный-столбец-информации-об-улице-из-столбца-address-5.6.1\"><span class=\"toc-item-num\">5.6.1&nbsp;&nbsp;</span>Выделение в отдельный столбец информации об улице из столбца address</a></span></li><li><span><a href=\"#График-топ-10-улиц-по-количеству-объектов-общественного-питания\" data-toc-modified-id=\"График-топ-10-улиц-по-количеству-объектов-общественного-питания-5.6.2\"><span class=\"toc-item-num\">5.6.2&nbsp;&nbsp;</span>График топ-10 улиц по количеству объектов общественного питания</a></span></li><li><span><a href=\"#Получение-адресной-информации-из-внешних-источников\" data-toc-modified-id=\"Получение-адресной-информации-из-внешних-источников-5.6.3\"><span class=\"toc-item-num\">5.6.3&nbsp;&nbsp;</span>Получение адресной информации из внешних источников</a></span></li><li><span><a href=\"#Вывод-№6\" data-toc-modified-id=\"Вывод-№6-5.6.4\"><span class=\"toc-item-num\">5.6.4&nbsp;&nbsp;</span>Вывод №6</a></span></li></ul></li><li><span><a href=\"#Улицы-с-одним-объектом-общественного-питания\" data-toc-modified-id=\"Улицы-с-одним-объектом-общественного-питания-5.7\"><span class=\"toc-item-num\">5.7&nbsp;&nbsp;</span>Улицы с одним объектом общественного питания</a></span><ul class=\"toc-item\"><li><span><a href=\"#Вывод-№7\" data-toc-modified-id=\"Вывод-№7-5.7.1\"><span class=\"toc-item-num\">5.7.1&nbsp;&nbsp;</span>Вывод №7</a></span></li></ul></li><li><span><a href=\"#Распределение-количества-посадочных-мест-для-улиц-с-большим-количеством-объектов-общественного-питания\" data-toc-modified-id=\"Распределение-количества-посадочных-мест-для-улиц-с-большим-количеством-объектов-общественного-питания-5.8\"><span class=\"toc-item-num\">5.8&nbsp;&nbsp;</span>Распределение количества посадочных мест для улиц с большим количеством объектов общественного питания</a></span><ul class=\"toc-item\"><li><span><a href=\"#Вывод-№8\" data-toc-modified-id=\"Вывод-№8-5.8.1\"><span class=\"toc-item-num\">5.8.1&nbsp;&nbsp;</span>Вывод №8</a></span></li></ul></li></ul></li><li><span><a href=\"#Общий-вывод\" data-toc-modified-id=\"Общий-вывод-6\"><span class=\"toc-item-num\">6&nbsp;&nbsp;</span>Общий вывод</a></span></li></ul></div>"
   ]
  },
  {
   "cell_type": "markdown",
   "id": "9758018f",
   "metadata": {},
   "source": [
    "## Описание проекта"
   ]
  },
  {
   "cell_type": "markdown",
   "id": "e631a7c9",
   "metadata": {},
   "source": [
    "Необходимо подготовить исследование рынка общественного питания в Москве, чтобы принять правильные решения относительно открытия нового кафе."
   ]
  },
  {
   "cell_type": "markdown",
   "id": "a966e441",
   "metadata": {},
   "source": [
    "**Описание данных**\n",
    "\n",
    "Таблица rest_data:\n",
    "\n",
    "Имя переменной | Описание данных\n",
    "---|---\n",
    "id | идентификатор объекта;\n",
    "object_name | название объекта общественного питания;\n",
    "chain | сетевой ресторан;\n",
    "object_type | тип объекта общественного питания;\n",
    "address | адрес;\n",
    "number | количество посадочных мест."
   ]
  },
  {
   "cell_type": "markdown",
   "id": "3aae4f50",
   "metadata": {},
   "source": [
    "## Материалы\n",
    "\n",
    "[Презентация](https://drive.google.com/file/d/1Q72ftfBwyzasfzSKuPHTVRjZ2PYGa2eW/view?usp=sharing)"
   ]
  },
  {
   "cell_type": "markdown",
   "id": "1aa521cc",
   "metadata": {},
   "source": [
    "## Настройка окружения"
   ]
  },
  {
   "cell_type": "code",
   "execution_count": 63,
   "id": "b0e5527f",
   "metadata": {},
   "outputs": [],
   "source": [
    "# отключаю предупреждение anaconda\n",
    "import warnings\n",
    "warnings.simplefilter('ignore')\n",
    "\n",
    "import pandas as pd\n",
    "\n",
    "import matplotlib\n",
    "import matplotlib.pyplot as plt\n",
    "#matplotlib.style.use('seaborn-muted')\n",
    "\n",
    "import seaborn as sns\n",
    "\n",
    "from plotly import graph_objects as go\n",
    "import plotly.express as px\n",
    "\n",
    "from numpy import median\n",
    "import re"
   ]
  },
  {
   "cell_type": "markdown",
   "id": "c95d1972",
   "metadata": {},
   "source": [
    "## Изучение данных"
   ]
  },
  {
   "cell_type": "code",
   "execution_count": 64,
   "id": "8a4a3dc5",
   "metadata": {},
   "outputs": [],
   "source": [
    "try:\n",
    "    data = pd.read_csv('rest_data.csv')\n",
    "except:\n",
    "    data = pd.read_csv('/datasets/rest_data.csv')"
   ]
  },
  {
   "cell_type": "code",
   "execution_count": 65,
   "id": "57f71c97",
   "metadata": {},
   "outputs": [
    {
     "data": {
      "text/html": [
       "<div>\n",
       "<style scoped>\n",
       "    .dataframe tbody tr th:only-of-type {\n",
       "        vertical-align: middle;\n",
       "    }\n",
       "\n",
       "    .dataframe tbody tr th {\n",
       "        vertical-align: top;\n",
       "    }\n",
       "\n",
       "    .dataframe thead th {\n",
       "        text-align: right;\n",
       "    }\n",
       "</style>\n",
       "<table border=\"1\" class=\"dataframe\">\n",
       "  <thead>\n",
       "    <tr style=\"text-align: right;\">\n",
       "      <th></th>\n",
       "      <th>id</th>\n",
       "      <th>object_name</th>\n",
       "      <th>chain</th>\n",
       "      <th>object_type</th>\n",
       "      <th>address</th>\n",
       "      <th>number</th>\n",
       "    </tr>\n",
       "  </thead>\n",
       "  <tbody>\n",
       "    <tr>\n",
       "      <th>0</th>\n",
       "      <td>151635</td>\n",
       "      <td>СМЕТАНА</td>\n",
       "      <td>нет</td>\n",
       "      <td>кафе</td>\n",
       "      <td>город Москва, улица Егора Абакумова, дом 9</td>\n",
       "      <td>48</td>\n",
       "    </tr>\n",
       "    <tr>\n",
       "      <th>1</th>\n",
       "      <td>77874</td>\n",
       "      <td>Родник</td>\n",
       "      <td>нет</td>\n",
       "      <td>кафе</td>\n",
       "      <td>город Москва, улица Талалихина, дом 2/1, корпус 1</td>\n",
       "      <td>35</td>\n",
       "    </tr>\n",
       "    <tr>\n",
       "      <th>2</th>\n",
       "      <td>24309</td>\n",
       "      <td>Кафе «Академия»</td>\n",
       "      <td>нет</td>\n",
       "      <td>кафе</td>\n",
       "      <td>город Москва, Абельмановская улица, дом 6</td>\n",
       "      <td>95</td>\n",
       "    </tr>\n",
       "    <tr>\n",
       "      <th>3</th>\n",
       "      <td>21894</td>\n",
       "      <td>ПИЦЦЕТОРИЯ</td>\n",
       "      <td>да</td>\n",
       "      <td>кафе</td>\n",
       "      <td>город Москва, Абрамцевская улица, дом 1</td>\n",
       "      <td>40</td>\n",
       "    </tr>\n",
       "    <tr>\n",
       "      <th>4</th>\n",
       "      <td>119365</td>\n",
       "      <td>Кафе «Вишневая метель»</td>\n",
       "      <td>нет</td>\n",
       "      <td>кафе</td>\n",
       "      <td>город Москва, Абрамцевская улица, дом 9, корпус 1</td>\n",
       "      <td>50</td>\n",
       "    </tr>\n",
       "  </tbody>\n",
       "</table>\n",
       "</div>"
      ],
      "text/plain": [
       "       id             object_name chain object_type  \\\n",
       "0  151635                 СМЕТАНА   нет        кафе   \n",
       "1   77874                  Родник   нет        кафе   \n",
       "2   24309         Кафе «Академия»   нет        кафе   \n",
       "3   21894              ПИЦЦЕТОРИЯ    да        кафе   \n",
       "4  119365  Кафе «Вишневая метель»   нет        кафе   \n",
       "\n",
       "                                             address  number  \n",
       "0         город Москва, улица Егора Абакумова, дом 9      48  \n",
       "1  город Москва, улица Талалихина, дом 2/1, корпус 1      35  \n",
       "2          город Москва, Абельмановская улица, дом 6      95  \n",
       "3            город Москва, Абрамцевская улица, дом 1      40  \n",
       "4  город Москва, Абрамцевская улица, дом 9, корпус 1      50  "
      ]
     },
     "execution_count": 65,
     "metadata": {},
     "output_type": "execute_result"
    }
   ],
   "source": [
    "data.head()"
   ]
  },
  {
   "cell_type": "code",
   "execution_count": 66,
   "id": "3f072575",
   "metadata": {
    "scrolled": true
   },
   "outputs": [
    {
     "name": "stdout",
     "output_type": "stream",
     "text": [
      "<class 'pandas.core.frame.DataFrame'>\n",
      "RangeIndex: 15366 entries, 0 to 15365\n",
      "Data columns (total 6 columns):\n",
      " #   Column       Non-Null Count  Dtype \n",
      "---  ------       --------------  ----- \n",
      " 0   id           15366 non-null  int64 \n",
      " 1   object_name  15366 non-null  object\n",
      " 2   chain        15366 non-null  object\n",
      " 3   object_type  15366 non-null  object\n",
      " 4   address      15366 non-null  object\n",
      " 5   number       15366 non-null  int64 \n",
      "dtypes: int64(2), object(4)\n",
      "memory usage: 720.4+ KB\n"
     ]
    }
   ],
   "source": [
    "data.info()"
   ]
  },
  {
   "cell_type": "markdown",
   "id": "5d79981a",
   "metadata": {},
   "source": [
    "### Удаление дубликатов и пропусков"
   ]
  },
  {
   "cell_type": "code",
   "execution_count": 67,
   "id": "85a949cb",
   "metadata": {},
   "outputs": [
    {
     "data": {
      "text/html": [
       "<div>\n",
       "<style scoped>\n",
       "    .dataframe tbody tr th:only-of-type {\n",
       "        vertical-align: middle;\n",
       "    }\n",
       "\n",
       "    .dataframe tbody tr th {\n",
       "        vertical-align: top;\n",
       "    }\n",
       "\n",
       "    .dataframe thead th {\n",
       "        text-align: right;\n",
       "    }\n",
       "</style>\n",
       "<table border=\"1\" class=\"dataframe\">\n",
       "  <thead>\n",
       "    <tr style=\"text-align: right;\">\n",
       "      <th></th>\n",
       "      <th>id</th>\n",
       "      <th>object_name</th>\n",
       "      <th>chain</th>\n",
       "      <th>object_type</th>\n",
       "      <th>address</th>\n",
       "      <th>number</th>\n",
       "    </tr>\n",
       "  </thead>\n",
       "  <tbody>\n",
       "    <tr>\n",
       "      <th>0</th>\n",
       "      <td>151635</td>\n",
       "      <td>СМЕТАНА</td>\n",
       "      <td>нет</td>\n",
       "      <td>кафе</td>\n",
       "      <td>город Москва, улица Егора Абакумова, дом 9</td>\n",
       "      <td>48</td>\n",
       "    </tr>\n",
       "    <tr>\n",
       "      <th>1</th>\n",
       "      <td>77874</td>\n",
       "      <td>Родник</td>\n",
       "      <td>нет</td>\n",
       "      <td>кафе</td>\n",
       "      <td>город Москва, улица Талалихина, дом 2/1, корпус 1</td>\n",
       "      <td>35</td>\n",
       "    </tr>\n",
       "    <tr>\n",
       "      <th>2</th>\n",
       "      <td>24309</td>\n",
       "      <td>Кафе «Академия»</td>\n",
       "      <td>нет</td>\n",
       "      <td>кафе</td>\n",
       "      <td>город Москва, Абельмановская улица, дом 6</td>\n",
       "      <td>95</td>\n",
       "    </tr>\n",
       "    <tr>\n",
       "      <th>3</th>\n",
       "      <td>21894</td>\n",
       "      <td>ПИЦЦЕТОРИЯ</td>\n",
       "      <td>да</td>\n",
       "      <td>кафе</td>\n",
       "      <td>город Москва, Абрамцевская улица, дом 1</td>\n",
       "      <td>40</td>\n",
       "    </tr>\n",
       "    <tr>\n",
       "      <th>4</th>\n",
       "      <td>119365</td>\n",
       "      <td>Кафе «Вишневая метель»</td>\n",
       "      <td>нет</td>\n",
       "      <td>кафе</td>\n",
       "      <td>город Москва, Абрамцевская улица, дом 9, корпус 1</td>\n",
       "      <td>50</td>\n",
       "    </tr>\n",
       "  </tbody>\n",
       "</table>\n",
       "</div>"
      ],
      "text/plain": [
       "       id             object_name chain object_type  \\\n",
       "0  151635                 СМЕТАНА   нет        кафе   \n",
       "1   77874                  Родник   нет        кафе   \n",
       "2   24309         Кафе «Академия»   нет        кафе   \n",
       "3   21894              ПИЦЦЕТОРИЯ    да        кафе   \n",
       "4  119365  Кафе «Вишневая метель»   нет        кафе   \n",
       "\n",
       "                                             address  number  \n",
       "0         город Москва, улица Егора Абакумова, дом 9      48  \n",
       "1  город Москва, улица Талалихина, дом 2/1, корпус 1      35  \n",
       "2          город Москва, Абельмановская улица, дом 6      95  \n",
       "3            город Москва, Абрамцевская улица, дом 1      40  \n",
       "4  город Москва, Абрамцевская улица, дом 9, корпус 1      50  "
      ]
     },
     "execution_count": 67,
     "metadata": {},
     "output_type": "execute_result"
    }
   ],
   "source": [
    "data.head()"
   ]
  },
  {
   "cell_type": "code",
   "execution_count": 68,
   "id": "7521e19c",
   "metadata": {},
   "outputs": [
    {
     "name": "stdout",
     "output_type": "stream",
     "text": [
      "Кол-во дубликатов: 82\n",
      "Кол-во пропусков:  object_name    0\n",
      "chain          0\n",
      "object_type    0\n",
      "address        0\n",
      "number         0\n",
      "dtype: int64\n",
      "Кол-во строк до удаления дубликатов: 15366\n",
      "Кол-во строк после удаления дубликатов: 15284\n"
     ]
    }
   ],
   "source": [
    "data_no_id = data[['object_name','chain','object_type','address','number']]\n",
    "print('Кол-во дубликатов:',data_no_id.duplicated().sum())\n",
    "print('Кол-во пропусков: ',data_no_id.isna().sum())\n",
    "\n",
    "#удаление дубликатов\n",
    "print('Кол-во строк до удаления дубликатов:',data.shape[0])\n",
    "data = data.groupby(['object_name','chain','object_type','address','number']).agg({'id':'first'}).reset_index()\n",
    "print('Кол-во строк после удаления дубликатов:',data.shape[0])"
   ]
  },
  {
   "cell_type": "markdown",
   "id": "124ca6df",
   "metadata": {},
   "source": [
    "### Частичное приведение object_name к единому стилю."
   ]
  },
  {
   "cell_type": "code",
   "execution_count": 69,
   "id": "ecf92973",
   "metadata": {},
   "outputs": [],
   "source": [
    "data['object_name'] = data['object_name'].str.lower()"
   ]
  },
  {
   "cell_type": "code",
   "execution_count": 70,
   "id": "47e7b912",
   "metadata": {
    "scrolled": true
   },
   "outputs": [],
   "source": [
    "# вывод уникальных значений \n",
    "#for v in data['object_name'].unique():\n",
    "    #print(v)"
   ]
  },
  {
   "cell_type": "code",
   "execution_count": 71,
   "id": "66c4524f",
   "metadata": {},
   "outputs": [],
   "source": [
    "data[data['object_name'] == 'кафе «subway»']['object_name']  = 'сабвей'\n",
    "data[data['object_name'] == 'ресторан «макдоналдс»']['object_name']  = 'макдоналдс'\n",
    "data[data['object_name'] == 'кафе «тануки»']['object_name']  = 'тануки'\n",
    "data[data['object_name'] == 'ресторан «тануки»']['object_name']  = 'тануки'\n",
    "data[data['object_name'] == 'шоколадница кофе хаус']['object_name']  = 'кофе хаус'\n",
    "data[data['object_name'] == 'кофейня «кофе хаус»']['object_name']  = 'кофе хаус'\n",
    "data[data['object_name'] == 'кофе хаус. экспрессо и капучино бар']['object_name']  = 'кофе хаус'\n",
    "data[data['object_name'] == 'кафе «якитория»']['object_name']  = 'якитория'\n",
    "data[data['object_name'] == 'ресторан «бургер кинг»']['object_name']  = 'бургер кинг'\n",
    "data[data['object_name'] == 'иль-патио']['object_name']  = 'иль патио'\n",
    "data[data['object_name'] == 'кафе «папа джонс»']['object_name']  = 'папа джонс'\n",
    "data[data['object_name'] == 'пиццерия «папа джонс»']['object_name']  = 'папа джонс'\n",
    "data[data['object_name'] == 'кофейня «даблби»']['object_name']  = 'даблби'\n",
    "data[data['object_name'] == 'кальянная хука хауз']['object_name']  = 'хука хауз'\n",
    "data[data['object_name'] == 'ресторан «джон джоли»']['object_name']  = 'джон джоли'\n",
    "data[data['object_name'] == 'кафе «шоколадница»']['object_name']  = 'шоколадница'\n",
    "data[data['object_name'] == 'старбакс starbucks']['object_name']  = 'старбакс'\n",
    "data[data['object_name'] == 'starbucks coffee']['object_name']  = 'старбакс'\n",
    "data[data['object_name'] == 'ресторан быстрого питания kfc']['object_name']  = 'kfc'\n",
    "data[data['object_name'] == 'бар мята lounge']['object_name']  = 'мята lounge'\n",
    "data[data['object_name'] == 'мята lounge октябрьская']['object_name']  = 'мята lounge'\n",
    "data[data['object_name'] == 'кальянная «мята lounge»']['object_name']  = 'мята lounge'\n",
    "data[data['object_name'] == 'лаундж-бар «мята lounge»']['object_name']  = 'мята lounge'\n",
    "data[data['object_name'] == 'vanwok ванвок']['object_name']  = 'ванвок'\n",
    "data[data['object_name'] == 'van wok ванвок']['object_name']  = 'ванвок'\n"
   ]
  },
  {
   "cell_type": "markdown",
   "id": "56540c25",
   "metadata": {},
   "source": [
    "## Исследование"
   ]
  },
  {
   "cell_type": "markdown",
   "id": "af306062",
   "metadata": {},
   "source": [
    "### Исследование соотношения видов объектов общественного питания по количеству\n"
   ]
  },
  {
   "cell_type": "code",
   "execution_count": 72,
   "id": "156c6d63",
   "metadata": {},
   "outputs": [
    {
     "data": {
      "text/html": [
       "<div>\n",
       "<style scoped>\n",
       "    .dataframe tbody tr th:only-of-type {\n",
       "        vertical-align: middle;\n",
       "    }\n",
       "\n",
       "    .dataframe tbody tr th {\n",
       "        vertical-align: top;\n",
       "    }\n",
       "\n",
       "    .dataframe thead th {\n",
       "        text-align: right;\n",
       "    }\n",
       "</style>\n",
       "<table border=\"1\" class=\"dataframe\">\n",
       "  <thead>\n",
       "    <tr style=\"text-align: right;\">\n",
       "      <th></th>\n",
       "      <th>object_type</th>\n",
       "      <th>number</th>\n",
       "    </tr>\n",
       "  </thead>\n",
       "  <tbody>\n",
       "    <tr>\n",
       "      <th>0</th>\n",
       "      <td>кафе</td>\n",
       "      <td>6071</td>\n",
       "    </tr>\n",
       "    <tr>\n",
       "      <th>1</th>\n",
       "      <td>столовая</td>\n",
       "      <td>2584</td>\n",
       "    </tr>\n",
       "    <tr>\n",
       "      <th>2</th>\n",
       "      <td>ресторан</td>\n",
       "      <td>2282</td>\n",
       "    </tr>\n",
       "    <tr>\n",
       "      <th>3</th>\n",
       "      <td>предприятие быстрого обслуживания</td>\n",
       "      <td>1898</td>\n",
       "    </tr>\n",
       "    <tr>\n",
       "      <th>4</th>\n",
       "      <td>бар</td>\n",
       "      <td>855</td>\n",
       "    </tr>\n",
       "  </tbody>\n",
       "</table>\n",
       "</div>"
      ],
      "text/plain": [
       "                         object_type  number\n",
       "0                               кафе    6071\n",
       "1                           столовая    2584\n",
       "2                           ресторан    2282\n",
       "3  предприятие быстрого обслуживания    1898\n",
       "4                                бар     855"
      ]
     },
     "execution_count": 72,
     "metadata": {},
     "output_type": "execute_result"
    }
   ],
   "source": [
    "rest_types = (\n",
    "    data.groupby('object_type')\n",
    "    .agg({'id':'nunique'})\n",
    "    .rename(columns={'id':'number'})\n",
    "    .sort_values(by='number',ascending=False)\n",
    "    .reset_index()\n",
    ")\n",
    "rest_types.head()"
   ]
  },
  {
   "cell_type": "code",
   "execution_count": 73,
   "id": "294017a7",
   "metadata": {
    "scrolled": true
   },
   "outputs": [
    {
     "data": {
      "application/vnd.plotly.v1+json": {
       "config": {
        "plotlyServerURL": "https://plot.ly"
       },
       "data": [
        {
         "domain": {
          "x": [
           0,
           1
          ],
          "y": [
           0,
           1
          ]
         },
         "hovertemplate": "object_type=%{label}<br>number=%{value}<extra></extra>",
         "labels": [
          "кафе",
          "столовая",
          "ресторан",
          "предприятие быстрого обслуживания",
          "бар",
          "буфет",
          "кафетерий",
          "закусочная",
          "магазин (отдел кулинарии)"
         ],
         "legendgroup": "",
         "name": "",
         "showlegend": true,
         "type": "pie",
         "values": [
          6071,
          2584,
          2282,
          1898,
          855,
          577,
          395,
          349,
          273
         ]
        }
       ],
       "layout": {
        "legend": {
         "tracegroupgap": 0
        },
        "piecolorway": [
         "rgb(51, 19, 23)",
         "rgb(79, 28, 33)",
         "rgb(108, 36, 36)",
         "rgb(135, 47, 32)",
         "rgb(157, 66, 25)",
         "rgb(174, 88, 20)",
         "rgb(188, 111, 19)",
         "rgb(199, 137, 22)",
         "rgb(209, 164, 32)",
         "rgb(217, 192, 44)",
         "rgb(222, 222, 59)",
         "rgb(224, 253, 74)"
        ],
        "template": {
         "data": {
          "bar": [
           {
            "error_x": {
             "color": "#2a3f5f"
            },
            "error_y": {
             "color": "#2a3f5f"
            },
            "marker": {
             "line": {
              "color": "#E5ECF6",
              "width": 0.5
             },
             "pattern": {
              "fillmode": "overlay",
              "size": 10,
              "solidity": 0.2
             }
            },
            "type": "bar"
           }
          ],
          "barpolar": [
           {
            "marker": {
             "line": {
              "color": "#E5ECF6",
              "width": 0.5
             },
             "pattern": {
              "fillmode": "overlay",
              "size": 10,
              "solidity": 0.2
             }
            },
            "type": "barpolar"
           }
          ],
          "carpet": [
           {
            "aaxis": {
             "endlinecolor": "#2a3f5f",
             "gridcolor": "white",
             "linecolor": "white",
             "minorgridcolor": "white",
             "startlinecolor": "#2a3f5f"
            },
            "baxis": {
             "endlinecolor": "#2a3f5f",
             "gridcolor": "white",
             "linecolor": "white",
             "minorgridcolor": "white",
             "startlinecolor": "#2a3f5f"
            },
            "type": "carpet"
           }
          ],
          "choropleth": [
           {
            "colorbar": {
             "outlinewidth": 0,
             "ticks": ""
            },
            "type": "choropleth"
           }
          ],
          "contour": [
           {
            "colorbar": {
             "outlinewidth": 0,
             "ticks": ""
            },
            "colorscale": [
             [
              0,
              "#0d0887"
             ],
             [
              0.1111111111111111,
              "#46039f"
             ],
             [
              0.2222222222222222,
              "#7201a8"
             ],
             [
              0.3333333333333333,
              "#9c179e"
             ],
             [
              0.4444444444444444,
              "#bd3786"
             ],
             [
              0.5555555555555556,
              "#d8576b"
             ],
             [
              0.6666666666666666,
              "#ed7953"
             ],
             [
              0.7777777777777778,
              "#fb9f3a"
             ],
             [
              0.8888888888888888,
              "#fdca26"
             ],
             [
              1,
              "#f0f921"
             ]
            ],
            "type": "contour"
           }
          ],
          "contourcarpet": [
           {
            "colorbar": {
             "outlinewidth": 0,
             "ticks": ""
            },
            "type": "contourcarpet"
           }
          ],
          "heatmap": [
           {
            "colorbar": {
             "outlinewidth": 0,
             "ticks": ""
            },
            "colorscale": [
             [
              0,
              "#0d0887"
             ],
             [
              0.1111111111111111,
              "#46039f"
             ],
             [
              0.2222222222222222,
              "#7201a8"
             ],
             [
              0.3333333333333333,
              "#9c179e"
             ],
             [
              0.4444444444444444,
              "#bd3786"
             ],
             [
              0.5555555555555556,
              "#d8576b"
             ],
             [
              0.6666666666666666,
              "#ed7953"
             ],
             [
              0.7777777777777778,
              "#fb9f3a"
             ],
             [
              0.8888888888888888,
              "#fdca26"
             ],
             [
              1,
              "#f0f921"
             ]
            ],
            "type": "heatmap"
           }
          ],
          "heatmapgl": [
           {
            "colorbar": {
             "outlinewidth": 0,
             "ticks": ""
            },
            "colorscale": [
             [
              0,
              "#0d0887"
             ],
             [
              0.1111111111111111,
              "#46039f"
             ],
             [
              0.2222222222222222,
              "#7201a8"
             ],
             [
              0.3333333333333333,
              "#9c179e"
             ],
             [
              0.4444444444444444,
              "#bd3786"
             ],
             [
              0.5555555555555556,
              "#d8576b"
             ],
             [
              0.6666666666666666,
              "#ed7953"
             ],
             [
              0.7777777777777778,
              "#fb9f3a"
             ],
             [
              0.8888888888888888,
              "#fdca26"
             ],
             [
              1,
              "#f0f921"
             ]
            ],
            "type": "heatmapgl"
           }
          ],
          "histogram": [
           {
            "marker": {
             "pattern": {
              "fillmode": "overlay",
              "size": 10,
              "solidity": 0.2
             }
            },
            "type": "histogram"
           }
          ],
          "histogram2d": [
           {
            "colorbar": {
             "outlinewidth": 0,
             "ticks": ""
            },
            "colorscale": [
             [
              0,
              "#0d0887"
             ],
             [
              0.1111111111111111,
              "#46039f"
             ],
             [
              0.2222222222222222,
              "#7201a8"
             ],
             [
              0.3333333333333333,
              "#9c179e"
             ],
             [
              0.4444444444444444,
              "#bd3786"
             ],
             [
              0.5555555555555556,
              "#d8576b"
             ],
             [
              0.6666666666666666,
              "#ed7953"
             ],
             [
              0.7777777777777778,
              "#fb9f3a"
             ],
             [
              0.8888888888888888,
              "#fdca26"
             ],
             [
              1,
              "#f0f921"
             ]
            ],
            "type": "histogram2d"
           }
          ],
          "histogram2dcontour": [
           {
            "colorbar": {
             "outlinewidth": 0,
             "ticks": ""
            },
            "colorscale": [
             [
              0,
              "#0d0887"
             ],
             [
              0.1111111111111111,
              "#46039f"
             ],
             [
              0.2222222222222222,
              "#7201a8"
             ],
             [
              0.3333333333333333,
              "#9c179e"
             ],
             [
              0.4444444444444444,
              "#bd3786"
             ],
             [
              0.5555555555555556,
              "#d8576b"
             ],
             [
              0.6666666666666666,
              "#ed7953"
             ],
             [
              0.7777777777777778,
              "#fb9f3a"
             ],
             [
              0.8888888888888888,
              "#fdca26"
             ],
             [
              1,
              "#f0f921"
             ]
            ],
            "type": "histogram2dcontour"
           }
          ],
          "mesh3d": [
           {
            "colorbar": {
             "outlinewidth": 0,
             "ticks": ""
            },
            "type": "mesh3d"
           }
          ],
          "parcoords": [
           {
            "line": {
             "colorbar": {
              "outlinewidth": 0,
              "ticks": ""
             }
            },
            "type": "parcoords"
           }
          ],
          "pie": [
           {
            "automargin": true,
            "type": "pie"
           }
          ],
          "scatter": [
           {
            "marker": {
             "colorbar": {
              "outlinewidth": 0,
              "ticks": ""
             }
            },
            "type": "scatter"
           }
          ],
          "scatter3d": [
           {
            "line": {
             "colorbar": {
              "outlinewidth": 0,
              "ticks": ""
             }
            },
            "marker": {
             "colorbar": {
              "outlinewidth": 0,
              "ticks": ""
             }
            },
            "type": "scatter3d"
           }
          ],
          "scattercarpet": [
           {
            "marker": {
             "colorbar": {
              "outlinewidth": 0,
              "ticks": ""
             }
            },
            "type": "scattercarpet"
           }
          ],
          "scattergeo": [
           {
            "marker": {
             "colorbar": {
              "outlinewidth": 0,
              "ticks": ""
             }
            },
            "type": "scattergeo"
           }
          ],
          "scattergl": [
           {
            "marker": {
             "colorbar": {
              "outlinewidth": 0,
              "ticks": ""
             }
            },
            "type": "scattergl"
           }
          ],
          "scattermapbox": [
           {
            "marker": {
             "colorbar": {
              "outlinewidth": 0,
              "ticks": ""
             }
            },
            "type": "scattermapbox"
           }
          ],
          "scatterpolar": [
           {
            "marker": {
             "colorbar": {
              "outlinewidth": 0,
              "ticks": ""
             }
            },
            "type": "scatterpolar"
           }
          ],
          "scatterpolargl": [
           {
            "marker": {
             "colorbar": {
              "outlinewidth": 0,
              "ticks": ""
             }
            },
            "type": "scatterpolargl"
           }
          ],
          "scatterternary": [
           {
            "marker": {
             "colorbar": {
              "outlinewidth": 0,
              "ticks": ""
             }
            },
            "type": "scatterternary"
           }
          ],
          "surface": [
           {
            "colorbar": {
             "outlinewidth": 0,
             "ticks": ""
            },
            "colorscale": [
             [
              0,
              "#0d0887"
             ],
             [
              0.1111111111111111,
              "#46039f"
             ],
             [
              0.2222222222222222,
              "#7201a8"
             ],
             [
              0.3333333333333333,
              "#9c179e"
             ],
             [
              0.4444444444444444,
              "#bd3786"
             ],
             [
              0.5555555555555556,
              "#d8576b"
             ],
             [
              0.6666666666666666,
              "#ed7953"
             ],
             [
              0.7777777777777778,
              "#fb9f3a"
             ],
             [
              0.8888888888888888,
              "#fdca26"
             ],
             [
              1,
              "#f0f921"
             ]
            ],
            "type": "surface"
           }
          ],
          "table": [
           {
            "cells": {
             "fill": {
              "color": "#EBF0F8"
             },
             "line": {
              "color": "white"
             }
            },
            "header": {
             "fill": {
              "color": "#C8D4E3"
             },
             "line": {
              "color": "white"
             }
            },
            "type": "table"
           }
          ]
         },
         "layout": {
          "annotationdefaults": {
           "arrowcolor": "#2a3f5f",
           "arrowhead": 0,
           "arrowwidth": 1
          },
          "autotypenumbers": "strict",
          "coloraxis": {
           "colorbar": {
            "outlinewidth": 0,
            "ticks": ""
           }
          },
          "colorscale": {
           "diverging": [
            [
             0,
             "#8e0152"
            ],
            [
             0.1,
             "#c51b7d"
            ],
            [
             0.2,
             "#de77ae"
            ],
            [
             0.3,
             "#f1b6da"
            ],
            [
             0.4,
             "#fde0ef"
            ],
            [
             0.5,
             "#f7f7f7"
            ],
            [
             0.6,
             "#e6f5d0"
            ],
            [
             0.7,
             "#b8e186"
            ],
            [
             0.8,
             "#7fbc41"
            ],
            [
             0.9,
             "#4d9221"
            ],
            [
             1,
             "#276419"
            ]
           ],
           "sequential": [
            [
             0,
             "#0d0887"
            ],
            [
             0.1111111111111111,
             "#46039f"
            ],
            [
             0.2222222222222222,
             "#7201a8"
            ],
            [
             0.3333333333333333,
             "#9c179e"
            ],
            [
             0.4444444444444444,
             "#bd3786"
            ],
            [
             0.5555555555555556,
             "#d8576b"
            ],
            [
             0.6666666666666666,
             "#ed7953"
            ],
            [
             0.7777777777777778,
             "#fb9f3a"
            ],
            [
             0.8888888888888888,
             "#fdca26"
            ],
            [
             1,
             "#f0f921"
            ]
           ],
           "sequentialminus": [
            [
             0,
             "#0d0887"
            ],
            [
             0.1111111111111111,
             "#46039f"
            ],
            [
             0.2222222222222222,
             "#7201a8"
            ],
            [
             0.3333333333333333,
             "#9c179e"
            ],
            [
             0.4444444444444444,
             "#bd3786"
            ],
            [
             0.5555555555555556,
             "#d8576b"
            ],
            [
             0.6666666666666666,
             "#ed7953"
            ],
            [
             0.7777777777777778,
             "#fb9f3a"
            ],
            [
             0.8888888888888888,
             "#fdca26"
            ],
            [
             1,
             "#f0f921"
            ]
           ]
          },
          "colorway": [
           "#636efa",
           "#EF553B",
           "#00cc96",
           "#ab63fa",
           "#FFA15A",
           "#19d3f3",
           "#FF6692",
           "#B6E880",
           "#FF97FF",
           "#FECB52"
          ],
          "font": {
           "color": "#2a3f5f"
          },
          "geo": {
           "bgcolor": "white",
           "lakecolor": "white",
           "landcolor": "#E5ECF6",
           "showlakes": true,
           "showland": true,
           "subunitcolor": "white"
          },
          "hoverlabel": {
           "align": "left"
          },
          "hovermode": "closest",
          "mapbox": {
           "style": "light"
          },
          "paper_bgcolor": "white",
          "plot_bgcolor": "#E5ECF6",
          "polar": {
           "angularaxis": {
            "gridcolor": "white",
            "linecolor": "white",
            "ticks": ""
           },
           "bgcolor": "#E5ECF6",
           "radialaxis": {
            "gridcolor": "white",
            "linecolor": "white",
            "ticks": ""
           }
          },
          "scene": {
           "xaxis": {
            "backgroundcolor": "#E5ECF6",
            "gridcolor": "white",
            "gridwidth": 2,
            "linecolor": "white",
            "showbackground": true,
            "ticks": "",
            "zerolinecolor": "white"
           },
           "yaxis": {
            "backgroundcolor": "#E5ECF6",
            "gridcolor": "white",
            "gridwidth": 2,
            "linecolor": "white",
            "showbackground": true,
            "ticks": "",
            "zerolinecolor": "white"
           },
           "zaxis": {
            "backgroundcolor": "#E5ECF6",
            "gridcolor": "white",
            "gridwidth": 2,
            "linecolor": "white",
            "showbackground": true,
            "ticks": "",
            "zerolinecolor": "white"
           }
          },
          "shapedefaults": {
           "line": {
            "color": "#2a3f5f"
           }
          },
          "ternary": {
           "aaxis": {
            "gridcolor": "white",
            "linecolor": "white",
            "ticks": ""
           },
           "baxis": {
            "gridcolor": "white",
            "linecolor": "white",
            "ticks": ""
           },
           "bgcolor": "#E5ECF6",
           "caxis": {
            "gridcolor": "white",
            "linecolor": "white",
            "ticks": ""
           }
          },
          "title": {
           "x": 0.05
          },
          "xaxis": {
           "automargin": true,
           "gridcolor": "white",
           "linecolor": "white",
           "ticks": "",
           "title": {
            "standoff": 15
           },
           "zerolinecolor": "white",
           "zerolinewidth": 2
          },
          "yaxis": {
           "automargin": true,
           "gridcolor": "white",
           "linecolor": "white",
           "ticks": "",
           "title": {
            "standoff": 15
           },
           "zerolinecolor": "white",
           "zerolinewidth": 2
          }
         }
        },
        "title": {
         "text": "Cоотношения видов объектов общественного питания по количеству"
        }
       }
      },
      "text/html": [
       "<div>                            <div id=\"ac3faff2-3e9d-4fad-bdd0-1b31ad229c64\" class=\"plotly-graph-div\" style=\"height:525px; width:100%;\"></div>            <script type=\"text/javascript\">                require([\"plotly\"], function(Plotly) {                    window.PLOTLYENV=window.PLOTLYENV || {};                                    if (document.getElementById(\"ac3faff2-3e9d-4fad-bdd0-1b31ad229c64\")) {                    Plotly.newPlot(                        \"ac3faff2-3e9d-4fad-bdd0-1b31ad229c64\",                        [{\"domain\":{\"x\":[0.0,1.0],\"y\":[0.0,1.0]},\"hovertemplate\":\"object_type=%{label}<br>number=%{value}<extra></extra>\",\"labels\":[\"\\u043a\\u0430\\u0444\\u0435\",\"\\u0441\\u0442\\u043e\\u043b\\u043e\\u0432\\u0430\\u044f\",\"\\u0440\\u0435\\u0441\\u0442\\u043e\\u0440\\u0430\\u043d\",\"\\u043f\\u0440\\u0435\\u0434\\u043f\\u0440\\u0438\\u044f\\u0442\\u0438\\u0435 \\u0431\\u044b\\u0441\\u0442\\u0440\\u043e\\u0433\\u043e \\u043e\\u0431\\u0441\\u043b\\u0443\\u0436\\u0438\\u0432\\u0430\\u043d\\u0438\\u044f\",\"\\u0431\\u0430\\u0440\",\"\\u0431\\u0443\\u0444\\u0435\\u0442\",\"\\u043a\\u0430\\u0444\\u0435\\u0442\\u0435\\u0440\\u0438\\u0439\",\"\\u0437\\u0430\\u043a\\u0443\\u0441\\u043e\\u0447\\u043d\\u0430\\u044f\",\"\\u043c\\u0430\\u0433\\u0430\\u0437\\u0438\\u043d (\\u043e\\u0442\\u0434\\u0435\\u043b \\u043a\\u0443\\u043b\\u0438\\u043d\\u0430\\u0440\\u0438\\u0438)\"],\"legendgroup\":\"\",\"name\":\"\",\"showlegend\":true,\"values\":[6071,2584,2282,1898,855,577,395,349,273],\"type\":\"pie\"}],                        {\"template\":{\"data\":{\"bar\":[{\"error_x\":{\"color\":\"#2a3f5f\"},\"error_y\":{\"color\":\"#2a3f5f\"},\"marker\":{\"line\":{\"color\":\"#E5ECF6\",\"width\":0.5},\"pattern\":{\"fillmode\":\"overlay\",\"size\":10,\"solidity\":0.2}},\"type\":\"bar\"}],\"barpolar\":[{\"marker\":{\"line\":{\"color\":\"#E5ECF6\",\"width\":0.5},\"pattern\":{\"fillmode\":\"overlay\",\"size\":10,\"solidity\":0.2}},\"type\":\"barpolar\"}],\"carpet\":[{\"aaxis\":{\"endlinecolor\":\"#2a3f5f\",\"gridcolor\":\"white\",\"linecolor\":\"white\",\"minorgridcolor\":\"white\",\"startlinecolor\":\"#2a3f5f\"},\"baxis\":{\"endlinecolor\":\"#2a3f5f\",\"gridcolor\":\"white\",\"linecolor\":\"white\",\"minorgridcolor\":\"white\",\"startlinecolor\":\"#2a3f5f\"},\"type\":\"carpet\"}],\"choropleth\":[{\"colorbar\":{\"outlinewidth\":0,\"ticks\":\"\"},\"type\":\"choropleth\"}],\"contour\":[{\"colorbar\":{\"outlinewidth\":0,\"ticks\":\"\"},\"colorscale\":[[0.0,\"#0d0887\"],[0.1111111111111111,\"#46039f\"],[0.2222222222222222,\"#7201a8\"],[0.3333333333333333,\"#9c179e\"],[0.4444444444444444,\"#bd3786\"],[0.5555555555555556,\"#d8576b\"],[0.6666666666666666,\"#ed7953\"],[0.7777777777777778,\"#fb9f3a\"],[0.8888888888888888,\"#fdca26\"],[1.0,\"#f0f921\"]],\"type\":\"contour\"}],\"contourcarpet\":[{\"colorbar\":{\"outlinewidth\":0,\"ticks\":\"\"},\"type\":\"contourcarpet\"}],\"heatmap\":[{\"colorbar\":{\"outlinewidth\":0,\"ticks\":\"\"},\"colorscale\":[[0.0,\"#0d0887\"],[0.1111111111111111,\"#46039f\"],[0.2222222222222222,\"#7201a8\"],[0.3333333333333333,\"#9c179e\"],[0.4444444444444444,\"#bd3786\"],[0.5555555555555556,\"#d8576b\"],[0.6666666666666666,\"#ed7953\"],[0.7777777777777778,\"#fb9f3a\"],[0.8888888888888888,\"#fdca26\"],[1.0,\"#f0f921\"]],\"type\":\"heatmap\"}],\"heatmapgl\":[{\"colorbar\":{\"outlinewidth\":0,\"ticks\":\"\"},\"colorscale\":[[0.0,\"#0d0887\"],[0.1111111111111111,\"#46039f\"],[0.2222222222222222,\"#7201a8\"],[0.3333333333333333,\"#9c179e\"],[0.4444444444444444,\"#bd3786\"],[0.5555555555555556,\"#d8576b\"],[0.6666666666666666,\"#ed7953\"],[0.7777777777777778,\"#fb9f3a\"],[0.8888888888888888,\"#fdca26\"],[1.0,\"#f0f921\"]],\"type\":\"heatmapgl\"}],\"histogram\":[{\"marker\":{\"pattern\":{\"fillmode\":\"overlay\",\"size\":10,\"solidity\":0.2}},\"type\":\"histogram\"}],\"histogram2d\":[{\"colorbar\":{\"outlinewidth\":0,\"ticks\":\"\"},\"colorscale\":[[0.0,\"#0d0887\"],[0.1111111111111111,\"#46039f\"],[0.2222222222222222,\"#7201a8\"],[0.3333333333333333,\"#9c179e\"],[0.4444444444444444,\"#bd3786\"],[0.5555555555555556,\"#d8576b\"],[0.6666666666666666,\"#ed7953\"],[0.7777777777777778,\"#fb9f3a\"],[0.8888888888888888,\"#fdca26\"],[1.0,\"#f0f921\"]],\"type\":\"histogram2d\"}],\"histogram2dcontour\":[{\"colorbar\":{\"outlinewidth\":0,\"ticks\":\"\"},\"colorscale\":[[0.0,\"#0d0887\"],[0.1111111111111111,\"#46039f\"],[0.2222222222222222,\"#7201a8\"],[0.3333333333333333,\"#9c179e\"],[0.4444444444444444,\"#bd3786\"],[0.5555555555555556,\"#d8576b\"],[0.6666666666666666,\"#ed7953\"],[0.7777777777777778,\"#fb9f3a\"],[0.8888888888888888,\"#fdca26\"],[1.0,\"#f0f921\"]],\"type\":\"histogram2dcontour\"}],\"mesh3d\":[{\"colorbar\":{\"outlinewidth\":0,\"ticks\":\"\"},\"type\":\"mesh3d\"}],\"parcoords\":[{\"line\":{\"colorbar\":{\"outlinewidth\":0,\"ticks\":\"\"}},\"type\":\"parcoords\"}],\"pie\":[{\"automargin\":true,\"type\":\"pie\"}],\"scatter\":[{\"marker\":{\"colorbar\":{\"outlinewidth\":0,\"ticks\":\"\"}},\"type\":\"scatter\"}],\"scatter3d\":[{\"line\":{\"colorbar\":{\"outlinewidth\":0,\"ticks\":\"\"}},\"marker\":{\"colorbar\":{\"outlinewidth\":0,\"ticks\":\"\"}},\"type\":\"scatter3d\"}],\"scattercarpet\":[{\"marker\":{\"colorbar\":{\"outlinewidth\":0,\"ticks\":\"\"}},\"type\":\"scattercarpet\"}],\"scattergeo\":[{\"marker\":{\"colorbar\":{\"outlinewidth\":0,\"ticks\":\"\"}},\"type\":\"scattergeo\"}],\"scattergl\":[{\"marker\":{\"colorbar\":{\"outlinewidth\":0,\"ticks\":\"\"}},\"type\":\"scattergl\"}],\"scattermapbox\":[{\"marker\":{\"colorbar\":{\"outlinewidth\":0,\"ticks\":\"\"}},\"type\":\"scattermapbox\"}],\"scatterpolar\":[{\"marker\":{\"colorbar\":{\"outlinewidth\":0,\"ticks\":\"\"}},\"type\":\"scatterpolar\"}],\"scatterpolargl\":[{\"marker\":{\"colorbar\":{\"outlinewidth\":0,\"ticks\":\"\"}},\"type\":\"scatterpolargl\"}],\"scatterternary\":[{\"marker\":{\"colorbar\":{\"outlinewidth\":0,\"ticks\":\"\"}},\"type\":\"scatterternary\"}],\"surface\":[{\"colorbar\":{\"outlinewidth\":0,\"ticks\":\"\"},\"colorscale\":[[0.0,\"#0d0887\"],[0.1111111111111111,\"#46039f\"],[0.2222222222222222,\"#7201a8\"],[0.3333333333333333,\"#9c179e\"],[0.4444444444444444,\"#bd3786\"],[0.5555555555555556,\"#d8576b\"],[0.6666666666666666,\"#ed7953\"],[0.7777777777777778,\"#fb9f3a\"],[0.8888888888888888,\"#fdca26\"],[1.0,\"#f0f921\"]],\"type\":\"surface\"}],\"table\":[{\"cells\":{\"fill\":{\"color\":\"#EBF0F8\"},\"line\":{\"color\":\"white\"}},\"header\":{\"fill\":{\"color\":\"#C8D4E3\"},\"line\":{\"color\":\"white\"}},\"type\":\"table\"}]},\"layout\":{\"annotationdefaults\":{\"arrowcolor\":\"#2a3f5f\",\"arrowhead\":0,\"arrowwidth\":1},\"autotypenumbers\":\"strict\",\"coloraxis\":{\"colorbar\":{\"outlinewidth\":0,\"ticks\":\"\"}},\"colorscale\":{\"diverging\":[[0,\"#8e0152\"],[0.1,\"#c51b7d\"],[0.2,\"#de77ae\"],[0.3,\"#f1b6da\"],[0.4,\"#fde0ef\"],[0.5,\"#f7f7f7\"],[0.6,\"#e6f5d0\"],[0.7,\"#b8e186\"],[0.8,\"#7fbc41\"],[0.9,\"#4d9221\"],[1,\"#276419\"]],\"sequential\":[[0.0,\"#0d0887\"],[0.1111111111111111,\"#46039f\"],[0.2222222222222222,\"#7201a8\"],[0.3333333333333333,\"#9c179e\"],[0.4444444444444444,\"#bd3786\"],[0.5555555555555556,\"#d8576b\"],[0.6666666666666666,\"#ed7953\"],[0.7777777777777778,\"#fb9f3a\"],[0.8888888888888888,\"#fdca26\"],[1.0,\"#f0f921\"]],\"sequentialminus\":[[0.0,\"#0d0887\"],[0.1111111111111111,\"#46039f\"],[0.2222222222222222,\"#7201a8\"],[0.3333333333333333,\"#9c179e\"],[0.4444444444444444,\"#bd3786\"],[0.5555555555555556,\"#d8576b\"],[0.6666666666666666,\"#ed7953\"],[0.7777777777777778,\"#fb9f3a\"],[0.8888888888888888,\"#fdca26\"],[1.0,\"#f0f921\"]]},\"colorway\":[\"#636efa\",\"#EF553B\",\"#00cc96\",\"#ab63fa\",\"#FFA15A\",\"#19d3f3\",\"#FF6692\",\"#B6E880\",\"#FF97FF\",\"#FECB52\"],\"font\":{\"color\":\"#2a3f5f\"},\"geo\":{\"bgcolor\":\"white\",\"lakecolor\":\"white\",\"landcolor\":\"#E5ECF6\",\"showlakes\":true,\"showland\":true,\"subunitcolor\":\"white\"},\"hoverlabel\":{\"align\":\"left\"},\"hovermode\":\"closest\",\"mapbox\":{\"style\":\"light\"},\"paper_bgcolor\":\"white\",\"plot_bgcolor\":\"#E5ECF6\",\"polar\":{\"angularaxis\":{\"gridcolor\":\"white\",\"linecolor\":\"white\",\"ticks\":\"\"},\"bgcolor\":\"#E5ECF6\",\"radialaxis\":{\"gridcolor\":\"white\",\"linecolor\":\"white\",\"ticks\":\"\"}},\"scene\":{\"xaxis\":{\"backgroundcolor\":\"#E5ECF6\",\"gridcolor\":\"white\",\"gridwidth\":2,\"linecolor\":\"white\",\"showbackground\":true,\"ticks\":\"\",\"zerolinecolor\":\"white\"},\"yaxis\":{\"backgroundcolor\":\"#E5ECF6\",\"gridcolor\":\"white\",\"gridwidth\":2,\"linecolor\":\"white\",\"showbackground\":true,\"ticks\":\"\",\"zerolinecolor\":\"white\"},\"zaxis\":{\"backgroundcolor\":\"#E5ECF6\",\"gridcolor\":\"white\",\"gridwidth\":2,\"linecolor\":\"white\",\"showbackground\":true,\"ticks\":\"\",\"zerolinecolor\":\"white\"}},\"shapedefaults\":{\"line\":{\"color\":\"#2a3f5f\"}},\"ternary\":{\"aaxis\":{\"gridcolor\":\"white\",\"linecolor\":\"white\",\"ticks\":\"\"},\"baxis\":{\"gridcolor\":\"white\",\"linecolor\":\"white\",\"ticks\":\"\"},\"bgcolor\":\"#E5ECF6\",\"caxis\":{\"gridcolor\":\"white\",\"linecolor\":\"white\",\"ticks\":\"\"}},\"title\":{\"x\":0.05},\"xaxis\":{\"automargin\":true,\"gridcolor\":\"white\",\"linecolor\":\"white\",\"ticks\":\"\",\"title\":{\"standoff\":15},\"zerolinecolor\":\"white\",\"zerolinewidth\":2},\"yaxis\":{\"automargin\":true,\"gridcolor\":\"white\",\"linecolor\":\"white\",\"ticks\":\"\",\"title\":{\"standoff\":15},\"zerolinecolor\":\"white\",\"zerolinewidth\":2}}},\"legend\":{\"tracegroupgap\":0},\"title\":{\"text\":\"C\\u043e\\u043e\\u0442\\u043d\\u043e\\u0448\\u0435\\u043d\\u0438\\u044f \\u0432\\u0438\\u0434\\u043e\\u0432 \\u043e\\u0431\\u044a\\u0435\\u043a\\u0442\\u043e\\u0432 \\u043e\\u0431\\u0449\\u0435\\u0441\\u0442\\u0432\\u0435\\u043d\\u043d\\u043e\\u0433\\u043e \\u043f\\u0438\\u0442\\u0430\\u043d\\u0438\\u044f \\u043f\\u043e \\u043a\\u043e\\u043b\\u0438\\u0447\\u0435\\u0441\\u0442\\u0432\\u0443\"},\"piecolorway\":[\"rgb(51, 19, 23)\",\"rgb(79, 28, 33)\",\"rgb(108, 36, 36)\",\"rgb(135, 47, 32)\",\"rgb(157, 66, 25)\",\"rgb(174, 88, 20)\",\"rgb(188, 111, 19)\",\"rgb(199, 137, 22)\",\"rgb(209, 164, 32)\",\"rgb(217, 192, 44)\",\"rgb(222, 222, 59)\",\"rgb(224, 253, 74)\"]},                        {\"responsive\": true}                    ).then(function(){\n",
       "                            \n",
       "var gd = document.getElementById('ac3faff2-3e9d-4fad-bdd0-1b31ad229c64');\n",
       "var x = new MutationObserver(function (mutations, observer) {{\n",
       "        var display = window.getComputedStyle(gd).display;\n",
       "        if (!display || display === 'none') {{\n",
       "            console.log([gd, 'removed!']);\n",
       "            Plotly.purge(gd);\n",
       "            observer.disconnect();\n",
       "        }}\n",
       "}});\n",
       "\n",
       "// Listen for the removal of the full notebook cells\n",
       "var notebookContainer = gd.closest('#notebook-container');\n",
       "if (notebookContainer) {{\n",
       "    x.observe(notebookContainer, {childList: true});\n",
       "}}\n",
       "\n",
       "// Listen for the clearing of the current output cell\n",
       "var outputEl = gd.closest('.output');\n",
       "if (outputEl) {{\n",
       "    x.observe(outputEl, {childList: true});\n",
       "}}\n",
       "\n",
       "                        })                };                });            </script>        </div>"
      ]
     },
     "metadata": {},
     "output_type": "display_data"
    }
   ],
   "source": [
    "fig = px.pie(rest_types, values='number',\n",
    "             names='object_type',\n",
    "             color_discrete_sequence=px.colors.sequential.solar,\n",
    "            title='Cоотношения видов объектов общественного питания по количеству')\n",
    "fig.show()"
   ]
  },
  {
   "cell_type": "markdown",
   "id": "8d707fb5",
   "metadata": {},
   "source": [
    "#### Вывод №1\n",
    "\n",
    "Самые популярные типы заведений в Москве:\n",
    "\n",
    "    - кафе (40% от общего числа)\n",
    "    - столовая (17%)\n",
    "    - ресторан(15%)"
   ]
  },
  {
   "cell_type": "markdown",
   "id": "c9315915",
   "metadata": {},
   "source": [
    "### Исследование соотношений сетевых и несетевых заведений по количеству"
   ]
  },
  {
   "cell_type": "code",
   "execution_count": 74,
   "id": "a76efd8f",
   "metadata": {
    "scrolled": true
   },
   "outputs": [
    {
     "data": {
      "text/html": [
       "<div>\n",
       "<style scoped>\n",
       "    .dataframe tbody tr th:only-of-type {\n",
       "        vertical-align: middle;\n",
       "    }\n",
       "\n",
       "    .dataframe tbody tr th {\n",
       "        vertical-align: top;\n",
       "    }\n",
       "\n",
       "    .dataframe thead th {\n",
       "        text-align: right;\n",
       "    }\n",
       "</style>\n",
       "<table border=\"1\" class=\"dataframe\">\n",
       "  <thead>\n",
       "    <tr style=\"text-align: right;\">\n",
       "      <th></th>\n",
       "      <th>chain</th>\n",
       "      <th>number</th>\n",
       "    </tr>\n",
       "  </thead>\n",
       "  <tbody>\n",
       "    <tr>\n",
       "      <th>0</th>\n",
       "      <td>да</td>\n",
       "      <td>2964</td>\n",
       "    </tr>\n",
       "    <tr>\n",
       "      <th>1</th>\n",
       "      <td>нет</td>\n",
       "      <td>12320</td>\n",
       "    </tr>\n",
       "  </tbody>\n",
       "</table>\n",
       "</div>"
      ],
      "text/plain": [
       "  chain  number\n",
       "0    да    2964\n",
       "1   нет   12320"
      ]
     },
     "execution_count": 74,
     "metadata": {},
     "output_type": "execute_result"
    }
   ],
   "source": [
    "is_chain_rest = (\n",
    "    data.groupby('chain')\n",
    "    .agg({'id':'count'})\n",
    "    .reset_index()\n",
    "    .rename(columns={'id':'number'})\n",
    ")\n",
    "is_chain_rest.head()"
   ]
  },
  {
   "cell_type": "code",
   "execution_count": 75,
   "id": "ee6f7f84",
   "metadata": {},
   "outputs": [
    {
     "data": {
      "application/vnd.plotly.v1+json": {
       "config": {
        "plotlyServerURL": "https://plot.ly"
       },
       "data": [
        {
         "domain": {
          "x": [
           0,
           1
          ],
          "y": [
           0,
           1
          ]
         },
         "hovertemplate": "label=%{label}<br>value=%{value}<extra></extra>",
         "labels": [
          "Сетевое заведение",
          "Несетевое заведение"
         ],
         "legendgroup": "",
         "name": "",
         "showlegend": true,
         "type": "pie",
         "values": [
          2964,
          12320
         ]
        }
       ],
       "layout": {
        "legend": {
         "tracegroupgap": 0
        },
        "piecolorway": [
         "rgb(51, 19, 23)",
         "rgb(79, 28, 33)",
         "rgb(108, 36, 36)",
         "rgb(135, 47, 32)",
         "rgb(157, 66, 25)",
         "rgb(174, 88, 20)",
         "rgb(188, 111, 19)",
         "rgb(199, 137, 22)",
         "rgb(209, 164, 32)",
         "rgb(217, 192, 44)",
         "rgb(222, 222, 59)",
         "rgb(224, 253, 74)"
        ],
        "template": {
         "data": {
          "bar": [
           {
            "error_x": {
             "color": "#2a3f5f"
            },
            "error_y": {
             "color": "#2a3f5f"
            },
            "marker": {
             "line": {
              "color": "#E5ECF6",
              "width": 0.5
             },
             "pattern": {
              "fillmode": "overlay",
              "size": 10,
              "solidity": 0.2
             }
            },
            "type": "bar"
           }
          ],
          "barpolar": [
           {
            "marker": {
             "line": {
              "color": "#E5ECF6",
              "width": 0.5
             },
             "pattern": {
              "fillmode": "overlay",
              "size": 10,
              "solidity": 0.2
             }
            },
            "type": "barpolar"
           }
          ],
          "carpet": [
           {
            "aaxis": {
             "endlinecolor": "#2a3f5f",
             "gridcolor": "white",
             "linecolor": "white",
             "minorgridcolor": "white",
             "startlinecolor": "#2a3f5f"
            },
            "baxis": {
             "endlinecolor": "#2a3f5f",
             "gridcolor": "white",
             "linecolor": "white",
             "minorgridcolor": "white",
             "startlinecolor": "#2a3f5f"
            },
            "type": "carpet"
           }
          ],
          "choropleth": [
           {
            "colorbar": {
             "outlinewidth": 0,
             "ticks": ""
            },
            "type": "choropleth"
           }
          ],
          "contour": [
           {
            "colorbar": {
             "outlinewidth": 0,
             "ticks": ""
            },
            "colorscale": [
             [
              0,
              "#0d0887"
             ],
             [
              0.1111111111111111,
              "#46039f"
             ],
             [
              0.2222222222222222,
              "#7201a8"
             ],
             [
              0.3333333333333333,
              "#9c179e"
             ],
             [
              0.4444444444444444,
              "#bd3786"
             ],
             [
              0.5555555555555556,
              "#d8576b"
             ],
             [
              0.6666666666666666,
              "#ed7953"
             ],
             [
              0.7777777777777778,
              "#fb9f3a"
             ],
             [
              0.8888888888888888,
              "#fdca26"
             ],
             [
              1,
              "#f0f921"
             ]
            ],
            "type": "contour"
           }
          ],
          "contourcarpet": [
           {
            "colorbar": {
             "outlinewidth": 0,
             "ticks": ""
            },
            "type": "contourcarpet"
           }
          ],
          "heatmap": [
           {
            "colorbar": {
             "outlinewidth": 0,
             "ticks": ""
            },
            "colorscale": [
             [
              0,
              "#0d0887"
             ],
             [
              0.1111111111111111,
              "#46039f"
             ],
             [
              0.2222222222222222,
              "#7201a8"
             ],
             [
              0.3333333333333333,
              "#9c179e"
             ],
             [
              0.4444444444444444,
              "#bd3786"
             ],
             [
              0.5555555555555556,
              "#d8576b"
             ],
             [
              0.6666666666666666,
              "#ed7953"
             ],
             [
              0.7777777777777778,
              "#fb9f3a"
             ],
             [
              0.8888888888888888,
              "#fdca26"
             ],
             [
              1,
              "#f0f921"
             ]
            ],
            "type": "heatmap"
           }
          ],
          "heatmapgl": [
           {
            "colorbar": {
             "outlinewidth": 0,
             "ticks": ""
            },
            "colorscale": [
             [
              0,
              "#0d0887"
             ],
             [
              0.1111111111111111,
              "#46039f"
             ],
             [
              0.2222222222222222,
              "#7201a8"
             ],
             [
              0.3333333333333333,
              "#9c179e"
             ],
             [
              0.4444444444444444,
              "#bd3786"
             ],
             [
              0.5555555555555556,
              "#d8576b"
             ],
             [
              0.6666666666666666,
              "#ed7953"
             ],
             [
              0.7777777777777778,
              "#fb9f3a"
             ],
             [
              0.8888888888888888,
              "#fdca26"
             ],
             [
              1,
              "#f0f921"
             ]
            ],
            "type": "heatmapgl"
           }
          ],
          "histogram": [
           {
            "marker": {
             "pattern": {
              "fillmode": "overlay",
              "size": 10,
              "solidity": 0.2
             }
            },
            "type": "histogram"
           }
          ],
          "histogram2d": [
           {
            "colorbar": {
             "outlinewidth": 0,
             "ticks": ""
            },
            "colorscale": [
             [
              0,
              "#0d0887"
             ],
             [
              0.1111111111111111,
              "#46039f"
             ],
             [
              0.2222222222222222,
              "#7201a8"
             ],
             [
              0.3333333333333333,
              "#9c179e"
             ],
             [
              0.4444444444444444,
              "#bd3786"
             ],
             [
              0.5555555555555556,
              "#d8576b"
             ],
             [
              0.6666666666666666,
              "#ed7953"
             ],
             [
              0.7777777777777778,
              "#fb9f3a"
             ],
             [
              0.8888888888888888,
              "#fdca26"
             ],
             [
              1,
              "#f0f921"
             ]
            ],
            "type": "histogram2d"
           }
          ],
          "histogram2dcontour": [
           {
            "colorbar": {
             "outlinewidth": 0,
             "ticks": ""
            },
            "colorscale": [
             [
              0,
              "#0d0887"
             ],
             [
              0.1111111111111111,
              "#46039f"
             ],
             [
              0.2222222222222222,
              "#7201a8"
             ],
             [
              0.3333333333333333,
              "#9c179e"
             ],
             [
              0.4444444444444444,
              "#bd3786"
             ],
             [
              0.5555555555555556,
              "#d8576b"
             ],
             [
              0.6666666666666666,
              "#ed7953"
             ],
             [
              0.7777777777777778,
              "#fb9f3a"
             ],
             [
              0.8888888888888888,
              "#fdca26"
             ],
             [
              1,
              "#f0f921"
             ]
            ],
            "type": "histogram2dcontour"
           }
          ],
          "mesh3d": [
           {
            "colorbar": {
             "outlinewidth": 0,
             "ticks": ""
            },
            "type": "mesh3d"
           }
          ],
          "parcoords": [
           {
            "line": {
             "colorbar": {
              "outlinewidth": 0,
              "ticks": ""
             }
            },
            "type": "parcoords"
           }
          ],
          "pie": [
           {
            "automargin": true,
            "type": "pie"
           }
          ],
          "scatter": [
           {
            "marker": {
             "colorbar": {
              "outlinewidth": 0,
              "ticks": ""
             }
            },
            "type": "scatter"
           }
          ],
          "scatter3d": [
           {
            "line": {
             "colorbar": {
              "outlinewidth": 0,
              "ticks": ""
             }
            },
            "marker": {
             "colorbar": {
              "outlinewidth": 0,
              "ticks": ""
             }
            },
            "type": "scatter3d"
           }
          ],
          "scattercarpet": [
           {
            "marker": {
             "colorbar": {
              "outlinewidth": 0,
              "ticks": ""
             }
            },
            "type": "scattercarpet"
           }
          ],
          "scattergeo": [
           {
            "marker": {
             "colorbar": {
              "outlinewidth": 0,
              "ticks": ""
             }
            },
            "type": "scattergeo"
           }
          ],
          "scattergl": [
           {
            "marker": {
             "colorbar": {
              "outlinewidth": 0,
              "ticks": ""
             }
            },
            "type": "scattergl"
           }
          ],
          "scattermapbox": [
           {
            "marker": {
             "colorbar": {
              "outlinewidth": 0,
              "ticks": ""
             }
            },
            "type": "scattermapbox"
           }
          ],
          "scatterpolar": [
           {
            "marker": {
             "colorbar": {
              "outlinewidth": 0,
              "ticks": ""
             }
            },
            "type": "scatterpolar"
           }
          ],
          "scatterpolargl": [
           {
            "marker": {
             "colorbar": {
              "outlinewidth": 0,
              "ticks": ""
             }
            },
            "type": "scatterpolargl"
           }
          ],
          "scatterternary": [
           {
            "marker": {
             "colorbar": {
              "outlinewidth": 0,
              "ticks": ""
             }
            },
            "type": "scatterternary"
           }
          ],
          "surface": [
           {
            "colorbar": {
             "outlinewidth": 0,
             "ticks": ""
            },
            "colorscale": [
             [
              0,
              "#0d0887"
             ],
             [
              0.1111111111111111,
              "#46039f"
             ],
             [
              0.2222222222222222,
              "#7201a8"
             ],
             [
              0.3333333333333333,
              "#9c179e"
             ],
             [
              0.4444444444444444,
              "#bd3786"
             ],
             [
              0.5555555555555556,
              "#d8576b"
             ],
             [
              0.6666666666666666,
              "#ed7953"
             ],
             [
              0.7777777777777778,
              "#fb9f3a"
             ],
             [
              0.8888888888888888,
              "#fdca26"
             ],
             [
              1,
              "#f0f921"
             ]
            ],
            "type": "surface"
           }
          ],
          "table": [
           {
            "cells": {
             "fill": {
              "color": "#EBF0F8"
             },
             "line": {
              "color": "white"
             }
            },
            "header": {
             "fill": {
              "color": "#C8D4E3"
             },
             "line": {
              "color": "white"
             }
            },
            "type": "table"
           }
          ]
         },
         "layout": {
          "annotationdefaults": {
           "arrowcolor": "#2a3f5f",
           "arrowhead": 0,
           "arrowwidth": 1
          },
          "autotypenumbers": "strict",
          "coloraxis": {
           "colorbar": {
            "outlinewidth": 0,
            "ticks": ""
           }
          },
          "colorscale": {
           "diverging": [
            [
             0,
             "#8e0152"
            ],
            [
             0.1,
             "#c51b7d"
            ],
            [
             0.2,
             "#de77ae"
            ],
            [
             0.3,
             "#f1b6da"
            ],
            [
             0.4,
             "#fde0ef"
            ],
            [
             0.5,
             "#f7f7f7"
            ],
            [
             0.6,
             "#e6f5d0"
            ],
            [
             0.7,
             "#b8e186"
            ],
            [
             0.8,
             "#7fbc41"
            ],
            [
             0.9,
             "#4d9221"
            ],
            [
             1,
             "#276419"
            ]
           ],
           "sequential": [
            [
             0,
             "#0d0887"
            ],
            [
             0.1111111111111111,
             "#46039f"
            ],
            [
             0.2222222222222222,
             "#7201a8"
            ],
            [
             0.3333333333333333,
             "#9c179e"
            ],
            [
             0.4444444444444444,
             "#bd3786"
            ],
            [
             0.5555555555555556,
             "#d8576b"
            ],
            [
             0.6666666666666666,
             "#ed7953"
            ],
            [
             0.7777777777777778,
             "#fb9f3a"
            ],
            [
             0.8888888888888888,
             "#fdca26"
            ],
            [
             1,
             "#f0f921"
            ]
           ],
           "sequentialminus": [
            [
             0,
             "#0d0887"
            ],
            [
             0.1111111111111111,
             "#46039f"
            ],
            [
             0.2222222222222222,
             "#7201a8"
            ],
            [
             0.3333333333333333,
             "#9c179e"
            ],
            [
             0.4444444444444444,
             "#bd3786"
            ],
            [
             0.5555555555555556,
             "#d8576b"
            ],
            [
             0.6666666666666666,
             "#ed7953"
            ],
            [
             0.7777777777777778,
             "#fb9f3a"
            ],
            [
             0.8888888888888888,
             "#fdca26"
            ],
            [
             1,
             "#f0f921"
            ]
           ]
          },
          "colorway": [
           "#636efa",
           "#EF553B",
           "#00cc96",
           "#ab63fa",
           "#FFA15A",
           "#19d3f3",
           "#FF6692",
           "#B6E880",
           "#FF97FF",
           "#FECB52"
          ],
          "font": {
           "color": "#2a3f5f"
          },
          "geo": {
           "bgcolor": "white",
           "lakecolor": "white",
           "landcolor": "#E5ECF6",
           "showlakes": true,
           "showland": true,
           "subunitcolor": "white"
          },
          "hoverlabel": {
           "align": "left"
          },
          "hovermode": "closest",
          "mapbox": {
           "style": "light"
          },
          "paper_bgcolor": "white",
          "plot_bgcolor": "#E5ECF6",
          "polar": {
           "angularaxis": {
            "gridcolor": "white",
            "linecolor": "white",
            "ticks": ""
           },
           "bgcolor": "#E5ECF6",
           "radialaxis": {
            "gridcolor": "white",
            "linecolor": "white",
            "ticks": ""
           }
          },
          "scene": {
           "xaxis": {
            "backgroundcolor": "#E5ECF6",
            "gridcolor": "white",
            "gridwidth": 2,
            "linecolor": "white",
            "showbackground": true,
            "ticks": "",
            "zerolinecolor": "white"
           },
           "yaxis": {
            "backgroundcolor": "#E5ECF6",
            "gridcolor": "white",
            "gridwidth": 2,
            "linecolor": "white",
            "showbackground": true,
            "ticks": "",
            "zerolinecolor": "white"
           },
           "zaxis": {
            "backgroundcolor": "#E5ECF6",
            "gridcolor": "white",
            "gridwidth": 2,
            "linecolor": "white",
            "showbackground": true,
            "ticks": "",
            "zerolinecolor": "white"
           }
          },
          "shapedefaults": {
           "line": {
            "color": "#2a3f5f"
           }
          },
          "ternary": {
           "aaxis": {
            "gridcolor": "white",
            "linecolor": "white",
            "ticks": ""
           },
           "baxis": {
            "gridcolor": "white",
            "linecolor": "white",
            "ticks": ""
           },
           "bgcolor": "#E5ECF6",
           "caxis": {
            "gridcolor": "white",
            "linecolor": "white",
            "ticks": ""
           }
          },
          "title": {
           "x": 0.05
          },
          "xaxis": {
           "automargin": true,
           "gridcolor": "white",
           "linecolor": "white",
           "ticks": "",
           "title": {
            "standoff": 15
           },
           "zerolinecolor": "white",
           "zerolinewidth": 2
          },
          "yaxis": {
           "automargin": true,
           "gridcolor": "white",
           "linecolor": "white",
           "ticks": "",
           "title": {
            "standoff": 15
           },
           "zerolinecolor": "white",
           "zerolinewidth": 2
          }
         }
        },
        "title": {
         "text": "Принадлежность объектов к сетям заведений"
        }
       }
      },
      "text/html": [
       "<div>                            <div id=\"c7048103-3993-46dc-b635-e5fec9c1256b\" class=\"plotly-graph-div\" style=\"height:525px; width:100%;\"></div>            <script type=\"text/javascript\">                require([\"plotly\"], function(Plotly) {                    window.PLOTLYENV=window.PLOTLYENV || {};                                    if (document.getElementById(\"c7048103-3993-46dc-b635-e5fec9c1256b\")) {                    Plotly.newPlot(                        \"c7048103-3993-46dc-b635-e5fec9c1256b\",                        [{\"domain\":{\"x\":[0.0,1.0],\"y\":[0.0,1.0]},\"hovertemplate\":\"label=%{label}<br>value=%{value}<extra></extra>\",\"labels\":[\"\\u0421\\u0435\\u0442\\u0435\\u0432\\u043e\\u0435 \\u0437\\u0430\\u0432\\u0435\\u0434\\u0435\\u043d\\u0438\\u0435\",\"\\u041d\\u0435\\u0441\\u0435\\u0442\\u0435\\u0432\\u043e\\u0435 \\u0437\\u0430\\u0432\\u0435\\u0434\\u0435\\u043d\\u0438\\u0435\"],\"legendgroup\":\"\",\"name\":\"\",\"showlegend\":true,\"values\":[2964,12320],\"type\":\"pie\"}],                        {\"template\":{\"data\":{\"bar\":[{\"error_x\":{\"color\":\"#2a3f5f\"},\"error_y\":{\"color\":\"#2a3f5f\"},\"marker\":{\"line\":{\"color\":\"#E5ECF6\",\"width\":0.5},\"pattern\":{\"fillmode\":\"overlay\",\"size\":10,\"solidity\":0.2}},\"type\":\"bar\"}],\"barpolar\":[{\"marker\":{\"line\":{\"color\":\"#E5ECF6\",\"width\":0.5},\"pattern\":{\"fillmode\":\"overlay\",\"size\":10,\"solidity\":0.2}},\"type\":\"barpolar\"}],\"carpet\":[{\"aaxis\":{\"endlinecolor\":\"#2a3f5f\",\"gridcolor\":\"white\",\"linecolor\":\"white\",\"minorgridcolor\":\"white\",\"startlinecolor\":\"#2a3f5f\"},\"baxis\":{\"endlinecolor\":\"#2a3f5f\",\"gridcolor\":\"white\",\"linecolor\":\"white\",\"minorgridcolor\":\"white\",\"startlinecolor\":\"#2a3f5f\"},\"type\":\"carpet\"}],\"choropleth\":[{\"colorbar\":{\"outlinewidth\":0,\"ticks\":\"\"},\"type\":\"choropleth\"}],\"contour\":[{\"colorbar\":{\"outlinewidth\":0,\"ticks\":\"\"},\"colorscale\":[[0.0,\"#0d0887\"],[0.1111111111111111,\"#46039f\"],[0.2222222222222222,\"#7201a8\"],[0.3333333333333333,\"#9c179e\"],[0.4444444444444444,\"#bd3786\"],[0.5555555555555556,\"#d8576b\"],[0.6666666666666666,\"#ed7953\"],[0.7777777777777778,\"#fb9f3a\"],[0.8888888888888888,\"#fdca26\"],[1.0,\"#f0f921\"]],\"type\":\"contour\"}],\"contourcarpet\":[{\"colorbar\":{\"outlinewidth\":0,\"ticks\":\"\"},\"type\":\"contourcarpet\"}],\"heatmap\":[{\"colorbar\":{\"outlinewidth\":0,\"ticks\":\"\"},\"colorscale\":[[0.0,\"#0d0887\"],[0.1111111111111111,\"#46039f\"],[0.2222222222222222,\"#7201a8\"],[0.3333333333333333,\"#9c179e\"],[0.4444444444444444,\"#bd3786\"],[0.5555555555555556,\"#d8576b\"],[0.6666666666666666,\"#ed7953\"],[0.7777777777777778,\"#fb9f3a\"],[0.8888888888888888,\"#fdca26\"],[1.0,\"#f0f921\"]],\"type\":\"heatmap\"}],\"heatmapgl\":[{\"colorbar\":{\"outlinewidth\":0,\"ticks\":\"\"},\"colorscale\":[[0.0,\"#0d0887\"],[0.1111111111111111,\"#46039f\"],[0.2222222222222222,\"#7201a8\"],[0.3333333333333333,\"#9c179e\"],[0.4444444444444444,\"#bd3786\"],[0.5555555555555556,\"#d8576b\"],[0.6666666666666666,\"#ed7953\"],[0.7777777777777778,\"#fb9f3a\"],[0.8888888888888888,\"#fdca26\"],[1.0,\"#f0f921\"]],\"type\":\"heatmapgl\"}],\"histogram\":[{\"marker\":{\"pattern\":{\"fillmode\":\"overlay\",\"size\":10,\"solidity\":0.2}},\"type\":\"histogram\"}],\"histogram2d\":[{\"colorbar\":{\"outlinewidth\":0,\"ticks\":\"\"},\"colorscale\":[[0.0,\"#0d0887\"],[0.1111111111111111,\"#46039f\"],[0.2222222222222222,\"#7201a8\"],[0.3333333333333333,\"#9c179e\"],[0.4444444444444444,\"#bd3786\"],[0.5555555555555556,\"#d8576b\"],[0.6666666666666666,\"#ed7953\"],[0.7777777777777778,\"#fb9f3a\"],[0.8888888888888888,\"#fdca26\"],[1.0,\"#f0f921\"]],\"type\":\"histogram2d\"}],\"histogram2dcontour\":[{\"colorbar\":{\"outlinewidth\":0,\"ticks\":\"\"},\"colorscale\":[[0.0,\"#0d0887\"],[0.1111111111111111,\"#46039f\"],[0.2222222222222222,\"#7201a8\"],[0.3333333333333333,\"#9c179e\"],[0.4444444444444444,\"#bd3786\"],[0.5555555555555556,\"#d8576b\"],[0.6666666666666666,\"#ed7953\"],[0.7777777777777778,\"#fb9f3a\"],[0.8888888888888888,\"#fdca26\"],[1.0,\"#f0f921\"]],\"type\":\"histogram2dcontour\"}],\"mesh3d\":[{\"colorbar\":{\"outlinewidth\":0,\"ticks\":\"\"},\"type\":\"mesh3d\"}],\"parcoords\":[{\"line\":{\"colorbar\":{\"outlinewidth\":0,\"ticks\":\"\"}},\"type\":\"parcoords\"}],\"pie\":[{\"automargin\":true,\"type\":\"pie\"}],\"scatter\":[{\"marker\":{\"colorbar\":{\"outlinewidth\":0,\"ticks\":\"\"}},\"type\":\"scatter\"}],\"scatter3d\":[{\"line\":{\"colorbar\":{\"outlinewidth\":0,\"ticks\":\"\"}},\"marker\":{\"colorbar\":{\"outlinewidth\":0,\"ticks\":\"\"}},\"type\":\"scatter3d\"}],\"scattercarpet\":[{\"marker\":{\"colorbar\":{\"outlinewidth\":0,\"ticks\":\"\"}},\"type\":\"scattercarpet\"}],\"scattergeo\":[{\"marker\":{\"colorbar\":{\"outlinewidth\":0,\"ticks\":\"\"}},\"type\":\"scattergeo\"}],\"scattergl\":[{\"marker\":{\"colorbar\":{\"outlinewidth\":0,\"ticks\":\"\"}},\"type\":\"scattergl\"}],\"scattermapbox\":[{\"marker\":{\"colorbar\":{\"outlinewidth\":0,\"ticks\":\"\"}},\"type\":\"scattermapbox\"}],\"scatterpolar\":[{\"marker\":{\"colorbar\":{\"outlinewidth\":0,\"ticks\":\"\"}},\"type\":\"scatterpolar\"}],\"scatterpolargl\":[{\"marker\":{\"colorbar\":{\"outlinewidth\":0,\"ticks\":\"\"}},\"type\":\"scatterpolargl\"}],\"scatterternary\":[{\"marker\":{\"colorbar\":{\"outlinewidth\":0,\"ticks\":\"\"}},\"type\":\"scatterternary\"}],\"surface\":[{\"colorbar\":{\"outlinewidth\":0,\"ticks\":\"\"},\"colorscale\":[[0.0,\"#0d0887\"],[0.1111111111111111,\"#46039f\"],[0.2222222222222222,\"#7201a8\"],[0.3333333333333333,\"#9c179e\"],[0.4444444444444444,\"#bd3786\"],[0.5555555555555556,\"#d8576b\"],[0.6666666666666666,\"#ed7953\"],[0.7777777777777778,\"#fb9f3a\"],[0.8888888888888888,\"#fdca26\"],[1.0,\"#f0f921\"]],\"type\":\"surface\"}],\"table\":[{\"cells\":{\"fill\":{\"color\":\"#EBF0F8\"},\"line\":{\"color\":\"white\"}},\"header\":{\"fill\":{\"color\":\"#C8D4E3\"},\"line\":{\"color\":\"white\"}},\"type\":\"table\"}]},\"layout\":{\"annotationdefaults\":{\"arrowcolor\":\"#2a3f5f\",\"arrowhead\":0,\"arrowwidth\":1},\"autotypenumbers\":\"strict\",\"coloraxis\":{\"colorbar\":{\"outlinewidth\":0,\"ticks\":\"\"}},\"colorscale\":{\"diverging\":[[0,\"#8e0152\"],[0.1,\"#c51b7d\"],[0.2,\"#de77ae\"],[0.3,\"#f1b6da\"],[0.4,\"#fde0ef\"],[0.5,\"#f7f7f7\"],[0.6,\"#e6f5d0\"],[0.7,\"#b8e186\"],[0.8,\"#7fbc41\"],[0.9,\"#4d9221\"],[1,\"#276419\"]],\"sequential\":[[0.0,\"#0d0887\"],[0.1111111111111111,\"#46039f\"],[0.2222222222222222,\"#7201a8\"],[0.3333333333333333,\"#9c179e\"],[0.4444444444444444,\"#bd3786\"],[0.5555555555555556,\"#d8576b\"],[0.6666666666666666,\"#ed7953\"],[0.7777777777777778,\"#fb9f3a\"],[0.8888888888888888,\"#fdca26\"],[1.0,\"#f0f921\"]],\"sequentialminus\":[[0.0,\"#0d0887\"],[0.1111111111111111,\"#46039f\"],[0.2222222222222222,\"#7201a8\"],[0.3333333333333333,\"#9c179e\"],[0.4444444444444444,\"#bd3786\"],[0.5555555555555556,\"#d8576b\"],[0.6666666666666666,\"#ed7953\"],[0.7777777777777778,\"#fb9f3a\"],[0.8888888888888888,\"#fdca26\"],[1.0,\"#f0f921\"]]},\"colorway\":[\"#636efa\",\"#EF553B\",\"#00cc96\",\"#ab63fa\",\"#FFA15A\",\"#19d3f3\",\"#FF6692\",\"#B6E880\",\"#FF97FF\",\"#FECB52\"],\"font\":{\"color\":\"#2a3f5f\"},\"geo\":{\"bgcolor\":\"white\",\"lakecolor\":\"white\",\"landcolor\":\"#E5ECF6\",\"showlakes\":true,\"showland\":true,\"subunitcolor\":\"white\"},\"hoverlabel\":{\"align\":\"left\"},\"hovermode\":\"closest\",\"mapbox\":{\"style\":\"light\"},\"paper_bgcolor\":\"white\",\"plot_bgcolor\":\"#E5ECF6\",\"polar\":{\"angularaxis\":{\"gridcolor\":\"white\",\"linecolor\":\"white\",\"ticks\":\"\"},\"bgcolor\":\"#E5ECF6\",\"radialaxis\":{\"gridcolor\":\"white\",\"linecolor\":\"white\",\"ticks\":\"\"}},\"scene\":{\"xaxis\":{\"backgroundcolor\":\"#E5ECF6\",\"gridcolor\":\"white\",\"gridwidth\":2,\"linecolor\":\"white\",\"showbackground\":true,\"ticks\":\"\",\"zerolinecolor\":\"white\"},\"yaxis\":{\"backgroundcolor\":\"#E5ECF6\",\"gridcolor\":\"white\",\"gridwidth\":2,\"linecolor\":\"white\",\"showbackground\":true,\"ticks\":\"\",\"zerolinecolor\":\"white\"},\"zaxis\":{\"backgroundcolor\":\"#E5ECF6\",\"gridcolor\":\"white\",\"gridwidth\":2,\"linecolor\":\"white\",\"showbackground\":true,\"ticks\":\"\",\"zerolinecolor\":\"white\"}},\"shapedefaults\":{\"line\":{\"color\":\"#2a3f5f\"}},\"ternary\":{\"aaxis\":{\"gridcolor\":\"white\",\"linecolor\":\"white\",\"ticks\":\"\"},\"baxis\":{\"gridcolor\":\"white\",\"linecolor\":\"white\",\"ticks\":\"\"},\"bgcolor\":\"#E5ECF6\",\"caxis\":{\"gridcolor\":\"white\",\"linecolor\":\"white\",\"ticks\":\"\"}},\"title\":{\"x\":0.05},\"xaxis\":{\"automargin\":true,\"gridcolor\":\"white\",\"linecolor\":\"white\",\"ticks\":\"\",\"title\":{\"standoff\":15},\"zerolinecolor\":\"white\",\"zerolinewidth\":2},\"yaxis\":{\"automargin\":true,\"gridcolor\":\"white\",\"linecolor\":\"white\",\"ticks\":\"\",\"title\":{\"standoff\":15},\"zerolinecolor\":\"white\",\"zerolinewidth\":2}}},\"legend\":{\"tracegroupgap\":0},\"title\":{\"text\":\"\\u041f\\u0440\\u0438\\u043d\\u0430\\u0434\\u043b\\u0435\\u0436\\u043d\\u043e\\u0441\\u0442\\u044c \\u043e\\u0431\\u044a\\u0435\\u043a\\u0442\\u043e\\u0432 \\u043a \\u0441\\u0435\\u0442\\u044f\\u043c \\u0437\\u0430\\u0432\\u0435\\u0434\\u0435\\u043d\\u0438\\u0439\"},\"piecolorway\":[\"rgb(51, 19, 23)\",\"rgb(79, 28, 33)\",\"rgb(108, 36, 36)\",\"rgb(135, 47, 32)\",\"rgb(157, 66, 25)\",\"rgb(174, 88, 20)\",\"rgb(188, 111, 19)\",\"rgb(199, 137, 22)\",\"rgb(209, 164, 32)\",\"rgb(217, 192, 44)\",\"rgb(222, 222, 59)\",\"rgb(224, 253, 74)\"]},                        {\"responsive\": true}                    ).then(function(){\n",
       "                            \n",
       "var gd = document.getElementById('c7048103-3993-46dc-b635-e5fec9c1256b');\n",
       "var x = new MutationObserver(function (mutations, observer) {{\n",
       "        var display = window.getComputedStyle(gd).display;\n",
       "        if (!display || display === 'none') {{\n",
       "            console.log([gd, 'removed!']);\n",
       "            Plotly.purge(gd);\n",
       "            observer.disconnect();\n",
       "        }}\n",
       "}});\n",
       "\n",
       "// Listen for the removal of the full notebook cells\n",
       "var notebookContainer = gd.closest('#notebook-container');\n",
       "if (notebookContainer) {{\n",
       "    x.observe(notebookContainer, {childList: true});\n",
       "}}\n",
       "\n",
       "// Listen for the clearing of the current output cell\n",
       "var outputEl = gd.closest('.output');\n",
       "if (outputEl) {{\n",
       "    x.observe(outputEl, {childList: true});\n",
       "}}\n",
       "\n",
       "                        })                };                });            </script>        </div>"
      ]
     },
     "metadata": {},
     "output_type": "display_data"
    }
   ],
   "source": [
    "name = ['Сетевое заведение', 'Несетевое заведение']\n",
    "\n",
    "fig = px.pie(values=is_chain_rest['number'],\n",
    "             names=name,\n",
    "             color_discrete_sequence=px.colors.sequential.solar,\n",
    "            title='Принадлежность объектов к сетям заведений')\n",
    "fig.show()"
   ]
  },
  {
   "cell_type": "markdown",
   "id": "bac0b532",
   "metadata": {},
   "source": [
    "#### Вывод №2\n",
    "\n",
    "Большая часть заведений - несетевые (81%). Доля сетевых заведений 19%"
   ]
  },
  {
   "cell_type": "markdown",
   "id": "a16daa2d",
   "metadata": {},
   "source": [
    "### Взаимосвязь типа заведения и принадлежности к сети заведений\n",
    "Для какого вида объекта общественного питания характерно сетевое распространение?"
   ]
  },
  {
   "cell_type": "code",
   "execution_count": 76,
   "id": "1d9adfca",
   "metadata": {
    "scrolled": true
   },
   "outputs": [
    {
     "data": {
      "text/html": [
       "<div>\n",
       "<style scoped>\n",
       "    .dataframe tbody tr th:only-of-type {\n",
       "        vertical-align: middle;\n",
       "    }\n",
       "\n",
       "    .dataframe tbody tr th {\n",
       "        vertical-align: top;\n",
       "    }\n",
       "\n",
       "    .dataframe thead th {\n",
       "        text-align: right;\n",
       "    }\n",
       "</style>\n",
       "<table border=\"1\" class=\"dataframe\">\n",
       "  <thead>\n",
       "    <tr style=\"text-align: right;\">\n",
       "      <th></th>\n",
       "      <th>object_type</th>\n",
       "      <th>number</th>\n",
       "    </tr>\n",
       "  </thead>\n",
       "  <tbody>\n",
       "    <tr>\n",
       "      <th>0</th>\n",
       "      <td>кафе</td>\n",
       "      <td>1396</td>\n",
       "    </tr>\n",
       "    <tr>\n",
       "      <th>1</th>\n",
       "      <td>предприятие быстрого обслуживания</td>\n",
       "      <td>788</td>\n",
       "    </tr>\n",
       "    <tr>\n",
       "      <th>2</th>\n",
       "      <td>ресторан</td>\n",
       "      <td>543</td>\n",
       "    </tr>\n",
       "    <tr>\n",
       "      <th>3</th>\n",
       "      <td>магазин (отдел кулинарии)</td>\n",
       "      <td>78</td>\n",
       "    </tr>\n",
       "    <tr>\n",
       "      <th>4</th>\n",
       "      <td>закусочная</td>\n",
       "      <td>56</td>\n",
       "    </tr>\n",
       "  </tbody>\n",
       "</table>\n",
       "</div>"
      ],
      "text/plain": [
       "                         object_type  number\n",
       "0                               кафе    1396\n",
       "1  предприятие быстрого обслуживания     788\n",
       "2                           ресторан     543\n",
       "3          магазин (отдел кулинарии)      78\n",
       "4                         закусочная      56"
      ]
     },
     "execution_count": 76,
     "metadata": {},
     "output_type": "execute_result"
    }
   ],
   "source": [
    "chain_rests = data.query('chain == \"да\"')\n",
    "chain_rests_type_distr = (\n",
    "    chain_rests.groupby('object_type')\n",
    "    .agg({'id':'nunique'})\n",
    "    .rename(columns={'id':'number'})\n",
    "    .sort_values(by='number', ascending=False)\n",
    "    .reset_index()\n",
    ")\n",
    "chain_rests_type_distr.head()"
   ]
  },
  {
   "cell_type": "code",
   "execution_count": 77,
   "id": "2675a6be",
   "metadata": {
    "scrolled": true
   },
   "outputs": [
    {
     "data": {
      "application/vnd.plotly.v1+json": {
       "config": {
        "plotlyServerURL": "https://plot.ly"
       },
       "data": [
        {
         "domain": {
          "x": [
           0,
           1
          ],
          "y": [
           0,
           1
          ]
         },
         "hovertemplate": "object_type=%{label}<br>number=%{value}<extra></extra>",
         "labels": [
          "кафе",
          "предприятие быстрого обслуживания",
          "ресторан",
          "магазин (отдел кулинарии)",
          "закусочная",
          "кафетерий",
          "бар",
          "буфет",
          "столовая"
         ],
         "legendgroup": "",
         "name": "",
         "showlegend": true,
         "type": "pie",
         "values": [
          1396,
          788,
          543,
          78,
          56,
          52,
          37,
          11,
          3
         ]
        }
       ],
       "layout": {
        "legend": {
         "tracegroupgap": 0
        },
        "piecolorway": [
         "rgb(51, 19, 23)",
         "rgb(79, 28, 33)",
         "rgb(108, 36, 36)",
         "rgb(135, 47, 32)",
         "rgb(157, 66, 25)",
         "rgb(174, 88, 20)",
         "rgb(188, 111, 19)",
         "rgb(199, 137, 22)",
         "rgb(209, 164, 32)",
         "rgb(217, 192, 44)",
         "rgb(222, 222, 59)",
         "rgb(224, 253, 74)"
        ],
        "template": {
         "data": {
          "bar": [
           {
            "error_x": {
             "color": "#2a3f5f"
            },
            "error_y": {
             "color": "#2a3f5f"
            },
            "marker": {
             "line": {
              "color": "#E5ECF6",
              "width": 0.5
             },
             "pattern": {
              "fillmode": "overlay",
              "size": 10,
              "solidity": 0.2
             }
            },
            "type": "bar"
           }
          ],
          "barpolar": [
           {
            "marker": {
             "line": {
              "color": "#E5ECF6",
              "width": 0.5
             },
             "pattern": {
              "fillmode": "overlay",
              "size": 10,
              "solidity": 0.2
             }
            },
            "type": "barpolar"
           }
          ],
          "carpet": [
           {
            "aaxis": {
             "endlinecolor": "#2a3f5f",
             "gridcolor": "white",
             "linecolor": "white",
             "minorgridcolor": "white",
             "startlinecolor": "#2a3f5f"
            },
            "baxis": {
             "endlinecolor": "#2a3f5f",
             "gridcolor": "white",
             "linecolor": "white",
             "minorgridcolor": "white",
             "startlinecolor": "#2a3f5f"
            },
            "type": "carpet"
           }
          ],
          "choropleth": [
           {
            "colorbar": {
             "outlinewidth": 0,
             "ticks": ""
            },
            "type": "choropleth"
           }
          ],
          "contour": [
           {
            "colorbar": {
             "outlinewidth": 0,
             "ticks": ""
            },
            "colorscale": [
             [
              0,
              "#0d0887"
             ],
             [
              0.1111111111111111,
              "#46039f"
             ],
             [
              0.2222222222222222,
              "#7201a8"
             ],
             [
              0.3333333333333333,
              "#9c179e"
             ],
             [
              0.4444444444444444,
              "#bd3786"
             ],
             [
              0.5555555555555556,
              "#d8576b"
             ],
             [
              0.6666666666666666,
              "#ed7953"
             ],
             [
              0.7777777777777778,
              "#fb9f3a"
             ],
             [
              0.8888888888888888,
              "#fdca26"
             ],
             [
              1,
              "#f0f921"
             ]
            ],
            "type": "contour"
           }
          ],
          "contourcarpet": [
           {
            "colorbar": {
             "outlinewidth": 0,
             "ticks": ""
            },
            "type": "contourcarpet"
           }
          ],
          "heatmap": [
           {
            "colorbar": {
             "outlinewidth": 0,
             "ticks": ""
            },
            "colorscale": [
             [
              0,
              "#0d0887"
             ],
             [
              0.1111111111111111,
              "#46039f"
             ],
             [
              0.2222222222222222,
              "#7201a8"
             ],
             [
              0.3333333333333333,
              "#9c179e"
             ],
             [
              0.4444444444444444,
              "#bd3786"
             ],
             [
              0.5555555555555556,
              "#d8576b"
             ],
             [
              0.6666666666666666,
              "#ed7953"
             ],
             [
              0.7777777777777778,
              "#fb9f3a"
             ],
             [
              0.8888888888888888,
              "#fdca26"
             ],
             [
              1,
              "#f0f921"
             ]
            ],
            "type": "heatmap"
           }
          ],
          "heatmapgl": [
           {
            "colorbar": {
             "outlinewidth": 0,
             "ticks": ""
            },
            "colorscale": [
             [
              0,
              "#0d0887"
             ],
             [
              0.1111111111111111,
              "#46039f"
             ],
             [
              0.2222222222222222,
              "#7201a8"
             ],
             [
              0.3333333333333333,
              "#9c179e"
             ],
             [
              0.4444444444444444,
              "#bd3786"
             ],
             [
              0.5555555555555556,
              "#d8576b"
             ],
             [
              0.6666666666666666,
              "#ed7953"
             ],
             [
              0.7777777777777778,
              "#fb9f3a"
             ],
             [
              0.8888888888888888,
              "#fdca26"
             ],
             [
              1,
              "#f0f921"
             ]
            ],
            "type": "heatmapgl"
           }
          ],
          "histogram": [
           {
            "marker": {
             "pattern": {
              "fillmode": "overlay",
              "size": 10,
              "solidity": 0.2
             }
            },
            "type": "histogram"
           }
          ],
          "histogram2d": [
           {
            "colorbar": {
             "outlinewidth": 0,
             "ticks": ""
            },
            "colorscale": [
             [
              0,
              "#0d0887"
             ],
             [
              0.1111111111111111,
              "#46039f"
             ],
             [
              0.2222222222222222,
              "#7201a8"
             ],
             [
              0.3333333333333333,
              "#9c179e"
             ],
             [
              0.4444444444444444,
              "#bd3786"
             ],
             [
              0.5555555555555556,
              "#d8576b"
             ],
             [
              0.6666666666666666,
              "#ed7953"
             ],
             [
              0.7777777777777778,
              "#fb9f3a"
             ],
             [
              0.8888888888888888,
              "#fdca26"
             ],
             [
              1,
              "#f0f921"
             ]
            ],
            "type": "histogram2d"
           }
          ],
          "histogram2dcontour": [
           {
            "colorbar": {
             "outlinewidth": 0,
             "ticks": ""
            },
            "colorscale": [
             [
              0,
              "#0d0887"
             ],
             [
              0.1111111111111111,
              "#46039f"
             ],
             [
              0.2222222222222222,
              "#7201a8"
             ],
             [
              0.3333333333333333,
              "#9c179e"
             ],
             [
              0.4444444444444444,
              "#bd3786"
             ],
             [
              0.5555555555555556,
              "#d8576b"
             ],
             [
              0.6666666666666666,
              "#ed7953"
             ],
             [
              0.7777777777777778,
              "#fb9f3a"
             ],
             [
              0.8888888888888888,
              "#fdca26"
             ],
             [
              1,
              "#f0f921"
             ]
            ],
            "type": "histogram2dcontour"
           }
          ],
          "mesh3d": [
           {
            "colorbar": {
             "outlinewidth": 0,
             "ticks": ""
            },
            "type": "mesh3d"
           }
          ],
          "parcoords": [
           {
            "line": {
             "colorbar": {
              "outlinewidth": 0,
              "ticks": ""
             }
            },
            "type": "parcoords"
           }
          ],
          "pie": [
           {
            "automargin": true,
            "type": "pie"
           }
          ],
          "scatter": [
           {
            "marker": {
             "colorbar": {
              "outlinewidth": 0,
              "ticks": ""
             }
            },
            "type": "scatter"
           }
          ],
          "scatter3d": [
           {
            "line": {
             "colorbar": {
              "outlinewidth": 0,
              "ticks": ""
             }
            },
            "marker": {
             "colorbar": {
              "outlinewidth": 0,
              "ticks": ""
             }
            },
            "type": "scatter3d"
           }
          ],
          "scattercarpet": [
           {
            "marker": {
             "colorbar": {
              "outlinewidth": 0,
              "ticks": ""
             }
            },
            "type": "scattercarpet"
           }
          ],
          "scattergeo": [
           {
            "marker": {
             "colorbar": {
              "outlinewidth": 0,
              "ticks": ""
             }
            },
            "type": "scattergeo"
           }
          ],
          "scattergl": [
           {
            "marker": {
             "colorbar": {
              "outlinewidth": 0,
              "ticks": ""
             }
            },
            "type": "scattergl"
           }
          ],
          "scattermapbox": [
           {
            "marker": {
             "colorbar": {
              "outlinewidth": 0,
              "ticks": ""
             }
            },
            "type": "scattermapbox"
           }
          ],
          "scatterpolar": [
           {
            "marker": {
             "colorbar": {
              "outlinewidth": 0,
              "ticks": ""
             }
            },
            "type": "scatterpolar"
           }
          ],
          "scatterpolargl": [
           {
            "marker": {
             "colorbar": {
              "outlinewidth": 0,
              "ticks": ""
             }
            },
            "type": "scatterpolargl"
           }
          ],
          "scatterternary": [
           {
            "marker": {
             "colorbar": {
              "outlinewidth": 0,
              "ticks": ""
             }
            },
            "type": "scatterternary"
           }
          ],
          "surface": [
           {
            "colorbar": {
             "outlinewidth": 0,
             "ticks": ""
            },
            "colorscale": [
             [
              0,
              "#0d0887"
             ],
             [
              0.1111111111111111,
              "#46039f"
             ],
             [
              0.2222222222222222,
              "#7201a8"
             ],
             [
              0.3333333333333333,
              "#9c179e"
             ],
             [
              0.4444444444444444,
              "#bd3786"
             ],
             [
              0.5555555555555556,
              "#d8576b"
             ],
             [
              0.6666666666666666,
              "#ed7953"
             ],
             [
              0.7777777777777778,
              "#fb9f3a"
             ],
             [
              0.8888888888888888,
              "#fdca26"
             ],
             [
              1,
              "#f0f921"
             ]
            ],
            "type": "surface"
           }
          ],
          "table": [
           {
            "cells": {
             "fill": {
              "color": "#EBF0F8"
             },
             "line": {
              "color": "white"
             }
            },
            "header": {
             "fill": {
              "color": "#C8D4E3"
             },
             "line": {
              "color": "white"
             }
            },
            "type": "table"
           }
          ]
         },
         "layout": {
          "annotationdefaults": {
           "arrowcolor": "#2a3f5f",
           "arrowhead": 0,
           "arrowwidth": 1
          },
          "autotypenumbers": "strict",
          "coloraxis": {
           "colorbar": {
            "outlinewidth": 0,
            "ticks": ""
           }
          },
          "colorscale": {
           "diverging": [
            [
             0,
             "#8e0152"
            ],
            [
             0.1,
             "#c51b7d"
            ],
            [
             0.2,
             "#de77ae"
            ],
            [
             0.3,
             "#f1b6da"
            ],
            [
             0.4,
             "#fde0ef"
            ],
            [
             0.5,
             "#f7f7f7"
            ],
            [
             0.6,
             "#e6f5d0"
            ],
            [
             0.7,
             "#b8e186"
            ],
            [
             0.8,
             "#7fbc41"
            ],
            [
             0.9,
             "#4d9221"
            ],
            [
             1,
             "#276419"
            ]
           ],
           "sequential": [
            [
             0,
             "#0d0887"
            ],
            [
             0.1111111111111111,
             "#46039f"
            ],
            [
             0.2222222222222222,
             "#7201a8"
            ],
            [
             0.3333333333333333,
             "#9c179e"
            ],
            [
             0.4444444444444444,
             "#bd3786"
            ],
            [
             0.5555555555555556,
             "#d8576b"
            ],
            [
             0.6666666666666666,
             "#ed7953"
            ],
            [
             0.7777777777777778,
             "#fb9f3a"
            ],
            [
             0.8888888888888888,
             "#fdca26"
            ],
            [
             1,
             "#f0f921"
            ]
           ],
           "sequentialminus": [
            [
             0,
             "#0d0887"
            ],
            [
             0.1111111111111111,
             "#46039f"
            ],
            [
             0.2222222222222222,
             "#7201a8"
            ],
            [
             0.3333333333333333,
             "#9c179e"
            ],
            [
             0.4444444444444444,
             "#bd3786"
            ],
            [
             0.5555555555555556,
             "#d8576b"
            ],
            [
             0.6666666666666666,
             "#ed7953"
            ],
            [
             0.7777777777777778,
             "#fb9f3a"
            ],
            [
             0.8888888888888888,
             "#fdca26"
            ],
            [
             1,
             "#f0f921"
            ]
           ]
          },
          "colorway": [
           "#636efa",
           "#EF553B",
           "#00cc96",
           "#ab63fa",
           "#FFA15A",
           "#19d3f3",
           "#FF6692",
           "#B6E880",
           "#FF97FF",
           "#FECB52"
          ],
          "font": {
           "color": "#2a3f5f"
          },
          "geo": {
           "bgcolor": "white",
           "lakecolor": "white",
           "landcolor": "#E5ECF6",
           "showlakes": true,
           "showland": true,
           "subunitcolor": "white"
          },
          "hoverlabel": {
           "align": "left"
          },
          "hovermode": "closest",
          "mapbox": {
           "style": "light"
          },
          "paper_bgcolor": "white",
          "plot_bgcolor": "#E5ECF6",
          "polar": {
           "angularaxis": {
            "gridcolor": "white",
            "linecolor": "white",
            "ticks": ""
           },
           "bgcolor": "#E5ECF6",
           "radialaxis": {
            "gridcolor": "white",
            "linecolor": "white",
            "ticks": ""
           }
          },
          "scene": {
           "xaxis": {
            "backgroundcolor": "#E5ECF6",
            "gridcolor": "white",
            "gridwidth": 2,
            "linecolor": "white",
            "showbackground": true,
            "ticks": "",
            "zerolinecolor": "white"
           },
           "yaxis": {
            "backgroundcolor": "#E5ECF6",
            "gridcolor": "white",
            "gridwidth": 2,
            "linecolor": "white",
            "showbackground": true,
            "ticks": "",
            "zerolinecolor": "white"
           },
           "zaxis": {
            "backgroundcolor": "#E5ECF6",
            "gridcolor": "white",
            "gridwidth": 2,
            "linecolor": "white",
            "showbackground": true,
            "ticks": "",
            "zerolinecolor": "white"
           }
          },
          "shapedefaults": {
           "line": {
            "color": "#2a3f5f"
           }
          },
          "ternary": {
           "aaxis": {
            "gridcolor": "white",
            "linecolor": "white",
            "ticks": ""
           },
           "baxis": {
            "gridcolor": "white",
            "linecolor": "white",
            "ticks": ""
           },
           "bgcolor": "#E5ECF6",
           "caxis": {
            "gridcolor": "white",
            "linecolor": "white",
            "ticks": ""
           }
          },
          "title": {
           "x": 0.05
          },
          "xaxis": {
           "automargin": true,
           "gridcolor": "white",
           "linecolor": "white",
           "ticks": "",
           "title": {
            "standoff": 15
           },
           "zerolinecolor": "white",
           "zerolinewidth": 2
          },
          "yaxis": {
           "automargin": true,
           "gridcolor": "white",
           "linecolor": "white",
           "ticks": "",
           "title": {
            "standoff": 15
           },
           "zerolinecolor": "white",
           "zerolinewidth": 2
          }
         }
        },
        "title": {
         "text": "Типы заведений принадлежащих к сетям общественного питания"
        }
       }
      },
      "text/html": [
       "<div>                            <div id=\"1bc7886a-e0ab-4a59-927e-5425d3ce1c21\" class=\"plotly-graph-div\" style=\"height:525px; width:100%;\"></div>            <script type=\"text/javascript\">                require([\"plotly\"], function(Plotly) {                    window.PLOTLYENV=window.PLOTLYENV || {};                                    if (document.getElementById(\"1bc7886a-e0ab-4a59-927e-5425d3ce1c21\")) {                    Plotly.newPlot(                        \"1bc7886a-e0ab-4a59-927e-5425d3ce1c21\",                        [{\"domain\":{\"x\":[0.0,1.0],\"y\":[0.0,1.0]},\"hovertemplate\":\"object_type=%{label}<br>number=%{value}<extra></extra>\",\"labels\":[\"\\u043a\\u0430\\u0444\\u0435\",\"\\u043f\\u0440\\u0435\\u0434\\u043f\\u0440\\u0438\\u044f\\u0442\\u0438\\u0435 \\u0431\\u044b\\u0441\\u0442\\u0440\\u043e\\u0433\\u043e \\u043e\\u0431\\u0441\\u043b\\u0443\\u0436\\u0438\\u0432\\u0430\\u043d\\u0438\\u044f\",\"\\u0440\\u0435\\u0441\\u0442\\u043e\\u0440\\u0430\\u043d\",\"\\u043c\\u0430\\u0433\\u0430\\u0437\\u0438\\u043d (\\u043e\\u0442\\u0434\\u0435\\u043b \\u043a\\u0443\\u043b\\u0438\\u043d\\u0430\\u0440\\u0438\\u0438)\",\"\\u0437\\u0430\\u043a\\u0443\\u0441\\u043e\\u0447\\u043d\\u0430\\u044f\",\"\\u043a\\u0430\\u0444\\u0435\\u0442\\u0435\\u0440\\u0438\\u0439\",\"\\u0431\\u0430\\u0440\",\"\\u0431\\u0443\\u0444\\u0435\\u0442\",\"\\u0441\\u0442\\u043e\\u043b\\u043e\\u0432\\u0430\\u044f\"],\"legendgroup\":\"\",\"name\":\"\",\"showlegend\":true,\"values\":[1396,788,543,78,56,52,37,11,3],\"type\":\"pie\"}],                        {\"template\":{\"data\":{\"bar\":[{\"error_x\":{\"color\":\"#2a3f5f\"},\"error_y\":{\"color\":\"#2a3f5f\"},\"marker\":{\"line\":{\"color\":\"#E5ECF6\",\"width\":0.5},\"pattern\":{\"fillmode\":\"overlay\",\"size\":10,\"solidity\":0.2}},\"type\":\"bar\"}],\"barpolar\":[{\"marker\":{\"line\":{\"color\":\"#E5ECF6\",\"width\":0.5},\"pattern\":{\"fillmode\":\"overlay\",\"size\":10,\"solidity\":0.2}},\"type\":\"barpolar\"}],\"carpet\":[{\"aaxis\":{\"endlinecolor\":\"#2a3f5f\",\"gridcolor\":\"white\",\"linecolor\":\"white\",\"minorgridcolor\":\"white\",\"startlinecolor\":\"#2a3f5f\"},\"baxis\":{\"endlinecolor\":\"#2a3f5f\",\"gridcolor\":\"white\",\"linecolor\":\"white\",\"minorgridcolor\":\"white\",\"startlinecolor\":\"#2a3f5f\"},\"type\":\"carpet\"}],\"choropleth\":[{\"colorbar\":{\"outlinewidth\":0,\"ticks\":\"\"},\"type\":\"choropleth\"}],\"contour\":[{\"colorbar\":{\"outlinewidth\":0,\"ticks\":\"\"},\"colorscale\":[[0.0,\"#0d0887\"],[0.1111111111111111,\"#46039f\"],[0.2222222222222222,\"#7201a8\"],[0.3333333333333333,\"#9c179e\"],[0.4444444444444444,\"#bd3786\"],[0.5555555555555556,\"#d8576b\"],[0.6666666666666666,\"#ed7953\"],[0.7777777777777778,\"#fb9f3a\"],[0.8888888888888888,\"#fdca26\"],[1.0,\"#f0f921\"]],\"type\":\"contour\"}],\"contourcarpet\":[{\"colorbar\":{\"outlinewidth\":0,\"ticks\":\"\"},\"type\":\"contourcarpet\"}],\"heatmap\":[{\"colorbar\":{\"outlinewidth\":0,\"ticks\":\"\"},\"colorscale\":[[0.0,\"#0d0887\"],[0.1111111111111111,\"#46039f\"],[0.2222222222222222,\"#7201a8\"],[0.3333333333333333,\"#9c179e\"],[0.4444444444444444,\"#bd3786\"],[0.5555555555555556,\"#d8576b\"],[0.6666666666666666,\"#ed7953\"],[0.7777777777777778,\"#fb9f3a\"],[0.8888888888888888,\"#fdca26\"],[1.0,\"#f0f921\"]],\"type\":\"heatmap\"}],\"heatmapgl\":[{\"colorbar\":{\"outlinewidth\":0,\"ticks\":\"\"},\"colorscale\":[[0.0,\"#0d0887\"],[0.1111111111111111,\"#46039f\"],[0.2222222222222222,\"#7201a8\"],[0.3333333333333333,\"#9c179e\"],[0.4444444444444444,\"#bd3786\"],[0.5555555555555556,\"#d8576b\"],[0.6666666666666666,\"#ed7953\"],[0.7777777777777778,\"#fb9f3a\"],[0.8888888888888888,\"#fdca26\"],[1.0,\"#f0f921\"]],\"type\":\"heatmapgl\"}],\"histogram\":[{\"marker\":{\"pattern\":{\"fillmode\":\"overlay\",\"size\":10,\"solidity\":0.2}},\"type\":\"histogram\"}],\"histogram2d\":[{\"colorbar\":{\"outlinewidth\":0,\"ticks\":\"\"},\"colorscale\":[[0.0,\"#0d0887\"],[0.1111111111111111,\"#46039f\"],[0.2222222222222222,\"#7201a8\"],[0.3333333333333333,\"#9c179e\"],[0.4444444444444444,\"#bd3786\"],[0.5555555555555556,\"#d8576b\"],[0.6666666666666666,\"#ed7953\"],[0.7777777777777778,\"#fb9f3a\"],[0.8888888888888888,\"#fdca26\"],[1.0,\"#f0f921\"]],\"type\":\"histogram2d\"}],\"histogram2dcontour\":[{\"colorbar\":{\"outlinewidth\":0,\"ticks\":\"\"},\"colorscale\":[[0.0,\"#0d0887\"],[0.1111111111111111,\"#46039f\"],[0.2222222222222222,\"#7201a8\"],[0.3333333333333333,\"#9c179e\"],[0.4444444444444444,\"#bd3786\"],[0.5555555555555556,\"#d8576b\"],[0.6666666666666666,\"#ed7953\"],[0.7777777777777778,\"#fb9f3a\"],[0.8888888888888888,\"#fdca26\"],[1.0,\"#f0f921\"]],\"type\":\"histogram2dcontour\"}],\"mesh3d\":[{\"colorbar\":{\"outlinewidth\":0,\"ticks\":\"\"},\"type\":\"mesh3d\"}],\"parcoords\":[{\"line\":{\"colorbar\":{\"outlinewidth\":0,\"ticks\":\"\"}},\"type\":\"parcoords\"}],\"pie\":[{\"automargin\":true,\"type\":\"pie\"}],\"scatter\":[{\"marker\":{\"colorbar\":{\"outlinewidth\":0,\"ticks\":\"\"}},\"type\":\"scatter\"}],\"scatter3d\":[{\"line\":{\"colorbar\":{\"outlinewidth\":0,\"ticks\":\"\"}},\"marker\":{\"colorbar\":{\"outlinewidth\":0,\"ticks\":\"\"}},\"type\":\"scatter3d\"}],\"scattercarpet\":[{\"marker\":{\"colorbar\":{\"outlinewidth\":0,\"ticks\":\"\"}},\"type\":\"scattercarpet\"}],\"scattergeo\":[{\"marker\":{\"colorbar\":{\"outlinewidth\":0,\"ticks\":\"\"}},\"type\":\"scattergeo\"}],\"scattergl\":[{\"marker\":{\"colorbar\":{\"outlinewidth\":0,\"ticks\":\"\"}},\"type\":\"scattergl\"}],\"scattermapbox\":[{\"marker\":{\"colorbar\":{\"outlinewidth\":0,\"ticks\":\"\"}},\"type\":\"scattermapbox\"}],\"scatterpolar\":[{\"marker\":{\"colorbar\":{\"outlinewidth\":0,\"ticks\":\"\"}},\"type\":\"scatterpolar\"}],\"scatterpolargl\":[{\"marker\":{\"colorbar\":{\"outlinewidth\":0,\"ticks\":\"\"}},\"type\":\"scatterpolargl\"}],\"scatterternary\":[{\"marker\":{\"colorbar\":{\"outlinewidth\":0,\"ticks\":\"\"}},\"type\":\"scatterternary\"}],\"surface\":[{\"colorbar\":{\"outlinewidth\":0,\"ticks\":\"\"},\"colorscale\":[[0.0,\"#0d0887\"],[0.1111111111111111,\"#46039f\"],[0.2222222222222222,\"#7201a8\"],[0.3333333333333333,\"#9c179e\"],[0.4444444444444444,\"#bd3786\"],[0.5555555555555556,\"#d8576b\"],[0.6666666666666666,\"#ed7953\"],[0.7777777777777778,\"#fb9f3a\"],[0.8888888888888888,\"#fdca26\"],[1.0,\"#f0f921\"]],\"type\":\"surface\"}],\"table\":[{\"cells\":{\"fill\":{\"color\":\"#EBF0F8\"},\"line\":{\"color\":\"white\"}},\"header\":{\"fill\":{\"color\":\"#C8D4E3\"},\"line\":{\"color\":\"white\"}},\"type\":\"table\"}]},\"layout\":{\"annotationdefaults\":{\"arrowcolor\":\"#2a3f5f\",\"arrowhead\":0,\"arrowwidth\":1},\"autotypenumbers\":\"strict\",\"coloraxis\":{\"colorbar\":{\"outlinewidth\":0,\"ticks\":\"\"}},\"colorscale\":{\"diverging\":[[0,\"#8e0152\"],[0.1,\"#c51b7d\"],[0.2,\"#de77ae\"],[0.3,\"#f1b6da\"],[0.4,\"#fde0ef\"],[0.5,\"#f7f7f7\"],[0.6,\"#e6f5d0\"],[0.7,\"#b8e186\"],[0.8,\"#7fbc41\"],[0.9,\"#4d9221\"],[1,\"#276419\"]],\"sequential\":[[0.0,\"#0d0887\"],[0.1111111111111111,\"#46039f\"],[0.2222222222222222,\"#7201a8\"],[0.3333333333333333,\"#9c179e\"],[0.4444444444444444,\"#bd3786\"],[0.5555555555555556,\"#d8576b\"],[0.6666666666666666,\"#ed7953\"],[0.7777777777777778,\"#fb9f3a\"],[0.8888888888888888,\"#fdca26\"],[1.0,\"#f0f921\"]],\"sequentialminus\":[[0.0,\"#0d0887\"],[0.1111111111111111,\"#46039f\"],[0.2222222222222222,\"#7201a8\"],[0.3333333333333333,\"#9c179e\"],[0.4444444444444444,\"#bd3786\"],[0.5555555555555556,\"#d8576b\"],[0.6666666666666666,\"#ed7953\"],[0.7777777777777778,\"#fb9f3a\"],[0.8888888888888888,\"#fdca26\"],[1.0,\"#f0f921\"]]},\"colorway\":[\"#636efa\",\"#EF553B\",\"#00cc96\",\"#ab63fa\",\"#FFA15A\",\"#19d3f3\",\"#FF6692\",\"#B6E880\",\"#FF97FF\",\"#FECB52\"],\"font\":{\"color\":\"#2a3f5f\"},\"geo\":{\"bgcolor\":\"white\",\"lakecolor\":\"white\",\"landcolor\":\"#E5ECF6\",\"showlakes\":true,\"showland\":true,\"subunitcolor\":\"white\"},\"hoverlabel\":{\"align\":\"left\"},\"hovermode\":\"closest\",\"mapbox\":{\"style\":\"light\"},\"paper_bgcolor\":\"white\",\"plot_bgcolor\":\"#E5ECF6\",\"polar\":{\"angularaxis\":{\"gridcolor\":\"white\",\"linecolor\":\"white\",\"ticks\":\"\"},\"bgcolor\":\"#E5ECF6\",\"radialaxis\":{\"gridcolor\":\"white\",\"linecolor\":\"white\",\"ticks\":\"\"}},\"scene\":{\"xaxis\":{\"backgroundcolor\":\"#E5ECF6\",\"gridcolor\":\"white\",\"gridwidth\":2,\"linecolor\":\"white\",\"showbackground\":true,\"ticks\":\"\",\"zerolinecolor\":\"white\"},\"yaxis\":{\"backgroundcolor\":\"#E5ECF6\",\"gridcolor\":\"white\",\"gridwidth\":2,\"linecolor\":\"white\",\"showbackground\":true,\"ticks\":\"\",\"zerolinecolor\":\"white\"},\"zaxis\":{\"backgroundcolor\":\"#E5ECF6\",\"gridcolor\":\"white\",\"gridwidth\":2,\"linecolor\":\"white\",\"showbackground\":true,\"ticks\":\"\",\"zerolinecolor\":\"white\"}},\"shapedefaults\":{\"line\":{\"color\":\"#2a3f5f\"}},\"ternary\":{\"aaxis\":{\"gridcolor\":\"white\",\"linecolor\":\"white\",\"ticks\":\"\"},\"baxis\":{\"gridcolor\":\"white\",\"linecolor\":\"white\",\"ticks\":\"\"},\"bgcolor\":\"#E5ECF6\",\"caxis\":{\"gridcolor\":\"white\",\"linecolor\":\"white\",\"ticks\":\"\"}},\"title\":{\"x\":0.05},\"xaxis\":{\"automargin\":true,\"gridcolor\":\"white\",\"linecolor\":\"white\",\"ticks\":\"\",\"title\":{\"standoff\":15},\"zerolinecolor\":\"white\",\"zerolinewidth\":2},\"yaxis\":{\"automargin\":true,\"gridcolor\":\"white\",\"linecolor\":\"white\",\"ticks\":\"\",\"title\":{\"standoff\":15},\"zerolinecolor\":\"white\",\"zerolinewidth\":2}}},\"legend\":{\"tracegroupgap\":0},\"title\":{\"text\":\"\\u0422\\u0438\\u043f\\u044b \\u0437\\u0430\\u0432\\u0435\\u0434\\u0435\\u043d\\u0438\\u0439 \\u043f\\u0440\\u0438\\u043d\\u0430\\u0434\\u043b\\u0435\\u0436\\u0430\\u0449\\u0438\\u0445 \\u043a \\u0441\\u0435\\u0442\\u044f\\u043c \\u043e\\u0431\\u0449\\u0435\\u0441\\u0442\\u0432\\u0435\\u043d\\u043d\\u043e\\u0433\\u043e \\u043f\\u0438\\u0442\\u0430\\u043d\\u0438\\u044f\"},\"piecolorway\":[\"rgb(51, 19, 23)\",\"rgb(79, 28, 33)\",\"rgb(108, 36, 36)\",\"rgb(135, 47, 32)\",\"rgb(157, 66, 25)\",\"rgb(174, 88, 20)\",\"rgb(188, 111, 19)\",\"rgb(199, 137, 22)\",\"rgb(209, 164, 32)\",\"rgb(217, 192, 44)\",\"rgb(222, 222, 59)\",\"rgb(224, 253, 74)\"]},                        {\"responsive\": true}                    ).then(function(){\n",
       "                            \n",
       "var gd = document.getElementById('1bc7886a-e0ab-4a59-927e-5425d3ce1c21');\n",
       "var x = new MutationObserver(function (mutations, observer) {{\n",
       "        var display = window.getComputedStyle(gd).display;\n",
       "        if (!display || display === 'none') {{\n",
       "            console.log([gd, 'removed!']);\n",
       "            Plotly.purge(gd);\n",
       "            observer.disconnect();\n",
       "        }}\n",
       "}});\n",
       "\n",
       "// Listen for the removal of the full notebook cells\n",
       "var notebookContainer = gd.closest('#notebook-container');\n",
       "if (notebookContainer) {{\n",
       "    x.observe(notebookContainer, {childList: true});\n",
       "}}\n",
       "\n",
       "// Listen for the clearing of the current output cell\n",
       "var outputEl = gd.closest('.output');\n",
       "if (outputEl) {{\n",
       "    x.observe(outputEl, {childList: true});\n",
       "}}\n",
       "\n",
       "                        })                };                });            </script>        </div>"
      ]
     },
     "metadata": {},
     "output_type": "display_data"
    }
   ],
   "source": [
    "name = ['Сетевое заведение', 'Несетевое заведение']\n",
    "\n",
    "fig = px.pie(chain_rests_type_distr,\n",
    "             values='number',\n",
    "             names='object_type',\n",
    "             color_discrete_sequence=px.colors.sequential.solar,\n",
    "            title='Типы заведений принадлежащих к сетям общественного питания')\n",
    "fig.show()"
   ]
  },
  {
   "cell_type": "markdown",
   "id": "45eefb3b",
   "metadata": {},
   "source": [
    "#### Вывод №3\n",
    "Среди сетевых заведений самыми популярными являются следующие типы:\n",
    "\n",
    "    - кафе(47%);\n",
    "    - предприятия быстрого питания(27%);\n",
    "    - рестораны(18%)"
   ]
  },
  {
   "cell_type": "markdown",
   "id": "6bc3c277",
   "metadata": {},
   "source": [
    "### Исследование взаимосвязи числа посадочных мест и количества заведений в составе сети\n",
    "\n",
    "Что характерно для сетевых заведений: много заведений с небольшим числом посадочных мест в каждом или мало заведений с большим количеством посадочных мест?"
   ]
  },
  {
   "cell_type": "code",
   "execution_count": 78,
   "id": "f0591e5a",
   "metadata": {},
   "outputs": [
    {
     "data": {
      "text/html": [
       "<div>\n",
       "<style scoped>\n",
       "    .dataframe tbody tr th:only-of-type {\n",
       "        vertical-align: middle;\n",
       "    }\n",
       "\n",
       "    .dataframe tbody tr th {\n",
       "        vertical-align: top;\n",
       "    }\n",
       "\n",
       "    .dataframe thead th {\n",
       "        text-align: right;\n",
       "    }\n",
       "</style>\n",
       "<table border=\"1\" class=\"dataframe\">\n",
       "  <thead>\n",
       "    <tr style=\"text-align: right;\">\n",
       "      <th></th>\n",
       "      <th>object_name</th>\n",
       "      <th>sum_number_of_restraunts</th>\n",
       "      <th>avg_number_of_seats</th>\n",
       "    </tr>\n",
       "  </thead>\n",
       "  <tbody>\n",
       "    <tr>\n",
       "      <th>0</th>\n",
       "      <td>шоколадница</td>\n",
       "      <td>157</td>\n",
       "      <td>50.0</td>\n",
       "    </tr>\n",
       "    <tr>\n",
       "      <th>1</th>\n",
       "      <td>kfc</td>\n",
       "      <td>155</td>\n",
       "      <td>45.0</td>\n",
       "    </tr>\n",
       "    <tr>\n",
       "      <th>2</th>\n",
       "      <td>макдоналдс</td>\n",
       "      <td>150</td>\n",
       "      <td>77.5</td>\n",
       "    </tr>\n",
       "    <tr>\n",
       "      <th>3</th>\n",
       "      <td>бургер кинг</td>\n",
       "      <td>137</td>\n",
       "      <td>45.0</td>\n",
       "    </tr>\n",
       "    <tr>\n",
       "      <th>4</th>\n",
       "      <td>теремок</td>\n",
       "      <td>94</td>\n",
       "      <td>23.0</td>\n",
       "    </tr>\n",
       "  </tbody>\n",
       "</table>\n",
       "</div>"
      ],
      "text/plain": [
       "   object_name  sum_number_of_restraunts  avg_number_of_seats\n",
       "0  шоколадница                       157                 50.0\n",
       "1          kfc                       155                 45.0\n",
       "2   макдоналдс                       150                 77.5\n",
       "3  бургер кинг                       137                 45.0\n",
       "4      теремок                        94                 23.0"
      ]
     },
     "execution_count": 78,
     "metadata": {},
     "output_type": "execute_result"
    }
   ],
   "source": [
    "pivot_table_1 = (\n",
    "    data.query('chain == \"да\"')\n",
    "    .groupby('object_name')\n",
    "    .agg({'id':'count','number':'median'})\n",
    "    .rename(columns={'id':'sum_number_of_restraunts','number':'avg_number_of_seats'})\n",
    "    .query('sum_number_of_restraunts > 1')\n",
    "    .sort_values(by='sum_number_of_restraunts', ascending=False)\n",
    "    .reset_index()\n",
    ")\n",
    "pivot_table_1.head()"
   ]
  },
  {
   "cell_type": "code",
   "execution_count": 79,
   "id": "24ba0488",
   "metadata": {},
   "outputs": [
    {
     "name": "stdout",
     "output_type": "stream",
     "text": [
      "Среднее число посадочных мест в сетевых заведениях 44.25\n"
     ]
    },
    {
     "data": {
      "image/png": "[encoded data removed]",
      "text/plain": [
       "<Figure size 864x864 with 3 Axes>"
      ]
     },
     "metadata": {},
     "output_type": "display_data"
    }
   ],
   "source": [
    "# построение точечной диаграммы\n",
    "plot = sns.jointplot(\n",
    "    x='sum_number_of_restraunts', \n",
    "    y='avg_number_of_seats',\n",
    "    kind='scatter',\n",
    "    data=pivot_table_1,\n",
    "    height = 12,\n",
    "    color='#672F09'\n",
    "\n",
    "    )\n",
    "# линия, отражающая среднее значение кол-ва посадочных мест по всем объектам данных\n",
    "avg_seats = pivot_table_1['avg_number_of_seats'].median()\n",
    "print('Среднее число посадочных мест в сетевых заведениях', avg_seats)\n",
    "plot.ax_joint.axhline(y=avg_seats, color='red');\n"
   ]
  },
  {
   "cell_type": "markdown",
   "id": "252fa821",
   "metadata": {},
   "source": [
    "#### Вывод №4\n",
    "Для сетевых заведений характерно небольшое число ресторанов (2-10) c числом посадочных мест около 45. "
   ]
  },
  {
   "cell_type": "markdown",
   "id": "890a30de",
   "metadata": {},
   "source": [
    "### Исследование взаимосвязи вида объекта общественного питания и среднего количества посадочных мест\n",
    "\n",
    "Для каждого вида объекта общественного питания опишите среднее количество посадочных мест. Какой вид предоставляет в среднем самое большое количество посадочных мест? "
   ]
  },
  {
   "cell_type": "code",
   "execution_count": 80,
   "id": "386ed6ef",
   "metadata": {},
   "outputs": [
    {
     "data": {
      "text/html": [
       "<div>\n",
       "<style scoped>\n",
       "    .dataframe tbody tr th:only-of-type {\n",
       "        vertical-align: middle;\n",
       "    }\n",
       "\n",
       "    .dataframe tbody tr th {\n",
       "        vertical-align: top;\n",
       "    }\n",
       "\n",
       "    .dataframe thead th {\n",
       "        text-align: right;\n",
       "    }\n",
       "</style>\n",
       "<table border=\"1\" class=\"dataframe\">\n",
       "  <thead>\n",
       "    <tr style=\"text-align: right;\">\n",
       "      <th></th>\n",
       "      <th>object_type</th>\n",
       "      <th>avg_number_of_seats</th>\n",
       "    </tr>\n",
       "  </thead>\n",
       "  <tbody>\n",
       "    <tr>\n",
       "      <th>0</th>\n",
       "      <td>столовая</td>\n",
       "      <td>103</td>\n",
       "    </tr>\n",
       "    <tr>\n",
       "      <th>1</th>\n",
       "      <td>ресторан</td>\n",
       "      <td>80</td>\n",
       "    </tr>\n",
       "    <tr>\n",
       "      <th>2</th>\n",
       "      <td>бар</td>\n",
       "      <td>35</td>\n",
       "    </tr>\n",
       "    <tr>\n",
       "      <th>3</th>\n",
       "      <td>буфет</td>\n",
       "      <td>32</td>\n",
       "    </tr>\n",
       "    <tr>\n",
       "      <th>4</th>\n",
       "      <td>кафе</td>\n",
       "      <td>30</td>\n",
       "    </tr>\n",
       "  </tbody>\n",
       "</table>\n",
       "</div>"
      ],
      "text/plain": [
       "  object_type  avg_number_of_seats\n",
       "0    столовая                  103\n",
       "1    ресторан                   80\n",
       "2         бар                   35\n",
       "3       буфет                   32\n",
       "4        кафе                   30"
      ]
     },
     "execution_count": 80,
     "metadata": {},
     "output_type": "execute_result"
    }
   ],
   "source": [
    "pivot_table_2 = (\n",
    "    data.groupby('object_type')\n",
    "    .agg({'number':'median'})\n",
    "    .rename(columns={'number':'avg_number_of_seats'})\n",
    "    .sort_values(by='avg_number_of_seats', ascending=False)\n",
    "    .reset_index()\n",
    ")\n",
    "pivot_table_2.head()"
   ]
  },
  {
   "cell_type": "code",
   "execution_count": 81,
   "id": "433b5fcd",
   "metadata": {
    "scrolled": true
   },
   "outputs": [
    {
     "data": {
      "application/vnd.plotly.v1+json": {
       "config": {
        "plotlyServerURL": "https://plot.ly"
       },
       "data": [
        {
         "domain": {
          "x": [
           0,
           1
          ],
          "y": [
           0,
           1
          ]
         },
         "hovertemplate": "object_type=%{label}<br>avg_number_of_seats=%{value}<extra></extra>",
         "labels": [
          "столовая",
          "ресторан",
          "бар",
          "буфет",
          "кафе",
          "кафетерий",
          "предприятие быстрого обслуживания",
          "закусочная",
          "магазин (отдел кулинарии)"
         ],
         "legendgroup": "",
         "name": "",
         "showlegend": true,
         "type": "pie",
         "values": [
          103,
          80,
          35,
          32,
          30,
          6,
          6,
          0,
          0
         ]
        }
       ],
       "layout": {
        "legend": {
         "tracegroupgap": 0
        },
        "piecolorway": [
         "rgb(51, 19, 23)",
         "rgb(79, 28, 33)",
         "rgb(108, 36, 36)",
         "rgb(135, 47, 32)",
         "rgb(157, 66, 25)",
         "rgb(174, 88, 20)",
         "rgb(188, 111, 19)",
         "rgb(199, 137, 22)",
         "rgb(209, 164, 32)",
         "rgb(217, 192, 44)",
         "rgb(222, 222, 59)",
         "rgb(224, 253, 74)"
        ],
        "template": {
         "data": {
          "bar": [
           {
            "error_x": {
             "color": "#2a3f5f"
            },
            "error_y": {
             "color": "#2a3f5f"
            },
            "marker": {
             "line": {
              "color": "#E5ECF6",
              "width": 0.5
             },
             "pattern": {
              "fillmode": "overlay",
              "size": 10,
              "solidity": 0.2
             }
            },
            "type": "bar"
           }
          ],
          "barpolar": [
           {
            "marker": {
             "line": {
              "color": "#E5ECF6",
              "width": 0.5
             },
             "pattern": {
              "fillmode": "overlay",
              "size": 10,
              "solidity": 0.2
             }
            },
            "type": "barpolar"
           }
          ],
          "carpet": [
           {
            "aaxis": {
             "endlinecolor": "#2a3f5f",
             "gridcolor": "white",
             "linecolor": "white",
             "minorgridcolor": "white",
             "startlinecolor": "#2a3f5f"
            },
            "baxis": {
             "endlinecolor": "#2a3f5f",
             "gridcolor": "white",
             "linecolor": "white",
             "minorgridcolor": "white",
             "startlinecolor": "#2a3f5f"
            },
            "type": "carpet"
           }
          ],
          "choropleth": [
           {
            "colorbar": {
             "outlinewidth": 0,
             "ticks": ""
            },
            "type": "choropleth"
           }
          ],
          "contour": [
           {
            "colorbar": {
             "outlinewidth": 0,
             "ticks": ""
            },
            "colorscale": [
             [
              0,
              "#0d0887"
             ],
             [
              0.1111111111111111,
              "#46039f"
             ],
             [
              0.2222222222222222,
              "#7201a8"
             ],
             [
              0.3333333333333333,
              "#9c179e"
             ],
             [
              0.4444444444444444,
              "#bd3786"
             ],
             [
              0.5555555555555556,
              "#d8576b"
             ],
             [
              0.6666666666666666,
              "#ed7953"
             ],
             [
              0.7777777777777778,
              "#fb9f3a"
             ],
             [
              0.8888888888888888,
              "#fdca26"
             ],
             [
              1,
              "#f0f921"
             ]
            ],
            "type": "contour"
           }
          ],
          "contourcarpet": [
           {
            "colorbar": {
             "outlinewidth": 0,
             "ticks": ""
            },
            "type": "contourcarpet"
           }
          ],
          "heatmap": [
           {
            "colorbar": {
             "outlinewidth": 0,
             "ticks": ""
            },
            "colorscale": [
             [
              0,
              "#0d0887"
             ],
             [
              0.1111111111111111,
              "#46039f"
             ],
             [
              0.2222222222222222,
              "#7201a8"
             ],
             [
              0.3333333333333333,
              "#9c179e"
             ],
             [
              0.4444444444444444,
              "#bd3786"
             ],
             [
              0.5555555555555556,
              "#d8576b"
             ],
             [
              0.6666666666666666,
              "#ed7953"
             ],
             [
              0.7777777777777778,
              "#fb9f3a"
             ],
             [
              0.8888888888888888,
              "#fdca26"
             ],
             [
              1,
              "#f0f921"
             ]
            ],
            "type": "heatmap"
           }
          ],
          "heatmapgl": [
           {
            "colorbar": {
             "outlinewidth": 0,
             "ticks": ""
            },
            "colorscale": [
             [
              0,
              "#0d0887"
             ],
             [
              0.1111111111111111,
              "#46039f"
             ],
             [
              0.2222222222222222,
              "#7201a8"
             ],
             [
              0.3333333333333333,
              "#9c179e"
             ],
             [
              0.4444444444444444,
              "#bd3786"
             ],
             [
              0.5555555555555556,
              "#d8576b"
             ],
             [
              0.6666666666666666,
              "#ed7953"
             ],
             [
              0.7777777777777778,
              "#fb9f3a"
             ],
             [
              0.8888888888888888,
              "#fdca26"
             ],
             [
              1,
              "#f0f921"
             ]
            ],
            "type": "heatmapgl"
           }
          ],
          "histogram": [
           {
            "marker": {
             "pattern": {
              "fillmode": "overlay",
              "size": 10,
              "solidity": 0.2
             }
            },
            "type": "histogram"
           }
          ],
          "histogram2d": [
           {
            "colorbar": {
             "outlinewidth": 0,
             "ticks": ""
            },
            "colorscale": [
             [
              0,
              "#0d0887"
             ],
             [
              0.1111111111111111,
              "#46039f"
             ],
             [
              0.2222222222222222,
              "#7201a8"
             ],
             [
              0.3333333333333333,
              "#9c179e"
             ],
             [
              0.4444444444444444,
              "#bd3786"
             ],
             [
              0.5555555555555556,
              "#d8576b"
             ],
             [
              0.6666666666666666,
              "#ed7953"
             ],
             [
              0.7777777777777778,
              "#fb9f3a"
             ],
             [
              0.8888888888888888,
              "#fdca26"
             ],
             [
              1,
              "#f0f921"
             ]
            ],
            "type": "histogram2d"
           }
          ],
          "histogram2dcontour": [
           {
            "colorbar": {
             "outlinewidth": 0,
             "ticks": ""
            },
            "colorscale": [
             [
              0,
              "#0d0887"
             ],
             [
              0.1111111111111111,
              "#46039f"
             ],
             [
              0.2222222222222222,
              "#7201a8"
             ],
             [
              0.3333333333333333,
              "#9c179e"
             ],
             [
              0.4444444444444444,
              "#bd3786"
             ],
             [
              0.5555555555555556,
              "#d8576b"
             ],
             [
              0.6666666666666666,
              "#ed7953"
             ],
             [
              0.7777777777777778,
              "#fb9f3a"
             ],
             [
              0.8888888888888888,
              "#fdca26"
             ],
             [
              1,
              "#f0f921"
             ]
            ],
            "type": "histogram2dcontour"
           }
          ],
          "mesh3d": [
           {
            "colorbar": {
             "outlinewidth": 0,
             "ticks": ""
            },
            "type": "mesh3d"
           }
          ],
          "parcoords": [
           {
            "line": {
             "colorbar": {
              "outlinewidth": 0,
              "ticks": ""
             }
            },
            "type": "parcoords"
           }
          ],
          "pie": [
           {
            "automargin": true,
            "type": "pie"
           }
          ],
          "scatter": [
           {
            "marker": {
             "colorbar": {
              "outlinewidth": 0,
              "ticks": ""
             }
            },
            "type": "scatter"
           }
          ],
          "scatter3d": [
           {
            "line": {
             "colorbar": {
              "outlinewidth": 0,
              "ticks": ""
             }
            },
            "marker": {
             "colorbar": {
              "outlinewidth": 0,
              "ticks": ""
             }
            },
            "type": "scatter3d"
           }
          ],
          "scattercarpet": [
           {
            "marker": {
             "colorbar": {
              "outlinewidth": 0,
              "ticks": ""
             }
            },
            "type": "scattercarpet"
           }
          ],
          "scattergeo": [
           {
            "marker": {
             "colorbar": {
              "outlinewidth": 0,
              "ticks": ""
             }
            },
            "type": "scattergeo"
           }
          ],
          "scattergl": [
           {
            "marker": {
             "colorbar": {
              "outlinewidth": 0,
              "ticks": ""
             }
            },
            "type": "scattergl"
           }
          ],
          "scattermapbox": [
           {
            "marker": {
             "colorbar": {
              "outlinewidth": 0,
              "ticks": ""
             }
            },
            "type": "scattermapbox"
           }
          ],
          "scatterpolar": [
           {
            "marker": {
             "colorbar": {
              "outlinewidth": 0,
              "ticks": ""
             }
            },
            "type": "scatterpolar"
           }
          ],
          "scatterpolargl": [
           {
            "marker": {
             "colorbar": {
              "outlinewidth": 0,
              "ticks": ""
             }
            },
            "type": "scatterpolargl"
           }
          ],
          "scatterternary": [
           {
            "marker": {
             "colorbar": {
              "outlinewidth": 0,
              "ticks": ""
             }
            },
            "type": "scatterternary"
           }
          ],
          "surface": [
           {
            "colorbar": {
             "outlinewidth": 0,
             "ticks": ""
            },
            "colorscale": [
             [
              0,
              "#0d0887"
             ],
             [
              0.1111111111111111,
              "#46039f"
             ],
             [
              0.2222222222222222,
              "#7201a8"
             ],
             [
              0.3333333333333333,
              "#9c179e"
             ],
             [
              0.4444444444444444,
              "#bd3786"
             ],
             [
              0.5555555555555556,
              "#d8576b"
             ],
             [
              0.6666666666666666,
              "#ed7953"
             ],
             [
              0.7777777777777778,
              "#fb9f3a"
             ],
             [
              0.8888888888888888,
              "#fdca26"
             ],
             [
              1,
              "#f0f921"
             ]
            ],
            "type": "surface"
           }
          ],
          "table": [
           {
            "cells": {
             "fill": {
              "color": "#EBF0F8"
             },
             "line": {
              "color": "white"
             }
            },
            "header": {
             "fill": {
              "color": "#C8D4E3"
             },
             "line": {
              "color": "white"
             }
            },
            "type": "table"
           }
          ]
         },
         "layout": {
          "annotationdefaults": {
           "arrowcolor": "#2a3f5f",
           "arrowhead": 0,
           "arrowwidth": 1
          },
          "autotypenumbers": "strict",
          "coloraxis": {
           "colorbar": {
            "outlinewidth": 0,
            "ticks": ""
           }
          },
          "colorscale": {
           "diverging": [
            [
             0,
             "#8e0152"
            ],
            [
             0.1,
             "#c51b7d"
            ],
            [
             0.2,
             "#de77ae"
            ],
            [
             0.3,
             "#f1b6da"
            ],
            [
             0.4,
             "#fde0ef"
            ],
            [
             0.5,
             "#f7f7f7"
            ],
            [
             0.6,
             "#e6f5d0"
            ],
            [
             0.7,
             "#b8e186"
            ],
            [
             0.8,
             "#7fbc41"
            ],
            [
             0.9,
             "#4d9221"
            ],
            [
             1,
             "#276419"
            ]
           ],
           "sequential": [
            [
             0,
             "#0d0887"
            ],
            [
             0.1111111111111111,
             "#46039f"
            ],
            [
             0.2222222222222222,
             "#7201a8"
            ],
            [
             0.3333333333333333,
             "#9c179e"
            ],
            [
             0.4444444444444444,
             "#bd3786"
            ],
            [
             0.5555555555555556,
             "#d8576b"
            ],
            [
             0.6666666666666666,
             "#ed7953"
            ],
            [
             0.7777777777777778,
             "#fb9f3a"
            ],
            [
             0.8888888888888888,
             "#fdca26"
            ],
            [
             1,
             "#f0f921"
            ]
           ],
           "sequentialminus": [
            [
             0,
             "#0d0887"
            ],
            [
             0.1111111111111111,
             "#46039f"
            ],
            [
             0.2222222222222222,
             "#7201a8"
            ],
            [
             0.3333333333333333,
             "#9c179e"
            ],
            [
             0.4444444444444444,
             "#bd3786"
            ],
            [
             0.5555555555555556,
             "#d8576b"
            ],
            [
             0.6666666666666666,
             "#ed7953"
            ],
            [
             0.7777777777777778,
             "#fb9f3a"
            ],
            [
             0.8888888888888888,
             "#fdca26"
            ],
            [
             1,
             "#f0f921"
            ]
           ]
          },
          "colorway": [
           "#636efa",
           "#EF553B",
           "#00cc96",
           "#ab63fa",
           "#FFA15A",
           "#19d3f3",
           "#FF6692",
           "#B6E880",
           "#FF97FF",
           "#FECB52"
          ],
          "font": {
           "color": "#2a3f5f"
          },
          "geo": {
           "bgcolor": "white",
           "lakecolor": "white",
           "landcolor": "#E5ECF6",
           "showlakes": true,
           "showland": true,
           "subunitcolor": "white"
          },
          "hoverlabel": {
           "align": "left"
          },
          "hovermode": "closest",
          "mapbox": {
           "style": "light"
          },
          "paper_bgcolor": "white",
          "plot_bgcolor": "#E5ECF6",
          "polar": {
           "angularaxis": {
            "gridcolor": "white",
            "linecolor": "white",
            "ticks": ""
           },
           "bgcolor": "#E5ECF6",
           "radialaxis": {
            "gridcolor": "white",
            "linecolor": "white",
            "ticks": ""
           }
          },
          "scene": {
           "xaxis": {
            "backgroundcolor": "#E5ECF6",
            "gridcolor": "white",
            "gridwidth": 2,
            "linecolor": "white",
            "showbackground": true,
            "ticks": "",
            "zerolinecolor": "white"
           },
           "yaxis": {
            "backgroundcolor": "#E5ECF6",
            "gridcolor": "white",
            "gridwidth": 2,
            "linecolor": "white",
            "showbackground": true,
            "ticks": "",
            "zerolinecolor": "white"
           },
           "zaxis": {
            "backgroundcolor": "#E5ECF6",
            "gridcolor": "white",
            "gridwidth": 2,
            "linecolor": "white",
            "showbackground": true,
            "ticks": "",
            "zerolinecolor": "white"
           }
          },
          "shapedefaults": {
           "line": {
            "color": "#2a3f5f"
           }
          },
          "ternary": {
           "aaxis": {
            "gridcolor": "white",
            "linecolor": "white",
            "ticks": ""
           },
           "baxis": {
            "gridcolor": "white",
            "linecolor": "white",
            "ticks": ""
           },
           "bgcolor": "#E5ECF6",
           "caxis": {
            "gridcolor": "white",
            "linecolor": "white",
            "ticks": ""
           }
          },
          "title": {
           "x": 0.05
          },
          "xaxis": {
           "automargin": true,
           "gridcolor": "white",
           "linecolor": "white",
           "ticks": "",
           "title": {
            "standoff": 15
           },
           "zerolinecolor": "white",
           "zerolinewidth": 2
          },
          "yaxis": {
           "automargin": true,
           "gridcolor": "white",
           "linecolor": "white",
           "ticks": "",
           "title": {
            "standoff": 15
           },
           "zerolinecolor": "white",
           "zerolinewidth": 2
          }
         }
        },
        "title": {
         "text": "Кол-во посадочных мест в зависимости от типа заведения"
        }
       }
      },
      "text/html": [
       "<div>                            <div id=\"1f28857f-aec2-4234-9b82-72acfdc0df25\" class=\"plotly-graph-div\" style=\"height:525px; width:100%;\"></div>            <script type=\"text/javascript\">                require([\"plotly\"], function(Plotly) {                    window.PLOTLYENV=window.PLOTLYENV || {};                                    if (document.getElementById(\"1f28857f-aec2-4234-9b82-72acfdc0df25\")) {                    Plotly.newPlot(                        \"1f28857f-aec2-4234-9b82-72acfdc0df25\",                        [{\"domain\":{\"x\":[0.0,1.0],\"y\":[0.0,1.0]},\"hovertemplate\":\"object_type=%{label}<br>avg_number_of_seats=%{value}<extra></extra>\",\"labels\":[\"\\u0441\\u0442\\u043e\\u043b\\u043e\\u0432\\u0430\\u044f\",\"\\u0440\\u0435\\u0441\\u0442\\u043e\\u0440\\u0430\\u043d\",\"\\u0431\\u0430\\u0440\",\"\\u0431\\u0443\\u0444\\u0435\\u0442\",\"\\u043a\\u0430\\u0444\\u0435\",\"\\u043a\\u0430\\u0444\\u0435\\u0442\\u0435\\u0440\\u0438\\u0439\",\"\\u043f\\u0440\\u0435\\u0434\\u043f\\u0440\\u0438\\u044f\\u0442\\u0438\\u0435 \\u0431\\u044b\\u0441\\u0442\\u0440\\u043e\\u0433\\u043e \\u043e\\u0431\\u0441\\u043b\\u0443\\u0436\\u0438\\u0432\\u0430\\u043d\\u0438\\u044f\",\"\\u0437\\u0430\\u043a\\u0443\\u0441\\u043e\\u0447\\u043d\\u0430\\u044f\",\"\\u043c\\u0430\\u0433\\u0430\\u0437\\u0438\\u043d (\\u043e\\u0442\\u0434\\u0435\\u043b \\u043a\\u0443\\u043b\\u0438\\u043d\\u0430\\u0440\\u0438\\u0438)\"],\"legendgroup\":\"\",\"name\":\"\",\"showlegend\":true,\"values\":[103,80,35,32,30,6,6,0,0],\"type\":\"pie\"}],                        {\"template\":{\"data\":{\"bar\":[{\"error_x\":{\"color\":\"#2a3f5f\"},\"error_y\":{\"color\":\"#2a3f5f\"},\"marker\":{\"line\":{\"color\":\"#E5ECF6\",\"width\":0.5},\"pattern\":{\"fillmode\":\"overlay\",\"size\":10,\"solidity\":0.2}},\"type\":\"bar\"}],\"barpolar\":[{\"marker\":{\"line\":{\"color\":\"#E5ECF6\",\"width\":0.5},\"pattern\":{\"fillmode\":\"overlay\",\"size\":10,\"solidity\":0.2}},\"type\":\"barpolar\"}],\"carpet\":[{\"aaxis\":{\"endlinecolor\":\"#2a3f5f\",\"gridcolor\":\"white\",\"linecolor\":\"white\",\"minorgridcolor\":\"white\",\"startlinecolor\":\"#2a3f5f\"},\"baxis\":{\"endlinecolor\":\"#2a3f5f\",\"gridcolor\":\"white\",\"linecolor\":\"white\",\"minorgridcolor\":\"white\",\"startlinecolor\":\"#2a3f5f\"},\"type\":\"carpet\"}],\"choropleth\":[{\"colorbar\":{\"outlinewidth\":0,\"ticks\":\"\"},\"type\":\"choropleth\"}],\"contour\":[{\"colorbar\":{\"outlinewidth\":0,\"ticks\":\"\"},\"colorscale\":[[0.0,\"#0d0887\"],[0.1111111111111111,\"#46039f\"],[0.2222222222222222,\"#7201a8\"],[0.3333333333333333,\"#9c179e\"],[0.4444444444444444,\"#bd3786\"],[0.5555555555555556,\"#d8576b\"],[0.6666666666666666,\"#ed7953\"],[0.7777777777777778,\"#fb9f3a\"],[0.8888888888888888,\"#fdca26\"],[1.0,\"#f0f921\"]],\"type\":\"contour\"}],\"contourcarpet\":[{\"colorbar\":{\"outlinewidth\":0,\"ticks\":\"\"},\"type\":\"contourcarpet\"}],\"heatmap\":[{\"colorbar\":{\"outlinewidth\":0,\"ticks\":\"\"},\"colorscale\":[[0.0,\"#0d0887\"],[0.1111111111111111,\"#46039f\"],[0.2222222222222222,\"#7201a8\"],[0.3333333333333333,\"#9c179e\"],[0.4444444444444444,\"#bd3786\"],[0.5555555555555556,\"#d8576b\"],[0.6666666666666666,\"#ed7953\"],[0.7777777777777778,\"#fb9f3a\"],[0.8888888888888888,\"#fdca26\"],[1.0,\"#f0f921\"]],\"type\":\"heatmap\"}],\"heatmapgl\":[{\"colorbar\":{\"outlinewidth\":0,\"ticks\":\"\"},\"colorscale\":[[0.0,\"#0d0887\"],[0.1111111111111111,\"#46039f\"],[0.2222222222222222,\"#7201a8\"],[0.3333333333333333,\"#9c179e\"],[0.4444444444444444,\"#bd3786\"],[0.5555555555555556,\"#d8576b\"],[0.6666666666666666,\"#ed7953\"],[0.7777777777777778,\"#fb9f3a\"],[0.8888888888888888,\"#fdca26\"],[1.0,\"#f0f921\"]],\"type\":\"heatmapgl\"}],\"histogram\":[{\"marker\":{\"pattern\":{\"fillmode\":\"overlay\",\"size\":10,\"solidity\":0.2}},\"type\":\"histogram\"}],\"histogram2d\":[{\"colorbar\":{\"outlinewidth\":0,\"ticks\":\"\"},\"colorscale\":[[0.0,\"#0d0887\"],[0.1111111111111111,\"#46039f\"],[0.2222222222222222,\"#7201a8\"],[0.3333333333333333,\"#9c179e\"],[0.4444444444444444,\"#bd3786\"],[0.5555555555555556,\"#d8576b\"],[0.6666666666666666,\"#ed7953\"],[0.7777777777777778,\"#fb9f3a\"],[0.8888888888888888,\"#fdca26\"],[1.0,\"#f0f921\"]],\"type\":\"histogram2d\"}],\"histogram2dcontour\":[{\"colorbar\":{\"outlinewidth\":0,\"ticks\":\"\"},\"colorscale\":[[0.0,\"#0d0887\"],[0.1111111111111111,\"#46039f\"],[0.2222222222222222,\"#7201a8\"],[0.3333333333333333,\"#9c179e\"],[0.4444444444444444,\"#bd3786\"],[0.5555555555555556,\"#d8576b\"],[0.6666666666666666,\"#ed7953\"],[0.7777777777777778,\"#fb9f3a\"],[0.8888888888888888,\"#fdca26\"],[1.0,\"#f0f921\"]],\"type\":\"histogram2dcontour\"}],\"mesh3d\":[{\"colorbar\":{\"outlinewidth\":0,\"ticks\":\"\"},\"type\":\"mesh3d\"}],\"parcoords\":[{\"line\":{\"colorbar\":{\"outlinewidth\":0,\"ticks\":\"\"}},\"type\":\"parcoords\"}],\"pie\":[{\"automargin\":true,\"type\":\"pie\"}],\"scatter\":[{\"marker\":{\"colorbar\":{\"outlinewidth\":0,\"ticks\":\"\"}},\"type\":\"scatter\"}],\"scatter3d\":[{\"line\":{\"colorbar\":{\"outlinewidth\":0,\"ticks\":\"\"}},\"marker\":{\"colorbar\":{\"outlinewidth\":0,\"ticks\":\"\"}},\"type\":\"scatter3d\"}],\"scattercarpet\":[{\"marker\":{\"colorbar\":{\"outlinewidth\":0,\"ticks\":\"\"}},\"type\":\"scattercarpet\"}],\"scattergeo\":[{\"marker\":{\"colorbar\":{\"outlinewidth\":0,\"ticks\":\"\"}},\"type\":\"scattergeo\"}],\"scattergl\":[{\"marker\":{\"colorbar\":{\"outlinewidth\":0,\"ticks\":\"\"}},\"type\":\"scattergl\"}],\"scattermapbox\":[{\"marker\":{\"colorbar\":{\"outlinewidth\":0,\"ticks\":\"\"}},\"type\":\"scattermapbox\"}],\"scatterpolar\":[{\"marker\":{\"colorbar\":{\"outlinewidth\":0,\"ticks\":\"\"}},\"type\":\"scatterpolar\"}],\"scatterpolargl\":[{\"marker\":{\"colorbar\":{\"outlinewidth\":0,\"ticks\":\"\"}},\"type\":\"scatterpolargl\"}],\"scatterternary\":[{\"marker\":{\"colorbar\":{\"outlinewidth\":0,\"ticks\":\"\"}},\"type\":\"scatterternary\"}],\"surface\":[{\"colorbar\":{\"outlinewidth\":0,\"ticks\":\"\"},\"colorscale\":[[0.0,\"#0d0887\"],[0.1111111111111111,\"#46039f\"],[0.2222222222222222,\"#7201a8\"],[0.3333333333333333,\"#9c179e\"],[0.4444444444444444,\"#bd3786\"],[0.5555555555555556,\"#d8576b\"],[0.6666666666666666,\"#ed7953\"],[0.7777777777777778,\"#fb9f3a\"],[0.8888888888888888,\"#fdca26\"],[1.0,\"#f0f921\"]],\"type\":\"surface\"}],\"table\":[{\"cells\":{\"fill\":{\"color\":\"#EBF0F8\"},\"line\":{\"color\":\"white\"}},\"header\":{\"fill\":{\"color\":\"#C8D4E3\"},\"line\":{\"color\":\"white\"}},\"type\":\"table\"}]},\"layout\":{\"annotationdefaults\":{\"arrowcolor\":\"#2a3f5f\",\"arrowhead\":0,\"arrowwidth\":1},\"autotypenumbers\":\"strict\",\"coloraxis\":{\"colorbar\":{\"outlinewidth\":0,\"ticks\":\"\"}},\"colorscale\":{\"diverging\":[[0,\"#8e0152\"],[0.1,\"#c51b7d\"],[0.2,\"#de77ae\"],[0.3,\"#f1b6da\"],[0.4,\"#fde0ef\"],[0.5,\"#f7f7f7\"],[0.6,\"#e6f5d0\"],[0.7,\"#b8e186\"],[0.8,\"#7fbc41\"],[0.9,\"#4d9221\"],[1,\"#276419\"]],\"sequential\":[[0.0,\"#0d0887\"],[0.1111111111111111,\"#46039f\"],[0.2222222222222222,\"#7201a8\"],[0.3333333333333333,\"#9c179e\"],[0.4444444444444444,\"#bd3786\"],[0.5555555555555556,\"#d8576b\"],[0.6666666666666666,\"#ed7953\"],[0.7777777777777778,\"#fb9f3a\"],[0.8888888888888888,\"#fdca26\"],[1.0,\"#f0f921\"]],\"sequentialminus\":[[0.0,\"#0d0887\"],[0.1111111111111111,\"#46039f\"],[0.2222222222222222,\"#7201a8\"],[0.3333333333333333,\"#9c179e\"],[0.4444444444444444,\"#bd3786\"],[0.5555555555555556,\"#d8576b\"],[0.6666666666666666,\"#ed7953\"],[0.7777777777777778,\"#fb9f3a\"],[0.8888888888888888,\"#fdca26\"],[1.0,\"#f0f921\"]]},\"colorway\":[\"#636efa\",\"#EF553B\",\"#00cc96\",\"#ab63fa\",\"#FFA15A\",\"#19d3f3\",\"#FF6692\",\"#B6E880\",\"#FF97FF\",\"#FECB52\"],\"font\":{\"color\":\"#2a3f5f\"},\"geo\":{\"bgcolor\":\"white\",\"lakecolor\":\"white\",\"landcolor\":\"#E5ECF6\",\"showlakes\":true,\"showland\":true,\"subunitcolor\":\"white\"},\"hoverlabel\":{\"align\":\"left\"},\"hovermode\":\"closest\",\"mapbox\":{\"style\":\"light\"},\"paper_bgcolor\":\"white\",\"plot_bgcolor\":\"#E5ECF6\",\"polar\":{\"angularaxis\":{\"gridcolor\":\"white\",\"linecolor\":\"white\",\"ticks\":\"\"},\"bgcolor\":\"#E5ECF6\",\"radialaxis\":{\"gridcolor\":\"white\",\"linecolor\":\"white\",\"ticks\":\"\"}},\"scene\":{\"xaxis\":{\"backgroundcolor\":\"#E5ECF6\",\"gridcolor\":\"white\",\"gridwidth\":2,\"linecolor\":\"white\",\"showbackground\":true,\"ticks\":\"\",\"zerolinecolor\":\"white\"},\"yaxis\":{\"backgroundcolor\":\"#E5ECF6\",\"gridcolor\":\"white\",\"gridwidth\":2,\"linecolor\":\"white\",\"showbackground\":true,\"ticks\":\"\",\"zerolinecolor\":\"white\"},\"zaxis\":{\"backgroundcolor\":\"#E5ECF6\",\"gridcolor\":\"white\",\"gridwidth\":2,\"linecolor\":\"white\",\"showbackground\":true,\"ticks\":\"\",\"zerolinecolor\":\"white\"}},\"shapedefaults\":{\"line\":{\"color\":\"#2a3f5f\"}},\"ternary\":{\"aaxis\":{\"gridcolor\":\"white\",\"linecolor\":\"white\",\"ticks\":\"\"},\"baxis\":{\"gridcolor\":\"white\",\"linecolor\":\"white\",\"ticks\":\"\"},\"bgcolor\":\"#E5ECF6\",\"caxis\":{\"gridcolor\":\"white\",\"linecolor\":\"white\",\"ticks\":\"\"}},\"title\":{\"x\":0.05},\"xaxis\":{\"automargin\":true,\"gridcolor\":\"white\",\"linecolor\":\"white\",\"ticks\":\"\",\"title\":{\"standoff\":15},\"zerolinecolor\":\"white\",\"zerolinewidth\":2},\"yaxis\":{\"automargin\":true,\"gridcolor\":\"white\",\"linecolor\":\"white\",\"ticks\":\"\",\"title\":{\"standoff\":15},\"zerolinecolor\":\"white\",\"zerolinewidth\":2}}},\"legend\":{\"tracegroupgap\":0},\"title\":{\"text\":\"\\u041a\\u043e\\u043b-\\u0432\\u043e \\u043f\\u043e\\u0441\\u0430\\u0434\\u043e\\u0447\\u043d\\u044b\\u0445 \\u043c\\u0435\\u0441\\u0442 \\u0432 \\u0437\\u0430\\u0432\\u0438\\u0441\\u0438\\u043c\\u043e\\u0441\\u0442\\u0438 \\u043e\\u0442 \\u0442\\u0438\\u043f\\u0430 \\u0437\\u0430\\u0432\\u0435\\u0434\\u0435\\u043d\\u0438\\u044f\"},\"piecolorway\":[\"rgb(51, 19, 23)\",\"rgb(79, 28, 33)\",\"rgb(108, 36, 36)\",\"rgb(135, 47, 32)\",\"rgb(157, 66, 25)\",\"rgb(174, 88, 20)\",\"rgb(188, 111, 19)\",\"rgb(199, 137, 22)\",\"rgb(209, 164, 32)\",\"rgb(217, 192, 44)\",\"rgb(222, 222, 59)\",\"rgb(224, 253, 74)\"]},                        {\"responsive\": true}                    ).then(function(){\n",
       "                            \n",
       "var gd = document.getElementById('1f28857f-aec2-4234-9b82-72acfdc0df25');\n",
       "var x = new MutationObserver(function (mutations, observer) {{\n",
       "        var display = window.getComputedStyle(gd).display;\n",
       "        if (!display || display === 'none') {{\n",
       "            console.log([gd, 'removed!']);\n",
       "            Plotly.purge(gd);\n",
       "            observer.disconnect();\n",
       "        }}\n",
       "}});\n",
       "\n",
       "// Listen for the removal of the full notebook cells\n",
       "var notebookContainer = gd.closest('#notebook-container');\n",
       "if (notebookContainer) {{\n",
       "    x.observe(notebookContainer, {childList: true});\n",
       "}}\n",
       "\n",
       "// Listen for the clearing of the current output cell\n",
       "var outputEl = gd.closest('.output');\n",
       "if (outputEl) {{\n",
       "    x.observe(outputEl, {childList: true});\n",
       "}}\n",
       "\n",
       "                        })                };                });            </script>        </div>"
      ]
     },
     "metadata": {},
     "output_type": "display_data"
    }
   ],
   "source": [
    "fig = px.pie(pivot_table_2,\n",
    "             values='avg_number_of_seats',\n",
    "             names='object_type',\n",
    "             color_discrete_sequence=px.colors.sequential.solar,\n",
    "            title='Кол-во посадочных мест в зависимости от типа заведения')\n",
    "fig.show()"
   ]
  },
  {
   "cell_type": "code",
   "execution_count": 82,
   "id": "6583b284",
   "metadata": {
    "scrolled": true
   },
   "outputs": [
    {
     "data": {
      "image/png": "[encoded data removed]",
      "text/plain": [
       "<Figure size 1080x504 with 1 Axes>"
      ]
     },
     "metadata": {},
     "output_type": "display_data"
    }
   ],
   "source": [
    "sns.boxplot(y='number', x='object_type', data=data)\n",
    "plt.ylim(-1, 750);"
   ]
  },
  {
   "cell_type": "markdown",
   "id": "6174ebc6",
   "metadata": {},
   "source": [
    "#### Вывод №5\n",
    "Больше всего посадочных мест в следующих типах объектов общественного питания:\n",
    "\n",
    "    - столовая: В среднем 100 посадочных мест;\n",
    "    - ресторан: В среднем 80 посадочных мест;\n",
    "    - бар: В среднем 35 посадочных мест;\n",
    "    - буфет: В среднем 32 посадочных места;\n",
    "    - кафе: В среднем 30 посадочных мест;"
   ]
  },
  {
   "cell_type": "markdown",
   "id": "6f5bf3d9",
   "metadata": {},
   "source": [
    "### Топ-10 улиц по количеству объектов общественного питания\n",
    "\n",
    "Постройте график топ-10 улиц по количеству объектов общественного питания. Воспользуйтесь внешней информацией и ответьте на вопрос — в каких районах Москвы находятся эти улицы?\n",
    "\n"
   ]
  },
  {
   "cell_type": "markdown",
   "id": "e6fcf994",
   "metadata": {},
   "source": [
    "#### Выделение в отдельный столбец информации об улице из столбца address\n",
    "\n",
    "Для решения этой задачи строка в столбце address будет разбиваться методом split() по запятым и по нужному индексу будет извлекаться улица. Т.к. в данных присутствует особенность - для Зеленоградского административного округа указывается \"город Москва, город Зеленоград\", а для всех остальных записей указывается только \"город Москва\", то выделение улицы будет производиться по условию. С помощью библиотеки re для регулярных выражений будут отобраны строки, в состав которых входит подстрока 'город Москва, город Зеленоград' и для них название улицы будет второй позиционный индекс в строке. Для остальных записей - первый.\n"
   ]
  },
  {
   "cell_type": "code",
   "execution_count": 83,
   "id": "2c7381ef",
   "metadata": {},
   "outputs": [],
   "source": [
    "# Строки датафрейма с 'город Москва, город Зеленоград'\n",
    "#display(data[data['address'].str.contains(\"Зеленоград\")].head())\n",
    "\n",
    "# Выделение улицы адреса в соответствии с алгоритмом, описанным выше\n",
    "pattern = re.compile(r'город Москва, город Зеленоград')\n",
    "data['address_street'] = [x.split(',')[2] if pattern.match(x) else x.split(',')[1] for x in data['address']]\n",
    "\n",
    "#Проверка правильности выделения улиц для строк с 'город Москва, город Зеленоград'\n",
    "#display(data[data['address'].str.contains(\"Зеленоград\")].head())\n",
    "\n",
    "#Проверка правильности выделения улиц для остальных строк\n",
    "#display(data.head())"
   ]
  },
  {
   "cell_type": "markdown",
   "id": "abffbc82",
   "metadata": {},
   "source": [
    "#### График топ-10 улиц по количеству объектов общественного питания"
   ]
  },
  {
   "cell_type": "code",
   "execution_count": 84,
   "id": "1caae0a5",
   "metadata": {},
   "outputs": [],
   "source": [
    "# топ-10 улиц по количеству объектов общественного питания\n",
    "pivot_table_3 = (\n",
    "    data.groupby('address_street')\n",
    "    .agg({'id':'nunique'})\n",
    "    .rename(columns={'id':'num_of_objects'})\n",
    "    .sort_values(by='num_of_objects', ascending=False)\n",
    "    .reset_index()\n",
    ")\n",
    "top_streets = pivot_table_3.head(10)"
   ]
  },
  {
   "cell_type": "code",
   "execution_count": 85,
   "id": "918728c7",
   "metadata": {
    "scrolled": true
   },
   "outputs": [
    {
     "data": {
      "image/png": "[encoded data removed]",
      "text/plain": [
       "<Figure size 1080x504 with 1 Axes>"
      ]
     },
     "metadata": {},
     "output_type": "display_data"
    }
   ],
   "source": [
    "sns.set(rc={'figure.figsize':(15,7)})\n",
    "\n",
    "streets_bar = sns.barplot(\n",
    "    x='address_street',\n",
    "    y='num_of_objects', \n",
    "    data=top_streets,\n",
    "    palette=\"pink\"\n",
    ")\n",
    "plt.xticks(rotation=90)\n",
    "plt.tight_layout()\n",
    "streets_bar.axes.set_title('Топ 10 улиц по числу объектов',fontsize=17)\n",
    "streets_bar.tick_params(labelsize=12)"
   ]
  },
  {
   "cell_type": "markdown",
   "id": "0e1fba09",
   "metadata": {},
   "source": [
    "#### Получение адресной информации из внешних источников"
   ]
  },
  {
   "cell_type": "markdown",
   "id": "25c13ea9",
   "metadata": {},
   "source": [
    "Внешняя таблица с адресной информацией:\n",
    "\n",
    "https://docs.google.com/spreadsheets/d/1mjuP5Ar5hCChMBZri5GNw_fSOL2N0jBj9wibKlCE3jU/edit?usp=sharing"
   ]
  },
  {
   "cell_type": "code",
   "execution_count": 86,
   "id": "56b0ad7d",
   "metadata": {
    "scrolled": true
   },
   "outputs": [
    {
     "data": {
      "text/html": [
       "<div>\n",
       "<style scoped>\n",
       "    .dataframe tbody tr th:only-of-type {\n",
       "        vertical-align: middle;\n",
       "    }\n",
       "\n",
       "    .dataframe tbody tr th {\n",
       "        vertical-align: top;\n",
       "    }\n",
       "\n",
       "    .dataframe thead th {\n",
       "        text-align: right;\n",
       "    }\n",
       "</style>\n",
       "<table border=\"1\" class=\"dataframe\">\n",
       "  <thead>\n",
       "    <tr style=\"text-align: right;\">\n",
       "      <th></th>\n",
       "      <th>address_street</th>\n",
       "      <th>num_of_objects</th>\n",
       "      <th>adm_area</th>\n",
       "      <th>district</th>\n",
       "    </tr>\n",
       "  </thead>\n",
       "  <tbody>\n",
       "    <tr>\n",
       "      <th>0</th>\n",
       "      <td>проспект Мира</td>\n",
       "      <td>204</td>\n",
       "      <td>Центральный административный округ</td>\n",
       "      <td>Мещанский район</td>\n",
       "    </tr>\n",
       "    <tr>\n",
       "      <th>1</th>\n",
       "      <td>Профсоюзная улица</td>\n",
       "      <td>181</td>\n",
       "      <td>Юго-Западный административный округ</td>\n",
       "      <td>Академический район</td>\n",
       "    </tr>\n",
       "    <tr>\n",
       "      <th>2</th>\n",
       "      <td>Ленинградский проспект</td>\n",
       "      <td>170</td>\n",
       "      <td>Северный административный округ</td>\n",
       "      <td>район Беговой</td>\n",
       "    </tr>\n",
       "    <tr>\n",
       "      <th>3</th>\n",
       "      <td>Пресненская набережная</td>\n",
       "      <td>167</td>\n",
       "      <td>Центральный административный округ</td>\n",
       "      <td>Пресненский район</td>\n",
       "    </tr>\n",
       "    <tr>\n",
       "      <th>4</th>\n",
       "      <td>Варшавское шоссе</td>\n",
       "      <td>161</td>\n",
       "      <td>Южный административный округ</td>\n",
       "      <td>Донской район</td>\n",
       "    </tr>\n",
       "    <tr>\n",
       "      <th>5</th>\n",
       "      <td>Ленинский проспект</td>\n",
       "      <td>147</td>\n",
       "      <td>Центральный административный округ</td>\n",
       "      <td>район Якиманка</td>\n",
       "    </tr>\n",
       "    <tr>\n",
       "      <th>6</th>\n",
       "      <td>поселение Сосенское</td>\n",
       "      <td>137</td>\n",
       "      <td>Новомосковский административный округ</td>\n",
       "      <td>поселение Сосенское</td>\n",
       "    </tr>\n",
       "    <tr>\n",
       "      <th>7</th>\n",
       "      <td>проспект Вернадского</td>\n",
       "      <td>128</td>\n",
       "      <td>Юго-Западный административный округ</td>\n",
       "      <td>Ломоносовский район</td>\n",
       "    </tr>\n",
       "    <tr>\n",
       "      <th>8</th>\n",
       "      <td>Кутузовский проспект</td>\n",
       "      <td>114</td>\n",
       "      <td>Западный административный округ</td>\n",
       "      <td>район Дорогомилово</td>\n",
       "    </tr>\n",
       "    <tr>\n",
       "      <th>9</th>\n",
       "      <td>Каширское шоссе</td>\n",
       "      <td>111</td>\n",
       "      <td>Южный административный округ</td>\n",
       "      <td>район Москворечье-Сабурово</td>\n",
       "    </tr>\n",
       "  </tbody>\n",
       "</table>\n",
       "</div>"
      ],
      "text/plain": [
       "            address_street  num_of_objects  \\\n",
       "0            проспект Мира             204   \n",
       "1        Профсоюзная улица             181   \n",
       "2   Ленинградский проспект             170   \n",
       "3   Пресненская набережная             167   \n",
       "4         Варшавское шоссе             161   \n",
       "5       Ленинский проспект             147   \n",
       "6      поселение Сосенское             137   \n",
       "7     проспект Вернадского             128   \n",
       "8     Кутузовский проспект             114   \n",
       "9          Каширское шоссе             111   \n",
       "\n",
       "                                adm_area                    district  \n",
       "0     Центральный административный округ             Мещанский район  \n",
       "1    Юго-Западный административный округ         Академический район  \n",
       "2        Северный административный округ               район Беговой  \n",
       "3     Центральный административный округ           Пресненский район  \n",
       "4           Южный административный округ               Донской район  \n",
       "5     Центральный административный округ              район Якиманка  \n",
       "6  Новомосковский административный округ         поселение Сосенское  \n",
       "7    Юго-Западный административный округ         Ломоносовский район  \n",
       "8        Западный административный округ          район Дорогомилово  \n",
       "9           Южный административный округ  район Москворечье-Сабурово  "
      ]
     },
     "metadata": {},
     "output_type": "display_data"
    }
   ],
   "source": [
    "# чтение таблицы\n",
    "from io import BytesIO\n",
    "import requests\n",
    "spreadsheet_id = '1mjuP5Ar5hCChMBZri5GNw_fSOL2N0jBj9wibKlCE3jU'\n",
    "file_name = 'https://docs.google.com/spreadsheets/d/{}/export?format=csv'.format(spreadsheet_id)\n",
    "r = requests.get(file_name)\n",
    "data_large = pd.read_csv(BytesIO(r.content))\n",
    "#pd.set_option('display.max_columns', None)\n",
    "#display(data_large.head())\n",
    "\n",
    "#переименование столбцов\n",
    "data_large = data_large.rename(columns=\n",
    "                               {'ID':'id','Name':'name','IsNetObject':'is_net_object',\n",
    "                                'OperatingCompany':'operating_company','TypeObject':'type_object','AdmArea':'adm_area',\n",
    "                                'District':'district','Address':'address','PublicPhone':'public_phone',\n",
    "                                'SeatsCount':'seats_count','SocialPrivileges':'social_privileges'})\n",
    "#display(data_large.head())\n",
    "\n",
    "#избавляюсь от первой строки\n",
    "info = data_large.loc[0] #сохраняю информацию\n",
    "data_large = data_large.drop(index=[0]) #удаляю первую строку\n",
    "data_large = data_large.reset_index(drop=True) #сбрасываю индекс\n",
    "#display(data_large.head())\n",
    "\n",
    "#получаю названия улиц по описанному выше алгоритму\n",
    "data_large['address_street'] = [x.split(',')[2] if pattern.match(x) else x.split(',')[1] for x in data_large['address']]\n",
    "#display(data_large.head())\n",
    "\n",
    "# подготавливаю данные для объединения - группирую по названию улиц\n",
    "data_large_grouped = (\n",
    "    data_large.groupby('address_street')\n",
    "    .agg({'adm_area':'first','district':'first'})\n",
    "    .reset_index()    \n",
    ")\n",
    "#display(data_large_grouped.head())\n",
    "\n",
    "#объединяю таблицы\n",
    "data_combined = pd.merge(left=top_streets, right=data_large_grouped, how='left', on='address_street')\n",
    "display(data_combined)"
   ]
  },
  {
   "cell_type": "markdown",
   "id": "7b861aca",
   "metadata": {},
   "source": [
    "#### Вывод №6\n",
    "Топ улиц по количеству объектов общественного питания:\n",
    "\n",
    "    - проспект Мира (Мещанский район, ЦАО);\n",
    "    \n",
    "    - ул.Профсоюзная (Академический район, ЮЗАО);\n",
    "    \n",
    "    - Ленинградский проспект (район Беговой, CAJ);"
   ]
  },
  {
   "cell_type": "markdown",
   "id": "64c81d9d",
   "metadata": {},
   "source": [
    "### Улицы с одним объектом общественного питания\n",
    "\n",
    "Найдите число улиц с одним объектом общественного питания. Воспользуйтесь внешней информацией и ответьте на вопрос — в каких районах Москвы находятся эти улицы?\n",
    "\n"
   ]
  },
  {
   "cell_type": "code",
   "execution_count": 87,
   "id": "965902bb",
   "metadata": {},
   "outputs": [
    {
     "name": "stdout",
     "output_type": "stream",
     "text": [
      "Число улиц с одним объектом общественного питания: 672\n"
     ]
    }
   ],
   "source": [
    "pivot_table_4 = (\n",
    "    data.groupby('address_street')\n",
    "    .agg({'id':'nunique'})\n",
    "    .rename(columns={'id':'num_of_objects'})\n",
    "    .query('num_of_objects == 1')\n",
    "    .reset_index()\n",
    ")\n",
    "number_of_streets_with_one_object = pivot_table_4.shape[0]\n",
    "print('Число улиц с одним объектом общественного питания:', number_of_streets_with_one_object)"
   ]
  },
  {
   "cell_type": "code",
   "execution_count": 88,
   "id": "dbdda7d1",
   "metadata": {},
   "outputs": [
    {
     "data": {
      "text/plain": [
       "0        1-й Балтийский переулок\n",
       "1         1-й Басманный переулок\n",
       "2        1-й Ботанический проезд\n",
       "3        1-й Вешняковский проезд\n",
       "4      1-й Голутвинский переулок\n",
       "5      1-й Зачатьевский переулок\n",
       "6         1-й Кирпичный переулок\n",
       "7     1-й Кожевнический переулок\n",
       "8         1-й Кожуховский проезд\n",
       "9       1-й Коптельский переулок\n",
       "Name: address_street, dtype: object"
      ]
     },
     "execution_count": 88,
     "metadata": {},
     "output_type": "execute_result"
    }
   ],
   "source": [
    "pivot_table_4['address_street'].head(10)"
   ]
  },
  {
   "cell_type": "code",
   "execution_count": 89,
   "id": "ce888531",
   "metadata": {},
   "outputs": [
    {
     "data": {
      "text/html": [
       "<div>\n",
       "<style scoped>\n",
       "    .dataframe tbody tr th:only-of-type {\n",
       "        vertical-align: middle;\n",
       "    }\n",
       "\n",
       "    .dataframe tbody tr th {\n",
       "        vertical-align: top;\n",
       "    }\n",
       "\n",
       "    .dataframe thead th {\n",
       "        text-align: right;\n",
       "    }\n",
       "</style>\n",
       "<table border=\"1\" class=\"dataframe\">\n",
       "  <thead>\n",
       "    <tr style=\"text-align: right;\">\n",
       "      <th></th>\n",
       "      <th>address_street</th>\n",
       "      <th>num_of_objects</th>\n",
       "      <th>adm_area</th>\n",
       "      <th>district</th>\n",
       "    </tr>\n",
       "  </thead>\n",
       "  <tbody>\n",
       "    <tr>\n",
       "      <th>0</th>\n",
       "      <td>1-й Балтийский переулок</td>\n",
       "      <td>1</td>\n",
       "      <td>Северный административный округ</td>\n",
       "      <td>район Аэропорт</td>\n",
       "    </tr>\n",
       "    <tr>\n",
       "      <th>1</th>\n",
       "      <td>1-й Басманный переулок</td>\n",
       "      <td>1</td>\n",
       "      <td>Центральный административный округ</td>\n",
       "      <td>Красносельский район</td>\n",
       "    </tr>\n",
       "    <tr>\n",
       "      <th>2</th>\n",
       "      <td>1-й Ботанический проезд</td>\n",
       "      <td>1</td>\n",
       "      <td>Северо-Восточный административный округ</td>\n",
       "      <td>район Свиблово</td>\n",
       "    </tr>\n",
       "    <tr>\n",
       "      <th>3</th>\n",
       "      <td>1-й Вешняковский проезд</td>\n",
       "      <td>1</td>\n",
       "      <td>NaN</td>\n",
       "      <td>NaN</td>\n",
       "    </tr>\n",
       "    <tr>\n",
       "      <th>4</th>\n",
       "      <td>1-й Голутвинский переулок</td>\n",
       "      <td>1</td>\n",
       "      <td>Центральный административный округ</td>\n",
       "      <td>район Якиманка</td>\n",
       "    </tr>\n",
       "    <tr>\n",
       "      <th>5</th>\n",
       "      <td>1-й Зачатьевский переулок</td>\n",
       "      <td>1</td>\n",
       "      <td>NaN</td>\n",
       "      <td>NaN</td>\n",
       "    </tr>\n",
       "    <tr>\n",
       "      <th>6</th>\n",
       "      <td>1-й Кирпичный переулок</td>\n",
       "      <td>1</td>\n",
       "      <td>Восточный административный округ</td>\n",
       "      <td>район Соколиная Гора</td>\n",
       "    </tr>\n",
       "    <tr>\n",
       "      <th>7</th>\n",
       "      <td>1-й Кожевнический переулок</td>\n",
       "      <td>1</td>\n",
       "      <td>NaN</td>\n",
       "      <td>NaN</td>\n",
       "    </tr>\n",
       "    <tr>\n",
       "      <th>8</th>\n",
       "      <td>1-й Кожуховский проезд</td>\n",
       "      <td>1</td>\n",
       "      <td>NaN</td>\n",
       "      <td>NaN</td>\n",
       "    </tr>\n",
       "    <tr>\n",
       "      <th>9</th>\n",
       "      <td>1-й Коптельский переулок</td>\n",
       "      <td>1</td>\n",
       "      <td>NaN</td>\n",
       "      <td>NaN</td>\n",
       "    </tr>\n",
       "  </tbody>\n",
       "</table>\n",
       "</div>"
      ],
      "text/plain": [
       "                address_street  num_of_objects  \\\n",
       "0      1-й Балтийский переулок               1   \n",
       "1       1-й Басманный переулок               1   \n",
       "2      1-й Ботанический проезд               1   \n",
       "3      1-й Вешняковский проезд               1   \n",
       "4    1-й Голутвинский переулок               1   \n",
       "5    1-й Зачатьевский переулок               1   \n",
       "6       1-й Кирпичный переулок               1   \n",
       "7   1-й Кожевнический переулок               1   \n",
       "8       1-й Кожуховский проезд               1   \n",
       "9     1-й Коптельский переулок               1   \n",
       "\n",
       "                                  adm_area              district  \n",
       "0          Северный административный округ        район Аэропорт  \n",
       "1       Центральный административный округ  Красносельский район  \n",
       "2  Северо-Восточный административный округ        район Свиблово  \n",
       "3                                      NaN                   NaN  \n",
       "4       Центральный административный округ        район Якиманка  \n",
       "5                                      NaN                   NaN  \n",
       "6         Восточный административный округ  район Соколиная Гора  \n",
       "7                                      NaN                   NaN  \n",
       "8                                      NaN                   NaN  \n",
       "9                                      NaN                   NaN  "
      ]
     },
     "metadata": {},
     "output_type": "display_data"
    }
   ],
   "source": [
    "#объединяю таблицы\n",
    "data_combined_2 = pd.merge(left=pivot_table_4, right=data_large_grouped, how='left', on='address_street')\n",
    "display(data_combined_2.head(10))"
   ]
  },
  {
   "cell_type": "markdown",
   "id": "ad744fd1",
   "metadata": {},
   "source": [
    "#### Вывод №7\n",
    "\n",
    "    - 1-й Балтийский переулок (район Аэропорт, САО)\n",
    "    - 1-й Басманный переулок (районы Красносельский, ЦАО)\n",
    "    - 1-й Ботанический проезд (район Свиблово, СВАО)\n",
    "    - 1-й Вешняковский проезд (район Рязанский, ЮВАО - ручной поиск)\n",
    "    - 1-й Голутвинский переулок (район Якиманка, ЦАО)"
   ]
  },
  {
   "cell_type": "markdown",
   "id": "2f8cbc9c",
   "metadata": {},
   "source": [
    "### Распределение количества посадочных мест для улиц с большим количеством объектов общественного питания\n",
    "Посмотрите на распределение количества посадочных мест для улиц с большим количеством объектов общественного питания. Какие закономерности можно выявить?"
   ]
  },
  {
   "cell_type": "code",
   "execution_count": 90,
   "id": "d0550010",
   "metadata": {},
   "outputs": [],
   "source": [
    "pivot_table_5 = (\n",
    "    data.groupby('address_street')\n",
    "    .agg({'id':'nunique', 'number':'median'})\n",
    "    .rename(columns={'id':'num_of_objects','number':'avg_num_of_seats'})\n",
    "    .sort_values(by='num_of_objects', ascending=False)\n",
    "    .reset_index()\n",
    ")\n",
    "top_streets = pivot_table_5.head(10)\n",
    "#top_streets"
   ]
  },
  {
   "cell_type": "code",
   "execution_count": 91,
   "id": "e318debf",
   "metadata": {
    "scrolled": true
   },
   "outputs": [
    {
     "data": {
      "image/png": "[encoded data removed]",
      "text/plain": [
       "<Figure size 1080x504 with 1 Axes>"
      ]
     },
     "metadata": {},
     "output_type": "display_data"
    }
   ],
   "source": [
    "seats_distribution = sns.distplot(top_streets['avg_num_of_seats'], bins=5, color='#672F09')\n",
    "seats_distribution.set_title('Распределение количества посадочных мест для улиц с большим количеством объектов общественного питания',\n",
    "                            fontsize=15);"
   ]
  },
  {
   "cell_type": "markdown",
   "id": "ffc97f0f",
   "metadata": {},
   "source": [
    "#### Вывод №8\n",
    "\n",
    "    Распределение количества посадочных мест для улиц с большим количеством объектов общественного питания представляет из себя нормальное с вершиной в районе 40 посадочных мест"
   ]
  },
  {
   "cell_type": "markdown",
   "id": "3751206d",
   "metadata": {},
   "source": [
    "## Общий вывод\n",
    "\n",
    "Сделайте общий вывод и дайте рекомендации о виде заведения, количестве посадочных мест, а также районе расположения. Прокомментируйте возможность развития сети."
   ]
  },
  {
   "cell_type": "markdown",
   "id": "93f8cf58",
   "metadata": {},
   "source": [
    "**Результаты исследования:**\n",
    "- Из общего числа заведений доля сетевых составляет 20%;\n",
    "- 50% всех типов сетевых заведений составляют кафе; \n",
    "- В кафе около 25 посадочных мест. На проходных улицах число посадочных мест в среднем увеличивается до 40. В сетевых заведениях среднее число посадочных мест составляет 45;\n",
    "- Самые популярные улицы для открытия заведений:  проспект Мира, ул.Профсоюзная, Ленинградский проспект,Пресненская набережная.\n",
    "    \n",
    "**Рекомендации:**\n",
    "\n",
    "Так как планируется открывать уникальное место, в котором будут обслуживать роботы, то лучше всего сделать ставку на кафе в проходном месте (например, проспект Мира) с большим числом посадочных мест (не менее 40) и быстрым обслуживанием роботами\n",
    "\n",
    "\n"
   ]
  },
  {
   "cell_type": "code",
   "execution_count": null,
   "id": "5aa99f40",
   "metadata": {},
   "outputs": [],
   "source": []
  }
 ],
 "metadata": {
  "ExecuteTimeLog": [
   {
    "duration": 2042,
    "start_time": "2022-05-08T08:55:01.672Z"
   },
   {
    "duration": 277,
    "start_time": "2022-05-08T08:55:03.717Z"
   },
   {
    "duration": 0,
    "start_time": "2022-05-08T08:55:03.998Z"
   },
   {
    "duration": 0,
    "start_time": "2022-05-08T08:55:03.999Z"
   },
   {
    "duration": 0,
    "start_time": "2022-05-08T08:55:04.001Z"
   },
   {
    "duration": 0,
    "start_time": "2022-05-08T08:55:04.002Z"
   },
   {
    "duration": 0,
    "start_time": "2022-05-08T08:55:04.003Z"
   },
   {
    "duration": 0,
    "start_time": "2022-05-08T08:55:04.005Z"
   },
   {
    "duration": 4,
    "start_time": "2022-05-08T08:55:14.388Z"
   },
   {
    "duration": 110,
    "start_time": "2022-05-08T08:55:14.395Z"
   },
   {
    "duration": 18,
    "start_time": "2022-05-08T08:55:14.507Z"
   },
   {
    "duration": 38,
    "start_time": "2022-05-08T08:55:14.528Z"
   },
   {
    "duration": 33,
    "start_time": "2022-05-08T08:55:14.568Z"
   },
   {
    "duration": 13,
    "start_time": "2022-05-08T08:55:14.603Z"
   },
   {
    "duration": 44,
    "start_time": "2022-05-08T08:55:14.617Z"
   },
   {
    "duration": 265,
    "start_time": "2022-05-08T08:55:14.664Z"
   },
   {
    "duration": 1642,
    "start_time": "2022-05-08T09:01:15.727Z"
   },
   {
    "duration": 116,
    "start_time": "2022-05-08T09:01:17.373Z"
   },
   {
    "duration": 20,
    "start_time": "2022-05-08T09:01:17.492Z"
   },
   {
    "duration": 41,
    "start_time": "2022-05-08T09:01:17.514Z"
   },
   {
    "duration": 37,
    "start_time": "2022-05-08T09:01:17.560Z"
   },
   {
    "duration": 14,
    "start_time": "2022-05-08T09:01:17.599Z"
   },
   {
    "duration": 49,
    "start_time": "2022-05-08T09:01:17.616Z"
   },
   {
    "duration": 228,
    "start_time": "2022-05-08T09:01:17.667Z"
   },
   {
    "duration": 168,
    "start_time": "2022-05-08T09:05:13.304Z"
   },
   {
    "duration": 27,
    "start_time": "2022-05-08T09:05:22.967Z"
   },
   {
    "duration": 21,
    "start_time": "2022-05-08T09:05:28.238Z"
   },
   {
    "duration": 1420,
    "start_time": "2022-05-08T09:05:31.192Z"
   },
   {
    "duration": 109,
    "start_time": "2022-05-08T09:06:13.038Z"
   },
   {
    "duration": 25,
    "start_time": "2022-05-08T09:07:04.535Z"
   },
   {
    "duration": 21,
    "start_time": "2022-05-08T09:07:12.479Z"
   },
   {
    "duration": 14,
    "start_time": "2022-05-08T09:07:12.934Z"
   },
   {
    "duration": 4,
    "start_time": "2022-05-08T09:10:59.248Z"
   },
   {
    "duration": 121,
    "start_time": "2022-05-08T09:10:59.255Z"
   },
   {
    "duration": 13,
    "start_time": "2022-05-08T09:10:59.378Z"
   },
   {
    "duration": 20,
    "start_time": "2022-05-08T09:10:59.395Z"
   },
   {
    "duration": 69,
    "start_time": "2022-05-08T09:10:59.417Z"
   },
   {
    "duration": 15,
    "start_time": "2022-05-08T09:10:59.489Z"
   },
   {
    "duration": 63,
    "start_time": "2022-05-08T09:10:59.507Z"
   },
   {
    "duration": 16,
    "start_time": "2022-05-08T09:10:59.572Z"
   },
   {
    "duration": 10,
    "start_time": "2022-05-08T09:32:33.482Z"
   },
   {
    "duration": 17,
    "start_time": "2022-05-08T09:32:45.370Z"
   },
   {
    "duration": 16,
    "start_time": "2022-05-08T09:32:56.139Z"
   },
   {
    "duration": 17,
    "start_time": "2022-05-08T09:33:09.809Z"
   },
   {
    "duration": 7,
    "start_time": "2022-05-08T09:35:30.034Z"
   },
   {
    "duration": 17,
    "start_time": "2022-05-08T09:35:41.354Z"
   },
   {
    "duration": 13,
    "start_time": "2022-05-08T09:51:27.748Z"
   },
   {
    "duration": 17,
    "start_time": "2022-05-08T09:51:34.419Z"
   },
   {
    "duration": 88,
    "start_time": "2022-05-08T09:54:54.388Z"
   },
   {
    "duration": 23,
    "start_time": "2022-05-08T09:55:09.370Z"
   },
   {
    "duration": 22,
    "start_time": "2022-05-08T09:55:20.955Z"
   },
   {
    "duration": 236,
    "start_time": "2022-05-08T09:55:41.098Z"
   },
   {
    "duration": 18,
    "start_time": "2022-05-08T09:57:32.172Z"
   },
   {
    "duration": 15,
    "start_time": "2022-05-08T09:57:36.635Z"
   },
   {
    "duration": 4,
    "start_time": "2022-05-08T09:57:55.028Z"
   },
   {
    "duration": 124,
    "start_time": "2022-05-08T09:57:55.035Z"
   },
   {
    "duration": 15,
    "start_time": "2022-05-08T09:57:55.162Z"
   },
   {
    "duration": 27,
    "start_time": "2022-05-08T09:57:55.181Z"
   },
   {
    "duration": 78,
    "start_time": "2022-05-08T09:57:55.211Z"
   },
   {
    "duration": 20,
    "start_time": "2022-05-08T09:57:55.292Z"
   },
   {
    "duration": 42,
    "start_time": "2022-05-08T09:57:55.314Z"
   },
   {
    "duration": 16,
    "start_time": "2022-05-08T09:57:55.359Z"
   },
   {
    "duration": 17,
    "start_time": "2022-05-08T09:57:55.380Z"
   },
   {
    "duration": 65,
    "start_time": "2022-05-08T09:57:55.399Z"
   },
   {
    "duration": 29,
    "start_time": "2022-05-08T09:57:55.466Z"
   },
   {
    "duration": 54,
    "start_time": "2022-05-08T09:57:55.498Z"
   },
   {
    "duration": 5,
    "start_time": "2022-05-08T09:58:36.843Z"
   },
   {
    "duration": 9,
    "start_time": "2022-05-08T09:58:39.122Z"
   },
   {
    "duration": 153,
    "start_time": "2022-05-08T09:58:39.135Z"
   },
   {
    "duration": 18,
    "start_time": "2022-05-08T09:58:39.291Z"
   },
   {
    "duration": 41,
    "start_time": "2022-05-08T09:58:39.313Z"
   },
   {
    "duration": 30,
    "start_time": "2022-05-08T09:58:39.356Z"
   },
   {
    "duration": 19,
    "start_time": "2022-05-08T09:58:39.389Z"
   },
   {
    "duration": 51,
    "start_time": "2022-05-08T09:58:39.411Z"
   },
   {
    "duration": 18,
    "start_time": "2022-05-08T09:58:39.465Z"
   },
   {
    "duration": 16,
    "start_time": "2022-05-08T09:58:39.486Z"
   },
   {
    "duration": 55,
    "start_time": "2022-05-08T09:58:39.505Z"
   },
   {
    "duration": 28,
    "start_time": "2022-05-08T09:58:39.563Z"
   },
   {
    "duration": 244,
    "start_time": "2022-05-08T09:58:39.594Z"
   },
   {
    "duration": 48,
    "start_time": "2022-05-08T09:59:28.244Z"
   },
   {
    "duration": 18,
    "start_time": "2022-05-08T10:00:44.732Z"
   },
   {
    "duration": 90,
    "start_time": "2022-05-08T10:00:54.732Z"
   },
   {
    "duration": 13,
    "start_time": "2022-05-08T10:01:00.386Z"
   },
   {
    "duration": 16,
    "start_time": "2022-05-08T10:01:37.836Z"
   },
   {
    "duration": 13,
    "start_time": "2022-05-08T10:01:45.811Z"
   },
   {
    "duration": 39,
    "start_time": "2022-05-08T10:03:06.939Z"
   },
   {
    "duration": 22,
    "start_time": "2022-05-08T10:03:34.064Z"
   },
   {
    "duration": 24,
    "start_time": "2022-05-08T10:04:30.532Z"
   },
   {
    "duration": 21,
    "start_time": "2022-05-08T10:04:49.100Z"
   },
   {
    "duration": 16,
    "start_time": "2022-05-08T10:05:05.957Z"
   },
   {
    "duration": 16,
    "start_time": "2022-05-08T10:05:09.765Z"
   },
   {
    "duration": 17,
    "start_time": "2022-05-08T11:55:45.246Z"
   },
   {
    "duration": 15,
    "start_time": "2022-05-08T11:57:09.958Z"
   },
   {
    "duration": 16,
    "start_time": "2022-05-08T11:58:04.854Z"
   },
   {
    "duration": 16,
    "start_time": "2022-05-08T11:58:32.999Z"
   },
   {
    "duration": 15,
    "start_time": "2022-05-08T11:58:36.865Z"
   },
   {
    "duration": 15,
    "start_time": "2022-05-08T11:59:21.230Z"
   },
   {
    "duration": 14,
    "start_time": "2022-05-08T11:59:36.069Z"
   },
   {
    "duration": 16,
    "start_time": "2022-05-08T11:59:40.270Z"
   },
   {
    "duration": 16,
    "start_time": "2022-05-08T11:59:43.277Z"
   },
   {
    "duration": 16,
    "start_time": "2022-05-08T12:01:56.817Z"
   },
   {
    "duration": 29,
    "start_time": "2022-05-08T14:59:04.076Z"
   },
   {
    "duration": 20,
    "start_time": "2022-05-08T15:01:09.676Z"
   },
   {
    "duration": 20,
    "start_time": "2022-05-08T15:01:30.220Z"
   },
   {
    "duration": 10,
    "start_time": "2022-05-08T15:02:12.180Z"
   },
   {
    "duration": 24,
    "start_time": "2022-05-08T15:04:05.228Z"
   },
   {
    "duration": 30,
    "start_time": "2022-05-08T15:04:19.500Z"
   },
   {
    "duration": 4,
    "start_time": "2022-05-08T15:06:00.533Z"
   },
   {
    "duration": 153,
    "start_time": "2022-05-08T15:06:00.540Z"
   },
   {
    "duration": 17,
    "start_time": "2022-05-08T15:06:00.695Z"
   },
   {
    "duration": 48,
    "start_time": "2022-05-08T15:06:00.715Z"
   },
   {
    "duration": 53,
    "start_time": "2022-05-08T15:06:00.766Z"
   },
   {
    "duration": 20,
    "start_time": "2022-05-08T15:06:00.821Z"
   },
   {
    "duration": 18,
    "start_time": "2022-05-08T15:06:00.851Z"
   },
   {
    "duration": 30,
    "start_time": "2022-05-08T15:06:00.872Z"
   },
   {
    "duration": 44,
    "start_time": "2022-05-08T15:06:00.907Z"
   },
   {
    "duration": 22,
    "start_time": "2022-05-08T15:06:00.954Z"
   },
   {
    "duration": 14,
    "start_time": "2022-05-08T15:06:00.978Z"
   },
   {
    "duration": 56,
    "start_time": "2022-05-08T15:06:00.994Z"
   },
   {
    "duration": 63,
    "start_time": "2022-05-08T15:06:01.052Z"
   },
   {
    "duration": 1220,
    "start_time": "2022-05-08T15:12:15.156Z"
   },
   {
    "duration": 4,
    "start_time": "2022-05-08T15:12:33.037Z"
   },
   {
    "duration": 334,
    "start_time": "2022-05-08T15:12:49.013Z"
   },
   {
    "duration": 14,
    "start_time": "2022-05-08T15:12:53.469Z"
   },
   {
    "duration": 635,
    "start_time": "2022-05-08T15:14:15.837Z"
   },
   {
    "duration": 195,
    "start_time": "2022-05-08T15:14:45.620Z"
   },
   {
    "duration": 24,
    "start_time": "2022-05-08T15:17:31.118Z"
   },
   {
    "duration": 34,
    "start_time": "2022-05-08T15:17:43.069Z"
   },
   {
    "duration": 15,
    "start_time": "2022-05-08T15:30:21.535Z"
   },
   {
    "duration": 31,
    "start_time": "2022-05-08T15:30:33.415Z"
   },
   {
    "duration": 23,
    "start_time": "2022-05-08T15:30:47.311Z"
   },
   {
    "duration": 24,
    "start_time": "2022-05-08T15:30:58.646Z"
   },
   {
    "duration": 28,
    "start_time": "2022-05-08T15:31:15.703Z"
   },
   {
    "duration": 32,
    "start_time": "2022-05-08T15:31:20.422Z"
   },
   {
    "duration": 14,
    "start_time": "2022-05-08T15:31:20.653Z"
   },
   {
    "duration": 2138,
    "start_time": "2022-05-08T15:32:10.878Z"
   },
   {
    "duration": 2156,
    "start_time": "2022-05-08T15:35:09.231Z"
   },
   {
    "duration": 2537,
    "start_time": "2022-05-08T15:35:23.615Z"
   },
   {
    "duration": 2389,
    "start_time": "2022-05-08T15:35:30.935Z"
   },
   {
    "duration": 12,
    "start_time": "2022-05-08T15:35:52.369Z"
   },
   {
    "duration": 14,
    "start_time": "2022-05-08T15:35:54.519Z"
   },
   {
    "duration": 2425,
    "start_time": "2022-05-08T15:36:56.976Z"
   },
   {
    "duration": 2516,
    "start_time": "2022-05-08T15:37:06.887Z"
   },
   {
    "duration": 2198,
    "start_time": "2022-05-08T15:37:21.088Z"
   },
   {
    "duration": 2840,
    "start_time": "2022-05-08T17:28:28.122Z"
   },
   {
    "duration": 2669,
    "start_time": "2022-05-08T17:31:59.443Z"
   },
   {
    "duration": 2378,
    "start_time": "2022-05-08T17:32:04.347Z"
   },
   {
    "duration": 2685,
    "start_time": "2022-05-08T17:32:11.707Z"
   },
   {
    "duration": 2266,
    "start_time": "2022-05-08T17:32:31.221Z"
   },
   {
    "duration": 2752,
    "start_time": "2022-05-08T17:37:53.491Z"
   },
   {
    "duration": 2278,
    "start_time": "2022-05-08T17:38:16.292Z"
   },
   {
    "duration": 2798,
    "start_time": "2022-05-08T17:39:10.186Z"
   },
   {
    "duration": 2275,
    "start_time": "2022-05-08T17:39:29.298Z"
   },
   {
    "duration": 2878,
    "start_time": "2022-05-08T17:40:08.050Z"
   },
   {
    "duration": 2231,
    "start_time": "2022-05-08T17:40:41.997Z"
   },
   {
    "duration": 6,
    "start_time": "2022-05-08T17:41:07.130Z"
   },
   {
    "duration": 6,
    "start_time": "2022-05-08T17:41:20.123Z"
   },
   {
    "duration": 2340,
    "start_time": "2022-05-08T17:42:29.371Z"
   },
   {
    "duration": 2844,
    "start_time": "2022-05-08T17:42:49.539Z"
   },
   {
    "duration": 2401,
    "start_time": "2022-05-08T17:44:31.195Z"
   },
   {
    "duration": 2803,
    "start_time": "2022-05-08T17:44:36.490Z"
   },
   {
    "duration": 4,
    "start_time": "2022-05-08T17:56:55.994Z"
   },
   {
    "duration": 131,
    "start_time": "2022-05-08T17:56:56.002Z"
   },
   {
    "duration": 13,
    "start_time": "2022-05-08T17:56:56.136Z"
   },
   {
    "duration": 22,
    "start_time": "2022-05-08T17:56:56.151Z"
   },
   {
    "duration": 32,
    "start_time": "2022-05-08T17:56:56.177Z"
   },
   {
    "duration": 54,
    "start_time": "2022-05-08T17:56:56.211Z"
   },
   {
    "duration": 16,
    "start_time": "2022-05-08T17:56:56.268Z"
   },
   {
    "duration": 16,
    "start_time": "2022-05-08T17:56:56.286Z"
   },
   {
    "duration": 61,
    "start_time": "2022-05-08T17:56:56.304Z"
   },
   {
    "duration": 26,
    "start_time": "2022-05-08T17:56:56.367Z"
   },
   {
    "duration": 15,
    "start_time": "2022-05-08T17:56:56.396Z"
   },
   {
    "duration": 25,
    "start_time": "2022-05-08T17:56:56.452Z"
   },
   {
    "duration": 6,
    "start_time": "2022-05-08T17:56:56.479Z"
   },
   {
    "duration": 2253,
    "start_time": "2022-05-08T17:56:56.487Z"
   },
   {
    "duration": 17,
    "start_time": "2022-05-08T17:56:58.742Z"
   },
   {
    "duration": 16,
    "start_time": "2022-05-08T17:56:58.761Z"
   },
   {
    "duration": 24,
    "start_time": "2022-05-08T18:02:22.269Z"
   },
   {
    "duration": 13,
    "start_time": "2022-05-08T18:04:25.653Z"
   },
   {
    "duration": 18,
    "start_time": "2022-05-08T18:05:27.609Z"
   },
   {
    "duration": 16,
    "start_time": "2022-05-08T18:07:27.845Z"
   },
   {
    "duration": 15,
    "start_time": "2022-05-08T18:08:42.108Z"
   },
   {
    "duration": 4,
    "start_time": "2022-05-08T18:08:58.072Z"
   },
   {
    "duration": 111,
    "start_time": "2022-05-08T18:08:58.079Z"
   },
   {
    "duration": 13,
    "start_time": "2022-05-08T18:08:58.192Z"
   },
   {
    "duration": 35,
    "start_time": "2022-05-08T18:08:58.208Z"
   },
   {
    "duration": 34,
    "start_time": "2022-05-08T18:08:58.246Z"
   },
   {
    "duration": 21,
    "start_time": "2022-05-08T18:08:58.282Z"
   },
   {
    "duration": 55,
    "start_time": "2022-05-08T18:08:58.305Z"
   },
   {
    "duration": 20,
    "start_time": "2022-05-08T18:08:58.362Z"
   },
   {
    "duration": 19,
    "start_time": "2022-05-08T18:08:58.384Z"
   },
   {
    "duration": 69,
    "start_time": "2022-05-08T18:08:58.406Z"
   },
   {
    "duration": 14,
    "start_time": "2022-05-08T18:08:58.477Z"
   },
   {
    "duration": 71,
    "start_time": "2022-05-08T18:08:58.493Z"
   },
   {
    "duration": 8,
    "start_time": "2022-05-08T18:08:58.567Z"
   },
   {
    "duration": 2896,
    "start_time": "2022-05-08T18:08:58.581Z"
   },
   {
    "duration": 15,
    "start_time": "2022-05-08T18:09:01.479Z"
   },
   {
    "duration": 34,
    "start_time": "2022-05-08T18:09:01.496Z"
   },
   {
    "duration": 37,
    "start_time": "2022-05-08T18:09:01.532Z"
   },
   {
    "duration": 3,
    "start_time": "2022-05-08T18:42:28.230Z"
   },
   {
    "duration": 20,
    "start_time": "2022-05-08T18:47:32.023Z"
   },
   {
    "duration": 21,
    "start_time": "2022-05-08T18:48:12.568Z"
   },
   {
    "duration": 5,
    "start_time": "2022-05-08T20:21:31.584Z"
   },
   {
    "duration": 112,
    "start_time": "2022-05-08T20:21:31.592Z"
   },
   {
    "duration": 14,
    "start_time": "2022-05-08T20:21:31.706Z"
   },
   {
    "duration": 42,
    "start_time": "2022-05-08T20:21:31.723Z"
   },
   {
    "duration": 37,
    "start_time": "2022-05-08T20:21:31.768Z"
   },
   {
    "duration": 52,
    "start_time": "2022-05-08T20:21:31.807Z"
   },
   {
    "duration": 15,
    "start_time": "2022-05-08T20:21:31.861Z"
   },
   {
    "duration": 32,
    "start_time": "2022-05-08T20:21:31.878Z"
   },
   {
    "duration": 40,
    "start_time": "2022-05-08T20:21:31.913Z"
   },
   {
    "duration": 20,
    "start_time": "2022-05-08T20:21:31.956Z"
   },
   {
    "duration": 14,
    "start_time": "2022-05-08T20:21:31.979Z"
   },
   {
    "duration": 68,
    "start_time": "2022-05-08T20:21:31.996Z"
   },
   {
    "duration": 6,
    "start_time": "2022-05-08T20:21:32.066Z"
   },
   {
    "duration": 2752,
    "start_time": "2022-05-08T20:21:32.074Z"
   },
   {
    "duration": 37,
    "start_time": "2022-05-08T20:21:34.829Z"
   },
   {
    "duration": 32,
    "start_time": "2022-05-08T20:21:34.869Z"
   },
   {
    "duration": 15,
    "start_time": "2022-05-08T20:21:34.904Z"
   },
   {
    "duration": 17,
    "start_time": "2022-05-08T20:21:34.952Z"
   },
   {
    "duration": 5,
    "start_time": "2022-05-08T20:22:29.309Z"
   },
   {
    "duration": 13,
    "start_time": "2022-05-08T20:22:32.894Z"
   },
   {
    "duration": 6,
    "start_time": "2022-05-08T20:22:36.782Z"
   },
   {
    "duration": 16,
    "start_time": "2022-05-08T20:26:29.415Z"
   },
   {
    "duration": 6,
    "start_time": "2022-05-08T20:28:37.401Z"
   },
   {
    "duration": 6,
    "start_time": "2022-05-08T20:28:44.689Z"
   },
   {
    "duration": 5,
    "start_time": "2022-05-08T20:34:01.039Z"
   },
   {
    "duration": 6,
    "start_time": "2022-05-08T20:34:09.887Z"
   },
   {
    "duration": 5,
    "start_time": "2022-05-08T20:35:01.521Z"
   },
   {
    "duration": 6,
    "start_time": "2022-05-08T20:35:07.552Z"
   },
   {
    "duration": 12,
    "start_time": "2022-05-08T20:35:27.810Z"
   },
   {
    "duration": 7,
    "start_time": "2022-05-08T20:35:49.280Z"
   },
   {
    "duration": 33,
    "start_time": "2022-05-08T20:36:55.616Z"
   },
   {
    "duration": 16,
    "start_time": "2022-05-08T20:37:07.384Z"
   },
   {
    "duration": 28,
    "start_time": "2022-05-08T20:37:50.272Z"
   },
   {
    "duration": 38,
    "start_time": "2022-05-08T20:41:03.271Z"
   },
   {
    "duration": 24,
    "start_time": "2022-05-08T20:41:35.561Z"
   },
   {
    "duration": 24,
    "start_time": "2022-05-08T20:41:50.841Z"
   },
   {
    "duration": 16,
    "start_time": "2022-05-08T20:42:10.485Z"
   },
   {
    "duration": 21,
    "start_time": "2022-05-08T20:42:16.696Z"
   },
   {
    "duration": 23,
    "start_time": "2022-05-08T20:42:27.105Z"
   },
   {
    "duration": 15,
    "start_time": "2022-05-08T20:43:48.849Z"
   },
   {
    "duration": 26,
    "start_time": "2022-05-08T20:43:52.768Z"
   },
   {
    "duration": 12,
    "start_time": "2022-05-08T20:44:13.209Z"
   },
   {
    "duration": 9,
    "start_time": "2022-05-08T20:44:30.593Z"
   },
   {
    "duration": 9,
    "start_time": "2022-05-08T20:44:33.205Z"
   },
   {
    "duration": 16,
    "start_time": "2022-05-08T20:44:38.096Z"
   },
   {
    "duration": 27,
    "start_time": "2022-05-08T20:46:44.188Z"
   },
   {
    "duration": 84,
    "start_time": "2022-05-08T20:50:40.098Z"
   },
   {
    "duration": 18,
    "start_time": "2022-05-08T20:58:58.867Z"
   },
   {
    "duration": 20,
    "start_time": "2022-05-08T20:59:12.914Z"
   },
   {
    "duration": 35,
    "start_time": "2022-05-08T21:00:58.730Z"
   },
   {
    "duration": 9,
    "start_time": "2022-05-08T21:01:12.843Z"
   },
   {
    "duration": 7,
    "start_time": "2022-05-08T21:01:52.138Z"
   },
   {
    "duration": 9,
    "start_time": "2022-05-08T21:01:56.218Z"
   },
   {
    "duration": 6,
    "start_time": "2022-05-08T21:01:59.362Z"
   },
   {
    "duration": 4,
    "start_time": "2022-05-08T21:02:37.610Z"
   },
   {
    "duration": 87,
    "start_time": "2022-05-08T21:03:00.466Z"
   },
   {
    "duration": 7,
    "start_time": "2022-05-08T21:03:17.787Z"
   },
   {
    "duration": 5,
    "start_time": "2022-05-08T21:04:01.330Z"
   },
   {
    "duration": 4,
    "start_time": "2022-05-08T21:04:07.890Z"
   },
   {
    "duration": 5,
    "start_time": "2022-05-08T21:04:33.003Z"
   },
   {
    "duration": 5,
    "start_time": "2022-05-08T21:04:36.282Z"
   },
   {
    "duration": 6,
    "start_time": "2022-05-08T21:06:58.554Z"
   },
   {
    "duration": 6,
    "start_time": "2022-05-08T21:07:17.890Z"
   },
   {
    "duration": 6,
    "start_time": "2022-05-08T21:08:57.498Z"
   },
   {
    "duration": 103,
    "start_time": "2022-05-08T21:10:03.139Z"
   },
   {
    "duration": 6,
    "start_time": "2022-05-08T21:10:26.482Z"
   },
   {
    "duration": 6,
    "start_time": "2022-05-08T21:10:47.042Z"
   },
   {
    "duration": 8,
    "start_time": "2022-05-08T21:12:21.586Z"
   },
   {
    "duration": 8,
    "start_time": "2022-05-08T21:12:29.116Z"
   },
   {
    "duration": 7,
    "start_time": "2022-05-08T21:14:12.179Z"
   },
   {
    "duration": 7,
    "start_time": "2022-05-08T21:14:16.667Z"
   },
   {
    "duration": 121,
    "start_time": "2022-05-08T21:14:43.747Z"
   },
   {
    "duration": 6,
    "start_time": "2022-05-08T21:14:57.810Z"
   },
   {
    "duration": 7,
    "start_time": "2022-05-08T21:15:10.451Z"
   },
   {
    "duration": 22,
    "start_time": "2022-05-08T21:16:40.052Z"
   },
   {
    "duration": 17,
    "start_time": "2022-05-08T21:16:43.627Z"
   },
   {
    "duration": 28,
    "start_time": "2022-05-08T21:16:58.211Z"
   },
   {
    "duration": 14,
    "start_time": "2022-05-08T21:18:11.907Z"
   },
   {
    "duration": 85,
    "start_time": "2022-05-08T21:18:26.051Z"
   },
   {
    "duration": 87,
    "start_time": "2022-05-08T21:19:23.564Z"
   },
   {
    "duration": 17,
    "start_time": "2022-05-08T21:19:27.899Z"
   },
   {
    "duration": 14,
    "start_time": "2022-05-08T21:19:50.091Z"
   },
   {
    "duration": 33,
    "start_time": "2022-05-08T21:23:26.803Z"
   },
   {
    "duration": 23,
    "start_time": "2022-05-08T21:24:12.572Z"
   },
   {
    "duration": 5,
    "start_time": "2022-05-08T21:31:53.481Z"
   },
   {
    "duration": 162,
    "start_time": "2022-05-08T21:31:53.488Z"
   },
   {
    "duration": 16,
    "start_time": "2022-05-08T21:31:53.656Z"
   },
   {
    "duration": 54,
    "start_time": "2022-05-08T21:31:53.675Z"
   },
   {
    "duration": 86,
    "start_time": "2022-05-08T21:31:53.731Z"
   },
   {
    "duration": 46,
    "start_time": "2022-05-08T21:31:53.819Z"
   },
   {
    "duration": 39,
    "start_time": "2022-05-08T21:31:53.868Z"
   },
   {
    "duration": 52,
    "start_time": "2022-05-08T21:31:53.910Z"
   },
   {
    "duration": 15,
    "start_time": "2022-05-08T21:31:53.966Z"
   },
   {
    "duration": 22,
    "start_time": "2022-05-08T21:31:53.983Z"
   },
   {
    "duration": 53,
    "start_time": "2022-05-08T21:31:54.008Z"
   },
   {
    "duration": 24,
    "start_time": "2022-05-08T21:31:54.064Z"
   },
   {
    "duration": 6,
    "start_time": "2022-05-08T21:31:54.091Z"
   },
   {
    "duration": 2996,
    "start_time": "2022-05-08T21:31:54.099Z"
   },
   {
    "duration": 20,
    "start_time": "2022-05-08T21:31:57.097Z"
   },
   {
    "duration": 40,
    "start_time": "2022-05-08T21:31:57.119Z"
   },
   {
    "duration": 28,
    "start_time": "2022-05-08T21:31:57.162Z"
   },
   {
    "duration": 23,
    "start_time": "2022-05-08T21:31:57.193Z"
   },
   {
    "duration": 62,
    "start_time": "2022-05-08T21:31:57.218Z"
   },
   {
    "duration": 7,
    "start_time": "2022-05-08T21:31:57.282Z"
   },
   {
    "duration": 83,
    "start_time": "2022-05-08T21:32:41.590Z"
   },
   {
    "duration": 4,
    "start_time": "2022-05-08T21:32:46.275Z"
   },
   {
    "duration": 117,
    "start_time": "2022-05-08T21:32:46.283Z"
   },
   {
    "duration": 13,
    "start_time": "2022-05-08T21:32:46.403Z"
   },
   {
    "duration": 40,
    "start_time": "2022-05-08T21:32:46.419Z"
   },
   {
    "duration": 36,
    "start_time": "2022-05-08T21:32:46.463Z"
   },
   {
    "duration": 53,
    "start_time": "2022-05-08T21:32:46.501Z"
   },
   {
    "duration": 25,
    "start_time": "2022-05-08T21:32:46.557Z"
   },
   {
    "duration": 21,
    "start_time": "2022-05-08T21:32:46.586Z"
   },
   {
    "duration": 59,
    "start_time": "2022-05-08T21:32:46.610Z"
   },
   {
    "duration": 24,
    "start_time": "2022-05-08T21:32:46.675Z"
   },
   {
    "duration": 65,
    "start_time": "2022-05-08T21:32:46.702Z"
   },
   {
    "duration": 35,
    "start_time": "2022-05-08T21:32:46.770Z"
   },
   {
    "duration": 7,
    "start_time": "2022-05-08T21:32:46.808Z"
   },
   {
    "duration": 2420,
    "start_time": "2022-05-08T21:32:46.817Z"
   },
   {
    "duration": 31,
    "start_time": "2022-05-08T21:32:49.240Z"
   },
   {
    "duration": 16,
    "start_time": "2022-05-08T21:32:49.273Z"
   },
   {
    "duration": 20,
    "start_time": "2022-05-08T21:32:49.291Z"
   },
   {
    "duration": 100,
    "start_time": "2022-05-08T21:32:49.357Z"
   },
   {
    "duration": 76,
    "start_time": "2022-05-08T21:34:02.270Z"
   },
   {
    "duration": 5,
    "start_time": "2022-05-08T21:34:18.148Z"
   },
   {
    "duration": 134,
    "start_time": "2022-05-08T21:34:18.156Z"
   },
   {
    "duration": 16,
    "start_time": "2022-05-08T21:34:18.292Z"
   },
   {
    "duration": 21,
    "start_time": "2022-05-08T21:34:18.310Z"
   },
   {
    "duration": 33,
    "start_time": "2022-05-08T21:34:18.357Z"
   },
   {
    "duration": 18,
    "start_time": "2022-05-08T21:34:18.393Z"
   },
   {
    "duration": 55,
    "start_time": "2022-05-08T21:34:18.413Z"
   },
   {
    "duration": 20,
    "start_time": "2022-05-08T21:34:18.472Z"
   },
   {
    "duration": 18,
    "start_time": "2022-05-08T21:34:18.498Z"
   },
   {
    "duration": 29,
    "start_time": "2022-05-08T21:34:18.553Z"
   },
   {
    "duration": 15,
    "start_time": "2022-05-08T21:34:18.585Z"
   },
   {
    "duration": 66,
    "start_time": "2022-05-08T21:34:18.602Z"
   },
   {
    "duration": 9,
    "start_time": "2022-05-08T21:34:18.671Z"
   },
   {
    "duration": 2991,
    "start_time": "2022-05-08T21:34:18.682Z"
   },
   {
    "duration": 19,
    "start_time": "2022-05-08T21:34:21.675Z"
   },
   {
    "duration": 15,
    "start_time": "2022-05-08T21:34:21.696Z"
   },
   {
    "duration": 61,
    "start_time": "2022-05-08T21:34:21.714Z"
   },
   {
    "duration": 101,
    "start_time": "2022-05-08T21:34:21.778Z"
   },
   {
    "duration": 39,
    "start_time": "2022-05-08T21:34:54.229Z"
   },
   {
    "duration": 1893,
    "start_time": "2022-05-09T08:54:10.301Z"
   },
   {
    "duration": 113,
    "start_time": "2022-05-09T08:54:12.197Z"
   },
   {
    "duration": 18,
    "start_time": "2022-05-09T08:54:12.312Z"
   },
   {
    "duration": 20,
    "start_time": "2022-05-09T08:54:12.333Z"
   },
   {
    "duration": 37,
    "start_time": "2022-05-09T08:54:12.355Z"
   },
   {
    "duration": 39,
    "start_time": "2022-05-09T08:54:12.394Z"
   },
   {
    "duration": 249,
    "start_time": "2022-05-09T08:54:12.435Z"
   },
   {
    "duration": 38,
    "start_time": "2022-05-09T08:54:12.686Z"
   },
   {
    "duration": 14,
    "start_time": "2022-05-09T08:54:12.727Z"
   },
   {
    "duration": 20,
    "start_time": "2022-05-09T08:54:12.745Z"
   },
   {
    "duration": 68,
    "start_time": "2022-05-09T08:54:12.767Z"
   },
   {
    "duration": 24,
    "start_time": "2022-05-09T08:54:12.837Z"
   },
   {
    "duration": 61,
    "start_time": "2022-05-09T08:54:12.863Z"
   },
   {
    "duration": 2450,
    "start_time": "2022-05-09T08:54:12.927Z"
   },
   {
    "duration": 18,
    "start_time": "2022-05-09T08:54:15.379Z"
   },
   {
    "duration": 32,
    "start_time": "2022-05-09T08:54:15.399Z"
   },
   {
    "duration": 34,
    "start_time": "2022-05-09T08:54:15.433Z"
   },
   {
    "duration": 33,
    "start_time": "2022-05-09T08:54:15.470Z"
   },
   {
    "duration": 52,
    "start_time": "2022-05-09T08:55:34.988Z"
   },
   {
    "duration": 1610,
    "start_time": "2022-05-09T08:57:02.398Z"
   },
   {
    "duration": 140,
    "start_time": "2022-05-09T08:57:04.011Z"
   },
   {
    "duration": 22,
    "start_time": "2022-05-09T08:57:04.153Z"
   },
   {
    "duration": 51,
    "start_time": "2022-05-09T08:57:04.179Z"
   },
   {
    "duration": 52,
    "start_time": "2022-05-09T08:57:04.233Z"
   },
   {
    "duration": 52,
    "start_time": "2022-05-09T08:57:04.288Z"
   },
   {
    "duration": 365,
    "start_time": "2022-05-09T08:57:04.343Z"
   },
   {
    "duration": 22,
    "start_time": "2022-05-09T08:57:04.712Z"
   },
   {
    "duration": 15,
    "start_time": "2022-05-09T08:57:04.736Z"
   },
   {
    "duration": 78,
    "start_time": "2022-05-09T08:57:04.754Z"
   },
   {
    "duration": 15,
    "start_time": "2022-05-09T08:57:04.835Z"
   },
   {
    "duration": 77,
    "start_time": "2022-05-09T08:57:04.852Z"
   },
   {
    "duration": 7,
    "start_time": "2022-05-09T08:57:04.931Z"
   },
   {
    "duration": 2491,
    "start_time": "2022-05-09T08:57:04.940Z"
   },
   {
    "duration": 19,
    "start_time": "2022-05-09T08:57:07.433Z"
   },
   {
    "duration": 14,
    "start_time": "2022-05-09T08:57:07.455Z"
   },
   {
    "duration": 61,
    "start_time": "2022-05-09T08:57:07.472Z"
   },
   {
    "duration": 26,
    "start_time": "2022-05-09T08:57:07.535Z"
   },
   {
    "duration": 264,
    "start_time": "2022-05-09T08:57:07.563Z"
   },
   {
    "duration": 1524,
    "start_time": "2022-05-09T08:57:47.048Z"
   },
   {
    "duration": 126,
    "start_time": "2022-05-09T08:57:48.575Z"
   },
   {
    "duration": 20,
    "start_time": "2022-05-09T08:57:48.703Z"
   },
   {
    "duration": 21,
    "start_time": "2022-05-09T08:57:48.726Z"
   },
   {
    "duration": 32,
    "start_time": "2022-05-09T08:57:48.749Z"
   },
   {
    "duration": 45,
    "start_time": "2022-05-09T08:57:48.784Z"
   },
   {
    "duration": 249,
    "start_time": "2022-05-09T08:57:48.831Z"
   },
   {
    "duration": 18,
    "start_time": "2022-05-09T08:57:49.082Z"
   },
   {
    "duration": 32,
    "start_time": "2022-05-09T08:57:49.102Z"
   },
   {
    "duration": 22,
    "start_time": "2022-05-09T08:57:49.137Z"
   },
   {
    "duration": 67,
    "start_time": "2022-05-09T08:57:49.162Z"
   },
   {
    "duration": 24,
    "start_time": "2022-05-09T08:57:49.231Z"
   },
   {
    "duration": 6,
    "start_time": "2022-05-09T08:57:49.258Z"
   },
   {
    "duration": 2479,
    "start_time": "2022-05-09T08:57:49.267Z"
   },
   {
    "duration": 18,
    "start_time": "2022-05-09T08:57:51.748Z"
   },
   {
    "duration": 15,
    "start_time": "2022-05-09T08:57:51.769Z"
   },
   {
    "duration": 67,
    "start_time": "2022-05-09T08:57:51.787Z"
   },
   {
    "duration": 39,
    "start_time": "2022-05-09T08:57:51.857Z"
   },
   {
    "duration": 433,
    "start_time": "2022-05-09T08:57:51.900Z"
   },
   {
    "duration": 37,
    "start_time": "2022-05-09T08:57:52.336Z"
   },
   {
    "duration": 1575,
    "start_time": "2022-05-09T08:59:20.175Z"
   },
   {
    "duration": 113,
    "start_time": "2022-05-09T08:59:21.752Z"
   },
   {
    "duration": 19,
    "start_time": "2022-05-09T08:59:21.867Z"
   },
   {
    "duration": 39,
    "start_time": "2022-05-09T08:59:21.889Z"
   },
   {
    "duration": 34,
    "start_time": "2022-05-09T08:59:21.930Z"
   },
   {
    "duration": 21,
    "start_time": "2022-05-09T08:59:21.967Z"
   },
   {
    "duration": 268,
    "start_time": "2022-05-09T08:59:21.990Z"
   },
   {
    "duration": 17,
    "start_time": "2022-05-09T08:59:22.261Z"
   },
   {
    "duration": 15,
    "start_time": "2022-05-09T08:59:22.280Z"
   },
   {
    "duration": 22,
    "start_time": "2022-05-09T08:59:22.327Z"
   },
   {
    "duration": 16,
    "start_time": "2022-05-09T08:59:22.351Z"
   },
   {
    "duration": 25,
    "start_time": "2022-05-09T08:59:22.425Z"
   },
   {
    "duration": 8,
    "start_time": "2022-05-09T08:59:22.452Z"
   },
   {
    "duration": 2538,
    "start_time": "2022-05-09T08:59:22.462Z"
   },
   {
    "duration": 32,
    "start_time": "2022-05-09T08:59:25.003Z"
   },
   {
    "duration": 15,
    "start_time": "2022-05-09T08:59:25.038Z"
   },
   {
    "duration": 26,
    "start_time": "2022-05-09T08:59:25.056Z"
   },
   {
    "duration": 58,
    "start_time": "2022-05-09T08:59:25.084Z"
   },
   {
    "duration": 15395,
    "start_time": "2022-05-09T08:59:25.144Z"
   },
   {
    "duration": 24,
    "start_time": "2022-05-09T08:59:40.541Z"
   },
   {
    "duration": 165,
    "start_time": "2022-05-09T09:00:08.236Z"
   },
   {
    "duration": 19,
    "start_time": "2022-05-09T09:00:10.306Z"
   },
   {
    "duration": 234,
    "start_time": "2022-05-09T09:00:10.737Z"
   },
   {
    "duration": 258,
    "start_time": "2022-05-09T09:00:21.610Z"
   },
   {
    "duration": 287,
    "start_time": "2022-05-09T09:01:07.931Z"
   },
   {
    "duration": 15,
    "start_time": "2022-05-09T09:01:33.465Z"
   },
   {
    "duration": 229,
    "start_time": "2022-05-09T09:01:47.050Z"
   },
   {
    "duration": 235,
    "start_time": "2022-05-09T09:02:13.466Z"
   },
   {
    "duration": 22,
    "start_time": "2022-05-09T09:02:21.513Z"
   },
   {
    "duration": 319,
    "start_time": "2022-05-09T09:03:13.682Z"
   },
   {
    "duration": 332,
    "start_time": "2022-05-09T09:03:17.033Z"
   },
   {
    "duration": 118,
    "start_time": "2022-05-09T09:04:24.451Z"
   },
   {
    "duration": 449,
    "start_time": "2022-05-09T09:04:29.418Z"
   },
   {
    "duration": 374,
    "start_time": "2022-05-09T09:04:39.507Z"
   },
   {
    "duration": 394,
    "start_time": "2022-05-09T09:05:25.765Z"
   },
   {
    "duration": 552,
    "start_time": "2022-05-09T09:06:08.666Z"
   },
   {
    "duration": 552,
    "start_time": "2022-05-09T09:06:20.291Z"
   },
   {
    "duration": 599,
    "start_time": "2022-05-09T09:06:27.290Z"
   },
   {
    "duration": 557,
    "start_time": "2022-05-09T09:06:34.845Z"
   },
   {
    "duration": 685,
    "start_time": "2022-05-09T09:06:43.915Z"
   },
   {
    "duration": 643,
    "start_time": "2022-05-09T09:06:51.171Z"
   },
   {
    "duration": 629,
    "start_time": "2022-05-09T09:08:51.699Z"
   },
   {
    "duration": 658,
    "start_time": "2022-05-09T09:09:17.682Z"
   },
   {
    "duration": 645,
    "start_time": "2022-05-09T09:09:24.497Z"
   },
   {
    "duration": 643,
    "start_time": "2022-05-09T09:09:30.546Z"
   },
   {
    "duration": 635,
    "start_time": "2022-05-09T09:10:26.949Z"
   },
   {
    "duration": 24,
    "start_time": "2022-05-09T09:10:39.571Z"
   },
   {
    "duration": 31,
    "start_time": "2022-05-09T09:11:09.219Z"
   },
   {
    "duration": 656,
    "start_time": "2022-05-09T09:11:46.587Z"
   },
   {
    "duration": 627,
    "start_time": "2022-05-09T09:12:05.598Z"
   },
   {
    "duration": 28,
    "start_time": "2022-05-09T09:28:38.725Z"
   },
   {
    "duration": 18,
    "start_time": "2022-05-09T09:31:12.414Z"
   },
   {
    "duration": 22,
    "start_time": "2022-05-09T09:31:17.308Z"
   },
   {
    "duration": 20,
    "start_time": "2022-05-09T09:32:23.501Z"
   },
   {
    "duration": 8,
    "start_time": "2022-05-09T09:32:36.509Z"
   },
   {
    "duration": 17,
    "start_time": "2022-05-09T09:32:57.780Z"
   },
   {
    "duration": 7,
    "start_time": "2022-05-09T09:32:59.863Z"
   },
   {
    "duration": 21,
    "start_time": "2022-05-09T09:33:09.396Z"
   },
   {
    "duration": 7,
    "start_time": "2022-05-09T09:33:10.989Z"
   },
   {
    "duration": 6,
    "start_time": "2022-05-09T09:33:24.540Z"
   },
   {
    "duration": 10,
    "start_time": "2022-05-09T10:01:07.200Z"
   },
   {
    "duration": 22,
    "start_time": "2022-05-09T10:02:38.994Z"
   },
   {
    "duration": 21,
    "start_time": "2022-05-09T10:03:07.151Z"
   },
   {
    "duration": 29,
    "start_time": "2022-05-09T10:03:14.902Z"
   },
   {
    "duration": 344,
    "start_time": "2022-05-09T10:07:41.010Z"
   },
   {
    "duration": 338,
    "start_time": "2022-05-09T10:08:18.216Z"
   },
   {
    "duration": 540,
    "start_time": "2022-05-09T10:08:34.727Z"
   },
   {
    "duration": 855,
    "start_time": "2022-05-09T10:08:44.577Z"
   },
   {
    "duration": 970,
    "start_time": "2022-05-09T10:08:50.233Z"
   },
   {
    "duration": 30,
    "start_time": "2022-05-09T10:09:05.480Z"
   },
   {
    "duration": 355,
    "start_time": "2022-05-09T10:09:06.425Z"
   },
   {
    "duration": 551,
    "start_time": "2022-05-09T10:09:33.529Z"
   },
   {
    "duration": 355,
    "start_time": "2022-05-09T10:09:58.864Z"
   },
   {
    "duration": 610,
    "start_time": "2022-05-09T10:10:31.225Z"
   },
   {
    "duration": 362,
    "start_time": "2022-05-09T10:10:43.209Z"
   },
   {
    "duration": 465,
    "start_time": "2022-05-09T10:11:49.065Z"
   },
   {
    "duration": 382,
    "start_time": "2022-05-09T10:11:55.625Z"
   },
   {
    "duration": 400,
    "start_time": "2022-05-09T10:12:07.673Z"
   },
   {
    "duration": 536,
    "start_time": "2022-05-09T10:12:12.312Z"
   },
   {
    "duration": 15,
    "start_time": "2022-05-09T10:15:21.043Z"
   },
   {
    "duration": 17,
    "start_time": "2022-05-09T11:14:51.465Z"
   },
   {
    "duration": 16,
    "start_time": "2022-05-09T11:15:46.655Z"
   },
   {
    "duration": 15,
    "start_time": "2022-05-09T11:15:52.518Z"
   },
   {
    "duration": 11,
    "start_time": "2022-05-09T11:17:16.247Z"
   },
   {
    "duration": 9,
    "start_time": "2022-05-09T11:17:52.994Z"
   },
   {
    "duration": 1678,
    "start_time": "2022-05-09T11:18:15.255Z"
   },
   {
    "duration": 240,
    "start_time": "2022-05-09T11:39:06.000Z"
   },
   {
    "duration": 2258,
    "start_time": "2022-05-09T11:39:18.777Z"
   },
   {
    "duration": 272,
    "start_time": "2022-05-09T11:40:26.697Z"
   },
   {
    "duration": 1910,
    "start_time": "2022-05-09T11:40:27.168Z"
   },
   {
    "duration": 4,
    "start_time": "2022-05-09T11:41:03.074Z"
   },
   {
    "duration": 159,
    "start_time": "2022-05-09T11:41:03.081Z"
   },
   {
    "duration": 15,
    "start_time": "2022-05-09T11:41:03.242Z"
   },
   {
    "duration": 36,
    "start_time": "2022-05-09T11:41:03.259Z"
   },
   {
    "duration": 111,
    "start_time": "2022-05-09T11:41:03.297Z"
   },
   {
    "duration": 19,
    "start_time": "2022-05-09T11:41:03.411Z"
   },
   {
    "duration": 2197,
    "start_time": "2022-05-09T11:41:03.434Z"
   },
   {
    "duration": 192,
    "start_time": "2022-05-09T11:41:05.642Z"
   },
   {
    "duration": 30,
    "start_time": "2022-05-09T11:41:05.840Z"
   },
   {
    "duration": 22,
    "start_time": "2022-05-09T11:41:05.873Z"
   },
   {
    "duration": 50,
    "start_time": "2022-05-09T11:41:05.898Z"
   },
   {
    "duration": 23,
    "start_time": "2022-05-09T11:41:05.950Z"
   },
   {
    "duration": 72,
    "start_time": "2022-05-09T11:41:05.976Z"
   },
   {
    "duration": 22,
    "start_time": "2022-05-09T11:41:06.051Z"
   },
   {
    "duration": 64,
    "start_time": "2022-05-09T11:41:06.076Z"
   },
   {
    "duration": 0,
    "start_time": "2022-05-09T11:41:06.144Z"
   },
   {
    "duration": 0,
    "start_time": "2022-05-09T11:41:06.146Z"
   },
   {
    "duration": 0,
    "start_time": "2022-05-09T11:41:06.148Z"
   },
   {
    "duration": 0,
    "start_time": "2022-05-09T11:41:06.150Z"
   },
   {
    "duration": 0,
    "start_time": "2022-05-09T11:41:06.152Z"
   },
   {
    "duration": 0,
    "start_time": "2022-05-09T11:41:06.155Z"
   },
   {
    "duration": 0,
    "start_time": "2022-05-09T11:41:06.157Z"
   },
   {
    "duration": 0,
    "start_time": "2022-05-09T11:41:06.159Z"
   },
   {
    "duration": 0,
    "start_time": "2022-05-09T11:41:06.161Z"
   },
   {
    "duration": 0,
    "start_time": "2022-05-09T11:41:06.163Z"
   },
   {
    "duration": 0,
    "start_time": "2022-05-09T11:41:06.165Z"
   },
   {
    "duration": 0,
    "start_time": "2022-05-09T11:41:06.167Z"
   },
   {
    "duration": 1530,
    "start_time": "2022-05-09T11:41:35.160Z"
   },
   {
    "duration": 118,
    "start_time": "2022-05-09T11:41:36.693Z"
   },
   {
    "duration": 19,
    "start_time": "2022-05-09T11:41:36.814Z"
   },
   {
    "duration": 20,
    "start_time": "2022-05-09T11:41:36.836Z"
   },
   {
    "duration": 38,
    "start_time": "2022-05-09T11:41:36.859Z"
   },
   {
    "duration": 30,
    "start_time": "2022-05-09T11:41:36.899Z"
   },
   {
    "duration": 1855,
    "start_time": "2022-05-09T11:41:36.931Z"
   },
   {
    "duration": 199,
    "start_time": "2022-05-09T11:41:38.825Z"
   },
   {
    "duration": 34,
    "start_time": "2022-05-09T11:41:39.027Z"
   },
   {
    "duration": 297,
    "start_time": "2022-05-09T11:41:39.068Z"
   },
   {
    "duration": 28,
    "start_time": "2022-05-09T11:41:39.368Z"
   },
   {
    "duration": 17,
    "start_time": "2022-05-09T11:41:39.426Z"
   },
   {
    "duration": 80,
    "start_time": "2022-05-09T11:41:39.446Z"
   },
   {
    "duration": 16,
    "start_time": "2022-05-09T11:41:39.528Z"
   },
   {
    "duration": 317,
    "start_time": "2022-05-09T11:41:39.547Z"
   },
   {
    "duration": 0,
    "start_time": "2022-05-09T11:41:39.866Z"
   },
   {
    "duration": 0,
    "start_time": "2022-05-09T11:41:39.868Z"
   },
   {
    "duration": 0,
    "start_time": "2022-05-09T11:41:39.870Z"
   },
   {
    "duration": 0,
    "start_time": "2022-05-09T11:41:39.871Z"
   },
   {
    "duration": 0,
    "start_time": "2022-05-09T11:41:39.872Z"
   },
   {
    "duration": 0,
    "start_time": "2022-05-09T11:41:39.874Z"
   },
   {
    "duration": 0,
    "start_time": "2022-05-09T11:41:39.875Z"
   },
   {
    "duration": 0,
    "start_time": "2022-05-09T11:41:39.876Z"
   },
   {
    "duration": 0,
    "start_time": "2022-05-09T11:41:39.878Z"
   },
   {
    "duration": 0,
    "start_time": "2022-05-09T11:41:39.879Z"
   },
   {
    "duration": 0,
    "start_time": "2022-05-09T11:41:39.881Z"
   },
   {
    "duration": 0,
    "start_time": "2022-05-09T11:41:39.882Z"
   },
   {
    "duration": 5,
    "start_time": "2022-05-09T11:42:50.795Z"
   },
   {
    "duration": 131,
    "start_time": "2022-05-09T11:42:50.803Z"
   },
   {
    "duration": 13,
    "start_time": "2022-05-09T11:42:50.937Z"
   },
   {
    "duration": 20,
    "start_time": "2022-05-09T11:42:50.953Z"
   },
   {
    "duration": 62,
    "start_time": "2022-05-09T11:42:50.975Z"
   },
   {
    "duration": 17,
    "start_time": "2022-05-09T11:42:51.039Z"
   },
   {
    "duration": 1923,
    "start_time": "2022-05-09T11:42:51.059Z"
   },
   {
    "duration": 266,
    "start_time": "2022-05-09T11:42:52.985Z"
   },
   {
    "duration": 31,
    "start_time": "2022-05-09T11:42:53.256Z"
   },
   {
    "duration": 40,
    "start_time": "2022-05-09T11:42:53.290Z"
   },
   {
    "duration": 24,
    "start_time": "2022-05-09T11:42:53.333Z"
   },
   {
    "duration": 21,
    "start_time": "2022-05-09T11:42:53.359Z"
   },
   {
    "duration": 68,
    "start_time": "2022-05-09T11:42:53.383Z"
   },
   {
    "duration": 21,
    "start_time": "2022-05-09T11:42:53.454Z"
   },
   {
    "duration": 54,
    "start_time": "2022-05-09T11:42:53.477Z"
   },
   {
    "duration": 0,
    "start_time": "2022-05-09T11:42:53.535Z"
   },
   {
    "duration": 0,
    "start_time": "2022-05-09T11:42:53.537Z"
   },
   {
    "duration": 0,
    "start_time": "2022-05-09T11:42:53.539Z"
   },
   {
    "duration": 0,
    "start_time": "2022-05-09T11:42:53.541Z"
   },
   {
    "duration": 0,
    "start_time": "2022-05-09T11:42:53.543Z"
   },
   {
    "duration": 0,
    "start_time": "2022-05-09T11:42:53.545Z"
   },
   {
    "duration": 0,
    "start_time": "2022-05-09T11:42:53.548Z"
   },
   {
    "duration": 0,
    "start_time": "2022-05-09T11:42:53.550Z"
   },
   {
    "duration": 0,
    "start_time": "2022-05-09T11:42:53.552Z"
   },
   {
    "duration": 0,
    "start_time": "2022-05-09T11:42:53.554Z"
   },
   {
    "duration": 0,
    "start_time": "2022-05-09T11:42:53.557Z"
   },
   {
    "duration": 0,
    "start_time": "2022-05-09T11:42:53.559Z"
   },
   {
    "duration": 29,
    "start_time": "2022-05-09T11:43:42.106Z"
   },
   {
    "duration": 4,
    "start_time": "2022-05-09T11:44:13.852Z"
   },
   {
    "duration": 119,
    "start_time": "2022-05-09T11:44:13.858Z"
   },
   {
    "duration": 15,
    "start_time": "2022-05-09T11:44:13.980Z"
   },
   {
    "duration": 38,
    "start_time": "2022-05-09T11:44:13.997Z"
   },
   {
    "duration": 34,
    "start_time": "2022-05-09T11:44:14.038Z"
   },
   {
    "duration": 16,
    "start_time": "2022-05-09T11:44:14.075Z"
   },
   {
    "duration": 1848,
    "start_time": "2022-05-09T11:44:14.094Z"
   },
   {
    "duration": 187,
    "start_time": "2022-05-09T11:44:15.945Z"
   },
   {
    "duration": 25,
    "start_time": "2022-05-09T11:44:16.135Z"
   },
   {
    "duration": 17,
    "start_time": "2022-05-09T11:44:16.163Z"
   },
   {
    "duration": 51,
    "start_time": "2022-05-09T11:44:16.186Z"
   },
   {
    "duration": 18,
    "start_time": "2022-05-09T11:44:16.240Z"
   },
   {
    "duration": 28,
    "start_time": "2022-05-09T11:44:16.261Z"
   },
   {
    "duration": 46,
    "start_time": "2022-05-09T11:44:16.292Z"
   },
   {
    "duration": 19,
    "start_time": "2022-05-09T11:44:16.342Z"
   },
   {
    "duration": 68,
    "start_time": "2022-05-09T11:44:16.364Z"
   },
   {
    "duration": 1,
    "start_time": "2022-05-09T11:44:16.435Z"
   },
   {
    "duration": 0,
    "start_time": "2022-05-09T11:44:16.437Z"
   },
   {
    "duration": 0,
    "start_time": "2022-05-09T11:44:16.439Z"
   },
   {
    "duration": 0,
    "start_time": "2022-05-09T11:44:16.441Z"
   },
   {
    "duration": 0,
    "start_time": "2022-05-09T11:44:16.443Z"
   },
   {
    "duration": 0,
    "start_time": "2022-05-09T11:44:16.445Z"
   },
   {
    "duration": 0,
    "start_time": "2022-05-09T11:44:16.447Z"
   },
   {
    "duration": 0,
    "start_time": "2022-05-09T11:44:16.450Z"
   },
   {
    "duration": 0,
    "start_time": "2022-05-09T11:44:16.451Z"
   },
   {
    "duration": 1,
    "start_time": "2022-05-09T11:44:16.453Z"
   },
   {
    "duration": 0,
    "start_time": "2022-05-09T11:44:16.455Z"
   },
   {
    "duration": 0,
    "start_time": "2022-05-09T11:44:16.457Z"
   },
   {
    "duration": 20,
    "start_time": "2022-05-09T11:44:50.056Z"
   },
   {
    "duration": 5,
    "start_time": "2022-05-09T11:45:57.251Z"
   },
   {
    "duration": 122,
    "start_time": "2022-05-09T11:45:57.259Z"
   },
   {
    "duration": 14,
    "start_time": "2022-05-09T11:45:57.384Z"
   },
   {
    "duration": 33,
    "start_time": "2022-05-09T11:45:57.401Z"
   },
   {
    "duration": 32,
    "start_time": "2022-05-09T11:45:57.438Z"
   },
   {
    "duration": 16,
    "start_time": "2022-05-09T11:45:57.472Z"
   },
   {
    "duration": 1886,
    "start_time": "2022-05-09T11:45:57.491Z"
   },
   {
    "duration": 7,
    "start_time": "2022-05-09T11:45:59.380Z"
   },
   {
    "duration": 19,
    "start_time": "2022-05-09T11:45:59.427Z"
   },
   {
    "duration": 34,
    "start_time": "2022-05-09T11:45:59.449Z"
   },
   {
    "duration": 45,
    "start_time": "2022-05-09T11:45:59.485Z"
   },
   {
    "duration": 18,
    "start_time": "2022-05-09T11:45:59.533Z"
   },
   {
    "duration": 21,
    "start_time": "2022-05-09T11:45:59.554Z"
   },
   {
    "duration": 64,
    "start_time": "2022-05-09T11:45:59.578Z"
   },
   {
    "duration": 16,
    "start_time": "2022-05-09T11:45:59.645Z"
   },
   {
    "duration": 22,
    "start_time": "2022-05-09T11:45:59.664Z"
   },
   {
    "duration": 70,
    "start_time": "2022-05-09T11:45:59.688Z"
   },
   {
    "duration": 7,
    "start_time": "2022-05-09T11:45:59.760Z"
   },
   {
    "duration": 1664,
    "start_time": "2022-05-09T11:45:59.772Z"
   },
   {
    "duration": 21,
    "start_time": "2022-05-09T11:46:01.439Z"
   },
   {
    "duration": 189,
    "start_time": "2022-05-09T11:46:01.464Z"
   },
   {
    "duration": 43,
    "start_time": "2022-05-09T11:46:01.656Z"
   },
   {
    "duration": 35,
    "start_time": "2022-05-09T11:46:01.702Z"
   },
   {
    "duration": 659,
    "start_time": "2022-05-09T11:46:01.740Z"
   },
   {
    "duration": 27,
    "start_time": "2022-05-09T11:46:02.402Z"
   },
   {
    "duration": 8,
    "start_time": "2022-05-09T11:46:02.431Z"
   },
   {
    "duration": 33,
    "start_time": "2022-05-09T11:46:02.441Z"
   },
   {
    "duration": 73,
    "start_time": "2022-05-09T11:46:02.477Z"
   },
   {
    "duration": 632,
    "start_time": "2022-05-09T11:46:02.552Z"
   },
   {
    "duration": 6,
    "start_time": "2022-05-09T11:47:01.496Z"
   },
   {
    "duration": 137,
    "start_time": "2022-05-09T11:47:01.505Z"
   },
   {
    "duration": 14,
    "start_time": "2022-05-09T11:47:01.645Z"
   },
   {
    "duration": 21,
    "start_time": "2022-05-09T11:47:01.664Z"
   },
   {
    "duration": 77,
    "start_time": "2022-05-09T11:47:01.688Z"
   },
   {
    "duration": 25,
    "start_time": "2022-05-09T11:47:01.768Z"
   },
   {
    "duration": 2041,
    "start_time": "2022-05-09T11:47:01.796Z"
   },
   {
    "duration": 106,
    "start_time": "2022-05-09T11:47:03.839Z"
   },
   {
    "duration": 21,
    "start_time": "2022-05-09T11:47:03.949Z"
   },
   {
    "duration": 56,
    "start_time": "2022-05-09T11:47:03.973Z"
   },
   {
    "duration": 16,
    "start_time": "2022-05-09T11:47:04.031Z"
   },
   {
    "duration": 20,
    "start_time": "2022-05-09T11:47:04.050Z"
   },
   {
    "duration": 52,
    "start_time": "2022-05-09T11:47:04.072Z"
   },
   {
    "duration": 23,
    "start_time": "2022-05-09T11:47:04.127Z"
   },
   {
    "duration": 21,
    "start_time": "2022-05-09T11:47:04.152Z"
   },
   {
    "duration": 62,
    "start_time": "2022-05-09T11:47:04.176Z"
   },
   {
    "duration": 37,
    "start_time": "2022-05-09T11:47:04.240Z"
   },
   {
    "duration": 0,
    "start_time": "2022-05-09T11:47:04.280Z"
   },
   {
    "duration": 0,
    "start_time": "2022-05-09T11:47:04.282Z"
   },
   {
    "duration": 0,
    "start_time": "2022-05-09T11:47:04.285Z"
   },
   {
    "duration": 0,
    "start_time": "2022-05-09T11:47:04.286Z"
   },
   {
    "duration": 0,
    "start_time": "2022-05-09T11:47:04.288Z"
   },
   {
    "duration": 0,
    "start_time": "2022-05-09T11:47:04.290Z"
   },
   {
    "duration": 0,
    "start_time": "2022-05-09T11:47:04.291Z"
   },
   {
    "duration": 0,
    "start_time": "2022-05-09T11:47:04.325Z"
   },
   {
    "duration": 0,
    "start_time": "2022-05-09T11:47:04.326Z"
   },
   {
    "duration": 0,
    "start_time": "2022-05-09T11:47:04.328Z"
   },
   {
    "duration": 0,
    "start_time": "2022-05-09T11:47:04.329Z"
   },
   {
    "duration": 0,
    "start_time": "2022-05-09T11:47:04.331Z"
   },
   {
    "duration": 5,
    "start_time": "2022-05-09T11:48:08.337Z"
   },
   {
    "duration": 158,
    "start_time": "2022-05-09T11:48:08.345Z"
   },
   {
    "duration": 14,
    "start_time": "2022-05-09T11:48:08.507Z"
   },
   {
    "duration": 28,
    "start_time": "2022-05-09T11:48:08.523Z"
   },
   {
    "duration": 52,
    "start_time": "2022-05-09T11:48:08.555Z"
   },
   {
    "duration": 39,
    "start_time": "2022-05-09T11:48:08.610Z"
   },
   {
    "duration": 2105,
    "start_time": "2022-05-09T11:48:08.652Z"
   },
   {
    "duration": 134,
    "start_time": "2022-05-09T11:48:10.759Z"
   },
   {
    "duration": 42,
    "start_time": "2022-05-09T11:48:10.896Z"
   },
   {
    "duration": 28,
    "start_time": "2022-05-09T11:48:10.941Z"
   },
   {
    "duration": 16,
    "start_time": "2022-05-09T11:48:10.974Z"
   },
   {
    "duration": 20,
    "start_time": "2022-05-09T11:48:11.025Z"
   },
   {
    "duration": 19,
    "start_time": "2022-05-09T11:48:11.048Z"
   },
   {
    "duration": 57,
    "start_time": "2022-05-09T11:48:11.069Z"
   },
   {
    "duration": 17,
    "start_time": "2022-05-09T11:48:11.128Z"
   },
   {
    "duration": 19,
    "start_time": "2022-05-09T11:48:11.148Z"
   },
   {
    "duration": 70,
    "start_time": "2022-05-09T11:48:11.169Z"
   },
   {
    "duration": 9,
    "start_time": "2022-05-09T11:48:11.242Z"
   },
   {
    "duration": 2534,
    "start_time": "2022-05-09T11:48:11.254Z"
   },
   {
    "duration": 47,
    "start_time": "2022-05-09T11:48:13.792Z"
   },
   {
    "duration": 22,
    "start_time": "2022-05-09T11:48:13.842Z"
   },
   {
    "duration": 61,
    "start_time": "2022-05-09T11:48:13.868Z"
   },
   {
    "duration": 31,
    "start_time": "2022-05-09T11:48:13.931Z"
   },
   {
    "duration": 1108,
    "start_time": "2022-05-09T11:48:13.965Z"
   },
   {
    "duration": 22,
    "start_time": "2022-05-09T11:48:15.076Z"
   },
   {
    "duration": 29,
    "start_time": "2022-05-09T11:48:15.100Z"
   },
   {
    "duration": 24,
    "start_time": "2022-05-09T11:48:15.131Z"
   },
   {
    "duration": 22,
    "start_time": "2022-05-09T11:48:15.158Z"
   },
   {
    "duration": 382,
    "start_time": "2022-05-09T11:48:15.225Z"
   },
   {
    "duration": 28,
    "start_time": "2022-05-09T12:18:38.719Z"
   },
   {
    "duration": 1724,
    "start_time": "2022-05-09T12:26:33.700Z"
   },
   {
    "duration": 1706,
    "start_time": "2022-05-09T12:26:48.801Z"
   },
   {
    "duration": 2012,
    "start_time": "2022-05-09T12:26:53.260Z"
   },
   {
    "duration": 2112,
    "start_time": "2022-05-09T12:28:58.924Z"
   },
   {
    "duration": 113,
    "start_time": "2022-05-09T13:55:09.669Z"
   },
   {
    "duration": 6,
    "start_time": "2022-05-09T16:49:21.813Z"
   },
   {
    "duration": 306,
    "start_time": "2022-05-09T16:49:21.822Z"
   },
   {
    "duration": 17,
    "start_time": "2022-05-09T16:49:22.132Z"
   },
   {
    "duration": 21,
    "start_time": "2022-05-09T16:49:22.154Z"
   },
   {
    "duration": 63,
    "start_time": "2022-05-09T16:49:22.177Z"
   },
   {
    "duration": 17,
    "start_time": "2022-05-09T16:49:22.242Z"
   },
   {
    "duration": 1811,
    "start_time": "2022-05-09T16:49:22.261Z"
   },
   {
    "duration": 114,
    "start_time": "2022-05-09T16:49:24.075Z"
   },
   {
    "duration": 47,
    "start_time": "2022-05-09T16:49:24.191Z"
   },
   {
    "duration": 12,
    "start_time": "2022-05-09T16:49:24.243Z"
   },
   {
    "duration": 0,
    "start_time": "2022-05-09T16:49:24.258Z"
   },
   {
    "duration": 0,
    "start_time": "2022-05-09T16:49:24.259Z"
   },
   {
    "duration": 0,
    "start_time": "2022-05-09T16:49:24.261Z"
   },
   {
    "duration": 0,
    "start_time": "2022-05-09T16:49:24.263Z"
   },
   {
    "duration": 0,
    "start_time": "2022-05-09T16:49:24.265Z"
   },
   {
    "duration": 0,
    "start_time": "2022-05-09T16:49:24.267Z"
   },
   {
    "duration": 0,
    "start_time": "2022-05-09T16:49:24.269Z"
   },
   {
    "duration": 0,
    "start_time": "2022-05-09T16:49:24.270Z"
   },
   {
    "duration": 0,
    "start_time": "2022-05-09T16:49:24.272Z"
   },
   {
    "duration": 0,
    "start_time": "2022-05-09T16:49:24.273Z"
   },
   {
    "duration": 0,
    "start_time": "2022-05-09T16:49:24.275Z"
   },
   {
    "duration": 1,
    "start_time": "2022-05-09T16:49:24.276Z"
   },
   {
    "duration": 0,
    "start_time": "2022-05-09T16:49:24.278Z"
   },
   {
    "duration": 1,
    "start_time": "2022-05-09T16:49:24.279Z"
   },
   {
    "duration": 0,
    "start_time": "2022-05-09T16:49:24.328Z"
   },
   {
    "duration": 0,
    "start_time": "2022-05-09T16:49:24.330Z"
   },
   {
    "duration": 0,
    "start_time": "2022-05-09T16:49:24.331Z"
   },
   {
    "duration": 6,
    "start_time": "2022-05-09T16:49:53.701Z"
   },
   {
    "duration": 165,
    "start_time": "2022-05-09T16:49:53.710Z"
   },
   {
    "duration": 13,
    "start_time": "2022-05-09T16:49:53.983Z"
   },
   {
    "duration": 23,
    "start_time": "2022-05-09T16:49:53.999Z"
   },
   {
    "duration": 45,
    "start_time": "2022-05-09T16:49:54.030Z"
   },
   {
    "duration": 17,
    "start_time": "2022-05-09T16:49:54.078Z"
   },
   {
    "duration": 1840,
    "start_time": "2022-05-09T16:49:54.098Z"
   },
   {
    "duration": 98,
    "start_time": "2022-05-09T16:49:55.943Z"
   },
   {
    "duration": 20,
    "start_time": "2022-05-09T16:49:56.043Z"
   },
   {
    "duration": 12,
    "start_time": "2022-05-09T16:49:56.066Z"
   },
   {
    "duration": 0,
    "start_time": "2022-05-09T16:49:56.081Z"
   },
   {
    "duration": 0,
    "start_time": "2022-05-09T16:49:56.084Z"
   },
   {
    "duration": 0,
    "start_time": "2022-05-09T16:49:56.086Z"
   },
   {
    "duration": 0,
    "start_time": "2022-05-09T16:49:56.087Z"
   },
   {
    "duration": 0,
    "start_time": "2022-05-09T16:49:56.089Z"
   },
   {
    "duration": 0,
    "start_time": "2022-05-09T16:49:56.090Z"
   },
   {
    "duration": 0,
    "start_time": "2022-05-09T16:49:56.131Z"
   },
   {
    "duration": 0,
    "start_time": "2022-05-09T16:49:56.141Z"
   },
   {
    "duration": 0,
    "start_time": "2022-05-09T16:49:56.143Z"
   },
   {
    "duration": 0,
    "start_time": "2022-05-09T16:49:56.146Z"
   },
   {
    "duration": 0,
    "start_time": "2022-05-09T16:49:56.149Z"
   },
   {
    "duration": 0,
    "start_time": "2022-05-09T16:49:56.151Z"
   },
   {
    "duration": 0,
    "start_time": "2022-05-09T16:49:56.153Z"
   },
   {
    "duration": 0,
    "start_time": "2022-05-09T16:49:56.155Z"
   },
   {
    "duration": 0,
    "start_time": "2022-05-09T16:49:56.158Z"
   },
   {
    "duration": 1,
    "start_time": "2022-05-09T16:49:56.159Z"
   },
   {
    "duration": 0,
    "start_time": "2022-05-09T16:49:56.161Z"
   },
   {
    "duration": 5,
    "start_time": "2022-05-09T16:51:11.374Z"
   },
   {
    "duration": 229,
    "start_time": "2022-05-09T16:51:11.382Z"
   },
   {
    "duration": 21,
    "start_time": "2022-05-09T16:51:11.614Z"
   },
   {
    "duration": 22,
    "start_time": "2022-05-09T16:51:11.640Z"
   },
   {
    "duration": 40,
    "start_time": "2022-05-09T16:51:11.664Z"
   },
   {
    "duration": 42,
    "start_time": "2022-05-09T16:51:11.707Z"
   },
   {
    "duration": 1788,
    "start_time": "2022-05-09T16:51:11.752Z"
   },
   {
    "duration": 99,
    "start_time": "2022-05-09T16:51:13.543Z"
   },
   {
    "duration": 20,
    "start_time": "2022-05-09T16:51:13.645Z"
   },
   {
    "duration": 15,
    "start_time": "2022-05-09T16:51:13.669Z"
   },
   {
    "duration": 57,
    "start_time": "2022-05-09T16:51:13.686Z"
   },
   {
    "duration": 16,
    "start_time": "2022-05-09T16:51:13.745Z"
   },
   {
    "duration": 21,
    "start_time": "2022-05-09T16:51:13.763Z"
   },
   {
    "duration": 55,
    "start_time": "2022-05-09T16:51:13.786Z"
   },
   {
    "duration": 27,
    "start_time": "2022-05-09T16:51:13.843Z"
   },
   {
    "duration": 7,
    "start_time": "2022-05-09T16:51:13.872Z"
   },
   {
    "duration": 1880,
    "start_time": "2022-05-09T16:51:13.882Z"
   },
   {
    "duration": 18,
    "start_time": "2022-05-09T16:51:15.764Z"
   },
   {
    "duration": 15,
    "start_time": "2022-05-09T16:51:15.784Z"
   },
   {
    "duration": 23,
    "start_time": "2022-05-09T16:51:15.827Z"
   },
   {
    "duration": 25,
    "start_time": "2022-05-09T16:51:15.852Z"
   },
   {
    "duration": 694,
    "start_time": "2022-05-09T16:51:15.879Z"
   },
   {
    "duration": 21,
    "start_time": "2022-05-09T16:51:16.576Z"
   },
   {
    "duration": 7,
    "start_time": "2022-05-09T16:51:16.599Z"
   },
   {
    "duration": 25,
    "start_time": "2022-05-09T16:51:16.627Z"
   },
   {
    "duration": 403,
    "start_time": "2022-05-09T16:51:16.654Z"
   },
   {
    "duration": 5,
    "start_time": "2022-05-09T16:53:38.581Z"
   },
   {
    "duration": 126,
    "start_time": "2022-05-09T16:53:38.589Z"
   },
   {
    "duration": 18,
    "start_time": "2022-05-09T16:53:38.718Z"
   },
   {
    "duration": 28,
    "start_time": "2022-05-09T16:53:38.740Z"
   },
   {
    "duration": 56,
    "start_time": "2022-05-09T16:53:38.771Z"
   },
   {
    "duration": 20,
    "start_time": "2022-05-09T16:53:38.831Z"
   },
   {
    "duration": 1782,
    "start_time": "2022-05-09T16:53:38.854Z"
   },
   {
    "duration": 124,
    "start_time": "2022-05-09T16:53:40.645Z"
   },
   {
    "duration": 22,
    "start_time": "2022-05-09T16:53:40.783Z"
   },
   {
    "duration": 33,
    "start_time": "2022-05-09T16:53:40.807Z"
   },
   {
    "duration": 25,
    "start_time": "2022-05-09T16:53:40.843Z"
   },
   {
    "duration": 16,
    "start_time": "2022-05-09T16:53:40.870Z"
   },
   {
    "duration": 25,
    "start_time": "2022-05-09T16:53:40.924Z"
   },
   {
    "duration": 26,
    "start_time": "2022-05-09T16:53:40.951Z"
   },
   {
    "duration": 65,
    "start_time": "2022-05-09T16:53:40.980Z"
   },
   {
    "duration": 7,
    "start_time": "2022-05-09T16:53:41.048Z"
   },
   {
    "duration": 2148,
    "start_time": "2022-05-09T16:53:41.057Z"
   },
   {
    "duration": 37,
    "start_time": "2022-05-09T16:53:43.208Z"
   },
   {
    "duration": 18,
    "start_time": "2022-05-09T16:53:43.248Z"
   },
   {
    "duration": 57,
    "start_time": "2022-05-09T16:53:43.268Z"
   },
   {
    "duration": 36,
    "start_time": "2022-05-09T16:53:43.328Z"
   },
   {
    "duration": 711,
    "start_time": "2022-05-09T16:53:43.367Z"
   },
   {
    "duration": 25,
    "start_time": "2022-05-09T16:53:44.080Z"
   },
   {
    "duration": 10,
    "start_time": "2022-05-09T16:53:44.131Z"
   },
   {
    "duration": 27,
    "start_time": "2022-05-09T16:53:44.144Z"
   },
   {
    "duration": 582,
    "start_time": "2022-05-09T16:53:44.173Z"
   },
   {
    "duration": 6,
    "start_time": "2022-05-09T16:54:21.441Z"
   },
   {
    "duration": 126,
    "start_time": "2022-05-09T16:54:21.449Z"
   },
   {
    "duration": 15,
    "start_time": "2022-05-09T16:54:21.577Z"
   },
   {
    "duration": 39,
    "start_time": "2022-05-09T16:54:21.596Z"
   },
   {
    "duration": 35,
    "start_time": "2022-05-09T16:54:21.638Z"
   },
   {
    "duration": 15,
    "start_time": "2022-05-09T16:54:21.676Z"
   },
   {
    "duration": 1834,
    "start_time": "2022-05-09T16:54:21.694Z"
   },
   {
    "duration": 69,
    "start_time": "2022-05-09T16:54:23.532Z"
   },
   {
    "duration": 38,
    "start_time": "2022-05-09T16:54:23.603Z"
   },
   {
    "duration": 31,
    "start_time": "2022-05-09T16:54:23.646Z"
   },
   {
    "duration": 20,
    "start_time": "2022-05-09T16:54:23.679Z"
   },
   {
    "duration": 44,
    "start_time": "2022-05-09T16:54:23.701Z"
   },
   {
    "duration": 22,
    "start_time": "2022-05-09T16:54:23.748Z"
   },
   {
    "duration": 15,
    "start_time": "2022-05-09T16:54:23.772Z"
   },
   {
    "duration": 58,
    "start_time": "2022-05-09T16:54:23.789Z"
   },
   {
    "duration": 7,
    "start_time": "2022-05-09T16:54:23.849Z"
   },
   {
    "duration": 1866,
    "start_time": "2022-05-09T16:54:23.858Z"
   },
   {
    "duration": 24,
    "start_time": "2022-05-09T16:54:25.728Z"
   },
   {
    "duration": 17,
    "start_time": "2022-05-09T16:54:25.755Z"
   },
   {
    "duration": 70,
    "start_time": "2022-05-09T16:54:25.776Z"
   },
   {
    "duration": 26,
    "start_time": "2022-05-09T16:54:25.849Z"
   },
   {
    "duration": 689,
    "start_time": "2022-05-09T16:54:25.877Z"
   },
   {
    "duration": 23,
    "start_time": "2022-05-09T16:54:26.569Z"
   },
   {
    "duration": 34,
    "start_time": "2022-05-09T16:54:26.596Z"
   },
   {
    "duration": 37,
    "start_time": "2022-05-09T16:54:26.633Z"
   },
   {
    "duration": 440,
    "start_time": "2022-05-09T16:54:26.673Z"
   },
   {
    "duration": 15,
    "start_time": "2022-05-09T16:55:54.358Z"
   },
   {
    "duration": 16,
    "start_time": "2022-05-09T16:57:56.575Z"
   },
   {
    "duration": 519,
    "start_time": "2022-05-09T16:58:25.371Z"
   },
   {
    "duration": 59,
    "start_time": "2022-05-09T16:59:20.661Z"
   },
   {
    "duration": 95,
    "start_time": "2022-05-09T17:01:26.939Z"
   },
   {
    "duration": 67,
    "start_time": "2022-05-09T17:01:48.771Z"
   },
   {
    "duration": 58,
    "start_time": "2022-05-09T17:01:53.340Z"
   },
   {
    "duration": 6,
    "start_time": "2022-05-09T17:01:57.170Z"
   },
   {
    "duration": 164,
    "start_time": "2022-05-09T17:01:57.179Z"
   },
   {
    "duration": 14,
    "start_time": "2022-05-09T17:01:57.345Z"
   },
   {
    "duration": 21,
    "start_time": "2022-05-09T17:01:57.362Z"
   },
   {
    "duration": 48,
    "start_time": "2022-05-09T17:01:57.422Z"
   },
   {
    "duration": 17,
    "start_time": "2022-05-09T17:01:57.473Z"
   },
   {
    "duration": 1968,
    "start_time": "2022-05-09T17:01:57.492Z"
   },
   {
    "duration": 101,
    "start_time": "2022-05-09T17:01:59.462Z"
   },
   {
    "duration": 21,
    "start_time": "2022-05-09T17:01:59.566Z"
   },
   {
    "duration": 88,
    "start_time": "2022-05-09T17:01:59.589Z"
   },
   {
    "duration": 16,
    "start_time": "2022-05-09T17:01:59.679Z"
   },
   {
    "duration": 89,
    "start_time": "2022-05-09T17:01:59.698Z"
   },
   {
    "duration": 37,
    "start_time": "2022-05-09T17:01:59.790Z"
   },
   {
    "duration": 25,
    "start_time": "2022-05-09T17:01:59.832Z"
   },
   {
    "duration": 16,
    "start_time": "2022-05-09T17:01:59.860Z"
   },
   {
    "duration": 73,
    "start_time": "2022-05-09T17:01:59.878Z"
   },
   {
    "duration": 7,
    "start_time": "2022-05-09T17:01:59.953Z"
   },
   {
    "duration": 1819,
    "start_time": "2022-05-09T17:01:59.966Z"
   },
   {
    "duration": 19,
    "start_time": "2022-05-09T17:02:01.787Z"
   },
   {
    "duration": 38,
    "start_time": "2022-05-09T17:02:01.808Z"
   },
   {
    "duration": 28,
    "start_time": "2022-05-09T17:02:01.848Z"
   },
   {
    "duration": 25,
    "start_time": "2022-05-09T17:02:01.879Z"
   },
   {
    "duration": 692,
    "start_time": "2022-05-09T17:02:01.926Z"
   },
   {
    "duration": 30,
    "start_time": "2022-05-09T17:02:02.620Z"
   },
   {
    "duration": 13,
    "start_time": "2022-05-09T17:02:02.652Z"
   },
   {
    "duration": 27,
    "start_time": "2022-05-09T17:02:02.667Z"
   },
   {
    "duration": 416,
    "start_time": "2022-05-09T17:02:02.696Z"
   },
   {
    "duration": 89,
    "start_time": "2022-05-09T17:03:20.219Z"
   },
   {
    "duration": 230,
    "start_time": "2022-05-09T17:03:36.153Z"
   },
   {
    "duration": 65,
    "start_time": "2022-05-09T17:04:28.997Z"
   },
   {
    "duration": 1755,
    "start_time": "2022-05-09T17:05:39.194Z"
   },
   {
    "duration": 60,
    "start_time": "2022-05-09T17:07:29.462Z"
   },
   {
    "duration": 75,
    "start_time": "2022-05-09T17:07:54.397Z"
   },
   {
    "duration": 104,
    "start_time": "2022-05-09T17:08:22.400Z"
   },
   {
    "duration": 69,
    "start_time": "2022-05-09T17:08:35.717Z"
   },
   {
    "duration": 81,
    "start_time": "2022-05-09T17:08:40.600Z"
   },
   {
    "duration": 62,
    "start_time": "2022-05-09T17:09:10.448Z"
   },
   {
    "duration": 713,
    "start_time": "2022-05-09T17:12:40.054Z"
   },
   {
    "duration": 41,
    "start_time": "2022-05-09T17:13:38.794Z"
   },
   {
    "duration": 648,
    "start_time": "2022-05-09T17:13:41.626Z"
   },
   {
    "duration": 652,
    "start_time": "2022-05-09T17:13:52.708Z"
   },
   {
    "duration": 34,
    "start_time": "2022-05-09T17:14:28.975Z"
   },
   {
    "duration": 810,
    "start_time": "2022-05-09T17:14:39.943Z"
   },
   {
    "duration": 621,
    "start_time": "2022-05-09T17:15:05.948Z"
   },
   {
    "duration": 657,
    "start_time": "2022-05-09T17:15:25.237Z"
   },
   {
    "duration": 770,
    "start_time": "2022-05-09T17:16:00.126Z"
   },
   {
    "duration": 668,
    "start_time": "2022-05-09T17:16:04.721Z"
   },
   {
    "duration": 717,
    "start_time": "2022-05-09T17:16:10.285Z"
   },
   {
    "duration": 517,
    "start_time": "2022-05-09T17:17:46.912Z"
   },
   {
    "duration": 2022,
    "start_time": "2022-05-09T22:03:58.010Z"
   },
   {
    "duration": 119,
    "start_time": "2022-05-09T22:04:00.035Z"
   },
   {
    "duration": 20,
    "start_time": "2022-05-09T22:04:00.156Z"
   },
   {
    "duration": 21,
    "start_time": "2022-05-09T22:04:00.179Z"
   },
   {
    "duration": 60,
    "start_time": "2022-05-09T22:04:00.202Z"
   },
   {
    "duration": 15,
    "start_time": "2022-05-09T22:04:00.264Z"
   },
   {
    "duration": 1700,
    "start_time": "2022-05-09T22:04:00.281Z"
   },
   {
    "duration": 95,
    "start_time": "2022-05-09T22:04:01.991Z"
   },
   {
    "duration": 27,
    "start_time": "2022-05-09T22:04:02.088Z"
   },
   {
    "duration": 661,
    "start_time": "2022-05-09T22:04:02.119Z"
   },
   {
    "duration": 22,
    "start_time": "2022-05-09T22:04:02.783Z"
   },
   {
    "duration": 163,
    "start_time": "2022-05-09T22:04:02.808Z"
   },
   {
    "duration": 85,
    "start_time": "2022-05-09T22:04:02.974Z"
   },
   {
    "duration": 57,
    "start_time": "2022-05-09T22:04:03.062Z"
   },
   {
    "duration": 33,
    "start_time": "2022-05-09T22:04:03.152Z"
   },
   {
    "duration": 9,
    "start_time": "2022-05-09T22:04:03.187Z"
   },
   {
    "duration": 1689,
    "start_time": "2022-05-09T22:04:03.199Z"
   },
   {
    "duration": 20,
    "start_time": "2022-05-09T22:04:04.890Z"
   },
   {
    "duration": 82,
    "start_time": "2022-05-09T22:04:04.913Z"
   },
   {
    "duration": 25,
    "start_time": "2022-05-09T22:04:04.998Z"
   },
   {
    "duration": 23,
    "start_time": "2022-05-09T22:04:05.052Z"
   },
   {
    "duration": 658,
    "start_time": "2022-05-09T22:04:05.077Z"
   },
   {
    "duration": 29,
    "start_time": "2022-05-09T22:04:05.737Z"
   },
   {
    "duration": 8,
    "start_time": "2022-05-09T22:04:05.769Z"
   },
   {
    "duration": 23,
    "start_time": "2022-05-09T22:04:05.779Z"
   },
   {
    "duration": 406,
    "start_time": "2022-05-09T22:04:05.805Z"
   },
   {
    "duration": 6,
    "start_time": "2022-05-09T22:07:07.515Z"
   },
   {
    "duration": 126,
    "start_time": "2022-05-09T22:07:07.523Z"
   },
   {
    "duration": 14,
    "start_time": "2022-05-09T22:07:07.651Z"
   },
   {
    "duration": 38,
    "start_time": "2022-05-09T22:07:07.668Z"
   },
   {
    "duration": 51,
    "start_time": "2022-05-09T22:07:07.708Z"
   },
   {
    "duration": 15,
    "start_time": "2022-05-09T22:07:07.762Z"
   },
   {
    "duration": 2182,
    "start_time": "2022-05-09T22:07:07.780Z"
   },
   {
    "duration": 120,
    "start_time": "2022-05-09T22:07:09.981Z"
   },
   {
    "duration": 47,
    "start_time": "2022-05-09T22:07:10.107Z"
   },
   {
    "duration": 58,
    "start_time": "2022-05-09T22:07:10.157Z"
   },
   {
    "duration": 41,
    "start_time": "2022-05-09T22:07:10.217Z"
   },
   {
    "duration": 102,
    "start_time": "2022-05-09T22:07:10.261Z"
   },
   {
    "duration": 22,
    "start_time": "2022-05-09T22:07:10.365Z"
   },
   {
    "duration": 81,
    "start_time": "2022-05-09T22:07:10.389Z"
   },
   {
    "duration": 25,
    "start_time": "2022-05-09T22:07:10.472Z"
   },
   {
    "duration": 11,
    "start_time": "2022-05-09T22:07:10.499Z"
   },
   {
    "duration": 1649,
    "start_time": "2022-05-09T22:07:10.512Z"
   },
   {
    "duration": 19,
    "start_time": "2022-05-09T22:07:12.164Z"
   },
   {
    "duration": 80,
    "start_time": "2022-05-09T22:07:12.185Z"
   },
   {
    "duration": 30,
    "start_time": "2022-05-09T22:07:12.268Z"
   },
   {
    "duration": 22,
    "start_time": "2022-05-09T22:07:12.300Z"
   },
   {
    "duration": 670,
    "start_time": "2022-05-09T22:07:12.324Z"
   },
   {
    "duration": 20,
    "start_time": "2022-05-09T22:07:12.997Z"
   },
   {
    "duration": 31,
    "start_time": "2022-05-09T22:07:13.023Z"
   },
   {
    "duration": 28,
    "start_time": "2022-05-09T22:07:13.056Z"
   },
   {
    "duration": 556,
    "start_time": "2022-05-09T22:07:13.087Z"
   },
   {
    "duration": 7,
    "start_time": "2022-05-09T22:08:42.682Z"
   },
   {
    "duration": 137,
    "start_time": "2022-05-09T22:08:42.693Z"
   },
   {
    "duration": 12,
    "start_time": "2022-05-09T22:08:42.833Z"
   },
   {
    "duration": 20,
    "start_time": "2022-05-09T22:08:42.851Z"
   },
   {
    "duration": 43,
    "start_time": "2022-05-09T22:08:42.875Z"
   },
   {
    "duration": 47,
    "start_time": "2022-05-09T22:08:42.921Z"
   },
   {
    "duration": 1890,
    "start_time": "2022-05-09T22:08:42.971Z"
   },
   {
    "duration": 88,
    "start_time": "2022-05-09T22:08:44.864Z"
   },
   {
    "duration": 19,
    "start_time": "2022-05-09T22:08:44.955Z"
   },
   {
    "duration": 84,
    "start_time": "2022-05-09T22:08:44.976Z"
   },
   {
    "duration": 17,
    "start_time": "2022-05-09T22:08:45.066Z"
   },
   {
    "duration": 84,
    "start_time": "2022-05-09T22:08:45.086Z"
   },
   {
    "duration": 23,
    "start_time": "2022-05-09T22:08:45.173Z"
   },
   {
    "duration": 84,
    "start_time": "2022-05-09T22:08:45.199Z"
   },
   {
    "duration": 33,
    "start_time": "2022-05-09T22:08:45.285Z"
   },
   {
    "duration": 1647,
    "start_time": "2022-05-09T22:08:45.321Z"
   },
   {
    "duration": 19,
    "start_time": "2022-05-09T22:08:46.970Z"
   },
   {
    "duration": 204,
    "start_time": "2022-05-09T22:08:46.991Z"
   },
   {
    "duration": 21,
    "start_time": "2022-05-09T22:08:47.197Z"
   },
   {
    "duration": 42,
    "start_time": "2022-05-09T22:08:47.220Z"
   },
   {
    "duration": 615,
    "start_time": "2022-05-09T22:08:47.264Z"
   },
   {
    "duration": 21,
    "start_time": "2022-05-09T22:08:47.881Z"
   },
   {
    "duration": 7,
    "start_time": "2022-05-09T22:08:47.904Z"
   },
   {
    "duration": 52,
    "start_time": "2022-05-09T22:08:47.914Z"
   },
   {
    "duration": 359,
    "start_time": "2022-05-09T22:08:47.969Z"
   },
   {
    "duration": 2260,
    "start_time": "2022-05-10T18:17:18.768Z"
   },
   {
    "duration": 208,
    "start_time": "2022-05-10T18:17:21.031Z"
   },
   {
    "duration": 13,
    "start_time": "2022-05-10T18:17:21.241Z"
   },
   {
    "duration": 22,
    "start_time": "2022-05-10T18:17:21.256Z"
   },
   {
    "duration": 27,
    "start_time": "2022-05-10T18:17:21.300Z"
   },
   {
    "duration": 14,
    "start_time": "2022-05-10T18:17:21.329Z"
   },
   {
    "duration": 1066,
    "start_time": "2022-05-10T18:17:21.345Z"
   },
   {
    "duration": 44,
    "start_time": "2022-05-10T18:17:22.414Z"
   },
   {
    "duration": 16,
    "start_time": "2022-05-10T18:17:22.460Z"
   },
   {
    "duration": 592,
    "start_time": "2022-05-10T18:17:22.478Z"
   },
   {
    "duration": 11,
    "start_time": "2022-05-10T18:17:23.072Z"
   },
   {
    "duration": 58,
    "start_time": "2022-05-10T18:17:23.084Z"
   },
   {
    "duration": 76,
    "start_time": "2022-05-10T18:17:23.144Z"
   },
   {
    "duration": 41,
    "start_time": "2022-05-10T18:17:23.222Z"
   },
   {
    "duration": 59,
    "start_time": "2022-05-10T18:17:23.266Z"
   },
   {
    "duration": 1163,
    "start_time": "2022-05-10T18:17:23.327Z"
   },
   {
    "duration": 19,
    "start_time": "2022-05-10T18:17:24.499Z"
   },
   {
    "duration": 39,
    "start_time": "2022-05-10T18:17:24.519Z"
   },
   {
    "duration": 17,
    "start_time": "2022-05-10T18:17:24.560Z"
   },
   {
    "duration": 28,
    "start_time": "2022-05-10T18:17:24.579Z"
   },
   {
    "duration": 423,
    "start_time": "2022-05-10T18:17:24.609Z"
   },
   {
    "duration": 14,
    "start_time": "2022-05-10T18:17:25.033Z"
   },
   {
    "duration": 25,
    "start_time": "2022-05-10T18:17:25.049Z"
   },
   {
    "duration": 17,
    "start_time": "2022-05-10T18:17:25.076Z"
   },
   {
    "duration": 206,
    "start_time": "2022-05-10T18:17:25.095Z"
   },
   {
    "duration": 1502,
    "start_time": "2022-05-10T19:43:17.278Z"
   },
   {
    "duration": 162,
    "start_time": "2022-05-10T19:43:18.782Z"
   },
   {
    "duration": 14,
    "start_time": "2022-05-10T19:43:18.945Z"
   },
   {
    "duration": 20,
    "start_time": "2022-05-10T19:43:18.961Z"
   },
   {
    "duration": 29,
    "start_time": "2022-05-10T19:43:18.982Z"
   },
   {
    "duration": 10,
    "start_time": "2022-05-10T19:43:19.012Z"
   },
   {
    "duration": 1139,
    "start_time": "2022-05-10T19:43:19.024Z"
   },
   {
    "duration": 41,
    "start_time": "2022-05-10T19:43:20.200Z"
   },
   {
    "duration": 14,
    "start_time": "2022-05-10T19:43:20.242Z"
   },
   {
    "duration": 377,
    "start_time": "2022-05-10T19:43:20.259Z"
   },
   {
    "duration": 11,
    "start_time": "2022-05-10T19:43:20.638Z"
   },
   {
    "duration": 55,
    "start_time": "2022-05-10T19:43:20.650Z"
   },
   {
    "duration": 18,
    "start_time": "2022-05-10T19:43:20.707Z"
   },
   {
    "duration": 180,
    "start_time": "2022-05-10T19:43:20.726Z"
   },
   {
    "duration": 17,
    "start_time": "2022-05-10T19:43:20.908Z"
   },
   {
    "duration": 1042,
    "start_time": "2022-05-10T19:43:20.927Z"
   },
   {
    "duration": 12,
    "start_time": "2022-05-10T19:43:21.970Z"
   },
   {
    "duration": 40,
    "start_time": "2022-05-10T19:43:21.983Z"
   },
   {
    "duration": 19,
    "start_time": "2022-05-10T19:43:22.025Z"
   },
   {
    "duration": 18,
    "start_time": "2022-05-10T19:43:22.046Z"
   },
   {
    "duration": 367,
    "start_time": "2022-05-10T19:43:22.066Z"
   },
   {
    "duration": 15,
    "start_time": "2022-05-10T19:43:22.435Z"
   },
   {
    "duration": 11,
    "start_time": "2022-05-10T19:43:22.452Z"
   },
   {
    "duration": 35,
    "start_time": "2022-05-10T19:43:22.464Z"
   },
   {
    "duration": 186,
    "start_time": "2022-05-10T19:43:22.501Z"
   },
   {
    "duration": 183,
    "start_time": "2022-05-10T20:59:55.747Z"
   },
   {
    "duration": 13,
    "start_time": "2022-05-10T21:09:17.069Z"
   },
   {
    "duration": 4,
    "start_time": "2022-05-10T21:10:25.238Z"
   },
   {
    "duration": 160,
    "start_time": "2022-05-10T21:10:25.244Z"
   },
   {
    "duration": 9,
    "start_time": "2022-05-10T21:10:25.407Z"
   },
   {
    "duration": 11,
    "start_time": "2022-05-10T21:10:31.756Z"
   },
   {
    "duration": 14,
    "start_time": "2022-05-10T21:10:32.504Z"
   },
   {
    "duration": 11,
    "start_time": "2022-05-10T21:10:39.723Z"
   },
   {
    "duration": 22,
    "start_time": "2022-05-10T21:11:29.813Z"
   },
   {
    "duration": 35,
    "start_time": "2022-05-10T21:14:43.315Z"
   },
   {
    "duration": 40,
    "start_time": "2022-05-10T21:14:52.596Z"
   },
   {
    "duration": 37,
    "start_time": "2022-05-10T21:15:01.283Z"
   },
   {
    "duration": 186,
    "start_time": "2022-05-10T21:23:19.005Z"
   },
   {
    "duration": 43,
    "start_time": "2022-05-10T21:23:34.599Z"
   },
   {
    "duration": 16,
    "start_time": "2022-05-10T21:27:44.708Z"
   },
   {
    "duration": 18,
    "start_time": "2022-05-10T21:29:02.352Z"
   },
   {
    "duration": 22,
    "start_time": "2022-05-10T21:29:14.021Z"
   },
   {
    "duration": 17,
    "start_time": "2022-05-10T21:30:30.069Z"
   },
   {
    "duration": 4,
    "start_time": "2022-05-10T21:30:57.466Z"
   },
   {
    "duration": 197,
    "start_time": "2022-05-10T21:30:57.472Z"
   },
   {
    "duration": 9,
    "start_time": "2022-05-10T21:30:57.671Z"
   },
   {
    "duration": 17,
    "start_time": "2022-05-10T21:30:57.681Z"
   },
   {
    "duration": 36,
    "start_time": "2022-05-10T21:30:57.700Z"
   },
   {
    "duration": 19,
    "start_time": "2022-05-10T21:30:57.738Z"
   },
   {
    "duration": 26,
    "start_time": "2022-05-10T21:31:00.980Z"
   },
   {
    "duration": 11,
    "start_time": "2022-05-10T21:31:07.851Z"
   },
   {
    "duration": 1353,
    "start_time": "2022-05-10T21:31:08.658Z"
   },
   {
    "duration": 83,
    "start_time": "2022-05-10T21:31:10.020Z"
   },
   {
    "duration": 5,
    "start_time": "2022-05-10T21:31:22.033Z"
   },
   {
    "duration": 165,
    "start_time": "2022-05-10T21:31:22.041Z"
   },
   {
    "duration": 9,
    "start_time": "2022-05-10T21:31:22.208Z"
   },
   {
    "duration": 20,
    "start_time": "2022-05-10T21:31:22.219Z"
   },
   {
    "duration": 72,
    "start_time": "2022-05-10T21:31:22.241Z"
   },
   {
    "duration": 48,
    "start_time": "2022-05-10T21:31:24.060Z"
   },
   {
    "duration": 28,
    "start_time": "2022-05-10T21:31:24.532Z"
   },
   {
    "duration": 43,
    "start_time": "2022-05-10T21:32:03.702Z"
   },
   {
    "duration": 31,
    "start_time": "2022-05-10T21:32:17.101Z"
   },
   {
    "duration": 4,
    "start_time": "2022-05-10T21:32:28.073Z"
   },
   {
    "duration": 146,
    "start_time": "2022-05-10T21:32:28.078Z"
   },
   {
    "duration": 9,
    "start_time": "2022-05-10T21:32:28.227Z"
   },
   {
    "duration": 13,
    "start_time": "2022-05-10T21:32:28.237Z"
   },
   {
    "duration": 49,
    "start_time": "2022-05-10T21:32:28.252Z"
   },
   {
    "duration": 29,
    "start_time": "2022-05-10T21:32:29.419Z"
   },
   {
    "duration": 30,
    "start_time": "2022-05-10T21:32:30.125Z"
   },
   {
    "duration": 3,
    "start_time": "2022-05-10T21:33:28.674Z"
   },
   {
    "duration": 248,
    "start_time": "2022-05-10T21:33:28.679Z"
   },
   {
    "duration": 9,
    "start_time": "2022-05-10T21:33:28.928Z"
   },
   {
    "duration": 13,
    "start_time": "2022-05-10T21:33:28.938Z"
   },
   {
    "duration": 31,
    "start_time": "2022-05-10T21:33:28.953Z"
   },
   {
    "duration": 190,
    "start_time": "2022-05-10T21:33:28.985Z"
   },
   {
    "duration": 0,
    "start_time": "2022-05-10T21:33:29.177Z"
   },
   {
    "duration": 0,
    "start_time": "2022-05-10T21:33:29.178Z"
   },
   {
    "duration": 0,
    "start_time": "2022-05-10T21:33:29.179Z"
   },
   {
    "duration": 0,
    "start_time": "2022-05-10T21:33:29.180Z"
   },
   {
    "duration": 0,
    "start_time": "2022-05-10T21:33:29.181Z"
   },
   {
    "duration": 0,
    "start_time": "2022-05-10T21:33:29.182Z"
   },
   {
    "duration": 0,
    "start_time": "2022-05-10T21:33:29.183Z"
   },
   {
    "duration": 0,
    "start_time": "2022-05-10T21:33:29.184Z"
   },
   {
    "duration": 0,
    "start_time": "2022-05-10T21:33:29.185Z"
   },
   {
    "duration": 0,
    "start_time": "2022-05-10T21:33:29.186Z"
   },
   {
    "duration": 0,
    "start_time": "2022-05-10T21:33:29.187Z"
   },
   {
    "duration": 0,
    "start_time": "2022-05-10T21:33:29.188Z"
   },
   {
    "duration": 0,
    "start_time": "2022-05-10T21:33:29.189Z"
   },
   {
    "duration": 0,
    "start_time": "2022-05-10T21:33:29.190Z"
   },
   {
    "duration": 0,
    "start_time": "2022-05-10T21:33:29.191Z"
   },
   {
    "duration": 0,
    "start_time": "2022-05-10T21:33:29.192Z"
   },
   {
    "duration": 0,
    "start_time": "2022-05-10T21:33:29.193Z"
   },
   {
    "duration": 0,
    "start_time": "2022-05-10T21:33:29.193Z"
   },
   {
    "duration": 0,
    "start_time": "2022-05-10T21:33:29.194Z"
   },
   {
    "duration": 0,
    "start_time": "2022-05-10T21:33:29.195Z"
   },
   {
    "duration": 4,
    "start_time": "2022-05-10T21:33:45.488Z"
   },
   {
    "duration": 816,
    "start_time": "2022-05-10T21:33:45.494Z"
   },
   {
    "duration": 9,
    "start_time": "2022-05-10T21:33:46.312Z"
   },
   {
    "duration": 27,
    "start_time": "2022-05-10T21:33:46.322Z"
   },
   {
    "duration": 33,
    "start_time": "2022-05-10T21:33:46.350Z"
   },
   {
    "duration": 29,
    "start_time": "2022-05-10T21:33:49.459Z"
   },
   {
    "duration": 29,
    "start_time": "2022-05-10T21:33:49.490Z"
   },
   {
    "duration": 30,
    "start_time": "2022-05-10T21:34:07.579Z"
   },
   {
    "duration": 34,
    "start_time": "2022-05-10T21:34:16.806Z"
   },
   {
    "duration": 32,
    "start_time": "2022-05-10T21:34:23.500Z"
   },
   {
    "duration": 16,
    "start_time": "2022-05-10T21:35:02.878Z"
   },
   {
    "duration": 32,
    "start_time": "2022-05-10T21:36:36.142Z"
   },
   {
    "duration": 4,
    "start_time": "2022-05-10T21:37:14.676Z"
   },
   {
    "duration": 167,
    "start_time": "2022-05-10T21:37:14.681Z"
   },
   {
    "duration": 8,
    "start_time": "2022-05-10T21:37:14.849Z"
   },
   {
    "duration": 17,
    "start_time": "2022-05-10T21:37:14.859Z"
   },
   {
    "duration": 31,
    "start_time": "2022-05-10T21:37:14.877Z"
   },
   {
    "duration": 30,
    "start_time": "2022-05-10T21:37:16.492Z"
   },
   {
    "duration": 30,
    "start_time": "2022-05-10T21:37:49.141Z"
   },
   {
    "duration": 30,
    "start_time": "2022-05-10T21:38:03.125Z"
   },
   {
    "duration": 29,
    "start_time": "2022-05-10T21:38:10.509Z"
   },
   {
    "duration": 5,
    "start_time": "2022-05-10T21:43:12.913Z"
   },
   {
    "duration": 784,
    "start_time": "2022-05-10T21:43:12.920Z"
   },
   {
    "duration": 8,
    "start_time": "2022-05-10T21:43:13.705Z"
   },
   {
    "duration": 14,
    "start_time": "2022-05-10T21:43:13.716Z"
   },
   {
    "duration": 31,
    "start_time": "2022-05-10T21:43:13.732Z"
   },
   {
    "duration": 29,
    "start_time": "2022-05-10T21:43:15.462Z"
   },
   {
    "duration": 14,
    "start_time": "2022-05-10T21:43:16.070Z"
   },
   {
    "duration": 34,
    "start_time": "2022-05-10T21:43:31.440Z"
   },
   {
    "duration": 4,
    "start_time": "2022-05-10T21:45:04.548Z"
   },
   {
    "duration": 217,
    "start_time": "2022-05-10T21:45:04.554Z"
   },
   {
    "duration": 10,
    "start_time": "2022-05-10T21:45:04.773Z"
   },
   {
    "duration": 13,
    "start_time": "2022-05-10T21:45:04.785Z"
   },
   {
    "duration": 13,
    "start_time": "2022-05-10T21:45:08.774Z"
   },
   {
    "duration": 33,
    "start_time": "2022-05-10T21:45:09.374Z"
   },
   {
    "duration": 31,
    "start_time": "2022-05-10T21:45:22.995Z"
   },
   {
    "duration": 4,
    "start_time": "2022-05-10T21:47:58.208Z"
   },
   {
    "duration": 152,
    "start_time": "2022-05-10T21:47:58.214Z"
   },
   {
    "duration": 8,
    "start_time": "2022-05-10T21:47:58.368Z"
   },
   {
    "duration": 14,
    "start_time": "2022-05-10T21:47:58.378Z"
   },
   {
    "duration": 23,
    "start_time": "2022-05-10T21:48:34.297Z"
   },
   {
    "duration": 9,
    "start_time": "2022-05-10T22:04:01.102Z"
   },
   {
    "duration": 38,
    "start_time": "2022-05-10T22:05:02.265Z"
   },
   {
    "duration": 41,
    "start_time": "2022-05-10T22:05:11.759Z"
   },
   {
    "duration": 39,
    "start_time": "2022-05-10T22:05:43.657Z"
   },
   {
    "duration": 42,
    "start_time": "2022-05-10T22:05:58.912Z"
   },
   {
    "duration": 59,
    "start_time": "2022-05-10T22:14:34.449Z"
   },
   {
    "duration": 67,
    "start_time": "2022-05-10T22:14:53.572Z"
   },
   {
    "duration": 63,
    "start_time": "2022-05-10T22:14:56.977Z"
   },
   {
    "duration": 58,
    "start_time": "2022-05-10T22:15:23.290Z"
   },
   {
    "duration": 12,
    "start_time": "2022-05-10T22:15:42.320Z"
   },
   {
    "duration": 1095,
    "start_time": "2022-05-10T22:15:50.832Z"
   },
   {
    "duration": 41,
    "start_time": "2022-05-10T22:15:55.964Z"
   },
   {
    "duration": 12,
    "start_time": "2022-05-10T22:16:03.721Z"
   },
   {
    "duration": 35,
    "start_time": "2022-05-10T22:16:07.841Z"
   },
   {
    "duration": 10,
    "start_time": "2022-05-10T22:16:31.377Z"
   },
   {
    "duration": 32,
    "start_time": "2022-05-10T22:16:32.665Z"
   },
   {
    "duration": 14,
    "start_time": "2022-05-10T22:16:40.465Z"
   },
   {
    "duration": 32,
    "start_time": "2022-05-10T22:16:41.563Z"
   },
   {
    "duration": 16,
    "start_time": "2022-05-10T22:17:09.329Z"
   },
   {
    "duration": 1050,
    "start_time": "2022-05-10T22:17:11.889Z"
   },
   {
    "duration": 12,
    "start_time": "2022-05-10T22:17:20.994Z"
   },
   {
    "duration": 34,
    "start_time": "2022-05-10T22:17:22.897Z"
   },
   {
    "duration": 231,
    "start_time": "2022-05-10T22:25:21.357Z"
   },
   {
    "duration": 4,
    "start_time": "2022-05-10T22:26:01.788Z"
   },
   {
    "duration": 155,
    "start_time": "2022-05-10T22:26:01.794Z"
   },
   {
    "duration": 9,
    "start_time": "2022-05-10T22:26:01.951Z"
   },
   {
    "duration": 18,
    "start_time": "2022-05-10T22:26:01.962Z"
   },
   {
    "duration": 10,
    "start_time": "2022-05-10T22:26:01.982Z"
   },
   {
    "duration": 69,
    "start_time": "2022-05-10T22:26:01.993Z"
   },
   {
    "duration": 11,
    "start_time": "2022-05-10T22:26:02.064Z"
   },
   {
    "duration": 1227,
    "start_time": "2022-05-10T22:26:02.076Z"
   },
   {
    "duration": 42,
    "start_time": "2022-05-10T22:26:03.305Z"
   },
   {
    "duration": 13,
    "start_time": "2022-05-10T22:26:03.349Z"
   },
   {
    "duration": 56,
    "start_time": "2022-05-10T22:26:03.364Z"
   },
   {
    "duration": 11,
    "start_time": "2022-05-10T22:26:03.421Z"
   },
   {
    "duration": 35,
    "start_time": "2022-05-10T22:26:03.433Z"
   },
   {
    "duration": 42,
    "start_time": "2022-05-10T22:26:03.470Z"
   },
   {
    "duration": 34,
    "start_time": "2022-05-10T22:26:03.513Z"
   },
   {
    "duration": 16,
    "start_time": "2022-05-10T22:26:03.549Z"
   },
   {
    "duration": 1255,
    "start_time": "2022-05-10T22:26:03.567Z"
   },
   {
    "duration": 11,
    "start_time": "2022-05-10T22:26:04.824Z"
   },
   {
    "duration": 33,
    "start_time": "2022-05-10T22:26:04.837Z"
   },
   {
    "duration": 33,
    "start_time": "2022-05-10T22:26:07.339Z"
   },
   {
    "duration": 223,
    "start_time": "2022-05-10T22:26:08.362Z"
   },
   {
    "duration": 211,
    "start_time": "2022-05-10T22:28:50.236Z"
   },
   {
    "duration": 352,
    "start_time": "2022-05-10T22:29:00.811Z"
   },
   {
    "duration": 1232,
    "start_time": "2022-05-10T22:29:22.798Z"
   },
   {
    "duration": 149,
    "start_time": "2022-05-10T22:29:24.032Z"
   },
   {
    "duration": 14,
    "start_time": "2022-05-10T22:29:24.183Z"
   },
   {
    "duration": 13,
    "start_time": "2022-05-10T22:29:24.199Z"
   },
   {
    "duration": 9,
    "start_time": "2022-05-10T22:29:24.214Z"
   },
   {
    "duration": 58,
    "start_time": "2022-05-10T22:29:24.225Z"
   },
   {
    "duration": 24,
    "start_time": "2022-05-10T22:29:24.285Z"
   },
   {
    "duration": 1130,
    "start_time": "2022-05-10T22:29:24.311Z"
   },
   {
    "duration": 71,
    "start_time": "2022-05-10T22:29:25.443Z"
   },
   {
    "duration": 12,
    "start_time": "2022-05-10T22:29:25.516Z"
   },
   {
    "duration": 366,
    "start_time": "2022-05-10T22:29:25.529Z"
   },
   {
    "duration": 11,
    "start_time": "2022-05-10T22:29:25.897Z"
   },
   {
    "duration": 152,
    "start_time": "2022-05-10T22:29:25.910Z"
   },
   {
    "duration": 38,
    "start_time": "2022-05-10T22:29:26.064Z"
   },
   {
    "duration": 31,
    "start_time": "2022-05-10T22:29:26.104Z"
   },
   {
    "duration": 27,
    "start_time": "2022-05-10T22:29:26.136Z"
   },
   {
    "duration": 908,
    "start_time": "2022-05-10T22:29:26.164Z"
   },
   {
    "duration": 12,
    "start_time": "2022-05-10T22:29:27.074Z"
   },
   {
    "duration": 40,
    "start_time": "2022-05-10T22:29:27.087Z"
   },
   {
    "duration": 33,
    "start_time": "2022-05-10T22:29:33.622Z"
   },
   {
    "duration": 176,
    "start_time": "2022-05-10T22:29:36.533Z"
   },
   {
    "duration": 745,
    "start_time": "2022-05-10T22:30:18.175Z"
   },
   {
    "duration": 177,
    "start_time": "2022-05-10T22:30:49.950Z"
   },
   {
    "duration": 221,
    "start_time": "2022-05-10T22:31:52.766Z"
   },
   {
    "duration": 10,
    "start_time": "2022-05-10T22:33:23.814Z"
   },
   {
    "duration": 3,
    "start_time": "2022-05-10T22:33:27.001Z"
   },
   {
    "duration": 156,
    "start_time": "2022-05-10T22:33:27.006Z"
   },
   {
    "duration": 7,
    "start_time": "2022-05-10T22:33:27.164Z"
   },
   {
    "duration": 13,
    "start_time": "2022-05-10T22:33:27.173Z"
   },
   {
    "duration": 7,
    "start_time": "2022-05-10T22:33:27.188Z"
   },
   {
    "duration": 57,
    "start_time": "2022-05-10T22:33:27.196Z"
   },
   {
    "duration": 10,
    "start_time": "2022-05-10T22:33:27.254Z"
   },
   {
    "duration": 1094,
    "start_time": "2022-05-10T22:33:27.265Z"
   },
   {
    "duration": 80,
    "start_time": "2022-05-10T22:33:28.360Z"
   },
   {
    "duration": 11,
    "start_time": "2022-05-10T22:33:28.442Z"
   },
   {
    "duration": 48,
    "start_time": "2022-05-10T22:33:28.456Z"
   },
   {
    "duration": 10,
    "start_time": "2022-05-10T22:33:28.506Z"
   },
   {
    "duration": 36,
    "start_time": "2022-05-10T22:33:28.517Z"
   },
   {
    "duration": 14,
    "start_time": "2022-05-10T22:33:28.554Z"
   },
   {
    "duration": 60,
    "start_time": "2022-05-10T22:33:28.570Z"
   },
   {
    "duration": 14,
    "start_time": "2022-05-10T22:33:28.632Z"
   },
   {
    "duration": 943,
    "start_time": "2022-05-10T22:33:28.647Z"
   },
   {
    "duration": 11,
    "start_time": "2022-05-10T22:33:29.591Z"
   },
   {
    "duration": 33,
    "start_time": "2022-05-10T22:33:29.603Z"
   },
   {
    "duration": 217,
    "start_time": "2022-05-10T22:33:29.638Z"
   },
   {
    "duration": 220,
    "start_time": "2022-05-10T22:33:29.857Z"
   },
   {
    "duration": 0,
    "start_time": "2022-05-10T22:33:30.078Z"
   },
   {
    "duration": 1,
    "start_time": "2022-05-10T22:33:30.079Z"
   },
   {
    "duration": 0,
    "start_time": "2022-05-10T22:33:30.081Z"
   },
   {
    "duration": 0,
    "start_time": "2022-05-10T22:33:30.081Z"
   },
   {
    "duration": 0,
    "start_time": "2022-05-10T22:33:30.083Z"
   },
   {
    "duration": 0,
    "start_time": "2022-05-10T22:33:30.084Z"
   },
   {
    "duration": 0,
    "start_time": "2022-05-10T22:33:30.084Z"
   },
   {
    "duration": 0,
    "start_time": "2022-05-10T22:33:30.085Z"
   },
   {
    "duration": 338,
    "start_time": "2022-05-10T22:33:44.718Z"
   },
   {
    "duration": 3,
    "start_time": "2022-05-10T22:33:55.843Z"
   },
   {
    "duration": 148,
    "start_time": "2022-05-10T22:33:55.848Z"
   },
   {
    "duration": 8,
    "start_time": "2022-05-10T22:33:55.998Z"
   },
   {
    "duration": 14,
    "start_time": "2022-05-10T22:33:56.008Z"
   },
   {
    "duration": 7,
    "start_time": "2022-05-10T22:33:56.024Z"
   },
   {
    "duration": 78,
    "start_time": "2022-05-10T22:33:56.032Z"
   },
   {
    "duration": 10,
    "start_time": "2022-05-10T22:33:56.112Z"
   },
   {
    "duration": 1197,
    "start_time": "2022-05-10T22:33:56.123Z"
   },
   {
    "duration": 43,
    "start_time": "2022-05-10T22:33:57.322Z"
   },
   {
    "duration": 35,
    "start_time": "2022-05-10T22:33:57.366Z"
   },
   {
    "duration": 34,
    "start_time": "2022-05-10T22:33:57.404Z"
   },
   {
    "duration": 11,
    "start_time": "2022-05-10T22:33:57.439Z"
   },
   {
    "duration": 61,
    "start_time": "2022-05-10T22:33:57.452Z"
   },
   {
    "duration": 14,
    "start_time": "2022-05-10T22:33:57.515Z"
   },
   {
    "duration": 34,
    "start_time": "2022-05-10T22:33:57.531Z"
   },
   {
    "duration": 40,
    "start_time": "2022-05-10T22:33:57.567Z"
   },
   {
    "duration": 980,
    "start_time": "2022-05-10T22:33:57.608Z"
   },
   {
    "duration": 19,
    "start_time": "2022-05-10T22:33:58.590Z"
   },
   {
    "duration": 33,
    "start_time": "2022-05-10T22:33:58.610Z"
   },
   {
    "duration": 213,
    "start_time": "2022-05-10T22:33:58.644Z"
   },
   {
    "duration": 356,
    "start_time": "2022-05-10T22:33:58.859Z"
   },
   {
    "duration": 224,
    "start_time": "2022-05-10T22:33:59.216Z"
   },
   {
    "duration": 16,
    "start_time": "2022-05-10T22:33:59.441Z"
   },
   {
    "duration": 16,
    "start_time": "2022-05-10T22:33:59.458Z"
   },
   {
    "duration": 360,
    "start_time": "2022-05-10T22:33:59.475Z"
   },
   {
    "duration": 14,
    "start_time": "2022-05-10T22:33:59.836Z"
   },
   {
    "duration": 5,
    "start_time": "2022-05-10T22:33:59.851Z"
   },
   {
    "duration": 28,
    "start_time": "2022-05-10T22:33:59.857Z"
   },
   {
    "duration": 180,
    "start_time": "2022-05-10T22:33:59.888Z"
   },
   {
    "duration": 347,
    "start_time": "2022-05-10T22:35:37.662Z"
   },
   {
    "duration": 470,
    "start_time": "2022-05-10T22:36:01.086Z"
   },
   {
    "duration": 371,
    "start_time": "2022-05-10T22:36:06.854Z"
   },
   {
    "duration": 23,
    "start_time": "2022-05-10T22:36:19.190Z"
   },
   {
    "duration": 376,
    "start_time": "2022-05-10T22:36:23.574Z"
   },
   {
    "duration": 102,
    "start_time": "2022-05-10T22:36:50.990Z"
   },
   {
    "duration": 357,
    "start_time": "2022-05-10T22:36:53.367Z"
   },
   {
    "duration": 13,
    "start_time": "2022-05-10T22:38:14.751Z"
   },
   {
    "duration": 478,
    "start_time": "2022-05-10T22:38:19.246Z"
   },
   {
    "duration": 165,
    "start_time": "2022-05-10T22:40:24.879Z"
   },
   {
    "duration": 1179,
    "start_time": "2022-05-10T22:41:17.260Z"
   },
   {
    "duration": 165,
    "start_time": "2022-05-10T22:41:18.441Z"
   },
   {
    "duration": 12,
    "start_time": "2022-05-10T22:41:18.608Z"
   },
   {
    "duration": 14,
    "start_time": "2022-05-10T22:41:18.622Z"
   },
   {
    "duration": 8,
    "start_time": "2022-05-10T22:41:18.638Z"
   },
   {
    "duration": 70,
    "start_time": "2022-05-10T22:41:18.647Z"
   },
   {
    "duration": 10,
    "start_time": "2022-05-10T22:41:18.718Z"
   },
   {
    "duration": 1186,
    "start_time": "2022-05-10T22:41:18.729Z"
   },
   {
    "duration": 42,
    "start_time": "2022-05-10T22:41:19.917Z"
   },
   {
    "duration": 12,
    "start_time": "2022-05-10T22:41:19.961Z"
   },
   {
    "duration": 353,
    "start_time": "2022-05-10T22:41:19.974Z"
   },
   {
    "duration": 11,
    "start_time": "2022-05-10T22:41:20.329Z"
   },
   {
    "duration": 64,
    "start_time": "2022-05-10T22:41:20.341Z"
   },
   {
    "duration": 15,
    "start_time": "2022-05-10T22:41:20.407Z"
   },
   {
    "duration": 81,
    "start_time": "2022-05-10T22:41:20.424Z"
   },
   {
    "duration": 16,
    "start_time": "2022-05-10T22:41:20.506Z"
   },
   {
    "duration": 1031,
    "start_time": "2022-05-10T22:41:20.524Z"
   },
   {
    "duration": 12,
    "start_time": "2022-05-10T22:41:21.556Z"
   },
   {
    "duration": 45,
    "start_time": "2022-05-10T22:41:21.570Z"
   },
   {
    "duration": 181,
    "start_time": "2022-05-10T22:41:21.617Z"
   },
   {
    "duration": 141,
    "start_time": "2022-05-10T22:41:21.800Z"
   },
   {
    "duration": 0,
    "start_time": "2022-05-10T22:41:21.943Z"
   },
   {
    "duration": 0,
    "start_time": "2022-05-10T22:41:21.944Z"
   },
   {
    "duration": 1,
    "start_time": "2022-05-10T22:41:21.944Z"
   },
   {
    "duration": 0,
    "start_time": "2022-05-10T22:41:21.945Z"
   },
   {
    "duration": 0,
    "start_time": "2022-05-10T22:41:21.946Z"
   },
   {
    "duration": 0,
    "start_time": "2022-05-10T22:41:21.947Z"
   },
   {
    "duration": 0,
    "start_time": "2022-05-10T22:41:21.948Z"
   },
   {
    "duration": 0,
    "start_time": "2022-05-10T22:41:21.949Z"
   },
   {
    "duration": 0,
    "start_time": "2022-05-10T22:41:21.950Z"
   },
   {
    "duration": 0,
    "start_time": "2022-05-10T22:41:21.950Z"
   },
   {
    "duration": 167,
    "start_time": "2022-05-10T22:41:45.836Z"
   },
   {
    "duration": 162,
    "start_time": "2022-05-10T22:42:15.014Z"
   },
   {
    "duration": 1175,
    "start_time": "2022-05-10T22:42:40.294Z"
   },
   {
    "duration": 151,
    "start_time": "2022-05-10T22:42:41.471Z"
   },
   {
    "duration": 13,
    "start_time": "2022-05-10T22:42:41.623Z"
   },
   {
    "duration": 13,
    "start_time": "2022-05-10T22:42:41.638Z"
   },
   {
    "duration": 7,
    "start_time": "2022-05-10T22:42:41.653Z"
   },
   {
    "duration": 82,
    "start_time": "2022-05-10T22:42:41.662Z"
   },
   {
    "duration": 9,
    "start_time": "2022-05-10T22:42:41.746Z"
   },
   {
    "duration": 1091,
    "start_time": "2022-05-10T22:42:41.757Z"
   },
   {
    "duration": 76,
    "start_time": "2022-05-10T22:42:42.850Z"
   },
   {
    "duration": 139,
    "start_time": "2022-05-10T22:42:42.929Z"
   },
   {
    "duration": 12,
    "start_time": "2022-05-10T22:42:43.069Z"
   },
   {
    "duration": 520,
    "start_time": "2022-05-10T22:42:43.083Z"
   },
   {
    "duration": 11,
    "start_time": "2022-05-10T22:42:43.604Z"
   },
   {
    "duration": 86,
    "start_time": "2022-05-10T22:42:43.617Z"
   },
   {
    "duration": 13,
    "start_time": "2022-05-10T22:42:43.704Z"
   },
   {
    "duration": 89,
    "start_time": "2022-05-10T22:42:43.718Z"
   },
   {
    "duration": 17,
    "start_time": "2022-05-10T22:42:43.809Z"
   },
   {
    "duration": 1464,
    "start_time": "2022-05-10T22:42:43.827Z"
   },
   {
    "duration": 16,
    "start_time": "2022-05-10T22:42:45.293Z"
   },
   {
    "duration": 30,
    "start_time": "2022-05-10T22:42:45.311Z"
   },
   {
    "duration": 140,
    "start_time": "2022-05-10T22:42:45.343Z"
   },
   {
    "duration": 539,
    "start_time": "2022-05-10T22:42:45.485Z"
   },
   {
    "duration": 0,
    "start_time": "2022-05-10T22:42:46.026Z"
   },
   {
    "duration": 0,
    "start_time": "2022-05-10T22:42:46.027Z"
   },
   {
    "duration": 0,
    "start_time": "2022-05-10T22:42:46.028Z"
   },
   {
    "duration": 0,
    "start_time": "2022-05-10T22:42:46.029Z"
   },
   {
    "duration": 0,
    "start_time": "2022-05-10T22:42:46.031Z"
   },
   {
    "duration": 0,
    "start_time": "2022-05-10T22:42:46.032Z"
   },
   {
    "duration": 0,
    "start_time": "2022-05-10T22:42:46.032Z"
   },
   {
    "duration": 0,
    "start_time": "2022-05-10T22:42:46.034Z"
   },
   {
    "duration": 3,
    "start_time": "2022-05-10T22:47:17.026Z"
   },
   {
    "duration": 148,
    "start_time": "2022-05-10T22:47:17.031Z"
   },
   {
    "duration": 8,
    "start_time": "2022-05-10T22:47:17.181Z"
   },
   {
    "duration": 14,
    "start_time": "2022-05-10T22:47:17.191Z"
   },
   {
    "duration": 7,
    "start_time": "2022-05-10T22:47:17.207Z"
   },
   {
    "duration": 158,
    "start_time": "2022-05-10T22:47:17.216Z"
   },
   {
    "duration": 9,
    "start_time": "2022-05-10T22:47:17.376Z"
   },
   {
    "duration": 1123,
    "start_time": "2022-05-10T22:47:17.387Z"
   },
   {
    "duration": 44,
    "start_time": "2022-05-10T22:47:18.518Z"
   },
   {
    "duration": 37,
    "start_time": "2022-05-10T22:47:18.564Z"
   },
   {
    "duration": 32,
    "start_time": "2022-05-10T22:47:18.603Z"
   },
   {
    "duration": 11,
    "start_time": "2022-05-10T22:47:18.636Z"
   },
   {
    "duration": 30,
    "start_time": "2022-05-10T22:47:18.648Z"
   },
   {
    "duration": 13,
    "start_time": "2022-05-10T22:47:18.700Z"
   },
   {
    "duration": 32,
    "start_time": "2022-05-10T22:47:18.715Z"
   },
   {
    "duration": 15,
    "start_time": "2022-05-10T22:47:18.748Z"
   },
   {
    "duration": 941,
    "start_time": "2022-05-10T22:47:18.764Z"
   },
   {
    "duration": 13,
    "start_time": "2022-05-10T22:47:19.708Z"
   },
   {
    "duration": 34,
    "start_time": "2022-05-10T22:47:19.723Z"
   },
   {
    "duration": 523,
    "start_time": "2022-05-10T22:47:19.759Z"
   },
   {
    "duration": 0,
    "start_time": "2022-05-10T22:47:20.284Z"
   },
   {
    "duration": 0,
    "start_time": "2022-05-10T22:47:20.286Z"
   },
   {
    "duration": 0,
    "start_time": "2022-05-10T22:47:20.287Z"
   },
   {
    "duration": 0,
    "start_time": "2022-05-10T22:47:20.288Z"
   },
   {
    "duration": 0,
    "start_time": "2022-05-10T22:47:20.300Z"
   },
   {
    "duration": 0,
    "start_time": "2022-05-10T22:47:20.301Z"
   },
   {
    "duration": 0,
    "start_time": "2022-05-10T22:47:20.302Z"
   },
   {
    "duration": 24,
    "start_time": "2022-05-10T22:47:36.436Z"
   },
   {
    "duration": 14,
    "start_time": "2022-05-10T22:47:36.827Z"
   },
   {
    "duration": 379,
    "start_time": "2022-05-10T22:47:37.014Z"
   },
   {
    "duration": 449,
    "start_time": "2022-05-10T22:49:05.661Z"
   },
   {
    "duration": 332,
    "start_time": "2022-05-10T22:49:24.788Z"
   },
   {
    "duration": 1152,
    "start_time": "2022-05-10T22:49:34.993Z"
   },
   {
    "duration": 169,
    "start_time": "2022-05-10T22:49:36.146Z"
   },
   {
    "duration": 13,
    "start_time": "2022-05-10T22:49:36.316Z"
   },
   {
    "duration": 13,
    "start_time": "2022-05-10T22:49:36.331Z"
   },
   {
    "duration": 8,
    "start_time": "2022-05-10T22:49:36.345Z"
   },
   {
    "duration": 72,
    "start_time": "2022-05-10T22:49:36.354Z"
   },
   {
    "duration": 11,
    "start_time": "2022-05-10T22:49:36.427Z"
   },
   {
    "duration": 1165,
    "start_time": "2022-05-10T22:49:36.439Z"
   },
   {
    "duration": 39,
    "start_time": "2022-05-10T22:49:37.606Z"
   },
   {
    "duration": 11,
    "start_time": "2022-05-10T22:49:37.648Z"
   },
   {
    "duration": 375,
    "start_time": "2022-05-10T22:49:37.661Z"
   },
   {
    "duration": 11,
    "start_time": "2022-05-10T22:49:38.037Z"
   },
   {
    "duration": 154,
    "start_time": "2022-05-10T22:49:38.050Z"
   },
   {
    "duration": 13,
    "start_time": "2022-05-10T22:49:38.205Z"
   },
   {
    "duration": 29,
    "start_time": "2022-05-10T22:49:38.220Z"
   },
   {
    "duration": 14,
    "start_time": "2022-05-10T22:49:38.251Z"
   },
   {
    "duration": 889,
    "start_time": "2022-05-10T22:49:38.266Z"
   },
   {
    "duration": 11,
    "start_time": "2022-05-10T22:49:39.157Z"
   },
   {
    "duration": 38,
    "start_time": "2022-05-10T22:49:39.170Z"
   },
   {
    "duration": 433,
    "start_time": "2022-05-10T22:49:39.210Z"
   },
   {
    "duration": 0,
    "start_time": "2022-05-10T22:49:39.644Z"
   },
   {
    "duration": 0,
    "start_time": "2022-05-10T22:49:39.645Z"
   },
   {
    "duration": 0,
    "start_time": "2022-05-10T22:49:39.646Z"
   },
   {
    "duration": 0,
    "start_time": "2022-05-10T22:49:39.647Z"
   },
   {
    "duration": 0,
    "start_time": "2022-05-10T22:49:39.649Z"
   },
   {
    "duration": 0,
    "start_time": "2022-05-10T22:49:39.649Z"
   },
   {
    "duration": 0,
    "start_time": "2022-05-10T22:49:39.650Z"
   },
   {
    "duration": 320,
    "start_time": "2022-05-10T22:49:51.495Z"
   },
   {
    "duration": 334,
    "start_time": "2022-05-10T22:51:10.542Z"
   },
   {
    "duration": 339,
    "start_time": "2022-05-10T22:51:15.654Z"
   },
   {
    "duration": 336,
    "start_time": "2022-05-10T22:51:34.517Z"
   },
   {
    "duration": 413,
    "start_time": "2022-05-10T22:51:46.589Z"
   },
   {
    "duration": 3,
    "start_time": "2022-05-10T22:52:21.465Z"
   },
   {
    "duration": 155,
    "start_time": "2022-05-10T22:52:21.470Z"
   },
   {
    "duration": 8,
    "start_time": "2022-05-10T22:52:21.627Z"
   },
   {
    "duration": 12,
    "start_time": "2022-05-10T22:52:21.637Z"
   },
   {
    "duration": 10,
    "start_time": "2022-05-10T22:52:21.651Z"
   },
   {
    "duration": 71,
    "start_time": "2022-05-10T22:52:21.662Z"
   },
   {
    "duration": 10,
    "start_time": "2022-05-10T22:52:21.734Z"
   },
   {
    "duration": 1116,
    "start_time": "2022-05-10T22:52:21.746Z"
   },
   {
    "duration": 79,
    "start_time": "2022-05-10T22:52:22.864Z"
   },
   {
    "duration": 14,
    "start_time": "2022-05-10T22:52:22.944Z"
   },
   {
    "duration": 49,
    "start_time": "2022-05-10T22:52:22.961Z"
   },
   {
    "duration": 11,
    "start_time": "2022-05-10T22:52:23.012Z"
   },
   {
    "duration": 33,
    "start_time": "2022-05-10T22:52:23.025Z"
   },
   {
    "duration": 47,
    "start_time": "2022-05-10T22:52:23.060Z"
   },
   {
    "duration": 33,
    "start_time": "2022-05-10T22:52:23.109Z"
   },
   {
    "duration": 17,
    "start_time": "2022-05-10T22:52:23.144Z"
   },
   {
    "duration": 1008,
    "start_time": "2022-05-10T22:52:23.162Z"
   },
   {
    "duration": 14,
    "start_time": "2022-05-10T22:52:24.172Z"
   },
   {
    "duration": 34,
    "start_time": "2022-05-10T22:52:24.201Z"
   },
   {
    "duration": 364,
    "start_time": "2022-05-10T22:52:24.236Z"
   },
   {
    "duration": 18,
    "start_time": "2022-05-10T22:52:24.602Z"
   },
   {
    "duration": 15,
    "start_time": "2022-05-10T22:52:24.622Z"
   },
   {
    "duration": 383,
    "start_time": "2022-05-10T22:52:24.639Z"
   },
   {
    "duration": 14,
    "start_time": "2022-05-10T22:52:25.024Z"
   },
   {
    "duration": 7,
    "start_time": "2022-05-10T22:52:25.039Z"
   },
   {
    "duration": 18,
    "start_time": "2022-05-10T22:52:25.048Z"
   },
   {
    "duration": 310,
    "start_time": "2022-05-10T22:52:25.067Z"
   },
   {
    "duration": 1370,
    "start_time": "2022-05-11T04:56:35.835Z"
   },
   {
    "duration": 99,
    "start_time": "2022-05-11T04:56:37.207Z"
   },
   {
    "duration": 13,
    "start_time": "2022-05-11T04:56:37.307Z"
   },
   {
    "duration": 14,
    "start_time": "2022-05-11T04:56:37.322Z"
   },
   {
    "duration": 9,
    "start_time": "2022-05-11T04:56:37.337Z"
   },
   {
    "duration": 60,
    "start_time": "2022-05-11T04:56:37.347Z"
   },
   {
    "duration": 10,
    "start_time": "2022-05-11T04:56:37.409Z"
   },
   {
    "duration": 1089,
    "start_time": "2022-05-11T04:56:37.421Z"
   },
   {
    "duration": 40,
    "start_time": "2022-05-11T04:56:38.547Z"
   },
   {
    "duration": 12,
    "start_time": "2022-05-11T04:56:38.590Z"
   },
   {
    "duration": 412,
    "start_time": "2022-05-11T04:56:38.604Z"
   },
   {
    "duration": 11,
    "start_time": "2022-05-11T04:56:39.017Z"
   },
   {
    "duration": 34,
    "start_time": "2022-05-11T04:56:39.048Z"
   },
   {
    "duration": 72,
    "start_time": "2022-05-11T04:56:39.084Z"
   },
   {
    "duration": 31,
    "start_time": "2022-05-11T04:56:39.157Z"
   },
   {
    "duration": 16,
    "start_time": "2022-05-11T04:56:39.190Z"
   },
   {
    "duration": 998,
    "start_time": "2022-05-11T04:56:39.207Z"
   },
   {
    "duration": 12,
    "start_time": "2022-05-11T04:56:40.206Z"
   },
   {
    "duration": 45,
    "start_time": "2022-05-11T04:56:40.219Z"
   },
   {
    "duration": 374,
    "start_time": "2022-05-11T04:56:40.266Z"
   },
   {
    "duration": 18,
    "start_time": "2022-05-11T04:56:40.642Z"
   },
   {
    "duration": 18,
    "start_time": "2022-05-11T04:56:40.662Z"
   },
   {
    "duration": 394,
    "start_time": "2022-05-11T04:56:40.681Z"
   },
   {
    "duration": 14,
    "start_time": "2022-05-11T04:56:41.077Z"
   },
   {
    "duration": 4,
    "start_time": "2022-05-11T04:56:41.093Z"
   },
   {
    "duration": 13,
    "start_time": "2022-05-11T04:56:41.099Z"
   },
   {
    "duration": 204,
    "start_time": "2022-05-11T04:56:41.114Z"
   },
   {
    "duration": 1377,
    "start_time": "2022-05-11T05:05:29.526Z"
   },
   {
    "duration": 4,
    "start_time": "2022-05-11T05:31:02.290Z"
   },
   {
    "duration": 123,
    "start_time": "2022-05-11T05:31:02.297Z"
   },
   {
    "duration": 12,
    "start_time": "2022-05-11T05:31:02.422Z"
   },
   {
    "duration": 24,
    "start_time": "2022-05-11T05:31:02.436Z"
   },
   {
    "duration": 9,
    "start_time": "2022-05-11T05:31:02.462Z"
   },
   {
    "duration": 79,
    "start_time": "2022-05-11T05:31:02.473Z"
   },
   {
    "duration": 10,
    "start_time": "2022-05-11T05:31:02.554Z"
   },
   {
    "duration": 1124,
    "start_time": "2022-05-11T05:31:02.566Z"
   },
   {
    "duration": 70,
    "start_time": "2022-05-11T05:31:03.692Z"
   },
   {
    "duration": 12,
    "start_time": "2022-05-11T05:31:03.764Z"
   },
   {
    "duration": 33,
    "start_time": "2022-05-11T05:31:03.777Z"
   },
   {
    "duration": 11,
    "start_time": "2022-05-11T05:31:03.811Z"
   },
   {
    "duration": 35,
    "start_time": "2022-05-11T05:31:03.847Z"
   },
   {
    "duration": 14,
    "start_time": "2022-05-11T05:31:03.884Z"
   },
   {
    "duration": 52,
    "start_time": "2022-05-11T05:31:03.900Z"
   },
   {
    "duration": 15,
    "start_time": "2022-05-11T05:31:03.954Z"
   },
   {
    "duration": 973,
    "start_time": "2022-05-11T05:31:03.970Z"
   },
   {
    "duration": 12,
    "start_time": "2022-05-11T05:31:04.944Z"
   },
   {
    "duration": 32,
    "start_time": "2022-05-11T05:31:04.958Z"
   },
   {
    "duration": 382,
    "start_time": "2022-05-11T05:31:04.992Z"
   },
   {
    "duration": 16,
    "start_time": "2022-05-11T05:31:05.376Z"
   },
   {
    "duration": 18,
    "start_time": "2022-05-11T05:31:05.393Z"
   },
   {
    "duration": 508,
    "start_time": "2022-05-11T05:31:05.413Z"
   },
   {
    "duration": 1723,
    "start_time": "2022-05-11T05:31:05.924Z"
   },
   {
    "duration": 14,
    "start_time": "2022-05-11T05:31:07.649Z"
   },
   {
    "duration": 4,
    "start_time": "2022-05-11T05:31:07.665Z"
   },
   {
    "duration": 15,
    "start_time": "2022-05-11T05:31:07.671Z"
   },
   {
    "duration": 229,
    "start_time": "2022-05-11T05:31:07.688Z"
   },
   {
    "duration": 1984,
    "start_time": "2022-05-11T05:33:49.843Z"
   },
   {
    "duration": 7,
    "start_time": "2022-05-11T05:34:54.946Z"
   },
   {
    "duration": 14,
    "start_time": "2022-05-11T05:35:07.769Z"
   },
   {
    "duration": 1752,
    "start_time": "2022-05-11T05:39:28.382Z"
   },
   {
    "duration": 1875,
    "start_time": "2022-05-11T05:41:16.212Z"
   },
   {
    "duration": 1760,
    "start_time": "2022-05-11T05:41:26.277Z"
   },
   {
    "duration": 108,
    "start_time": "2022-05-11T05:42:36.572Z"
   },
   {
    "duration": 1979,
    "start_time": "2022-05-11T05:42:41.258Z"
   },
   {
    "duration": 3309,
    "start_time": "2022-05-11T05:43:21.949Z"
   },
   {
    "duration": 1785,
    "start_time": "2022-05-11T05:47:07.526Z"
   },
   {
    "duration": 16,
    "start_time": "2022-05-11T05:47:53.420Z"
   },
   {
    "duration": 4,
    "start_time": "2022-05-11T05:48:36.141Z"
   },
   {
    "duration": 115,
    "start_time": "2022-05-11T05:48:36.147Z"
   },
   {
    "duration": 9,
    "start_time": "2022-05-11T05:48:36.264Z"
   },
   {
    "duration": 13,
    "start_time": "2022-05-11T05:48:36.274Z"
   },
   {
    "duration": 8,
    "start_time": "2022-05-11T05:48:36.289Z"
   },
   {
    "duration": 86,
    "start_time": "2022-05-11T05:48:36.299Z"
   },
   {
    "duration": 10,
    "start_time": "2022-05-11T05:48:36.387Z"
   },
   {
    "duration": 1175,
    "start_time": "2022-05-11T05:48:36.398Z"
   },
   {
    "duration": 41,
    "start_time": "2022-05-11T05:48:37.574Z"
   },
   {
    "duration": 37,
    "start_time": "2022-05-11T05:48:37.617Z"
   },
   {
    "duration": 33,
    "start_time": "2022-05-11T05:48:37.655Z"
   },
   {
    "duration": 11,
    "start_time": "2022-05-11T05:48:37.689Z"
   },
   {
    "duration": 58,
    "start_time": "2022-05-11T05:48:37.702Z"
   },
   {
    "duration": 13,
    "start_time": "2022-05-11T05:48:37.763Z"
   },
   {
    "duration": 31,
    "start_time": "2022-05-11T05:48:37.778Z"
   },
   {
    "duration": 39,
    "start_time": "2022-05-11T05:48:37.811Z"
   },
   {
    "duration": 961,
    "start_time": "2022-05-11T05:48:37.852Z"
   },
   {
    "duration": 12,
    "start_time": "2022-05-11T05:48:38.814Z"
   },
   {
    "duration": 40,
    "start_time": "2022-05-11T05:48:38.828Z"
   },
   {
    "duration": 368,
    "start_time": "2022-05-11T05:48:38.870Z"
   },
   {
    "duration": 21,
    "start_time": "2022-05-11T05:48:39.240Z"
   },
   {
    "duration": 12,
    "start_time": "2022-05-11T05:48:39.263Z"
   },
   {
    "duration": 18,
    "start_time": "2022-05-11T05:48:39.276Z"
   },
   {
    "duration": 6,
    "start_time": "2022-05-11T05:48:39.296Z"
   },
   {
    "duration": 482,
    "start_time": "2022-05-11T05:48:39.303Z"
   },
   {
    "duration": 1809,
    "start_time": "2022-05-11T05:48:39.787Z"
   },
   {
    "duration": 16,
    "start_time": "2022-05-11T05:48:41.598Z"
   },
   {
    "duration": 0,
    "start_time": "2022-05-11T05:48:41.615Z"
   },
   {
    "duration": 0,
    "start_time": "2022-05-11T05:48:41.617Z"
   },
   {
    "duration": 0,
    "start_time": "2022-05-11T05:48:41.617Z"
   },
   {
    "duration": 0,
    "start_time": "2022-05-11T05:48:41.619Z"
   },
   {
    "duration": 1,
    "start_time": "2022-05-11T05:48:41.619Z"
   },
   {
    "duration": 3414,
    "start_time": "2022-05-11T05:51:07.133Z"
   },
   {
    "duration": 3448,
    "start_time": "2022-05-11T05:52:45.212Z"
   },
   {
    "duration": 1826,
    "start_time": "2022-05-11T05:52:50.740Z"
   },
   {
    "duration": 1736,
    "start_time": "2022-05-11T05:53:18.348Z"
   },
   {
    "duration": 1770,
    "start_time": "2022-05-11T05:54:41.418Z"
   },
   {
    "duration": 1829,
    "start_time": "2022-05-11T05:54:53.565Z"
   },
   {
    "duration": 9,
    "start_time": "2022-05-11T05:55:33.818Z"
   },
   {
    "duration": 1812,
    "start_time": "2022-05-11T05:55:52.563Z"
   },
   {
    "duration": 1917,
    "start_time": "2022-05-11T05:56:04.766Z"
   },
   {
    "duration": 37,
    "start_time": "2022-05-11T05:56:16.388Z"
   },
   {
    "duration": 33,
    "start_time": "2022-05-11T05:56:24.197Z"
   },
   {
    "duration": 24,
    "start_time": "2022-05-11T05:58:17.373Z"
   },
   {
    "duration": 7,
    "start_time": "2022-05-11T05:58:48.484Z"
   },
   {
    "duration": 10,
    "start_time": "2022-05-11T06:00:42.573Z"
   },
   {
    "duration": 8,
    "start_time": "2022-05-11T06:00:53.540Z"
   },
   {
    "duration": 13,
    "start_time": "2022-05-11T06:01:09.229Z"
   },
   {
    "duration": 9,
    "start_time": "2022-05-11T06:01:09.685Z"
   },
   {
    "duration": 10,
    "start_time": "2022-05-11T06:01:21.156Z"
   },
   {
    "duration": 8,
    "start_time": "2022-05-11T06:01:21.549Z"
   },
   {
    "duration": 12,
    "start_time": "2022-05-11T06:01:28.901Z"
   },
   {
    "duration": 8,
    "start_time": "2022-05-11T06:01:30.333Z"
   },
   {
    "duration": 4,
    "start_time": "2022-05-11T06:02:01.021Z"
   },
   {
    "duration": 12,
    "start_time": "2022-05-11T06:02:02.036Z"
   },
   {
    "duration": 8,
    "start_time": "2022-05-11T06:02:02.972Z"
   },
   {
    "duration": 9,
    "start_time": "2022-05-11T06:02:16.189Z"
   },
   {
    "duration": 10,
    "start_time": "2022-05-11T06:02:38.507Z"
   },
   {
    "duration": 8,
    "start_time": "2022-05-11T06:02:38.925Z"
   },
   {
    "duration": 10,
    "start_time": "2022-05-11T06:02:44.773Z"
   },
   {
    "duration": 8,
    "start_time": "2022-05-11T06:02:45.269Z"
   },
   {
    "duration": 13,
    "start_time": "2022-05-11T06:05:48.398Z"
   },
   {
    "duration": 7,
    "start_time": "2022-05-11T06:05:56.925Z"
   },
   {
    "duration": 6,
    "start_time": "2022-05-11T06:06:39.975Z"
   },
   {
    "duration": 9,
    "start_time": "2022-05-11T06:06:41.101Z"
   },
   {
    "duration": 6,
    "start_time": "2022-05-11T06:07:05.157Z"
   },
   {
    "duration": 9,
    "start_time": "2022-05-11T06:07:05.621Z"
   },
   {
    "duration": 8,
    "start_time": "2022-05-11T06:07:10.510Z"
   },
   {
    "duration": 9,
    "start_time": "2022-05-11T06:07:10.868Z"
   },
   {
    "duration": 8,
    "start_time": "2022-05-11T06:07:16.196Z"
   },
   {
    "duration": 9,
    "start_time": "2022-05-11T06:07:17.149Z"
   },
   {
    "duration": 2865,
    "start_time": "2022-05-11T06:12:50.065Z"
   },
   {
    "duration": 109,
    "start_time": "2022-05-11T06:13:07.777Z"
   },
   {
    "duration": 1926,
    "start_time": "2022-05-11T06:13:10.553Z"
   },
   {
    "duration": 1877,
    "start_time": "2022-05-11T06:14:58.077Z"
   },
   {
    "duration": 2094,
    "start_time": "2022-05-11T06:16:43.728Z"
   },
   {
    "duration": 384,
    "start_time": "2022-05-11T06:16:45.824Z"
   },
   {
    "duration": 12,
    "start_time": "2022-05-11T06:16:46.210Z"
   },
   {
    "duration": 12,
    "start_time": "2022-05-11T06:16:46.224Z"
   },
   {
    "duration": 8,
    "start_time": "2022-05-11T06:16:46.237Z"
   },
   {
    "duration": 61,
    "start_time": "2022-05-11T06:16:46.246Z"
   },
   {
    "duration": 10,
    "start_time": "2022-05-11T06:16:46.310Z"
   },
   {
    "duration": 1229,
    "start_time": "2022-05-11T06:16:46.321Z"
   },
   {
    "duration": 43,
    "start_time": "2022-05-11T06:16:47.552Z"
   },
   {
    "duration": 14,
    "start_time": "2022-05-11T06:16:47.597Z"
   },
   {
    "duration": 344,
    "start_time": "2022-05-11T06:16:47.613Z"
   },
   {
    "duration": 13,
    "start_time": "2022-05-11T06:16:47.959Z"
   },
   {
    "duration": 98,
    "start_time": "2022-05-11T06:16:47.974Z"
   },
   {
    "duration": 18,
    "start_time": "2022-05-11T06:16:48.074Z"
   },
   {
    "duration": 89,
    "start_time": "2022-05-11T06:16:48.094Z"
   },
   {
    "duration": 16,
    "start_time": "2022-05-11T06:16:48.185Z"
   },
   {
    "duration": 1005,
    "start_time": "2022-05-11T06:16:48.202Z"
   },
   {
    "duration": 12,
    "start_time": "2022-05-11T06:16:49.208Z"
   },
   {
    "duration": 46,
    "start_time": "2022-05-11T06:16:49.221Z"
   },
   {
    "duration": 405,
    "start_time": "2022-05-11T06:16:49.269Z"
   },
   {
    "duration": 19,
    "start_time": "2022-05-11T06:16:49.676Z"
   },
   {
    "duration": 16,
    "start_time": "2022-05-11T06:16:49.697Z"
   },
   {
    "duration": 32,
    "start_time": "2022-05-11T06:16:49.715Z"
   },
   {
    "duration": 8,
    "start_time": "2022-05-11T06:16:49.749Z"
   },
   {
    "duration": 425,
    "start_time": "2022-05-11T06:16:49.759Z"
   },
   {
    "duration": 1945,
    "start_time": "2022-05-11T06:16:50.186Z"
   },
   {
    "duration": 22,
    "start_time": "2022-05-11T06:16:52.133Z"
   },
   {
    "duration": 4,
    "start_time": "2022-05-11T06:16:52.158Z"
   },
   {
    "duration": 17,
    "start_time": "2022-05-11T06:16:52.164Z"
   },
   {
    "duration": 198,
    "start_time": "2022-05-11T06:16:52.183Z"
   },
   {
    "duration": 13,
    "start_time": "2022-05-11T06:39:23.467Z"
   },
   {
    "duration": 3,
    "start_time": "2022-05-11T06:39:38.492Z"
   },
   {
    "duration": 15,
    "start_time": "2022-05-11T06:39:46.555Z"
   },
   {
    "duration": 5,
    "start_time": "2022-05-11T06:39:54.851Z"
   },
   {
    "duration": 13,
    "start_time": "2022-05-11T06:40:01.548Z"
   },
   {
    "duration": 1144,
    "start_time": "2022-05-11T06:43:31.661Z"
   },
   {
    "duration": 108,
    "start_time": "2022-05-11T06:43:32.808Z"
   },
   {
    "duration": 13,
    "start_time": "2022-05-11T06:43:32.918Z"
   },
   {
    "duration": 14,
    "start_time": "2022-05-11T06:43:32.933Z"
   },
   {
    "duration": 8,
    "start_time": "2022-05-11T06:43:32.948Z"
   },
   {
    "duration": 61,
    "start_time": "2022-05-11T06:43:32.958Z"
   },
   {
    "duration": 11,
    "start_time": "2022-05-11T06:43:33.020Z"
   },
   {
    "duration": 1204,
    "start_time": "2022-05-11T06:43:33.047Z"
   },
   {
    "duration": 40,
    "start_time": "2022-05-11T06:43:34.253Z"
   },
   {
    "duration": 12,
    "start_time": "2022-05-11T06:43:34.296Z"
   },
   {
    "duration": 339,
    "start_time": "2022-05-11T06:43:34.309Z"
   },
   {
    "duration": 12,
    "start_time": "2022-05-11T06:43:34.650Z"
   },
   {
    "duration": 193,
    "start_time": "2022-05-11T06:43:34.664Z"
   },
   {
    "duration": 15,
    "start_time": "2022-05-11T06:43:34.858Z"
   },
   {
    "duration": 34,
    "start_time": "2022-05-11T06:43:34.874Z"
   },
   {
    "duration": 45,
    "start_time": "2022-05-11T06:43:34.909Z"
   },
   {
    "duration": 943,
    "start_time": "2022-05-11T06:43:34.955Z"
   },
   {
    "duration": 12,
    "start_time": "2022-05-11T06:43:35.900Z"
   },
   {
    "duration": 46,
    "start_time": "2022-05-11T06:43:35.913Z"
   },
   {
    "duration": 364,
    "start_time": "2022-05-11T06:43:35.960Z"
   },
   {
    "duration": 23,
    "start_time": "2022-05-11T06:43:36.326Z"
   },
   {
    "duration": 19,
    "start_time": "2022-05-11T06:43:36.350Z"
   },
   {
    "duration": 419,
    "start_time": "2022-05-11T06:43:36.371Z"
   },
   {
    "duration": 2713,
    "start_time": "2022-05-11T06:43:36.792Z"
   },
   {
    "duration": 14,
    "start_time": "2022-05-11T06:43:39.506Z"
   },
   {
    "duration": 5,
    "start_time": "2022-05-11T06:43:39.521Z"
   },
   {
    "duration": 31,
    "start_time": "2022-05-11T06:43:39.527Z"
   },
   {
    "duration": 13,
    "start_time": "2022-05-11T06:43:39.561Z"
   },
   {
    "duration": 206,
    "start_time": "2022-05-11T06:43:39.576Z"
   },
   {
    "duration": 1229,
    "start_time": "2022-05-11T06:48:24.007Z"
   },
   {
    "duration": 114,
    "start_time": "2022-05-11T06:48:25.238Z"
   },
   {
    "duration": 14,
    "start_time": "2022-05-11T06:48:25.353Z"
   },
   {
    "duration": 13,
    "start_time": "2022-05-11T06:48:25.369Z"
   },
   {
    "duration": 8,
    "start_time": "2022-05-11T06:48:25.384Z"
   },
   {
    "duration": 69,
    "start_time": "2022-05-11T06:48:25.393Z"
   },
   {
    "duration": 10,
    "start_time": "2022-05-11T06:48:25.464Z"
   },
   {
    "duration": 1332,
    "start_time": "2022-05-11T06:48:25.476Z"
   },
   {
    "duration": 71,
    "start_time": "2022-05-11T06:48:26.810Z"
   },
   {
    "duration": 12,
    "start_time": "2022-05-11T06:48:26.883Z"
   },
   {
    "duration": 330,
    "start_time": "2022-05-11T06:48:26.897Z"
   },
   {
    "duration": 11,
    "start_time": "2022-05-11T06:48:27.229Z"
   },
   {
    "duration": 108,
    "start_time": "2022-05-11T06:48:27.241Z"
   },
   {
    "duration": 13,
    "start_time": "2022-05-11T06:48:27.351Z"
   },
   {
    "duration": 32,
    "start_time": "2022-05-11T06:48:27.366Z"
   },
   {
    "duration": 34,
    "start_time": "2022-05-11T06:48:27.399Z"
   },
   {
    "duration": 827,
    "start_time": "2022-05-11T06:48:27.435Z"
   },
   {
    "duration": 11,
    "start_time": "2022-05-11T06:48:28.263Z"
   },
   {
    "duration": 32,
    "start_time": "2022-05-11T06:48:28.276Z"
   },
   {
    "duration": 351,
    "start_time": "2022-05-11T06:48:28.309Z"
   },
   {
    "duration": 17,
    "start_time": "2022-05-11T06:48:28.661Z"
   },
   {
    "duration": 16,
    "start_time": "2022-05-11T06:48:28.679Z"
   },
   {
    "duration": 377,
    "start_time": "2022-05-11T06:48:28.696Z"
   },
   {
    "duration": 1834,
    "start_time": "2022-05-11T06:48:29.075Z"
   },
   {
    "duration": 14,
    "start_time": "2022-05-11T06:48:30.911Z"
   },
   {
    "duration": 5,
    "start_time": "2022-05-11T06:48:30.927Z"
   },
   {
    "duration": 18,
    "start_time": "2022-05-11T06:48:30.948Z"
   },
   {
    "duration": 19,
    "start_time": "2022-05-11T06:48:30.970Z"
   },
   {
    "duration": 331,
    "start_time": "2022-05-11T06:48:30.991Z"
   },
   {
    "duration": 723,
    "start_time": "2022-05-11T06:50:11.904Z"
   },
   {
    "duration": 768,
    "start_time": "2022-05-11T06:50:28.813Z"
   },
   {
    "duration": 730,
    "start_time": "2022-05-11T06:51:18.664Z"
   },
   {
    "duration": 698,
    "start_time": "2022-05-11T06:52:29.089Z"
   },
   {
    "duration": 3,
    "start_time": "2022-05-11T06:52:31.936Z"
   },
   {
    "duration": 111,
    "start_time": "2022-05-11T06:52:31.941Z"
   },
   {
    "duration": 9,
    "start_time": "2022-05-11T06:52:32.053Z"
   },
   {
    "duration": 14,
    "start_time": "2022-05-11T06:52:32.064Z"
   },
   {
    "duration": 8,
    "start_time": "2022-05-11T06:52:32.081Z"
   },
   {
    "duration": 84,
    "start_time": "2022-05-11T06:52:32.090Z"
   },
   {
    "duration": 10,
    "start_time": "2022-05-11T06:52:32.176Z"
   },
   {
    "duration": 1164,
    "start_time": "2022-05-11T06:52:32.188Z"
   },
   {
    "duration": 41,
    "start_time": "2022-05-11T06:52:33.354Z"
   },
   {
    "duration": 13,
    "start_time": "2022-05-11T06:52:33.396Z"
   },
   {
    "duration": 57,
    "start_time": "2022-05-11T06:52:33.410Z"
   },
   {
    "duration": 11,
    "start_time": "2022-05-11T06:52:33.469Z"
   },
   {
    "duration": 33,
    "start_time": "2022-05-11T06:52:33.481Z"
   },
   {
    "duration": 40,
    "start_time": "2022-05-11T06:52:33.517Z"
   },
   {
    "duration": 34,
    "start_time": "2022-05-11T06:52:33.559Z"
   },
   {
    "duration": 19,
    "start_time": "2022-05-11T06:52:33.594Z"
   },
   {
    "duration": 873,
    "start_time": "2022-05-11T06:52:33.615Z"
   },
   {
    "duration": 12,
    "start_time": "2022-05-11T06:52:34.490Z"
   },
   {
    "duration": 50,
    "start_time": "2022-05-11T06:52:34.503Z"
   },
   {
    "duration": 331,
    "start_time": "2022-05-11T06:52:34.555Z"
   },
   {
    "duration": 18,
    "start_time": "2022-05-11T06:52:34.888Z"
   },
   {
    "duration": 17,
    "start_time": "2022-05-11T06:52:34.908Z"
   },
   {
    "duration": 381,
    "start_time": "2022-05-11T06:52:34.926Z"
   },
   {
    "duration": 2062,
    "start_time": "2022-05-11T06:52:35.309Z"
   },
   {
    "duration": 13,
    "start_time": "2022-05-11T06:52:37.373Z"
   },
   {
    "duration": 4,
    "start_time": "2022-05-11T06:52:37.388Z"
   },
   {
    "duration": 66,
    "start_time": "2022-05-11T06:52:37.394Z"
   },
   {
    "duration": 21,
    "start_time": "2022-05-11T06:52:37.462Z"
   },
   {
    "duration": 663,
    "start_time": "2022-05-11T06:52:37.485Z"
   },
   {
    "duration": 715,
    "start_time": "2022-05-11T06:55:12.273Z"
   },
   {
    "duration": 821,
    "start_time": "2022-05-11T06:55:17.176Z"
   },
   {
    "duration": 1100,
    "start_time": "2022-05-11T06:57:17.405Z"
   },
   {
    "duration": 94,
    "start_time": "2022-05-11T06:57:18.507Z"
   },
   {
    "duration": 13,
    "start_time": "2022-05-11T06:57:18.602Z"
   },
   {
    "duration": 14,
    "start_time": "2022-05-11T06:57:18.617Z"
   },
   {
    "duration": 8,
    "start_time": "2022-05-11T06:57:18.633Z"
   },
   {
    "duration": 65,
    "start_time": "2022-05-11T06:57:18.642Z"
   },
   {
    "duration": 10,
    "start_time": "2022-05-11T06:57:18.708Z"
   },
   {
    "duration": 1238,
    "start_time": "2022-05-11T06:57:18.720Z"
   },
   {
    "duration": 43,
    "start_time": "2022-05-11T06:57:19.961Z"
   },
   {
    "duration": 13,
    "start_time": "2022-05-11T06:57:20.007Z"
   },
   {
    "duration": 366,
    "start_time": "2022-05-11T06:57:20.022Z"
   },
   {
    "duration": 12,
    "start_time": "2022-05-11T06:57:20.390Z"
   },
   {
    "duration": 60,
    "start_time": "2022-05-11T06:57:20.403Z"
   },
   {
    "duration": 14,
    "start_time": "2022-05-11T06:57:20.465Z"
   },
   {
    "duration": 181,
    "start_time": "2022-05-11T06:57:20.481Z"
   },
   {
    "duration": 19,
    "start_time": "2022-05-11T06:57:20.664Z"
   },
   {
    "duration": 693,
    "start_time": "2022-05-11T06:57:20.684Z"
   },
   {
    "duration": 12,
    "start_time": "2022-05-11T06:57:21.379Z"
   },
   {
    "duration": 33,
    "start_time": "2022-05-11T06:57:21.392Z"
   },
   {
    "duration": 337,
    "start_time": "2022-05-11T06:57:21.426Z"
   },
   {
    "duration": 17,
    "start_time": "2022-05-11T06:57:21.765Z"
   },
   {
    "duration": 19,
    "start_time": "2022-05-11T06:57:21.783Z"
   },
   {
    "duration": 374,
    "start_time": "2022-05-11T06:57:21.804Z"
   },
   {
    "duration": 1815,
    "start_time": "2022-05-11T06:57:22.179Z"
   },
   {
    "duration": 13,
    "start_time": "2022-05-11T06:57:23.995Z"
   },
   {
    "duration": 4,
    "start_time": "2022-05-11T06:57:24.010Z"
   },
   {
    "duration": 32,
    "start_time": "2022-05-11T06:57:24.015Z"
   },
   {
    "duration": 14,
    "start_time": "2022-05-11T06:57:24.050Z"
   },
   {
    "duration": 196,
    "start_time": "2022-05-11T06:57:24.066Z"
   },
   {
    "duration": 1623,
    "start_time": "2022-05-12T02:11:29.251Z"
   },
   {
    "duration": 167,
    "start_time": "2022-05-12T02:11:30.876Z"
   },
   {
    "duration": 15,
    "start_time": "2022-05-12T02:11:31.045Z"
   },
   {
    "duration": 93,
    "start_time": "2022-05-12T02:11:31.063Z"
   },
   {
    "duration": 42,
    "start_time": "2022-05-12T02:11:31.158Z"
   },
   {
    "duration": 168,
    "start_time": "2022-05-12T02:11:31.202Z"
   },
   {
    "duration": 12,
    "start_time": "2022-05-12T02:11:31.372Z"
   },
   {
    "duration": 1603,
    "start_time": "2022-05-12T02:11:31.386Z"
   },
   {
    "duration": 76,
    "start_time": "2022-05-12T02:11:32.991Z"
   },
   {
    "duration": 12,
    "start_time": "2022-05-12T02:11:33.070Z"
   },
   {
    "duration": 536,
    "start_time": "2022-05-12T02:11:33.084Z"
   },
   {
    "duration": 27,
    "start_time": "2022-05-12T02:11:33.622Z"
   },
   {
    "duration": 99,
    "start_time": "2022-05-12T02:11:33.650Z"
   },
   {
    "duration": 28,
    "start_time": "2022-05-12T02:11:33.751Z"
   },
   {
    "duration": 58,
    "start_time": "2022-05-12T02:11:33.781Z"
   },
   {
    "duration": 25,
    "start_time": "2022-05-12T02:11:33.841Z"
   },
   {
    "duration": 799,
    "start_time": "2022-05-12T02:11:33.868Z"
   },
   {
    "duration": 13,
    "start_time": "2022-05-12T02:11:34.669Z"
   },
   {
    "duration": 47,
    "start_time": "2022-05-12T02:11:34.684Z"
   },
   {
    "duration": 376,
    "start_time": "2022-05-12T02:11:34.733Z"
   },
   {
    "duration": 18,
    "start_time": "2022-05-12T02:11:35.111Z"
   },
   {
    "duration": 55,
    "start_time": "2022-05-12T02:11:35.131Z"
   },
   {
    "duration": 401,
    "start_time": "2022-05-12T02:11:35.188Z"
   },
   {
    "duration": 3324,
    "start_time": "2022-05-12T02:11:35.591Z"
   },
   {
    "duration": 28,
    "start_time": "2022-05-12T02:11:38.918Z"
   },
   {
    "duration": 22,
    "start_time": "2022-05-12T02:11:38.948Z"
   },
   {
    "duration": 34,
    "start_time": "2022-05-12T02:11:38.972Z"
   },
   {
    "duration": 22,
    "start_time": "2022-05-12T02:11:39.010Z"
   },
   {
    "duration": 207,
    "start_time": "2022-05-12T02:11:39.034Z"
   },
   {
    "duration": 13,
    "start_time": "2022-05-12T02:13:03.314Z"
   },
   {
    "duration": 248,
    "start_time": "2022-05-12T02:14:00.665Z"
   },
   {
    "duration": 482,
    "start_time": "2022-05-12T02:14:40.137Z"
   },
   {
    "duration": 252,
    "start_time": "2022-05-12T02:14:45.296Z"
   },
   {
    "duration": 249,
    "start_time": "2022-05-12T02:14:50.291Z"
   },
   {
    "duration": 243,
    "start_time": "2022-05-12T02:14:57.240Z"
   },
   {
    "duration": 252,
    "start_time": "2022-05-12T02:15:01.407Z"
   },
   {
    "duration": 1410,
    "start_time": "2022-07-04T14:38:07.964Z"
   },
   {
    "duration": 126,
    "start_time": "2022-07-04T14:38:09.376Z"
   },
   {
    "duration": 16,
    "start_time": "2022-07-04T14:38:09.504Z"
   },
   {
    "duration": 15,
    "start_time": "2022-07-04T14:38:09.522Z"
   },
   {
    "duration": 11,
    "start_time": "2022-07-04T14:38:09.539Z"
   },
   {
    "duration": 83,
    "start_time": "2022-07-04T14:38:09.552Z"
   },
   {
    "duration": 12,
    "start_time": "2022-07-04T14:38:09.637Z"
   },
   {
    "duration": 1280,
    "start_time": "2022-07-04T14:38:09.651Z"
   },
   {
    "duration": 44,
    "start_time": "2022-07-04T14:38:10.933Z"
   },
   {
    "duration": 29,
    "start_time": "2022-07-04T14:38:10.979Z"
   },
   {
    "duration": 714,
    "start_time": "2022-07-04T14:38:11.010Z"
   },
   {
    "duration": 12,
    "start_time": "2022-07-04T14:38:11.726Z"
   },
   {
    "duration": 220,
    "start_time": "2022-07-04T14:38:11.740Z"
   },
   {
    "duration": 74,
    "start_time": "2022-07-04T14:38:11.962Z"
   },
   {
    "duration": 106,
    "start_time": "2022-07-04T14:38:12.038Z"
   },
   {
    "duration": 20,
    "start_time": "2022-07-04T14:38:12.146Z"
   },
   {
    "duration": 1414,
    "start_time": "2022-07-04T14:38:12.169Z"
   },
   {
    "duration": 13,
    "start_time": "2022-07-04T14:38:13.585Z"
   },
   {
    "duration": 52,
    "start_time": "2022-07-04T14:38:13.601Z"
   },
   {
    "duration": 415,
    "start_time": "2022-07-04T14:38:13.654Z"
   },
   {
    "duration": 301,
    "start_time": "2022-07-04T14:38:14.071Z"
   },
   {
    "duration": 19,
    "start_time": "2022-07-04T14:38:14.374Z"
   },
   {
    "duration": 28,
    "start_time": "2022-07-04T14:38:14.395Z"
   },
   {
    "duration": 463,
    "start_time": "2022-07-04T14:38:14.426Z"
   },
   {
    "duration": 2384,
    "start_time": "2022-07-04T14:38:14.891Z"
   },
   {
    "duration": 14,
    "start_time": "2022-07-04T14:38:17.277Z"
   },
   {
    "duration": 17,
    "start_time": "2022-07-04T14:38:17.293Z"
   },
   {
    "duration": 49,
    "start_time": "2022-07-04T14:38:17.312Z"
   },
   {
    "duration": 20,
    "start_time": "2022-07-04T14:38:17.363Z"
   },
   {
    "duration": 347,
    "start_time": "2022-07-04T14:38:17.386Z"
   },
   {
    "duration": 1439,
    "start_time": "2022-07-12T16:02:14.152Z"
   },
   {
    "duration": 128,
    "start_time": "2022-07-12T16:02:15.593Z"
   },
   {
    "duration": 13,
    "start_time": "2022-07-12T16:02:15.723Z"
   },
   {
    "duration": 15,
    "start_time": "2022-07-12T16:02:15.738Z"
   },
   {
    "duration": 9,
    "start_time": "2022-07-12T16:02:15.754Z"
   },
   {
    "duration": 93,
    "start_time": "2022-07-12T16:02:15.764Z"
   },
   {
    "duration": 13,
    "start_time": "2022-07-12T16:02:15.859Z"
   },
   {
    "duration": 1584,
    "start_time": "2022-07-12T16:02:15.874Z"
   },
   {
    "duration": 162,
    "start_time": "2022-07-12T16:02:17.462Z"
   },
   {
    "duration": 15,
    "start_time": "2022-07-12T16:02:17.626Z"
   },
   {
    "duration": 787,
    "start_time": "2022-07-12T16:02:17.642Z"
   },
   {
    "duration": 12,
    "start_time": "2022-07-12T16:02:18.431Z"
   },
   {
    "duration": 223,
    "start_time": "2022-07-12T16:02:18.445Z"
   },
   {
    "duration": 15,
    "start_time": "2022-07-12T16:02:18.669Z"
   },
   {
    "duration": 70,
    "start_time": "2022-07-12T16:02:18.685Z"
   },
   {
    "duration": 20,
    "start_time": "2022-07-12T16:02:18.757Z"
   },
   {
    "duration": 807,
    "start_time": "2022-07-12T16:02:18.778Z"
   },
   {
    "duration": 14,
    "start_time": "2022-07-12T16:02:19.587Z"
   },
   {
    "duration": 52,
    "start_time": "2022-07-12T16:02:19.603Z"
   },
   {
    "duration": 418,
    "start_time": "2022-07-12T16:02:19.657Z"
   },
   {
    "duration": 279,
    "start_time": "2022-07-12T16:02:20.077Z"
   },
   {
    "duration": 18,
    "start_time": "2022-07-12T16:02:20.358Z"
   },
   {
    "duration": 19,
    "start_time": "2022-07-12T16:02:20.378Z"
   },
   {
    "duration": 425,
    "start_time": "2022-07-12T16:02:20.399Z"
   },
   {
    "duration": 6572,
    "start_time": "2022-07-12T16:02:20.826Z"
   },
   {
    "duration": 29,
    "start_time": "2022-07-12T16:02:27.401Z"
   },
   {
    "duration": 36,
    "start_time": "2022-07-12T16:02:27.432Z"
   },
   {
    "duration": 21,
    "start_time": "2022-07-12T16:02:27.472Z"
   },
   {
    "duration": 13,
    "start_time": "2022-07-12T16:02:27.495Z"
   },
   {
    "duration": 210,
    "start_time": "2022-07-12T16:02:27.510Z"
   },
   {
    "duration": 1319,
    "start_time": "2022-08-03T14:32:48.393Z"
   },
   {
    "duration": 148,
    "start_time": "2022-08-03T14:32:49.714Z"
   },
   {
    "duration": 13,
    "start_time": "2022-08-03T14:32:49.867Z"
   },
   {
    "duration": 14,
    "start_time": "2022-08-03T14:32:49.882Z"
   },
   {
    "duration": 9,
    "start_time": "2022-08-03T14:32:49.898Z"
   },
   {
    "duration": 58,
    "start_time": "2022-08-03T14:32:49.908Z"
   },
   {
    "duration": 11,
    "start_time": "2022-08-03T14:32:49.968Z"
   },
   {
    "duration": 1166,
    "start_time": "2022-08-03T14:32:49.980Z"
   },
   {
    "duration": 79,
    "start_time": "2022-08-03T14:32:51.149Z"
   },
   {
    "duration": 13,
    "start_time": "2022-08-03T14:32:51.230Z"
   },
   {
    "duration": 470,
    "start_time": "2022-08-03T14:32:51.245Z"
   },
   {
    "duration": 13,
    "start_time": "2022-08-03T14:32:51.718Z"
   },
   {
    "duration": 98,
    "start_time": "2022-08-03T14:32:51.733Z"
   },
   {
    "duration": 20,
    "start_time": "2022-08-03T14:32:51.833Z"
   },
   {
    "duration": 41,
    "start_time": "2022-08-03T14:32:51.907Z"
   },
   {
    "duration": 19,
    "start_time": "2022-08-03T14:32:51.950Z"
   },
   {
    "duration": 874,
    "start_time": "2022-08-03T14:32:52.006Z"
   },
   {
    "duration": 13,
    "start_time": "2022-08-03T14:32:52.882Z"
   },
   {
    "duration": 38,
    "start_time": "2022-08-03T14:32:52.905Z"
   },
   {
    "duration": 397,
    "start_time": "2022-08-03T14:32:52.945Z"
   },
   {
    "duration": 277,
    "start_time": "2022-08-03T14:32:53.344Z"
   },
   {
    "duration": 16,
    "start_time": "2022-08-03T14:32:53.623Z"
   },
   {
    "duration": 18,
    "start_time": "2022-08-03T14:32:53.641Z"
   },
   {
    "duration": 416,
    "start_time": "2022-08-03T14:32:53.660Z"
   },
   {
    "duration": 2956,
    "start_time": "2022-08-03T14:32:54.082Z"
   },
   {
    "duration": 13,
    "start_time": "2022-08-03T14:32:57.040Z"
   },
   {
    "duration": 6,
    "start_time": "2022-08-03T14:32:57.057Z"
   },
   {
    "duration": 20,
    "start_time": "2022-08-03T14:32:57.064Z"
   },
   {
    "duration": 34,
    "start_time": "2022-08-03T14:32:57.086Z"
   },
   {
    "duration": 232,
    "start_time": "2022-08-03T14:32:57.122Z"
   },
   {
    "duration": 4,
    "start_time": "2022-08-03T22:12:49.096Z"
   },
   {
    "duration": 128,
    "start_time": "2022-08-03T22:12:49.102Z"
   },
   {
    "duration": 11,
    "start_time": "2022-08-03T22:12:49.232Z"
   },
   {
    "duration": 16,
    "start_time": "2022-08-03T22:12:49.244Z"
   },
   {
    "duration": 11,
    "start_time": "2022-08-03T22:12:49.262Z"
   },
   {
    "duration": 87,
    "start_time": "2022-08-03T22:12:49.275Z"
   },
   {
    "duration": 11,
    "start_time": "2022-08-03T22:12:49.363Z"
   },
   {
    "duration": 1338,
    "start_time": "2022-08-03T22:12:49.377Z"
   },
   {
    "duration": 55,
    "start_time": "2022-08-03T22:12:50.725Z"
   },
   {
    "duration": 37,
    "start_time": "2022-08-03T22:12:50.781Z"
   },
   {
    "duration": 35,
    "start_time": "2022-08-03T22:12:50.821Z"
   },
   {
    "duration": 13,
    "start_time": "2022-08-03T22:12:50.858Z"
   },
   {
    "duration": 63,
    "start_time": "2022-08-03T22:12:50.873Z"
   },
   {
    "duration": 15,
    "start_time": "2022-08-03T22:12:50.938Z"
   },
   {
    "duration": 54,
    "start_time": "2022-08-03T22:12:50.955Z"
   },
   {
    "duration": 18,
    "start_time": "2022-08-03T22:12:51.011Z"
   },
   {
    "duration": 798,
    "start_time": "2022-08-03T22:12:51.030Z"
   },
   {
    "duration": 13,
    "start_time": "2022-08-03T22:12:51.830Z"
   },
   {
    "duration": 34,
    "start_time": "2022-08-03T22:12:51.844Z"
   },
   {
    "duration": 272,
    "start_time": "2022-08-03T22:12:51.880Z"
   },
   {
    "duration": 18,
    "start_time": "2022-08-03T22:12:52.153Z"
   },
   {
    "duration": 33,
    "start_time": "2022-08-03T22:12:52.173Z"
   },
   {
    "duration": 404,
    "start_time": "2022-08-03T22:12:52.208Z"
   },
   {
    "duration": 3416,
    "start_time": "2022-08-03T22:12:52.613Z"
   },
   {
    "duration": 18,
    "start_time": "2022-08-03T22:12:56.031Z"
   },
   {
    "duration": 13,
    "start_time": "2022-08-03T22:12:56.051Z"
   },
   {
    "duration": 19,
    "start_time": "2022-08-03T22:12:56.066Z"
   },
   {
    "duration": 34,
    "start_time": "2022-08-03T22:12:56.087Z"
   },
   {
    "duration": 207,
    "start_time": "2022-08-03T22:12:56.125Z"
   },
   {
    "duration": 2,
    "start_time": "2022-08-03T22:45:41.265Z"
   },
   {
    "duration": 102,
    "start_time": "2022-08-03T22:45:54.878Z"
   },
   {
    "duration": 2,
    "start_time": "2022-08-03T22:46:01.360Z"
   },
   {
    "duration": 3,
    "start_time": "2022-08-03T22:46:04.428Z"
   },
   {
    "duration": 99,
    "start_time": "2022-08-03T22:46:04.433Z"
   },
   {
    "duration": 8,
    "start_time": "2022-08-03T22:46:04.533Z"
   },
   {
    "duration": 16,
    "start_time": "2022-08-03T22:46:04.542Z"
   },
   {
    "duration": 8,
    "start_time": "2022-08-03T22:46:04.560Z"
   },
   {
    "duration": 82,
    "start_time": "2022-08-03T22:46:04.569Z"
   },
   {
    "duration": 10,
    "start_time": "2022-08-03T22:46:04.652Z"
   },
   {
    "duration": 6,
    "start_time": "2022-08-03T22:46:04.664Z"
   },
   {
    "duration": 50,
    "start_time": "2022-08-03T22:46:04.671Z"
   },
   {
    "duration": 11,
    "start_time": "2022-08-03T22:46:04.722Z"
   },
   {
    "duration": 30,
    "start_time": "2022-08-03T22:46:04.735Z"
   },
   {
    "duration": 9,
    "start_time": "2022-08-03T22:46:04.766Z"
   },
   {
    "duration": 55,
    "start_time": "2022-08-03T22:46:04.777Z"
   },
   {
    "duration": 12,
    "start_time": "2022-08-03T22:46:04.835Z"
   },
   {
    "duration": 30,
    "start_time": "2022-08-03T22:46:04.848Z"
   },
   {
    "duration": 39,
    "start_time": "2022-08-03T22:46:04.879Z"
   },
   {
    "duration": 838,
    "start_time": "2022-08-03T22:46:04.919Z"
   },
   {
    "duration": 11,
    "start_time": "2022-08-03T22:46:05.759Z"
   },
   {
    "duration": 45,
    "start_time": "2022-08-03T22:46:05.772Z"
   },
   {
    "duration": 301,
    "start_time": "2022-08-03T22:46:05.818Z"
   },
   {
    "duration": 20,
    "start_time": "2022-08-03T22:46:06.121Z"
   },
   {
    "duration": 19,
    "start_time": "2022-08-03T22:46:06.143Z"
   },
   {
    "duration": 428,
    "start_time": "2022-08-03T22:46:06.163Z"
   },
   {
    "duration": 2811,
    "start_time": "2022-08-03T22:46:06.593Z"
   },
   {
    "duration": 12,
    "start_time": "2022-08-03T22:46:09.406Z"
   },
   {
    "duration": 8,
    "start_time": "2022-08-03T22:46:09.420Z"
   },
   {
    "duration": 14,
    "start_time": "2022-08-03T22:46:09.430Z"
   },
   {
    "duration": 12,
    "start_time": "2022-08-03T22:46:09.446Z"
   },
   {
    "duration": 202,
    "start_time": "2022-08-03T22:46:09.460Z"
   }
  ],
  "kernelspec": {
   "display_name": "Python 3 (ipykernel)",
   "language": "python",
   "name": "python3"
  },
  "language_info": {
   "codemirror_mode": {
    "name": "ipython",
    "version": 3
   },
   "file_extension": ".py",
   "mimetype": "text/x-python",
   "name": "python",
   "nbconvert_exporter": "python",
   "pygments_lexer": "ipython3",
   "version": "3.9.5"
  },
  "toc": {
   "base_numbering": 1,
   "nav_menu": {},
   "number_sections": true,
   "sideBar": true,
   "skip_h1_title": true,
   "title_cell": "Оглавление",
   "title_sidebar": "Contents",
   "toc_cell": true,
   "toc_position": {
    "height": "calc(100% - 180px)",
    "left": "10px",
    "top": "150px",
    "width": "288px"
   },
   "toc_section_display": true,
   "toc_window_display": true
  }
 },
 "nbformat": 4,
 "nbformat_minor": 5
}
