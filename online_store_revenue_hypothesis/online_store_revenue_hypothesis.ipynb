{
 "cells": [
  {
   "cell_type": "markdown",
   "id": "7622bd0b",
   "metadata": {},
   "source": [
    "# Проверка гипотез об увеличении выручки интернет-магазина"
   ]
  },
  {
   "cell_type": "markdown",
   "id": "15f638cd",
   "metadata": {
    "toc": true
   },
   "source": [
    "<h1>Оглавление<span class=\"tocSkip\"></span></h1>\n",
    "<div class=\"toc\"><ul class=\"toc-item\"><li><span><a href=\"#Описание-проекта\" data-toc-modified-id=\"Описание-проекта-1\"><span class=\"toc-item-num\">1&nbsp;&nbsp;</span>Описание проекта</a></span><ul class=\"toc-item\"><li><span><a href=\"#Описание-данных\" data-toc-modified-id=\"Описание-данных-1.1\"><span class=\"toc-item-num\">1.1&nbsp;&nbsp;</span>Описание данных</a></span></li></ul></li><li><span><a href=\"#Настройка-окружения\" data-toc-modified-id=\"Настройка-окружения-2\"><span class=\"toc-item-num\">2&nbsp;&nbsp;</span>Настройка окружения</a></span></li><li><span><a href=\"#Предобработка-данных\" data-toc-modified-id=\"Предобработка-данных-3\"><span class=\"toc-item-num\">3&nbsp;&nbsp;</span>Предобработка данных</a></span><ul class=\"toc-item\"><li><span><a href=\"#Предобработка-hypothesis\" data-toc-modified-id=\"Предобработка-hypothesis-3.1\"><span class=\"toc-item-num\">3.1&nbsp;&nbsp;</span>Предобработка hypothesis</a></span></li><li><span><a href=\"#Предобработка-orders\" data-toc-modified-id=\"Предобработка-orders-3.2\"><span class=\"toc-item-num\">3.2&nbsp;&nbsp;</span>Предобработка orders</a></span></li><li><span><a href=\"#Предобработка-visitors\" data-toc-modified-id=\"Предобработка-visitors-3.3\"><span class=\"toc-item-num\">3.3&nbsp;&nbsp;</span>Предобработка visitors</a></span></li><li><span><a href=\"#Вывод\" data-toc-modified-id=\"Вывод-3.4\"><span class=\"toc-item-num\">3.4&nbsp;&nbsp;</span>Вывод</a></span></li></ul></li><li><span><a href=\"#Приоритизация-гипотез\" data-toc-modified-id=\"Приоритизация-гипотез-4\"><span class=\"toc-item-num\">4&nbsp;&nbsp;</span>Приоритизация гипотез</a></span><ul class=\"toc-item\"><li><span><a href=\"#Приоритизация-по-фремворку-ICE\" data-toc-modified-id=\"Приоритизация-по-фремворку-ICE-4.1\"><span class=\"toc-item-num\">4.1&nbsp;&nbsp;</span>Приоритизация по фремворку ICE</a></span></li><li><span><a href=\"#Приоритизация-по-фремворку-RICE\" data-toc-modified-id=\"Приоритизация-по-фремворку-RICE-4.2\"><span class=\"toc-item-num\">4.2&nbsp;&nbsp;</span>Приоритизация по фремворку RICE</a></span></li><li><span><a href=\"#Вывод\" data-toc-modified-id=\"Вывод-4.3\"><span class=\"toc-item-num\">4.3&nbsp;&nbsp;</span>Вывод</a></span></li></ul></li><li><span><a href=\"#Анализ-A/B-теста\" data-toc-modified-id=\"Анализ-A/B-теста-5\"><span class=\"toc-item-num\">5&nbsp;&nbsp;</span>Анализ A/B-теста</a></span><ul class=\"toc-item\"><li><span><a href=\"#Предварительное-изучение-данных\" data-toc-modified-id=\"Предварительное-изучение-данных-5.1\"><span class=\"toc-item-num\">5.1&nbsp;&nbsp;</span>Предварительное изучение данных</a></span></li><li><span><a href=\"#Сбор-кумулятивных-данных\" data-toc-modified-id=\"Сбор-кумулятивных-данных-5.2\"><span class=\"toc-item-num\">5.2&nbsp;&nbsp;</span>Сбор кумулятивных данных</a></span></li><li><span><a href=\"#График-кумулятивной-выручки-по-группам-A/B-теста\" data-toc-modified-id=\"График-кумулятивной-выручки-по-группам-A/B-теста-5.3\"><span class=\"toc-item-num\">5.3&nbsp;&nbsp;</span>График кумулятивной выручки по группам A/B-теста</a></span></li><li><span><a href=\"#График-кумулятивного-среднего-чека-по-группам-A/B-теста\" data-toc-modified-id=\"График-кумулятивного-среднего-чека-по-группам-A/B-теста-5.4\"><span class=\"toc-item-num\">5.4&nbsp;&nbsp;</span>График кумулятивного среднего чека по группам A/B-теста</a></span></li><li><span><a href=\"#График-относительного-изменения-кумулятивного-среднего-чека-группы-B-к-группе-A\" data-toc-modified-id=\"График-относительного-изменения-кумулятивного-среднего-чека-группы-B-к-группе-A-5.5\"><span class=\"toc-item-num\">5.5&nbsp;&nbsp;</span>График относительного изменения кумулятивного среднего чека группы B к группе A</a></span></li><li><span><a href=\"#График-кумулятивной-конверсии-по-группам\" data-toc-modified-id=\"График-кумулятивной-конверсии-по-группам-5.6\"><span class=\"toc-item-num\">5.6&nbsp;&nbsp;</span>График кумулятивной конверсии по группам</a></span></li><li><span><a href=\"#График-относительного-изменения-кумулятивной-конверсии-группы-B-к-группе-A\" data-toc-modified-id=\"График-относительного-изменения-кумулятивной-конверсии-группы-B-к-группе-A-5.7\"><span class=\"toc-item-num\">5.7&nbsp;&nbsp;</span>График относительного изменения кумулятивной конверсии группы B к группе A</a></span></li><li><span><a href=\"#Точечный-график-количества-заказов-по-пользователям\" data-toc-modified-id=\"Точечный-график-количества-заказов-по-пользователям-5.8\"><span class=\"toc-item-num\">5.8&nbsp;&nbsp;</span>Точечный график количества заказов по пользователям</a></span></li><li><span><a href=\"#95-й-и-99-й-перцентили-количества-заказов-на-пользователя\" data-toc-modified-id=\"95-й-и-99-й-перцентили-количества-заказов-на-пользователя-5.9\"><span class=\"toc-item-num\">5.9&nbsp;&nbsp;</span>95-й и 99-й перцентили количества заказов на пользователя</a></span></li><li><span><a href=\"#Точечный-график-стоимостей-заказов\" data-toc-modified-id=\"Точечный-график-стоимостей-заказов-5.10\"><span class=\"toc-item-num\">5.10&nbsp;&nbsp;</span>Точечный график стоимостей заказов</a></span></li><li><span><a href=\"#95-й-и-99-й-перцентили-стоимостей-заказов\" data-toc-modified-id=\"95-й-и-99-й-перцентили-стоимостей-заказов-5.11\"><span class=\"toc-item-num\">5.11&nbsp;&nbsp;</span>95-й и 99-й перцентили стоимостей заказов</a></span></li><li><span><a href=\"#Статистическая-значимость-различий-в-конверсии-между-группами-по-«сырым»-данным\" data-toc-modified-id=\"Статистическая-значимость-различий-в-конверсии-между-группами-по-«сырым»-данным-5.12\"><span class=\"toc-item-num\">5.12&nbsp;&nbsp;</span>Статистическая значимость различий в конверсии между группами по «сырым» данным</a></span><ul class=\"toc-item\"><li><span><a href=\"#Подготовка-данных\" data-toc-modified-id=\"Подготовка-данных-5.12.1\"><span class=\"toc-item-num\">5.12.1&nbsp;&nbsp;</span>Подготовка данных</a></span></li><li><span><a href=\"#Расчет-статистической-значимости-различий-в-конверсии-между-группами-по-«сырым»-данным\" data-toc-modified-id=\"Расчет-статистической-значимости-различий-в-конверсии-между-группами-по-«сырым»-данным-5.12.2\"><span class=\"toc-item-num\">5.12.2&nbsp;&nbsp;</span>Расчет статистической значимости различий в конверсии между группами по «сырым» данным</a></span></li></ul></li><li><span><a href=\"#Cтатистическая-значимость-различий-в-среднем-чеке-заказа-между-группами-по-«сырым»-данным\" data-toc-modified-id=\"Cтатистическая-значимость-различий-в-среднем-чеке-заказа-между-группами-по-«сырым»-данным-5.13\"><span class=\"toc-item-num\">5.13&nbsp;&nbsp;</span>Cтатистическая значимость различий в среднем чеке заказа между группами по «сырым» данным</a></span></li><li><span><a href=\"#Cтатистическая-значимость-различий-в-конверсии-между-группами-по-«очищенным»-данным\" data-toc-modified-id=\"Cтатистическая-значимость-различий-в-конверсии-между-группами-по-«очищенным»-данным-5.14\"><span class=\"toc-item-num\">5.14&nbsp;&nbsp;</span>Cтатистическая значимость различий в конверсии между группами по «очищенным» данным</a></span><ul class=\"toc-item\"><li><span><a href=\"#Очистка-данных\" data-toc-modified-id=\"Очистка-данных-5.14.1\"><span class=\"toc-item-num\">5.14.1&nbsp;&nbsp;</span>Очистка данных</a></span></li><li><span><a href=\"#Расчет-статистической-значимости-различий-в-конверсии-между-группами-теста-по-очищенным-данным\" data-toc-modified-id=\"Расчет-статистической-значимости-различий-в-конверсии-между-группами-теста-по-очищенным-данным-5.14.2\"><span class=\"toc-item-num\">5.14.2&nbsp;&nbsp;</span>Расчет статистической значимости различий в конверсии между группами теста по очищенным данным</a></span></li></ul></li><li><span><a href=\"#Cтатистическая-значимость-различий-в-среднем-чеке-заказа-между-группами-по-«очищенным»-данным\" data-toc-modified-id=\"Cтатистическая-значимость-различий-в-среднем-чеке-заказа-между-группами-по-«очищенным»-данным-5.15\"><span class=\"toc-item-num\">5.15&nbsp;&nbsp;</span>Cтатистическая значимость различий в среднем чеке заказа между группами по «очищенным» данным</a></span></li></ul></li><li><span><a href=\"#Общий-вывод\" data-toc-modified-id=\"Общий-вывод-6\"><span class=\"toc-item-num\">6&nbsp;&nbsp;</span>Общий вывод</a></span></li></ul></div>"
   ]
  },
  {
   "cell_type": "markdown",
   "id": "14431e02",
   "metadata": {},
   "source": [
    "## Описание проекта"
   ]
  },
  {
   "cell_type": "markdown",
   "id": "ed9e906d",
   "metadata": {},
   "source": [
    "Отделы аналитики и маркетинга крупного интернет-магазина подготовил список гипотез для увеличения выручки. Необходимо их преоритезировать и проанализировать результаты проведенных A/B-тестов."
   ]
  },
  {
   "cell_type": "markdown",
   "id": "c31d3fd1",
   "metadata": {},
   "source": [
    "### Описание данных"
   ]
  },
  {
   "cell_type": "markdown",
   "id": "af4c210a",
   "metadata": {},
   "source": [
    "В файле _hypothesis_ представлены 9 гипотез по увеличению выручки интернет-магазина с указанными параметрами Reach, Impact, Confidence, Effort.\n",
    "\n",
    "**hypothesis:**\n",
    "\n",
    "Имя переменной | Описание данных\n",
    "---|---\n",
    "Hypothesis | краткое описание гипотезы;\n",
    "Reach | охват пользователей по 10-балльной шкале;\n",
    "Impact | влияние на пользователей по 10-балльной шкале;\n",
    "Confidence | уверенность в гипотезе по 10-балльной шкале;\n",
    "Efforts | затраты ресурсов на проверку гипотезы по 10-балльной шкале. Чем больше значение Efforts, тем дороже проверка гипотезы\n",
    "\n",
    "\n",
    "Результаты проведенного A/B-теста хранятся в файлах _orders_ и _visitors_.\n",
    "\n",
    "**orders:**\n",
    "\n",
    "Имя переменной | Описание данных\n",
    "---|---\n",
    "transactionId | идентификатор заказа;\n",
    "visitorId | идентификатор пользователя, совершившего заказ;\n",
    "date | дата, когда был совершён заказ;\n",
    "revenue | выручка заказа;\n",
    "group | группа A/B-теста, в которую попал заказ\n",
    "\n",
    "**visitors:**\n",
    "\n",
    "Имя переменной | Описание данных\n",
    "---|---\n",
    "date | дата;\n",
    "group | группа A/B-теста;\n",
    "visitors | количество пользователей в указанную дату в указанной группе A/B-теста"
   ]
  },
  {
   "cell_type": "markdown",
   "id": "0e34f42b",
   "metadata": {},
   "source": [
    "## Настройка окружения"
   ]
  },
  {
   "cell_type": "code",
   "execution_count": 90,
   "id": "ab928ce3",
   "metadata": {},
   "outputs": [],
   "source": [
    "import pandas as pd\n",
    "import numpy as np\n",
    "import matplotlib.pyplot as plt\n",
    "import scipy.stats as stats\n",
    "import datetime as dt\n"
   ]
  },
  {
   "cell_type": "markdown",
   "id": "a97ad4c8",
   "metadata": {},
   "source": [
    "## Предобработка данных"
   ]
  },
  {
   "cell_type": "code",
   "execution_count": 91,
   "id": "ad4817a1",
   "metadata": {},
   "outputs": [],
   "source": [
    "try:\n",
    "    hypothesis = pd.read_csv('data/hypothesis.csv')\n",
    "    orders = pd.read_csv('data/orders.csv')\n",
    "    visitors = pd.read_csv('data/visitors.csv')\n",
    "    \n",
    "except:\n",
    "    hypothesis = pd.read_csv('/datasets/hypothesis.csv')\n",
    "    orders = pd.read_csv('/datasets/orders.csv')\n",
    "    visitors = pd.read_csv('/datasets/visitors.csv')"
   ]
  },
  {
   "cell_type": "markdown",
   "id": "3e56eccc",
   "metadata": {},
   "source": [
    "### Предобработка hypothesis"
   ]
  },
  {
   "cell_type": "code",
   "execution_count": 92,
   "id": "7f190729",
   "metadata": {},
   "outputs": [
    {
     "data": {
      "text/html": [
       "<div>\n",
       "<style scoped>\n",
       "    .dataframe tbody tr th:only-of-type {\n",
       "        vertical-align: middle;\n",
       "    }\n",
       "\n",
       "    .dataframe tbody tr th {\n",
       "        vertical-align: top;\n",
       "    }\n",
       "\n",
       "    .dataframe thead th {\n",
       "        text-align: right;\n",
       "    }\n",
       "</style>\n",
       "<table border=\"1\" class=\"dataframe\">\n",
       "  <thead>\n",
       "    <tr style=\"text-align: right;\">\n",
       "      <th></th>\n",
       "      <th>Hypothesis</th>\n",
       "      <th>Reach</th>\n",
       "      <th>Impact</th>\n",
       "      <th>Confidence</th>\n",
       "      <th>Efforts</th>\n",
       "    </tr>\n",
       "  </thead>\n",
       "  <tbody>\n",
       "    <tr>\n",
       "      <th>0</th>\n",
       "      <td>Добавить два новых канала привлечения трафика, что позволит привлекать на 30% больше пользователей</td>\n",
       "      <td>3</td>\n",
       "      <td>10</td>\n",
       "      <td>8</td>\n",
       "      <td>6</td>\n",
       "    </tr>\n",
       "    <tr>\n",
       "      <th>1</th>\n",
       "      <td>Запустить собственную службу доставки, что сократит срок доставки заказов</td>\n",
       "      <td>2</td>\n",
       "      <td>5</td>\n",
       "      <td>4</td>\n",
       "      <td>10</td>\n",
       "    </tr>\n",
       "    <tr>\n",
       "      <th>2</th>\n",
       "      <td>Добавить блоки рекомендаций товаров на сайт интернет магазина, чтобы повысить конверсию и средний чек заказа</td>\n",
       "      <td>8</td>\n",
       "      <td>3</td>\n",
       "      <td>7</td>\n",
       "      <td>3</td>\n",
       "    </tr>\n",
       "    <tr>\n",
       "      <th>3</th>\n",
       "      <td>Изменить структура категорий, что увеличит конверсию, т.к. пользователи быстрее найдут нужный товар</td>\n",
       "      <td>8</td>\n",
       "      <td>3</td>\n",
       "      <td>3</td>\n",
       "      <td>8</td>\n",
       "    </tr>\n",
       "    <tr>\n",
       "      <th>4</th>\n",
       "      <td>Изменить цвет фона главной страницы, чтобы увеличить вовлеченность пользователей</td>\n",
       "      <td>3</td>\n",
       "      <td>1</td>\n",
       "      <td>1</td>\n",
       "      <td>1</td>\n",
       "    </tr>\n",
       "  </tbody>\n",
       "</table>\n",
       "</div>"
      ],
      "text/plain": [
       "                                                                                                     Hypothesis  \\\n",
       "0            Добавить два новых канала привлечения трафика, что позволит привлекать на 30% больше пользователей   \n",
       "1                                     Запустить собственную службу доставки, что сократит срок доставки заказов   \n",
       "2  Добавить блоки рекомендаций товаров на сайт интернет магазина, чтобы повысить конверсию и средний чек заказа   \n",
       "3           Изменить структура категорий, что увеличит конверсию, т.к. пользователи быстрее найдут нужный товар   \n",
       "4                              Изменить цвет фона главной страницы, чтобы увеличить вовлеченность пользователей   \n",
       "\n",
       "   Reach  Impact  Confidence  Efforts  \n",
       "0      3      10           8        6  \n",
       "1      2       5           4       10  \n",
       "2      8       3           7        3  \n",
       "3      8       3           3        8  \n",
       "4      3       1           1        1  "
      ]
     },
     "execution_count": 92,
     "metadata": {},
     "output_type": "execute_result"
    }
   ],
   "source": [
    "hypothesis.head()"
   ]
  },
  {
   "cell_type": "code",
   "execution_count": 93,
   "id": "085d1d01",
   "metadata": {},
   "outputs": [],
   "source": [
    "#приведение названия ячеек к стилю camel_case\n",
    "hypothesis.columns = hypothesis.columns.str.lower()"
   ]
  },
  {
   "cell_type": "markdown",
   "id": "d0b68898",
   "metadata": {},
   "source": [
    "### Предобработка orders"
   ]
  },
  {
   "cell_type": "code",
   "execution_count": 94,
   "id": "0026f129",
   "metadata": {},
   "outputs": [
    {
     "data": {
      "text/html": [
       "<div>\n",
       "<style scoped>\n",
       "    .dataframe tbody tr th:only-of-type {\n",
       "        vertical-align: middle;\n",
       "    }\n",
       "\n",
       "    .dataframe tbody tr th {\n",
       "        vertical-align: top;\n",
       "    }\n",
       "\n",
       "    .dataframe thead th {\n",
       "        text-align: right;\n",
       "    }\n",
       "</style>\n",
       "<table border=\"1\" class=\"dataframe\">\n",
       "  <thead>\n",
       "    <tr style=\"text-align: right;\">\n",
       "      <th></th>\n",
       "      <th>transactionId</th>\n",
       "      <th>visitorId</th>\n",
       "      <th>date</th>\n",
       "      <th>revenue</th>\n",
       "      <th>group</th>\n",
       "    </tr>\n",
       "  </thead>\n",
       "  <tbody>\n",
       "    <tr>\n",
       "      <th>0</th>\n",
       "      <td>3667963787</td>\n",
       "      <td>3312258926</td>\n",
       "      <td>2019-08-15</td>\n",
       "      <td>1650</td>\n",
       "      <td>B</td>\n",
       "    </tr>\n",
       "    <tr>\n",
       "      <th>1</th>\n",
       "      <td>2804400009</td>\n",
       "      <td>3642806036</td>\n",
       "      <td>2019-08-15</td>\n",
       "      <td>730</td>\n",
       "      <td>B</td>\n",
       "    </tr>\n",
       "    <tr>\n",
       "      <th>2</th>\n",
       "      <td>2961555356</td>\n",
       "      <td>4069496402</td>\n",
       "      <td>2019-08-15</td>\n",
       "      <td>400</td>\n",
       "      <td>A</td>\n",
       "    </tr>\n",
       "    <tr>\n",
       "      <th>3</th>\n",
       "      <td>3797467345</td>\n",
       "      <td>1196621759</td>\n",
       "      <td>2019-08-15</td>\n",
       "      <td>9759</td>\n",
       "      <td>B</td>\n",
       "    </tr>\n",
       "    <tr>\n",
       "      <th>4</th>\n",
       "      <td>2282983706</td>\n",
       "      <td>2322279887</td>\n",
       "      <td>2019-08-15</td>\n",
       "      <td>2308</td>\n",
       "      <td>B</td>\n",
       "    </tr>\n",
       "  </tbody>\n",
       "</table>\n",
       "</div>"
      ],
      "text/plain": [
       "   transactionId   visitorId        date  revenue group\n",
       "0     3667963787  3312258926  2019-08-15     1650     B\n",
       "1     2804400009  3642806036  2019-08-15      730     B\n",
       "2     2961555356  4069496402  2019-08-15      400     A\n",
       "3     3797467345  1196621759  2019-08-15     9759     B\n",
       "4     2282983706  2322279887  2019-08-15     2308     B"
      ]
     },
     "execution_count": 94,
     "metadata": {},
     "output_type": "execute_result"
    }
   ],
   "source": [
    "orders.head()"
   ]
  },
  {
   "cell_type": "code",
   "execution_count": 95,
   "id": "d8e907ce",
   "metadata": {},
   "outputs": [
    {
     "name": "stdout",
     "output_type": "stream",
     "text": [
      "<class 'pandas.core.frame.DataFrame'>\n",
      "RangeIndex: 1197 entries, 0 to 1196\n",
      "Data columns (total 5 columns):\n",
      " #   Column         Non-Null Count  Dtype \n",
      "---  ------         --------------  ----- \n",
      " 0   transactionId  1197 non-null   int64 \n",
      " 1   visitorId      1197 non-null   int64 \n",
      " 2   date           1197 non-null   object\n",
      " 3   revenue        1197 non-null   int64 \n",
      " 4   group          1197 non-null   object\n",
      "dtypes: int64(3), object(2)\n",
      "memory usage: 46.9+ KB\n"
     ]
    }
   ],
   "source": [
    "orders.info()"
   ]
  },
  {
   "cell_type": "code",
   "execution_count": 96,
   "id": "c77b21cf",
   "metadata": {},
   "outputs": [],
   "source": [
    "#приведение названия ячеек к стилю camel_case\n",
    "orders.columns = ['transaction_id','visitor_id','date','revenue','group']\n",
    "\n",
    "#изменение типа ячейки date на datetime\n",
    "orders['date'] = orders['date'].astype('datetime64[ns]')"
   ]
  },
  {
   "cell_type": "code",
   "execution_count": 97,
   "id": "8e597e48",
   "metadata": {
    "scrolled": true
   },
   "outputs": [
    {
     "name": "stdout",
     "output_type": "stream",
     "text": [
      "Количество дубликатов 0\n",
      "Количество пропусков transaction_id    0\n",
      "visitor_id        0\n",
      "date              0\n",
      "revenue           0\n",
      "group             0\n",
      "dtype: int64\n"
     ]
    }
   ],
   "source": [
    "# Поиск дубликатов и пропусков:\n",
    "print('Количество дубликатов', orders.duplicated().sum())\n",
    "print('Количество пропусков', orders.isna().sum())"
   ]
  },
  {
   "cell_type": "markdown",
   "id": "8147d3c0",
   "metadata": {},
   "source": [
    "### Предобработка visitors"
   ]
  },
  {
   "cell_type": "code",
   "execution_count": 98,
   "id": "cd91c69e",
   "metadata": {},
   "outputs": [
    {
     "data": {
      "text/html": [
       "<div>\n",
       "<style scoped>\n",
       "    .dataframe tbody tr th:only-of-type {\n",
       "        vertical-align: middle;\n",
       "    }\n",
       "\n",
       "    .dataframe tbody tr th {\n",
       "        vertical-align: top;\n",
       "    }\n",
       "\n",
       "    .dataframe thead th {\n",
       "        text-align: right;\n",
       "    }\n",
       "</style>\n",
       "<table border=\"1\" class=\"dataframe\">\n",
       "  <thead>\n",
       "    <tr style=\"text-align: right;\">\n",
       "      <th></th>\n",
       "      <th>date</th>\n",
       "      <th>group</th>\n",
       "      <th>visitors</th>\n",
       "    </tr>\n",
       "  </thead>\n",
       "  <tbody>\n",
       "    <tr>\n",
       "      <th>0</th>\n",
       "      <td>2019-08-01</td>\n",
       "      <td>A</td>\n",
       "      <td>719</td>\n",
       "    </tr>\n",
       "    <tr>\n",
       "      <th>1</th>\n",
       "      <td>2019-08-02</td>\n",
       "      <td>A</td>\n",
       "      <td>619</td>\n",
       "    </tr>\n",
       "    <tr>\n",
       "      <th>2</th>\n",
       "      <td>2019-08-03</td>\n",
       "      <td>A</td>\n",
       "      <td>507</td>\n",
       "    </tr>\n",
       "    <tr>\n",
       "      <th>3</th>\n",
       "      <td>2019-08-04</td>\n",
       "      <td>A</td>\n",
       "      <td>717</td>\n",
       "    </tr>\n",
       "    <tr>\n",
       "      <th>4</th>\n",
       "      <td>2019-08-05</td>\n",
       "      <td>A</td>\n",
       "      <td>756</td>\n",
       "    </tr>\n",
       "  </tbody>\n",
       "</table>\n",
       "</div>"
      ],
      "text/plain": [
       "         date group  visitors\n",
       "0  2019-08-01     A       719\n",
       "1  2019-08-02     A       619\n",
       "2  2019-08-03     A       507\n",
       "3  2019-08-04     A       717\n",
       "4  2019-08-05     A       756"
      ]
     },
     "execution_count": 98,
     "metadata": {},
     "output_type": "execute_result"
    }
   ],
   "source": [
    "visitors.head()"
   ]
  },
  {
   "cell_type": "code",
   "execution_count": 99,
   "id": "49fbad08",
   "metadata": {},
   "outputs": [
    {
     "name": "stdout",
     "output_type": "stream",
     "text": [
      "<class 'pandas.core.frame.DataFrame'>\n",
      "RangeIndex: 62 entries, 0 to 61\n",
      "Data columns (total 3 columns):\n",
      " #   Column    Non-Null Count  Dtype \n",
      "---  ------    --------------  ----- \n",
      " 0   date      62 non-null     object\n",
      " 1   group     62 non-null     object\n",
      " 2   visitors  62 non-null     int64 \n",
      "dtypes: int64(1), object(2)\n",
      "memory usage: 1.6+ KB\n"
     ]
    }
   ],
   "source": [
    "visitors.info()"
   ]
  },
  {
   "cell_type": "code",
   "execution_count": 100,
   "id": "680d82fc",
   "metadata": {},
   "outputs": [],
   "source": [
    "#изменение типа ячейки date на datetime\n",
    "visitors['date'] = visitors['date'].astype('datetime64[ns]')"
   ]
  },
  {
   "cell_type": "code",
   "execution_count": 101,
   "id": "8b444224",
   "metadata": {
    "scrolled": true
   },
   "outputs": [
    {
     "name": "stdout",
     "output_type": "stream",
     "text": [
      "Количество дубликатов 0\n",
      "Количество пропусков date        0\n",
      "group       0\n",
      "visitors    0\n",
      "dtype: int64\n"
     ]
    }
   ],
   "source": [
    "# Поиск дубликатов и пропусков:\n",
    "print('Количество дубликатов', visitors.duplicated().sum())\n",
    "print('Количество пропусков', visitors.isna().sum())"
   ]
  },
  {
   "cell_type": "markdown",
   "id": "181cbca7",
   "metadata": {},
   "source": [
    "### Вывод\n",
    "Данные изучены. Дубликатов и пропусков не обнаружено, нужные типы заменены. Названия переменных приведены к стилю camel_case."
   ]
  },
  {
   "cell_type": "markdown",
   "id": "02f6355c",
   "metadata": {},
   "source": [
    "## Приоритизация гипотез"
   ]
  },
  {
   "cell_type": "markdown",
   "id": "0087d8ec",
   "metadata": {},
   "source": [
    "### Приоритизация по фремворку ICE"
   ]
  },
  {
   "cell_type": "code",
   "execution_count": 102,
   "id": "ef2e16e6",
   "metadata": {},
   "outputs": [
    {
     "data": {
      "text/html": [
       "<div>\n",
       "<style scoped>\n",
       "    .dataframe tbody tr th:only-of-type {\n",
       "        vertical-align: middle;\n",
       "    }\n",
       "\n",
       "    .dataframe tbody tr th {\n",
       "        vertical-align: top;\n",
       "    }\n",
       "\n",
       "    .dataframe thead th {\n",
       "        text-align: right;\n",
       "    }\n",
       "</style>\n",
       "<table border=\"1\" class=\"dataframe\">\n",
       "  <thead>\n",
       "    <tr style=\"text-align: right;\">\n",
       "      <th></th>\n",
       "      <th>hypothesis</th>\n",
       "      <th>reach</th>\n",
       "      <th>impact</th>\n",
       "      <th>confidence</th>\n",
       "      <th>efforts</th>\n",
       "    </tr>\n",
       "  </thead>\n",
       "  <tbody>\n",
       "    <tr>\n",
       "      <th>0</th>\n",
       "      <td>Добавить два новых канала привлечения трафика, что позволит привлекать на 30% больше пользователей</td>\n",
       "      <td>3</td>\n",
       "      <td>10</td>\n",
       "      <td>8</td>\n",
       "      <td>6</td>\n",
       "    </tr>\n",
       "    <tr>\n",
       "      <th>1</th>\n",
       "      <td>Запустить собственную службу доставки, что сократит срок доставки заказов</td>\n",
       "      <td>2</td>\n",
       "      <td>5</td>\n",
       "      <td>4</td>\n",
       "      <td>10</td>\n",
       "    </tr>\n",
       "    <tr>\n",
       "      <th>2</th>\n",
       "      <td>Добавить блоки рекомендаций товаров на сайт интернет магазина, чтобы повысить конверсию и средний чек заказа</td>\n",
       "      <td>8</td>\n",
       "      <td>3</td>\n",
       "      <td>7</td>\n",
       "      <td>3</td>\n",
       "    </tr>\n",
       "    <tr>\n",
       "      <th>3</th>\n",
       "      <td>Изменить структура категорий, что увеличит конверсию, т.к. пользователи быстрее найдут нужный товар</td>\n",
       "      <td>8</td>\n",
       "      <td>3</td>\n",
       "      <td>3</td>\n",
       "      <td>8</td>\n",
       "    </tr>\n",
       "    <tr>\n",
       "      <th>4</th>\n",
       "      <td>Изменить цвет фона главной страницы, чтобы увеличить вовлеченность пользователей</td>\n",
       "      <td>3</td>\n",
       "      <td>1</td>\n",
       "      <td>1</td>\n",
       "      <td>1</td>\n",
       "    </tr>\n",
       "    <tr>\n",
       "      <th>5</th>\n",
       "      <td>Добавить страницу отзывов клиентов о магазине, что позволит увеличить количество заказов</td>\n",
       "      <td>3</td>\n",
       "      <td>2</td>\n",
       "      <td>2</td>\n",
       "      <td>3</td>\n",
       "    </tr>\n",
       "    <tr>\n",
       "      <th>6</th>\n",
       "      <td>Показать на главной странице баннеры с актуальными акциями и распродажами, чтобы увеличить конверсию</td>\n",
       "      <td>5</td>\n",
       "      <td>3</td>\n",
       "      <td>8</td>\n",
       "      <td>3</td>\n",
       "    </tr>\n",
       "    <tr>\n",
       "      <th>7</th>\n",
       "      <td>Добавить форму подписки на все основные страницы, чтобы собрать базу клиентов для email-рассылок</td>\n",
       "      <td>10</td>\n",
       "      <td>7</td>\n",
       "      <td>8</td>\n",
       "      <td>5</td>\n",
       "    </tr>\n",
       "    <tr>\n",
       "      <th>8</th>\n",
       "      <td>Запустить акцию, дающую скидку на товар в день рождения</td>\n",
       "      <td>1</td>\n",
       "      <td>9</td>\n",
       "      <td>9</td>\n",
       "      <td>5</td>\n",
       "    </tr>\n",
       "  </tbody>\n",
       "</table>\n",
       "</div>"
      ],
      "text/plain": [
       "                                                                                                     hypothesis  \\\n",
       "0            Добавить два новых канала привлечения трафика, что позволит привлекать на 30% больше пользователей   \n",
       "1                                     Запустить собственную службу доставки, что сократит срок доставки заказов   \n",
       "2  Добавить блоки рекомендаций товаров на сайт интернет магазина, чтобы повысить конверсию и средний чек заказа   \n",
       "3           Изменить структура категорий, что увеличит конверсию, т.к. пользователи быстрее найдут нужный товар   \n",
       "4                              Изменить цвет фона главной страницы, чтобы увеличить вовлеченность пользователей   \n",
       "5                      Добавить страницу отзывов клиентов о магазине, что позволит увеличить количество заказов   \n",
       "6          Показать на главной странице баннеры с актуальными акциями и распродажами, чтобы увеличить конверсию   \n",
       "7              Добавить форму подписки на все основные страницы, чтобы собрать базу клиентов для email-рассылок   \n",
       "8                                                       Запустить акцию, дающую скидку на товар в день рождения   \n",
       "\n",
       "   reach  impact  confidence  efforts  \n",
       "0      3      10           8        6  \n",
       "1      2       5           4       10  \n",
       "2      8       3           7        3  \n",
       "3      8       3           3        8  \n",
       "4      3       1           1        1  \n",
       "5      3       2           2        3  \n",
       "6      5       3           8        3  \n",
       "7     10       7           8        5  \n",
       "8      1       9           9        5  "
      ]
     },
     "execution_count": 102,
     "metadata": {},
     "output_type": "execute_result"
    }
   ],
   "source": [
    "pd.set_option('display.max_columns', None) \n",
    "pd.options.display.max_colwidth = 150\n",
    "hypothesis"
   ]
  },
  {
   "cell_type": "code",
   "execution_count": 103,
   "id": "7c3cf46e",
   "metadata": {},
   "outputs": [],
   "source": [
    "hypothesis['ice'] = hypothesis['impact'] * hypothesis['confidence'] / hypothesis['efforts']"
   ]
  },
  {
   "cell_type": "code",
   "execution_count": 104,
   "id": "a119dc96",
   "metadata": {},
   "outputs": [
    {
     "data": {
      "text/html": [
       "<div>\n",
       "<style scoped>\n",
       "    .dataframe tbody tr th:only-of-type {\n",
       "        vertical-align: middle;\n",
       "    }\n",
       "\n",
       "    .dataframe tbody tr th {\n",
       "        vertical-align: top;\n",
       "    }\n",
       "\n",
       "    .dataframe thead th {\n",
       "        text-align: right;\n",
       "    }\n",
       "</style>\n",
       "<table border=\"1\" class=\"dataframe\">\n",
       "  <thead>\n",
       "    <tr style=\"text-align: right;\">\n",
       "      <th></th>\n",
       "      <th>hypothesis</th>\n",
       "      <th>ice</th>\n",
       "    </tr>\n",
       "  </thead>\n",
       "  <tbody>\n",
       "    <tr>\n",
       "      <th>8</th>\n",
       "      <td>Запустить акцию, дающую скидку на товар в день рождения</td>\n",
       "      <td>16.200000</td>\n",
       "    </tr>\n",
       "    <tr>\n",
       "      <th>0</th>\n",
       "      <td>Добавить два новых канала привлечения трафика, что позволит привлекать на 30% больше пользователей</td>\n",
       "      <td>13.333333</td>\n",
       "    </tr>\n",
       "    <tr>\n",
       "      <th>7</th>\n",
       "      <td>Добавить форму подписки на все основные страницы, чтобы собрать базу клиентов для email-рассылок</td>\n",
       "      <td>11.200000</td>\n",
       "    </tr>\n",
       "    <tr>\n",
       "      <th>6</th>\n",
       "      <td>Показать на главной странице баннеры с актуальными акциями и распродажами, чтобы увеличить конверсию</td>\n",
       "      <td>8.000000</td>\n",
       "    </tr>\n",
       "    <tr>\n",
       "      <th>2</th>\n",
       "      <td>Добавить блоки рекомендаций товаров на сайт интернет магазина, чтобы повысить конверсию и средний чек заказа</td>\n",
       "      <td>7.000000</td>\n",
       "    </tr>\n",
       "    <tr>\n",
       "      <th>1</th>\n",
       "      <td>Запустить собственную службу доставки, что сократит срок доставки заказов</td>\n",
       "      <td>2.000000</td>\n",
       "    </tr>\n",
       "    <tr>\n",
       "      <th>5</th>\n",
       "      <td>Добавить страницу отзывов клиентов о магазине, что позволит увеличить количество заказов</td>\n",
       "      <td>1.333333</td>\n",
       "    </tr>\n",
       "    <tr>\n",
       "      <th>3</th>\n",
       "      <td>Изменить структура категорий, что увеличит конверсию, т.к. пользователи быстрее найдут нужный товар</td>\n",
       "      <td>1.125000</td>\n",
       "    </tr>\n",
       "    <tr>\n",
       "      <th>4</th>\n",
       "      <td>Изменить цвет фона главной страницы, чтобы увеличить вовлеченность пользователей</td>\n",
       "      <td>1.000000</td>\n",
       "    </tr>\n",
       "  </tbody>\n",
       "</table>\n",
       "</div>"
      ],
      "text/plain": [
       "                                                                                                     hypothesis  \\\n",
       "8                                                       Запустить акцию, дающую скидку на товар в день рождения   \n",
       "0            Добавить два новых канала привлечения трафика, что позволит привлекать на 30% больше пользователей   \n",
       "7              Добавить форму подписки на все основные страницы, чтобы собрать базу клиентов для email-рассылок   \n",
       "6          Показать на главной странице баннеры с актуальными акциями и распродажами, чтобы увеличить конверсию   \n",
       "2  Добавить блоки рекомендаций товаров на сайт интернет магазина, чтобы повысить конверсию и средний чек заказа   \n",
       "1                                     Запустить собственную службу доставки, что сократит срок доставки заказов   \n",
       "5                      Добавить страницу отзывов клиентов о магазине, что позволит увеличить количество заказов   \n",
       "3           Изменить структура категорий, что увеличит конверсию, т.к. пользователи быстрее найдут нужный товар   \n",
       "4                              Изменить цвет фона главной страницы, чтобы увеличить вовлеченность пользователей   \n",
       "\n",
       "         ice  \n",
       "8  16.200000  \n",
       "0  13.333333  \n",
       "7  11.200000  \n",
       "6   8.000000  \n",
       "2   7.000000  \n",
       "1   2.000000  \n",
       "5   1.333333  \n",
       "3   1.125000  \n",
       "4   1.000000  "
      ]
     },
     "metadata": {},
     "output_type": "display_data"
    }
   ],
   "source": [
    "display(hypothesis[['hypothesis','ice']].sort_values(by='ice',ascending=False))"
   ]
  },
  {
   "cell_type": "markdown",
   "id": "f6f6194f",
   "metadata": {},
   "source": [
    "### Приоритизация по фремворку RICE"
   ]
  },
  {
   "cell_type": "code",
   "execution_count": 105,
   "id": "456bf595",
   "metadata": {},
   "outputs": [],
   "source": [
    "hypothesis['rice'] = hypothesis['reach'] * hypothesis['impact'] * hypothesis['confidence'] / hypothesis['efforts']"
   ]
  },
  {
   "cell_type": "code",
   "execution_count": 106,
   "id": "78e86a42",
   "metadata": {},
   "outputs": [
    {
     "data": {
      "text/html": [
       "<div>\n",
       "<style scoped>\n",
       "    .dataframe tbody tr th:only-of-type {\n",
       "        vertical-align: middle;\n",
       "    }\n",
       "\n",
       "    .dataframe tbody tr th {\n",
       "        vertical-align: top;\n",
       "    }\n",
       "\n",
       "    .dataframe thead th {\n",
       "        text-align: right;\n",
       "    }\n",
       "</style>\n",
       "<table border=\"1\" class=\"dataframe\">\n",
       "  <thead>\n",
       "    <tr style=\"text-align: right;\">\n",
       "      <th></th>\n",
       "      <th>hypothesis</th>\n",
       "      <th>rice</th>\n",
       "    </tr>\n",
       "  </thead>\n",
       "  <tbody>\n",
       "    <tr>\n",
       "      <th>7</th>\n",
       "      <td>Добавить форму подписки на все основные страницы, чтобы собрать базу клиентов для email-рассылок</td>\n",
       "      <td>112.0</td>\n",
       "    </tr>\n",
       "    <tr>\n",
       "      <th>2</th>\n",
       "      <td>Добавить блоки рекомендаций товаров на сайт интернет магазина, чтобы повысить конверсию и средний чек заказа</td>\n",
       "      <td>56.0</td>\n",
       "    </tr>\n",
       "    <tr>\n",
       "      <th>0</th>\n",
       "      <td>Добавить два новых канала привлечения трафика, что позволит привлекать на 30% больше пользователей</td>\n",
       "      <td>40.0</td>\n",
       "    </tr>\n",
       "    <tr>\n",
       "      <th>6</th>\n",
       "      <td>Показать на главной странице баннеры с актуальными акциями и распродажами, чтобы увеличить конверсию</td>\n",
       "      <td>40.0</td>\n",
       "    </tr>\n",
       "    <tr>\n",
       "      <th>8</th>\n",
       "      <td>Запустить акцию, дающую скидку на товар в день рождения</td>\n",
       "      <td>16.2</td>\n",
       "    </tr>\n",
       "    <tr>\n",
       "      <th>3</th>\n",
       "      <td>Изменить структура категорий, что увеличит конверсию, т.к. пользователи быстрее найдут нужный товар</td>\n",
       "      <td>9.0</td>\n",
       "    </tr>\n",
       "    <tr>\n",
       "      <th>1</th>\n",
       "      <td>Запустить собственную службу доставки, что сократит срок доставки заказов</td>\n",
       "      <td>4.0</td>\n",
       "    </tr>\n",
       "    <tr>\n",
       "      <th>5</th>\n",
       "      <td>Добавить страницу отзывов клиентов о магазине, что позволит увеличить количество заказов</td>\n",
       "      <td>4.0</td>\n",
       "    </tr>\n",
       "    <tr>\n",
       "      <th>4</th>\n",
       "      <td>Изменить цвет фона главной страницы, чтобы увеличить вовлеченность пользователей</td>\n",
       "      <td>3.0</td>\n",
       "    </tr>\n",
       "  </tbody>\n",
       "</table>\n",
       "</div>"
      ],
      "text/plain": [
       "                                                                                                     hypothesis  \\\n",
       "7              Добавить форму подписки на все основные страницы, чтобы собрать базу клиентов для email-рассылок   \n",
       "2  Добавить блоки рекомендаций товаров на сайт интернет магазина, чтобы повысить конверсию и средний чек заказа   \n",
       "0            Добавить два новых канала привлечения трафика, что позволит привлекать на 30% больше пользователей   \n",
       "6          Показать на главной странице баннеры с актуальными акциями и распродажами, чтобы увеличить конверсию   \n",
       "8                                                       Запустить акцию, дающую скидку на товар в день рождения   \n",
       "3           Изменить структура категорий, что увеличит конверсию, т.к. пользователи быстрее найдут нужный товар   \n",
       "1                                     Запустить собственную службу доставки, что сократит срок доставки заказов   \n",
       "5                      Добавить страницу отзывов клиентов о магазине, что позволит увеличить количество заказов   \n",
       "4                              Изменить цвет фона главной страницы, чтобы увеличить вовлеченность пользователей   \n",
       "\n",
       "    rice  \n",
       "7  112.0  \n",
       "2   56.0  \n",
       "0   40.0  \n",
       "6   40.0  \n",
       "8   16.2  \n",
       "3    9.0  \n",
       "1    4.0  \n",
       "5    4.0  \n",
       "4    3.0  "
      ]
     },
     "metadata": {},
     "output_type": "display_data"
    }
   ],
   "source": [
    "display(hypothesis[['hypothesis','rice']].sort_values(by='rice',ascending=False))"
   ]
  },
  {
   "cell_type": "markdown",
   "id": "40fc2aa0",
   "metadata": {},
   "source": [
    "### Вывод\n",
    "Порядок гипотез отсортированных по убыванию RICE отличается от порядка гипотез отсортированных по ICE, так как в первом случае учитывается параметр охвата пользователей"
   ]
  },
  {
   "cell_type": "markdown",
   "id": "1ec7179f",
   "metadata": {},
   "source": [
    "## Анализ A/B-теста"
   ]
  },
  {
   "cell_type": "markdown",
   "id": "935a3d75",
   "metadata": {},
   "source": [
    "### Предварительное изучение данных"
   ]
  },
  {
   "cell_type": "code",
   "execution_count": 107,
   "id": "45cbeb86",
   "metadata": {},
   "outputs": [
    {
     "name": "stdout",
     "output_type": "stream",
     "text": [
      "Группы в данных orders: ['B' 'A']\n",
      "Группы в данных visitors: ['A' 'B']\n"
     ]
    }
   ],
   "source": [
    "print('Группы в данных orders:', orders['group'].unique())\n",
    "print('Группы в данных visitors:', visitors['group'].unique())"
   ]
  },
  {
   "cell_type": "code",
   "execution_count": 108,
   "id": "9b8bf6df",
   "metadata": {},
   "outputs": [
    {
     "name": "stdout",
     "output_type": "stream",
     "text": [
      "Дата начала и окончания A/B-теста в orders: 2019-08-01 00:00:00 2019-08-31 00:00:00\n",
      "Дата начала и окончания A/B-теста в visitors: 2019-08-01 00:00:00 2019-08-31 00:00:00\n"
     ]
    }
   ],
   "source": [
    "print('Дата начала и окончания A/B-теста в orders:', orders['date'].min(), orders['date'].max())\n",
    "print('Дата начала и окончания A/B-теста в visitors:', visitors['date'].min(), visitors['date'].max())"
   ]
  },
  {
   "cell_type": "code",
   "execution_count": 109,
   "id": "02fd4469",
   "metadata": {},
   "outputs": [
    {
     "data": {
      "text/html": [
       "<div>\n",
       "<style scoped>\n",
       "    .dataframe tbody tr th:only-of-type {\n",
       "        vertical-align: middle;\n",
       "    }\n",
       "\n",
       "    .dataframe tbody tr th {\n",
       "        vertical-align: top;\n",
       "    }\n",
       "\n",
       "    .dataframe thead th {\n",
       "        text-align: right;\n",
       "    }\n",
       "</style>\n",
       "<table border=\"1\" class=\"dataframe\">\n",
       "  <thead>\n",
       "    <tr style=\"text-align: right;\">\n",
       "      <th></th>\n",
       "      <th>transaction_id</th>\n",
       "    </tr>\n",
       "    <tr>\n",
       "      <th>group</th>\n",
       "      <th></th>\n",
       "    </tr>\n",
       "  </thead>\n",
       "  <tbody>\n",
       "    <tr>\n",
       "      <th>A</th>\n",
       "      <td>557</td>\n",
       "    </tr>\n",
       "    <tr>\n",
       "      <th>B</th>\n",
       "      <td>640</td>\n",
       "    </tr>\n",
       "  </tbody>\n",
       "</table>\n",
       "</div>"
      ],
      "text/plain": [
       "       transaction_id\n",
       "group                \n",
       "A                 557\n",
       "B                 640"
      ]
     },
     "execution_count": 109,
     "metadata": {},
     "output_type": "execute_result"
    }
   ],
   "source": [
    "#сколько пользователей в каждой группе - по таблице с заказами\n",
    "orders.groupby('group').agg({'transaction_id':'nunique'})"
   ]
  },
  {
   "cell_type": "code",
   "execution_count": 110,
   "id": "bb09df4e",
   "metadata": {},
   "outputs": [
    {
     "name": "stdout",
     "output_type": "stream",
     "text": [
      "Кол-во пользователей, учавствующих в обеих группах: 58\n",
      "Кол-во пользователей перед очисткой: 1031\n",
      "Кол-во пользователей после очистки: 973\n"
     ]
    }
   ],
   "source": [
    "\n",
    "# вывод всех visitor_id, которые попадают в A и B группу одновременно\n",
    "double_user = list(orders\n",
    "    .groupby('visitor_id')\n",
    "    .nunique('group')\n",
    "    .query('group > 1')\n",
    "    .reset_index()['visitor_id']\n",
    ")\n",
    "print('Кол-во пользователей, учавствующих в обеих группах:',len(double_user))\n",
    "\n",
    "print('Кол-во пользователей перед очисткой:', len(orders['visitor_id'].unique()))\n",
    "\n",
    "# удаление дублированнх пользователей из данных\n",
    "orders = orders.query('visitor_id not in @double_user')\n",
    "print('Кол-во пользователей после очистки:', len(orders['visitor_id'].unique()))"
   ]
  },
  {
   "cell_type": "markdown",
   "id": "030d7c5c",
   "metadata": {},
   "source": [
    "### Сбор кумулятивных данных"
   ]
  },
  {
   "cell_type": "markdown",
   "id": "db190b92",
   "metadata": {},
   "source": [
    "Чтобы построить кумулятивные графики необходимо собрать данные. Датафрейм _cumulativeData_ будет содержать следующие данные:\n",
    "\n",
    "Переменная|Описание\n",
    "---|---\n",
    "date | дата\n",
    "group | группа A/B-теста\n",
    "orders | кумулятивное кол-во заказов на указанную дату в указанной группе\n",
    "buyers | кумулятивное кол-во пользователей, совершивших хотя бы один заказ, на указанную дату в указанной группе\n",
    "revenue | кумулятивная выручка на указанную дату в указанной группе (средний чек)\n",
    "visitors | кумулятивное кол-во посетителей интернет магазина на указанную дату в определенной группе"
   ]
  },
  {
   "cell_type": "code",
   "execution_count": 111,
   "id": "4e14e002",
   "metadata": {},
   "outputs": [
    {
     "data": {
      "text/html": [
       "<div>\n",
       "<style scoped>\n",
       "    .dataframe tbody tr th:only-of-type {\n",
       "        vertical-align: middle;\n",
       "    }\n",
       "\n",
       "    .dataframe tbody tr th {\n",
       "        vertical-align: top;\n",
       "    }\n",
       "\n",
       "    .dataframe thead th {\n",
       "        text-align: right;\n",
       "    }\n",
       "</style>\n",
       "<table border=\"1\" class=\"dataframe\">\n",
       "  <thead>\n",
       "    <tr style=\"text-align: right;\">\n",
       "      <th></th>\n",
       "      <th>date</th>\n",
       "      <th>group</th>\n",
       "      <th>orders</th>\n",
       "      <th>buyers</th>\n",
       "      <th>revenue</th>\n",
       "      <th>visitors</th>\n",
       "    </tr>\n",
       "  </thead>\n",
       "  <tbody>\n",
       "    <tr>\n",
       "      <th>0</th>\n",
       "      <td>2019-08-01</td>\n",
       "      <td>A</td>\n",
       "      <td>23</td>\n",
       "      <td>19</td>\n",
       "      <td>142779</td>\n",
       "      <td>719</td>\n",
       "    </tr>\n",
       "    <tr>\n",
       "      <th>1</th>\n",
       "      <td>2019-08-01</td>\n",
       "      <td>B</td>\n",
       "      <td>17</td>\n",
       "      <td>17</td>\n",
       "      <td>59758</td>\n",
       "      <td>713</td>\n",
       "    </tr>\n",
       "    <tr>\n",
       "      <th>2</th>\n",
       "      <td>2019-08-02</td>\n",
       "      <td>A</td>\n",
       "      <td>42</td>\n",
       "      <td>36</td>\n",
       "      <td>234381</td>\n",
       "      <td>1338</td>\n",
       "    </tr>\n",
       "    <tr>\n",
       "      <th>3</th>\n",
       "      <td>2019-08-02</td>\n",
       "      <td>B</td>\n",
       "      <td>40</td>\n",
       "      <td>39</td>\n",
       "      <td>221801</td>\n",
       "      <td>1294</td>\n",
       "    </tr>\n",
       "    <tr>\n",
       "      <th>4</th>\n",
       "      <td>2019-08-03</td>\n",
       "      <td>A</td>\n",
       "      <td>66</td>\n",
       "      <td>60</td>\n",
       "      <td>346854</td>\n",
       "      <td>1845</td>\n",
       "    </tr>\n",
       "  </tbody>\n",
       "</table>\n",
       "</div>"
      ],
      "text/plain": [
       "        date group  orders  buyers  revenue  visitors\n",
       "0 2019-08-01     A      23      19   142779       719\n",
       "1 2019-08-01     B      17      17    59758       713\n",
       "2 2019-08-02     A      42      36   234381      1338\n",
       "3 2019-08-02     B      40      39   221801      1294\n",
       "4 2019-08-03     A      66      60   346854      1845"
      ]
     },
     "execution_count": 111,
     "metadata": {},
     "output_type": "execute_result"
    }
   ],
   "source": [
    "# массив уникальны пар значений - дата и группа теста\n",
    "datesGroups = orders[['date','group']].drop_duplicates() \n",
    "\n",
    "# получение агрегированных кумулятивных по дням данных о заказах  \n",
    "ordersAggregated = (datesGroups\n",
    "                    .apply(lambda x: orders[np.logical_and(orders['date'] <= x['date'], orders['group'] == x['group'])]\n",
    "                    .agg(\n",
    "                        {'date' : 'max', \n",
    "                         'group' : 'max', \n",
    "                         'transaction_id' : 'nunique', \n",
    "                         'visitor_id' : 'nunique', \n",
    "                         'revenue' : 'sum'\n",
    "                        }), \n",
    "                           axis=1)\n",
    "                    .sort_values(by=['date','group'])\n",
    "                   )\n",
    "#print(ordersAggregated.head())\n",
    "\n",
    "# получение агрегированных кумулятивных по дням данных о пользователях\n",
    "visitorsAggregated = (datesGroups\n",
    "                      .apply(lambda x: visitors[np.logical_and(visitors['date'] <= x['date'], visitors['group'] == x['group'])]\n",
    "                      .agg(\n",
    "                          {'date' : 'max', \n",
    "                            'group' : 'max', \n",
    "                            'visitors' : 'sum'\n",
    "                          }),\n",
    "                             axis=1)\n",
    "                      .sort_values(by=['date','group'])\n",
    "                     )\n",
    "#print(visitorsAggregated.head())\n",
    "\n",
    "# объединение кумулятивных данных в одной таблице и переименовывание столбцов\n",
    "cumulativeData = ordersAggregated.merge(visitorsAggregated, left_on=['date', 'group'], right_on=['date', 'group'])\n",
    "cumulativeData.columns = ['date', 'group', 'orders', 'buyers', 'revenue', 'visitors']\n",
    "cumulativeData.head()"
   ]
  },
  {
   "cell_type": "markdown",
   "id": "5eb8890f",
   "metadata": {},
   "source": [
    "### График кумулятивной выручки по группам A/B-теста"
   ]
  },
  {
   "cell_type": "code",
   "execution_count": 112,
   "id": "fdd9261d",
   "metadata": {},
   "outputs": [
    {
     "data": {
      "image/png": "[encoded data removed]",
      "text/plain": [
       "<Figure size 1080x360 with 1 Axes>"
      ]
     },
     "metadata": {
      "needs_background": "light"
     },
     "output_type": "display_data"
    }
   ],
   "source": [
    "# датафрейм с кумулятивным количеством заказов и кумулятивной выручкой по дням в группе А\n",
    "cumulativeRevenueA = cumulativeData[cumulativeData['group']=='A'][['date','revenue', 'orders']]\n",
    "\n",
    "# датафрейм с кумулятивным количеством заказов и кумулятивной выручкой по дням в группе B\n",
    "cumulativeRevenueB = cumulativeData[cumulativeData['group']=='B'][['date','revenue', 'orders']]\n",
    "\n",
    "# Настрока размеров графика\n",
    "plt.rcParams[\"figure.figsize\"] = (15,5)\n",
    "\n",
    "# Построение графика выручки группы А\n",
    "plt.plot(cumulativeRevenueA['date'], cumulativeRevenueA['revenue'], label='A')\n",
    "\n",
    "# Построение графика выручки группы B\n",
    "plt.plot(cumulativeRevenueB['date'], cumulativeRevenueB['revenue'], label='B')\n",
    "\n",
    "plt.title(\"Cumulative revenue by group\")\n",
    "plt.legend(); "
   ]
  },
  {
   "cell_type": "markdown",
   "id": "f6acddae",
   "metadata": {},
   "source": [
    "**Вывод:** \n",
    "\n",
    "На протяжении рассматриваемого периода выручка группы A равномерно растет. Выручка группы B растет более стремительно и наблюдается скачок на промежутке (17.08.2019-21.08.2019) - это может означать резкое увеличение числа заказов или значительное увеличение стоимости заказов."
   ]
  },
  {
   "cell_type": "markdown",
   "id": "98404800",
   "metadata": {},
   "source": [
    "### График кумулятивного среднего чека по группам A/B-теста"
   ]
  },
  {
   "cell_type": "code",
   "execution_count": 113,
   "id": "2dd82041",
   "metadata": {
    "scrolled": true
   },
   "outputs": [
    {
     "data": {
      "image/png": "[encoded data removed]",
      "text/plain": [
       "<Figure size 1080x360 with 1 Axes>"
      ]
     },
     "metadata": {
      "needs_background": "light"
     },
     "output_type": "display_data"
    }
   ],
   "source": [
    "# Построение графика для группы А\n",
    "plt.plot(cumulativeRevenueA['date'], cumulativeRevenueA['revenue']/cumulativeRevenueA['orders'],label='A')\n",
    "# Построение графика для группы B\n",
    "plt.plot(cumulativeRevenueB['date'], cumulativeRevenueB['revenue']/cumulativeRevenueB['orders'],label='B')\n",
    "plt.axhline(y=7000, color='black', linestyle='--')\n",
    "plt.title(\"Cumulative avarage check by group\")\n",
    "plt.legend(); "
   ]
  },
  {
   "cell_type": "markdown",
   "id": "2b6f58ae",
   "metadata": {},
   "source": [
    "**Вывод:** \n",
    "\n",
    "Для группы A средний чек установился около отметки 7000. Для группы B средний чек продолжает падать. Возможно в группу B попали большие заказы и поэтому наблюдается скачок на промежутке (17.08.2019-21.08.2019)."
   ]
  },
  {
   "cell_type": "markdown",
   "id": "39b4a728",
   "metadata": {},
   "source": [
    "### График относительного изменения кумулятивного среднего чека группы B к группе A"
   ]
  },
  {
   "cell_type": "code",
   "execution_count": 114,
   "id": "b690dd1e",
   "metadata": {},
   "outputs": [
    {
     "data": {
      "image/png": "[encoded data removed]",
      "text/plain": [
       "<Figure size 1080x360 with 1 Axes>"
      ]
     },
     "metadata": {
      "needs_background": "light"
     },
     "output_type": "display_data"
    }
   ],
   "source": [
    "# объединение данных в одном датафрейме\n",
    "mergedCumulativeRevenue = cumulativeRevenueA.merge(cumulativeRevenueB, left_on='date', right_on='date', how='left', suffixes=['A', 'B'])\n",
    "\n",
    "# построение отношения средних чеков\n",
    "plt.plot(mergedCumulativeRevenue['date'], (mergedCumulativeRevenue['revenueB']/mergedCumulativeRevenue['ordersB'])/(mergedCumulativeRevenue['revenueA']/mergedCumulativeRevenue['ordersA'])-1)\n",
    "\n",
    "# ось X\n",
    "plt.axhline(y=0, color='black', linestyle='--')\n",
    "plt.title(\"Cumulative avarage check B to A ratio\");"
   ]
  },
  {
   "cell_type": "markdown",
   "id": "6dbee255",
   "metadata": {},
   "source": [
    "**Вывод:** \n",
    "\n",
    "График скачкообразный, что свидетельствует о выбросах в данных, т.е. крупных заказах"
   ]
  },
  {
   "cell_type": "markdown",
   "id": "bbfca6d6",
   "metadata": {},
   "source": [
    "### График кумулятивной конверсии по группам"
   ]
  },
  {
   "cell_type": "code",
   "execution_count": 115,
   "id": "38369439",
   "metadata": {},
   "outputs": [
    {
     "data": {
      "image/png": "[encoded data removed]",
      "text/plain": [
       "<Figure size 1080x360 with 1 Axes>"
      ]
     },
     "metadata": {
      "needs_background": "light"
     },
     "output_type": "display_data"
    }
   ],
   "source": [
    "# рассчет кумулятивной конверсии\n",
    "cumulativeData['conversion'] = cumulativeData['orders']/cumulativeData['visitors']\n",
    "\n",
    "# данные по группе A\n",
    "cumulativeDataA = cumulativeData[cumulativeData['group']=='A']\n",
    "\n",
    "# данные по группе B\n",
    "cumulativeDataB = cumulativeData[cumulativeData['group']=='B']\n",
    "\n",
    "# строим графики\n",
    "plt.plot(cumulativeDataA['date'], cumulativeDataA['conversion'], label='A')\n",
    "plt.plot(cumulativeDataB['date'], cumulativeDataB['conversion'], label='B')\n",
    "plt.legend()\n",
    "plt.title(\"Cumulative conversion\");"
   ]
  },
  {
   "cell_type": "markdown",
   "id": "8b313ce7",
   "metadata": {},
   "source": [
    "**Вывод:** \n",
    "\n",
    "По графику видно, что конверсия группы B превысила конверсию группы A после 05.08.2019"
   ]
  },
  {
   "cell_type": "markdown",
   "id": "a7125474",
   "metadata": {},
   "source": [
    "### График относительного изменения кумулятивной конверсии группы B к группе A"
   ]
  },
  {
   "cell_type": "code",
   "execution_count": 116,
   "id": "c2312b43",
   "metadata": {
    "scrolled": true
   },
   "outputs": [
    {
     "data": {
      "image/png": "[encoded data removed]",
      "text/plain": [
       "<Figure size 1080x360 with 1 Axes>"
      ]
     },
     "metadata": {
      "needs_background": "light"
     },
     "output_type": "display_data"
    }
   ],
   "source": [
    "mergedCumulativeConversions = cumulativeDataA[['date','conversion']].merge(cumulativeDataB[['date','conversion']], left_on='date', right_on='date', how='left', suffixes=['A', 'B'])\n",
    "\n",
    "plt.plot(mergedCumulativeConversions['date'], mergedCumulativeConversions['conversionB']/mergedCumulativeConversions['conversionA']-1, label=\"Relative increase in conversion of group B relative to group A\")\n",
    "plt.legend()\n",
    "\n",
    "plt.axhline(y=0, color='black', linestyle='--')\n",
    "plt.axhline(y=0.1, color='black', linestyle='--')\n",
    "\n",
    "plt.title(\"Cumulative avarage check B to A ratio\");"
   ]
  },
  {
   "cell_type": "markdown",
   "id": "8192c369",
   "metadata": {},
   "source": [
    "**Вывод:** \n",
    "\n",
    "Конверсия группы B превышает коверсию группы A. Можно сказать, что отношение конверсий установилось и группа B стабильно лидирует по этому показателю"
   ]
  },
  {
   "cell_type": "markdown",
   "id": "9d67db14",
   "metadata": {},
   "source": [
    "### Точечный график количества заказов по пользователям"
   ]
  },
  {
   "cell_type": "code",
   "execution_count": 117,
   "id": "790aed40",
   "metadata": {
    "scrolled": true
   },
   "outputs": [
    {
     "data": {
      "text/html": [
       "<div>\n",
       "<style scoped>\n",
       "    .dataframe tbody tr th:only-of-type {\n",
       "        vertical-align: middle;\n",
       "    }\n",
       "\n",
       "    .dataframe tbody tr th {\n",
       "        vertical-align: top;\n",
       "    }\n",
       "\n",
       "    .dataframe thead th {\n",
       "        text-align: right;\n",
       "    }\n",
       "</style>\n",
       "<table border=\"1\" class=\"dataframe\">\n",
       "  <thead>\n",
       "    <tr style=\"text-align: right;\">\n",
       "      <th></th>\n",
       "      <th>transaction_id</th>\n",
       "      <th>visitor_id</th>\n",
       "      <th>date</th>\n",
       "      <th>revenue</th>\n",
       "      <th>group</th>\n",
       "    </tr>\n",
       "  </thead>\n",
       "  <tbody>\n",
       "    <tr>\n",
       "      <th>0</th>\n",
       "      <td>3667963787</td>\n",
       "      <td>3312258926</td>\n",
       "      <td>2019-08-15</td>\n",
       "      <td>1650</td>\n",
       "      <td>B</td>\n",
       "    </tr>\n",
       "    <tr>\n",
       "      <th>1</th>\n",
       "      <td>2804400009</td>\n",
       "      <td>3642806036</td>\n",
       "      <td>2019-08-15</td>\n",
       "      <td>730</td>\n",
       "      <td>B</td>\n",
       "    </tr>\n",
       "    <tr>\n",
       "      <th>3</th>\n",
       "      <td>3797467345</td>\n",
       "      <td>1196621759</td>\n",
       "      <td>2019-08-15</td>\n",
       "      <td>9759</td>\n",
       "      <td>B</td>\n",
       "    </tr>\n",
       "    <tr>\n",
       "      <th>4</th>\n",
       "      <td>2282983706</td>\n",
       "      <td>2322279887</td>\n",
       "      <td>2019-08-15</td>\n",
       "      <td>2308</td>\n",
       "      <td>B</td>\n",
       "    </tr>\n",
       "    <tr>\n",
       "      <th>5</th>\n",
       "      <td>182168103</td>\n",
       "      <td>935554773</td>\n",
       "      <td>2019-08-15</td>\n",
       "      <td>2210</td>\n",
       "      <td>B</td>\n",
       "    </tr>\n",
       "  </tbody>\n",
       "</table>\n",
       "</div>"
      ],
      "text/plain": [
       "   transaction_id  visitor_id       date  revenue group\n",
       "0      3667963787  3312258926 2019-08-15     1650     B\n",
       "1      2804400009  3642806036 2019-08-15      730     B\n",
       "3      3797467345  1196621759 2019-08-15     9759     B\n",
       "4      2282983706  2322279887 2019-08-15     2308     B\n",
       "5       182168103   935554773 2019-08-15     2210     B"
      ]
     },
     "execution_count": 117,
     "metadata": {},
     "output_type": "execute_result"
    }
   ],
   "source": [
    "orders.head()"
   ]
  },
  {
   "cell_type": "code",
   "execution_count": 118,
   "id": "3bc0cfc1",
   "metadata": {},
   "outputs": [
    {
     "data": {
      "image/png": "[encoded data removed]",
      "text/plain": [
       "<Figure size 1080x360 with 1 Axes>"
      ]
     },
     "metadata": {
      "needs_background": "light"
     },
     "output_type": "display_data"
    }
   ],
   "source": [
    "#cоставление сводной таблицы с количеством заказов на каждого пользователя\n",
    "number_of_orders_by_user = (orders.groupby('visitor_id')\n",
    "                            .agg({'transaction_id':'count'})\n",
    "                            .reset_index()\n",
    "                            .rename(columns={\"transaction_id\": \"number_of_orders_by_user\"})\n",
    "                           )\n",
    "x_values = pd.Series(range(0,len(number_of_orders_by_user['number_of_orders_by_user'])))\n",
    "\n",
    "plt.scatter(x_values, number_of_orders_by_user['number_of_orders_by_user']) \n",
    "plt.title(\"Number of orders\");"
   ]
  },
  {
   "cell_type": "markdown",
   "id": "63f1e830",
   "metadata": {},
   "source": [
    "**Вывод:** \n",
    "\n",
    "Большинство пользователей сделали один заказ, но есть и те кто делал 2 и даже 3 заказа"
   ]
  },
  {
   "cell_type": "markdown",
   "id": "0f0058e7",
   "metadata": {},
   "source": [
    "### 95-й и 99-й перцентили количества заказов на пользователя"
   ]
  },
  {
   "cell_type": "code",
   "execution_count": 119,
   "id": "69d0426b",
   "metadata": {},
   "outputs": [
    {
     "name": "stdout",
     "output_type": "stream",
     "text": [
      "[1. 2.]\n"
     ]
    }
   ],
   "source": [
    "print(np.percentile(number_of_orders_by_user['number_of_orders_by_user'], [95, 99])) "
   ]
  },
  {
   "cell_type": "markdown",
   "id": "e4c1a2fc",
   "metadata": {},
   "source": [
    "**Вывод:** \n",
    "\n",
    "Не более 5% количества заказов больше **1** и не более 1% количества заказов больше **2**. Граница отсеивания выбросов должна находиться в этом диапазоне."
   ]
  },
  {
   "cell_type": "markdown",
   "id": "80628c83",
   "metadata": {},
   "source": [
    "### Точечный график стоимостей заказов"
   ]
  },
  {
   "cell_type": "code",
   "execution_count": 120,
   "id": "1b7383e4",
   "metadata": {},
   "outputs": [
    {
     "data": {
      "image/png": "[encoded data removed]",
      "text/plain": [
       "<Figure size 1080x360 with 1 Axes>"
      ]
     },
     "metadata": {
      "needs_background": "light"
     },
     "output_type": "display_data"
    }
   ],
   "source": [
    "x_values = pd.Series(range(0,len(orders['revenue'])))\n",
    "\n",
    "fig, ax = plt.subplots()\n",
    "ax.ticklabel_format(useOffset=False, style='plain')\n",
    "ax.scatter(x_values, orders['revenue']) \n",
    "plt.title(\"Revenue\")\n",
    "plt.show();"
   ]
  },
  {
   "cell_type": "markdown",
   "id": "0c86d270",
   "metadata": {},
   "source": [
    "**Вывод:** \n",
    "\n",
    "Подавляющая часть значений не превышает 200000, но встречаются редкие выбросы"
   ]
  },
  {
   "cell_type": "markdown",
   "id": "372adbf3",
   "metadata": {},
   "source": [
    "### 95-й и 99-й перцентили стоимостей заказов"
   ]
  },
  {
   "cell_type": "code",
   "execution_count": 121,
   "id": "8c5cf3ee",
   "metadata": {
    "scrolled": true
   },
   "outputs": [
    {
     "name": "stdout",
     "output_type": "stream",
     "text": [
      "[26785. 53904.]\n"
     ]
    }
   ],
   "source": [
    "print(np.percentile(orders['revenue'], [95, 99])) "
   ]
  },
  {
   "cell_type": "markdown",
   "id": "ddeae995",
   "metadata": {},
   "source": [
    "**Вывод:** \n",
    "\n",
    "Не более 5% заказов дороже **26785** и не более 1% заказов дороже **53904**. Граница отсеивания выбросов должна находиться в этом диапазоне."
   ]
  },
  {
   "cell_type": "markdown",
   "id": "fb2a72e5",
   "metadata": {},
   "source": [
    "### Статистическая значимость различий в конверсии между группами по «сырым» данным"
   ]
  },
  {
   "cell_type": "markdown",
   "id": "2f4d7077",
   "metadata": {},
   "source": [
    "#### Подготовка данных"
   ]
  },
  {
   "cell_type": "code",
   "execution_count": 122,
   "id": "666d89a1",
   "metadata": {},
   "outputs": [],
   "source": [
    "visitorsADaily = visitors[visitors['group'] == 'A'][['date', 'visitors']]\n",
    "visitorsADaily.columns = ['date', 'visitorsPerDateA']\n",
    "visitorsACummulative = visitorsADaily.apply(\n",
    "    lambda x: visitorsADaily[visitorsADaily['date'] <= x['date']].agg(\n",
    "        {'date': 'max', 'visitorsPerDateA': 'sum'}\n",
    "    ),\n",
    "    axis=1,\n",
    ")\n",
    "visitorsACummulative.columns = ['date', 'visitorsCummulativeA']\n",
    "\n",
    "visitorsBDaily = visitors[visitors['group'] == 'B'][['date', 'visitors']]\n",
    "visitorsBDaily.columns = ['date', 'visitorsPerDateB']\n",
    "\n",
    "visitorsBCummulative = visitorsBDaily.apply(\n",
    "    lambda x: visitorsBDaily[visitorsBDaily['date'] <= x['date']].agg(\n",
    "        {'date': 'max', 'visitorsPerDateB': 'sum'}\n",
    "    ),\n",
    "    axis=1,\n",
    ")\n",
    "visitorsBCummulative.columns = ['date', 'visitorsCummulativeB']"
   ]
  },
  {
   "cell_type": "code",
   "execution_count": 123,
   "id": "d1c8513e",
   "metadata": {},
   "outputs": [],
   "source": [
    "ordersADaily = (\n",
    "    orders[orders['group'] == 'A'][['date', 'transaction_id', 'visitor_id', 'revenue']]\n",
    "    .groupby('date', as_index=False)\n",
    "    .agg({'transaction_id': pd.Series.nunique, 'revenue': 'sum'})\n",
    ")\n",
    "ordersADaily.columns = ['date', 'ordersPerDateA', 'revenuePerDateA']\n",
    "\n",
    "ordersACummulative = ordersADaily.apply(\n",
    "    lambda x: ordersADaily[ordersADaily['date'] <= x['date']].agg(\n",
    "        {'date': 'max', 'ordersPerDateA': 'sum', 'revenuePerDateA': 'sum'}\n",
    "    ),\n",
    "    axis=1,\n",
    ").sort_values(by=['date'])\n",
    "ordersACummulative.columns = [\n",
    "    'date',\n",
    "    'ordersCummulativeA',\n",
    "    'revenueCummulativeA',\n",
    "]\n",
    "\n",
    "ordersBDaily = (\n",
    "    orders[orders['group'] == 'B'][['date', 'transaction_id', 'visitor_id', 'revenue']]\n",
    "    .groupby('date', as_index=False)\n",
    "    .agg({'transaction_id': pd.Series.nunique, 'revenue': 'sum'})\n",
    ")\n",
    "ordersBDaily.columns = ['date', 'ordersPerDateB', 'revenuePerDateB']\n",
    "\n",
    "ordersBCummulative = ordersBDaily.apply(\n",
    "    lambda x: ordersBDaily[ordersBDaily['date'] <= x['date']].agg(\n",
    "        {'date': 'max', 'ordersPerDateB': 'sum', 'revenuePerDateB': 'sum'}\n",
    "    ),\n",
    "    axis=1,\n",
    ").sort_values(by=['date'])\n",
    "ordersBCummulative.columns = [\n",
    "    'date',\n",
    "    'ordersCummulativeB',\n",
    "    'revenueCummulativeB',\n",
    "]"
   ]
  },
  {
   "cell_type": "code",
   "execution_count": 124,
   "id": "bce574ff",
   "metadata": {},
   "outputs": [],
   "source": [
    "data = (\n",
    "    ordersADaily.merge(\n",
    "        ordersBDaily, left_on='date', right_on='date', how='left'\n",
    "    )\n",
    "    .merge(ordersACummulative, left_on='date', right_on='date', how='left')\n",
    "    .merge(ordersBCummulative, left_on='date', right_on='date', how='left')\n",
    "    .merge(visitorsADaily, left_on='date', right_on='date', how='left')\n",
    "    .merge(visitorsBDaily, left_on='date', right_on='date', how='left')\n",
    "    .merge(visitorsACummulative, left_on='date', right_on='date', how='left')\n",
    "    .merge(visitorsBCummulative, left_on='date', right_on='date', how='left')\n",
    ")"
   ]
  },
  {
   "cell_type": "markdown",
   "id": "90e57e71",
   "metadata": {},
   "source": [
    "Описание полученных данных:"
   ]
  },
  {
   "cell_type": "markdown",
   "id": "4c996de6",
   "metadata": {},
   "source": [
    "Переменная|Описание\n",
    "---|---\n",
    "date | дата;\n",
    "ordersPerDateA | количество заказов в выбранную дату в группе A;\n",
    "revenuePerDateA | суммарная выручка в выбранную дату в группе A;\n",
    "ordersPerDateB | количество заказов в выбранную дату в группе B;\n",
    "revenuePerDateB | суммарная выручка в выбранную дату в группе B;\n",
    "ordersCummulativeA | суммарное число заказов до выбранной даты включительно в группе A;\n",
    "revenueCummulativeA | суммарная выручка до выбранной даты включительно в группе A;\n",
    "ordersCummulativeB | суммарное количество заказов до выбранной даты включительно в группе B;\n",
    "revenueCummulativeB | суммарная выручка до выбранной даты включительно в группе B;\n",
    "visitorsPerDateA | количество пользователей в выбранную дату в группе A;\n",
    "visitorsPerDateB | количество пользователей в выбранную дату в группе B;\n",
    "visitorsCummulativeA | количество пользователей до выбранной даты включительно в группе A;\n",
    "visitorsCummulativeB | количество пользователей до выбранной даты включительно в группе B"
   ]
  },
  {
   "cell_type": "markdown",
   "id": "2d983226",
   "metadata": {},
   "source": [
    "#### Расчет статистической значимости различий в конверсии между группами по «сырым» данным"
   ]
  },
  {
   "cell_type": "markdown",
   "id": "96d6c330",
   "metadata": {},
   "source": [
    "H0: статистически значимых различий в конверсии между группами нет\n",
    "\n",
    "H1: статистически значимыe различия в конверсии между группами есть"
   ]
  },
  {
   "cell_type": "code",
   "execution_count": 125,
   "id": "4ebbec2c",
   "metadata": {},
   "outputs": [],
   "source": [
    "#В ordersByUsersA, ordersByUsersB для пользователей, которые заказывали хотя бы 1 раз, указывается число совершённых заказов.\n",
    "\n",
    "ordersByUsersA = (\n",
    "    orders[orders['group'] == 'A']\n",
    "    .groupby('visitor_id', as_index=False)\n",
    "    .agg({'transaction_id': pd.Series.nunique})\n",
    ")\n",
    "ordersByUsersA.columns = ['user_id', 'orders']\n",
    "\n",
    "ordersByUsersB = (\n",
    "    orders[orders['group'] == 'B']\n",
    "    .groupby('visitor_id', as_index=False)\n",
    "    .agg({'transaction_id': pd.Series.nunique})\n",
    ")\n",
    "ordersByUsersB.columns = ['user_id', 'orders'] "
   ]
  },
  {
   "cell_type": "code",
   "execution_count": 126,
   "id": "11a31c2f",
   "metadata": {},
   "outputs": [],
   "source": [
    "# В переменных sampleA и sampleB пользователям из разных групп будет соответствовать количество заказов.\n",
    "# Тем, кто ничего не заказал, будут соответствовать нули\n",
    "\n",
    "sampleA = pd.concat(\n",
    "    [\n",
    "        ordersByUsersA['orders'],\n",
    "        pd.Series(\n",
    "            0,\n",
    "            index=np.arange(\n",
    "                data['visitorsPerDateA'].sum() - len(ordersByUsersA['orders'])\n",
    "            ),\n",
    "            name='orders',\n",
    "        ),\n",
    "    ],\n",
    "    axis=0,\n",
    ")\n",
    "\n",
    "sampleB = pd.concat(\n",
    "    [\n",
    "        ordersByUsersB['orders'],\n",
    "        pd.Series(\n",
    "            0,\n",
    "            index=np.arange(\n",
    "                data['visitorsPerDateB'].sum() - len(ordersByUsersB['orders'])\n",
    "            ),\n",
    "            name='orders',\n",
    "        ),\n",
    "    ],\n",
    "    axis=0,\n",
    ")"
   ]
  },
  {
   "cell_type": "code",
   "execution_count": 127,
   "id": "a1eeefa3",
   "metadata": {},
   "outputs": [
    {
     "name": "stdout",
     "output_type": "stream",
     "text": [
      "p-value =  0.011\n",
      "относительная разница составляет 0.160\n"
     ]
    }
   ],
   "source": [
    "# H0: статистически значимых различий в конверсии между группами нет\n",
    "# Применение критерия Манна-Уитни:\n",
    "\n",
    "print('p-value = ', \"{0:.3f}\".format(stats.mannwhitneyu(sampleA, sampleB)[1]))\n",
    "\n",
    "print('относительная разница составляет', \"{0:.3f}\".format(sampleB.mean() / sampleA.mean() - 1))"
   ]
  },
  {
   "cell_type": "markdown",
   "id": "6452129c",
   "metadata": {},
   "source": [
    "**Вывод:** \n",
    "\n",
    "p-value = 0.011 и меньше уровня статистической значимости 0.05, значит гипотеза о том, что статистически значимых различий в конверсии между группами нет - отвергается. Относительный проигрыш группы A равен 16% "
   ]
  },
  {
   "cell_type": "markdown",
   "id": "48454e91",
   "metadata": {},
   "source": [
    "###  Cтатистическая значимость различий в среднем чеке заказа между группами по «сырым» данным"
   ]
  },
  {
   "cell_type": "markdown",
   "id": "8f5c6596",
   "metadata": {},
   "source": [
    "H0: статистически значимых различий в среднем чеке между группами нет\n",
    "\n",
    "H1: статистически значимыe различия в среднем чеке между группами есть"
   ]
  },
  {
   "cell_type": "code",
   "execution_count": 128,
   "id": "f4137fee",
   "metadata": {
    "scrolled": true
   },
   "outputs": [
    {
     "name": "stdout",
     "output_type": "stream",
     "text": [
      "p-value =  0.829\n",
      "относительная разница составляет 0.287\n"
     ]
    }
   ],
   "source": [
    "# H0: в среднем чеке заказа между группами значимых разлийчий нет\n",
    "print('p-value = ', '{0:.3f}'.format(stats.mannwhitneyu(orders[orders['group']=='A']['revenue'], orders[orders['group']=='B']['revenue'])[1]))\n",
    "print('относительная разница составляет','{0:.3f}'.format(orders[orders['group']=='B']['revenue'].mean()/orders[orders['group']=='A']['revenue'].mean()-1)) "
   ]
  },
  {
   "cell_type": "markdown",
   "id": "a46edb71",
   "metadata": {},
   "source": [
    "**Вывод:** \n",
    "\n",
    "P-value значительно больше 0.05. Значит, причин отвергать нулевую гипотезу нет. Статистически значимых различий в среднем чеке между группами нет, несмотря на относительную разницу"
   ]
  },
  {
   "cell_type": "markdown",
   "id": "1d21b484",
   "metadata": {},
   "source": [
    "###  Cтатистическая значимость различий в конверсии между группами по «очищенным» данным"
   ]
  },
  {
   "cell_type": "markdown",
   "id": "7e6e4a82",
   "metadata": {},
   "source": [
    "#### Очистка данных"
   ]
  },
  {
   "cell_type": "markdown",
   "id": "fc7927a1",
   "metadata": {},
   "source": [
    "- 95-й и 99-й перцентили средних чеков равны 26785 и 53904 руб.\n",
    "- 95-й и 99-й перцентили количества заказов на одного пользователя равны 1 и 2 заказа на пользователя\n",
    "\n",
    "Буду считать аномальными тех, пользователей, которые не попали в 95-й перцинтиль"
   ]
  },
  {
   "cell_type": "code",
   "execution_count": 129,
   "id": "dd4fc2bc",
   "metadata": {},
   "outputs": [
    {
     "name": "stdout",
     "output_type": "stream",
     "text": [
      "Предельно зн-ие для кол-ва заказов: 1.0\n",
      "Предельно зн-ие для стоимости заказа: 26785.0\n"
     ]
    }
   ],
   "source": [
    "print('Предельно зн-ие для кол-ва заказов:', (np.percentile(number_of_orders_by_user['number_of_orders_by_user'], [95])[0]))\n",
    "print('Предельно зн-ие для стоимости заказа:',(np.percentile(orders['revenue'], [95])[0]))"
   ]
  },
  {
   "cell_type": "code",
   "execution_count": 130,
   "id": "5a6e7a96",
   "metadata": {},
   "outputs": [
    {
     "name": "stdout",
     "output_type": "stream",
     "text": [
      "568     113298937\n",
      "1099    148427295\n",
      "928     204675465\n",
      "33      249864742\n",
      "684     358944393\n",
      "dtype: int64\n",
      "Количество аномальных пользователей 86\n"
     ]
    }
   ],
   "source": [
    "usersWithManyOrders = pd.concat(\n",
    "    [\n",
    "        ordersByUsersA[ordersByUsersA['orders'] > (np.percentile(number_of_orders_by_user['number_of_orders_by_user'], [95])[0])]['user_id'],\n",
    "        ordersByUsersB[ordersByUsersB['orders'] > (np.percentile(number_of_orders_by_user['number_of_orders_by_user'], [95])[0])]['user_id'],\n",
    "    ],\n",
    "    axis=0,\n",
    ")\n",
    "usersWithExpensiveOrders = orders[orders['revenue'] > (np.percentile(orders['revenue'], [95])[0])]['visitor_id']\n",
    "abnormalUsers = (\n",
    "    pd.concat([usersWithManyOrders, usersWithExpensiveOrders], axis=0)\n",
    "    .drop_duplicates()\n",
    "    .sort_values()\n",
    ")\n",
    "print(abnormalUsers.head(5))\n",
    "print('Количество аномальных пользователей', abnormalUsers.shape[0]) "
   ]
  },
  {
   "cell_type": "code",
   "execution_count": 131,
   "id": "b968d51d",
   "metadata": {},
   "outputs": [],
   "source": [
    "# подготовка выборок количества заказов по пользователям по группам теста\n",
    "\n",
    "sampleAFiltered = pd.concat(\n",
    "    [\n",
    "        ordersByUsersA[\n",
    "            np.logical_not(ordersByUsersA['user_id'].isin(abnormalUsers))\n",
    "        ]['orders'],\n",
    "        pd.Series(\n",
    "            0,\n",
    "            index=np.arange(\n",
    "                data['visitorsPerDateA'].sum() - len(ordersByUsersA['orders'])\n",
    "            ),\n",
    "            name='orders',\n",
    "        ),\n",
    "    ],\n",
    "    axis=0,\n",
    ")\n",
    "\n",
    "sampleBFiltered = pd.concat(\n",
    "    [\n",
    "        ordersByUsersB[\n",
    "            np.logical_not(ordersByUsersB['user_id'].isin(abnormalUsers))\n",
    "        ]['orders'],\n",
    "        pd.Series(\n",
    "            0,\n",
    "            index=np.arange(\n",
    "                data['visitorsPerDateB'].sum() - len(ordersByUsersB['orders'])\n",
    "            ),\n",
    "            name='orders',\n",
    "        ),\n",
    "    ],\n",
    "    axis=0,\n",
    ") "
   ]
  },
  {
   "cell_type": "markdown",
   "id": "1b7ea359",
   "metadata": {},
   "source": [
    "#### Расчет статистической значимости различий в конверсии между группами теста по очищенным данным"
   ]
  },
  {
   "cell_type": "markdown",
   "id": "778c82fb",
   "metadata": {},
   "source": [
    "H0: статистически значимых различий в конверсии между группами нет\n",
    "\n",
    "H1: статистически значимыe различия в конверсии между группами есть"
   ]
  },
  {
   "cell_type": "code",
   "execution_count": 132,
   "id": "bbc56d45",
   "metadata": {},
   "outputs": [
    {
     "name": "stdout",
     "output_type": "stream",
     "text": [
      "p-value =  0.016\n",
      "относительная разница составляет 0.174\n"
     ]
    }
   ],
   "source": [
    "print('p-value = ','{0:.3f}'.format(stats.mannwhitneyu(sampleAFiltered, sampleBFiltered)[1]))\n",
    "print('относительная разница составляет','{0:.3f}'.format(sampleBFiltered.mean()/sampleAFiltered.mean()-1)) "
   ]
  },
  {
   "cell_type": "markdown",
   "id": "b31c6f91",
   "metadata": {},
   "source": [
    "**Вывод:** \n",
    "\n",
    "p-value по-прежнему значительно меньше уровня статистической значимости 0.05. Нулевая гипотеза отвергается.  Относительный проигрыш группы A равен 17.4% "
   ]
  },
  {
   "cell_type": "markdown",
   "id": "a96b0734",
   "metadata": {},
   "source": [
    "###  Cтатистическая значимость различий в среднем чеке заказа между группами по «очищенным» данным"
   ]
  },
  {
   "cell_type": "markdown",
   "id": "ed3dd85f",
   "metadata": {},
   "source": [
    "H0: статистически значимых различий в среднем чеке между группами нет\n",
    "\n",
    "H1: статистически значимыe различия в среднем чеке между группами есть"
   ]
  },
  {
   "cell_type": "code",
   "execution_count": 133,
   "id": "05d6a67a",
   "metadata": {
    "scrolled": true
   },
   "outputs": [
    {
     "name": "stdout",
     "output_type": "stream",
     "text": [
      "p-value =  0.727\n",
      "относительная разница составляет -0.034\n"
     ]
    }
   ],
   "source": [
    "# H0: в среднем чеке заказа между группами значимых разлийчий нет\n",
    "print( \n",
    "    'p-value = ',\n",
    "    '{0:.3f}'.format(\n",
    "        stats.mannwhitneyu(\n",
    "            orders[\n",
    "                np.logical_and(\n",
    "                    orders['group'] == 'A',\n",
    "                    np.logical_not(orders['visitor_id'].isin(abnormalUsers)),\n",
    "                )\n",
    "            ]['revenue'],\n",
    "            orders[\n",
    "                np.logical_and(\n",
    "                    orders['group'] == 'B',\n",
    "                    np.logical_not(orders['visitor_id'].isin(abnormalUsers)),\n",
    "                )\n",
    "            ]['revenue'],\n",
    "        )[1]\n",
    "    )\n",
    ")\n",
    "\n",
    "print(\n",
    "    'относительная разница составляет',\n",
    "    \"{0:.3f}\".format(\n",
    "        orders[\n",
    "            np.logical_and(\n",
    "                orders['group'] == 'B',\n",
    "                np.logical_not(orders['visitor_id'].isin(abnormalUsers)),\n",
    "            )\n",
    "        ]['revenue'].mean()\n",
    "        / orders[\n",
    "            np.logical_and(\n",
    "                orders['group'] == 'A',\n",
    "                np.logical_not(orders['visitor_id'].isin(abnormalUsers)),\n",
    "            )\n",
    "        ]['revenue'].mean()\n",
    "        - 1\n",
    "    )\n",
    ") "
   ]
  },
  {
   "cell_type": "markdown",
   "id": "9d23e3bc",
   "metadata": {},
   "source": [
    "**Вывод:** \n",
    "\n",
    "P-value по-прежнему значительно больше 0.05. Значит, причин отвергать нулевую гипотезу нет. Cтатистически значимых различий в среднем чеке между группами нет"
   ]
  },
  {
   "cell_type": "markdown",
   "id": "fecab982",
   "metadata": {},
   "source": [
    "## Общий вывод"
   ]
  },
  {
   "cell_type": "markdown",
   "id": "6b752db1",
   "metadata": {},
   "source": [
    " - Группа B по конверсии значимо превосходит группу А примерно на 15%;\n",
    " - Относительное различие в средних чеках по сырым данным составляет 25% в пользу группы В и обусловлено аномальными заказами, статистической значимости это различие не имеет. На очищенных данных относительный проигрыш группы В составляет 2-3% и он также не имеет статистической значимости. Нет оснований говорить о различиях в средних чеках в группах А и В;\n",
    " - График различия конверсии между группами сообщает, что результаты группы B лучше группы A и обратной динамики не наблюдается;\n",
    " - В отличии от статистического теста график различия среднего чека говорит о том, что результаты группы B превышают результаты группы А. В среднем различие составляет 25%"
   ]
  },
  {
   "cell_type": "markdown",
   "id": "a18bc25b",
   "metadata": {},
   "source": [
    "**Вывод:** \n",
    "\n",
    "Исходя из обнаруженных фактов, тест следует остановить и признать его успешным. Cегмент B лучше сегмента A."
   ]
  },
  {
   "cell_type": "code",
   "execution_count": null,
   "id": "be6816b9",
   "metadata": {},
   "outputs": [],
   "source": []
  }
 ],
 "metadata": {
  "ExecuteTimeLog": [
   {
    "duration": 435,
    "start_time": "2022-04-27T07:50:48.577Z"
   },
   {
    "duration": 82,
    "start_time": "2022-04-27T07:50:49.014Z"
   },
   {
    "duration": 14,
    "start_time": "2022-04-27T07:50:49.097Z"
   },
   {
    "duration": 3,
    "start_time": "2022-04-27T07:50:49.113Z"
   },
   {
    "duration": 9,
    "start_time": "2022-04-27T07:50:49.117Z"
   },
   {
    "duration": 15,
    "start_time": "2022-04-27T07:50:49.128Z"
   },
   {
    "duration": 7,
    "start_time": "2022-04-27T07:50:49.144Z"
   },
   {
    "duration": 10,
    "start_time": "2022-04-27T07:50:49.153Z"
   },
   {
    "duration": 6,
    "start_time": "2022-04-27T07:50:49.165Z"
   },
   {
    "duration": 34,
    "start_time": "2022-04-27T07:50:49.174Z"
   },
   {
    "duration": 6,
    "start_time": "2022-04-27T07:50:49.210Z"
   },
   {
    "duration": 9,
    "start_time": "2022-04-27T07:50:49.217Z"
   },
   {
    "duration": 8,
    "start_time": "2022-04-27T07:50:49.228Z"
   },
   {
    "duration": 6,
    "start_time": "2022-04-27T07:50:49.237Z"
   },
   {
    "duration": 9,
    "start_time": "2022-04-27T07:50:49.244Z"
   },
   {
    "duration": 5,
    "start_time": "2022-04-27T07:50:49.255Z"
   },
   {
    "duration": 10,
    "start_time": "2022-04-27T07:50:49.262Z"
   },
   {
    "duration": 6,
    "start_time": "2022-04-27T07:57:39.228Z"
   },
   {
    "duration": 6,
    "start_time": "2022-04-27T08:35:20.392Z"
   },
   {
    "duration": 1219,
    "start_time": "2022-05-01T14:06:54.768Z"
   },
   {
    "duration": 114,
    "start_time": "2022-05-01T14:06:55.989Z"
   },
   {
    "duration": 11,
    "start_time": "2022-05-01T14:06:56.104Z"
   },
   {
    "duration": 8,
    "start_time": "2022-05-01T14:06:56.117Z"
   },
   {
    "duration": 22,
    "start_time": "2022-05-01T14:06:56.127Z"
   },
   {
    "duration": 11,
    "start_time": "2022-05-01T14:06:56.151Z"
   },
   {
    "duration": 7,
    "start_time": "2022-05-01T14:06:56.164Z"
   },
   {
    "duration": 7,
    "start_time": "2022-05-01T14:06:56.173Z"
   },
   {
    "duration": 7,
    "start_time": "2022-05-01T14:06:56.181Z"
   },
   {
    "duration": 10,
    "start_time": "2022-05-01T14:06:56.190Z"
   },
   {
    "duration": 6,
    "start_time": "2022-05-01T14:06:56.201Z"
   },
   {
    "duration": 9,
    "start_time": "2022-05-01T14:06:56.208Z"
   },
   {
    "duration": 8,
    "start_time": "2022-05-01T14:06:56.218Z"
   },
   {
    "duration": 28,
    "start_time": "2022-05-01T14:06:56.227Z"
   },
   {
    "duration": 25,
    "start_time": "2022-05-01T14:06:56.256Z"
   },
   {
    "duration": 8,
    "start_time": "2022-05-01T14:06:56.282Z"
   },
   {
    "duration": 11,
    "start_time": "2022-05-01T14:06:56.292Z"
   },
   {
    "duration": 11,
    "start_time": "2022-05-01T14:06:56.305Z"
   },
   {
    "duration": 260,
    "start_time": "2022-05-01T14:06:56.318Z"
   },
   {
    "duration": 263,
    "start_time": "2022-05-01T14:06:56.580Z"
   },
   {
    "duration": 172,
    "start_time": "2022-05-01T14:06:56.845Z"
   },
   {
    "duration": 362,
    "start_time": "2022-05-01T14:06:57.019Z"
   },
   {
    "duration": 183,
    "start_time": "2022-05-01T14:06:57.383Z"
   },
   {
    "duration": 296,
    "start_time": "2022-05-01T14:06:57.567Z"
   },
   {
    "duration": 9,
    "start_time": "2022-05-01T14:06:57.865Z"
   },
   {
    "duration": 139,
    "start_time": "2022-05-01T14:06:57.875Z"
   },
   {
    "duration": 3,
    "start_time": "2022-05-01T14:06:58.016Z"
   },
   {
    "duration": 132,
    "start_time": "2022-05-01T14:06:58.022Z"
   },
   {
    "duration": 4,
    "start_time": "2022-05-01T14:06:58.156Z"
   },
   {
    "duration": 114,
    "start_time": "2022-05-01T14:06:58.161Z"
   },
   {
    "duration": 161,
    "start_time": "2022-05-01T14:06:58.277Z"
   },
   {
    "duration": 24,
    "start_time": "2022-05-01T14:06:58.439Z"
   },
   {
    "duration": 9,
    "start_time": "2022-05-01T14:06:58.464Z"
   },
   {
    "duration": 132,
    "start_time": "2022-05-01T14:06:58.475Z"
   },
   {
    "duration": 6,
    "start_time": "2022-05-01T14:06:58.609Z"
   },
   {
    "duration": 23,
    "start_time": "2022-05-01T14:06:58.617Z"
   },
   {
    "duration": 10,
    "start_time": "2022-05-01T14:06:58.654Z"
   },
   {
    "duration": 10,
    "start_time": "2022-05-01T14:06:58.665Z"
   },
   {
    "duration": 8,
    "start_time": "2022-05-01T14:06:58.676Z"
   },
   {
    "duration": 26,
    "start_time": "2022-05-01T14:06:58.685Z"
   },
   {
    "duration": 12,
    "start_time": "2022-05-01T14:06:58.712Z"
   },
   {
    "duration": 1282,
    "start_time": "2022-05-02T05:57:56.919Z"
   },
   {
    "duration": 99,
    "start_time": "2022-05-02T05:57:58.203Z"
   },
   {
    "duration": 16,
    "start_time": "2022-05-02T05:57:58.304Z"
   },
   {
    "duration": 3,
    "start_time": "2022-05-02T05:57:58.323Z"
   },
   {
    "duration": 11,
    "start_time": "2022-05-02T05:57:58.328Z"
   },
   {
    "duration": 21,
    "start_time": "2022-05-02T05:57:58.340Z"
   },
   {
    "duration": 14,
    "start_time": "2022-05-02T05:57:58.363Z"
   },
   {
    "duration": 10,
    "start_time": "2022-05-02T05:57:58.379Z"
   },
   {
    "duration": 17,
    "start_time": "2022-05-02T05:57:58.392Z"
   },
   {
    "duration": 12,
    "start_time": "2022-05-02T05:57:58.412Z"
   },
   {
    "duration": 7,
    "start_time": "2022-05-02T05:57:58.426Z"
   },
   {
    "duration": 9,
    "start_time": "2022-05-02T05:57:58.447Z"
   },
   {
    "duration": 10,
    "start_time": "2022-05-02T05:57:58.458Z"
   },
   {
    "duration": 8,
    "start_time": "2022-05-02T05:57:58.470Z"
   },
   {
    "duration": 17,
    "start_time": "2022-05-02T05:57:58.480Z"
   },
   {
    "duration": 5,
    "start_time": "2022-05-02T05:57:58.499Z"
   },
   {
    "duration": 42,
    "start_time": "2022-05-02T05:57:58.506Z"
   },
   {
    "duration": 11,
    "start_time": "2022-05-02T05:57:58.550Z"
   },
   {
    "duration": 413,
    "start_time": "2022-05-02T05:57:58.564Z"
   },
   {
    "duration": 395,
    "start_time": "2022-05-02T05:57:58.979Z"
   },
   {
    "duration": 271,
    "start_time": "2022-05-02T05:57:59.376Z"
   },
   {
    "duration": 402,
    "start_time": "2022-05-02T05:57:59.649Z"
   },
   {
    "duration": 494,
    "start_time": "2022-05-02T05:58:00.054Z"
   },
   {
    "duration": 619,
    "start_time": "2022-05-02T05:58:00.550Z"
   },
   {
    "duration": 13,
    "start_time": "2022-05-02T05:58:01.171Z"
   },
   {
    "duration": 294,
    "start_time": "2022-05-02T05:58:01.185Z"
   },
   {
    "duration": 5,
    "start_time": "2022-05-02T05:58:01.480Z"
   },
   {
    "duration": 225,
    "start_time": "2022-05-02T05:58:01.489Z"
   },
   {
    "duration": 7,
    "start_time": "2022-05-02T05:58:01.715Z"
   },
   {
    "duration": 101,
    "start_time": "2022-05-02T05:58:01.724Z"
   },
   {
    "duration": 114,
    "start_time": "2022-05-02T05:58:01.827Z"
   },
   {
    "duration": 20,
    "start_time": "2022-05-02T05:58:01.943Z"
   },
   {
    "duration": 10,
    "start_time": "2022-05-02T05:58:01.965Z"
   },
   {
    "duration": 135,
    "start_time": "2022-05-02T05:58:01.977Z"
   },
   {
    "duration": 7,
    "start_time": "2022-05-02T05:58:02.113Z"
   },
   {
    "duration": 36,
    "start_time": "2022-05-02T05:58:02.121Z"
   },
   {
    "duration": 9,
    "start_time": "2022-05-02T05:58:02.159Z"
   },
   {
    "duration": 9,
    "start_time": "2022-05-02T05:58:02.170Z"
   },
   {
    "duration": 9,
    "start_time": "2022-05-02T05:58:02.180Z"
   },
   {
    "duration": 22,
    "start_time": "2022-05-02T05:58:02.191Z"
   },
   {
    "duration": 43,
    "start_time": "2022-05-02T05:58:02.215Z"
   },
   {
    "duration": 295,
    "start_time": "2022-05-02T06:07:20.269Z"
   },
   {
    "duration": 238,
    "start_time": "2022-05-02T06:07:46.663Z"
   },
   {
    "duration": 1366,
    "start_time": "2022-05-04T16:51:54.322Z"
   },
   {
    "duration": 182,
    "start_time": "2022-05-04T16:51:55.691Z"
   },
   {
    "duration": 11,
    "start_time": "2022-05-04T16:51:55.875Z"
   },
   {
    "duration": 3,
    "start_time": "2022-05-04T16:51:55.889Z"
   },
   {
    "duration": 11,
    "start_time": "2022-05-04T16:51:55.893Z"
   },
   {
    "duration": 11,
    "start_time": "2022-05-04T16:51:55.906Z"
   },
   {
    "duration": 6,
    "start_time": "2022-05-04T16:51:55.919Z"
   },
   {
    "duration": 10,
    "start_time": "2022-05-04T16:51:55.927Z"
   },
   {
    "duration": 8,
    "start_time": "2022-05-04T16:51:55.938Z"
   },
   {
    "duration": 11,
    "start_time": "2022-05-04T16:51:55.949Z"
   },
   {
    "duration": 5,
    "start_time": "2022-05-04T16:51:55.962Z"
   },
   {
    "duration": 11,
    "start_time": "2022-05-04T16:51:55.969Z"
   },
   {
    "duration": 9,
    "start_time": "2022-05-04T16:51:55.982Z"
   },
   {
    "duration": 40,
    "start_time": "2022-05-04T16:51:55.993Z"
   },
   {
    "duration": 11,
    "start_time": "2022-05-04T16:51:56.035Z"
   },
   {
    "duration": 6,
    "start_time": "2022-05-04T16:51:56.048Z"
   },
   {
    "duration": 16,
    "start_time": "2022-05-04T16:51:56.056Z"
   },
   {
    "duration": 15,
    "start_time": "2022-05-04T16:51:56.074Z"
   },
   {
    "duration": 296,
    "start_time": "2022-05-04T16:51:56.091Z"
   },
   {
    "duration": 292,
    "start_time": "2022-05-04T16:51:56.388Z"
   },
   {
    "duration": 206,
    "start_time": "2022-05-04T16:51:56.682Z"
   },
   {
    "duration": 391,
    "start_time": "2022-05-04T16:51:56.890Z"
   },
   {
    "duration": 227,
    "start_time": "2022-05-04T16:51:57.282Z"
   },
   {
    "duration": 348,
    "start_time": "2022-05-04T16:51:57.511Z"
   },
   {
    "duration": 10,
    "start_time": "2022-05-04T16:51:57.861Z"
   },
   {
    "duration": 169,
    "start_time": "2022-05-04T16:51:57.872Z"
   },
   {
    "duration": 4,
    "start_time": "2022-05-04T16:51:58.043Z"
   },
   {
    "duration": 170,
    "start_time": "2022-05-04T16:51:58.050Z"
   },
   {
    "duration": 12,
    "start_time": "2022-05-04T16:51:58.222Z"
   },
   {
    "duration": 101,
    "start_time": "2022-05-04T16:51:58.235Z"
   },
   {
    "duration": 119,
    "start_time": "2022-05-04T16:51:58.338Z"
   },
   {
    "duration": 20,
    "start_time": "2022-05-04T16:51:58.459Z"
   },
   {
    "duration": 14,
    "start_time": "2022-05-04T16:51:58.481Z"
   },
   {
    "duration": 138,
    "start_time": "2022-05-04T16:51:58.497Z"
   },
   {
    "duration": 7,
    "start_time": "2022-05-04T16:51:58.637Z"
   },
   {
    "duration": 26,
    "start_time": "2022-05-04T16:51:58.646Z"
   },
   {
    "duration": 10,
    "start_time": "2022-05-04T16:51:58.674Z"
   },
   {
    "duration": 10,
    "start_time": "2022-05-04T16:51:58.685Z"
   },
   {
    "duration": 37,
    "start_time": "2022-05-04T16:51:58.697Z"
   },
   {
    "duration": 24,
    "start_time": "2022-05-04T16:51:58.736Z"
   },
   {
    "duration": 14,
    "start_time": "2022-05-04T16:51:58.762Z"
   },
   {
    "duration": 104,
    "start_time": "2022-05-04T17:14:15.358Z"
   },
   {
    "duration": 6,
    "start_time": "2022-05-04T17:14:34.831Z"
   },
   {
    "duration": 4,
    "start_time": "2022-05-04T17:14:51.301Z"
   },
   {
    "duration": 5,
    "start_time": "2022-05-04T17:15:12.873Z"
   },
   {
    "duration": 4,
    "start_time": "2022-05-04T17:17:11.238Z"
   },
   {
    "duration": 5,
    "start_time": "2022-05-04T17:17:33.425Z"
   },
   {
    "duration": 3,
    "start_time": "2022-05-04T17:18:40.151Z"
   },
   {
    "duration": 9,
    "start_time": "2022-05-04T17:24:21.918Z"
   },
   {
    "duration": 196,
    "start_time": "2022-05-04T17:28:23.280Z"
   },
   {
    "duration": 167,
    "start_time": "2022-05-04T17:34:59.214Z"
   },
   {
    "duration": 9,
    "start_time": "2022-05-04T17:35:03.250Z"
   },
   {
    "duration": 10,
    "start_time": "2022-05-04T17:35:33.690Z"
   },
   {
    "duration": 18,
    "start_time": "2022-05-04T20:39:06.449Z"
   },
   {
    "duration": 16,
    "start_time": "2022-05-04T20:39:46.135Z"
   },
   {
    "duration": 12,
    "start_time": "2022-05-04T20:40:03.735Z"
   },
   {
    "duration": 20,
    "start_time": "2022-05-04T20:40:15.071Z"
   },
   {
    "duration": 13,
    "start_time": "2022-05-04T20:40:19.846Z"
   },
   {
    "duration": 12,
    "start_time": "2022-05-04T20:40:24.462Z"
   },
   {
    "duration": 19,
    "start_time": "2022-05-04T20:41:01.967Z"
   },
   {
    "duration": 175,
    "start_time": "2022-05-04T20:41:19.000Z"
   },
   {
    "duration": 168,
    "start_time": "2022-05-04T20:41:22.992Z"
   },
   {
    "duration": 19,
    "start_time": "2022-05-04T20:41:30.526Z"
   },
   {
    "duration": 14,
    "start_time": "2022-05-04T20:42:32.456Z"
   },
   {
    "duration": 15,
    "start_time": "2022-05-04T20:42:39.513Z"
   },
   {
    "duration": 14,
    "start_time": "2022-05-04T20:42:48.207Z"
   },
   {
    "duration": 9,
    "start_time": "2022-05-04T20:42:56.825Z"
   },
   {
    "duration": 14,
    "start_time": "2022-05-04T20:43:21.815Z"
   },
   {
    "duration": 10,
    "start_time": "2022-05-04T20:43:33.655Z"
   },
   {
    "duration": 11,
    "start_time": "2022-05-04T20:44:11.512Z"
   },
   {
    "duration": 16,
    "start_time": "2022-05-04T20:44:56.547Z"
   },
   {
    "duration": 17,
    "start_time": "2022-05-04T20:45:01.519Z"
   },
   {
    "duration": 13,
    "start_time": "2022-05-04T20:45:14.240Z"
   },
   {
    "duration": 11,
    "start_time": "2022-05-04T20:45:20.217Z"
   },
   {
    "duration": 165,
    "start_time": "2022-05-04T20:46:52.745Z"
   },
   {
    "duration": 13,
    "start_time": "2022-05-04T20:47:02.208Z"
   },
   {
    "duration": 13,
    "start_time": "2022-05-04T20:47:16.969Z"
   },
   {
    "duration": 13,
    "start_time": "2022-05-04T20:47:23.864Z"
   },
   {
    "duration": 17,
    "start_time": "2022-05-04T20:47:52.225Z"
   },
   {
    "duration": 2740,
    "start_time": "2022-05-04T20:48:38.065Z"
   },
   {
    "duration": 29,
    "start_time": "2022-05-04T20:48:49.488Z"
   },
   {
    "duration": 25,
    "start_time": "2022-05-04T20:49:04.850Z"
   },
   {
    "duration": 26,
    "start_time": "2022-05-04T20:49:17.273Z"
   },
   {
    "duration": 14,
    "start_time": "2022-05-04T20:49:30.521Z"
   },
   {
    "duration": 165,
    "start_time": "2022-05-04T20:49:41.882Z"
   },
   {
    "duration": 16,
    "start_time": "2022-05-04T20:49:45.495Z"
   },
   {
    "duration": 191,
    "start_time": "2022-05-04T20:51:05.034Z"
   },
   {
    "duration": 20,
    "start_time": "2022-05-04T20:51:14.240Z"
   },
   {
    "duration": 13,
    "start_time": "2022-05-04T20:51:36.617Z"
   },
   {
    "duration": 12,
    "start_time": "2022-05-04T20:55:39.038Z"
   },
   {
    "duration": 24,
    "start_time": "2022-05-04T20:56:06.616Z"
   },
   {
    "duration": 10,
    "start_time": "2022-05-04T20:57:14.570Z"
   },
   {
    "duration": 10,
    "start_time": "2022-05-04T20:57:24.975Z"
   },
   {
    "duration": 18,
    "start_time": "2022-05-04T20:57:34.759Z"
   },
   {
    "duration": 3,
    "start_time": "2022-05-04T20:59:09.698Z"
   },
   {
    "duration": 147,
    "start_time": "2022-05-04T20:59:09.705Z"
   },
   {
    "duration": 9,
    "start_time": "2022-05-04T20:59:09.854Z"
   },
   {
    "duration": 8,
    "start_time": "2022-05-04T20:59:09.865Z"
   },
   {
    "duration": 10,
    "start_time": "2022-05-04T20:59:09.876Z"
   },
   {
    "duration": 17,
    "start_time": "2022-05-04T20:59:09.888Z"
   },
   {
    "duration": 11,
    "start_time": "2022-05-04T20:59:09.906Z"
   },
   {
    "duration": 17,
    "start_time": "2022-05-04T20:59:09.919Z"
   },
   {
    "duration": 7,
    "start_time": "2022-05-04T20:59:09.937Z"
   },
   {
    "duration": 12,
    "start_time": "2022-05-04T20:59:09.946Z"
   },
   {
    "duration": 6,
    "start_time": "2022-05-04T20:59:09.960Z"
   },
   {
    "duration": 10,
    "start_time": "2022-05-04T20:59:09.968Z"
   },
   {
    "duration": 8,
    "start_time": "2022-05-04T20:59:09.980Z"
   },
   {
    "duration": 45,
    "start_time": "2022-05-04T20:59:09.989Z"
   },
   {
    "duration": 13,
    "start_time": "2022-05-04T20:59:10.036Z"
   },
   {
    "duration": 11,
    "start_time": "2022-05-04T20:59:10.050Z"
   },
   {
    "duration": 13,
    "start_time": "2022-05-04T20:59:10.062Z"
   },
   {
    "duration": 8,
    "start_time": "2022-05-04T20:59:10.077Z"
   },
   {
    "duration": 6,
    "start_time": "2022-05-04T20:59:10.087Z"
   },
   {
    "duration": 45,
    "start_time": "2022-05-04T20:59:10.094Z"
   },
   {
    "duration": 9,
    "start_time": "2022-05-04T20:59:13.104Z"
   },
   {
    "duration": 15,
    "start_time": "2022-05-04T20:59:14.094Z"
   },
   {
    "duration": 4,
    "start_time": "2022-05-04T21:00:07.037Z"
   },
   {
    "duration": 160,
    "start_time": "2022-05-04T21:00:07.043Z"
   },
   {
    "duration": 9,
    "start_time": "2022-05-04T21:00:07.205Z"
   },
   {
    "duration": 33,
    "start_time": "2022-05-04T21:00:07.216Z"
   },
   {
    "duration": 21,
    "start_time": "2022-05-04T21:00:07.252Z"
   },
   {
    "duration": 29,
    "start_time": "2022-05-04T21:00:07.276Z"
   },
   {
    "duration": 25,
    "start_time": "2022-05-04T21:00:07.309Z"
   },
   {
    "duration": 24,
    "start_time": "2022-05-04T21:00:07.336Z"
   },
   {
    "duration": 26,
    "start_time": "2022-05-04T21:00:07.362Z"
   },
   {
    "duration": 40,
    "start_time": "2022-05-04T21:00:07.391Z"
   },
   {
    "duration": 23,
    "start_time": "2022-05-04T21:00:07.434Z"
   },
   {
    "duration": 21,
    "start_time": "2022-05-04T21:00:07.460Z"
   },
   {
    "duration": 24,
    "start_time": "2022-05-04T21:00:07.482Z"
   },
   {
    "duration": 11,
    "start_time": "2022-05-04T21:00:07.508Z"
   },
   {
    "duration": 25,
    "start_time": "2022-05-04T21:00:07.521Z"
   },
   {
    "duration": 8,
    "start_time": "2022-05-04T21:00:07.548Z"
   },
   {
    "duration": 14,
    "start_time": "2022-05-04T21:00:07.558Z"
   },
   {
    "duration": 9,
    "start_time": "2022-05-04T21:00:07.574Z"
   },
   {
    "duration": 12,
    "start_time": "2022-05-04T21:00:07.585Z"
   },
   {
    "duration": 34,
    "start_time": "2022-05-04T21:00:07.600Z"
   },
   {
    "duration": 12,
    "start_time": "2022-05-04T21:00:09.223Z"
   },
   {
    "duration": 24,
    "start_time": "2022-05-04T21:00:09.590Z"
   },
   {
    "duration": 18,
    "start_time": "2022-05-04T21:01:02.007Z"
   },
   {
    "duration": 9,
    "start_time": "2022-05-04T21:01:02.392Z"
   },
   {
    "duration": 4,
    "start_time": "2022-05-04T21:01:07.078Z"
   },
   {
    "duration": 165,
    "start_time": "2022-05-04T21:01:07.084Z"
   },
   {
    "duration": 8,
    "start_time": "2022-05-04T21:01:07.251Z"
   },
   {
    "duration": 8,
    "start_time": "2022-05-04T21:01:07.262Z"
   },
   {
    "duration": 13,
    "start_time": "2022-05-04T21:01:07.273Z"
   },
   {
    "duration": 13,
    "start_time": "2022-05-04T21:01:07.288Z"
   },
   {
    "duration": 11,
    "start_time": "2022-05-04T21:01:07.303Z"
   },
   {
    "duration": 22,
    "start_time": "2022-05-04T21:01:07.316Z"
   },
   {
    "duration": 7,
    "start_time": "2022-05-04T21:01:07.340Z"
   },
   {
    "duration": 18,
    "start_time": "2022-05-04T21:01:07.349Z"
   },
   {
    "duration": 11,
    "start_time": "2022-05-04T21:01:07.370Z"
   },
   {
    "duration": 10,
    "start_time": "2022-05-04T21:01:07.382Z"
   },
   {
    "duration": 12,
    "start_time": "2022-05-04T21:01:07.393Z"
   },
   {
    "duration": 7,
    "start_time": "2022-05-04T21:01:07.406Z"
   },
   {
    "duration": 26,
    "start_time": "2022-05-04T21:01:07.415Z"
   },
   {
    "duration": 10,
    "start_time": "2022-05-04T21:01:07.442Z"
   },
   {
    "duration": 15,
    "start_time": "2022-05-04T21:01:07.453Z"
   },
   {
    "duration": 7,
    "start_time": "2022-05-04T21:01:07.470Z"
   },
   {
    "duration": 7,
    "start_time": "2022-05-04T21:01:07.479Z"
   },
   {
    "duration": 13,
    "start_time": "2022-05-04T21:01:07.488Z"
   },
   {
    "duration": 41,
    "start_time": "2022-05-04T21:01:07.503Z"
   },
   {
    "duration": 11,
    "start_time": "2022-05-04T21:01:07.546Z"
   },
   {
    "duration": 12,
    "start_time": "2022-05-04T21:01:07.559Z"
   },
   {
    "duration": 375,
    "start_time": "2022-05-04T21:01:07.573Z"
   },
   {
    "duration": 218,
    "start_time": "2022-05-04T21:01:07.950Z"
   },
   {
    "duration": 216,
    "start_time": "2022-05-04T21:01:08.169Z"
   },
   {
    "duration": 280,
    "start_time": "2022-05-04T21:01:08.387Z"
   },
   {
    "duration": 215,
    "start_time": "2022-05-04T21:01:08.669Z"
   },
   {
    "duration": 299,
    "start_time": "2022-05-04T21:01:08.887Z"
   },
   {
    "duration": 11,
    "start_time": "2022-05-04T21:01:09.188Z"
   },
   {
    "duration": 163,
    "start_time": "2022-05-04T21:01:09.200Z"
   },
   {
    "duration": 4,
    "start_time": "2022-05-04T21:01:09.365Z"
   },
   {
    "duration": 176,
    "start_time": "2022-05-04T21:01:09.370Z"
   },
   {
    "duration": 4,
    "start_time": "2022-05-04T21:01:09.548Z"
   },
   {
    "duration": 110,
    "start_time": "2022-05-04T21:01:09.555Z"
   },
   {
    "duration": 128,
    "start_time": "2022-05-04T21:01:09.667Z"
   },
   {
    "duration": 38,
    "start_time": "2022-05-04T21:01:09.796Z"
   },
   {
    "duration": 10,
    "start_time": "2022-05-04T21:01:09.836Z"
   },
   {
    "duration": 175,
    "start_time": "2022-05-04T21:01:09.848Z"
   },
   {
    "duration": 7,
    "start_time": "2022-05-04T21:01:10.033Z"
   },
   {
    "duration": 30,
    "start_time": "2022-05-04T21:01:10.042Z"
   },
   {
    "duration": 13,
    "start_time": "2022-05-04T21:01:10.074Z"
   },
   {
    "duration": 13,
    "start_time": "2022-05-04T21:01:10.089Z"
   },
   {
    "duration": 34,
    "start_time": "2022-05-04T21:01:10.104Z"
   },
   {
    "duration": 26,
    "start_time": "2022-05-04T21:01:10.140Z"
   },
   {
    "duration": 13,
    "start_time": "2022-05-04T21:01:10.168Z"
   },
   {
    "duration": 1322,
    "start_time": "2022-05-05T04:43:19.473Z"
   },
   {
    "duration": 151,
    "start_time": "2022-05-05T04:43:20.797Z"
   },
   {
    "duration": 12,
    "start_time": "2022-05-05T04:43:20.950Z"
   },
   {
    "duration": 3,
    "start_time": "2022-05-05T04:43:20.964Z"
   },
   {
    "duration": 11,
    "start_time": "2022-05-05T04:43:20.968Z"
   },
   {
    "duration": 13,
    "start_time": "2022-05-05T04:43:20.980Z"
   },
   {
    "duration": 7,
    "start_time": "2022-05-05T04:43:20.995Z"
   },
   {
    "duration": 11,
    "start_time": "2022-05-05T04:43:21.004Z"
   },
   {
    "duration": 22,
    "start_time": "2022-05-05T04:43:21.016Z"
   },
   {
    "duration": 11,
    "start_time": "2022-05-05T04:43:21.040Z"
   },
   {
    "duration": 7,
    "start_time": "2022-05-05T04:43:21.053Z"
   },
   {
    "duration": 11,
    "start_time": "2022-05-05T04:43:21.062Z"
   },
   {
    "duration": 10,
    "start_time": "2022-05-05T04:43:21.075Z"
   },
   {
    "duration": 9,
    "start_time": "2022-05-05T04:43:21.086Z"
   },
   {
    "duration": 9,
    "start_time": "2022-05-05T04:43:21.097Z"
   },
   {
    "duration": 30,
    "start_time": "2022-05-05T04:43:21.107Z"
   },
   {
    "duration": 12,
    "start_time": "2022-05-05T04:43:21.138Z"
   },
   {
    "duration": 8,
    "start_time": "2022-05-05T04:43:21.152Z"
   },
   {
    "duration": 8,
    "start_time": "2022-05-05T04:43:21.162Z"
   },
   {
    "duration": 12,
    "start_time": "2022-05-05T04:43:21.172Z"
   },
   {
    "duration": 15,
    "start_time": "2022-05-05T04:43:21.186Z"
   },
   {
    "duration": 38,
    "start_time": "2022-05-05T04:43:21.203Z"
   },
   {
    "duration": 12,
    "start_time": "2022-05-05T04:43:21.242Z"
   },
   {
    "duration": 284,
    "start_time": "2022-05-05T04:43:21.256Z"
   },
   {
    "duration": 289,
    "start_time": "2022-05-05T04:43:21.542Z"
   },
   {
    "duration": 218,
    "start_time": "2022-05-05T04:43:21.833Z"
   },
   {
    "duration": 329,
    "start_time": "2022-05-05T04:43:22.053Z"
   },
   {
    "duration": 208,
    "start_time": "2022-05-05T04:43:22.386Z"
   },
   {
    "duration": 334,
    "start_time": "2022-05-05T04:43:22.596Z"
   },
   {
    "duration": 9,
    "start_time": "2022-05-05T04:43:22.932Z"
   },
   {
    "duration": 151,
    "start_time": "2022-05-05T04:43:22.943Z"
   },
   {
    "duration": 4,
    "start_time": "2022-05-05T04:43:23.095Z"
   },
   {
    "duration": 163,
    "start_time": "2022-05-05T04:43:23.101Z"
   },
   {
    "duration": 4,
    "start_time": "2022-05-05T04:43:23.266Z"
   },
   {
    "duration": 101,
    "start_time": "2022-05-05T04:43:23.271Z"
   },
   {
    "duration": 114,
    "start_time": "2022-05-05T04:43:23.374Z"
   },
   {
    "duration": 21,
    "start_time": "2022-05-05T04:43:23.490Z"
   },
   {
    "duration": 23,
    "start_time": "2022-05-05T04:43:23.512Z"
   },
   {
    "duration": 134,
    "start_time": "2022-05-05T04:43:23.537Z"
   },
   {
    "duration": 7,
    "start_time": "2022-05-05T04:43:23.672Z"
   },
   {
    "duration": 24,
    "start_time": "2022-05-05T04:43:23.681Z"
   },
   {
    "duration": 33,
    "start_time": "2022-05-05T04:43:23.707Z"
   },
   {
    "duration": 9,
    "start_time": "2022-05-05T04:43:23.742Z"
   },
   {
    "duration": 8,
    "start_time": "2022-05-05T04:43:23.752Z"
   },
   {
    "duration": 25,
    "start_time": "2022-05-05T04:43:23.762Z"
   },
   {
    "duration": 13,
    "start_time": "2022-05-05T04:43:23.789Z"
   },
   {
    "duration": 2,
    "start_time": "2022-05-05T04:47:27.658Z"
   },
   {
    "duration": 170,
    "start_time": "2022-05-05T04:47:27.662Z"
   },
   {
    "duration": 8,
    "start_time": "2022-05-05T04:47:27.834Z"
   },
   {
    "duration": 5,
    "start_time": "2022-05-05T04:47:27.844Z"
   },
   {
    "duration": 11,
    "start_time": "2022-05-05T04:47:27.851Z"
   },
   {
    "duration": 14,
    "start_time": "2022-05-05T04:47:27.863Z"
   },
   {
    "duration": 10,
    "start_time": "2022-05-05T04:47:27.878Z"
   },
   {
    "duration": 10,
    "start_time": "2022-05-05T04:47:27.890Z"
   },
   {
    "duration": 10,
    "start_time": "2022-05-05T04:47:27.901Z"
   },
   {
    "duration": 11,
    "start_time": "2022-05-05T04:47:27.933Z"
   },
   {
    "duration": 7,
    "start_time": "2022-05-05T04:47:27.947Z"
   },
   {
    "duration": 9,
    "start_time": "2022-05-05T04:47:27.955Z"
   },
   {
    "duration": 9,
    "start_time": "2022-05-05T04:47:27.966Z"
   },
   {
    "duration": 7,
    "start_time": "2022-05-05T04:47:27.977Z"
   },
   {
    "duration": 12,
    "start_time": "2022-05-05T04:47:27.985Z"
   },
   {
    "duration": 36,
    "start_time": "2022-05-05T04:47:27.999Z"
   },
   {
    "duration": 12,
    "start_time": "2022-05-05T04:47:28.037Z"
   },
   {
    "duration": 6,
    "start_time": "2022-05-05T04:47:28.050Z"
   },
   {
    "duration": 7,
    "start_time": "2022-05-05T04:47:28.058Z"
   },
   {
    "duration": 9,
    "start_time": "2022-05-05T04:47:28.067Z"
   },
   {
    "duration": 10,
    "start_time": "2022-05-05T04:47:30.478Z"
   },
   {
    "duration": 159,
    "start_time": "2022-05-05T04:47:30.870Z"
   },
   {
    "duration": 163,
    "start_time": "2022-05-05T04:47:56.737Z"
   },
   {
    "duration": 220,
    "start_time": "2022-05-05T04:48:01.839Z"
   },
   {
    "duration": 16,
    "start_time": "2022-05-05T04:48:18.927Z"
   },
   {
    "duration": 3,
    "start_time": "2022-05-05T04:49:54.537Z"
   },
   {
    "duration": 158,
    "start_time": "2022-05-05T04:49:54.542Z"
   },
   {
    "duration": 9,
    "start_time": "2022-05-05T04:49:54.703Z"
   },
   {
    "duration": 7,
    "start_time": "2022-05-05T04:49:54.714Z"
   },
   {
    "duration": 15,
    "start_time": "2022-05-05T04:49:54.723Z"
   },
   {
    "duration": 13,
    "start_time": "2022-05-05T04:49:54.740Z"
   },
   {
    "duration": 12,
    "start_time": "2022-05-05T04:49:54.755Z"
   },
   {
    "duration": 11,
    "start_time": "2022-05-05T04:49:54.769Z"
   },
   {
    "duration": 7,
    "start_time": "2022-05-05T04:49:54.782Z"
   },
   {
    "duration": 14,
    "start_time": "2022-05-05T04:49:54.790Z"
   },
   {
    "duration": 7,
    "start_time": "2022-05-05T04:49:54.806Z"
   },
   {
    "duration": 25,
    "start_time": "2022-05-05T04:49:54.814Z"
   },
   {
    "duration": 12,
    "start_time": "2022-05-05T04:49:54.840Z"
   },
   {
    "duration": 11,
    "start_time": "2022-05-05T04:49:54.854Z"
   },
   {
    "duration": 14,
    "start_time": "2022-05-05T04:49:54.867Z"
   },
   {
    "duration": 12,
    "start_time": "2022-05-05T04:49:54.883Z"
   },
   {
    "duration": 14,
    "start_time": "2022-05-05T04:49:54.896Z"
   },
   {
    "duration": 9,
    "start_time": "2022-05-05T04:49:54.911Z"
   },
   {
    "duration": 5,
    "start_time": "2022-05-05T04:49:54.933Z"
   },
   {
    "duration": 12,
    "start_time": "2022-05-05T04:49:54.940Z"
   },
   {
    "duration": 20,
    "start_time": "2022-05-05T04:49:54.954Z"
   },
   {
    "duration": 8,
    "start_time": "2022-05-05T04:49:54.975Z"
   },
   {
    "duration": 12,
    "start_time": "2022-05-05T04:49:54.984Z"
   },
   {
    "duration": 388,
    "start_time": "2022-05-05T04:49:54.997Z"
   },
   {
    "duration": 214,
    "start_time": "2022-05-05T04:49:55.387Z"
   },
   {
    "duration": 218,
    "start_time": "2022-05-05T04:49:55.603Z"
   },
   {
    "duration": 301,
    "start_time": "2022-05-05T04:49:55.823Z"
   },
   {
    "duration": 228,
    "start_time": "2022-05-05T04:49:56.126Z"
   },
   {
    "duration": 313,
    "start_time": "2022-05-05T04:49:56.358Z"
   },
   {
    "duration": 11,
    "start_time": "2022-05-05T04:49:56.672Z"
   },
   {
    "duration": 168,
    "start_time": "2022-05-05T04:49:56.685Z"
   },
   {
    "duration": 4,
    "start_time": "2022-05-05T04:49:56.855Z"
   },
   {
    "duration": 167,
    "start_time": "2022-05-05T04:49:56.861Z"
   },
   {
    "duration": 5,
    "start_time": "2022-05-05T04:49:57.030Z"
   },
   {
    "duration": 112,
    "start_time": "2022-05-05T04:49:57.037Z"
   },
   {
    "duration": 129,
    "start_time": "2022-05-05T04:49:57.151Z"
   },
   {
    "duration": 23,
    "start_time": "2022-05-05T04:49:57.281Z"
   },
   {
    "duration": 28,
    "start_time": "2022-05-05T04:49:57.306Z"
   },
   {
    "duration": 167,
    "start_time": "2022-05-05T04:49:57.336Z"
   },
   {
    "duration": 7,
    "start_time": "2022-05-05T04:49:57.504Z"
   },
   {
    "duration": 41,
    "start_time": "2022-05-05T04:49:57.512Z"
   },
   {
    "duration": 11,
    "start_time": "2022-05-05T04:49:57.555Z"
   },
   {
    "duration": 9,
    "start_time": "2022-05-05T04:49:57.569Z"
   },
   {
    "duration": 15,
    "start_time": "2022-05-05T04:49:57.580Z"
   },
   {
    "duration": 48,
    "start_time": "2022-05-05T04:49:57.597Z"
   },
   {
    "duration": 14,
    "start_time": "2022-05-05T04:49:57.647Z"
   },
   {
    "duration": 8,
    "start_time": "2022-05-05T04:57:12.601Z"
   },
   {
    "duration": 2692,
    "start_time": "2022-05-05T04:58:39.040Z"
   },
   {
    "duration": 5,
    "start_time": "2022-05-05T04:58:51.759Z"
   },
   {
    "duration": 6,
    "start_time": "2022-05-05T04:58:57.414Z"
   },
   {
    "duration": 9,
    "start_time": "2022-05-05T04:59:06.479Z"
   },
   {
    "duration": 12,
    "start_time": "2022-05-05T04:59:26.992Z"
   },
   {
    "duration": 12,
    "start_time": "2022-05-05T04:59:40.073Z"
   },
   {
    "duration": 12,
    "start_time": "2022-05-05T04:59:44.880Z"
   },
   {
    "duration": 12,
    "start_time": "2022-05-05T04:59:57.080Z"
   },
   {
    "duration": 3739,
    "start_time": "2022-05-05T04:59:59.943Z"
   },
   {
    "duration": 11,
    "start_time": "2022-05-05T05:00:14.566Z"
   },
   {
    "duration": 12,
    "start_time": "2022-05-05T05:00:41.287Z"
   },
   {
    "duration": 10,
    "start_time": "2022-05-05T05:00:52.591Z"
   },
   {
    "duration": 11,
    "start_time": "2022-05-05T05:01:27.440Z"
   },
   {
    "duration": 11,
    "start_time": "2022-05-05T05:02:32.464Z"
   },
   {
    "duration": 11,
    "start_time": "2022-05-05T05:03:12.456Z"
   },
   {
    "duration": 11,
    "start_time": "2022-05-05T05:05:03.415Z"
   },
   {
    "duration": 3,
    "start_time": "2022-05-05T05:05:12.237Z"
   },
   {
    "duration": 169,
    "start_time": "2022-05-05T05:05:12.242Z"
   },
   {
    "duration": 8,
    "start_time": "2022-05-05T05:05:12.413Z"
   },
   {
    "duration": 5,
    "start_time": "2022-05-05T05:05:12.423Z"
   },
   {
    "duration": 12,
    "start_time": "2022-05-05T05:05:12.431Z"
   },
   {
    "duration": 13,
    "start_time": "2022-05-05T05:05:12.445Z"
   },
   {
    "duration": 6,
    "start_time": "2022-05-05T05:05:12.460Z"
   },
   {
    "duration": 11,
    "start_time": "2022-05-05T05:05:12.468Z"
   },
   {
    "duration": 7,
    "start_time": "2022-05-05T05:05:12.481Z"
   },
   {
    "duration": 13,
    "start_time": "2022-05-05T05:05:12.490Z"
   },
   {
    "duration": 4,
    "start_time": "2022-05-05T05:05:12.535Z"
   },
   {
    "duration": 10,
    "start_time": "2022-05-05T05:05:12.541Z"
   },
   {
    "duration": 10,
    "start_time": "2022-05-05T05:05:12.553Z"
   },
   {
    "duration": 7,
    "start_time": "2022-05-05T05:05:12.565Z"
   },
   {
    "duration": 13,
    "start_time": "2022-05-05T05:05:12.573Z"
   },
   {
    "duration": 6,
    "start_time": "2022-05-05T05:05:12.588Z"
   },
   {
    "duration": 39,
    "start_time": "2022-05-05T05:05:12.596Z"
   },
   {
    "duration": 5,
    "start_time": "2022-05-05T05:05:12.637Z"
   },
   {
    "duration": 7,
    "start_time": "2022-05-05T05:05:12.643Z"
   },
   {
    "duration": 11,
    "start_time": "2022-05-05T05:05:12.652Z"
   },
   {
    "duration": 15,
    "start_time": "2022-05-05T05:05:12.665Z"
   },
   {
    "duration": 300,
    "start_time": "2022-05-05T05:05:12.682Z"
   },
   {
    "duration": 207,
    "start_time": "2022-05-05T05:05:12.983Z"
   },
   {
    "duration": 203,
    "start_time": "2022-05-05T05:05:13.192Z"
   },
   {
    "duration": 323,
    "start_time": "2022-05-05T05:05:13.397Z"
   },
   {
    "duration": 292,
    "start_time": "2022-05-05T05:05:13.721Z"
   },
   {
    "duration": 328,
    "start_time": "2022-05-05T05:05:14.014Z"
   },
   {
    "duration": 9,
    "start_time": "2022-05-05T05:05:14.344Z"
   },
   {
    "duration": 12,
    "start_time": "2022-05-05T05:05:15.662Z"
   },
   {
    "duration": 12,
    "start_time": "2022-05-05T05:05:21.454Z"
   },
   {
    "duration": 156,
    "start_time": "2022-05-05T05:06:23.575Z"
   },
   {
    "duration": 157,
    "start_time": "2022-05-05T05:07:44.912Z"
   },
   {
    "duration": 3,
    "start_time": "2022-05-05T05:07:58.195Z"
   },
   {
    "duration": 148,
    "start_time": "2022-05-05T05:07:58.200Z"
   },
   {
    "duration": 8,
    "start_time": "2022-05-05T05:07:58.350Z"
   },
   {
    "duration": 6,
    "start_time": "2022-05-05T05:07:58.360Z"
   },
   {
    "duration": 11,
    "start_time": "2022-05-05T05:07:58.369Z"
   },
   {
    "duration": 13,
    "start_time": "2022-05-05T05:07:58.382Z"
   },
   {
    "duration": 7,
    "start_time": "2022-05-05T05:07:58.397Z"
   },
   {
    "duration": 32,
    "start_time": "2022-05-05T05:07:58.406Z"
   },
   {
    "duration": 8,
    "start_time": "2022-05-05T05:07:58.439Z"
   },
   {
    "duration": 13,
    "start_time": "2022-05-05T05:07:58.449Z"
   },
   {
    "duration": 4,
    "start_time": "2022-05-05T05:07:58.465Z"
   },
   {
    "duration": 11,
    "start_time": "2022-05-05T05:07:58.471Z"
   },
   {
    "duration": 15,
    "start_time": "2022-05-05T05:07:58.484Z"
   },
   {
    "duration": 7,
    "start_time": "2022-05-05T05:07:58.501Z"
   },
   {
    "duration": 10,
    "start_time": "2022-05-05T05:07:58.533Z"
   },
   {
    "duration": 5,
    "start_time": "2022-05-05T05:07:58.546Z"
   },
   {
    "duration": 14,
    "start_time": "2022-05-05T05:07:58.553Z"
   },
   {
    "duration": 8,
    "start_time": "2022-05-05T05:07:58.569Z"
   },
   {
    "duration": 12,
    "start_time": "2022-05-05T05:07:58.579Z"
   },
   {
    "duration": 12,
    "start_time": "2022-05-05T05:07:58.593Z"
   },
   {
    "duration": 42,
    "start_time": "2022-05-05T05:07:58.606Z"
   },
   {
    "duration": 294,
    "start_time": "2022-05-05T05:07:58.650Z"
   },
   {
    "duration": 207,
    "start_time": "2022-05-05T05:07:58.946Z"
   },
   {
    "duration": 208,
    "start_time": "2022-05-05T05:07:59.154Z"
   },
   {
    "duration": 275,
    "start_time": "2022-05-05T05:07:59.363Z"
   },
   {
    "duration": 208,
    "start_time": "2022-05-05T05:07:59.640Z"
   },
   {
    "duration": 309,
    "start_time": "2022-05-05T05:07:59.849Z"
   },
   {
    "duration": 9,
    "start_time": "2022-05-05T05:08:00.160Z"
   },
   {
    "duration": 163,
    "start_time": "2022-05-05T05:08:00.172Z"
   },
   {
    "duration": 4,
    "start_time": "2022-05-05T05:08:00.337Z"
   },
   {
    "duration": 246,
    "start_time": "2022-05-05T05:08:00.343Z"
   },
   {
    "duration": 4,
    "start_time": "2022-05-05T05:08:00.591Z"
   },
   {
    "duration": 106,
    "start_time": "2022-05-05T05:08:00.597Z"
   },
   {
    "duration": 123,
    "start_time": "2022-05-05T05:08:00.705Z"
   },
   {
    "duration": 23,
    "start_time": "2022-05-05T05:08:00.833Z"
   },
   {
    "duration": 12,
    "start_time": "2022-05-05T05:08:00.858Z"
   },
   {
    "duration": 146,
    "start_time": "2022-05-05T05:08:00.871Z"
   },
   {
    "duration": 18,
    "start_time": "2022-05-05T05:08:01.019Z"
   },
   {
    "duration": 61,
    "start_time": "2022-05-05T05:08:01.039Z"
   },
   {
    "duration": 18,
    "start_time": "2022-05-05T05:08:01.101Z"
   },
   {
    "duration": 21,
    "start_time": "2022-05-05T05:08:01.120Z"
   },
   {
    "duration": 17,
    "start_time": "2022-05-05T05:08:01.142Z"
   },
   {
    "duration": 48,
    "start_time": "2022-05-05T05:08:01.161Z"
   },
   {
    "duration": 21,
    "start_time": "2022-05-05T05:08:01.210Z"
   },
   {
    "duration": 4,
    "start_time": "2022-05-05T05:08:58.984Z"
   },
   {
    "duration": 139,
    "start_time": "2022-05-05T05:10:05.688Z"
   },
   {
    "duration": 5,
    "start_time": "2022-05-05T05:10:43.506Z"
   },
   {
    "duration": 143,
    "start_time": "2022-05-05T05:11:40.978Z"
   },
   {
    "duration": 9,
    "start_time": "2022-05-05T05:11:45.775Z"
   },
   {
    "duration": 13,
    "start_time": "2022-05-05T05:12:31.432Z"
   },
   {
    "duration": 137,
    "start_time": "2022-05-05T05:12:38.690Z"
   },
   {
    "duration": 142,
    "start_time": "2022-05-05T05:13:19.245Z"
   },
   {
    "duration": 132,
    "start_time": "2022-05-05T05:14:08.512Z"
   },
   {
    "duration": 151,
    "start_time": "2022-05-05T05:14:22.025Z"
   },
   {
    "duration": 9,
    "start_time": "2022-05-05T05:14:57.527Z"
   },
   {
    "duration": 142,
    "start_time": "2022-05-05T05:17:13.527Z"
   },
   {
    "duration": 5,
    "start_time": "2022-05-05T05:17:30.248Z"
   },
   {
    "duration": 3,
    "start_time": "2022-05-05T05:38:40.016Z"
   },
   {
    "duration": 193,
    "start_time": "2022-05-05T05:38:40.021Z"
   },
   {
    "duration": 8,
    "start_time": "2022-05-05T05:38:40.216Z"
   },
   {
    "duration": 5,
    "start_time": "2022-05-05T05:38:40.226Z"
   },
   {
    "duration": 12,
    "start_time": "2022-05-05T05:38:40.233Z"
   },
   {
    "duration": 13,
    "start_time": "2022-05-05T05:38:40.246Z"
   },
   {
    "duration": 7,
    "start_time": "2022-05-05T05:38:40.261Z"
   },
   {
    "duration": 9,
    "start_time": "2022-05-05T05:38:40.270Z"
   },
   {
    "duration": 8,
    "start_time": "2022-05-05T05:38:40.281Z"
   },
   {
    "duration": 14,
    "start_time": "2022-05-05T05:38:40.290Z"
   },
   {
    "duration": 30,
    "start_time": "2022-05-05T05:38:40.306Z"
   },
   {
    "duration": 10,
    "start_time": "2022-05-05T05:38:40.337Z"
   },
   {
    "duration": 13,
    "start_time": "2022-05-05T05:38:40.348Z"
   },
   {
    "duration": 8,
    "start_time": "2022-05-05T05:38:40.363Z"
   },
   {
    "duration": 12,
    "start_time": "2022-05-05T05:38:40.372Z"
   },
   {
    "duration": 6,
    "start_time": "2022-05-05T05:38:40.386Z"
   },
   {
    "duration": 14,
    "start_time": "2022-05-05T05:38:40.394Z"
   },
   {
    "duration": 5,
    "start_time": "2022-05-05T05:38:40.434Z"
   },
   {
    "duration": 10,
    "start_time": "2022-05-05T05:38:40.441Z"
   },
   {
    "duration": 11,
    "start_time": "2022-05-05T05:38:40.453Z"
   },
   {
    "duration": 17,
    "start_time": "2022-05-05T05:38:40.466Z"
   },
   {
    "duration": 305,
    "start_time": "2022-05-05T05:38:40.485Z"
   },
   {
    "duration": 210,
    "start_time": "2022-05-05T05:38:40.791Z"
   },
   {
    "duration": 209,
    "start_time": "2022-05-05T05:38:41.003Z"
   },
   {
    "duration": 308,
    "start_time": "2022-05-05T05:38:41.213Z"
   },
   {
    "duration": 305,
    "start_time": "2022-05-05T05:38:41.523Z"
   },
   {
    "duration": 313,
    "start_time": "2022-05-05T05:38:41.829Z"
   },
   {
    "duration": 8,
    "start_time": "2022-05-05T05:38:42.144Z"
   },
   {
    "duration": 166,
    "start_time": "2022-05-05T05:38:42.156Z"
   },
   {
    "duration": 9,
    "start_time": "2022-05-05T05:38:42.324Z"
   },
   {
    "duration": 136,
    "start_time": "2022-05-05T05:38:42.335Z"
   },
   {
    "duration": 0,
    "start_time": "2022-05-05T05:38:42.473Z"
   },
   {
    "duration": 0,
    "start_time": "2022-05-05T05:38:42.475Z"
   },
   {
    "duration": 0,
    "start_time": "2022-05-05T05:38:42.476Z"
   },
   {
    "duration": 0,
    "start_time": "2022-05-05T05:38:42.477Z"
   },
   {
    "duration": 0,
    "start_time": "2022-05-05T05:38:42.478Z"
   },
   {
    "duration": 0,
    "start_time": "2022-05-05T05:38:42.479Z"
   },
   {
    "duration": 0,
    "start_time": "2022-05-05T05:38:42.480Z"
   },
   {
    "duration": 0,
    "start_time": "2022-05-05T05:38:42.481Z"
   },
   {
    "duration": 0,
    "start_time": "2022-05-05T05:38:42.482Z"
   },
   {
    "duration": 0,
    "start_time": "2022-05-05T05:38:42.483Z"
   },
   {
    "duration": 0,
    "start_time": "2022-05-05T05:38:42.484Z"
   },
   {
    "duration": 0,
    "start_time": "2022-05-05T05:38:42.485Z"
   },
   {
    "duration": 0,
    "start_time": "2022-05-05T05:38:42.486Z"
   },
   {
    "duration": 3,
    "start_time": "2022-05-05T05:39:19.028Z"
   },
   {
    "duration": 2188,
    "start_time": "2022-05-05T05:39:19.035Z"
   },
   {
    "duration": 9,
    "start_time": "2022-05-05T05:39:21.225Z"
   },
   {
    "duration": 4,
    "start_time": "2022-05-05T05:39:21.236Z"
   },
   {
    "duration": 11,
    "start_time": "2022-05-05T05:39:21.243Z"
   },
   {
    "duration": 15,
    "start_time": "2022-05-05T05:39:21.256Z"
   },
   {
    "duration": 9,
    "start_time": "2022-05-05T05:39:21.273Z"
   },
   {
    "duration": 10,
    "start_time": "2022-05-05T05:39:21.284Z"
   },
   {
    "duration": 40,
    "start_time": "2022-05-05T05:39:21.295Z"
   },
   {
    "duration": 14,
    "start_time": "2022-05-05T05:39:21.337Z"
   },
   {
    "duration": 4,
    "start_time": "2022-05-05T05:39:21.355Z"
   },
   {
    "duration": 10,
    "start_time": "2022-05-05T05:39:21.361Z"
   },
   {
    "duration": 10,
    "start_time": "2022-05-05T05:39:21.373Z"
   },
   {
    "duration": 6,
    "start_time": "2022-05-05T05:39:21.384Z"
   },
   {
    "duration": 10,
    "start_time": "2022-05-05T05:39:21.392Z"
   },
   {
    "duration": 6,
    "start_time": "2022-05-05T05:39:21.433Z"
   },
   {
    "duration": 12,
    "start_time": "2022-05-05T05:39:21.441Z"
   },
   {
    "duration": 7,
    "start_time": "2022-05-05T05:39:21.455Z"
   },
   {
    "duration": 11,
    "start_time": "2022-05-05T05:39:21.463Z"
   },
   {
    "duration": 12,
    "start_time": "2022-05-05T05:39:21.476Z"
   },
   {
    "duration": 47,
    "start_time": "2022-05-05T05:39:21.490Z"
   },
   {
    "duration": 282,
    "start_time": "2022-05-05T05:39:21.539Z"
   },
   {
    "duration": 216,
    "start_time": "2022-05-05T05:39:21.823Z"
   },
   {
    "duration": 218,
    "start_time": "2022-05-05T05:39:22.041Z"
   },
   {
    "duration": 284,
    "start_time": "2022-05-05T05:39:22.261Z"
   },
   {
    "duration": 212,
    "start_time": "2022-05-05T05:39:22.547Z"
   },
   {
    "duration": 303,
    "start_time": "2022-05-05T05:39:22.760Z"
   },
   {
    "duration": 9,
    "start_time": "2022-05-05T05:39:23.065Z"
   },
   {
    "duration": 168,
    "start_time": "2022-05-05T05:39:23.077Z"
   },
   {
    "duration": 4,
    "start_time": "2022-05-05T05:39:23.247Z"
   },
   {
    "duration": 124,
    "start_time": "2022-05-05T05:39:24.583Z"
   },
   {
    "duration": 227,
    "start_time": "2022-05-05T05:39:45.512Z"
   },
   {
    "duration": 122,
    "start_time": "2022-05-05T05:39:47.871Z"
   },
   {
    "duration": 139,
    "start_time": "2022-05-05T05:39:58.376Z"
   },
   {
    "duration": 1288,
    "start_time": "2022-05-05T05:40:40.204Z"
   },
   {
    "duration": 252,
    "start_time": "2022-05-05T05:40:41.494Z"
   },
   {
    "duration": 15,
    "start_time": "2022-05-05T05:40:41.750Z"
   },
   {
    "duration": 2,
    "start_time": "2022-05-05T05:40:41.768Z"
   },
   {
    "duration": 10,
    "start_time": "2022-05-05T05:40:41.772Z"
   },
   {
    "duration": 13,
    "start_time": "2022-05-05T05:40:41.784Z"
   },
   {
    "duration": 7,
    "start_time": "2022-05-05T05:40:41.799Z"
   },
   {
    "duration": 10,
    "start_time": "2022-05-05T05:40:41.808Z"
   },
   {
    "duration": 22,
    "start_time": "2022-05-05T05:40:41.820Z"
   },
   {
    "duration": 15,
    "start_time": "2022-05-05T05:40:41.845Z"
   },
   {
    "duration": 8,
    "start_time": "2022-05-05T05:40:41.862Z"
   },
   {
    "duration": 10,
    "start_time": "2022-05-05T05:40:41.872Z"
   },
   {
    "duration": 9,
    "start_time": "2022-05-05T05:40:41.883Z"
   },
   {
    "duration": 41,
    "start_time": "2022-05-05T05:40:41.894Z"
   },
   {
    "duration": 11,
    "start_time": "2022-05-05T05:40:41.937Z"
   },
   {
    "duration": 10,
    "start_time": "2022-05-05T05:40:41.950Z"
   },
   {
    "duration": 16,
    "start_time": "2022-05-05T05:40:41.961Z"
   },
   {
    "duration": 9,
    "start_time": "2022-05-05T05:40:41.978Z"
   },
   {
    "duration": 13,
    "start_time": "2022-05-05T05:40:41.989Z"
   },
   {
    "duration": 11,
    "start_time": "2022-05-05T05:40:42.004Z"
   },
   {
    "duration": 33,
    "start_time": "2022-05-05T05:40:42.016Z"
   },
   {
    "duration": 318,
    "start_time": "2022-05-05T05:40:42.052Z"
   },
   {
    "duration": 334,
    "start_time": "2022-05-05T05:40:42.373Z"
   },
   {
    "duration": 241,
    "start_time": "2022-05-05T05:40:42.710Z"
   },
   {
    "duration": 306,
    "start_time": "2022-05-05T05:40:42.954Z"
   },
   {
    "duration": 221,
    "start_time": "2022-05-05T05:40:43.262Z"
   },
   {
    "duration": 321,
    "start_time": "2022-05-05T05:40:43.485Z"
   },
   {
    "duration": 9,
    "start_time": "2022-05-05T05:40:43.809Z"
   },
   {
    "duration": 175,
    "start_time": "2022-05-05T05:40:43.819Z"
   },
   {
    "duration": 4,
    "start_time": "2022-05-05T05:40:43.996Z"
   },
   {
    "duration": 243,
    "start_time": "2022-05-05T05:40:44.002Z"
   },
   {
    "duration": 0,
    "start_time": "2022-05-05T05:40:44.248Z"
   },
   {
    "duration": 0,
    "start_time": "2022-05-05T05:40:44.251Z"
   },
   {
    "duration": 0,
    "start_time": "2022-05-05T05:40:44.252Z"
   },
   {
    "duration": 0,
    "start_time": "2022-05-05T05:40:44.254Z"
   },
   {
    "duration": 1,
    "start_time": "2022-05-05T05:40:44.255Z"
   },
   {
    "duration": 0,
    "start_time": "2022-05-05T05:40:44.257Z"
   },
   {
    "duration": 0,
    "start_time": "2022-05-05T05:40:44.258Z"
   },
   {
    "duration": 0,
    "start_time": "2022-05-05T05:40:44.259Z"
   },
   {
    "duration": 0,
    "start_time": "2022-05-05T05:40:44.260Z"
   },
   {
    "duration": 0,
    "start_time": "2022-05-05T05:40:44.262Z"
   },
   {
    "duration": 0,
    "start_time": "2022-05-05T05:40:44.263Z"
   },
   {
    "duration": 0,
    "start_time": "2022-05-05T05:40:44.265Z"
   },
   {
    "duration": 0,
    "start_time": "2022-05-05T05:40:44.266Z"
   },
   {
    "duration": 140,
    "start_time": "2022-05-05T05:41:55.343Z"
   },
   {
    "duration": 1186,
    "start_time": "2022-05-05T05:42:07.797Z"
   },
   {
    "duration": 163,
    "start_time": "2022-05-05T05:42:08.987Z"
   },
   {
    "duration": 12,
    "start_time": "2022-05-05T05:42:09.152Z"
   },
   {
    "duration": 5,
    "start_time": "2022-05-05T05:42:09.166Z"
   },
   {
    "duration": 11,
    "start_time": "2022-05-05T05:42:09.173Z"
   },
   {
    "duration": 12,
    "start_time": "2022-05-05T05:42:09.186Z"
   },
   {
    "duration": 6,
    "start_time": "2022-05-05T05:42:09.200Z"
   },
   {
    "duration": 27,
    "start_time": "2022-05-05T05:42:09.207Z"
   },
   {
    "duration": 8,
    "start_time": "2022-05-05T05:42:09.237Z"
   },
   {
    "duration": 12,
    "start_time": "2022-05-05T05:42:09.246Z"
   },
   {
    "duration": 14,
    "start_time": "2022-05-05T05:42:09.260Z"
   },
   {
    "duration": 15,
    "start_time": "2022-05-05T05:42:09.276Z"
   },
   {
    "duration": 8,
    "start_time": "2022-05-05T05:42:09.293Z"
   },
   {
    "duration": 13,
    "start_time": "2022-05-05T05:42:09.303Z"
   },
   {
    "duration": 23,
    "start_time": "2022-05-05T05:42:09.318Z"
   },
   {
    "duration": 7,
    "start_time": "2022-05-05T05:42:09.343Z"
   },
   {
    "duration": 22,
    "start_time": "2022-05-05T05:42:09.352Z"
   },
   {
    "duration": 13,
    "start_time": "2022-05-05T05:42:09.376Z"
   },
   {
    "duration": 5,
    "start_time": "2022-05-05T05:42:09.391Z"
   },
   {
    "duration": 10,
    "start_time": "2022-05-05T05:42:09.398Z"
   },
   {
    "duration": 36,
    "start_time": "2022-05-05T05:42:09.410Z"
   },
   {
    "duration": 291,
    "start_time": "2022-05-05T05:42:09.448Z"
   },
   {
    "duration": 294,
    "start_time": "2022-05-05T05:42:09.741Z"
   },
   {
    "duration": 217,
    "start_time": "2022-05-05T05:42:10.036Z"
   },
   {
    "duration": 284,
    "start_time": "2022-05-05T05:42:10.255Z"
   },
   {
    "duration": 213,
    "start_time": "2022-05-05T05:42:10.540Z"
   },
   {
    "duration": 302,
    "start_time": "2022-05-05T05:42:10.757Z"
   },
   {
    "duration": 10,
    "start_time": "2022-05-05T05:42:11.061Z"
   },
   {
    "duration": 165,
    "start_time": "2022-05-05T05:42:11.072Z"
   },
   {
    "duration": 4,
    "start_time": "2022-05-05T05:42:11.239Z"
   },
   {
    "duration": 154,
    "start_time": "2022-05-05T05:42:11.245Z"
   },
   {
    "duration": 5,
    "start_time": "2022-05-05T05:42:11.401Z"
   },
   {
    "duration": 104,
    "start_time": "2022-05-05T05:42:11.407Z"
   },
   {
    "duration": 131,
    "start_time": "2022-05-05T05:42:11.513Z"
   },
   {
    "duration": 21,
    "start_time": "2022-05-05T05:42:11.646Z"
   },
   {
    "duration": 10,
    "start_time": "2022-05-05T05:42:11.669Z"
   },
   {
    "duration": 133,
    "start_time": "2022-05-05T05:42:11.681Z"
   },
   {
    "duration": 17,
    "start_time": "2022-05-05T05:42:11.816Z"
   },
   {
    "duration": 25,
    "start_time": "2022-05-05T05:42:11.835Z"
   },
   {
    "duration": 10,
    "start_time": "2022-05-05T05:42:11.862Z"
   },
   {
    "duration": 10,
    "start_time": "2022-05-05T05:42:11.874Z"
   },
   {
    "duration": 10,
    "start_time": "2022-05-05T05:42:11.885Z"
   },
   {
    "duration": 49,
    "start_time": "2022-05-05T05:42:11.896Z"
   },
   {
    "duration": 14,
    "start_time": "2022-05-05T05:42:11.946Z"
   },
   {
    "duration": 11,
    "start_time": "2022-05-05T05:44:33.311Z"
   },
   {
    "duration": 3,
    "start_time": "2022-05-05T05:46:41.844Z"
   },
   {
    "duration": 168,
    "start_time": "2022-05-05T05:46:41.849Z"
   },
   {
    "duration": 8,
    "start_time": "2022-05-05T05:46:42.019Z"
   },
   {
    "duration": 12,
    "start_time": "2022-05-05T05:46:42.028Z"
   },
   {
    "duration": 18,
    "start_time": "2022-05-05T05:46:42.043Z"
   },
   {
    "duration": 13,
    "start_time": "2022-05-05T05:46:42.063Z"
   },
   {
    "duration": 8,
    "start_time": "2022-05-05T05:46:42.078Z"
   },
   {
    "duration": 11,
    "start_time": "2022-05-05T05:46:42.087Z"
   },
   {
    "duration": 8,
    "start_time": "2022-05-05T05:46:42.099Z"
   },
   {
    "duration": 28,
    "start_time": "2022-05-05T05:46:42.108Z"
   },
   {
    "duration": 5,
    "start_time": "2022-05-05T05:46:42.140Z"
   },
   {
    "duration": 11,
    "start_time": "2022-05-05T05:46:42.146Z"
   },
   {
    "duration": 8,
    "start_time": "2022-05-05T05:46:42.159Z"
   },
   {
    "duration": 5,
    "start_time": "2022-05-05T05:46:42.169Z"
   },
   {
    "duration": 20,
    "start_time": "2022-05-05T05:46:42.176Z"
   },
   {
    "duration": 7,
    "start_time": "2022-05-05T05:46:42.197Z"
   },
   {
    "duration": 35,
    "start_time": "2022-05-05T05:46:42.205Z"
   },
   {
    "duration": 9,
    "start_time": "2022-05-05T05:46:42.242Z"
   },
   {
    "duration": 9,
    "start_time": "2022-05-05T05:46:42.254Z"
   },
   {
    "duration": 17,
    "start_time": "2022-05-05T05:46:42.265Z"
   },
   {
    "duration": 18,
    "start_time": "2022-05-05T05:46:42.284Z"
   },
   {
    "duration": 318,
    "start_time": "2022-05-05T05:46:42.304Z"
   },
   {
    "duration": 311,
    "start_time": "2022-05-05T05:46:42.624Z"
   },
   {
    "duration": 254,
    "start_time": "2022-05-05T05:46:42.938Z"
   },
   {
    "duration": 314,
    "start_time": "2022-05-05T05:46:43.194Z"
   },
   {
    "duration": 234,
    "start_time": "2022-05-05T05:46:43.510Z"
   },
   {
    "duration": 327,
    "start_time": "2022-05-05T05:46:43.748Z"
   },
   {
    "duration": 9,
    "start_time": "2022-05-05T05:46:44.076Z"
   },
   {
    "duration": 187,
    "start_time": "2022-05-05T05:46:44.088Z"
   },
   {
    "duration": 4,
    "start_time": "2022-05-05T05:46:44.276Z"
   },
   {
    "duration": 165,
    "start_time": "2022-05-05T05:46:44.282Z"
   },
   {
    "duration": 5,
    "start_time": "2022-05-05T05:46:44.449Z"
   },
   {
    "duration": 110,
    "start_time": "2022-05-05T05:46:44.456Z"
   },
   {
    "duration": 128,
    "start_time": "2022-05-05T05:46:44.568Z"
   },
   {
    "duration": 21,
    "start_time": "2022-05-05T05:46:44.698Z"
   },
   {
    "duration": 147,
    "start_time": "2022-05-05T05:46:44.720Z"
   },
   {
    "duration": 6,
    "start_time": "2022-05-05T05:46:44.869Z"
   },
   {
    "duration": 28,
    "start_time": "2022-05-05T05:46:44.877Z"
   },
   {
    "duration": 32,
    "start_time": "2022-05-05T05:46:44.907Z"
   },
   {
    "duration": 12,
    "start_time": "2022-05-05T05:46:44.941Z"
   },
   {
    "duration": 13,
    "start_time": "2022-05-05T05:46:44.955Z"
   },
   {
    "duration": 23,
    "start_time": "2022-05-05T05:46:44.970Z"
   },
   {
    "duration": 46,
    "start_time": "2022-05-05T05:46:44.996Z"
   },
   {
    "duration": 6,
    "start_time": "2022-05-05T05:51:35.425Z"
   },
   {
    "duration": 6,
    "start_time": "2022-05-05T05:52:19.888Z"
   },
   {
    "duration": 5,
    "start_time": "2022-05-05T05:52:37.552Z"
   },
   {
    "duration": 5,
    "start_time": "2022-05-05T05:53:45.970Z"
   },
   {
    "duration": 164,
    "start_time": "2022-05-05T05:54:47.608Z"
   },
   {
    "duration": 5,
    "start_time": "2022-05-05T05:55:07.176Z"
   },
   {
    "duration": 6,
    "start_time": "2022-05-05T05:55:18.759Z"
   },
   {
    "duration": 6,
    "start_time": "2022-05-05T05:55:48.568Z"
   },
   {
    "duration": 11,
    "start_time": "2022-05-05T05:56:09.049Z"
   },
   {
    "duration": 5,
    "start_time": "2022-05-05T05:57:13.024Z"
   },
   {
    "duration": 24,
    "start_time": "2022-05-05T05:58:19.800Z"
   },
   {
    "duration": 23,
    "start_time": "2022-05-05T05:58:55.784Z"
   },
   {
    "duration": 15,
    "start_time": "2022-05-05T05:59:50.401Z"
   },
   {
    "duration": 2,
    "start_time": "2022-05-05T06:00:43.549Z"
   },
   {
    "duration": 192,
    "start_time": "2022-05-05T06:00:43.553Z"
   },
   {
    "duration": 8,
    "start_time": "2022-05-05T06:00:43.747Z"
   },
   {
    "duration": 8,
    "start_time": "2022-05-05T06:00:43.757Z"
   },
   {
    "duration": 11,
    "start_time": "2022-05-05T06:00:43.767Z"
   },
   {
    "duration": 16,
    "start_time": "2022-05-05T06:00:43.780Z"
   },
   {
    "duration": 9,
    "start_time": "2022-05-05T06:00:43.798Z"
   },
   {
    "duration": 24,
    "start_time": "2022-05-05T06:00:43.809Z"
   },
   {
    "duration": 9,
    "start_time": "2022-05-05T06:00:43.835Z"
   },
   {
    "duration": 12,
    "start_time": "2022-05-05T06:00:43.846Z"
   },
   {
    "duration": 6,
    "start_time": "2022-05-05T06:00:43.862Z"
   },
   {
    "duration": 10,
    "start_time": "2022-05-05T06:00:43.869Z"
   },
   {
    "duration": 10,
    "start_time": "2022-05-05T06:00:43.881Z"
   },
   {
    "duration": 41,
    "start_time": "2022-05-05T06:00:43.893Z"
   },
   {
    "duration": 13,
    "start_time": "2022-05-05T06:00:43.936Z"
   },
   {
    "duration": 10,
    "start_time": "2022-05-05T06:00:43.951Z"
   },
   {
    "duration": 14,
    "start_time": "2022-05-05T06:00:43.962Z"
   },
   {
    "duration": 9,
    "start_time": "2022-05-05T06:00:43.978Z"
   },
   {
    "duration": 11,
    "start_time": "2022-05-05T06:00:43.988Z"
   },
   {
    "duration": 13,
    "start_time": "2022-05-05T06:00:44.001Z"
   },
   {
    "duration": 36,
    "start_time": "2022-05-05T06:00:44.015Z"
   },
   {
    "duration": 320,
    "start_time": "2022-05-05T06:00:44.053Z"
   },
   {
    "duration": 233,
    "start_time": "2022-05-05T06:00:44.375Z"
   },
   {
    "duration": 225,
    "start_time": "2022-05-05T06:00:44.610Z"
   },
   {
    "duration": 309,
    "start_time": "2022-05-05T06:00:44.838Z"
   },
   {
    "duration": 248,
    "start_time": "2022-05-05T06:00:45.149Z"
   },
   {
    "duration": 425,
    "start_time": "2022-05-05T06:00:45.398Z"
   },
   {
    "duration": 10,
    "start_time": "2022-05-05T06:00:45.825Z"
   },
   {
    "duration": 174,
    "start_time": "2022-05-05T06:00:45.839Z"
   },
   {
    "duration": 4,
    "start_time": "2022-05-05T06:00:46.015Z"
   },
   {
    "duration": 160,
    "start_time": "2022-05-05T06:00:46.034Z"
   },
   {
    "duration": 5,
    "start_time": "2022-05-05T06:00:46.196Z"
   },
   {
    "duration": 111,
    "start_time": "2022-05-05T06:00:46.202Z"
   },
   {
    "duration": 129,
    "start_time": "2022-05-05T06:00:46.315Z"
   },
   {
    "duration": 24,
    "start_time": "2022-05-05T06:00:46.446Z"
   },
   {
    "duration": 167,
    "start_time": "2022-05-05T06:00:46.472Z"
   },
   {
    "duration": 8,
    "start_time": "2022-05-05T06:00:46.640Z"
   },
   {
    "duration": 26,
    "start_time": "2022-05-05T06:00:46.650Z"
   },
   {
    "duration": 11,
    "start_time": "2022-05-05T06:00:46.678Z"
   },
   {
    "duration": 7,
    "start_time": "2022-05-05T06:00:46.690Z"
   },
   {
    "duration": 46,
    "start_time": "2022-05-05T06:00:46.698Z"
   },
   {
    "duration": 8,
    "start_time": "2022-05-05T06:00:46.745Z"
   },
   {
    "duration": 29,
    "start_time": "2022-05-05T06:00:46.755Z"
   },
   {
    "duration": 15,
    "start_time": "2022-05-05T06:00:46.786Z"
   },
   {
    "duration": 3,
    "start_time": "2022-05-05T06:12:41.741Z"
   },
   {
    "duration": 142,
    "start_time": "2022-05-05T06:12:41.747Z"
   },
   {
    "duration": 8,
    "start_time": "2022-05-05T06:12:41.891Z"
   },
   {
    "duration": 5,
    "start_time": "2022-05-05T06:12:41.901Z"
   },
   {
    "duration": 12,
    "start_time": "2022-05-05T06:12:41.908Z"
   },
   {
    "duration": 14,
    "start_time": "2022-05-05T06:12:41.921Z"
   },
   {
    "duration": 8,
    "start_time": "2022-05-05T06:12:41.937Z"
   },
   {
    "duration": 16,
    "start_time": "2022-05-05T06:12:41.947Z"
   },
   {
    "duration": 8,
    "start_time": "2022-05-05T06:12:41.965Z"
   },
   {
    "duration": 12,
    "start_time": "2022-05-05T06:12:41.975Z"
   },
   {
    "duration": 7,
    "start_time": "2022-05-05T06:12:41.990Z"
   },
   {
    "duration": 10,
    "start_time": "2022-05-05T06:12:41.999Z"
   },
   {
    "duration": 10,
    "start_time": "2022-05-05T06:12:42.033Z"
   },
   {
    "duration": 6,
    "start_time": "2022-05-05T06:12:42.045Z"
   },
   {
    "duration": 13,
    "start_time": "2022-05-05T06:12:42.053Z"
   },
   {
    "duration": 7,
    "start_time": "2022-05-05T06:12:42.067Z"
   },
   {
    "duration": 12,
    "start_time": "2022-05-05T06:12:42.076Z"
   },
   {
    "duration": 7,
    "start_time": "2022-05-05T06:12:42.090Z"
   },
   {
    "duration": 34,
    "start_time": "2022-05-05T06:12:42.099Z"
   },
   {
    "duration": 9,
    "start_time": "2022-05-05T06:12:42.135Z"
   },
   {
    "duration": 15,
    "start_time": "2022-05-05T06:12:42.146Z"
   },
   {
    "duration": 306,
    "start_time": "2022-05-05T06:12:42.163Z"
   },
   {
    "duration": 218,
    "start_time": "2022-05-05T06:12:42.471Z"
   },
   {
    "duration": 217,
    "start_time": "2022-05-05T06:12:42.690Z"
   },
   {
    "duration": 349,
    "start_time": "2022-05-05T06:12:42.909Z"
   },
   {
    "duration": 222,
    "start_time": "2022-05-05T06:12:43.260Z"
   },
   {
    "duration": 316,
    "start_time": "2022-05-05T06:12:43.484Z"
   },
   {
    "duration": 9,
    "start_time": "2022-05-05T06:12:43.802Z"
   },
   {
    "duration": 176,
    "start_time": "2022-05-05T06:12:43.814Z"
   },
   {
    "duration": 5,
    "start_time": "2022-05-05T06:12:43.992Z"
   },
   {
    "duration": 159,
    "start_time": "2022-05-05T06:12:43.999Z"
   },
   {
    "duration": 5,
    "start_time": "2022-05-05T06:12:44.160Z"
   },
   {
    "duration": 105,
    "start_time": "2022-05-05T06:12:44.167Z"
   },
   {
    "duration": 122,
    "start_time": "2022-05-05T06:12:44.274Z"
   },
   {
    "duration": 21,
    "start_time": "2022-05-05T06:12:44.398Z"
   },
   {
    "duration": 145,
    "start_time": "2022-05-05T06:12:44.434Z"
   },
   {
    "duration": 6,
    "start_time": "2022-05-05T06:12:44.581Z"
   },
   {
    "duration": 26,
    "start_time": "2022-05-05T06:12:44.589Z"
   },
   {
    "duration": 11,
    "start_time": "2022-05-05T06:12:44.633Z"
   },
   {
    "duration": 20,
    "start_time": "2022-05-05T06:12:44.646Z"
   },
   {
    "duration": 11,
    "start_time": "2022-05-05T06:12:44.668Z"
   },
   {
    "duration": 9,
    "start_time": "2022-05-05T06:12:44.681Z"
   },
   {
    "duration": 27,
    "start_time": "2022-05-05T06:12:44.691Z"
   },
   {
    "duration": 15,
    "start_time": "2022-05-05T06:12:44.734Z"
   },
   {
    "duration": 3,
    "start_time": "2022-05-05T06:20:34.775Z"
   },
   {
    "duration": 393,
    "start_time": "2022-05-05T06:20:34.782Z"
   },
   {
    "duration": 8,
    "start_time": "2022-05-05T06:20:35.177Z"
   },
   {
    "duration": 5,
    "start_time": "2022-05-05T06:20:35.187Z"
   },
   {
    "duration": 12,
    "start_time": "2022-05-05T06:20:35.195Z"
   },
   {
    "duration": 17,
    "start_time": "2022-05-05T06:20:35.208Z"
   },
   {
    "duration": 10,
    "start_time": "2022-05-05T06:20:35.227Z"
   },
   {
    "duration": 13,
    "start_time": "2022-05-05T06:20:35.239Z"
   },
   {
    "duration": 8,
    "start_time": "2022-05-05T06:20:35.254Z"
   },
   {
    "duration": 12,
    "start_time": "2022-05-05T06:20:35.264Z"
   },
   {
    "duration": 6,
    "start_time": "2022-05-05T06:20:35.279Z"
   },
   {
    "duration": 10,
    "start_time": "2022-05-05T06:20:35.287Z"
   },
   {
    "duration": 36,
    "start_time": "2022-05-05T06:20:35.299Z"
   },
   {
    "duration": 9,
    "start_time": "2022-05-05T06:20:35.336Z"
   },
   {
    "duration": 13,
    "start_time": "2022-05-05T06:20:35.347Z"
   },
   {
    "duration": 7,
    "start_time": "2022-05-05T06:20:35.361Z"
   },
   {
    "duration": 12,
    "start_time": "2022-05-05T06:20:35.370Z"
   },
   {
    "duration": 7,
    "start_time": "2022-05-05T06:20:35.383Z"
   },
   {
    "duration": 6,
    "start_time": "2022-05-05T06:20:35.392Z"
   },
   {
    "duration": 35,
    "start_time": "2022-05-05T06:20:35.400Z"
   },
   {
    "duration": 17,
    "start_time": "2022-05-05T06:20:35.436Z"
   },
   {
    "duration": 297,
    "start_time": "2022-05-05T06:20:35.455Z"
   },
   {
    "duration": 303,
    "start_time": "2022-05-05T06:20:35.754Z"
   },
   {
    "duration": 224,
    "start_time": "2022-05-05T06:20:36.058Z"
   },
   {
    "duration": 287,
    "start_time": "2022-05-05T06:20:36.284Z"
   },
   {
    "duration": 228,
    "start_time": "2022-05-05T06:20:36.572Z"
   },
   {
    "duration": 350,
    "start_time": "2022-05-05T06:20:36.802Z"
   },
   {
    "duration": 9,
    "start_time": "2022-05-05T06:20:37.154Z"
   },
   {
    "duration": 168,
    "start_time": "2022-05-05T06:20:37.167Z"
   },
   {
    "duration": 4,
    "start_time": "2022-05-05T06:20:37.337Z"
   },
   {
    "duration": 160,
    "start_time": "2022-05-05T06:20:37.343Z"
   },
   {
    "duration": 4,
    "start_time": "2022-05-05T06:20:37.505Z"
   },
   {
    "duration": 107,
    "start_time": "2022-05-05T06:20:37.511Z"
   },
   {
    "duration": 124,
    "start_time": "2022-05-05T06:20:37.620Z"
   },
   {
    "duration": 22,
    "start_time": "2022-05-05T06:20:37.746Z"
   },
   {
    "duration": 148,
    "start_time": "2022-05-05T06:20:37.770Z"
   },
   {
    "duration": 17,
    "start_time": "2022-05-05T06:20:37.920Z"
   },
   {
    "duration": 29,
    "start_time": "2022-05-05T06:20:37.938Z"
   },
   {
    "duration": 11,
    "start_time": "2022-05-05T06:20:37.968Z"
   },
   {
    "duration": 6,
    "start_time": "2022-05-05T06:20:37.981Z"
   },
   {
    "duration": 11,
    "start_time": "2022-05-05T06:20:37.989Z"
   },
   {
    "duration": 37,
    "start_time": "2022-05-05T06:20:38.001Z"
   },
   {
    "duration": 27,
    "start_time": "2022-05-05T06:20:38.040Z"
   },
   {
    "duration": 3,
    "start_time": "2022-05-05T06:25:32.014Z"
   },
   {
    "duration": 239,
    "start_time": "2022-05-05T06:25:32.019Z"
   },
   {
    "duration": 9,
    "start_time": "2022-05-05T06:25:32.260Z"
   },
   {
    "duration": 29,
    "start_time": "2022-05-05T06:25:32.272Z"
   },
   {
    "duration": 17,
    "start_time": "2022-05-05T06:25:32.304Z"
   },
   {
    "duration": 22,
    "start_time": "2022-05-05T06:25:32.323Z"
   },
   {
    "duration": 10,
    "start_time": "2022-05-05T06:25:32.348Z"
   },
   {
    "duration": 17,
    "start_time": "2022-05-05T06:25:32.359Z"
   },
   {
    "duration": 8,
    "start_time": "2022-05-05T06:25:32.378Z"
   },
   {
    "duration": 16,
    "start_time": "2022-05-05T06:25:32.388Z"
   },
   {
    "duration": 12,
    "start_time": "2022-05-05T06:25:32.407Z"
   },
   {
    "duration": 26,
    "start_time": "2022-05-05T06:25:32.420Z"
   },
   {
    "duration": 14,
    "start_time": "2022-05-05T06:25:32.448Z"
   },
   {
    "duration": 9,
    "start_time": "2022-05-05T06:25:32.464Z"
   },
   {
    "duration": 26,
    "start_time": "2022-05-05T06:25:32.475Z"
   },
   {
    "duration": 11,
    "start_time": "2022-05-05T06:25:32.503Z"
   },
   {
    "duration": 20,
    "start_time": "2022-05-05T06:25:32.516Z"
   },
   {
    "duration": 7,
    "start_time": "2022-05-05T06:25:32.538Z"
   },
   {
    "duration": 7,
    "start_time": "2022-05-05T06:25:32.547Z"
   },
   {
    "duration": 11,
    "start_time": "2022-05-05T06:25:32.556Z"
   },
   {
    "duration": 21,
    "start_time": "2022-05-05T06:25:32.570Z"
   },
   {
    "duration": 332,
    "start_time": "2022-05-05T06:25:32.593Z"
   },
   {
    "duration": 249,
    "start_time": "2022-05-05T06:25:32.927Z"
   },
   {
    "duration": 235,
    "start_time": "2022-05-05T06:25:33.177Z"
   },
   {
    "duration": 332,
    "start_time": "2022-05-05T06:25:33.414Z"
   },
   {
    "duration": 247,
    "start_time": "2022-05-05T06:25:33.748Z"
   },
   {
    "duration": 475,
    "start_time": "2022-05-05T06:25:33.997Z"
   },
   {
    "duration": 9,
    "start_time": "2022-05-05T06:25:34.474Z"
   },
   {
    "duration": 194,
    "start_time": "2022-05-05T06:25:34.488Z"
   },
   {
    "duration": 6,
    "start_time": "2022-05-05T06:25:34.684Z"
   },
   {
    "duration": 196,
    "start_time": "2022-05-05T06:25:34.692Z"
   },
   {
    "duration": 5,
    "start_time": "2022-05-05T06:25:34.891Z"
   },
   {
    "duration": 131,
    "start_time": "2022-05-05T06:25:34.897Z"
   },
   {
    "duration": 130,
    "start_time": "2022-05-05T06:25:35.033Z"
   },
   {
    "duration": 23,
    "start_time": "2022-05-05T06:25:35.164Z"
   },
   {
    "duration": 161,
    "start_time": "2022-05-05T06:25:35.189Z"
   },
   {
    "duration": 6,
    "start_time": "2022-05-05T06:25:35.352Z"
   },
   {
    "duration": 27,
    "start_time": "2022-05-05T06:25:35.360Z"
   },
   {
    "duration": 10,
    "start_time": "2022-05-05T06:25:35.389Z"
   },
   {
    "duration": 6,
    "start_time": "2022-05-05T06:25:35.401Z"
   },
   {
    "duration": 14,
    "start_time": "2022-05-05T06:25:35.434Z"
   },
   {
    "duration": 8,
    "start_time": "2022-05-05T06:25:35.450Z"
   },
   {
    "duration": 26,
    "start_time": "2022-05-05T06:25:35.460Z"
   },
   {
    "duration": 14,
    "start_time": "2022-05-05T06:25:35.488Z"
   },
   {
    "duration": 1264,
    "start_time": "2022-08-04T21:54:47.022Z"
   },
   {
    "duration": 248,
    "start_time": "2022-08-04T21:54:48.288Z"
   },
   {
    "duration": 11,
    "start_time": "2022-08-04T21:54:48.538Z"
   },
   {
    "duration": 3,
    "start_time": "2022-08-04T21:54:52.941Z"
   },
   {
    "duration": 8,
    "start_time": "2022-08-04T21:54:55.219Z"
   },
   {
    "duration": 3,
    "start_time": "2022-08-04T21:56:44.244Z"
   },
   {
    "duration": 7,
    "start_time": "2022-08-04T21:56:45.770Z"
   },
   {
    "duration": 11,
    "start_time": "2022-08-04T21:56:48.345Z"
   },
   {
    "duration": 6,
    "start_time": "2022-08-04T21:56:50.057Z"
   },
   {
    "duration": 8,
    "start_time": "2022-08-04T21:56:53.987Z"
   },
   {
    "duration": 8,
    "start_time": "2022-08-04T21:56:55.344Z"
   },
   {
    "duration": 10,
    "start_time": "2022-08-04T21:56:55.848Z"
   },
   {
    "duration": 4,
    "start_time": "2022-08-04T21:56:58.669Z"
   },
   {
    "duration": 8,
    "start_time": "2022-08-04T21:57:00.281Z"
   },
   {
    "duration": 8,
    "start_time": "2022-08-04T21:57:02.593Z"
   },
   {
    "duration": 11,
    "start_time": "2022-08-04T21:57:34.491Z"
   },
   {
    "duration": 7,
    "start_time": "2022-08-04T21:57:38.554Z"
   },
   {
    "duration": 7,
    "start_time": "2022-08-04T21:57:45.474Z"
   },
   {
    "duration": 5,
    "start_time": "2022-08-04T21:57:50.040Z"
   },
   {
    "duration": 10,
    "start_time": "2022-08-04T21:57:50.427Z"
   },
   {
    "duration": 4,
    "start_time": "2022-08-04T21:57:52.840Z"
   },
   {
    "duration": 10,
    "start_time": "2022-08-04T21:57:53.629Z"
   },
   {
    "duration": 3,
    "start_time": "2022-08-04T21:58:21.433Z"
   },
   {
    "duration": 91,
    "start_time": "2022-08-04T21:58:21.440Z"
   },
   {
    "duration": 7,
    "start_time": "2022-08-04T21:58:21.533Z"
   },
   {
    "duration": 6,
    "start_time": "2022-08-04T21:58:21.542Z"
   },
   {
    "duration": 11,
    "start_time": "2022-08-04T21:58:21.550Z"
   },
   {
    "duration": 14,
    "start_time": "2022-08-04T21:58:21.563Z"
   },
   {
    "duration": 7,
    "start_time": "2022-08-04T21:58:21.579Z"
   },
   {
    "duration": 15,
    "start_time": "2022-08-04T21:58:21.587Z"
   },
   {
    "duration": 9,
    "start_time": "2022-08-04T21:58:21.603Z"
   },
   {
    "duration": 24,
    "start_time": "2022-08-04T21:58:21.614Z"
   },
   {
    "duration": 3,
    "start_time": "2022-08-04T21:58:21.641Z"
   },
   {
    "duration": 8,
    "start_time": "2022-08-04T21:58:21.645Z"
   },
   {
    "duration": 8,
    "start_time": "2022-08-04T21:58:21.654Z"
   },
   {
    "duration": 6,
    "start_time": "2022-08-04T21:58:21.663Z"
   },
   {
    "duration": 14,
    "start_time": "2022-08-04T21:58:21.670Z"
   },
   {
    "duration": 6,
    "start_time": "2022-08-04T21:58:21.685Z"
   },
   {
    "duration": 12,
    "start_time": "2022-08-04T21:58:21.693Z"
   },
   {
    "duration": 32,
    "start_time": "2022-08-04T21:58:21.706Z"
   },
   {
    "duration": 4,
    "start_time": "2022-08-04T21:58:21.740Z"
   },
   {
    "duration": 10,
    "start_time": "2022-08-04T21:58:21.745Z"
   },
   {
    "duration": 13,
    "start_time": "2022-08-04T21:58:21.757Z"
   },
   {
    "duration": 287,
    "start_time": "2022-08-04T21:58:21.771Z"
   },
   {
    "duration": 277,
    "start_time": "2022-08-04T21:58:22.059Z"
   },
   {
    "duration": 203,
    "start_time": "2022-08-04T21:58:22.339Z"
   },
   {
    "duration": 320,
    "start_time": "2022-08-04T21:58:22.543Z"
   },
   {
    "duration": 205,
    "start_time": "2022-08-04T21:58:22.864Z"
   },
   {
    "duration": 287,
    "start_time": "2022-08-04T21:58:23.071Z"
   },
   {
    "duration": 9,
    "start_time": "2022-08-04T21:58:23.359Z"
   },
   {
    "duration": 161,
    "start_time": "2022-08-04T21:58:23.371Z"
   },
   {
    "duration": 7,
    "start_time": "2022-08-04T21:58:23.533Z"
   },
   {
    "duration": 149,
    "start_time": "2022-08-04T21:58:23.542Z"
   },
   {
    "duration": 4,
    "start_time": "2022-08-04T21:58:23.693Z"
   },
   {
    "duration": 100,
    "start_time": "2022-08-04T21:58:23.699Z"
   },
   {
    "duration": 117,
    "start_time": "2022-08-04T21:58:23.801Z"
   },
   {
    "duration": 24,
    "start_time": "2022-08-04T21:58:23.920Z"
   },
   {
    "duration": 128,
    "start_time": "2022-08-04T21:58:23.946Z"
   },
   {
    "duration": 6,
    "start_time": "2022-08-04T21:58:24.076Z"
   },
   {
    "duration": 28,
    "start_time": "2022-08-04T21:58:24.084Z"
   },
   {
    "duration": 10,
    "start_time": "2022-08-04T21:58:24.113Z"
   },
   {
    "duration": 5,
    "start_time": "2022-08-04T21:58:24.138Z"
   },
   {
    "duration": 14,
    "start_time": "2022-08-04T21:58:24.144Z"
   },
   {
    "duration": 8,
    "start_time": "2022-08-04T21:58:24.159Z"
   },
   {
    "duration": 28,
    "start_time": "2022-08-04T21:58:24.168Z"
   },
   {
    "duration": 13,
    "start_time": "2022-08-04T21:58:24.197Z"
   },
   {
    "duration": 262,
    "start_time": "2022-08-04T22:04:06.484Z"
   },
   {
    "duration": 255,
    "start_time": "2022-08-04T22:04:09.423Z"
   },
   {
    "duration": 320,
    "start_time": "2022-08-04T22:05:13.033Z"
   },
   {
    "duration": 54,
    "start_time": "2022-08-04T22:05:52.481Z"
   },
   {
    "duration": 54,
    "start_time": "2022-08-04T22:06:21.521Z"
   },
   {
    "duration": 265,
    "start_time": "2022-08-04T22:06:30.121Z"
   },
   {
    "duration": 262,
    "start_time": "2022-08-04T22:07:10.833Z"
   },
   {
    "duration": 261,
    "start_time": "2022-08-04T22:09:50.968Z"
   },
   {
    "duration": 270,
    "start_time": "2022-08-04T22:10:04.640Z"
   },
   {
    "duration": 49,
    "start_time": "2022-08-04T22:10:43.849Z"
   },
   {
    "duration": 58,
    "start_time": "2022-08-04T22:10:48.082Z"
   },
   {
    "duration": 50,
    "start_time": "2022-08-04T22:11:08.355Z"
   },
   {
    "duration": 50,
    "start_time": "2022-08-04T22:11:23.017Z"
   },
   {
    "duration": 50,
    "start_time": "2022-08-04T22:11:29.565Z"
   },
   {
    "duration": 279,
    "start_time": "2022-08-04T22:11:37.930Z"
   },
   {
    "duration": 265,
    "start_time": "2022-08-04T22:12:11.754Z"
   },
   {
    "duration": 255,
    "start_time": "2022-08-04T22:12:47.544Z"
   },
   {
    "duration": 255,
    "start_time": "2022-08-04T22:12:53.012Z"
   },
   {
    "duration": 263,
    "start_time": "2022-08-04T22:13:11.741Z"
   },
   {
    "duration": 59,
    "start_time": "2022-08-04T22:21:53.968Z"
   },
   {
    "duration": 259,
    "start_time": "2022-08-04T22:22:03.080Z"
   },
   {
    "duration": 291,
    "start_time": "2022-08-04T22:22:23.703Z"
   },
   {
    "duration": 318,
    "start_time": "2022-08-04T22:23:00.931Z"
   },
   {
    "duration": 2,
    "start_time": "2022-08-04T22:28:42.877Z"
   },
   {
    "duration": 100,
    "start_time": "2022-08-04T22:28:42.883Z"
   },
   {
    "duration": 7,
    "start_time": "2022-08-04T22:28:42.985Z"
   },
   {
    "duration": 5,
    "start_time": "2022-08-04T22:28:42.994Z"
   },
   {
    "duration": 10,
    "start_time": "2022-08-04T22:28:43.002Z"
   },
   {
    "duration": 13,
    "start_time": "2022-08-04T22:28:43.014Z"
   },
   {
    "duration": 7,
    "start_time": "2022-08-04T22:28:43.029Z"
   },
   {
    "duration": 23,
    "start_time": "2022-08-04T22:28:43.038Z"
   },
   {
    "duration": 8,
    "start_time": "2022-08-04T22:28:43.063Z"
   },
   {
    "duration": 10,
    "start_time": "2022-08-04T22:28:43.073Z"
   },
   {
    "duration": 4,
    "start_time": "2022-08-04T22:28:43.410Z"
   },
   {
    "duration": 10,
    "start_time": "2022-08-04T22:28:43.415Z"
   },
   {
    "duration": 21,
    "start_time": "2022-08-04T22:28:43.426Z"
   },
   {
    "duration": 7,
    "start_time": "2022-08-04T22:28:43.450Z"
   },
   {
    "duration": 11,
    "start_time": "2022-08-04T22:28:43.458Z"
   },
   {
    "duration": 6,
    "start_time": "2022-08-04T22:28:43.470Z"
   },
   {
    "duration": 14,
    "start_time": "2022-08-04T22:28:43.477Z"
   },
   {
    "duration": 7,
    "start_time": "2022-08-04T22:28:43.492Z"
   },
   {
    "duration": 9,
    "start_time": "2022-08-04T22:28:43.500Z"
   },
   {
    "duration": 11,
    "start_time": "2022-08-04T22:28:43.511Z"
   },
   {
    "duration": 30,
    "start_time": "2022-08-04T22:28:43.523Z"
   },
   {
    "duration": 298,
    "start_time": "2022-08-04T22:28:43.555Z"
   },
   {
    "duration": 197,
    "start_time": "2022-08-04T22:28:43.855Z"
   },
   {
    "duration": 324,
    "start_time": "2022-08-04T22:28:44.054Z"
   },
   {
    "duration": 259,
    "start_time": "2022-08-04T22:28:44.379Z"
   },
   {
    "duration": 192,
    "start_time": "2022-08-04T22:28:44.643Z"
   },
   {
    "duration": 312,
    "start_time": "2022-08-04T22:28:44.837Z"
   },
   {
    "duration": 10,
    "start_time": "2022-08-04T22:28:45.151Z"
   },
   {
    "duration": 150,
    "start_time": "2022-08-04T22:28:45.164Z"
   },
   {
    "duration": 4,
    "start_time": "2022-08-04T22:28:45.316Z"
   },
   {
    "duration": 151,
    "start_time": "2022-08-04T22:28:45.321Z"
   },
   {
    "duration": 4,
    "start_time": "2022-08-04T22:28:45.474Z"
   },
   {
    "duration": 111,
    "start_time": "2022-08-04T22:28:45.479Z"
   },
   {
    "duration": 108,
    "start_time": "2022-08-04T22:28:45.592Z"
   },
   {
    "duration": 23,
    "start_time": "2022-08-04T22:28:45.701Z"
   },
   {
    "duration": 129,
    "start_time": "2022-08-04T22:28:45.726Z"
   },
   {
    "duration": 6,
    "start_time": "2022-08-04T22:28:45.857Z"
   },
   {
    "duration": 25,
    "start_time": "2022-08-04T22:28:45.864Z"
   },
   {
    "duration": 10,
    "start_time": "2022-08-04T22:28:45.890Z"
   },
   {
    "duration": 5,
    "start_time": "2022-08-04T22:28:45.902Z"
   },
   {
    "duration": 38,
    "start_time": "2022-08-04T22:28:45.908Z"
   },
   {
    "duration": 10,
    "start_time": "2022-08-04T22:28:45.947Z"
   },
   {
    "duration": 26,
    "start_time": "2022-08-04T22:28:45.958Z"
   },
   {
    "duration": 13,
    "start_time": "2022-08-04T22:28:45.985Z"
   }
  ],
  "kernelspec": {
   "display_name": "Python 3 (ipykernel)",
   "language": "python",
   "name": "python3"
  },
  "language_info": {
   "codemirror_mode": {
    "name": "ipython",
    "version": 3
   },
   "file_extension": ".py",
   "mimetype": "text/x-python",
   "name": "python",
   "nbconvert_exporter": "python",
   "pygments_lexer": "ipython3",
   "version": "3.9.5"
  },
  "toc": {
   "base_numbering": 1,
   "nav_menu": {},
   "number_sections": true,
   "sideBar": true,
   "skip_h1_title": true,
   "title_cell": "Оглавление",
   "title_sidebar": "Contents",
   "toc_cell": true,
   "toc_position": {
    "height": "calc(100% - 180px)",
    "left": "10px",
    "top": "150px",
    "width": "342.5px"
   },
   "toc_section_display": true,
   "toc_window_display": true
  }
 },
 "nbformat": 4,
 "nbformat_minor": 5
}
